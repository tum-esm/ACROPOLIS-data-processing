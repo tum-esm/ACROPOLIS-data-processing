{
 "cells": [
  {
   "cell_type": "code",
   "execution_count": 3,
   "metadata": {},
   "outputs": [],
   "source": [
    "from datetime import datetime\n",
    "from datetime import timezone\n",
    "import pandas as pd\n",
    "import polars as pl\n",
    "import glob"
   ]
  },
  {
   "cell_type": "code",
   "execution_count": 13,
   "metadata": {},
   "outputs": [],
   "source": [
    "# example file path: /Users/patrickaigner/Documents/PROJECTS/ACROPOLIS/Database/PICARRO/07/01/CFADS2343-20230701-000011Z-DataLog_User.dat\n",
    "picarro_path = r\"/Users/patrickaigner/Documents/PROJECTS/ACROPOLIS/Database/PICARRO\"\n",
    "filenames = glob.glob(picarro_path + \"/*/*/*.dat\")\n",
    "\n",
    "df_list = []\n",
    "for filename in filenames:\n",
    "    df_list.append(pd.read_csv(filename,sep='\\s+'))\n",
    "\n",
    "big_frame = pd.concat(df_list, ignore_index=True)\n",
    "big_frame[\"datetime\"] = pd.to_datetime((big_frame['DATE'] + ' ' + big_frame['TIME']))\n",
    "big_frame.sort_values(by='datetime', inplace = True)\n",
    "\n",
    "big_frame.info()"
   ]
  },
  {
   "cell_type": "code",
   "execution_count": 20,
   "metadata": {},
   "outputs": [],
   "source": [
    "big_frame.to_parquet(path = f\"{picarro_path}/picarro.parquet\")"
   ]
  }
 ],
 "metadata": {
  "kernelspec": {
   "display_name": ".venv",
   "language": "python",
   "name": "python3"
  },
  "language_info": {
   "codemirror_mode": {
    "name": "ipython",
    "version": 3
   },
   "file_extension": ".py",
   "mimetype": "text/x-python",
   "name": "python",
   "nbconvert_exporter": "python",
   "pygments_lexer": "ipython3",
   "version": "3.11.4"
  },
  "orig_nbformat": 4
 },
 "nbformat": 4,
 "nbformat_minor": 2
}
