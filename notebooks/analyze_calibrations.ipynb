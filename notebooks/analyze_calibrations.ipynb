{
 "cells": [
  {
   "cell_type": "code",
   "execution_count": null,
   "metadata": {},
   "outputs": [],
   "source": [
    "import os\n",
    "import glob\n",
    "from datetime import datetime\n",
    "from datetime import timezone\n",
    "import polars as pl\n",
    "import polars.selectors as cs\n",
    "import plotly.express as px\n",
    "from plotly.subplots import make_subplots\n",
    "import plotly.graph_objects as go\n",
    "from utils.plot_data import plot_sensor_measurement\n",
    "from lmu_meteo_api import interface\n",
    "\n",
    "DATA_DIRECTORY = os.environ.get(\"DATA_DIRECTORY\")\n",
    "PICARRO_DATA_DIRECTORy = os.environ.get(\"PICARRO_DATA_DIRECTORY\")"
   ]
  },
  {
   "cell_type": "code",
   "execution_count": null,
   "metadata": {},
   "outputs": [],
   "source": [
    "# raw measurement data\n",
    "df_raw = pl.scan_parquet(os.path.join(DATA_DIRECTORY, \"download\", \"acropolis.parquet\"))\n",
    "\n",
    "# water corrected measurement data\n",
    "df_dry = pl.scan_parquet(os.path.join(DATA_DIRECTORY, \"processed\", \"acropolis_dry.parquet\"))\n",
    "\n",
    "# slope and intercept data derived from calibrations\n",
    "df_cal = pl.scan_parquet(os.path.join(DATA_DIRECTORY, \"processed\", \"slope_intercept_acropolis.parquet\")) \\\n",
    "    .with_columns((pl.col(\"creation_timestamp\").dt.timestamp(\"ms\") / 3.6e6).alias(\"timestamp\")) #3.6e6 ms are in 1h\n",
    "    \n",
    "# 10m preprocessed picarro data\n",
    "df_p_10m = pl.read_parquet(os.path.join(DATA_DIRECTORY,\"processed\", \"10m_cal_corr_picarro.parquet\"))\n",
    "\n",
    "calibration_accuracy_masks = []"
   ]
  },
  {
   "cell_type": "code",
   "execution_count": null,
   "metadata": {},
   "outputs": [],
   "source": [
    "def analyse_system(id, start_date, end_date):\n",
    "    \n",
    "    df_cal_temp = df_cal.filter(pl.col(\"creation_timestamp\").is_between(start_date, end_date)) \\\n",
    "        .filter(pl.col(\"system_name\") == f\"tum-esm-midcost-raspi-{id}\") \\\n",
    "        .collect()\n",
    "\n",
    "    # calculate calibration corrected dataset\n",
    "    df_cal_corr = df_dry.filter(pl.col(\"gmp343_dry\") > 0) \\\n",
    "        .filter(pl.col(\"creation_timestamp\").is_between(start_date, end_date))  \\\n",
    "        .with_columns(pl.col(\"creation_timestamp\").dt.date().alias(\"date\")) \\\n",
    "        .collect() \\\n",
    "        .join(df_cal_temp, on = [\"date\",\"system_name\"], how= \"left\") \\\n",
    "        .filter(pl.col(\"system_name\") == f\"tum-esm-midcost-raspi-{id}\") \\\n",
    "        .fill_null(strategy = \"forward\") \\\n",
    "        .fill_null(strategy = \"backward\") \\\n",
    "        .with_columns(((pl.col(\"gmp343_dry\")) * pl.col(\"slope\") + pl.col(\"intercept\")) \\\n",
    "        .alias(\"CO2_corr\")) \\\n",
    "        .sort(\"creation_timestamp\") \\\n",
    "        .groupby_dynamic(\"creation_timestamp\", every='10m')  \\\n",
    "        .agg([\n",
    "            pl.all().exclude([\"creation_timestamp\",\"system_name\"]).mean(),\n",
    "            pl.col(\"system_name\")\n",
    "            ]) \\\n",
    "        .with_columns(pl.col(\"system_name\").list.last()) \\\n",
    "\n",
    "        \n",
    "    # calculate the difference to the picarro\n",
    "    df_cal_corr = df_cal_corr.join(df_p_10m.select(\"creation_timestamp\", \"CO2_corr\") \\\n",
    "        .rename({\"CO2_corr\": \"temp\"}), on=\"creation_timestamp\", how= \"left\") \\\n",
    "        .with_columns((pl.col(\"CO2_corr\") - pl.col(\"temp\")).alias(\"diff\")) \\\n",
    "        .drop(\"temp\")\n",
    "                \n",
    "    # quantify the performance based on the calibration      \n",
    "    df_cal_corr = df_cal_corr.groupby_dynamic(\"creation_timestamp\", every='1d')  \\\n",
    "        .agg([\n",
    "            pl.all().exclude([\"creation_timestamp\",\"system_name\"]).mean()\n",
    "            ]) \\\n",
    "    .with_columns(((pl.col(\"diff\") < 1.3) & (pl.col(\"diff\") > -1.3)).alias(\"calibration_accuracy\"))\n",
    "\n",
    "    # plot results from before\n",
    "    fig = px.scatter(df_cal_corr, x=\"creation_timestamp\", y=\"diff\", title = \"Difference System - Picarro\", color=\"calibration_accuracy\")\n",
    "    fig.show()\n",
    "    \n",
    "    #--------------\n",
    "\n",
    "    # extraxt for date and calibration accuracy information\n",
    "    df_cal_acc = df_cal_corr.with_columns(pl.col(\"creation_timestamp\").dt.date().alias(\"date\")) \\\n",
    "        .select(\"date\",\"calibration_accuracy\", \"diff\")\n",
    "\n",
    "    # join calibration accuracy into df_cal matched on date\n",
    "    df_cal_temp = df_cal_temp.join(df_cal_acc, on = [\"date\"], how= \"left\")\n",
    "\n",
    "    fig = px.scatter(df_cal_temp, x=\"creation_timestamp\", y=\"slope\", title = \"Slope\", color=\"calibration_accuracy\")\n",
    "    fig.show()\n",
    "\n",
    "    fig = px.scatter(df_cal_temp, x=\"creation_timestamp\", y=\"intercept\", title = \"Intercept\", color=\"calibration_accuracy\")\n",
    "    fig.show()\n",
    "    \n",
    "    #--------------\n",
    "\n",
    "    # selected calibration periods from raw auxialliary measurement data\n",
    "    df_raw_temp = df_raw.select(cs.starts_with(\"cal_\"), \"creation_timestamp\", \"system_name\")  \\\n",
    "        .filter(pl.col(\"creation_timestamp\").is_between(start_date, end_date))  \\\n",
    "        .filter(pl.col(\"cal_bottle_id\") > 0) \\\n",
    "        .collect() \\\n",
    "        .filter(pl.col(\"creation_timestamp\").is_between(start_date, end_date)) \\\n",
    "        .filter(pl.col(\"system_name\") == f\"tum-esm-midcost-raspi-{id}\") \\\n",
    "        .sort(\"creation_timestamp\")  \\\n",
    "        .with_columns(pl.col(\"creation_timestamp\").dt.date().alias(\"date\"))  \\\n",
    "\n",
    "\n",
    "    # select the first timestamp of each calibration procedure\n",
    "    df_calibration_start = df_raw_temp.select(\"creation_timestamp\", \"date\") \\\n",
    "        .sort(pl.col(\"creation_timestamp\")) \\\n",
    "        .groupby(\"date\").first()\n",
    "\n",
    "    # normalize all calibrations to start at same time\n",
    "    df_raw_temp = df_raw_temp.join(df_calibration_start, on = [\"date\"], how= \"left\") \\\n",
    "        .with_columns((pl.col(\"creation_timestamp\") - pl.col(\"creation_timestamp_right\")).alias(\"time_since_calibration_start\")) \\\n",
    "        .with_columns((datetime(1970, 1, 1, 0, 0, 0) + pl.col(\"time_since_calibration_start\")).alias(\"normalised_time\"))\n",
    "\n",
    "    # join calibration accuracy into df_raw_temp matched on date\n",
    "    df_raw_temp = df_raw_temp.join(df_cal_acc, on = [\"date\"], how= \"left\")  \\\n",
    "\n",
    "    fig = px.scatter(df_raw_temp, x=\"normalised_time\", y=\"cal_sht45_humidity\", title = \"SHT45 Calibration Humidity\", color=\"calibration_accuracy\")\n",
    "    fig.show()\n",
    "\n",
    "    fig = px.scatter(df_raw_temp, x=\"normalised_time\", y=\"cal_bme280_pressure\", title = \"BME280 Calibration Pressure\", color=\"calibration_accuracy\")\n",
    "    fig.show()\n",
    "\n",
    "    fig = px.scatter(df_raw_temp, x=\"normalised_time\", y=\"cal_gmp343_temperature\", title = \"GMP343 Calibration Temperature\", color=\"calibration_accuracy\")\n",
    "    fig.show()\n",
    "\n",
    "    fig = px.scatter(df_raw_temp, x=\"normalised_time\", y=\"cal_gmp343_filtered\", title = \"GMP343 Filtered Measurement Output\", color=\"calibration_accuracy\")\n",
    "    fig.show()\n",
    "    \n",
    "    fig = px.scatter(df_raw_temp, x=\"normalised_time\", y=\"cal_sht45_temperature\", title = \"GMP343 Filtered Measurement Output\", color=\"calibration_accuracy\")\n",
    "    fig.show()\n",
    "    \n",
    "    return df_cal_temp.select(\"date\", \"system_name\", \"calibration_accuracy\", \"diff\")"
   ]
  },
  {
   "cell_type": "markdown",
   "metadata": {},
   "source": [
    "## System 1"
   ]
  },
  {
   "cell_type": "code",
   "execution_count": null,
   "metadata": {},
   "outputs": [],
   "source": [
    "start_date = datetime(2024, 2, 7, 0, 0, 0).replace(tzinfo=timezone.utc)\n",
    "end_date = datetime(2024, 2, 10, 23, 59, 59).replace(tzinfo=timezone.utc)\n",
    "\n",
    "df = analyse_system(1, start_date, end_date)\n",
    "calibration_accuracy_masks.append(df)"
   ]
  },
  {
   "cell_type": "markdown",
   "metadata": {},
   "source": [
    "## System 3"
   ]
  },
  {
   "cell_type": "code",
   "execution_count": null,
   "metadata": {},
   "outputs": [],
   "source": [
    "start_date = datetime(2024, 1, 12, 0, 0, 0).replace(tzinfo=timezone.utc)\n",
    "end_date = datetime(2024, 2, 11, 23, 59, 59).replace(tzinfo=timezone.utc)\n",
    "\n",
    "df = analyse_system(3, start_date, end_date)\n",
    "calibration_accuracy_masks.append(df)"
   ]
  },
  {
   "cell_type": "markdown",
   "metadata": {},
   "source": [
    "## System 4"
   ]
  },
  {
   "cell_type": "code",
   "execution_count": null,
   "metadata": {},
   "outputs": [],
   "source": [
    "start_date = datetime(2024, 2, 12, 0, 0, 0).replace(tzinfo=timezone.utc)\n",
    "end_date = datetime(2024, 2, 9, 23, 59, 59).replace(tzinfo=timezone.utc)\n",
    "\n",
    "df = analyse_system(4, start_date, end_date)\n",
    "calibration_accuracy_masks.append(df)"
   ]
  },
  {
   "cell_type": "markdown",
   "metadata": {},
   "source": [
    "## System 5"
   ]
  },
  {
   "cell_type": "code",
   "execution_count": null,
   "metadata": {},
   "outputs": [],
   "source": [
    "start_date = datetime(2024, 2, 6, 0, 0, 0).replace(tzinfo=timezone.utc)\n",
    "end_date = datetime(2024, 2, 11, 23, 59, 59).replace(tzinfo=timezone.utc)\n",
    "\n",
    "df = analyse_system(5, start_date, end_date)\n",
    "calibration_accuracy_masks.append(df)"
   ]
  },
  {
   "cell_type": "markdown",
   "metadata": {},
   "source": [
    "## System 6"
   ]
  },
  {
   "cell_type": "code",
   "execution_count": null,
   "metadata": {},
   "outputs": [],
   "source": [
    "start_date = datetime(2024, 1, 12, 0, 0, 0).replace(tzinfo=timezone.utc)\n",
    "end_date = datetime(2024, 2, 11, 23, 59, 59).replace(tzinfo=timezone.utc)\n",
    "\n",
    "df = analyse_system(6,start_date, end_date)\n",
    "#calibration_accuracy_masks.append(df)"
   ]
  },
  {
   "cell_type": "markdown",
   "metadata": {},
   "source": [
    "## System 8"
   ]
  },
  {
   "cell_type": "code",
   "execution_count": null,
   "metadata": {},
   "outputs": [],
   "source": [
    "start_date = datetime(2024, 2, 13, 0, 0, 0).replace(tzinfo=timezone.utc)\n",
    "end_date = datetime(2024, 2, 9, 23, 59, 59).replace(tzinfo=timezone.utc)\n",
    "\n",
    "df = analyse_system(8, start_date, end_date)\n",
    "calibration_accuracy_masks.append(df)"
   ]
  },
  {
   "cell_type": "markdown",
   "metadata": {},
   "source": [
    "## System 9"
   ]
  },
  {
   "cell_type": "code",
   "execution_count": null,
   "metadata": {},
   "outputs": [],
   "source": [
    "start_date = datetime(2024, 2, 12, 0, 0, 0).replace(tzinfo=timezone.utc)\n",
    "end_date = datetime(2024, 2, 12, 23, 59, 59).replace(tzinfo=timezone.utc)\n",
    "\n",
    "df = analyse_system(9, start_date, end_date)\n",
    "calibration_accuracy_masks.append(df)"
   ]
  },
  {
   "cell_type": "markdown",
   "metadata": {},
   "source": [
    "## System 10"
   ]
  },
  {
   "cell_type": "code",
   "execution_count": null,
   "metadata": {},
   "outputs": [],
   "source": [
    "start_date = datetime(2024, 1, 12, 0, 0, 0).replace(tzinfo=timezone.utc)\n",
    "end_date = datetime(2024, 2, 11, 23, 59, 59).replace(tzinfo=timezone.utc)\n",
    "\n",
    "df = analyse_system(10, start_date, end_date)\n",
    "calibration_accuracy_masks.append(df)"
   ]
  },
  {
   "cell_type": "markdown",
   "metadata": {},
   "source": [
    "## System 11"
   ]
  },
  {
   "cell_type": "code",
   "execution_count": null,
   "metadata": {},
   "outputs": [],
   "source": [
    "start_date = datetime(2023, 12, 23, 0, 0, 0).replace(tzinfo=timezone.utc)\n",
    "end_date = datetime(2024, 2, 11, 23, 59, 59).replace(tzinfo=timezone.utc)\n",
    "\n",
    "df = analyse_system(11, start_date, end_date)\n",
    "calibration_accuracy_masks.append(df)"
   ]
  },
  {
   "cell_type": "markdown",
   "metadata": {},
   "source": [
    "# System 12"
   ]
  },
  {
   "cell_type": "code",
   "execution_count": null,
   "metadata": {},
   "outputs": [],
   "source": [
    "id = 12\n",
    "\n",
    "start_date = datetime(2023, 12, 23, 0, 0, 0).replace(tzinfo=timezone.utc)\n",
    "end_date = datetime(2024, 2, 11, 23, 59, 59).replace(tzinfo=timezone.utc)\n",
    "\n",
    "df = analyse_system(12, start_date, end_date)\n",
    "calibration_accuracy_masks.append(df)"
   ]
  },
  {
   "cell_type": "markdown",
   "metadata": {},
   "source": [
    "## System 13"
   ]
  },
  {
   "cell_type": "code",
   "execution_count": null,
   "metadata": {},
   "outputs": [],
   "source": [
    "start_date = datetime(2024, 1, 12, 0, 0, 0).replace(tzinfo=timezone.utc)\n",
    "end_date = datetime(2024, 2, 5, 23, 59, 59).replace(tzinfo=timezone.utc)\n",
    "\n",
    "df = analyse_system(13, start_date, end_date)\n",
    "calibration_accuracy_masks.append(df)"
   ]
  },
  {
   "cell_type": "markdown",
   "metadata": {},
   "source": [
    "## System 16"
   ]
  },
  {
   "cell_type": "code",
   "execution_count": null,
   "metadata": {},
   "outputs": [],
   "source": [
    "start_date = datetime(2023, 12, 23, 0, 0, 0).replace(tzinfo=timezone.utc)\n",
    "end_date = datetime(2024, 2, 5, 23, 59, 59).replace(tzinfo=timezone.utc)\n",
    "\n",
    "df = analyse_system(16, start_date, end_date)\n",
    "calibration_accuracy_masks.append(df)"
   ]
  },
  {
   "cell_type": "markdown",
   "metadata": {},
   "source": [
    "## System 18"
   ]
  },
  {
   "cell_type": "code",
   "execution_count": null,
   "metadata": {},
   "outputs": [],
   "source": [
    "id = 18\n",
    "\n",
    "start_date = datetime(2023, 12, 23, 0, 0, 0).replace(tzinfo=timezone.utc)\n",
    "end_date = datetime(2024, 2, 5, 23, 59, 59).replace(tzinfo=timezone.utc)\n",
    "\n",
    "df = analyse_system(18, start_date, end_date)\n",
    "calibration_accuracy_masks.append(df)"
   ]
  },
  {
   "cell_type": "markdown",
   "metadata": {},
   "source": [
    "## System 20"
   ]
  },
  {
   "cell_type": "code",
   "execution_count": null,
   "metadata": {},
   "outputs": [],
   "source": [
    "start_date = datetime(2023, 12, 23, 0, 0, 0).replace(tzinfo=timezone.utc)\n",
    "end_date = datetime(2024, 2, 11, 23, 59, 59).replace(tzinfo=timezone.utc)\n",
    "\n",
    "df = analyse_system(20, start_date, end_date)\n",
    "calibration_accuracy_masks.append(df)"
   ]
  },
  {
   "cell_type": "markdown",
   "metadata": {},
   "source": [
    "# Cluster Analysis"
   ]
  },
  {
   "cell_type": "code",
   "execution_count": null,
   "metadata": {},
   "outputs": [],
   "source": [
    "def get_lmu_data(start_time=\"2024-01-01T00-00-00\", end_time= \"2024-01-02T00-00-00\", station_id = 'MIM01'):\n",
    "\n",
    "    parameters = [\n",
    "        \"air_temperature_2m\",\n",
    "        \"air_temperature_30m\",\n",
    "        \"relative_humidity_2m\",\n",
    "        \"relative_humidity_30m\",\n",
    "        'wind_speed_30m', \n",
    "        'wind_from_direction_30m',\n",
    "        \"air_pressure\"]\n",
    "\n",
    "    # download from the API\n",
    "    lmu_api = interface.meteo_data()\n",
    "    data = lmu_api.get_meteo_data(parameters=parameters, \n",
    "                                station_id= station_id, \n",
    "                                start_time=start_time, \n",
    "                                end_time=end_time)\n",
    "    \n",
    "    df_lmu = pl.from_pandas(data, include_index = True) \\\n",
    "    .rename({\"time\": \"creation_timestamp\"}) \\\n",
    "    .with_columns(pl.col(\"creation_timestamp\").dt.cast_time_unit(\"us\").dt.replace_time_zone(\"UTC\")) \\\n",
    "    .with_columns(pl.col(\"air_temperature_30m\") -273.15) \\\n",
    "    .with_columns(pl.col(\"air_temperature_2m\") -273.15)  \\\n",
    "    .with_columns(pl.col(\"air_pressure\") / 100)  \\\n",
    "    .rename({\"air_temperature_30m\": \"temperature\", \"relative_humidity_30m\": \"humidity\", \"air_pressure\": \"pressure\"}) \\\n",
    "    .with_columns(\n",
    "            pl.lit(f\"lmu meteo\").alias(\"system_name\")\n",
    "        )\n",
    "        \n",
    "    return df_lmu"
   ]
  },
  {
   "cell_type": "code",
   "execution_count": null,
   "metadata": {},
   "outputs": [],
   "source": [
    "def plot_diff_all_systems(start_date, end_date, system_ids, df_lmu):\n",
    "\n",
    "    df_plots = []\n",
    "\n",
    "    for id in system_ids:\n",
    "        df_cal_temp = df_cal.filter(pl.col(\"creation_timestamp\").is_between(start_date, end_date)) \\\n",
    "                .filter(pl.col(\"system_name\") == f\"tum-esm-midcost-raspi-{id}\") \\\n",
    "                .collect()\n",
    "\n",
    "        # calculate calibration corrected dataset\n",
    "        df_cal_corr = df_dry.filter(pl.col(\"gmp343_dry\") > 0) \\\n",
    "            .filter(pl.col(\"creation_timestamp\").is_between(start_date, end_date))  \\\n",
    "            .with_columns(pl.col(\"creation_timestamp\").dt.date().alias(\"date\")) \\\n",
    "            .collect() \\\n",
    "            .join(df_cal_temp, on = [\"date\",\"system_name\"], how= \"left\") \\\n",
    "            .filter(pl.col(\"system_name\") == f\"tum-esm-midcost-raspi-{id}\") \\\n",
    "            .fill_null(strategy = \"forward\") \\\n",
    "            .fill_null(strategy = \"backward\") \\\n",
    "            .with_columns(((pl.col(\"gmp343_dry\")) * pl.col(\"slope\") + pl.col(\"intercept\")) \\\n",
    "            .alias(\"CO2_corr\")) \\\n",
    "            .sort(\"creation_timestamp\") \\\n",
    "            .groupby_dynamic(\"creation_timestamp\", every='10m')  \\\n",
    "            .agg([\n",
    "                pl.all().exclude([\"creation_timestamp\",\"system_name\"]).mean(),\n",
    "                pl.col(\"system_name\"),\n",
    "                ]) \n",
    "            \n",
    "        # calculate the difference to the picarro\n",
    "        df_cal_corr = df_cal_corr.join(df_p_10m.select(\"creation_timestamp\", \"CO2_corr\") \\\n",
    "            .rename({\"CO2_corr\": \"temp\"}), on=\"creation_timestamp\", how= \"left\") \\\n",
    "            .with_columns((pl.col(\"CO2_corr\") - pl.col(\"temp\")).alias(\"diff\")) \\\n",
    "            .drop(\"temp\")\n",
    "                        \n",
    "        # quantify the performance based on the calibration      \n",
    "        df_cal_corr = df_cal_corr.groupby_dynamic(\"creation_timestamp\", every='10m')  \\\n",
    "            .agg([\n",
    "                pl.all().exclude([\"creation_timestamp\",\"system_name\"]).mean()\n",
    "                ]) \\\n",
    "        .with_columns(((pl.col(\"diff\") < 1.3) & (pl.col(\"diff\") > -1.3)).alias(\"calibration_accuracy\")) \\\n",
    "        .with_columns(pl.lit(f\"system-{id}\").alias(\"system_name\"))\n",
    "        \n",
    "        df_plots.append(df_cal_corr)\n",
    "\n",
    "    df_plot = pl.concat(df_plots, how=\"diagonal\")   \\\n",
    "        .rename({\"gmp343_temperature\": \"temperature\", \"sht45_humidity\": \"humidity\", \"bme280_pressure\": \"pressure\"})\n",
    "\n",
    "    # plot results from before\n",
    "    fig = px.line(df_plot, x=\"creation_timestamp\", y=\"diff\", color=\"system_name\", title = \"Difference System - Picarro\")\n",
    "    fig.show()\n",
    "    \n",
    "    df_plot = pl.concat([df_lmu, df_plot], how=\"diagonal\")\n",
    "    \n",
    "    fig = px.scatter(df_plot, x=\"creation_timestamp\", y=\"pressure\",  color=\"system_name\" )\n",
    "    fig.show()\n",
    "    fig = px.scatter(df_plot, x=\"creation_timestamp\", y=\"humidity\",  color=\"system_name\" )\n",
    "    fig.show()\n",
    "    fig = px.scatter(df_plot, x=\"creation_timestamp\", y=\"temperature\", color=\"system_name\" )\n",
    "    fig.show()\n",
    "    \n",
    "    "
   ]
  },
  {
   "cell_type": "code",
   "execution_count": 72,
   "metadata": {},
   "outputs": [
    {
     "data": {
      "application/vnd.plotly.v1+json": {
       "config": {
        "plotlyServerURL": "https://plot.ly"
       },
       "data": [
        {
         "hovertemplate": "calibration_accuracy=True<br>date=%{x}<br>system_name=%{y}<extra></extra>",
         "legendgroup": "True",
         "marker": {
          "color": "#636efa",
          "symbol": "circle"
         },
         "mode": "markers",
         "name": "True",
         "orientation": "v",
         "showlegend": true,
         "type": "scatter",
         "x": [
          "2024-02-07T00:00:00",
          "2024-02-08T00:00:00",
          "2024-02-10T00:00:00",
          "2024-01-14T00:00:00",
          "2024-01-15T00:00:00",
          "2024-01-17T00:00:00",
          "2024-01-18T00:00:00",
          "2024-01-19T00:00:00",
          "2024-01-20T00:00:00",
          "2024-01-21T00:00:00",
          "2024-01-22T00:00:00",
          "2024-01-23T00:00:00",
          "2024-01-24T00:00:00",
          "2024-01-25T00:00:00",
          "2024-01-26T00:00:00",
          "2024-01-27T00:00:00",
          "2024-01-28T00:00:00",
          "2024-01-29T00:00:00",
          "2024-01-30T00:00:00",
          "2024-01-31T00:00:00",
          "2024-02-02T00:00:00",
          "2024-02-03T00:00:00",
          "2024-02-04T00:00:00",
          "2024-02-06T00:00:00",
          "2024-02-07T00:00:00",
          "2024-02-08T00:00:00",
          "2024-02-10T00:00:00",
          "2024-02-07T00:00:00",
          "2024-02-08T00:00:00",
          "2024-02-09T00:00:00",
          "2024-01-13T00:00:00",
          "2024-01-14T00:00:00",
          "2024-01-15T00:00:00",
          "2024-01-16T00:00:00",
          "2024-01-17T00:00:00",
          "2024-01-19T00:00:00",
          "2024-01-20T00:00:00",
          "2024-01-21T00:00:00",
          "2024-01-22T00:00:00",
          "2024-01-24T00:00:00",
          "2024-01-25T00:00:00",
          "2024-01-26T00:00:00",
          "2024-01-27T00:00:00",
          "2024-01-29T00:00:00",
          "2024-01-31T00:00:00",
          "2024-02-02T00:00:00",
          "2024-02-06T00:00:00",
          "2024-02-07T00:00:00",
          "2024-02-08T00:00:00",
          "2024-02-09T00:00:00",
          "2024-01-13T00:00:00",
          "2024-01-14T00:00:00",
          "2024-01-15T00:00:00",
          "2024-01-16T00:00:00",
          "2024-01-17T00:00:00",
          "2024-01-18T00:00:00",
          "2024-01-19T00:00:00",
          "2024-01-20T00:00:00",
          "2024-01-21T00:00:00",
          "2024-01-22T00:00:00",
          "2024-01-23T00:00:00",
          "2024-01-24T00:00:00",
          "2024-01-26T00:00:00",
          "2024-01-27T00:00:00",
          "2024-01-29T00:00:00",
          "2024-01-30T00:00:00",
          "2024-01-31T00:00:00",
          "2024-02-01T00:00:00",
          "2024-02-02T00:00:00",
          "2024-02-03T00:00:00",
          "2024-02-04T00:00:00",
          "2024-02-06T00:00:00",
          "2024-02-07T00:00:00",
          "2024-02-10T00:00:00",
          "2023-12-23T00:00:00",
          "2023-12-24T00:00:00",
          "2023-12-25T00:00:00",
          "2023-12-26T00:00:00",
          "2023-12-28T00:00:00",
          "2023-12-29T00:00:00",
          "2023-12-30T00:00:00",
          "2024-01-01T00:00:00",
          "2024-01-02T00:00:00",
          "2024-01-04T00:00:00",
          "2024-01-05T00:00:00",
          "2024-01-06T00:00:00",
          "2024-01-07T00:00:00",
          "2024-01-10T00:00:00",
          "2024-01-13T00:00:00",
          "2024-01-14T00:00:00",
          "2024-01-15T00:00:00",
          "2024-01-17T00:00:00",
          "2024-01-18T00:00:00",
          "2024-01-19T00:00:00",
          "2024-01-20T00:00:00",
          "2024-01-21T00:00:00",
          "2024-01-22T00:00:00",
          "2024-01-23T00:00:00",
          "2024-01-24T00:00:00",
          "2024-01-25T00:00:00",
          "2024-01-26T00:00:00",
          "2024-01-27T00:00:00",
          "2024-01-28T00:00:00",
          "2024-01-29T00:00:00",
          "2024-01-30T00:00:00",
          "2024-01-31T00:00:00",
          "2024-02-01T00:00:00",
          "2024-02-02T00:00:00",
          "2024-02-04T00:00:00",
          "2024-02-07T00:00:00",
          "2024-02-08T00:00:00",
          "2024-02-09T00:00:00",
          "2024-01-13T00:00:00",
          "2024-01-14T00:00:00",
          "2024-01-15T00:00:00",
          "2024-01-16T00:00:00",
          "2024-01-17T00:00:00",
          "2024-01-18T00:00:00",
          "2024-01-19T00:00:00",
          "2024-01-20T00:00:00",
          "2024-01-21T00:00:00",
          "2024-01-22T00:00:00",
          "2024-01-23T00:00:00",
          "2024-01-24T00:00:00",
          "2024-01-26T00:00:00",
          "2024-01-27T00:00:00",
          "2024-01-29T00:00:00",
          "2024-01-30T00:00:00",
          "2023-12-23T00:00:00",
          "2023-12-24T00:00:00",
          "2023-12-25T00:00:00",
          "2023-12-26T00:00:00",
          "2023-12-27T00:00:00",
          "2023-12-28T00:00:00",
          "2023-12-29T00:00:00",
          "2023-12-30T00:00:00",
          "2024-01-01T00:00:00",
          "2024-01-02T00:00:00",
          "2024-01-05T00:00:00",
          "2024-01-06T00:00:00",
          "2024-01-07T00:00:00",
          "2024-01-09T00:00:00",
          "2024-01-10T00:00:00",
          "2024-01-12T00:00:00",
          "2024-01-13T00:00:00",
          "2024-01-14T00:00:00",
          "2024-01-15T00:00:00",
          "2024-01-17T00:00:00",
          "2024-01-18T00:00:00",
          "2024-01-19T00:00:00",
          "2024-01-20T00:00:00",
          "2024-01-21T00:00:00",
          "2024-01-22T00:00:00",
          "2024-01-23T00:00:00",
          "2024-01-24T00:00:00",
          "2024-01-25T00:00:00",
          "2024-01-26T00:00:00",
          "2024-01-27T00:00:00",
          "2024-01-29T00:00:00",
          "2024-01-30T00:00:00",
          "2024-01-31T00:00:00",
          "2024-02-02T00:00:00",
          "2024-02-03T00:00:00",
          "2024-02-04T00:00:00",
          "2023-12-23T00:00:00",
          "2023-12-24T00:00:00",
          "2023-12-25T00:00:00",
          "2023-12-26T00:00:00",
          "2023-12-27T00:00:00",
          "2023-12-28T00:00:00",
          "2023-12-29T00:00:00",
          "2023-12-30T00:00:00",
          "2023-12-31T00:00:00",
          "2024-01-01T00:00:00",
          "2024-01-02T00:00:00",
          "2024-01-05T00:00:00",
          "2024-01-06T00:00:00",
          "2024-01-07T00:00:00",
          "2024-01-08T00:00:00",
          "2024-01-09T00:00:00",
          "2024-01-10T00:00:00",
          "2024-01-11T00:00:00",
          "2024-01-13T00:00:00",
          "2024-01-14T00:00:00",
          "2024-01-15T00:00:00",
          "2024-01-17T00:00:00",
          "2024-01-18T00:00:00",
          "2024-01-19T00:00:00",
          "2024-01-20T00:00:00",
          "2024-01-21T00:00:00",
          "2024-01-22T00:00:00",
          "2024-01-23T00:00:00",
          "2024-01-24T00:00:00",
          "2024-01-25T00:00:00",
          "2024-01-26T00:00:00",
          "2024-01-29T00:00:00",
          "2024-01-30T00:00:00",
          "2024-01-31T00:00:00",
          "2024-02-01T00:00:00",
          "2024-02-02T00:00:00",
          "2024-02-04T00:00:00",
          "2023-12-23T00:00:00",
          "2023-12-24T00:00:00",
          "2023-12-25T00:00:00",
          "2023-12-26T00:00:00",
          "2023-12-27T00:00:00",
          "2023-12-28T00:00:00",
          "2023-12-29T00:00:00",
          "2023-12-30T00:00:00",
          "2024-01-01T00:00:00",
          "2024-01-02T00:00:00",
          "2024-01-04T00:00:00",
          "2024-01-05T00:00:00",
          "2024-01-06T00:00:00",
          "2024-01-07T00:00:00",
          "2024-01-09T00:00:00",
          "2024-01-10T00:00:00",
          "2024-01-11T00:00:00",
          "2024-01-12T00:00:00",
          "2024-01-13T00:00:00",
          "2024-01-15T00:00:00",
          "2024-01-17T00:00:00",
          "2024-01-18T00:00:00",
          "2024-01-19T00:00:00",
          "2024-01-20T00:00:00",
          "2024-01-21T00:00:00",
          "2024-01-22T00:00:00",
          "2024-01-23T00:00:00",
          "2024-01-24T00:00:00",
          "2024-01-25T00:00:00",
          "2024-01-26T00:00:00",
          "2024-01-27T00:00:00",
          "2024-01-29T00:00:00",
          "2024-01-30T00:00:00",
          "2024-01-31T00:00:00",
          "2024-02-02T00:00:00",
          "2024-02-04T00:00:00",
          "2024-02-06T00:00:00",
          "2024-02-07T00:00:00",
          "2024-02-08T00:00:00"
         ],
         "xaxis": "x",
         "y": [
          "tum-esm-midcost-raspi-1",
          "tum-esm-midcost-raspi-1",
          "tum-esm-midcost-raspi-1",
          "tum-esm-midcost-raspi-3",
          "tum-esm-midcost-raspi-3",
          "tum-esm-midcost-raspi-3",
          "tum-esm-midcost-raspi-3",
          "tum-esm-midcost-raspi-3",
          "tum-esm-midcost-raspi-3",
          "tum-esm-midcost-raspi-3",
          "tum-esm-midcost-raspi-3",
          "tum-esm-midcost-raspi-3",
          "tum-esm-midcost-raspi-3",
          "tum-esm-midcost-raspi-3",
          "tum-esm-midcost-raspi-3",
          "tum-esm-midcost-raspi-3",
          "tum-esm-midcost-raspi-3",
          "tum-esm-midcost-raspi-3",
          "tum-esm-midcost-raspi-3",
          "tum-esm-midcost-raspi-3",
          "tum-esm-midcost-raspi-3",
          "tum-esm-midcost-raspi-3",
          "tum-esm-midcost-raspi-3",
          "tum-esm-midcost-raspi-3",
          "tum-esm-midcost-raspi-3",
          "tum-esm-midcost-raspi-3",
          "tum-esm-midcost-raspi-3",
          "tum-esm-midcost-raspi-5",
          "tum-esm-midcost-raspi-5",
          "tum-esm-midcost-raspi-5",
          "tum-esm-midcost-raspi-10",
          "tum-esm-midcost-raspi-10",
          "tum-esm-midcost-raspi-10",
          "tum-esm-midcost-raspi-10",
          "tum-esm-midcost-raspi-10",
          "tum-esm-midcost-raspi-10",
          "tum-esm-midcost-raspi-10",
          "tum-esm-midcost-raspi-10",
          "tum-esm-midcost-raspi-10",
          "tum-esm-midcost-raspi-10",
          "tum-esm-midcost-raspi-10",
          "tum-esm-midcost-raspi-10",
          "tum-esm-midcost-raspi-10",
          "tum-esm-midcost-raspi-10",
          "tum-esm-midcost-raspi-10",
          "tum-esm-midcost-raspi-10",
          "tum-esm-midcost-raspi-10",
          "tum-esm-midcost-raspi-10",
          "tum-esm-midcost-raspi-10",
          "tum-esm-midcost-raspi-10",
          "tum-esm-midcost-raspi-11",
          "tum-esm-midcost-raspi-11",
          "tum-esm-midcost-raspi-11",
          "tum-esm-midcost-raspi-11",
          "tum-esm-midcost-raspi-11",
          "tum-esm-midcost-raspi-11",
          "tum-esm-midcost-raspi-11",
          "tum-esm-midcost-raspi-11",
          "tum-esm-midcost-raspi-11",
          "tum-esm-midcost-raspi-11",
          "tum-esm-midcost-raspi-11",
          "tum-esm-midcost-raspi-11",
          "tum-esm-midcost-raspi-11",
          "tum-esm-midcost-raspi-11",
          "tum-esm-midcost-raspi-11",
          "tum-esm-midcost-raspi-11",
          "tum-esm-midcost-raspi-11",
          "tum-esm-midcost-raspi-11",
          "tum-esm-midcost-raspi-11",
          "tum-esm-midcost-raspi-11",
          "tum-esm-midcost-raspi-11",
          "tum-esm-midcost-raspi-11",
          "tum-esm-midcost-raspi-11",
          "tum-esm-midcost-raspi-11",
          "tum-esm-midcost-raspi-12",
          "tum-esm-midcost-raspi-12",
          "tum-esm-midcost-raspi-12",
          "tum-esm-midcost-raspi-12",
          "tum-esm-midcost-raspi-12",
          "tum-esm-midcost-raspi-12",
          "tum-esm-midcost-raspi-12",
          "tum-esm-midcost-raspi-12",
          "tum-esm-midcost-raspi-12",
          "tum-esm-midcost-raspi-12",
          "tum-esm-midcost-raspi-12",
          "tum-esm-midcost-raspi-12",
          "tum-esm-midcost-raspi-12",
          "tum-esm-midcost-raspi-12",
          "tum-esm-midcost-raspi-12",
          "tum-esm-midcost-raspi-12",
          "tum-esm-midcost-raspi-12",
          "tum-esm-midcost-raspi-12",
          "tum-esm-midcost-raspi-12",
          "tum-esm-midcost-raspi-12",
          "tum-esm-midcost-raspi-12",
          "tum-esm-midcost-raspi-12",
          "tum-esm-midcost-raspi-12",
          "tum-esm-midcost-raspi-12",
          "tum-esm-midcost-raspi-12",
          "tum-esm-midcost-raspi-12",
          "tum-esm-midcost-raspi-12",
          "tum-esm-midcost-raspi-12",
          "tum-esm-midcost-raspi-12",
          "tum-esm-midcost-raspi-12",
          "tum-esm-midcost-raspi-12",
          "tum-esm-midcost-raspi-12",
          "tum-esm-midcost-raspi-12",
          "tum-esm-midcost-raspi-12",
          "tum-esm-midcost-raspi-12",
          "tum-esm-midcost-raspi-12",
          "tum-esm-midcost-raspi-12",
          "tum-esm-midcost-raspi-12",
          "tum-esm-midcost-raspi-13",
          "tum-esm-midcost-raspi-13",
          "tum-esm-midcost-raspi-13",
          "tum-esm-midcost-raspi-13",
          "tum-esm-midcost-raspi-13",
          "tum-esm-midcost-raspi-13",
          "tum-esm-midcost-raspi-13",
          "tum-esm-midcost-raspi-13",
          "tum-esm-midcost-raspi-13",
          "tum-esm-midcost-raspi-13",
          "tum-esm-midcost-raspi-13",
          "tum-esm-midcost-raspi-13",
          "tum-esm-midcost-raspi-13",
          "tum-esm-midcost-raspi-13",
          "tum-esm-midcost-raspi-13",
          "tum-esm-midcost-raspi-13",
          "tum-esm-midcost-raspi-16",
          "tum-esm-midcost-raspi-16",
          "tum-esm-midcost-raspi-16",
          "tum-esm-midcost-raspi-16",
          "tum-esm-midcost-raspi-16",
          "tum-esm-midcost-raspi-16",
          "tum-esm-midcost-raspi-16",
          "tum-esm-midcost-raspi-16",
          "tum-esm-midcost-raspi-16",
          "tum-esm-midcost-raspi-16",
          "tum-esm-midcost-raspi-16",
          "tum-esm-midcost-raspi-16",
          "tum-esm-midcost-raspi-16",
          "tum-esm-midcost-raspi-16",
          "tum-esm-midcost-raspi-16",
          "tum-esm-midcost-raspi-16",
          "tum-esm-midcost-raspi-16",
          "tum-esm-midcost-raspi-16",
          "tum-esm-midcost-raspi-16",
          "tum-esm-midcost-raspi-16",
          "tum-esm-midcost-raspi-16",
          "tum-esm-midcost-raspi-16",
          "tum-esm-midcost-raspi-16",
          "tum-esm-midcost-raspi-16",
          "tum-esm-midcost-raspi-16",
          "tum-esm-midcost-raspi-16",
          "tum-esm-midcost-raspi-16",
          "tum-esm-midcost-raspi-16",
          "tum-esm-midcost-raspi-16",
          "tum-esm-midcost-raspi-16",
          "tum-esm-midcost-raspi-16",
          "tum-esm-midcost-raspi-16",
          "tum-esm-midcost-raspi-16",
          "tum-esm-midcost-raspi-16",
          "tum-esm-midcost-raspi-16",
          "tum-esm-midcost-raspi-16",
          "tum-esm-midcost-raspi-18",
          "tum-esm-midcost-raspi-18",
          "tum-esm-midcost-raspi-18",
          "tum-esm-midcost-raspi-18",
          "tum-esm-midcost-raspi-18",
          "tum-esm-midcost-raspi-18",
          "tum-esm-midcost-raspi-18",
          "tum-esm-midcost-raspi-18",
          "tum-esm-midcost-raspi-18",
          "tum-esm-midcost-raspi-18",
          "tum-esm-midcost-raspi-18",
          "tum-esm-midcost-raspi-18",
          "tum-esm-midcost-raspi-18",
          "tum-esm-midcost-raspi-18",
          "tum-esm-midcost-raspi-18",
          "tum-esm-midcost-raspi-18",
          "tum-esm-midcost-raspi-18",
          "tum-esm-midcost-raspi-18",
          "tum-esm-midcost-raspi-18",
          "tum-esm-midcost-raspi-18",
          "tum-esm-midcost-raspi-18",
          "tum-esm-midcost-raspi-18",
          "tum-esm-midcost-raspi-18",
          "tum-esm-midcost-raspi-18",
          "tum-esm-midcost-raspi-18",
          "tum-esm-midcost-raspi-18",
          "tum-esm-midcost-raspi-18",
          "tum-esm-midcost-raspi-18",
          "tum-esm-midcost-raspi-18",
          "tum-esm-midcost-raspi-18",
          "tum-esm-midcost-raspi-18",
          "tum-esm-midcost-raspi-18",
          "tum-esm-midcost-raspi-18",
          "tum-esm-midcost-raspi-18",
          "tum-esm-midcost-raspi-18",
          "tum-esm-midcost-raspi-18",
          "tum-esm-midcost-raspi-18",
          "tum-esm-midcost-raspi-20",
          "tum-esm-midcost-raspi-20",
          "tum-esm-midcost-raspi-20",
          "tum-esm-midcost-raspi-20",
          "tum-esm-midcost-raspi-20",
          "tum-esm-midcost-raspi-20",
          "tum-esm-midcost-raspi-20",
          "tum-esm-midcost-raspi-20",
          "tum-esm-midcost-raspi-20",
          "tum-esm-midcost-raspi-20",
          "tum-esm-midcost-raspi-20",
          "tum-esm-midcost-raspi-20",
          "tum-esm-midcost-raspi-20",
          "tum-esm-midcost-raspi-20",
          "tum-esm-midcost-raspi-20",
          "tum-esm-midcost-raspi-20",
          "tum-esm-midcost-raspi-20",
          "tum-esm-midcost-raspi-20",
          "tum-esm-midcost-raspi-20",
          "tum-esm-midcost-raspi-20",
          "tum-esm-midcost-raspi-20",
          "tum-esm-midcost-raspi-20",
          "tum-esm-midcost-raspi-20",
          "tum-esm-midcost-raspi-20",
          "tum-esm-midcost-raspi-20",
          "tum-esm-midcost-raspi-20",
          "tum-esm-midcost-raspi-20",
          "tum-esm-midcost-raspi-20",
          "tum-esm-midcost-raspi-20",
          "tum-esm-midcost-raspi-20",
          "tum-esm-midcost-raspi-20",
          "tum-esm-midcost-raspi-20",
          "tum-esm-midcost-raspi-20",
          "tum-esm-midcost-raspi-20",
          "tum-esm-midcost-raspi-20",
          "tum-esm-midcost-raspi-20",
          "tum-esm-midcost-raspi-20",
          "tum-esm-midcost-raspi-20",
          "tum-esm-midcost-raspi-20"
         ],
         "yaxis": "y"
        },
        {
         "hovertemplate": "calibration_accuracy=False<br>date=%{x}<br>system_name=%{y}<extra></extra>",
         "legendgroup": "False",
         "marker": {
          "color": "#EF553B",
          "symbol": "circle"
         },
         "mode": "markers",
         "name": "False",
         "orientation": "v",
         "showlegend": true,
         "type": "scatter",
         "x": [
          "2024-02-09T00:00:00",
          "2024-01-12T00:00:00",
          "2024-01-13T00:00:00",
          "2024-01-16T00:00:00",
          "2024-02-01T00:00:00",
          "2024-02-05T00:00:00",
          "2024-02-09T00:00:00",
          "2024-02-11T00:00:00",
          "2024-02-06T00:00:00",
          "2024-02-10T00:00:00",
          "2024-02-11T00:00:00",
          "2024-02-12T00:00:00",
          "2024-01-12T00:00:00",
          "2024-01-18T00:00:00",
          "2024-01-23T00:00:00",
          "2024-01-28T00:00:00",
          "2024-01-30T00:00:00",
          "2024-02-01T00:00:00",
          "2024-02-03T00:00:00",
          "2024-02-04T00:00:00",
          "2024-02-05T00:00:00",
          "2024-02-10T00:00:00",
          "2024-02-11T00:00:00",
          "2024-01-12T00:00:00",
          "2024-01-25T00:00:00",
          "2024-01-28T00:00:00",
          "2024-02-05T00:00:00",
          "2024-02-08T00:00:00",
          "2024-02-09T00:00:00",
          "2024-02-11T00:00:00",
          "2023-12-27T00:00:00",
          "2023-12-31T00:00:00",
          "2024-01-03T00:00:00",
          "2024-01-08T00:00:00",
          "2024-01-09T00:00:00",
          "2024-01-11T00:00:00",
          "2024-01-16T00:00:00",
          "2024-02-03T00:00:00",
          "2024-02-05T00:00:00",
          "2024-02-06T00:00:00",
          "2024-02-10T00:00:00",
          "2024-02-11T00:00:00",
          "2024-01-12T00:00:00",
          "2024-01-25T00:00:00",
          "2024-01-28T00:00:00",
          "2023-12-31T00:00:00",
          "2024-01-03T00:00:00",
          "2024-01-04T00:00:00",
          "2024-01-08T00:00:00",
          "2024-01-16T00:00:00",
          "2024-01-28T00:00:00",
          "2024-02-01T00:00:00",
          "2024-02-05T00:00:00",
          "2024-01-03T00:00:00",
          "2024-01-04T00:00:00",
          "2024-01-12T00:00:00",
          "2024-01-16T00:00:00",
          "2024-01-27T00:00:00",
          "2024-01-28T00:00:00",
          "2024-02-03T00:00:00",
          "2024-02-05T00:00:00",
          "2023-12-31T00:00:00",
          "2024-01-03T00:00:00",
          "2024-01-08T00:00:00",
          "2024-01-14T00:00:00",
          "2024-01-16T00:00:00",
          "2024-01-28T00:00:00",
          "2024-02-01T00:00:00",
          "2024-02-03T00:00:00",
          "2024-02-05T00:00:00",
          "2024-02-09T00:00:00",
          "2024-02-10T00:00:00",
          "2024-02-11T00:00:00"
         ],
         "xaxis": "x",
         "y": [
          "tum-esm-midcost-raspi-1",
          "tum-esm-midcost-raspi-3",
          "tum-esm-midcost-raspi-3",
          "tum-esm-midcost-raspi-3",
          "tum-esm-midcost-raspi-3",
          "tum-esm-midcost-raspi-3",
          "tum-esm-midcost-raspi-3",
          "tum-esm-midcost-raspi-3",
          "tum-esm-midcost-raspi-5",
          "tum-esm-midcost-raspi-5",
          "tum-esm-midcost-raspi-5",
          "tum-esm-midcost-raspi-9",
          "tum-esm-midcost-raspi-10",
          "tum-esm-midcost-raspi-10",
          "tum-esm-midcost-raspi-10",
          "tum-esm-midcost-raspi-10",
          "tum-esm-midcost-raspi-10",
          "tum-esm-midcost-raspi-10",
          "tum-esm-midcost-raspi-10",
          "tum-esm-midcost-raspi-10",
          "tum-esm-midcost-raspi-10",
          "tum-esm-midcost-raspi-10",
          "tum-esm-midcost-raspi-10",
          "tum-esm-midcost-raspi-11",
          "tum-esm-midcost-raspi-11",
          "tum-esm-midcost-raspi-11",
          "tum-esm-midcost-raspi-11",
          "tum-esm-midcost-raspi-11",
          "tum-esm-midcost-raspi-11",
          "tum-esm-midcost-raspi-11",
          "tum-esm-midcost-raspi-12",
          "tum-esm-midcost-raspi-12",
          "tum-esm-midcost-raspi-12",
          "tum-esm-midcost-raspi-12",
          "tum-esm-midcost-raspi-12",
          "tum-esm-midcost-raspi-12",
          "tum-esm-midcost-raspi-12",
          "tum-esm-midcost-raspi-12",
          "tum-esm-midcost-raspi-12",
          "tum-esm-midcost-raspi-12",
          "tum-esm-midcost-raspi-12",
          "tum-esm-midcost-raspi-12",
          "tum-esm-midcost-raspi-13",
          "tum-esm-midcost-raspi-13",
          "tum-esm-midcost-raspi-13",
          "tum-esm-midcost-raspi-16",
          "tum-esm-midcost-raspi-16",
          "tum-esm-midcost-raspi-16",
          "tum-esm-midcost-raspi-16",
          "tum-esm-midcost-raspi-16",
          "tum-esm-midcost-raspi-16",
          "tum-esm-midcost-raspi-16",
          "tum-esm-midcost-raspi-16",
          "tum-esm-midcost-raspi-18",
          "tum-esm-midcost-raspi-18",
          "tum-esm-midcost-raspi-18",
          "tum-esm-midcost-raspi-18",
          "tum-esm-midcost-raspi-18",
          "tum-esm-midcost-raspi-18",
          "tum-esm-midcost-raspi-18",
          "tum-esm-midcost-raspi-18",
          "tum-esm-midcost-raspi-20",
          "tum-esm-midcost-raspi-20",
          "tum-esm-midcost-raspi-20",
          "tum-esm-midcost-raspi-20",
          "tum-esm-midcost-raspi-20",
          "tum-esm-midcost-raspi-20",
          "tum-esm-midcost-raspi-20",
          "tum-esm-midcost-raspi-20",
          "tum-esm-midcost-raspi-20",
          "tum-esm-midcost-raspi-20",
          "tum-esm-midcost-raspi-20",
          "tum-esm-midcost-raspi-20"
         ],
         "yaxis": "y"
        }
       ],
       "layout": {
        "legend": {
         "title": {
          "text": "calibration_accuracy"
         },
         "tracegroupgap": 0
        },
        "template": {
         "data": {
          "bar": [
           {
            "error_x": {
             "color": "#2a3f5f"
            },
            "error_y": {
             "color": "#2a3f5f"
            },
            "marker": {
             "line": {
              "color": "#E5ECF6",
              "width": 0.5
             },
             "pattern": {
              "fillmode": "overlay",
              "size": 10,
              "solidity": 0.2
             }
            },
            "type": "bar"
           }
          ],
          "barpolar": [
           {
            "marker": {
             "line": {
              "color": "#E5ECF6",
              "width": 0.5
             },
             "pattern": {
              "fillmode": "overlay",
              "size": 10,
              "solidity": 0.2
             }
            },
            "type": "barpolar"
           }
          ],
          "carpet": [
           {
            "aaxis": {
             "endlinecolor": "#2a3f5f",
             "gridcolor": "white",
             "linecolor": "white",
             "minorgridcolor": "white",
             "startlinecolor": "#2a3f5f"
            },
            "baxis": {
             "endlinecolor": "#2a3f5f",
             "gridcolor": "white",
             "linecolor": "white",
             "minorgridcolor": "white",
             "startlinecolor": "#2a3f5f"
            },
            "type": "carpet"
           }
          ],
          "choropleth": [
           {
            "colorbar": {
             "outlinewidth": 0,
             "ticks": ""
            },
            "type": "choropleth"
           }
          ],
          "contour": [
           {
            "colorbar": {
             "outlinewidth": 0,
             "ticks": ""
            },
            "colorscale": [
             [
              0,
              "#0d0887"
             ],
             [
              0.1111111111111111,
              "#46039f"
             ],
             [
              0.2222222222222222,
              "#7201a8"
             ],
             [
              0.3333333333333333,
              "#9c179e"
             ],
             [
              0.4444444444444444,
              "#bd3786"
             ],
             [
              0.5555555555555556,
              "#d8576b"
             ],
             [
              0.6666666666666666,
              "#ed7953"
             ],
             [
              0.7777777777777778,
              "#fb9f3a"
             ],
             [
              0.8888888888888888,
              "#fdca26"
             ],
             [
              1,
              "#f0f921"
             ]
            ],
            "type": "contour"
           }
          ],
          "contourcarpet": [
           {
            "colorbar": {
             "outlinewidth": 0,
             "ticks": ""
            },
            "type": "contourcarpet"
           }
          ],
          "heatmap": [
           {
            "colorbar": {
             "outlinewidth": 0,
             "ticks": ""
            },
            "colorscale": [
             [
              0,
              "#0d0887"
             ],
             [
              0.1111111111111111,
              "#46039f"
             ],
             [
              0.2222222222222222,
              "#7201a8"
             ],
             [
              0.3333333333333333,
              "#9c179e"
             ],
             [
              0.4444444444444444,
              "#bd3786"
             ],
             [
              0.5555555555555556,
              "#d8576b"
             ],
             [
              0.6666666666666666,
              "#ed7953"
             ],
             [
              0.7777777777777778,
              "#fb9f3a"
             ],
             [
              0.8888888888888888,
              "#fdca26"
             ],
             [
              1,
              "#f0f921"
             ]
            ],
            "type": "heatmap"
           }
          ],
          "heatmapgl": [
           {
            "colorbar": {
             "outlinewidth": 0,
             "ticks": ""
            },
            "colorscale": [
             [
              0,
              "#0d0887"
             ],
             [
              0.1111111111111111,
              "#46039f"
             ],
             [
              0.2222222222222222,
              "#7201a8"
             ],
             [
              0.3333333333333333,
              "#9c179e"
             ],
             [
              0.4444444444444444,
              "#bd3786"
             ],
             [
              0.5555555555555556,
              "#d8576b"
             ],
             [
              0.6666666666666666,
              "#ed7953"
             ],
             [
              0.7777777777777778,
              "#fb9f3a"
             ],
             [
              0.8888888888888888,
              "#fdca26"
             ],
             [
              1,
              "#f0f921"
             ]
            ],
            "type": "heatmapgl"
           }
          ],
          "histogram": [
           {
            "marker": {
             "pattern": {
              "fillmode": "overlay",
              "size": 10,
              "solidity": 0.2
             }
            },
            "type": "histogram"
           }
          ],
          "histogram2d": [
           {
            "colorbar": {
             "outlinewidth": 0,
             "ticks": ""
            },
            "colorscale": [
             [
              0,
              "#0d0887"
             ],
             [
              0.1111111111111111,
              "#46039f"
             ],
             [
              0.2222222222222222,
              "#7201a8"
             ],
             [
              0.3333333333333333,
              "#9c179e"
             ],
             [
              0.4444444444444444,
              "#bd3786"
             ],
             [
              0.5555555555555556,
              "#d8576b"
             ],
             [
              0.6666666666666666,
              "#ed7953"
             ],
             [
              0.7777777777777778,
              "#fb9f3a"
             ],
             [
              0.8888888888888888,
              "#fdca26"
             ],
             [
              1,
              "#f0f921"
             ]
            ],
            "type": "histogram2d"
           }
          ],
          "histogram2dcontour": [
           {
            "colorbar": {
             "outlinewidth": 0,
             "ticks": ""
            },
            "colorscale": [
             [
              0,
              "#0d0887"
             ],
             [
              0.1111111111111111,
              "#46039f"
             ],
             [
              0.2222222222222222,
              "#7201a8"
             ],
             [
              0.3333333333333333,
              "#9c179e"
             ],
             [
              0.4444444444444444,
              "#bd3786"
             ],
             [
              0.5555555555555556,
              "#d8576b"
             ],
             [
              0.6666666666666666,
              "#ed7953"
             ],
             [
              0.7777777777777778,
              "#fb9f3a"
             ],
             [
              0.8888888888888888,
              "#fdca26"
             ],
             [
              1,
              "#f0f921"
             ]
            ],
            "type": "histogram2dcontour"
           }
          ],
          "mesh3d": [
           {
            "colorbar": {
             "outlinewidth": 0,
             "ticks": ""
            },
            "type": "mesh3d"
           }
          ],
          "parcoords": [
           {
            "line": {
             "colorbar": {
              "outlinewidth": 0,
              "ticks": ""
             }
            },
            "type": "parcoords"
           }
          ],
          "pie": [
           {
            "automargin": true,
            "type": "pie"
           }
          ],
          "scatter": [
           {
            "fillpattern": {
             "fillmode": "overlay",
             "size": 10,
             "solidity": 0.2
            },
            "type": "scatter"
           }
          ],
          "scatter3d": [
           {
            "line": {
             "colorbar": {
              "outlinewidth": 0,
              "ticks": ""
             }
            },
            "marker": {
             "colorbar": {
              "outlinewidth": 0,
              "ticks": ""
             }
            },
            "type": "scatter3d"
           }
          ],
          "scattercarpet": [
           {
            "marker": {
             "colorbar": {
              "outlinewidth": 0,
              "ticks": ""
             }
            },
            "type": "scattercarpet"
           }
          ],
          "scattergeo": [
           {
            "marker": {
             "colorbar": {
              "outlinewidth": 0,
              "ticks": ""
             }
            },
            "type": "scattergeo"
           }
          ],
          "scattergl": [
           {
            "marker": {
             "colorbar": {
              "outlinewidth": 0,
              "ticks": ""
             }
            },
            "type": "scattergl"
           }
          ],
          "scattermapbox": [
           {
            "marker": {
             "colorbar": {
              "outlinewidth": 0,
              "ticks": ""
             }
            },
            "type": "scattermapbox"
           }
          ],
          "scatterpolar": [
           {
            "marker": {
             "colorbar": {
              "outlinewidth": 0,
              "ticks": ""
             }
            },
            "type": "scatterpolar"
           }
          ],
          "scatterpolargl": [
           {
            "marker": {
             "colorbar": {
              "outlinewidth": 0,
              "ticks": ""
             }
            },
            "type": "scatterpolargl"
           }
          ],
          "scatterternary": [
           {
            "marker": {
             "colorbar": {
              "outlinewidth": 0,
              "ticks": ""
             }
            },
            "type": "scatterternary"
           }
          ],
          "surface": [
           {
            "colorbar": {
             "outlinewidth": 0,
             "ticks": ""
            },
            "colorscale": [
             [
              0,
              "#0d0887"
             ],
             [
              0.1111111111111111,
              "#46039f"
             ],
             [
              0.2222222222222222,
              "#7201a8"
             ],
             [
              0.3333333333333333,
              "#9c179e"
             ],
             [
              0.4444444444444444,
              "#bd3786"
             ],
             [
              0.5555555555555556,
              "#d8576b"
             ],
             [
              0.6666666666666666,
              "#ed7953"
             ],
             [
              0.7777777777777778,
              "#fb9f3a"
             ],
             [
              0.8888888888888888,
              "#fdca26"
             ],
             [
              1,
              "#f0f921"
             ]
            ],
            "type": "surface"
           }
          ],
          "table": [
           {
            "cells": {
             "fill": {
              "color": "#EBF0F8"
             },
             "line": {
              "color": "white"
             }
            },
            "header": {
             "fill": {
              "color": "#C8D4E3"
             },
             "line": {
              "color": "white"
             }
            },
            "type": "table"
           }
          ]
         },
         "layout": {
          "annotationdefaults": {
           "arrowcolor": "#2a3f5f",
           "arrowhead": 0,
           "arrowwidth": 1
          },
          "autotypenumbers": "strict",
          "coloraxis": {
           "colorbar": {
            "outlinewidth": 0,
            "ticks": ""
           }
          },
          "colorscale": {
           "diverging": [
            [
             0,
             "#8e0152"
            ],
            [
             0.1,
             "#c51b7d"
            ],
            [
             0.2,
             "#de77ae"
            ],
            [
             0.3,
             "#f1b6da"
            ],
            [
             0.4,
             "#fde0ef"
            ],
            [
             0.5,
             "#f7f7f7"
            ],
            [
             0.6,
             "#e6f5d0"
            ],
            [
             0.7,
             "#b8e186"
            ],
            [
             0.8,
             "#7fbc41"
            ],
            [
             0.9,
             "#4d9221"
            ],
            [
             1,
             "#276419"
            ]
           ],
           "sequential": [
            [
             0,
             "#0d0887"
            ],
            [
             0.1111111111111111,
             "#46039f"
            ],
            [
             0.2222222222222222,
             "#7201a8"
            ],
            [
             0.3333333333333333,
             "#9c179e"
            ],
            [
             0.4444444444444444,
             "#bd3786"
            ],
            [
             0.5555555555555556,
             "#d8576b"
            ],
            [
             0.6666666666666666,
             "#ed7953"
            ],
            [
             0.7777777777777778,
             "#fb9f3a"
            ],
            [
             0.8888888888888888,
             "#fdca26"
            ],
            [
             1,
             "#f0f921"
            ]
           ],
           "sequentialminus": [
            [
             0,
             "#0d0887"
            ],
            [
             0.1111111111111111,
             "#46039f"
            ],
            [
             0.2222222222222222,
             "#7201a8"
            ],
            [
             0.3333333333333333,
             "#9c179e"
            ],
            [
             0.4444444444444444,
             "#bd3786"
            ],
            [
             0.5555555555555556,
             "#d8576b"
            ],
            [
             0.6666666666666666,
             "#ed7953"
            ],
            [
             0.7777777777777778,
             "#fb9f3a"
            ],
            [
             0.8888888888888888,
             "#fdca26"
            ],
            [
             1,
             "#f0f921"
            ]
           ]
          },
          "colorway": [
           "#636efa",
           "#EF553B",
           "#00cc96",
           "#ab63fa",
           "#FFA15A",
           "#19d3f3",
           "#FF6692",
           "#B6E880",
           "#FF97FF",
           "#FECB52"
          ],
          "font": {
           "color": "#2a3f5f"
          },
          "geo": {
           "bgcolor": "white",
           "lakecolor": "white",
           "landcolor": "#E5ECF6",
           "showlakes": true,
           "showland": true,
           "subunitcolor": "white"
          },
          "hoverlabel": {
           "align": "left"
          },
          "hovermode": "closest",
          "mapbox": {
           "style": "light"
          },
          "paper_bgcolor": "white",
          "plot_bgcolor": "#E5ECF6",
          "polar": {
           "angularaxis": {
            "gridcolor": "white",
            "linecolor": "white",
            "ticks": ""
           },
           "bgcolor": "#E5ECF6",
           "radialaxis": {
            "gridcolor": "white",
            "linecolor": "white",
            "ticks": ""
           }
          },
          "scene": {
           "xaxis": {
            "backgroundcolor": "#E5ECF6",
            "gridcolor": "white",
            "gridwidth": 2,
            "linecolor": "white",
            "showbackground": true,
            "ticks": "",
            "zerolinecolor": "white"
           },
           "yaxis": {
            "backgroundcolor": "#E5ECF6",
            "gridcolor": "white",
            "gridwidth": 2,
            "linecolor": "white",
            "showbackground": true,
            "ticks": "",
            "zerolinecolor": "white"
           },
           "zaxis": {
            "backgroundcolor": "#E5ECF6",
            "gridcolor": "white",
            "gridwidth": 2,
            "linecolor": "white",
            "showbackground": true,
            "ticks": "",
            "zerolinecolor": "white"
           }
          },
          "shapedefaults": {
           "line": {
            "color": "#2a3f5f"
           }
          },
          "ternary": {
           "aaxis": {
            "gridcolor": "white",
            "linecolor": "white",
            "ticks": ""
           },
           "baxis": {
            "gridcolor": "white",
            "linecolor": "white",
            "ticks": ""
           },
           "bgcolor": "#E5ECF6",
           "caxis": {
            "gridcolor": "white",
            "linecolor": "white",
            "ticks": ""
           }
          },
          "title": {
           "x": 0.05
          },
          "xaxis": {
           "automargin": true,
           "gridcolor": "white",
           "linecolor": "white",
           "ticks": "",
           "title": {
            "standoff": 15
           },
           "zerolinecolor": "white",
           "zerolinewidth": 2
          },
          "yaxis": {
           "automargin": true,
           "gridcolor": "white",
           "linecolor": "white",
           "ticks": "",
           "title": {
            "standoff": 15
           },
           "zerolinecolor": "white",
           "zerolinewidth": 2
          }
         }
        },
        "title": {
         "text": "Cluster Analysis"
        },
        "xaxis": {
         "anchor": "y",
         "domain": [
          0,
          1
         ],
         "title": {
          "text": "date"
         }
        },
        "yaxis": {
         "anchor": "x",
         "domain": [
          0,
          1
         ],
         "title": {
          "text": "system_name"
         }
        }
       }
      }
     },
     "metadata": {},
     "output_type": "display_data"
    },
    {
     "data": {
      "application/vnd.plotly.v1+json": {
       "config": {
        "plotlyServerURL": "https://plot.ly"
       },
       "data": [
        {
         "hovertemplate": "system_name=tum-esm-midcost-raspi-1<br>date=%{x}<br>diff=%{y}<extra></extra>",
         "legendgroup": "tum-esm-midcost-raspi-1",
         "marker": {
          "color": "#636efa",
          "symbol": "circle"
         },
         "mode": "markers",
         "name": "tum-esm-midcost-raspi-1",
         "orientation": "v",
         "showlegend": true,
         "type": "scatter",
         "x": [
          "2024-02-07T00:00:00",
          "2024-02-08T00:00:00",
          "2024-02-09T00:00:00",
          "2024-02-10T00:00:00"
         ],
         "xaxis": "x",
         "y": [
          -1.077131833228739,
          0.6488488694356954,
          2.358871221547062,
          -0.8488327925694295
         ],
         "yaxis": "y"
        },
        {
         "hovertemplate": "system_name=tum-esm-midcost-raspi-3<br>date=%{x}<br>diff=%{y}<extra></extra>",
         "legendgroup": "tum-esm-midcost-raspi-3",
         "marker": {
          "color": "#EF553B",
          "symbol": "circle"
         },
         "mode": "markers",
         "name": "tum-esm-midcost-raspi-3",
         "orientation": "v",
         "showlegend": true,
         "type": "scatter",
         "x": [
          "2024-01-12T00:00:00",
          "2024-01-13T00:00:00",
          "2024-01-14T00:00:00",
          "2024-01-15T00:00:00",
          "2024-01-16T00:00:00",
          "2024-01-17T00:00:00",
          "2024-01-18T00:00:00",
          "2024-01-19T00:00:00",
          "2024-01-20T00:00:00",
          "2024-01-21T00:00:00",
          "2024-01-22T00:00:00",
          "2024-01-23T00:00:00",
          "2024-01-24T00:00:00",
          "2024-01-25T00:00:00",
          "2024-01-26T00:00:00",
          "2024-01-27T00:00:00",
          "2024-01-28T00:00:00",
          "2024-01-29T00:00:00",
          "2024-01-30T00:00:00",
          "2024-01-31T00:00:00",
          "2024-02-01T00:00:00",
          "2024-02-02T00:00:00",
          "2024-02-03T00:00:00",
          "2024-02-04T00:00:00",
          "2024-02-05T00:00:00",
          "2024-02-06T00:00:00",
          "2024-02-07T00:00:00",
          "2024-02-08T00:00:00",
          "2024-02-09T00:00:00",
          "2024-02-10T00:00:00",
          "2024-02-11T00:00:00"
         ],
         "xaxis": "x",
         "y": [
          75.76882969728591,
          -1.3515852311302081,
          -0.21316180785800082,
          -0.3219358948126149,
          6.820561505945052,
          -1.1485733472522643,
          -0.1787169534532713,
          -0.8204604667830349,
          -1.050053703246909,
          -0.9125445038290766,
          -0.24515887477250575,
          -0.3615700796421176,
          -0.8894509070949247,
          0.1535836865388652,
          -0.09909362152419221,
          -0.053523193758342386,
          -0.6933058330446661,
          0.6972291053774089,
          -0.665239970039949,
          0.4087553822821751,
          -1.8346440843353125,
          0.10909604533899687,
          -1.2703644161991423,
          0.07720509659818825,
          -1.9219198280010144,
          -0.20711452854221546,
          0.7484235674948307,
          0.15351908713059984,
          2.8258273457617404,
          -0.750489413024,
          -2.8160208675077163
         ],
         "yaxis": "y"
        },
        {
         "hovertemplate": "system_name=tum-esm-midcost-raspi-5<br>date=%{x}<br>diff=%{y}<extra></extra>",
         "legendgroup": "tum-esm-midcost-raspi-5",
         "marker": {
          "color": "#00cc96",
          "symbol": "circle"
         },
         "mode": "markers",
         "name": "tum-esm-midcost-raspi-5",
         "orientation": "v",
         "showlegend": true,
         "type": "scatter",
         "x": [
          "2024-02-06T00:00:00",
          "2024-02-07T00:00:00",
          "2024-02-08T00:00:00",
          "2024-02-09T00:00:00",
          "2024-02-10T00:00:00",
          "2024-02-11T00:00:00"
         ],
         "xaxis": "x",
         "y": [
          2.3223526919258375,
          -0.7242477256932642,
          0.3848436296780036,
          0.3284432818092953,
          -1.8110369948937397,
          -2.898699590931986
         ],
         "yaxis": "y"
        },
        {
         "hovertemplate": "system_name=tum-esm-midcost-raspi-9<br>date=%{x}<br>diff=%{y}<extra></extra>",
         "legendgroup": "tum-esm-midcost-raspi-9",
         "marker": {
          "color": "#ab63fa",
          "symbol": "circle"
         },
         "mode": "markers",
         "name": "tum-esm-midcost-raspi-9",
         "orientation": "v",
         "showlegend": true,
         "type": "scatter",
         "x": [
          "2024-02-12T00:00:00"
         ],
         "xaxis": "x",
         "y": [
          null
         ],
         "yaxis": "y"
        },
        {
         "hovertemplate": "system_name=tum-esm-midcost-raspi-10<br>date=%{x}<br>diff=%{y}<extra></extra>",
         "legendgroup": "tum-esm-midcost-raspi-10",
         "marker": {
          "color": "#FFA15A",
          "symbol": "circle"
         },
         "mode": "markers",
         "name": "tum-esm-midcost-raspi-10",
         "orientation": "v",
         "showlegend": true,
         "type": "scatter",
         "x": [
          "2024-01-12T00:00:00",
          "2024-01-13T00:00:00",
          "2024-01-14T00:00:00",
          "2024-01-15T00:00:00",
          "2024-01-16T00:00:00",
          "2024-01-17T00:00:00",
          "2024-01-18T00:00:00",
          "2024-01-19T00:00:00",
          "2024-01-20T00:00:00",
          "2024-01-21T00:00:00",
          "2024-01-22T00:00:00",
          "2024-01-23T00:00:00",
          "2024-01-24T00:00:00",
          "2024-01-25T00:00:00",
          "2024-01-26T00:00:00",
          "2024-01-27T00:00:00",
          "2024-01-28T00:00:00",
          "2024-01-29T00:00:00",
          "2024-01-30T00:00:00",
          "2024-01-31T00:00:00",
          "2024-02-01T00:00:00",
          "2024-02-02T00:00:00",
          "2024-02-03T00:00:00",
          "2024-02-04T00:00:00",
          "2024-02-05T00:00:00",
          "2024-02-06T00:00:00",
          "2024-02-07T00:00:00",
          "2024-02-08T00:00:00",
          "2024-02-09T00:00:00",
          "2024-02-10T00:00:00",
          "2024-02-11T00:00:00"
         ],
         "xaxis": "x",
         "y": [
          -3.6871995368486155,
          -1.1894298291521679,
          -0.42866450166579245,
          -1.0334791599731217,
          -1.0509909333099,
          0.8001822788521642,
          -1.6534673532785096,
          -0.6844674533361271,
          -0.663970261541776,
          -0.5308902870055088,
          0.21214042465288566,
          -1.8643795501814426,
          -0.8152441850477709,
          -0.35257944584817613,
          -0.686013216071114,
          -0.450555469087219,
          2.031736816992688,
          0.632173090858601,
          -2.330678444851462,
          -0.21811225780209764,
          -3.1082512153582575,
          -1.0758629386320087,
          -2.213629309758811,
          -1.6442011107109127,
          -3.0020230213221564,
          -0.7042075960756007,
          0.029116395666987892,
          -0.5321341966597646,
          1.0427725385018256,
          -2.3994938372633703,
          -4.109304754571232
         ],
         "yaxis": "y"
        },
        {
         "hovertemplate": "system_name=tum-esm-midcost-raspi-11<br>date=%{x}<br>diff=%{y}<extra></extra>",
         "legendgroup": "tum-esm-midcost-raspi-11",
         "marker": {
          "color": "#19d3f3",
          "symbol": "circle"
         },
         "mode": "markers",
         "name": "tum-esm-midcost-raspi-11",
         "orientation": "v",
         "showlegend": true,
         "type": "scatter",
         "x": [
          "2024-01-12T00:00:00",
          "2024-01-13T00:00:00",
          "2024-01-14T00:00:00",
          "2024-01-15T00:00:00",
          "2024-01-16T00:00:00",
          "2024-01-17T00:00:00",
          "2024-01-18T00:00:00",
          "2024-01-19T00:00:00",
          "2024-01-20T00:00:00",
          "2024-01-21T00:00:00",
          "2024-01-22T00:00:00",
          "2024-01-23T00:00:00",
          "2024-01-24T00:00:00",
          "2024-01-25T00:00:00",
          "2024-01-26T00:00:00",
          "2024-01-27T00:00:00",
          "2024-01-28T00:00:00",
          "2024-01-29T00:00:00",
          "2024-01-30T00:00:00",
          "2024-01-31T00:00:00",
          "2024-02-01T00:00:00",
          "2024-02-02T00:00:00",
          "2024-02-03T00:00:00",
          "2024-02-04T00:00:00",
          "2024-02-05T00:00:00",
          "2024-02-06T00:00:00",
          "2024-02-07T00:00:00",
          "2024-02-08T00:00:00",
          "2024-02-09T00:00:00",
          "2024-02-10T00:00:00",
          "2024-02-11T00:00:00"
         ],
         "xaxis": "x",
         "y": [
          -1.5613232762331577,
          -0.5732388065932991,
          1.109902035162554,
          0.3179353561296822,
          1.1805561914990075,
          0.2634958651659364,
          -0.011814470464949803,
          -0.5116541913157918,
          -0.07241384061896383,
          0.43049133154358393,
          -0.09422969999049598,
          1.2781818809800585,
          -0.03236193253229578,
          1.5162296979954712,
          -0.11199381244500688,
          -0.15746679011885203,
          2.476304647802439,
          0.654675446876851,
          0.6112169782766087,
          0.5736191956831691,
          -0.3479176687255522,
          -0.5473191536528137,
          0.09943079124852501,
          0.0831372888864661,
          -1.9616655149784437,
          0.07598788995057955,
          1.1302209263631176,
          1.3831137439520202,
          3.1976921429786103,
          -0.6222633799480128,
          -4.390029535613763
         ],
         "yaxis": "y"
        },
        {
         "hovertemplate": "system_name=tum-esm-midcost-raspi-12<br>date=%{x}<br>diff=%{y}<extra></extra>",
         "legendgroup": "tum-esm-midcost-raspi-12",
         "marker": {
          "color": "#FF6692",
          "symbol": "circle"
         },
         "mode": "markers",
         "name": "tum-esm-midcost-raspi-12",
         "orientation": "v",
         "showlegend": true,
         "type": "scatter",
         "x": [
          "2023-12-23T00:00:00",
          "2023-12-24T00:00:00",
          "2023-12-25T00:00:00",
          "2023-12-26T00:00:00",
          "2023-12-27T00:00:00",
          "2023-12-28T00:00:00",
          "2023-12-29T00:00:00",
          "2023-12-30T00:00:00",
          "2023-12-31T00:00:00",
          "2024-01-01T00:00:00",
          "2024-01-02T00:00:00",
          "2024-01-03T00:00:00",
          "2024-01-04T00:00:00",
          "2024-01-05T00:00:00",
          "2024-01-06T00:00:00",
          "2024-01-07T00:00:00",
          "2024-01-08T00:00:00",
          "2024-01-09T00:00:00",
          "2024-01-10T00:00:00",
          "2024-01-11T00:00:00",
          "2024-01-13T00:00:00",
          "2024-01-14T00:00:00",
          "2024-01-15T00:00:00",
          "2024-01-16T00:00:00",
          "2024-01-17T00:00:00",
          "2024-01-18T00:00:00",
          "2024-01-19T00:00:00",
          "2024-01-20T00:00:00",
          "2024-01-21T00:00:00",
          "2024-01-22T00:00:00",
          "2024-01-23T00:00:00",
          "2024-01-24T00:00:00",
          "2024-01-25T00:00:00",
          "2024-01-26T00:00:00",
          "2024-01-27T00:00:00",
          "2024-01-28T00:00:00",
          "2024-01-29T00:00:00",
          "2024-01-30T00:00:00",
          "2024-01-31T00:00:00",
          "2024-02-01T00:00:00",
          "2024-02-02T00:00:00",
          "2024-02-03T00:00:00",
          "2024-02-04T00:00:00",
          "2024-02-05T00:00:00",
          "2024-02-06T00:00:00",
          "2024-02-07T00:00:00",
          "2024-02-08T00:00:00",
          "2024-02-09T00:00:00",
          "2024-02-10T00:00:00",
          "2024-02-11T00:00:00"
         ],
         "xaxis": "x",
         "y": [
          0.011340388395786915,
          -0.10897467925794907,
          -0.12326238910915456,
          -0.050925588065130735,
          -2.5637730739564892,
          0.20160246347548919,
          -0.11858574379012796,
          0.06059523441776154,
          -3.070253672342728,
          -0.8626021681325792,
          -1.219424516678317,
          -3.733198666670212,
          1.2641958740040418,
          -0.3297804184246275,
          0.2522378583901529,
          0.34534729093283706,
          -3.120533174666453,
          -1.3865141147982387,
          -0.21026493440136823,
          13.472793966949643,
          -1.1414652378390897,
          -0.5606613224139586,
          0.1960310142643272,
          -2.4939225160184297,
          0.140723500354118,
          -0.19935889241620935,
          0.045987609891741915,
          -0.691804650959851,
          -0.5952600560951659,
          -0.8970730459203603,
          -0.10607488647793707,
          -0.7338010247591996,
          0.8025253087130627,
          -0.2844933586844314,
          -0.7655047625748612,
          -0.2641125340149819,
          -1.0180295392260132,
          -0.5115635455934958,
          -0.5789337912331517,
          -0.3391709921826605,
          0.41261733620598107,
          -2.093399260826708,
          -0.8013114434457903,
          -2.320001070371382,
          -3.0424274618331335,
          0.19183194031107595,
          -0.9278878622656495,
          0.21502496470941423,
          -1.8581999099489777,
          -2.739930483214347
         ],
         "yaxis": "y"
        },
        {
         "hovertemplate": "system_name=tum-esm-midcost-raspi-13<br>date=%{x}<br>diff=%{y}<extra></extra>",
         "legendgroup": "tum-esm-midcost-raspi-13",
         "marker": {
          "color": "#B6E880",
          "symbol": "circle"
         },
         "mode": "markers",
         "name": "tum-esm-midcost-raspi-13",
         "orientation": "v",
         "showlegend": true,
         "type": "scatter",
         "x": [
          "2024-01-12T00:00:00",
          "2024-01-13T00:00:00",
          "2024-01-14T00:00:00",
          "2024-01-15T00:00:00",
          "2024-01-16T00:00:00",
          "2024-01-17T00:00:00",
          "2024-01-18T00:00:00",
          "2024-01-19T00:00:00",
          "2024-01-20T00:00:00",
          "2024-01-21T00:00:00",
          "2024-01-22T00:00:00",
          "2024-01-23T00:00:00",
          "2024-01-24T00:00:00",
          "2024-01-25T00:00:00",
          "2024-01-26T00:00:00",
          "2024-01-27T00:00:00",
          "2024-01-28T00:00:00",
          "2024-01-29T00:00:00",
          "2024-01-30T00:00:00"
         ],
         "xaxis": "x",
         "y": [
          82.95171470595511,
          0.20320347588335608,
          0.4317983303324871,
          0.3488184060122089,
          0.19372722794249572,
          1.147693421101049,
          0.33126189767657793,
          0.5043519562871294,
          -0.728666428321574,
          0.8489013870525743,
          0.7605183709506115,
          0.09575714219192538,
          0.2524231278930797,
          1.5155128136704732,
          0.16634631003347042,
          0.2876476858464366,
          1.3891990796716385,
          0.9799622765346226,
          0.6305302784828885
         ],
         "yaxis": "y"
        },
        {
         "hovertemplate": "system_name=tum-esm-midcost-raspi-16<br>date=%{x}<br>diff=%{y}<extra></extra>",
         "legendgroup": "tum-esm-midcost-raspi-16",
         "marker": {
          "color": "#FF97FF",
          "symbol": "circle"
         },
         "mode": "markers",
         "name": "tum-esm-midcost-raspi-16",
         "orientation": "v",
         "showlegend": true,
         "type": "scatter",
         "x": [
          "2023-12-23T00:00:00",
          "2023-12-24T00:00:00",
          "2023-12-25T00:00:00",
          "2023-12-26T00:00:00",
          "2023-12-27T00:00:00",
          "2023-12-28T00:00:00",
          "2023-12-29T00:00:00",
          "2023-12-30T00:00:00",
          "2023-12-31T00:00:00",
          "2024-01-01T00:00:00",
          "2024-01-02T00:00:00",
          "2024-01-03T00:00:00",
          "2024-01-04T00:00:00",
          "2024-01-05T00:00:00",
          "2024-01-06T00:00:00",
          "2024-01-07T00:00:00",
          "2024-01-08T00:00:00",
          "2024-01-09T00:00:00",
          "2024-01-10T00:00:00",
          "2024-01-12T00:00:00",
          "2024-01-13T00:00:00",
          "2024-01-14T00:00:00",
          "2024-01-15T00:00:00",
          "2024-01-16T00:00:00",
          "2024-01-17T00:00:00",
          "2024-01-18T00:00:00",
          "2024-01-19T00:00:00",
          "2024-01-20T00:00:00",
          "2024-01-21T00:00:00",
          "2024-01-22T00:00:00",
          "2024-01-23T00:00:00",
          "2024-01-24T00:00:00",
          "2024-01-25T00:00:00",
          "2024-01-26T00:00:00",
          "2024-01-27T00:00:00",
          "2024-01-28T00:00:00",
          "2024-01-29T00:00:00",
          "2024-01-30T00:00:00",
          "2024-01-31T00:00:00",
          "2024-02-01T00:00:00",
          "2024-02-02T00:00:00",
          "2024-02-03T00:00:00",
          "2024-02-04T00:00:00",
          "2024-02-05T00:00:00"
         ],
         "xaxis": "x",
         "y": [
          0.629966350506676,
          0.0013523629382196074,
          0.7504101047487322,
          -0.2725106924401884,
          -0.3575774431339206,
          0.30532960197867537,
          0.19453401600024633,
          0.41857076836960855,
          -2.1648456132578193,
          0.5085904636867484,
          -0.6792506637126239,
          -2.538702972062816,
          1.508947441960603,
          0.6921199837930155,
          0.2526260744646276,
          0.7273607572011455,
          -3.183788175305007,
          -1.2761287124856506,
          -0.965847123801159,
          -0.09183764233971307,
          -0.3039415493332068,
          0.3862479966205543,
          0.4932940084665473,
          -1.572986058100577,
          0.3838572303549263,
          -0.3038576547854157,
          0.05901048334236817,
          -0.12826058646856703,
          1.1997691872904144,
          1.0481507334079787,
          0.7442536380889772,
          0.35590975114957113,
          -0.13658708884456636,
          -0.3494397465860032,
          0.5204517562982461,
          16.265005797046385,
          0.5273253931486955,
          -0.1627771975679932,
          0.5172821364523417,
          -1.3529683287045302,
          0.5529281618219589,
          -0.31863917587053764,
          -0.5856267053199952,
          -2.2952357683622675
         ],
         "yaxis": "y"
        },
        {
         "hovertemplate": "system_name=tum-esm-midcost-raspi-18<br>date=%{x}<br>diff=%{y}<extra></extra>",
         "legendgroup": "tum-esm-midcost-raspi-18",
         "marker": {
          "color": "#FECB52",
          "symbol": "circle"
         },
         "mode": "markers",
         "name": "tum-esm-midcost-raspi-18",
         "orientation": "v",
         "showlegend": true,
         "type": "scatter",
         "x": [
          "2023-12-23T00:00:00",
          "2023-12-24T00:00:00",
          "2023-12-25T00:00:00",
          "2023-12-26T00:00:00",
          "2023-12-27T00:00:00",
          "2023-12-28T00:00:00",
          "2023-12-29T00:00:00",
          "2023-12-30T00:00:00",
          "2023-12-31T00:00:00",
          "2024-01-01T00:00:00",
          "2024-01-02T00:00:00",
          "2024-01-03T00:00:00",
          "2024-01-04T00:00:00",
          "2024-01-05T00:00:00",
          "2024-01-06T00:00:00",
          "2024-01-07T00:00:00",
          "2024-01-08T00:00:00",
          "2024-01-09T00:00:00",
          "2024-01-10T00:00:00",
          "2024-01-11T00:00:00",
          "2024-01-12T00:00:00",
          "2024-01-13T00:00:00",
          "2024-01-14T00:00:00",
          "2024-01-15T00:00:00",
          "2024-01-16T00:00:00",
          "2024-01-17T00:00:00",
          "2024-01-18T00:00:00",
          "2024-01-19T00:00:00",
          "2024-01-20T00:00:00",
          "2024-01-21T00:00:00",
          "2024-01-22T00:00:00",
          "2024-01-23T00:00:00",
          "2024-01-24T00:00:00",
          "2024-01-25T00:00:00",
          "2024-01-26T00:00:00",
          "2024-01-27T00:00:00",
          "2024-01-28T00:00:00",
          "2024-01-29T00:00:00",
          "2024-01-30T00:00:00",
          "2024-01-31T00:00:00",
          "2024-02-01T00:00:00",
          "2024-02-02T00:00:00",
          "2024-02-03T00:00:00",
          "2024-02-04T00:00:00",
          "2024-02-05T00:00:00"
         ],
         "xaxis": "x",
         "y": [
          0.055189761739503525,
          -0.3833640273125985,
          0.7746353173594585,
          -0.1318949236663874,
          -0.22731951700526298,
          -0.3103026804166108,
          0.8470005468993952,
          -0.10117883662642864,
          -1.2005668957713582,
          -0.2106270436437891,
          -0.30998531398526274,
          -3.5493054140543,
          1.6943269362309878,
          0.8033784015966463,
          0.03773831773997406,
          0.5305354491700934,
          -0.09652960998746155,
          -0.7024886935329121,
          0.12120355406668622,
          -0.987670490542723,
          -1.3007244313193502,
          -0.5329953050811314,
          -0.36487899599680496,
          0.33173213436650995,
          -1.86099931434822,
          0.5007141029205824,
          0.17104532506619052,
          0.3004573493893426,
          -0.42948213290272186,
          -0.6408982635774899,
          -0.7533448620582119,
          -0.6297749753729681,
          0.11913915580590315,
          0.770681527732054,
          0.8343393791939303,
          11.871614575854592,
          1.5140561418676464,
          -0.8657750509967561,
          0.09050023685066988,
          -0.20269373146317213,
          -0.9940040324821794,
          1.1844419743796328,
          -1.6261730526945695,
          0.1463323564347063,
          -1.6280897374321246
         ],
         "yaxis": "y"
        },
        {
         "hovertemplate": "system_name=tum-esm-midcost-raspi-20<br>date=%{x}<br>diff=%{y}<extra></extra>",
         "legendgroup": "tum-esm-midcost-raspi-20",
         "marker": {
          "color": "#636efa",
          "symbol": "circle"
         },
         "mode": "markers",
         "name": "tum-esm-midcost-raspi-20",
         "orientation": "v",
         "showlegend": true,
         "type": "scatter",
         "x": [
          "2023-12-23T00:00:00",
          "2023-12-24T00:00:00",
          "2023-12-25T00:00:00",
          "2023-12-26T00:00:00",
          "2023-12-27T00:00:00",
          "2023-12-28T00:00:00",
          "2023-12-29T00:00:00",
          "2023-12-30T00:00:00",
          "2023-12-31T00:00:00",
          "2024-01-01T00:00:00",
          "2024-01-02T00:00:00",
          "2024-01-03T00:00:00",
          "2024-01-04T00:00:00",
          "2024-01-05T00:00:00",
          "2024-01-06T00:00:00",
          "2024-01-07T00:00:00",
          "2024-01-08T00:00:00",
          "2024-01-09T00:00:00",
          "2024-01-10T00:00:00",
          "2024-01-11T00:00:00",
          "2024-01-12T00:00:00",
          "2024-01-13T00:00:00",
          "2024-01-14T00:00:00",
          "2024-01-15T00:00:00",
          "2024-01-16T00:00:00",
          "2024-01-17T00:00:00",
          "2024-01-18T00:00:00",
          "2024-01-19T00:00:00",
          "2024-01-20T00:00:00",
          "2024-01-21T00:00:00",
          "2024-01-22T00:00:00",
          "2024-01-23T00:00:00",
          "2024-01-24T00:00:00",
          "2024-01-25T00:00:00",
          "2024-01-26T00:00:00",
          "2024-01-27T00:00:00",
          "2024-01-28T00:00:00",
          "2024-01-29T00:00:00",
          "2024-01-30T00:00:00",
          "2024-01-31T00:00:00",
          "2024-02-01T00:00:00",
          "2024-02-02T00:00:00",
          "2024-02-03T00:00:00",
          "2024-02-04T00:00:00",
          "2024-02-05T00:00:00",
          "2024-02-06T00:00:00",
          "2024-02-07T00:00:00",
          "2024-02-08T00:00:00",
          "2024-02-09T00:00:00",
          "2024-02-10T00:00:00",
          "2024-02-11T00:00:00"
         ],
         "xaxis": "x",
         "y": [
          0.08936021166082186,
          -0.7546348052889292,
          0.623999990234458,
          0.10296105551169027,
          -0.3038826710809513,
          0.04051343768346237,
          -0.5798303407443406,
          0.08625995294709984,
          -3.0143012532062174,
          -0.5253115586912157,
          -1.0294487109459658,
          -2.6194108987578093,
          1.0470277422767353,
          0.13431402351586497,
          1.0437158003770723,
          0.5029051020102615,
          -2.3170337217176376,
          -0.5105373494345169,
          -0.6809415983283276,
          0.8819218324900978,
          -0.07794926289710823,
          -0.12526502166034995,
          -1.509842617835098,
          -0.6349775514319067,
          1.6960362431164588,
          0.25012507976435044,
          0.3477125002220241,
          -1.056966992476458,
          -0.14887183614904592,
          -0.7241612604615528,
          -0.30848610455694103,
          0.5386105880232277,
          0.5174171176828078,
          0.5716837674691241,
          0.5882714895032611,
          -0.41836238239127604,
          1.5514872542136866,
          -0.36819532442733727,
          -0.294190926985259,
          -0.27113414973345745,
          -2.326583257002041,
          -0.4426801631366068,
          -2.1333460122186625,
          -0.5852368945210129,
          -2.333217771162015,
          0.3532022806573823,
          0.4298492839071942,
          -0.06521379508040036,
          1.3883124818613957,
          -1.6431129651943892,
          -2.193292883538185
         ],
         "yaxis": "y"
        }
       ],
       "layout": {
        "legend": {
         "title": {
          "text": "system_name"
         },
         "tracegroupgap": 0
        },
        "template": {
         "data": {
          "bar": [
           {
            "error_x": {
             "color": "#2a3f5f"
            },
            "error_y": {
             "color": "#2a3f5f"
            },
            "marker": {
             "line": {
              "color": "#E5ECF6",
              "width": 0.5
             },
             "pattern": {
              "fillmode": "overlay",
              "size": 10,
              "solidity": 0.2
             }
            },
            "type": "bar"
           }
          ],
          "barpolar": [
           {
            "marker": {
             "line": {
              "color": "#E5ECF6",
              "width": 0.5
             },
             "pattern": {
              "fillmode": "overlay",
              "size": 10,
              "solidity": 0.2
             }
            },
            "type": "barpolar"
           }
          ],
          "carpet": [
           {
            "aaxis": {
             "endlinecolor": "#2a3f5f",
             "gridcolor": "white",
             "linecolor": "white",
             "minorgridcolor": "white",
             "startlinecolor": "#2a3f5f"
            },
            "baxis": {
             "endlinecolor": "#2a3f5f",
             "gridcolor": "white",
             "linecolor": "white",
             "minorgridcolor": "white",
             "startlinecolor": "#2a3f5f"
            },
            "type": "carpet"
           }
          ],
          "choropleth": [
           {
            "colorbar": {
             "outlinewidth": 0,
             "ticks": ""
            },
            "type": "choropleth"
           }
          ],
          "contour": [
           {
            "colorbar": {
             "outlinewidth": 0,
             "ticks": ""
            },
            "colorscale": [
             [
              0,
              "#0d0887"
             ],
             [
              0.1111111111111111,
              "#46039f"
             ],
             [
              0.2222222222222222,
              "#7201a8"
             ],
             [
              0.3333333333333333,
              "#9c179e"
             ],
             [
              0.4444444444444444,
              "#bd3786"
             ],
             [
              0.5555555555555556,
              "#d8576b"
             ],
             [
              0.6666666666666666,
              "#ed7953"
             ],
             [
              0.7777777777777778,
              "#fb9f3a"
             ],
             [
              0.8888888888888888,
              "#fdca26"
             ],
             [
              1,
              "#f0f921"
             ]
            ],
            "type": "contour"
           }
          ],
          "contourcarpet": [
           {
            "colorbar": {
             "outlinewidth": 0,
             "ticks": ""
            },
            "type": "contourcarpet"
           }
          ],
          "heatmap": [
           {
            "colorbar": {
             "outlinewidth": 0,
             "ticks": ""
            },
            "colorscale": [
             [
              0,
              "#0d0887"
             ],
             [
              0.1111111111111111,
              "#46039f"
             ],
             [
              0.2222222222222222,
              "#7201a8"
             ],
             [
              0.3333333333333333,
              "#9c179e"
             ],
             [
              0.4444444444444444,
              "#bd3786"
             ],
             [
              0.5555555555555556,
              "#d8576b"
             ],
             [
              0.6666666666666666,
              "#ed7953"
             ],
             [
              0.7777777777777778,
              "#fb9f3a"
             ],
             [
              0.8888888888888888,
              "#fdca26"
             ],
             [
              1,
              "#f0f921"
             ]
            ],
            "type": "heatmap"
           }
          ],
          "heatmapgl": [
           {
            "colorbar": {
             "outlinewidth": 0,
             "ticks": ""
            },
            "colorscale": [
             [
              0,
              "#0d0887"
             ],
             [
              0.1111111111111111,
              "#46039f"
             ],
             [
              0.2222222222222222,
              "#7201a8"
             ],
             [
              0.3333333333333333,
              "#9c179e"
             ],
             [
              0.4444444444444444,
              "#bd3786"
             ],
             [
              0.5555555555555556,
              "#d8576b"
             ],
             [
              0.6666666666666666,
              "#ed7953"
             ],
             [
              0.7777777777777778,
              "#fb9f3a"
             ],
             [
              0.8888888888888888,
              "#fdca26"
             ],
             [
              1,
              "#f0f921"
             ]
            ],
            "type": "heatmapgl"
           }
          ],
          "histogram": [
           {
            "marker": {
             "pattern": {
              "fillmode": "overlay",
              "size": 10,
              "solidity": 0.2
             }
            },
            "type": "histogram"
           }
          ],
          "histogram2d": [
           {
            "colorbar": {
             "outlinewidth": 0,
             "ticks": ""
            },
            "colorscale": [
             [
              0,
              "#0d0887"
             ],
             [
              0.1111111111111111,
              "#46039f"
             ],
             [
              0.2222222222222222,
              "#7201a8"
             ],
             [
              0.3333333333333333,
              "#9c179e"
             ],
             [
              0.4444444444444444,
              "#bd3786"
             ],
             [
              0.5555555555555556,
              "#d8576b"
             ],
             [
              0.6666666666666666,
              "#ed7953"
             ],
             [
              0.7777777777777778,
              "#fb9f3a"
             ],
             [
              0.8888888888888888,
              "#fdca26"
             ],
             [
              1,
              "#f0f921"
             ]
            ],
            "type": "histogram2d"
           }
          ],
          "histogram2dcontour": [
           {
            "colorbar": {
             "outlinewidth": 0,
             "ticks": ""
            },
            "colorscale": [
             [
              0,
              "#0d0887"
             ],
             [
              0.1111111111111111,
              "#46039f"
             ],
             [
              0.2222222222222222,
              "#7201a8"
             ],
             [
              0.3333333333333333,
              "#9c179e"
             ],
             [
              0.4444444444444444,
              "#bd3786"
             ],
             [
              0.5555555555555556,
              "#d8576b"
             ],
             [
              0.6666666666666666,
              "#ed7953"
             ],
             [
              0.7777777777777778,
              "#fb9f3a"
             ],
             [
              0.8888888888888888,
              "#fdca26"
             ],
             [
              1,
              "#f0f921"
             ]
            ],
            "type": "histogram2dcontour"
           }
          ],
          "mesh3d": [
           {
            "colorbar": {
             "outlinewidth": 0,
             "ticks": ""
            },
            "type": "mesh3d"
           }
          ],
          "parcoords": [
           {
            "line": {
             "colorbar": {
              "outlinewidth": 0,
              "ticks": ""
             }
            },
            "type": "parcoords"
           }
          ],
          "pie": [
           {
            "automargin": true,
            "type": "pie"
           }
          ],
          "scatter": [
           {
            "fillpattern": {
             "fillmode": "overlay",
             "size": 10,
             "solidity": 0.2
            },
            "type": "scatter"
           }
          ],
          "scatter3d": [
           {
            "line": {
             "colorbar": {
              "outlinewidth": 0,
              "ticks": ""
             }
            },
            "marker": {
             "colorbar": {
              "outlinewidth": 0,
              "ticks": ""
             }
            },
            "type": "scatter3d"
           }
          ],
          "scattercarpet": [
           {
            "marker": {
             "colorbar": {
              "outlinewidth": 0,
              "ticks": ""
             }
            },
            "type": "scattercarpet"
           }
          ],
          "scattergeo": [
           {
            "marker": {
             "colorbar": {
              "outlinewidth": 0,
              "ticks": ""
             }
            },
            "type": "scattergeo"
           }
          ],
          "scattergl": [
           {
            "marker": {
             "colorbar": {
              "outlinewidth": 0,
              "ticks": ""
             }
            },
            "type": "scattergl"
           }
          ],
          "scattermapbox": [
           {
            "marker": {
             "colorbar": {
              "outlinewidth": 0,
              "ticks": ""
             }
            },
            "type": "scattermapbox"
           }
          ],
          "scatterpolar": [
           {
            "marker": {
             "colorbar": {
              "outlinewidth": 0,
              "ticks": ""
             }
            },
            "type": "scatterpolar"
           }
          ],
          "scatterpolargl": [
           {
            "marker": {
             "colorbar": {
              "outlinewidth": 0,
              "ticks": ""
             }
            },
            "type": "scatterpolargl"
           }
          ],
          "scatterternary": [
           {
            "marker": {
             "colorbar": {
              "outlinewidth": 0,
              "ticks": ""
             }
            },
            "type": "scatterternary"
           }
          ],
          "surface": [
           {
            "colorbar": {
             "outlinewidth": 0,
             "ticks": ""
            },
            "colorscale": [
             [
              0,
              "#0d0887"
             ],
             [
              0.1111111111111111,
              "#46039f"
             ],
             [
              0.2222222222222222,
              "#7201a8"
             ],
             [
              0.3333333333333333,
              "#9c179e"
             ],
             [
              0.4444444444444444,
              "#bd3786"
             ],
             [
              0.5555555555555556,
              "#d8576b"
             ],
             [
              0.6666666666666666,
              "#ed7953"
             ],
             [
              0.7777777777777778,
              "#fb9f3a"
             ],
             [
              0.8888888888888888,
              "#fdca26"
             ],
             [
              1,
              "#f0f921"
             ]
            ],
            "type": "surface"
           }
          ],
          "table": [
           {
            "cells": {
             "fill": {
              "color": "#EBF0F8"
             },
             "line": {
              "color": "white"
             }
            },
            "header": {
             "fill": {
              "color": "#C8D4E3"
             },
             "line": {
              "color": "white"
             }
            },
            "type": "table"
           }
          ]
         },
         "layout": {
          "annotationdefaults": {
           "arrowcolor": "#2a3f5f",
           "arrowhead": 0,
           "arrowwidth": 1
          },
          "autotypenumbers": "strict",
          "coloraxis": {
           "colorbar": {
            "outlinewidth": 0,
            "ticks": ""
           }
          },
          "colorscale": {
           "diverging": [
            [
             0,
             "#8e0152"
            ],
            [
             0.1,
             "#c51b7d"
            ],
            [
             0.2,
             "#de77ae"
            ],
            [
             0.3,
             "#f1b6da"
            ],
            [
             0.4,
             "#fde0ef"
            ],
            [
             0.5,
             "#f7f7f7"
            ],
            [
             0.6,
             "#e6f5d0"
            ],
            [
             0.7,
             "#b8e186"
            ],
            [
             0.8,
             "#7fbc41"
            ],
            [
             0.9,
             "#4d9221"
            ],
            [
             1,
             "#276419"
            ]
           ],
           "sequential": [
            [
             0,
             "#0d0887"
            ],
            [
             0.1111111111111111,
             "#46039f"
            ],
            [
             0.2222222222222222,
             "#7201a8"
            ],
            [
             0.3333333333333333,
             "#9c179e"
            ],
            [
             0.4444444444444444,
             "#bd3786"
            ],
            [
             0.5555555555555556,
             "#d8576b"
            ],
            [
             0.6666666666666666,
             "#ed7953"
            ],
            [
             0.7777777777777778,
             "#fb9f3a"
            ],
            [
             0.8888888888888888,
             "#fdca26"
            ],
            [
             1,
             "#f0f921"
            ]
           ],
           "sequentialminus": [
            [
             0,
             "#0d0887"
            ],
            [
             0.1111111111111111,
             "#46039f"
            ],
            [
             0.2222222222222222,
             "#7201a8"
            ],
            [
             0.3333333333333333,
             "#9c179e"
            ],
            [
             0.4444444444444444,
             "#bd3786"
            ],
            [
             0.5555555555555556,
             "#d8576b"
            ],
            [
             0.6666666666666666,
             "#ed7953"
            ],
            [
             0.7777777777777778,
             "#fb9f3a"
            ],
            [
             0.8888888888888888,
             "#fdca26"
            ],
            [
             1,
             "#f0f921"
            ]
           ]
          },
          "colorway": [
           "#636efa",
           "#EF553B",
           "#00cc96",
           "#ab63fa",
           "#FFA15A",
           "#19d3f3",
           "#FF6692",
           "#B6E880",
           "#FF97FF",
           "#FECB52"
          ],
          "font": {
           "color": "#2a3f5f"
          },
          "geo": {
           "bgcolor": "white",
           "lakecolor": "white",
           "landcolor": "#E5ECF6",
           "showlakes": true,
           "showland": true,
           "subunitcolor": "white"
          },
          "hoverlabel": {
           "align": "left"
          },
          "hovermode": "closest",
          "mapbox": {
           "style": "light"
          },
          "paper_bgcolor": "white",
          "plot_bgcolor": "#E5ECF6",
          "polar": {
           "angularaxis": {
            "gridcolor": "white",
            "linecolor": "white",
            "ticks": ""
           },
           "bgcolor": "#E5ECF6",
           "radialaxis": {
            "gridcolor": "white",
            "linecolor": "white",
            "ticks": ""
           }
          },
          "scene": {
           "xaxis": {
            "backgroundcolor": "#E5ECF6",
            "gridcolor": "white",
            "gridwidth": 2,
            "linecolor": "white",
            "showbackground": true,
            "ticks": "",
            "zerolinecolor": "white"
           },
           "yaxis": {
            "backgroundcolor": "#E5ECF6",
            "gridcolor": "white",
            "gridwidth": 2,
            "linecolor": "white",
            "showbackground": true,
            "ticks": "",
            "zerolinecolor": "white"
           },
           "zaxis": {
            "backgroundcolor": "#E5ECF6",
            "gridcolor": "white",
            "gridwidth": 2,
            "linecolor": "white",
            "showbackground": true,
            "ticks": "",
            "zerolinecolor": "white"
           }
          },
          "shapedefaults": {
           "line": {
            "color": "#2a3f5f"
           }
          },
          "ternary": {
           "aaxis": {
            "gridcolor": "white",
            "linecolor": "white",
            "ticks": ""
           },
           "baxis": {
            "gridcolor": "white",
            "linecolor": "white",
            "ticks": ""
           },
           "bgcolor": "#E5ECF6",
           "caxis": {
            "gridcolor": "white",
            "linecolor": "white",
            "ticks": ""
           }
          },
          "title": {
           "x": 0.05
          },
          "xaxis": {
           "automargin": true,
           "gridcolor": "white",
           "linecolor": "white",
           "ticks": "",
           "title": {
            "standoff": 15
           },
           "zerolinecolor": "white",
           "zerolinewidth": 2
          },
          "yaxis": {
           "automargin": true,
           "gridcolor": "white",
           "linecolor": "white",
           "ticks": "",
           "title": {
            "standoff": 15
           },
           "zerolinecolor": "white",
           "zerolinewidth": 2
          }
         }
        },
        "title": {
         "text": "Cluster Analysis"
        },
        "xaxis": {
         "anchor": "y",
         "domain": [
          0,
          1
         ],
         "title": {
          "text": "date"
         }
        },
        "yaxis": {
         "anchor": "x",
         "domain": [
          0,
          1
         ],
         "title": {
          "text": "diff"
         }
        }
       }
      }
     },
     "metadata": {},
     "output_type": "display_data"
    }
   ],
   "source": [
    "df_cluster_analysis = pl.concat(calibration_accuracy_masks, how=\"diagonal\")\n",
    "\n",
    "fig = px.scatter(df_cluster_analysis, x=\"date\", y=\"system_name\", title = \"Cluster Analysis\", color=\"calibration_accuracy\")\n",
    "fig.show()\n",
    "\n",
    "fig = px.scatter(df_cluster_analysis, x=\"date\", y=\"diff\", title = \"Cluster Analysis\", color=\"system_name\")\n",
    "fig.show()"
   ]
  },
  {
   "cell_type": "markdown",
   "metadata": {},
   "source": [
    "Let's analyse the dates 31.12, 03.01, 08.01, 28.01, 05.02, 11.02\n",
    "\n",
    "Maintenance dates:\n",
    "\n",
    "12.01 Integration of new calibration bottles 3,6,11,13 + check on already installed bottles\n",
    "\n",
    "05.02 New inlets in the afternoon\n",
    "\n",
    "13.02 (Upgrade inlets 10:30 - 12:00 local time)"
   ]
  },
  {
   "cell_type": "markdown",
   "metadata": {},
   "source": [
    "## Good Day"
   ]
  },
  {
   "cell_type": "code",
   "execution_count": null,
   "metadata": {},
   "outputs": [],
   "source": [
    "start_date = datetime(2024, 1, 21, 00, 00, 00).replace(tzinfo=timezone.utc)\n",
    "end_date = datetime(2024, 1, 21, 23, 59, 59).replace(tzinfo=timezone.utc)\n",
    "\n",
    "system_ids = [3,10,11,12,16,18,20]\n",
    "\n",
    "df_lmu = get_lmu_data(start_time=\"2024-01-21T00-00-00\", end_time= \"2024-01-21T23-59-59\")\n",
    "plot_diff_all_systems(start_date, end_date, system_ids, df_lmu)"
   ]
  },
  {
   "cell_type": "markdown",
   "metadata": {},
   "source": [
    "## Bad Days"
   ]
  },
  {
   "cell_type": "markdown",
   "metadata": {},
   "source": [
    "## 11.02"
   ]
  },
  {
   "cell_type": "code",
   "execution_count": null,
   "metadata": {},
   "outputs": [],
   "source": [
    "start_date = datetime(2024, 2, 11, 00, 00, 00).replace(tzinfo=timezone.utc)\n",
    "end_date = datetime(2024, 2, 11, 23, 59, 59).replace(tzinfo=timezone.utc)\n",
    "\n",
    "system_ids = [3,5,10,11,12,20]\n",
    "\n",
    "df_lmu = get_lmu_data(start_time=\"2024-02-11T00-00-00\", end_time= \"2024-02-11T23-59-59\")\n",
    "plot_diff_all_systems(start_date, end_date, system_ids, df_lmu)\n"
   ]
  },
  {
   "cell_type": "markdown",
   "metadata": {},
   "source": [
    "## 5.02"
   ]
  },
  {
   "cell_type": "code",
   "execution_count": null,
   "metadata": {},
   "outputs": [],
   "source": [
    "start_date = datetime(2024, 2, 5, 00, 00, 00).replace(tzinfo=timezone.utc)\n",
    "end_date = datetime(2024, 2, 5, 23, 59, 59).replace(tzinfo=timezone.utc)\n",
    "\n",
    "system_ids = [3,10,11,12,16,18,20]\n",
    "\n",
    "df_lmu = get_lmu_data(start_time=\"2024-02-05T00-00-00\", end_time= \"2024-02-05T23-59-59\")\n",
    "plot_diff_all_systems(start_date, end_date, system_ids, df_lmu)\n"
   ]
  },
  {
   "cell_type": "markdown",
   "metadata": {},
   "source": [
    "## 28.01"
   ]
  },
  {
   "cell_type": "code",
   "execution_count": null,
   "metadata": {},
   "outputs": [],
   "source": [
    "start_date = datetime(2024, 1, 28, 0, 0, 0).replace(tzinfo=timezone.utc)\n",
    "end_date = datetime(2024, 1, 28, 23, 59, 59).replace(tzinfo=timezone.utc)\n",
    "\n",
    "system_ids = [10,11,13,16,18,20]\n",
    "\n",
    "df_lmu = get_lmu_data(start_time=\"2024-01-28T00-00-00\", end_time= \"2024-01-28T23-59-59\")\n",
    "plot_diff_all_systems(start_date, end_date, system_ids, df_lmu)"
   ]
  },
  {
   "cell_type": "markdown",
   "metadata": {},
   "source": [
    "## 8.01"
   ]
  },
  {
   "cell_type": "code",
   "execution_count": null,
   "metadata": {},
   "outputs": [],
   "source": [
    "start_date = datetime(2024, 1, 8, 0, 0, 0).replace(tzinfo=timezone.utc)\n",
    "end_date = datetime(2024, 1, 8, 23, 59, 59).replace(tzinfo=timezone.utc)\n",
    "\n",
    "system_ids = [12,16,20]\n",
    "\n",
    "df_lmu = get_lmu_data(start_time=\"2024-01-8T00-00-00\", end_time= \"2024-01-8T23-59-59\")\n",
    "plot_diff_all_systems(start_date, end_date, system_ids, df_lmu)"
   ]
  },
  {
   "cell_type": "markdown",
   "metadata": {},
   "source": [
    "## 03.01"
   ]
  },
  {
   "cell_type": "code",
   "execution_count": null,
   "metadata": {},
   "outputs": [],
   "source": [
    "start_date = datetime(2024, 1, 3, 0, 0, 0).replace(tzinfo=timezone.utc)\n",
    "end_date = datetime(2024, 1, 3, 23, 59, 59).replace(tzinfo=timezone.utc)\n",
    "\n",
    "system_ids = [12,16,18,20]\n",
    "\n",
    "df_lmu = get_lmu_data(start_time=\"2024-01-03T00-00-00\", end_time= \"2024-01-03T23-59-59\")\n",
    "plot_diff_all_systems(start_date, end_date, system_ids, df_lmu)"
   ]
  },
  {
   "cell_type": "markdown",
   "metadata": {},
   "source": [
    "## 31.12"
   ]
  },
  {
   "cell_type": "code",
   "execution_count": null,
   "metadata": {},
   "outputs": [],
   "source": [
    "start_date = datetime(2023, 12, 31, 0, 0, 0).replace(tzinfo=timezone.utc)\n",
    "end_date = datetime(2023, 12, 31, 23, 59, 59).replace(tzinfo=timezone.utc)\n",
    "\n",
    "system_ids = [12,16,18,20]\n",
    "\n",
    "df_lmu = get_lmu_data(start_time=\"2023-12-31T00-00-00\", end_time= \"2023-12-31T23-59-59\")\n",
    "plot_diff_all_systems(start_date, end_date, system_ids, df_lmu)"
   ]
  }
 ],
 "metadata": {
  "kernelspec": {
   "display_name": ".venv",
   "language": "python",
   "name": "python3"
  },
  "language_info": {
   "codemirror_mode": {
    "name": "ipython",
    "version": 3
   },
   "file_extension": ".py",
   "mimetype": "text/x-python",
   "name": "python",
   "nbconvert_exporter": "python",
   "pygments_lexer": "ipython3",
   "version": "3.11.6"
  }
 },
 "nbformat": 4,
 "nbformat_minor": 2
}
