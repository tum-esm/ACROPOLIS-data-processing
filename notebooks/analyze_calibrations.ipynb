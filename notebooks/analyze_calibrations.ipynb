{
 "cells": [
  {
   "cell_type": "code",
   "execution_count": null,
   "metadata": {},
   "outputs": [],
   "source": [
    "import os\n",
    "import glob\n",
    "from datetime import datetime\n",
    "from datetime import timezone\n",
    "import polars as pl\n",
    "import polars.selectors as cs\n",
    "import plotly.express as px\n",
    "from plotly.subplots import make_subplots\n",
    "import plotly.graph_objects as go\n",
    "from utils.plot_data import plot_sensor_measurement\n",
    "from lmu_meteo_api import interface\n",
    "\n",
    "DATA_DIRECTORY = os.environ.get(\"DATA_DIRECTORY\")\n",
    "PICARRO_DATA_DIRECTORy = os.environ.get(\"PICARRO_DATA_DIRECTORY\")"
   ]
  },
  {
   "cell_type": "code",
   "execution_count": null,
   "metadata": {},
   "outputs": [],
   "source": [
    "# raw measurement data\n",
    "df_raw = pl.scan_parquet(os.path.join(DATA_DIRECTORY, \"download\", \"acropolis.parquet\"))\n",
    "\n",
    "# water corrected measurement data\n",
    "df_dry = pl.scan_parquet(os.path.join(DATA_DIRECTORY, \"processed\", \"acropolis_dry.parquet\"))\n",
    "\n",
    "# slope and intercept data derived from calibrations\n",
    "df_cal = pl.scan_parquet(os.path.join(DATA_DIRECTORY, \"processed\", \"slope_intercept_acropolis.parquet\")) \\\n",
    "    .with_columns((pl.col(\"creation_timestamp\").dt.timestamp(\"ms\") / 3.6e6).alias(\"timestamp\")) #3.6e6 ms are in 1h\n",
    "    \n",
    "# 10m preprocessed picarro data\n",
    "df_p_10m = pl.read_parquet(os.path.join(DATA_DIRECTORY,\"processed\", \"10m_cal_corr_picarro.parquet\"))\n",
    "\n",
    "calibration_accuracy_masks = []"
   ]
  },
  {
   "cell_type": "code",
   "execution_count": null,
   "metadata": {},
   "outputs": [],
   "source": [
    "def analyse_system(id, start_date, end_date):\n",
    "    \n",
    "    df_cal_temp = df_cal.filter(pl.col(\"creation_timestamp\").is_between(start_date, end_date)) \\\n",
    "        .filter(pl.col(\"system_name\") == f\"tum-esm-midcost-raspi-{id}\") \\\n",
    "        .collect()\n",
    "\n",
    "    # calculate calibration corrected dataset\n",
    "    df_cal_corr = df_dry.filter(pl.col(\"gmp343_dry\") > 0) \\\n",
    "        .filter(pl.col(\"creation_timestamp\").is_between(start_date, end_date))  \\\n",
    "        .with_columns(pl.col(\"creation_timestamp\").dt.date().alias(\"date\")) \\\n",
    "        .collect() \\\n",
    "        .join(df_cal_temp, on = [\"date\",\"system_name\"], how= \"left\") \\\n",
    "        .filter(pl.col(\"system_name\") == f\"tum-esm-midcost-raspi-{id}\") \\\n",
    "        .fill_null(strategy = \"forward\") \\\n",
    "        .fill_null(strategy = \"backward\") \\\n",
    "        .with_columns(((pl.col(\"gmp343_dry\")) * pl.col(\"slope\") + pl.col(\"intercept\")) \\\n",
    "        .alias(\"CO2_corr\")) \\\n",
    "        .sort(\"creation_timestamp\") \\\n",
    "        .groupby_dynamic(\"creation_timestamp\", every='10m')  \\\n",
    "        .agg([\n",
    "            pl.all().exclude([\"creation_timestamp\",\"system_name\"]).mean(),\n",
    "            pl.col(\"system_name\")\n",
    "            ]) \\\n",
    "        .with_columns(pl.col(\"system_name\").list.last()) \\\n",
    "\n",
    "        \n",
    "    # calculate the difference to the picarro\n",
    "    df_cal_corr = df_cal_corr.join(df_p_10m.select(\"creation_timestamp\", \"CO2_corr\") \\\n",
    "        .rename({\"CO2_corr\": \"temp\"}), on=\"creation_timestamp\", how= \"left\") \\\n",
    "        .with_columns((pl.col(\"CO2_corr\") - pl.col(\"temp\")).alias(\"diff\")) \\\n",
    "        .drop(\"temp\")\n",
    "                \n",
    "    # quantify the performance based on the calibration      \n",
    "    df_cal_corr = df_cal_corr.groupby_dynamic(\"creation_timestamp\", every='1d')  \\\n",
    "        .agg([\n",
    "            pl.all().exclude([\"creation_timestamp\",\"system_name\"]).mean()\n",
    "            ]) \\\n",
    "    .with_columns(((pl.col(\"diff\") < 1.3) & (pl.col(\"diff\") > -1.3)).alias(\"calibration_accuracy\"))\n",
    "\n",
    "    # plot results from before\n",
    "    fig = px.scatter(df_cal_corr, x=\"creation_timestamp\", y=\"diff\", title = \"Difference System - Picarro\", color=\"calibration_accuracy\")\n",
    "    fig.show()\n",
    "    \n",
    "    #--------------\n",
    "\n",
    "    # extraxt for date and calibration accuracy information\n",
    "    df_cal_acc = df_cal_corr.with_columns(pl.col(\"creation_timestamp\").dt.date().alias(\"date\")) \\\n",
    "        .select(\"date\",\"calibration_accuracy\", \"diff\")\n",
    "\n",
    "    # join calibration accuracy into df_cal matched on date\n",
    "    df_cal_temp = df_cal_temp.join(df_cal_acc, on = [\"date\"], how= \"left\")\n",
    "\n",
    "    fig = px.scatter(df_cal_temp, x=\"creation_timestamp\", y=\"slope\", title = \"Slope\", color=\"calibration_accuracy\")\n",
    "    fig.show()\n",
    "\n",
    "    fig = px.scatter(df_cal_temp, x=\"creation_timestamp\", y=\"intercept\", title = \"Intercept\", color=\"calibration_accuracy\")\n",
    "    fig.show()\n",
    "    \n",
    "    #--------------\n",
    "\n",
    "    # selected calibration periods from raw auxialliary measurement data\n",
    "    df_raw_temp = df_raw.select(cs.starts_with(\"cal_\"), \"creation_timestamp\", \"system_name\")  \\\n",
    "        .filter(pl.col(\"creation_timestamp\").is_between(start_date, end_date))  \\\n",
    "        .filter(pl.col(\"cal_bottle_id\") > 0) \\\n",
    "        .collect() \\\n",
    "        .filter(pl.col(\"creation_timestamp\").is_between(start_date, end_date)) \\\n",
    "        .filter(pl.col(\"system_name\") == f\"tum-esm-midcost-raspi-{id}\") \\\n",
    "        .sort(\"creation_timestamp\")  \\\n",
    "        .with_columns(pl.col(\"creation_timestamp\").dt.date().alias(\"date\"))  \\\n",
    "\n",
    "\n",
    "    # select the first timestamp of each calibration procedure\n",
    "    df_calibration_start = df_raw_temp.select(\"creation_timestamp\", \"date\") \\\n",
    "        .sort(pl.col(\"creation_timestamp\")) \\\n",
    "        .groupby(\"date\").first()\n",
    "\n",
    "    # normalize all calibrations to start at same time\n",
    "    df_raw_temp = df_raw_temp.join(df_calibration_start, on = [\"date\"], how= \"left\") \\\n",
    "        .with_columns((pl.col(\"creation_timestamp\") - pl.col(\"creation_timestamp_right\")).alias(\"time_since_calibration_start\")) \\\n",
    "        .with_columns((datetime(1970, 1, 1, 0, 0, 0) + pl.col(\"time_since_calibration_start\")).alias(\"normalised_time\"))\n",
    "\n",
    "    # join calibration accuracy into df_raw_temp matched on date\n",
    "    df_raw_temp = df_raw_temp.join(df_cal_acc, on = [\"date\"], how= \"left\")  \\\n",
    "\n",
    "    fig = px.scatter(df_raw_temp, x=\"normalised_time\", y=\"cal_sht45_humidity\", title = \"SHT45 Calibration Humidity\", color=\"calibration_accuracy\")\n",
    "    fig.show()\n",
    "\n",
    "    fig = px.scatter(df_raw_temp, x=\"normalised_time\", y=\"cal_bme280_pressure\", title = \"BME280 Calibration Pressure\", color=\"calibration_accuracy\")\n",
    "    fig.show()\n",
    "\n",
    "    fig = px.scatter(df_raw_temp, x=\"normalised_time\", y=\"cal_gmp343_temperature\", title = \"GMP343 Calibration Temperature\", color=\"calibration_accuracy\")\n",
    "    fig.show()\n",
    "\n",
    "    fig = px.scatter(df_raw_temp, x=\"normalised_time\", y=\"cal_gmp343_filtered\", title = \"GMP343 Filtered Measurement Output\", color=\"calibration_accuracy\")\n",
    "    fig.show()\n",
    "    \n",
    "    return df_cal_temp.select(\"date\", \"system_name\", \"calibration_accuracy\", \"diff\")"
   ]
  },
  {
   "cell_type": "markdown",
   "metadata": {},
   "source": [
    "## System 1"
   ]
  },
  {
   "cell_type": "code",
   "execution_count": null,
   "metadata": {},
   "outputs": [],
   "source": [
    "start_date = datetime(2024, 2, 7, 0, 0, 0).replace(tzinfo=timezone.utc)\n",
    "end_date = datetime(2024, 2, 18, 23, 59, 59).replace(tzinfo=timezone.utc)\n",
    "\n",
    "df = analyse_system(1, start_date, end_date)\n",
    "calibration_accuracy_masks.append(df)"
   ]
  },
  {
   "cell_type": "markdown",
   "metadata": {},
   "source": [
    "## System 3"
   ]
  },
  {
   "cell_type": "code",
   "execution_count": null,
   "metadata": {},
   "outputs": [],
   "source": [
    "start_date = datetime(2024, 1, 12, 0, 0, 0).replace(tzinfo=timezone.utc)\n",
    "end_date = datetime(2024, 2, 18, 23, 59, 59).replace(tzinfo=timezone.utc)\n",
    "\n",
    "df = analyse_system(3, start_date, end_date)\n",
    "calibration_accuracy_masks.append(df)"
   ]
  },
  {
   "cell_type": "markdown",
   "metadata": {},
   "source": [
    "## System 4"
   ]
  },
  {
   "cell_type": "code",
   "execution_count": null,
   "metadata": {},
   "outputs": [],
   "source": [
    "start_date = datetime(2024, 2, 12, 0, 0, 0).replace(tzinfo=timezone.utc)\n",
    "end_date = datetime(2024, 2, 18, 23, 59, 59).replace(tzinfo=timezone.utc)\n",
    "\n",
    "df = analyse_system(4, start_date, end_date)\n",
    "calibration_accuracy_masks.append(df)"
   ]
  },
  {
   "cell_type": "markdown",
   "metadata": {},
   "source": [
    "## System 5"
   ]
  },
  {
   "cell_type": "code",
   "execution_count": null,
   "metadata": {},
   "outputs": [],
   "source": [
    "start_date = datetime(2024, 2, 6, 0, 0, 0).replace(tzinfo=timezone.utc)\n",
    "end_date = datetime(2024, 2, 18, 23, 59, 59).replace(tzinfo=timezone.utc)\n",
    "\n",
    "df = analyse_system(5, start_date, end_date)\n",
    "calibration_accuracy_masks.append(df)"
   ]
  },
  {
   "cell_type": "markdown",
   "metadata": {},
   "source": [
    "## System 6"
   ]
  },
  {
   "cell_type": "code",
   "execution_count": null,
   "metadata": {},
   "outputs": [],
   "source": [
    "start_date = datetime(2024, 2, 20, 0, 0, 0).replace(tzinfo=timezone.utc)\n",
    "end_date = datetime(2024, 3, 6, 23, 59, 59).replace(tzinfo=timezone.utc) # maintenance on 19.02\n",
    "\n",
    "df = analyse_system(6,start_date, end_date)\n",
    "#calibration_accuracy_masks.append(df)"
   ]
  },
  {
   "cell_type": "markdown",
   "metadata": {},
   "source": [
    "## System 8"
   ]
  },
  {
   "cell_type": "code",
   "execution_count": null,
   "metadata": {},
   "outputs": [],
   "source": [
    "start_date = datetime(2024, 2, 13, 0, 0, 0).replace(tzinfo=timezone.utc)\n",
    "end_date = datetime(2024, 2, 18, 23, 59, 59).replace(tzinfo=timezone.utc)\n",
    "\n",
    "df = analyse_system(8, start_date, end_date)\n",
    "calibration_accuracy_masks.append(df)"
   ]
  },
  {
   "cell_type": "markdown",
   "metadata": {},
   "source": [
    "## System 9"
   ]
  },
  {
   "cell_type": "code",
   "execution_count": null,
   "metadata": {},
   "outputs": [],
   "source": [
    "start_date = datetime(2024, 2, 12, 0, 0, 0).replace(tzinfo=timezone.utc)\n",
    "end_date = datetime(2024, 2, 18, 23, 59, 59).replace(tzinfo=timezone.utc)\n",
    "\n",
    "df = analyse_system(9, start_date, end_date)\n",
    "calibration_accuracy_masks.append(df)"
   ]
  },
  {
   "cell_type": "markdown",
   "metadata": {},
   "source": [
    "## System 10"
   ]
  },
  {
   "cell_type": "code",
   "execution_count": null,
   "metadata": {},
   "outputs": [],
   "source": [
    "start_date = datetime(2024, 1, 12, 0, 0, 0).replace(tzinfo=timezone.utc)\n",
    "end_date = datetime(2024, 2, 18, 23, 59, 59).replace(tzinfo=timezone.utc)\n",
    "\n",
    "df = analyse_system(10, start_date, end_date)\n",
    "calibration_accuracy_masks.append(df)"
   ]
  },
  {
   "cell_type": "markdown",
   "metadata": {},
   "source": [
    "## System 11"
   ]
  },
  {
   "cell_type": "code",
   "execution_count": null,
   "metadata": {},
   "outputs": [],
   "source": [
    "start_date = datetime(2024, 1, 12, 0, 0, 0).replace(tzinfo=timezone.utc)\n",
    "end_date = datetime(2024, 2, 18, 23, 59, 59).replace(tzinfo=timezone.utc)\n",
    "\n",
    "df = analyse_system(11, start_date, end_date)\n",
    "calibration_accuracy_masks.append(df)"
   ]
  },
  {
   "cell_type": "markdown",
   "metadata": {},
   "source": [
    "# System 12"
   ]
  },
  {
   "cell_type": "code",
   "execution_count": null,
   "metadata": {},
   "outputs": [],
   "source": [
    "id = 12\n",
    "\n",
    "start_date = datetime(2023, 12, 23, 0, 0, 0).replace(tzinfo=timezone.utc)\n",
    "end_date = datetime(2024, 2, 11, 23, 59, 59).replace(tzinfo=timezone.utc) # in the field\n",
    "\n",
    "df = analyse_system(12, start_date, end_date)\n",
    "calibration_accuracy_masks.append(df)"
   ]
  },
  {
   "cell_type": "markdown",
   "metadata": {},
   "source": [
    "## System 13"
   ]
  },
  {
   "cell_type": "code",
   "execution_count": null,
   "metadata": {},
   "outputs": [],
   "source": [
    "start_date = datetime(2024, 1, 12, 0, 0, 0).replace(tzinfo=timezone.utc)\n",
    "end_date = datetime(2024, 2, 18, 23, 59, 59).replace(tzinfo=timezone.utc) # in the field\n",
    "\n",
    "df = analyse_system(13, start_date, end_date)\n",
    "calibration_accuracy_masks.append(df)"
   ]
  },
  {
   "cell_type": "markdown",
   "metadata": {},
   "source": [
    "## System 16"
   ]
  },
  {
   "cell_type": "code",
   "execution_count": null,
   "metadata": {},
   "outputs": [],
   "source": [
    "start_date = datetime(2023, 12, 23, 0, 0, 0).replace(tzinfo=timezone.utc)\n",
    "end_date = datetime(2024, 2, 5, 23, 59, 59).replace(tzinfo=timezone.utc) # in the field\n",
    "\n",
    "df = analyse_system(16, start_date, end_date)\n",
    "calibration_accuracy_masks.append(df)"
   ]
  },
  {
   "cell_type": "markdown",
   "metadata": {},
   "source": [
    "## System 18"
   ]
  },
  {
   "cell_type": "code",
   "execution_count": null,
   "metadata": {},
   "outputs": [],
   "source": [
    "id = 18\n",
    "\n",
    "start_date = datetime(2023, 12, 23, 0, 0, 0).replace(tzinfo=timezone.utc)\n",
    "end_date = datetime(2024, 2, 5, 23, 59, 59).replace(tzinfo=timezone.utc) # in the field\n",
    "\n",
    "df = analyse_system(18, start_date, end_date)\n",
    "calibration_accuracy_masks.append(df)"
   ]
  },
  {
   "cell_type": "markdown",
   "metadata": {},
   "source": [
    "## System 20"
   ]
  },
  {
   "cell_type": "code",
   "execution_count": null,
   "metadata": {},
   "outputs": [],
   "source": [
    "start_date = datetime(2023, 12, 23, 0, 0, 0).replace(tzinfo=timezone.utc)\n",
    "end_date = datetime(2024, 2, 11, 23, 59, 59).replace(tzinfo=timezone.utc) # in the field\n",
    "\n",
    "df = analyse_system(20, start_date, end_date)\n",
    "calibration_accuracy_masks.append(df)"
   ]
  },
  {
   "cell_type": "markdown",
   "metadata": {},
   "source": [
    "# Cluster Analysis"
   ]
  },
  {
   "cell_type": "code",
   "execution_count": null,
   "metadata": {},
   "outputs": [],
   "source": [
    "def get_lmu_data(start_time=\"2024-01-01T00-00-00\", end_time= \"2024-01-02T00-00-00\", station_id = 'MIM01'):\n",
    "\n",
    "    parameters = [\n",
    "        \"air_temperature_2m\",\n",
    "        \"air_temperature_30m\",\n",
    "        \"relative_humidity_2m\",\n",
    "        \"relative_humidity_30m\",\n",
    "        'wind_speed_30m', \n",
    "        'wind_from_direction_30m',\n",
    "        \"air_pressure\"]\n",
    "\n",
    "    # download from the API\n",
    "    lmu_api = interface.meteo_data()\n",
    "    data = lmu_api.get_meteo_data(parameters=parameters, \n",
    "                                station_id= station_id, \n",
    "                                start_time=start_time, \n",
    "                                end_time=end_time)\n",
    "    \n",
    "    df_lmu = pl.from_pandas(data, include_index = True) \\\n",
    "    .rename({\"time\": \"creation_timestamp\"}) \\\n",
    "    .with_columns(pl.col(\"creation_timestamp\").dt.cast_time_unit(\"us\").dt.replace_time_zone(\"UTC\")) \\\n",
    "    .with_columns(pl.col(\"air_temperature_30m\") -273.15) \\\n",
    "    .with_columns(pl.col(\"air_temperature_2m\") -273.15)  \\\n",
    "    .with_columns(pl.col(\"air_pressure\") / 100)  \\\n",
    "    .rename({\"air_temperature_30m\": \"temperature\", \"relative_humidity_30m\": \"humidity\", \"air_pressure\": \"pressure\"}) \\\n",
    "    .with_columns(\n",
    "            pl.lit(f\"lmu meteo\").alias(\"system_name\")\n",
    "        )\n",
    "        \n",
    "    return df_lmu"
   ]
  },
  {
   "cell_type": "code",
   "execution_count": null,
   "metadata": {},
   "outputs": [],
   "source": [
    "def plot_diff_all_systems(start_date, end_date, system_ids, df_lmu):\n",
    "\n",
    "    df_plots = []\n",
    "\n",
    "    for id in system_ids:\n",
    "        df_cal_temp = df_cal.filter(pl.col(\"creation_timestamp\").is_between(start_date, end_date)) \\\n",
    "                .filter(pl.col(\"system_name\") == f\"tum-esm-midcost-raspi-{id}\") \\\n",
    "                .collect()\n",
    "\n",
    "        # calculate calibration corrected dataset\n",
    "        df_cal_corr = df_dry.filter(pl.col(\"gmp343_dry\") > 0) \\\n",
    "            .filter(pl.col(\"creation_timestamp\").is_between(start_date, end_date))  \\\n",
    "            .with_columns(pl.col(\"creation_timestamp\").dt.date().alias(\"date\")) \\\n",
    "            .collect() \\\n",
    "            .join(df_cal_temp, on = [\"date\",\"system_name\"], how= \"left\") \\\n",
    "            .filter(pl.col(\"system_name\") == f\"tum-esm-midcost-raspi-{id}\") \\\n",
    "            .fill_null(strategy = \"forward\") \\\n",
    "            .fill_null(strategy = \"backward\") \\\n",
    "            .with_columns(((pl.col(\"gmp343_dry\")) * pl.col(\"slope\") + pl.col(\"intercept\")) \\\n",
    "            .alias(\"CO2_corr\")) \\\n",
    "            .sort(\"creation_timestamp\") \\\n",
    "            .groupby_dynamic(\"creation_timestamp\", every='10m')  \\\n",
    "            .agg([\n",
    "                pl.all().exclude([\"creation_timestamp\",\"system_name\"]).mean(),\n",
    "                pl.col(\"system_name\"),\n",
    "                ]) \n",
    "            \n",
    "        # calculate the difference to the picarro\n",
    "        df_cal_corr = df_cal_corr.join(df_p_10m.select(\"creation_timestamp\", \"CO2_corr\") \\\n",
    "            .rename({\"CO2_corr\": \"temp\"}), on=\"creation_timestamp\", how= \"left\") \\\n",
    "            .with_columns((pl.col(\"CO2_corr\") - pl.col(\"temp\")).alias(\"diff\")) \\\n",
    "            .drop(\"temp\")\n",
    "                        \n",
    "        # quantify the performance based on the calibration      \n",
    "        df_cal_corr = df_cal_corr.groupby_dynamic(\"creation_timestamp\", every='10m')  \\\n",
    "            .agg([\n",
    "                pl.all().exclude([\"creation_timestamp\",\"system_name\"]).mean()\n",
    "                ]) \\\n",
    "        .with_columns(((pl.col(\"diff\") < 1.3) & (pl.col(\"diff\") > -1.3)).alias(\"calibration_accuracy\")) \\\n",
    "        .with_columns(pl.lit(f\"system-{id}\").alias(\"system_name\"))\n",
    "        \n",
    "        df_plots.append(df_cal_corr)\n",
    "\n",
    "    df_plot = pl.concat(df_plots, how=\"diagonal\")   \\\n",
    "        .rename({\"gmp343_temperature\": \"temperature\", \"sht45_humidity\": \"humidity\", \"bme280_pressure\": \"pressure\"})\n",
    "\n",
    "    # plot results from before\n",
    "    fig = px.line(df_plot, x=\"creation_timestamp\", y=\"diff\", color=\"system_name\", title = \"Difference System - Picarro\")\n",
    "    fig.show()\n",
    "    \n",
    "    df_plot = pl.concat([df_lmu, df_plot], how=\"diagonal\")\n",
    "    \n",
    "    fig = px.scatter(df_plot, x=\"creation_timestamp\", y=\"pressure\",  color=\"system_name\" )\n",
    "    fig.show()\n",
    "    fig = px.scatter(df_plot, x=\"creation_timestamp\", y=\"humidity\",  color=\"system_name\" )\n",
    "    fig.show()\n",
    "    fig = px.scatter(df_plot, x=\"creation_timestamp\", y=\"temperature\", color=\"system_name\" )\n",
    "    fig.show()\n",
    "    \n",
    "    "
   ]
  },
  {
   "cell_type": "code",
   "execution_count": null,
   "metadata": {},
   "outputs": [],
   "source": [
    "df_cluster_analysis = pl.concat(calibration_accuracy_masks, how=\"diagonal\")\n",
    "\n",
    "fig = px.scatter(df_cluster_analysis, x=\"date\", y=\"system_name\", title = \"Cluster Analysis\", color=\"calibration_accuracy\")\n",
    "fig.show()\n",
    "\n",
    "fig = px.scatter(df_cluster_analysis, x=\"date\", y=\"diff\", title = \"Cluster Analysis\", color=\"system_name\")\n",
    "fig.show()"
   ]
  },
  {
   "cell_type": "markdown",
   "metadata": {},
   "source": [
    "Let's analyse the dates 31.12, 03.01, 08.01, 28.01, 05.02, 11.02\n",
    "\n",
    "Maintenance dates:\n",
    "\n",
    "12.01 Integration of new calibration bottles 3,6,11,13 + check on already installed bottles\n",
    "\n",
    "05.02 New inlets in the afternoon\n",
    "\n",
    "13.02 (Upgrade inlets 10:30 - 12:00 local time)"
   ]
  },
  {
   "cell_type": "markdown",
   "metadata": {},
   "source": [
    "## Good Day"
   ]
  },
  {
   "cell_type": "code",
   "execution_count": null,
   "metadata": {},
   "outputs": [],
   "source": [
    "start_date = datetime(2024, 1, 21, 00, 00, 00).replace(tzinfo=timezone.utc)\n",
    "end_date = datetime(2024, 1, 21, 23, 59, 59).replace(tzinfo=timezone.utc)\n",
    "\n",
    "system_ids = [3,10,11,12,16,18,20]\n",
    "\n",
    "df_lmu = get_lmu_data(start_time=\"2024-01-21T00-00-00\", end_time= \"2024-01-21T23-59-59\")\n",
    "plot_diff_all_systems(start_date, end_date, system_ids, df_lmu)"
   ]
  },
  {
   "cell_type": "markdown",
   "metadata": {},
   "source": [
    "## Bad Days"
   ]
  },
  {
   "cell_type": "code",
   "execution_count": null,
   "metadata": {},
   "outputs": [],
   "source": [
    "start_date = datetime(2024, 2, 11, 00, 00, 00).replace(tzinfo=timezone.utc)\n",
    "end_date = datetime(2024, 2, 11, 23, 59, 59).replace(tzinfo=timezone.utc)\n",
    "\n",
    "system_ids = [3,5,10,11,12,20]\n",
    "\n",
    "df_lmu = get_lmu_data(start_time=\"2024-02-11T00-00-00\", end_time= \"2024-02-11T23-59-59\")\n",
    "plot_diff_all_systems(start_date, end_date, system_ids, df_lmu)"
   ]
  },
  {
   "cell_type": "markdown",
   "metadata": {},
   "source": [
    "## 11.02"
   ]
  },
  {
   "cell_type": "code",
   "execution_count": null,
   "metadata": {},
   "outputs": [],
   "source": [
    "start_date = datetime(2024, 2, 11, 00, 00, 00).replace(tzinfo=timezone.utc)\n",
    "end_date = datetime(2024, 2, 11, 23, 59, 59).replace(tzinfo=timezone.utc)\n",
    "\n",
    "system_ids = [1,3,5,10,11,12,20]\n",
    "\n",
    "df_lmu = get_lmu_data(start_time=\"2024-02-11T00-00-00\", end_time= \"2024-02-11T23-59-59\")\n",
    "plot_diff_all_systems(start_date, end_date, system_ids, df_lmu)\n"
   ]
  },
  {
   "cell_type": "markdown",
   "metadata": {},
   "source": [
    "## 10.02"
   ]
  },
  {
   "cell_type": "code",
   "execution_count": null,
   "metadata": {},
   "outputs": [],
   "source": [
    "start_date = datetime(2024, 2, 10, 00, 00, 00).replace(tzinfo=timezone.utc)\n",
    "end_date = datetime(2024, 2, 10, 23, 59, 59).replace(tzinfo=timezone.utc)\n",
    "\n",
    "system_ids = [1,3,5,10,11,12,20]\n",
    "\n",
    "df_lmu = get_lmu_data(start_time=\"2024-02-10T00-00-00\", end_time= \"2024-02-10T23-59-59\")\n",
    "plot_diff_all_systems(start_date, end_date, system_ids, df_lmu)"
   ]
  },
  {
   "cell_type": "markdown",
   "metadata": {},
   "source": [
    "## 5.02"
   ]
  },
  {
   "cell_type": "code",
   "execution_count": null,
   "metadata": {},
   "outputs": [],
   "source": [
    "start_date = datetime(2024, 2, 5, 00, 00, 00).replace(tzinfo=timezone.utc)\n",
    "end_date = datetime(2024, 2, 5, 23, 59, 59).replace(tzinfo=timezone.utc)\n",
    "\n",
    "system_ids = [3,10,11,12,16,18,20]\n",
    "\n",
    "df_lmu = get_lmu_data(start_time=\"2024-02-05T00-00-00\", end_time= \"2024-02-05T23-59-59\")\n",
    "plot_diff_all_systems(start_date, end_date, system_ids, df_lmu)\n"
   ]
  },
  {
   "cell_type": "markdown",
   "metadata": {},
   "source": [
    "## 28.01"
   ]
  },
  {
   "cell_type": "code",
   "execution_count": null,
   "metadata": {},
   "outputs": [],
   "source": [
    "start_date = datetime(2024, 1, 28, 0, 0, 0).replace(tzinfo=timezone.utc)\n",
    "end_date = datetime(2024, 1, 28, 23, 59, 59).replace(tzinfo=timezone.utc)\n",
    "\n",
    "system_ids = [10,11,13,16,18,20]\n",
    "\n",
    "df_lmu = get_lmu_data(start_time=\"2024-01-28T00-00-00\", end_time= \"2024-01-28T23-59-59\")\n",
    "plot_diff_all_systems(start_date, end_date, system_ids, df_lmu)"
   ]
  },
  {
   "cell_type": "markdown",
   "metadata": {},
   "source": [
    "## 8.01"
   ]
  },
  {
   "cell_type": "code",
   "execution_count": null,
   "metadata": {},
   "outputs": [],
   "source": [
    "start_date = datetime(2024, 1, 8, 0, 0, 0).replace(tzinfo=timezone.utc)\n",
    "end_date = datetime(2024, 1, 8, 23, 59, 59).replace(tzinfo=timezone.utc)\n",
    "\n",
    "system_ids = [12,16,20]\n",
    "\n",
    "df_lmu = get_lmu_data(start_time=\"2024-01-8T00-00-00\", end_time= \"2024-01-8T23-59-59\")\n",
    "plot_diff_all_systems(start_date, end_date, system_ids, df_lmu)"
   ]
  },
  {
   "cell_type": "markdown",
   "metadata": {},
   "source": [
    "## 03.01"
   ]
  },
  {
   "cell_type": "code",
   "execution_count": null,
   "metadata": {},
   "outputs": [],
   "source": [
    "start_date = datetime(2024, 1, 3, 0, 0, 0).replace(tzinfo=timezone.utc)\n",
    "end_date = datetime(2024, 1, 3, 23, 59, 59).replace(tzinfo=timezone.utc)\n",
    "\n",
    "system_ids = [12,16,18,20]\n",
    "\n",
    "df_lmu = get_lmu_data(start_time=\"2024-01-03T00-00-00\", end_time= \"2024-01-03T23-59-59\")\n",
    "plot_diff_all_systems(start_date, end_date, system_ids, df_lmu)"
   ]
  },
  {
   "cell_type": "markdown",
   "metadata": {},
   "source": [
    "## 31.12"
   ]
  },
  {
   "cell_type": "code",
   "execution_count": null,
   "metadata": {},
   "outputs": [],
   "source": [
    "start_date = datetime(2023, 12, 31, 0, 0, 0).replace(tzinfo=timezone.utc)\n",
    "end_date = datetime(2023, 12, 31, 23, 59, 59).replace(tzinfo=timezone.utc)\n",
    "\n",
    "system_ids = [12,16,18,20]\n",
    "\n",
    "df_lmu = get_lmu_data(start_time=\"2023-12-31T00-00-00\", end_time= \"2023-12-31T23-59-59\")\n",
    "plot_diff_all_systems(start_date, end_date, system_ids, df_lmu)"
   ]
  }
 ],
 "metadata": {
  "kernelspec": {
   "display_name": ".venv",
   "language": "python",
   "name": "python3"
  },
  "language_info": {
   "codemirror_mode": {
    "name": "ipython",
    "version": 3
   },
   "file_extension": ".py",
   "mimetype": "text/x-python",
   "name": "python",
   "nbconvert_exporter": "python",
   "pygments_lexer": "ipython3",
   "version": "3.11.6"
  }
 },
 "nbformat": 4,
 "nbformat_minor": 2
}
