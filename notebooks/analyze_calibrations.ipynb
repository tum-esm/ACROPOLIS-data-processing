{
 "cells": [
  {
   "cell_type": "code",
   "execution_count": null,
   "metadata": {},
   "outputs": [],
   "source": [
    "import os\n",
    "import glob\n",
    "from datetime import datetime\n",
    "from datetime import timezone\n",
    "import polars as pl\n",
    "import polars.selectors as cs\n",
    "import plotly.express as px\n",
    "from plotly.subplots import make_subplots\n",
    "import plotly.graph_objects as go\n",
    "from utils.plot_data import plot_sensor_measurement\n",
    "from lmu_meteo_api import interface\n",
    "import seaborn as sns\n",
    "import matplotlib.pyplot as plt\n",
    "import numpy as np\n",
    "import math\n",
    "\n",
    "DATA_DIRECTORY = os.environ.get(\"DATA_DIRECTORY\")\n",
    "PICARRO_DATA_DIRECTORy = os.environ.get(\"PICARRO_DATA_DIRECTORY\")"
   ]
  },
  {
   "cell_type": "code",
   "execution_count": null,
   "metadata": {},
   "outputs": [],
   "source": [
    "# raw measurement data\n",
    "df_raw = pl.scan_parquet(os.path.join(DATA_DIRECTORY, \"download\", \"acropolis.parquet\"))\n",
    "\n",
    "# water corrected measurement data\n",
    "df_dry = pl.scan_parquet(os.path.join(DATA_DIRECTORY, \"processed\", \"acropolis_dry.parquet\"))\n",
    "\n",
    "# slope and intercept data derived from calibrations\n",
    "df_cal = pl.scan_parquet(os.path.join(DATA_DIRECTORY, \"processed\", \"slope_intercept_acropolis.parquet\")) \\\n",
    "    .with_columns((pl.col(\"creation_timestamp\").dt.timestamp(\"ms\") / 3.6e6).alias(\"timestamp\")) #3.6e6 ms are in 1h\n",
    "    \n",
    "# 10m preprocessed picarro data\n",
    "df_p_10m = pl.scan_parquet(os.path.join(DATA_DIRECTORY,\"processed\", \"10m_cal_corr_picarro.parquet\"))\n",
    "\n",
    "calibration_accuracy_masks = []"
   ]
  },
  {
   "cell_type": "code",
   "execution_count": null,
   "metadata": {},
   "outputs": [],
   "source": [
    "start_date = datetime(2023, 12, 23, 0, 0, 0).replace(tzinfo=timezone.utc)\n",
    "end_date = datetime(2024, 2, 21, 23, 59, 59).replace(tzinfo=timezone.utc)\n",
    "\n",
    "df_raw_agg_10m = df_raw.filter(pl.col(\"creation_timestamp\").is_between(start_date, end_date))  \\\n",
    "        .sort(\"creation_timestamp\") \\\n",
    "        .group_by_dynamic(\"creation_timestamp\", every='10m', by= \"system_name\") \\\n",
    "        .agg(pl.all().exclude([\"creation_timestamp\",\"system_name\"]).mean()) \\\n",
    "        .with_columns(pl.col(\"creation_timestamp\").dt.date().alias(\"date\")) \\\n",
    "        .join(df_cal.select(\"date\",\"system_name\",\"slope\",\"intercept\"), on = [\"date\",\"system_name\"], how= \"left\") \\\n",
    "        .join(df_dry.select(\"creation_timestamp\",\"system_name\", \"gmp343_dry\"), on = [\"creation_timestamp\",\"system_name\"], how= \"left\") \\\n",
    "        .join(df_p_10m.select(\"creation_timestamp\", \"CO2_corr\"), on = [\"creation_timestamp\"], how= \"left\") \\\n",
    "        .with_columns([\n",
    "                pl.col(\"system_name\").str.extract(r'(\\d+)',1).str.to_integer().alias(\"system_id\"),\n",
    "                ((pl.col(\"gmp343_dry\")) * pl.col(\"slope\") + pl.col(\"intercept\")).alias(\"gmp343_corrected\"),\n",
    "                       ]) \\\n",
    "        .with_columns([\n",
    "                (pl.col(\"CO2_corr\") - pl.col(\"gmp343_corrected\")).alias(\"diff\"),\n",
    "                       ]) \\\n",
    "        .collect()\n",
    "        \n",
    "df_raw_agg_1d = df_raw_agg_10m.sort(\"creation_timestamp\") \\\n",
    "        .group_by_dynamic(\"creation_timestamp\", every='1d', by= \"system_name\") \\\n",
    "        .agg(pl.all().exclude([\"creation_timestamp\",\"system_name\"]).mean())\n",
    "        \n",
    "        \n",
    "df_raw_agg_10m = df_raw_agg_10m.with_columns(((pl.col(\"diff\") < 2.0) & (pl.col(\"diff\") > -2.0)).alias(\"calibration_accuracy\"))\n",
    "df_raw_agg_1d = df_raw_agg_1d.with_columns(((pl.col(\"diff\") < 2.0) & (pl.col(\"diff\") > -2.0)).alias(\"calibration_accuracy\"))"
   ]
  },
  {
   "cell_type": "markdown",
   "metadata": {},
   "source": [
    "## Functions"
   ]
  },
  {
   "cell_type": "code",
   "execution_count": null,
   "metadata": {},
   "outputs": [],
   "source": [
    "def analyse_system(id, start_date, end_date, plotly = False, hide_plots = False):\n",
    "    # add to df\n",
    "    df_filtered = df_raw_agg_10m.filter(pl.col(\"creation_timestamp\").is_between(start_date, end_date)) \\\n",
    "        .filter(pl.col(\"system_id\").is_in(id)) \\\n",
    "        .with_columns((np.square(np.subtract(pl.col(\"CO2_corr\"), pl.col(\"gmp343_corrected\"))).mean()).alias(\"MSE\")) \\\n",
    "        .with_columns(pl.col(\"MSE\").sqrt().alias(\"RMSE\"))\n",
    "      \n",
    "    if not hide_plots:\n",
    "        sns.scatterplot(data=df_filtered,x='creation_timestamp',y='diff', hue=\"calibration_accuracy\").set(title='PICARRO Dry CO2')\n",
    "        plt.show()\n",
    "        \n",
    "        sns.scatterplot(data=df_filtered,x='creation_timestamp',y='CO2_corr', hue=\"calibration_accuracy\", alpha = 0.5).set(title='PICARRO Dry CO2')\n",
    "        plt.show()\n",
    "        \n",
    "        fig = px.scatter(df_filtered, x=\"creation_timestamp\", y=\"slope\", color=\"calibration_accuracy\")\n",
    "        fig.show()\n",
    "    \n",
    "    if plotly:\n",
    "        fig = px.scatter(df_filtered, x=\"creation_timestamp\", y=\"CO2_corr\", color=\"calibration_accuracy\")\n",
    "        fig.show()\n",
    "            \n",
    "        fig = px.scatter(df_filtered, x=\"creation_timestamp\", y=\"diff\", color=\"calibration_accuracy\")\n",
    "        fig.show()\n",
    "\n",
    "        fig = px.scatter(df_filtered, x=\"creation_timestamp\", y=\"slope\", color=\"calibration_accuracy\")\n",
    "        fig.show()\n",
    "\n",
    "    \n",
    "    df_1d_filtered = df_raw_agg_1d.filter(pl.col(\"creation_timestamp\").is_between(start_date, end_date)) \\\n",
    "        .filter(pl.col(\"system_id\") == id) \\\n",
    "        .select(\"date\", \"system_name\", \"calibration_accuracy\", \"diff\")\n",
    "        \n",
    "    return df_filtered, df_1d_filtered"
   ]
  },
  {
   "cell_type": "code",
   "execution_count": null,
   "metadata": {},
   "outputs": [],
   "source": [
    "def get_lmu_data(start_time=\"2024-01-01T00-00-00\", end_time= \"2024-01-02T00-00-00\", station_id = 'MIM01'):\n",
    "\n",
    "    parameters = [\n",
    "        \"air_temperature_2m\",\n",
    "        \"air_temperature_30m\",\n",
    "        \"relative_humidity_2m\",\n",
    "        \"relative_humidity_30m\",\n",
    "        'wind_speed_30m', \n",
    "        'wind_from_direction_30m',\n",
    "        \"air_pressure\"]\n",
    "\n",
    "    # download from the API\n",
    "    lmu_api = interface.meteo_data()\n",
    "    data = lmu_api.get_meteo_data(parameters=parameters, \n",
    "                                station_id= station_id, \n",
    "                                start_time=start_time, \n",
    "                                end_time=end_time)\n",
    "    \n",
    "    df_lmu = pl.from_pandas(data, include_index = True) \\\n",
    "    .rename({\"time\": \"creation_timestamp\"}) \\\n",
    "    .with_columns(pl.col(\"creation_timestamp\").dt.cast_time_unit(\"us\").dt.replace_time_zone(\"UTC\")) \\\n",
    "    .with_columns(pl.col(\"air_temperature_30m\") -273.15) \\\n",
    "    .with_columns(pl.col(\"air_temperature_2m\") -273.15)  \\\n",
    "    .with_columns(pl.col(\"air_pressure\") / 100)  \\\n",
    "    .rename({\"air_temperature_30m\": \"temperature\", \"relative_humidity_30m\": \"humidity\", \"air_pressure\": \"pressure\"}) \\\n",
    "    .with_columns(\n",
    "            pl.lit(f\"lmu meteo\").alias(\"system_name\")\n",
    "        ) \\\n",
    "    .sort(\"creation_timestamp\") \\\n",
    "    .group_by_dynamic(\"creation_timestamp\", every='10m', by= \"system_name\")  \\\n",
    "    .agg(pl.all().exclude([\"creation_timestamp\",\"system_name\"]).mean()) \\\n",
    "        \n",
    "    return df_lmu"
   ]
  },
  {
   "cell_type": "code",
   "execution_count": null,
   "metadata": {},
   "outputs": [],
   "source": [
    "def plot_with_lmu_data(start_date, end_date, system_ids, df_lmu):\n",
    "    \n",
    "    df_10m, df_1d = analyse_system(system_ids, start_date, end_date, hide_plots=True)\n",
    "           \n",
    "    df_10m = df_10m.rename({\"gmp343_temperature\": \"temperature\", \"sht45_humidity\": \"humidity\", \"bme280_pressure\": \"pressure\"})\n",
    "    \n",
    "    df_plot = pl.concat([df_lmu, df_10m], how=\"diagonal\")\n",
    "    \n",
    "    sns.lineplot(data=df_plot,x='creation_timestamp',y='pressure', hue=\"system_name\").set(title='Pressure')\n",
    "    plt.show()\n",
    "    \n",
    "    sns.lineplot(data=df_plot,x='creation_timestamp',y='humidity', hue=\"system_name\").set(title='Humidity')\n",
    "    plt.show()\n",
    "    \n",
    "    sns.lineplot(data=df_plot,x='creation_timestamp',y='temperature', hue=\"system_name\").set(title='Temperature')\n",
    "    plt.show()\n",
    "    \n",
    "\n",
    "    # fig = px.line(df_plot, x=\"creation_timestamp\", y=\"enclosure_bme280_temperature\", title = \"Enclosure Temperature\")\n",
    "    # fig.show()"
   ]
  },
  {
   "cell_type": "markdown",
   "metadata": {},
   "source": [
    "## System 1"
   ]
  },
  {
   "cell_type": "code",
   "execution_count": null,
   "metadata": {},
   "outputs": [],
   "source": [
    "start_date = datetime(2024, 2, 7, 0, 0, 0).replace(tzinfo=timezone.utc)\n",
    "end_date = datetime(2024, 2, 18, 23, 59, 59).replace(tzinfo=timezone.utc)\n",
    "\n",
    "df_10m, df_1d = analyse_system(1, start_date, end_date)\n",
    "calibration_accuracy_masks.append(df_1d)"
   ]
  },
  {
   "cell_type": "code",
   "execution_count": null,
   "metadata": {},
   "outputs": [],
   "source": [
    "# corr = df_10m.fill_null(strategy = \"forward\").fill_null(strategy = \"backward\").drop(\"system_name\",\"date\",\"revision\",\"receipt_timestamp\",\"wxt532_\", \"cal_\").corr()\n",
    "\n",
    "# import seaborn as sns\n",
    "# import matplotlib.pyplot as plt\n",
    "\n",
    "# f, ax = plt.subplots(figsize=(10, 8))\n",
    "# sns.heatmap(corr,\n",
    "#     cmap=sns.diverging_palette(220, 10, as_cmap=True),\n",
    "#     vmin=-1.0, vmax=1.0,\n",
    "#     square=True, ax=ax)"
   ]
  },
  {
   "cell_type": "markdown",
   "metadata": {},
   "source": [
    "## System 3"
   ]
  },
  {
   "cell_type": "code",
   "execution_count": null,
   "metadata": {},
   "outputs": [],
   "source": [
    "start_date = datetime(2024, 1, 12, 0, 0, 0).replace(tzinfo=timezone.utc)\n",
    "end_date = datetime(2024, 2, 18, 23, 59, 59).replace(tzinfo=timezone.utc) # collected for deployment on 19.02.2024\n",
    "\n",
    "df_10m, df_1d = analyse_system(3, start_date, end_date)\n",
    "calibration_accuracy_masks.append(df_1d)"
   ]
  },
  {
   "cell_type": "markdown",
   "metadata": {},
   "source": [
    "## System 4"
   ]
  },
  {
   "cell_type": "code",
   "execution_count": null,
   "metadata": {},
   "outputs": [],
   "source": [
    "start_date = datetime(2024, 2, 12, 0, 0, 0).replace(tzinfo=timezone.utc)\n",
    "end_date = datetime(2024, 2, 18, 23, 59, 59).replace(tzinfo=timezone.utc)\n",
    "\n",
    "df_10m, df_1d = analyse_system(4, start_date, end_date)\n",
    "calibration_accuracy_masks.append(df_1d)"
   ]
  },
  {
   "cell_type": "markdown",
   "metadata": {},
   "source": [
    "## System 5"
   ]
  },
  {
   "cell_type": "code",
   "execution_count": null,
   "metadata": {},
   "outputs": [],
   "source": [
    "start_date = datetime(2024, 2, 6, 0, 0, 0).replace(tzinfo=timezone.utc)\n",
    "end_date = datetime(2024, 2, 18, 23, 59, 59).replace(tzinfo=timezone.utc)\n",
    "\n",
    "df_10m, df_1d = analyse_system(5, start_date, end_date)\n",
    "calibration_accuracy_masks.append(df_1d)"
   ]
  },
  {
   "cell_type": "markdown",
   "metadata": {},
   "source": [
    "## System 6"
   ]
  },
  {
   "cell_type": "code",
   "execution_count": null,
   "metadata": {},
   "outputs": [],
   "source": [
    "start_date = datetime(2024, 2, 20, 0, 0, 0).replace(tzinfo=timezone.utc)\n",
    "end_date = datetime(2024, 3, 6, 23, 59, 59).replace(tzinfo=timezone.utc) # maintenance on 19.02\n",
    "\n",
    "df_10m, df_1d = analyse_system(6,start_date, end_date)\n",
    "#calibration_accuracy_masks.append(df_1d)"
   ]
  },
  {
   "cell_type": "markdown",
   "metadata": {},
   "source": [
    "## System 8"
   ]
  },
  {
   "cell_type": "code",
   "execution_count": null,
   "metadata": {},
   "outputs": [],
   "source": [
    "start_date = datetime(2024, 2, 13, 0, 0, 0).replace(tzinfo=timezone.utc)\n",
    "end_date = datetime(2024, 2, 18, 23, 59, 59).replace(tzinfo=timezone.utc)\n",
    "\n",
    "df_10m, df_1d = analyse_system(8, start_date, end_date)\n",
    "calibration_accuracy_masks.append(df_1d)"
   ]
  },
  {
   "cell_type": "markdown",
   "metadata": {},
   "source": [
    "## System 9"
   ]
  },
  {
   "cell_type": "code",
   "execution_count": null,
   "metadata": {},
   "outputs": [],
   "source": [
    "start_date = datetime(2024, 2, 12, 0, 0, 0).replace(tzinfo=timezone.utc)\n",
    "end_date = datetime(2024, 2, 18, 23, 59, 59).replace(tzinfo=timezone.utc)\n",
    "\n",
    "df_10m, df_1d = analyse_system(9, start_date, end_date)\n",
    "calibration_accuracy_masks.append(df_1d)"
   ]
  },
  {
   "cell_type": "markdown",
   "metadata": {},
   "source": [
    "## System 10"
   ]
  },
  {
   "cell_type": "code",
   "execution_count": null,
   "metadata": {},
   "outputs": [],
   "source": [
    "start_date = datetime(2024, 1, 12, 0, 0, 0).replace(tzinfo=timezone.utc)\n",
    "end_date = datetime(2024, 2, 18, 23, 59, 59).replace(tzinfo=timezone.utc)\n",
    "\n",
    "df_10m, df_1d = analyse_system(10, start_date, end_date)\n",
    "calibration_accuracy_masks.append(df_1d)"
   ]
  },
  {
   "cell_type": "markdown",
   "metadata": {},
   "source": [
    "## System 11"
   ]
  },
  {
   "cell_type": "code",
   "execution_count": null,
   "metadata": {},
   "outputs": [],
   "source": [
    "start_date = datetime(2024, 1, 12, 0, 0, 0).replace(tzinfo=timezone.utc)\n",
    "end_date = datetime(2024, 2, 18, 23, 59, 59).replace(tzinfo=timezone.utc)\n",
    "\n",
    "df_10m, df_1d = analyse_system(11, start_date, end_date)\n",
    "calibration_accuracy_masks.append(df_1d)"
   ]
  },
  {
   "cell_type": "markdown",
   "metadata": {},
   "source": [
    "# System 12"
   ]
  },
  {
   "cell_type": "code",
   "execution_count": null,
   "metadata": {},
   "outputs": [],
   "source": [
    "id = 12\n",
    "\n",
    "start_date = datetime(2023, 12, 23, 0, 0, 0).replace(tzinfo=timezone.utc)\n",
    "end_date = datetime(2024, 2, 11, 23, 59, 59).replace(tzinfo=timezone.utc) # in the field\n",
    "\n",
    "df_10m, df_1d = analyse_system(12, start_date, end_date)\n",
    "calibration_accuracy_masks.append(df_1d)"
   ]
  },
  {
   "cell_type": "markdown",
   "metadata": {},
   "source": [
    "## System 13"
   ]
  },
  {
   "cell_type": "code",
   "execution_count": null,
   "metadata": {},
   "outputs": [],
   "source": [
    "start_date = datetime(2024, 1, 13, 0, 0, 0).replace(tzinfo=timezone.utc)\n",
    "end_date = datetime(2024, 1, 30, 23, 59, 59).replace(tzinfo=timezone.utc) # collected for deployment on 19.02.2024\n",
    "\n",
    "df_10m, df_1d = analyse_system(13, start_date, end_date)\n",
    "calibration_accuracy_masks.append(df_1d)"
   ]
  },
  {
   "cell_type": "markdown",
   "metadata": {},
   "source": [
    "## System 16"
   ]
  },
  {
   "cell_type": "code",
   "execution_count": null,
   "metadata": {},
   "outputs": [],
   "source": [
    "start_date = datetime(2023, 12, 23, 0, 0, 0).replace(tzinfo=timezone.utc)\n",
    "end_date = datetime(2024, 2, 5, 23, 59, 59).replace(tzinfo=timezone.utc) # in the field\n",
    "\n",
    "df_10m, df_1d = analyse_system(16, start_date, end_date)\n",
    "calibration_accuracy_masks.append(df_1d)"
   ]
  },
  {
   "cell_type": "markdown",
   "metadata": {},
   "source": [
    "## System 18"
   ]
  },
  {
   "cell_type": "code",
   "execution_count": null,
   "metadata": {},
   "outputs": [],
   "source": [
    "id = 18\n",
    "\n",
    "start_date = datetime(2023, 12, 23, 0, 0, 0).replace(tzinfo=timezone.utc)\n",
    "end_date = datetime(2024, 2, 5, 23, 59, 59).replace(tzinfo=timezone.utc) # in the field\n",
    "\n",
    "df_10m, df_1d = analyse_system(18, start_date, end_date)\n",
    "calibration_accuracy_masks.append(df_1d)"
   ]
  },
  {
   "cell_type": "markdown",
   "metadata": {},
   "source": [
    "## System 20"
   ]
  },
  {
   "cell_type": "code",
   "execution_count": null,
   "metadata": {},
   "outputs": [],
   "source": [
    "start_date = datetime(2023, 12, 23, 0, 0, 0).replace(tzinfo=timezone.utc)\n",
    "end_date = datetime(2024, 2, 11, 23, 59, 59).replace(tzinfo=timezone.utc) # in the field\n",
    "\n",
    "df_10m, df_1d = analyse_system(20, start_date, end_date)\n",
    "calibration_accuracy_masks.append(df_1d)"
   ]
  },
  {
   "cell_type": "markdown",
   "metadata": {},
   "source": [
    "# Cluster Analysis"
   ]
  },
  {
   "cell_type": "code",
   "execution_count": null,
   "metadata": {},
   "outputs": [],
   "source": [
    "df_cluster_analysis = pl.concat(calibration_accuracy_masks, how=\"diagonal\")\n",
    "\n",
    "fig = px.scatter(df_cluster_analysis, x=\"date\", y=\"system_name\", title = \"Cluster Analysis\", color=\"calibration_accuracy\")\n",
    "fig.show()\n",
    "\n",
    "fig = px.scatter(df_cluster_analysis, x=\"date\", y=\"diff\", title = \"Cluster Analysis\", color=\"system_name\")\n",
    "fig.show()"
   ]
  },
  {
   "cell_type": "markdown",
   "metadata": {},
   "source": [
    "Let's analyse the dates 31.12, 03.01, 10.02, 11.02\n",
    "\n",
    "Maintenance dates:\n",
    "\n",
    "12.01 Integration of new calibration bottles 3,6,11,13 + check on already installed bottles\n",
    "\n",
    "05.02 New inlets in the afternoon\n",
    "\n",
    "13.02 (Upgrade inlets 10:30 - 12:00 local time)"
   ]
  },
  {
   "cell_type": "markdown",
   "metadata": {},
   "source": [
    "## Good Day"
   ]
  },
  {
   "cell_type": "code",
   "execution_count": null,
   "metadata": {},
   "outputs": [],
   "source": [
    "start_date = datetime(2023, 12, 27, 00, 00, 00).replace(tzinfo=timezone.utc)\n",
    "end_date = datetime(2023, 12, 27, 23, 59, 59).replace(tzinfo=timezone.utc)\n",
    "\n",
    "system_ids = [12,16,18,20]\n",
    "\n",
    "df_lmu = get_lmu_data(start_time=\"2023-12-27T00-00-00\", end_time= \"2023-12-27T23-59-59\")\n",
    "plot_with_lmu_data(start_date, end_date, system_ids, df_lmu)"
   ]
  },
  {
   "cell_type": "markdown",
   "metadata": {},
   "source": [
    "## Bad Days"
   ]
  },
  {
   "cell_type": "code",
   "execution_count": null,
   "metadata": {},
   "outputs": [],
   "source": [
    "start_date = datetime(2024, 2, 11, 00, 00, 00).replace(tzinfo=timezone.utc)\n",
    "end_date = datetime(2024, 2, 11, 23, 59, 59).replace(tzinfo=timezone.utc)\n",
    "\n",
    "system_ids = [3,5,10,11,12,20]\n",
    "\n",
    "df_lmu = get_lmu_data(start_time=\"2024-02-11T00-00-00\", end_time= \"2024-02-11T23-59-59\")\n",
    "plot_with_lmu_data(start_date, end_date, system_ids, df_lmu)"
   ]
  },
  {
   "cell_type": "markdown",
   "metadata": {},
   "source": [
    "## 11.02"
   ]
  },
  {
   "cell_type": "code",
   "execution_count": null,
   "metadata": {},
   "outputs": [],
   "source": [
    "start_date = datetime(2024, 2, 11, 00, 00, 00).replace(tzinfo=timezone.utc)\n",
    "end_date = datetime(2024, 2, 11, 23, 59, 59).replace(tzinfo=timezone.utc)\n",
    "\n",
    "system_ids = [1,3,5,10,11,12,20]\n",
    "\n",
    "df_lmu = get_lmu_data(start_time=\"2024-02-11T00-00-00\", end_time= \"2024-02-11T23-59-59\")\n",
    "plot_with_lmu_data(start_date, end_date, system_ids, df_lmu)\n"
   ]
  },
  {
   "cell_type": "markdown",
   "metadata": {},
   "source": [
    "## 10.02"
   ]
  },
  {
   "cell_type": "code",
   "execution_count": null,
   "metadata": {},
   "outputs": [],
   "source": [
    "start_date = datetime(2024, 2, 10, 00, 00, 00).replace(tzinfo=timezone.utc)\n",
    "end_date = datetime(2024, 2, 10, 23, 59, 59).replace(tzinfo=timezone.utc)\n",
    "\n",
    "system_ids = [1,3,5,10,11,12,20]\n",
    "\n",
    "df_lmu = get_lmu_data(start_time=\"2024-02-10T00-00-00\", end_time= \"2024-02-10T23-59-59\")\n",
    "plot_with_lmu_data(start_date, end_date, system_ids, df_lmu)"
   ]
  },
  {
   "cell_type": "markdown",
   "metadata": {},
   "source": [
    "## 03.01"
   ]
  },
  {
   "cell_type": "code",
   "execution_count": null,
   "metadata": {},
   "outputs": [],
   "source": [
    "start_date = datetime(2024, 1, 3, 0, 0, 0).replace(tzinfo=timezone.utc)\n",
    "end_date = datetime(2024, 1, 3, 23, 59, 59).replace(tzinfo=timezone.utc)\n",
    "\n",
    "system_ids = [12,16,18,20]\n",
    "\n",
    "df_lmu = get_lmu_data(start_time=\"2024-01-03T00-00-00\", end_time= \"2024-01-03T23-59-59\")\n",
    "plot_with_lmu_data(start_date, end_date, system_ids, df_lmu)"
   ]
  },
  {
   "cell_type": "markdown",
   "metadata": {},
   "source": [
    "# Tests"
   ]
  }
 ],
 "metadata": {
  "kernelspec": {
   "display_name": ".venv",
   "language": "python",
   "name": "python3"
  },
  "language_info": {
   "codemirror_mode": {
    "name": "ipython",
    "version": 3
   },
   "file_extension": ".py",
   "mimetype": "text/x-python",
   "name": "python",
   "nbconvert_exporter": "python",
   "pygments_lexer": "ipython3",
   "version": "3.11.6"
  }
 },
 "nbformat": 4,
 "nbformat_minor": 2
}
