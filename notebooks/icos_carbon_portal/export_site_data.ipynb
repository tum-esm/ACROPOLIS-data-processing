{
 "cells": [
  {
   "cell_type": "code",
   "execution_count": 19,
   "metadata": {},
   "outputs": [],
   "source": [
    "from datetime import datetime\n",
    "from datetime import timezone\n",
    "import polars as pl\n",
    "import os\n",
    "import plotly.express as px\n",
    "\n",
    "DATA_DIRECTORY = os.environ.get(\"DATA_DIRECTORY\")\n",
    "\n",
    "# processed 10min average measurement data\n",
    "#df_1m = pl.scan_parquet(os.path.join(DATA_DIRECTORY, \"processed\", \"1m_cal_corr_acropolis.parquet\"))\n",
    "df_1h = pl.scan_parquet(os.path.join(DATA_DIRECTORY, \"processed\", \"1h_cal_corr_acropolis.parquet\"))\n"
   ]
  },
  {
   "cell_type": "code",
   "execution_count": 42,
   "metadata": {},
   "outputs": [],
   "source": [
    "# Utility\n",
    "\n",
    "def extract_site_data(dates:dict[list[tuple]], site_name:str):\n",
    "    extracted_sites = []\n",
    "    \n",
    "    for date in dates[site_name]:\n",
    "        print(date[0], date[1], date[2])\n",
    "        \n",
    "        df_temp = df_1h.filter(pl.col(\"sys_name_short\") == f\"mid-cost-{date[0]}\" ).filter(pl.col(\"creation_timestamp\").is_between(date[1], date[2])).collect()\n",
    "        \n",
    "        extracted_sites.append(df_temp)\n",
    "    \n",
    "    df_extracted = pl.concat(extracted_sites)\n",
    "    \n",
    "    fig = px.line(df_extracted, x=\"creation_timestamp\", y=\"gmp343_corrected\", markers=True, title=f\"{site_name}: CO2 Corrected [ppm]\")\n",
    "    fig.show()"
   ]
  },
  {
   "cell_type": "code",
   "execution_count": 73,
   "metadata": {},
   "outputs": [],
   "source": [
    "today = datetime(2024, 7, 1, 0, 0, 0).replace(tzinfo=timezone.utc)\n",
    "\n",
    "dates = {\n",
    "      \"Example\": [\n",
    "            (99, datetime(2023, 1, 1, 0, 0, 0).replace(tzinfo=timezone.utc), datetime(2023, 1, 1, 23, 59, 59).replace(tzinfo=timezone.utc)),\n",
    "            (100, datetime(2024, 1, 1, 0, 0, 0).replace(tzinfo=timezone.utc), today)\n",
    "            ],\n",
    "      \"SMAI\": [\n",
    "            (1, datetime(2023, 9, 8, 0, 0, 0).replace(tzinfo=timezone.utc), datetime(2024, 2, 5, 23, 59, 59).replace(tzinfo=timezone.utc)),\n",
    "            (16, datetime(2024, 2, 8, 0, 0, 0).replace(tzinfo=timezone.utc), today)\n",
    "            ], \n",
    "      \"KLEG\": [\n",
    "            (1, datetime(2024, 2, 29, 0, 0, 0).replace(tzinfo=timezone.utc), today)\n",
    "            ], \n",
    "      \"DLRO\": [\n",
    "            (14, datetime(2023, 11, 22, 0, 0, 0).replace(tzinfo=timezone.utc), datetime(2023, 12, 22, 23, 59, 59).replace(tzinfo=timezone.utc)),\n",
    "            (5, datetime(2024, 2, 28, 0, 0, 0).replace(tzinfo=timezone.utc), today)\n",
    "            ],\n",
    "      \"TUMN\": [\n",
    "            (6, datetime(2024, 2, 21, 0, 0, 0).replace(tzinfo=timezone.utc), datetime(2024, 5, 11, 0, 0, 0).replace(tzinfo=timezone.utc)),\n",
    "            (6, datetime(2024, 5, 31, 0, 0, 0).replace(tzinfo=timezone.utc), today)\n",
    "            ],\n",
    "      \"KRDI\": [\n",
    "            (2, datetime(2023, 9, 13, 0, 0, 0).replace(tzinfo=timezone.utc), datetime(2023, 12, 22, 0, 0, 0).replace(tzinfo=timezone.utc)),\n",
    "            (8, datetime(2024, 3, 15, 0, 0, 0).replace(tzinfo=timezone.utc), today)\n",
    "            ],\n",
    "      \"SWGG\": [\n",
    "            (10, datetime(2024, 4, 11, 0, 0, 0).replace(tzinfo=timezone.utc), today)\n",
    "            ],\n",
    "      \"RFIN\": [\n",
    "            (15, datetime(2023, 11, 16, 0, 0, 0).replace(tzinfo=timezone.utc), datetime(2023, 12, 22, 0, 0, 0).replace(tzinfo=timezone.utc)),\n",
    "            (3, datetime(2024, 2, 22, 0, 0, 0).replace(tzinfo=timezone.utc), datetime(2024, 4, 2, 23, 59, 59).replace(tzinfo=timezone.utc)),\n",
    "            (11, datetime(2024, 4, 11, 0, 0, 0).replace(tzinfo=timezone.utc), today)\n",
    "            ],\n",
    "      \"WKRT\": [\n",
    "            (8, datetime(2023, 10, 27, 0, 0, 0).replace(tzinfo=timezone.utc), datetime(2023, 12, 22, 0, 0, 0).replace(tzinfo=timezone.utc)),\n",
    "            (12, datetime(2024, 2, 14, 0, 0, 0).replace(tzinfo=timezone.utc), today)\n",
    "            ],\n",
    "      \"RFEL\": [\n",
    "            (7, datetime(2023, 12, 14, 0, 0, 0).replace(tzinfo=timezone.utc), datetime(2023, 12, 22, 0, 0, 0).replace(tzinfo=timezone.utc)),\n",
    "            (13, datetime(2024, 2, 22, 0, 0, 0).replace(tzinfo=timezone.utc), today)\n",
    "            ],\n",
    "      \"SWMZ\": [\n",
    "            (15, datetime(2024, 6, 14, 0, 0, 0).replace(tzinfo=timezone.utc), today)\n",
    "            ],\n",
    " }"
   ]
  },
  {
   "cell_type": "code",
   "execution_count": 74,
   "metadata": {},
   "outputs": [
    {
     "name": "stdout",
     "output_type": "stream",
     "text": [
      "15 2024-06-14 00:00:00+00:00 2024-07-01 00:00:00+00:00\n"
     ]
    },
    {
     "data": {
      "application/vnd.plotly.v1+json": {
       "config": {
        "plotlyServerURL": "https://plot.ly"
       },
       "data": [
        {
         "hovertemplate": "creation_timestamp=%{x}<br>gmp343_corrected=%{y}<extra></extra>",
         "legendgroup": "",
         "line": {
          "color": "#636efa",
          "dash": "solid"
         },
         "marker": {
          "symbol": "circle"
         },
         "mode": "lines+markers",
         "name": "",
         "orientation": "v",
         "showlegend": false,
         "type": "scatter",
         "x": [
          "2024-06-17T09:00:00+00:00",
          "2024-06-17T10:00:00+00:00",
          "2024-06-17T11:00:00+00:00",
          "2024-06-17T12:00:00+00:00",
          "2024-06-17T13:00:00+00:00",
          "2024-06-17T14:00:00+00:00",
          "2024-06-17T15:00:00+00:00",
          "2024-06-17T16:00:00+00:00",
          "2024-06-17T17:00:00+00:00",
          "2024-06-17T18:00:00+00:00",
          "2024-06-17T19:00:00+00:00",
          "2024-06-17T20:00:00+00:00",
          "2024-06-17T21:00:00+00:00",
          "2024-06-17T22:00:00+00:00",
          "2024-06-17T23:00:00+00:00",
          "2024-06-18T00:00:00+00:00",
          "2024-06-18T01:00:00+00:00",
          "2024-06-18T02:00:00+00:00",
          "2024-06-18T03:00:00+00:00",
          "2024-06-18T04:00:00+00:00",
          "2024-06-18T05:00:00+00:00",
          "2024-06-18T06:00:00+00:00",
          "2024-06-18T07:00:00+00:00",
          "2024-06-18T08:00:00+00:00",
          "2024-06-18T09:00:00+00:00",
          "2024-06-18T10:00:00+00:00",
          "2024-06-18T11:00:00+00:00",
          "2024-06-18T12:00:00+00:00",
          "2024-06-18T13:00:00+00:00",
          "2024-06-18T14:00:00+00:00",
          "2024-06-18T15:00:00+00:00",
          "2024-06-18T16:00:00+00:00",
          "2024-06-18T17:00:00+00:00",
          "2024-06-18T18:00:00+00:00",
          "2024-06-18T19:00:00+00:00",
          "2024-06-18T20:00:00+00:00",
          "2024-06-18T21:00:00+00:00",
          "2024-06-18T22:00:00+00:00",
          "2024-06-18T23:00:00+00:00",
          "2024-06-19T00:00:00+00:00",
          "2024-06-19T01:00:00+00:00",
          "2024-06-19T02:00:00+00:00",
          "2024-06-19T03:00:00+00:00",
          "2024-06-19T04:00:00+00:00",
          "2024-06-19T05:00:00+00:00",
          "2024-06-19T06:00:00+00:00",
          "2024-06-19T07:00:00+00:00",
          "2024-06-19T08:00:00+00:00",
          "2024-06-19T09:00:00+00:00",
          "2024-06-19T10:00:00+00:00",
          "2024-06-19T11:00:00+00:00",
          "2024-06-19T12:00:00+00:00",
          "2024-06-19T13:00:00+00:00",
          "2024-06-19T14:00:00+00:00",
          "2024-06-19T15:00:00+00:00",
          "2024-06-19T16:00:00+00:00",
          "2024-06-19T17:00:00+00:00",
          "2024-06-19T18:00:00+00:00",
          "2024-06-19T19:00:00+00:00",
          "2024-06-19T20:00:00+00:00",
          "2024-06-19T21:00:00+00:00",
          "2024-06-19T22:00:00+00:00",
          "2024-06-19T23:00:00+00:00",
          "2024-06-20T00:00:00+00:00",
          "2024-06-20T01:00:00+00:00",
          "2024-06-20T02:00:00+00:00",
          "2024-06-20T03:00:00+00:00",
          "2024-06-20T04:00:00+00:00",
          "2024-06-20T05:00:00+00:00",
          "2024-06-20T06:00:00+00:00",
          "2024-06-20T07:00:00+00:00",
          "2024-06-20T08:00:00+00:00",
          "2024-06-20T09:00:00+00:00",
          "2024-06-20T10:00:00+00:00",
          "2024-06-20T11:00:00+00:00",
          "2024-06-20T12:00:00+00:00",
          "2024-06-20T13:00:00+00:00",
          "2024-06-20T14:00:00+00:00",
          "2024-06-20T15:00:00+00:00",
          "2024-06-20T16:00:00+00:00",
          "2024-06-20T17:00:00+00:00",
          "2024-06-20T18:00:00+00:00",
          "2024-06-20T19:00:00+00:00",
          "2024-06-20T20:00:00+00:00",
          "2024-06-20T21:00:00+00:00",
          "2024-06-20T22:00:00+00:00",
          "2024-06-20T23:00:00+00:00",
          "2024-06-21T00:00:00+00:00",
          "2024-06-21T01:00:00+00:00",
          "2024-06-21T02:00:00+00:00",
          "2024-06-21T03:00:00+00:00",
          "2024-06-21T04:00:00+00:00",
          "2024-06-21T05:00:00+00:00",
          "2024-06-21T06:00:00+00:00",
          "2024-06-21T07:00:00+00:00",
          "2024-06-21T08:00:00+00:00",
          "2024-06-21T09:00:00+00:00",
          "2024-06-21T10:00:00+00:00",
          "2024-06-21T11:00:00+00:00",
          "2024-06-21T12:00:00+00:00",
          "2024-06-21T13:00:00+00:00",
          "2024-06-21T14:00:00+00:00",
          "2024-06-21T15:00:00+00:00",
          "2024-06-21T16:00:00+00:00",
          "2024-06-21T17:00:00+00:00",
          "2024-06-21T18:00:00+00:00",
          "2024-06-21T19:00:00+00:00",
          "2024-06-21T20:00:00+00:00",
          "2024-06-21T21:00:00+00:00",
          "2024-06-21T22:00:00+00:00",
          "2024-06-21T23:00:00+00:00",
          "2024-06-22T00:00:00+00:00",
          "2024-06-22T01:00:00+00:00",
          "2024-06-22T02:00:00+00:00",
          "2024-06-22T03:00:00+00:00",
          "2024-06-22T04:00:00+00:00",
          "2024-06-22T05:00:00+00:00",
          "2024-06-22T06:00:00+00:00",
          "2024-06-22T07:00:00+00:00",
          "2024-06-22T08:00:00+00:00",
          "2024-06-22T09:00:00+00:00",
          "2024-06-22T10:00:00+00:00",
          "2024-06-22T11:00:00+00:00",
          "2024-06-22T12:00:00+00:00",
          "2024-06-22T13:00:00+00:00",
          "2024-06-22T14:00:00+00:00",
          "2024-06-22T15:00:00+00:00",
          "2024-06-22T16:00:00+00:00",
          "2024-06-22T17:00:00+00:00",
          "2024-06-22T18:00:00+00:00",
          "2024-06-22T19:00:00+00:00",
          "2024-06-22T20:00:00+00:00",
          "2024-06-22T21:00:00+00:00",
          "2024-06-22T22:00:00+00:00",
          "2024-06-22T23:00:00+00:00",
          "2024-06-23T00:00:00+00:00",
          "2024-06-23T01:00:00+00:00",
          "2024-06-23T02:00:00+00:00",
          "2024-06-23T03:00:00+00:00",
          "2024-06-23T04:00:00+00:00",
          "2024-06-23T05:00:00+00:00",
          "2024-06-23T06:00:00+00:00",
          "2024-06-23T07:00:00+00:00"
         ],
         "xaxis": "x",
         "y": [
          420.9984299878356,
          422.4497274863559,
          421.8852172142983,
          421.3296613968895,
          421.80463522342245,
          421.68095716708615,
          422.42700174391405,
          422.12468392563045,
          422.2261792758044,
          424.21092762663,
          429.49293999963584,
          432.4328947818123,
          434.944298084594,
          439.96200726137283,
          446.1579818845548,
          441.86473132314916,
          441.1060187267666,
          445.79745485984535,
          456.19338499956814,
          466.26799555535865,
          461.79326109938796,
          454.1342008709318,
          449.959695613125,
          445.24115714185984,
          437.04703146381667,
          429.2512331236222,
          429.02049761538007,
          427.35248093053684,
          428.0342680070652,
          427.15090970191346,
          427.5612323623942,
          425.1770257323695,
          425.27114011997736,
          430.3579300540328,
          440.83902860870217,
          454.2844954935329,
          471.5630230681408,
          482.5621803469627,
          468.88088525303067,
          492.1242002655059,
          479.7050759715624,
          484.2069999270301,
          492.45159725524434,
          487.68258824322436,
          469.6809152985589,
          449.8782936365229,
          442.3241650955694,
          437.01013273774936,
          435.3254987032112,
          433.3773111743655,
          433.1458172119418,
          432.4060663370431,
          431.9244060476037,
          430.9723166843418,
          429.65715574675886,
          428.17384496831454,
          426.71394153233854,
          424.87818281193466,
          428.9865673585889,
          438.7750311078528,
          446.1788168314222,
          445.4473769956815,
          451.3295835385165,
          454.4697986798499,
          454.8531114394676,
          454.49006263191893,
          454.28536772351674,
          460.79799557445,
          464.6885318777733,
          464.5634005149204,
          466.1217722648098,
          464.1649822237731,
          460.8629024963045,
          458.51417145805783,
          457.8068128866646,
          450.4079176068977,
          441.29052177691347,
          441.5711306156934,
          441.57828915856675,
          443.43173581806326,
          443.3822365355289,
          442.8573539511356,
          445.93065664249514,
          458.64045970987513,
          462.67030098485253,
          460.21284776703186,
          458.19860170632757,
          461.66754602146517,
          465.4168566798605,
          478.2083118452378,
          487.7262147588008,
          484.10313158831946,
          494.7814573157003,
          491.8752747041595,
          498.2197995591234,
          491.87727697018397,
          454.69144513698456,
          439.32495580149083,
          428.6733661820968,
          426.3101121503368,
          427.04281528267376,
          427.6199518600476,
          432.6713294958309,
          438.1558089750654,
          437.77806025669474,
          432.77886331602394,
          432.40969203746477,
          433.67753953958965,
          433.89013873784404,
          434.71923524210774,
          437.07956704699603,
          441.9768650063356,
          443.8127821949855,
          446.2986997327286,
          444.0817556236633,
          437.17486295386544,
          431.81287882134416,
          426.43907183262365,
          421.5940651077132,
          421.18634534195894,
          419.45362947762993,
          420.98658096313846,
          421.6714278805674,
          421.859400580903,
          421.30308303165435,
          421.1085269259849,
          419.8360001139309,
          422.2593319425352,
          431.43722987115956,
          430.13797394131973,
          430.1763103605268,
          430.4934945523277,
          432.50595880402193,
          434.28444750326247,
          434.8635832668175,
          435.6418995976572,
          435.53812803261076,
          437.64389173942646,
          442.45693071490604,
          443.27280018675395,
          442.4861736717767,
          438.17213332474205,
          434.383021425519
         ],
         "yaxis": "y"
        }
       ],
       "layout": {
        "legend": {
         "tracegroupgap": 0
        },
        "template": {
         "data": {
          "bar": [
           {
            "error_x": {
             "color": "#2a3f5f"
            },
            "error_y": {
             "color": "#2a3f5f"
            },
            "marker": {
             "line": {
              "color": "#E5ECF6",
              "width": 0.5
             },
             "pattern": {
              "fillmode": "overlay",
              "size": 10,
              "solidity": 0.2
             }
            },
            "type": "bar"
           }
          ],
          "barpolar": [
           {
            "marker": {
             "line": {
              "color": "#E5ECF6",
              "width": 0.5
             },
             "pattern": {
              "fillmode": "overlay",
              "size": 10,
              "solidity": 0.2
             }
            },
            "type": "barpolar"
           }
          ],
          "carpet": [
           {
            "aaxis": {
             "endlinecolor": "#2a3f5f",
             "gridcolor": "white",
             "linecolor": "white",
             "minorgridcolor": "white",
             "startlinecolor": "#2a3f5f"
            },
            "baxis": {
             "endlinecolor": "#2a3f5f",
             "gridcolor": "white",
             "linecolor": "white",
             "minorgridcolor": "white",
             "startlinecolor": "#2a3f5f"
            },
            "type": "carpet"
           }
          ],
          "choropleth": [
           {
            "colorbar": {
             "outlinewidth": 0,
             "ticks": ""
            },
            "type": "choropleth"
           }
          ],
          "contour": [
           {
            "colorbar": {
             "outlinewidth": 0,
             "ticks": ""
            },
            "colorscale": [
             [
              0,
              "#0d0887"
             ],
             [
              0.1111111111111111,
              "#46039f"
             ],
             [
              0.2222222222222222,
              "#7201a8"
             ],
             [
              0.3333333333333333,
              "#9c179e"
             ],
             [
              0.4444444444444444,
              "#bd3786"
             ],
             [
              0.5555555555555556,
              "#d8576b"
             ],
             [
              0.6666666666666666,
              "#ed7953"
             ],
             [
              0.7777777777777778,
              "#fb9f3a"
             ],
             [
              0.8888888888888888,
              "#fdca26"
             ],
             [
              1,
              "#f0f921"
             ]
            ],
            "type": "contour"
           }
          ],
          "contourcarpet": [
           {
            "colorbar": {
             "outlinewidth": 0,
             "ticks": ""
            },
            "type": "contourcarpet"
           }
          ],
          "heatmap": [
           {
            "colorbar": {
             "outlinewidth": 0,
             "ticks": ""
            },
            "colorscale": [
             [
              0,
              "#0d0887"
             ],
             [
              0.1111111111111111,
              "#46039f"
             ],
             [
              0.2222222222222222,
              "#7201a8"
             ],
             [
              0.3333333333333333,
              "#9c179e"
             ],
             [
              0.4444444444444444,
              "#bd3786"
             ],
             [
              0.5555555555555556,
              "#d8576b"
             ],
             [
              0.6666666666666666,
              "#ed7953"
             ],
             [
              0.7777777777777778,
              "#fb9f3a"
             ],
             [
              0.8888888888888888,
              "#fdca26"
             ],
             [
              1,
              "#f0f921"
             ]
            ],
            "type": "heatmap"
           }
          ],
          "heatmapgl": [
           {
            "colorbar": {
             "outlinewidth": 0,
             "ticks": ""
            },
            "colorscale": [
             [
              0,
              "#0d0887"
             ],
             [
              0.1111111111111111,
              "#46039f"
             ],
             [
              0.2222222222222222,
              "#7201a8"
             ],
             [
              0.3333333333333333,
              "#9c179e"
             ],
             [
              0.4444444444444444,
              "#bd3786"
             ],
             [
              0.5555555555555556,
              "#d8576b"
             ],
             [
              0.6666666666666666,
              "#ed7953"
             ],
             [
              0.7777777777777778,
              "#fb9f3a"
             ],
             [
              0.8888888888888888,
              "#fdca26"
             ],
             [
              1,
              "#f0f921"
             ]
            ],
            "type": "heatmapgl"
           }
          ],
          "histogram": [
           {
            "marker": {
             "pattern": {
              "fillmode": "overlay",
              "size": 10,
              "solidity": 0.2
             }
            },
            "type": "histogram"
           }
          ],
          "histogram2d": [
           {
            "colorbar": {
             "outlinewidth": 0,
             "ticks": ""
            },
            "colorscale": [
             [
              0,
              "#0d0887"
             ],
             [
              0.1111111111111111,
              "#46039f"
             ],
             [
              0.2222222222222222,
              "#7201a8"
             ],
             [
              0.3333333333333333,
              "#9c179e"
             ],
             [
              0.4444444444444444,
              "#bd3786"
             ],
             [
              0.5555555555555556,
              "#d8576b"
             ],
             [
              0.6666666666666666,
              "#ed7953"
             ],
             [
              0.7777777777777778,
              "#fb9f3a"
             ],
             [
              0.8888888888888888,
              "#fdca26"
             ],
             [
              1,
              "#f0f921"
             ]
            ],
            "type": "histogram2d"
           }
          ],
          "histogram2dcontour": [
           {
            "colorbar": {
             "outlinewidth": 0,
             "ticks": ""
            },
            "colorscale": [
             [
              0,
              "#0d0887"
             ],
             [
              0.1111111111111111,
              "#46039f"
             ],
             [
              0.2222222222222222,
              "#7201a8"
             ],
             [
              0.3333333333333333,
              "#9c179e"
             ],
             [
              0.4444444444444444,
              "#bd3786"
             ],
             [
              0.5555555555555556,
              "#d8576b"
             ],
             [
              0.6666666666666666,
              "#ed7953"
             ],
             [
              0.7777777777777778,
              "#fb9f3a"
             ],
             [
              0.8888888888888888,
              "#fdca26"
             ],
             [
              1,
              "#f0f921"
             ]
            ],
            "type": "histogram2dcontour"
           }
          ],
          "mesh3d": [
           {
            "colorbar": {
             "outlinewidth": 0,
             "ticks": ""
            },
            "type": "mesh3d"
           }
          ],
          "parcoords": [
           {
            "line": {
             "colorbar": {
              "outlinewidth": 0,
              "ticks": ""
             }
            },
            "type": "parcoords"
           }
          ],
          "pie": [
           {
            "automargin": true,
            "type": "pie"
           }
          ],
          "scatter": [
           {
            "fillpattern": {
             "fillmode": "overlay",
             "size": 10,
             "solidity": 0.2
            },
            "type": "scatter"
           }
          ],
          "scatter3d": [
           {
            "line": {
             "colorbar": {
              "outlinewidth": 0,
              "ticks": ""
             }
            },
            "marker": {
             "colorbar": {
              "outlinewidth": 0,
              "ticks": ""
             }
            },
            "type": "scatter3d"
           }
          ],
          "scattercarpet": [
           {
            "marker": {
             "colorbar": {
              "outlinewidth": 0,
              "ticks": ""
             }
            },
            "type": "scattercarpet"
           }
          ],
          "scattergeo": [
           {
            "marker": {
             "colorbar": {
              "outlinewidth": 0,
              "ticks": ""
             }
            },
            "type": "scattergeo"
           }
          ],
          "scattergl": [
           {
            "marker": {
             "colorbar": {
              "outlinewidth": 0,
              "ticks": ""
             }
            },
            "type": "scattergl"
           }
          ],
          "scattermapbox": [
           {
            "marker": {
             "colorbar": {
              "outlinewidth": 0,
              "ticks": ""
             }
            },
            "type": "scattermapbox"
           }
          ],
          "scatterpolar": [
           {
            "marker": {
             "colorbar": {
              "outlinewidth": 0,
              "ticks": ""
             }
            },
            "type": "scatterpolar"
           }
          ],
          "scatterpolargl": [
           {
            "marker": {
             "colorbar": {
              "outlinewidth": 0,
              "ticks": ""
             }
            },
            "type": "scatterpolargl"
           }
          ],
          "scatterternary": [
           {
            "marker": {
             "colorbar": {
              "outlinewidth": 0,
              "ticks": ""
             }
            },
            "type": "scatterternary"
           }
          ],
          "surface": [
           {
            "colorbar": {
             "outlinewidth": 0,
             "ticks": ""
            },
            "colorscale": [
             [
              0,
              "#0d0887"
             ],
             [
              0.1111111111111111,
              "#46039f"
             ],
             [
              0.2222222222222222,
              "#7201a8"
             ],
             [
              0.3333333333333333,
              "#9c179e"
             ],
             [
              0.4444444444444444,
              "#bd3786"
             ],
             [
              0.5555555555555556,
              "#d8576b"
             ],
             [
              0.6666666666666666,
              "#ed7953"
             ],
             [
              0.7777777777777778,
              "#fb9f3a"
             ],
             [
              0.8888888888888888,
              "#fdca26"
             ],
             [
              1,
              "#f0f921"
             ]
            ],
            "type": "surface"
           }
          ],
          "table": [
           {
            "cells": {
             "fill": {
              "color": "#EBF0F8"
             },
             "line": {
              "color": "white"
             }
            },
            "header": {
             "fill": {
              "color": "#C8D4E3"
             },
             "line": {
              "color": "white"
             }
            },
            "type": "table"
           }
          ]
         },
         "layout": {
          "annotationdefaults": {
           "arrowcolor": "#2a3f5f",
           "arrowhead": 0,
           "arrowwidth": 1
          },
          "autotypenumbers": "strict",
          "coloraxis": {
           "colorbar": {
            "outlinewidth": 0,
            "ticks": ""
           }
          },
          "colorscale": {
           "diverging": [
            [
             0,
             "#8e0152"
            ],
            [
             0.1,
             "#c51b7d"
            ],
            [
             0.2,
             "#de77ae"
            ],
            [
             0.3,
             "#f1b6da"
            ],
            [
             0.4,
             "#fde0ef"
            ],
            [
             0.5,
             "#f7f7f7"
            ],
            [
             0.6,
             "#e6f5d0"
            ],
            [
             0.7,
             "#b8e186"
            ],
            [
             0.8,
             "#7fbc41"
            ],
            [
             0.9,
             "#4d9221"
            ],
            [
             1,
             "#276419"
            ]
           ],
           "sequential": [
            [
             0,
             "#0d0887"
            ],
            [
             0.1111111111111111,
             "#46039f"
            ],
            [
             0.2222222222222222,
             "#7201a8"
            ],
            [
             0.3333333333333333,
             "#9c179e"
            ],
            [
             0.4444444444444444,
             "#bd3786"
            ],
            [
             0.5555555555555556,
             "#d8576b"
            ],
            [
             0.6666666666666666,
             "#ed7953"
            ],
            [
             0.7777777777777778,
             "#fb9f3a"
            ],
            [
             0.8888888888888888,
             "#fdca26"
            ],
            [
             1,
             "#f0f921"
            ]
           ],
           "sequentialminus": [
            [
             0,
             "#0d0887"
            ],
            [
             0.1111111111111111,
             "#46039f"
            ],
            [
             0.2222222222222222,
             "#7201a8"
            ],
            [
             0.3333333333333333,
             "#9c179e"
            ],
            [
             0.4444444444444444,
             "#bd3786"
            ],
            [
             0.5555555555555556,
             "#d8576b"
            ],
            [
             0.6666666666666666,
             "#ed7953"
            ],
            [
             0.7777777777777778,
             "#fb9f3a"
            ],
            [
             0.8888888888888888,
             "#fdca26"
            ],
            [
             1,
             "#f0f921"
            ]
           ]
          },
          "colorway": [
           "#636efa",
           "#EF553B",
           "#00cc96",
           "#ab63fa",
           "#FFA15A",
           "#19d3f3",
           "#FF6692",
           "#B6E880",
           "#FF97FF",
           "#FECB52"
          ],
          "font": {
           "color": "#2a3f5f"
          },
          "geo": {
           "bgcolor": "white",
           "lakecolor": "white",
           "landcolor": "#E5ECF6",
           "showlakes": true,
           "showland": true,
           "subunitcolor": "white"
          },
          "hoverlabel": {
           "align": "left"
          },
          "hovermode": "closest",
          "mapbox": {
           "style": "light"
          },
          "paper_bgcolor": "white",
          "plot_bgcolor": "#E5ECF6",
          "polar": {
           "angularaxis": {
            "gridcolor": "white",
            "linecolor": "white",
            "ticks": ""
           },
           "bgcolor": "#E5ECF6",
           "radialaxis": {
            "gridcolor": "white",
            "linecolor": "white",
            "ticks": ""
           }
          },
          "scene": {
           "xaxis": {
            "backgroundcolor": "#E5ECF6",
            "gridcolor": "white",
            "gridwidth": 2,
            "linecolor": "white",
            "showbackground": true,
            "ticks": "",
            "zerolinecolor": "white"
           },
           "yaxis": {
            "backgroundcolor": "#E5ECF6",
            "gridcolor": "white",
            "gridwidth": 2,
            "linecolor": "white",
            "showbackground": true,
            "ticks": "",
            "zerolinecolor": "white"
           },
           "zaxis": {
            "backgroundcolor": "#E5ECF6",
            "gridcolor": "white",
            "gridwidth": 2,
            "linecolor": "white",
            "showbackground": true,
            "ticks": "",
            "zerolinecolor": "white"
           }
          },
          "shapedefaults": {
           "line": {
            "color": "#2a3f5f"
           }
          },
          "ternary": {
           "aaxis": {
            "gridcolor": "white",
            "linecolor": "white",
            "ticks": ""
           },
           "baxis": {
            "gridcolor": "white",
            "linecolor": "white",
            "ticks": ""
           },
           "bgcolor": "#E5ECF6",
           "caxis": {
            "gridcolor": "white",
            "linecolor": "white",
            "ticks": ""
           }
          },
          "title": {
           "x": 0.05
          },
          "xaxis": {
           "automargin": true,
           "gridcolor": "white",
           "linecolor": "white",
           "ticks": "",
           "title": {
            "standoff": 15
           },
           "zerolinecolor": "white",
           "zerolinewidth": 2
          },
          "yaxis": {
           "automargin": true,
           "gridcolor": "white",
           "linecolor": "white",
           "ticks": "",
           "title": {
            "standoff": 15
           },
           "zerolinecolor": "white",
           "zerolinewidth": 2
          }
         }
        },
        "title": {
         "text": "SWMZ: CO2 Corrected [ppm]"
        },
        "xaxis": {
         "anchor": "y",
         "domain": [
          0,
          1
         ],
         "title": {
          "text": "creation_timestamp"
         }
        },
        "yaxis": {
         "anchor": "x",
         "domain": [
          0,
          1
         ],
         "title": {
          "text": "gmp343_corrected"
         }
        }
       }
      }
     },
     "metadata": {},
     "output_type": "display_data"
    }
   ],
   "source": [
    "extract_site_data(dates = dates, site_name=\"SWMZ\")"
   ]
  }
 ],
 "metadata": {
  "kernelspec": {
   "display_name": ".venv",
   "language": "python",
   "name": "python3"
  },
  "language_info": {
   "codemirror_mode": {
    "name": "ipython",
    "version": 3
   },
   "file_extension": ".py",
   "mimetype": "text/x-python",
   "name": "python",
   "nbconvert_exporter": "python",
   "pygments_lexer": "ipython3",
   "version": "3.11.9"
  }
 },
 "nbformat": 4,
 "nbformat_minor": 2
}
