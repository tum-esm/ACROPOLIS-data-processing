{
 "cells": [
  {
   "cell_type": "code",
   "execution_count": null,
   "metadata": {},
   "outputs": [],
   "source": [
    "from datetime import datetime\n",
    "from datetime import timezone\n",
    "import polars as pl\n",
    "import os\n",
    "from typing import List, Dict\n",
    "\n",
    "DATA_DIRECTORY = os.environ.get(\"DATA_DIRECTORY\")\n",
    "\n",
    "# processed 10min average measurement data\n",
    "df_1m = pl.scan_parquet(os.path.join(DATA_DIRECTORY, \"processed\", \"1m_cal_corr_acropolis.parquet\"))\n",
    "\n",
    "df_1h = pl.scan_parquet(os.path.join(DATA_DIRECTORY, \"processed\", \"1h_cal_corr_acropolis.parquet\"))\n"
   ]
  },
  {
   "cell_type": "code",
   "execution_count": 10,
   "metadata": {},
   "outputs": [
    {
     "name": "stdout",
     "output_type": "stream",
     "text": [
      "{'2': [3, 4], '3': [4, 5]}\n"
     ]
    }
   ],
   "source": [
    "\n",
    "\n",
    "test = {\"2\":[3,4],\n",
    "        \"3\":[4,5]}\n",
    "\n",
    "def test1(test:dict):\n",
    "    print(test)\n",
    "    \n",
    "test1(test)"
   ]
  },
  {
   "cell_type": "code",
   "execution_count": null,
   "metadata": {},
   "outputs": [],
   "source": [
    "# Utility\n",
    "\n",
    "# dates = {\n",
    "    # \"system_id\": [start_date, end_date],\n",
    "    # \"system_id\": [start_date, end_date]\n",
    "# }\n",
    "\n",
    "def extract_site_data(dates:dict):\n",
    "    pass"
   ]
  },
  {
   "cell_type": "code",
   "execution_count": null,
   "metadata": {},
   "outputs": [],
   "source": [
    "# Maisach\n",
    "\n",
    "start_date = datetime(2024, 6, 8, 0, 0, 0).replace(tzinfo=timezone.utc)\n",
    "end_date = datetime(2024, 6, 10, 23, 59, 59).replace(tzinfo=timezone.utc)\n",
    "\n",
    "\n",
    "df_1m = pl.scan_parquet(os.path.join(DATA_DIRECTORY, \"processed\", \"1m_cal_corr_acropolis.parquet\")).filter(pl.col(\"creation_timestamp\").is_between(start_date, end_date)).collect()\n"
   ]
  }
 ],
 "metadata": {
  "kernelspec": {
   "display_name": ".venv",
   "language": "python",
   "name": "python3"
  },
  "language_info": {
   "codemirror_mode": {
    "name": "ipython",
    "version": 3
   },
   "file_extension": ".py",
   "mimetype": "text/x-python",
   "name": "python",
   "nbconvert_exporter": "python",
   "pygments_lexer": "ipython3",
   "version": "3.11.9"
  }
 },
 "nbformat": 4,
 "nbformat_minor": 2
}
