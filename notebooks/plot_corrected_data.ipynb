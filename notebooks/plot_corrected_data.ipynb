{
 "cells": [
  {
   "cell_type": "code",
   "execution_count": 73,
   "metadata": {},
   "outputs": [],
   "source": [
    "import os\n",
    "import glob\n",
    "from datetime import datetime\n",
    "from datetime import timezone\n",
    "import polars as pl\n",
    "import plotly.express as px\n",
    "import matplotlib.pyplot as plt\n",
    "from sklearn import linear_model\n",
    "import numpy as np\n",
    "import math\n",
    "from sklearn.metrics import r2_score\n",
    "\n",
    "# start_date = datetime(2023, 11, 17, 0, 0, 0).replace(tzinfo=timezone.utc)\n",
    "# end_date = datetime(2023, 11, 28, 15, 59, 59).replace(tzinfo=timezone.utc)\n",
    "# system_ids = [18]\n",
    "\n",
    "start_date = datetime(2023, 12, 22, 15, 0, 0).replace(tzinfo=timezone.utc)\n",
    "end_date = datetime(2023, 12, 30, 23, 59, 59).replace(tzinfo=timezone.utc)\n",
    "system_ids = [10,12,16,18,20]\n",
    "#system_ids = [18]\n",
    "\n",
    "filter = '1h'\n",
    "\n",
    "DATA_DIRECTORY = os.environ.get(\"DATA_DIRECTORY\")\n",
    "PICARRO_DATA_DIRECTORy = os.environ.get(\"PICARRO_DATA_DIRECTORY\")\n"
   ]
  },
  {
   "cell_type": "code",
   "execution_count": 74,
   "metadata": {},
   "outputs": [],
   "source": [
    "def rmse(y_true, y_meas):\n",
    "    MSE = np.square(np.subtract(y_true, y_meas)).mean()\n",
    "    RMSE = math.sqrt(MSE)\n",
    "\n",
    "    return RMSE\n",
    "\n",
    "def calc_r2(y_true, y_meas):\n",
    "    return r2_score(y_true, y_meas)"
   ]
  },
  {
   "cell_type": "code",
   "execution_count": 75,
   "metadata": {},
   "outputs": [],
   "source": [
    "df_cal = pl.scan_parquet(os.path.join(DATA_DIRECTORY, \"processed\", \"slope_intercept_acropolis.parquet\")) \\\n",
    "    .with_columns((pl.col(\"creation_timestamp\").dt.timestamp(\"ms\") / 3.6e6).alias(\"timestamp\")) #3.6e6 ms are in 1h"
   ]
  },
  {
   "cell_type": "markdown",
   "metadata": {},
   "source": [
    "# Perform RANSAC only on slope and then select valid calibrations"
   ]
  },
  {
   "cell_type": "code",
   "execution_count": 76,
   "metadata": {},
   "outputs": [],
   "source": [
    "# if filter == \"1h\":\n",
    "#     df_p = pl.read_parquet(os.path.join(DATA_DIRECTORY,\"processed\", \"1h_cal_corr_picarro.parquet\")) \\\n",
    "#         .filter(pl.col(\"creation_timestamp\").is_between(start_date, end_date))\n",
    "# if filter == \"10m\":\n",
    "#     df_p = pl.read_parquet(os.path.join(DATA_DIRECTORY,\"processed\", \"10m_cal_corr_picarro.parquet\")) \\\n",
    "#         .filter(pl.col(\"creation_timestamp\").is_between(start_date, end_date))\n",
    "\n",
    "# df_dry = pl.scan_parquet(os.path.join(DATA_DIRECTORY, \"processed\", \"acropolis_dry.parquet\")).filter(pl.col(\"creation_timestamp\").is_between(start_date, end_date))"
   ]
  },
  {
   "cell_type": "code",
   "execution_count": 77,
   "metadata": {},
   "outputs": [],
   "source": [
    "def fit_ransac(x, y, date):\n",
    "    #x = range(len(y))\n",
    "\n",
    "    Y = np.array(y)\n",
    "    X = np.array(x)\n",
    "    T = np.array(date)\n",
    "\n",
    "    # Robustly fit linear model with RANSAC algorithm\n",
    "    ransac = linear_model.RANSACRegressor(residual_threshold=0.02)\n",
    "    ransac.fit(X.reshape(-1, 1), Y)\n",
    "    inlier_mask = ransac.inlier_mask_\n",
    "    outlier_mask = np.logical_not(inlier_mask)\n",
    "    line_X = np.arange(X.min(), X.max())[:, np.newaxis]\n",
    "    line_y_ransac = ransac.predict(line_X)\n",
    "    \n",
    "    # plot\n",
    "    lw = 2\n",
    "    \n",
    "    plt.scatter(\n",
    "        X[inlier_mask], Y[inlier_mask], color=\"yellowgreen\", marker=\".\", label=\"Inliers\"\n",
    "    )\n",
    "    plt.scatter(\n",
    "        X[outlier_mask], Y[outlier_mask], color=\"gold\", marker=\".\", label=\"Outliers\"\n",
    "    )\n",
    "    plt.plot(\n",
    "        line_X,\n",
    "        line_y_ransac,\n",
    "        color=\"cornflowerblue\",\n",
    "        linewidth=lw,\n",
    "        label=\"RANSAC regressor\",\n",
    "    )\n",
    "    plt.legend()\n",
    "    plt.xlabel(\"Unix Time (h)\")\n",
    "    plt.ylabel(f\"slope for system: {id}\")\n",
    "    plt.show()\n",
    "    #----\n",
    "    \n",
    "    return inlier_mask"
   ]
  },
  {
   "cell_type": "code",
   "execution_count": 78,
   "metadata": {},
   "outputs": [
    {
     "data": {
      "text/html": [
       "<div><style>\n",
       ".dataframe > thead > tr > th,\n",
       ".dataframe > tbody > tr > td {\n",
       "  text-align: right;\n",
       "}\n",
       "</style>\n",
       "<small>shape: (6, 6)</small><table border=\"1\" class=\"dataframe\"><thead><tr><th>date</th><th>system_name</th><th>slope</th><th>intercept</th><th>creation_timestamp</th><th>timestamp</th></tr><tr><td>date</td><td>str</td><td>f64</td><td>f64</td><td>datetime[μs, UTC]</td><td>f64</td></tr></thead><tbody><tr><td>2023-12-23</td><td>&quot;tum-esm-midcos…</td><td>1.027195</td><td>3.588909</td><td>2023-12-23 02:21:29.740 UTC</td><td>473138.358261</td></tr><tr><td>2023-12-24</td><td>&quot;tum-esm-midcos…</td><td>1.025923</td><td>4.069319</td><td>2023-12-24 03:20:11.800 UTC</td><td>473163.336611</td></tr><tr><td>2023-12-25</td><td>&quot;tum-esm-midcos…</td><td>1.023164</td><td>6.097302</td><td>2023-12-25 04:30:16.470 UTC</td><td>473188.504575</td></tr><tr><td>2023-12-26</td><td>&quot;tum-esm-midcos…</td><td>1.025081</td><td>5.027209</td><td>2023-12-26 05:48:16.220 UTC</td><td>473213.804506</td></tr><tr><td>2023-12-27</td><td>&quot;tum-esm-midcos…</td><td>1.064069</td><td>-14.31654</td><td>2023-12-27 06:25:05.720 UTC</td><td>473238.418256</td></tr><tr><td>2023-12-28</td><td>&quot;tum-esm-midcos…</td><td>1.030924</td><td>2.526298</td><td>2023-12-28 07:22:03.960 UTC</td><td>473263.367767</td></tr></tbody></table></div>"
      ],
      "text/plain": [
       "shape: (6, 6)\n",
       "┌────────────┬───────────────────────┬──────────┬───────────┬──────────────────────┬───────────────┐\n",
       "│ date       ┆ system_name           ┆ slope    ┆ intercept ┆ creation_timestamp   ┆ timestamp     │\n",
       "│ ---        ┆ ---                   ┆ ---      ┆ ---       ┆ ---                  ┆ ---           │\n",
       "│ date       ┆ str                   ┆ f64      ┆ f64       ┆ datetime[μs, UTC]    ┆ f64           │\n",
       "╞════════════╪═══════════════════════╪══════════╪═══════════╪══════════════════════╪═══════════════╡\n",
       "│ 2023-12-23 ┆ tum-esm-midcost-raspi ┆ 1.027195 ┆ 3.588909  ┆ 2023-12-23           ┆ 473138.358261 │\n",
       "│            ┆ -12                   ┆          ┆           ┆ 02:21:29.740 UTC     ┆               │\n",
       "│ 2023-12-24 ┆ tum-esm-midcost-raspi ┆ 1.025923 ┆ 4.069319  ┆ 2023-12-24           ┆ 473163.336611 │\n",
       "│            ┆ -12                   ┆          ┆           ┆ 03:20:11.800 UTC     ┆               │\n",
       "│ 2023-12-25 ┆ tum-esm-midcost-raspi ┆ 1.023164 ┆ 6.097302  ┆ 2023-12-25           ┆ 473188.504575 │\n",
       "│            ┆ -12                   ┆          ┆           ┆ 04:30:16.470 UTC     ┆               │\n",
       "│ 2023-12-26 ┆ tum-esm-midcost-raspi ┆ 1.025081 ┆ 5.027209  ┆ 2023-12-26           ┆ 473213.804506 │\n",
       "│            ┆ -12                   ┆          ┆           ┆ 05:48:16.220 UTC     ┆               │\n",
       "│ 2023-12-27 ┆ tum-esm-midcost-raspi ┆ 1.064069 ┆ -14.31654 ┆ 2023-12-27           ┆ 473238.418256 │\n",
       "│            ┆ -12                   ┆          ┆           ┆ 06:25:05.720 UTC     ┆               │\n",
       "│ 2023-12-28 ┆ tum-esm-midcost-raspi ┆ 1.030924 ┆ 2.526298  ┆ 2023-12-28           ┆ 473263.367767 │\n",
       "│            ┆ -12                   ┆          ┆           ┆ 07:22:03.960 UTC     ┆               │\n",
       "└────────────┴───────────────────────┴──────────┴───────────┴──────────────────────┴───────────────┘"
      ]
     },
     "execution_count": 78,
     "metadata": {},
     "output_type": "execute_result"
    }
   ],
   "source": [
    "df_cal.filter(pl.col(\"system_name\") == f\"tum-esm-midcost-raspi-12\").filter(pl.col(\"creation_timestamp\").is_between(start_date, end_date)).collect()"
   ]
  },
  {
   "cell_type": "code",
   "execution_count": 79,
   "metadata": {},
   "outputs": [
    {
     "name": "stdout",
     "output_type": "stream",
     "text": [
      "`min_samples` may not be larger than number of samples: n_samples = 1.\n",
      "Could not find calibrations for system 10\n"
     ]
    },
    {
     "data": {
      "image/png": "[encoded data removed]",
      "text/plain": [
       "<Figure size 640x480 with 1 Axes>"
      ]
     },
     "metadata": {},
     "output_type": "display_data"
    },
    {
     "data": {
      "image/png": "[encoded data removed]",
      "text/plain": [
       "<Figure size 640x480 with 1 Axes>"
      ]
     },
     "metadata": {},
     "output_type": "display_data"
    },
    {
     "data": {
      "image/png": "[encoded data removed]",
      "text/plain": [
       "<Figure size 640x480 with 1 Axes>"
      ]
     },
     "metadata": {},
     "output_type": "display_data"
    },
    {
     "data": {
      "image/png": "[encoded data removed]",
      "text/plain": [
       "<Figure size 640x480 with 1 Axes>"
      ]
     },
     "metadata": {},
     "output_type": "display_data"
    }
   ],
   "source": [
    "l_df_cor = []\n",
    "\n",
    "for id in system_ids:\n",
    "    try:\n",
    "        df_sys = df_cal.filter(pl.col(\"system_name\") == f\"tum-esm-midcost-raspi-{id}\").filter(pl.col(\"creation_timestamp\").is_between(start_date, end_date))\n",
    "\n",
    "        y = df_sys.select(pl.col(\"slope\")).collect().to_series().to_list()\n",
    "        x = df_sys.select(pl.col(\"timestamp\")).collect().to_series().to_list()\n",
    "        d = df_sys.select(pl.col(\"creation_timestamp\")).collect().to_series().to_list()\n",
    "        mask = fit_ransac(x,y,d)\n",
    "\n",
    "        df_sys = df_sys.with_columns(mask = pl.Series(mask)).collect()\n",
    "        \n",
    "        l_df_cor.append(df_sys)\n",
    "    except Exception as e:\n",
    "        print(e)\n",
    "        print(f\"Could not find calibrations for system {id}\")\n",
    "    \n",
    "\n",
    "df_cal_ransac = pl.concat(l_df_cor, how=\"diagonal\")"
   ]
  },
  {
   "cell_type": "code",
   "execution_count": 80,
   "metadata": {},
   "outputs": [
    {
     "data": {
      "text/html": [
       "<div><style>\n",
       ".dataframe > thead > tr > th,\n",
       ".dataframe > tbody > tr > td {\n",
       "  text-align: right;\n",
       "}\n",
       "</style>\n",
       "<small>shape: (3, 9)</small><table border=\"1\" class=\"dataframe\"><thead><tr><th>date</th><th>system_name</th><th>slope</th><th>intercept</th><th>creation_timestamp</th><th>timestamp</th><th>mask</th><th>ransac_slope</th><th>ransac_intercept</th></tr><tr><td>date</td><td>str</td><td>f64</td><td>f64</td><td>datetime[μs, UTC]</td><td>f64</td><td>bool</td><td>f64</td><td>f64</td></tr></thead><tbody><tr><td>2023-12-23</td><td>&quot;tum-esm-midcos…</td><td>1.027195</td><td>3.588909</td><td>2023-12-23 02:21:29.740 UTC</td><td>473138.358261</td><td>true</td><td>1.027195</td><td>3.588909</td></tr><tr><td>2023-12-23</td><td>&quot;tum-esm-midcos…</td><td>0.994526</td><td>-7.130625</td><td>2023-12-23 02:31:21.470 UTC</td><td>473138.522631</td><td>true</td><td>0.994526</td><td>-7.130625</td></tr><tr><td>2023-12-23</td><td>&quot;tum-esm-midcos…</td><td>1.00255</td><td>-1.302809</td><td>2023-12-23 02:31:24.520 UTC</td><td>473138.523478</td><td>true</td><td>1.00255</td><td>-1.302809</td></tr></tbody></table></div>"
      ],
      "text/plain": [
       "shape: (3, 9)\n",
       "┌────────────┬────────────┬──────────┬───────────┬───┬────────────┬──────┬────────────┬────────────┐\n",
       "│ date       ┆ system_nam ┆ slope    ┆ intercept ┆ … ┆ timestamp  ┆ mask ┆ ransac_slo ┆ ransac_int │\n",
       "│ ---        ┆ e          ┆ ---      ┆ ---       ┆   ┆ ---        ┆ ---  ┆ pe         ┆ ercept     │\n",
       "│ date       ┆ ---        ┆ f64      ┆ f64       ┆   ┆ f64        ┆ bool ┆ ---        ┆ ---        │\n",
       "│            ┆ str        ┆          ┆           ┆   ┆            ┆      ┆ f64        ┆ f64        │\n",
       "╞════════════╪════════════╪══════════╪═══════════╪═══╪════════════╪══════╪════════════╪════════════╡\n",
       "│ 2023-12-23 ┆ tum-esm-mi ┆ 1.027195 ┆ 3.588909  ┆ … ┆ 473138.358 ┆ true ┆ 1.027195   ┆ 3.588909   │\n",
       "│            ┆ dcost-rasp ┆          ┆           ┆   ┆ 261        ┆      ┆            ┆            │\n",
       "│            ┆ i-12       ┆          ┆           ┆   ┆            ┆      ┆            ┆            │\n",
       "│ 2023-12-23 ┆ tum-esm-mi ┆ 0.994526 ┆ -7.130625 ┆ … ┆ 473138.522 ┆ true ┆ 0.994526   ┆ -7.130625  │\n",
       "│            ┆ dcost-rasp ┆          ┆           ┆   ┆ 631        ┆      ┆            ┆            │\n",
       "│            ┆ i-20       ┆          ┆           ┆   ┆            ┆      ┆            ┆            │\n",
       "│ 2023-12-23 ┆ tum-esm-mi ┆ 1.00255  ┆ -1.302809 ┆ … ┆ 473138.523 ┆ true ┆ 1.00255    ┆ -1.302809  │\n",
       "│            ┆ dcost-rasp ┆          ┆           ┆   ┆ 478        ┆      ┆            ┆            │\n",
       "│            ┆ i-18       ┆          ┆           ┆   ┆            ┆      ┆            ┆            │\n",
       "└────────────┴────────────┴──────────┴───────────┴───┴────────────┴──────┴────────────┴────────────┘"
      ]
     },
     "execution_count": 80,
     "metadata": {},
     "output_type": "execute_result"
    }
   ],
   "source": [
    "df_cal_ransac = df_cal_ransac.with_columns((pl.col(\"slope\") * pl.col(\"mask\")).alias(\"ransac_slope\")) \\\n",
    "    .with_columns((pl.col(\"intercept\") * pl.col(\"mask\")).alias(\"ransac_intercept\")) \\\n",
    "    .filter(pl.col(\"mask\") == True) \\\n",
    "    .sort(\"creation_timestamp\") \\\n",
    "    .lazy()\n",
    "    \n",
    "df_cal_ransac.head(3).collect()"
   ]
  },
  {
   "cell_type": "code",
   "execution_count": 81,
   "metadata": {},
   "outputs": [],
   "source": [
    "df_dry = pl.scan_parquet(os.path.join(DATA_DIRECTORY, \"processed\", \"acropolis_dry.parquet\")).filter(pl.col(\"creation_timestamp\").is_between(start_date, end_date))"
   ]
  },
  {
   "cell_type": "code",
   "execution_count": 82,
   "metadata": {},
   "outputs": [],
   "source": [
    "df_p_1h = pl.read_parquet(os.path.join(DATA_DIRECTORY,\"processed\", \"1h_cal_corr_picarro.parquet\")) \\\n",
    "        .filter(pl.col(\"creation_timestamp\").is_between(start_date, end_date))\n",
    "\n",
    "# reduce timestamp to date DD.XX.YYYY for measurement dataset and join slope and intercept from df_cal\n",
    "df_date = df_dry.filter(pl.col(\"gmp343_dry\") > 0) \\\n",
    "    .with_columns(pl.col(\"creation_timestamp\").dt.date().alias(\"date\")) \\\n",
    "    .join(df_cal_ransac, on = [\"date\",\"system_name\"], how= \"left\")\n",
    "\n",
    "        \n",
    "l_df_cal_corr =[df_p_1h]\n",
    "\n",
    "for id in system_ids:  \n",
    "    # broadcast: via backward and forward fill\n",
    "    # calibration correction: via coloumn operation \n",
    "    # aggregation: defined by filter\n",
    "    # offset calculation to reference instrument PICARRO\n",
    "    df_cal_corr = df_date.filter(pl.col(\"system_name\") == f\"tum-esm-midcost-raspi-{id}\") \\\n",
    "    .fill_null(strategy = \"backward\") \\\n",
    "    .fill_null(strategy = \"forward\") \\\n",
    "    .with_columns(((pl.col(\"gmp343_dry\")) * pl.col(\"slope\") + pl.col(\"intercept\")) \\\n",
    "    .alias(\"CO2_corr\")) \\\n",
    "    .sort(\"creation_timestamp\") \\\n",
    "    .groupby_dynamic(\"creation_timestamp\", every='1h')  \\\n",
    "    .agg([\n",
    "        pl.all().exclude([\"creation_timestamp\",\"system_name\"]).mean(),\n",
    "        pl.col(\"system_name\")\n",
    "        ]) \\\n",
    "    .with_columns(pl.col(\"system_name\").list.last()) \\\n",
    "    .collect()\n",
    "        \n",
    "    df_cal_corr = df_cal_corr.join(df_p_1h.select(\"creation_timestamp\", \"CO2_corr\") \\\n",
    "                .rename({\"CO2_corr\": \"temp\"}), on=\"creation_timestamp\", how= \"left\") \\\n",
    "                .with_columns((pl.col(\"CO2_corr\") - pl.col(\"temp\")).alias(\"diff\")) \\\n",
    "                .drop(\"temp\")\n",
    "        \n",
    "    l_df_cal_corr.append(df_cal_corr)\n",
    "        \n",
    "    \n",
    "df_cal_corr_agg_1h = pl.concat(l_df_cal_corr, how=\"diagonal\")\n",
    "df_cal_corr_agg_1h.write_parquet(os.path.join(DATA_DIRECTORY, \"processed\", \"1h_cal_corr_acropolis.parquet\"))\n"
   ]
  },
  {
   "cell_type": "code",
   "execution_count": 83,
   "metadata": {},
   "outputs": [],
   "source": [
    "df_p_10m = pl.read_parquet(os.path.join(DATA_DIRECTORY,\"processed\", \"10m_cal_corr_picarro.parquet\")) \\\n",
    "        .filter(pl.col(\"creation_timestamp\").is_between(start_date, end_date))\n",
    "\n",
    "# reduce timestamp to date DD.XX.YYYY for measurement dataset and join slope and intercept from df_cal\n",
    "df_date = df_dry.filter(pl.col(\"gmp343_dry\") > 0) \\\n",
    "    .with_columns(pl.col(\"creation_timestamp\").dt.date().alias(\"date\")) \\\n",
    "    .join(df_cal_ransac, on = [\"date\",\"system_name\"], how= \"left\")\n",
    "\n",
    "        \n",
    "l_df_cal_corr =[df_p_10m]\n",
    "\n",
    "for id in system_ids:  \n",
    "    # broadcast: via backward and forward fill\n",
    "    # calibration correction: via coloumn operation \n",
    "    # aggregation: defined by filter\n",
    "    # offset calculation to reference instrument PICARRO\n",
    "    df_cal_corr = df_date.filter(pl.col(\"system_name\") == f\"tum-esm-midcost-raspi-{id}\") \\\n",
    "    .fill_null(strategy = \"backward\") \\\n",
    "    .fill_null(strategy = \"forward\") \\\n",
    "    .with_columns(((pl.col(\"gmp343_dry\")) * pl.col(\"slope\") + pl.col(\"intercept\")) \\\n",
    "    .alias(\"CO2_corr\")) \\\n",
    "    .sort(\"creation_timestamp\") \\\n",
    "    .groupby_dynamic(\"creation_timestamp\", every='10m')  \\\n",
    "    .agg([\n",
    "        pl.all().exclude([\"creation_timestamp\",\"system_name\"]).mean(),\n",
    "        pl.col(\"system_name\")\n",
    "        ]) \\\n",
    "    .with_columns(pl.col(\"system_name\").list.last()) \\\n",
    "    .collect()\n",
    "        \n",
    "    df_cal_corr = df_cal_corr.join(df_p_10m.select(\"creation_timestamp\", \"CO2_corr\") \\\n",
    "                .rename({\"CO2_corr\": \"temp\"}), on=\"creation_timestamp\", how= \"left\") \\\n",
    "                .with_columns((pl.col(\"CO2_corr\") - pl.col(\"temp\")).alias(\"diff\")) \\\n",
    "                .drop(\"temp\")\n",
    "        \n",
    "    l_df_cal_corr.append(df_cal_corr)\n",
    "        \n",
    "    \n",
    "df_cal_corr_agg_10m = pl.concat(l_df_cal_corr, how=\"diagonal\")\n",
    "df_cal_corr_agg_10m.write_parquet(os.path.join(DATA_DIRECTORY, \"processed\", \"10m_cal_corr_acropolis.parquet\"))\n"
   ]
  },
  {
   "cell_type": "code",
   "execution_count": 84,
   "metadata": {},
   "outputs": [
    {
     "data": {
      "application/vnd.plotly.v1+json": {
       "config": {
        "plotlyServerURL": "https://plot.ly"
       },
       "data": [
        {
         "hovertemplate": "system_name=Picarro<br>creation_timestamp=%{x}<br>CO2_corr=%{y}<extra></extra>",
         "legendgroup": "Picarro",
         "line": {
          "color": "#636efa",
          "dash": "solid"
         },
         "marker": {
          "symbol": "circle"
         },
         "mode": "markers+lines",
         "name": "Picarro",
         "orientation": "v",
         "showlegend": true,
         "type": "scatter",
         "x": [
          "2023-12-22T16:00:00+00:00",
          "2023-12-22T17:00:00+00:00",
          "2023-12-22T18:00:00+00:00",
          "2023-12-22T19:00:00+00:00",
          "2023-12-22T20:00:00+00:00",
          "2023-12-22T21:00:00+00:00",
          "2023-12-22T22:00:00+00:00",
          "2023-12-22T23:00:00+00:00",
          "2023-12-23T00:00:00+00:00",
          "2023-12-23T01:00:00+00:00",
          "2023-12-23T02:00:00+00:00",
          "2023-12-23T03:00:00+00:00",
          "2023-12-23T04:00:00+00:00",
          "2023-12-23T05:00:00+00:00",
          "2023-12-23T06:00:00+00:00",
          "2023-12-23T07:00:00+00:00",
          "2023-12-23T08:00:00+00:00",
          "2023-12-23T09:00:00+00:00",
          "2023-12-23T10:00:00+00:00",
          "2023-12-23T11:00:00+00:00",
          "2023-12-23T12:00:00+00:00",
          "2023-12-23T13:00:00+00:00",
          "2023-12-23T14:00:00+00:00",
          "2023-12-23T15:00:00+00:00",
          "2023-12-23T16:00:00+00:00",
          "2023-12-23T17:00:00+00:00",
          "2023-12-23T18:00:00+00:00",
          "2023-12-23T19:00:00+00:00",
          "2023-12-23T20:00:00+00:00",
          "2023-12-23T21:00:00+00:00",
          "2023-12-23T22:00:00+00:00",
          "2023-12-23T23:00:00+00:00",
          "2023-12-24T00:00:00+00:00",
          "2023-12-24T01:00:00+00:00",
          "2023-12-24T02:00:00+00:00",
          "2023-12-24T03:00:00+00:00",
          "2023-12-24T04:00:00+00:00",
          "2023-12-24T05:00:00+00:00",
          "2023-12-24T06:00:00+00:00",
          "2023-12-24T07:00:00+00:00",
          "2023-12-24T08:00:00+00:00",
          "2023-12-24T09:00:00+00:00",
          "2023-12-24T10:00:00+00:00",
          "2023-12-24T11:00:00+00:00",
          "2023-12-24T12:00:00+00:00",
          "2023-12-24T13:00:00+00:00",
          "2023-12-24T14:00:00+00:00",
          "2023-12-24T15:00:00+00:00",
          "2023-12-24T16:00:00+00:00",
          "2023-12-24T17:00:00+00:00",
          "2023-12-24T18:00:00+00:00",
          "2023-12-24T19:00:00+00:00",
          "2023-12-24T20:00:00+00:00",
          "2023-12-24T21:00:00+00:00",
          "2023-12-24T22:00:00+00:00",
          "2023-12-24T23:00:00+00:00",
          "2023-12-25T00:00:00+00:00",
          "2023-12-25T01:00:00+00:00",
          "2023-12-25T02:00:00+00:00",
          "2023-12-25T03:00:00+00:00",
          "2023-12-25T04:00:00+00:00",
          "2023-12-25T05:00:00+00:00",
          "2023-12-25T06:00:00+00:00",
          "2023-12-25T07:00:00+00:00",
          "2023-12-25T08:00:00+00:00",
          "2023-12-25T09:00:00+00:00",
          "2023-12-25T10:00:00+00:00",
          "2023-12-25T11:00:00+00:00",
          "2023-12-25T12:00:00+00:00",
          "2023-12-25T13:00:00+00:00",
          "2023-12-25T14:00:00+00:00",
          "2023-12-25T15:00:00+00:00",
          "2023-12-25T16:00:00+00:00",
          "2023-12-25T17:00:00+00:00",
          "2023-12-25T18:00:00+00:00",
          "2023-12-25T19:00:00+00:00",
          "2023-12-25T20:00:00+00:00",
          "2023-12-25T21:00:00+00:00",
          "2023-12-25T22:00:00+00:00",
          "2023-12-25T23:00:00+00:00",
          "2023-12-26T00:00:00+00:00",
          "2023-12-26T01:00:00+00:00",
          "2023-12-26T02:00:00+00:00",
          "2023-12-26T03:00:00+00:00",
          "2023-12-26T04:00:00+00:00",
          "2023-12-26T05:00:00+00:00",
          "2023-12-26T06:00:00+00:00",
          "2023-12-26T07:00:00+00:00",
          "2023-12-26T08:00:00+00:00",
          "2023-12-26T09:00:00+00:00",
          "2023-12-26T10:00:00+00:00",
          "2023-12-26T11:00:00+00:00",
          "2023-12-26T12:00:00+00:00",
          "2023-12-26T13:00:00+00:00",
          "2023-12-26T14:00:00+00:00",
          "2023-12-26T15:00:00+00:00",
          "2023-12-26T16:00:00+00:00",
          "2023-12-26T17:00:00+00:00",
          "2023-12-26T18:00:00+00:00",
          "2023-12-26T19:00:00+00:00",
          "2023-12-26T20:00:00+00:00",
          "2023-12-26T21:00:00+00:00",
          "2023-12-26T22:00:00+00:00",
          "2023-12-26T23:00:00+00:00",
          "2023-12-27T00:00:00+00:00",
          "2023-12-27T01:00:00+00:00",
          "2023-12-27T02:00:00+00:00",
          "2023-12-27T03:00:00+00:00",
          "2023-12-27T04:00:00+00:00",
          "2023-12-27T05:00:00+00:00",
          "2023-12-27T06:00:00+00:00",
          "2023-12-27T07:00:00+00:00",
          "2023-12-27T08:00:00+00:00",
          "2023-12-27T09:00:00+00:00",
          "2023-12-27T10:00:00+00:00",
          "2023-12-27T11:00:00+00:00",
          "2023-12-27T12:00:00+00:00",
          "2023-12-27T13:00:00+00:00",
          "2023-12-27T14:00:00+00:00",
          "2023-12-27T15:00:00+00:00",
          "2023-12-27T16:00:00+00:00",
          "2023-12-27T17:00:00+00:00",
          "2023-12-27T18:00:00+00:00",
          "2023-12-27T19:00:00+00:00",
          "2023-12-27T20:00:00+00:00",
          "2023-12-27T21:00:00+00:00",
          "2023-12-27T22:00:00+00:00",
          "2023-12-27T23:00:00+00:00"
         ],
         "xaxis": "x",
         "y": [
          432.6202836024422,
          432.3173115366618,
          431.76874092636797,
          431.03543595929676,
          430.26310816166745,
          429.7284599471115,
          429.1437957690463,
          428.66570801985483,
          428.26741292236943,
          428.0358381854146,
          428.08024871410475,
          428.4832945522666,
          428.9829731393467,
          429.17690228669807,
          429.391397523572,
          429.3819803041824,
          429.45460898471487,
          428.90770159990905,
          428.4524649931029,
          428.7678862279474,
          428.6776718286587,
          429.0605833722824,
          428.71866350401615,
          429.19938810047955,
          429.6981459558785,
          429.59049681599066,
          429.62965910519523,
          429.28262171621645,
          429.1902080393997,
          429.0294477362154,
          428.50749000275675,
          428.5067215135377,
          428.1997956801828,
          428.0301628521585,
          428.0443203067054,
          428.15271579770103,
          428.22745049157675,
          428.29759295242957,
          428.76022650623725,
          429.01575395490846,
          429.0643461266951,
          428.87218973331477,
          428.5163774722027,
          427.1762104700149,
          427.3519501152403,
          426.7827262791006,
          426.31353338512497,
          426.53907116929787,
          426.65382149046576,
          426.7375044919106,
          426.8096620886211,
          426.76417606840965,
          427.0202358108226,
          426.86077802692563,
          426.52255815011955,
          426.1901285090044,
          426.31767619594564,
          426.62431613343233,
          427.5643954589158,
          428.2822377026993,
          428.81407218505586,
          428.31874555453606,
          429.4060921418855,
          432.45530830427265,
          432.558353232451,
          430.73978495945715,
          428.5496066099366,
          427.94718618769457,
          427.45514229255326,
          427.48313699607684,
          427.60908503445836,
          429.1107454181639,
          430.00986541093823,
          431.98474154543055,
          430.75757601044285,
          431.7026615196789,
          432.25489990834643,
          433.807327736257,
          438.06571562066614,
          439.6644515108479,
          439.18764354509653,
          436.99714156810035,
          441.93230732511773,
          444.28287422482987,
          445.7736830543515,
          433.287100186545,
          432.53326715046825,
          433.8131227002605,
          433.6937696006187,
          430.8808919333368,
          430.78558791900406,
          430.0983066169946,
          431.0204855550336,
          431.6794729432964,
          430.5959236994696,
          432.68123767917064,
          435.55302886998624,
          435.05368479919997,
          436.5095604153056,
          436.7814025386967,
          437.1719276201029,
          438.84181793631996,
          438.5227734245517,
          438.4110083325815,
          439.81830247239856,
          441.0136942390617,
          438.3348834085784,
          439.56138012663706,
          442.02239707731405,
          449.6243168352314,
          455.61108705103123,
          457.64127399224003,
          454.5032760947595,
          452.4737272188061,
          443.5760813328831,
          439.558462123553,
          441.07239260250253,
          441.6175516202179,
          445.3272579327866,
          449.1568611211271,
          454.801387781329,
          462.47219988955345,
          473.1225009983907,
          472.8348174786354,
          463.76432860918146,
          460.3665597316966,
          457.52619544791986,
          451.32479701326537
         ],
         "yaxis": "y"
        },
        {
         "hovertemplate": "system_name=tum-esm-midcost-raspi-10<br>creation_timestamp=%{x}<br>CO2_corr=%{y}<extra></extra>",
         "legendgroup": "tum-esm-midcost-raspi-10",
         "line": {
          "color": "#EF553B",
          "dash": "solid"
         },
         "marker": {
          "symbol": "circle"
         },
         "mode": "markers+lines",
         "name": "tum-esm-midcost-raspi-10",
         "orientation": "v",
         "showlegend": true,
         "type": "scatter",
         "x": [
          "2023-12-22T15:00:00+00:00",
          "2023-12-22T16:00:00+00:00",
          "2023-12-22T17:00:00+00:00",
          "2023-12-22T18:00:00+00:00",
          "2023-12-22T19:00:00+00:00",
          "2023-12-22T20:00:00+00:00",
          "2023-12-22T21:00:00+00:00",
          "2023-12-22T22:00:00+00:00",
          "2023-12-22T23:00:00+00:00",
          "2023-12-23T00:00:00+00:00",
          "2023-12-23T01:00:00+00:00",
          "2023-12-23T02:00:00+00:00",
          "2023-12-23T03:00:00+00:00",
          "2023-12-23T04:00:00+00:00",
          "2023-12-23T05:00:00+00:00",
          "2023-12-23T06:00:00+00:00",
          "2023-12-23T07:00:00+00:00",
          "2023-12-23T08:00:00+00:00",
          "2023-12-23T09:00:00+00:00",
          "2023-12-23T10:00:00+00:00",
          "2023-12-23T11:00:00+00:00",
          "2023-12-23T12:00:00+00:00",
          "2023-12-23T13:00:00+00:00",
          "2023-12-23T14:00:00+00:00",
          "2023-12-23T15:00:00+00:00",
          "2023-12-23T16:00:00+00:00",
          "2023-12-23T17:00:00+00:00",
          "2023-12-23T18:00:00+00:00",
          "2023-12-23T19:00:00+00:00",
          "2023-12-23T20:00:00+00:00",
          "2023-12-23T21:00:00+00:00",
          "2023-12-23T22:00:00+00:00",
          "2023-12-23T23:00:00+00:00",
          "2023-12-24T00:00:00+00:00",
          "2023-12-24T01:00:00+00:00",
          "2023-12-24T02:00:00+00:00",
          "2023-12-24T03:00:00+00:00",
          "2023-12-24T04:00:00+00:00",
          "2023-12-24T05:00:00+00:00",
          "2023-12-24T06:00:00+00:00",
          "2023-12-24T07:00:00+00:00",
          "2023-12-24T08:00:00+00:00",
          "2023-12-24T09:00:00+00:00",
          "2023-12-24T10:00:00+00:00",
          "2023-12-24T11:00:00+00:00",
          "2023-12-24T12:00:00+00:00",
          "2023-12-24T13:00:00+00:00",
          "2023-12-24T14:00:00+00:00",
          "2023-12-24T15:00:00+00:00",
          "2023-12-24T16:00:00+00:00",
          "2023-12-24T17:00:00+00:00",
          "2023-12-24T18:00:00+00:00",
          "2023-12-24T19:00:00+00:00",
          "2023-12-24T20:00:00+00:00",
          "2023-12-24T21:00:00+00:00",
          "2023-12-24T22:00:00+00:00",
          "2023-12-24T23:00:00+00:00",
          "2023-12-25T00:00:00+00:00",
          "2023-12-25T01:00:00+00:00",
          "2023-12-25T02:00:00+00:00",
          "2023-12-25T03:00:00+00:00",
          "2023-12-25T04:00:00+00:00",
          "2023-12-25T05:00:00+00:00",
          "2023-12-25T06:00:00+00:00",
          "2023-12-25T07:00:00+00:00",
          "2023-12-25T08:00:00+00:00",
          "2023-12-25T09:00:00+00:00",
          "2023-12-25T10:00:00+00:00",
          "2023-12-25T11:00:00+00:00",
          "2023-12-25T12:00:00+00:00",
          "2023-12-25T13:00:00+00:00",
          "2023-12-25T14:00:00+00:00",
          "2023-12-25T15:00:00+00:00",
          "2023-12-25T16:00:00+00:00",
          "2023-12-25T17:00:00+00:00",
          "2023-12-25T18:00:00+00:00",
          "2023-12-25T19:00:00+00:00",
          "2023-12-25T20:00:00+00:00",
          "2023-12-25T21:00:00+00:00",
          "2023-12-25T22:00:00+00:00",
          "2023-12-25T23:00:00+00:00",
          "2023-12-26T00:00:00+00:00",
          "2023-12-26T01:00:00+00:00",
          "2023-12-26T02:00:00+00:00",
          "2023-12-26T03:00:00+00:00",
          "2023-12-26T04:00:00+00:00",
          "2023-12-26T05:00:00+00:00",
          "2023-12-26T06:00:00+00:00",
          "2023-12-26T07:00:00+00:00",
          "2023-12-26T08:00:00+00:00",
          "2023-12-26T09:00:00+00:00",
          "2023-12-26T10:00:00+00:00",
          "2023-12-26T11:00:00+00:00",
          "2023-12-26T12:00:00+00:00",
          "2023-12-26T13:00:00+00:00",
          "2023-12-26T14:00:00+00:00",
          "2023-12-26T15:00:00+00:00",
          "2023-12-26T16:00:00+00:00",
          "2023-12-26T17:00:00+00:00",
          "2023-12-26T18:00:00+00:00",
          "2023-12-26T19:00:00+00:00",
          "2023-12-26T20:00:00+00:00",
          "2023-12-26T21:00:00+00:00",
          "2023-12-26T22:00:00+00:00",
          "2023-12-26T23:00:00+00:00",
          "2023-12-27T00:00:00+00:00",
          "2023-12-27T01:00:00+00:00",
          "2023-12-27T02:00:00+00:00",
          "2023-12-27T03:00:00+00:00",
          "2023-12-27T04:00:00+00:00",
          "2023-12-27T05:00:00+00:00",
          "2023-12-27T06:00:00+00:00",
          "2023-12-27T07:00:00+00:00",
          "2023-12-27T08:00:00+00:00",
          "2023-12-27T09:00:00+00:00",
          "2023-12-27T10:00:00+00:00",
          "2023-12-27T11:00:00+00:00",
          "2023-12-27T12:00:00+00:00",
          "2023-12-27T13:00:00+00:00",
          "2023-12-27T14:00:00+00:00",
          "2023-12-27T15:00:00+00:00",
          "2023-12-27T16:00:00+00:00",
          "2023-12-27T17:00:00+00:00",
          "2023-12-27T18:00:00+00:00",
          "2023-12-27T19:00:00+00:00",
          "2023-12-27T20:00:00+00:00",
          "2023-12-27T21:00:00+00:00",
          "2023-12-27T22:00:00+00:00",
          "2023-12-27T23:00:00+00:00",
          "2023-12-28T00:00:00+00:00",
          "2023-12-28T01:00:00+00:00",
          "2023-12-28T02:00:00+00:00",
          "2023-12-28T03:00:00+00:00",
          "2023-12-28T04:00:00+00:00",
          "2023-12-28T05:00:00+00:00",
          "2023-12-28T06:00:00+00:00",
          "2023-12-28T07:00:00+00:00",
          "2023-12-28T08:00:00+00:00",
          "2023-12-28T09:00:00+00:00",
          "2023-12-28T10:00:00+00:00",
          "2023-12-28T11:00:00+00:00",
          "2023-12-28T12:00:00+00:00",
          "2023-12-28T13:00:00+00:00",
          "2023-12-28T14:00:00+00:00",
          "2023-12-28T15:00:00+00:00",
          "2023-12-28T16:00:00+00:00",
          "2023-12-28T17:00:00+00:00"
         ],
         "xaxis": "x",
         "y": [
          null,
          null,
          null,
          null,
          null,
          null,
          null,
          null,
          null,
          null,
          null,
          null,
          null,
          null,
          null,
          null,
          null,
          null,
          null,
          null,
          null,
          null,
          null,
          null,
          null,
          null,
          null,
          null,
          null,
          null,
          null,
          null,
          null,
          null,
          null,
          null,
          null,
          null,
          null,
          null,
          null,
          null,
          null,
          null,
          null,
          null,
          null,
          null,
          null,
          null,
          null,
          null,
          null,
          null,
          null,
          null,
          null,
          null,
          null,
          null,
          null,
          null,
          null,
          null,
          null,
          null,
          null,
          null,
          null,
          null,
          null,
          null,
          null,
          null,
          null,
          null,
          null,
          null,
          null,
          null,
          null,
          null,
          null,
          null,
          null,
          null,
          null,
          null,
          null,
          null,
          null,
          null,
          null,
          null,
          null,
          null,
          null,
          null,
          null,
          null,
          null,
          null,
          null,
          null,
          null,
          null,
          null,
          null,
          null,
          null,
          null,
          null,
          null,
          null,
          null,
          null,
          null,
          null,
          null,
          null,
          null,
          null,
          null,
          null,
          null,
          null,
          null,
          null,
          null,
          null,
          null,
          null,
          null,
          null,
          null,
          null,
          null,
          null,
          null,
          null,
          null,
          null,
          null,
          null,
          null,
          null,
          null
         ],
         "yaxis": "y"
        },
        {
         "hovertemplate": "system_name=tum-esm-midcost-raspi-12<br>creation_timestamp=%{x}<br>CO2_corr=%{y}<extra></extra>",
         "legendgroup": "tum-esm-midcost-raspi-12",
         "line": {
          "color": "#00cc96",
          "dash": "solid"
         },
         "marker": {
          "symbol": "circle"
         },
         "mode": "markers+lines",
         "name": "tum-esm-midcost-raspi-12",
         "orientation": "v",
         "showlegend": true,
         "type": "scatter",
         "x": [
          "2023-12-22T15:00:00+00:00",
          "2023-12-22T16:00:00+00:00",
          "2023-12-22T17:00:00+00:00",
          "2023-12-22T18:00:00+00:00",
          "2023-12-22T19:00:00+00:00",
          "2023-12-22T20:00:00+00:00",
          "2023-12-22T21:00:00+00:00",
          "2023-12-22T22:00:00+00:00",
          "2023-12-22T23:00:00+00:00",
          "2023-12-23T00:00:00+00:00",
          "2023-12-23T01:00:00+00:00",
          "2023-12-23T02:00:00+00:00",
          "2023-12-23T03:00:00+00:00",
          "2023-12-23T04:00:00+00:00",
          "2023-12-23T05:00:00+00:00",
          "2023-12-23T06:00:00+00:00",
          "2023-12-23T07:00:00+00:00",
          "2023-12-23T08:00:00+00:00",
          "2023-12-23T09:00:00+00:00",
          "2023-12-23T10:00:00+00:00",
          "2023-12-23T11:00:00+00:00",
          "2023-12-23T12:00:00+00:00",
          "2023-12-23T13:00:00+00:00",
          "2023-12-23T14:00:00+00:00",
          "2023-12-23T15:00:00+00:00",
          "2023-12-23T16:00:00+00:00",
          "2023-12-23T17:00:00+00:00",
          "2023-12-23T18:00:00+00:00",
          "2023-12-23T19:00:00+00:00",
          "2023-12-23T20:00:00+00:00",
          "2023-12-23T21:00:00+00:00",
          "2023-12-23T22:00:00+00:00",
          "2023-12-23T23:00:00+00:00",
          "2023-12-24T00:00:00+00:00",
          "2023-12-24T01:00:00+00:00",
          "2023-12-24T02:00:00+00:00",
          "2023-12-24T03:00:00+00:00",
          "2023-12-24T04:00:00+00:00",
          "2023-12-24T05:00:00+00:00",
          "2023-12-24T06:00:00+00:00",
          "2023-12-24T07:00:00+00:00",
          "2023-12-24T08:00:00+00:00",
          "2023-12-24T09:00:00+00:00",
          "2023-12-24T10:00:00+00:00",
          "2023-12-24T11:00:00+00:00",
          "2023-12-24T12:00:00+00:00",
          "2023-12-24T13:00:00+00:00",
          "2023-12-24T14:00:00+00:00",
          "2023-12-24T15:00:00+00:00",
          "2023-12-24T16:00:00+00:00",
          "2023-12-24T17:00:00+00:00",
          "2023-12-24T18:00:00+00:00",
          "2023-12-24T19:00:00+00:00",
          "2023-12-24T20:00:00+00:00",
          "2023-12-24T21:00:00+00:00",
          "2023-12-24T22:00:00+00:00",
          "2023-12-24T23:00:00+00:00",
          "2023-12-25T00:00:00+00:00",
          "2023-12-25T01:00:00+00:00",
          "2023-12-25T02:00:00+00:00",
          "2023-12-25T03:00:00+00:00",
          "2023-12-25T04:00:00+00:00",
          "2023-12-25T05:00:00+00:00",
          "2023-12-25T06:00:00+00:00",
          "2023-12-25T07:00:00+00:00",
          "2023-12-25T08:00:00+00:00",
          "2023-12-25T09:00:00+00:00",
          "2023-12-25T10:00:00+00:00",
          "2023-12-25T11:00:00+00:00",
          "2023-12-25T12:00:00+00:00",
          "2023-12-25T13:00:00+00:00",
          "2023-12-25T14:00:00+00:00",
          "2023-12-25T15:00:00+00:00",
          "2023-12-25T16:00:00+00:00",
          "2023-12-25T17:00:00+00:00",
          "2023-12-25T18:00:00+00:00",
          "2023-12-25T19:00:00+00:00",
          "2023-12-25T20:00:00+00:00",
          "2023-12-25T21:00:00+00:00",
          "2023-12-25T22:00:00+00:00",
          "2023-12-25T23:00:00+00:00",
          "2023-12-26T00:00:00+00:00",
          "2023-12-26T01:00:00+00:00",
          "2023-12-26T02:00:00+00:00",
          "2023-12-26T03:00:00+00:00",
          "2023-12-26T04:00:00+00:00",
          "2023-12-26T05:00:00+00:00",
          "2023-12-26T06:00:00+00:00",
          "2023-12-26T07:00:00+00:00",
          "2023-12-26T08:00:00+00:00",
          "2023-12-26T09:00:00+00:00",
          "2023-12-26T10:00:00+00:00",
          "2023-12-26T11:00:00+00:00",
          "2023-12-26T12:00:00+00:00",
          "2023-12-26T13:00:00+00:00",
          "2023-12-26T14:00:00+00:00",
          "2023-12-26T15:00:00+00:00",
          "2023-12-26T16:00:00+00:00",
          "2023-12-26T17:00:00+00:00",
          "2023-12-26T18:00:00+00:00",
          "2023-12-26T19:00:00+00:00",
          "2023-12-26T20:00:00+00:00",
          "2023-12-26T21:00:00+00:00",
          "2023-12-26T22:00:00+00:00",
          "2023-12-26T23:00:00+00:00",
          "2023-12-27T00:00:00+00:00",
          "2023-12-27T01:00:00+00:00",
          "2023-12-27T02:00:00+00:00",
          "2023-12-27T03:00:00+00:00",
          "2023-12-27T04:00:00+00:00",
          "2023-12-27T05:00:00+00:00",
          "2023-12-27T06:00:00+00:00",
          "2023-12-27T07:00:00+00:00",
          "2023-12-27T08:00:00+00:00",
          "2023-12-27T09:00:00+00:00",
          "2023-12-27T10:00:00+00:00",
          "2023-12-27T11:00:00+00:00",
          "2023-12-27T12:00:00+00:00",
          "2023-12-27T13:00:00+00:00",
          "2023-12-27T14:00:00+00:00",
          "2023-12-27T15:00:00+00:00",
          "2023-12-27T16:00:00+00:00",
          "2023-12-27T17:00:00+00:00",
          "2023-12-27T18:00:00+00:00",
          "2023-12-27T19:00:00+00:00",
          "2023-12-27T20:00:00+00:00",
          "2023-12-27T21:00:00+00:00",
          "2023-12-27T22:00:00+00:00",
          "2023-12-27T23:00:00+00:00",
          "2023-12-28T00:00:00+00:00",
          "2023-12-28T01:00:00+00:00",
          "2023-12-28T02:00:00+00:00",
          "2023-12-28T03:00:00+00:00",
          "2023-12-28T04:00:00+00:00",
          "2023-12-28T05:00:00+00:00",
          "2023-12-28T06:00:00+00:00",
          "2023-12-28T07:00:00+00:00",
          "2023-12-28T08:00:00+00:00",
          "2023-12-28T09:00:00+00:00",
          "2023-12-28T10:00:00+00:00",
          "2023-12-28T11:00:00+00:00",
          "2023-12-28T12:00:00+00:00",
          "2023-12-28T13:00:00+00:00",
          "2023-12-28T14:00:00+00:00",
          "2023-12-28T15:00:00+00:00",
          "2023-12-28T16:00:00+00:00",
          "2023-12-28T17:00:00+00:00"
         ],
         "xaxis": "x",
         "y": [
          432.3044204796652,
          432.2668465635088,
          431.70957794714946,
          431.5953594463769,
          431.3957536651051,
          430.36602365894487,
          430.05946905664837,
          429.372515906828,
          429.01576275879233,
          427.8999317682686,
          427.80680532090383,
          426.7925263312492,
          427.942411193693,
          429.2017560343013,
          428.732491801765,
          429.0675821593538,
          429.4396402174023,
          429.41110730453175,
          428.714613813193,
          428.3020399937637,
          428.5486046602155,
          428.5815867421265,
          428.91695126414805,
          428.69034594810523,
          429.41320072585404,
          429.34265295825145,
          429.430832902151,
          429.8170982891554,
          429.57931574764325,
          429.26325925244254,
          429.26347283099375,
          429.0440696566573,
          428.2696753785411,
          427.83675148011343,
          427.65532517275864,
          427.89332351637813,
          427.31331215848826,
          427.65455220419153,
          428.2690538360314,
          428.7041718939103,
          428.8291358098104,
          429.2113740631153,
          429.27887148810805,
          428.96342218219814,
          427.5675389172257,
          427.98342828603035,
          426.20949092023744,
          425.6472964425336,
          426.1386033645187,
          425.79488425558725,
          426.3357285581017,
          426.4122173940891,
          425.9356625145185,
          426.7501074304814,
          426.725447312669,
          426.31430216920626,
          425.81208114332827,
          426.6365632658746,
          427.0552277487603,
          427.39910916831445,
          427.98922799944904,
          428.0909606857644,
          428.07423815054113,
          428.9371267261882,
          431.8242490248801,
          432.62120393646666,
          430.3586792773094,
          428.0449308999702,
          427.16890500984135,
          426.47144630720885,
          426.8537285611225,
          427.69249804699865,
          429.51919766969496,
          430.1689690608364,
          432.2751929641629,
          430.5067459299983,
          431.2205572231046,
          431.791435783896,
          433.58805992164304,
          437.70469441566416,
          439.4539107716864,
          438.9135991496043,
          436.5993217224146,
          441.17877881450863,
          443.6920746512624,
          445.42442282221015,
          433.69119951738077,
          432.2578017952244,
          433.53121099631585,
          433.7414543450027,
          430.8524399817154,
          430.9248365626102,
          430.1253198138811,
          430.83456192036397,
          431.23034916897296,
          430.25185926197173,
          432.3991589687442,
          435.5616182462948,
          435.13524103093147,
          436.0676220637861,
          436.3444375183661,
          437.07887115546174,
          438.63983988536853,
          439.0018165658949,
          439.01036568403885,
          440.55064967591835,
          441.52165498763503,
          438.9736400241268,
          439.67064948986837,
          442.1454747406927,
          449.26690676600305,
          456.24749791526455,
          456.89478677038954,
          453.845590877472,
          451.8539859964273,
          442.94836073406594,
          438.2607426360921,
          439.8352598732033,
          441.02549372431076,
          444.6106381663622,
          448.9507980430517,
          454.5928725745777,
          462.04481025357103,
          472.76178100552056,
          472.25950222739124,
          463.9084247704948,
          460.3496202323033,
          458.39663894773736,
          451.43823285153843,
          447.5500671234227,
          447.77043368424006,
          450.18804569119,
          451.6865380922348,
          459.52721277301686,
          454.8834837270888,
          455.84305353034546,
          461.6963061657988,
          466.1874641545678,
          456.21514746485263,
          446.78890576669295,
          450.82636830189045,
          441.6426012556405,
          436.79512974463023,
          437.6932488078564,
          436.55368165852934,
          442.33627607873586,
          439.6884220909067
         ],
         "yaxis": "y"
        },
        {
         "hovertemplate": "system_name=tum-esm-midcost-raspi-16<br>creation_timestamp=%{x}<br>CO2_corr=%{y}<extra></extra>",
         "legendgroup": "tum-esm-midcost-raspi-16",
         "line": {
          "color": "#ab63fa",
          "dash": "solid"
         },
         "marker": {
          "symbol": "circle"
         },
         "mode": "markers+lines",
         "name": "tum-esm-midcost-raspi-16",
         "orientation": "v",
         "showlegend": true,
         "type": "scatter",
         "x": [
          "2023-12-22T15:00:00+00:00",
          "2023-12-22T16:00:00+00:00",
          "2023-12-22T17:00:00+00:00",
          "2023-12-22T18:00:00+00:00",
          "2023-12-22T19:00:00+00:00",
          "2023-12-22T20:00:00+00:00",
          "2023-12-22T21:00:00+00:00",
          "2023-12-22T22:00:00+00:00",
          "2023-12-22T23:00:00+00:00",
          "2023-12-23T00:00:00+00:00",
          "2023-12-23T01:00:00+00:00",
          "2023-12-23T02:00:00+00:00",
          "2023-12-23T03:00:00+00:00",
          "2023-12-23T04:00:00+00:00",
          "2023-12-23T05:00:00+00:00",
          "2023-12-23T06:00:00+00:00",
          "2023-12-23T07:00:00+00:00",
          "2023-12-23T08:00:00+00:00",
          "2023-12-23T09:00:00+00:00",
          "2023-12-23T10:00:00+00:00",
          "2023-12-23T11:00:00+00:00",
          "2023-12-23T12:00:00+00:00",
          "2023-12-23T13:00:00+00:00",
          "2023-12-23T14:00:00+00:00",
          "2023-12-23T15:00:00+00:00",
          "2023-12-23T16:00:00+00:00",
          "2023-12-23T17:00:00+00:00",
          "2023-12-23T18:00:00+00:00",
          "2023-12-23T19:00:00+00:00",
          "2023-12-23T20:00:00+00:00",
          "2023-12-23T21:00:00+00:00",
          "2023-12-23T22:00:00+00:00",
          "2023-12-23T23:00:00+00:00",
          "2023-12-24T00:00:00+00:00",
          "2023-12-24T01:00:00+00:00",
          "2023-12-24T02:00:00+00:00",
          "2023-12-24T03:00:00+00:00",
          "2023-12-24T04:00:00+00:00",
          "2023-12-24T05:00:00+00:00",
          "2023-12-24T06:00:00+00:00",
          "2023-12-24T07:00:00+00:00",
          "2023-12-24T08:00:00+00:00",
          "2023-12-24T09:00:00+00:00",
          "2023-12-24T10:00:00+00:00",
          "2023-12-24T11:00:00+00:00",
          "2023-12-24T12:00:00+00:00",
          "2023-12-24T13:00:00+00:00",
          "2023-12-24T14:00:00+00:00",
          "2023-12-24T15:00:00+00:00",
          "2023-12-24T16:00:00+00:00",
          "2023-12-24T17:00:00+00:00",
          "2023-12-24T18:00:00+00:00",
          "2023-12-24T19:00:00+00:00",
          "2023-12-24T20:00:00+00:00",
          "2023-12-24T21:00:00+00:00",
          "2023-12-24T22:00:00+00:00",
          "2023-12-24T23:00:00+00:00",
          "2023-12-25T00:00:00+00:00",
          "2023-12-25T01:00:00+00:00",
          "2023-12-25T02:00:00+00:00",
          "2023-12-25T03:00:00+00:00",
          "2023-12-25T04:00:00+00:00",
          "2023-12-25T05:00:00+00:00",
          "2023-12-25T06:00:00+00:00",
          "2023-12-25T07:00:00+00:00",
          "2023-12-25T08:00:00+00:00",
          "2023-12-25T09:00:00+00:00",
          "2023-12-25T10:00:00+00:00",
          "2023-12-25T11:00:00+00:00",
          "2023-12-25T12:00:00+00:00",
          "2023-12-25T13:00:00+00:00",
          "2023-12-25T14:00:00+00:00",
          "2023-12-25T15:00:00+00:00",
          "2023-12-25T16:00:00+00:00",
          "2023-12-25T17:00:00+00:00",
          "2023-12-25T18:00:00+00:00",
          "2023-12-25T19:00:00+00:00",
          "2023-12-25T20:00:00+00:00",
          "2023-12-25T21:00:00+00:00",
          "2023-12-25T22:00:00+00:00",
          "2023-12-25T23:00:00+00:00",
          "2023-12-26T00:00:00+00:00",
          "2023-12-26T01:00:00+00:00",
          "2023-12-26T02:00:00+00:00",
          "2023-12-26T03:00:00+00:00",
          "2023-12-26T04:00:00+00:00",
          "2023-12-26T05:00:00+00:00",
          "2023-12-26T06:00:00+00:00",
          "2023-12-26T07:00:00+00:00",
          "2023-12-26T08:00:00+00:00",
          "2023-12-26T09:00:00+00:00",
          "2023-12-26T10:00:00+00:00",
          "2023-12-26T11:00:00+00:00",
          "2023-12-26T12:00:00+00:00",
          "2023-12-26T13:00:00+00:00",
          "2023-12-26T14:00:00+00:00",
          "2023-12-26T15:00:00+00:00",
          "2023-12-26T16:00:00+00:00",
          "2023-12-26T17:00:00+00:00",
          "2023-12-26T18:00:00+00:00",
          "2023-12-26T19:00:00+00:00",
          "2023-12-26T20:00:00+00:00",
          "2023-12-26T21:00:00+00:00",
          "2023-12-26T22:00:00+00:00",
          "2023-12-26T23:00:00+00:00",
          "2023-12-27T00:00:00+00:00",
          "2023-12-27T01:00:00+00:00",
          "2023-12-27T02:00:00+00:00",
          "2023-12-27T03:00:00+00:00",
          "2023-12-27T04:00:00+00:00",
          "2023-12-27T05:00:00+00:00",
          "2023-12-27T06:00:00+00:00",
          "2023-12-27T07:00:00+00:00",
          "2023-12-27T08:00:00+00:00",
          "2023-12-27T09:00:00+00:00",
          "2023-12-27T10:00:00+00:00",
          "2023-12-27T11:00:00+00:00",
          "2023-12-27T12:00:00+00:00",
          "2023-12-27T13:00:00+00:00",
          "2023-12-27T14:00:00+00:00",
          "2023-12-27T15:00:00+00:00",
          "2023-12-27T16:00:00+00:00",
          "2023-12-27T17:00:00+00:00",
          "2023-12-27T18:00:00+00:00",
          "2023-12-27T19:00:00+00:00",
          "2023-12-27T20:00:00+00:00",
          "2023-12-27T21:00:00+00:00",
          "2023-12-27T22:00:00+00:00",
          "2023-12-27T23:00:00+00:00",
          "2023-12-28T00:00:00+00:00",
          "2023-12-28T01:00:00+00:00",
          "2023-12-28T02:00:00+00:00",
          "2023-12-28T03:00:00+00:00",
          "2023-12-28T04:00:00+00:00",
          "2023-12-28T05:00:00+00:00",
          "2023-12-28T06:00:00+00:00",
          "2023-12-28T07:00:00+00:00",
          "2023-12-28T08:00:00+00:00",
          "2023-12-28T09:00:00+00:00",
          "2023-12-28T10:00:00+00:00",
          "2023-12-28T11:00:00+00:00",
          "2023-12-28T12:00:00+00:00",
          "2023-12-28T13:00:00+00:00",
          "2023-12-28T14:00:00+00:00",
          "2023-12-28T15:00:00+00:00",
          "2023-12-28T16:00:00+00:00",
          "2023-12-28T17:00:00+00:00"
         ],
         "xaxis": "x",
         "y": [
          434.0161336073452,
          433.1471198896661,
          432.75332745640634,
          432.3073571603379,
          431.61188243947487,
          430.8438754722452,
          430.1521183890489,
          429.49076610399806,
          429.0795413293065,
          428.5736462505226,
          428.63891356898404,
          428.30649339912407,
          429.304574868931,
          429.47134159274947,
          429.5773118305628,
          429.75146273528134,
          429.9189307490335,
          430.1183493535,
          429.3645162597486,
          428.8428856089284,
          429.086042099247,
          429.0840588760791,
          429.48781683243243,
          429.196848047676,
          429.5074660325872,
          429.6109925413593,
          429.60335659006904,
          429.68065532181845,
          429.44533690061803,
          430.00025197440755,
          430.52113716641543,
          429.5748388007,
          429.95021501985144,
          428.1243390545357,
          428.3759491008231,
          427.6175263178936,
          426.9179754968848,
          427.4948403357933,
          428.0512839453818,
          428.12451107872613,
          429.54041907291634,
          428.9311428534863,
          428.6953063092424,
          428.28737713979126,
          426.9342109971138,
          427.49947643082714,
          426.78841465963507,
          426.176852144663,
          426.3140475603113,
          426.4841136702985,
          426.4088728338833,
          426.83381960465164,
          426.60068195073814,
          426.9704971262417,
          426.6586595568869,
          427.08544057443436,
          426.7996191432463,
          428.0596751596643,
          428.18312463899474,
          429.0281740603934,
          429.67107590287196,
          429.5073350981954,
          428.7731928181916,
          429.7533724522962,
          432.94993155395565,
          433.5075234411659,
          432.13906589341985,
          429.70920432215127,
          428.7389142239344,
          428.31932672439024,
          427.77044020559674,
          427.61392623376474,
          429.1097612909339,
          430.15671629925754,
          432.069365037933,
          431.00309950784896,
          431.8116262059378,
          432.32973012625763,
          434.0438891138726,
          438.30405721966423,
          440.0433715107981,
          438.3968443249548,
          436.2810513810553,
          441.8084406143414,
          444.9253970000553,
          446.2776436685621,
          434.08088040649045,
          432.0419180891667,
          433.4124117067222,
          433.69784499534126,
          431.077062420975,
          431.0817928172851,
          430.4840581227598,
          431.0746800823843,
          430.82404486605293,
          429.71302036103634,
          431.7299812097812,
          434.8635740840015,
          434.1045363335752,
          435.7102806232303,
          436.0644368649942,
          436.2529182704664,
          438.11506185081663,
          437.63453582938837,
          437.45047732398865,
          439.4105044322957,
          440.4544838175846,
          437.7695327327618,
          439.09895342321437,
          441.69066652800257,
          448.9270560942123,
          453.6682789887256,
          457.83473405614876,
          453.5465794550194,
          451.5820981428055,
          442.70039173475806,
          438.52200059879743,
          439.7582857730147,
          441.18668219393265,
          445.58731116290613,
          449.10917446803415,
          454.0617231654523,
          461.8597825979555,
          472.29118174674596,
          471.88150440061344,
          463.14092432641536,
          459.51202100167916,
          457.23121185048336,
          451.29746769740706,
          448.4545305134615,
          448.5957239764,
          451.43748004521143,
          451.8078067144176,
          459.78433821198297,
          455.0582594951659,
          456.4543836968232,
          460.59794684783856,
          465.76914476041776,
          454.8434873302865,
          445.73492614179185,
          450.04335684665347,
          441.35085146204887,
          437.4133797705676,
          438.86283221965226,
          437.0215829524979,
          442.80647601665606,
          439.85198578575415
         ],
         "yaxis": "y"
        },
        {
         "hovertemplate": "system_name=tum-esm-midcost-raspi-18<br>creation_timestamp=%{x}<br>CO2_corr=%{y}<extra></extra>",
         "legendgroup": "tum-esm-midcost-raspi-18",
         "line": {
          "color": "#FFA15A",
          "dash": "solid"
         },
         "marker": {
          "symbol": "circle"
         },
         "mode": "markers+lines",
         "name": "tum-esm-midcost-raspi-18",
         "orientation": "v",
         "showlegend": true,
         "type": "scatter",
         "x": [
          "2023-12-22T15:00:00+00:00",
          "2023-12-22T16:00:00+00:00",
          "2023-12-22T17:00:00+00:00",
          "2023-12-22T18:00:00+00:00",
          "2023-12-22T19:00:00+00:00",
          "2023-12-22T20:00:00+00:00",
          "2023-12-22T21:00:00+00:00",
          "2023-12-22T22:00:00+00:00",
          "2023-12-22T23:00:00+00:00",
          "2023-12-23T00:00:00+00:00",
          "2023-12-23T01:00:00+00:00",
          "2023-12-23T02:00:00+00:00",
          "2023-12-23T03:00:00+00:00",
          "2023-12-23T04:00:00+00:00",
          "2023-12-23T05:00:00+00:00",
          "2023-12-23T06:00:00+00:00",
          "2023-12-23T07:00:00+00:00",
          "2023-12-23T08:00:00+00:00",
          "2023-12-23T09:00:00+00:00",
          "2023-12-23T10:00:00+00:00",
          "2023-12-23T11:00:00+00:00",
          "2023-12-23T12:00:00+00:00",
          "2023-12-23T13:00:00+00:00",
          "2023-12-23T14:00:00+00:00",
          "2023-12-23T15:00:00+00:00",
          "2023-12-23T16:00:00+00:00",
          "2023-12-23T17:00:00+00:00",
          "2023-12-23T18:00:00+00:00",
          "2023-12-23T19:00:00+00:00",
          "2023-12-23T20:00:00+00:00",
          "2023-12-23T21:00:00+00:00",
          "2023-12-23T22:00:00+00:00",
          "2023-12-23T23:00:00+00:00",
          "2023-12-24T00:00:00+00:00",
          "2023-12-24T01:00:00+00:00",
          "2023-12-24T02:00:00+00:00",
          "2023-12-24T03:00:00+00:00",
          "2023-12-24T04:00:00+00:00",
          "2023-12-24T05:00:00+00:00",
          "2023-12-24T06:00:00+00:00",
          "2023-12-24T07:00:00+00:00",
          "2023-12-24T08:00:00+00:00",
          "2023-12-24T09:00:00+00:00",
          "2023-12-24T10:00:00+00:00",
          "2023-12-24T11:00:00+00:00",
          "2023-12-24T12:00:00+00:00",
          "2023-12-24T13:00:00+00:00",
          "2023-12-24T14:00:00+00:00",
          "2023-12-24T15:00:00+00:00",
          "2023-12-24T16:00:00+00:00",
          "2023-12-24T17:00:00+00:00",
          "2023-12-24T18:00:00+00:00",
          "2023-12-24T19:00:00+00:00",
          "2023-12-24T20:00:00+00:00",
          "2023-12-24T21:00:00+00:00",
          "2023-12-24T22:00:00+00:00",
          "2023-12-24T23:00:00+00:00",
          "2023-12-25T00:00:00+00:00",
          "2023-12-25T01:00:00+00:00",
          "2023-12-25T02:00:00+00:00",
          "2023-12-25T03:00:00+00:00",
          "2023-12-25T04:00:00+00:00",
          "2023-12-25T05:00:00+00:00",
          "2023-12-25T06:00:00+00:00",
          "2023-12-25T07:00:00+00:00",
          "2023-12-25T08:00:00+00:00",
          "2023-12-25T09:00:00+00:00",
          "2023-12-25T10:00:00+00:00",
          "2023-12-25T11:00:00+00:00",
          "2023-12-25T12:00:00+00:00",
          "2023-12-25T13:00:00+00:00",
          "2023-12-25T14:00:00+00:00",
          "2023-12-25T15:00:00+00:00",
          "2023-12-25T16:00:00+00:00",
          "2023-12-25T17:00:00+00:00",
          "2023-12-25T18:00:00+00:00",
          "2023-12-25T19:00:00+00:00",
          "2023-12-25T20:00:00+00:00",
          "2023-12-25T21:00:00+00:00",
          "2023-12-25T22:00:00+00:00",
          "2023-12-25T23:00:00+00:00",
          "2023-12-26T00:00:00+00:00",
          "2023-12-26T01:00:00+00:00",
          "2023-12-26T02:00:00+00:00",
          "2023-12-26T03:00:00+00:00",
          "2023-12-26T04:00:00+00:00",
          "2023-12-26T05:00:00+00:00",
          "2023-12-26T06:00:00+00:00",
          "2023-12-26T07:00:00+00:00",
          "2023-12-26T08:00:00+00:00",
          "2023-12-26T09:00:00+00:00",
          "2023-12-26T10:00:00+00:00",
          "2023-12-26T11:00:00+00:00",
          "2023-12-26T12:00:00+00:00",
          "2023-12-26T13:00:00+00:00",
          "2023-12-26T14:00:00+00:00",
          "2023-12-26T15:00:00+00:00",
          "2023-12-26T16:00:00+00:00",
          "2023-12-26T17:00:00+00:00",
          "2023-12-26T18:00:00+00:00",
          "2023-12-26T19:00:00+00:00",
          "2023-12-26T20:00:00+00:00",
          "2023-12-26T21:00:00+00:00",
          "2023-12-26T22:00:00+00:00",
          "2023-12-26T23:00:00+00:00",
          "2023-12-27T00:00:00+00:00",
          "2023-12-27T01:00:00+00:00",
          "2023-12-27T02:00:00+00:00",
          "2023-12-27T03:00:00+00:00",
          "2023-12-27T04:00:00+00:00",
          "2023-12-27T05:00:00+00:00",
          "2023-12-27T06:00:00+00:00",
          "2023-12-27T07:00:00+00:00",
          "2023-12-27T08:00:00+00:00",
          "2023-12-27T09:00:00+00:00",
          "2023-12-27T10:00:00+00:00",
          "2023-12-27T11:00:00+00:00",
          "2023-12-27T12:00:00+00:00",
          "2023-12-27T13:00:00+00:00",
          "2023-12-27T14:00:00+00:00",
          "2023-12-27T15:00:00+00:00",
          "2023-12-27T16:00:00+00:00",
          "2023-12-27T17:00:00+00:00",
          "2023-12-27T18:00:00+00:00",
          "2023-12-27T19:00:00+00:00",
          "2023-12-27T20:00:00+00:00",
          "2023-12-27T21:00:00+00:00",
          "2023-12-27T22:00:00+00:00",
          "2023-12-27T23:00:00+00:00",
          "2023-12-28T00:00:00+00:00",
          "2023-12-28T01:00:00+00:00",
          "2023-12-28T02:00:00+00:00",
          "2023-12-28T03:00:00+00:00",
          "2023-12-28T04:00:00+00:00",
          "2023-12-28T05:00:00+00:00",
          "2023-12-28T06:00:00+00:00",
          "2023-12-28T07:00:00+00:00",
          "2023-12-28T08:00:00+00:00",
          "2023-12-28T09:00:00+00:00",
          "2023-12-28T10:00:00+00:00",
          "2023-12-28T11:00:00+00:00",
          "2023-12-28T12:00:00+00:00",
          "2023-12-28T13:00:00+00:00",
          "2023-12-28T14:00:00+00:00",
          "2023-12-28T15:00:00+00:00",
          "2023-12-28T16:00:00+00:00",
          "2023-12-28T17:00:00+00:00"
         ],
         "xaxis": "x",
         "y": [
          432.59295908822213,
          432.72668106602595,
          432.0108063759913,
          431.7857702132181,
          431.06887107043707,
          430.17477806726794,
          429.6865791860139,
          428.97127175169976,
          428.5591029521426,
          428.4009158111383,
          428.0485174428897,
          427.14087468234817,
          428.2983546096848,
          428.84163176392445,
          429.2597876364277,
          429.62189996384086,
          429.9677997259703,
          430.0296738917386,
          429.30305469247827,
          428.75399806115075,
          428.78459752299426,
          428.58709519084897,
          428.7069042309643,
          428.8423549071608,
          429.1122641515715,
          429.17196337339396,
          429.1036569671271,
          429.36309070968406,
          428.87147825791095,
          429.056618531456,
          428.72521917346376,
          428.17586463790917,
          428.4582409781345,
          427.73512051463064,
          427.8627393118725,
          427.96650245401634,
          426.8861188615658,
          427.1876997497516,
          427.80439355921044,
          428.25106314277815,
          428.4708331744271,
          428.84736451731925,
          428.29513683451984,
          428.50737660249393,
          427.2282425566695,
          427.5639110042786,
          427.0347178765026,
          425.7434572998297,
          425.83257560781453,
          425.9457378220391,
          426.07980934103557,
          426.0896355170493,
          425.9061342366396,
          426.0017872145539,
          425.8059045019145,
          425.9946943483305,
          425.558847461454,
          427.52219863741385,
          427.7315394712676,
          428.2338306697172,
          428.9320249587684,
          428.2539285979462,
          428.3876215595607,
          429.9700525464591,
          433.1086230280351,
          433.22491172481296,
          431.3981028388234,
          428.93668044186967,
          428.2456425492788,
          428.0306042626726,
          427.67772749315077,
          428.1860236827677,
          430.0847669300954,
          431.0014001218137,
          432.7971689829614,
          431.6734497754334,
          432.4465375387381,
          433.0198598785698,
          434.79740563444693,
          438.6380521931076,
          440.4532733888173,
          438.7736251833769,
          436.7232491307573,
          441.78794507134876,
          444.1712482345256,
          445.6735343426462,
          433.8863224298507,
          432.0588257987152,
          433.8271433215534,
          433.82652798319214,
          430.9985058687896,
          430.9157952965248,
          430.13998230895555,
          431.07995473696207,
          430.8923545542584,
          429.8815099994822,
          431.93161294508656,
          435.2625767265525,
          434.6228087927521,
          436.0112521151329,
          436.1681562200893,
          436.7535916260776,
          438.4679500894965,
          438.3990046684756,
          438.11246967159013,
          439.7085556762081,
          440.7652236706074,
          438.10641136580665,
          439.0064916077825,
          441.70807243969426,
          448.9780129451636,
          452.9703402492414,
          456.7841918136176,
          453.98571229265195,
          451.7747947982191,
          442.9010787708505,
          438.79184665930575,
          439.4158862898935,
          440.6252769906163,
          444.28334106267334,
          448.1947108129356,
          454.1946263820831,
          461.41863789637114,
          472.4098916891155,
          472.32393704120483,
          463.8226161933703,
          460.1910220439315,
          457.81443623373735,
          450.8091528742694,
          447.8241791183876,
          448.1889865255833,
          451.07563043917366,
          451.90844841793086,
          459.66652510771434,
          454.91088717995416,
          456.45162022560936,
          460.07022859835,
          465.3109577917221,
          455.8682978004833,
          446.18872188667274,
          449.59507894400855,
          440.33742306165465,
          435.8095419845957,
          437.1198503912514,
          435.82687918449,
          441.35129817007436,
          438.04841508336676
         ],
         "yaxis": "y"
        },
        {
         "hovertemplate": "system_name=tum-esm-midcost-raspi-20<br>creation_timestamp=%{x}<br>CO2_corr=%{y}<extra></extra>",
         "legendgroup": "tum-esm-midcost-raspi-20",
         "line": {
          "color": "#19d3f3",
          "dash": "solid"
         },
         "marker": {
          "symbol": "circle"
         },
         "mode": "markers+lines",
         "name": "tum-esm-midcost-raspi-20",
         "orientation": "v",
         "showlegend": true,
         "type": "scatter",
         "x": [
          "2023-12-22T15:00:00+00:00",
          "2023-12-22T16:00:00+00:00",
          "2023-12-22T17:00:00+00:00",
          "2023-12-22T18:00:00+00:00",
          "2023-12-22T19:00:00+00:00",
          "2023-12-22T20:00:00+00:00",
          "2023-12-22T21:00:00+00:00",
          "2023-12-22T22:00:00+00:00",
          "2023-12-22T23:00:00+00:00",
          "2023-12-23T00:00:00+00:00",
          "2023-12-23T01:00:00+00:00",
          "2023-12-23T02:00:00+00:00",
          "2023-12-23T03:00:00+00:00",
          "2023-12-23T04:00:00+00:00",
          "2023-12-23T05:00:00+00:00",
          "2023-12-23T06:00:00+00:00",
          "2023-12-23T07:00:00+00:00",
          "2023-12-23T08:00:00+00:00",
          "2023-12-23T09:00:00+00:00",
          "2023-12-23T10:00:00+00:00",
          "2023-12-23T11:00:00+00:00",
          "2023-12-23T12:00:00+00:00",
          "2023-12-23T13:00:00+00:00",
          "2023-12-23T14:00:00+00:00",
          "2023-12-23T15:00:00+00:00",
          "2023-12-23T16:00:00+00:00",
          "2023-12-23T17:00:00+00:00",
          "2023-12-23T18:00:00+00:00",
          "2023-12-23T19:00:00+00:00",
          "2023-12-23T20:00:00+00:00",
          "2023-12-23T21:00:00+00:00",
          "2023-12-23T22:00:00+00:00",
          "2023-12-23T23:00:00+00:00",
          "2023-12-24T00:00:00+00:00",
          "2023-12-24T01:00:00+00:00",
          "2023-12-24T02:00:00+00:00",
          "2023-12-24T03:00:00+00:00",
          "2023-12-24T04:00:00+00:00",
          "2023-12-24T05:00:00+00:00",
          "2023-12-24T06:00:00+00:00",
          "2023-12-24T07:00:00+00:00",
          "2023-12-24T08:00:00+00:00",
          "2023-12-24T09:00:00+00:00",
          "2023-12-24T10:00:00+00:00",
          "2023-12-24T11:00:00+00:00",
          "2023-12-24T12:00:00+00:00",
          "2023-12-24T13:00:00+00:00",
          "2023-12-24T14:00:00+00:00",
          "2023-12-24T15:00:00+00:00",
          "2023-12-24T16:00:00+00:00",
          "2023-12-24T17:00:00+00:00",
          "2023-12-24T18:00:00+00:00",
          "2023-12-24T19:00:00+00:00",
          "2023-12-24T20:00:00+00:00",
          "2023-12-24T21:00:00+00:00",
          "2023-12-24T22:00:00+00:00",
          "2023-12-24T23:00:00+00:00",
          "2023-12-25T00:00:00+00:00",
          "2023-12-25T01:00:00+00:00",
          "2023-12-25T02:00:00+00:00",
          "2023-12-25T03:00:00+00:00",
          "2023-12-25T04:00:00+00:00",
          "2023-12-25T05:00:00+00:00",
          "2023-12-25T06:00:00+00:00",
          "2023-12-25T07:00:00+00:00",
          "2023-12-25T08:00:00+00:00",
          "2023-12-25T09:00:00+00:00",
          "2023-12-25T10:00:00+00:00",
          "2023-12-25T11:00:00+00:00",
          "2023-12-25T12:00:00+00:00",
          "2023-12-25T13:00:00+00:00",
          "2023-12-25T14:00:00+00:00",
          "2023-12-25T15:00:00+00:00",
          "2023-12-25T16:00:00+00:00",
          "2023-12-25T17:00:00+00:00",
          "2023-12-25T18:00:00+00:00",
          "2023-12-25T19:00:00+00:00",
          "2023-12-25T20:00:00+00:00",
          "2023-12-25T21:00:00+00:00",
          "2023-12-25T22:00:00+00:00",
          "2023-12-25T23:00:00+00:00",
          "2023-12-26T00:00:00+00:00",
          "2023-12-26T01:00:00+00:00",
          "2023-12-26T02:00:00+00:00",
          "2023-12-26T03:00:00+00:00",
          "2023-12-26T04:00:00+00:00",
          "2023-12-26T05:00:00+00:00",
          "2023-12-26T06:00:00+00:00",
          "2023-12-26T07:00:00+00:00",
          "2023-12-26T08:00:00+00:00",
          "2023-12-26T09:00:00+00:00",
          "2023-12-26T10:00:00+00:00",
          "2023-12-26T11:00:00+00:00",
          "2023-12-26T12:00:00+00:00",
          "2023-12-26T13:00:00+00:00",
          "2023-12-26T14:00:00+00:00",
          "2023-12-26T15:00:00+00:00",
          "2023-12-26T16:00:00+00:00",
          "2023-12-26T17:00:00+00:00",
          "2023-12-26T18:00:00+00:00",
          "2023-12-26T19:00:00+00:00",
          "2023-12-26T20:00:00+00:00",
          "2023-12-26T21:00:00+00:00",
          "2023-12-26T22:00:00+00:00",
          "2023-12-26T23:00:00+00:00",
          "2023-12-27T00:00:00+00:00",
          "2023-12-27T01:00:00+00:00",
          "2023-12-27T02:00:00+00:00",
          "2023-12-27T03:00:00+00:00",
          "2023-12-27T04:00:00+00:00",
          "2023-12-27T05:00:00+00:00",
          "2023-12-27T06:00:00+00:00",
          "2023-12-27T07:00:00+00:00",
          "2023-12-27T08:00:00+00:00",
          "2023-12-27T09:00:00+00:00",
          "2023-12-27T10:00:00+00:00",
          "2023-12-27T11:00:00+00:00",
          "2023-12-27T12:00:00+00:00",
          "2023-12-27T13:00:00+00:00",
          "2023-12-27T14:00:00+00:00",
          "2023-12-27T15:00:00+00:00",
          "2023-12-27T16:00:00+00:00",
          "2023-12-27T17:00:00+00:00",
          "2023-12-27T18:00:00+00:00",
          "2023-12-27T19:00:00+00:00",
          "2023-12-27T20:00:00+00:00",
          "2023-12-27T21:00:00+00:00",
          "2023-12-27T22:00:00+00:00",
          "2023-12-27T23:00:00+00:00",
          "2023-12-28T00:00:00+00:00",
          "2023-12-28T01:00:00+00:00",
          "2023-12-28T02:00:00+00:00",
          "2023-12-28T03:00:00+00:00",
          "2023-12-28T04:00:00+00:00",
          "2023-12-28T05:00:00+00:00",
          "2023-12-28T06:00:00+00:00",
          "2023-12-28T07:00:00+00:00",
          "2023-12-28T08:00:00+00:00",
          "2023-12-28T09:00:00+00:00",
          "2023-12-28T10:00:00+00:00",
          "2023-12-28T11:00:00+00:00",
          "2023-12-28T12:00:00+00:00",
          "2023-12-28T13:00:00+00:00",
          "2023-12-28T14:00:00+00:00",
          "2023-12-28T15:00:00+00:00",
          "2023-12-28T16:00:00+00:00",
          "2023-12-28T17:00:00+00:00"
         ],
         "xaxis": "x",
         "y": [
          432.348092264383,
          432.1456457143843,
          431.96057422460285,
          431.23267308666965,
          430.7083019835875,
          429.77264690954297,
          429.4668744308854,
          428.7577414330499,
          428.50440818328065,
          428.12608622857556,
          427.81432023605254,
          426.9166413550132,
          428.2402186817055,
          428.8189397250844,
          428.86959936309194,
          428.99936154437245,
          428.7836167553053,
          428.8205226358155,
          429.0842121295609,
          428.5632652806253,
          428.7684214803906,
          428.9809161185943,
          429.7016049687583,
          429.11843333972405,
          429.7355779196319,
          429.98170415601436,
          429.52933973800685,
          429.49180771998664,
          429.14145027867556,
          429.1965361791565,
          429.5369642061767,
          428.7854454543019,
          428.35482762528414,
          426.8130024082293,
          426.9358513805352,
          426.9803049460013,
          426.00180313113395,
          426.84898898383386,
          427.3600228571574,
          427.77583359280203,
          427.9250003902109,
          428.0050126332699,
          427.73967316491684,
          428.16745062505225,
          427.2429368299816,
          427.51426989909754,
          426.41472530427967,
          424.8397019132661,
          425.4886466267215,
          425.72572379688614,
          425.9702967855203,
          425.98297314556436,
          426.0742550652758,
          426.35932036961873,
          426.02250406914544,
          425.7222397456098,
          425.6077521910028,
          427.06227455116795,
          427.61240105791495,
          428.0910096354709,
          428.7754476090365,
          428.3129832332192,
          428.3069743714853,
          430.07262153300036,
          433.50700133102765,
          433.80498209672237,
          431.49099239092794,
          429.0003311058503,
          427.80267898255767,
          427.31720325763234,
          427.4574513393716,
          427.68691823807256,
          429.1778384433546,
          430.2604279704013,
          432.21637209065995,
          431.129702130195,
          432.61354818152535,
          432.7255392347306,
          434.87862381185596,
          439.40296793921044,
          440.49978517426933,
          439.59216081891765,
          436.9254043874605,
          441.63913310441575,
          443.80383317593623,
          445.3629864957563,
          434.0510125071436,
          432.2244266785542,
          433.84407034314967,
          433.91655361374154,
          430.92135438838426,
          430.72269199131034,
          430.00210989622275,
          430.93401209224226,
          432.31790980530735,
          431.0744432059785,
          433.06998500792,
          435.2927366407892,
          435.0005595029009,
          436.61174734095306,
          436.79302373343285,
          437.12738503406376,
          438.4743471991731,
          438.0851994524237,
          438.1920155663268,
          439.6099467710855,
          440.37182926081624,
          437.75741947570145,
          438.807489746219,
          441.6253927300568,
          448.4995437483456,
          452.22428424771556,
          456.9999561467711,
          454.13434229385047,
          452.05288957241424,
          443.3503212134381,
          438.91347043778757,
          440.6838143065038,
          442.27291354529854,
          445.70295572657466,
          449.3615070319011,
          454.4118815686032,
          461.8372158132365,
          472.96799349019074,
          472.31947364093054,
          464.1944414514375,
          459.7051182005927,
          457.21753210280554,
          450.8286544490896,
          447.71307927025464,
          448.05071728048614,
          450.70862453356494,
          451.60035688464495,
          459.3021482179561,
          454.9471479609844,
          455.54311851270955,
          461.30664495087694,
          465.8892686514544,
          456.7503085319538,
          446.9097738956162,
          450.746995394664,
          441.51807119860865,
          436.7271357649047,
          438.0697943739515,
          436.77604499137254,
          442.1995594200807,
          439.91933220256533
         ],
         "yaxis": "y"
        }
       ],
       "layout": {
        "legend": {
         "title": {
          "text": "system_name"
         },
         "tracegroupgap": 0
        },
        "template": {
         "data": {
          "bar": [
           {
            "error_x": {
             "color": "#2a3f5f"
            },
            "error_y": {
             "color": "#2a3f5f"
            },
            "marker": {
             "line": {
              "color": "#E5ECF6",
              "width": 0.5
             },
             "pattern": {
              "fillmode": "overlay",
              "size": 10,
              "solidity": 0.2
             }
            },
            "type": "bar"
           }
          ],
          "barpolar": [
           {
            "marker": {
             "line": {
              "color": "#E5ECF6",
              "width": 0.5
             },
             "pattern": {
              "fillmode": "overlay",
              "size": 10,
              "solidity": 0.2
             }
            },
            "type": "barpolar"
           }
          ],
          "carpet": [
           {
            "aaxis": {
             "endlinecolor": "#2a3f5f",
             "gridcolor": "white",
             "linecolor": "white",
             "minorgridcolor": "white",
             "startlinecolor": "#2a3f5f"
            },
            "baxis": {
             "endlinecolor": "#2a3f5f",
             "gridcolor": "white",
             "linecolor": "white",
             "minorgridcolor": "white",
             "startlinecolor": "#2a3f5f"
            },
            "type": "carpet"
           }
          ],
          "choropleth": [
           {
            "colorbar": {
             "outlinewidth": 0,
             "ticks": ""
            },
            "type": "choropleth"
           }
          ],
          "contour": [
           {
            "colorbar": {
             "outlinewidth": 0,
             "ticks": ""
            },
            "colorscale": [
             [
              0,
              "#0d0887"
             ],
             [
              0.1111111111111111,
              "#46039f"
             ],
             [
              0.2222222222222222,
              "#7201a8"
             ],
             [
              0.3333333333333333,
              "#9c179e"
             ],
             [
              0.4444444444444444,
              "#bd3786"
             ],
             [
              0.5555555555555556,
              "#d8576b"
             ],
             [
              0.6666666666666666,
              "#ed7953"
             ],
             [
              0.7777777777777778,
              "#fb9f3a"
             ],
             [
              0.8888888888888888,
              "#fdca26"
             ],
             [
              1,
              "#f0f921"
             ]
            ],
            "type": "contour"
           }
          ],
          "contourcarpet": [
           {
            "colorbar": {
             "outlinewidth": 0,
             "ticks": ""
            },
            "type": "contourcarpet"
           }
          ],
          "heatmap": [
           {
            "colorbar": {
             "outlinewidth": 0,
             "ticks": ""
            },
            "colorscale": [
             [
              0,
              "#0d0887"
             ],
             [
              0.1111111111111111,
              "#46039f"
             ],
             [
              0.2222222222222222,
              "#7201a8"
             ],
             [
              0.3333333333333333,
              "#9c179e"
             ],
             [
              0.4444444444444444,
              "#bd3786"
             ],
             [
              0.5555555555555556,
              "#d8576b"
             ],
             [
              0.6666666666666666,
              "#ed7953"
             ],
             [
              0.7777777777777778,
              "#fb9f3a"
             ],
             [
              0.8888888888888888,
              "#fdca26"
             ],
             [
              1,
              "#f0f921"
             ]
            ],
            "type": "heatmap"
           }
          ],
          "heatmapgl": [
           {
            "colorbar": {
             "outlinewidth": 0,
             "ticks": ""
            },
            "colorscale": [
             [
              0,
              "#0d0887"
             ],
             [
              0.1111111111111111,
              "#46039f"
             ],
             [
              0.2222222222222222,
              "#7201a8"
             ],
             [
              0.3333333333333333,
              "#9c179e"
             ],
             [
              0.4444444444444444,
              "#bd3786"
             ],
             [
              0.5555555555555556,
              "#d8576b"
             ],
             [
              0.6666666666666666,
              "#ed7953"
             ],
             [
              0.7777777777777778,
              "#fb9f3a"
             ],
             [
              0.8888888888888888,
              "#fdca26"
             ],
             [
              1,
              "#f0f921"
             ]
            ],
            "type": "heatmapgl"
           }
          ],
          "histogram": [
           {
            "marker": {
             "pattern": {
              "fillmode": "overlay",
              "size": 10,
              "solidity": 0.2
             }
            },
            "type": "histogram"
           }
          ],
          "histogram2d": [
           {
            "colorbar": {
             "outlinewidth": 0,
             "ticks": ""
            },
            "colorscale": [
             [
              0,
              "#0d0887"
             ],
             [
              0.1111111111111111,
              "#46039f"
             ],
             [
              0.2222222222222222,
              "#7201a8"
             ],
             [
              0.3333333333333333,
              "#9c179e"
             ],
             [
              0.4444444444444444,
              "#bd3786"
             ],
             [
              0.5555555555555556,
              "#d8576b"
             ],
             [
              0.6666666666666666,
              "#ed7953"
             ],
             [
              0.7777777777777778,
              "#fb9f3a"
             ],
             [
              0.8888888888888888,
              "#fdca26"
             ],
             [
              1,
              "#f0f921"
             ]
            ],
            "type": "histogram2d"
           }
          ],
          "histogram2dcontour": [
           {
            "colorbar": {
             "outlinewidth": 0,
             "ticks": ""
            },
            "colorscale": [
             [
              0,
              "#0d0887"
             ],
             [
              0.1111111111111111,
              "#46039f"
             ],
             [
              0.2222222222222222,
              "#7201a8"
             ],
             [
              0.3333333333333333,
              "#9c179e"
             ],
             [
              0.4444444444444444,
              "#bd3786"
             ],
             [
              0.5555555555555556,
              "#d8576b"
             ],
             [
              0.6666666666666666,
              "#ed7953"
             ],
             [
              0.7777777777777778,
              "#fb9f3a"
             ],
             [
              0.8888888888888888,
              "#fdca26"
             ],
             [
              1,
              "#f0f921"
             ]
            ],
            "type": "histogram2dcontour"
           }
          ],
          "mesh3d": [
           {
            "colorbar": {
             "outlinewidth": 0,
             "ticks": ""
            },
            "type": "mesh3d"
           }
          ],
          "parcoords": [
           {
            "line": {
             "colorbar": {
              "outlinewidth": 0,
              "ticks": ""
             }
            },
            "type": "parcoords"
           }
          ],
          "pie": [
           {
            "automargin": true,
            "type": "pie"
           }
          ],
          "scatter": [
           {
            "fillpattern": {
             "fillmode": "overlay",
             "size": 10,
             "solidity": 0.2
            },
            "type": "scatter"
           }
          ],
          "scatter3d": [
           {
            "line": {
             "colorbar": {
              "outlinewidth": 0,
              "ticks": ""
             }
            },
            "marker": {
             "colorbar": {
              "outlinewidth": 0,
              "ticks": ""
             }
            },
            "type": "scatter3d"
           }
          ],
          "scattercarpet": [
           {
            "marker": {
             "colorbar": {
              "outlinewidth": 0,
              "ticks": ""
             }
            },
            "type": "scattercarpet"
           }
          ],
          "scattergeo": [
           {
            "marker": {
             "colorbar": {
              "outlinewidth": 0,
              "ticks": ""
             }
            },
            "type": "scattergeo"
           }
          ],
          "scattergl": [
           {
            "marker": {
             "colorbar": {
              "outlinewidth": 0,
              "ticks": ""
             }
            },
            "type": "scattergl"
           }
          ],
          "scattermapbox": [
           {
            "marker": {
             "colorbar": {
              "outlinewidth": 0,
              "ticks": ""
             }
            },
            "type": "scattermapbox"
           }
          ],
          "scatterpolar": [
           {
            "marker": {
             "colorbar": {
              "outlinewidth": 0,
              "ticks": ""
             }
            },
            "type": "scatterpolar"
           }
          ],
          "scatterpolargl": [
           {
            "marker": {
             "colorbar": {
              "outlinewidth": 0,
              "ticks": ""
             }
            },
            "type": "scatterpolargl"
           }
          ],
          "scatterternary": [
           {
            "marker": {
             "colorbar": {
              "outlinewidth": 0,
              "ticks": ""
             }
            },
            "type": "scatterternary"
           }
          ],
          "surface": [
           {
            "colorbar": {
             "outlinewidth": 0,
             "ticks": ""
            },
            "colorscale": [
             [
              0,
              "#0d0887"
             ],
             [
              0.1111111111111111,
              "#46039f"
             ],
             [
              0.2222222222222222,
              "#7201a8"
             ],
             [
              0.3333333333333333,
              "#9c179e"
             ],
             [
              0.4444444444444444,
              "#bd3786"
             ],
             [
              0.5555555555555556,
              "#d8576b"
             ],
             [
              0.6666666666666666,
              "#ed7953"
             ],
             [
              0.7777777777777778,
              "#fb9f3a"
             ],
             [
              0.8888888888888888,
              "#fdca26"
             ],
             [
              1,
              "#f0f921"
             ]
            ],
            "type": "surface"
           }
          ],
          "table": [
           {
            "cells": {
             "fill": {
              "color": "#EBF0F8"
             },
             "line": {
              "color": "white"
             }
            },
            "header": {
             "fill": {
              "color": "#C8D4E3"
             },
             "line": {
              "color": "white"
             }
            },
            "type": "table"
           }
          ]
         },
         "layout": {
          "annotationdefaults": {
           "arrowcolor": "#2a3f5f",
           "arrowhead": 0,
           "arrowwidth": 1
          },
          "autotypenumbers": "strict",
          "coloraxis": {
           "colorbar": {
            "outlinewidth": 0,
            "ticks": ""
           }
          },
          "colorscale": {
           "diverging": [
            [
             0,
             "#8e0152"
            ],
            [
             0.1,
             "#c51b7d"
            ],
            [
             0.2,
             "#de77ae"
            ],
            [
             0.3,
             "#f1b6da"
            ],
            [
             0.4,
             "#fde0ef"
            ],
            [
             0.5,
             "#f7f7f7"
            ],
            [
             0.6,
             "#e6f5d0"
            ],
            [
             0.7,
             "#b8e186"
            ],
            [
             0.8,
             "#7fbc41"
            ],
            [
             0.9,
             "#4d9221"
            ],
            [
             1,
             "#276419"
            ]
           ],
           "sequential": [
            [
             0,
             "#0d0887"
            ],
            [
             0.1111111111111111,
             "#46039f"
            ],
            [
             0.2222222222222222,
             "#7201a8"
            ],
            [
             0.3333333333333333,
             "#9c179e"
            ],
            [
             0.4444444444444444,
             "#bd3786"
            ],
            [
             0.5555555555555556,
             "#d8576b"
            ],
            [
             0.6666666666666666,
             "#ed7953"
            ],
            [
             0.7777777777777778,
             "#fb9f3a"
            ],
            [
             0.8888888888888888,
             "#fdca26"
            ],
            [
             1,
             "#f0f921"
            ]
           ],
           "sequentialminus": [
            [
             0,
             "#0d0887"
            ],
            [
             0.1111111111111111,
             "#46039f"
            ],
            [
             0.2222222222222222,
             "#7201a8"
            ],
            [
             0.3333333333333333,
             "#9c179e"
            ],
            [
             0.4444444444444444,
             "#bd3786"
            ],
            [
             0.5555555555555556,
             "#d8576b"
            ],
            [
             0.6666666666666666,
             "#ed7953"
            ],
            [
             0.7777777777777778,
             "#fb9f3a"
            ],
            [
             0.8888888888888888,
             "#fdca26"
            ],
            [
             1,
             "#f0f921"
            ]
           ]
          },
          "colorway": [
           "#636efa",
           "#EF553B",
           "#00cc96",
           "#ab63fa",
           "#FFA15A",
           "#19d3f3",
           "#FF6692",
           "#B6E880",
           "#FF97FF",
           "#FECB52"
          ],
          "font": {
           "color": "#2a3f5f"
          },
          "geo": {
           "bgcolor": "white",
           "lakecolor": "white",
           "landcolor": "#E5ECF6",
           "showlakes": true,
           "showland": true,
           "subunitcolor": "white"
          },
          "hoverlabel": {
           "align": "left"
          },
          "hovermode": "closest",
          "mapbox": {
           "style": "light"
          },
          "paper_bgcolor": "white",
          "plot_bgcolor": "#E5ECF6",
          "polar": {
           "angularaxis": {
            "gridcolor": "white",
            "linecolor": "white",
            "ticks": ""
           },
           "bgcolor": "#E5ECF6",
           "radialaxis": {
            "gridcolor": "white",
            "linecolor": "white",
            "ticks": ""
           }
          },
          "scene": {
           "xaxis": {
            "backgroundcolor": "#E5ECF6",
            "gridcolor": "white",
            "gridwidth": 2,
            "linecolor": "white",
            "showbackground": true,
            "ticks": "",
            "zerolinecolor": "white"
           },
           "yaxis": {
            "backgroundcolor": "#E5ECF6",
            "gridcolor": "white",
            "gridwidth": 2,
            "linecolor": "white",
            "showbackground": true,
            "ticks": "",
            "zerolinecolor": "white"
           },
           "zaxis": {
            "backgroundcolor": "#E5ECF6",
            "gridcolor": "white",
            "gridwidth": 2,
            "linecolor": "white",
            "showbackground": true,
            "ticks": "",
            "zerolinecolor": "white"
           }
          },
          "shapedefaults": {
           "line": {
            "color": "#2a3f5f"
           }
          },
          "ternary": {
           "aaxis": {
            "gridcolor": "white",
            "linecolor": "white",
            "ticks": ""
           },
           "baxis": {
            "gridcolor": "white",
            "linecolor": "white",
            "ticks": ""
           },
           "bgcolor": "#E5ECF6",
           "caxis": {
            "gridcolor": "white",
            "linecolor": "white",
            "ticks": ""
           }
          },
          "title": {
           "x": 0.05
          },
          "xaxis": {
           "automargin": true,
           "gridcolor": "white",
           "linecolor": "white",
           "ticks": "",
           "title": {
            "standoff": 15
           },
           "zerolinecolor": "white",
           "zerolinewidth": 2
          },
          "yaxis": {
           "automargin": true,
           "gridcolor": "white",
           "linecolor": "white",
           "ticks": "",
           "title": {
            "standoff": 15
           },
           "zerolinecolor": "white",
           "zerolinewidth": 2
          }
         }
        },
        "title": {
         "text": "CO2 Dry"
        },
        "xaxis": {
         "anchor": "y",
         "domain": [
          0,
          1
         ],
         "title": {
          "text": "creation_timestamp"
         }
        },
        "yaxis": {
         "anchor": "x",
         "domain": [
          0,
          1
         ],
         "title": {
          "text": "CO2_corr"
         }
        }
       }
      }
     },
     "metadata": {},
     "output_type": "display_data"
    },
    {
     "data": {
      "application/vnd.plotly.v1+json": {
       "config": {
        "plotlyServerURL": "https://plot.ly"
       },
       "data": [
        {
         "hovertemplate": "system_name=Picarro<br>creation_timestamp=%{x}<br>diff=%{y}<extra></extra>",
         "legendgroup": "Picarro",
         "line": {
          "color": "#636efa",
          "dash": "solid"
         },
         "marker": {
          "symbol": "circle"
         },
         "mode": "markers+lines",
         "name": "Picarro",
         "orientation": "v",
         "showlegend": true,
         "type": "scatter",
         "x": [
          "2023-12-22T16:00:00+00:00",
          "2023-12-22T17:00:00+00:00",
          "2023-12-22T18:00:00+00:00",
          "2023-12-22T19:00:00+00:00",
          "2023-12-22T20:00:00+00:00",
          "2023-12-22T21:00:00+00:00",
          "2023-12-22T22:00:00+00:00",
          "2023-12-22T23:00:00+00:00",
          "2023-12-23T00:00:00+00:00",
          "2023-12-23T01:00:00+00:00",
          "2023-12-23T02:00:00+00:00",
          "2023-12-23T03:00:00+00:00",
          "2023-12-23T04:00:00+00:00",
          "2023-12-23T05:00:00+00:00",
          "2023-12-23T06:00:00+00:00",
          "2023-12-23T07:00:00+00:00",
          "2023-12-23T08:00:00+00:00",
          "2023-12-23T09:00:00+00:00",
          "2023-12-23T10:00:00+00:00",
          "2023-12-23T11:00:00+00:00",
          "2023-12-23T12:00:00+00:00",
          "2023-12-23T13:00:00+00:00",
          "2023-12-23T14:00:00+00:00",
          "2023-12-23T15:00:00+00:00",
          "2023-12-23T16:00:00+00:00",
          "2023-12-23T17:00:00+00:00",
          "2023-12-23T18:00:00+00:00",
          "2023-12-23T19:00:00+00:00",
          "2023-12-23T20:00:00+00:00",
          "2023-12-23T21:00:00+00:00",
          "2023-12-23T22:00:00+00:00",
          "2023-12-23T23:00:00+00:00",
          "2023-12-24T00:00:00+00:00",
          "2023-12-24T01:00:00+00:00",
          "2023-12-24T02:00:00+00:00",
          "2023-12-24T03:00:00+00:00",
          "2023-12-24T04:00:00+00:00",
          "2023-12-24T05:00:00+00:00",
          "2023-12-24T06:00:00+00:00",
          "2023-12-24T07:00:00+00:00",
          "2023-12-24T08:00:00+00:00",
          "2023-12-24T09:00:00+00:00",
          "2023-12-24T10:00:00+00:00",
          "2023-12-24T11:00:00+00:00",
          "2023-12-24T12:00:00+00:00",
          "2023-12-24T13:00:00+00:00",
          "2023-12-24T14:00:00+00:00",
          "2023-12-24T15:00:00+00:00",
          "2023-12-24T16:00:00+00:00",
          "2023-12-24T17:00:00+00:00",
          "2023-12-24T18:00:00+00:00",
          "2023-12-24T19:00:00+00:00",
          "2023-12-24T20:00:00+00:00",
          "2023-12-24T21:00:00+00:00",
          "2023-12-24T22:00:00+00:00",
          "2023-12-24T23:00:00+00:00",
          "2023-12-25T00:00:00+00:00",
          "2023-12-25T01:00:00+00:00",
          "2023-12-25T02:00:00+00:00",
          "2023-12-25T03:00:00+00:00",
          "2023-12-25T04:00:00+00:00",
          "2023-12-25T05:00:00+00:00",
          "2023-12-25T06:00:00+00:00",
          "2023-12-25T07:00:00+00:00",
          "2023-12-25T08:00:00+00:00",
          "2023-12-25T09:00:00+00:00",
          "2023-12-25T10:00:00+00:00",
          "2023-12-25T11:00:00+00:00",
          "2023-12-25T12:00:00+00:00",
          "2023-12-25T13:00:00+00:00",
          "2023-12-25T14:00:00+00:00",
          "2023-12-25T15:00:00+00:00",
          "2023-12-25T16:00:00+00:00",
          "2023-12-25T17:00:00+00:00",
          "2023-12-25T18:00:00+00:00",
          "2023-12-25T19:00:00+00:00",
          "2023-12-25T20:00:00+00:00",
          "2023-12-25T21:00:00+00:00",
          "2023-12-25T22:00:00+00:00",
          "2023-12-25T23:00:00+00:00",
          "2023-12-26T00:00:00+00:00",
          "2023-12-26T01:00:00+00:00",
          "2023-12-26T02:00:00+00:00",
          "2023-12-26T03:00:00+00:00",
          "2023-12-26T04:00:00+00:00",
          "2023-12-26T05:00:00+00:00",
          "2023-12-26T06:00:00+00:00",
          "2023-12-26T07:00:00+00:00",
          "2023-12-26T08:00:00+00:00",
          "2023-12-26T09:00:00+00:00",
          "2023-12-26T10:00:00+00:00",
          "2023-12-26T11:00:00+00:00",
          "2023-12-26T12:00:00+00:00",
          "2023-12-26T13:00:00+00:00",
          "2023-12-26T14:00:00+00:00",
          "2023-12-26T15:00:00+00:00",
          "2023-12-26T16:00:00+00:00",
          "2023-12-26T17:00:00+00:00",
          "2023-12-26T18:00:00+00:00",
          "2023-12-26T19:00:00+00:00",
          "2023-12-26T20:00:00+00:00",
          "2023-12-26T21:00:00+00:00",
          "2023-12-26T22:00:00+00:00",
          "2023-12-26T23:00:00+00:00",
          "2023-12-27T00:00:00+00:00",
          "2023-12-27T01:00:00+00:00",
          "2023-12-27T02:00:00+00:00",
          "2023-12-27T03:00:00+00:00",
          "2023-12-27T04:00:00+00:00",
          "2023-12-27T05:00:00+00:00",
          "2023-12-27T06:00:00+00:00",
          "2023-12-27T07:00:00+00:00",
          "2023-12-27T08:00:00+00:00",
          "2023-12-27T09:00:00+00:00",
          "2023-12-27T10:00:00+00:00",
          "2023-12-27T11:00:00+00:00",
          "2023-12-27T12:00:00+00:00",
          "2023-12-27T13:00:00+00:00",
          "2023-12-27T14:00:00+00:00",
          "2023-12-27T15:00:00+00:00",
          "2023-12-27T16:00:00+00:00",
          "2023-12-27T17:00:00+00:00",
          "2023-12-27T18:00:00+00:00",
          "2023-12-27T19:00:00+00:00",
          "2023-12-27T20:00:00+00:00",
          "2023-12-27T21:00:00+00:00",
          "2023-12-27T22:00:00+00:00",
          "2023-12-27T23:00:00+00:00"
         ],
         "xaxis": "x",
         "y": [
          0,
          0,
          0,
          0,
          0,
          0,
          0,
          0,
          0,
          0,
          0,
          0,
          0,
          0,
          0,
          0,
          0,
          0,
          0,
          0,
          0,
          0,
          0,
          0,
          0,
          0,
          0,
          0,
          0,
          0,
          0,
          0,
          0,
          0,
          0,
          0,
          0,
          0,
          0,
          0,
          0,
          0,
          0,
          0,
          0,
          0,
          0,
          0,
          0,
          0,
          0,
          0,
          0,
          0,
          0,
          0,
          0,
          0,
          0,
          0,
          0,
          0,
          0,
          0,
          0,
          0,
          0,
          0,
          0,
          0,
          0,
          0,
          0,
          0,
          0,
          0,
          0,
          0,
          0,
          0,
          0,
          0,
          0,
          0,
          0,
          0,
          0,
          0,
          0,
          0,
          0,
          0,
          0,
          0,
          0,
          0,
          0,
          0,
          0,
          0,
          0,
          0,
          0,
          0,
          0,
          0,
          0,
          0,
          0,
          0,
          0,
          0,
          0,
          0,
          0,
          0,
          0,
          0,
          0,
          0,
          0,
          0,
          0,
          0,
          0,
          0,
          0,
          0
         ],
         "yaxis": "y"
        },
        {
         "hovertemplate": "system_name=tum-esm-midcost-raspi-10<br>creation_timestamp=%{x}<br>diff=%{y}<extra></extra>",
         "legendgroup": "tum-esm-midcost-raspi-10",
         "line": {
          "color": "#EF553B",
          "dash": "solid"
         },
         "marker": {
          "symbol": "circle"
         },
         "mode": "markers+lines",
         "name": "tum-esm-midcost-raspi-10",
         "orientation": "v",
         "showlegend": true,
         "type": "scatter",
         "x": [
          "2023-12-22T15:00:00+00:00",
          "2023-12-22T16:00:00+00:00",
          "2023-12-22T17:00:00+00:00",
          "2023-12-22T18:00:00+00:00",
          "2023-12-22T19:00:00+00:00",
          "2023-12-22T20:00:00+00:00",
          "2023-12-22T21:00:00+00:00",
          "2023-12-22T22:00:00+00:00",
          "2023-12-22T23:00:00+00:00",
          "2023-12-23T00:00:00+00:00",
          "2023-12-23T01:00:00+00:00",
          "2023-12-23T02:00:00+00:00",
          "2023-12-23T03:00:00+00:00",
          "2023-12-23T04:00:00+00:00",
          "2023-12-23T05:00:00+00:00",
          "2023-12-23T06:00:00+00:00",
          "2023-12-23T07:00:00+00:00",
          "2023-12-23T08:00:00+00:00",
          "2023-12-23T09:00:00+00:00",
          "2023-12-23T10:00:00+00:00",
          "2023-12-23T11:00:00+00:00",
          "2023-12-23T12:00:00+00:00",
          "2023-12-23T13:00:00+00:00",
          "2023-12-23T14:00:00+00:00",
          "2023-12-23T15:00:00+00:00",
          "2023-12-23T16:00:00+00:00",
          "2023-12-23T17:00:00+00:00",
          "2023-12-23T18:00:00+00:00",
          "2023-12-23T19:00:00+00:00",
          "2023-12-23T20:00:00+00:00",
          "2023-12-23T21:00:00+00:00",
          "2023-12-23T22:00:00+00:00",
          "2023-12-23T23:00:00+00:00",
          "2023-12-24T00:00:00+00:00",
          "2023-12-24T01:00:00+00:00",
          "2023-12-24T02:00:00+00:00",
          "2023-12-24T03:00:00+00:00",
          "2023-12-24T04:00:00+00:00",
          "2023-12-24T05:00:00+00:00",
          "2023-12-24T06:00:00+00:00",
          "2023-12-24T07:00:00+00:00",
          "2023-12-24T08:00:00+00:00",
          "2023-12-24T09:00:00+00:00",
          "2023-12-24T10:00:00+00:00",
          "2023-12-24T11:00:00+00:00",
          "2023-12-24T12:00:00+00:00",
          "2023-12-24T13:00:00+00:00",
          "2023-12-24T14:00:00+00:00",
          "2023-12-24T15:00:00+00:00",
          "2023-12-24T16:00:00+00:00",
          "2023-12-24T17:00:00+00:00",
          "2023-12-24T18:00:00+00:00",
          "2023-12-24T19:00:00+00:00",
          "2023-12-24T20:00:00+00:00",
          "2023-12-24T21:00:00+00:00",
          "2023-12-24T22:00:00+00:00",
          "2023-12-24T23:00:00+00:00",
          "2023-12-25T00:00:00+00:00",
          "2023-12-25T01:00:00+00:00",
          "2023-12-25T02:00:00+00:00",
          "2023-12-25T03:00:00+00:00",
          "2023-12-25T04:00:00+00:00",
          "2023-12-25T05:00:00+00:00",
          "2023-12-25T06:00:00+00:00",
          "2023-12-25T07:00:00+00:00",
          "2023-12-25T08:00:00+00:00",
          "2023-12-25T09:00:00+00:00",
          "2023-12-25T10:00:00+00:00",
          "2023-12-25T11:00:00+00:00",
          "2023-12-25T12:00:00+00:00",
          "2023-12-25T13:00:00+00:00",
          "2023-12-25T14:00:00+00:00",
          "2023-12-25T15:00:00+00:00",
          "2023-12-25T16:00:00+00:00",
          "2023-12-25T17:00:00+00:00",
          "2023-12-25T18:00:00+00:00",
          "2023-12-25T19:00:00+00:00",
          "2023-12-25T20:00:00+00:00",
          "2023-12-25T21:00:00+00:00",
          "2023-12-25T22:00:00+00:00",
          "2023-12-25T23:00:00+00:00",
          "2023-12-26T00:00:00+00:00",
          "2023-12-26T01:00:00+00:00",
          "2023-12-26T02:00:00+00:00",
          "2023-12-26T03:00:00+00:00",
          "2023-12-26T04:00:00+00:00",
          "2023-12-26T05:00:00+00:00",
          "2023-12-26T06:00:00+00:00",
          "2023-12-26T07:00:00+00:00",
          "2023-12-26T08:00:00+00:00",
          "2023-12-26T09:00:00+00:00",
          "2023-12-26T10:00:00+00:00",
          "2023-12-26T11:00:00+00:00",
          "2023-12-26T12:00:00+00:00",
          "2023-12-26T13:00:00+00:00",
          "2023-12-26T14:00:00+00:00",
          "2023-12-26T15:00:00+00:00",
          "2023-12-26T16:00:00+00:00",
          "2023-12-26T17:00:00+00:00",
          "2023-12-26T18:00:00+00:00",
          "2023-12-26T19:00:00+00:00",
          "2023-12-26T20:00:00+00:00",
          "2023-12-26T21:00:00+00:00",
          "2023-12-26T22:00:00+00:00",
          "2023-12-26T23:00:00+00:00",
          "2023-12-27T00:00:00+00:00",
          "2023-12-27T01:00:00+00:00",
          "2023-12-27T02:00:00+00:00",
          "2023-12-27T03:00:00+00:00",
          "2023-12-27T04:00:00+00:00",
          "2023-12-27T05:00:00+00:00",
          "2023-12-27T06:00:00+00:00",
          "2023-12-27T07:00:00+00:00",
          "2023-12-27T08:00:00+00:00",
          "2023-12-27T09:00:00+00:00",
          "2023-12-27T10:00:00+00:00",
          "2023-12-27T11:00:00+00:00",
          "2023-12-27T12:00:00+00:00",
          "2023-12-27T13:00:00+00:00",
          "2023-12-27T14:00:00+00:00",
          "2023-12-27T15:00:00+00:00",
          "2023-12-27T16:00:00+00:00",
          "2023-12-27T17:00:00+00:00",
          "2023-12-27T18:00:00+00:00",
          "2023-12-27T19:00:00+00:00",
          "2023-12-27T20:00:00+00:00",
          "2023-12-27T21:00:00+00:00",
          "2023-12-27T22:00:00+00:00",
          "2023-12-27T23:00:00+00:00",
          "2023-12-28T00:00:00+00:00",
          "2023-12-28T01:00:00+00:00",
          "2023-12-28T02:00:00+00:00",
          "2023-12-28T03:00:00+00:00",
          "2023-12-28T04:00:00+00:00",
          "2023-12-28T05:00:00+00:00",
          "2023-12-28T06:00:00+00:00",
          "2023-12-28T07:00:00+00:00",
          "2023-12-28T08:00:00+00:00",
          "2023-12-28T09:00:00+00:00",
          "2023-12-28T10:00:00+00:00",
          "2023-12-28T11:00:00+00:00",
          "2023-12-28T12:00:00+00:00",
          "2023-12-28T13:00:00+00:00",
          "2023-12-28T14:00:00+00:00",
          "2023-12-28T15:00:00+00:00",
          "2023-12-28T16:00:00+00:00",
          "2023-12-28T17:00:00+00:00"
         ],
         "xaxis": "x",
         "y": [
          null,
          null,
          null,
          null,
          null,
          null,
          null,
          null,
          null,
          null,
          null,
          null,
          null,
          null,
          null,
          null,
          null,
          null,
          null,
          null,
          null,
          null,
          null,
          null,
          null,
          null,
          null,
          null,
          null,
          null,
          null,
          null,
          null,
          null,
          null,
          null,
          null,
          null,
          null,
          null,
          null,
          null,
          null,
          null,
          null,
          null,
          null,
          null,
          null,
          null,
          null,
          null,
          null,
          null,
          null,
          null,
          null,
          null,
          null,
          null,
          null,
          null,
          null,
          null,
          null,
          null,
          null,
          null,
          null,
          null,
          null,
          null,
          null,
          null,
          null,
          null,
          null,
          null,
          null,
          null,
          null,
          null,
          null,
          null,
          null,
          null,
          null,
          null,
          null,
          null,
          null,
          null,
          null,
          null,
          null,
          null,
          null,
          null,
          null,
          null,
          null,
          null,
          null,
          null,
          null,
          null,
          null,
          null,
          null,
          null,
          null,
          null,
          null,
          null,
          null,
          null,
          null,
          null,
          null,
          null,
          null,
          null,
          null,
          null,
          null,
          null,
          null,
          null,
          null,
          null,
          null,
          null,
          null,
          null,
          null,
          null,
          null,
          null,
          null,
          null,
          null,
          null,
          null,
          null,
          null,
          null,
          null
         ],
         "yaxis": "y"
        },
        {
         "hovertemplate": "system_name=tum-esm-midcost-raspi-12<br>creation_timestamp=%{x}<br>diff=%{y}<extra></extra>",
         "legendgroup": "tum-esm-midcost-raspi-12",
         "line": {
          "color": "#00cc96",
          "dash": "solid"
         },
         "marker": {
          "symbol": "circle"
         },
         "mode": "markers+lines",
         "name": "tum-esm-midcost-raspi-12",
         "orientation": "v",
         "showlegend": true,
         "type": "scatter",
         "x": [
          "2023-12-22T15:00:00+00:00",
          "2023-12-22T16:00:00+00:00",
          "2023-12-22T17:00:00+00:00",
          "2023-12-22T18:00:00+00:00",
          "2023-12-22T19:00:00+00:00",
          "2023-12-22T20:00:00+00:00",
          "2023-12-22T21:00:00+00:00",
          "2023-12-22T22:00:00+00:00",
          "2023-12-22T23:00:00+00:00",
          "2023-12-23T00:00:00+00:00",
          "2023-12-23T01:00:00+00:00",
          "2023-12-23T02:00:00+00:00",
          "2023-12-23T03:00:00+00:00",
          "2023-12-23T04:00:00+00:00",
          "2023-12-23T05:00:00+00:00",
          "2023-12-23T06:00:00+00:00",
          "2023-12-23T07:00:00+00:00",
          "2023-12-23T08:00:00+00:00",
          "2023-12-23T09:00:00+00:00",
          "2023-12-23T10:00:00+00:00",
          "2023-12-23T11:00:00+00:00",
          "2023-12-23T12:00:00+00:00",
          "2023-12-23T13:00:00+00:00",
          "2023-12-23T14:00:00+00:00",
          "2023-12-23T15:00:00+00:00",
          "2023-12-23T16:00:00+00:00",
          "2023-12-23T17:00:00+00:00",
          "2023-12-23T18:00:00+00:00",
          "2023-12-23T19:00:00+00:00",
          "2023-12-23T20:00:00+00:00",
          "2023-12-23T21:00:00+00:00",
          "2023-12-23T22:00:00+00:00",
          "2023-12-23T23:00:00+00:00",
          "2023-12-24T00:00:00+00:00",
          "2023-12-24T01:00:00+00:00",
          "2023-12-24T02:00:00+00:00",
          "2023-12-24T03:00:00+00:00",
          "2023-12-24T04:00:00+00:00",
          "2023-12-24T05:00:00+00:00",
          "2023-12-24T06:00:00+00:00",
          "2023-12-24T07:00:00+00:00",
          "2023-12-24T08:00:00+00:00",
          "2023-12-24T09:00:00+00:00",
          "2023-12-24T10:00:00+00:00",
          "2023-12-24T11:00:00+00:00",
          "2023-12-24T12:00:00+00:00",
          "2023-12-24T13:00:00+00:00",
          "2023-12-24T14:00:00+00:00",
          "2023-12-24T15:00:00+00:00",
          "2023-12-24T16:00:00+00:00",
          "2023-12-24T17:00:00+00:00",
          "2023-12-24T18:00:00+00:00",
          "2023-12-24T19:00:00+00:00",
          "2023-12-24T20:00:00+00:00",
          "2023-12-24T21:00:00+00:00",
          "2023-12-24T22:00:00+00:00",
          "2023-12-24T23:00:00+00:00",
          "2023-12-25T00:00:00+00:00",
          "2023-12-25T01:00:00+00:00",
          "2023-12-25T02:00:00+00:00",
          "2023-12-25T03:00:00+00:00",
          "2023-12-25T04:00:00+00:00",
          "2023-12-25T05:00:00+00:00",
          "2023-12-25T06:00:00+00:00",
          "2023-12-25T07:00:00+00:00",
          "2023-12-25T08:00:00+00:00",
          "2023-12-25T09:00:00+00:00",
          "2023-12-25T10:00:00+00:00",
          "2023-12-25T11:00:00+00:00",
          "2023-12-25T12:00:00+00:00",
          "2023-12-25T13:00:00+00:00",
          "2023-12-25T14:00:00+00:00",
          "2023-12-25T15:00:00+00:00",
          "2023-12-25T16:00:00+00:00",
          "2023-12-25T17:00:00+00:00",
          "2023-12-25T18:00:00+00:00",
          "2023-12-25T19:00:00+00:00",
          "2023-12-25T20:00:00+00:00",
          "2023-12-25T21:00:00+00:00",
          "2023-12-25T22:00:00+00:00",
          "2023-12-25T23:00:00+00:00",
          "2023-12-26T00:00:00+00:00",
          "2023-12-26T01:00:00+00:00",
          "2023-12-26T02:00:00+00:00",
          "2023-12-26T03:00:00+00:00",
          "2023-12-26T04:00:00+00:00",
          "2023-12-26T05:00:00+00:00",
          "2023-12-26T06:00:00+00:00",
          "2023-12-26T07:00:00+00:00",
          "2023-12-26T08:00:00+00:00",
          "2023-12-26T09:00:00+00:00",
          "2023-12-26T10:00:00+00:00",
          "2023-12-26T11:00:00+00:00",
          "2023-12-26T12:00:00+00:00",
          "2023-12-26T13:00:00+00:00",
          "2023-12-26T14:00:00+00:00",
          "2023-12-26T15:00:00+00:00",
          "2023-12-26T16:00:00+00:00",
          "2023-12-26T17:00:00+00:00",
          "2023-12-26T18:00:00+00:00",
          "2023-12-26T19:00:00+00:00",
          "2023-12-26T20:00:00+00:00",
          "2023-12-26T21:00:00+00:00",
          "2023-12-26T22:00:00+00:00",
          "2023-12-26T23:00:00+00:00",
          "2023-12-27T00:00:00+00:00",
          "2023-12-27T01:00:00+00:00",
          "2023-12-27T02:00:00+00:00",
          "2023-12-27T03:00:00+00:00",
          "2023-12-27T04:00:00+00:00",
          "2023-12-27T05:00:00+00:00",
          "2023-12-27T06:00:00+00:00",
          "2023-12-27T07:00:00+00:00",
          "2023-12-27T08:00:00+00:00",
          "2023-12-27T09:00:00+00:00",
          "2023-12-27T10:00:00+00:00",
          "2023-12-27T11:00:00+00:00",
          "2023-12-27T12:00:00+00:00",
          "2023-12-27T13:00:00+00:00",
          "2023-12-27T14:00:00+00:00",
          "2023-12-27T15:00:00+00:00",
          "2023-12-27T16:00:00+00:00",
          "2023-12-27T17:00:00+00:00",
          "2023-12-27T18:00:00+00:00",
          "2023-12-27T19:00:00+00:00",
          "2023-12-27T20:00:00+00:00",
          "2023-12-27T21:00:00+00:00",
          "2023-12-27T22:00:00+00:00",
          "2023-12-27T23:00:00+00:00",
          "2023-12-28T00:00:00+00:00",
          "2023-12-28T01:00:00+00:00",
          "2023-12-28T02:00:00+00:00",
          "2023-12-28T03:00:00+00:00",
          "2023-12-28T04:00:00+00:00",
          "2023-12-28T05:00:00+00:00",
          "2023-12-28T06:00:00+00:00",
          "2023-12-28T07:00:00+00:00",
          "2023-12-28T08:00:00+00:00",
          "2023-12-28T09:00:00+00:00",
          "2023-12-28T10:00:00+00:00",
          "2023-12-28T11:00:00+00:00",
          "2023-12-28T12:00:00+00:00",
          "2023-12-28T13:00:00+00:00",
          "2023-12-28T14:00:00+00:00",
          "2023-12-28T15:00:00+00:00",
          "2023-12-28T16:00:00+00:00",
          "2023-12-28T17:00:00+00:00"
         ],
         "xaxis": "x",
         "y": [
          null,
          -0.35343703893340717,
          -0.6077335895123497,
          -0.17338147999106468,
          0.36031770580831335,
          0.10291549727742222,
          0.3310091095368648,
          0.2287201377817496,
          0.3500547389375015,
          -0.367481154100858,
          -0.22903286451077065,
          -1.287722382855577,
          -0.5408833585736375,
          0.21878289495458603,
          -0.444410484933087,
          -0.32381536421820556,
          0.05765991321993624,
          -0.04350168018311251,
          -0.19308778671603477,
          -0.15042499933923636,
          -0.21928156773185492,
          -0.0960850865321845,
          -0.1436321081343408,
          -0.02831755591091678,
          0.2138126253744872,
          -0.3554929976270387,
          -0.15966391383966538,
          0.1874391839601799,
          0.29669403142679585,
          0.07305121304284512,
          0.2340250947783602,
          0.5365796539005601,
          -0.23704613499660354,
          -0.36304420006933924,
          -0.37483767939988866,
          -0.15099679032726954,
          -0.8394036392127759,
          -0.5728982873852146,
          -0.02853911639817852,
          -0.056054612326931874,
          -0.18661814509806618,
          0.14702793642015877,
          0.40668175479328283,
          0.44704470999545265,
          0.3913284472108103,
          0.6314781707900465,
          -0.573235358863144,
          -0.6662369425913539,
          -0.40046780477916855,
          -0.8589372348785105,
          -0.4017759338088922,
          -0.39744469453199827,
          -0.8285135538911277,
          -0.27012838034119113,
          -0.13533071425661092,
          -0.20825598091329312,
          -0.3780473656761387,
          0.3188870699289623,
          0.4309116153279433,
          -0.1652862906013297,
          -0.2930097032502772,
          -0.7231114992914627,
          -0.24450740399493043,
          -0.468965415697312,
          -0.6310592793925593,
          0.06285070401565918,
          -0.38110568214773366,
          -0.5046757099663637,
          -0.7782811778532164,
          -0.9836959853444114,
          -0.6294084349543141,
          0.08341301254029077,
          0.4084522515310596,
          0.15910364989815662,
          0.2904514187323457,
          -0.2508300804445298,
          -0.48210429657427767,
          -0.46346412445041096,
          -0.21926781461394285,
          -0.36102120500197543,
          -0.21054073916150173,
          -0.2740443954922398,
          -0.397819845685774,
          -0.753528510609101,
          -0.5907995735674945,
          -0.3492602321413756,
          0.404099330835777,
          -0.2754653552438526,
          -0.28191170394467235,
          0.047684744384014266,
          -0.028451951621377702,
          0.13924864360615175,
          0.02701319688651438,
          -0.1859236346696207,
          -0.4491237743234251,
          -0.3440644374978774,
          -0.28207871042644683,
          0.008589376308577812,
          0.08155623173149706,
          -0.441938351519525,
          -0.4369650203306037,
          -0.09305646464116535,
          -0.20197805095142485,
          0.4790431413431975,
          0.5993573514573427,
          0.7323472035197938,
          0.5079607485733391,
          0.6387566155484024,
          0.10926936323130576,
          0.12307766337863768,
          -0.35741006922836505,
          0.6364108642333122,
          -0.7464872218504865,
          -0.6576852172875078,
          -0.6197412223788206,
          -0.6277205988171772,
          -1.2977194874608813,
          -1.2371327292992191,
          -0.5920578959071463,
          -0.716619766424401,
          -0.2060630780754309,
          -0.20851520675131496,
          -0.4273896359824221,
          -0.3607199928701448,
          -0.5753152512441488,
          0.14409616131331404,
          -0.016939499393288315,
          0.8704434998174975,
          0.11343583827306247,
          null,
          null,
          null,
          null,
          null,
          null,
          null,
          null,
          null,
          null,
          null,
          null,
          null,
          null,
          null,
          null,
          null,
          null
         ],
         "yaxis": "y"
        },
        {
         "hovertemplate": "system_name=tum-esm-midcost-raspi-16<br>creation_timestamp=%{x}<br>diff=%{y}<extra></extra>",
         "legendgroup": "tum-esm-midcost-raspi-16",
         "line": {
          "color": "#ab63fa",
          "dash": "solid"
         },
         "marker": {
          "symbol": "circle"
         },
         "mode": "markers+lines",
         "name": "tum-esm-midcost-raspi-16",
         "orientation": "v",
         "showlegend": true,
         "type": "scatter",
         "x": [
          "2023-12-22T15:00:00+00:00",
          "2023-12-22T16:00:00+00:00",
          "2023-12-22T17:00:00+00:00",
          "2023-12-22T18:00:00+00:00",
          "2023-12-22T19:00:00+00:00",
          "2023-12-22T20:00:00+00:00",
          "2023-12-22T21:00:00+00:00",
          "2023-12-22T22:00:00+00:00",
          "2023-12-22T23:00:00+00:00",
          "2023-12-23T00:00:00+00:00",
          "2023-12-23T01:00:00+00:00",
          "2023-12-23T02:00:00+00:00",
          "2023-12-23T03:00:00+00:00",
          "2023-12-23T04:00:00+00:00",
          "2023-12-23T05:00:00+00:00",
          "2023-12-23T06:00:00+00:00",
          "2023-12-23T07:00:00+00:00",
          "2023-12-23T08:00:00+00:00",
          "2023-12-23T09:00:00+00:00",
          "2023-12-23T10:00:00+00:00",
          "2023-12-23T11:00:00+00:00",
          "2023-12-23T12:00:00+00:00",
          "2023-12-23T13:00:00+00:00",
          "2023-12-23T14:00:00+00:00",
          "2023-12-23T15:00:00+00:00",
          "2023-12-23T16:00:00+00:00",
          "2023-12-23T17:00:00+00:00",
          "2023-12-23T18:00:00+00:00",
          "2023-12-23T19:00:00+00:00",
          "2023-12-23T20:00:00+00:00",
          "2023-12-23T21:00:00+00:00",
          "2023-12-23T22:00:00+00:00",
          "2023-12-23T23:00:00+00:00",
          "2023-12-24T00:00:00+00:00",
          "2023-12-24T01:00:00+00:00",
          "2023-12-24T02:00:00+00:00",
          "2023-12-24T03:00:00+00:00",
          "2023-12-24T04:00:00+00:00",
          "2023-12-24T05:00:00+00:00",
          "2023-12-24T06:00:00+00:00",
          "2023-12-24T07:00:00+00:00",
          "2023-12-24T08:00:00+00:00",
          "2023-12-24T09:00:00+00:00",
          "2023-12-24T10:00:00+00:00",
          "2023-12-24T11:00:00+00:00",
          "2023-12-24T12:00:00+00:00",
          "2023-12-24T13:00:00+00:00",
          "2023-12-24T14:00:00+00:00",
          "2023-12-24T15:00:00+00:00",
          "2023-12-24T16:00:00+00:00",
          "2023-12-24T17:00:00+00:00",
          "2023-12-24T18:00:00+00:00",
          "2023-12-24T19:00:00+00:00",
          "2023-12-24T20:00:00+00:00",
          "2023-12-24T21:00:00+00:00",
          "2023-12-24T22:00:00+00:00",
          "2023-12-24T23:00:00+00:00",
          "2023-12-25T00:00:00+00:00",
          "2023-12-25T01:00:00+00:00",
          "2023-12-25T02:00:00+00:00",
          "2023-12-25T03:00:00+00:00",
          "2023-12-25T04:00:00+00:00",
          "2023-12-25T05:00:00+00:00",
          "2023-12-25T06:00:00+00:00",
          "2023-12-25T07:00:00+00:00",
          "2023-12-25T08:00:00+00:00",
          "2023-12-25T09:00:00+00:00",
          "2023-12-25T10:00:00+00:00",
          "2023-12-25T11:00:00+00:00",
          "2023-12-25T12:00:00+00:00",
          "2023-12-25T13:00:00+00:00",
          "2023-12-25T14:00:00+00:00",
          "2023-12-25T15:00:00+00:00",
          "2023-12-25T16:00:00+00:00",
          "2023-12-25T17:00:00+00:00",
          "2023-12-25T18:00:00+00:00",
          "2023-12-25T19:00:00+00:00",
          "2023-12-25T20:00:00+00:00",
          "2023-12-25T21:00:00+00:00",
          "2023-12-25T22:00:00+00:00",
          "2023-12-25T23:00:00+00:00",
          "2023-12-26T00:00:00+00:00",
          "2023-12-26T01:00:00+00:00",
          "2023-12-26T02:00:00+00:00",
          "2023-12-26T03:00:00+00:00",
          "2023-12-26T04:00:00+00:00",
          "2023-12-26T05:00:00+00:00",
          "2023-12-26T06:00:00+00:00",
          "2023-12-26T07:00:00+00:00",
          "2023-12-26T08:00:00+00:00",
          "2023-12-26T09:00:00+00:00",
          "2023-12-26T10:00:00+00:00",
          "2023-12-26T11:00:00+00:00",
          "2023-12-26T12:00:00+00:00",
          "2023-12-26T13:00:00+00:00",
          "2023-12-26T14:00:00+00:00",
          "2023-12-26T15:00:00+00:00",
          "2023-12-26T16:00:00+00:00",
          "2023-12-26T17:00:00+00:00",
          "2023-12-26T18:00:00+00:00",
          "2023-12-26T19:00:00+00:00",
          "2023-12-26T20:00:00+00:00",
          "2023-12-26T21:00:00+00:00",
          "2023-12-26T22:00:00+00:00",
          "2023-12-26T23:00:00+00:00",
          "2023-12-27T00:00:00+00:00",
          "2023-12-27T01:00:00+00:00",
          "2023-12-27T02:00:00+00:00",
          "2023-12-27T03:00:00+00:00",
          "2023-12-27T04:00:00+00:00",
          "2023-12-27T05:00:00+00:00",
          "2023-12-27T06:00:00+00:00",
          "2023-12-27T07:00:00+00:00",
          "2023-12-27T08:00:00+00:00",
          "2023-12-27T09:00:00+00:00",
          "2023-12-27T10:00:00+00:00",
          "2023-12-27T11:00:00+00:00",
          "2023-12-27T12:00:00+00:00",
          "2023-12-27T13:00:00+00:00",
          "2023-12-27T14:00:00+00:00",
          "2023-12-27T15:00:00+00:00",
          "2023-12-27T16:00:00+00:00",
          "2023-12-27T17:00:00+00:00",
          "2023-12-27T18:00:00+00:00",
          "2023-12-27T19:00:00+00:00",
          "2023-12-27T20:00:00+00:00",
          "2023-12-27T21:00:00+00:00",
          "2023-12-27T22:00:00+00:00",
          "2023-12-27T23:00:00+00:00",
          "2023-12-28T00:00:00+00:00",
          "2023-12-28T01:00:00+00:00",
          "2023-12-28T02:00:00+00:00",
          "2023-12-28T03:00:00+00:00",
          "2023-12-28T04:00:00+00:00",
          "2023-12-28T05:00:00+00:00",
          "2023-12-28T06:00:00+00:00",
          "2023-12-28T07:00:00+00:00",
          "2023-12-28T08:00:00+00:00",
          "2023-12-28T09:00:00+00:00",
          "2023-12-28T10:00:00+00:00",
          "2023-12-28T11:00:00+00:00",
          "2023-12-28T12:00:00+00:00",
          "2023-12-28T13:00:00+00:00",
          "2023-12-28T14:00:00+00:00",
          "2023-12-28T15:00:00+00:00",
          "2023-12-28T16:00:00+00:00",
          "2023-12-28T17:00:00+00:00"
         ],
         "xaxis": "x",
         "y": [
          null,
          0.5268362872238868,
          0.43601591974453413,
          0.5386162339699467,
          0.576446480178106,
          0.5807673105777553,
          0.4236584419373912,
          0.3469703349517772,
          0.4138333094516611,
          0.30623332815315507,
          0.6030753835694327,
          0.22624468501931005,
          0.8212803166643994,
          0.4883684534027566,
          0.4004095438647255,
          0.36006521170935457,
          0.5369504448511293,
          0.6637403687851133,
          0.4568146598395515,
          0.3904206158254624,
          0.3181558712996093,
          0.40638704742042364,
          0.4272334601500347,
          0.478184543659836,
          0.30807793210766476,
          -0.08715341451920722,
          0.012859774078378905,
          0.050996216623218515,
          0.16271518440157706,
          0.8100439350078545,
          1.49168943020004,
          1.0673487979432252,
          1.4434935063137573,
          -0.0754566256470639,
          0.34578624866458085,
          -0.4267939888118235,
          -1.2347403008162132,
          -0.7326101557834477,
          -0.2463090070477847,
          -0.6357154275111156,
          0.5246651180078743,
          -0.13320327320883507,
          -0.1768834240723436,
          -0.22900033241143092,
          -0.24199947290111368,
          0.1475263155868447,
          0.00568838053447962,
          -0.13668124046199637,
          -0.22502360898658935,
          -0.16970782016727526,
          -0.328631658027291,
          0.024157516030527404,
          -0.16349411767151878,
          -0.049738684580916015,
          -0.20211847003872663,
          0.5628824243148074,
          0.6094906342418653,
          1.741998963718686,
          1.5588085055624106,
          1.4637786014775998,
          1.3888382001726427,
          0.6932629131395629,
          0.45444726365553834,
          0.34728031041072427,
          0.4946232496830021,
          0.9491702087149179,
          1.3992809339627001,
          1.1595977122146905,
          0.7917280362398174,
          0.8641844318369749,
          0.28730320951990507,
          0.004841199306383714,
          -0.0009841272300263881,
          0.1468508883193067,
          0.08462349250243051,
          0.24552349740611135,
          0.10896468625890066,
          0.07483021791119882,
          0.23656137761560103,
          0.23834159899809038,
          0.37891999995019887,
          -0.7907992201417073,
          -0.7160901870450402,
          -0.12386671077632627,
          0.6425227752254159,
          0.5039606142105981,
          0.7937802199454609,
          -0.4913490613015483,
          -0.4007109935383255,
          0.004075394722576675,
          0.19617048763819867,
          0.2962048982810188,
          0.38575150576519945,
          0.054194527350716726,
          -0.8554280772434595,
          -0.8829033384332661,
          -0.9512564693894205,
          -0.689454785984708,
          -0.9491484656247735,
          -0.7992797920753105,
          -0.7169656737024752,
          -0.9190093496364966,
          -0.7267560855033253,
          -0.8882375951633321,
          -0.9605310085928522,
          -0.40779804010287535,
          -0.5592104214770757,
          -0.5653506758166031,
          -0.4624267034226932,
          -0.33173054931148727,
          -0.6972607410191358,
          -1.9428080623056303,
          0.19346006390873072,
          -0.9566966397400734,
          -0.8916290760006405,
          -0.8756895981250636,
          -1.0364615247555662,
          -1.314106829487855,
          -0.4308694262852555,
          0.2600532301195244,
          -0.047686653092966935,
          -0.7396646158767339,
          -0.6124172915979784,
          -0.831319251644743,
          -0.9533130780219494,
          -0.6234042827661028,
          -0.8545387300174525,
          -0.2949835974364987,
          -0.02732931585831011,
          null,
          null,
          null,
          null,
          null,
          null,
          null,
          null,
          null,
          null,
          null,
          null,
          null,
          null,
          null,
          null,
          null,
          null
         ],
         "yaxis": "y"
        },
        {
         "hovertemplate": "system_name=tum-esm-midcost-raspi-18<br>creation_timestamp=%{x}<br>diff=%{y}<extra></extra>",
         "legendgroup": "tum-esm-midcost-raspi-18",
         "line": {
          "color": "#FFA15A",
          "dash": "solid"
         },
         "marker": {
          "symbol": "circle"
         },
         "mode": "markers+lines",
         "name": "tum-esm-midcost-raspi-18",
         "orientation": "v",
         "showlegend": true,
         "type": "scatter",
         "x": [
          "2023-12-22T15:00:00+00:00",
          "2023-12-22T16:00:00+00:00",
          "2023-12-22T17:00:00+00:00",
          "2023-12-22T18:00:00+00:00",
          "2023-12-22T19:00:00+00:00",
          "2023-12-22T20:00:00+00:00",
          "2023-12-22T21:00:00+00:00",
          "2023-12-22T22:00:00+00:00",
          "2023-12-22T23:00:00+00:00",
          "2023-12-23T00:00:00+00:00",
          "2023-12-23T01:00:00+00:00",
          "2023-12-23T02:00:00+00:00",
          "2023-12-23T03:00:00+00:00",
          "2023-12-23T04:00:00+00:00",
          "2023-12-23T05:00:00+00:00",
          "2023-12-23T06:00:00+00:00",
          "2023-12-23T07:00:00+00:00",
          "2023-12-23T08:00:00+00:00",
          "2023-12-23T09:00:00+00:00",
          "2023-12-23T10:00:00+00:00",
          "2023-12-23T11:00:00+00:00",
          "2023-12-23T12:00:00+00:00",
          "2023-12-23T13:00:00+00:00",
          "2023-12-23T14:00:00+00:00",
          "2023-12-23T15:00:00+00:00",
          "2023-12-23T16:00:00+00:00",
          "2023-12-23T17:00:00+00:00",
          "2023-12-23T18:00:00+00:00",
          "2023-12-23T19:00:00+00:00",
          "2023-12-23T20:00:00+00:00",
          "2023-12-23T21:00:00+00:00",
          "2023-12-23T22:00:00+00:00",
          "2023-12-23T23:00:00+00:00",
          "2023-12-24T00:00:00+00:00",
          "2023-12-24T01:00:00+00:00",
          "2023-12-24T02:00:00+00:00",
          "2023-12-24T03:00:00+00:00",
          "2023-12-24T04:00:00+00:00",
          "2023-12-24T05:00:00+00:00",
          "2023-12-24T06:00:00+00:00",
          "2023-12-24T07:00:00+00:00",
          "2023-12-24T08:00:00+00:00",
          "2023-12-24T09:00:00+00:00",
          "2023-12-24T10:00:00+00:00",
          "2023-12-24T11:00:00+00:00",
          "2023-12-24T12:00:00+00:00",
          "2023-12-24T13:00:00+00:00",
          "2023-12-24T14:00:00+00:00",
          "2023-12-24T15:00:00+00:00",
          "2023-12-24T16:00:00+00:00",
          "2023-12-24T17:00:00+00:00",
          "2023-12-24T18:00:00+00:00",
          "2023-12-24T19:00:00+00:00",
          "2023-12-24T20:00:00+00:00",
          "2023-12-24T21:00:00+00:00",
          "2023-12-24T22:00:00+00:00",
          "2023-12-24T23:00:00+00:00",
          "2023-12-25T00:00:00+00:00",
          "2023-12-25T01:00:00+00:00",
          "2023-12-25T02:00:00+00:00",
          "2023-12-25T03:00:00+00:00",
          "2023-12-25T04:00:00+00:00",
          "2023-12-25T05:00:00+00:00",
          "2023-12-25T06:00:00+00:00",
          "2023-12-25T07:00:00+00:00",
          "2023-12-25T08:00:00+00:00",
          "2023-12-25T09:00:00+00:00",
          "2023-12-25T10:00:00+00:00",
          "2023-12-25T11:00:00+00:00",
          "2023-12-25T12:00:00+00:00",
          "2023-12-25T13:00:00+00:00",
          "2023-12-25T14:00:00+00:00",
          "2023-12-25T15:00:00+00:00",
          "2023-12-25T16:00:00+00:00",
          "2023-12-25T17:00:00+00:00",
          "2023-12-25T18:00:00+00:00",
          "2023-12-25T19:00:00+00:00",
          "2023-12-25T20:00:00+00:00",
          "2023-12-25T21:00:00+00:00",
          "2023-12-25T22:00:00+00:00",
          "2023-12-25T23:00:00+00:00",
          "2023-12-26T00:00:00+00:00",
          "2023-12-26T01:00:00+00:00",
          "2023-12-26T02:00:00+00:00",
          "2023-12-26T03:00:00+00:00",
          "2023-12-26T04:00:00+00:00",
          "2023-12-26T05:00:00+00:00",
          "2023-12-26T06:00:00+00:00",
          "2023-12-26T07:00:00+00:00",
          "2023-12-26T08:00:00+00:00",
          "2023-12-26T09:00:00+00:00",
          "2023-12-26T10:00:00+00:00",
          "2023-12-26T11:00:00+00:00",
          "2023-12-26T12:00:00+00:00",
          "2023-12-26T13:00:00+00:00",
          "2023-12-26T14:00:00+00:00",
          "2023-12-26T15:00:00+00:00",
          "2023-12-26T16:00:00+00:00",
          "2023-12-26T17:00:00+00:00",
          "2023-12-26T18:00:00+00:00",
          "2023-12-26T19:00:00+00:00",
          "2023-12-26T20:00:00+00:00",
          "2023-12-26T21:00:00+00:00",
          "2023-12-26T22:00:00+00:00",
          "2023-12-26T23:00:00+00:00",
          "2023-12-27T00:00:00+00:00",
          "2023-12-27T01:00:00+00:00",
          "2023-12-27T02:00:00+00:00",
          "2023-12-27T03:00:00+00:00",
          "2023-12-27T04:00:00+00:00",
          "2023-12-27T05:00:00+00:00",
          "2023-12-27T06:00:00+00:00",
          "2023-12-27T07:00:00+00:00",
          "2023-12-27T08:00:00+00:00",
          "2023-12-27T09:00:00+00:00",
          "2023-12-27T10:00:00+00:00",
          "2023-12-27T11:00:00+00:00",
          "2023-12-27T12:00:00+00:00",
          "2023-12-27T13:00:00+00:00",
          "2023-12-27T14:00:00+00:00",
          "2023-12-27T15:00:00+00:00",
          "2023-12-27T16:00:00+00:00",
          "2023-12-27T17:00:00+00:00",
          "2023-12-27T18:00:00+00:00",
          "2023-12-27T19:00:00+00:00",
          "2023-12-27T20:00:00+00:00",
          "2023-12-27T21:00:00+00:00",
          "2023-12-27T22:00:00+00:00",
          "2023-12-27T23:00:00+00:00",
          "2023-12-28T00:00:00+00:00",
          "2023-12-28T01:00:00+00:00",
          "2023-12-28T02:00:00+00:00",
          "2023-12-28T03:00:00+00:00",
          "2023-12-28T04:00:00+00:00",
          "2023-12-28T05:00:00+00:00",
          "2023-12-28T06:00:00+00:00",
          "2023-12-28T07:00:00+00:00",
          "2023-12-28T08:00:00+00:00",
          "2023-12-28T09:00:00+00:00",
          "2023-12-28T10:00:00+00:00",
          "2023-12-28T11:00:00+00:00",
          "2023-12-28T12:00:00+00:00",
          "2023-12-28T13:00:00+00:00",
          "2023-12-28T14:00:00+00:00",
          "2023-12-28T15:00:00+00:00",
          "2023-12-28T16:00:00+00:00",
          "2023-12-28T17:00:00+00:00"
         ],
         "xaxis": "x",
         "y": [
          null,
          0.10639746358373259,
          -0.30650516067049693,
          0.017029286850117842,
          0.03343511114030662,
          -0.08833009439950956,
          -0.04188076109761596,
          -0.17252401734651812,
          -0.10660506771222344,
          0.13350288876887362,
          0.012679257475099348,
          -0.9393740317565857,
          -0.18493994258182056,
          -0.14134137542225744,
          0.08288534972962225,
          0.23050244026887867,
          0.5858194217879031,
          0.5750649070237159,
          0.39535309256922346,
          0.3015330680478314,
          0.016711295046889063,
          -0.09057663780970415,
          -0.3536791413180822,
          0.12369140314467586,
          -0.08712394890807218,
          -0.5261825824845232,
          -0.48683984886355347,
          -0.26656839551117173,
          -0.4111434583055029,
          -0.1335895079436682,
          -0.3042285627516321,
          -0.3316253648475822,
          -0.04848053540320052,
          -0.46467516555213706,
          -0.16742354028605178,
          -0.0778178526890656,
          -1.2665969361352154,
          -1.0397507418251735,
          -0.493199393219129,
          -0.5091633634590949,
          -0.5449207804813341,
          -0.21698160937586408,
          -0.5770528987949319,
          -0.009000869708756909,
          0.05203208665460579,
          0.21196088903832333,
          0.25199159740202504,
          -0.570076085295284,
          -0.7064955614833366,
          -0.7080836684266387,
          -0.6576951508750426,
          -0.7200265715717933,
          -0.8580418317700378,
          -1.0184485962687404,
          -1.0548735250111463,
          -0.5278638017890671,
          -0.6312810475504307,
          1.2045224414682139,
          1.1072233378352507,
          0.6694352108013959,
          0.6497872560690894,
          -0.5601435871096783,
          0.06887600502466285,
          0.5639604045736064,
          0.6533147237624348,
          0.6665584923619576,
          0.6583178793662228,
          0.38707383193309397,
          0.29845636158421485,
          0.5754619701193633,
          0.19459049707393206,
          0.5769386483093513,
          0.9740215119314826,
          0.9915347108754418,
          0.8124274375308573,
          0.9158737649905788,
          0.7438760190592006,
          0.7649599702233445,
          0.9900778981899521,
          0.5723365724414862,
          0.788821877969383,
          -0.41401836171962714,
          -0.27389243734302227,
          -0.14436225376897482,
          -0.111625990304276,
          -0.10014871170534434,
          0.5992222433056895,
          -0.47444135175305746,
          0.01402062129290016,
          0.1327583825734564,
          0.11761393545282317,
          0.1302073775207191,
          0.0416756919609611,
          0.05946918192847761,
          -0.7871183890379712,
          -0.7144136999874036,
          -0.7496247340840796,
          -0.2904521434337539,
          -0.4308760064478747,
          -0.49830830017270955,
          -0.6132463186073664,
          -0.41833599402531263,
          -0.3738678468234298,
          -0.12376875607611737,
          -0.29853866099136894,
          -0.10974679619044991,
          -0.2484705684543087,
          -0.2284720427717275,
          -0.5548885188545682,
          -0.3143246376197908,
          -0.6463038900678271,
          -2.640746801789817,
          -0.8570821786224201,
          -0.5175638021075315,
          -0.6989324205870275,
          -0.6750025620326028,
          -0.766615464247252,
          -1.6565063126090536,
          -0.9922746296015816,
          -1.0439168701132644,
          -0.9621503081914966,
          -0.6067613992459542,
          -1.0535619931823135,
          -0.7126093092751944,
          -0.5108804374305578,
          0.05828758418886082,
          -0.17553768776508605,
          0.2882407858174929,
          -0.5156441389959809,
          null,
          null,
          null,
          null,
          null,
          null,
          null,
          null,
          null,
          null,
          null,
          null,
          null,
          null,
          null,
          null,
          null,
          null
         ],
         "yaxis": "y"
        },
        {
         "hovertemplate": "system_name=tum-esm-midcost-raspi-20<br>creation_timestamp=%{x}<br>diff=%{y}<extra></extra>",
         "legendgroup": "tum-esm-midcost-raspi-20",
         "line": {
          "color": "#19d3f3",
          "dash": "solid"
         },
         "marker": {
          "symbol": "circle"
         },
         "mode": "markers+lines",
         "name": "tum-esm-midcost-raspi-20",
         "orientation": "v",
         "showlegend": true,
         "type": "scatter",
         "x": [
          "2023-12-22T15:00:00+00:00",
          "2023-12-22T16:00:00+00:00",
          "2023-12-22T17:00:00+00:00",
          "2023-12-22T18:00:00+00:00",
          "2023-12-22T19:00:00+00:00",
          "2023-12-22T20:00:00+00:00",
          "2023-12-22T21:00:00+00:00",
          "2023-12-22T22:00:00+00:00",
          "2023-12-22T23:00:00+00:00",
          "2023-12-23T00:00:00+00:00",
          "2023-12-23T01:00:00+00:00",
          "2023-12-23T02:00:00+00:00",
          "2023-12-23T03:00:00+00:00",
          "2023-12-23T04:00:00+00:00",
          "2023-12-23T05:00:00+00:00",
          "2023-12-23T06:00:00+00:00",
          "2023-12-23T07:00:00+00:00",
          "2023-12-23T08:00:00+00:00",
          "2023-12-23T09:00:00+00:00",
          "2023-12-23T10:00:00+00:00",
          "2023-12-23T11:00:00+00:00",
          "2023-12-23T12:00:00+00:00",
          "2023-12-23T13:00:00+00:00",
          "2023-12-23T14:00:00+00:00",
          "2023-12-23T15:00:00+00:00",
          "2023-12-23T16:00:00+00:00",
          "2023-12-23T17:00:00+00:00",
          "2023-12-23T18:00:00+00:00",
          "2023-12-23T19:00:00+00:00",
          "2023-12-23T20:00:00+00:00",
          "2023-12-23T21:00:00+00:00",
          "2023-12-23T22:00:00+00:00",
          "2023-12-23T23:00:00+00:00",
          "2023-12-24T00:00:00+00:00",
          "2023-12-24T01:00:00+00:00",
          "2023-12-24T02:00:00+00:00",
          "2023-12-24T03:00:00+00:00",
          "2023-12-24T04:00:00+00:00",
          "2023-12-24T05:00:00+00:00",
          "2023-12-24T06:00:00+00:00",
          "2023-12-24T07:00:00+00:00",
          "2023-12-24T08:00:00+00:00",
          "2023-12-24T09:00:00+00:00",
          "2023-12-24T10:00:00+00:00",
          "2023-12-24T11:00:00+00:00",
          "2023-12-24T12:00:00+00:00",
          "2023-12-24T13:00:00+00:00",
          "2023-12-24T14:00:00+00:00",
          "2023-12-24T15:00:00+00:00",
          "2023-12-24T16:00:00+00:00",
          "2023-12-24T17:00:00+00:00",
          "2023-12-24T18:00:00+00:00",
          "2023-12-24T19:00:00+00:00",
          "2023-12-24T20:00:00+00:00",
          "2023-12-24T21:00:00+00:00",
          "2023-12-24T22:00:00+00:00",
          "2023-12-24T23:00:00+00:00",
          "2023-12-25T00:00:00+00:00",
          "2023-12-25T01:00:00+00:00",
          "2023-12-25T02:00:00+00:00",
          "2023-12-25T03:00:00+00:00",
          "2023-12-25T04:00:00+00:00",
          "2023-12-25T05:00:00+00:00",
          "2023-12-25T06:00:00+00:00",
          "2023-12-25T07:00:00+00:00",
          "2023-12-25T08:00:00+00:00",
          "2023-12-25T09:00:00+00:00",
          "2023-12-25T10:00:00+00:00",
          "2023-12-25T11:00:00+00:00",
          "2023-12-25T12:00:00+00:00",
          "2023-12-25T13:00:00+00:00",
          "2023-12-25T14:00:00+00:00",
          "2023-12-25T15:00:00+00:00",
          "2023-12-25T16:00:00+00:00",
          "2023-12-25T17:00:00+00:00",
          "2023-12-25T18:00:00+00:00",
          "2023-12-25T19:00:00+00:00",
          "2023-12-25T20:00:00+00:00",
          "2023-12-25T21:00:00+00:00",
          "2023-12-25T22:00:00+00:00",
          "2023-12-25T23:00:00+00:00",
          "2023-12-26T00:00:00+00:00",
          "2023-12-26T01:00:00+00:00",
          "2023-12-26T02:00:00+00:00",
          "2023-12-26T03:00:00+00:00",
          "2023-12-26T04:00:00+00:00",
          "2023-12-26T05:00:00+00:00",
          "2023-12-26T06:00:00+00:00",
          "2023-12-26T07:00:00+00:00",
          "2023-12-26T08:00:00+00:00",
          "2023-12-26T09:00:00+00:00",
          "2023-12-26T10:00:00+00:00",
          "2023-12-26T11:00:00+00:00",
          "2023-12-26T12:00:00+00:00",
          "2023-12-26T13:00:00+00:00",
          "2023-12-26T14:00:00+00:00",
          "2023-12-26T15:00:00+00:00",
          "2023-12-26T16:00:00+00:00",
          "2023-12-26T17:00:00+00:00",
          "2023-12-26T18:00:00+00:00",
          "2023-12-26T19:00:00+00:00",
          "2023-12-26T20:00:00+00:00",
          "2023-12-26T21:00:00+00:00",
          "2023-12-26T22:00:00+00:00",
          "2023-12-26T23:00:00+00:00",
          "2023-12-27T00:00:00+00:00",
          "2023-12-27T01:00:00+00:00",
          "2023-12-27T02:00:00+00:00",
          "2023-12-27T03:00:00+00:00",
          "2023-12-27T04:00:00+00:00",
          "2023-12-27T05:00:00+00:00",
          "2023-12-27T06:00:00+00:00",
          "2023-12-27T07:00:00+00:00",
          "2023-12-27T08:00:00+00:00",
          "2023-12-27T09:00:00+00:00",
          "2023-12-27T10:00:00+00:00",
          "2023-12-27T11:00:00+00:00",
          "2023-12-27T12:00:00+00:00",
          "2023-12-27T13:00:00+00:00",
          "2023-12-27T14:00:00+00:00",
          "2023-12-27T15:00:00+00:00",
          "2023-12-27T16:00:00+00:00",
          "2023-12-27T17:00:00+00:00",
          "2023-12-27T18:00:00+00:00",
          "2023-12-27T19:00:00+00:00",
          "2023-12-27T20:00:00+00:00",
          "2023-12-27T21:00:00+00:00",
          "2023-12-27T22:00:00+00:00",
          "2023-12-27T23:00:00+00:00",
          "2023-12-28T00:00:00+00:00",
          "2023-12-28T01:00:00+00:00",
          "2023-12-28T02:00:00+00:00",
          "2023-12-28T03:00:00+00:00",
          "2023-12-28T04:00:00+00:00",
          "2023-12-28T05:00:00+00:00",
          "2023-12-28T06:00:00+00:00",
          "2023-12-28T07:00:00+00:00",
          "2023-12-28T08:00:00+00:00",
          "2023-12-28T09:00:00+00:00",
          "2023-12-28T10:00:00+00:00",
          "2023-12-28T11:00:00+00:00",
          "2023-12-28T12:00:00+00:00",
          "2023-12-28T13:00:00+00:00",
          "2023-12-28T14:00:00+00:00",
          "2023-12-28T15:00:00+00:00",
          "2023-12-28T16:00:00+00:00",
          "2023-12-28T17:00:00+00:00"
         ],
         "xaxis": "x",
         "y": [
          null,
          -0.4746378880579414,
          -0.35673731205895365,
          -0.536067839698319,
          -0.3271339757092733,
          -0.4904612521244758,
          -0.2615855162260914,
          -0.3860543359963913,
          -0.16129983657418734,
          -0.14132669379387153,
          -0.2215179493620667,
          -1.163607359091543,
          -0.2430758705610856,
          -0.1640334142622919,
          -0.3073029236061302,
          -0.3920359791995338,
          -0.5983635488771029,
          -0.6340863488993591,
          0.1765105296518641,
          0.11080028752235194,
          0.0005352524432282735,
          0.3032442899356056,
          0.6410215964759232,
          0.39976983570790026,
          0.5361898191523551,
          0.28355820013587163,
          -0.06115707798380754,
          -0.13785138520859164,
          -0.14117143754089057,
          0.0063281397568175635,
          0.507516469961331,
          0.27795545154515366,
          -0.15189388825353944,
          -1.3867932719534792,
          -1.094311471623314,
          -1.0640153607041043,
          -2.1509126665670806,
          -1.378461507742884,
          -0.9375700952721786,
          -0.9843929134352152,
          -1.0907535646975361,
          -1.0593334934251857,
          -1.1325165683979321,
          -0.3489268471504374,
          0.06672635996670806,
          0.16231978385724233,
          -0.36800097482091587,
          -1.4738314718588867,
          -1.0504245425763656,
          -0.9280976935796161,
          -0.7672077063903089,
          -0.8266889430567517,
          -0.6899210031338612,
          -0.6609154412038833,
          -0.8382739577801885,
          -0.8003184045097669,
          -0.5823763180015931,
          0.7445983552223083,
          0.9880849244826209,
          0.5266141765551424,
          0.4932099063371993,
          -0.5010889518366639,
          -0.011771183050768741,
          0.6665293911148638,
          1.0516930267550038,
          1.246628864271372,
          0.7512074314707888,
          0.4507244959137324,
          -0.14450720513690385,
          -0.13793903492091886,
          -0.025685656705263682,
          0.07783320361420465,
          0.0670930251906725,
          0.25056255946304873,
          0.2316305452293932,
          0.37212611975218124,
          0.9108866618464617,
          0.4706393263841733,
          1.0712960755989798,
          1.3372523185443015,
          0.8353336634214088,
          0.4045172738211136,
          -0.07173718063984325,
          -0.2931742207019852,
          -0.4790410488936345,
          -0.410696558595248,
          0.7639123205985925,
          -0.3088404719140385,
          0.030947642889145754,
          0.22278401312286178,
          0.04046245504747503,
          -0.06289592769371666,
          -0.09619672077184305,
          -0.08647346279133217,
          0.6384368620109626,
          0.47851950650891695,
          0.388747328749389,
          -0.26029222919703443,
          -0.05312529629907203,
          0.10218692564745879,
          0.011621194736164853,
          -0.04454258603914241,
          -0.36747073714684575,
          -0.43757397212800697,
          -0.21899276625470065,
          -0.20835570131305303,
          -0.6418649782454509,
          -0.577463932876924,
          -0.7538903804180563,
          -0.39700434725727973,
          -1.1247730868857957,
          -3.3868028033156747,
          -0.6413178454689046,
          -0.3689338009090193,
          -0.42083764639187393,
          -0.22576011944499896,
          -0.644991685765433,
          -0.38857829599874094,
          0.6553619250806264,
          0.37569779378804924,
          0.20464591077399064,
          -0.3895062127258484,
          -0.6349840763169254,
          -0.15450750819996983,
          -0.5153438377048474,
          0.43011284225605095,
          -0.6614415311038897,
          -0.3086633451143257,
          -0.4961425641757842,
          null,
          null,
          null,
          null,
          null,
          null,
          null,
          null,
          null,
          null,
          null,
          null,
          null,
          null,
          null,
          null,
          null,
          null
         ],
         "yaxis": "y"
        }
       ],
       "layout": {
        "legend": {
         "title": {
          "text": "system_name"
         },
         "tracegroupgap": 0
        },
        "template": {
         "data": {
          "bar": [
           {
            "error_x": {
             "color": "#2a3f5f"
            },
            "error_y": {
             "color": "#2a3f5f"
            },
            "marker": {
             "line": {
              "color": "#E5ECF6",
              "width": 0.5
             },
             "pattern": {
              "fillmode": "overlay",
              "size": 10,
              "solidity": 0.2
             }
            },
            "type": "bar"
           }
          ],
          "barpolar": [
           {
            "marker": {
             "line": {
              "color": "#E5ECF6",
              "width": 0.5
             },
             "pattern": {
              "fillmode": "overlay",
              "size": 10,
              "solidity": 0.2
             }
            },
            "type": "barpolar"
           }
          ],
          "carpet": [
           {
            "aaxis": {
             "endlinecolor": "#2a3f5f",
             "gridcolor": "white",
             "linecolor": "white",
             "minorgridcolor": "white",
             "startlinecolor": "#2a3f5f"
            },
            "baxis": {
             "endlinecolor": "#2a3f5f",
             "gridcolor": "white",
             "linecolor": "white",
             "minorgridcolor": "white",
             "startlinecolor": "#2a3f5f"
            },
            "type": "carpet"
           }
          ],
          "choropleth": [
           {
            "colorbar": {
             "outlinewidth": 0,
             "ticks": ""
            },
            "type": "choropleth"
           }
          ],
          "contour": [
           {
            "colorbar": {
             "outlinewidth": 0,
             "ticks": ""
            },
            "colorscale": [
             [
              0,
              "#0d0887"
             ],
             [
              0.1111111111111111,
              "#46039f"
             ],
             [
              0.2222222222222222,
              "#7201a8"
             ],
             [
              0.3333333333333333,
              "#9c179e"
             ],
             [
              0.4444444444444444,
              "#bd3786"
             ],
             [
              0.5555555555555556,
              "#d8576b"
             ],
             [
              0.6666666666666666,
              "#ed7953"
             ],
             [
              0.7777777777777778,
              "#fb9f3a"
             ],
             [
              0.8888888888888888,
              "#fdca26"
             ],
             [
              1,
              "#f0f921"
             ]
            ],
            "type": "contour"
           }
          ],
          "contourcarpet": [
           {
            "colorbar": {
             "outlinewidth": 0,
             "ticks": ""
            },
            "type": "contourcarpet"
           }
          ],
          "heatmap": [
           {
            "colorbar": {
             "outlinewidth": 0,
             "ticks": ""
            },
            "colorscale": [
             [
              0,
              "#0d0887"
             ],
             [
              0.1111111111111111,
              "#46039f"
             ],
             [
              0.2222222222222222,
              "#7201a8"
             ],
             [
              0.3333333333333333,
              "#9c179e"
             ],
             [
              0.4444444444444444,
              "#bd3786"
             ],
             [
              0.5555555555555556,
              "#d8576b"
             ],
             [
              0.6666666666666666,
              "#ed7953"
             ],
             [
              0.7777777777777778,
              "#fb9f3a"
             ],
             [
              0.8888888888888888,
              "#fdca26"
             ],
             [
              1,
              "#f0f921"
             ]
            ],
            "type": "heatmap"
           }
          ],
          "heatmapgl": [
           {
            "colorbar": {
             "outlinewidth": 0,
             "ticks": ""
            },
            "colorscale": [
             [
              0,
              "#0d0887"
             ],
             [
              0.1111111111111111,
              "#46039f"
             ],
             [
              0.2222222222222222,
              "#7201a8"
             ],
             [
              0.3333333333333333,
              "#9c179e"
             ],
             [
              0.4444444444444444,
              "#bd3786"
             ],
             [
              0.5555555555555556,
              "#d8576b"
             ],
             [
              0.6666666666666666,
              "#ed7953"
             ],
             [
              0.7777777777777778,
              "#fb9f3a"
             ],
             [
              0.8888888888888888,
              "#fdca26"
             ],
             [
              1,
              "#f0f921"
             ]
            ],
            "type": "heatmapgl"
           }
          ],
          "histogram": [
           {
            "marker": {
             "pattern": {
              "fillmode": "overlay",
              "size": 10,
              "solidity": 0.2
             }
            },
            "type": "histogram"
           }
          ],
          "histogram2d": [
           {
            "colorbar": {
             "outlinewidth": 0,
             "ticks": ""
            },
            "colorscale": [
             [
              0,
              "#0d0887"
             ],
             [
              0.1111111111111111,
              "#46039f"
             ],
             [
              0.2222222222222222,
              "#7201a8"
             ],
             [
              0.3333333333333333,
              "#9c179e"
             ],
             [
              0.4444444444444444,
              "#bd3786"
             ],
             [
              0.5555555555555556,
              "#d8576b"
             ],
             [
              0.6666666666666666,
              "#ed7953"
             ],
             [
              0.7777777777777778,
              "#fb9f3a"
             ],
             [
              0.8888888888888888,
              "#fdca26"
             ],
             [
              1,
              "#f0f921"
             ]
            ],
            "type": "histogram2d"
           }
          ],
          "histogram2dcontour": [
           {
            "colorbar": {
             "outlinewidth": 0,
             "ticks": ""
            },
            "colorscale": [
             [
              0,
              "#0d0887"
             ],
             [
              0.1111111111111111,
              "#46039f"
             ],
             [
              0.2222222222222222,
              "#7201a8"
             ],
             [
              0.3333333333333333,
              "#9c179e"
             ],
             [
              0.4444444444444444,
              "#bd3786"
             ],
             [
              0.5555555555555556,
              "#d8576b"
             ],
             [
              0.6666666666666666,
              "#ed7953"
             ],
             [
              0.7777777777777778,
              "#fb9f3a"
             ],
             [
              0.8888888888888888,
              "#fdca26"
             ],
             [
              1,
              "#f0f921"
             ]
            ],
            "type": "histogram2dcontour"
           }
          ],
          "mesh3d": [
           {
            "colorbar": {
             "outlinewidth": 0,
             "ticks": ""
            },
            "type": "mesh3d"
           }
          ],
          "parcoords": [
           {
            "line": {
             "colorbar": {
              "outlinewidth": 0,
              "ticks": ""
             }
            },
            "type": "parcoords"
           }
          ],
          "pie": [
           {
            "automargin": true,
            "type": "pie"
           }
          ],
          "scatter": [
           {
            "fillpattern": {
             "fillmode": "overlay",
             "size": 10,
             "solidity": 0.2
            },
            "type": "scatter"
           }
          ],
          "scatter3d": [
           {
            "line": {
             "colorbar": {
              "outlinewidth": 0,
              "ticks": ""
             }
            },
            "marker": {
             "colorbar": {
              "outlinewidth": 0,
              "ticks": ""
             }
            },
            "type": "scatter3d"
           }
          ],
          "scattercarpet": [
           {
            "marker": {
             "colorbar": {
              "outlinewidth": 0,
              "ticks": ""
             }
            },
            "type": "scattercarpet"
           }
          ],
          "scattergeo": [
           {
            "marker": {
             "colorbar": {
              "outlinewidth": 0,
              "ticks": ""
             }
            },
            "type": "scattergeo"
           }
          ],
          "scattergl": [
           {
            "marker": {
             "colorbar": {
              "outlinewidth": 0,
              "ticks": ""
             }
            },
            "type": "scattergl"
           }
          ],
          "scattermapbox": [
           {
            "marker": {
             "colorbar": {
              "outlinewidth": 0,
              "ticks": ""
             }
            },
            "type": "scattermapbox"
           }
          ],
          "scatterpolar": [
           {
            "marker": {
             "colorbar": {
              "outlinewidth": 0,
              "ticks": ""
             }
            },
            "type": "scatterpolar"
           }
          ],
          "scatterpolargl": [
           {
            "marker": {
             "colorbar": {
              "outlinewidth": 0,
              "ticks": ""
             }
            },
            "type": "scatterpolargl"
           }
          ],
          "scatterternary": [
           {
            "marker": {
             "colorbar": {
              "outlinewidth": 0,
              "ticks": ""
             }
            },
            "type": "scatterternary"
           }
          ],
          "surface": [
           {
            "colorbar": {
             "outlinewidth": 0,
             "ticks": ""
            },
            "colorscale": [
             [
              0,
              "#0d0887"
             ],
             [
              0.1111111111111111,
              "#46039f"
             ],
             [
              0.2222222222222222,
              "#7201a8"
             ],
             [
              0.3333333333333333,
              "#9c179e"
             ],
             [
              0.4444444444444444,
              "#bd3786"
             ],
             [
              0.5555555555555556,
              "#d8576b"
             ],
             [
              0.6666666666666666,
              "#ed7953"
             ],
             [
              0.7777777777777778,
              "#fb9f3a"
             ],
             [
              0.8888888888888888,
              "#fdca26"
             ],
             [
              1,
              "#f0f921"
             ]
            ],
            "type": "surface"
           }
          ],
          "table": [
           {
            "cells": {
             "fill": {
              "color": "#EBF0F8"
             },
             "line": {
              "color": "white"
             }
            },
            "header": {
             "fill": {
              "color": "#C8D4E3"
             },
             "line": {
              "color": "white"
             }
            },
            "type": "table"
           }
          ]
         },
         "layout": {
          "annotationdefaults": {
           "arrowcolor": "#2a3f5f",
           "arrowhead": 0,
           "arrowwidth": 1
          },
          "autotypenumbers": "strict",
          "coloraxis": {
           "colorbar": {
            "outlinewidth": 0,
            "ticks": ""
           }
          },
          "colorscale": {
           "diverging": [
            [
             0,
             "#8e0152"
            ],
            [
             0.1,
             "#c51b7d"
            ],
            [
             0.2,
             "#de77ae"
            ],
            [
             0.3,
             "#f1b6da"
            ],
            [
             0.4,
             "#fde0ef"
            ],
            [
             0.5,
             "#f7f7f7"
            ],
            [
             0.6,
             "#e6f5d0"
            ],
            [
             0.7,
             "#b8e186"
            ],
            [
             0.8,
             "#7fbc41"
            ],
            [
             0.9,
             "#4d9221"
            ],
            [
             1,
             "#276419"
            ]
           ],
           "sequential": [
            [
             0,
             "#0d0887"
            ],
            [
             0.1111111111111111,
             "#46039f"
            ],
            [
             0.2222222222222222,
             "#7201a8"
            ],
            [
             0.3333333333333333,
             "#9c179e"
            ],
            [
             0.4444444444444444,
             "#bd3786"
            ],
            [
             0.5555555555555556,
             "#d8576b"
            ],
            [
             0.6666666666666666,
             "#ed7953"
            ],
            [
             0.7777777777777778,
             "#fb9f3a"
            ],
            [
             0.8888888888888888,
             "#fdca26"
            ],
            [
             1,
             "#f0f921"
            ]
           ],
           "sequentialminus": [
            [
             0,
             "#0d0887"
            ],
            [
             0.1111111111111111,
             "#46039f"
            ],
            [
             0.2222222222222222,
             "#7201a8"
            ],
            [
             0.3333333333333333,
             "#9c179e"
            ],
            [
             0.4444444444444444,
             "#bd3786"
            ],
            [
             0.5555555555555556,
             "#d8576b"
            ],
            [
             0.6666666666666666,
             "#ed7953"
            ],
            [
             0.7777777777777778,
             "#fb9f3a"
            ],
            [
             0.8888888888888888,
             "#fdca26"
            ],
            [
             1,
             "#f0f921"
            ]
           ]
          },
          "colorway": [
           "#636efa",
           "#EF553B",
           "#00cc96",
           "#ab63fa",
           "#FFA15A",
           "#19d3f3",
           "#FF6692",
           "#B6E880",
           "#FF97FF",
           "#FECB52"
          ],
          "font": {
           "color": "#2a3f5f"
          },
          "geo": {
           "bgcolor": "white",
           "lakecolor": "white",
           "landcolor": "#E5ECF6",
           "showlakes": true,
           "showland": true,
           "subunitcolor": "white"
          },
          "hoverlabel": {
           "align": "left"
          },
          "hovermode": "closest",
          "mapbox": {
           "style": "light"
          },
          "paper_bgcolor": "white",
          "plot_bgcolor": "#E5ECF6",
          "polar": {
           "angularaxis": {
            "gridcolor": "white",
            "linecolor": "white",
            "ticks": ""
           },
           "bgcolor": "#E5ECF6",
           "radialaxis": {
            "gridcolor": "white",
            "linecolor": "white",
            "ticks": ""
           }
          },
          "scene": {
           "xaxis": {
            "backgroundcolor": "#E5ECF6",
            "gridcolor": "white",
            "gridwidth": 2,
            "linecolor": "white",
            "showbackground": true,
            "ticks": "",
            "zerolinecolor": "white"
           },
           "yaxis": {
            "backgroundcolor": "#E5ECF6",
            "gridcolor": "white",
            "gridwidth": 2,
            "linecolor": "white",
            "showbackground": true,
            "ticks": "",
            "zerolinecolor": "white"
           },
           "zaxis": {
            "backgroundcolor": "#E5ECF6",
            "gridcolor": "white",
            "gridwidth": 2,
            "linecolor": "white",
            "showbackground": true,
            "ticks": "",
            "zerolinecolor": "white"
           }
          },
          "shapedefaults": {
           "line": {
            "color": "#2a3f5f"
           }
          },
          "ternary": {
           "aaxis": {
            "gridcolor": "white",
            "linecolor": "white",
            "ticks": ""
           },
           "baxis": {
            "gridcolor": "white",
            "linecolor": "white",
            "ticks": ""
           },
           "bgcolor": "#E5ECF6",
           "caxis": {
            "gridcolor": "white",
            "linecolor": "white",
            "ticks": ""
           }
          },
          "title": {
           "x": 0.05
          },
          "xaxis": {
           "automargin": true,
           "gridcolor": "white",
           "linecolor": "white",
           "ticks": "",
           "title": {
            "standoff": 15
           },
           "zerolinecolor": "white",
           "zerolinewidth": 2
          },
          "yaxis": {
           "automargin": true,
           "gridcolor": "white",
           "linecolor": "white",
           "ticks": "",
           "title": {
            "standoff": 15
           },
           "zerolinecolor": "white",
           "zerolinewidth": 2
          }
         }
        },
        "title": {
         "text": "Difference Acropolis System - PICARRO"
        },
        "xaxis": {
         "anchor": "y",
         "domain": [
          0,
          1
         ],
         "title": {
          "text": "creation_timestamp"
         }
        },
        "yaxis": {
         "anchor": "x",
         "domain": [
          0,
          1
         ],
         "title": {
          "text": "diff"
         }
        }
       }
      }
     },
     "metadata": {},
     "output_type": "display_data"
    }
   ],
   "source": [
    "import plotly.express as px\n",
    "\n",
    "fig = px.line(df_cal_corr_agg_1h, x=\"creation_timestamp\", y=f\"CO2_corr\", markers=True, title = \"CO2 Dry\", color=\"system_name\")\n",
    "fig.show()\n",
    "\n",
    "fig = px.line(df_cal_corr_agg_1h, x=\"creation_timestamp\", y=f\"diff\", markers=True, title = \"Difference Acropolis System - PICARRO\", color=\"system_name\")\n",
    "fig.show()"
   ]
  },
  {
   "cell_type": "code",
   "execution_count": 85,
   "metadata": {},
   "outputs": [
    {
     "name": "stdout",
     "output_type": "stream",
     "text": [
      "\n",
      "Analysis for System 10:\n",
      "\n",
      "Analysis for System 12:\n",
      "Offset -0.1784248218448501\n",
      "RMSE: 0.45729000191110925\n",
      "R2: 0.9978308144553488\n",
      "\n",
      "Analysis for System 16:\n",
      "Offset 0.030651061045633643\n",
      "RMSE: 0.6750195998218309\n",
      "R2: 0.9952734304188975\n",
      "\n",
      "Analysis for System 18:\n",
      "Offset -0.16645040276391754\n",
      "RMSE: 0.6186320981389704\n",
      "R2: 0.9960301125969667\n",
      "\n",
      "Analysis for System 20:\n",
      "Offset -0.1965178193672319\n",
      "RMSE: 0.6935308456098914\n",
      "R2: 0.9950106398670016\n"
     ]
    }
   ],
   "source": [
    "for system_id in system_ids:\n",
    "\n",
    "    print(f\"\\nAnalysis for System {system_id}:\")\n",
    "\n",
    "    #----\n",
    "    df_acropolis = df_cal_corr_agg_1h.filter(pl.col(\"system_name\")==f\"tum-esm-midcost-raspi-{system_id}\") \\\n",
    "        .select([\"creation_timestamp\", \"CO2_corr\"]) \\\n",
    "        .rename({\"CO2_corr\": f\"CO2_acropolis_{system_id}\"})\n",
    "        \n",
    "    df_picarro = df_cal_corr_agg_1h.filter(pl.col(\"system_name\")==\"Picarro\") \\\n",
    "        .select([\"creation_timestamp\", \"CO2_corr\"]) \\\n",
    "        .rename({\"CO2_corr\": f\"CO2_picarro\"})\n",
    "        \n",
    "    df_analysis = df_picarro.join(df_acropolis, on=\"creation_timestamp\")  \\\n",
    "        .filter(pl.col(\"CO2_picarro\") > 0)  \\\n",
    "        .filter(pl.col(f\"CO2_acropolis_{system_id}\") > 0)\n",
    "        \n",
    "    l_picarro = df_analysis.select(\"CO2_picarro\").to_series().to_list()\n",
    "    l_acropolis = df_analysis.select(f\"CO2_acropolis_{system_id}\").to_series().to_list()\n",
    "    \n",
    "    #----\n",
    "    if len(l_acropolis) > 0:\n",
    "        \n",
    "        mean_offset = df_cal_corr_agg_1h.filter(pl.col(\"system_name\")==f\"tum-esm-midcost-raspi-{system_id}\").select(\"diff\").mean().item()\n",
    "        print(f\"Offset {mean_offset}\")\n",
    "        \n",
    "        rmse_result = rmse(l_picarro,l_acropolis)\n",
    "        print(f\"RMSE: {rmse_result}\")\n",
    "        \n",
    "        r2_result = calc_r2(l_picarro,l_acropolis)\n",
    "        print(f\"R2: {r2_result}\")"
   ]
  },
  {
   "cell_type": "markdown",
   "metadata": {},
   "source": [
    "# Substract mean offset"
   ]
  },
  {
   "cell_type": "code",
   "execution_count": 86,
   "metadata": {},
   "outputs": [
    {
     "name": "stdout",
     "output_type": "stream",
     "text": [
      "\n",
      "Analysis for System 10:\n",
      "\n",
      "Analysis for System 12:\n",
      "RMSE: 0.45729000191110925\n",
      "R2: 0.9978308144553488\n",
      "\n",
      "Analysis for System 16:\n",
      "RMSE: 0.674323344249924\n",
      "R2: 0.9952831759231524\n",
      "\n",
      "Analysis for System 18:\n",
      "RMSE: 0.5958187109075664\n",
      "R2: 0.9963175100996567\n",
      "\n",
      "Analysis for System 20:\n",
      "RMSE: 0.6651058415647234\n",
      "R2: 0.9954112456018576\n"
     ]
    }
   ],
   "source": [
    "for system_id in system_ids:\n",
    "\n",
    "    print(f\"\\nAnalysis for System {system_id}:\")\n",
    "\n",
    "    #----\n",
    "    mean_offset = 0\n",
    "    if len(l_acropolis) > 0:\n",
    "        mean_offset = df_cal_corr_agg_1h.filter(pl.col(\"system_name\")==f\"tum-esm-midcost-raspi-{system_id}\").select(\"diff\").mean().item()\n",
    "    \n",
    "    df_acropolis = df_cal_corr_agg_1h.filter(pl.col(\"system_name\")==f\"tum-esm-midcost-raspi-{system_id}\") \\\n",
    "        .select([\"creation_timestamp\", \"CO2_corr\"]) \\\n",
    "        .with_columns(pl.col(\"CO2_corr\") - mean_offset)  \\\n",
    "        .rename({\"CO2_corr\": f\"CO2_acropolis_{system_id}\"})\n",
    "        \n",
    "    df_picarro = df_cal_corr_agg_1h.filter(pl.col(\"system_name\")==\"Picarro\") \\\n",
    "        .select([\"creation_timestamp\", \"CO2_corr\"]) \\\n",
    "        .rename({\"CO2_corr\": f\"CO2_picarro\"})\n",
    "        \n",
    "    df_analysis = df_picarro.join(df_acropolis, on=\"creation_timestamp\")  \\\n",
    "        .filter(pl.col(\"CO2_picarro\") > 0)  \\\n",
    "        .filter(pl.col(f\"CO2_acropolis_{system_id}\") > 0)\n",
    "        \n",
    "    l_picarro = df_analysis.select(\"CO2_picarro\").to_series().to_list()\n",
    "    l_acropolis = df_analysis.select(f\"CO2_acropolis_{system_id}\").to_series().to_list()\n",
    "    \n",
    "    #----\n",
    "    if len(l_acropolis) > 0:\n",
    "        \n",
    "        rmse_result = rmse(l_picarro,l_acropolis)\n",
    "        print(f\"RMSE: {rmse_result}\")\n",
    "        \n",
    "        r2_result = calc_r2(l_picarro,l_acropolis)\n",
    "        print(f\"R2: {r2_result}\")"
   ]
  }
 ],
 "metadata": {
  "kernelspec": {
   "display_name": ".venv",
   "language": "python",
   "name": "python3"
  },
  "language_info": {
   "codemirror_mode": {
    "name": "ipython",
    "version": 3
   },
   "file_extension": ".py",
   "mimetype": "text/x-python",
   "name": "python",
   "nbconvert_exporter": "python",
   "pygments_lexer": "ipython3",
   "version": "3.11.6"
  }
 },
 "nbformat": 4,
 "nbformat_minor": 2
}
