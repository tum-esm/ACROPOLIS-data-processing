{
 "cells": [
  {
   "cell_type": "code",
   "execution_count": null,
   "metadata": {},
   "outputs": [],
   "source": [
    "import os\n",
    "import pandas as pd\n",
    "import numpy as np\n",
    "import glob\n",
    "import seaborn as sns\n",
    "import matplotlib.pyplot as plt\n",
    "import matplotlib.dates as mdates\n",
    "\n",
    "DATA_DIRECTORY = os.environ.get(\"DATA_DIRECTORY\")"
   ]
  },
  {
   "cell_type": "code",
   "execution_count": null,
   "metadata": {},
   "outputs": [],
   "source": [
    "def merge_picarro_files(input_path:str, output_path:str, output_name:str=\"picarro\"):\n",
    "    \"\"\"Example Path: .../BaseFolder/Year/Month/Day/*.dat\n",
    "    \n",
    "    input_path:str = \".../BaseFolder\"\n",
    "    \n",
    "    \"\"\"\n",
    "    path = os.path.join(input_path, \"*/*/*/*.dat\")\n",
    "    filenames = glob.glob(path)\n",
    "    \n",
    "\n",
    "    df_list = []\n",
    "    #read all files into pandas dataframe\n",
    "    for filename in filenames:\n",
    "        df_list.append(pd.read_csv(filename,sep='\\s+'))\n",
    "\n",
    "    # concat all read files\n",
    "    df_picarro = pd.concat(df_list, ignore_index=True)\n",
    "    \n",
    "    # calculate datetime object for dataframe and sort by time\n",
    "    df_picarro[\"datetime\"] = pd.to_datetime((df_picarro['DATE'] + ' ' + df_picarro['TIME']))\n",
    "    df_picarro.sort_values(by='datetime', inplace = True)\n",
    "    \n",
    "    # fix: some value seems to be a int in this float column\n",
    "    df_picarro.EtalonTemp = pd.to_numeric(df_picarro.EtalonTemp, errors='coerce').fillna(0).astype(np.float64)\n",
    "    \n",
    "    # save dataframe as parquet file\n",
    "    df_picarro.to_parquet(path = f\"{output_path}/{output_name}.parquet\")\n",
    "    \n",
    "    return df_picarro"
   ]
  },
  {
   "cell_type": "code",
   "execution_count": null,
   "metadata": {},
   "outputs": [],
   "source": [
    "output_path = os.path.join(DATA_DIRECTORY, \"processed\", \"picarro\")\n",
    "\n",
    "# DWD Picarro G2301 ID413\n",
    "print(\"Starting read for DWD Picarro G2301 ID413.\")\n",
    "path = \"/Users/patrickaigner/Documents/AREAS/ACROPOLIS/Database/DWD_Picarro_G2301_413/\"\n",
    "df_p_413 = merge_picarro_files(input_path=path, output_path=output_path, output_name=\"DWD_Picarro_G2301_413\")\n",
    "print(\"Finished read for DWD Picarro G2301 ID413.\")\n",
    "\n",
    "# LSCE Picarro G2401 ID520\n",
    "print(\"Starting read for ICOS_Picarro_G2401_529.\")\n",
    "path = \"/Users/patrickaigner/Documents/AREAS/ACROPOLIS/Database/ICOS_Picarro_G2401_529/\"\n",
    "df_p_529 = merge_picarro_files(input_path=path, output_path=output_path, output_name=\"ICOS_Picarro_G2401_529\")\n",
    "print(\"Starting read for ICOS_Picarro_G2401_529.\")"
   ]
  },
  {
   "cell_type": "code",
   "execution_count": null,
   "metadata": {},
   "outputs": [],
   "source": [
    "df_plot = df_p_413[[\"datetime\", \"CO2_dry\"]] \\\n",
    "    .loc[(df_p_413['CO2_dry'] > 300) & (df_p_413['CO2_dry'] < 1000)] \\\n",
    "    .set_index(\"datetime\") \\\n",
    "    .resample('1min').mean() \n",
    "    \n",
    "sns.lineplot(data=df_plot,x='datetime',y=\"CO2_dry\",label=\"Picarro\")\n",
    "\n",
    "# set axes labels\n",
    "plt.xlabel(\"Time\")\n",
    "plt.ylabel('CO2_dry')\n",
    "plt.xticks(rotation=45)\n",
    "\n",
    "# plt.legend(title=\"Systems\", bbox_to_anchor=(1, 1))\n",
    "plt.title(label='CO2_dry')\n",
    "plt.gca().xaxis.set_major_formatter(mdates.DateFormatter(\"%d.%m\"))\n",
    "\n",
    "# show the plot\n",
    "plt.show()"
   ]
  },
  {
   "cell_type": "code",
   "execution_count": null,
   "metadata": {},
   "outputs": [],
   "source": [
    "df_plot = df_p_529[[\"datetime\", \"CO2_dry\"]] \\\n",
    "    .loc[(df_p_529['CO2_dry'] > 300) & (df_p_529['CO2_dry'] < 1000)] \\\n",
    "    .set_index(\"datetime\") \\\n",
    "    .resample('1min').mean() \n",
    "    \n",
    "sns.lineplot(data=df_plot,x='datetime',y=\"CO2_dry\",label=\"Picarro\")\n",
    "\n",
    "# set axes labels\n",
    "plt.xlabel(\"Time\")\n",
    "plt.ylabel('CO2_dry')\n",
    "plt.xticks(rotation=45)\n",
    "# plt.legend(title=\"Systems\", bbox_to_anchor=(1, 1))\n",
    "plt.title(label='CO2_dry')\n",
    "plt.gca().xaxis.set_major_formatter(mdates.DateFormatter(\"%d.%m\"))\n",
    "\n",
    "# show the plot\n",
    "plt.show()"
   ]
  }
 ],
 "metadata": {
  "kernelspec": {
   "display_name": ".venv",
   "language": "python",
   "name": "python3"
  },
  "language_info": {
   "codemirror_mode": {
    "name": "ipython",
    "version": 3
   },
   "file_extension": ".py",
   "mimetype": "text/x-python",
   "name": "python",
   "nbconvert_exporter": "python",
   "pygments_lexer": "ipython3",
   "version": "3.11.10"
  },
  "orig_nbformat": 4
 },
 "nbformat": 4,
 "nbformat_minor": 2
}
