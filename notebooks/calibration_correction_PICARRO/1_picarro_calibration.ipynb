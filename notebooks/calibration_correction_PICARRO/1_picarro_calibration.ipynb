{
 "cells": [
  {
   "cell_type": "code",
   "execution_count": 1,
   "metadata": {},
   "outputs": [],
   "source": [
    "# Imports & Inits\n",
    "\n",
    "from datetime import datetime\n",
    "from datetime import timezone\n",
    "import polars as pl\n",
    "import os\n",
    "import plotly.express as px\n",
    "import sys\n",
    "\n",
    "module_path = os.path.abspath(os.path.join('..'))\n",
    "if module_path not in sys.path:\n",
    "    sys.path.append(module_path)\n",
    "\n",
    "from utils.calibration_processing import two_point_calibration, process_bottle\n",
    "\n",
    "DATA_DIRECTORY = os.environ.get(\"DATA_DIRECTORY\")\n",
    "\n",
    "df_p_413 = pl.scan_parquet(os.path.join(DATA_DIRECTORY, \"processed\", \"picarro\", \"DWD_Picarro_G2301_413.parquet\")) \n",
    "df_p_529 = pl.scan_parquet(os.path.join(DATA_DIRECTORY, \"processed\", \"picarro\", \"ICOS_Picarro_G2401_529.parquet\")) "
   ]
  },
  {
   "cell_type": "code",
   "execution_count": 2,
   "metadata": {},
   "outputs": [],
   "source": [
    "# Initialize the DataFrame with the specified columns\n",
    "df = pl.DataFrame({\n",
    "    \"datetime\": pl.Series([], dtype=pl.Datetime(time_zone=\"UTC\")),\n",
    "    \"Picarro ID\": pl.Series([], dtype=pl.Int64),\n",
    "    \"Bottle_1_Median\": pl.Series([], dtype=pl.Float64),\n",
    "    \"Bottle_2_Median\": pl.Series([], dtype=pl.Float64),\n",
    "    \"slope\": pl.Series([], dtype=pl.Float64),\n",
    "    \"slope\": pl.Series([], dtype=pl.Float64),\n",
    "    \"intercept\": pl.Series([], dtype=pl.Float64)\n",
    "})\n",
    "\n",
    "# Function to add a new row\n",
    "def add_row(dataframe, datetime, picarro_id, median_bottle_1, median_bottle_2, slope, intercept):\n",
    "    new_row = pl.DataFrame({\n",
    "        \"datetime\": [datetime],\n",
    "        \"Picarro ID\": [picarro_id],\n",
    "        \"Bottle_1_Median\": [median_bottle_1],\n",
    "        \"Bottle_2_Median\": [median_bottle_2],\n",
    "        \"slope\": [slope],\n",
    "        \"intercept\": [intercept]\n",
    "    })\n",
    "    return dataframe.vstack(new_row)"
   ]
  },
  {
   "cell_type": "code",
   "execution_count": 3,
   "metadata": {},
   "outputs": [
    {
     "data": {
      "text/html": [
       "<div><style>\n",
       ".dataframe > thead > tr,\n",
       ".dataframe > tbody > tr {\n",
       "  text-align: right;\n",
       "  white-space: pre-wrap;\n",
       "}\n",
       "</style>\n",
       "<small>shape: (3, 27)</small><table border=\"1\" class=\"dataframe\"><thead><tr><th>DATE</th><th>TIME</th><th>FRAC_DAYS_SINCE_JAN1</th><th>FRAC_HRS_SINCE_JAN1</th><th>JULIAN_DAYS</th><th>EPOCH_TIME</th><th>ALARM_STATUS</th><th>INST_STATUS</th><th>CavityPressure</th><th>CavityTemp</th><th>DasTemp</th><th>EtalonTemp</th><th>species</th><th>OutletValve</th><th>CH4</th><th>CH4_dry</th><th>CO2</th><th>CO2_dry</th><th>h2o_reported</th><th>ch4_base</th><th>ch4_pzt_std</th><th>co2_base</th><th>co2_pzt_std</th><th>wlm1_offset</th><th>wlm2_offset</th><th>datetime</th><th>__index_level_0__</th></tr><tr><td>str</td><td>str</td><td>f64</td><td>f64</td><td>f64</td><td>f64</td><td>i64</td><td>i64</td><td>f64</td><td>f64</td><td>f64</td><td>f64</td><td>f64</td><td>f64</td><td>f64</td><td>f64</td><td>f64</td><td>f64</td><td>f64</td><td>f64</td><td>f64</td><td>f64</td><td>f64</td><td>f64</td><td>f64</td><td>datetime[ns]</td><td>i64</td></tr></thead><tbody><tr><td>&quot;2023-07-01&quot;</td><td>&quot;00:00:01.150&quot;</td><td>181.000013</td><td>4344.000319</td><td>182.000013</td><td>1.6882e9</td><td>0</td><td>963</td><td>140.012831</td><td>44.99987</td><td>40.375</td><td>45.15374</td><td>2.0</td><td>22129.628477</td><td>1.997874</td><td>2.046012</td><td>421.023033</td><td>433.462829</td><td>2.274335</td><td>1181.940043</td><td>82.55631</td><td>1084.999673</td><td>78.542541</td><td>-0.074797</td><td>-0.045017</td><td>2023-07-01 00:00:01.150</td><td>23542096</td></tr><tr><td>&quot;2023-07-01&quot;</td><td>&quot;00:00:02.069&quot;</td><td>181.000024</td><td>4344.000575</td><td>182.000024</td><td>1.6882e9</td><td>0</td><td>963</td><td>140.004444</td><td>44.99987</td><td>40.375</td><td>45.15374</td><td>1.0</td><td>22128.306954</td><td>1.997874</td><td>2.046012</td><td>421.041592</td><td>433.462829</td><td>2.274335</td><td>1181.940043</td><td>82.55631</td><td>1084.974592</td><td>78.542541</td><td>-0.074794</td><td>-0.045017</td><td>2023-07-01 00:00:02.069</td><td>23542097</td></tr><tr><td>&quot;2023-07-01&quot;</td><td>&quot;00:00:02.579&quot;</td><td>181.00003</td><td>4344.000717</td><td>182.00003</td><td>1.6882e9</td><td>0</td><td>963</td><td>139.998415</td><td>44.99987</td><td>40.375</td><td>45.15374</td><td>3.0</td><td>22127.101788</td><td>1.997874</td><td>2.046037</td><td>421.041592</td><td>433.454005</td><td>2.268414</td><td>1181.940043</td><td>82.55631</td><td>1084.974592</td><td>78.542541</td><td>-0.074794</td><td>-0.045017</td><td>2023-07-01 00:00:02.579</td><td>23542098</td></tr></tbody></table></div>"
      ],
      "text/plain": [
       "shape: (3, 27)\n",
       "┌───────────┬───────────┬───────────┬───────────┬───┬───────────┬───────────┬───────────┬──────────┐\n",
       "│ DATE      ┆ TIME      ┆ FRAC_DAYS ┆ FRAC_HRS_ ┆ … ┆ wlm1_offs ┆ wlm2_offs ┆ datetime  ┆ __index_ │\n",
       "│ ---       ┆ ---       ┆ _SINCE_JA ┆ SINCE_JAN ┆   ┆ et        ┆ et        ┆ ---       ┆ level_0_ │\n",
       "│ str       ┆ str       ┆ N1        ┆ 1         ┆   ┆ ---       ┆ ---       ┆ datetime[ ┆ _        │\n",
       "│           ┆           ┆ ---       ┆ ---       ┆   ┆ f64       ┆ f64       ┆ ns]       ┆ ---      │\n",
       "│           ┆           ┆ f64       ┆ f64       ┆   ┆           ┆           ┆           ┆ i64      │\n",
       "╞═══════════╪═══════════╪═══════════╪═══════════╪═══╪═══════════╪═══════════╪═══════════╪══════════╡\n",
       "│ 2023-07-0 ┆ 00:00:01. ┆ 181.00001 ┆ 4344.0003 ┆ … ┆ -0.074797 ┆ -0.045017 ┆ 2023-07-0 ┆ 23542096 │\n",
       "│ 1         ┆ 150       ┆ 3         ┆ 19        ┆   ┆           ┆           ┆ 1 00:00:0 ┆          │\n",
       "│           ┆           ┆           ┆           ┆   ┆           ┆           ┆ 1.150     ┆          │\n",
       "│ 2023-07-0 ┆ 00:00:02. ┆ 181.00002 ┆ 4344.0005 ┆ … ┆ -0.074794 ┆ -0.045017 ┆ 2023-07-0 ┆ 23542097 │\n",
       "│ 1         ┆ 069       ┆ 4         ┆ 75        ┆   ┆           ┆           ┆ 1 00:00:0 ┆          │\n",
       "│           ┆           ┆           ┆           ┆   ┆           ┆           ┆ 2.069     ┆          │\n",
       "│ 2023-07-0 ┆ 00:00:02. ┆ 181.00003 ┆ 4344.0007 ┆ … ┆ -0.074794 ┆ -0.045017 ┆ 2023-07-0 ┆ 23542098 │\n",
       "│ 1         ┆ 579       ┆           ┆ 17        ┆   ┆           ┆           ┆ 1 00:00:0 ┆          │\n",
       "│           ┆           ┆           ┆           ┆   ┆           ┆           ┆ 2.579     ┆          │\n",
       "└───────────┴───────────┴───────────┴───────────┴───┴───────────┴───────────┴───────────┴──────────┘"
      ]
     },
     "execution_count": 3,
     "metadata": {},
     "output_type": "execute_result"
    }
   ],
   "source": [
    "df_p_413.head(3).collect()"
   ]
  },
  {
   "cell_type": "code",
   "execution_count": 4,
   "metadata": {},
   "outputs": [],
   "source": [
    "def process_two_point_picarro_calibration(df, low_start_date, low_end_date, high_start_date, high_end_date, plot:bool=False):\n",
    "\n",
    "    df_p_400 = df.select(pl.col(\"datetime\").dt.cast_time_unit(\"ns\").dt.replace_time_zone(\"UTC\").alias(\"creation_timestamp\"),\n",
    "                    pl.col(\"CO2_dry\"), \n",
    "                    pl.col(\"h2o_reported\")) \\\n",
    "                    .sort(\"creation_timestamp\").filter(pl.col(\"creation_timestamp\").is_between(low_start_date, low_end_date)) \\\n",
    "                    .collect()\n",
    "\n",
    "\n",
    "    df_p_600 = df.select(pl.col(\"datetime\").dt.cast_time_unit(\"ns\").dt.replace_time_zone(\"UTC\").alias(\"creation_timestamp\"),\n",
    "                    pl.col(\"CO2_dry\"), \n",
    "                    pl.col(\"h2o_reported\")) \\\n",
    "                    .sort(\"creation_timestamp\").filter(pl.col(\"creation_timestamp\").is_between(high_start_date, high_end_date)) \\\n",
    "                    .collect()\n",
    "\n",
    "\n",
    "    measured_values = [None, None]\n",
    "    true_values = [427.38, 610.95]\n",
    "\n",
    "    # 400 ppm\n",
    "    data = df_p_400.select(pl.col(\"CO2_dry\")).to_series().to_list()\n",
    "    measured_values[0] = process_bottle(data=data, ignore_len=True)\n",
    "\n",
    "    # 600 ppm\n",
    "    data = df_p_600.select(pl.col(\"CO2_dry\")).to_series().to_list()\n",
    "    measured_values[1] = process_bottle(data=data, ignore_len=True)\n",
    "\n",
    "    print(measured_values)\n",
    "\n",
    "    picarro_slope, picarro_intercept = two_point_calibration(measured_values, true_values)\n",
    "    print(picarro_slope, picarro_intercept)\n",
    "\n",
    "    if plot:\n",
    "        #plots\n",
    "        fig = px.line(df_p_400, x=\"creation_timestamp\", y=\"h2o_reported\")\n",
    "        fig.show()\n",
    "\n",
    "        fig = px.line(df_p_400, x=\"creation_timestamp\", y=\"CO2_dry\")\n",
    "        fig.show()\n",
    "\n",
    "        fig = px.line(df_p_600, x=\"creation_timestamp\", y=\"h2o_reported\")\n",
    "        fig.show()\n",
    "\n",
    "        fig = px.line(df_p_600, x=\"creation_timestamp\", y=\"CO2_dry\")\n",
    "        fig.show()\n",
    "        \n",
    "    return (measured_values[0], measured_values[1], picarro_slope, picarro_intercept)"
   ]
  },
  {
   "cell_type": "code",
   "execution_count": 5,
   "metadata": {},
   "outputs": [
    {
     "name": "stdout",
     "output_type": "stream",
     "text": [
      "[424.60174029, 607.0065449]\n",
      "1.006387964354839 0.06591892802487109\n"
     ]
    }
   ],
   "source": [
    "# 23.10.2023\n",
    "\n",
    "low_start_date = datetime(2023, 10, 23, 13, 31, 30).replace(tzinfo=timezone.utc)\n",
    "low_end_date = datetime(2023, 10, 23, 14, 6, 0).replace(tzinfo=timezone.utc)\n",
    "\n",
    "high_start_date = datetime(2023, 10, 23, 13, 6, 0).replace(tzinfo=timezone.utc)\n",
    "high_end_date = datetime(2023, 10, 23, 13, 31, 0).replace(tzinfo=timezone.utc)\n",
    "\n",
    "median_bottle_1, median_bottle_2, slope, intercept = process_two_point_picarro_calibration(df_p_413, low_start_date, low_end_date, high_start_date, high_end_date)\n",
    "\n",
    "df = add_row(df, datetime(2023, 10, 23, 13, 31, 0).replace(tzinfo=timezone.utc), 413 , median_bottle_1, median_bottle_2, slope, intercept)"
   ]
  },
  {
   "cell_type": "code",
   "execution_count": 6,
   "metadata": {},
   "outputs": [
    {
     "name": "stdout",
     "output_type": "stream",
     "text": [
      "[424.7205036, 607.18271856]\n",
      "1.0060713120261249 0.08088569875155827\n"
     ]
    }
   ],
   "source": [
    "# 18.12.2023\n",
    "\n",
    "low_start_date = datetime(2023, 12, 18, 14, 33, 0).replace(tzinfo=timezone.utc)\n",
    "low_end_date = datetime(2023, 12, 18, 15, 2, 0).replace(tzinfo=timezone.utc)\n",
    "\n",
    "high_start_date = datetime(2023, 12, 18, 15, 4, 0).replace(tzinfo=timezone.utc)\n",
    "high_end_date = datetime(2023, 12, 18, 15, 32, 0).replace(tzinfo=timezone.utc)\n",
    "\n",
    "median_bottle_1, median_bottle_2, slope, intercept = process_two_point_picarro_calibration(df_p_413, low_start_date, low_end_date, high_start_date, high_end_date)\n",
    "\n",
    "df = add_row(df, datetime(2023, 12, 18, 15, 32, 0).replace(tzinfo=timezone.utc), 413 , median_bottle_1, median_bottle_2, slope, intercept)"
   ]
  },
  {
   "cell_type": "code",
   "execution_count": 7,
   "metadata": {},
   "outputs": [
    {
     "name": "stdout",
     "output_type": "stream",
     "text": [
      "[424.73768416, 607.1449536]\n",
      "1.0063743652518329 -0.06511729505348285\n"
     ]
    }
   ],
   "source": [
    "# 06.05.2024\n",
    "\n",
    "low_start_date = datetime(2024, 5, 6, 11, 33, 0).replace(tzinfo=timezone.utc)\n",
    "low_end_date = datetime(2024, 5, 6, 12, 1, 0).replace(tzinfo=timezone.utc)\n",
    "\n",
    "high_start_date = datetime(2024, 5, 6, 12, 2, 30).replace(tzinfo=timezone.utc)\n",
    "high_end_date = datetime(2024, 5, 6, 12, 31, 0).replace(tzinfo=timezone.utc)\n",
    "\n",
    "median_bottle_1, median_bottle_2, slope, intercept = process_two_point_picarro_calibration(df_p_413, low_start_date, low_end_date, high_start_date, high_end_date)\n",
    "\n",
    "df = add_row(df, datetime(2024, 5, 6, 12, 31, 0).replace(tzinfo=timezone.utc), 413 , median_bottle_1, median_bottle_2, slope, intercept)"
   ]
  },
  {
   "cell_type": "code",
   "execution_count": 8,
   "metadata": {},
   "outputs": [
    {
     "name": "stdout",
     "output_type": "stream",
     "text": [
      "[424.37113967, 606.63693264]\n",
      "1.007155522760185 -0.02773701867431555\n"
     ]
    }
   ],
   "source": [
    "# 04.09.2024: DWD Picarro\n",
    "\n",
    "low_start_date = datetime(2024, 9, 4, 13, 00, 0).replace(tzinfo=timezone.utc)\n",
    "low_end_date = datetime(2024, 9, 4, 13, 30, 0).replace(tzinfo=timezone.utc)\n",
    "\n",
    "high_start_date = datetime(2024, 9, 4, 13, 31, 0).replace(tzinfo=timezone.utc)\n",
    "high_end_date = datetime(2024, 9, 4, 14, 00, 0).replace(tzinfo=timezone.utc)\n",
    "\n",
    "median_bottle_1, median_bottle_2, slope, intercept = process_two_point_picarro_calibration(df_p_413, low_start_date, low_end_date, high_start_date, high_end_date)\n",
    "\n",
    "df = add_row(df, datetime(2024, 9, 4, 14, 00, 0).replace(tzinfo=timezone.utc), 413 , median_bottle_1, median_bottle_2, slope, intercept)"
   ]
  },
  {
   "cell_type": "code",
   "execution_count": 9,
   "metadata": {},
   "outputs": [
    {
     "name": "stdout",
     "output_type": "stream",
     "text": [
      "[424.67138877, 607.08092176]\n",
      "1.006361876986241 0.006904095069103278\n"
     ]
    }
   ],
   "source": [
    "# 24.09.2024\n",
    "\n",
    "low_start_date = datetime(2024, 9, 24, 9, 11, 0).replace(tzinfo=timezone.utc)\n",
    "low_end_date = datetime(2024, 9, 24, 9, 37, 0).replace(tzinfo=timezone.utc)\n",
    "\n",
    "high_start_date = datetime(2024, 9, 24, 9, 37, 0).replace(tzinfo=timezone.utc)\n",
    "high_end_date = datetime(2024, 9, 24, 10, 2, 0).replace(tzinfo=timezone.utc)\n",
    "\n",
    "median_bottle_1, median_bottle_2, slope, intercept = process_two_point_picarro_calibration(df_p_413, low_start_date, low_end_date, high_start_date, high_end_date)\n",
    "\n",
    "df = add_row(df, datetime(2024, 9, 24, 10, 2, 0).replace(tzinfo=timezone.utc), 413 , median_bottle_1, median_bottle_2, slope, intercept)"
   ]
  },
  {
   "cell_type": "code",
   "execution_count": 10,
   "metadata": {},
   "outputs": [
    {
     "name": "stdout",
     "output_type": "stream",
     "text": [
      "[424.552779525, 607.02218673]\n",
      "1.0060316565492182 0.2664639218892262\n"
     ]
    }
   ],
   "source": [
    "# 23.09.2024: ICOS Picarro\n",
    "\n",
    "low_start_date = datetime(2024, 9, 23, 12, 19, 0).replace(tzinfo=timezone.utc)\n",
    "low_end_date = datetime(2024, 9, 23, 12, 52, 0).replace(tzinfo=timezone.utc)\n",
    "\n",
    "high_start_date = datetime(2024, 9, 23, 12, 54, 0).replace(tzinfo=timezone.utc)\n",
    "high_end_date = datetime(2024, 9, 23, 13, 22, 0).replace(tzinfo=timezone.utc)\n",
    "\n",
    "median_bottle_1, median_bottle_2, slope, intercept = process_two_point_picarro_calibration(df_p_529, low_start_date, low_end_date, high_start_date, high_end_date)\n",
    "\n",
    "df = add_row(df, datetime(2024, 9, 23, 13, 22, 0).replace(tzinfo=timezone.utc), 529 , median_bottle_1, median_bottle_2, slope, intercept)"
   ]
  },
  {
   "cell_type": "code",
   "execution_count": 11,
   "metadata": {},
   "outputs": [
    {
     "name": "stdout",
     "output_type": "stream",
     "text": [
      "[424.61837593, 607.10035397]\n",
      "1.0059623529495145 0.22989944385568606\n"
     ]
    }
   ],
   "source": [
    "# 21.11.2024: ICOS Picarro\n",
    "\n",
    "low_start_date = datetime(2024, 11, 21, 12, 26, 0).replace(tzinfo=timezone.utc)\n",
    "low_end_date = datetime(2024, 11, 21, 12, 53, 30).replace(tzinfo=timezone.utc)\n",
    "\n",
    "high_start_date = datetime(2024,11, 21, 12, 55, 0).replace(tzinfo=timezone.utc)\n",
    "high_end_date = datetime(2024, 11, 21, 13, 23, 0).replace(tzinfo=timezone.utc)\n",
    "\n",
    "median_bottle_1, median_bottle_2, slope, intercept = process_two_point_picarro_calibration(df_p_529, low_start_date, low_end_date, high_start_date, high_end_date)\n",
    "\n",
    "df = add_row(df, datetime(2024, 11, 21, 13, 23, 0).replace(tzinfo=timezone.utc), 529 , median_bottle_1, median_bottle_2, slope, intercept)"
   ]
  },
  {
   "cell_type": "code",
   "execution_count": 12,
   "metadata": {},
   "outputs": [
    {
     "data": {
      "text/html": [
       "<div><style>\n",
       ".dataframe > thead > tr,\n",
       ".dataframe > tbody > tr {\n",
       "  text-align: right;\n",
       "  white-space: pre-wrap;\n",
       "}\n",
       "</style>\n",
       "<small>shape: (7, 6)</small><table border=\"1\" class=\"dataframe\"><thead><tr><th>datetime</th><th>Picarro ID</th><th>Bottle_1_Median</th><th>Bottle_2_Median</th><th>slope</th><th>intercept</th></tr><tr><td>datetime[μs, UTC]</td><td>i64</td><td>f64</td><td>f64</td><td>f64</td><td>f64</td></tr></thead><tbody><tr><td>2023-10-23 13:31:00 UTC</td><td>413</td><td>424.60174</td><td>607.006545</td><td>1.006388</td><td>0.065919</td></tr><tr><td>2023-12-18 15:32:00 UTC</td><td>413</td><td>424.720504</td><td>607.182719</td><td>1.006071</td><td>0.080886</td></tr><tr><td>2024-05-06 12:31:00 UTC</td><td>413</td><td>424.737684</td><td>607.144954</td><td>1.006374</td><td>-0.065117</td></tr><tr><td>2024-09-04 14:00:00 UTC</td><td>413</td><td>424.37114</td><td>606.636933</td><td>1.007156</td><td>-0.027737</td></tr><tr><td>2024-09-24 10:02:00 UTC</td><td>413</td><td>424.671389</td><td>607.080922</td><td>1.006362</td><td>0.006904</td></tr><tr><td>2024-09-23 13:22:00 UTC</td><td>529</td><td>424.55278</td><td>607.022187</td><td>1.006032</td><td>0.266464</td></tr><tr><td>2024-11-21 13:23:00 UTC</td><td>529</td><td>424.618376</td><td>607.100354</td><td>1.005962</td><td>0.229899</td></tr></tbody></table></div>"
      ],
      "text/plain": [
       "shape: (7, 6)\n",
       "┌─────────────────────────┬────────────┬─────────────────┬─────────────────┬──────────┬───────────┐\n",
       "│ datetime                ┆ Picarro ID ┆ Bottle_1_Median ┆ Bottle_2_Median ┆ slope    ┆ intercept │\n",
       "│ ---                     ┆ ---        ┆ ---             ┆ ---             ┆ ---      ┆ ---       │\n",
       "│ datetime[μs, UTC]       ┆ i64        ┆ f64             ┆ f64             ┆ f64      ┆ f64       │\n",
       "╞═════════════════════════╪════════════╪═════════════════╪═════════════════╪══════════╪═══════════╡\n",
       "│ 2023-10-23 13:31:00 UTC ┆ 413        ┆ 424.60174       ┆ 607.006545      ┆ 1.006388 ┆ 0.065919  │\n",
       "│ 2023-12-18 15:32:00 UTC ┆ 413        ┆ 424.720504      ┆ 607.182719      ┆ 1.006071 ┆ 0.080886  │\n",
       "│ 2024-05-06 12:31:00 UTC ┆ 413        ┆ 424.737684      ┆ 607.144954      ┆ 1.006374 ┆ -0.065117 │\n",
       "│ 2024-09-04 14:00:00 UTC ┆ 413        ┆ 424.37114       ┆ 606.636933      ┆ 1.007156 ┆ -0.027737 │\n",
       "│ 2024-09-24 10:02:00 UTC ┆ 413        ┆ 424.671389      ┆ 607.080922      ┆ 1.006362 ┆ 0.006904  │\n",
       "│ 2024-09-23 13:22:00 UTC ┆ 529        ┆ 424.55278       ┆ 607.022187      ┆ 1.006032 ┆ 0.266464  │\n",
       "│ 2024-11-21 13:23:00 UTC ┆ 529        ┆ 424.618376      ┆ 607.100354      ┆ 1.005962 ┆ 0.229899  │\n",
       "└─────────────────────────┴────────────┴─────────────────┴─────────────────┴──────────┴───────────┘"
      ]
     },
     "execution_count": 12,
     "metadata": {},
     "output_type": "execute_result"
    }
   ],
   "source": [
    "df"
   ]
  },
  {
   "cell_type": "code",
   "execution_count": 13,
   "metadata": {},
   "outputs": [],
   "source": [
    "df.write_parquet(os.path.join(DATA_DIRECTORY, \"processed\", \"picarro\", \"picarro_slope_intercept.parquet\"))"
   ]
  }
 ],
 "metadata": {
  "kernelspec": {
   "display_name": ".venv",
   "language": "python",
   "name": "python3"
  },
  "language_info": {
   "codemirror_mode": {
    "name": "ipython",
    "version": 3
   },
   "file_extension": ".py",
   "mimetype": "text/x-python",
   "name": "python",
   "nbconvert_exporter": "python",
   "pygments_lexer": "ipython3",
   "version": "3.11.10"
  },
  "orig_nbformat": 4
 },
 "nbformat": 4,
 "nbformat_minor": 2
}
