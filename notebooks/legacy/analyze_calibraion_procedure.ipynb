{
 "cells": [
  {
   "cell_type": "code",
   "execution_count": 1,
   "metadata": {},
   "outputs": [],
   "source": [
    "import os\n",
    "import sys\n",
    "import polars as pl\n",
    "import seaborn as sns\n",
    "import matplotlib.pyplot as plt\n",
    "import plotly.express as px\n",
    "\n",
    "# local imports\n",
    "module_path = os.path.abspath(os.path.join('..'))\n",
    "if module_path not in sys.path:\n",
    "    sys.path.append(module_path)\n",
    "\n",
    "import utils.ambient_parameter_conversion as apc\n",
    "import utils.calibration_processing as cp\n",
    "\n",
    "DATA_DIRECTORY = os.environ.get(\"DATA_DIRECTORY\")\n",
    "PICARRO_DATA_DIRECTORy = os.environ.get(\"PICARRO_DATA_DIRECTORY\")"
   ]
  },
  {
   "cell_type": "code",
   "execution_count": 2,
   "metadata": {},
   "outputs": [],
   "source": [
    "# raw data\n",
    "df_filtered = pl.scan_parquet(os.path.join(DATA_DIRECTORY, \"processed\", \"filtered_sbs_acropolis.parquet\"))\n",
    "\n",
    "# load calibration bottle concentrations (preprocessed)\n",
    "df_gas = pl.read_csv(os.path.join(DATA_DIRECTORY,\"input\", \"averaged_gases.csv\"))\n",
    "\n",
    "# 10m preprocessed acropolis data\n",
    "df_acropolis = pl.scan_parquet(os.path.join(DATA_DIRECTORY, \"processed\", \"10m_cal_corr_acropolis.parquet\"))"
   ]
  },
  {
   "cell_type": "markdown",
   "metadata": {},
   "source": [
    "## Wet -> Dry Conversion"
   ]
  },
  {
   "cell_type": "code",
   "execution_count": 3,
   "metadata": {},
   "outputs": [],
   "source": [
    "df_filtered = df_filtered.filter(pl.col(\"cal_gmp343_filtered\") > 0) \\\n",
    "    .filter(pl.col(\"cal_gmp343_temperature\") > 0) \\\n",
    "    .filter(pl.col(\"cal_bme280_pressure\") > 0) \\\n",
    "    .with_columns(pl.col(\"cal_sht45_humidity\").fill_null(0.0)) \\\n",
    "    .with_columns(pl.struct(['cal_gmp343_temperature','cal_sht45_humidity','cal_bme280_pressure'])\n",
    "    .map_elements(lambda x: apc.rh_to_molar_mixing(x['cal_sht45_humidity'],apc.absolute_temperature(x['cal_gmp343_temperature']),x['cal_bme280_pressure']*100)) \\\n",
    "    .alias(\"cal_h2o_v%\")) \\\n",
    "    .with_columns(pl.struct(['cal_gmp343_filtered','cal_gmp343_temperature','cal_sht45_humidity','cal_bme280_pressure']) \\\n",
    "    .map_elements(lambda x: apc.calculate_co2dry(x['cal_gmp343_filtered'],x['cal_gmp343_temperature'],x['cal_sht45_humidity'],x['cal_bme280_pressure']*100))\n",
    "    .alias(\"cal_gmp343_dry\")) \\\n",
    "    .collect()"
   ]
  },
  {
   "cell_type": "code",
   "execution_count": 4,
   "metadata": {},
   "outputs": [
    {
     "data": {
      "text/html": [
       "<div><style>\n",
       ".dataframe > thead > tr,\n",
       ".dataframe > tbody > tr {\n",
       "  text-align: right;\n",
       "  white-space: pre-wrap;\n",
       "}\n",
       "</style>\n",
       "<small>shape: (5, 3)</small><table border=\"1\" class=\"dataframe\"><thead><tr><th>cal_gmp343_filtered</th><th>cal_gmp343_dry</th><th>cal_h2o_v%</th></tr><tr><td>f64</td><td>f64</td><td>f64</td></tr></thead><tbody><tr><td>537.8</td><td>538.122178</td><td>0.059871</td></tr><tr><td>539.5</td><td>539.824882</td><td>0.060183</td></tr><tr><td>535.9</td><td>536.217584</td><td>0.059227</td></tr><tr><td>536.1</td><td>536.409186</td><td>0.05764</td></tr><tr><td>533.6</td><td>533.914919</td><td>0.058983</td></tr></tbody></table></div>"
      ],
      "text/plain": [
       "shape: (5, 3)\n",
       "┌─────────────────────┬────────────────┬────────────┐\n",
       "│ cal_gmp343_filtered ┆ cal_gmp343_dry ┆ cal_h2o_v% │\n",
       "│ ---                 ┆ ---            ┆ ---        │\n",
       "│ f64                 ┆ f64            ┆ f64        │\n",
       "╞═════════════════════╪════════════════╪════════════╡\n",
       "│ 537.8               ┆ 538.122178     ┆ 0.059871   │\n",
       "│ 539.5               ┆ 539.824882     ┆ 0.060183   │\n",
       "│ 535.9               ┆ 536.217584     ┆ 0.059227   │\n",
       "│ 536.1               ┆ 536.409186     ┆ 0.05764    │\n",
       "│ 533.6               ┆ 533.914919     ┆ 0.058983   │\n",
       "└─────────────────────┴────────────────┴────────────┘"
      ]
     },
     "execution_count": 4,
     "metadata": {},
     "output_type": "execute_result"
    }
   ],
   "source": [
    "df_filtered.select(\"cal_gmp343_filtered\", \"cal_gmp343_dry\", \"cal_h2o_v%\").tail(5)"
   ]
  },
  {
   "cell_type": "markdown",
   "metadata": {},
   "source": [
    "## Calculate Slope and Intercept"
   ]
  },
  {
   "cell_type": "code",
   "execution_count": 5,
   "metadata": {},
   "outputs": [],
   "source": [
    "df_two_point_cal = df_filtered.filter((pl.col(\"cal_bottle_id\") > 0) & (pl.col(\"cal_bottle_id\") < 81)) \\\n",
    "    .join(df_gas.cast({\"cal_bottle_id\": pl.Float64}), on = [\"cal_bottle_id\"], how= \"left\") \\\n",
    "    .with_columns(diff = pl.col(\"cal_gmp343_dry\") - pl.col(\"cal_bottle_CO2\")) \\\n",
    "    .with_columns((pl.col(\"creation_timestamp\").dt.date()).alias(\"date\")) \\\n",
    "    .sort(\"date\") \\\n",
    "    .group_by([pl.col(\"date\"), pl.col(\"system_name\"), pl.col(\"cal_bottle_id\")]) \\\n",
    "    .agg([\n",
    "        pl.col(\"cal_sht45_humidity\"),\n",
    "        pl.col(\"cal_gmp343_temperature\"),\n",
    "        pl.col(\"cal_bme280_pressure\"),\n",
    "        pl.col(\"cal_gmp343_filtered\"),\n",
    "        pl.col(\"cal_gmp343_dry\"),\n",
    "        pl.col(\"cal_bottle_CO2\").last()\n",
    "        ]) \\\n",
    "    .with_columns([\n",
    "        (pl.col(\"cal_sht45_humidity\").list.len()).alias(\"len\"),\n",
    "        pl.when(pl.col(\"cal_bottle_CO2\") > 460).then(pl.lit(\"high\")).otherwise(pl.lit(\"low\")).alias(\"cal_bottle_span\"),\n",
    "        pl.col(\"cal_gmp343_dry\").map_elements(lambda x: cp.process_bottle(x)).alias(\"median_cal_gmp343_dry\"),\n",
    "        pl.col(\"cal_gmp343_temperature\").map_elements(lambda x: cp.process_bottle(x)).alias(\"median_cal_gmp343_temperature\"),\n",
    "        pl.col(\"cal_bme280_pressure\").map_elements(lambda x: cp.process_bottle(x)).alias(\"median_cal_bme280_pressure\"),\n",
    "        pl.col(\"cal_sht45_humidity\").map_elements(lambda x: cp.process_bottle(x)).alias(\"median_cal_sht45_humidity\")\n",
    "        ]) \\\n",
    "    .with_columns([\n",
    "        (pl.col(\"median_cal_gmp343_dry\") - pl.col(\"cal_bottle_CO2\")).alias(\"diff_cut_avg_gmp343_dry\")\n",
    "                  ]) \\\n",
    "    .filter(pl.col(\"median_cal_gmp343_dry\") > 0) \\\n",
    "    .sort(\"cal_bottle_span\") \\\n",
    "    .group_by([\"date\", \"system_name\"]) \\\n",
    "    .agg([\n",
    "        pl.col(\"cal_bottle_span\"),\n",
    "        pl.col(\"median_cal_gmp343_dry\"),\n",
    "        pl.col(\"cal_bottle_CO2\")\n",
    "        ]) \\\n",
    "    .with_columns(pl.struct(['median_cal_gmp343_dry','cal_bottle_CO2']) \\\n",
    "    .map_elements(lambda x: cp.two_point_calibration(x['median_cal_gmp343_dry'],x['cal_bottle_CO2'])) \\\n",
    "    .alias('slope, intercept')) \\\n",
    "    .with_columns([(pl.col(\"slope, intercept\").list.first()).alias(\"slope\"),\n",
    "                   (pl.col(\"slope, intercept\").list.last()).alias(\"intercept\")]) \\\n",
    "    .select(\"date\", \"system_name\", \"slope\", \"intercept\") \\\n",
    "    .filter(pl.col(\"slope\") > 0)"
   ]
  },
  {
   "cell_type": "markdown",
   "metadata": {},
   "source": [
    "## Plot Slope and Intercept"
   ]
  },
  {
   "cell_type": "code",
   "execution_count": 7,
   "metadata": {},
   "outputs": [
    {
     "data": {
      "application/vnd.plotly.v1+json": {
       "config": {
        "plotlyServerURL": "https://plot.ly"
       },
       "data": [
        {
         "alignmentgroup": "True",
         "bingroup": "x",
         "hovertemplate": "system_name=tum-esm-midcost-raspi-12<br>slope=%{x}<br>count=%{y}<extra></extra>",
         "legendgroup": "tum-esm-midcost-raspi-12",
         "marker": {
          "color": "#636efa",
          "pattern": {
           "shape": ""
          }
         },
         "name": "tum-esm-midcost-raspi-12",
         "offsetgroup": "tum-esm-midcost-raspi-12",
         "orientation": "v",
         "showlegend": true,
         "type": "histogram",
         "x": [
          1.0259482820109662,
          1.0431972317623286,
          1.026027762290944,
          1.0262987130697419,
          1.0323712578520223,
          1.0333788927559457,
          1.0312299310673063,
          1.0263143375077712,
          1.0312334705308652,
          1.0356638174314852,
          1.0339679311592025,
          1.0233668720327609,
          1.0353138067923309,
          1.0213556198785347,
          1.0157944518808788,
          1.0309646287653624,
          1.021962871407006,
          1.0234260926787826,
          1.0392691665325207,
          1.032945668921577,
          1.0339077634090061,
          1.0205820543151527,
          1.0302774116579307,
          1.036718008257421,
          1.0393775575158655,
          1.031886830972784,
          1.0206393080068936,
          1.0204570611437647,
          1.0242595813125233,
          1.0337091317798248,
          1.0261398680674956,
          1.0189584404318903,
          1.030405125410605,
          1.0313966751526418,
          1.027835723576938,
          1.0326641231799019,
          1.0329698338748874,
          1.0271705643610496,
          1.031389536436693,
          1.0299599871198024,
          1.0236931865997885,
          1.0274052179989537,
          1.037050773481919,
          1.0269682770042707,
          1.0393789534258764,
          1.0344389235689608,
          1.0411166364239104,
          1.0405494364674028
         ],
         "xaxis": "x",
         "yaxis": "y"
        },
        {
         "alignmentgroup": "True",
         "bingroup": "x",
         "hovertemplate": "system_name=tum-esm-midcost-raspi-20<br>slope=%{x}<br>count=%{y}<extra></extra>",
         "legendgroup": "tum-esm-midcost-raspi-20",
         "marker": {
          "color": "#EF553B",
          "pattern": {
           "shape": ""
          }
         },
         "name": "tum-esm-midcost-raspi-20",
         "offsetgroup": "tum-esm-midcost-raspi-20",
         "orientation": "v",
         "showlegend": true,
         "type": "histogram",
         "x": [
          1.0049011693705456,
          1.0022298005040047,
          1.0091096845644187,
          0.9980552594121048,
          0.9908212330009699,
          1.0035760403586917,
          0.9991958387941379,
          0.9945904011337047,
          1.0072460412944806,
          1.0061081456630063,
          1.0011055584720079,
          1.0140754429367091,
          0.9932121622340158,
          1.0123175749090114,
          1.0060851829648865,
          1.0141738342990536,
          0.9993928531778676,
          0.9937053886349348,
          1.0072990334663525,
          0.9998643142784229,
          1.0016783714878303,
          0.9918092081582984,
          1.0001038037823884,
          1.0027445179354029,
          1.0007715558657588,
          0.9993196587039499,
          0.9997956348916659,
          1.003013690520174,
          1.0006660868184603,
          1.0097227261339263,
          1.0000370911227092,
          0.9973295954550446,
          1.0035195039093925,
          1.0076310019967905,
          1.0095312194976738,
          0.9997933074178944,
          1.0161751053805113,
          0.9982780794127232,
          1.007950958082192,
          0.9983505873410459,
          1.0014335957222495,
          0.9993081371239132,
          1.0165671883125136,
          0.9988808929429727,
          0.9955940715485935,
          0.9986089019006396,
          1.0092874288510023,
          1.0065263219655405,
          0.9982817601104714
         ],
         "xaxis": "x",
         "yaxis": "y"
        },
        {
         "alignmentgroup": "True",
         "bingroup": "x",
         "hovertemplate": "system_name=tum-esm-midcost-raspi-18<br>slope=%{x}<br>count=%{y}<extra></extra>",
         "legendgroup": "tum-esm-midcost-raspi-18",
         "marker": {
          "color": "#00cc96",
          "pattern": {
           "shape": ""
          }
         },
         "name": "tum-esm-midcost-raspi-18",
         "offsetgroup": "tum-esm-midcost-raspi-18",
         "orientation": "v",
         "showlegend": true,
         "type": "histogram",
         "x": [
          1.0021911385228277,
          0.9992152695931669,
          1.0060709839259525,
          0.9970709446724303,
          1.0041706146875093,
          1.0052220145993556,
          1.0099172875608278,
          1.0013469538239055,
          1.0061533045914837,
          1.0137094952935457,
          1.0089515765630785,
          1.005504477421674,
          1.000192618304403,
          1.0100297635995168,
          1.0080407244923337,
          1.0020218695263694,
          0.993629382213953,
          1.0014263438440132,
          1.0076560156653078,
          1.0046759946585215,
          1.0047730767915188,
          1.0008327095828664,
          1.0042793984853,
          1.0073075664130502,
          1.0047061547531857,
          1.0130691682923847,
          1.0005881011447286,
          1.0118127208423084,
          1.014204396157488,
          1.0055955770935474,
          0.9951325550834983,
          0.9998545659867007,
          1.0034903801463029,
          0.999382444805166,
          0.9932071051429258,
          1.0012991807445988,
          1.000386646451809,
          1.0226330939355461,
          0.9971599908491875,
          1.0018378062348774,
          1.0040836364580146,
          0.9998860328084136,
          1.0078929304704878
         ],
         "xaxis": "x",
         "yaxis": "y"
        },
        {
         "alignmentgroup": "True",
         "bingroup": "x",
         "hovertemplate": "system_name=tum-esm-midcost-raspi-11<br>slope=%{x}<br>count=%{y}<extra></extra>",
         "legendgroup": "tum-esm-midcost-raspi-11",
         "marker": {
          "color": "#ab63fa",
          "pattern": {
           "shape": ""
          }
         },
         "name": "tum-esm-midcost-raspi-11",
         "offsetgroup": "tum-esm-midcost-raspi-11",
         "orientation": "v",
         "showlegend": true,
         "type": "histogram",
         "x": [
          0.9619930502568325,
          0.9646817175857852,
          0.9644624455882705,
          0.9629314794988959,
          0.9657360749512801,
          0.9584167367843097,
          0.9725333816956172,
          0.9652541885577652,
          0.9683431530934216,
          0.9662953288715384,
          0.9620864390570615,
          0.9741771010653689,
          0.9663346272394921,
          0.9571254206997671,
          0.9677488125553814,
          0.9650337459540314,
          0.9654791413902414,
          0.9710644973757598,
          0.9652554457888277,
          0.9723326006961337,
          0.9702199267726768,
          0.978570504210877,
          0.9856626619092613,
          0.9602177895069998,
          0.9638432210274082,
          0.9613716217286533,
          0.9626930664418112,
          0.961061284258284,
          0.9641560617741046,
          0.9655404912153029,
          0.9697882473257344,
          0.9598803835053388,
          0.956425143570557,
          0.9729832127373607,
          0.9614558035997693,
          0.9758076351713625,
          0.9619703941714449,
          0.9701912464625825,
          0.9757158624460833,
          0.9674990312173446,
          0.9666610304697711,
          0.9590222870615824,
          0.965216843342732,
          0.9685114191177535,
          0.9640795173658124,
          0.9658394317336084,
          0.9625238805638563,
          0.9785089879540051,
          0.9671721014499037,
          0.9589206476298299,
          0.96706188526524,
          0.9655332557350431,
          0.9697062420470198,
          0.9660201603169764,
          0.9606209142816066,
          0.965488910012409,
          0.9659881954927018,
          0.9785657588278195
         ],
         "xaxis": "x",
         "yaxis": "y"
        },
        {
         "alignmentgroup": "True",
         "bingroup": "x",
         "hovertemplate": "system_name=tum-esm-midcost-raspi-9<br>slope=%{x}<br>count=%{y}<extra></extra>",
         "legendgroup": "tum-esm-midcost-raspi-9",
         "marker": {
          "color": "#FFA15A",
          "pattern": {
           "shape": ""
          }
         },
         "name": "tum-esm-midcost-raspi-9",
         "offsetgroup": "tum-esm-midcost-raspi-9",
         "orientation": "v",
         "showlegend": true,
         "type": "histogram",
         "x": [
          1.0018819584198042,
          1.0046459297255046,
          1.0090064885009677,
          1.009853171638447,
          1.0219424575335352,
          1.0081420064195452,
          1.0080881396929897,
          1.011947252205186,
          1.0104287285216231,
          1.0073378076840913,
          1.006132777905196,
          1.0176731945976178,
          1.0129959278423764,
          1.0109590896117528,
          1.0083049003730196,
          1.0090526323439024,
          0.9975785471246009,
          1.0185366897340193,
          1.003064535683474,
          1.0011658346091683,
          1.0094733404932363,
          1.011337046578522,
          1.0157011852755367
         ],
         "xaxis": "x",
         "yaxis": "y"
        },
        {
         "alignmentgroup": "True",
         "bingroup": "x",
         "hovertemplate": "system_name=tum-esm-midcost-raspi-16<br>slope=%{x}<br>count=%{y}<extra></extra>",
         "legendgroup": "tum-esm-midcost-raspi-16",
         "marker": {
          "color": "#19d3f3",
          "pattern": {
           "shape": ""
          }
         },
         "name": "tum-esm-midcost-raspi-16",
         "offsetgroup": "tum-esm-midcost-raspi-16",
         "orientation": "v",
         "showlegend": true,
         "type": "histogram",
         "x": [
          1.0016857737412892,
          1.000003383461678,
          0.9846826304212282,
          0.9926080001762339,
          0.9946312623777415,
          0.9959689671908809,
          0.9870582695376898,
          0.9969148986903859,
          1.0019742322181113,
          0.9984940318243438,
          1.000259809531479,
          0.9903993818693121,
          0.9852787117122636,
          1.0018297767570432,
          0.9995335188570772,
          0.9881329643847622,
          0.9947701653358655,
          0.9940775949178345,
          0.9888014492052091,
          1.0004028042877178,
          0.9940854487283264,
          1.0077670856449803,
          0.994678677718317,
          1.0035081563900305,
          0.9930056822975994,
          1.005148663464107,
          0.9905334562725979,
          0.9979516289525359,
          0.9962866135602605,
          0.9863041566959316,
          1.0030777426733675,
          0.9879407096066931,
          0.990965450647499,
          1.0028984177043268,
          1.0126964398602636,
          0.9994931085620642,
          0.9915802930762291,
          0.9979428818166214,
          0.9952761886922029,
          0.9977326315585615,
          1.0041431198788937,
          0.9963959184525576
         ],
         "xaxis": "x",
         "yaxis": "y"
        },
        {
         "alignmentgroup": "True",
         "bingroup": "x",
         "hovertemplate": "system_name=tum-esm-midcost-raspi-10<br>slope=%{x}<br>count=%{y}<extra></extra>",
         "legendgroup": "tum-esm-midcost-raspi-10",
         "marker": {
          "color": "#FF6692",
          "pattern": {
           "shape": ""
          }
         },
         "name": "tum-esm-midcost-raspi-10",
         "offsetgroup": "tum-esm-midcost-raspi-10",
         "orientation": "v",
         "showlegend": true,
         "type": "histogram",
         "x": [
          1.0004826593232754,
          0.9780914048377438,
          0.9902984522693814,
          0.999231921686899,
          0.9953755288081418,
          0.9796988573588155,
          1.0043546875208544,
          0.9963509528412318,
          0.996463481873805,
          0.9790074798838804,
          0.9918547655783391,
          1.0036125301777423,
          0.99703634038259,
          0.9801397874545191,
          0.9767016907553264,
          0.9769681734734037,
          0.9862561955069642,
          0.9783625916527933,
          0.9817196568507763,
          0.9748727630904669,
          0.9898027417767677,
          0.9841255001380119,
          0.9986729050641815,
          0.988572359990799,
          0.9882731190461874,
          0.9923313876274906,
          0.9817726714794698,
          0.992716333701695,
          0.9851486165655792,
          0.9878313558619564,
          0.9844898418916405,
          0.9904256034908591,
          0.9788181834155889,
          0.9952459477388065,
          0.9710050758704157,
          0.9950700026693813,
          0.9898326673657755,
          0.9944291243828214,
          0.9969827438997768,
          0.9961523615264575,
          0.9825642876306447,
          1.002928419175152,
          0.9903447202298374,
          0.9887668251992122,
          0.9817680340715537,
          0.9894548000657591,
          0.9803800073300142,
          0.9777202784097169,
          0.9824126407016829,
          0.9848536911455621,
          0.9948312212045012,
          0.973210953998707,
          0.9902714193494467,
          0.9771243773337064,
          0.981913985503048,
          0.9809593188706129,
          0.9912178240558243
         ],
         "xaxis": "x",
         "yaxis": "y"
        },
        {
         "alignmentgroup": "True",
         "bingroup": "x",
         "hovertemplate": "system_name=tum-esm-midcost-raspi-4<br>slope=%{x}<br>count=%{y}<extra></extra>",
         "legendgroup": "tum-esm-midcost-raspi-4",
         "marker": {
          "color": "#B6E880",
          "pattern": {
           "shape": ""
          }
         },
         "name": "tum-esm-midcost-raspi-4",
         "offsetgroup": "tum-esm-midcost-raspi-4",
         "orientation": "v",
         "showlegend": true,
         "type": "histogram",
         "x": [
          0.997009295507988,
          1.0107388711559258,
          0.9921957282761531,
          0.9894145709516439,
          1.00422028099102,
          1.0038369865526813,
          1.0080382676008253,
          1.0067495832033704,
          0.9987940445687351,
          0.9950862930387315,
          1.0105165140409873,
          1.0164700924572303,
          0.9951308281635587,
          0.9969148338550413,
          0.9935025021673358,
          0.9957984411661461,
          0.996438116936342,
          1.0084450385830577,
          1.0003311685753922,
          1.0007958023640775,
          1.0050721620526077,
          1.0114840161827987,
          1.0075706386253325,
          1.013245810734605,
          0.9983198832190492,
          0.9957304085179184,
          0.9963767555599066
         ],
         "xaxis": "x",
         "yaxis": "y"
        },
        {
         "alignmentgroup": "True",
         "bingroup": "x",
         "hovertemplate": "system_name=tum-esm-midcost-raspi-3<br>slope=%{x}<br>count=%{y}<extra></extra>",
         "legendgroup": "tum-esm-midcost-raspi-3",
         "marker": {
          "color": "#FF97FF",
          "pattern": {
           "shape": ""
          }
         },
         "name": "tum-esm-midcost-raspi-3",
         "offsetgroup": "tum-esm-midcost-raspi-3",
         "orientation": "v",
         "showlegend": true,
         "type": "histogram",
         "x": [
          0.9942385671075445,
          0.9818818953997482,
          0.9766608204382377,
          0.9944905685688453,
          0.9920804089523557,
          0.9843895719466951,
          0.9845214255485528,
          0.9856966430449389,
          0.9734521361958596,
          0.9806054667544046,
          0.9787877642657112,
          0.9798163383172849,
          0.9801885440952437,
          0.9904617794561229,
          0.9817700071705828,
          0.9765788166753819,
          0.9803597329670491,
          0.9671681709325316,
          0.9753651876984396,
          0.9752447236472499,
          0.9838577287007543,
          0.9871586223761067,
          0.9888097385619944,
          0.9793125795970962,
          0.9878295597678255,
          0.9830961888610102,
          0.9909387640913793,
          0.9816115343865646,
          0.9881945645107184,
          0.9688186018802439,
          0.9811081835560381,
          0.9787810678700091,
          0.9794170118404263,
          0.994545082080531,
          0.9848019300056935,
          0.9829292086993203
         ],
         "xaxis": "x",
         "yaxis": "y"
        },
        {
         "alignmentgroup": "True",
         "bingroup": "x",
         "hovertemplate": "system_name=tum-esm-midcost-raspi-1<br>slope=%{x}<br>count=%{y}<extra></extra>",
         "legendgroup": "tum-esm-midcost-raspi-1",
         "marker": {
          "color": "#FECB52",
          "pattern": {
           "shape": ""
          }
         },
         "name": "tum-esm-midcost-raspi-1",
         "offsetgroup": "tum-esm-midcost-raspi-1",
         "orientation": "v",
         "showlegend": true,
         "type": "histogram",
         "x": [
          0.9856586809154251,
          0.9920893825888163,
          0.9905810354604302,
          0.9850838251437367,
          0.9875345572308442,
          0.9895979390888281,
          0.9863006531610026,
          0.985890036735872,
          0.9842509843057206,
          0.971801561787794,
          0.9941297352282502,
          0.9941678707974663,
          0.9801770977812773,
          0.9850698287186207,
          1.0007198058733537,
          0.9903835469246272,
          0.9975180573881914,
          0.9864324782613942,
          0.9900116506018246,
          0.9941678707974663,
          0.9837877648598694,
          0.9815324235253938,
          0.9879465449476699,
          0.9945854129523577,
          0.9825637376302805,
          0.9817702448861073
         ],
         "xaxis": "x",
         "yaxis": "y"
        },
        {
         "alignmentgroup": "True",
         "bingroup": "x",
         "hovertemplate": "system_name=tum-esm-midcost-raspi-8<br>slope=%{x}<br>count=%{y}<extra></extra>",
         "legendgroup": "tum-esm-midcost-raspi-8",
         "marker": {
          "color": "#636efa",
          "pattern": {
           "shape": ""
          }
         },
         "name": "tum-esm-midcost-raspi-8",
         "offsetgroup": "tum-esm-midcost-raspi-8",
         "orientation": "v",
         "showlegend": true,
         "type": "histogram",
         "x": [
          0.9749721356726427,
          0.9784021362184757,
          0.991458623243175,
          0.984446846467872,
          0.9890415636388636,
          0.980424497430128,
          0.9764700376489456,
          0.965406359511109,
          0.9903585628620996,
          0.9824596797877856,
          0.9871883310291387,
          0.9796937203562899,
          0.9841079469269639,
          0.9794329971121464,
          0.9895172336256379,
          0.9786334734468776,
          0.9797286301836415,
          0.9798321030558876,
          0.9905217657172168,
          0.9853346822179424,
          0.975503001780321,
          0.9964707898214986,
          0.9821422071084457,
          0.9874112847902943,
          0.9797745243218977,
          0.9947121123649648,
          0.9888800096257474,
          0.9855036547953915
         ],
         "xaxis": "x",
         "yaxis": "y"
        },
        {
         "alignmentgroup": "True",
         "bingroup": "x",
         "hovertemplate": "system_name=tum-esm-midcost-raspi-6<br>slope=%{x}<br>count=%{y}<extra></extra>",
         "legendgroup": "tum-esm-midcost-raspi-6",
         "marker": {
          "color": "#EF553B",
          "pattern": {
           "shape": ""
          }
         },
         "name": "tum-esm-midcost-raspi-6",
         "offsetgroup": "tum-esm-midcost-raspi-6",
         "orientation": "v",
         "showlegend": true,
         "type": "histogram",
         "x": [
          1.0200946436469995,
          1.0100237663386458,
          1.0174406888235379,
          1.0220833591406682,
          1.018271325426538,
          1.0187368008946878,
          1.0218399461891774,
          1.020141976501523,
          1.0187096195015533,
          1.0105266383439693,
          1.0212895833527287,
          1.020369818212781,
          1.0124614583049774,
          1.0195427563146782,
          1.0192116977856833,
          1.0220675540182402,
          1.0234750590161783,
          1.008775792884126,
          1.0156658058883408,
          1.0182415107714486
         ],
         "xaxis": "x",
         "yaxis": "y"
        },
        {
         "alignmentgroup": "True",
         "bingroup": "x",
         "hovertemplate": "system_name=tum-esm-midcost-raspi-7<br>slope=%{x}<br>count=%{y}<extra></extra>",
         "legendgroup": "tum-esm-midcost-raspi-7",
         "marker": {
          "color": "#00cc96",
          "pattern": {
           "shape": ""
          }
         },
         "name": "tum-esm-midcost-raspi-7",
         "offsetgroup": "tum-esm-midcost-raspi-7",
         "orientation": "v",
         "showlegend": true,
         "type": "histogram",
         "x": [
          1.003811153683015,
          0.9999031436599989,
          0.9960439273745151,
          0.9991718132019345,
          0.9967265826405174,
          1.0038301594176124,
          0.9954563988862688,
          0.9943386102117756,
          0.9990557046352152,
          1.0082775117853002,
          1.0036944076660952,
          1.0112542030826748,
          1.0072952744323878,
          1.0074719036397803,
          1.0055484156197325,
          0.9975038286896378,
          1.0012039473699943,
          0.997203807416938,
          1.005019325532552,
          1.00417852774892
         ],
         "xaxis": "x",
         "yaxis": "y"
        },
        {
         "alignmentgroup": "True",
         "bingroup": "x",
         "hovertemplate": "system_name=tum-esm-midcost-raspi-15<br>slope=%{x}<br>count=%{y}<extra></extra>",
         "legendgroup": "tum-esm-midcost-raspi-15",
         "marker": {
          "color": "#ab63fa",
          "pattern": {
           "shape": ""
          }
         },
         "name": "tum-esm-midcost-raspi-15",
         "offsetgroup": "tum-esm-midcost-raspi-15",
         "orientation": "v",
         "showlegend": true,
         "type": "histogram",
         "x": [
          0.9981744933671997,
          0.9994229893817279,
          1.0087789553270312,
          0.9988084799136442,
          0.9989778835062549,
          0.9915589247875648,
          0.9919962665035544,
          1.0029649730700756,
          0.9941187886392368,
          1.0014718474463582,
          0.9989225164316292,
          1.0023555514181666,
          1.0028299542188228,
          0.9922462689145344,
          0.9975590601051327,
          0.9968258876248252,
          1.0028497095512554,
          1.008381923024978
         ],
         "xaxis": "x",
         "yaxis": "y"
        },
        {
         "alignmentgroup": "True",
         "bingroup": "x",
         "hovertemplate": "system_name=tum-esm-midcost-raspi-5<br>slope=%{x}<br>count=%{y}<extra></extra>",
         "legendgroup": "tum-esm-midcost-raspi-5",
         "marker": {
          "color": "#FFA15A",
          "pattern": {
           "shape": ""
          }
         },
         "name": "tum-esm-midcost-raspi-5",
         "offsetgroup": "tum-esm-midcost-raspi-5",
         "orientation": "v",
         "showlegend": true,
         "type": "histogram",
         "x": [
          1.0085310781685137,
          0.9910131686221622,
          1.001785050889794,
          1.011084321404383,
          1.0123657970969115,
          0.9996953866201036,
          1.0132219203925534,
          1.0072592861405583,
          0.9959558776925966,
          1.0013664194435388,
          1.0013664194435379,
          1.005183527800139,
          1.0149385183093547,
          1.022735741241309,
          1.0013664194435383,
          1.0136505252658146,
          0.9988619598701075,
          1.010231805113148,
          1.0059906976189708
         ],
         "xaxis": "x",
         "yaxis": "y"
        },
        {
         "alignmentgroup": "True",
         "bingroup": "x",
         "hovertemplate": "system_name=tum-esm-midcost-raspi-13<br>slope=%{x}<br>count=%{y}<extra></extra>",
         "legendgroup": "tum-esm-midcost-raspi-13",
         "marker": {
          "color": "#19d3f3",
          "pattern": {
           "shape": ""
          }
         },
         "name": "tum-esm-midcost-raspi-13",
         "offsetgroup": "tum-esm-midcost-raspi-13",
         "orientation": "v",
         "showlegend": true,
         "type": "histogram",
         "x": [
          0.9893956086527019,
          0.9910848957238231,
          0.9901822139195575,
          1.000287202876314,
          0.9891136044863388,
          0.9837247974241439,
          0.992485776172956,
          0.9954465639039736,
          0.9895687215194285,
          0.9974052587575726,
          0.9908339228027869,
          0.9990502649708383,
          0.98880176146728,
          0.9863024276335238,
          0.9938277292530798,
          0.995345723516064
         ],
         "xaxis": "x",
         "yaxis": "y"
        },
        {
         "alignmentgroup": "True",
         "bingroup": "x",
         "hovertemplate": "system_name=tum-esm-midcost-raspi-14<br>slope=%{x}<br>count=%{y}<extra></extra>",
         "legendgroup": "tum-esm-midcost-raspi-14",
         "marker": {
          "color": "#FF6692",
          "pattern": {
           "shape": ""
          }
         },
         "name": "tum-esm-midcost-raspi-14",
         "offsetgroup": "tum-esm-midcost-raspi-14",
         "orientation": "v",
         "showlegend": true,
         "type": "histogram",
         "x": [
          1.0068762615068365,
          1.0027953201372317,
          1.0056382509181716,
          1.0095439140572513,
          0.996772141673811,
          0.995725088877967,
          1.0057019279141606,
          0.9906380039758299,
          1.0714107061156712,
          0.9932374588926837,
          1.00875375217403
         ],
         "xaxis": "x",
         "yaxis": "y"
        }
       ],
       "layout": {
        "barmode": "relative",
        "legend": {
         "title": {
          "text": "system_name"
         },
         "tracegroupgap": 0
        },
        "margin": {
         "t": 60
        },
        "template": {
         "data": {
          "bar": [
           {
            "error_x": {
             "color": "#2a3f5f"
            },
            "error_y": {
             "color": "#2a3f5f"
            },
            "marker": {
             "line": {
              "color": "#E5ECF6",
              "width": 0.5
             },
             "pattern": {
              "fillmode": "overlay",
              "size": 10,
              "solidity": 0.2
             }
            },
            "type": "bar"
           }
          ],
          "barpolar": [
           {
            "marker": {
             "line": {
              "color": "#E5ECF6",
              "width": 0.5
             },
             "pattern": {
              "fillmode": "overlay",
              "size": 10,
              "solidity": 0.2
             }
            },
            "type": "barpolar"
           }
          ],
          "carpet": [
           {
            "aaxis": {
             "endlinecolor": "#2a3f5f",
             "gridcolor": "white",
             "linecolor": "white",
             "minorgridcolor": "white",
             "startlinecolor": "#2a3f5f"
            },
            "baxis": {
             "endlinecolor": "#2a3f5f",
             "gridcolor": "white",
             "linecolor": "white",
             "minorgridcolor": "white",
             "startlinecolor": "#2a3f5f"
            },
            "type": "carpet"
           }
          ],
          "choropleth": [
           {
            "colorbar": {
             "outlinewidth": 0,
             "ticks": ""
            },
            "type": "choropleth"
           }
          ],
          "contour": [
           {
            "colorbar": {
             "outlinewidth": 0,
             "ticks": ""
            },
            "colorscale": [
             [
              0,
              "#0d0887"
             ],
             [
              0.1111111111111111,
              "#46039f"
             ],
             [
              0.2222222222222222,
              "#7201a8"
             ],
             [
              0.3333333333333333,
              "#9c179e"
             ],
             [
              0.4444444444444444,
              "#bd3786"
             ],
             [
              0.5555555555555556,
              "#d8576b"
             ],
             [
              0.6666666666666666,
              "#ed7953"
             ],
             [
              0.7777777777777778,
              "#fb9f3a"
             ],
             [
              0.8888888888888888,
              "#fdca26"
             ],
             [
              1,
              "#f0f921"
             ]
            ],
            "type": "contour"
           }
          ],
          "contourcarpet": [
           {
            "colorbar": {
             "outlinewidth": 0,
             "ticks": ""
            },
            "type": "contourcarpet"
           }
          ],
          "heatmap": [
           {
            "colorbar": {
             "outlinewidth": 0,
             "ticks": ""
            },
            "colorscale": [
             [
              0,
              "#0d0887"
             ],
             [
              0.1111111111111111,
              "#46039f"
             ],
             [
              0.2222222222222222,
              "#7201a8"
             ],
             [
              0.3333333333333333,
              "#9c179e"
             ],
             [
              0.4444444444444444,
              "#bd3786"
             ],
             [
              0.5555555555555556,
              "#d8576b"
             ],
             [
              0.6666666666666666,
              "#ed7953"
             ],
             [
              0.7777777777777778,
              "#fb9f3a"
             ],
             [
              0.8888888888888888,
              "#fdca26"
             ],
             [
              1,
              "#f0f921"
             ]
            ],
            "type": "heatmap"
           }
          ],
          "heatmapgl": [
           {
            "colorbar": {
             "outlinewidth": 0,
             "ticks": ""
            },
            "colorscale": [
             [
              0,
              "#0d0887"
             ],
             [
              0.1111111111111111,
              "#46039f"
             ],
             [
              0.2222222222222222,
              "#7201a8"
             ],
             [
              0.3333333333333333,
              "#9c179e"
             ],
             [
              0.4444444444444444,
              "#bd3786"
             ],
             [
              0.5555555555555556,
              "#d8576b"
             ],
             [
              0.6666666666666666,
              "#ed7953"
             ],
             [
              0.7777777777777778,
              "#fb9f3a"
             ],
             [
              0.8888888888888888,
              "#fdca26"
             ],
             [
              1,
              "#f0f921"
             ]
            ],
            "type": "heatmapgl"
           }
          ],
          "histogram": [
           {
            "marker": {
             "pattern": {
              "fillmode": "overlay",
              "size": 10,
              "solidity": 0.2
             }
            },
            "type": "histogram"
           }
          ],
          "histogram2d": [
           {
            "colorbar": {
             "outlinewidth": 0,
             "ticks": ""
            },
            "colorscale": [
             [
              0,
              "#0d0887"
             ],
             [
              0.1111111111111111,
              "#46039f"
             ],
             [
              0.2222222222222222,
              "#7201a8"
             ],
             [
              0.3333333333333333,
              "#9c179e"
             ],
             [
              0.4444444444444444,
              "#bd3786"
             ],
             [
              0.5555555555555556,
              "#d8576b"
             ],
             [
              0.6666666666666666,
              "#ed7953"
             ],
             [
              0.7777777777777778,
              "#fb9f3a"
             ],
             [
              0.8888888888888888,
              "#fdca26"
             ],
             [
              1,
              "#f0f921"
             ]
            ],
            "type": "histogram2d"
           }
          ],
          "histogram2dcontour": [
           {
            "colorbar": {
             "outlinewidth": 0,
             "ticks": ""
            },
            "colorscale": [
             [
              0,
              "#0d0887"
             ],
             [
              0.1111111111111111,
              "#46039f"
             ],
             [
              0.2222222222222222,
              "#7201a8"
             ],
             [
              0.3333333333333333,
              "#9c179e"
             ],
             [
              0.4444444444444444,
              "#bd3786"
             ],
             [
              0.5555555555555556,
              "#d8576b"
             ],
             [
              0.6666666666666666,
              "#ed7953"
             ],
             [
              0.7777777777777778,
              "#fb9f3a"
             ],
             [
              0.8888888888888888,
              "#fdca26"
             ],
             [
              1,
              "#f0f921"
             ]
            ],
            "type": "histogram2dcontour"
           }
          ],
          "mesh3d": [
           {
            "colorbar": {
             "outlinewidth": 0,
             "ticks": ""
            },
            "type": "mesh3d"
           }
          ],
          "parcoords": [
           {
            "line": {
             "colorbar": {
              "outlinewidth": 0,
              "ticks": ""
             }
            },
            "type": "parcoords"
           }
          ],
          "pie": [
           {
            "automargin": true,
            "type": "pie"
           }
          ],
          "scatter": [
           {
            "fillpattern": {
             "fillmode": "overlay",
             "size": 10,
             "solidity": 0.2
            },
            "type": "scatter"
           }
          ],
          "scatter3d": [
           {
            "line": {
             "colorbar": {
              "outlinewidth": 0,
              "ticks": ""
             }
            },
            "marker": {
             "colorbar": {
              "outlinewidth": 0,
              "ticks": ""
             }
            },
            "type": "scatter3d"
           }
          ],
          "scattercarpet": [
           {
            "marker": {
             "colorbar": {
              "outlinewidth": 0,
              "ticks": ""
             }
            },
            "type": "scattercarpet"
           }
          ],
          "scattergeo": [
           {
            "marker": {
             "colorbar": {
              "outlinewidth": 0,
              "ticks": ""
             }
            },
            "type": "scattergeo"
           }
          ],
          "scattergl": [
           {
            "marker": {
             "colorbar": {
              "outlinewidth": 0,
              "ticks": ""
             }
            },
            "type": "scattergl"
           }
          ],
          "scattermapbox": [
           {
            "marker": {
             "colorbar": {
              "outlinewidth": 0,
              "ticks": ""
             }
            },
            "type": "scattermapbox"
           }
          ],
          "scatterpolar": [
           {
            "marker": {
             "colorbar": {
              "outlinewidth": 0,
              "ticks": ""
             }
            },
            "type": "scatterpolar"
           }
          ],
          "scatterpolargl": [
           {
            "marker": {
             "colorbar": {
              "outlinewidth": 0,
              "ticks": ""
             }
            },
            "type": "scatterpolargl"
           }
          ],
          "scatterternary": [
           {
            "marker": {
             "colorbar": {
              "outlinewidth": 0,
              "ticks": ""
             }
            },
            "type": "scatterternary"
           }
          ],
          "surface": [
           {
            "colorbar": {
             "outlinewidth": 0,
             "ticks": ""
            },
            "colorscale": [
             [
              0,
              "#0d0887"
             ],
             [
              0.1111111111111111,
              "#46039f"
             ],
             [
              0.2222222222222222,
              "#7201a8"
             ],
             [
              0.3333333333333333,
              "#9c179e"
             ],
             [
              0.4444444444444444,
              "#bd3786"
             ],
             [
              0.5555555555555556,
              "#d8576b"
             ],
             [
              0.6666666666666666,
              "#ed7953"
             ],
             [
              0.7777777777777778,
              "#fb9f3a"
             ],
             [
              0.8888888888888888,
              "#fdca26"
             ],
             [
              1,
              "#f0f921"
             ]
            ],
            "type": "surface"
           }
          ],
          "table": [
           {
            "cells": {
             "fill": {
              "color": "#EBF0F8"
             },
             "line": {
              "color": "white"
             }
            },
            "header": {
             "fill": {
              "color": "#C8D4E3"
             },
             "line": {
              "color": "white"
             }
            },
            "type": "table"
           }
          ]
         },
         "layout": {
          "annotationdefaults": {
           "arrowcolor": "#2a3f5f",
           "arrowhead": 0,
           "arrowwidth": 1
          },
          "autotypenumbers": "strict",
          "coloraxis": {
           "colorbar": {
            "outlinewidth": 0,
            "ticks": ""
           }
          },
          "colorscale": {
           "diverging": [
            [
             0,
             "#8e0152"
            ],
            [
             0.1,
             "#c51b7d"
            ],
            [
             0.2,
             "#de77ae"
            ],
            [
             0.3,
             "#f1b6da"
            ],
            [
             0.4,
             "#fde0ef"
            ],
            [
             0.5,
             "#f7f7f7"
            ],
            [
             0.6,
             "#e6f5d0"
            ],
            [
             0.7,
             "#b8e186"
            ],
            [
             0.8,
             "#7fbc41"
            ],
            [
             0.9,
             "#4d9221"
            ],
            [
             1,
             "#276419"
            ]
           ],
           "sequential": [
            [
             0,
             "#0d0887"
            ],
            [
             0.1111111111111111,
             "#46039f"
            ],
            [
             0.2222222222222222,
             "#7201a8"
            ],
            [
             0.3333333333333333,
             "#9c179e"
            ],
            [
             0.4444444444444444,
             "#bd3786"
            ],
            [
             0.5555555555555556,
             "#d8576b"
            ],
            [
             0.6666666666666666,
             "#ed7953"
            ],
            [
             0.7777777777777778,
             "#fb9f3a"
            ],
            [
             0.8888888888888888,
             "#fdca26"
            ],
            [
             1,
             "#f0f921"
            ]
           ],
           "sequentialminus": [
            [
             0,
             "#0d0887"
            ],
            [
             0.1111111111111111,
             "#46039f"
            ],
            [
             0.2222222222222222,
             "#7201a8"
            ],
            [
             0.3333333333333333,
             "#9c179e"
            ],
            [
             0.4444444444444444,
             "#bd3786"
            ],
            [
             0.5555555555555556,
             "#d8576b"
            ],
            [
             0.6666666666666666,
             "#ed7953"
            ],
            [
             0.7777777777777778,
             "#fb9f3a"
            ],
            [
             0.8888888888888888,
             "#fdca26"
            ],
            [
             1,
             "#f0f921"
            ]
           ]
          },
          "colorway": [
           "#636efa",
           "#EF553B",
           "#00cc96",
           "#ab63fa",
           "#FFA15A",
           "#19d3f3",
           "#FF6692",
           "#B6E880",
           "#FF97FF",
           "#FECB52"
          ],
          "font": {
           "color": "#2a3f5f"
          },
          "geo": {
           "bgcolor": "white",
           "lakecolor": "white",
           "landcolor": "#E5ECF6",
           "showlakes": true,
           "showland": true,
           "subunitcolor": "white"
          },
          "hoverlabel": {
           "align": "left"
          },
          "hovermode": "closest",
          "mapbox": {
           "style": "light"
          },
          "paper_bgcolor": "white",
          "plot_bgcolor": "#E5ECF6",
          "polar": {
           "angularaxis": {
            "gridcolor": "white",
            "linecolor": "white",
            "ticks": ""
           },
           "bgcolor": "#E5ECF6",
           "radialaxis": {
            "gridcolor": "white",
            "linecolor": "white",
            "ticks": ""
           }
          },
          "scene": {
           "xaxis": {
            "backgroundcolor": "#E5ECF6",
            "gridcolor": "white",
            "gridwidth": 2,
            "linecolor": "white",
            "showbackground": true,
            "ticks": "",
            "zerolinecolor": "white"
           },
           "yaxis": {
            "backgroundcolor": "#E5ECF6",
            "gridcolor": "white",
            "gridwidth": 2,
            "linecolor": "white",
            "showbackground": true,
            "ticks": "",
            "zerolinecolor": "white"
           },
           "zaxis": {
            "backgroundcolor": "#E5ECF6",
            "gridcolor": "white",
            "gridwidth": 2,
            "linecolor": "white",
            "showbackground": true,
            "ticks": "",
            "zerolinecolor": "white"
           }
          },
          "shapedefaults": {
           "line": {
            "color": "#2a3f5f"
           }
          },
          "ternary": {
           "aaxis": {
            "gridcolor": "white",
            "linecolor": "white",
            "ticks": ""
           },
           "baxis": {
            "gridcolor": "white",
            "linecolor": "white",
            "ticks": ""
           },
           "bgcolor": "#E5ECF6",
           "caxis": {
            "gridcolor": "white",
            "linecolor": "white",
            "ticks": ""
           }
          },
          "title": {
           "x": 0.05
          },
          "xaxis": {
           "automargin": true,
           "gridcolor": "white",
           "linecolor": "white",
           "ticks": "",
           "title": {
            "standoff": 15
           },
           "zerolinecolor": "white",
           "zerolinewidth": 2
          },
          "yaxis": {
           "automargin": true,
           "gridcolor": "white",
           "linecolor": "white",
           "ticks": "",
           "title": {
            "standoff": 15
           },
           "zerolinecolor": "white",
           "zerolinewidth": 2
          }
         }
        },
        "xaxis": {
         "anchor": "y",
         "domain": [
          0,
          1
         ],
         "title": {
          "text": "slope"
         }
        },
        "yaxis": {
         "anchor": "x",
         "domain": [
          0,
          1
         ],
         "title": {
          "text": "count"
         }
        }
       }
      }
     },
     "metadata": {},
     "output_type": "display_data"
    },
    {
     "data": {
      "application/vnd.plotly.v1+json": {
       "config": {
        "plotlyServerURL": "https://plot.ly"
       },
       "data": [
        {
         "alignmentgroup": "True",
         "bingroup": "x",
         "hovertemplate": "system_name=tum-esm-midcost-raspi-12<br>intercept=%{x}<br>count=%{y}<extra></extra>",
         "legendgroup": "tum-esm-midcost-raspi-12",
         "marker": {
          "color": "#636efa",
          "pattern": {
           "shape": ""
          }
         },
         "name": "tum-esm-midcost-raspi-12",
         "offsetgroup": "tum-esm-midcost-raspi-12",
         "orientation": "v",
         "showlegend": true,
         "type": "histogram",
         "x": [
          3.9650666311630403,
          -4.091856960095015,
          5.7078042890439065,
          4.220840788555506,
          3.181606909023003,
          2.26696796950921,
          4.616949829318401,
          6.1591363935298205,
          2.253490718722219,
          1.5823105435891875,
          0.48799835208910736,
          7.899291974702919,
          1.7565235839449542,
          8.316171854599474,
          10.487258612657229,
          4.04134614980444,
          6.51419913578718,
          6.376348468101355,
          0.05624224256598609,
          2.754712666289265,
          4.476455517615477,
          7.0176638614125295,
          4.173093170902007,
          0.696257076123743,
          -1.1367189321044862,
          2.691572031850683,
          7.966753648499321,
          7.389298857514518,
          7.0026437692760055,
          1.8784397227112777,
          5.724102718578706,
          7.509727034606385,
          2.615160313862475,
          3.4209025420097987,
          2.9686102561314556,
          3.034348169800751,
          1.0829577178748195,
          3.375362673214795,
          1.827922425266138,
          4.253099937818433,
          5.737395771138722,
          4.132341112321569,
          1.8677597803138042,
          3.2674186582564744,
          -2.1051631640169717,
          0.7271985779565284,
          -0.333540794004648,
          1.0423508857589923
         ],
         "xaxis": "x",
         "yaxis": "y"
        },
        {
         "alignmentgroup": "True",
         "bingroup": "x",
         "hovertemplate": "system_name=tum-esm-midcost-raspi-20<br>intercept=%{x}<br>count=%{y}<extra></extra>",
         "legendgroup": "tum-esm-midcost-raspi-20",
         "marker": {
          "color": "#EF553B",
          "pattern": {
           "shape": ""
          }
         },
         "name": "tum-esm-midcost-raspi-20",
         "offsetgroup": "tum-esm-midcost-raspi-20",
         "orientation": "v",
         "showlegend": true,
         "type": "histogram",
         "x": [
          -13.870900860105735,
          -12.38428937688525,
          -12.779578459276422,
          -9.263050538328912,
          -7.367238540693279,
          -13.944565458643751,
          -9.918202713707728,
          -7.780155856814645,
          -14.848641767758181,
          -12.348671764275764,
          -11.827101463369786,
          -17.305405918691463,
          -9.172426279524075,
          -18.115592425387035,
          -13.476079094293823,
          -15.348138426970195,
          -11.30199697813498,
          -6.846872870674929,
          -13.595457914872213,
          -10.51624364828615,
          -12.47215274431528,
          -6.2945616703259475,
          -11.601439533463804,
          -11.90184731849979,
          -10.661611144806557,
          -11.737111518259553,
          -10.185991847904234,
          -12.627110995712314,
          -11.765080669946201,
          -14.96623237708593,
          -11.681877265644061,
          -10.327598057734804,
          -11.827430689435346,
          -13.730962492807066,
          -15.988929507967214,
          -10.011120725943897,
          -18.779421803114587,
          -9.728780384096012,
          -13.831410653961939,
          -10.282199447035282,
          -12.974488378709793,
          -9.942931107637833,
          -18.0258002755063,
          -9.708663428172144,
          -9.747043605969338,
          -10.105665396678319,
          -14.425765256078876,
          -12.31984584107397,
          -11.418655623856807
         ],
         "xaxis": "x",
         "yaxis": "y"
        },
        {
         "alignmentgroup": "True",
         "bingroup": "x",
         "hovertemplate": "system_name=tum-esm-midcost-raspi-18<br>intercept=%{x}<br>count=%{y}<extra></extra>",
         "legendgroup": "tum-esm-midcost-raspi-18",
         "marker": {
          "color": "#00cc96",
          "pattern": {
           "shape": ""
          }
         },
         "name": "tum-esm-midcost-raspi-18",
         "offsetgroup": "tum-esm-midcost-raspi-18",
         "orientation": "v",
         "showlegend": true,
         "type": "histogram",
         "x": [
          -0.7886516692910845,
          0.8240388173823021,
          -3.2123846881338523,
          1.0187473572918861,
          -2.7290336840909504,
          -1.343864814396511,
          -4.248008313596529,
          -0.9310447876463286,
          -2.9986563961230104,
          -6.78132900039418,
          -3.2555201813960366,
          -1.4463416565223497,
          -0.44013474291136845,
          -3.6536544258734693,
          -2.7951601343708035,
          -0.5722799658592521,
          3.7716073229454423,
          -0.44368473336362513,
          -3.621171385984667,
          -2.574692015155165,
          -2.5037206726082104,
          0.6788827437881082,
          -2.2624680858718875,
          -1.5796972420180282,
          -2.7929041227006337,
          -5.143527528122263,
          -1.0715738550891274,
          -4.211786825286595,
          -7.1122352058396245,
          -2.605881073350247,
          1.953190667931267,
          0.7569234150380453,
          -2.230643021654828,
          -0.06670356285633261,
          4.083245438591462,
          -0.05960701120466183,
          -0.419715366622313,
          -10.342346040173993,
          1.2243620077424566,
          -0.27965191532280187,
          -1.6209065302286945,
          -0.8767137581107818,
          -3.357812043462445
         ],
         "xaxis": "x",
         "yaxis": "y"
        },
        {
         "alignmentgroup": "True",
         "bingroup": "x",
         "hovertemplate": "system_name=tum-esm-midcost-raspi-11<br>intercept=%{x}<br>count=%{y}<extra></extra>",
         "legendgroup": "tum-esm-midcost-raspi-11",
         "marker": {
          "color": "#ab63fa",
          "pattern": {
           "shape": ""
          }
         },
         "name": "tum-esm-midcost-raspi-11",
         "offsetgroup": "tum-esm-midcost-raspi-11",
         "orientation": "v",
         "showlegend": true,
         "type": "histogram",
         "x": [
          -28.83531005966097,
          -29.77351033683874,
          -28.318674656263397,
          -31.20763838825826,
          -32.0090169841103,
          -28.195959981433816,
          -33.20550924893746,
          -25.487130967526127,
          -33.56267376799815,
          -30.37857568389677,
          -30.141161494495122,
          -36.90055481045363,
          -29.623995010316662,
          -25.938245738111732,
          -32.604773936835045,
          -29.477170348787695,
          -29.518878055260984,
          -35.81573915375952,
          -31.43527043813208,
          -31.776612032516482,
          -24.835426081550736,
          -39.61151049074556,
          -41.71167342249407,
          -23.499884536222453,
          -30.730523105861153,
          -30.91415882271224,
          -29.78310262644891,
          -27.672212905413517,
          -29.8421052024579,
          -27.993328007656714,
          -29.416733938615835,
          -26.819949291652165,
          -27.29538016101219,
          -34.0323888235871,
          -25.509894462311195,
          -33.2182050267221,
          -26.61413486003812,
          -31.75684819276273,
          -35.81466257674242,
          -31.65064415605002,
          -24.419073662899336,
          -27.54703795571345,
          -30.333079746766543,
          -27.98101682452625,
          -28.30688050763547,
          -32.08637768756307,
          -30.234488602289503,
          -29.491959730132862,
          -32.068803351247425,
          -22.359890055081905,
          -30.368498775054604,
          -23.644798203572122,
          -29.968791464088895,
          -28.646529341613927,
          -21.798725846379284,
          -25.53998196254372,
          -29.32939761815703,
          -38.289894919120115
         ],
         "xaxis": "x",
         "yaxis": "y"
        },
        {
         "alignmentgroup": "True",
         "bingroup": "x",
         "hovertemplate": "system_name=tum-esm-midcost-raspi-9<br>intercept=%{x}<br>count=%{y}<extra></extra>",
         "legendgroup": "tum-esm-midcost-raspi-9",
         "marker": {
          "color": "#FFA15A",
          "pattern": {
           "shape": ""
          }
         },
         "name": "tum-esm-midcost-raspi-9",
         "offsetgroup": "tum-esm-midcost-raspi-9",
         "orientation": "v",
         "showlegend": true,
         "type": "histogram",
         "x": [
          -8.622984597589834,
          -10.313160551136775,
          -11.389394303786048,
          -12.56325915936418,
          -18.81357371559136,
          -11.04739105729368,
          -11.517194665562101,
          -12.63324193911751,
          -13.02573603590315,
          -11.750892387625527,
          -10.828537387699612,
          -16.330335485871387,
          -13.138980635156258,
          -13.161498180539638,
          -11.642688392682203,
          -11.0877519138362,
          -7.065747074100955,
          -16.037480754284047,
          -9.997835100780549,
          -8.007905274489758,
          -12.181386785209384,
          -13.689422824680491,
          -13.306979503465868
         ],
         "xaxis": "x",
         "yaxis": "y"
        },
        {
         "alignmentgroup": "True",
         "bingroup": "x",
         "hovertemplate": "system_name=tum-esm-midcost-raspi-16<br>intercept=%{x}<br>count=%{y}<extra></extra>",
         "legendgroup": "tum-esm-midcost-raspi-16",
         "marker": {
          "color": "#19d3f3",
          "pattern": {
           "shape": ""
          }
         },
         "name": "tum-esm-midcost-raspi-16",
         "offsetgroup": "tum-esm-midcost-raspi-16",
         "orientation": "v",
         "showlegend": true,
         "type": "histogram",
         "x": [
          -27.722874741215037,
          -29.779135126422148,
          -20.44605328684247,
          -23.93116976113538,
          -25.46011360416901,
          -28.542964155917957,
          -23.143695093480574,
          -26.150378491368315,
          -30.36567483986221,
          -30.126360798734027,
          -26.98903712113622,
          -23.192611597352993,
          -23.19222925189615,
          -30.787608172421415,
          -27.54258800144828,
          -23.125872851451277,
          -25.283586424667646,
          -24.931264342589202,
          -22.50023883877475,
          -26.406090334096234,
          -24.760844165722006,
          -30.459883668260318,
          -26.88679974723243,
          -27.990985634747176,
          -25.56015532627464,
          -32.41145337401258,
          -21.797002623637695,
          -28.8873019435365,
          -25.816465511963884,
          -20.665954139306564,
          -30.320378083257083,
          -21.1700228079186,
          -23.49470129473275,
          -27.09292363381212,
          -33.74045457722934,
          -27.947342304704193,
          -23.196974338399514,
          -27.46926382558661,
          -24.452606870763702,
          -26.462420638978642,
          -29.960189794188068,
          -25.53498630430397
         ],
         "xaxis": "x",
         "yaxis": "y"
        },
        {
         "alignmentgroup": "True",
         "bingroup": "x",
         "hovertemplate": "system_name=tum-esm-midcost-raspi-10<br>intercept=%{x}<br>count=%{y}<extra></extra>",
         "legendgroup": "tum-esm-midcost-raspi-10",
         "marker": {
          "color": "#FF6692",
          "pattern": {
           "shape": ""
          }
         },
         "name": "tum-esm-midcost-raspi-10",
         "offsetgroup": "tum-esm-midcost-raspi-10",
         "orientation": "v",
         "showlegend": true,
         "type": "histogram",
         "x": [
          -30.301896025377687,
          -21.302097560043535,
          -26.967037192189423,
          -26.72132208281994,
          -25.447038117120997,
          -20.73863787335779,
          -34.11161197286219,
          -29.78150244691244,
          -30.24511065454942,
          -17.563477326474185,
          -27.442556430672767,
          -30.34676973785588,
          -31.011177912825588,
          -17.693113307938802,
          -21.12364288967001,
          -19.891549143171687,
          -25.851560936026544,
          -21.273474508865547,
          -22.349606972657057,
          -20.416569611453497,
          -26.464437254829022,
          -23.791685939305353,
          -26.898637163545118,
          -26.62801069408954,
          -22.490050786743268,
          -28.54212670979348,
          -21.38486399501835,
          -28.441768980841857,
          -22.940797878329477,
          -26.51942087150178,
          -24.937462884062597,
          -23.93179846828025,
          -20.451960656017604,
          -28.420600268399085,
          -18.044491761593463,
          -27.433892753285136,
          -27.87142978865222,
          -28.615104228442647,
          -31.877047169041134,
          -29.93354691758782,
          -20.921465114067473,
          -32.97095994054348,
          -27.733812016516936,
          -27.33452014805016,
          -22.44835533194646,
          -26.109079666254615,
          -22.962305744530568,
          -21.49675682770487,
          -23.340488069740786,
          -25.289185993061892,
          -29.64498703288382,
          -18.1088140782025,
          -25.5560845056458,
          -21.277131425420293,
          -19.065588320508596,
          -21.803552491933488,
          -28.056597215267402
         ],
         "xaxis": "x",
         "yaxis": "y"
        },
        {
         "alignmentgroup": "True",
         "bingroup": "x",
         "hovertemplate": "system_name=tum-esm-midcost-raspi-4<br>intercept=%{x}<br>count=%{y}<extra></extra>",
         "legendgroup": "tum-esm-midcost-raspi-4",
         "marker": {
          "color": "#B6E880",
          "pattern": {
           "shape": ""
          }
         },
         "name": "tum-esm-midcost-raspi-4",
         "offsetgroup": "tum-esm-midcost-raspi-4",
         "orientation": "v",
         "showlegend": true,
         "type": "histogram",
         "x": [
          -30.040196913012778,
          -36.83135013575156,
          -27.638385498772777,
          -24.632528915623197,
          -34.98975374945087,
          -34.471476114160055,
          -33.03709991596031,
          -35.069782031426485,
          -31.345177879368066,
          -30.88630571979786,
          -35.32368404172246,
          -38.52735860852897,
          -26.605212067548678,
          -30.796837679844884,
          -27.182257588485413,
          -28.780499208136234,
          -27.634941526784814,
          -35.29891931241923,
          -30.71031811089904,
          -31.27224093777795,
          -31.31878547890676,
          -37.13644324089819,
          -35.02936091222557,
          -38.344532834113465,
          -32.31024507631423,
          -30.88583648866029,
          -28.60246107582725
         ],
         "xaxis": "x",
         "yaxis": "y"
        },
        {
         "alignmentgroup": "True",
         "bingroup": "x",
         "hovertemplate": "system_name=tum-esm-midcost-raspi-3<br>intercept=%{x}<br>count=%{y}<extra></extra>",
         "legendgroup": "tum-esm-midcost-raspi-3",
         "marker": {
          "color": "#FF97FF",
          "pattern": {
           "shape": ""
          }
         },
         "name": "tum-esm-midcost-raspi-3",
         "offsetgroup": "tum-esm-midcost-raspi-3",
         "orientation": "v",
         "showlegend": true,
         "type": "histogram",
         "x": [
          -26.11988094490357,
          -20.022924528144017,
          -17.934593080289346,
          -26.124183902947948,
          -27.1126180484506,
          -22.56066208877121,
          -20.809353503497277,
          -18.349194829468843,
          -16.749002214530492,
          -20.22410321410166,
          -19.567416594524275,
          -19.293943561060928,
          -18.739400737845813,
          -26.21098178049408,
          -22.870051336709935,
          -18.017272636057328,
          -19.706888927240016,
          -11.931982443135553,
          -16.79456643204219,
          -16.31361606551218,
          -22.42728570706629,
          -22.948177686164854,
          -22.716944127158172,
          -16.309169041526275,
          -23.42105044358857,
          -20.011310364518863,
          -23.493871831925844,
          -20.28073625983052,
          -19.55908263947265,
          -16.314939958450054,
          -19.938669167245962,
          -20.18178188753609,
          -20.182885282077223,
          -26.054430775508536,
          -22.734795064781792,
          -20.32115027638531
         ],
         "xaxis": "x",
         "yaxis": "y"
        },
        {
         "alignmentgroup": "True",
         "bingroup": "x",
         "hovertemplate": "system_name=tum-esm-midcost-raspi-1<br>intercept=%{x}<br>count=%{y}<extra></extra>",
         "legendgroup": "tum-esm-midcost-raspi-1",
         "marker": {
          "color": "#FECB52",
          "pattern": {
           "shape": ""
          }
         },
         "name": "tum-esm-midcost-raspi-1",
         "offsetgroup": "tum-esm-midcost-raspi-1",
         "orientation": "v",
         "showlegend": true,
         "type": "histogram",
         "x": [
          -31.776805438140627,
          -33.122405807232894,
          -41.89059987475355,
          -36.30531543842767,
          -33.37822506796124,
          -31.62410288285264,
          -29.87048257821266,
          -31.463674307714655,
          -28.571238484226797,
          -32.31340716696889,
          -33.130545088477106,
          -33.843303265401005,
          -28.34130832878759,
          -29.42521132244019,
          -42.045034541132964,
          -33.80362966886992,
          -37.12062329777757,
          -37.85200312624852,
          -33.29202221865114,
          -35.63280543283656,
          -30.180244874725872,
          -26.847916409212075,
          -29.461499042872447,
          -35.12202611475709,
          -37.88702819043897,
          -28.753479730503727
         ],
         "xaxis": "x",
         "yaxis": "y"
        },
        {
         "alignmentgroup": "True",
         "bingroup": "x",
         "hovertemplate": "system_name=tum-esm-midcost-raspi-8<br>intercept=%{x}<br>count=%{y}<extra></extra>",
         "legendgroup": "tum-esm-midcost-raspi-8",
         "marker": {
          "color": "#636efa",
          "pattern": {
           "shape": ""
          }
         },
         "name": "tum-esm-midcost-raspi-8",
         "offsetgroup": "tum-esm-midcost-raspi-8",
         "orientation": "v",
         "showlegend": true,
         "type": "histogram",
         "x": [
          -25.059317069236727,
          -29.392830492840062,
          -36.20352812007968,
          -30.626833432339367,
          -35.60332204690246,
          -30.049166111289992,
          -28.539992483582182,
          -20.060627237614767,
          -33.98998931155188,
          -30.29794398221736,
          -33.39781523724241,
          -26.774744635322918,
          -32.452711927200994,
          -27.253304365171516,
          -34.15354598288923,
          -29.800236708292573,
          -30.60359490565827,
          -26.872822074240162,
          -33.47192879764543,
          -32.50555719202271,
          -26.141958007417543,
          -37.91412967116628,
          -30.717646583283,
          -35.070730172097115,
          -29.759657237445367,
          -31.72188822177111,
          -34.699203393755965,
          -33.5935255976226
         ],
         "xaxis": "x",
         "yaxis": "y"
        },
        {
         "alignmentgroup": "True",
         "bingroup": "x",
         "hovertemplate": "system_name=tum-esm-midcost-raspi-6<br>intercept=%{x}<br>count=%{y}<extra></extra>",
         "legendgroup": "tum-esm-midcost-raspi-6",
         "marker": {
          "color": "#EF553B",
          "pattern": {
           "shape": ""
          }
         },
         "name": "tum-esm-midcost-raspi-6",
         "offsetgroup": "tum-esm-midcost-raspi-6",
         "orientation": "v",
         "showlegend": true,
         "type": "histogram",
         "x": [
          1.7570275029621598,
          6.342364225222013,
          1.9146992389870547,
          0.6935715622103089,
          2.48679344962693,
          1.971895931685367,
          0.15129879066921603,
          1.391475342190347,
          2.544167452024226,
          5.437252122879613,
          0.33420345740671564,
          0.4194025198937652,
          5.075191036017941,
          2.350332827701777,
          2.504639658912197,
          0.36497204867271194,
          0.0008386668614548398,
          6.121204125845566,
          3.408671423635383,
          2.0910352456766077
         ],
         "xaxis": "x",
         "yaxis": "y"
        },
        {
         "alignmentgroup": "True",
         "bingroup": "x",
         "hovertemplate": "system_name=tum-esm-midcost-raspi-7<br>intercept=%{x}<br>count=%{y}<extra></extra>",
         "legendgroup": "tum-esm-midcost-raspi-7",
         "marker": {
          "color": "#00cc96",
          "pattern": {
           "shape": ""
          }
         },
         "name": "tum-esm-midcost-raspi-7",
         "offsetgroup": "tum-esm-midcost-raspi-7",
         "orientation": "v",
         "showlegend": true,
         "type": "histogram",
         "x": [
          -21.998136928498184,
          -18.95383062391113,
          -17.62764331763924,
          -19.639925109360092,
          -17.910613375532193,
          -21.31908439691756,
          -16.899192971089292,
          -16.923641510726043,
          -19.088812175213093,
          -23.519339746970672,
          -21.177595246068904,
          -24.357942226440514,
          -23.32825465477515,
          -22.243925383632813,
          -22.43070367171606,
          -18.43738486062432,
          -20.22421872305665,
          -17.933339208561847,
          -21.058818527279186,
          -21.667228310707742
         ],
         "xaxis": "x",
         "yaxis": "y"
        },
        {
         "alignmentgroup": "True",
         "bingroup": "x",
         "hovertemplate": "system_name=tum-esm-midcost-raspi-15<br>intercept=%{x}<br>count=%{y}<extra></extra>",
         "legendgroup": "tum-esm-midcost-raspi-15",
         "marker": {
          "color": "#ab63fa",
          "pattern": {
           "shape": ""
          }
         },
         "name": "tum-esm-midcost-raspi-15",
         "offsetgroup": "tum-esm-midcost-raspi-15",
         "orientation": "v",
         "showlegend": true,
         "type": "histogram",
         "x": [
          -29.28575564859068,
          -30.131750733740887,
          -35.40642142876948,
          -30.42257049711975,
          -31.16558413905841,
          -26.05656366800963,
          -27.624437188658703,
          -32.307050596462545,
          -28.237316893830098,
          -31.326400146587275,
          -30.271115764357774,
          -28.1932615309114,
          -32.43786474564786,
          -25.36649212575253,
          -29.494106908879644,
          -29.713180465770392,
          -31.202938406522662,
          -35.079536392999785
         ],
         "xaxis": "x",
         "yaxis": "y"
        },
        {
         "alignmentgroup": "True",
         "bingroup": "x",
         "hovertemplate": "system_name=tum-esm-midcost-raspi-5<br>intercept=%{x}<br>count=%{y}<extra></extra>",
         "legendgroup": "tum-esm-midcost-raspi-5",
         "marker": {
          "color": "#FFA15A",
          "pattern": {
           "shape": ""
          }
         },
         "name": "tum-esm-midcost-raspi-5",
         "offsetgroup": "tum-esm-midcost-raspi-5",
         "orientation": "v",
         "showlegend": true,
         "type": "histogram",
         "x": [
          2.200847639015592,
          8.319603187705638,
          5.000786261048233,
          -0.23647835394535832,
          -0.3461726732260786,
          6.386693397992417,
          -0.7909715314768846,
          1.9543743439979835,
          6.635869342862065,
          4.517392530056668,
          3.2656845057525743,
          3.2345978107418887,
          -2.7992623492913253,
          -5.375919644013379,
          4.968007418806451,
          -0.3547803519570607,
          4.971680626180728,
          0.6110080911711293,
          3.6199042139903668
         ],
         "xaxis": "x",
         "yaxis": "y"
        },
        {
         "alignmentgroup": "True",
         "bingroup": "x",
         "hovertemplate": "system_name=tum-esm-midcost-raspi-13<br>intercept=%{x}<br>count=%{y}<extra></extra>",
         "legendgroup": "tum-esm-midcost-raspi-13",
         "marker": {
          "color": "#19d3f3",
          "pattern": {
           "shape": ""
          }
         },
         "name": "tum-esm-midcost-raspi-13",
         "offsetgroup": "tum-esm-midcost-raspi-13",
         "orientation": "v",
         "showlegend": true,
         "type": "histogram",
         "x": [
          -21.632253332340838,
          -24.24783122335191,
          -23.042712539041986,
          -27.288340561675113,
          -23.658976555417553,
          -24.253666703792305,
          -29.037278712406305,
          -24.447318217208817,
          -27.069786054942256,
          -27.497263074347075,
          -22.562153205849313,
          -27.097424642377177,
          -26.858088486839733,
          -21.00358656943422,
          -29.037662971562327,
          -29.82276137207964
         ],
         "xaxis": "x",
         "yaxis": "y"
        },
        {
         "alignmentgroup": "True",
         "bingroup": "x",
         "hovertemplate": "system_name=tum-esm-midcost-raspi-14<br>intercept=%{x}<br>count=%{y}<extra></extra>",
         "legendgroup": "tum-esm-midcost-raspi-14",
         "marker": {
          "color": "#FF6692",
          "pattern": {
           "shape": ""
          }
         },
         "name": "tum-esm-midcost-raspi-14",
         "offsetgroup": "tum-esm-midcost-raspi-14",
         "orientation": "v",
         "showlegend": true,
         "type": "histogram",
         "x": [
          -21.641091233716224,
          -19.781188254606036,
          -21.104728941415374,
          -24.38291000324034,
          -16.968785579678865,
          -17.21220522662668,
          -21.38237229215713,
          -14.072510903268494,
          -39.85360554717988,
          -15.390254079881629,
          -21.928591928627725
         ],
         "xaxis": "x",
         "yaxis": "y"
        }
       ],
       "layout": {
        "barmode": "relative",
        "legend": {
         "title": {
          "text": "system_name"
         },
         "tracegroupgap": 0
        },
        "margin": {
         "t": 60
        },
        "template": {
         "data": {
          "bar": [
           {
            "error_x": {
             "color": "#2a3f5f"
            },
            "error_y": {
             "color": "#2a3f5f"
            },
            "marker": {
             "line": {
              "color": "#E5ECF6",
              "width": 0.5
             },
             "pattern": {
              "fillmode": "overlay",
              "size": 10,
              "solidity": 0.2
             }
            },
            "type": "bar"
           }
          ],
          "barpolar": [
           {
            "marker": {
             "line": {
              "color": "#E5ECF6",
              "width": 0.5
             },
             "pattern": {
              "fillmode": "overlay",
              "size": 10,
              "solidity": 0.2
             }
            },
            "type": "barpolar"
           }
          ],
          "carpet": [
           {
            "aaxis": {
             "endlinecolor": "#2a3f5f",
             "gridcolor": "white",
             "linecolor": "white",
             "minorgridcolor": "white",
             "startlinecolor": "#2a3f5f"
            },
            "baxis": {
             "endlinecolor": "#2a3f5f",
             "gridcolor": "white",
             "linecolor": "white",
             "minorgridcolor": "white",
             "startlinecolor": "#2a3f5f"
            },
            "type": "carpet"
           }
          ],
          "choropleth": [
           {
            "colorbar": {
             "outlinewidth": 0,
             "ticks": ""
            },
            "type": "choropleth"
           }
          ],
          "contour": [
           {
            "colorbar": {
             "outlinewidth": 0,
             "ticks": ""
            },
            "colorscale": [
             [
              0,
              "#0d0887"
             ],
             [
              0.1111111111111111,
              "#46039f"
             ],
             [
              0.2222222222222222,
              "#7201a8"
             ],
             [
              0.3333333333333333,
              "#9c179e"
             ],
             [
              0.4444444444444444,
              "#bd3786"
             ],
             [
              0.5555555555555556,
              "#d8576b"
             ],
             [
              0.6666666666666666,
              "#ed7953"
             ],
             [
              0.7777777777777778,
              "#fb9f3a"
             ],
             [
              0.8888888888888888,
              "#fdca26"
             ],
             [
              1,
              "#f0f921"
             ]
            ],
            "type": "contour"
           }
          ],
          "contourcarpet": [
           {
            "colorbar": {
             "outlinewidth": 0,
             "ticks": ""
            },
            "type": "contourcarpet"
           }
          ],
          "heatmap": [
           {
            "colorbar": {
             "outlinewidth": 0,
             "ticks": ""
            },
            "colorscale": [
             [
              0,
              "#0d0887"
             ],
             [
              0.1111111111111111,
              "#46039f"
             ],
             [
              0.2222222222222222,
              "#7201a8"
             ],
             [
              0.3333333333333333,
              "#9c179e"
             ],
             [
              0.4444444444444444,
              "#bd3786"
             ],
             [
              0.5555555555555556,
              "#d8576b"
             ],
             [
              0.6666666666666666,
              "#ed7953"
             ],
             [
              0.7777777777777778,
              "#fb9f3a"
             ],
             [
              0.8888888888888888,
              "#fdca26"
             ],
             [
              1,
              "#f0f921"
             ]
            ],
            "type": "heatmap"
           }
          ],
          "heatmapgl": [
           {
            "colorbar": {
             "outlinewidth": 0,
             "ticks": ""
            },
            "colorscale": [
             [
              0,
              "#0d0887"
             ],
             [
              0.1111111111111111,
              "#46039f"
             ],
             [
              0.2222222222222222,
              "#7201a8"
             ],
             [
              0.3333333333333333,
              "#9c179e"
             ],
             [
              0.4444444444444444,
              "#bd3786"
             ],
             [
              0.5555555555555556,
              "#d8576b"
             ],
             [
              0.6666666666666666,
              "#ed7953"
             ],
             [
              0.7777777777777778,
              "#fb9f3a"
             ],
             [
              0.8888888888888888,
              "#fdca26"
             ],
             [
              1,
              "#f0f921"
             ]
            ],
            "type": "heatmapgl"
           }
          ],
          "histogram": [
           {
            "marker": {
             "pattern": {
              "fillmode": "overlay",
              "size": 10,
              "solidity": 0.2
             }
            },
            "type": "histogram"
           }
          ],
          "histogram2d": [
           {
            "colorbar": {
             "outlinewidth": 0,
             "ticks": ""
            },
            "colorscale": [
             [
              0,
              "#0d0887"
             ],
             [
              0.1111111111111111,
              "#46039f"
             ],
             [
              0.2222222222222222,
              "#7201a8"
             ],
             [
              0.3333333333333333,
              "#9c179e"
             ],
             [
              0.4444444444444444,
              "#bd3786"
             ],
             [
              0.5555555555555556,
              "#d8576b"
             ],
             [
              0.6666666666666666,
              "#ed7953"
             ],
             [
              0.7777777777777778,
              "#fb9f3a"
             ],
             [
              0.8888888888888888,
              "#fdca26"
             ],
             [
              1,
              "#f0f921"
             ]
            ],
            "type": "histogram2d"
           }
          ],
          "histogram2dcontour": [
           {
            "colorbar": {
             "outlinewidth": 0,
             "ticks": ""
            },
            "colorscale": [
             [
              0,
              "#0d0887"
             ],
             [
              0.1111111111111111,
              "#46039f"
             ],
             [
              0.2222222222222222,
              "#7201a8"
             ],
             [
              0.3333333333333333,
              "#9c179e"
             ],
             [
              0.4444444444444444,
              "#bd3786"
             ],
             [
              0.5555555555555556,
              "#d8576b"
             ],
             [
              0.6666666666666666,
              "#ed7953"
             ],
             [
              0.7777777777777778,
              "#fb9f3a"
             ],
             [
              0.8888888888888888,
              "#fdca26"
             ],
             [
              1,
              "#f0f921"
             ]
            ],
            "type": "histogram2dcontour"
           }
          ],
          "mesh3d": [
           {
            "colorbar": {
             "outlinewidth": 0,
             "ticks": ""
            },
            "type": "mesh3d"
           }
          ],
          "parcoords": [
           {
            "line": {
             "colorbar": {
              "outlinewidth": 0,
              "ticks": ""
             }
            },
            "type": "parcoords"
           }
          ],
          "pie": [
           {
            "automargin": true,
            "type": "pie"
           }
          ],
          "scatter": [
           {
            "fillpattern": {
             "fillmode": "overlay",
             "size": 10,
             "solidity": 0.2
            },
            "type": "scatter"
           }
          ],
          "scatter3d": [
           {
            "line": {
             "colorbar": {
              "outlinewidth": 0,
              "ticks": ""
             }
            },
            "marker": {
             "colorbar": {
              "outlinewidth": 0,
              "ticks": ""
             }
            },
            "type": "scatter3d"
           }
          ],
          "scattercarpet": [
           {
            "marker": {
             "colorbar": {
              "outlinewidth": 0,
              "ticks": ""
             }
            },
            "type": "scattercarpet"
           }
          ],
          "scattergeo": [
           {
            "marker": {
             "colorbar": {
              "outlinewidth": 0,
              "ticks": ""
             }
            },
            "type": "scattergeo"
           }
          ],
          "scattergl": [
           {
            "marker": {
             "colorbar": {
              "outlinewidth": 0,
              "ticks": ""
             }
            },
            "type": "scattergl"
           }
          ],
          "scattermapbox": [
           {
            "marker": {
             "colorbar": {
              "outlinewidth": 0,
              "ticks": ""
             }
            },
            "type": "scattermapbox"
           }
          ],
          "scatterpolar": [
           {
            "marker": {
             "colorbar": {
              "outlinewidth": 0,
              "ticks": ""
             }
            },
            "type": "scatterpolar"
           }
          ],
          "scatterpolargl": [
           {
            "marker": {
             "colorbar": {
              "outlinewidth": 0,
              "ticks": ""
             }
            },
            "type": "scatterpolargl"
           }
          ],
          "scatterternary": [
           {
            "marker": {
             "colorbar": {
              "outlinewidth": 0,
              "ticks": ""
             }
            },
            "type": "scatterternary"
           }
          ],
          "surface": [
           {
            "colorbar": {
             "outlinewidth": 0,
             "ticks": ""
            },
            "colorscale": [
             [
              0,
              "#0d0887"
             ],
             [
              0.1111111111111111,
              "#46039f"
             ],
             [
              0.2222222222222222,
              "#7201a8"
             ],
             [
              0.3333333333333333,
              "#9c179e"
             ],
             [
              0.4444444444444444,
              "#bd3786"
             ],
             [
              0.5555555555555556,
              "#d8576b"
             ],
             [
              0.6666666666666666,
              "#ed7953"
             ],
             [
              0.7777777777777778,
              "#fb9f3a"
             ],
             [
              0.8888888888888888,
              "#fdca26"
             ],
             [
              1,
              "#f0f921"
             ]
            ],
            "type": "surface"
           }
          ],
          "table": [
           {
            "cells": {
             "fill": {
              "color": "#EBF0F8"
             },
             "line": {
              "color": "white"
             }
            },
            "header": {
             "fill": {
              "color": "#C8D4E3"
             },
             "line": {
              "color": "white"
             }
            },
            "type": "table"
           }
          ]
         },
         "layout": {
          "annotationdefaults": {
           "arrowcolor": "#2a3f5f",
           "arrowhead": 0,
           "arrowwidth": 1
          },
          "autotypenumbers": "strict",
          "coloraxis": {
           "colorbar": {
            "outlinewidth": 0,
            "ticks": ""
           }
          },
          "colorscale": {
           "diverging": [
            [
             0,
             "#8e0152"
            ],
            [
             0.1,
             "#c51b7d"
            ],
            [
             0.2,
             "#de77ae"
            ],
            [
             0.3,
             "#f1b6da"
            ],
            [
             0.4,
             "#fde0ef"
            ],
            [
             0.5,
             "#f7f7f7"
            ],
            [
             0.6,
             "#e6f5d0"
            ],
            [
             0.7,
             "#b8e186"
            ],
            [
             0.8,
             "#7fbc41"
            ],
            [
             0.9,
             "#4d9221"
            ],
            [
             1,
             "#276419"
            ]
           ],
           "sequential": [
            [
             0,
             "#0d0887"
            ],
            [
             0.1111111111111111,
             "#46039f"
            ],
            [
             0.2222222222222222,
             "#7201a8"
            ],
            [
             0.3333333333333333,
             "#9c179e"
            ],
            [
             0.4444444444444444,
             "#bd3786"
            ],
            [
             0.5555555555555556,
             "#d8576b"
            ],
            [
             0.6666666666666666,
             "#ed7953"
            ],
            [
             0.7777777777777778,
             "#fb9f3a"
            ],
            [
             0.8888888888888888,
             "#fdca26"
            ],
            [
             1,
             "#f0f921"
            ]
           ],
           "sequentialminus": [
            [
             0,
             "#0d0887"
            ],
            [
             0.1111111111111111,
             "#46039f"
            ],
            [
             0.2222222222222222,
             "#7201a8"
            ],
            [
             0.3333333333333333,
             "#9c179e"
            ],
            [
             0.4444444444444444,
             "#bd3786"
            ],
            [
             0.5555555555555556,
             "#d8576b"
            ],
            [
             0.6666666666666666,
             "#ed7953"
            ],
            [
             0.7777777777777778,
             "#fb9f3a"
            ],
            [
             0.8888888888888888,
             "#fdca26"
            ],
            [
             1,
             "#f0f921"
            ]
           ]
          },
          "colorway": [
           "#636efa",
           "#EF553B",
           "#00cc96",
           "#ab63fa",
           "#FFA15A",
           "#19d3f3",
           "#FF6692",
           "#B6E880",
           "#FF97FF",
           "#FECB52"
          ],
          "font": {
           "color": "#2a3f5f"
          },
          "geo": {
           "bgcolor": "white",
           "lakecolor": "white",
           "landcolor": "#E5ECF6",
           "showlakes": true,
           "showland": true,
           "subunitcolor": "white"
          },
          "hoverlabel": {
           "align": "left"
          },
          "hovermode": "closest",
          "mapbox": {
           "style": "light"
          },
          "paper_bgcolor": "white",
          "plot_bgcolor": "#E5ECF6",
          "polar": {
           "angularaxis": {
            "gridcolor": "white",
            "linecolor": "white",
            "ticks": ""
           },
           "bgcolor": "#E5ECF6",
           "radialaxis": {
            "gridcolor": "white",
            "linecolor": "white",
            "ticks": ""
           }
          },
          "scene": {
           "xaxis": {
            "backgroundcolor": "#E5ECF6",
            "gridcolor": "white",
            "gridwidth": 2,
            "linecolor": "white",
            "showbackground": true,
            "ticks": "",
            "zerolinecolor": "white"
           },
           "yaxis": {
            "backgroundcolor": "#E5ECF6",
            "gridcolor": "white",
            "gridwidth": 2,
            "linecolor": "white",
            "showbackground": true,
            "ticks": "",
            "zerolinecolor": "white"
           },
           "zaxis": {
            "backgroundcolor": "#E5ECF6",
            "gridcolor": "white",
            "gridwidth": 2,
            "linecolor": "white",
            "showbackground": true,
            "ticks": "",
            "zerolinecolor": "white"
           }
          },
          "shapedefaults": {
           "line": {
            "color": "#2a3f5f"
           }
          },
          "ternary": {
           "aaxis": {
            "gridcolor": "white",
            "linecolor": "white",
            "ticks": ""
           },
           "baxis": {
            "gridcolor": "white",
            "linecolor": "white",
            "ticks": ""
           },
           "bgcolor": "#E5ECF6",
           "caxis": {
            "gridcolor": "white",
            "linecolor": "white",
            "ticks": ""
           }
          },
          "title": {
           "x": 0.05
          },
          "xaxis": {
           "automargin": true,
           "gridcolor": "white",
           "linecolor": "white",
           "ticks": "",
           "title": {
            "standoff": 15
           },
           "zerolinecolor": "white",
           "zerolinewidth": 2
          },
          "yaxis": {
           "automargin": true,
           "gridcolor": "white",
           "linecolor": "white",
           "ticks": "",
           "title": {
            "standoff": 15
           },
           "zerolinecolor": "white",
           "zerolinewidth": 2
          }
         }
        },
        "xaxis": {
         "anchor": "y",
         "domain": [
          0,
          1
         ],
         "title": {
          "text": "intercept"
         }
        },
        "yaxis": {
         "anchor": "x",
         "domain": [
          0,
          1
         ],
         "title": {
          "text": "count"
         }
        }
       }
      }
     },
     "metadata": {},
     "output_type": "display_data"
    }
   ],
   "source": [
    "fig = px.histogram(df_two_point_cal, x=\"slope\", color = \"system_name\")\n",
    "fig.show()\n",
    "fig = px.histogram(df_two_point_cal, x=\"intercept\", color = \"system_name\")\n",
    "fig.show()"
   ]
  },
  {
   "cell_type": "markdown",
   "metadata": {},
   "source": [
    "## Calculate SBS Performance"
   ]
  },
  {
   "cell_type": "code",
   "execution_count": 8,
   "metadata": {},
   "outputs": [],
   "source": [
    "# join on dataset\n",
    "\n",
    "df_acropolis.drop(\"slope\", \"intercept\", \"gmp343_corrected\").collect() \\\n",
    "    .join(df_two_point_cal, on=[\"date\", \"system_name\"], how=\"left\") \\\n",
    "    .with_columns([\n",
    "        ((pl.col(\"gmp343_dry\")) * pl.col(\"slope\") + pl.col(\"intercept\")).alias(\"gmp343_corrected\"),\n",
    "        ]) \\\n",
    "    .write_parquet(os.path.join(DATA_DIRECTORY, \"processed\", \"test_10m_cal_corr_acropolis.parquet\"))"
   ]
  },
  {
   "cell_type": "code",
   "execution_count": 9,
   "metadata": {},
   "outputs": [
    {
     "data": {
      "text/html": [
       "<div><style>\n",
       ".dataframe > thead > tr,\n",
       ".dataframe > tbody > tr {\n",
       "  text-align: right;\n",
       "  white-space: pre-wrap;\n",
       "}\n",
       "</style>\n",
       "<small>shape: (5, 56)</small><table border=\"1\" class=\"dataframe\"><thead><tr><th>system_name</th><th>creation_timestamp</th><th>gmp343_raw</th><th>gmp343_compensated</th><th>gmp343_filtered</th><th>gmp343_temperature</th><th>wxt532_speed_avg</th><th>wxt532_speed_min</th><th>wxt532_speed_max</th><th>wxt532_direction_avg</th><th>wxt532_direction_min</th><th>wxt532_direction_max</th><th>wxt532_last_update_time</th><th>raspi_cpu_usage</th><th>raspi_cpu_temperature</th><th>raspi_disk_usage</th><th>enclosure_bme280_humidity</th><th>enclosure_bme280_pressure</th><th>enclosure_bme280_temperature</th><th>sht45_humidity</th><th>sht45_temperature</th><th>bme280_humidity</th><th>bme280_temperature</th><th>bme280_pressure</th><th>cal_bottle_id</th><th>cal_gmp343_raw</th><th>cal_gmp343_compensated</th><th>cal_gmp343_filtered</th><th>cal_gmp343_temperature</th><th>cal_bme280_temperature</th><th>cal_bme280_humidity</th><th>cal_bme280_pressure</th><th>cal_sht45_temperature</th><th>cal_sht45_humidity</th><th>revision</th><th>receipt_timestamp</th><th>raspi_memory_usage</th><th>wxt532_temperature</th><th>wxt532_heating_voltage</th><th>wxt532_supply_voltage</th><th>wxt532_reference_voltage</th><th>ups_battery_error_detected</th><th>ups_battery_above_voltage_threshold</th><th>ups_battery_is_fully_charged</th><th>ups_powered_by_grid</th><th>date</th><th>slope</th><th>intercept</th><th>gmp343_dry</th><th>h2o_ah</th><th>h2o_ppm</th><th>CO2_corr</th><th>system_id</th><th>gmp343_corrected</th><th>diff</th><th>sys_name_short</th></tr><tr><td>str</td><td>datetime[μs, UTC]</td><td>f64</td><td>f64</td><td>f64</td><td>f64</td><td>f64</td><td>f64</td><td>f64</td><td>f64</td><td>f64</td><td>f64</td><td>f64</td><td>f64</td><td>f64</td><td>f64</td><td>f64</td><td>f64</td><td>f64</td><td>f64</td><td>f64</td><td>f64</td><td>f64</td><td>f64</td><td>f64</td><td>f64</td><td>f64</td><td>f64</td><td>f64</td><td>f64</td><td>f64</td><td>f64</td><td>f64</td><td>f64</td><td>f64</td><td>datetime[ns, UTC]</td><td>f64</td><td>f64</td><td>f64</td><td>f64</td><td>f64</td><td>f64</td><td>f64</td><td>f64</td><td>f64</td><td>date</td><td>struct[4]</td><td>struct[4]</td><td>f64</td><td>f64</td><td>f64</td><td>f64</td><td>i64</td><td>struct[4]</td><td>struct[4]</td><td>str</td></tr></thead><tbody><tr><td>&quot;tum-esm-midcos…</td><td>2023-06-01 00:00:00 UTC</td><td>null</td><td>null</td><td>null</td><td>null</td><td>0.94</td><td>0.26</td><td>1.66</td><td>104.2</td><td>123.2</td><td>294.2</td><td>1.6856e9</td><td>0.0312</td><td>53.52</td><td>0.426</td><td>15.154</td><td>956.434</td><td>33.662</td><td>null</td><td>null</td><td>null</td><td>null</td><td>null</td><td>null</td><td>null</td><td>null</td><td>null</td><td>null</td><td>null</td><td>null</td><td>null</td><td>null</td><td>null</td><td>null</td><td>null</td><td>null</td><td>null</td><td>null</td><td>null</td><td>null</td><td>null</td><td>null</td><td>null</td><td>null</td><td>2023-06-01</td><td>{null,null,null,null}</td><td>{null,null,null,null}</td><td>null</td><td>null</td><td>null</td><td>null</td><td>1</td><td>{null,null,null,null}</td><td>{null,null,null,null}</td><td>&quot;mid-cost-1&quot;</td></tr><tr><td>&quot;tum-esm-midcos…</td><td>2023-06-01 00:10:00 UTC</td><td>null</td><td>null</td><td>null</td><td>null</td><td>1.12</td><td>0.44</td><td>1.74</td><td>47.0</td><td>87.8</td><td>218.2</td><td>1.6856e9</td><td>0.0438</td><td>53.88</td><td>0.426</td><td>15.228</td><td>956.448</td><td>33.5</td><td>null</td><td>null</td><td>null</td><td>null</td><td>null</td><td>null</td><td>null</td><td>null</td><td>null</td><td>null</td><td>null</td><td>null</td><td>null</td><td>null</td><td>null</td><td>null</td><td>null</td><td>null</td><td>null</td><td>null</td><td>null</td><td>null</td><td>null</td><td>null</td><td>null</td><td>null</td><td>2023-06-01</td><td>{null,null,null,null}</td><td>{null,null,null,null}</td><td>null</td><td>null</td><td>null</td><td>null</td><td>1</td><td>{null,null,null,null}</td><td>{null,null,null,null}</td><td>&quot;mid-cost-1&quot;</td></tr><tr><td>&quot;tum-esm-midcos…</td><td>2023-06-01 00:20:00 UTC</td><td>null</td><td>null</td><td>null</td><td>null</td><td>0.675</td><td>0.275</td><td>1.35</td><td>57.75</td><td>107.0</td><td>262.0</td><td>1.6856e9</td><td>0.0335</td><td>53.875</td><td>0.426</td><td>15.2375</td><td>956.4725</td><td>33.585</td><td>null</td><td>null</td><td>null</td><td>null</td><td>null</td><td>null</td><td>null</td><td>null</td><td>null</td><td>null</td><td>null</td><td>null</td><td>null</td><td>null</td><td>null</td><td>null</td><td>null</td><td>null</td><td>null</td><td>null</td><td>null</td><td>null</td><td>null</td><td>null</td><td>null</td><td>null</td><td>2023-06-01</td><td>{null,null,null,null}</td><td>{null,null,null,null}</td><td>null</td><td>null</td><td>null</td><td>null</td><td>1</td><td>{null,null,null,null}</td><td>{null,null,null,null}</td><td>&quot;mid-cost-1&quot;</td></tr><tr><td>&quot;tum-esm-midcos…</td><td>2023-06-01 00:30:00 UTC</td><td>null</td><td>null</td><td>null</td><td>null</td><td>0.66</td><td>0.22</td><td>1.26</td><td>168.2</td><td>81.6</td><td>174.8</td><td>1.6856e9</td><td>0.0418</td><td>53.4</td><td>0.426</td><td>15.024</td><td>956.406</td><td>34.104</td><td>null</td><td>null</td><td>null</td><td>null</td><td>null</td><td>null</td><td>null</td><td>null</td><td>null</td><td>null</td><td>null</td><td>null</td><td>null</td><td>null</td><td>null</td><td>null</td><td>null</td><td>null</td><td>null</td><td>null</td><td>null</td><td>null</td><td>null</td><td>null</td><td>null</td><td>null</td><td>2023-06-01</td><td>{null,null,null,null}</td><td>{null,null,null,null}</td><td>null</td><td>null</td><td>null</td><td>null</td><td>1</td><td>{null,null,null,null}</td><td>{null,null,null,null}</td><td>&quot;mid-cost-1&quot;</td></tr><tr><td>&quot;tum-esm-midcos…</td><td>2023-06-01 00:40:00 UTC</td><td>null</td><td>null</td><td>null</td><td>null</td><td>1.04</td><td>0.38</td><td>1.82</td><td>62.4</td><td>89.0</td><td>287.6</td><td>1.6856e9</td><td>0.0436</td><td>54.0</td><td>0.426</td><td>14.796</td><td>956.312</td><td>34.432</td><td>null</td><td>null</td><td>null</td><td>null</td><td>null</td><td>null</td><td>null</td><td>null</td><td>null</td><td>null</td><td>null</td><td>null</td><td>null</td><td>null</td><td>null</td><td>null</td><td>null</td><td>null</td><td>null</td><td>null</td><td>null</td><td>null</td><td>null</td><td>null</td><td>null</td><td>null</td><td>2023-06-01</td><td>{null,null,null,null}</td><td>{null,null,null,null}</td><td>null</td><td>null</td><td>null</td><td>null</td><td>1</td><td>{null,null,null,null}</td><td>{null,null,null,null}</td><td>&quot;mid-cost-1&quot;</td></tr></tbody></table></div>"
      ],
      "text/plain": [
       "shape: (5, 56)\n",
       "┌───────────┬───────────┬───────────┬───────────┬───┬───────────┬───────────┬───────────┬──────────┐\n",
       "│ system_na ┆ creation_ ┆ gmp343_ra ┆ gmp343_co ┆ … ┆ system_id ┆ gmp343_co ┆ diff      ┆ sys_name │\n",
       "│ me        ┆ timestamp ┆ w         ┆ mpensated ┆   ┆ ---       ┆ rrected   ┆ ---       ┆ _short   │\n",
       "│ ---       ┆ ---       ┆ ---       ┆ ---       ┆   ┆ i64       ┆ ---       ┆ struct[4] ┆ ---      │\n",
       "│ str       ┆ datetime[ ┆ f64       ┆ f64       ┆   ┆           ┆ struct[4] ┆           ┆ str      │\n",
       "│           ┆ μs, UTC]  ┆           ┆           ┆   ┆           ┆           ┆           ┆          │\n",
       "╞═══════════╪═══════════╪═══════════╪═══════════╪═══╪═══════════╪═══════════╪═══════════╪══════════╡\n",
       "│ tum-esm-m ┆ 2023-06-0 ┆ null      ┆ null      ┆ … ┆ 1         ┆ {null,nul ┆ {null,nul ┆ mid-cost │\n",
       "│ idcost-ra ┆ 1         ┆           ┆           ┆   ┆           ┆ l,null,nu ┆ l,null,nu ┆ -1       │\n",
       "│ spi-1     ┆ 00:00:00  ┆           ┆           ┆   ┆           ┆ ll}       ┆ ll}       ┆          │\n",
       "│           ┆ UTC       ┆           ┆           ┆   ┆           ┆           ┆           ┆          │\n",
       "│ tum-esm-m ┆ 2023-06-0 ┆ null      ┆ null      ┆ … ┆ 1         ┆ {null,nul ┆ {null,nul ┆ mid-cost │\n",
       "│ idcost-ra ┆ 1         ┆           ┆           ┆   ┆           ┆ l,null,nu ┆ l,null,nu ┆ -1       │\n",
       "│ spi-1     ┆ 00:10:00  ┆           ┆           ┆   ┆           ┆ ll}       ┆ ll}       ┆          │\n",
       "│           ┆ UTC       ┆           ┆           ┆   ┆           ┆           ┆           ┆          │\n",
       "│ tum-esm-m ┆ 2023-06-0 ┆ null      ┆ null      ┆ … ┆ 1         ┆ {null,nul ┆ {null,nul ┆ mid-cost │\n",
       "│ idcost-ra ┆ 1         ┆           ┆           ┆   ┆           ┆ l,null,nu ┆ l,null,nu ┆ -1       │\n",
       "│ spi-1     ┆ 00:20:00  ┆           ┆           ┆   ┆           ┆ ll}       ┆ ll}       ┆          │\n",
       "│           ┆ UTC       ┆           ┆           ┆   ┆           ┆           ┆           ┆          │\n",
       "│ tum-esm-m ┆ 2023-06-0 ┆ null      ┆ null      ┆ … ┆ 1         ┆ {null,nul ┆ {null,nul ┆ mid-cost │\n",
       "│ idcost-ra ┆ 1         ┆           ┆           ┆   ┆           ┆ l,null,nu ┆ l,null,nu ┆ -1       │\n",
       "│ spi-1     ┆ 00:30:00  ┆           ┆           ┆   ┆           ┆ ll}       ┆ ll}       ┆          │\n",
       "│           ┆ UTC       ┆           ┆           ┆   ┆           ┆           ┆           ┆          │\n",
       "│ tum-esm-m ┆ 2023-06-0 ┆ null      ┆ null      ┆ … ┆ 1         ┆ {null,nul ┆ {null,nul ┆ mid-cost │\n",
       "│ idcost-ra ┆ 1         ┆           ┆           ┆   ┆           ┆ l,null,nu ┆ l,null,nu ┆ -1       │\n",
       "│ spi-1     ┆ 00:40:00  ┆           ┆           ┆   ┆           ┆ ll}       ┆ ll}       ┆          │\n",
       "│           ┆ UTC       ┆           ┆           ┆   ┆           ┆           ┆           ┆          │\n",
       "└───────────┴───────────┴───────────┴───────────┴───┴───────────┴───────────┴───────────┴──────────┘"
      ]
     },
     "execution_count": 9,
     "metadata": {},
     "output_type": "execute_result"
    }
   ],
   "source": [
    "df_acropolis.head().collect()"
   ]
  },
  {
   "cell_type": "markdown",
   "metadata": {},
   "source": [
    "## Correlation Plot"
   ]
  },
  {
   "cell_type": "code",
   "execution_count": 11,
   "metadata": {},
   "outputs": [
    {
     "ename": "ColumnNotFoundError",
     "evalue": "date\n\nError originated just after this operation:\nDF [\"creation_timestamp\", \"system_name\", \"gmp343_raw\", \"gmp343_compensated\"]; PROJECT */48 COLUMNS; SELECTION: \"None\"",
     "output_type": "error",
     "traceback": [
      "\u001b[0;31m---------------------------------------------------------------------------\u001b[0m",
      "\u001b[0;31mColumnNotFoundError\u001b[0m                       Traceback (most recent call last)",
      "Cell \u001b[0;32mIn[11], line 1\u001b[0m\n\u001b[0;32m----> 1\u001b[0m corr \u001b[38;5;241m=\u001b[39m \u001b[43mdf_filtered\u001b[49m\u001b[38;5;241;43m.\u001b[39;49m\u001b[43mjoin\u001b[49m\u001b[43m(\u001b[49m\u001b[43mdf_two_point_cal\u001b[49m\u001b[43m,\u001b[49m\u001b[43m \u001b[49m\u001b[43mon\u001b[49m\u001b[38;5;241;43m=\u001b[39;49m\u001b[43m[\u001b[49m\u001b[38;5;124;43m\"\u001b[39;49m\u001b[38;5;124;43mdate\u001b[39;49m\u001b[38;5;124;43m\"\u001b[39;49m\u001b[43m,\u001b[49m\u001b[43m \u001b[49m\u001b[38;5;124;43m\"\u001b[39;49m\u001b[38;5;124;43msystem_name\u001b[39;49m\u001b[38;5;124;43m\"\u001b[39;49m\u001b[43m]\u001b[49m\u001b[43m,\u001b[49m\u001b[43m \u001b[49m\u001b[43mhow\u001b[49m\u001b[38;5;241;43m=\u001b[39;49m\u001b[38;5;124;43m\"\u001b[39;49m\u001b[38;5;124;43mleft\u001b[39;49m\u001b[38;5;124;43m\"\u001b[39;49m\u001b[43m)\u001b[49m \\\n\u001b[1;32m      2\u001b[0m     \u001b[38;5;241m.\u001b[39mselect(\u001b[38;5;124m\"\u001b[39m\u001b[38;5;124mmedian_cal_sht45_humidity\u001b[39m\u001b[38;5;124m\"\u001b[39m, \u001b[38;5;124m\"\u001b[39m\u001b[38;5;124mmedian_cal_gmp343_temperature\u001b[39m\u001b[38;5;124m\"\u001b[39m, \u001b[38;5;124m\"\u001b[39m\u001b[38;5;124mmedian_cal_bme280_pressure\u001b[39m\u001b[38;5;124m\"\u001b[39m ,\u001b[38;5;124m\"\u001b[39m\u001b[38;5;124mmedian_cal_gmp343_dry\u001b[39m\u001b[38;5;124m\"\u001b[39m, \u001b[38;5;124m\"\u001b[39m\u001b[38;5;124mdiff_cut_avg_gmp343_dry\u001b[39m\u001b[38;5;124m\"\u001b[39m, \u001b[38;5;124m\"\u001b[39m\u001b[38;5;124mslope\u001b[39m\u001b[38;5;124m\"\u001b[39m, \u001b[38;5;124m\"\u001b[39m\u001b[38;5;124mintercept\u001b[39m\u001b[38;5;124m\"\u001b[39m) \\\n\u001b[1;32m      3\u001b[0m     \u001b[38;5;241m.\u001b[39mto_pandas() \\\n\u001b[1;32m      4\u001b[0m     \u001b[38;5;241m.\u001b[39mcorr()\n",
      "File \u001b[0;32m~/Documents/PROJECTS/acropolis-visualisation/.venv/lib/python3.11/site-packages/polars/dataframe/frame.py:6408\u001b[0m, in \u001b[0;36mDataFrame.join\u001b[0;34m(self, other, on, how, left_on, right_on, suffix, validate, join_nulls)\u001b[0m\n\u001b[1;32m   6393\u001b[0m     msg \u001b[38;5;241m=\u001b[39m \u001b[38;5;124mf\u001b[39m\u001b[38;5;124m\"\u001b[39m\u001b[38;5;124mexpected `other` join table to be a DataFrame, got \u001b[39m\u001b[38;5;132;01m{\u001b[39;00m\u001b[38;5;28mtype\u001b[39m(other)\u001b[38;5;241m.\u001b[39m\u001b[38;5;18m__name__\u001b[39m\u001b[38;5;132;01m!r}\u001b[39;00m\u001b[38;5;124m\"\u001b[39m\n\u001b[1;32m   6394\u001b[0m     \u001b[38;5;28;01mraise\u001b[39;00m \u001b[38;5;167;01mTypeError\u001b[39;00m(msg)\n\u001b[1;32m   6396\u001b[0m \u001b[38;5;28;01mreturn\u001b[39;00m (\n\u001b[1;32m   6397\u001b[0m     \u001b[38;5;28;43mself\u001b[39;49m\u001b[38;5;241;43m.\u001b[39;49m\u001b[43mlazy\u001b[49m\u001b[43m(\u001b[49m\u001b[43m)\u001b[49m\n\u001b[1;32m   6398\u001b[0m \u001b[43m    \u001b[49m\u001b[38;5;241;43m.\u001b[39;49m\u001b[43mjoin\u001b[49m\u001b[43m(\u001b[49m\n\u001b[1;32m   6399\u001b[0m \u001b[43m        \u001b[49m\u001b[43mother\u001b[49m\u001b[38;5;241;43m=\u001b[39;49m\u001b[43mother\u001b[49m\u001b[38;5;241;43m.\u001b[39;49m\u001b[43mlazy\u001b[49m\u001b[43m(\u001b[49m\u001b[43m)\u001b[49m\u001b[43m,\u001b[49m\n\u001b[1;32m   6400\u001b[0m \u001b[43m        \u001b[49m\u001b[43mleft_on\u001b[49m\u001b[38;5;241;43m=\u001b[39;49m\u001b[43mleft_on\u001b[49m\u001b[43m,\u001b[49m\n\u001b[1;32m   6401\u001b[0m \u001b[43m        \u001b[49m\u001b[43mright_on\u001b[49m\u001b[38;5;241;43m=\u001b[39;49m\u001b[43mright_on\u001b[49m\u001b[43m,\u001b[49m\n\u001b[1;32m   6402\u001b[0m \u001b[43m        \u001b[49m\u001b[43mon\u001b[49m\u001b[38;5;241;43m=\u001b[39;49m\u001b[43mon\u001b[49m\u001b[43m,\u001b[49m\n\u001b[1;32m   6403\u001b[0m \u001b[43m        \u001b[49m\u001b[43mhow\u001b[49m\u001b[38;5;241;43m=\u001b[39;49m\u001b[43mhow\u001b[49m\u001b[43m,\u001b[49m\n\u001b[1;32m   6404\u001b[0m \u001b[43m        \u001b[49m\u001b[43msuffix\u001b[49m\u001b[38;5;241;43m=\u001b[39;49m\u001b[43msuffix\u001b[49m\u001b[43m,\u001b[49m\n\u001b[1;32m   6405\u001b[0m \u001b[43m        \u001b[49m\u001b[43mvalidate\u001b[49m\u001b[38;5;241;43m=\u001b[39;49m\u001b[43mvalidate\u001b[49m\u001b[43m,\u001b[49m\n\u001b[1;32m   6406\u001b[0m \u001b[43m        \u001b[49m\u001b[43mjoin_nulls\u001b[49m\u001b[38;5;241;43m=\u001b[39;49m\u001b[43mjoin_nulls\u001b[49m\u001b[43m,\u001b[49m\n\u001b[1;32m   6407\u001b[0m \u001b[43m    \u001b[49m\u001b[43m)\u001b[49m\n\u001b[0;32m-> 6408\u001b[0m \u001b[43m    \u001b[49m\u001b[38;5;241;43m.\u001b[39;49m\u001b[43mcollect\u001b[49m\u001b[43m(\u001b[49m\u001b[43m_eager\u001b[49m\u001b[38;5;241;43m=\u001b[39;49m\u001b[38;5;28;43;01mTrue\u001b[39;49;00m\u001b[43m)\u001b[49m\n\u001b[1;32m   6409\u001b[0m )\n",
      "File \u001b[0;32m~/Documents/PROJECTS/acropolis-visualisation/.venv/lib/python3.11/site-packages/polars/lazyframe/frame.py:1937\u001b[0m, in \u001b[0;36mLazyFrame.collect\u001b[0;34m(self, type_coercion, predicate_pushdown, projection_pushdown, simplify_expression, slice_pushdown, comm_subplan_elim, comm_subexpr_elim, no_optimization, streaming, background, _eager)\u001b[0m\n\u001b[1;32m   1934\u001b[0m \u001b[38;5;28;01mif\u001b[39;00m background:\n\u001b[1;32m   1935\u001b[0m     \u001b[38;5;28;01mreturn\u001b[39;00m InProcessQuery(ldf\u001b[38;5;241m.\u001b[39mcollect_concurrently())\n\u001b[0;32m-> 1937\u001b[0m \u001b[38;5;28;01mreturn\u001b[39;00m wrap_df(ldf\u001b[38;5;241m.\u001b[39mcollect())\n",
      "\u001b[0;31mColumnNotFoundError\u001b[0m: date\n\nError originated just after this operation:\nDF [\"creation_timestamp\", \"system_name\", \"gmp343_raw\", \"gmp343_compensated\"]; PROJECT */48 COLUMNS; SELECTION: \"None\""
     ]
    }
   ],
   "source": [
    "corr = df_temp.join(df_two_point_cal, on=[\"date\", \"system_name\"], how=\"left\") \\\n",
    "    .select(\"median_cal_sht45_humidity\", \"median_cal_gmp343_temperature\", \"median_cal_bme280_pressure\" ,\"median_cal_gmp343_dry\", \"diff_cut_avg_gmp343_dry\", \"slope\", \"intercept\") \\\n",
    "    .to_pandas() \\\n",
    "    .corr()"
   ]
  },
  {
   "cell_type": "code",
   "execution_count": null,
   "metadata": {},
   "outputs": [],
   "source": [
    "plt.figure(figsize=(15,8))\n",
    "\n",
    "sns.heatmap(corr,\n",
    "    cmap=sns.diverging_palette(220, 10, as_cmap=True),\n",
    "    vmin=-1.0, vmax=1.0,\n",
    "    square=True,\n",
    "    xticklabels=1, yticklabels=1,\n",
    "    )\n",
    "\n",
    "plt.show()"
   ]
  }
 ],
 "metadata": {
  "kernelspec": {
   "display_name": ".venv",
   "language": "python",
   "name": "python3"
  },
  "language_info": {
   "codemirror_mode": {
    "name": "ipython",
    "version": 3
   },
   "file_extension": ".py",
   "mimetype": "text/x-python",
   "name": "python",
   "nbconvert_exporter": "python",
   "pygments_lexer": "ipython3",
   "version": "3.11.6"
  }
 },
 "nbformat": 4,
 "nbformat_minor": 2
}
