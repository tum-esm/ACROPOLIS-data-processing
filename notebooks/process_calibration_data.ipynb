{
 "cells": [
  {
   "cell_type": "code",
   "execution_count": 39,
   "metadata": {},
   "outputs": [],
   "source": [
    "from datetime import datetime\n",
    "from datetime import timezone\n",
    "import polars as pl\n",
    "import os\n",
    "\n",
    "acropolis_directory = \"/Users/patrickaigner/Documents/PROJECTS/ACROPOLIS/Software/quickflow/acropolis/\"\n",
    "#acropolis_directory = \"/Users/patrickaigner/Documents/PROJECTS/ACROPOLIS/Database/Old\""
   ]
  },
  {
   "cell_type": "code",
   "execution_count": 40,
   "metadata": {},
   "outputs": [
    {
     "data": {
      "text/html": [
       "<div><style>\n",
       ".dataframe > thead > tr > th,\n",
       ".dataframe > tbody > tr > td {\n",
       "  text-align: right;\n",
       "}\n",
       "</style>\n",
       "<small>shape: (3, 37)</small><table border=\"1\" class=\"dataframe\"><thead><tr><th>system_name</th><th>revision</th><th>creation_timestamp</th><th>receipt_timestamp</th><th>wxt532_direction_min</th><th>wxt532_speed_min</th><th>wxt532_last_update_time</th><th>wxt532_speed_avg</th><th>wxt532_direction_avg</th><th>wxt532_direction_max</th><th>wxt532_speed_max</th><th>gmp343_compensated</th><th>bme280_humidity</th><th>sht45_temperature</th><th>bme280_pressure</th><th>sht45_humidity</th><th>gmp343_raw</th><th>bme280_temperature</th><th>gmp343_filtered</th><th>gmp343_temperature</th><th>enclosure_bme280_humidity</th><th>raspi_cpu_usage</th><th>enclosure_bme280_pressure</th><th>raspi_cpu_temperature</th><th>raspi_disk_usage</th><th>raspi_memory_usage</th><th>enclosure_bme280_temperature</th><th>cal_gmp343_compensated</th><th>cal_gmp343_raw</th><th>cal_bme280_temperature</th><th>cal_gmp343_filtered</th><th>cal_sht45_temperature</th><th>cal_bme280_pressure</th><th>cal_sht45_humidity</th><th>cal_gmp343_temperature</th><th>cal_bme280_humidity</th><th>cal_bottle_id</th></tr><tr><td>str</td><td>i32</td><td>datetime[ns, UTC]</td><td>datetime[ns, UTC]</td><td>f64</td><td>f64</td><td>f64</td><td>f64</td><td>f64</td><td>f64</td><td>f64</td><td>f64</td><td>f64</td><td>f64</td><td>f64</td><td>f64</td><td>f64</td><td>f64</td><td>f64</td><td>f64</td><td>f64</td><td>f64</td><td>f64</td><td>f64</td><td>f64</td><td>f64</td><td>f64</td><td>f64</td><td>f64</td><td>f64</td><td>f64</td><td>f64</td><td>f64</td><td>f64</td><td>f64</td><td>f64</td><td>f64</td></tr></thead><tbody><tr><td>&quot;tum-esm-midcos…</td><td>23</td><td>2023-09-21 13:29:45.460 UTC</td><td>2023-09-21 13:29:47.860321 UTC</td><td>null</td><td>null</td><td>null</td><td>null</td><td>null</td><td>null</td><td>null</td><td>401.4</td><td>22.63</td><td>31.52</td><td>920.84</td><td>24.9</td><td>346.0</td><td>31.35</td><td>398.9</td><td>33.2</td><td>null</td><td>null</td><td>null</td><td>null</td><td>null</td><td>null</td><td>null</td><td>null</td><td>null</td><td>null</td><td>null</td><td>null</td><td>null</td><td>null</td><td>null</td><td>null</td><td>null</td></tr><tr><td>&quot;tum-esm-midcos…</td><td>23</td><td>2023-09-21 13:29:45.520 UTC</td><td>2023-09-21 13:29:47.924263 UTC</td><td>null</td><td>null</td><td>null</td><td>null</td><td>null</td><td>null</td><td>null</td><td>null</td><td>null</td><td>null</td><td>null</td><td>null</td><td>null</td><td>null</td><td>null</td><td>null</td><td>14.88</td><td>0.033</td><td>941.95</td><td>58.9</td><td>0.358</td><td>0.109</td><td>37.79</td><td>null</td><td>null</td><td>null</td><td>null</td><td>null</td><td>null</td><td>null</td><td>null</td><td>null</td><td>null</td></tr><tr><td>&quot;tum-esm-midcos…</td><td>23</td><td>2023-09-21 13:29:55.470 UTC</td><td>2023-09-21 13:29:56.827854 UTC</td><td>null</td><td>null</td><td>null</td><td>null</td><td>null</td><td>null</td><td>null</td><td>404.5</td><td>22.65</td><td>31.51</td><td>925.06</td><td>24.91</td><td>346.7</td><td>31.35</td><td>405.4</td><td>33.1</td><td>null</td><td>null</td><td>null</td><td>null</td><td>null</td><td>null</td><td>null</td><td>null</td><td>null</td><td>null</td><td>null</td><td>null</td><td>null</td><td>null</td><td>null</td><td>null</td><td>null</td></tr></tbody></table></div>"
      ],
      "text/plain": [
       "shape: (3, 37)\n",
       "┌───────────┬──────────┬────────────┬────────────┬───┬────────────┬────────────┬────────────┬────────────┐\n",
       "│ system_na ┆ revision ┆ creation_t ┆ receipt_ti ┆ … ┆ cal_sht45_ ┆ cal_gmp343 ┆ cal_bme280 ┆ cal_bottle │\n",
       "│ me        ┆ ---      ┆ imestamp   ┆ mestamp    ┆   ┆ humidity   ┆ _temperatu ┆ _humidity  ┆ _id        │\n",
       "│ ---       ┆ i32      ┆ ---        ┆ ---        ┆   ┆ ---        ┆ re         ┆ ---        ┆ ---        │\n",
       "│ str       ┆          ┆ datetime[n ┆ datetime[n ┆   ┆ f64        ┆ ---        ┆ f64        ┆ f64        │\n",
       "│           ┆          ┆ s, UTC]    ┆ s, UTC]    ┆   ┆            ┆ f64        ┆            ┆            │\n",
       "╞═══════════╪══════════╪════════════╪════════════╪═══╪════════════╪════════════╪════════════╪════════════╡\n",
       "│ tum-esm-m ┆ 23       ┆ 2023-09-21 ┆ 2023-09-21 ┆ … ┆ null       ┆ null       ┆ null       ┆ null       │\n",
       "│ idcost-ra ┆          ┆ 13:29:45.4 ┆ 13:29:47.8 ┆   ┆            ┆            ┆            ┆            │\n",
       "│ spi-5     ┆          ┆ 60 UTC     ┆ 60321 UTC  ┆   ┆            ┆            ┆            ┆            │\n",
       "│ tum-esm-m ┆ 23       ┆ 2023-09-21 ┆ 2023-09-21 ┆ … ┆ null       ┆ null       ┆ null       ┆ null       │\n",
       "│ idcost-ra ┆          ┆ 13:29:45.5 ┆ 13:29:47.9 ┆   ┆            ┆            ┆            ┆            │\n",
       "│ spi-5     ┆          ┆ 20 UTC     ┆ 24263 UTC  ┆   ┆            ┆            ┆            ┆            │\n",
       "│ tum-esm-m ┆ 23       ┆ 2023-09-21 ┆ 2023-09-21 ┆ … ┆ null       ┆ null       ┆ null       ┆ null       │\n",
       "│ idcost-ra ┆          ┆ 13:29:55.4 ┆ 13:29:56.8 ┆   ┆            ┆            ┆            ┆            │\n",
       "│ spi-5     ┆          ┆ 70 UTC     ┆ 27854 UTC  ┆   ┆            ┆            ┆            ┆            │\n",
       "└───────────┴──────────┴────────────┴────────────┴───┴────────────┴────────────┴────────────┴────────────┘"
      ]
     },
     "execution_count": 40,
     "metadata": {},
     "output_type": "execute_result"
    }
   ],
   "source": [
    "df = pl.scan_parquet(os.path.join(acropolis_directory, \"pivot_measurements.parquet\"))\n",
    "#df = pl.scan_parquet(os.path.join(acropolis_directory, \"old_db_renamed_measurements.parquet\"))\n",
    "\n",
    "df = df.sort(\"creation_timestamp\")\n",
    "df.head(3).collect()"
   ]
  },
  {
   "cell_type": "code",
   "execution_count": 41,
   "metadata": {},
   "outputs": [],
   "source": [
    "df = df.with_columns([pl.when(pl.col(\"cal_gmp343_filtered\") < 600).then(pl.col(\"cal_gmp343_filtered\")).otherwise(None).alias(\"cal_400\"),\n",
    "                      pl.when(pl.col(\"cal_gmp343_filtered\") > 600).then(pl.col(\"cal_gmp343_filtered\")).otherwise(None).alias(\"cal_800\"),\n",
    "                      pl.when(pl.col(\"cal_gmp343_filtered\") < 600).then(pl.col(\"cal_bottle_id\")).otherwise(None).alias(\"cal_bottle_id_400\"),\n",
    "                      pl.when(pl.col(\"cal_gmp343_filtered\") > 600).then(pl.col(\"cal_bottle_id\")).otherwise(None).alias(\"cal_bottle_id_800\")])"
   ]
  },
  {
   "cell_type": "code",
   "execution_count": 42,
   "metadata": {},
   "outputs": [],
   "source": [
    "dfg = df.groupby([pl.col(\"creation_timestamp\").dt.date(), pl.col(\"system_name\")]).agg([pl.col(\"cal_400\").drop_nulls(),\n",
    "                                                                                    pl.col(\"cal_800\").drop_nulls(),\n",
    "                                                                                    pl.col(\"cal_bottle_id_400\").drop_nulls().median(),\n",
    "                                                                                    pl.col(\"cal_bottle_id_800\").drop_nulls().median()])"
   ]
  },
  {
   "cell_type": "code",
   "execution_count": 43,
   "metadata": {},
   "outputs": [
    {
     "data": {
      "text/html": [
       "<div><style>\n",
       ".dataframe > thead > tr > th,\n",
       ".dataframe > tbody > tr > td {\n",
       "  text-align: right;\n",
       "}\n",
       "</style>\n",
       "<small>shape: (368, 6)</small><table border=\"1\" class=\"dataframe\"><thead><tr><th>creation_timestamp</th><th>system_name</th><th>mean_cal_400</th><th>mean_cal_800</th><th>cal_bottle_id_400</th><th>cal_bottle_id_800</th></tr><tr><td>date</td><td>str</td><td>f64</td><td>f64</td><td>f64</td><td>f64</td></tr></thead><tbody><tr><td>2023-09-21</td><td>&quot;tum-esm-midcos…</td><td>0.0</td><td>0.0</td><td>null</td><td>null</td></tr><tr><td>2023-09-21</td><td>&quot;tum-esm-midcos…</td><td>0.0</td><td>0.0</td><td>null</td><td>null</td></tr><tr><td>2023-09-22</td><td>&quot;tum-esm-midcos…</td><td>0.0</td><td>0.0</td><td>null</td><td>null</td></tr><tr><td>2023-09-23</td><td>&quot;tum-esm-midcos…</td><td>0.0</td><td>0.0</td><td>null</td><td>null</td></tr><tr><td>2023-09-23</td><td>&quot;tum-esm-midcos…</td><td>0.0</td><td>0.0</td><td>null</td><td>null</td></tr><tr><td>2023-09-24</td><td>&quot;tum-esm-midcos…</td><td>0.0</td><td>0.0</td><td>null</td><td>null</td></tr><tr><td>2023-09-24</td><td>&quot;tum-esm-midcos…</td><td>0.0</td><td>0.0</td><td>null</td><td>null</td></tr><tr><td>2023-09-24</td><td>&quot;tum-esm-midcos…</td><td>0.0</td><td>0.0</td><td>null</td><td>null</td></tr><tr><td>2023-09-25</td><td>&quot;tum-esm-midcos…</td><td>0.0</td><td>0.0</td><td>null</td><td>null</td></tr><tr><td>2023-09-25</td><td>&quot;tum-esm-midcos…</td><td>0.0</td><td>0.0</td><td>null</td><td>null</td></tr><tr><td>2023-09-25</td><td>&quot;tum-esm-midcos…</td><td>0.0</td><td>0.0</td><td>null</td><td>null</td></tr><tr><td>2023-09-26</td><td>&quot;tum-esm-midcos…</td><td>0.0</td><td>0.0</td><td>null</td><td>null</td></tr><tr><td>&hellip;</td><td>&hellip;</td><td>&hellip;</td><td>&hellip;</td><td>&hellip;</td><td>&hellip;</td></tr><tr><td>2023-10-10</td><td>&quot;tum-esm-midcos…</td><td>0.0</td><td>0.0</td><td>null</td><td>null</td></tr><tr><td>2023-10-10</td><td>&quot;tum-esm-midcos…</td><td>0.0</td><td>0.0</td><td>null</td><td>null</td></tr><tr><td>2023-10-10</td><td>&quot;tum-esm-midcos…</td><td>0.0</td><td>0.0</td><td>null</td><td>null</td></tr><tr><td>2023-10-10</td><td>&quot;tum-esm-midcos…</td><td>0.0</td><td>0.0</td><td>null</td><td>null</td></tr><tr><td>2023-10-11</td><td>&quot;tum-esm-midcos…</td><td>0.0</td><td>0.0</td><td>null</td><td>null</td></tr><tr><td>2023-10-12</td><td>&quot;tum-esm-midcos…</td><td>405.261111</td><td>819.479487</td><td>6.0</td><td>34.0</td></tr><tr><td>2023-10-13</td><td>&quot;tum-esm-midcos…</td><td>0.0</td><td>0.0</td><td>null</td><td>null</td></tr><tr><td>2023-10-14</td><td>&quot;tum-esm-midcos…</td><td>422.794444</td><td>835.602564</td><td>5.0</td><td>12.0</td></tr><tr><td>2023-10-14</td><td>&quot;tum-esm-midcos…</td><td>406.727778</td><td>810.815385</td><td>11.0</td><td>35.0</td></tr><tr><td>2023-10-14</td><td>&quot;tum-esm-midcos…</td><td>390.0375</td><td>794.609259</td><td>7.0</td><td>38.0</td></tr><tr><td>2023-10-14</td><td>&quot;tum-esm-midcos…</td><td>390.090741</td><td>789.730769</td><td>19.0</td><td>24.0</td></tr><tr><td>2023-10-14</td><td>&quot;tum-esm-midcos…</td><td>0.0</td><td>0.0</td><td>null</td><td>null</td></tr></tbody></table></div>"
      ],
      "text/plain": [
       "shape: (368, 6)\n",
       "┌─────────────────┬────────────────┬──────────────┬──────────────┬────────────────┬────────────────┐\n",
       "│ creation_timest ┆ system_name    ┆ mean_cal_400 ┆ mean_cal_800 ┆ cal_bottle_id_ ┆ cal_bottle_id_ │\n",
       "│ amp             ┆ ---            ┆ ---          ┆ ---          ┆ 400            ┆ 800            │\n",
       "│ ---             ┆ str            ┆ f64          ┆ f64          ┆ ---            ┆ ---            │\n",
       "│ date            ┆                ┆              ┆              ┆ f64            ┆ f64            │\n",
       "╞═════════════════╪════════════════╪══════════════╪══════════════╪════════════════╪════════════════╡\n",
       "│ 2023-09-21      ┆ tum-esm-midcos ┆ 0.0          ┆ 0.0          ┆ null           ┆ null           │\n",
       "│                 ┆ t-raspi-13     ┆              ┆              ┆                ┆                │\n",
       "│ 2023-09-21      ┆ tum-esm-midcos ┆ 0.0          ┆ 0.0          ┆ null           ┆ null           │\n",
       "│                 ┆ t-raspi-2      ┆              ┆              ┆                ┆                │\n",
       "│ 2023-09-22      ┆ tum-esm-midcos ┆ 0.0          ┆ 0.0          ┆ null           ┆ null           │\n",
       "│                 ┆ t-raspi-18     ┆              ┆              ┆                ┆                │\n",
       "│ 2023-09-23      ┆ tum-esm-midcos ┆ 0.0          ┆ 0.0          ┆ null           ┆ null           │\n",
       "│                 ┆ t-raspi-13     ┆              ┆              ┆                ┆                │\n",
       "│ …               ┆ …              ┆ …            ┆ …            ┆ …              ┆ …              │\n",
       "│ 2023-10-14      ┆ tum-esm-midcos ┆ 406.727778   ┆ 810.815385   ┆ 11.0           ┆ 35.0           │\n",
       "│                 ┆ t-raspi-7      ┆              ┆              ┆                ┆                │\n",
       "│ 2023-10-14      ┆ tum-esm-midcos ┆ 390.0375     ┆ 794.609259   ┆ 7.0            ┆ 38.0           │\n",
       "│                 ┆ t-raspi-6      ┆              ┆              ┆                ┆                │\n",
       "│ 2023-10-14      ┆ tum-esm-midcos ┆ 390.090741   ┆ 789.730769   ┆ 19.0           ┆ 24.0           │\n",
       "│                 ┆ t-raspi-12     ┆              ┆              ┆                ┆                │\n",
       "│ 2023-10-14      ┆ tum-esm-midcos ┆ 0.0          ┆ 0.0          ┆ null           ┆ null           │\n",
       "│                 ┆ t-raspi-20     ┆              ┆              ┆                ┆                │\n",
       "└─────────────────┴────────────────┴──────────────┴──────────────┴────────────────┴────────────────┘"
      ]
     },
     "execution_count": 43,
     "metadata": {},
     "output_type": "execute_result"
    }
   ],
   "source": [
    "def average_bottle(data):\n",
    "    data = data.to_list()\n",
    "    #2nd bottle\n",
    "    if 50 < len(data) < 70:\n",
    "        x = data[int(len(data)*0.3):int(len(data)*0.95)]\n",
    "        return sum(x) / len(x)\n",
    "    #1st bottle\n",
    "    elif 70 < len(data) < 130:\n",
    "        x = data[int(len(data)*0.5):int(len(data)*0.95)]\n",
    "        return sum(x) / len(x)\n",
    "    else:\n",
    "        return 0.0\n",
    "\n",
    "dfg = dfg.select([pl.col(\"creation_timestamp\"),\n",
    "            pl.col(\"system_name\"),\n",
    "            pl.col(\"cal_400\").apply(lambda x: average_bottle(x)).alias(\"mean_cal_400\"),\n",
    "            pl.col(\"cal_800\").apply(lambda x: average_bottle(x)).alias(\"mean_cal_800\"),\n",
    "            pl.col(\"cal_bottle_id_400\"),\n",
    "            pl.col(\"cal_bottle_id_800\")\n",
    "            ])\n",
    "\n",
    "dfg.collect()"
   ]
  },
  {
   "cell_type": "code",
   "execution_count": 44,
   "metadata": {},
   "outputs": [],
   "source": [
    "# Calculate slope and intercept"
   ]
  },
  {
   "cell_type": "code",
   "execution_count": 47,
   "metadata": {},
   "outputs": [
    {
     "data": {
      "text/html": [
       "<div><style>\n",
       ".dataframe > thead > tr > th,\n",
       ".dataframe > tbody > tr > td {\n",
       "  text-align: right;\n",
       "}\n",
       "</style>\n",
       "<small>shape: (4, 6)</small><table border=\"1\" class=\"dataframe\"><thead><tr><th>creation_timestamp</th><th>system_name</th><th>mean_cal_400</th><th>mean_cal_800</th><th>cal_bottle_id_400</th><th>cal_bottle_id_800</th></tr><tr><td>date</td><td>str</td><td>f64</td><td>f64</td><td>f64</td><td>f64</td></tr></thead><tbody><tr><td>2023-10-11</td><td>&quot;tum-esm-midcos…</td><td>397.5675</td><td>788.618519</td><td>22.0</td><td>29.0</td></tr><tr><td>2023-10-12</td><td>&quot;tum-esm-midcos…</td><td>381.666667</td><td>788.789744</td><td>22.0</td><td>29.0</td></tr><tr><td>2023-10-13</td><td>&quot;tum-esm-midcos…</td><td>398.046341</td><td>790.283019</td><td>22.0</td><td>29.0</td></tr><tr><td>2023-10-14</td><td>&quot;tum-esm-midcos…</td><td>396.424074</td><td>788.54359</td><td>22.0</td><td>29.0</td></tr></tbody></table></div>"
      ],
      "text/plain": [
       "shape: (4, 6)\n",
       "┌─────────────────┬────────────────┬──────────────┬──────────────┬────────────────┬────────────────┐\n",
       "│ creation_timest ┆ system_name    ┆ mean_cal_400 ┆ mean_cal_800 ┆ cal_bottle_id_ ┆ cal_bottle_id_ │\n",
       "│ amp             ┆ ---            ┆ ---          ┆ ---          ┆ 400            ┆ 800            │\n",
       "│ ---             ┆ str            ┆ f64          ┆ f64          ┆ ---            ┆ ---            │\n",
       "│ date            ┆                ┆              ┆              ┆ f64            ┆ f64            │\n",
       "╞═════════════════╪════════════════╪══════════════╪══════════════╪════════════════╪════════════════╡\n",
       "│ 2023-10-11      ┆ tum-esm-midcos ┆ 397.5675     ┆ 788.618519   ┆ 22.0           ┆ 29.0           │\n",
       "│                 ┆ t-raspi-5      ┆              ┆              ┆                ┆                │\n",
       "│ 2023-10-12      ┆ tum-esm-midcos ┆ 381.666667   ┆ 788.789744   ┆ 22.0           ┆ 29.0           │\n",
       "│                 ┆ t-raspi-5      ┆              ┆              ┆                ┆                │\n",
       "│ 2023-10-13      ┆ tum-esm-midcos ┆ 398.046341   ┆ 790.283019   ┆ 22.0           ┆ 29.0           │\n",
       "│                 ┆ t-raspi-5      ┆              ┆              ┆                ┆                │\n",
       "│ 2023-10-14      ┆ tum-esm-midcos ┆ 396.424074   ┆ 788.54359    ┆ 22.0           ┆ 29.0           │\n",
       "│                 ┆ t-raspi-5      ┆              ┆              ┆                ┆                │\n",
       "└─────────────────┴────────────────┴──────────────┴──────────────┴────────────────┴────────────────┘"
      ]
     },
     "execution_count": 47,
     "metadata": {},
     "output_type": "execute_result"
    }
   ],
   "source": [
    "dfg_test = dfg.sort(pl.col(\"creation_timestamp\")).filter(pl.col(\"system_name\") == \"tum-esm-midcost-raspi-5\").filter(pl.col(\"mean_cal_400\") > 0.0 )\n",
    "\n",
    "dfg_test.collect()"
   ]
  },
  {
   "cell_type": "code",
   "execution_count": 48,
   "metadata": {},
   "outputs": [
    {
     "data": {
      "image/png": "[encoded data removed]",
      "text/plain": [
       "<Figure size 640x480 with 1 Axes>"
      ]
     },
     "metadata": {},
     "output_type": "display_data"
    }
   ],
   "source": [
    "import seaborn as sns\n",
    "import matplotlib.pyplot as plt\n",
    "import matplotlib.dates as mdates\n",
    "\n",
    "sns.pointplot(data=dfg_test.collect().to_pandas(), x=\"creation_timestamp\", y=\"mean_cal_400\")\n",
    "sns.pointplot(data=dfg_test.collect().to_pandas(), x=\"creation_timestamp\", y=\"mean_cal_800\")\n",
    "plt.xticks(rotation=45)\n",
    "plt.gca().xaxis.set_major_formatter(mdates.DateFormatter(\"%d.%m\"))"
   ]
  }
 ],
 "metadata": {
  "kernelspec": {
   "display_name": ".venv",
   "language": "python",
   "name": "python3"
  },
  "language_info": {
   "codemirror_mode": {
    "name": "ipython",
    "version": 3
   },
   "file_extension": ".py",
   "mimetype": "text/x-python",
   "name": "python",
   "nbconvert_exporter": "python",
   "pygments_lexer": "ipython3",
   "version": "3.11.4"
  }
 },
 "nbformat": 4,
 "nbformat_minor": 2
}
