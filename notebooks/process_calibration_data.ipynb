{
 "cells": [
  {
   "cell_type": "code",
   "execution_count": 117,
   "metadata": {},
   "outputs": [],
   "source": [
    "from datetime import datetime\n",
    "from datetime import timezone\n",
    "import polars as pl\n",
    "import os\n",
    "\n",
    "acropolis_directory = \"/Users/patrickaigner/Documents/PROJECTS/ACROPOLIS/Software/quickflow/acropolis/\""
   ]
  },
  {
   "cell_type": "code",
   "execution_count": 118,
   "metadata": {},
   "outputs": [
    {
     "data": {
      "text/html": [
       "<div><style>\n",
       ".dataframe > thead > tr > th,\n",
       ".dataframe > tbody > tr > td {\n",
       "  text-align: right;\n",
       "}\n",
       "</style>\n",
       "<small>shape: (5, 37)</small><table border=\"1\" class=\"dataframe\"><thead><tr><th>system_name</th><th>revision</th><th>creation_timestamp</th><th>receipt_timestamp</th><th>wxt532_direction_min</th><th>wxt532_speed_min</th><th>wxt532_last_update_time</th><th>wxt532_speed_avg</th><th>wxt532_direction_avg</th><th>wxt532_direction_max</th><th>wxt532_speed_max</th><th>gmp343_compensated</th><th>bme280_humidity</th><th>sht45_temperature</th><th>bme280_pressure</th><th>sht45_humidity</th><th>gmp343_raw</th><th>bme280_temperature</th><th>gmp343_filtered</th><th>gmp343_temperature</th><th>enclosure_bme280_humidity</th><th>raspi_cpu_usage</th><th>enclosure_bme280_pressure</th><th>raspi_cpu_temperature</th><th>raspi_disk_usage</th><th>raspi_memory_usage</th><th>enclosure_bme280_temperature</th><th>cal_gmp343_compensated</th><th>cal_gmp343_raw</th><th>cal_bme280_temperature</th><th>cal_gmp343_filtered</th><th>cal_sht45_temperature</th><th>cal_bme280_pressure</th><th>cal_sht45_humidity</th><th>cal_gmp343_temperature</th><th>cal_bme280_humidity</th><th>cal_bottle_id</th></tr><tr><td>str</td><td>i32</td><td>datetime[ns, UTC]</td><td>datetime[ns, UTC]</td><td>f64</td><td>f64</td><td>f64</td><td>f64</td><td>f64</td><td>f64</td><td>f64</td><td>f64</td><td>f64</td><td>f64</td><td>f64</td><td>f64</td><td>f64</td><td>f64</td><td>f64</td><td>f64</td><td>f64</td><td>f64</td><td>f64</td><td>f64</td><td>f64</td><td>f64</td><td>f64</td><td>f64</td><td>f64</td><td>f64</td><td>f64</td><td>f64</td><td>f64</td><td>f64</td><td>f64</td><td>f64</td><td>f64</td></tr></thead><tbody><tr><td>&quot;tum-esm-midcos…</td><td>18</td><td>2023-10-13 14:22:32.970 UTC</td><td>2023-10-13 14:22:34.505739 UTC</td><td>null</td><td>null</td><td>null</td><td>null</td><td>null</td><td>null</td><td>null</td><td>405.3</td><td>15.45</td><td>31.12</td><td>934.16</td><td>19.81</td><td>357.5</td><td>31.04</td><td>410.3</td><td>32.6</td><td>null</td><td>null</td><td>null</td><td>null</td><td>null</td><td>null</td><td>null</td><td>null</td><td>null</td><td>null</td><td>null</td><td>null</td><td>null</td><td>null</td><td>null</td><td>null</td><td>null</td></tr><tr><td>&quot;tum-esm-midcos…</td><td>18</td><td>2023-10-13 14:22:42.980 UTC</td><td>2023-10-13 14:22:43.575448 UTC</td><td>null</td><td>null</td><td>null</td><td>null</td><td>null</td><td>null</td><td>null</td><td>404.9</td><td>15.33</td><td>31.1</td><td>935.39</td><td>19.63</td><td>356.3</td><td>31.04</td><td>404.1</td><td>32.6</td><td>null</td><td>null</td><td>null</td><td>null</td><td>null</td><td>null</td><td>null</td><td>null</td><td>null</td><td>null</td><td>null</td><td>null</td><td>null</td><td>null</td><td>null</td><td>null</td><td>null</td></tr><tr><td>&quot;tum-esm-midcos…</td><td>18</td><td>2023-10-13 14:22:52.990 UTC</td><td>2023-10-13 14:22:55.701969 UTC</td><td>null</td><td>null</td><td>null</td><td>null</td><td>null</td><td>null</td><td>null</td><td>404.0</td><td>15.23</td><td>31.13</td><td>936.08</td><td>19.56</td><td>356.1</td><td>31.04</td><td>404.8</td><td>32.6</td><td>null</td><td>null</td><td>null</td><td>null</td><td>null</td><td>null</td><td>null</td><td>null</td><td>null</td><td>null</td><td>null</td><td>null</td><td>null</td><td>null</td><td>null</td><td>null</td><td>null</td></tr><tr><td>&quot;tum-esm-midcos…</td><td>18</td><td>2023-10-13 14:23:03 UTC</td><td>2023-10-13 14:23:04.669123 UTC</td><td>null</td><td>null</td><td>null</td><td>null</td><td>null</td><td>null</td><td>null</td><td>402.9</td><td>15.17</td><td>31.12</td><td>934.92</td><td>19.48</td><td>355.4</td><td>31.04</td><td>402.0</td><td>32.6</td><td>null</td><td>null</td><td>null</td><td>null</td><td>null</td><td>null</td><td>null</td><td>null</td><td>null</td><td>null</td><td>null</td><td>null</td><td>null</td><td>null</td><td>null</td><td>null</td><td>null</td></tr><tr><td>&quot;tum-esm-midcos…</td><td>18</td><td>2023-10-13 14:23:13.010 UTC</td><td>2023-10-13 14:23:13.706551 UTC</td><td>null</td><td>null</td><td>null</td><td>null</td><td>null</td><td>null</td><td>null</td><td>409.7</td><td>15.33</td><td>31.12</td><td>935.63</td><td>19.68</td><td>360.8</td><td>31.04</td><td>405.0</td><td>32.6</td><td>null</td><td>null</td><td>null</td><td>null</td><td>null</td><td>null</td><td>null</td><td>null</td><td>null</td><td>null</td><td>null</td><td>null</td><td>null</td><td>null</td><td>null</td><td>null</td><td>null</td></tr></tbody></table></div>"
      ],
      "text/plain": [
       "shape: (5, 37)\n",
       "┌───────────┬──────────┬────────────┬────────────┬───┬────────────┬────────────┬────────────┬────────────┐\n",
       "│ system_na ┆ revision ┆ creation_t ┆ receipt_ti ┆ … ┆ cal_sht45_ ┆ cal_gmp343 ┆ cal_bme280 ┆ cal_bottle │\n",
       "│ me        ┆ ---      ┆ imestamp   ┆ mestamp    ┆   ┆ humidity   ┆ _temperatu ┆ _humidity  ┆ _id        │\n",
       "│ ---       ┆ i32      ┆ ---        ┆ ---        ┆   ┆ ---        ┆ re         ┆ ---        ┆ ---        │\n",
       "│ str       ┆          ┆ datetime[n ┆ datetime[n ┆   ┆ f64        ┆ ---        ┆ f64        ┆ f64        │\n",
       "│           ┆          ┆ s, UTC]    ┆ s, UTC]    ┆   ┆            ┆ f64        ┆            ┆            │\n",
       "╞═══════════╪══════════╪════════════╪════════════╪═══╪════════════╪════════════╪════════════╪════════════╡\n",
       "│ tum-esm-m ┆ 18       ┆ 2023-10-13 ┆ 2023-10-13 ┆ … ┆ null       ┆ null       ┆ null       ┆ null       │\n",
       "│ idcost-ra ┆          ┆ 14:22:32.9 ┆ 14:22:34.5 ┆   ┆            ┆            ┆            ┆            │\n",
       "│ spi-2     ┆          ┆ 70 UTC     ┆ 05739 UTC  ┆   ┆            ┆            ┆            ┆            │\n",
       "│ tum-esm-m ┆ 18       ┆ 2023-10-13 ┆ 2023-10-13 ┆ … ┆ null       ┆ null       ┆ null       ┆ null       │\n",
       "│ idcost-ra ┆          ┆ 14:22:42.9 ┆ 14:22:43.5 ┆   ┆            ┆            ┆            ┆            │\n",
       "│ spi-2     ┆          ┆ 80 UTC     ┆ 75448 UTC  ┆   ┆            ┆            ┆            ┆            │\n",
       "│ tum-esm-m ┆ 18       ┆ 2023-10-13 ┆ 2023-10-13 ┆ … ┆ null       ┆ null       ┆ null       ┆ null       │\n",
       "│ idcost-ra ┆          ┆ 14:22:52.9 ┆ 14:22:55.7 ┆   ┆            ┆            ┆            ┆            │\n",
       "│ spi-2     ┆          ┆ 90 UTC     ┆ 01969 UTC  ┆   ┆            ┆            ┆            ┆            │\n",
       "│ tum-esm-m ┆ 18       ┆ 2023-10-13 ┆ 2023-10-13 ┆ … ┆ null       ┆ null       ┆ null       ┆ null       │\n",
       "│ idcost-ra ┆          ┆ 14:23:03   ┆ 14:23:04.6 ┆   ┆            ┆            ┆            ┆            │\n",
       "│ spi-2     ┆          ┆ UTC        ┆ 69123 UTC  ┆   ┆            ┆            ┆            ┆            │\n",
       "│ tum-esm-m ┆ 18       ┆ 2023-10-13 ┆ 2023-10-13 ┆ … ┆ null       ┆ null       ┆ null       ┆ null       │\n",
       "│ idcost-ra ┆          ┆ 14:23:13.0 ┆ 14:23:13.7 ┆   ┆            ┆            ┆            ┆            │\n",
       "│ spi-2     ┆          ┆ 10 UTC     ┆ 06551 UTC  ┆   ┆            ┆            ┆            ┆            │\n",
       "└───────────┴──────────┴────────────┴────────────┴───┴────────────┴────────────┴────────────┴────────────┘"
      ]
     },
     "execution_count": 118,
     "metadata": {},
     "output_type": "execute_result"
    }
   ],
   "source": [
    "df = pl.scan_parquet(os.path.join(acropolis_directory, \"pivot_measurements.parquet\"))\n",
    "\n",
    "df = df.sort(\"creation_timestamp\").filter(pl.col(\"system_name\") == \"tum-esm-midcost-raspi-2\" ).sort(pl.col(\"creation_timestamp\"))\n",
    "df.tail(5).collect()"
   ]
  },
  {
   "cell_type": "code",
   "execution_count": 119,
   "metadata": {},
   "outputs": [],
   "source": [
    "df = df.with_columns(pl.when(pl.col(\"cal_gmp343_filtered\") < 600).then(pl.col(\"cal_gmp343_filtered\")).otherwise(None).alias(\"cal_400\"))\n",
    "\n",
    "df = df.with_columns(pl.when(pl.col(\"cal_gmp343_filtered\") > 600).then(pl.col(\"cal_gmp343_filtered\")).otherwise(None).alias(\"cal_800\"))"
   ]
  },
  {
   "cell_type": "code",
   "execution_count": 120,
   "metadata": {},
   "outputs": [
    {
     "data": {
      "text/html": [
       "<div><style>\n",
       ".dataframe > thead > tr > th,\n",
       ".dataframe > tbody > tr > td {\n",
       "  text-align: right;\n",
       "}\n",
       "</style>\n",
       "<small>shape: (23, 3)</small><table border=\"1\" class=\"dataframe\"><thead><tr><th>creation_timestamp</th><th>cal_400</th><th>cal_800</th></tr><tr><td>u32</td><td>list[f64]</td><td>list[f64]</td></tr></thead><tbody><tr><td>24</td><td>[]</td><td>[]</td></tr><tr><td>8</td><td>[]</td><td>[]</td></tr><tr><td>9</td><td>[]</td><td>[]</td></tr><tr><td>25</td><td>[]</td><td>[]</td></tr><tr><td>1</td><td>[]</td><td>[]</td></tr><tr><td>2</td><td>[]</td><td>[]</td></tr><tr><td>26</td><td>[]</td><td>[]</td></tr><tr><td>10</td><td>[]</td><td>[]</td></tr><tr><td>27</td><td>[]</td><td>[]</td></tr><tr><td>3</td><td>[]</td><td>[]</td></tr><tr><td>11</td><td>[]</td><td>[]</td></tr><tr><td>4</td><td>[]</td><td>[]</td></tr><tr><td>12</td><td>[407.2, 438.8, … 411.6]</td><td>[625.6, 745.5, … 774.1]</td></tr><tr><td>28</td><td>[]</td><td>[]</td></tr><tr><td>13</td><td>[463.2, 569.4, … 391.6]</td><td>[699.0, 760.1, … 710.6]</td></tr><tr><td>29</td><td>[]</td><td>[]</td></tr><tr><td>5</td><td>[]</td><td>[]</td></tr><tr><td>21</td><td>[]</td><td>[]</td></tr><tr><td>30</td><td>[]</td><td>[]</td></tr><tr><td>22</td><td>[]</td><td>[]</td></tr><tr><td>6</td><td>[]</td><td>[]</td></tr><tr><td>23</td><td>[]</td><td>[]</td></tr><tr><td>7</td><td>[]</td><td>[]</td></tr></tbody></table></div>"
      ],
      "text/plain": [
       "shape: (23, 3)\n",
       "┌────────────────────┬───────────┬───────────┐\n",
       "│ creation_timestamp ┆ cal_400   ┆ cal_800   │\n",
       "│ ---                ┆ ---       ┆ ---       │\n",
       "│ u32                ┆ list[f64] ┆ list[f64] │\n",
       "╞════════════════════╪═══════════╪═══════════╡\n",
       "│ 24                 ┆ []        ┆ []        │\n",
       "│ 8                  ┆ []        ┆ []        │\n",
       "│ 9                  ┆ []        ┆ []        │\n",
       "│ 25                 ┆ []        ┆ []        │\n",
       "│ …                  ┆ …         ┆ …         │\n",
       "│ 22                 ┆ []        ┆ []        │\n",
       "│ 6                  ┆ []        ┆ []        │\n",
       "│ 23                 ┆ []        ┆ []        │\n",
       "│ 7                  ┆ []        ┆ []        │\n",
       "└────────────────────┴───────────┴───────────┘"
      ]
     },
     "execution_count": 120,
     "metadata": {},
     "output_type": "execute_result"
    }
   ],
   "source": [
    "dfg = df.groupby(pl.col(\"creation_timestamp\").dt.day()).agg([pl.col(\"cal_400\").drop_nulls(),\n",
    "                                                             pl.col(\"cal_800\").drop_nulls()]).collect()\n",
    "dfg"
   ]
  },
  {
   "cell_type": "code",
   "execution_count": 121,
   "metadata": {},
   "outputs": [],
   "source": [
    "def average_bottle(data):\n",
    "    data = data.to_list()\n",
    "    #2nd bottle\n",
    "    if 0 < len(data) < 70:\n",
    "        x = data[int(len(data)*0.3):int(len(data)*0.95)]\n",
    "        return sum(x) / len(x)\n",
    "    #1st bottle\n",
    "    elif len(data) > 70:\n",
    "        x = data[int(len(data)*0.5):int(len(data)*0.95)]\n",
    "        return sum(x) / len(x)\n",
    "    else:\n",
    "        return 0.0"
   ]
  },
  {
   "cell_type": "code",
   "execution_count": 122,
   "metadata": {},
   "outputs": [
    {
     "data": {
      "text/html": [
       "<div><style>\n",
       ".dataframe > thead > tr > th,\n",
       ".dataframe > tbody > tr > td {\n",
       "  text-align: right;\n",
       "}\n",
       "</style>\n",
       "<small>shape: (23, 3)</small><table border=\"1\" class=\"dataframe\"><thead><tr><th>creation_timestamp</th><th>mean_cal_400</th><th>mean_cal_800</th></tr><tr><td>u32</td><td>f64</td><td>f64</td></tr></thead><tbody><tr><td>24</td><td>0.0</td><td>0.0</td></tr><tr><td>8</td><td>0.0</td><td>0.0</td></tr><tr><td>9</td><td>0.0</td><td>0.0</td></tr><tr><td>25</td><td>0.0</td><td>0.0</td></tr><tr><td>1</td><td>0.0</td><td>0.0</td></tr><tr><td>2</td><td>0.0</td><td>0.0</td></tr><tr><td>26</td><td>0.0</td><td>0.0</td></tr><tr><td>10</td><td>0.0</td><td>0.0</td></tr><tr><td>27</td><td>0.0</td><td>0.0</td></tr><tr><td>3</td><td>0.0</td><td>0.0</td></tr><tr><td>11</td><td>0.0</td><td>0.0</td></tr><tr><td>4</td><td>0.0</td><td>0.0</td></tr><tr><td>12</td><td>388.325926</td><td>776.166667</td></tr><tr><td>28</td><td>0.0</td><td>0.0</td></tr><tr><td>13</td><td>390.105</td><td>778.864815</td></tr><tr><td>29</td><td>0.0</td><td>0.0</td></tr><tr><td>5</td><td>0.0</td><td>0.0</td></tr><tr><td>21</td><td>0.0</td><td>0.0</td></tr><tr><td>30</td><td>0.0</td><td>0.0</td></tr><tr><td>22</td><td>0.0</td><td>0.0</td></tr><tr><td>6</td><td>0.0</td><td>0.0</td></tr><tr><td>23</td><td>0.0</td><td>0.0</td></tr><tr><td>7</td><td>0.0</td><td>0.0</td></tr></tbody></table></div>"
      ],
      "text/plain": [
       "shape: (23, 3)\n",
       "┌────────────────────┬──────────────┬──────────────┐\n",
       "│ creation_timestamp ┆ mean_cal_400 ┆ mean_cal_800 │\n",
       "│ ---                ┆ ---          ┆ ---          │\n",
       "│ u32                ┆ f64          ┆ f64          │\n",
       "╞════════════════════╪══════════════╪══════════════╡\n",
       "│ 24                 ┆ 0.0          ┆ 0.0          │\n",
       "│ 8                  ┆ 0.0          ┆ 0.0          │\n",
       "│ 9                  ┆ 0.0          ┆ 0.0          │\n",
       "│ 25                 ┆ 0.0          ┆ 0.0          │\n",
       "│ …                  ┆ …            ┆ …            │\n",
       "│ 22                 ┆ 0.0          ┆ 0.0          │\n",
       "│ 6                  ┆ 0.0          ┆ 0.0          │\n",
       "│ 23                 ┆ 0.0          ┆ 0.0          │\n",
       "│ 7                  ┆ 0.0          ┆ 0.0          │\n",
       "└────────────────────┴──────────────┴──────────────┘"
      ]
     },
     "execution_count": 122,
     "metadata": {},
     "output_type": "execute_result"
    }
   ],
   "source": [
    "dfg.select([pl.col(\"creation_timestamp\"),\n",
    "            pl.col(\"cal_400\").apply(lambda x: average_bottle(x)).alias(\"mean_cal_400\"),\n",
    "            pl.col(\"cal_800\").apply(lambda x: average_bottle(x)).alias(\"mean_cal_800\")])"
   ]
  }
 ],
 "metadata": {
  "kernelspec": {
   "display_name": ".venv",
   "language": "python",
   "name": "python3"
  },
  "language_info": {
   "codemirror_mode": {
    "name": "ipython",
    "version": 3
   },
   "file_extension": ".py",
   "mimetype": "text/x-python",
   "name": "python",
   "nbconvert_exporter": "python",
   "pygments_lexer": "ipython3",
   "version": "3.11.4"
  }
 },
 "nbformat": 4,
 "nbformat_minor": 2
}
