{
 "cells": [
  {
   "cell_type": "code",
   "execution_count": 61,
   "metadata": {},
   "outputs": [],
   "source": [
    "from datetime import datetime\n",
    "from datetime import timezone\n",
    "import polars as pl\n",
    "import os\n",
    "\n",
    "acropolis_directory = \"/Users/patrickaigner/Documents/PROJECTS/ACROPOLIS/Software/quickflow/acropolis/\""
   ]
  },
  {
   "cell_type": "code",
   "execution_count": 62,
   "metadata": {},
   "outputs": [
    {
     "data": {
      "text/html": [
       "<div><style>\n",
       ".dataframe > thead > tr > th,\n",
       ".dataframe > tbody > tr > td {\n",
       "  text-align: right;\n",
       "}\n",
       "</style>\n",
       "<small>shape: (3, 37)</small><table border=\"1\" class=\"dataframe\"><thead><tr><th>system_name</th><th>revision</th><th>creation_timestamp</th><th>receipt_timestamp</th><th>wxt532_direction_min</th><th>wxt532_speed_min</th><th>wxt532_last_update_time</th><th>wxt532_speed_avg</th><th>wxt532_direction_avg</th><th>wxt532_direction_max</th><th>wxt532_speed_max</th><th>gmp343_compensated</th><th>bme280_humidity</th><th>sht45_temperature</th><th>bme280_pressure</th><th>sht45_humidity</th><th>gmp343_raw</th><th>bme280_temperature</th><th>gmp343_filtered</th><th>gmp343_temperature</th><th>enclosure_bme280_humidity</th><th>raspi_cpu_usage</th><th>enclosure_bme280_pressure</th><th>raspi_cpu_temperature</th><th>raspi_disk_usage</th><th>raspi_memory_usage</th><th>enclosure_bme280_temperature</th><th>cal_gmp343_compensated</th><th>cal_gmp343_raw</th><th>cal_bme280_temperature</th><th>cal_gmp343_filtered</th><th>cal_sht45_temperature</th><th>cal_bme280_pressure</th><th>cal_sht45_humidity</th><th>cal_gmp343_temperature</th><th>cal_bme280_humidity</th><th>cal_bottle_id</th></tr><tr><td>str</td><td>i32</td><td>datetime[ns, UTC]</td><td>datetime[ns, UTC]</td><td>f64</td><td>f64</td><td>f64</td><td>f64</td><td>f64</td><td>f64</td><td>f64</td><td>f64</td><td>f64</td><td>f64</td><td>f64</td><td>f64</td><td>f64</td><td>f64</td><td>f64</td><td>f64</td><td>f64</td><td>f64</td><td>f64</td><td>f64</td><td>f64</td><td>f64</td><td>f64</td><td>f64</td><td>f64</td><td>f64</td><td>f64</td><td>f64</td><td>f64</td><td>f64</td><td>f64</td><td>f64</td><td>f64</td></tr></thead><tbody><tr><td>&quot;tum-esm-midcos…</td><td>14</td><td>2023-10-13 14:23:12.940 UTC</td><td>2023-10-13 14:23:13.416742 UTC</td><td>null</td><td>null</td><td>null</td><td>null</td><td>null</td><td>null</td><td>null</td><td>407.0</td><td>15.15</td><td>32.77</td><td>941.18</td><td>17.95</td><td>352.0</td><td>32.7</td><td>407.6</td><td>34.0</td><td>null</td><td>null</td><td>null</td><td>null</td><td>null</td><td>null</td><td>null</td><td>null</td><td>null</td><td>null</td><td>null</td><td>null</td><td>null</td><td>null</td><td>null</td><td>null</td><td>null</td></tr><tr><td>&quot;tum-esm-midcos…</td><td>18</td><td>2023-10-13 14:23:13.010 UTC</td><td>2023-10-13 14:23:13.706551 UTC</td><td>null</td><td>null</td><td>null</td><td>null</td><td>null</td><td>null</td><td>null</td><td>409.7</td><td>15.33</td><td>31.12</td><td>935.63</td><td>19.68</td><td>360.8</td><td>31.04</td><td>405.0</td><td>32.6</td><td>null</td><td>null</td><td>null</td><td>null</td><td>null</td><td>null</td><td>null</td><td>null</td><td>null</td><td>null</td><td>null</td><td>null</td><td>null</td><td>null</td><td>null</td><td>null</td><td>null</td></tr><tr><td>&quot;tum-esm-midcos…</td><td>26</td><td>2023-10-13 14:23:15.160 UTC</td><td>2023-10-13 14:23:15.761647 UTC</td><td>null</td><td>null</td><td>null</td><td>null</td><td>null</td><td>null</td><td>null</td><td>423.5</td><td>16.02</td><td>30.18</td><td>931.24</td><td>20.14</td><td>372.2</td><td>29.79</td><td>426.0</td><td>31.1</td><td>null</td><td>null</td><td>null</td><td>null</td><td>null</td><td>null</td><td>null</td><td>null</td><td>null</td><td>null</td><td>null</td><td>null</td><td>null</td><td>null</td><td>null</td><td>null</td><td>null</td></tr></tbody></table></div>"
      ],
      "text/plain": [
       "shape: (3, 37)\n",
       "┌───────────┬──────────┬────────────┬────────────┬───┬────────────┬────────────┬────────────┬────────────┐\n",
       "│ system_na ┆ revision ┆ creation_t ┆ receipt_ti ┆ … ┆ cal_sht45_ ┆ cal_gmp343 ┆ cal_bme280 ┆ cal_bottle │\n",
       "│ me        ┆ ---      ┆ imestamp   ┆ mestamp    ┆   ┆ humidity   ┆ _temperatu ┆ _humidity  ┆ _id        │\n",
       "│ ---       ┆ i32      ┆ ---        ┆ ---        ┆   ┆ ---        ┆ re         ┆ ---        ┆ ---        │\n",
       "│ str       ┆          ┆ datetime[n ┆ datetime[n ┆   ┆ f64        ┆ ---        ┆ f64        ┆ f64        │\n",
       "│           ┆          ┆ s, UTC]    ┆ s, UTC]    ┆   ┆            ┆ f64        ┆            ┆            │\n",
       "╞═══════════╪══════════╪════════════╪════════════╪═══╪════════════╪════════════╪════════════╪════════════╡\n",
       "│ tum-esm-m ┆ 14       ┆ 2023-10-13 ┆ 2023-10-13 ┆ … ┆ null       ┆ null       ┆ null       ┆ null       │\n",
       "│ idcost-ra ┆          ┆ 14:23:12.9 ┆ 14:23:13.4 ┆   ┆            ┆            ┆            ┆            │\n",
       "│ spi-6     ┆          ┆ 40 UTC     ┆ 16742 UTC  ┆   ┆            ┆            ┆            ┆            │\n",
       "│ tum-esm-m ┆ 18       ┆ 2023-10-13 ┆ 2023-10-13 ┆ … ┆ null       ┆ null       ┆ null       ┆ null       │\n",
       "│ idcost-ra ┆          ┆ 14:23:13.0 ┆ 14:23:13.7 ┆   ┆            ┆            ┆            ┆            │\n",
       "│ spi-2     ┆          ┆ 10 UTC     ┆ 06551 UTC  ┆   ┆            ┆            ┆            ┆            │\n",
       "│ tum-esm-m ┆ 26       ┆ 2023-10-13 ┆ 2023-10-13 ┆ … ┆ null       ┆ null       ┆ null       ┆ null       │\n",
       "│ idcost-ra ┆          ┆ 14:23:15.1 ┆ 14:23:15.7 ┆   ┆            ┆            ┆            ┆            │\n",
       "│ spi-4     ┆          ┆ 60 UTC     ┆ 61647 UTC  ┆   ┆            ┆            ┆            ┆            │\n",
       "└───────────┴──────────┴────────────┴────────────┴───┴────────────┴────────────┴────────────┴────────────┘"
      ]
     },
     "execution_count": 62,
     "metadata": {},
     "output_type": "execute_result"
    }
   ],
   "source": [
    "df = pl.scan_parquet(os.path.join(acropolis_directory, \"pivot_measurements.parquet\"))\n",
    "\n",
    "df = df.sort(\"creation_timestamp\")\n",
    "df.tail(3).collect()"
   ]
  },
  {
   "cell_type": "code",
   "execution_count": 63,
   "metadata": {},
   "outputs": [],
   "source": [
    "df = df.with_columns([pl.when(pl.col(\"cal_gmp343_filtered\") < 600).then(pl.col(\"cal_gmp343_filtered\")).otherwise(None).alias(\"cal_400\"),\n",
    "                      pl.when(pl.col(\"cal_gmp343_filtered\") > 600).then(pl.col(\"cal_gmp343_filtered\")).otherwise(None).alias(\"cal_800\"),\n",
    "                      pl.when(pl.col(\"cal_gmp343_filtered\") < 600).then(pl.col(\"cal_bottle_id\")).otherwise(None).alias(\"cal_bottle_id_400\"),\n",
    "                      pl.when(pl.col(\"cal_gmp343_filtered\") > 600).then(pl.col(\"cal_bottle_id\")).otherwise(None).alias(\"cal_bottle_id_800\")])"
   ]
  },
  {
   "cell_type": "code",
   "execution_count": 64,
   "metadata": {},
   "outputs": [],
   "source": [
    "dfg = df.groupby([pl.col(\"creation_timestamp\").dt.date(), pl.col(\"system_name\")]).agg([pl.col(\"cal_400\").drop_nulls(),\n",
    "                                                                                    pl.col(\"cal_800\").drop_nulls(),\n",
    "                                                                                    pl.col(\"cal_bottle_id_400\").drop_nulls().median(),\n",
    "                                                                                    pl.col(\"cal_bottle_id_800\").drop_nulls().median()])"
   ]
  },
  {
   "cell_type": "code",
   "execution_count": 66,
   "metadata": {},
   "outputs": [
    {
     "data": {
      "text/html": [
       "<div><style>\n",
       ".dataframe > thead > tr > th,\n",
       ".dataframe > tbody > tr > td {\n",
       "  text-align: right;\n",
       "}\n",
       "</style>\n",
       "<small>shape: (352, 5)</small><table border=\"1\" class=\"dataframe\"><thead><tr><th>creation_timestamp</th><th>mean_cal_400</th><th>mean_cal_800</th><th>cal_bottle_id_400</th><th>cal_bottle_id_800</th></tr><tr><td>date</td><td>f64</td><td>f64</td><td>f64</td><td>f64</td></tr></thead><tbody><tr><td>2023-09-21</td><td>0.0</td><td>0.0</td><td>null</td><td>null</td></tr><tr><td>2023-09-21</td><td>0.0</td><td>0.0</td><td>null</td><td>null</td></tr><tr><td>2023-09-21</td><td>0.0</td><td>0.0</td><td>null</td><td>null</td></tr><tr><td>2023-09-21</td><td>0.0</td><td>0.0</td><td>null</td><td>null</td></tr><tr><td>2023-09-22</td><td>0.0</td><td>0.0</td><td>null</td><td>null</td></tr><tr><td>2023-09-22</td><td>0.0</td><td>0.0</td><td>null</td><td>null</td></tr><tr><td>2023-09-23</td><td>0.0</td><td>0.0</td><td>null</td><td>null</td></tr><tr><td>2023-09-23</td><td>0.0</td><td>0.0</td><td>null</td><td>null</td></tr><tr><td>2023-09-23</td><td>0.0</td><td>0.0</td><td>null</td><td>null</td></tr><tr><td>2023-09-23</td><td>0.0</td><td>0.0</td><td>null</td><td>null</td></tr><tr><td>2023-09-24</td><td>0.0</td><td>0.0</td><td>null</td><td>null</td></tr><tr><td>2023-09-24</td><td>0.0</td><td>0.0</td><td>null</td><td>null</td></tr><tr><td>&hellip;</td><td>&hellip;</td><td>&hellip;</td><td>&hellip;</td><td>&hellip;</td></tr><tr><td>2023-10-07</td><td>0.0</td><td>0.0</td><td>null</td><td>null</td></tr><tr><td>2023-10-07</td><td>0.0</td><td>0.0</td><td>null</td><td>null</td></tr><tr><td>2023-10-08</td><td>0.0</td><td>0.0</td><td>null</td><td>null</td></tr><tr><td>2023-10-08</td><td>0.0</td><td>0.0</td><td>null</td><td>null</td></tr><tr><td>2023-10-09</td><td>0.0</td><td>0.0</td><td>null</td><td>null</td></tr><tr><td>2023-10-09</td><td>0.0</td><td>0.0</td><td>null</td><td>null</td></tr><tr><td>2023-10-11</td><td>0.0</td><td>0.0</td><td>null</td><td>null</td></tr><tr><td>2023-10-11</td><td>0.0</td><td>0.0</td><td>null</td><td>null</td></tr><tr><td>2023-10-12</td><td>0.0</td><td>799.535897</td><td>11.0</td><td>35.0</td></tr><tr><td>2023-10-12</td><td>0.0</td><td>819.479487</td><td>6.0</td><td>34.0</td></tr><tr><td>2023-10-13</td><td>0.0</td><td>0.0</td><td>null</td><td>null</td></tr><tr><td>2023-10-13</td><td>376.579487</td><td>0.0</td><td>17.0</td><td>31.0</td></tr></tbody></table></div>"
      ],
      "text/plain": [
       "shape: (352, 5)\n",
       "┌────────────────────┬──────────────┬──────────────┬───────────────────┬───────────────────┐\n",
       "│ creation_timestamp ┆ mean_cal_400 ┆ mean_cal_800 ┆ cal_bottle_id_400 ┆ cal_bottle_id_800 │\n",
       "│ ---                ┆ ---          ┆ ---          ┆ ---               ┆ ---               │\n",
       "│ date               ┆ f64          ┆ f64          ┆ f64               ┆ f64               │\n",
       "╞════════════════════╪══════════════╪══════════════╪═══════════════════╪═══════════════════╡\n",
       "│ 2023-09-21         ┆ 0.0          ┆ 0.0          ┆ null              ┆ null              │\n",
       "│ 2023-09-21         ┆ 0.0          ┆ 0.0          ┆ null              ┆ null              │\n",
       "│ 2023-09-21         ┆ 0.0          ┆ 0.0          ┆ null              ┆ null              │\n",
       "│ 2023-09-21         ┆ 0.0          ┆ 0.0          ┆ null              ┆ null              │\n",
       "│ …                  ┆ …            ┆ …            ┆ …                 ┆ …                 │\n",
       "│ 2023-10-12         ┆ 0.0          ┆ 799.535897   ┆ 11.0              ┆ 35.0              │\n",
       "│ 2023-10-12         ┆ 0.0          ┆ 819.479487   ┆ 6.0               ┆ 34.0              │\n",
       "│ 2023-10-13         ┆ 0.0          ┆ 0.0          ┆ null              ┆ null              │\n",
       "│ 2023-10-13         ┆ 376.579487   ┆ 0.0          ┆ 17.0              ┆ 31.0              │\n",
       "└────────────────────┴──────────────┴──────────────┴───────────────────┴───────────────────┘"
      ]
     },
     "execution_count": 66,
     "metadata": {},
     "output_type": "execute_result"
    }
   ],
   "source": [
    "def average_bottle(data):\n",
    "    data = data.to_list()\n",
    "    #2nd bottle\n",
    "    if 50 < len(data) < 70:\n",
    "        x = data[int(len(data)*0.3):int(len(data)*0.95)]\n",
    "        return sum(x) / len(x)\n",
    "    #1st bottle\n",
    "    elif 70 < len(data) > 130:\n",
    "        x = data[int(len(data)*0.5):int(len(data)*0.95)]\n",
    "        return sum(x) / len(x)\n",
    "    else:\n",
    "        return 0.0\n",
    "\n",
    "dfg.select([pl.col(\"creation_timestamp\"),\n",
    "            pl.col(\"cal_400\").apply(lambda x: average_bottle(x)).alias(\"mean_cal_400\"),\n",
    "            pl.col(\"cal_800\").apply(lambda x: average_bottle(x)).alias(\"mean_cal_800\"),\n",
    "            pl.col(\"cal_bottle_id_400\"),\n",
    "            pl.col(\"cal_bottle_id_800\")\n",
    "            ]).collect()"
   ]
  }
 ],
 "metadata": {
  "kernelspec": {
   "display_name": ".venv",
   "language": "python",
   "name": "python3"
  },
  "language_info": {
   "codemirror_mode": {
    "name": "ipython",
    "version": 3
   },
   "file_extension": ".py",
   "mimetype": "text/x-python",
   "name": "python",
   "nbconvert_exporter": "python",
   "pygments_lexer": "ipython3",
   "version": "3.11.4"
  }
 },
 "nbformat": 4,
 "nbformat_minor": 2
}
