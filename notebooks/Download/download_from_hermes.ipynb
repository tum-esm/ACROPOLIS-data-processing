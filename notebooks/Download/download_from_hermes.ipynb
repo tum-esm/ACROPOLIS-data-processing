{
 "cells": [
  {
   "cell_type": "code",
   "execution_count": 1,
   "metadata": {},
   "outputs": [],
   "source": [
    "import polars as pl\n",
    "import os\n",
    "from extract import Extract\n",
    "\n",
    "TIMESCALE_CONNECTION_STRING = os.environ.get(\"TIMESCALE_CONNECTION_STRING\")\n",
    "DATA_DIRECTORY = os.environ.get(\"DATA_DIRECTORY\")"
   ]
  },
  {
   "cell_type": "code",
   "execution_count": 2,
   "metadata": {},
   "outputs": [
    {
     "name": "stdout",
     "output_type": "stream",
     "text": [
      "Start downloading from datetime: \n",
      "2023-11-09 10:09:22.965166+00:00\n",
      "2023-11-09 10:28:07.473744+00:00\n",
      "2023-11-09 10:46:53.347358+00:00\n",
      "2023-11-09 11:05:40.011255+00:00\n",
      "2023-11-09 11:24:29.640998+00:00\n",
      "2023-11-09 11:43:13.414128+00:00\n",
      "2023-11-09 12:02:00.576221+00:00\n",
      "2023-11-09 12:20:46.182475+00:00\n",
      "2023-11-09 12:39:30.737905+00:00\n",
      "2023-11-09 12:58:20.797338+00:00\n",
      "2023-11-09 13:17:05.628630+00:00\n",
      "2023-11-09 13:35:49.764714+00:00\n",
      "2023-11-09 13:54:38.666741+00:00\n",
      "2023-11-09 14:13:24.763388+00:00\n",
      "Performing merge.\n",
      "Deleting merged chunks.\n"
     ]
    }
   ],
   "source": [
    "# Extract holds the download logic, pivot transform, sensor_name join, merge\n",
    "component = Extract()\n",
    "result = component.execute()"
   ]
  },
  {
   "cell_type": "code",
   "execution_count": null,
   "metadata": {},
   "outputs": [],
   "source": []
  }
 ],
 "metadata": {
  "kernelspec": {
   "display_name": ".venv",
   "language": "python",
   "name": "python3"
  },
  "language_info": {
   "codemirror_mode": {
    "name": "ipython",
    "version": 3
   },
   "file_extension": ".py",
   "mimetype": "text/x-python",
   "name": "python",
   "nbconvert_exporter": "python",
   "pygments_lexer": "ipython3",
   "version": "3.11.6"
  }
 },
 "nbformat": 4,
 "nbformat_minor": 2
}
