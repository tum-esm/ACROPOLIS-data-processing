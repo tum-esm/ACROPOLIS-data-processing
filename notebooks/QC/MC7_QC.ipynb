{
 "cells": [
  {
   "cell_type": "code",
   "execution_count": 1,
   "metadata": {},
   "outputs": [],
   "source": [
    "from datetime import datetime\n",
    "from datetime import timezone\n",
    "import polars as pl\n",
    "import os\n",
    "import math\n",
    "from sklearn.metrics import r2_score\n",
    "import numpy as np\n",
    "\n",
    "from utils import plot_sensor_measurement\n",
    "\n",
    "start_date = datetime(2023, 10, 12, 11, 0, 0).replace(tzinfo=timezone.utc)\n",
    "end_date = datetime(2023, 10, 15, 23, 59, 59).replace(tzinfo=timezone.utc)\n",
    "\n",
    "sensor_id = 7\n",
    "filter = '1h'\n",
    "\n",
    "DATA_DIRECTORY = os.environ.get(\"DATA_DIRECTORY\")\n",
    "PICARRO_DATA_DIRECTORy = os.environ.get(\"PICARRO_DATA_DIRECTORY\")\n",
    "\n",
    "\n",
    "df_p_1h = pl.read_parquet(os.path.join(DATA_DIRECTORY,\"processed\", \"1h_cal_corr_picarro.parquet\")) \\\n",
    "    .filter(pl.col(\"creation_timestamp\").is_between(start_date, end_date))\n",
    "    \n",
    "#Calibration\n",
    "# after 23.10\n",
    "picarro_slope = 1.006374633215469\n",
    "picarro_intercept = 0.0709482571842841\n",
    "\n",
    "acropolis_slope = 1.015105724343444 \n",
    "acropolis_intercept = -11.400846281936936\n"
   ]
  },
  {
   "cell_type": "code",
   "execution_count": 2,
   "metadata": {},
   "outputs": [],
   "source": [
    "def rmse(y_true, y_meas):\n",
    "    MSE = np.square(np.subtract(y_true, y_meas)).mean()\n",
    "    RMSE = math.sqrt(MSE)\n",
    "\n",
    "    return RMSE\n",
    "\n",
    "def calc_r2(y_true, y_meas):\n",
    "    return r2_score(y_true, y_meas)"
   ]
  },
  {
   "cell_type": "code",
   "execution_count": 3,
   "metadata": {},
   "outputs": [
    {
     "data": {
      "text/html": [
       "<div><style>\n",
       ".dataframe > thead > tr > th,\n",
       ".dataframe > tbody > tr > td {\n",
       "  text-align: right;\n",
       "}\n",
       "</style>\n",
       "<small>shape: (3, 4)</small><table border=\"1\" class=\"dataframe\"><thead><tr><th>creation_timestamp</th><th>system_name</th><th>gmp343_dry</th><th>CO2_corr</th></tr><tr><td>datetime[μs, UTC]</td><td>str</td><td>f64</td><td>f64</td></tr></thead><tbody><tr><td>2023-10-12 11:00:00 UTC</td><td>&quot;ACROPOLIS&quot;</td><td>424.522706</td><td>419.534582</td></tr><tr><td>2023-10-12 12:00:00 UTC</td><td>&quot;ACROPOLIS&quot;</td><td>431.678759</td><td>426.798733</td></tr><tr><td>2023-10-12 13:00:00 UTC</td><td>&quot;ACROPOLIS&quot;</td><td>422.158983</td><td>417.135154</td></tr></tbody></table></div>"
      ],
      "text/plain": [
       "shape: (3, 4)\n",
       "┌─────────────────────────┬─────────────┬────────────┬────────────┐\n",
       "│ creation_timestamp      ┆ system_name ┆ gmp343_dry ┆ CO2_corr   │\n",
       "│ ---                     ┆ ---         ┆ ---        ┆ ---        │\n",
       "│ datetime[μs, UTC]       ┆ str         ┆ f64        ┆ f64        │\n",
       "╞═════════════════════════╪═════════════╪════════════╪════════════╡\n",
       "│ 2023-10-12 11:00:00 UTC ┆ ACROPOLIS   ┆ 424.522706 ┆ 419.534582 │\n",
       "│ 2023-10-12 12:00:00 UTC ┆ ACROPOLIS   ┆ 431.678759 ┆ 426.798733 │\n",
       "│ 2023-10-12 13:00:00 UTC ┆ ACROPOLIS   ┆ 422.158983 ┆ 417.135154 │\n",
       "└─────────────────────────┴─────────────┴────────────┴────────────┘"
      ]
     },
     "execution_count": 3,
     "metadata": {},
     "output_type": "execute_result"
    }
   ],
   "source": [
    "df_a = pl.scan_parquet(os.path.join(DATA_DIRECTORY, \"processed\", \"acropolis_dry.parquet\")) \\\n",
    "    .filter(pl.col(\"system_name\") == f\"tum-esm-midcost-raspi-{sensor_id}\" ) \\\n",
    "    .sort(\"creation_timestamp\").filter(pl.col(\"creation_timestamp\") \\\n",
    "    .is_between(start_date, end_date)) \\\n",
    "    .filter(pl.col(\"gmp343_dry\")>0.0) \\\n",
    "    .with_columns(((pl.col(\"gmp343_dry\")) * acropolis_slope + acropolis_intercept).alias(\"CO2_corr\")) \\\n",
    "    .groupby_dynamic(\"creation_timestamp\", every=filter) \\\n",
    "    .agg(pl.all().exclude([\"creation_timestamp\",\"DATE\",\"TIME\",\"datetime\",\"variant\"]).mean())  \\\n",
    "    .with_columns(pl.lit(\"ACROPOLIS\").alias(\"system_name\"))\n",
    "    \n",
    "df_a.head(3).collect()"
   ]
  },
  {
   "cell_type": "code",
   "execution_count": 4,
   "metadata": {},
   "outputs": [
    {
     "data": {
      "text/html": [
       "<div><style>\n",
       ".dataframe > thead > tr > th,\n",
       ".dataframe > tbody > tr > td {\n",
       "  text-align: right;\n",
       "}\n",
       "</style>\n",
       "<small>shape: (3, 6)</small><table border=\"1\" class=\"dataframe\"><thead><tr><th>creation_timestamp</th><th>CO2_corr</th><th>slope</th><th>intercept</th><th>system_name</th><th>diff</th></tr><tr><td>datetime[μs, UTC]</td><td>f64</td><td>f64</td><td>f64</td><td>str</td><td>f64</td></tr></thead><tbody><tr><td>2023-10-12 11:00:00 UTC</td><td>422.480414</td><td>1.006375</td><td>0.070948</td><td>&quot;Picarro&quot;</td><td>0.0</td></tr><tr><td>2023-10-12 12:00:00 UTC</td><td>420.972975</td><td>1.006375</td><td>0.070948</td><td>&quot;Picarro&quot;</td><td>0.0</td></tr><tr><td>2023-10-12 13:00:00 UTC</td><td>421.425477</td><td>1.006375</td><td>0.070948</td><td>&quot;Picarro&quot;</td><td>0.0</td></tr></tbody></table></div>"
      ],
      "text/plain": [
       "shape: (3, 6)\n",
       "┌─────────────────────────┬────────────┬──────────┬───────────┬─────────────┬──────┐\n",
       "│ creation_timestamp      ┆ CO2_corr   ┆ slope    ┆ intercept ┆ system_name ┆ diff │\n",
       "│ ---                     ┆ ---        ┆ ---      ┆ ---       ┆ ---         ┆ ---  │\n",
       "│ datetime[μs, UTC]       ┆ f64        ┆ f64      ┆ f64       ┆ str         ┆ f64  │\n",
       "╞═════════════════════════╪════════════╪══════════╪═══════════╪═════════════╪══════╡\n",
       "│ 2023-10-12 11:00:00 UTC ┆ 422.480414 ┆ 1.006375 ┆ 0.070948  ┆ Picarro     ┆ 0.0  │\n",
       "│ 2023-10-12 12:00:00 UTC ┆ 420.972975 ┆ 1.006375 ┆ 0.070948  ┆ Picarro     ┆ 0.0  │\n",
       "│ 2023-10-12 13:00:00 UTC ┆ 421.425477 ┆ 1.006375 ┆ 0.070948  ┆ Picarro     ┆ 0.0  │\n",
       "└─────────────────────────┴────────────┴──────────┴───────────┴─────────────┴──────┘"
      ]
     },
     "execution_count": 4,
     "metadata": {},
     "output_type": "execute_result"
    }
   ],
   "source": [
    "df_p = pl.scan_parquet(os.path.join(DATA_DIRECTORY,\"processed\", \"1h_cal_corr_picarro.parquet\")) \\\n",
    "    .sort(\"creation_timestamp\") \\\n",
    "    .filter(pl.col(\"creation_timestamp\") \\\n",
    "    .is_between(start_date, end_date))\n",
    "\n",
    "df_p.head(3).collect()"
   ]
  },
  {
   "cell_type": "code",
   "execution_count": 5,
   "metadata": {},
   "outputs": [
    {
     "data": {
      "application/vnd.plotly.v1+json": {
       "config": {
        "plotlyServerURL": "https://plot.ly"
       },
       "data": [
        {
         "hovertemplate": "system_name=ACROPOLIS<br>creation_timestamp=%{x}<br>CO2_corr=%{y}<extra></extra>",
         "legendgroup": "ACROPOLIS",
         "line": {
          "color": "#636efa",
          "dash": "solid"
         },
         "marker": {
          "symbol": "circle"
         },
         "mode": "lines+markers",
         "name": "ACROPOLIS",
         "orientation": "v",
         "showlegend": true,
         "type": "scatter",
         "x": [
          "2023-10-12T11:00:00+00:00",
          "2023-10-12T12:00:00+00:00",
          "2023-10-12T13:00:00+00:00",
          "2023-10-12T14:00:00+00:00",
          "2023-10-12T15:00:00+00:00",
          "2023-10-12T16:00:00+00:00",
          "2023-10-12T17:00:00+00:00",
          "2023-10-12T18:00:00+00:00",
          "2023-10-12T19:00:00+00:00",
          "2023-10-12T20:00:00+00:00",
          "2023-10-12T21:00:00+00:00",
          "2023-10-12T22:00:00+00:00",
          "2023-10-12T23:00:00+00:00",
          "2023-10-13T00:00:00+00:00",
          "2023-10-13T01:00:00+00:00",
          "2023-10-13T02:00:00+00:00",
          "2023-10-13T03:00:00+00:00",
          "2023-10-13T04:00:00+00:00",
          "2023-10-13T05:00:00+00:00",
          "2023-10-13T06:00:00+00:00",
          "2023-10-13T07:00:00+00:00",
          "2023-10-13T08:00:00+00:00",
          "2023-10-13T09:00:00+00:00",
          "2023-10-13T10:00:00+00:00",
          "2023-10-13T11:00:00+00:00",
          "2023-10-13T12:00:00+00:00",
          "2023-10-13T13:00:00+00:00",
          "2023-10-13T14:00:00+00:00",
          "2023-10-13T15:00:00+00:00",
          "2023-10-13T16:00:00+00:00",
          "2023-10-13T17:00:00+00:00",
          "2023-10-13T18:00:00+00:00",
          "2023-10-13T19:00:00+00:00",
          "2023-10-13T20:00:00+00:00",
          "2023-10-13T21:00:00+00:00",
          "2023-10-13T22:00:00+00:00",
          "2023-10-13T23:00:00+00:00",
          "2023-10-14T00:00:00+00:00",
          "2023-10-14T01:00:00+00:00",
          "2023-10-14T02:00:00+00:00",
          "2023-10-14T03:00:00+00:00",
          "2023-10-14T04:00:00+00:00",
          "2023-10-14T05:00:00+00:00",
          "2023-10-14T06:00:00+00:00",
          "2023-10-14T07:00:00+00:00",
          "2023-10-14T08:00:00+00:00",
          "2023-10-14T09:00:00+00:00",
          "2023-10-14T10:00:00+00:00",
          "2023-10-14T11:00:00+00:00",
          "2023-10-14T12:00:00+00:00",
          "2023-10-14T13:00:00+00:00",
          "2023-10-14T14:00:00+00:00",
          "2023-10-14T15:00:00+00:00",
          "2023-10-14T16:00:00+00:00",
          "2023-10-14T17:00:00+00:00",
          "2023-10-14T18:00:00+00:00",
          "2023-10-14T19:00:00+00:00",
          "2023-10-14T20:00:00+00:00",
          "2023-10-14T21:00:00+00:00",
          "2023-10-14T22:00:00+00:00",
          "2023-10-14T23:00:00+00:00",
          "2023-10-15T00:00:00+00:00",
          "2023-10-15T01:00:00+00:00",
          "2023-10-15T02:00:00+00:00",
          "2023-10-15T03:00:00+00:00",
          "2023-10-15T04:00:00+00:00",
          "2023-10-15T05:00:00+00:00",
          "2023-10-15T06:00:00+00:00",
          "2023-10-15T07:00:00+00:00",
          "2023-10-15T08:00:00+00:00",
          "2023-10-15T09:00:00+00:00",
          "2023-10-15T10:00:00+00:00",
          "2023-10-15T11:00:00+00:00",
          "2023-10-15T12:00:00+00:00",
          "2023-10-15T13:00:00+00:00",
          "2023-10-15T14:00:00+00:00",
          "2023-10-15T15:00:00+00:00",
          "2023-10-15T16:00:00+00:00",
          "2023-10-15T17:00:00+00:00",
          "2023-10-15T18:00:00+00:00",
          "2023-10-15T19:00:00+00:00",
          "2023-10-15T20:00:00+00:00",
          "2023-10-15T21:00:00+00:00",
          "2023-10-15T22:00:00+00:00",
          "2023-10-15T23:00:00+00:00"
         ],
         "xaxis": "x",
         "y": [
          419.534582318445,
          426.7987326133736,
          417.1351542915492,
          418.1459446122938,
          421.3791339610605,
          427.39872896444444,
          430.22495666330957,
          430.0725877279662,
          427.5067830185351,
          426.8094776674016,
          425.86580090042503,
          426.6809006588808,
          427.0570864193037,
          426.7686406138896,
          427.8277872695885,
          430.9516392002324,
          437.1116418216067,
          442.11091404766256,
          449.1119327456611,
          453.5620900273339,
          453.43575196407517,
          447.55962672599577,
          432.6792931650764,
          425.2701819548524,
          422.8146457063636,
          427.07058539574274,
          426.3860347244744,
          425.9035227478523,
          427.45452128728294,
          443.31335496695436,
          451.210312840527,
          452.5036120093476,
          455.3997215144238,
          455.3913201904049,
          450.9747621278262,
          445.74071749847576,
          445.8521759257989,
          441.8397293774308,
          441.70160657012275,
          440.8643823134906,
          438.1221334387867,
          428.4789808670751,
          425.2210350979053,
          426.51604106978743,
          424.5859962458803,
          427.12701718944834,
          424.1686405658241,
          424.3951080045894,
          423.35076590575045,
          422.736384005935,
          424.1441333999564,
          425.6736647104239,
          426.5348583447555,
          428.766468329278,
          428.8965381125951,
          424.8191538363544,
          423.41413434201394,
          421.5796323069333,
          423.09219825993506,
          426.4214067106728,
          425.64328067597665,
          424.43630698697234,
          423.81346059255134,
          424.3489607887955,
          425.56871225613685,
          427.6940700847595,
          428.54131291389984,
          429.22181567534534,
          429.8076694374317,
          428.6045370963375,
          422.76780972113374,
          422.54837039185674,
          421.22967935307366,
          421.933701428882,
          421.85721155870584,
          421.7614829275364,
          419.130008659074,
          420.8025890412975,
          423.3254609792129,
          427.85616908631005,
          431.51731707932487,
          433.1188028086863,
          437.2843390520906,
          439.712281245409,
          435.29949840365134
         ],
         "yaxis": "y"
        },
        {
         "hovertemplate": "system_name=Picarro<br>creation_timestamp=%{x}<br>CO2_corr=%{y}<extra></extra>",
         "legendgroup": "Picarro",
         "line": {
          "color": "#EF553B",
          "dash": "solid"
         },
         "marker": {
          "symbol": "circle"
         },
         "mode": "lines+markers",
         "name": "Picarro",
         "orientation": "v",
         "showlegend": true,
         "type": "scatter",
         "x": [
          "2023-10-12T11:00:00+00:00",
          "2023-10-12T12:00:00+00:00",
          "2023-10-12T13:00:00+00:00",
          "2023-10-12T14:00:00+00:00",
          "2023-10-12T15:00:00+00:00",
          "2023-10-12T16:00:00+00:00",
          "2023-10-12T17:00:00+00:00",
          "2023-10-12T18:00:00+00:00",
          "2023-10-12T19:00:00+00:00",
          "2023-10-12T20:00:00+00:00",
          "2023-10-12T21:00:00+00:00",
          "2023-10-12T22:00:00+00:00",
          "2023-10-12T23:00:00+00:00",
          "2023-10-13T00:00:00+00:00",
          "2023-10-13T01:00:00+00:00",
          "2023-10-13T02:00:00+00:00",
          "2023-10-13T03:00:00+00:00",
          "2023-10-13T04:00:00+00:00",
          "2023-10-13T05:00:00+00:00",
          "2023-10-13T06:00:00+00:00",
          "2023-10-13T07:00:00+00:00",
          "2023-10-13T08:00:00+00:00",
          "2023-10-13T09:00:00+00:00",
          "2023-10-13T10:00:00+00:00",
          "2023-10-13T11:00:00+00:00",
          "2023-10-13T12:00:00+00:00",
          "2023-10-13T13:00:00+00:00",
          "2023-10-13T14:00:00+00:00",
          "2023-10-13T15:00:00+00:00",
          "2023-10-13T16:00:00+00:00",
          "2023-10-13T17:00:00+00:00",
          "2023-10-13T18:00:00+00:00",
          "2023-10-13T19:00:00+00:00",
          "2023-10-13T20:00:00+00:00",
          "2023-10-13T21:00:00+00:00",
          "2023-10-13T22:00:00+00:00",
          "2023-10-13T23:00:00+00:00",
          "2023-10-14T00:00:00+00:00",
          "2023-10-14T01:00:00+00:00",
          "2023-10-14T02:00:00+00:00",
          "2023-10-14T03:00:00+00:00",
          "2023-10-14T04:00:00+00:00",
          "2023-10-14T05:00:00+00:00",
          "2023-10-14T06:00:00+00:00",
          "2023-10-14T07:00:00+00:00",
          "2023-10-14T08:00:00+00:00",
          "2023-10-14T09:00:00+00:00",
          "2023-10-14T10:00:00+00:00",
          "2023-10-14T11:00:00+00:00",
          "2023-10-14T12:00:00+00:00",
          "2023-10-14T13:00:00+00:00",
          "2023-10-14T14:00:00+00:00",
          "2023-10-14T15:00:00+00:00",
          "2023-10-14T16:00:00+00:00",
          "2023-10-14T17:00:00+00:00",
          "2023-10-14T18:00:00+00:00",
          "2023-10-14T19:00:00+00:00",
          "2023-10-14T20:00:00+00:00",
          "2023-10-14T21:00:00+00:00",
          "2023-10-14T22:00:00+00:00",
          "2023-10-14T23:00:00+00:00",
          "2023-10-15T00:00:00+00:00",
          "2023-10-15T01:00:00+00:00",
          "2023-10-15T02:00:00+00:00",
          "2023-10-15T03:00:00+00:00",
          "2023-10-15T04:00:00+00:00",
          "2023-10-15T05:00:00+00:00",
          "2023-10-15T06:00:00+00:00",
          "2023-10-15T07:00:00+00:00",
          "2023-10-15T08:00:00+00:00",
          "2023-10-15T09:00:00+00:00",
          "2023-10-15T10:00:00+00:00",
          "2023-10-15T11:00:00+00:00",
          "2023-10-15T12:00:00+00:00",
          "2023-10-15T13:00:00+00:00",
          "2023-10-15T14:00:00+00:00",
          "2023-10-15T15:00:00+00:00",
          "2023-10-15T16:00:00+00:00",
          "2023-10-15T17:00:00+00:00",
          "2023-10-15T18:00:00+00:00",
          "2023-10-15T19:00:00+00:00",
          "2023-10-15T20:00:00+00:00",
          "2023-10-15T21:00:00+00:00",
          "2023-10-15T22:00:00+00:00",
          "2023-10-15T23:00:00+00:00"
         ],
         "xaxis": "x",
         "y": [
          422.48041355508315,
          420.97297507751944,
          421.42547686150385,
          422.66474195235514,
          427.49592931904317,
          435.1244886947176,
          436.84398558366064,
          434.0438680792715,
          432.5315657672587,
          431.98173396992667,
          432.27965894336876,
          433.629409179315,
          433.34988515651827,
          434.4494325275883,
          438.0901147315218,
          446.22063663302004,
          451.312375478442,
          459.1110548365688,
          465.1099640945999,
          462.57764321943296,
          453.899327164401,
          443.00944452400796,
          430.1596829631919,
          425.8303276577689,
          423.34142619703647,
          421.6487397699852,
          420.8306435034197,
          420.37571899963797,
          421.98437134488177,
          437.5912557148009,
          443.7823756326651,
          457.44090040362585,
          451.2622218515866,
          454.27003710235016,
          443.31077330286223,
          445.26499810431886,
          442.79000248847876,
          441.31992011120366,
          440.845933576775,
          441.2572599838412,
          434.83613897773625,
          428.0407832883862,
          424.9588418783483,
          425.1599491247035,
          424.1204163901716,
          423.4523249020551,
          422.92920229109535,
          423.00725862962094,
          421.83973173665186,
          421.06095824736866,
          422.632692725306,
          424.586566492625,
          426.8579979005211,
          430.3749775711116,
          430.0645540549853,
          426.9726564798504,
          425.6682020414926,
          424.9826142782413,
          426.09930197936706,
          427.0184898065446,
          427.10445596011965,
          426.78689998342315,
          427.3055357959739,
          428.11376148663646,
          430.25115939707933,
          432.0771673675919,
          433.2524410371507,
          433.2259793229803,
          432.69014056565936,
          429.81664614297125,
          426.92064052834365,
          426.21991278228177,
          425.46029849731804,
          426.1607174938084,
          424.2116518887412,
          425.0043410435918,
          422.9770810745377,
          425.4737992255239,
          429.69112965587186,
          438.8616156174881,
          439.65364504771793,
          441.09480251545756,
          447.6357898328844,
          442.90463619530954,
          439.52877581983444
         ],
         "yaxis": "y"
        }
       ],
       "layout": {
        "legend": {
         "title": {
          "text": "system_name"
         },
         "tracegroupgap": 0
        },
        "template": {
         "data": {
          "bar": [
           {
            "error_x": {
             "color": "#2a3f5f"
            },
            "error_y": {
             "color": "#2a3f5f"
            },
            "marker": {
             "line": {
              "color": "#E5ECF6",
              "width": 0.5
             },
             "pattern": {
              "fillmode": "overlay",
              "size": 10,
              "solidity": 0.2
             }
            },
            "type": "bar"
           }
          ],
          "barpolar": [
           {
            "marker": {
             "line": {
              "color": "#E5ECF6",
              "width": 0.5
             },
             "pattern": {
              "fillmode": "overlay",
              "size": 10,
              "solidity": 0.2
             }
            },
            "type": "barpolar"
           }
          ],
          "carpet": [
           {
            "aaxis": {
             "endlinecolor": "#2a3f5f",
             "gridcolor": "white",
             "linecolor": "white",
             "minorgridcolor": "white",
             "startlinecolor": "#2a3f5f"
            },
            "baxis": {
             "endlinecolor": "#2a3f5f",
             "gridcolor": "white",
             "linecolor": "white",
             "minorgridcolor": "white",
             "startlinecolor": "#2a3f5f"
            },
            "type": "carpet"
           }
          ],
          "choropleth": [
           {
            "colorbar": {
             "outlinewidth": 0,
             "ticks": ""
            },
            "type": "choropleth"
           }
          ],
          "contour": [
           {
            "colorbar": {
             "outlinewidth": 0,
             "ticks": ""
            },
            "colorscale": [
             [
              0,
              "#0d0887"
             ],
             [
              0.1111111111111111,
              "#46039f"
             ],
             [
              0.2222222222222222,
              "#7201a8"
             ],
             [
              0.3333333333333333,
              "#9c179e"
             ],
             [
              0.4444444444444444,
              "#bd3786"
             ],
             [
              0.5555555555555556,
              "#d8576b"
             ],
             [
              0.6666666666666666,
              "#ed7953"
             ],
             [
              0.7777777777777778,
              "#fb9f3a"
             ],
             [
              0.8888888888888888,
              "#fdca26"
             ],
             [
              1,
              "#f0f921"
             ]
            ],
            "type": "contour"
           }
          ],
          "contourcarpet": [
           {
            "colorbar": {
             "outlinewidth": 0,
             "ticks": ""
            },
            "type": "contourcarpet"
           }
          ],
          "heatmap": [
           {
            "colorbar": {
             "outlinewidth": 0,
             "ticks": ""
            },
            "colorscale": [
             [
              0,
              "#0d0887"
             ],
             [
              0.1111111111111111,
              "#46039f"
             ],
             [
              0.2222222222222222,
              "#7201a8"
             ],
             [
              0.3333333333333333,
              "#9c179e"
             ],
             [
              0.4444444444444444,
              "#bd3786"
             ],
             [
              0.5555555555555556,
              "#d8576b"
             ],
             [
              0.6666666666666666,
              "#ed7953"
             ],
             [
              0.7777777777777778,
              "#fb9f3a"
             ],
             [
              0.8888888888888888,
              "#fdca26"
             ],
             [
              1,
              "#f0f921"
             ]
            ],
            "type": "heatmap"
           }
          ],
          "heatmapgl": [
           {
            "colorbar": {
             "outlinewidth": 0,
             "ticks": ""
            },
            "colorscale": [
             [
              0,
              "#0d0887"
             ],
             [
              0.1111111111111111,
              "#46039f"
             ],
             [
              0.2222222222222222,
              "#7201a8"
             ],
             [
              0.3333333333333333,
              "#9c179e"
             ],
             [
              0.4444444444444444,
              "#bd3786"
             ],
             [
              0.5555555555555556,
              "#d8576b"
             ],
             [
              0.6666666666666666,
              "#ed7953"
             ],
             [
              0.7777777777777778,
              "#fb9f3a"
             ],
             [
              0.8888888888888888,
              "#fdca26"
             ],
             [
              1,
              "#f0f921"
             ]
            ],
            "type": "heatmapgl"
           }
          ],
          "histogram": [
           {
            "marker": {
             "pattern": {
              "fillmode": "overlay",
              "size": 10,
              "solidity": 0.2
             }
            },
            "type": "histogram"
           }
          ],
          "histogram2d": [
           {
            "colorbar": {
             "outlinewidth": 0,
             "ticks": ""
            },
            "colorscale": [
             [
              0,
              "#0d0887"
             ],
             [
              0.1111111111111111,
              "#46039f"
             ],
             [
              0.2222222222222222,
              "#7201a8"
             ],
             [
              0.3333333333333333,
              "#9c179e"
             ],
             [
              0.4444444444444444,
              "#bd3786"
             ],
             [
              0.5555555555555556,
              "#d8576b"
             ],
             [
              0.6666666666666666,
              "#ed7953"
             ],
             [
              0.7777777777777778,
              "#fb9f3a"
             ],
             [
              0.8888888888888888,
              "#fdca26"
             ],
             [
              1,
              "#f0f921"
             ]
            ],
            "type": "histogram2d"
           }
          ],
          "histogram2dcontour": [
           {
            "colorbar": {
             "outlinewidth": 0,
             "ticks": ""
            },
            "colorscale": [
             [
              0,
              "#0d0887"
             ],
             [
              0.1111111111111111,
              "#46039f"
             ],
             [
              0.2222222222222222,
              "#7201a8"
             ],
             [
              0.3333333333333333,
              "#9c179e"
             ],
             [
              0.4444444444444444,
              "#bd3786"
             ],
             [
              0.5555555555555556,
              "#d8576b"
             ],
             [
              0.6666666666666666,
              "#ed7953"
             ],
             [
              0.7777777777777778,
              "#fb9f3a"
             ],
             [
              0.8888888888888888,
              "#fdca26"
             ],
             [
              1,
              "#f0f921"
             ]
            ],
            "type": "histogram2dcontour"
           }
          ],
          "mesh3d": [
           {
            "colorbar": {
             "outlinewidth": 0,
             "ticks": ""
            },
            "type": "mesh3d"
           }
          ],
          "parcoords": [
           {
            "line": {
             "colorbar": {
              "outlinewidth": 0,
              "ticks": ""
             }
            },
            "type": "parcoords"
           }
          ],
          "pie": [
           {
            "automargin": true,
            "type": "pie"
           }
          ],
          "scatter": [
           {
            "fillpattern": {
             "fillmode": "overlay",
             "size": 10,
             "solidity": 0.2
            },
            "type": "scatter"
           }
          ],
          "scatter3d": [
           {
            "line": {
             "colorbar": {
              "outlinewidth": 0,
              "ticks": ""
             }
            },
            "marker": {
             "colorbar": {
              "outlinewidth": 0,
              "ticks": ""
             }
            },
            "type": "scatter3d"
           }
          ],
          "scattercarpet": [
           {
            "marker": {
             "colorbar": {
              "outlinewidth": 0,
              "ticks": ""
             }
            },
            "type": "scattercarpet"
           }
          ],
          "scattergeo": [
           {
            "marker": {
             "colorbar": {
              "outlinewidth": 0,
              "ticks": ""
             }
            },
            "type": "scattergeo"
           }
          ],
          "scattergl": [
           {
            "marker": {
             "colorbar": {
              "outlinewidth": 0,
              "ticks": ""
             }
            },
            "type": "scattergl"
           }
          ],
          "scattermapbox": [
           {
            "marker": {
             "colorbar": {
              "outlinewidth": 0,
              "ticks": ""
             }
            },
            "type": "scattermapbox"
           }
          ],
          "scatterpolar": [
           {
            "marker": {
             "colorbar": {
              "outlinewidth": 0,
              "ticks": ""
             }
            },
            "type": "scatterpolar"
           }
          ],
          "scatterpolargl": [
           {
            "marker": {
             "colorbar": {
              "outlinewidth": 0,
              "ticks": ""
             }
            },
            "type": "scatterpolargl"
           }
          ],
          "scatterternary": [
           {
            "marker": {
             "colorbar": {
              "outlinewidth": 0,
              "ticks": ""
             }
            },
            "type": "scatterternary"
           }
          ],
          "surface": [
           {
            "colorbar": {
             "outlinewidth": 0,
             "ticks": ""
            },
            "colorscale": [
             [
              0,
              "#0d0887"
             ],
             [
              0.1111111111111111,
              "#46039f"
             ],
             [
              0.2222222222222222,
              "#7201a8"
             ],
             [
              0.3333333333333333,
              "#9c179e"
             ],
             [
              0.4444444444444444,
              "#bd3786"
             ],
             [
              0.5555555555555556,
              "#d8576b"
             ],
             [
              0.6666666666666666,
              "#ed7953"
             ],
             [
              0.7777777777777778,
              "#fb9f3a"
             ],
             [
              0.8888888888888888,
              "#fdca26"
             ],
             [
              1,
              "#f0f921"
             ]
            ],
            "type": "surface"
           }
          ],
          "table": [
           {
            "cells": {
             "fill": {
              "color": "#EBF0F8"
             },
             "line": {
              "color": "white"
             }
            },
            "header": {
             "fill": {
              "color": "#C8D4E3"
             },
             "line": {
              "color": "white"
             }
            },
            "type": "table"
           }
          ]
         },
         "layout": {
          "annotationdefaults": {
           "arrowcolor": "#2a3f5f",
           "arrowhead": 0,
           "arrowwidth": 1
          },
          "autotypenumbers": "strict",
          "coloraxis": {
           "colorbar": {
            "outlinewidth": 0,
            "ticks": ""
           }
          },
          "colorscale": {
           "diverging": [
            [
             0,
             "#8e0152"
            ],
            [
             0.1,
             "#c51b7d"
            ],
            [
             0.2,
             "#de77ae"
            ],
            [
             0.3,
             "#f1b6da"
            ],
            [
             0.4,
             "#fde0ef"
            ],
            [
             0.5,
             "#f7f7f7"
            ],
            [
             0.6,
             "#e6f5d0"
            ],
            [
             0.7,
             "#b8e186"
            ],
            [
             0.8,
             "#7fbc41"
            ],
            [
             0.9,
             "#4d9221"
            ],
            [
             1,
             "#276419"
            ]
           ],
           "sequential": [
            [
             0,
             "#0d0887"
            ],
            [
             0.1111111111111111,
             "#46039f"
            ],
            [
             0.2222222222222222,
             "#7201a8"
            ],
            [
             0.3333333333333333,
             "#9c179e"
            ],
            [
             0.4444444444444444,
             "#bd3786"
            ],
            [
             0.5555555555555556,
             "#d8576b"
            ],
            [
             0.6666666666666666,
             "#ed7953"
            ],
            [
             0.7777777777777778,
             "#fb9f3a"
            ],
            [
             0.8888888888888888,
             "#fdca26"
            ],
            [
             1,
             "#f0f921"
            ]
           ],
           "sequentialminus": [
            [
             0,
             "#0d0887"
            ],
            [
             0.1111111111111111,
             "#46039f"
            ],
            [
             0.2222222222222222,
             "#7201a8"
            ],
            [
             0.3333333333333333,
             "#9c179e"
            ],
            [
             0.4444444444444444,
             "#bd3786"
            ],
            [
             0.5555555555555556,
             "#d8576b"
            ],
            [
             0.6666666666666666,
             "#ed7953"
            ],
            [
             0.7777777777777778,
             "#fb9f3a"
            ],
            [
             0.8888888888888888,
             "#fdca26"
            ],
            [
             1,
             "#f0f921"
            ]
           ]
          },
          "colorway": [
           "#636efa",
           "#EF553B",
           "#00cc96",
           "#ab63fa",
           "#FFA15A",
           "#19d3f3",
           "#FF6692",
           "#B6E880",
           "#FF97FF",
           "#FECB52"
          ],
          "font": {
           "color": "#2a3f5f"
          },
          "geo": {
           "bgcolor": "white",
           "lakecolor": "white",
           "landcolor": "#E5ECF6",
           "showlakes": true,
           "showland": true,
           "subunitcolor": "white"
          },
          "hoverlabel": {
           "align": "left"
          },
          "hovermode": "closest",
          "mapbox": {
           "style": "light"
          },
          "paper_bgcolor": "white",
          "plot_bgcolor": "#E5ECF6",
          "polar": {
           "angularaxis": {
            "gridcolor": "white",
            "linecolor": "white",
            "ticks": ""
           },
           "bgcolor": "#E5ECF6",
           "radialaxis": {
            "gridcolor": "white",
            "linecolor": "white",
            "ticks": ""
           }
          },
          "scene": {
           "xaxis": {
            "backgroundcolor": "#E5ECF6",
            "gridcolor": "white",
            "gridwidth": 2,
            "linecolor": "white",
            "showbackground": true,
            "ticks": "",
            "zerolinecolor": "white"
           },
           "yaxis": {
            "backgroundcolor": "#E5ECF6",
            "gridcolor": "white",
            "gridwidth": 2,
            "linecolor": "white",
            "showbackground": true,
            "ticks": "",
            "zerolinecolor": "white"
           },
           "zaxis": {
            "backgroundcolor": "#E5ECF6",
            "gridcolor": "white",
            "gridwidth": 2,
            "linecolor": "white",
            "showbackground": true,
            "ticks": "",
            "zerolinecolor": "white"
           }
          },
          "shapedefaults": {
           "line": {
            "color": "#2a3f5f"
           }
          },
          "ternary": {
           "aaxis": {
            "gridcolor": "white",
            "linecolor": "white",
            "ticks": ""
           },
           "baxis": {
            "gridcolor": "white",
            "linecolor": "white",
            "ticks": ""
           },
           "bgcolor": "#E5ECF6",
           "caxis": {
            "gridcolor": "white",
            "linecolor": "white",
            "ticks": ""
           }
          },
          "title": {
           "x": 0.05
          },
          "xaxis": {
           "automargin": true,
           "gridcolor": "white",
           "linecolor": "white",
           "ticks": "",
           "title": {
            "standoff": 15
           },
           "zerolinecolor": "white",
           "zerolinewidth": 2
          },
          "yaxis": {
           "automargin": true,
           "gridcolor": "white",
           "linecolor": "white",
           "ticks": "",
           "title": {
            "standoff": 15
           },
           "zerolinecolor": "white",
           "zerolinewidth": 2
          }
         }
        },
        "title": {
         "text": "CO2_corr"
        },
        "xaxis": {
         "anchor": "y",
         "domain": [
          0,
          1
         ],
         "title": {
          "text": "creation_timestamp"
         }
        },
        "yaxis": {
         "anchor": "x",
         "domain": [
          0,
          1
         ],
         "title": {
          "text": "CO2_corr"
         }
        }
       }
      }
     },
     "metadata": {},
     "output_type": "display_data"
    }
   ],
   "source": [
    "col_name = \"CO2_corr\"\n",
    "\n",
    "df_all = pl.concat([df_a.select(\"creation_timestamp\",\"system_name\",col_name),df_p.select(\"creation_timestamp\",\"system_name\",col_name)], how=\"diagonal\")\n",
    "\n",
    "plot_sensor_measurement(df_all.collect(), col_name=\"CO2_corr\")\n"
   ]
  },
  {
   "cell_type": "markdown",
   "metadata": {},
   "source": [
    "# Scatter Plot, RSME, R^2"
   ]
  },
  {
   "cell_type": "code",
   "execution_count": 6,
   "metadata": {},
   "outputs": [
    {
     "name": "stdout",
     "output_type": "stream",
     "text": [
      "\n",
      "Analysis for System 7:\n",
      "RMSE: 5.673123654517518\n",
      "R2: 0.7089408118394327\n"
     ]
    }
   ],
   "source": [
    "print(f\"\\nAnalysis for System {sensor_id}:\")\n",
    "\n",
    "#----\n",
    "df_acropolis = df_a.select([\"creation_timestamp\", \"CO2_corr\"]) \\\n",
    "    .rename({\"CO2_corr\": f\"CO2_acropolis\"}).collect()\n",
    "    \n",
    "df_picarro = df_p.select([\"creation_timestamp\", \"CO2_corr\"]) \\\n",
    "    .rename({\"CO2_corr\": f\"CO2_picarro\"}).collect()\n",
    "    \n",
    "df_analysis = df_picarro.join(df_acropolis, on=\"creation_timestamp\")  \\\n",
    "    .filter(pl.col(\"CO2_picarro\") > 0)  \\\n",
    "    .filter(pl.col(f\"CO2_acropolis\") > 0)\n",
    "    \n",
    "l_picarro = df_analysis.select(\"CO2_picarro\").to_series().to_list()\n",
    "l_acropolis = df_analysis.select(f\"CO2_acropolis\").to_series().to_list()\n",
    "\n",
    "#----\n",
    "if len(l_acropolis) > 0:\n",
    "\n",
    "    rmse_result = rmse(l_picarro,l_acropolis)\n",
    "    print(f\"RMSE: {rmse_result}\")\n",
    "    \n",
    "    r2_result = calc_r2(l_picarro,l_acropolis)\n",
    "    print(f\"R2: {r2_result}\")"
   ]
  },
  {
   "cell_type": "markdown",
   "metadata": {},
   "source": [
    "# Plot in-flow and enclosure differences"
   ]
  },
  {
   "cell_type": "code",
   "execution_count": 7,
   "metadata": {},
   "outputs": [],
   "source": [
    "df_a = pl.scan_parquet(os.path.join(DATA_DIRECTORY, \"download\", \"acropolis.parquet\")) \\\n",
    "    .filter(pl.col(\"creation_timestamp\").is_between(start_date, end_date))  \\\n",
    "    .filter(pl.col(\"system_name\") == f\"tum-esm-midcost-raspi-{sensor_id}\" ) \\\n",
    "    .fill_null(strategy = \"backward\") \\\n",
    "    .fill_null(strategy = \"forward\")  \\\n",
    "    .sort(pl.col(\"creation_timestamp\")) \\\n",
    "    .groupby_dynamic(\"creation_timestamp\", every=filter) \\\n",
    "    .agg(pl.all().exclude([\"creation_timestamp\",\"DATE\",\"TIME\",\"datetime\",\"variant\"]).mean())  \n"
   ]
  },
  {
   "cell_type": "code",
   "execution_count": 8,
   "metadata": {},
   "outputs": [
    {
     "data": {
      "application/vnd.plotly.v1+json": {
       "config": {
        "plotlyServerURL": "https://plot.ly"
       },
       "data": [
        {
         "hovertemplate": "creation_timestamp=%{x}<br>pressure: flow - enclosure=%{y}<extra></extra>",
         "legendgroup": "",
         "line": {
          "color": "#636efa",
          "dash": "solid"
         },
         "marker": {
          "symbol": "circle"
         },
         "mode": "lines+markers",
         "name": "",
         "orientation": "v",
         "showlegend": false,
         "type": "scatter",
         "x": [
          "2023-10-12T11:00:00+00:00",
          "2023-10-12T12:00:00+00:00",
          "2023-10-12T13:00:00+00:00",
          "2023-10-12T14:00:00+00:00",
          "2023-10-12T15:00:00+00:00",
          "2023-10-12T16:00:00+00:00",
          "2023-10-12T17:00:00+00:00",
          "2023-10-12T18:00:00+00:00",
          "2023-10-12T19:00:00+00:00",
          "2023-10-12T20:00:00+00:00",
          "2023-10-12T21:00:00+00:00",
          "2023-10-12T22:00:00+00:00",
          "2023-10-12T23:00:00+00:00",
          "2023-10-13T00:00:00+00:00",
          "2023-10-13T01:00:00+00:00",
          "2023-10-13T02:00:00+00:00",
          "2023-10-13T03:00:00+00:00",
          "2023-10-13T04:00:00+00:00",
          "2023-10-13T05:00:00+00:00",
          "2023-10-13T06:00:00+00:00",
          "2023-10-13T07:00:00+00:00",
          "2023-10-13T08:00:00+00:00",
          "2023-10-13T09:00:00+00:00",
          "2023-10-13T10:00:00+00:00",
          "2023-10-13T11:00:00+00:00",
          "2023-10-13T12:00:00+00:00",
          "2023-10-13T13:00:00+00:00",
          "2023-10-13T14:00:00+00:00",
          "2023-10-13T15:00:00+00:00",
          "2023-10-13T16:00:00+00:00",
          "2023-10-13T17:00:00+00:00",
          "2023-10-13T18:00:00+00:00",
          "2023-10-13T19:00:00+00:00",
          "2023-10-13T20:00:00+00:00",
          "2023-10-13T21:00:00+00:00",
          "2023-10-13T22:00:00+00:00",
          "2023-10-13T23:00:00+00:00",
          "2023-10-14T00:00:00+00:00",
          "2023-10-14T01:00:00+00:00",
          "2023-10-14T02:00:00+00:00",
          "2023-10-14T03:00:00+00:00",
          "2023-10-14T04:00:00+00:00",
          "2023-10-14T05:00:00+00:00",
          "2023-10-14T06:00:00+00:00",
          "2023-10-14T07:00:00+00:00",
          "2023-10-14T08:00:00+00:00",
          "2023-10-14T09:00:00+00:00",
          "2023-10-14T10:00:00+00:00",
          "2023-10-14T11:00:00+00:00",
          "2023-10-14T12:00:00+00:00",
          "2023-10-14T13:00:00+00:00",
          "2023-10-14T14:00:00+00:00",
          "2023-10-14T15:00:00+00:00",
          "2023-10-14T16:00:00+00:00",
          "2023-10-14T17:00:00+00:00",
          "2023-10-14T18:00:00+00:00",
          "2023-10-14T19:00:00+00:00",
          "2023-10-14T20:00:00+00:00",
          "2023-10-14T21:00:00+00:00",
          "2023-10-14T22:00:00+00:00",
          "2023-10-14T23:00:00+00:00",
          "2023-10-15T00:00:00+00:00",
          "2023-10-15T01:00:00+00:00",
          "2023-10-15T02:00:00+00:00",
          "2023-10-15T03:00:00+00:00",
          "2023-10-15T04:00:00+00:00",
          "2023-10-15T05:00:00+00:00",
          "2023-10-15T06:00:00+00:00",
          "2023-10-15T07:00:00+00:00",
          "2023-10-15T08:00:00+00:00",
          "2023-10-15T09:00:00+00:00",
          "2023-10-15T10:00:00+00:00",
          "2023-10-15T11:00:00+00:00",
          "2023-10-15T12:00:00+00:00",
          "2023-10-15T13:00:00+00:00",
          "2023-10-15T14:00:00+00:00",
          "2023-10-15T15:00:00+00:00",
          "2023-10-15T16:00:00+00:00",
          "2023-10-15T17:00:00+00:00",
          "2023-10-15T18:00:00+00:00",
          "2023-10-15T19:00:00+00:00",
          "2023-10-15T20:00:00+00:00",
          "2023-10-15T21:00:00+00:00",
          "2023-10-15T22:00:00+00:00",
          "2023-10-15T23:00:00+00:00"
         ],
         "xaxis": "x",
         "y": [
          -69.77842995169044,
          -8.025535168197962,
          -9.035181598061286,
          -8.788523002422039,
          -8.765432692313425,
          -8.703173076925736,
          -8.764382566584572,
          -8.716274038462188,
          -8.64259079903104,
          -8.607530266341314,
          -8.647524038463985,
          -8.46812499999362,
          -8.483894230770943,
          -8.567481840191476,
          -8.254374999996799,
          -8.241590361445219,
          -8.317584541061592,
          -8.28918072289116,
          -8.238485576920539,
          -8.273171912829753,
          -7.957183462532157,
          -8.193084337347386,
          -8.404130434779518,
          -8.546650602409386,
          -8.423084337350133,
          -8.459854721549732,
          -8.433701923077251,
          -8.545048309182448,
          -8.455579710143638,
          -8.143922518158092,
          -8.361129807692237,
          -8.405181598062768,
          -8.281153846151028,
          -8.280750605326489,
          -8.281802884617946,
          -8.167985436892536,
          -9.101024390244561,
          -7.8246618357487705,
          -8.102530120481333,
          -8.12937500000237,
          -8.006240963855248,
          -8.044009661836753,
          -7.880192771085831,
          -8.673874092010351,
          -7.975907990313431,
          -7.079664082684985,
          -8.184567307693442,
          -8.259783132529606,
          -8.116014492754402,
          -8.200673076920907,
          -8.067638554217524,
          -8.404227053143813,
          -7.997301204819564,
          -7.889711538458187,
          -7.920072639225623,
          -7.864831730768742,
          -7.728048192771098,
          -7.8124213075082025,
          -7.6261501210649385,
          -7.890360576918624,
          -7.8930120481892345,
          -7.788547215500898,
          -7.769515738500331,
          -7.678245192308623,
          -7.594396135265697,
          -7.637180722890093,
          -7.566394230770925,
          -7.464479418883684,
          -7.676754807692305,
          -7.712289156626639,
          -5.561111111115224,
          -7.847259615387202,
          -7.648409638556586,
          -7.431373493977617,
          -7.84832929782101,
          -7.731855421685054,
          -7.68906024096384,
          -7.579301204818421,
          -7.485641646484623,
          -7.4396394230782334,
          -7.434624697336858,
          -7.4505555555563205,
          -7.390532687652012,
          -7.352149758458609,
          -7.370530120487047
         ],
         "yaxis": "y"
        }
       ],
       "layout": {
        "legend": {
         "tracegroupgap": 0
        },
        "template": {
         "data": {
          "bar": [
           {
            "error_x": {
             "color": "#2a3f5f"
            },
            "error_y": {
             "color": "#2a3f5f"
            },
            "marker": {
             "line": {
              "color": "#E5ECF6",
              "width": 0.5
             },
             "pattern": {
              "fillmode": "overlay",
              "size": 10,
              "solidity": 0.2
             }
            },
            "type": "bar"
           }
          ],
          "barpolar": [
           {
            "marker": {
             "line": {
              "color": "#E5ECF6",
              "width": 0.5
             },
             "pattern": {
              "fillmode": "overlay",
              "size": 10,
              "solidity": 0.2
             }
            },
            "type": "barpolar"
           }
          ],
          "carpet": [
           {
            "aaxis": {
             "endlinecolor": "#2a3f5f",
             "gridcolor": "white",
             "linecolor": "white",
             "minorgridcolor": "white",
             "startlinecolor": "#2a3f5f"
            },
            "baxis": {
             "endlinecolor": "#2a3f5f",
             "gridcolor": "white",
             "linecolor": "white",
             "minorgridcolor": "white",
             "startlinecolor": "#2a3f5f"
            },
            "type": "carpet"
           }
          ],
          "choropleth": [
           {
            "colorbar": {
             "outlinewidth": 0,
             "ticks": ""
            },
            "type": "choropleth"
           }
          ],
          "contour": [
           {
            "colorbar": {
             "outlinewidth": 0,
             "ticks": ""
            },
            "colorscale": [
             [
              0,
              "#0d0887"
             ],
             [
              0.1111111111111111,
              "#46039f"
             ],
             [
              0.2222222222222222,
              "#7201a8"
             ],
             [
              0.3333333333333333,
              "#9c179e"
             ],
             [
              0.4444444444444444,
              "#bd3786"
             ],
             [
              0.5555555555555556,
              "#d8576b"
             ],
             [
              0.6666666666666666,
              "#ed7953"
             ],
             [
              0.7777777777777778,
              "#fb9f3a"
             ],
             [
              0.8888888888888888,
              "#fdca26"
             ],
             [
              1,
              "#f0f921"
             ]
            ],
            "type": "contour"
           }
          ],
          "contourcarpet": [
           {
            "colorbar": {
             "outlinewidth": 0,
             "ticks": ""
            },
            "type": "contourcarpet"
           }
          ],
          "heatmap": [
           {
            "colorbar": {
             "outlinewidth": 0,
             "ticks": ""
            },
            "colorscale": [
             [
              0,
              "#0d0887"
             ],
             [
              0.1111111111111111,
              "#46039f"
             ],
             [
              0.2222222222222222,
              "#7201a8"
             ],
             [
              0.3333333333333333,
              "#9c179e"
             ],
             [
              0.4444444444444444,
              "#bd3786"
             ],
             [
              0.5555555555555556,
              "#d8576b"
             ],
             [
              0.6666666666666666,
              "#ed7953"
             ],
             [
              0.7777777777777778,
              "#fb9f3a"
             ],
             [
              0.8888888888888888,
              "#fdca26"
             ],
             [
              1,
              "#f0f921"
             ]
            ],
            "type": "heatmap"
           }
          ],
          "heatmapgl": [
           {
            "colorbar": {
             "outlinewidth": 0,
             "ticks": ""
            },
            "colorscale": [
             [
              0,
              "#0d0887"
             ],
             [
              0.1111111111111111,
              "#46039f"
             ],
             [
              0.2222222222222222,
              "#7201a8"
             ],
             [
              0.3333333333333333,
              "#9c179e"
             ],
             [
              0.4444444444444444,
              "#bd3786"
             ],
             [
              0.5555555555555556,
              "#d8576b"
             ],
             [
              0.6666666666666666,
              "#ed7953"
             ],
             [
              0.7777777777777778,
              "#fb9f3a"
             ],
             [
              0.8888888888888888,
              "#fdca26"
             ],
             [
              1,
              "#f0f921"
             ]
            ],
            "type": "heatmapgl"
           }
          ],
          "histogram": [
           {
            "marker": {
             "pattern": {
              "fillmode": "overlay",
              "size": 10,
              "solidity": 0.2
             }
            },
            "type": "histogram"
           }
          ],
          "histogram2d": [
           {
            "colorbar": {
             "outlinewidth": 0,
             "ticks": ""
            },
            "colorscale": [
             [
              0,
              "#0d0887"
             ],
             [
              0.1111111111111111,
              "#46039f"
             ],
             [
              0.2222222222222222,
              "#7201a8"
             ],
             [
              0.3333333333333333,
              "#9c179e"
             ],
             [
              0.4444444444444444,
              "#bd3786"
             ],
             [
              0.5555555555555556,
              "#d8576b"
             ],
             [
              0.6666666666666666,
              "#ed7953"
             ],
             [
              0.7777777777777778,
              "#fb9f3a"
             ],
             [
              0.8888888888888888,
              "#fdca26"
             ],
             [
              1,
              "#f0f921"
             ]
            ],
            "type": "histogram2d"
           }
          ],
          "histogram2dcontour": [
           {
            "colorbar": {
             "outlinewidth": 0,
             "ticks": ""
            },
            "colorscale": [
             [
              0,
              "#0d0887"
             ],
             [
              0.1111111111111111,
              "#46039f"
             ],
             [
              0.2222222222222222,
              "#7201a8"
             ],
             [
              0.3333333333333333,
              "#9c179e"
             ],
             [
              0.4444444444444444,
              "#bd3786"
             ],
             [
              0.5555555555555556,
              "#d8576b"
             ],
             [
              0.6666666666666666,
              "#ed7953"
             ],
             [
              0.7777777777777778,
              "#fb9f3a"
             ],
             [
              0.8888888888888888,
              "#fdca26"
             ],
             [
              1,
              "#f0f921"
             ]
            ],
            "type": "histogram2dcontour"
           }
          ],
          "mesh3d": [
           {
            "colorbar": {
             "outlinewidth": 0,
             "ticks": ""
            },
            "type": "mesh3d"
           }
          ],
          "parcoords": [
           {
            "line": {
             "colorbar": {
              "outlinewidth": 0,
              "ticks": ""
             }
            },
            "type": "parcoords"
           }
          ],
          "pie": [
           {
            "automargin": true,
            "type": "pie"
           }
          ],
          "scatter": [
           {
            "fillpattern": {
             "fillmode": "overlay",
             "size": 10,
             "solidity": 0.2
            },
            "type": "scatter"
           }
          ],
          "scatter3d": [
           {
            "line": {
             "colorbar": {
              "outlinewidth": 0,
              "ticks": ""
             }
            },
            "marker": {
             "colorbar": {
              "outlinewidth": 0,
              "ticks": ""
             }
            },
            "type": "scatter3d"
           }
          ],
          "scattercarpet": [
           {
            "marker": {
             "colorbar": {
              "outlinewidth": 0,
              "ticks": ""
             }
            },
            "type": "scattercarpet"
           }
          ],
          "scattergeo": [
           {
            "marker": {
             "colorbar": {
              "outlinewidth": 0,
              "ticks": ""
             }
            },
            "type": "scattergeo"
           }
          ],
          "scattergl": [
           {
            "marker": {
             "colorbar": {
              "outlinewidth": 0,
              "ticks": ""
             }
            },
            "type": "scattergl"
           }
          ],
          "scattermapbox": [
           {
            "marker": {
             "colorbar": {
              "outlinewidth": 0,
              "ticks": ""
             }
            },
            "type": "scattermapbox"
           }
          ],
          "scatterpolar": [
           {
            "marker": {
             "colorbar": {
              "outlinewidth": 0,
              "ticks": ""
             }
            },
            "type": "scatterpolar"
           }
          ],
          "scatterpolargl": [
           {
            "marker": {
             "colorbar": {
              "outlinewidth": 0,
              "ticks": ""
             }
            },
            "type": "scatterpolargl"
           }
          ],
          "scatterternary": [
           {
            "marker": {
             "colorbar": {
              "outlinewidth": 0,
              "ticks": ""
             }
            },
            "type": "scatterternary"
           }
          ],
          "surface": [
           {
            "colorbar": {
             "outlinewidth": 0,
             "ticks": ""
            },
            "colorscale": [
             [
              0,
              "#0d0887"
             ],
             [
              0.1111111111111111,
              "#46039f"
             ],
             [
              0.2222222222222222,
              "#7201a8"
             ],
             [
              0.3333333333333333,
              "#9c179e"
             ],
             [
              0.4444444444444444,
              "#bd3786"
             ],
             [
              0.5555555555555556,
              "#d8576b"
             ],
             [
              0.6666666666666666,
              "#ed7953"
             ],
             [
              0.7777777777777778,
              "#fb9f3a"
             ],
             [
              0.8888888888888888,
              "#fdca26"
             ],
             [
              1,
              "#f0f921"
             ]
            ],
            "type": "surface"
           }
          ],
          "table": [
           {
            "cells": {
             "fill": {
              "color": "#EBF0F8"
             },
             "line": {
              "color": "white"
             }
            },
            "header": {
             "fill": {
              "color": "#C8D4E3"
             },
             "line": {
              "color": "white"
             }
            },
            "type": "table"
           }
          ]
         },
         "layout": {
          "annotationdefaults": {
           "arrowcolor": "#2a3f5f",
           "arrowhead": 0,
           "arrowwidth": 1
          },
          "autotypenumbers": "strict",
          "coloraxis": {
           "colorbar": {
            "outlinewidth": 0,
            "ticks": ""
           }
          },
          "colorscale": {
           "diverging": [
            [
             0,
             "#8e0152"
            ],
            [
             0.1,
             "#c51b7d"
            ],
            [
             0.2,
             "#de77ae"
            ],
            [
             0.3,
             "#f1b6da"
            ],
            [
             0.4,
             "#fde0ef"
            ],
            [
             0.5,
             "#f7f7f7"
            ],
            [
             0.6,
             "#e6f5d0"
            ],
            [
             0.7,
             "#b8e186"
            ],
            [
             0.8,
             "#7fbc41"
            ],
            [
             0.9,
             "#4d9221"
            ],
            [
             1,
             "#276419"
            ]
           ],
           "sequential": [
            [
             0,
             "#0d0887"
            ],
            [
             0.1111111111111111,
             "#46039f"
            ],
            [
             0.2222222222222222,
             "#7201a8"
            ],
            [
             0.3333333333333333,
             "#9c179e"
            ],
            [
             0.4444444444444444,
             "#bd3786"
            ],
            [
             0.5555555555555556,
             "#d8576b"
            ],
            [
             0.6666666666666666,
             "#ed7953"
            ],
            [
             0.7777777777777778,
             "#fb9f3a"
            ],
            [
             0.8888888888888888,
             "#fdca26"
            ],
            [
             1,
             "#f0f921"
            ]
           ],
           "sequentialminus": [
            [
             0,
             "#0d0887"
            ],
            [
             0.1111111111111111,
             "#46039f"
            ],
            [
             0.2222222222222222,
             "#7201a8"
            ],
            [
             0.3333333333333333,
             "#9c179e"
            ],
            [
             0.4444444444444444,
             "#bd3786"
            ],
            [
             0.5555555555555556,
             "#d8576b"
            ],
            [
             0.6666666666666666,
             "#ed7953"
            ],
            [
             0.7777777777777778,
             "#fb9f3a"
            ],
            [
             0.8888888888888888,
             "#fdca26"
            ],
            [
             1,
             "#f0f921"
            ]
           ]
          },
          "colorway": [
           "#636efa",
           "#EF553B",
           "#00cc96",
           "#ab63fa",
           "#FFA15A",
           "#19d3f3",
           "#FF6692",
           "#B6E880",
           "#FF97FF",
           "#FECB52"
          ],
          "font": {
           "color": "#2a3f5f"
          },
          "geo": {
           "bgcolor": "white",
           "lakecolor": "white",
           "landcolor": "#E5ECF6",
           "showlakes": true,
           "showland": true,
           "subunitcolor": "white"
          },
          "hoverlabel": {
           "align": "left"
          },
          "hovermode": "closest",
          "mapbox": {
           "style": "light"
          },
          "paper_bgcolor": "white",
          "plot_bgcolor": "#E5ECF6",
          "polar": {
           "angularaxis": {
            "gridcolor": "white",
            "linecolor": "white",
            "ticks": ""
           },
           "bgcolor": "#E5ECF6",
           "radialaxis": {
            "gridcolor": "white",
            "linecolor": "white",
            "ticks": ""
           }
          },
          "scene": {
           "xaxis": {
            "backgroundcolor": "#E5ECF6",
            "gridcolor": "white",
            "gridwidth": 2,
            "linecolor": "white",
            "showbackground": true,
            "ticks": "",
            "zerolinecolor": "white"
           },
           "yaxis": {
            "backgroundcolor": "#E5ECF6",
            "gridcolor": "white",
            "gridwidth": 2,
            "linecolor": "white",
            "showbackground": true,
            "ticks": "",
            "zerolinecolor": "white"
           },
           "zaxis": {
            "backgroundcolor": "#E5ECF6",
            "gridcolor": "white",
            "gridwidth": 2,
            "linecolor": "white",
            "showbackground": true,
            "ticks": "",
            "zerolinecolor": "white"
           }
          },
          "shapedefaults": {
           "line": {
            "color": "#2a3f5f"
           }
          },
          "ternary": {
           "aaxis": {
            "gridcolor": "white",
            "linecolor": "white",
            "ticks": ""
           },
           "baxis": {
            "gridcolor": "white",
            "linecolor": "white",
            "ticks": ""
           },
           "bgcolor": "#E5ECF6",
           "caxis": {
            "gridcolor": "white",
            "linecolor": "white",
            "ticks": ""
           }
          },
          "title": {
           "x": 0.05
          },
          "xaxis": {
           "automargin": true,
           "gridcolor": "white",
           "linecolor": "white",
           "ticks": "",
           "title": {
            "standoff": 15
           },
           "zerolinecolor": "white",
           "zerolinewidth": 2
          },
          "yaxis": {
           "automargin": true,
           "gridcolor": "white",
           "linecolor": "white",
           "ticks": "",
           "title": {
            "standoff": 15
           },
           "zerolinecolor": "white",
           "zerolinewidth": 2
          }
         }
        },
        "title": {
         "text": "pressure: flow - enclosure"
        },
        "xaxis": {
         "anchor": "y",
         "domain": [
          0,
          1
         ],
         "title": {
          "text": "creation_timestamp"
         }
        },
        "yaxis": {
         "anchor": "x",
         "domain": [
          0,
          1
         ],
         "title": {
          "text": "pressure: flow - enclosure"
         }
        }
       }
      }
     },
     "metadata": {},
     "output_type": "display_data"
    }
   ],
   "source": [
    "# Pressure Delta\n",
    "\n",
    "col_name = \"pressure: flow - enclosure\"\n",
    "\n",
    "df_temp = df_a.with_columns((pl.col(\"bme280_pressure\") - pl.col(\"enclosure_bme280_pressure\")).alias(col_name)) \\\n",
    ".select(\"creation_timestamp\",\"system_name\",col_name).collect()\n",
    "\n",
    "import plotly.express as px\n",
    "\n",
    "fig = px.line(df_temp, x=\"creation_timestamp\", y=col_name, markers=True, title = col_name)\n",
    "fig.show()"
   ]
  },
  {
   "cell_type": "code",
   "execution_count": 9,
   "metadata": {},
   "outputs": [
    {
     "data": {
      "application/vnd.plotly.v1+json": {
       "config": {
        "plotlyServerURL": "https://plot.ly"
       },
       "data": [
        {
         "hovertemplate": "creation_timestamp=%{x}<br>humidity: flow - enclosure=%{y}<extra></extra>",
         "legendgroup": "",
         "line": {
          "color": "#636efa",
          "dash": "solid"
         },
         "marker": {
          "symbol": "circle"
         },
         "mode": "lines+markers",
         "name": "",
         "orientation": "v",
         "showlegend": false,
         "type": "scatter",
         "x": [
          "2023-10-12T11:00:00+00:00",
          "2023-10-12T12:00:00+00:00",
          "2023-10-12T13:00:00+00:00",
          "2023-10-12T14:00:00+00:00",
          "2023-10-12T15:00:00+00:00",
          "2023-10-12T16:00:00+00:00",
          "2023-10-12T17:00:00+00:00",
          "2023-10-12T18:00:00+00:00",
          "2023-10-12T19:00:00+00:00",
          "2023-10-12T20:00:00+00:00",
          "2023-10-12T21:00:00+00:00",
          "2023-10-12T22:00:00+00:00",
          "2023-10-12T23:00:00+00:00",
          "2023-10-13T00:00:00+00:00",
          "2023-10-13T01:00:00+00:00",
          "2023-10-13T02:00:00+00:00",
          "2023-10-13T03:00:00+00:00",
          "2023-10-13T04:00:00+00:00",
          "2023-10-13T05:00:00+00:00",
          "2023-10-13T06:00:00+00:00",
          "2023-10-13T07:00:00+00:00",
          "2023-10-13T08:00:00+00:00",
          "2023-10-13T09:00:00+00:00",
          "2023-10-13T10:00:00+00:00",
          "2023-10-13T11:00:00+00:00",
          "2023-10-13T12:00:00+00:00",
          "2023-10-13T13:00:00+00:00",
          "2023-10-13T14:00:00+00:00",
          "2023-10-13T15:00:00+00:00",
          "2023-10-13T16:00:00+00:00",
          "2023-10-13T17:00:00+00:00",
          "2023-10-13T18:00:00+00:00",
          "2023-10-13T19:00:00+00:00",
          "2023-10-13T20:00:00+00:00",
          "2023-10-13T21:00:00+00:00",
          "2023-10-13T22:00:00+00:00",
          "2023-10-13T23:00:00+00:00",
          "2023-10-14T00:00:00+00:00",
          "2023-10-14T01:00:00+00:00",
          "2023-10-14T02:00:00+00:00",
          "2023-10-14T03:00:00+00:00",
          "2023-10-14T04:00:00+00:00",
          "2023-10-14T05:00:00+00:00",
          "2023-10-14T06:00:00+00:00",
          "2023-10-14T07:00:00+00:00",
          "2023-10-14T08:00:00+00:00",
          "2023-10-14T09:00:00+00:00",
          "2023-10-14T10:00:00+00:00",
          "2023-10-14T11:00:00+00:00",
          "2023-10-14T12:00:00+00:00",
          "2023-10-14T13:00:00+00:00",
          "2023-10-14T14:00:00+00:00",
          "2023-10-14T15:00:00+00:00",
          "2023-10-14T16:00:00+00:00",
          "2023-10-14T17:00:00+00:00",
          "2023-10-14T18:00:00+00:00",
          "2023-10-14T19:00:00+00:00",
          "2023-10-14T20:00:00+00:00",
          "2023-10-14T21:00:00+00:00",
          "2023-10-14T22:00:00+00:00",
          "2023-10-14T23:00:00+00:00",
          "2023-10-15T00:00:00+00:00",
          "2023-10-15T01:00:00+00:00",
          "2023-10-15T02:00:00+00:00",
          "2023-10-15T03:00:00+00:00",
          "2023-10-15T04:00:00+00:00",
          "2023-10-15T05:00:00+00:00",
          "2023-10-15T06:00:00+00:00",
          "2023-10-15T07:00:00+00:00",
          "2023-10-15T08:00:00+00:00",
          "2023-10-15T09:00:00+00:00",
          "2023-10-15T10:00:00+00:00",
          "2023-10-15T11:00:00+00:00",
          "2023-10-15T12:00:00+00:00",
          "2023-10-15T13:00:00+00:00",
          "2023-10-15T14:00:00+00:00",
          "2023-10-15T15:00:00+00:00",
          "2023-10-15T16:00:00+00:00",
          "2023-10-15T17:00:00+00:00",
          "2023-10-15T18:00:00+00:00",
          "2023-10-15T19:00:00+00:00",
          "2023-10-15T20:00:00+00:00",
          "2023-10-15T21:00:00+00:00",
          "2023-10-15T22:00:00+00:00",
          "2023-10-15T23:00:00+00:00"
         ],
         "xaxis": "x",
         "y": [
          10.807536231884054,
          -3.4451070336391876,
          9.678595641646513,
          12.671089588377718,
          12.886466346153789,
          13.43569711538462,
          13.825932203389861,
          13.762139423076906,
          13.511089588377734,
          13.424963680387382,
          13.552355769230854,
          13.811298076923109,
          14.0223317307692,
          14.211355932203453,
          14.31014423076924,
          14.52684337349401,
          14.620845410628046,
          14.629759036144552,
          14.767115384615401,
          15.304673123486676,
          -4.613204134366995,
          11.739036144578296,
          13.236038647342943,
          13.155204819277097,
          11.726433734939748,
          10.423510895883798,
          10.627596153846156,
          10.780531400966176,
          11.09000000000003,
          12.02213075060531,
          12.383942307692308,
          12.559079903147705,
          12.70223557692312,
          13.008571428571418,
          13.319711538461542,
          13.554490291262095,
          13.993121951219553,
          14.302850241545883,
          14.532843373493979,
          15.035721153846225,
          14.970072289156633,
          16.02666666666676,
          17.957807228915538,
          18.67075060532684,
          19.210944309927363,
          -7.347726098191263,
          13.826394230769246,
          16.850120481927707,
          17.96181159420289,
          17.967187500000005,
          18.321036144578308,
          19.70649758454099,
          21.517783132530106,
          23.543485576923125,
          24.140944309927356,
          21.70276442307697,
          21.992530120481955,
          21.24852300242131,
          21.157748184019376,
          17.910721153846282,
          17.336216867469894,
          18.449079903147666,
          19.435544794188754,
          19.963581730769217,
          20.442608695652137,
          20.90298795180717,
          21.179182692307677,
          21.557554479418805,
          21.49586538461539,
          19.056939759036137,
          -9.137441860465092,
          16.247572115384582,
          20.784506024096356,
          22.806771084337417,
          18.708232445520594,
          19.232481927710822,
          20.605084337349453,
          19.63901204819276,
          20.39116222760294,
          20.538629807692338,
          20.71428571428565,
          20.84874396135252,
          20.86145278450352,
          21.16132850241541,
          21.44443373493955
         ],
         "yaxis": "y"
        }
       ],
       "layout": {
        "legend": {
         "tracegroupgap": 0
        },
        "template": {
         "data": {
          "bar": [
           {
            "error_x": {
             "color": "#2a3f5f"
            },
            "error_y": {
             "color": "#2a3f5f"
            },
            "marker": {
             "line": {
              "color": "#E5ECF6",
              "width": 0.5
             },
             "pattern": {
              "fillmode": "overlay",
              "size": 10,
              "solidity": 0.2
             }
            },
            "type": "bar"
           }
          ],
          "barpolar": [
           {
            "marker": {
             "line": {
              "color": "#E5ECF6",
              "width": 0.5
             },
             "pattern": {
              "fillmode": "overlay",
              "size": 10,
              "solidity": 0.2
             }
            },
            "type": "barpolar"
           }
          ],
          "carpet": [
           {
            "aaxis": {
             "endlinecolor": "#2a3f5f",
             "gridcolor": "white",
             "linecolor": "white",
             "minorgridcolor": "white",
             "startlinecolor": "#2a3f5f"
            },
            "baxis": {
             "endlinecolor": "#2a3f5f",
             "gridcolor": "white",
             "linecolor": "white",
             "minorgridcolor": "white",
             "startlinecolor": "#2a3f5f"
            },
            "type": "carpet"
           }
          ],
          "choropleth": [
           {
            "colorbar": {
             "outlinewidth": 0,
             "ticks": ""
            },
            "type": "choropleth"
           }
          ],
          "contour": [
           {
            "colorbar": {
             "outlinewidth": 0,
             "ticks": ""
            },
            "colorscale": [
             [
              0,
              "#0d0887"
             ],
             [
              0.1111111111111111,
              "#46039f"
             ],
             [
              0.2222222222222222,
              "#7201a8"
             ],
             [
              0.3333333333333333,
              "#9c179e"
             ],
             [
              0.4444444444444444,
              "#bd3786"
             ],
             [
              0.5555555555555556,
              "#d8576b"
             ],
             [
              0.6666666666666666,
              "#ed7953"
             ],
             [
              0.7777777777777778,
              "#fb9f3a"
             ],
             [
              0.8888888888888888,
              "#fdca26"
             ],
             [
              1,
              "#f0f921"
             ]
            ],
            "type": "contour"
           }
          ],
          "contourcarpet": [
           {
            "colorbar": {
             "outlinewidth": 0,
             "ticks": ""
            },
            "type": "contourcarpet"
           }
          ],
          "heatmap": [
           {
            "colorbar": {
             "outlinewidth": 0,
             "ticks": ""
            },
            "colorscale": [
             [
              0,
              "#0d0887"
             ],
             [
              0.1111111111111111,
              "#46039f"
             ],
             [
              0.2222222222222222,
              "#7201a8"
             ],
             [
              0.3333333333333333,
              "#9c179e"
             ],
             [
              0.4444444444444444,
              "#bd3786"
             ],
             [
              0.5555555555555556,
              "#d8576b"
             ],
             [
              0.6666666666666666,
              "#ed7953"
             ],
             [
              0.7777777777777778,
              "#fb9f3a"
             ],
             [
              0.8888888888888888,
              "#fdca26"
             ],
             [
              1,
              "#f0f921"
             ]
            ],
            "type": "heatmap"
           }
          ],
          "heatmapgl": [
           {
            "colorbar": {
             "outlinewidth": 0,
             "ticks": ""
            },
            "colorscale": [
             [
              0,
              "#0d0887"
             ],
             [
              0.1111111111111111,
              "#46039f"
             ],
             [
              0.2222222222222222,
              "#7201a8"
             ],
             [
              0.3333333333333333,
              "#9c179e"
             ],
             [
              0.4444444444444444,
              "#bd3786"
             ],
             [
              0.5555555555555556,
              "#d8576b"
             ],
             [
              0.6666666666666666,
              "#ed7953"
             ],
             [
              0.7777777777777778,
              "#fb9f3a"
             ],
             [
              0.8888888888888888,
              "#fdca26"
             ],
             [
              1,
              "#f0f921"
             ]
            ],
            "type": "heatmapgl"
           }
          ],
          "histogram": [
           {
            "marker": {
             "pattern": {
              "fillmode": "overlay",
              "size": 10,
              "solidity": 0.2
             }
            },
            "type": "histogram"
           }
          ],
          "histogram2d": [
           {
            "colorbar": {
             "outlinewidth": 0,
             "ticks": ""
            },
            "colorscale": [
             [
              0,
              "#0d0887"
             ],
             [
              0.1111111111111111,
              "#46039f"
             ],
             [
              0.2222222222222222,
              "#7201a8"
             ],
             [
              0.3333333333333333,
              "#9c179e"
             ],
             [
              0.4444444444444444,
              "#bd3786"
             ],
             [
              0.5555555555555556,
              "#d8576b"
             ],
             [
              0.6666666666666666,
              "#ed7953"
             ],
             [
              0.7777777777777778,
              "#fb9f3a"
             ],
             [
              0.8888888888888888,
              "#fdca26"
             ],
             [
              1,
              "#f0f921"
             ]
            ],
            "type": "histogram2d"
           }
          ],
          "histogram2dcontour": [
           {
            "colorbar": {
             "outlinewidth": 0,
             "ticks": ""
            },
            "colorscale": [
             [
              0,
              "#0d0887"
             ],
             [
              0.1111111111111111,
              "#46039f"
             ],
             [
              0.2222222222222222,
              "#7201a8"
             ],
             [
              0.3333333333333333,
              "#9c179e"
             ],
             [
              0.4444444444444444,
              "#bd3786"
             ],
             [
              0.5555555555555556,
              "#d8576b"
             ],
             [
              0.6666666666666666,
              "#ed7953"
             ],
             [
              0.7777777777777778,
              "#fb9f3a"
             ],
             [
              0.8888888888888888,
              "#fdca26"
             ],
             [
              1,
              "#f0f921"
             ]
            ],
            "type": "histogram2dcontour"
           }
          ],
          "mesh3d": [
           {
            "colorbar": {
             "outlinewidth": 0,
             "ticks": ""
            },
            "type": "mesh3d"
           }
          ],
          "parcoords": [
           {
            "line": {
             "colorbar": {
              "outlinewidth": 0,
              "ticks": ""
             }
            },
            "type": "parcoords"
           }
          ],
          "pie": [
           {
            "automargin": true,
            "type": "pie"
           }
          ],
          "scatter": [
           {
            "fillpattern": {
             "fillmode": "overlay",
             "size": 10,
             "solidity": 0.2
            },
            "type": "scatter"
           }
          ],
          "scatter3d": [
           {
            "line": {
             "colorbar": {
              "outlinewidth": 0,
              "ticks": ""
             }
            },
            "marker": {
             "colorbar": {
              "outlinewidth": 0,
              "ticks": ""
             }
            },
            "type": "scatter3d"
           }
          ],
          "scattercarpet": [
           {
            "marker": {
             "colorbar": {
              "outlinewidth": 0,
              "ticks": ""
             }
            },
            "type": "scattercarpet"
           }
          ],
          "scattergeo": [
           {
            "marker": {
             "colorbar": {
              "outlinewidth": 0,
              "ticks": ""
             }
            },
            "type": "scattergeo"
           }
          ],
          "scattergl": [
           {
            "marker": {
             "colorbar": {
              "outlinewidth": 0,
              "ticks": ""
             }
            },
            "type": "scattergl"
           }
          ],
          "scattermapbox": [
           {
            "marker": {
             "colorbar": {
              "outlinewidth": 0,
              "ticks": ""
             }
            },
            "type": "scattermapbox"
           }
          ],
          "scatterpolar": [
           {
            "marker": {
             "colorbar": {
              "outlinewidth": 0,
              "ticks": ""
             }
            },
            "type": "scatterpolar"
           }
          ],
          "scatterpolargl": [
           {
            "marker": {
             "colorbar": {
              "outlinewidth": 0,
              "ticks": ""
             }
            },
            "type": "scatterpolargl"
           }
          ],
          "scatterternary": [
           {
            "marker": {
             "colorbar": {
              "outlinewidth": 0,
              "ticks": ""
             }
            },
            "type": "scatterternary"
           }
          ],
          "surface": [
           {
            "colorbar": {
             "outlinewidth": 0,
             "ticks": ""
            },
            "colorscale": [
             [
              0,
              "#0d0887"
             ],
             [
              0.1111111111111111,
              "#46039f"
             ],
             [
              0.2222222222222222,
              "#7201a8"
             ],
             [
              0.3333333333333333,
              "#9c179e"
             ],
             [
              0.4444444444444444,
              "#bd3786"
             ],
             [
              0.5555555555555556,
              "#d8576b"
             ],
             [
              0.6666666666666666,
              "#ed7953"
             ],
             [
              0.7777777777777778,
              "#fb9f3a"
             ],
             [
              0.8888888888888888,
              "#fdca26"
             ],
             [
              1,
              "#f0f921"
             ]
            ],
            "type": "surface"
           }
          ],
          "table": [
           {
            "cells": {
             "fill": {
              "color": "#EBF0F8"
             },
             "line": {
              "color": "white"
             }
            },
            "header": {
             "fill": {
              "color": "#C8D4E3"
             },
             "line": {
              "color": "white"
             }
            },
            "type": "table"
           }
          ]
         },
         "layout": {
          "annotationdefaults": {
           "arrowcolor": "#2a3f5f",
           "arrowhead": 0,
           "arrowwidth": 1
          },
          "autotypenumbers": "strict",
          "coloraxis": {
           "colorbar": {
            "outlinewidth": 0,
            "ticks": ""
           }
          },
          "colorscale": {
           "diverging": [
            [
             0,
             "#8e0152"
            ],
            [
             0.1,
             "#c51b7d"
            ],
            [
             0.2,
             "#de77ae"
            ],
            [
             0.3,
             "#f1b6da"
            ],
            [
             0.4,
             "#fde0ef"
            ],
            [
             0.5,
             "#f7f7f7"
            ],
            [
             0.6,
             "#e6f5d0"
            ],
            [
             0.7,
             "#b8e186"
            ],
            [
             0.8,
             "#7fbc41"
            ],
            [
             0.9,
             "#4d9221"
            ],
            [
             1,
             "#276419"
            ]
           ],
           "sequential": [
            [
             0,
             "#0d0887"
            ],
            [
             0.1111111111111111,
             "#46039f"
            ],
            [
             0.2222222222222222,
             "#7201a8"
            ],
            [
             0.3333333333333333,
             "#9c179e"
            ],
            [
             0.4444444444444444,
             "#bd3786"
            ],
            [
             0.5555555555555556,
             "#d8576b"
            ],
            [
             0.6666666666666666,
             "#ed7953"
            ],
            [
             0.7777777777777778,
             "#fb9f3a"
            ],
            [
             0.8888888888888888,
             "#fdca26"
            ],
            [
             1,
             "#f0f921"
            ]
           ],
           "sequentialminus": [
            [
             0,
             "#0d0887"
            ],
            [
             0.1111111111111111,
             "#46039f"
            ],
            [
             0.2222222222222222,
             "#7201a8"
            ],
            [
             0.3333333333333333,
             "#9c179e"
            ],
            [
             0.4444444444444444,
             "#bd3786"
            ],
            [
             0.5555555555555556,
             "#d8576b"
            ],
            [
             0.6666666666666666,
             "#ed7953"
            ],
            [
             0.7777777777777778,
             "#fb9f3a"
            ],
            [
             0.8888888888888888,
             "#fdca26"
            ],
            [
             1,
             "#f0f921"
            ]
           ]
          },
          "colorway": [
           "#636efa",
           "#EF553B",
           "#00cc96",
           "#ab63fa",
           "#FFA15A",
           "#19d3f3",
           "#FF6692",
           "#B6E880",
           "#FF97FF",
           "#FECB52"
          ],
          "font": {
           "color": "#2a3f5f"
          },
          "geo": {
           "bgcolor": "white",
           "lakecolor": "white",
           "landcolor": "#E5ECF6",
           "showlakes": true,
           "showland": true,
           "subunitcolor": "white"
          },
          "hoverlabel": {
           "align": "left"
          },
          "hovermode": "closest",
          "mapbox": {
           "style": "light"
          },
          "paper_bgcolor": "white",
          "plot_bgcolor": "#E5ECF6",
          "polar": {
           "angularaxis": {
            "gridcolor": "white",
            "linecolor": "white",
            "ticks": ""
           },
           "bgcolor": "#E5ECF6",
           "radialaxis": {
            "gridcolor": "white",
            "linecolor": "white",
            "ticks": ""
           }
          },
          "scene": {
           "xaxis": {
            "backgroundcolor": "#E5ECF6",
            "gridcolor": "white",
            "gridwidth": 2,
            "linecolor": "white",
            "showbackground": true,
            "ticks": "",
            "zerolinecolor": "white"
           },
           "yaxis": {
            "backgroundcolor": "#E5ECF6",
            "gridcolor": "white",
            "gridwidth": 2,
            "linecolor": "white",
            "showbackground": true,
            "ticks": "",
            "zerolinecolor": "white"
           },
           "zaxis": {
            "backgroundcolor": "#E5ECF6",
            "gridcolor": "white",
            "gridwidth": 2,
            "linecolor": "white",
            "showbackground": true,
            "ticks": "",
            "zerolinecolor": "white"
           }
          },
          "shapedefaults": {
           "line": {
            "color": "#2a3f5f"
           }
          },
          "ternary": {
           "aaxis": {
            "gridcolor": "white",
            "linecolor": "white",
            "ticks": ""
           },
           "baxis": {
            "gridcolor": "white",
            "linecolor": "white",
            "ticks": ""
           },
           "bgcolor": "#E5ECF6",
           "caxis": {
            "gridcolor": "white",
            "linecolor": "white",
            "ticks": ""
           }
          },
          "title": {
           "x": 0.05
          },
          "xaxis": {
           "automargin": true,
           "gridcolor": "white",
           "linecolor": "white",
           "ticks": "",
           "title": {
            "standoff": 15
           },
           "zerolinecolor": "white",
           "zerolinewidth": 2
          },
          "yaxis": {
           "automargin": true,
           "gridcolor": "white",
           "linecolor": "white",
           "ticks": "",
           "title": {
            "standoff": 15
           },
           "zerolinecolor": "white",
           "zerolinewidth": 2
          }
         }
        },
        "title": {
         "text": "humidity: flow - enclosure"
        },
        "xaxis": {
         "anchor": "y",
         "domain": [
          0,
          1
         ],
         "title": {
          "text": "creation_timestamp"
         }
        },
        "yaxis": {
         "anchor": "x",
         "domain": [
          0,
          1
         ],
         "title": {
          "text": "humidity: flow - enclosure"
         }
        }
       }
      }
     },
     "metadata": {},
     "output_type": "display_data"
    }
   ],
   "source": [
    "# Humidity Delta\n",
    "col_name = \"humidity: flow - enclosure\"\n",
    "\n",
    "df_temp = df_a.with_columns((pl.col(\"sht45_humidity\") - pl.col(\"enclosure_bme280_humidity\")).alias(col_name)) \\\n",
    ".select(\"creation_timestamp\",\"system_name\",col_name).collect()\n",
    "\n",
    "import plotly.express as px\n",
    "\n",
    "fig = px.line(df_temp, x=\"creation_timestamp\", y=col_name, markers=True, title = col_name)\n",
    "fig.show()"
   ]
  },
  {
   "cell_type": "code",
   "execution_count": 10,
   "metadata": {},
   "outputs": [
    {
     "data": {
      "application/vnd.plotly.v1+json": {
       "config": {
        "plotlyServerURL": "https://plot.ly"
       },
       "data": [
        {
         "hovertemplate": "creation_timestamp=%{x}<br>temperature: flow - enclosure=%{y}<extra></extra>",
         "legendgroup": "",
         "line": {
          "color": "#636efa",
          "dash": "solid"
         },
         "marker": {
          "symbol": "circle"
         },
         "mode": "lines+markers",
         "name": "",
         "orientation": "v",
         "showlegend": false,
         "type": "scatter",
         "x": [
          "2023-10-12T11:00:00+00:00",
          "2023-10-12T12:00:00+00:00",
          "2023-10-12T13:00:00+00:00",
          "2023-10-12T14:00:00+00:00",
          "2023-10-12T15:00:00+00:00",
          "2023-10-12T16:00:00+00:00",
          "2023-10-12T17:00:00+00:00",
          "2023-10-12T18:00:00+00:00",
          "2023-10-12T19:00:00+00:00",
          "2023-10-12T20:00:00+00:00",
          "2023-10-12T21:00:00+00:00",
          "2023-10-12T22:00:00+00:00",
          "2023-10-12T23:00:00+00:00",
          "2023-10-13T00:00:00+00:00",
          "2023-10-13T01:00:00+00:00",
          "2023-10-13T02:00:00+00:00",
          "2023-10-13T03:00:00+00:00",
          "2023-10-13T04:00:00+00:00",
          "2023-10-13T05:00:00+00:00",
          "2023-10-13T06:00:00+00:00",
          "2023-10-13T07:00:00+00:00",
          "2023-10-13T08:00:00+00:00",
          "2023-10-13T09:00:00+00:00",
          "2023-10-13T10:00:00+00:00",
          "2023-10-13T11:00:00+00:00",
          "2023-10-13T12:00:00+00:00",
          "2023-10-13T13:00:00+00:00",
          "2023-10-13T14:00:00+00:00",
          "2023-10-13T15:00:00+00:00",
          "2023-10-13T16:00:00+00:00",
          "2023-10-13T17:00:00+00:00",
          "2023-10-13T18:00:00+00:00",
          "2023-10-13T19:00:00+00:00",
          "2023-10-13T20:00:00+00:00",
          "2023-10-13T21:00:00+00:00",
          "2023-10-13T22:00:00+00:00",
          "2023-10-13T23:00:00+00:00",
          "2023-10-14T00:00:00+00:00",
          "2023-10-14T01:00:00+00:00",
          "2023-10-14T02:00:00+00:00",
          "2023-10-14T03:00:00+00:00",
          "2023-10-14T04:00:00+00:00",
          "2023-10-14T05:00:00+00:00",
          "2023-10-14T06:00:00+00:00",
          "2023-10-14T07:00:00+00:00",
          "2023-10-14T08:00:00+00:00",
          "2023-10-14T09:00:00+00:00",
          "2023-10-14T10:00:00+00:00",
          "2023-10-14T11:00:00+00:00",
          "2023-10-14T12:00:00+00:00",
          "2023-10-14T13:00:00+00:00",
          "2023-10-14T14:00:00+00:00",
          "2023-10-14T15:00:00+00:00",
          "2023-10-14T16:00:00+00:00",
          "2023-10-14T17:00:00+00:00",
          "2023-10-14T18:00:00+00:00",
          "2023-10-14T19:00:00+00:00",
          "2023-10-14T20:00:00+00:00",
          "2023-10-14T21:00:00+00:00",
          "2023-10-14T22:00:00+00:00",
          "2023-10-14T23:00:00+00:00",
          "2023-10-15T00:00:00+00:00",
          "2023-10-15T01:00:00+00:00",
          "2023-10-15T02:00:00+00:00",
          "2023-10-15T03:00:00+00:00",
          "2023-10-15T04:00:00+00:00",
          "2023-10-15T05:00:00+00:00",
          "2023-10-15T06:00:00+00:00",
          "2023-10-15T07:00:00+00:00",
          "2023-10-15T08:00:00+00:00",
          "2023-10-15T09:00:00+00:00",
          "2023-10-15T10:00:00+00:00",
          "2023-10-15T11:00:00+00:00",
          "2023-10-15T12:00:00+00:00",
          "2023-10-15T13:00:00+00:00",
          "2023-10-15T14:00:00+00:00",
          "2023-10-15T15:00:00+00:00",
          "2023-10-15T16:00:00+00:00",
          "2023-10-15T17:00:00+00:00",
          "2023-10-15T18:00:00+00:00",
          "2023-10-15T19:00:00+00:00",
          "2023-10-15T20:00:00+00:00",
          "2023-10-15T21:00:00+00:00",
          "2023-10-15T22:00:00+00:00",
          "2023-10-15T23:00:00+00:00"
         ],
         "xaxis": "x",
         "y": [
          -5.995797101449284,
          -1.9857186544342014,
          -4.071961259079849,
          -6.734382566586071,
          -6.89747596153839,
          -6.881153846153865,
          -6.896440677966002,
          -6.892956730769168,
          -6.828426150120965,
          -6.6395399515736955,
          -6.640096153846123,
          -6.662500000000058,
          -6.698990384615353,
          -6.786561743341444,
          -6.838365384615294,
          -6.856987951807358,
          -6.807874396135251,
          -6.805518072289168,
          -6.766201923076945,
          -7.0599515738498475,
          -0.9966408268734988,
          -5.491108433734897,
          -6.8786473429951585,
          -7.152409638554367,
          -7.108385542168644,
          -6.631767554479421,
          -6.970480769230733,
          -7.1115942028983135,
          -7.144637681159459,
          -7.078208232445437,
          -7.0035576923076945,
          -6.901622276029055,
          -6.828173076923015,
          -6.812033898305142,
          -6.713100961538359,
          -6.748325242718355,
          -6.7718536585365925,
          -6.768236714975853,
          -6.828915662650655,
          -7.112572115384761,
          -6.984481927710693,
          -7.059782608695578,
          -7.104361445783113,
          -7.029467312348672,
          -7.016997578692369,
          -0.572945736434157,
          -5.121009615384665,
          -6.54474698795179,
          -7.017439613526616,
          -7.204663461538505,
          -7.045373493975845,
          -6.819420289854989,
          -6.768722891566281,
          -6.857884615384744,
          -6.973535108958934,
          -6.843437499999908,
          -7.030891566265083,
          -7.129685230024105,
          -7.414600484261491,
          -7.598124999999936,
          -6.84867469879525,
          -6.759927360774775,
          -6.9057384987894,
          -6.95487980769234,
          -7.03125603864744,
          -7.068313253012059,
          -7.229375000000077,
          -7.172566585956433,
          -7.491009615384598,
          -7.148843373493989,
          -0.6328940568475083,
          -5.125841346153933,
          -6.873228915662631,
          -7.283879518072277,
          -7.437142857142849,
          -6.900915662650647,
          -7.026795180722958,
          -7.00062650602411,
          -7.04244552058104,
          -7.204399038461528,
          -7.116077481840264,
          -7.131425120772972,
          -7.110145278450364,
          -7.182753623188381,
          -7.218698795180689
         ],
         "yaxis": "y"
        }
       ],
       "layout": {
        "legend": {
         "tracegroupgap": 0
        },
        "template": {
         "data": {
          "bar": [
           {
            "error_x": {
             "color": "#2a3f5f"
            },
            "error_y": {
             "color": "#2a3f5f"
            },
            "marker": {
             "line": {
              "color": "#E5ECF6",
              "width": 0.5
             },
             "pattern": {
              "fillmode": "overlay",
              "size": 10,
              "solidity": 0.2
             }
            },
            "type": "bar"
           }
          ],
          "barpolar": [
           {
            "marker": {
             "line": {
              "color": "#E5ECF6",
              "width": 0.5
             },
             "pattern": {
              "fillmode": "overlay",
              "size": 10,
              "solidity": 0.2
             }
            },
            "type": "barpolar"
           }
          ],
          "carpet": [
           {
            "aaxis": {
             "endlinecolor": "#2a3f5f",
             "gridcolor": "white",
             "linecolor": "white",
             "minorgridcolor": "white",
             "startlinecolor": "#2a3f5f"
            },
            "baxis": {
             "endlinecolor": "#2a3f5f",
             "gridcolor": "white",
             "linecolor": "white",
             "minorgridcolor": "white",
             "startlinecolor": "#2a3f5f"
            },
            "type": "carpet"
           }
          ],
          "choropleth": [
           {
            "colorbar": {
             "outlinewidth": 0,
             "ticks": ""
            },
            "type": "choropleth"
           }
          ],
          "contour": [
           {
            "colorbar": {
             "outlinewidth": 0,
             "ticks": ""
            },
            "colorscale": [
             [
              0,
              "#0d0887"
             ],
             [
              0.1111111111111111,
              "#46039f"
             ],
             [
              0.2222222222222222,
              "#7201a8"
             ],
             [
              0.3333333333333333,
              "#9c179e"
             ],
             [
              0.4444444444444444,
              "#bd3786"
             ],
             [
              0.5555555555555556,
              "#d8576b"
             ],
             [
              0.6666666666666666,
              "#ed7953"
             ],
             [
              0.7777777777777778,
              "#fb9f3a"
             ],
             [
              0.8888888888888888,
              "#fdca26"
             ],
             [
              1,
              "#f0f921"
             ]
            ],
            "type": "contour"
           }
          ],
          "contourcarpet": [
           {
            "colorbar": {
             "outlinewidth": 0,
             "ticks": ""
            },
            "type": "contourcarpet"
           }
          ],
          "heatmap": [
           {
            "colorbar": {
             "outlinewidth": 0,
             "ticks": ""
            },
            "colorscale": [
             [
              0,
              "#0d0887"
             ],
             [
              0.1111111111111111,
              "#46039f"
             ],
             [
              0.2222222222222222,
              "#7201a8"
             ],
             [
              0.3333333333333333,
              "#9c179e"
             ],
             [
              0.4444444444444444,
              "#bd3786"
             ],
             [
              0.5555555555555556,
              "#d8576b"
             ],
             [
              0.6666666666666666,
              "#ed7953"
             ],
             [
              0.7777777777777778,
              "#fb9f3a"
             ],
             [
              0.8888888888888888,
              "#fdca26"
             ],
             [
              1,
              "#f0f921"
             ]
            ],
            "type": "heatmap"
           }
          ],
          "heatmapgl": [
           {
            "colorbar": {
             "outlinewidth": 0,
             "ticks": ""
            },
            "colorscale": [
             [
              0,
              "#0d0887"
             ],
             [
              0.1111111111111111,
              "#46039f"
             ],
             [
              0.2222222222222222,
              "#7201a8"
             ],
             [
              0.3333333333333333,
              "#9c179e"
             ],
             [
              0.4444444444444444,
              "#bd3786"
             ],
             [
              0.5555555555555556,
              "#d8576b"
             ],
             [
              0.6666666666666666,
              "#ed7953"
             ],
             [
              0.7777777777777778,
              "#fb9f3a"
             ],
             [
              0.8888888888888888,
              "#fdca26"
             ],
             [
              1,
              "#f0f921"
             ]
            ],
            "type": "heatmapgl"
           }
          ],
          "histogram": [
           {
            "marker": {
             "pattern": {
              "fillmode": "overlay",
              "size": 10,
              "solidity": 0.2
             }
            },
            "type": "histogram"
           }
          ],
          "histogram2d": [
           {
            "colorbar": {
             "outlinewidth": 0,
             "ticks": ""
            },
            "colorscale": [
             [
              0,
              "#0d0887"
             ],
             [
              0.1111111111111111,
              "#46039f"
             ],
             [
              0.2222222222222222,
              "#7201a8"
             ],
             [
              0.3333333333333333,
              "#9c179e"
             ],
             [
              0.4444444444444444,
              "#bd3786"
             ],
             [
              0.5555555555555556,
              "#d8576b"
             ],
             [
              0.6666666666666666,
              "#ed7953"
             ],
             [
              0.7777777777777778,
              "#fb9f3a"
             ],
             [
              0.8888888888888888,
              "#fdca26"
             ],
             [
              1,
              "#f0f921"
             ]
            ],
            "type": "histogram2d"
           }
          ],
          "histogram2dcontour": [
           {
            "colorbar": {
             "outlinewidth": 0,
             "ticks": ""
            },
            "colorscale": [
             [
              0,
              "#0d0887"
             ],
             [
              0.1111111111111111,
              "#46039f"
             ],
             [
              0.2222222222222222,
              "#7201a8"
             ],
             [
              0.3333333333333333,
              "#9c179e"
             ],
             [
              0.4444444444444444,
              "#bd3786"
             ],
             [
              0.5555555555555556,
              "#d8576b"
             ],
             [
              0.6666666666666666,
              "#ed7953"
             ],
             [
              0.7777777777777778,
              "#fb9f3a"
             ],
             [
              0.8888888888888888,
              "#fdca26"
             ],
             [
              1,
              "#f0f921"
             ]
            ],
            "type": "histogram2dcontour"
           }
          ],
          "mesh3d": [
           {
            "colorbar": {
             "outlinewidth": 0,
             "ticks": ""
            },
            "type": "mesh3d"
           }
          ],
          "parcoords": [
           {
            "line": {
             "colorbar": {
              "outlinewidth": 0,
              "ticks": ""
             }
            },
            "type": "parcoords"
           }
          ],
          "pie": [
           {
            "automargin": true,
            "type": "pie"
           }
          ],
          "scatter": [
           {
            "fillpattern": {
             "fillmode": "overlay",
             "size": 10,
             "solidity": 0.2
            },
            "type": "scatter"
           }
          ],
          "scatter3d": [
           {
            "line": {
             "colorbar": {
              "outlinewidth": 0,
              "ticks": ""
             }
            },
            "marker": {
             "colorbar": {
              "outlinewidth": 0,
              "ticks": ""
             }
            },
            "type": "scatter3d"
           }
          ],
          "scattercarpet": [
           {
            "marker": {
             "colorbar": {
              "outlinewidth": 0,
              "ticks": ""
             }
            },
            "type": "scattercarpet"
           }
          ],
          "scattergeo": [
           {
            "marker": {
             "colorbar": {
              "outlinewidth": 0,
              "ticks": ""
             }
            },
            "type": "scattergeo"
           }
          ],
          "scattergl": [
           {
            "marker": {
             "colorbar": {
              "outlinewidth": 0,
              "ticks": ""
             }
            },
            "type": "scattergl"
           }
          ],
          "scattermapbox": [
           {
            "marker": {
             "colorbar": {
              "outlinewidth": 0,
              "ticks": ""
             }
            },
            "type": "scattermapbox"
           }
          ],
          "scatterpolar": [
           {
            "marker": {
             "colorbar": {
              "outlinewidth": 0,
              "ticks": ""
             }
            },
            "type": "scatterpolar"
           }
          ],
          "scatterpolargl": [
           {
            "marker": {
             "colorbar": {
              "outlinewidth": 0,
              "ticks": ""
             }
            },
            "type": "scatterpolargl"
           }
          ],
          "scatterternary": [
           {
            "marker": {
             "colorbar": {
              "outlinewidth": 0,
              "ticks": ""
             }
            },
            "type": "scatterternary"
           }
          ],
          "surface": [
           {
            "colorbar": {
             "outlinewidth": 0,
             "ticks": ""
            },
            "colorscale": [
             [
              0,
              "#0d0887"
             ],
             [
              0.1111111111111111,
              "#46039f"
             ],
             [
              0.2222222222222222,
              "#7201a8"
             ],
             [
              0.3333333333333333,
              "#9c179e"
             ],
             [
              0.4444444444444444,
              "#bd3786"
             ],
             [
              0.5555555555555556,
              "#d8576b"
             ],
             [
              0.6666666666666666,
              "#ed7953"
             ],
             [
              0.7777777777777778,
              "#fb9f3a"
             ],
             [
              0.8888888888888888,
              "#fdca26"
             ],
             [
              1,
              "#f0f921"
             ]
            ],
            "type": "surface"
           }
          ],
          "table": [
           {
            "cells": {
             "fill": {
              "color": "#EBF0F8"
             },
             "line": {
              "color": "white"
             }
            },
            "header": {
             "fill": {
              "color": "#C8D4E3"
             },
             "line": {
              "color": "white"
             }
            },
            "type": "table"
           }
          ]
         },
         "layout": {
          "annotationdefaults": {
           "arrowcolor": "#2a3f5f",
           "arrowhead": 0,
           "arrowwidth": 1
          },
          "autotypenumbers": "strict",
          "coloraxis": {
           "colorbar": {
            "outlinewidth": 0,
            "ticks": ""
           }
          },
          "colorscale": {
           "diverging": [
            [
             0,
             "#8e0152"
            ],
            [
             0.1,
             "#c51b7d"
            ],
            [
             0.2,
             "#de77ae"
            ],
            [
             0.3,
             "#f1b6da"
            ],
            [
             0.4,
             "#fde0ef"
            ],
            [
             0.5,
             "#f7f7f7"
            ],
            [
             0.6,
             "#e6f5d0"
            ],
            [
             0.7,
             "#b8e186"
            ],
            [
             0.8,
             "#7fbc41"
            ],
            [
             0.9,
             "#4d9221"
            ],
            [
             1,
             "#276419"
            ]
           ],
           "sequential": [
            [
             0,
             "#0d0887"
            ],
            [
             0.1111111111111111,
             "#46039f"
            ],
            [
             0.2222222222222222,
             "#7201a8"
            ],
            [
             0.3333333333333333,
             "#9c179e"
            ],
            [
             0.4444444444444444,
             "#bd3786"
            ],
            [
             0.5555555555555556,
             "#d8576b"
            ],
            [
             0.6666666666666666,
             "#ed7953"
            ],
            [
             0.7777777777777778,
             "#fb9f3a"
            ],
            [
             0.8888888888888888,
             "#fdca26"
            ],
            [
             1,
             "#f0f921"
            ]
           ],
           "sequentialminus": [
            [
             0,
             "#0d0887"
            ],
            [
             0.1111111111111111,
             "#46039f"
            ],
            [
             0.2222222222222222,
             "#7201a8"
            ],
            [
             0.3333333333333333,
             "#9c179e"
            ],
            [
             0.4444444444444444,
             "#bd3786"
            ],
            [
             0.5555555555555556,
             "#d8576b"
            ],
            [
             0.6666666666666666,
             "#ed7953"
            ],
            [
             0.7777777777777778,
             "#fb9f3a"
            ],
            [
             0.8888888888888888,
             "#fdca26"
            ],
            [
             1,
             "#f0f921"
            ]
           ]
          },
          "colorway": [
           "#636efa",
           "#EF553B",
           "#00cc96",
           "#ab63fa",
           "#FFA15A",
           "#19d3f3",
           "#FF6692",
           "#B6E880",
           "#FF97FF",
           "#FECB52"
          ],
          "font": {
           "color": "#2a3f5f"
          },
          "geo": {
           "bgcolor": "white",
           "lakecolor": "white",
           "landcolor": "#E5ECF6",
           "showlakes": true,
           "showland": true,
           "subunitcolor": "white"
          },
          "hoverlabel": {
           "align": "left"
          },
          "hovermode": "closest",
          "mapbox": {
           "style": "light"
          },
          "paper_bgcolor": "white",
          "plot_bgcolor": "#E5ECF6",
          "polar": {
           "angularaxis": {
            "gridcolor": "white",
            "linecolor": "white",
            "ticks": ""
           },
           "bgcolor": "#E5ECF6",
           "radialaxis": {
            "gridcolor": "white",
            "linecolor": "white",
            "ticks": ""
           }
          },
          "scene": {
           "xaxis": {
            "backgroundcolor": "#E5ECF6",
            "gridcolor": "white",
            "gridwidth": 2,
            "linecolor": "white",
            "showbackground": true,
            "ticks": "",
            "zerolinecolor": "white"
           },
           "yaxis": {
            "backgroundcolor": "#E5ECF6",
            "gridcolor": "white",
            "gridwidth": 2,
            "linecolor": "white",
            "showbackground": true,
            "ticks": "",
            "zerolinecolor": "white"
           },
           "zaxis": {
            "backgroundcolor": "#E5ECF6",
            "gridcolor": "white",
            "gridwidth": 2,
            "linecolor": "white",
            "showbackground": true,
            "ticks": "",
            "zerolinecolor": "white"
           }
          },
          "shapedefaults": {
           "line": {
            "color": "#2a3f5f"
           }
          },
          "ternary": {
           "aaxis": {
            "gridcolor": "white",
            "linecolor": "white",
            "ticks": ""
           },
           "baxis": {
            "gridcolor": "white",
            "linecolor": "white",
            "ticks": ""
           },
           "bgcolor": "#E5ECF6",
           "caxis": {
            "gridcolor": "white",
            "linecolor": "white",
            "ticks": ""
           }
          },
          "title": {
           "x": 0.05
          },
          "xaxis": {
           "automargin": true,
           "gridcolor": "white",
           "linecolor": "white",
           "ticks": "",
           "title": {
            "standoff": 15
           },
           "zerolinecolor": "white",
           "zerolinewidth": 2
          },
          "yaxis": {
           "automargin": true,
           "gridcolor": "white",
           "linecolor": "white",
           "ticks": "",
           "title": {
            "standoff": 15
           },
           "zerolinecolor": "white",
           "zerolinewidth": 2
          }
         }
        },
        "title": {
         "text": "temperature: flow - enclosure"
        },
        "xaxis": {
         "anchor": "y",
         "domain": [
          0,
          1
         ],
         "title": {
          "text": "creation_timestamp"
         }
        },
        "yaxis": {
         "anchor": "x",
         "domain": [
          0,
          1
         ],
         "title": {
          "text": "temperature: flow - enclosure"
         }
        }
       }
      }
     },
     "metadata": {},
     "output_type": "display_data"
    }
   ],
   "source": [
    "# Temperature Delta\n",
    "col_name = \"temperature: flow - enclosure\"\n",
    "\n",
    "df_temp = df_a.with_columns((pl.col(\"sht45_temperature\") - pl.col(\"enclosure_bme280_temperature\")).alias(col_name)) \\\n",
    ".select(\"creation_timestamp\",\"system_name\",col_name).collect()\n",
    "\n",
    "import plotly.express as px\n",
    "\n",
    "fig = px.line(df_temp, x=\"creation_timestamp\", y=col_name, markers=True, title = col_name)\n",
    "fig.show()"
   ]
  }
 ],
 "metadata": {
  "kernelspec": {
   "display_name": ".venv",
   "language": "python",
   "name": "python3"
  },
  "language_info": {
   "codemirror_mode": {
    "name": "ipython",
    "version": 3
   },
   "file_extension": ".py",
   "mimetype": "text/x-python",
   "name": "python",
   "nbconvert_exporter": "python",
   "pygments_lexer": "ipython3",
   "version": "3.11.6"
  },
  "orig_nbformat": 4
 },
 "nbformat": 4,
 "nbformat_minor": 2
}
