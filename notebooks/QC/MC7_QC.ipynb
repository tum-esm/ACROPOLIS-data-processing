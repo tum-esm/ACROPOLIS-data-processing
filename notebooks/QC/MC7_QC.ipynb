{
 "cells": [
  {
   "cell_type": "code",
   "execution_count": null,
   "metadata": {},
   "outputs": [],
   "source": [
    "from datetime import datetime\n",
    "from datetime import timezone\n",
    "import polars as pl\n",
    "import os\n",
    "\n",
    "from utils import plot_sensor_measurement\n",
    "\n",
    "start_date = datetime(2023, 10, 12, 11, 0, 0).replace(tzinfo=timezone.utc)\n",
    "end_date = datetime(2023, 10, 15, 23, 59, 59).replace(tzinfo=timezone.utc)\n",
    "\n",
    "sensor_id = 7\n",
    "filter = '1h'\n",
    "\n",
    "data_directory = \"/Users/patrickaigner/Documents/PROJECTS/ACROPOLIS/Software/acropolis-visualisation/data\"\n",
    "picarro_path = r\"/Users/patrickaigner/Documents/PROJECTS/ACROPOLIS/Database/PICARRO\"\n",
    "\n",
    "#Calibration\n",
    "# after 23.10\n",
    "picarro_slope = 1.006374633215469\n",
    "picarro_intercept = 0.0709482571842841\n",
    "\n",
    "acropolis_slope = 1.015105724343444 \n",
    "acropolis_intercept = -11.400846281936936"
   ]
  },
  {
   "cell_type": "code",
   "execution_count": null,
   "metadata": {},
   "outputs": [],
   "source": [
    "df_a = pl.scan_parquet(os.path.join(data_directory, \"pivot_measurements.parquet\")) \\\n",
    "    .filter(pl.col(\"system_name\") == f\"tum-esm-midcost-raspi-{sensor_id}\" ) \\\n",
    "    .sort(\"creation_timestamp\").filter(pl.col(\"creation_timestamp\") \\\n",
    "    .is_between(start_date, end_date)) \\\n",
    "    .filter(pl.col(\"gmp343_filtered\")>0.0) \\\n",
    "    .with_columns(((pl.col(\"gmp343_filtered\")) * acropolis_slope + acropolis_intercept).alias(\"CO2_corr\")) \\\n",
    "    .groupby_dynamic(\"creation_timestamp\", every=filter) \\\n",
    "    .agg(pl.all().exclude([\"creation_timestamp\",\"DATE\",\"TIME\",\"datetime\"]).mean())  \\\n",
    "    .with_columns(pl.lit(\"ACROPOLIS\").alias(\"system_name\"))"
   ]
  },
  {
   "cell_type": "code",
   "execution_count": null,
   "metadata": {},
   "outputs": [],
   "source": [
    "df_p = pl.scan_parquet(os.path.join(picarro_path, \"picarro.parquet\")) \\\n",
    "    .with_columns(pl.col(\"datetime\").dt.cast_time_unit(\"ns\").dt.replace_time_zone(\"UTC\").alias(\"creation_timestamp\")) \\\n",
    "    .sort(\"creation_timestamp\").filter(pl.col(\"creation_timestamp\").is_between(start_date, end_date)) \\\n",
    "    .with_columns((pl.col(\"CO2_dry\") * picarro_slope + picarro_intercept).alias(\"CO2_corr\")) \\\n",
    "    .groupby_dynamic(\"creation_timestamp\", every=filter).agg(\n",
    "                pl.all().exclude([\"creation_timestamp\",\"DATE\",\"TIME\",\"datetime\"]).mean())  \\\n",
    "    .with_columns(pl.lit(\"PICARRO\").alias(\"system_name\"))"
   ]
  },
  {
   "cell_type": "code",
   "execution_count": null,
   "metadata": {},
   "outputs": [],
   "source": [
    "col_name = \"CO2_corr\"\n",
    "\n",
    "df_all = pl.concat([df_a.select(\"creation_timestamp\",\"system_name\",col_name),df_p.select(\"creation_timestamp\",\"system_name\",col_name)])\n",
    "\n",
    "plot_sensor_measurement(df_all.collect(), col_name=\"CO2_corr\")\n"
   ]
  },
  {
   "cell_type": "code",
   "execution_count": null,
   "metadata": {},
   "outputs": [],
   "source": [
    "df_a = pl.scan_parquet(os.path.join(data_directory, \"pivot_measurements.parquet\")) \\\n",
    "    .filter(pl.col(\"system_name\") == f\"tum-esm-midcost-raspi-{sensor_id}\" ) \\\n",
    "    .sort(\"creation_timestamp\").filter(pl.col(\"creation_timestamp\") \\\n",
    "    .is_between(start_date, end_date)) \\\n",
    "    .with_columns(((pl.col(\"gmp343_filtered\")) * acropolis_slope + acropolis_intercept).alias(\"CO2_corr\")) \\\n",
    "    .groupby_dynamic(\"creation_timestamp\", every=filter) \\\n",
    "    .agg(pl.all().exclude([\"creation_timestamp\",\"DATE\",\"TIME\",\"datetime\"]).mean())  \\\n",
    "    .with_columns(pl.lit(\"ACROPOLIS\").alias(\"system_name\"))"
   ]
  },
  {
   "cell_type": "code",
   "execution_count": null,
   "metadata": {},
   "outputs": [],
   "source": [
    "# Pressure Delta\n",
    "col_name = \"pressure: flow - enclosure\"\n",
    "\n",
    "df_temp = df_a.with_columns((pl.col(\"bme280_pressure\") - pl.col(\"enclosure_bme280_pressure\")).alias(col_name)) \\\n",
    ".select(\"creation_timestamp\",\"system_name\",col_name)\n",
    "\n",
    "plot_sensor_measurement(df_temp.collect(), col_name=col_name)"
   ]
  },
  {
   "cell_type": "code",
   "execution_count": null,
   "metadata": {},
   "outputs": [],
   "source": [
    "# Humidity Delta\n",
    "col_name = \"humidity: flow - enclosure\"\n",
    "\n",
    "df_temp = df_a.with_columns((pl.col(\"sht45_humidity\") - pl.col(\"enclosure_bme280_humidity\")).alias(col_name)) \\\n",
    ".select(\"creation_timestamp\",\"system_name\",col_name)\n",
    "\n",
    "plot_sensor_measurement(df_temp.collect(), col_name=col_name)"
   ]
  },
  {
   "cell_type": "code",
   "execution_count": null,
   "metadata": {},
   "outputs": [],
   "source": [
    "# Temperature Delta\n",
    "col_name = \"temperature: flow - enclosure\"\n",
    "\n",
    "df_temp = df_a.with_columns((pl.col(\"sht45_temperature\") - pl.col(\"enclosure_bme280_temperature\")).alias(col_name)) \\\n",
    ".select(\"creation_timestamp\",\"system_name\",col_name)\n",
    "\n",
    "plot_sensor_measurement(df_temp.collect(), col_name=col_name)"
   ]
  },
  {
   "cell_type": "markdown",
   "metadata": {},
   "source": [
    "# Scatter Plot, RSME, R^2"
   ]
  },
  {
   "cell_type": "code",
   "execution_count": null,
   "metadata": {},
   "outputs": [],
   "source": [
    "import math\n",
    "import numpy as np\n",
    "from sklearn.metrics import r2_score\n",
    "\n",
    "df_all = df_all.sort(\"creation_timestamp\")\n",
    "\n",
    "l_acropolis = df_all.collect().filter(pl.col(\"system_name\")==\"ACROPOLIS\").select(\"CO2_corr\").to_series().to_list()\n",
    "\n",
    "l_picarro = df_all.collect().filter(pl.col(\"system_name\")==\"PICARRO\").select(\"CO2_corr\").to_series().to_list()"
   ]
  },
  {
   "cell_type": "code",
   "execution_count": null,
   "metadata": {},
   "outputs": [],
   "source": [
    "MSE = np.square(np.subtract(l_picarro,l_acropolis)).mean() \n",
    " \n",
    "RMSE = math.sqrt(MSE)\n",
    "print(\"Root Mean Square Error:\\n\")\n",
    "print(RMSE)"
   ]
  },
  {
   "cell_type": "code",
   "execution_count": null,
   "metadata": {},
   "outputs": [],
   "source": [
    "r2 = r2_score(l_picarro,l_acropolis)\n",
    "\n",
    "print(\"R2:\\n\")\n",
    "print(r2)"
   ]
  }
 ],
 "metadata": {
  "kernelspec": {
   "display_name": ".venv",
   "language": "python",
   "name": "python3"
  },
  "language_info": {
   "codemirror_mode": {
    "name": "ipython",
    "version": 3
   },
   "file_extension": ".py",
   "mimetype": "text/x-python",
   "name": "python",
   "nbconvert_exporter": "python",
   "pygments_lexer": "ipython3",
   "version": "3.11.6"
  },
  "orig_nbformat": 4
 },
 "nbformat": 4,
 "nbformat_minor": 2
}
