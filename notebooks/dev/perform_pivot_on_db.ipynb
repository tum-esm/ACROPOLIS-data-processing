{
 "cells": [
  {
   "cell_type": "code",
   "execution_count": 1,
   "metadata": {},
   "outputs": [],
   "source": [
    "import polars as pl\n",
    "import os\n",
    "\n",
    "quickflow_directory = \"/Users/patrickaigner/Documents/PROJECTS/ACROPOLIS/Software/quickflow/acropolis/\""
   ]
  },
  {
   "cell_type": "code",
   "execution_count": 2,
   "metadata": {},
   "outputs": [],
   "source": [
    "local_path = \"../data/\"\n",
    "df_parq = pl.scan_parquet(os.path.join(quickflow_directory, \"measurements.parquet\")).collect().pivot(\n",
    "                values=\"value\",\n",
    "                index=[\n",
    "                    \"system_name\",\n",
    "                    \"revision\",\n",
    "                    \"creation_timestamp\",\n",
    "                    \"receipt_timestamp\",\n",
    "                ],\n",
    "                columns=\"attribute\",\n",
    "                aggregate_function=\"first\",\n",
    "            )\n",
    "\n",
    "df_parq.write_parquet(\n",
    "            os.path.join(local_path, \"pivot_measurements.parquet\"),\n",
    "            statistics=True,\n",
    "        )"
   ]
  }
 ],
 "metadata": {
  "kernelspec": {
   "display_name": ".venv",
   "language": "python",
   "name": "python3"
  },
  "language_info": {
   "codemirror_mode": {
    "name": "ipython",
    "version": 3
   },
   "file_extension": ".py",
   "mimetype": "text/x-python",
   "name": "python",
   "nbconvert_exporter": "python",
   "pygments_lexer": "ipython3",
   "version": "3.11.4"
  }
 },
 "nbformat": 4,
 "nbformat_minor": 2
}
