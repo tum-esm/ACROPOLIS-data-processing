{
 "cells": [
  {
   "cell_type": "code",
   "execution_count": 382,
   "metadata": {},
   "outputs": [],
   "source": [
    "import os\n",
    "import glob\n",
    "from datetime import datetime\n",
    "from datetime import timezone\n",
    "import polars as pl\n",
    "import plotly.express as px\n",
    "\n",
    "start_date = datetime(2023, 11, 17, 0, 0, 0).replace(tzinfo=timezone.utc)\n",
    "end_date = datetime(2023, 11, 29, 0, 0, 0).replace(tzinfo=timezone.utc)\n",
    "id_system = 11\n",
    "\n",
    "DATA_DIRECTORY = os.environ.get(\"DATA_DIRECTORY\")\n",
    "PICARRO_DATA_DIRECTORy = os.environ.get(\"PICARRO_DATA_DIRECTORY\")\n",
    "\n",
    "df_cal = pl.scan_parquet(os.path.join(DATA_DIRECTORY, \"processed\", \"slope_intercept_acropolis.parquet\"))"
   ]
  },
  {
   "cell_type": "code",
   "execution_count": 383,
   "metadata": {},
   "outputs": [],
   "source": [
    "df_cal = df_cal.with_columns((pl.col(\"creation_timestamp\").dt.timestamp(\"ms\") / 3.6e6).alias(\"timestamp\")) #3.6e6 ms are in 1h\n",
    "\n",
    "#df_cal = df_cal.with_columns((pl.col(\"creation_timestamp\").dt.timestamp().cast(pl.Float64)).alias(\"timestamp\"))"
   ]
  },
  {
   "cell_type": "code",
   "execution_count": 384,
   "metadata": {},
   "outputs": [],
   "source": [
    "df_sys = df_cal.filter(pl.col(\"system_name\") == f\"tum-esm-midcost-raspi-{id_system}\").filter(pl.col(\"creation_timestamp\").is_between(start_date, end_date))"
   ]
  },
  {
   "cell_type": "code",
   "execution_count": 385,
   "metadata": {},
   "outputs": [
    {
     "data": {
      "application/vnd.plotly.v1+json": {
       "config": {
        "plotlyServerURL": "https://plot.ly"
       },
       "data": [
        {
         "hovertemplate": "date=%{x}<br>slope=%{y}<extra></extra>",
         "legendgroup": "",
         "line": {
          "color": "#636efa",
          "dash": "solid"
         },
         "marker": {
          "symbol": "circle"
         },
         "mode": "markers+lines",
         "name": "",
         "orientation": "v",
         "showlegend": false,
         "type": "scatter",
         "x": [
          "2023-11-17T00:00:00",
          "2023-11-18T00:00:00",
          "2023-11-19T00:00:00",
          "2023-11-20T00:00:00",
          "2023-11-21T00:00:00",
          "2023-11-22T00:00:00",
          "2023-11-23T00:00:00",
          "2023-11-24T00:00:00",
          "2023-11-26T00:00:00",
          "2023-11-27T00:00:00",
          "2023-11-28T00:00:00"
         ],
         "xaxis": "x",
         "y": [
          0.9597022245232114,
          0.9613091479621595,
          0.9589730430373349,
          0.9092683803866575,
          0.9613730493099244,
          1.0149091104457542,
          0.9608903762861642,
          0.9229381011013097,
          0.9598371609337459,
          0.954758527825153,
          0.9609785777136717
         ],
         "yaxis": "y"
        }
       ],
       "layout": {
        "legend": {
         "tracegroupgap": 0
        },
        "template": {
         "data": {
          "bar": [
           {
            "error_x": {
             "color": "#2a3f5f"
            },
            "error_y": {
             "color": "#2a3f5f"
            },
            "marker": {
             "line": {
              "color": "#E5ECF6",
              "width": 0.5
             },
             "pattern": {
              "fillmode": "overlay",
              "size": 10,
              "solidity": 0.2
             }
            },
            "type": "bar"
           }
          ],
          "barpolar": [
           {
            "marker": {
             "line": {
              "color": "#E5ECF6",
              "width": 0.5
             },
             "pattern": {
              "fillmode": "overlay",
              "size": 10,
              "solidity": 0.2
             }
            },
            "type": "barpolar"
           }
          ],
          "carpet": [
           {
            "aaxis": {
             "endlinecolor": "#2a3f5f",
             "gridcolor": "white",
             "linecolor": "white",
             "minorgridcolor": "white",
             "startlinecolor": "#2a3f5f"
            },
            "baxis": {
             "endlinecolor": "#2a3f5f",
             "gridcolor": "white",
             "linecolor": "white",
             "minorgridcolor": "white",
             "startlinecolor": "#2a3f5f"
            },
            "type": "carpet"
           }
          ],
          "choropleth": [
           {
            "colorbar": {
             "outlinewidth": 0,
             "ticks": ""
            },
            "type": "choropleth"
           }
          ],
          "contour": [
           {
            "colorbar": {
             "outlinewidth": 0,
             "ticks": ""
            },
            "colorscale": [
             [
              0,
              "#0d0887"
             ],
             [
              0.1111111111111111,
              "#46039f"
             ],
             [
              0.2222222222222222,
              "#7201a8"
             ],
             [
              0.3333333333333333,
              "#9c179e"
             ],
             [
              0.4444444444444444,
              "#bd3786"
             ],
             [
              0.5555555555555556,
              "#d8576b"
             ],
             [
              0.6666666666666666,
              "#ed7953"
             ],
             [
              0.7777777777777778,
              "#fb9f3a"
             ],
             [
              0.8888888888888888,
              "#fdca26"
             ],
             [
              1,
              "#f0f921"
             ]
            ],
            "type": "contour"
           }
          ],
          "contourcarpet": [
           {
            "colorbar": {
             "outlinewidth": 0,
             "ticks": ""
            },
            "type": "contourcarpet"
           }
          ],
          "heatmap": [
           {
            "colorbar": {
             "outlinewidth": 0,
             "ticks": ""
            },
            "colorscale": [
             [
              0,
              "#0d0887"
             ],
             [
              0.1111111111111111,
              "#46039f"
             ],
             [
              0.2222222222222222,
              "#7201a8"
             ],
             [
              0.3333333333333333,
              "#9c179e"
             ],
             [
              0.4444444444444444,
              "#bd3786"
             ],
             [
              0.5555555555555556,
              "#d8576b"
             ],
             [
              0.6666666666666666,
              "#ed7953"
             ],
             [
              0.7777777777777778,
              "#fb9f3a"
             ],
             [
              0.8888888888888888,
              "#fdca26"
             ],
             [
              1,
              "#f0f921"
             ]
            ],
            "type": "heatmap"
           }
          ],
          "heatmapgl": [
           {
            "colorbar": {
             "outlinewidth": 0,
             "ticks": ""
            },
            "colorscale": [
             [
              0,
              "#0d0887"
             ],
             [
              0.1111111111111111,
              "#46039f"
             ],
             [
              0.2222222222222222,
              "#7201a8"
             ],
             [
              0.3333333333333333,
              "#9c179e"
             ],
             [
              0.4444444444444444,
              "#bd3786"
             ],
             [
              0.5555555555555556,
              "#d8576b"
             ],
             [
              0.6666666666666666,
              "#ed7953"
             ],
             [
              0.7777777777777778,
              "#fb9f3a"
             ],
             [
              0.8888888888888888,
              "#fdca26"
             ],
             [
              1,
              "#f0f921"
             ]
            ],
            "type": "heatmapgl"
           }
          ],
          "histogram": [
           {
            "marker": {
             "pattern": {
              "fillmode": "overlay",
              "size": 10,
              "solidity": 0.2
             }
            },
            "type": "histogram"
           }
          ],
          "histogram2d": [
           {
            "colorbar": {
             "outlinewidth": 0,
             "ticks": ""
            },
            "colorscale": [
             [
              0,
              "#0d0887"
             ],
             [
              0.1111111111111111,
              "#46039f"
             ],
             [
              0.2222222222222222,
              "#7201a8"
             ],
             [
              0.3333333333333333,
              "#9c179e"
             ],
             [
              0.4444444444444444,
              "#bd3786"
             ],
             [
              0.5555555555555556,
              "#d8576b"
             ],
             [
              0.6666666666666666,
              "#ed7953"
             ],
             [
              0.7777777777777778,
              "#fb9f3a"
             ],
             [
              0.8888888888888888,
              "#fdca26"
             ],
             [
              1,
              "#f0f921"
             ]
            ],
            "type": "histogram2d"
           }
          ],
          "histogram2dcontour": [
           {
            "colorbar": {
             "outlinewidth": 0,
             "ticks": ""
            },
            "colorscale": [
             [
              0,
              "#0d0887"
             ],
             [
              0.1111111111111111,
              "#46039f"
             ],
             [
              0.2222222222222222,
              "#7201a8"
             ],
             [
              0.3333333333333333,
              "#9c179e"
             ],
             [
              0.4444444444444444,
              "#bd3786"
             ],
             [
              0.5555555555555556,
              "#d8576b"
             ],
             [
              0.6666666666666666,
              "#ed7953"
             ],
             [
              0.7777777777777778,
              "#fb9f3a"
             ],
             [
              0.8888888888888888,
              "#fdca26"
             ],
             [
              1,
              "#f0f921"
             ]
            ],
            "type": "histogram2dcontour"
           }
          ],
          "mesh3d": [
           {
            "colorbar": {
             "outlinewidth": 0,
             "ticks": ""
            },
            "type": "mesh3d"
           }
          ],
          "parcoords": [
           {
            "line": {
             "colorbar": {
              "outlinewidth": 0,
              "ticks": ""
             }
            },
            "type": "parcoords"
           }
          ],
          "pie": [
           {
            "automargin": true,
            "type": "pie"
           }
          ],
          "scatter": [
           {
            "fillpattern": {
             "fillmode": "overlay",
             "size": 10,
             "solidity": 0.2
            },
            "type": "scatter"
           }
          ],
          "scatter3d": [
           {
            "line": {
             "colorbar": {
              "outlinewidth": 0,
              "ticks": ""
             }
            },
            "marker": {
             "colorbar": {
              "outlinewidth": 0,
              "ticks": ""
             }
            },
            "type": "scatter3d"
           }
          ],
          "scattercarpet": [
           {
            "marker": {
             "colorbar": {
              "outlinewidth": 0,
              "ticks": ""
             }
            },
            "type": "scattercarpet"
           }
          ],
          "scattergeo": [
           {
            "marker": {
             "colorbar": {
              "outlinewidth": 0,
              "ticks": ""
             }
            },
            "type": "scattergeo"
           }
          ],
          "scattergl": [
           {
            "marker": {
             "colorbar": {
              "outlinewidth": 0,
              "ticks": ""
             }
            },
            "type": "scattergl"
           }
          ],
          "scattermapbox": [
           {
            "marker": {
             "colorbar": {
              "outlinewidth": 0,
              "ticks": ""
             }
            },
            "type": "scattermapbox"
           }
          ],
          "scatterpolar": [
           {
            "marker": {
             "colorbar": {
              "outlinewidth": 0,
              "ticks": ""
             }
            },
            "type": "scatterpolar"
           }
          ],
          "scatterpolargl": [
           {
            "marker": {
             "colorbar": {
              "outlinewidth": 0,
              "ticks": ""
             }
            },
            "type": "scatterpolargl"
           }
          ],
          "scatterternary": [
           {
            "marker": {
             "colorbar": {
              "outlinewidth": 0,
              "ticks": ""
             }
            },
            "type": "scatterternary"
           }
          ],
          "surface": [
           {
            "colorbar": {
             "outlinewidth": 0,
             "ticks": ""
            },
            "colorscale": [
             [
              0,
              "#0d0887"
             ],
             [
              0.1111111111111111,
              "#46039f"
             ],
             [
              0.2222222222222222,
              "#7201a8"
             ],
             [
              0.3333333333333333,
              "#9c179e"
             ],
             [
              0.4444444444444444,
              "#bd3786"
             ],
             [
              0.5555555555555556,
              "#d8576b"
             ],
             [
              0.6666666666666666,
              "#ed7953"
             ],
             [
              0.7777777777777778,
              "#fb9f3a"
             ],
             [
              0.8888888888888888,
              "#fdca26"
             ],
             [
              1,
              "#f0f921"
             ]
            ],
            "type": "surface"
           }
          ],
          "table": [
           {
            "cells": {
             "fill": {
              "color": "#EBF0F8"
             },
             "line": {
              "color": "white"
             }
            },
            "header": {
             "fill": {
              "color": "#C8D4E3"
             },
             "line": {
              "color": "white"
             }
            },
            "type": "table"
           }
          ]
         },
         "layout": {
          "annotationdefaults": {
           "arrowcolor": "#2a3f5f",
           "arrowhead": 0,
           "arrowwidth": 1
          },
          "autotypenumbers": "strict",
          "coloraxis": {
           "colorbar": {
            "outlinewidth": 0,
            "ticks": ""
           }
          },
          "colorscale": {
           "diverging": [
            [
             0,
             "#8e0152"
            ],
            [
             0.1,
             "#c51b7d"
            ],
            [
             0.2,
             "#de77ae"
            ],
            [
             0.3,
             "#f1b6da"
            ],
            [
             0.4,
             "#fde0ef"
            ],
            [
             0.5,
             "#f7f7f7"
            ],
            [
             0.6,
             "#e6f5d0"
            ],
            [
             0.7,
             "#b8e186"
            ],
            [
             0.8,
             "#7fbc41"
            ],
            [
             0.9,
             "#4d9221"
            ],
            [
             1,
             "#276419"
            ]
           ],
           "sequential": [
            [
             0,
             "#0d0887"
            ],
            [
             0.1111111111111111,
             "#46039f"
            ],
            [
             0.2222222222222222,
             "#7201a8"
            ],
            [
             0.3333333333333333,
             "#9c179e"
            ],
            [
             0.4444444444444444,
             "#bd3786"
            ],
            [
             0.5555555555555556,
             "#d8576b"
            ],
            [
             0.6666666666666666,
             "#ed7953"
            ],
            [
             0.7777777777777778,
             "#fb9f3a"
            ],
            [
             0.8888888888888888,
             "#fdca26"
            ],
            [
             1,
             "#f0f921"
            ]
           ],
           "sequentialminus": [
            [
             0,
             "#0d0887"
            ],
            [
             0.1111111111111111,
             "#46039f"
            ],
            [
             0.2222222222222222,
             "#7201a8"
            ],
            [
             0.3333333333333333,
             "#9c179e"
            ],
            [
             0.4444444444444444,
             "#bd3786"
            ],
            [
             0.5555555555555556,
             "#d8576b"
            ],
            [
             0.6666666666666666,
             "#ed7953"
            ],
            [
             0.7777777777777778,
             "#fb9f3a"
            ],
            [
             0.8888888888888888,
             "#fdca26"
            ],
            [
             1,
             "#f0f921"
            ]
           ]
          },
          "colorway": [
           "#636efa",
           "#EF553B",
           "#00cc96",
           "#ab63fa",
           "#FFA15A",
           "#19d3f3",
           "#FF6692",
           "#B6E880",
           "#FF97FF",
           "#FECB52"
          ],
          "font": {
           "color": "#2a3f5f"
          },
          "geo": {
           "bgcolor": "white",
           "lakecolor": "white",
           "landcolor": "#E5ECF6",
           "showlakes": true,
           "showland": true,
           "subunitcolor": "white"
          },
          "hoverlabel": {
           "align": "left"
          },
          "hovermode": "closest",
          "mapbox": {
           "style": "light"
          },
          "paper_bgcolor": "white",
          "plot_bgcolor": "#E5ECF6",
          "polar": {
           "angularaxis": {
            "gridcolor": "white",
            "linecolor": "white",
            "ticks": ""
           },
           "bgcolor": "#E5ECF6",
           "radialaxis": {
            "gridcolor": "white",
            "linecolor": "white",
            "ticks": ""
           }
          },
          "scene": {
           "xaxis": {
            "backgroundcolor": "#E5ECF6",
            "gridcolor": "white",
            "gridwidth": 2,
            "linecolor": "white",
            "showbackground": true,
            "ticks": "",
            "zerolinecolor": "white"
           },
           "yaxis": {
            "backgroundcolor": "#E5ECF6",
            "gridcolor": "white",
            "gridwidth": 2,
            "linecolor": "white",
            "showbackground": true,
            "ticks": "",
            "zerolinecolor": "white"
           },
           "zaxis": {
            "backgroundcolor": "#E5ECF6",
            "gridcolor": "white",
            "gridwidth": 2,
            "linecolor": "white",
            "showbackground": true,
            "ticks": "",
            "zerolinecolor": "white"
           }
          },
          "shapedefaults": {
           "line": {
            "color": "#2a3f5f"
           }
          },
          "ternary": {
           "aaxis": {
            "gridcolor": "white",
            "linecolor": "white",
            "ticks": ""
           },
           "baxis": {
            "gridcolor": "white",
            "linecolor": "white",
            "ticks": ""
           },
           "bgcolor": "#E5ECF6",
           "caxis": {
            "gridcolor": "white",
            "linecolor": "white",
            "ticks": ""
           }
          },
          "title": {
           "x": 0.05
          },
          "xaxis": {
           "automargin": true,
           "gridcolor": "white",
           "linecolor": "white",
           "ticks": "",
           "title": {
            "standoff": 15
           },
           "zerolinecolor": "white",
           "zerolinewidth": 2
          },
          "yaxis": {
           "automargin": true,
           "gridcolor": "white",
           "linecolor": "white",
           "ticks": "",
           "title": {
            "standoff": 15
           },
           "zerolinecolor": "white",
           "zerolinewidth": 2
          }
         }
        },
        "title": {
         "text": "Slope"
        },
        "xaxis": {
         "anchor": "y",
         "domain": [
          0,
          1
         ],
         "title": {
          "text": "date"
         }
        },
        "yaxis": {
         "anchor": "x",
         "domain": [
          0,
          1
         ],
         "title": {
          "text": "slope"
         }
        }
       }
      }
     },
     "metadata": {},
     "output_type": "display_data"
    },
    {
     "data": {
      "application/vnd.plotly.v1+json": {
       "config": {
        "plotlyServerURL": "https://plot.ly"
       },
       "data": [
        {
         "hovertemplate": "date=%{x}<br>intercept=%{y}<extra></extra>",
         "legendgroup": "",
         "line": {
          "color": "#636efa",
          "dash": "solid"
         },
         "marker": {
          "symbol": "circle"
         },
         "mode": "markers+lines",
         "name": "",
         "orientation": "v",
         "showlegend": false,
         "type": "scatter",
         "x": [
          "2023-11-17T00:00:00",
          "2023-11-18T00:00:00",
          "2023-11-19T00:00:00",
          "2023-11-20T00:00:00",
          "2023-11-21T00:00:00",
          "2023-11-22T00:00:00",
          "2023-11-23T00:00:00",
          "2023-11-24T00:00:00",
          "2023-11-26T00:00:00",
          "2023-11-27T00:00:00",
          "2023-11-28T00:00:00"
         ],
         "xaxis": "x",
         "y": [
          -3.0401685924803132,
          -6.859254022761206,
          -4.431498530189174,
          37.458759876410795,
          -7.806732499470456,
          -43.14325228629315,
          -4.611335685721201,
          28.308065047471302,
          -6.803977654109303,
          -3.9655623195741327,
          -5.213033666103911
         ],
         "yaxis": "y"
        }
       ],
       "layout": {
        "legend": {
         "tracegroupgap": 0
        },
        "template": {
         "data": {
          "bar": [
           {
            "error_x": {
             "color": "#2a3f5f"
            },
            "error_y": {
             "color": "#2a3f5f"
            },
            "marker": {
             "line": {
              "color": "#E5ECF6",
              "width": 0.5
             },
             "pattern": {
              "fillmode": "overlay",
              "size": 10,
              "solidity": 0.2
             }
            },
            "type": "bar"
           }
          ],
          "barpolar": [
           {
            "marker": {
             "line": {
              "color": "#E5ECF6",
              "width": 0.5
             },
             "pattern": {
              "fillmode": "overlay",
              "size": 10,
              "solidity": 0.2
             }
            },
            "type": "barpolar"
           }
          ],
          "carpet": [
           {
            "aaxis": {
             "endlinecolor": "#2a3f5f",
             "gridcolor": "white",
             "linecolor": "white",
             "minorgridcolor": "white",
             "startlinecolor": "#2a3f5f"
            },
            "baxis": {
             "endlinecolor": "#2a3f5f",
             "gridcolor": "white",
             "linecolor": "white",
             "minorgridcolor": "white",
             "startlinecolor": "#2a3f5f"
            },
            "type": "carpet"
           }
          ],
          "choropleth": [
           {
            "colorbar": {
             "outlinewidth": 0,
             "ticks": ""
            },
            "type": "choropleth"
           }
          ],
          "contour": [
           {
            "colorbar": {
             "outlinewidth": 0,
             "ticks": ""
            },
            "colorscale": [
             [
              0,
              "#0d0887"
             ],
             [
              0.1111111111111111,
              "#46039f"
             ],
             [
              0.2222222222222222,
              "#7201a8"
             ],
             [
              0.3333333333333333,
              "#9c179e"
             ],
             [
              0.4444444444444444,
              "#bd3786"
             ],
             [
              0.5555555555555556,
              "#d8576b"
             ],
             [
              0.6666666666666666,
              "#ed7953"
             ],
             [
              0.7777777777777778,
              "#fb9f3a"
             ],
             [
              0.8888888888888888,
              "#fdca26"
             ],
             [
              1,
              "#f0f921"
             ]
            ],
            "type": "contour"
           }
          ],
          "contourcarpet": [
           {
            "colorbar": {
             "outlinewidth": 0,
             "ticks": ""
            },
            "type": "contourcarpet"
           }
          ],
          "heatmap": [
           {
            "colorbar": {
             "outlinewidth": 0,
             "ticks": ""
            },
            "colorscale": [
             [
              0,
              "#0d0887"
             ],
             [
              0.1111111111111111,
              "#46039f"
             ],
             [
              0.2222222222222222,
              "#7201a8"
             ],
             [
              0.3333333333333333,
              "#9c179e"
             ],
             [
              0.4444444444444444,
              "#bd3786"
             ],
             [
              0.5555555555555556,
              "#d8576b"
             ],
             [
              0.6666666666666666,
              "#ed7953"
             ],
             [
              0.7777777777777778,
              "#fb9f3a"
             ],
             [
              0.8888888888888888,
              "#fdca26"
             ],
             [
              1,
              "#f0f921"
             ]
            ],
            "type": "heatmap"
           }
          ],
          "heatmapgl": [
           {
            "colorbar": {
             "outlinewidth": 0,
             "ticks": ""
            },
            "colorscale": [
             [
              0,
              "#0d0887"
             ],
             [
              0.1111111111111111,
              "#46039f"
             ],
             [
              0.2222222222222222,
              "#7201a8"
             ],
             [
              0.3333333333333333,
              "#9c179e"
             ],
             [
              0.4444444444444444,
              "#bd3786"
             ],
             [
              0.5555555555555556,
              "#d8576b"
             ],
             [
              0.6666666666666666,
              "#ed7953"
             ],
             [
              0.7777777777777778,
              "#fb9f3a"
             ],
             [
              0.8888888888888888,
              "#fdca26"
             ],
             [
              1,
              "#f0f921"
             ]
            ],
            "type": "heatmapgl"
           }
          ],
          "histogram": [
           {
            "marker": {
             "pattern": {
              "fillmode": "overlay",
              "size": 10,
              "solidity": 0.2
             }
            },
            "type": "histogram"
           }
          ],
          "histogram2d": [
           {
            "colorbar": {
             "outlinewidth": 0,
             "ticks": ""
            },
            "colorscale": [
             [
              0,
              "#0d0887"
             ],
             [
              0.1111111111111111,
              "#46039f"
             ],
             [
              0.2222222222222222,
              "#7201a8"
             ],
             [
              0.3333333333333333,
              "#9c179e"
             ],
             [
              0.4444444444444444,
              "#bd3786"
             ],
             [
              0.5555555555555556,
              "#d8576b"
             ],
             [
              0.6666666666666666,
              "#ed7953"
             ],
             [
              0.7777777777777778,
              "#fb9f3a"
             ],
             [
              0.8888888888888888,
              "#fdca26"
             ],
             [
              1,
              "#f0f921"
             ]
            ],
            "type": "histogram2d"
           }
          ],
          "histogram2dcontour": [
           {
            "colorbar": {
             "outlinewidth": 0,
             "ticks": ""
            },
            "colorscale": [
             [
              0,
              "#0d0887"
             ],
             [
              0.1111111111111111,
              "#46039f"
             ],
             [
              0.2222222222222222,
              "#7201a8"
             ],
             [
              0.3333333333333333,
              "#9c179e"
             ],
             [
              0.4444444444444444,
              "#bd3786"
             ],
             [
              0.5555555555555556,
              "#d8576b"
             ],
             [
              0.6666666666666666,
              "#ed7953"
             ],
             [
              0.7777777777777778,
              "#fb9f3a"
             ],
             [
              0.8888888888888888,
              "#fdca26"
             ],
             [
              1,
              "#f0f921"
             ]
            ],
            "type": "histogram2dcontour"
           }
          ],
          "mesh3d": [
           {
            "colorbar": {
             "outlinewidth": 0,
             "ticks": ""
            },
            "type": "mesh3d"
           }
          ],
          "parcoords": [
           {
            "line": {
             "colorbar": {
              "outlinewidth": 0,
              "ticks": ""
             }
            },
            "type": "parcoords"
           }
          ],
          "pie": [
           {
            "automargin": true,
            "type": "pie"
           }
          ],
          "scatter": [
           {
            "fillpattern": {
             "fillmode": "overlay",
             "size": 10,
             "solidity": 0.2
            },
            "type": "scatter"
           }
          ],
          "scatter3d": [
           {
            "line": {
             "colorbar": {
              "outlinewidth": 0,
              "ticks": ""
             }
            },
            "marker": {
             "colorbar": {
              "outlinewidth": 0,
              "ticks": ""
             }
            },
            "type": "scatter3d"
           }
          ],
          "scattercarpet": [
           {
            "marker": {
             "colorbar": {
              "outlinewidth": 0,
              "ticks": ""
             }
            },
            "type": "scattercarpet"
           }
          ],
          "scattergeo": [
           {
            "marker": {
             "colorbar": {
              "outlinewidth": 0,
              "ticks": ""
             }
            },
            "type": "scattergeo"
           }
          ],
          "scattergl": [
           {
            "marker": {
             "colorbar": {
              "outlinewidth": 0,
              "ticks": ""
             }
            },
            "type": "scattergl"
           }
          ],
          "scattermapbox": [
           {
            "marker": {
             "colorbar": {
              "outlinewidth": 0,
              "ticks": ""
             }
            },
            "type": "scattermapbox"
           }
          ],
          "scatterpolar": [
           {
            "marker": {
             "colorbar": {
              "outlinewidth": 0,
              "ticks": ""
             }
            },
            "type": "scatterpolar"
           }
          ],
          "scatterpolargl": [
           {
            "marker": {
             "colorbar": {
              "outlinewidth": 0,
              "ticks": ""
             }
            },
            "type": "scatterpolargl"
           }
          ],
          "scatterternary": [
           {
            "marker": {
             "colorbar": {
              "outlinewidth": 0,
              "ticks": ""
             }
            },
            "type": "scatterternary"
           }
          ],
          "surface": [
           {
            "colorbar": {
             "outlinewidth": 0,
             "ticks": ""
            },
            "colorscale": [
             [
              0,
              "#0d0887"
             ],
             [
              0.1111111111111111,
              "#46039f"
             ],
             [
              0.2222222222222222,
              "#7201a8"
             ],
             [
              0.3333333333333333,
              "#9c179e"
             ],
             [
              0.4444444444444444,
              "#bd3786"
             ],
             [
              0.5555555555555556,
              "#d8576b"
             ],
             [
              0.6666666666666666,
              "#ed7953"
             ],
             [
              0.7777777777777778,
              "#fb9f3a"
             ],
             [
              0.8888888888888888,
              "#fdca26"
             ],
             [
              1,
              "#f0f921"
             ]
            ],
            "type": "surface"
           }
          ],
          "table": [
           {
            "cells": {
             "fill": {
              "color": "#EBF0F8"
             },
             "line": {
              "color": "white"
             }
            },
            "header": {
             "fill": {
              "color": "#C8D4E3"
             },
             "line": {
              "color": "white"
             }
            },
            "type": "table"
           }
          ]
         },
         "layout": {
          "annotationdefaults": {
           "arrowcolor": "#2a3f5f",
           "arrowhead": 0,
           "arrowwidth": 1
          },
          "autotypenumbers": "strict",
          "coloraxis": {
           "colorbar": {
            "outlinewidth": 0,
            "ticks": ""
           }
          },
          "colorscale": {
           "diverging": [
            [
             0,
             "#8e0152"
            ],
            [
             0.1,
             "#c51b7d"
            ],
            [
             0.2,
             "#de77ae"
            ],
            [
             0.3,
             "#f1b6da"
            ],
            [
             0.4,
             "#fde0ef"
            ],
            [
             0.5,
             "#f7f7f7"
            ],
            [
             0.6,
             "#e6f5d0"
            ],
            [
             0.7,
             "#b8e186"
            ],
            [
             0.8,
             "#7fbc41"
            ],
            [
             0.9,
             "#4d9221"
            ],
            [
             1,
             "#276419"
            ]
           ],
           "sequential": [
            [
             0,
             "#0d0887"
            ],
            [
             0.1111111111111111,
             "#46039f"
            ],
            [
             0.2222222222222222,
             "#7201a8"
            ],
            [
             0.3333333333333333,
             "#9c179e"
            ],
            [
             0.4444444444444444,
             "#bd3786"
            ],
            [
             0.5555555555555556,
             "#d8576b"
            ],
            [
             0.6666666666666666,
             "#ed7953"
            ],
            [
             0.7777777777777778,
             "#fb9f3a"
            ],
            [
             0.8888888888888888,
             "#fdca26"
            ],
            [
             1,
             "#f0f921"
            ]
           ],
           "sequentialminus": [
            [
             0,
             "#0d0887"
            ],
            [
             0.1111111111111111,
             "#46039f"
            ],
            [
             0.2222222222222222,
             "#7201a8"
            ],
            [
             0.3333333333333333,
             "#9c179e"
            ],
            [
             0.4444444444444444,
             "#bd3786"
            ],
            [
             0.5555555555555556,
             "#d8576b"
            ],
            [
             0.6666666666666666,
             "#ed7953"
            ],
            [
             0.7777777777777778,
             "#fb9f3a"
            ],
            [
             0.8888888888888888,
             "#fdca26"
            ],
            [
             1,
             "#f0f921"
            ]
           ]
          },
          "colorway": [
           "#636efa",
           "#EF553B",
           "#00cc96",
           "#ab63fa",
           "#FFA15A",
           "#19d3f3",
           "#FF6692",
           "#B6E880",
           "#FF97FF",
           "#FECB52"
          ],
          "font": {
           "color": "#2a3f5f"
          },
          "geo": {
           "bgcolor": "white",
           "lakecolor": "white",
           "landcolor": "#E5ECF6",
           "showlakes": true,
           "showland": true,
           "subunitcolor": "white"
          },
          "hoverlabel": {
           "align": "left"
          },
          "hovermode": "closest",
          "mapbox": {
           "style": "light"
          },
          "paper_bgcolor": "white",
          "plot_bgcolor": "#E5ECF6",
          "polar": {
           "angularaxis": {
            "gridcolor": "white",
            "linecolor": "white",
            "ticks": ""
           },
           "bgcolor": "#E5ECF6",
           "radialaxis": {
            "gridcolor": "white",
            "linecolor": "white",
            "ticks": ""
           }
          },
          "scene": {
           "xaxis": {
            "backgroundcolor": "#E5ECF6",
            "gridcolor": "white",
            "gridwidth": 2,
            "linecolor": "white",
            "showbackground": true,
            "ticks": "",
            "zerolinecolor": "white"
           },
           "yaxis": {
            "backgroundcolor": "#E5ECF6",
            "gridcolor": "white",
            "gridwidth": 2,
            "linecolor": "white",
            "showbackground": true,
            "ticks": "",
            "zerolinecolor": "white"
           },
           "zaxis": {
            "backgroundcolor": "#E5ECF6",
            "gridcolor": "white",
            "gridwidth": 2,
            "linecolor": "white",
            "showbackground": true,
            "ticks": "",
            "zerolinecolor": "white"
           }
          },
          "shapedefaults": {
           "line": {
            "color": "#2a3f5f"
           }
          },
          "ternary": {
           "aaxis": {
            "gridcolor": "white",
            "linecolor": "white",
            "ticks": ""
           },
           "baxis": {
            "gridcolor": "white",
            "linecolor": "white",
            "ticks": ""
           },
           "bgcolor": "#E5ECF6",
           "caxis": {
            "gridcolor": "white",
            "linecolor": "white",
            "ticks": ""
           }
          },
          "title": {
           "x": 0.05
          },
          "xaxis": {
           "automargin": true,
           "gridcolor": "white",
           "linecolor": "white",
           "ticks": "",
           "title": {
            "standoff": 15
           },
           "zerolinecolor": "white",
           "zerolinewidth": 2
          },
          "yaxis": {
           "automargin": true,
           "gridcolor": "white",
           "linecolor": "white",
           "ticks": "",
           "title": {
            "standoff": 15
           },
           "zerolinecolor": "white",
           "zerolinewidth": 2
          }
         }
        },
        "title": {
         "text": "Slope"
        },
        "xaxis": {
         "anchor": "y",
         "domain": [
          0,
          1
         ],
         "title": {
          "text": "date"
         }
        },
        "yaxis": {
         "anchor": "x",
         "domain": [
          0,
          1
         ],
         "title": {
          "text": "intercept"
         }
        }
       }
      }
     },
     "metadata": {},
     "output_type": "display_data"
    }
   ],
   "source": [
    "fig = px.line(df_sys.collect(), x=\"date\", y=f\"slope\", markers=True, title = \"Slope\")\n",
    "fig.show()\n",
    "\n",
    "fig = px.line(df_sys.collect(), x=\"date\", y=f\"intercept\", markers=True, title = \"Slope\")\n",
    "fig.show()"
   ]
  },
  {
   "cell_type": "markdown",
   "metadata": {},
   "source": [
    "# Define slope and intercept over time with linear regression"
   ]
  },
  {
   "cell_type": "code",
   "execution_count": 386,
   "metadata": {},
   "outputs": [
    {
     "name": "stdout",
     "output_type": "stream",
     "text": [
      "R-squared: 0.000107\n"
     ]
    },
    {
     "data": {
      "image/png": "[encoded data removed]",
      "text/plain": [
       "<Figure size 640x480 with 1 Axes>"
      ]
     },
     "metadata": {},
     "output_type": "display_data"
    }
   ],
   "source": [
    "import numpy as np\n",
    "from scipy import stats\n",
    "\n",
    "y = df_sys.select(pl.col(\"slope\")).collect().to_series().to_list()\n",
    "x = df_sys.select(pl.col(\"timestamp\")).collect().to_series().to_list()\n",
    "\n",
    "x = np.array(x)\n",
    "#x = range(len(y))\n",
    "\n",
    "res = stats.linregress(x, y)\n",
    "\n",
    "print(f\"R-squared: {res.rvalue**2:.6f}\")\n",
    "\n",
    "import matplotlib.pyplot as plt\n",
    "plt.plot(x, y, 'o', label='original data')\n",
    "plt.plot(x, res.intercept + res.slope*x, 'r', label='fitted line')\n",
    "plt.legend()\n",
    "plt.show()"
   ]
  },
  {
   "cell_type": "code",
   "execution_count": 387,
   "metadata": {},
   "outputs": [
    {
     "name": "stdout",
     "output_type": "stream",
     "text": [
      "R-squared: 0.000946\n"
     ]
    },
    {
     "data": {
      "image/png": "[encoded data removed]",
      "text/plain": [
       "<Figure size 640x480 with 1 Axes>"
      ]
     },
     "metadata": {},
     "output_type": "display_data"
    }
   ],
   "source": [
    "import numpy as np\n",
    "from scipy import stats\n",
    "\n",
    "y = df_sys.select(pl.col(\"intercept\")).collect().to_series().to_list()\n",
    "x = df_sys.select(pl.col(\"timestamp\")).collect().to_series().to_list()\n",
    "\n",
    "x = np.array(x)\n",
    "#x = range(len(y))\n",
    "\n",
    "res = stats.linregress(x, y)\n",
    "\n",
    "print(f\"R-squared: {res.rvalue**2:.6f}\")\n",
    "\n",
    "import matplotlib.pyplot as plt\n",
    "plt.plot(x, y, 'o', label='original data')\n",
    "plt.plot(x, res.intercept + res.slope*x, 'r', label='fitted line')\n",
    "plt.legend()\n",
    "plt.show()"
   ]
  },
  {
   "cell_type": "markdown",
   "metadata": {},
   "source": [
    "# Use RANSAC algortihm"
   ]
  },
  {
   "cell_type": "code",
   "execution_count": 388,
   "metadata": {},
   "outputs": [
    {
     "name": "stdout",
     "output_type": "stream",
     "text": [
      "Estimated coefficients (true, linear regression, RANSAC):\n",
      "[3.27024743e-06] [4.4240026e-07]\n",
      "[ True  True False False  True False  True False  True False  True]\n"
     ]
    },
    {
     "data": {
      "image/png": "[encoded data removed]",
      "text/plain": [
       "<Figure size 640x480 with 1 Axes>"
      ]
     },
     "metadata": {},
     "output_type": "display_data"
    }
   ],
   "source": [
    "from sklearn import linear_model\n",
    "import numpy as np\n",
    "\n",
    "# ---- init ----\n",
    "\n",
    "df_sys = df_cal.filter(pl.col(\"system_name\") == f\"tum-esm-midcost-raspi-{id_system}\").filter(pl.col(\"creation_timestamp\").is_between(start_date, end_date))\n",
    "\n",
    "y = df_sys.select(pl.col(\"slope\")).collect().to_series().to_list()\n",
    "x = df_sys.select(pl.col(\"timestamp\")).collect().to_series().to_list()\n",
    "\n",
    "#x = range(len(y))\n",
    "\n",
    "Y = np.array(y)\n",
    "X = np.array(x)\n",
    "\n",
    "# --------------\n",
    "\n",
    "lr = linear_model.LinearRegression()\n",
    "lr.fit(X.reshape(-1, 1), Y)\n",
    "\n",
    "\n",
    "# Robustly fit linear model with RANSAC algorithm\n",
    "ransac_slope = linear_model.RANSACRegressor()\n",
    "ransac_slope.fit(X.reshape(-1, 1), Y)\n",
    "inlier_mask = ransac_slope.inlier_mask_\n",
    "outlier_mask = np.logical_not(inlier_mask)\n",
    "\n",
    "# Predict data of estimated models\n",
    "line_X = np.arange(X.min(), X.max())[:, np.newaxis]\n",
    "line_y = lr.predict(line_X)\n",
    "line_y_ransac = ransac_slope.predict(line_X)\n",
    "\n",
    "# Compare estimated coefficients\n",
    "print(\"Estimated coefficients (true, linear regression, RANSAC):\")\n",
    "print(lr.coef_, ransac_slope.estimator_.coef_)\n",
    "print(inlier_mask)\n",
    "\n",
    "lw = 2\n",
    "#plt.gca().invert_yaxis() # Mirror points \n",
    "\n",
    "plt.scatter(\n",
    "    X[inlier_mask], Y[inlier_mask], color=\"yellowgreen\", marker=\".\", label=\"Inliers\"\n",
    ")\n",
    "plt.scatter(\n",
    "    X[outlier_mask], Y[outlier_mask], color=\"gold\", marker=\".\", label=\"Outliers\"\n",
    ")\n",
    "plt.plot(line_X, line_y, color=\"navy\", linewidth=lw, label=\"Linear regressor\")\n",
    "plt.plot(\n",
    "    line_X,\n",
    "    line_y_ransac,\n",
    "    color=\"cornflowerblue\",\n",
    "    linewidth=lw,\n",
    "    label=\"RANSAC regressor\",\n",
    ")\n",
    "plt.legend()\n",
    "plt.xlabel(\"Unix Time (h)\")\n",
    "plt.ylabel(\"Slope\")\n",
    "plt.show()"
   ]
  },
  {
   "cell_type": "code",
   "execution_count": 389,
   "metadata": {},
   "outputs": [
    {
     "name": "stdout",
     "output_type": "stream",
     "text": [
      "Estimated coefficients (true, linear regression, RANSAC):\n",
      "[-0.00766576] [0.01066021]\n",
      "[False  True False False  True False  True False  True  True  True]\n"
     ]
    },
    {
     "data": {
      "image/png": "[encoded data removed]",
      "text/plain": [
       "<Figure size 640x480 with 1 Axes>"
      ]
     },
     "metadata": {},
     "output_type": "display_data"
    }
   ],
   "source": [
    "from sklearn import linear_model, datasets\n",
    "import numpy as np\n",
    "\n",
    "# ---- init ----\n",
    "\n",
    "df_sys = df_cal.filter(pl.col(\"system_name\") == f\"tum-esm-midcost-raspi-{id_system}\").filter(pl.col(\"creation_timestamp\").is_between(start_date, end_date))\n",
    "\n",
    "y = df_sys.select(pl.col(\"intercept\")).collect().to_series().to_list()\n",
    "x = df_sys.select(pl.col(\"timestamp\")).collect().to_series().to_list()\n",
    "\n",
    "Y = np.array(y)\n",
    "X = np.array(x)\n",
    "\n",
    "# --------------\n",
    "\n",
    "lr = linear_model.LinearRegression()\n",
    "lr.fit(X.reshape(-1, 1), Y)\n",
    "\n",
    "\n",
    "# Robustly fit linear model with RANSAC algorithm\n",
    "ransac_intercept = linear_model.RANSACRegressor()\n",
    "ransac_intercept.fit(X.reshape(-1, 1), Y)\n",
    "inlier_mask = ransac_intercept.inlier_mask_\n",
    "outlier_mask = np.logical_not(inlier_mask)\n",
    "\n",
    "# Predict data of estimated models\n",
    "line_X = np.arange(X.min(), X.max())[:, np.newaxis]\n",
    "line_y = lr.predict(line_X)\n",
    "line_y_ransac = ransac_intercept.predict(line_X)\n",
    "\n",
    "# Compare estimated coefficients\n",
    "print(\"Estimated coefficients (true, linear regression, RANSAC):\")\n",
    "print(lr.coef_, ransac_intercept.estimator_.coef_)\n",
    "print(inlier_mask)\n",
    "\n",
    "lw = 2\n",
    "#plt.gca().invert_yaxis() # Mirror points \n",
    "\n",
    "plt.scatter(\n",
    "    X[inlier_mask], Y[inlier_mask], color=\"yellowgreen\", marker=\".\", label=\"Inliers\"\n",
    ")\n",
    "plt.scatter(\n",
    "    X[outlier_mask], Y[outlier_mask], color=\"gold\", marker=\".\", label=\"Outliers\"\n",
    ")\n",
    "plt.plot(line_X, line_y, color=\"navy\", linewidth=lw, label=\"Linear regressor\")\n",
    "plt.plot(\n",
    "    line_X,\n",
    "    line_y_ransac,\n",
    "    color=\"cornflowerblue\",\n",
    "    linewidth=lw,\n",
    "    label=\"RANSAC regressor\",\n",
    ")\n",
    "plt.legend()\n",
    "plt.xlabel(\"Unix Time (h)\")\n",
    "plt.ylabel(\"Intercept\")\n",
    "plt.show()"
   ]
  },
  {
   "cell_type": "code",
   "execution_count": 390,
   "metadata": {},
   "outputs": [
    {
     "data": {
      "image/png": "[encoded data removed]",
      "text/plain": [
       "<Figure size 640x480 with 1 Axes>"
      ]
     },
     "metadata": {},
     "output_type": "display_data"
    },
    {
     "data": {
      "image/png": "[encoded data removed]",
      "text/plain": [
       "<Figure size 640x480 with 1 Axes>"
      ]
     },
     "metadata": {},
     "output_type": "display_data"
    },
    {
     "data": {
      "image/png": "[encoded data removed]",
      "text/plain": [
       "<Figure size 640x480 with 1 Axes>"
      ]
     },
     "metadata": {},
     "output_type": "display_data"
    },
    {
     "data": {
      "image/png": "[encoded data removed]",
      "text/plain": [
       "<Figure size 640x480 with 1 Axes>"
      ]
     },
     "metadata": {},
     "output_type": "display_data"
    },
    {
     "data": {
      "image/png": "[encoded data removed]",
      "text/plain": [
       "<Figure size 640x480 with 1 Axes>"
      ]
     },
     "metadata": {},
     "output_type": "display_data"
    },
    {
     "data": {
      "image/png": "[encoded data removed]",
      "text/plain": [
       "<Figure size 640x480 with 1 Axes>"
      ]
     },
     "metadata": {},
     "output_type": "display_data"
    },
    {
     "data": {
      "image/png": "[encoded data removed]",
      "text/plain": [
       "<Figure size 640x480 with 1 Axes>"
      ]
     },
     "metadata": {},
     "output_type": "display_data"
    },
    {
     "data": {
      "image/png": "[encoded data removed]",
      "text/plain": [
       "<Figure size 640x480 with 1 Axes>"
      ]
     },
     "metadata": {},
     "output_type": "display_data"
    },
    {
     "data": {
      "image/png": "[encoded data removed]",
      "text/plain": [
       "<Figure size 640x480 with 1 Axes>"
      ]
     },
     "metadata": {},
     "output_type": "display_data"
    },
    {
     "data": {
      "image/png": "[encoded data removed]",
      "text/plain": [
       "<Figure size 640x480 with 1 Axes>"
      ]
     },
     "metadata": {},
     "output_type": "display_data"
    }
   ],
   "source": [
    "sensor_id = [6,11,12,13,18]\n",
    "\n",
    "df_p_1h = pl.read_parquet(os.path.join(DATA_DIRECTORY,\"processed\", \"1h_cal_corr_picarro.parquet\")) \\\n",
    "    .filter(pl.col(\"creation_timestamp\").is_between(start_date, end_date))\n",
    "\n",
    "df_dry = pl.scan_parquet(os.path.join(DATA_DIRECTORY, \"processed\", \"acropolis_dry.parquet\")).filter(pl.col(\"creation_timestamp\").is_between(start_date, end_date))\n",
    "\n",
    "def calc_ransac(x, ransac):\n",
    "    intercept = ransac.estimator_.intercept_\n",
    "    slope = ransac.estimator_.coef_\n",
    "    \n",
    "    x = (x * slope) + intercept\n",
    "    \n",
    "    return x[0]\n",
    "\n",
    "def fit_ransac(id_system, col):\n",
    "    \n",
    "    df_sys = df_cal.filter(pl.col(\"system_name\") == f\"tum-esm-midcost-raspi-{id_system}\").filter(pl.col(\"creation_timestamp\").is_between(start_date, end_date))\n",
    "\n",
    "    y = df_sys.select(pl.col(col)).collect().to_series().to_list()\n",
    "    x = df_sys.select(pl.col(\"timestamp\")).collect().to_series().to_list()\n",
    "\n",
    "    #x = range(len(y))\n",
    "\n",
    "    Y = np.array(y)\n",
    "    X = np.array(x)\n",
    "\n",
    "    # Robustly fit linear model with RANSAC algorithm\n",
    "    ransac = linear_model.RANSACRegressor()\n",
    "    ransac.fit(X.reshape(-1, 1), Y)\n",
    "    inlier_mask = ransac.inlier_mask_\n",
    "    outlier_mask = np.logical_not(inlier_mask)\n",
    "    line_X = np.arange(X.min(), X.max())[:, np.newaxis]\n",
    "    line_y_ransac = ransac.predict(line_X)\n",
    "    \n",
    "    lw = 2\n",
    "    \n",
    "\n",
    "    plt.scatter(\n",
    "        X[inlier_mask], Y[inlier_mask], color=\"yellowgreen\", marker=\".\", label=\"Inliers\"\n",
    "    )\n",
    "    plt.scatter(\n",
    "        X[outlier_mask], Y[outlier_mask], color=\"gold\", marker=\".\", label=\"Outliers\"\n",
    "    )\n",
    "    plt.plot(\n",
    "        line_X,\n",
    "        line_y_ransac,\n",
    "        color=\"cornflowerblue\",\n",
    "        linewidth=lw,\n",
    "        label=\"RANSAC regressor\",\n",
    "    )\n",
    "    plt.legend()\n",
    "    plt.xlabel(\"Unix Time (h)\")\n",
    "    plt.ylabel(f\"{col} for system: {id}\")\n",
    "    plt.show()\n",
    "    \n",
    "    return ransac\n",
    "\n",
    "\n",
    "l_df_cal_corr =[df_p_1h]\n",
    "    \n",
    "\n",
    "for id in sensor_id:  \n",
    "    ransac_slope = fit_ransac(id, \"slope\")\n",
    "    ransac_intercept = fit_ransac(id, \"intercept\")\n",
    "    \n",
    "    df_cal_corr = df_dry.filter(pl.col(\"system_name\") == f\"tum-esm-midcost-raspi-{id}\") \\\n",
    "        .with_columns((pl.col(\"creation_timestamp\").dt.timestamp(\"ms\") / 3.6e6).alias(\"unix_time_h\")) \\\n",
    "        .with_columns((pl.col(\"unix_time_h\").apply(lambda x: calc_ransac(x, ransac_slope))).alias(\"slope\")) \\\n",
    "        .with_columns((pl.col(\"unix_time_h\").apply(lambda x: calc_ransac(x, ransac_intercept))).alias(\"intercept\")) \\\n",
    "        .with_columns((pl.col(\"gmp343_dry\") * pl.col(\"slope\") + pl.col(\"intercept\")).alias(\"CO2_corr\")) \\\n",
    "        .sort(\"creation_timestamp\") \\\n",
    "        .select([\"creation_timestamp\", \"system_name\", \"CO2_corr\"]) \\\n",
    "        .groupby_dynamic(\"creation_timestamp\", every='1h')  \\\n",
    "        .agg([\n",
    "            pl.all().exclude([\"creation_timestamp\",\"system_name\"]).mean(),\n",
    "            pl.col(\"system_name\")\n",
    "            ]) \\\n",
    "        .with_columns(pl.col(\"system_name\").list.last()) \\\n",
    "        .collect()\n",
    "        \n",
    "    df_cal_corr = df_cal_corr.join(df_p_1h.select(\"creation_timestamp\", \"CO2_corr\") \\\n",
    "            .rename({\"CO2_corr\": \"temp\"}), on=\"creation_timestamp\", how= \"left\") \\\n",
    "            .with_columns((pl.col(\"CO2_corr\") - pl.col(\"temp\")).alias(\"diff\")) \\\n",
    "            .drop(\"temp\")\n",
    "        \n",
    "    l_df_cal_corr.append(df_cal_corr)"
   ]
  },
  {
   "cell_type": "code",
   "execution_count": 391,
   "metadata": {},
   "outputs": [],
   "source": [
    "df_cal_cor = pl.concat(l_df_cal_corr, how=\"diagonal\")"
   ]
  },
  {
   "cell_type": "code",
   "execution_count": 392,
   "metadata": {},
   "outputs": [
    {
     "data": {
      "application/vnd.plotly.v1+json": {
       "config": {
        "plotlyServerURL": "https://plot.ly"
       },
       "data": [
        {
         "hovertemplate": "system_name=Picarro<br>creation_timestamp=%{x}<br>CO2_corr=%{y}<extra></extra>",
         "legendgroup": "Picarro",
         "line": {
          "color": "#636efa",
          "dash": "solid"
         },
         "marker": {
          "symbol": "circle"
         },
         "mode": "markers+lines",
         "name": "Picarro",
         "showlegend": true,
         "type": "scattergl",
         "x": [
          "2023-11-17T00:00:00+00:00",
          "2023-11-17T01:00:00+00:00",
          "2023-11-17T02:00:00+00:00",
          "2023-11-17T03:00:00+00:00",
          "2023-11-17T04:00:00+00:00",
          "2023-11-17T05:00:00+00:00",
          "2023-11-17T06:00:00+00:00",
          "2023-11-17T07:00:00+00:00",
          "2023-11-17T08:00:00+00:00",
          "2023-11-17T09:00:00+00:00",
          "2023-11-17T10:00:00+00:00",
          "2023-11-17T11:00:00+00:00",
          "2023-11-17T12:00:00+00:00",
          "2023-11-17T13:00:00+00:00",
          "2023-11-17T14:00:00+00:00",
          "2023-11-17T15:00:00+00:00",
          "2023-11-17T16:00:00+00:00",
          "2023-11-17T17:00:00+00:00",
          "2023-11-17T18:00:00+00:00",
          "2023-11-17T19:00:00+00:00",
          "2023-11-17T20:00:00+00:00",
          "2023-11-17T21:00:00+00:00",
          "2023-11-17T22:00:00+00:00",
          "2023-11-17T23:00:00+00:00",
          "2023-11-18T00:00:00+00:00",
          "2023-11-18T01:00:00+00:00",
          "2023-11-18T02:00:00+00:00",
          "2023-11-18T03:00:00+00:00",
          "2023-11-18T04:00:00+00:00",
          "2023-11-18T05:00:00+00:00",
          "2023-11-18T06:00:00+00:00",
          "2023-11-18T07:00:00+00:00",
          "2023-11-18T08:00:00+00:00",
          "2023-11-18T09:00:00+00:00",
          "2023-11-18T10:00:00+00:00",
          "2023-11-18T11:00:00+00:00",
          "2023-11-18T12:00:00+00:00",
          "2023-11-18T13:00:00+00:00",
          "2023-11-18T14:00:00+00:00",
          "2023-11-18T15:00:00+00:00",
          "2023-11-18T16:00:00+00:00",
          "2023-11-18T17:00:00+00:00",
          "2023-11-18T18:00:00+00:00",
          "2023-11-18T19:00:00+00:00",
          "2023-11-18T20:00:00+00:00",
          "2023-11-18T21:00:00+00:00",
          "2023-11-18T22:00:00+00:00",
          "2023-11-18T23:00:00+00:00",
          "2023-11-19T00:00:00+00:00",
          "2023-11-19T01:00:00+00:00",
          "2023-11-19T02:00:00+00:00",
          "2023-11-19T03:00:00+00:00",
          "2023-11-19T04:00:00+00:00",
          "2023-11-19T05:00:00+00:00",
          "2023-11-19T06:00:00+00:00",
          "2023-11-19T07:00:00+00:00",
          "2023-11-19T08:00:00+00:00",
          "2023-11-19T09:00:00+00:00",
          "2023-11-19T10:00:00+00:00",
          "2023-11-19T11:00:00+00:00",
          "2023-11-19T12:00:00+00:00",
          "2023-11-19T13:00:00+00:00",
          "2023-11-19T14:00:00+00:00",
          "2023-11-19T15:00:00+00:00",
          "2023-11-19T16:00:00+00:00",
          "2023-11-19T17:00:00+00:00",
          "2023-11-19T18:00:00+00:00",
          "2023-11-19T19:00:00+00:00",
          "2023-11-19T20:00:00+00:00",
          "2023-11-19T21:00:00+00:00",
          "2023-11-19T22:00:00+00:00",
          "2023-11-19T23:00:00+00:00",
          "2023-11-20T00:00:00+00:00",
          "2023-11-20T01:00:00+00:00",
          "2023-11-20T02:00:00+00:00",
          "2023-11-20T03:00:00+00:00",
          "2023-11-20T04:00:00+00:00",
          "2023-11-20T05:00:00+00:00",
          "2023-11-20T06:00:00+00:00",
          "2023-11-20T07:00:00+00:00",
          "2023-11-20T08:00:00+00:00",
          "2023-11-20T09:00:00+00:00",
          "2023-11-20T10:00:00+00:00",
          "2023-11-20T11:00:00+00:00",
          "2023-11-20T12:00:00+00:00",
          "2023-11-20T13:00:00+00:00",
          "2023-11-20T14:00:00+00:00",
          "2023-11-20T15:00:00+00:00",
          "2023-11-20T16:00:00+00:00",
          "2023-11-20T17:00:00+00:00",
          "2023-11-20T18:00:00+00:00",
          "2023-11-20T19:00:00+00:00",
          "2023-11-20T20:00:00+00:00",
          "2023-11-20T21:00:00+00:00",
          "2023-11-20T22:00:00+00:00",
          "2023-11-20T23:00:00+00:00",
          "2023-11-21T00:00:00+00:00",
          "2023-11-21T01:00:00+00:00",
          "2023-11-21T02:00:00+00:00",
          "2023-11-21T03:00:00+00:00",
          "2023-11-21T04:00:00+00:00",
          "2023-11-21T05:00:00+00:00",
          "2023-11-21T06:00:00+00:00",
          "2023-11-21T07:00:00+00:00",
          "2023-11-21T08:00:00+00:00",
          "2023-11-21T09:00:00+00:00",
          "2023-11-21T10:00:00+00:00",
          "2023-11-21T11:00:00+00:00",
          "2023-11-21T12:00:00+00:00",
          "2023-11-21T13:00:00+00:00",
          "2023-11-21T14:00:00+00:00",
          "2023-11-21T15:00:00+00:00",
          "2023-11-21T16:00:00+00:00",
          "2023-11-21T17:00:00+00:00",
          "2023-11-21T18:00:00+00:00",
          "2023-11-21T19:00:00+00:00",
          "2023-11-21T20:00:00+00:00",
          "2023-11-21T21:00:00+00:00",
          "2023-11-21T22:00:00+00:00",
          "2023-11-21T23:00:00+00:00",
          "2023-11-22T00:00:00+00:00",
          "2023-11-22T01:00:00+00:00",
          "2023-11-22T02:00:00+00:00",
          "2023-11-22T03:00:00+00:00",
          "2023-11-22T04:00:00+00:00",
          "2023-11-22T05:00:00+00:00",
          "2023-11-22T06:00:00+00:00",
          "2023-11-22T07:00:00+00:00",
          "2023-11-22T08:00:00+00:00",
          "2023-11-22T09:00:00+00:00",
          "2023-11-22T10:00:00+00:00",
          "2023-11-22T11:00:00+00:00",
          "2023-11-22T12:00:00+00:00",
          "2023-11-22T13:00:00+00:00",
          "2023-11-22T14:00:00+00:00",
          "2023-11-22T15:00:00+00:00",
          "2023-11-22T16:00:00+00:00",
          "2023-11-22T17:00:00+00:00",
          "2023-11-22T18:00:00+00:00",
          "2023-11-22T19:00:00+00:00",
          "2023-11-22T20:00:00+00:00",
          "2023-11-22T21:00:00+00:00",
          "2023-11-22T22:00:00+00:00",
          "2023-11-22T23:00:00+00:00",
          "2023-11-23T00:00:00+00:00",
          "2023-11-23T01:00:00+00:00",
          "2023-11-23T02:00:00+00:00",
          "2023-11-23T03:00:00+00:00",
          "2023-11-23T04:00:00+00:00",
          "2023-11-23T05:00:00+00:00",
          "2023-11-23T06:00:00+00:00",
          "2023-11-23T07:00:00+00:00",
          "2023-11-23T08:00:00+00:00",
          "2023-11-23T09:00:00+00:00",
          "2023-11-23T10:00:00+00:00",
          "2023-11-23T11:00:00+00:00",
          "2023-11-23T12:00:00+00:00",
          "2023-11-23T13:00:00+00:00",
          "2023-11-23T14:00:00+00:00",
          "2023-11-23T15:00:00+00:00",
          "2023-11-23T16:00:00+00:00",
          "2023-11-23T17:00:00+00:00",
          "2023-11-23T18:00:00+00:00",
          "2023-11-23T19:00:00+00:00",
          "2023-11-23T20:00:00+00:00",
          "2023-11-23T21:00:00+00:00",
          "2023-11-23T22:00:00+00:00",
          "2023-11-23T23:00:00+00:00",
          "2023-11-24T00:00:00+00:00",
          "2023-11-24T01:00:00+00:00",
          "2023-11-24T02:00:00+00:00",
          "2023-11-24T03:00:00+00:00",
          "2023-11-24T04:00:00+00:00",
          "2023-11-24T05:00:00+00:00",
          "2023-11-24T06:00:00+00:00",
          "2023-11-24T07:00:00+00:00",
          "2023-11-24T08:00:00+00:00",
          "2023-11-24T09:00:00+00:00",
          "2023-11-24T10:00:00+00:00",
          "2023-11-24T11:00:00+00:00",
          "2023-11-24T12:00:00+00:00",
          "2023-11-24T13:00:00+00:00",
          "2023-11-24T14:00:00+00:00",
          "2023-11-24T15:00:00+00:00",
          "2023-11-24T16:00:00+00:00",
          "2023-11-24T17:00:00+00:00",
          "2023-11-24T18:00:00+00:00",
          "2023-11-24T19:00:00+00:00",
          "2023-11-24T20:00:00+00:00",
          "2023-11-24T21:00:00+00:00",
          "2023-11-24T22:00:00+00:00",
          "2023-11-24T23:00:00+00:00",
          "2023-11-25T00:00:00+00:00",
          "2023-11-25T01:00:00+00:00",
          "2023-11-25T02:00:00+00:00",
          "2023-11-25T03:00:00+00:00",
          "2023-11-25T04:00:00+00:00",
          "2023-11-25T05:00:00+00:00",
          "2023-11-25T06:00:00+00:00",
          "2023-11-25T07:00:00+00:00",
          "2023-11-25T08:00:00+00:00",
          "2023-11-25T09:00:00+00:00",
          "2023-11-25T10:00:00+00:00",
          "2023-11-25T11:00:00+00:00",
          "2023-11-25T12:00:00+00:00",
          "2023-11-25T13:00:00+00:00",
          "2023-11-25T14:00:00+00:00",
          "2023-11-25T15:00:00+00:00",
          "2023-11-25T16:00:00+00:00",
          "2023-11-25T17:00:00+00:00",
          "2023-11-25T18:00:00+00:00",
          "2023-11-25T19:00:00+00:00",
          "2023-11-25T20:00:00+00:00",
          "2023-11-25T21:00:00+00:00",
          "2023-11-25T22:00:00+00:00",
          "2023-11-25T23:00:00+00:00",
          "2023-11-26T00:00:00+00:00",
          "2023-11-26T01:00:00+00:00",
          "2023-11-26T02:00:00+00:00",
          "2023-11-26T03:00:00+00:00",
          "2023-11-26T04:00:00+00:00",
          "2023-11-26T05:00:00+00:00",
          "2023-11-26T06:00:00+00:00",
          "2023-11-26T07:00:00+00:00",
          "2023-11-26T08:00:00+00:00",
          "2023-11-26T09:00:00+00:00",
          "2023-11-26T10:00:00+00:00",
          "2023-11-26T11:00:00+00:00",
          "2023-11-26T12:00:00+00:00",
          "2023-11-26T13:00:00+00:00",
          "2023-11-26T14:00:00+00:00",
          "2023-11-26T15:00:00+00:00",
          "2023-11-26T16:00:00+00:00",
          "2023-11-26T17:00:00+00:00",
          "2023-11-26T18:00:00+00:00",
          "2023-11-26T19:00:00+00:00",
          "2023-11-26T20:00:00+00:00",
          "2023-11-26T21:00:00+00:00",
          "2023-11-26T22:00:00+00:00",
          "2023-11-26T23:00:00+00:00"
         ],
         "xaxis": "x",
         "y": [
          438.6753707273117,
          436.0767394075915,
          432.9107186696635,
          433.6759503105446,
          433.575272531534,
          436.1436028903613,
          439.6878831057848,
          439.20612900661456,
          440.39522620970325,
          439.8510484750749,
          438.6780606735635,
          436.9366062551493,
          436.9404032136227,
          437.09588251781645,
          440.22643276489265,
          442.03160329992363,
          440.7246070113137,
          439.18795838627983,
          439.77463186010357,
          440.17985122413387,
          440.38754712922895,
          441.6174248810193,
          439.67503816007735,
          438.7827881014685,
          436.19726213209594,
          433.413804646541,
          434.0950005946155,
          435.2561053390961,
          436.8506964369454,
          438.5652631056369,
          439.5824667891735,
          440.80059507224286,
          439.7618100402137,
          435.2149752652946,
          432.798462110217,
          431.97758172260006,
          430.3702385565578,
          429.8763905322089,
          430.38733261142266,
          432.82499431654287,
          434.7585790174058,
          443.62059967360733,
          439.93726635146294,
          432.9497349420177,
          430.7970905490219,
          432.9436464871321,
          433.53789795931834,
          436.05854971527987,
          439.7793002191573,
          442.6918314226619,
          448.49935541496393,
          439.2049687580027,
          433.87622553441173,
          429.8880812314409,
          429.7158457950559,
          430.88006483771557,
          430.9364291092029,
          429.8903890584999,
          429.0233960736826,
          427.31737958304143,
          427.0444334483055,
          427.7795249308334,
          428.1826492750952,
          429.7991835522746,
          432.8944912178855,
          430.91339283868405,
          431.3962666651036,
          431.03366631986023,
          430.6432932737572,
          430.68934137783964,
          430.47223010739555,
          430.3340096827616,
          431.3003947367192,
          434.77311575228106,
          437.99706874886203,
          433.9526158024714,
          432.00308594587335,
          432.8604905021897,
          435.48069424298393,
          437.1124684150381,
          434.10314699518284,
          430.38480117783666,
          430.40752135405756,
          430.2368601517234,
          428.624627435091,
          429.8229792627592,
          430.2850999897632,
          433.6390928099425,
          439.26706499735764,
          439.1788462377161,
          443.5966560847612,
          445.36102501816293,
          443.5741621383519,
          442.26779581481657,
          435.7057628599383,
          434.23231720121856,
          432.11100665607796,
          434.4980484825275,
          434.02276526328563,
          436.29889667995235,
          433.07142141797624,
          434.0159783557629,
          436.7970640607302,
          437.50548063717446,
          437.016932285158,
          436.7296234226819,
          434.003383801822,
          434.2481340546222,
          435.5693969639768,
          443.55047459295275,
          445.55831631131434,
          456.46787601305005,
          464.7431881344517,
          472.0371718315637,
          471.3067800831426,
          458.39177370869356,
          454.8415856000655,
          450.176408258235,
          449.02341104432037,
          447.8799640690841,
          445.30659967466374,
          443.2643036171137,
          444.48448920665885,
          445.54214066825654,
          446.8926842998143,
          448.97793895710663,
          451.1421654483162,
          455.0129563397425,
          460.1913650360107,
          462.83752883481293,
          463.71319290074774,
          455.93330700185624,
          462.14388857158184,
          457.4089187362718,
          465.7351462864336,
          466.65752853244175,
          473.05263314408325,
          469.3640245570253,
          463.83122350949833,
          454.86993416834247,
          450.1029213467883,
          450.0221294606204,
          454.9717124257894,
          449.2732719261003,
          449.3650452347986,
          446.5085799903839,
          443.84034469574704,
          445.18658290631026,
          445.17973078248156,
          444.3806793331014,
          447.81544592675476,
          451.66660036299663,
          449.48285514571467,
          446.45519971793436,
          443.41703286890765,
          442.30904074221587,
          441.67131105786257,
          441.4779291624015,
          440.79479312676455,
          444.0224125820103,
          448.12458158756993,
          447.8040566302508,
          446.3317293831877,
          445.8446127773291,
          448.1456850784878,
          449.1347083679027,
          441.7285001654703,
          437.1580841022386,
          433.48526420246657,
          429.7766815269247,
          429.2245458829371,
          430.4273772384452,
          431.3014667660442,
          432.5648395260555,
          433.6655903883473,
          433.1838435448743,
          431.3654923921724,
          432.7212880306356,
          433.2498971945579,
          437.51062948122984,
          434.3660565507421,
          434.5946502659878,
          435.8957971288571,
          435.26120731870117,
          432.80131637404514,
          434.4440086135556,
          435.4845076760847,
          434.83319469620966,
          434.4504318774567,
          433.8143685902133,
          432.09036593813966,
          430.5338581881174,
          430.010847487485,
          429.3716717868812,
          429.117598041279,
          429.1870267519677,
          430.24864414984916,
          431.5866975418064,
          434.2955353148152,
          434.7499416508534,
          432.9398277495684,
          432.8713558012408,
          433.39326251159486,
          432.8488518309053,
          432.1568250047414,
          431.9048772783126,
          431.27149113148704,
          432.7114779894739,
          433.4160137126827,
          433.31100870949814,
          432.17591285148666,
          433.05947709251603,
          432.9451043786071,
          433.17166923396337,
          433.7914179594518,
          434.0292899284006,
          435.5454777715377,
          435.169133703962,
          434.80584505870377,
          436.7588423629752,
          437.18522821925217,
          438.27255866354295,
          438.07806938717863,
          440.89946540829465,
          442.0714889672868,
          439.1409495726615,
          439.6372699044526,
          438.5051543189,
          436.562217973545,
          436.8856052049173,
          436.81477717112375,
          438.88639389631265,
          443.53896031436653,
          442.6718597000106,
          447.0754386604702,
          445.00452248451063,
          444.2239294230687,
          442.48408632877675,
          442.4288391241922,
          443.2164310112686
         ],
         "yaxis": "y"
        },
        {
         "hovertemplate": "system_name=tum-esm-midcost-raspi-6<br>creation_timestamp=%{x}<br>CO2_corr=%{y}<extra></extra>",
         "legendgroup": "tum-esm-midcost-raspi-6",
         "line": {
          "color": "#EF553B",
          "dash": "solid"
         },
         "marker": {
          "symbol": "circle"
         },
         "mode": "markers+lines",
         "name": "tum-esm-midcost-raspi-6",
         "showlegend": true,
         "type": "scattergl",
         "x": [
          "2023-11-17T00:00:00+00:00",
          "2023-11-17T01:00:00+00:00",
          "2023-11-17T02:00:00+00:00",
          "2023-11-17T03:00:00+00:00",
          "2023-11-17T04:00:00+00:00",
          "2023-11-17T05:00:00+00:00",
          "2023-11-17T06:00:00+00:00",
          "2023-11-17T07:00:00+00:00",
          "2023-11-17T08:00:00+00:00",
          "2023-11-17T09:00:00+00:00",
          "2023-11-17T10:00:00+00:00",
          "2023-11-17T11:00:00+00:00",
          "2023-11-17T12:00:00+00:00",
          "2023-11-17T13:00:00+00:00",
          "2023-11-17T14:00:00+00:00",
          "2023-11-17T15:00:00+00:00",
          "2023-11-17T16:00:00+00:00",
          "2023-11-17T17:00:00+00:00",
          "2023-11-17T18:00:00+00:00",
          "2023-11-17T19:00:00+00:00",
          "2023-11-17T20:00:00+00:00",
          "2023-11-17T21:00:00+00:00",
          "2023-11-17T22:00:00+00:00",
          "2023-11-17T23:00:00+00:00",
          "2023-11-18T00:00:00+00:00",
          "2023-11-18T01:00:00+00:00",
          "2023-11-18T02:00:00+00:00",
          "2023-11-18T03:00:00+00:00",
          "2023-11-18T04:00:00+00:00",
          "2023-11-18T05:00:00+00:00",
          "2023-11-18T06:00:00+00:00",
          "2023-11-18T07:00:00+00:00",
          "2023-11-18T08:00:00+00:00",
          "2023-11-18T09:00:00+00:00",
          "2023-11-18T10:00:00+00:00",
          "2023-11-18T11:00:00+00:00",
          "2023-11-18T12:00:00+00:00",
          "2023-11-18T13:00:00+00:00",
          "2023-11-18T14:00:00+00:00",
          "2023-11-18T15:00:00+00:00",
          "2023-11-18T16:00:00+00:00",
          "2023-11-18T17:00:00+00:00",
          "2023-11-18T18:00:00+00:00",
          "2023-11-18T19:00:00+00:00",
          "2023-11-18T20:00:00+00:00",
          "2023-11-18T21:00:00+00:00",
          "2023-11-18T22:00:00+00:00",
          "2023-11-18T23:00:00+00:00",
          "2023-11-19T00:00:00+00:00",
          "2023-11-19T01:00:00+00:00",
          "2023-11-19T02:00:00+00:00",
          "2023-11-19T03:00:00+00:00",
          "2023-11-19T04:00:00+00:00",
          "2023-11-19T05:00:00+00:00",
          "2023-11-19T06:00:00+00:00",
          "2023-11-19T07:00:00+00:00",
          "2023-11-19T08:00:00+00:00",
          "2023-11-19T09:00:00+00:00",
          "2023-11-19T10:00:00+00:00",
          "2023-11-19T11:00:00+00:00",
          "2023-11-19T12:00:00+00:00",
          "2023-11-19T13:00:00+00:00",
          "2023-11-19T14:00:00+00:00",
          "2023-11-19T15:00:00+00:00",
          "2023-11-19T16:00:00+00:00",
          "2023-11-19T17:00:00+00:00",
          "2023-11-19T18:00:00+00:00",
          "2023-11-19T19:00:00+00:00",
          "2023-11-19T20:00:00+00:00",
          "2023-11-19T21:00:00+00:00",
          "2023-11-19T22:00:00+00:00",
          "2023-11-19T23:00:00+00:00",
          "2023-11-20T00:00:00+00:00",
          "2023-11-20T01:00:00+00:00",
          "2023-11-20T02:00:00+00:00",
          "2023-11-20T03:00:00+00:00",
          "2023-11-20T04:00:00+00:00",
          "2023-11-20T05:00:00+00:00",
          "2023-11-20T06:00:00+00:00",
          "2023-11-20T07:00:00+00:00",
          "2023-11-20T08:00:00+00:00",
          "2023-11-20T09:00:00+00:00",
          "2023-11-20T10:00:00+00:00",
          "2023-11-20T11:00:00+00:00",
          "2023-11-20T12:00:00+00:00",
          "2023-11-20T13:00:00+00:00",
          "2023-11-20T14:00:00+00:00",
          "2023-11-20T15:00:00+00:00",
          "2023-11-20T16:00:00+00:00",
          "2023-11-20T17:00:00+00:00",
          "2023-11-20T18:00:00+00:00",
          "2023-11-20T19:00:00+00:00",
          "2023-11-20T20:00:00+00:00",
          "2023-11-20T21:00:00+00:00",
          "2023-11-20T22:00:00+00:00",
          "2023-11-20T23:00:00+00:00",
          "2023-11-21T00:00:00+00:00",
          "2023-11-21T01:00:00+00:00",
          "2023-11-21T02:00:00+00:00",
          "2023-11-21T03:00:00+00:00",
          "2023-11-21T04:00:00+00:00",
          "2023-11-21T05:00:00+00:00",
          "2023-11-21T06:00:00+00:00",
          "2023-11-21T07:00:00+00:00",
          "2023-11-21T08:00:00+00:00",
          "2023-11-21T09:00:00+00:00",
          "2023-11-21T10:00:00+00:00",
          "2023-11-21T11:00:00+00:00",
          "2023-11-21T12:00:00+00:00",
          "2023-11-21T13:00:00+00:00",
          "2023-11-21T14:00:00+00:00",
          "2023-11-21T15:00:00+00:00",
          "2023-11-21T16:00:00+00:00",
          "2023-11-21T17:00:00+00:00",
          "2023-11-21T18:00:00+00:00",
          "2023-11-21T19:00:00+00:00",
          "2023-11-21T20:00:00+00:00",
          "2023-11-21T21:00:00+00:00",
          "2023-11-21T22:00:00+00:00",
          "2023-11-21T23:00:00+00:00",
          "2023-11-22T00:00:00+00:00",
          "2023-11-22T01:00:00+00:00",
          "2023-11-22T02:00:00+00:00",
          "2023-11-22T03:00:00+00:00",
          "2023-11-22T04:00:00+00:00",
          "2023-11-22T05:00:00+00:00",
          "2023-11-22T06:00:00+00:00",
          "2023-11-22T07:00:00+00:00",
          "2023-11-22T08:00:00+00:00",
          "2023-11-22T09:00:00+00:00",
          "2023-11-22T10:00:00+00:00",
          "2023-11-22T11:00:00+00:00",
          "2023-11-22T12:00:00+00:00",
          "2023-11-22T13:00:00+00:00",
          "2023-11-22T14:00:00+00:00",
          "2023-11-22T15:00:00+00:00",
          "2023-11-22T16:00:00+00:00",
          "2023-11-22T17:00:00+00:00",
          "2023-11-22T18:00:00+00:00",
          "2023-11-22T19:00:00+00:00",
          "2023-11-22T20:00:00+00:00",
          "2023-11-22T21:00:00+00:00",
          "2023-11-22T22:00:00+00:00",
          "2023-11-22T23:00:00+00:00",
          "2023-11-23T00:00:00+00:00",
          "2023-11-23T01:00:00+00:00",
          "2023-11-23T02:00:00+00:00",
          "2023-11-23T03:00:00+00:00",
          "2023-11-23T04:00:00+00:00",
          "2023-11-23T05:00:00+00:00",
          "2023-11-23T06:00:00+00:00",
          "2023-11-23T07:00:00+00:00",
          "2023-11-23T08:00:00+00:00",
          "2023-11-23T09:00:00+00:00",
          "2023-11-23T10:00:00+00:00",
          "2023-11-23T11:00:00+00:00",
          "2023-11-23T12:00:00+00:00",
          "2023-11-23T13:00:00+00:00",
          "2023-11-23T14:00:00+00:00",
          "2023-11-23T15:00:00+00:00",
          "2023-11-23T16:00:00+00:00",
          "2023-11-23T17:00:00+00:00",
          "2023-11-23T18:00:00+00:00",
          "2023-11-23T19:00:00+00:00",
          "2023-11-23T20:00:00+00:00",
          "2023-11-23T21:00:00+00:00",
          "2023-11-23T22:00:00+00:00",
          "2023-11-23T23:00:00+00:00",
          "2023-11-24T00:00:00+00:00",
          "2023-11-24T01:00:00+00:00",
          "2023-11-24T02:00:00+00:00",
          "2023-11-24T03:00:00+00:00",
          "2023-11-24T04:00:00+00:00",
          "2023-11-24T05:00:00+00:00",
          "2023-11-24T06:00:00+00:00",
          "2023-11-24T07:00:00+00:00",
          "2023-11-24T08:00:00+00:00",
          "2023-11-24T09:00:00+00:00",
          "2023-11-24T10:00:00+00:00",
          "2023-11-24T11:00:00+00:00",
          "2023-11-24T12:00:00+00:00",
          "2023-11-24T13:00:00+00:00",
          "2023-11-24T14:00:00+00:00",
          "2023-11-24T15:00:00+00:00",
          "2023-11-24T16:00:00+00:00",
          "2023-11-24T17:00:00+00:00",
          "2023-11-24T18:00:00+00:00",
          "2023-11-24T19:00:00+00:00",
          "2023-11-24T20:00:00+00:00",
          "2023-11-24T21:00:00+00:00",
          "2023-11-24T22:00:00+00:00",
          "2023-11-24T23:00:00+00:00",
          "2023-11-25T00:00:00+00:00",
          "2023-11-25T01:00:00+00:00",
          "2023-11-25T02:00:00+00:00",
          "2023-11-25T03:00:00+00:00",
          "2023-11-25T04:00:00+00:00",
          "2023-11-25T05:00:00+00:00",
          "2023-11-25T06:00:00+00:00",
          "2023-11-25T07:00:00+00:00",
          "2023-11-25T08:00:00+00:00",
          "2023-11-25T09:00:00+00:00",
          "2023-11-25T10:00:00+00:00",
          "2023-11-25T11:00:00+00:00",
          "2023-11-25T12:00:00+00:00",
          "2023-11-25T13:00:00+00:00",
          "2023-11-25T14:00:00+00:00",
          "2023-11-25T15:00:00+00:00",
          "2023-11-25T16:00:00+00:00",
          "2023-11-25T17:00:00+00:00",
          "2023-11-25T18:00:00+00:00",
          "2023-11-25T19:00:00+00:00",
          "2023-11-25T20:00:00+00:00",
          "2023-11-25T21:00:00+00:00",
          "2023-11-25T22:00:00+00:00",
          "2023-11-25T23:00:00+00:00",
          "2023-11-26T00:00:00+00:00",
          "2023-11-26T01:00:00+00:00",
          "2023-11-26T02:00:00+00:00",
          "2023-11-26T03:00:00+00:00",
          "2023-11-26T04:00:00+00:00",
          "2023-11-26T05:00:00+00:00",
          "2023-11-26T06:00:00+00:00",
          "2023-11-26T07:00:00+00:00",
          "2023-11-26T08:00:00+00:00",
          "2023-11-26T09:00:00+00:00",
          "2023-11-26T10:00:00+00:00",
          "2023-11-26T11:00:00+00:00",
          "2023-11-26T12:00:00+00:00",
          "2023-11-26T13:00:00+00:00",
          "2023-11-26T14:00:00+00:00",
          "2023-11-26T15:00:00+00:00",
          "2023-11-26T16:00:00+00:00",
          "2023-11-26T17:00:00+00:00",
          "2023-11-26T18:00:00+00:00",
          "2023-11-26T19:00:00+00:00",
          "2023-11-26T20:00:00+00:00",
          "2023-11-26T21:00:00+00:00",
          "2023-11-26T22:00:00+00:00",
          "2023-11-26T23:00:00+00:00",
          "2023-11-27T00:00:00+00:00",
          "2023-11-27T01:00:00+00:00",
          "2023-11-27T02:00:00+00:00",
          "2023-11-27T03:00:00+00:00",
          "2023-11-27T04:00:00+00:00",
          "2023-11-27T05:00:00+00:00",
          "2023-11-27T06:00:00+00:00",
          "2023-11-27T07:00:00+00:00",
          "2023-11-27T08:00:00+00:00",
          "2023-11-27T09:00:00+00:00",
          "2023-11-27T10:00:00+00:00",
          "2023-11-27T11:00:00+00:00",
          "2023-11-27T12:00:00+00:00",
          "2023-11-27T13:00:00+00:00",
          "2023-11-27T14:00:00+00:00",
          "2023-11-27T15:00:00+00:00",
          "2023-11-27T16:00:00+00:00",
          "2023-11-27T17:00:00+00:00",
          "2023-11-27T18:00:00+00:00",
          "2023-11-27T19:00:00+00:00",
          "2023-11-27T20:00:00+00:00",
          "2023-11-27T21:00:00+00:00",
          "2023-11-27T22:00:00+00:00",
          "2023-11-27T23:00:00+00:00",
          "2023-11-28T00:00:00+00:00",
          "2023-11-28T01:00:00+00:00",
          "2023-11-28T02:00:00+00:00",
          "2023-11-28T03:00:00+00:00",
          "2023-11-28T04:00:00+00:00",
          "2023-11-28T05:00:00+00:00",
          "2023-11-28T06:00:00+00:00",
          "2023-11-28T07:00:00+00:00",
          "2023-11-28T08:00:00+00:00",
          "2023-11-28T09:00:00+00:00",
          "2023-11-28T10:00:00+00:00",
          "2023-11-28T11:00:00+00:00",
          "2023-11-28T12:00:00+00:00",
          "2023-11-28T13:00:00+00:00",
          "2023-11-28T14:00:00+00:00",
          "2023-11-28T15:00:00+00:00",
          "2023-11-28T16:00:00+00:00",
          "2023-11-28T17:00:00+00:00",
          "2023-11-28T18:00:00+00:00",
          "2023-11-28T19:00:00+00:00",
          "2023-11-28T20:00:00+00:00",
          "2023-11-28T21:00:00+00:00",
          "2023-11-28T22:00:00+00:00",
          "2023-11-28T23:00:00+00:00",
          "2023-11-29T00:00:00+00:00"
         ],
         "xaxis": "x",
         "y": [
          438.50088428495025,
          434.7992482103082,
          430.99480855682594,
          430.7309163264881,
          430.9862260482534,
          432.53683277175566,
          437.57259075160977,
          436.92618875973335,
          438.62716018101406,
          440.4662706594049,
          438.0013085072251,
          437.8789061927625,
          436.7526798099735,
          438.3773815696827,
          439.0802539120966,
          438.73179144345926,
          439.12516414210285,
          437.4354415314169,
          437.70011738432135,
          438.16180674596416,
          438.6748471757346,
          440.57653494392906,
          438.87478718159474,
          436.9048799407603,
          435.60224311525394,
          431.9300547369706,
          432.2942649496794,
          433.390158492553,
          434.97650152652744,
          436.79134763775477,
          437.63854582430986,
          438.6272238736594,
          438.3057929281469,
          435.29393426710175,
          430.98486683889456,
          429.0927184341647,
          428.44321650524444,
          427.2972201028469,
          428.53505336278295,
          430.2430306956382,
          432.7291613009518,
          439.9113176694057,
          439.8954615981895,
          432.1873613496222,
          428.469639554739,
          430.9960308938123,
          431.78130637928643,
          433.9551045223289,
          437.0290329919712,
          440.13276670551323,
          444.32444041925356,
          441.68976769702766,
          433.40073333014834,
          428.3266487844535,
          428.03109775217445,
          429.11336221108195,
          429.4192188070305,
          428.2203814959975,
          427.73064122835234,
          425.8308414938181,
          425.19163169653984,
          425.6891449038172,
          426.58908095566517,
          427.7950633708114,
          431.2975752866832,
          428.89234577036694,
          429.3795614438284,
          429.7602065227823,
          429.2569348557416,
          429.1973657105034,
          428.8072427996677,
          428.8623140650109,
          429.3302946013487,
          432.4297856595306,
          435.8056759901554,
          433.9473144834063,
          430.26323591480815,
          430.8528315944199,
          433.46979999602013,
          435.37014264733193,
          433.2087830671356,
          429.113097152615,
          429.2439344304774,
          429.58089760889123,
          427.7057775996731,
          428.8233961843243,
          430.58469689197176,
          432.9128322934002,
          436.05072010363534,
          438.80112209388295,
          439.3279516560092,
          443.12789541891067,
          443.77613511271767,
          441.3446610323176,
          436.3907751272495,
          433.73621215087707,
          431.0266000346151,
          432.30774230434355,
          433.38446210523244,
          434.55173746620966,
          432.37495742083576,
          431.83623160521967,
          435.0013690733642,
          435.74049831414453,
          435.7786627670038,
          435.0395619613673,
          436.2881101960281,
          437.711700652161,
          441.26145600591576,
          448.6385224255014,
          453.5095736276098,
          467.0034511724397,
          483.9930403711489,
          479.29780718602956,
          477.3519926181247,
          459.01047088597926,
          456.80818956702086,
          451.06804176723904,
          449.04613874305534,
          448.140275491311,
          444.83617770667155,
          442.93362538493443,
          442.7279120977344,
          444.14549662753,
          445.4792976338438,
          446.69136204050756,
          449.78978740963163,
          451.94598406684827,
          454.272286486699,
          464.3624073785429,
          472.1524687589178,
          470.58703869076095,
          475.8377950310748,
          466.49827737394713,
          481.51782801784316,
          483.64654168135365,
          478.9499978634485,
          474.1106379426522,
          465.1038015234062,
          457.98396898557286,
          453.5613431562548,
          449.85221959107156,
          456.13411760870235,
          451.61089130871187,
          449.2806647746934,
          447.1026990666831,
          443.8654291301927,
          443.58327804656307,
          445.2949286827281,
          443.51895808147884,
          445.9180294953994,
          450.02454545789055,
          448.25735323147524,
          446.80277200767114,
          443.0194176412994,
          441.57762556575364,
          442.9592302954214,
          444.8685764899063,
          442.0591080383211,
          443.02551885154935,
          446.86057897913093,
          448.00838459032815,
          446.06759708276945,
          444.6097311607693,
          447.06562713512557,
          448.19361875746756,
          441.65282325930895,
          437.0398457531747,
          433.47268205703557,
          428.8744738830776,
          427.6417128871872,
          428.9785315461388,
          429.90853380826167,
          431.0503416763176,
          432.0342465009882,
          432.74597259352754,
          430.51420484918,
          432.86779214399377,
          433.5810158121794,
          437.14355316271485,
          436.31366456604115,
          436.40207806875884,
          438.4500298215751,
          437.0321251987448,
          433.03894575006484,
          433.59042045960837,
          435.3137223349422,
          433.65944950939746,
          433.55193288883873,
          432.70606546089147,
          430.654011930003,
          429.55356306073304,
          428.8543251497471,
          428.173601223561,
          426.97069279900506,
          426.41661470843536,
          427.4291254994217,
          428.0829845872099,
          431.6468533282732,
          432.49490048514696,
          430.80848993686294,
          431.19926389661424,
          431.2217548310419,
          431.3735156951781,
          430.78828702548367,
          429.89591789385184,
          429.7101520804661,
          430.8928158562888,
          431.59358076247617,
          432.1279283246056,
          430.7056126894117,
          431.3395927033471,
          431.3041574475594,
          431.51773586105446,
          432.86427383476854,
          432.02652850629045,
          433.47360272543415,
          433.1215328818358,
          433.14160320699665,
          434.1565907770534,
          435.63111556332416,
          436.43794843939605,
          436.98813187552986,
          438.85085286923953,
          440.5568018023261,
          438.33300766493534,
          438.556111273821,
          437.04181250521816,
          435.22954561461285,
          435.38176325529776,
          435.421051296322,
          436.67086954943903,
          441.1752687055887,
          441.6726388560421,
          444.21012524717776,
          445.34116291427,
          442.7757389944486,
          441.28105266555286,
          441.57775014064777,
          441.61470878785025,
          441.3735404542153,
          440.73833858346194,
          444.2606955107722,
          444.6820866818768,
          443.12209645351953,
          440.0058449403038,
          441.45848134175753,
          452.4878483579905,
          466.86555377809844,
          447.91117960976845,
          441.88080386634556,
          441.23899957119716,
          439.93397723282686,
          441.2729922136079,
          441.8463608109734,
          444.9171975870673,
          451.347201185032,
          442.2185712452456,
          444.96718157339166,
          448.2065178168904,
          443.1122988753438,
          437.6916464646968,
          437.2286213448676,
          440.3461934745564,
          434.12492246512375,
          432.3604195058618,
          431.9816890428024,
          434.1289938841226,
          436.04885559631356,
          437.9001407513772,
          437.9342121162283,
          437.83026749122604,
          437.7594381303418,
          438.2963149352513,
          448.3026567941665,
          447.7613391325813,
          449.04266055774707,
          452.4550730818167,
          458.7340909589321,
          459.5561427162806,
          466.84754510030007,
          460.78579737835776,
          450.23467432898923,
          446.4129986907032,
          446.0572001181425,
          446.2139249660689,
          444.1344930938772,
          441.20208129228917,
          441.06492680166235
         ],
         "yaxis": "y"
        },
        {
         "hovertemplate": "system_name=tum-esm-midcost-raspi-11<br>creation_timestamp=%{x}<br>CO2_corr=%{y}<extra></extra>",
         "legendgroup": "tum-esm-midcost-raspi-11",
         "line": {
          "color": "#00cc96",
          "dash": "solid"
         },
         "marker": {
          "symbol": "circle"
         },
         "mode": "markers+lines",
         "name": "tum-esm-midcost-raspi-11",
         "showlegend": true,
         "type": "scattergl",
         "x": [
          "2023-11-17T00:00:00+00:00",
          "2023-11-17T01:00:00+00:00",
          "2023-11-17T02:00:00+00:00",
          "2023-11-17T03:00:00+00:00",
          "2023-11-17T04:00:00+00:00",
          "2023-11-17T05:00:00+00:00",
          "2023-11-17T06:00:00+00:00",
          "2023-11-17T07:00:00+00:00",
          "2023-11-17T08:00:00+00:00",
          "2023-11-17T09:00:00+00:00",
          "2023-11-17T10:00:00+00:00",
          "2023-11-17T11:00:00+00:00",
          "2023-11-17T12:00:00+00:00",
          "2023-11-17T13:00:00+00:00",
          "2023-11-17T14:00:00+00:00",
          "2023-11-17T15:00:00+00:00",
          "2023-11-17T16:00:00+00:00",
          "2023-11-17T17:00:00+00:00",
          "2023-11-17T18:00:00+00:00",
          "2023-11-17T19:00:00+00:00",
          "2023-11-17T20:00:00+00:00",
          "2023-11-17T21:00:00+00:00",
          "2023-11-17T22:00:00+00:00",
          "2023-11-17T23:00:00+00:00",
          "2023-11-18T00:00:00+00:00",
          "2023-11-18T01:00:00+00:00",
          "2023-11-18T02:00:00+00:00",
          "2023-11-18T03:00:00+00:00",
          "2023-11-18T04:00:00+00:00",
          "2023-11-18T05:00:00+00:00",
          "2023-11-18T06:00:00+00:00",
          "2023-11-18T07:00:00+00:00",
          "2023-11-18T08:00:00+00:00",
          "2023-11-18T09:00:00+00:00",
          "2023-11-18T10:00:00+00:00",
          "2023-11-18T11:00:00+00:00",
          "2023-11-18T12:00:00+00:00",
          "2023-11-18T13:00:00+00:00",
          "2023-11-18T14:00:00+00:00",
          "2023-11-18T15:00:00+00:00",
          "2023-11-18T16:00:00+00:00",
          "2023-11-18T17:00:00+00:00",
          "2023-11-18T18:00:00+00:00",
          "2023-11-18T19:00:00+00:00",
          "2023-11-18T20:00:00+00:00",
          "2023-11-18T21:00:00+00:00",
          "2023-11-18T22:00:00+00:00",
          "2023-11-18T23:00:00+00:00",
          "2023-11-19T00:00:00+00:00",
          "2023-11-19T01:00:00+00:00",
          "2023-11-19T02:00:00+00:00",
          "2023-11-19T03:00:00+00:00",
          "2023-11-19T04:00:00+00:00",
          "2023-11-19T05:00:00+00:00",
          "2023-11-19T06:00:00+00:00",
          "2023-11-19T07:00:00+00:00",
          "2023-11-19T08:00:00+00:00",
          "2023-11-19T09:00:00+00:00",
          "2023-11-19T10:00:00+00:00",
          "2023-11-19T11:00:00+00:00",
          "2023-11-19T12:00:00+00:00",
          "2023-11-19T13:00:00+00:00",
          "2023-11-19T14:00:00+00:00",
          "2023-11-19T15:00:00+00:00",
          "2023-11-19T16:00:00+00:00",
          "2023-11-19T17:00:00+00:00",
          "2023-11-19T18:00:00+00:00",
          "2023-11-19T19:00:00+00:00",
          "2023-11-19T20:00:00+00:00",
          "2023-11-19T21:00:00+00:00",
          "2023-11-19T22:00:00+00:00",
          "2023-11-19T23:00:00+00:00",
          "2023-11-20T00:00:00+00:00",
          "2023-11-20T01:00:00+00:00",
          "2023-11-20T02:00:00+00:00",
          "2023-11-20T03:00:00+00:00",
          "2023-11-20T04:00:00+00:00",
          "2023-11-20T05:00:00+00:00",
          "2023-11-20T06:00:00+00:00",
          "2023-11-20T07:00:00+00:00",
          "2023-11-20T08:00:00+00:00",
          "2023-11-20T09:00:00+00:00",
          "2023-11-20T10:00:00+00:00",
          "2023-11-20T11:00:00+00:00",
          "2023-11-20T12:00:00+00:00",
          "2023-11-20T13:00:00+00:00",
          "2023-11-20T14:00:00+00:00",
          "2023-11-20T15:00:00+00:00",
          "2023-11-20T16:00:00+00:00",
          "2023-11-20T17:00:00+00:00",
          "2023-11-20T18:00:00+00:00",
          "2023-11-20T19:00:00+00:00",
          "2023-11-20T20:00:00+00:00",
          "2023-11-20T21:00:00+00:00",
          "2023-11-20T22:00:00+00:00",
          "2023-11-20T23:00:00+00:00",
          "2023-11-21T00:00:00+00:00",
          "2023-11-21T01:00:00+00:00",
          "2023-11-21T02:00:00+00:00",
          "2023-11-21T03:00:00+00:00",
          "2023-11-21T04:00:00+00:00",
          "2023-11-21T05:00:00+00:00",
          "2023-11-21T06:00:00+00:00",
          "2023-11-21T07:00:00+00:00",
          "2023-11-21T08:00:00+00:00",
          "2023-11-21T09:00:00+00:00",
          "2023-11-21T10:00:00+00:00",
          "2023-11-21T11:00:00+00:00",
          "2023-11-21T12:00:00+00:00",
          "2023-11-21T13:00:00+00:00",
          "2023-11-21T14:00:00+00:00",
          "2023-11-21T15:00:00+00:00",
          "2023-11-21T16:00:00+00:00",
          "2023-11-21T17:00:00+00:00",
          "2023-11-21T18:00:00+00:00",
          "2023-11-21T19:00:00+00:00",
          "2023-11-21T20:00:00+00:00",
          "2023-11-21T21:00:00+00:00",
          "2023-11-21T22:00:00+00:00",
          "2023-11-21T23:00:00+00:00",
          "2023-11-22T00:00:00+00:00",
          "2023-11-22T01:00:00+00:00",
          "2023-11-22T02:00:00+00:00",
          "2023-11-22T03:00:00+00:00",
          "2023-11-22T04:00:00+00:00",
          "2023-11-22T05:00:00+00:00",
          "2023-11-22T06:00:00+00:00",
          "2023-11-22T07:00:00+00:00",
          "2023-11-22T08:00:00+00:00",
          "2023-11-22T09:00:00+00:00",
          "2023-11-22T10:00:00+00:00",
          "2023-11-22T11:00:00+00:00",
          "2023-11-22T12:00:00+00:00",
          "2023-11-22T13:00:00+00:00",
          "2023-11-22T14:00:00+00:00",
          "2023-11-22T15:00:00+00:00",
          "2023-11-22T16:00:00+00:00",
          "2023-11-22T17:00:00+00:00",
          "2023-11-22T18:00:00+00:00",
          "2023-11-22T19:00:00+00:00",
          "2023-11-22T20:00:00+00:00",
          "2023-11-22T21:00:00+00:00",
          "2023-11-22T22:00:00+00:00",
          "2023-11-22T23:00:00+00:00",
          "2023-11-23T00:00:00+00:00",
          "2023-11-23T01:00:00+00:00",
          "2023-11-23T02:00:00+00:00",
          "2023-11-23T03:00:00+00:00",
          "2023-11-23T04:00:00+00:00",
          "2023-11-23T05:00:00+00:00",
          "2023-11-23T06:00:00+00:00",
          "2023-11-23T07:00:00+00:00",
          "2023-11-23T08:00:00+00:00",
          "2023-11-23T09:00:00+00:00",
          "2023-11-23T10:00:00+00:00",
          "2023-11-23T11:00:00+00:00",
          "2023-11-23T12:00:00+00:00",
          "2023-11-23T13:00:00+00:00",
          "2023-11-23T14:00:00+00:00",
          "2023-11-23T15:00:00+00:00",
          "2023-11-23T16:00:00+00:00",
          "2023-11-23T17:00:00+00:00",
          "2023-11-23T18:00:00+00:00",
          "2023-11-23T19:00:00+00:00",
          "2023-11-23T20:00:00+00:00",
          "2023-11-23T21:00:00+00:00",
          "2023-11-23T22:00:00+00:00",
          "2023-11-23T23:00:00+00:00",
          "2023-11-24T00:00:00+00:00",
          "2023-11-24T01:00:00+00:00",
          "2023-11-24T02:00:00+00:00",
          "2023-11-24T03:00:00+00:00",
          "2023-11-24T04:00:00+00:00",
          "2023-11-24T05:00:00+00:00",
          "2023-11-24T06:00:00+00:00",
          "2023-11-24T07:00:00+00:00",
          "2023-11-24T08:00:00+00:00",
          "2023-11-24T09:00:00+00:00",
          "2023-11-24T10:00:00+00:00",
          "2023-11-24T11:00:00+00:00",
          "2023-11-24T12:00:00+00:00",
          "2023-11-24T13:00:00+00:00",
          "2023-11-24T14:00:00+00:00",
          "2023-11-24T15:00:00+00:00",
          "2023-11-24T16:00:00+00:00",
          "2023-11-24T17:00:00+00:00",
          "2023-11-24T18:00:00+00:00",
          "2023-11-24T19:00:00+00:00",
          "2023-11-24T20:00:00+00:00",
          "2023-11-24T21:00:00+00:00",
          "2023-11-24T22:00:00+00:00",
          "2023-11-24T23:00:00+00:00",
          "2023-11-25T00:00:00+00:00",
          "2023-11-25T01:00:00+00:00",
          "2023-11-25T02:00:00+00:00",
          "2023-11-25T03:00:00+00:00",
          "2023-11-25T04:00:00+00:00",
          "2023-11-25T05:00:00+00:00",
          "2023-11-25T06:00:00+00:00",
          "2023-11-25T07:00:00+00:00",
          "2023-11-25T08:00:00+00:00",
          "2023-11-25T09:00:00+00:00",
          "2023-11-25T10:00:00+00:00",
          "2023-11-25T11:00:00+00:00",
          "2023-11-25T12:00:00+00:00",
          "2023-11-25T13:00:00+00:00",
          "2023-11-25T14:00:00+00:00",
          "2023-11-25T15:00:00+00:00",
          "2023-11-25T16:00:00+00:00",
          "2023-11-25T17:00:00+00:00",
          "2023-11-25T18:00:00+00:00",
          "2023-11-25T19:00:00+00:00",
          "2023-11-25T20:00:00+00:00",
          "2023-11-25T21:00:00+00:00",
          "2023-11-25T22:00:00+00:00",
          "2023-11-25T23:00:00+00:00",
          "2023-11-26T00:00:00+00:00",
          "2023-11-26T01:00:00+00:00",
          "2023-11-26T02:00:00+00:00",
          "2023-11-26T03:00:00+00:00",
          "2023-11-26T04:00:00+00:00",
          "2023-11-26T05:00:00+00:00",
          "2023-11-26T06:00:00+00:00",
          "2023-11-26T07:00:00+00:00",
          "2023-11-26T08:00:00+00:00",
          "2023-11-26T09:00:00+00:00",
          "2023-11-26T10:00:00+00:00",
          "2023-11-26T11:00:00+00:00",
          "2023-11-26T12:00:00+00:00",
          "2023-11-26T13:00:00+00:00",
          "2023-11-26T14:00:00+00:00",
          "2023-11-26T15:00:00+00:00",
          "2023-11-26T16:00:00+00:00",
          "2023-11-26T17:00:00+00:00",
          "2023-11-26T18:00:00+00:00",
          "2023-11-26T19:00:00+00:00",
          "2023-11-26T20:00:00+00:00",
          "2023-11-26T21:00:00+00:00",
          "2023-11-26T22:00:00+00:00",
          "2023-11-26T23:00:00+00:00",
          "2023-11-27T00:00:00+00:00",
          "2023-11-27T01:00:00+00:00",
          "2023-11-27T02:00:00+00:00",
          "2023-11-27T03:00:00+00:00",
          "2023-11-27T04:00:00+00:00",
          "2023-11-27T05:00:00+00:00",
          "2023-11-27T06:00:00+00:00",
          "2023-11-27T07:00:00+00:00",
          "2023-11-27T08:00:00+00:00",
          "2023-11-27T09:00:00+00:00",
          "2023-11-27T10:00:00+00:00",
          "2023-11-27T11:00:00+00:00",
          "2023-11-27T12:00:00+00:00",
          "2023-11-27T13:00:00+00:00",
          "2023-11-27T14:00:00+00:00",
          "2023-11-27T15:00:00+00:00",
          "2023-11-27T16:00:00+00:00",
          "2023-11-27T17:00:00+00:00",
          "2023-11-27T18:00:00+00:00",
          "2023-11-27T19:00:00+00:00",
          "2023-11-27T20:00:00+00:00",
          "2023-11-27T21:00:00+00:00",
          "2023-11-27T22:00:00+00:00",
          "2023-11-27T23:00:00+00:00",
          "2023-11-28T00:00:00+00:00",
          "2023-11-28T01:00:00+00:00",
          "2023-11-28T02:00:00+00:00",
          "2023-11-28T03:00:00+00:00",
          "2023-11-28T04:00:00+00:00",
          "2023-11-28T05:00:00+00:00",
          "2023-11-28T06:00:00+00:00",
          "2023-11-28T07:00:00+00:00",
          "2023-11-28T08:00:00+00:00",
          "2023-11-28T09:00:00+00:00",
          "2023-11-28T10:00:00+00:00",
          "2023-11-28T11:00:00+00:00",
          "2023-11-28T12:00:00+00:00",
          "2023-11-28T13:00:00+00:00",
          "2023-11-28T14:00:00+00:00",
          "2023-11-28T15:00:00+00:00",
          "2023-11-28T16:00:00+00:00",
          "2023-11-28T17:00:00+00:00",
          "2023-11-28T18:00:00+00:00",
          "2023-11-28T19:00:00+00:00",
          "2023-11-28T20:00:00+00:00",
          "2023-11-28T21:00:00+00:00",
          "2023-11-28T22:00:00+00:00",
          "2023-11-28T23:00:00+00:00",
          "2023-11-29T00:00:00+00:00"
         ],
         "xaxis": "x",
         "y": [
          445.92952658772964,
          443.8857940614,
          439.7754453686389,
          440.67375366304947,
          440.55272161077573,
          441.5518130148323,
          445.13778324758135,
          443.673028417619,
          444.1836750779164,
          445.18177034381296,
          443.0710756362955,
          442.378329306764,
          442.0879986230416,
          441.67679200652196,
          444.4467224097164,
          446.60918835812686,
          443.3447352534851,
          443.73928938105064,
          444.22595242666256,
          444.9803783713933,
          445.4248027031096,
          446.6746333212757,
          445.0698073319816,
          443.7833981210361,
          441.69879565526736,
          438.7498053105051,
          439.0787590380615,
          440.49300517746855,
          441.5907674495783,
          444.21779542286623,
          444.92610766165217,
          446.7024996589741,
          445.63763573700544,
          442.43895588359527,
          438.7610261430714,
          437.4677769820957,
          436.78498418616306,
          436.31322099963637,
          437.2475360874078,
          440.1352183677812,
          441.6569744724167,
          449.39180594362915,
          448.42902872694225,
          440.95429816679285,
          437.66234820691534,
          440.45027664276887,
          440.8938555657938,
          443.4410032663956,
          446.8924859779616,
          450.2840877001864,
          455.32118118476245,
          448.6832230267058,
          442.3237587624665,
          437.06338094704614,
          436.8578565215004,
          437.4753453608725,
          437.9340760357664,
          437.2423559943492,
          436.6681508464765,
          434.7994522888783,
          435.16234021374515,
          435.9498404102219,
          436.8417960594631,
          438.07390625164334,
          441.52840181901047,
          438.92808503185455,
          438.36938993619185,
          439.1183942204116,
          437.82171397395956,
          438.1331887859142,
          437.7672146776495,
          437.59808322526277,
          438.3918472127009,
          443.0904704642346,
          446.571514526401,
          443.81916363558986,
          439.5208739738655,
          439.6675157080554,
          442.21745416818226,
          444.5028183611775,
          442.45460362003786,
          438.2204195866976,
          437.79599808054803,
          438.1110099983004,
          436.2862706164988,
          437.5844839394481,
          438.22153258722807,
          441.189278011879,
          446.22839117797724,
          447.42065620204625,
          451.7371384688324,
          457.03476235979394,
          453.0153791614812,
          451.0492640520991,
          445.34982744475184,
          443.4361054156694,
          440.4049718355515,
          443.0142413598299,
          443.59254473061566,
          444.5386172243602,
          441.89008580337054,
          441.4239678429888,
          444.88136178653116,
          445.4231238135357,
          444.8882148415114,
          442.76786109042024,
          441.5681289519227,
          442.08330988672213,
          444.1639606330603,
          452.14261080417873,
          452.7712543848684,
          464.23831901454975,
          470.3877590282262,
          481.14407331882626,
          480.3874478866319,
          469.1104299167526,
          463.39597364565407,
          458.5698180168265,
          458.6450723757883,
          457.6854656016714,
          454.95439932551767,
          452.7342637063486,
          453.2761845802385,
          453.5114030173827,
          455.7824708292265,
          457.50314691116984,
          459.5267159454275,
          462.926075239342,
          466.4588942818719,
          469.01392982514795,
          470.14413121708,
          465.0124921970182,
          469.2764488986418,
          464.83921216539784,
          473.4597893122954,
          472.990935104504,
          478.31480383039224,
          476.6253217363939,
          472.2745996173159,
          464.06671604632305,
          458.46001565057327,
          460.3071834711462,
          463.8608025460815,
          458.99029187572813,
          457.9113577786698,
          455.3936817074962,
          452.21868012019985,
          451.8459969860149,
          453.06287669583804,
          451.0899013045511,
          454.3440687739864,
          458.52430662935313,
          456.0288669948383,
          453.4224812331556,
          449.8911561043354,
          449.3323581892437,
          448.24695255700414,
          449.61059205074145,
          449.1069349173868,
          451.7984877959927,
          454.5992164003012,
          455.44802706743366,
          452.9003159345701,
          452.63353659651625,
          454.26172063460416,
          456.9448709480915,
          448.27043404065313,
          443.9662851823184,
          440.26367073166074,
          436.7642977205614,
          435.68282462843416,
          436.99457619681226,
          438.11122605310067,
          439.660169353302,
          440.6776420886484,
          441.2001139007827,
          440.42816855385814,
          441.1366983307016,
          440.45359272842626,
          444.8306855764831,
          443.31432856060593,
          443.4884493666266,
          445.09165231616333,
          444.8912975863157,
          441.7069605526722,
          443.28758819050546,
          444.4808768816461,
          443.5251092122614,
          442.8413915264832,
          441.378741993293,
          438.93248401755585,
          437.5913853485011,
          436.90636698452886,
          436.1009460938401,
          437.9049212287946,
          439.14448813142434,
          440.2215523675098,
          441.4105230657727,
          443.6259649136312,
          443.10509736413445,
          440.82830154958407,
          440.25924245714924,
          440.67672918500625,
          439.9090012366019,
          439.20720863406996,
          438.9611025512743,
          438.0708631893538,
          438.8994347372433,
          439.72395565966167,
          439.47274544913404,
          438.43321120680474,
          439.66776728822043,
          439.5739210223239,
          440.8172870026977,
          442.16691215778457,
          442.9916749352856,
          445.7705816422806,
          445.91453722255466,
          445.69701287084064,
          447.3169985221827,
          447.1187280696477,
          447.7882399351724,
          447.00498530242095,
          449.38679827161087,
          450.8712790208768,
          449.18166404925705,
          449.54920860344595,
          448.68232200470203,
          446.669142483735,
          446.8577178638653,
          446.9600552915067,
          448.8475578747703,
          453.3642128152262,
          452.60358477829465,
          456.71142550016333,
          455.82773845213075,
          454.6489501612693,
          452.9014242620258,
          453.1966146628308,
          453.96328065307216,
          453.04526439679074,
          453.23887281533894,
          457.0026095177199,
          455.93379051458686,
          455.6947637159903,
          453.02486214671086,
          455.59099260806653,
          468.88359574427574,
          481.29567082920533,
          460.51259724245983,
          455.38268587149406,
          456.87886013801,
          454.79072773604094,
          456.5028758049916,
          462.14044723815897,
          467.99192542935015,
          468.3370586871145,
          452.84431966575727,
          458.46253934476204,
          459.2362588261842,
          455.27375925974826,
          450.9143450191148,
          449.830501730976,
          453.0770993107813,
          445.9811448618213,
          443.45822110650397,
          441.89064823526525,
          445.2721720945169,
          446.242141950484,
          447.7896888004007,
          448.2940671263513,
          448.2777056071964,
          448.370362188338,
          447.03112662955255,
          457.24120775489473,
          456.78578569556004,
          458.2412056522687,
          459.0646195315808,
          462.80105185241376,
          465.8837519967622,
          467.74687738741756,
          466.2277192307954,
          459.5898598017711,
          457.64310383751103,
          457.1511984152864,
          457.2189066112696,
          456.11880389240537,
          453.0605592038025,
          452.8722300979512
         ],
         "yaxis": "y"
        },
        {
         "hovertemplate": "system_name=tum-esm-midcost-raspi-12<br>creation_timestamp=%{x}<br>CO2_corr=%{y}<extra></extra>",
         "legendgroup": "tum-esm-midcost-raspi-12",
         "line": {
          "color": "#ab63fa",
          "dash": "solid"
         },
         "marker": {
          "symbol": "circle"
         },
         "mode": "markers+lines",
         "name": "tum-esm-midcost-raspi-12",
         "showlegend": true,
         "type": "scattergl",
         "x": [
          "2023-11-17T00:00:00+00:00",
          "2023-11-17T01:00:00+00:00",
          "2023-11-17T02:00:00+00:00",
          "2023-11-17T03:00:00+00:00",
          "2023-11-17T04:00:00+00:00",
          "2023-11-17T05:00:00+00:00",
          "2023-11-17T06:00:00+00:00",
          "2023-11-17T07:00:00+00:00",
          "2023-11-17T08:00:00+00:00",
          "2023-11-17T09:00:00+00:00",
          "2023-11-17T10:00:00+00:00",
          "2023-11-17T11:00:00+00:00",
          "2023-11-17T12:00:00+00:00",
          "2023-11-17T13:00:00+00:00",
          "2023-11-17T14:00:00+00:00",
          "2023-11-17T15:00:00+00:00",
          "2023-11-17T16:00:00+00:00",
          "2023-11-17T17:00:00+00:00",
          "2023-11-17T18:00:00+00:00",
          "2023-11-17T19:00:00+00:00",
          "2023-11-17T20:00:00+00:00",
          "2023-11-17T21:00:00+00:00",
          "2023-11-17T22:00:00+00:00",
          "2023-11-17T23:00:00+00:00",
          "2023-11-18T00:00:00+00:00",
          "2023-11-18T01:00:00+00:00",
          "2023-11-18T02:00:00+00:00",
          "2023-11-18T03:00:00+00:00",
          "2023-11-18T04:00:00+00:00",
          "2023-11-18T05:00:00+00:00",
          "2023-11-18T06:00:00+00:00",
          "2023-11-18T07:00:00+00:00",
          "2023-11-18T08:00:00+00:00",
          "2023-11-18T09:00:00+00:00",
          "2023-11-18T10:00:00+00:00",
          "2023-11-18T11:00:00+00:00",
          "2023-11-18T12:00:00+00:00",
          "2023-11-18T13:00:00+00:00",
          "2023-11-18T14:00:00+00:00",
          "2023-11-18T15:00:00+00:00",
          "2023-11-18T16:00:00+00:00",
          "2023-11-18T17:00:00+00:00",
          "2023-11-18T18:00:00+00:00",
          "2023-11-18T19:00:00+00:00",
          "2023-11-18T20:00:00+00:00",
          "2023-11-18T21:00:00+00:00",
          "2023-11-18T22:00:00+00:00",
          "2023-11-18T23:00:00+00:00",
          "2023-11-19T00:00:00+00:00",
          "2023-11-19T01:00:00+00:00",
          "2023-11-19T02:00:00+00:00",
          "2023-11-19T03:00:00+00:00",
          "2023-11-19T04:00:00+00:00",
          "2023-11-19T05:00:00+00:00",
          "2023-11-19T06:00:00+00:00",
          "2023-11-19T07:00:00+00:00",
          "2023-11-19T08:00:00+00:00",
          "2023-11-19T09:00:00+00:00",
          "2023-11-19T10:00:00+00:00",
          "2023-11-19T11:00:00+00:00",
          "2023-11-19T12:00:00+00:00",
          "2023-11-19T13:00:00+00:00",
          "2023-11-19T14:00:00+00:00",
          "2023-11-19T15:00:00+00:00",
          "2023-11-19T16:00:00+00:00",
          "2023-11-19T17:00:00+00:00",
          "2023-11-19T18:00:00+00:00",
          "2023-11-19T19:00:00+00:00",
          "2023-11-19T20:00:00+00:00",
          "2023-11-19T21:00:00+00:00",
          "2023-11-19T22:00:00+00:00",
          "2023-11-19T23:00:00+00:00",
          "2023-11-20T00:00:00+00:00",
          "2023-11-20T01:00:00+00:00",
          "2023-11-20T02:00:00+00:00",
          "2023-11-20T03:00:00+00:00",
          "2023-11-20T04:00:00+00:00",
          "2023-11-20T05:00:00+00:00",
          "2023-11-20T06:00:00+00:00",
          "2023-11-20T07:00:00+00:00",
          "2023-11-20T08:00:00+00:00",
          "2023-11-20T09:00:00+00:00",
          "2023-11-20T10:00:00+00:00",
          "2023-11-20T11:00:00+00:00",
          "2023-11-20T12:00:00+00:00",
          "2023-11-20T13:00:00+00:00",
          "2023-11-20T14:00:00+00:00",
          "2023-11-20T15:00:00+00:00",
          "2023-11-20T16:00:00+00:00",
          "2023-11-20T17:00:00+00:00",
          "2023-11-20T18:00:00+00:00",
          "2023-11-20T19:00:00+00:00",
          "2023-11-20T20:00:00+00:00",
          "2023-11-20T21:00:00+00:00",
          "2023-11-20T22:00:00+00:00",
          "2023-11-20T23:00:00+00:00",
          "2023-11-21T00:00:00+00:00",
          "2023-11-21T01:00:00+00:00",
          "2023-11-21T02:00:00+00:00",
          "2023-11-21T03:00:00+00:00",
          "2023-11-21T04:00:00+00:00",
          "2023-11-21T05:00:00+00:00",
          "2023-11-21T06:00:00+00:00",
          "2023-11-21T07:00:00+00:00",
          "2023-11-21T08:00:00+00:00",
          "2023-11-21T09:00:00+00:00",
          "2023-11-21T10:00:00+00:00",
          "2023-11-21T11:00:00+00:00",
          "2023-11-21T12:00:00+00:00",
          "2023-11-21T13:00:00+00:00",
          "2023-11-21T14:00:00+00:00",
          "2023-11-21T15:00:00+00:00",
          "2023-11-21T16:00:00+00:00",
          "2023-11-21T17:00:00+00:00",
          "2023-11-21T18:00:00+00:00",
          "2023-11-21T19:00:00+00:00",
          "2023-11-21T20:00:00+00:00",
          "2023-11-21T21:00:00+00:00",
          "2023-11-21T22:00:00+00:00",
          "2023-11-21T23:00:00+00:00",
          "2023-11-22T00:00:00+00:00",
          "2023-11-22T01:00:00+00:00",
          "2023-11-22T02:00:00+00:00",
          "2023-11-22T03:00:00+00:00",
          "2023-11-22T04:00:00+00:00",
          "2023-11-22T05:00:00+00:00",
          "2023-11-22T06:00:00+00:00",
          "2023-11-22T07:00:00+00:00",
          "2023-11-22T08:00:00+00:00",
          "2023-11-22T09:00:00+00:00",
          "2023-11-22T10:00:00+00:00",
          "2023-11-22T11:00:00+00:00",
          "2023-11-22T12:00:00+00:00",
          "2023-11-22T13:00:00+00:00",
          "2023-11-22T14:00:00+00:00",
          "2023-11-22T15:00:00+00:00",
          "2023-11-22T16:00:00+00:00",
          "2023-11-22T17:00:00+00:00",
          "2023-11-22T18:00:00+00:00",
          "2023-11-22T19:00:00+00:00",
          "2023-11-22T20:00:00+00:00",
          "2023-11-22T21:00:00+00:00",
          "2023-11-22T22:00:00+00:00",
          "2023-11-22T23:00:00+00:00",
          "2023-11-23T00:00:00+00:00",
          "2023-11-23T01:00:00+00:00",
          "2023-11-23T02:00:00+00:00",
          "2023-11-23T03:00:00+00:00",
          "2023-11-23T04:00:00+00:00",
          "2023-11-23T05:00:00+00:00",
          "2023-11-23T06:00:00+00:00",
          "2023-11-23T07:00:00+00:00",
          "2023-11-23T08:00:00+00:00",
          "2023-11-23T09:00:00+00:00",
          "2023-11-23T10:00:00+00:00",
          "2023-11-23T11:00:00+00:00",
          "2023-11-23T12:00:00+00:00",
          "2023-11-23T13:00:00+00:00",
          "2023-11-23T14:00:00+00:00",
          "2023-11-23T15:00:00+00:00",
          "2023-11-23T16:00:00+00:00",
          "2023-11-23T17:00:00+00:00",
          "2023-11-23T18:00:00+00:00",
          "2023-11-23T19:00:00+00:00",
          "2023-11-23T20:00:00+00:00",
          "2023-11-23T21:00:00+00:00",
          "2023-11-23T22:00:00+00:00",
          "2023-11-23T23:00:00+00:00",
          "2023-11-24T00:00:00+00:00",
          "2023-11-24T01:00:00+00:00",
          "2023-11-24T02:00:00+00:00",
          "2023-11-24T03:00:00+00:00",
          "2023-11-24T04:00:00+00:00",
          "2023-11-24T05:00:00+00:00",
          "2023-11-24T06:00:00+00:00",
          "2023-11-24T07:00:00+00:00",
          "2023-11-24T08:00:00+00:00",
          "2023-11-24T09:00:00+00:00",
          "2023-11-24T10:00:00+00:00",
          "2023-11-24T11:00:00+00:00",
          "2023-11-24T12:00:00+00:00",
          "2023-11-24T13:00:00+00:00",
          "2023-11-24T14:00:00+00:00",
          "2023-11-24T15:00:00+00:00",
          "2023-11-24T16:00:00+00:00",
          "2023-11-24T17:00:00+00:00",
          "2023-11-24T18:00:00+00:00",
          "2023-11-24T19:00:00+00:00",
          "2023-11-24T20:00:00+00:00",
          "2023-11-24T21:00:00+00:00",
          "2023-11-24T22:00:00+00:00",
          "2023-11-24T23:00:00+00:00",
          "2023-11-25T00:00:00+00:00",
          "2023-11-25T01:00:00+00:00",
          "2023-11-25T02:00:00+00:00",
          "2023-11-25T03:00:00+00:00",
          "2023-11-25T04:00:00+00:00",
          "2023-11-25T05:00:00+00:00",
          "2023-11-25T06:00:00+00:00",
          "2023-11-25T07:00:00+00:00",
          "2023-11-25T08:00:00+00:00",
          "2023-11-25T09:00:00+00:00",
          "2023-11-25T10:00:00+00:00",
          "2023-11-25T11:00:00+00:00",
          "2023-11-25T12:00:00+00:00",
          "2023-11-25T13:00:00+00:00",
          "2023-11-25T14:00:00+00:00",
          "2023-11-25T15:00:00+00:00",
          "2023-11-25T16:00:00+00:00",
          "2023-11-25T17:00:00+00:00",
          "2023-11-25T18:00:00+00:00",
          "2023-11-25T19:00:00+00:00",
          "2023-11-25T20:00:00+00:00",
          "2023-11-25T21:00:00+00:00",
          "2023-11-25T22:00:00+00:00",
          "2023-11-25T23:00:00+00:00",
          "2023-11-26T00:00:00+00:00",
          "2023-11-26T01:00:00+00:00",
          "2023-11-26T02:00:00+00:00",
          "2023-11-26T03:00:00+00:00",
          "2023-11-26T04:00:00+00:00",
          "2023-11-26T05:00:00+00:00",
          "2023-11-26T06:00:00+00:00",
          "2023-11-26T07:00:00+00:00",
          "2023-11-26T08:00:00+00:00",
          "2023-11-26T09:00:00+00:00",
          "2023-11-26T10:00:00+00:00",
          "2023-11-26T11:00:00+00:00",
          "2023-11-26T12:00:00+00:00",
          "2023-11-26T13:00:00+00:00",
          "2023-11-26T14:00:00+00:00",
          "2023-11-26T15:00:00+00:00",
          "2023-11-26T16:00:00+00:00",
          "2023-11-26T17:00:00+00:00",
          "2023-11-26T18:00:00+00:00",
          "2023-11-26T19:00:00+00:00",
          "2023-11-26T20:00:00+00:00",
          "2023-11-26T21:00:00+00:00",
          "2023-11-26T22:00:00+00:00",
          "2023-11-26T23:00:00+00:00",
          "2023-11-27T00:00:00+00:00",
          "2023-11-27T01:00:00+00:00",
          "2023-11-27T02:00:00+00:00",
          "2023-11-27T03:00:00+00:00",
          "2023-11-27T04:00:00+00:00",
          "2023-11-27T05:00:00+00:00",
          "2023-11-27T06:00:00+00:00",
          "2023-11-27T07:00:00+00:00",
          "2023-11-27T08:00:00+00:00",
          "2023-11-27T09:00:00+00:00",
          "2023-11-27T10:00:00+00:00",
          "2023-11-27T11:00:00+00:00",
          "2023-11-27T12:00:00+00:00",
          "2023-11-27T13:00:00+00:00",
          "2023-11-27T14:00:00+00:00",
          "2023-11-27T15:00:00+00:00",
          "2023-11-27T16:00:00+00:00",
          "2023-11-27T17:00:00+00:00",
          "2023-11-27T18:00:00+00:00",
          "2023-11-27T19:00:00+00:00",
          "2023-11-27T20:00:00+00:00",
          "2023-11-27T21:00:00+00:00",
          "2023-11-27T22:00:00+00:00",
          "2023-11-27T23:00:00+00:00",
          "2023-11-28T00:00:00+00:00",
          "2023-11-28T01:00:00+00:00",
          "2023-11-28T02:00:00+00:00",
          "2023-11-28T03:00:00+00:00",
          "2023-11-28T04:00:00+00:00",
          "2023-11-28T05:00:00+00:00",
          "2023-11-28T06:00:00+00:00",
          "2023-11-28T07:00:00+00:00",
          "2023-11-28T08:00:00+00:00",
          "2023-11-28T09:00:00+00:00",
          "2023-11-28T10:00:00+00:00",
          "2023-11-28T11:00:00+00:00",
          "2023-11-28T12:00:00+00:00",
          "2023-11-28T13:00:00+00:00",
          "2023-11-28T14:00:00+00:00",
          "2023-11-28T15:00:00+00:00",
          "2023-11-28T16:00:00+00:00",
          "2023-11-28T17:00:00+00:00",
          "2023-11-28T18:00:00+00:00",
          "2023-11-28T19:00:00+00:00",
          "2023-11-28T20:00:00+00:00",
          "2023-11-28T21:00:00+00:00",
          "2023-11-28T22:00:00+00:00",
          "2023-11-28T23:00:00+00:00",
          "2023-11-29T00:00:00+00:00"
         ],
         "xaxis": "x",
         "y": [
          448.4746737360827,
          446.8458120930509,
          442.4368429518957,
          443.6926234187252,
          444.1302030562496,
          444.87541206550014,
          449.5391713279176,
          449.03883192228585,
          449.66377455647853,
          450.03634374586363,
          448.06506738775676,
          446.77662236954944,
          446.71238229000795,
          447.8447478834316,
          449.6179626801506,
          451.49121403218436,
          449.33096998958666,
          449.4164753969708,
          449.5079763546269,
          449.7607647640651,
          449.9475985998533,
          451.4314517360794,
          449.72276722442524,
          448.401247608789,
          446.92370678147,
          443.7559666651987,
          444.12277399787286,
          445.30237644093177,
          446.45931663206073,
          448.4825352260928,
          449.9257576730468,
          451.06707608304146,
          450.0886869811081,
          447.4803718958742,
          442.9340900169023,
          442.0952169997169,
          441.41924242779004,
          440.62031236994244,
          441.589584958379,
          443.9719212539458,
          446.07486749819276,
          452.4925046788611,
          451.507373135044,
          444.8452629126345,
          441.709115137442,
          443.86333600548363,
          444.7658182081246,
          447.00734771853473,
          450.40751708819874,
          453.0472220438448,
          458.71998222938277,
          451.6032598889764,
          445.6853215138777,
          441.54223647554653,
          440.7757310669292,
          441.9612635444853,
          441.985284882373,
          441.0741109858682,
          440.8067797417729,
          438.6780612218431,
          437.8605573868206,
          438.4990867178715,
          439.3679868923336,
          441.4202491688224,
          444.65732641644075,
          443.08930798542355,
          442.32155514659274,
          442.3805435714697,
          442.00986404548684,
          442.553889767332,
          441.79560150786955,
          442.11615344566076,
          442.9441675888049,
          446.1717718760005,
          449.68627529426163,
          446.6301687345147,
          443.6854110434153,
          444.4725157080288,
          447.1151319519165,
          448.67356495537825,
          446.6358436303317,
          442.5171038822022,
          442.35402164234415,
          442.8428872384316,
          441.12260746648343,
          441.9416232170902,
          442.23075541485514,
          445.48110308989004,
          449.92281581182505,
          451.81593650295537,
          454.9307133573468,
          459.2256992069939,
          455.1988333524562,
          453.92093259673675,
          449.4635382204845,
          447.2844565090201,
          444.14437655283604,
          445.64543951306155,
          446.6497822834874,
          447.96072483086374,
          445.3908895629279,
          445.569278599716,
          448.47000234714295,
          449.5181250930744,
          449.98577921136877,
          447.07867222074924,
          445.0252772493329,
          445.48112205688363,
          447.93266310086057,
          455.949216606741,
          457.33751405952984,
          468.451535070499,
          475.3732965662839,
          484.6207294319641,
          484.22926797383457,
          472.31368354302657,
          467.0276325901199,
          462.1233032206346,
          461.82542120813036,
          460.64405525918613,
          457.9535240551231,
          455.9745670555133,
          456.9378123234946,
          457.9846100987199,
          459.9230389707827,
          460.8642406063502,
          463.4549819627905,
          467.0189850764495,
          471.89733764389985,
          475.75727305808044,
          476.51529731038295,
          470.4277726470835,
          474.67336126601543,
          469.8596486633057,
          478.83256746019396,
          478.91933865066085,
          484.1616204131014,
          483.0015725827423,
          477.34234175461705,
          469.5040061889749,
          463.3146691156526,
          463.6885154830252,
          467.7801142342351,
          462.97787873586054,
          462.0808938462487,
          460.00422124000374,
          457.0964364306613,
          457.6702445543254,
          458.31205608389723,
          457.1690085915986,
          460.0908261744872,
          464.6135085789556,
          461.90962515087125,
          460.6960814527222,
          456.5674496562344,
          455.5582280581703,
          454.2094086613385,
          454.57912262532204,
          454.0864243089702,
          457.4621374973943,
          460.34795225692983,
          461.869451638229,
          459.592036035305,
          458.3907565798576,
          460.71779765827665,
          462.16390812777945,
          455.0791830258305,
          451.0809215220823,
          447.6996165918649,
          443.7232865367032,
          442.93211356202113,
          444.35209246723815,
          445.0500089319428,
          446.3497211617768,
          447.36400829678246,
          447.47863684628663,
          444.86254042206866,
          446.99155017826456,
          447.1696755611992,
          450.55574253706476,
          448.1000491949826,
          448.24369114321007,
          449.9871248605268,
          449.01020950112917,
          446.4105726350444,
          447.61275595396273,
          449.4889007767346,
          448.6005816978615,
          448.6140279522497,
          447.69052689916725,
          446.11176319869793,
          444.3728739391853,
          444.03081799011056,
          443.4200405862304,
          443.15009802973674,
          443.1251210016181,
          444.30219081033937,
          445.7270274866358,
          448.1381677284148,
          448.9120034755008,
          446.9555948440896,
          447.0618868242905,
          447.7414350996207,
          447.1130862243402,
          446.2479642101234,
          446.64126435297675,
          446.1390300998137,
          446.6225583220774,
          447.4608882010927,
          447.0296325018216,
          446.47374301665747,
          447.48023946429765,
          447.49399056292253,
          447.1272201128595,
          448.1818050078886,
          448.45799773046315,
          449.8078687792606,
          449.6282253986746,
          449.3918229262535,
          450.96479761817045,
          451.7051283963479,
          452.4605327793558,
          452.54136294984806,
          455.03365032468145,
          456.23327859095906,
          454.2344981788053,
          454.3430949427063,
          453.2765415620529,
          451.5442083678873,
          451.37647018229046,
          451.4737778925782,
          453.47766636381215,
          457.7549266105457,
          457.4119260881475,
          461.3412210232457,
          460.12668369130097,
          458.94654356998007,
          457.426095734113,
          457.4283843085791,
          457.9351543647335,
          456.7949913977358,
          456.4670797051399,
          459.67671411718806,
          459.00629580733215,
          458.0572946794659,
          455.82383968726293,
          457.89119568383734,
          470.62531037698295,
          482.59428131675105,
          461.9943827803809,
          458.0209082309123,
          459.11115587210605,
          456.8135102932259,
          458.19472353388693,
          461.9944777716724,
          468.060933697312,
          470.2291377507591,
          457.02253726514726,
          462.3453530683057,
          462.7819658807498,
          458.4614762278741,
          454.1920252984017,
          452.5714413343192,
          456.1252697654311,
          449.85287057548817,
          449.00072806482723,
          447.64426570181956,
          450.2291351709853,
          452.14559709972633,
          454.1739929305561,
          454.42499380310187,
          454.1446392070384,
          453.58487180794253,
          453.49976049615975,
          461.85477407644663,
          462.2298870518891,
          463.2478417184691,
          465.00114715893005,
          467.37679685273207,
          468.8288858984936,
          471.13723129643466,
          469.89658722686863,
          463.1208117686606,
          460.5905306739126,
          461.0819011179181,
          460.7855323919562,
          459.58704057738095,
          456.86059478381935,
          457.3960586765135
         ],
         "yaxis": "y"
        },
        {
         "hovertemplate": "system_name=tum-esm-midcost-raspi-13<br>creation_timestamp=%{x}<br>CO2_corr=%{y}<extra></extra>",
         "legendgroup": "tum-esm-midcost-raspi-13",
         "line": {
          "color": "#FFA15A",
          "dash": "solid"
         },
         "marker": {
          "symbol": "circle"
         },
         "mode": "markers+lines",
         "name": "tum-esm-midcost-raspi-13",
         "showlegend": true,
         "type": "scattergl",
         "x": [
          "2023-11-17T00:00:00+00:00",
          "2023-11-17T01:00:00+00:00",
          "2023-11-17T02:00:00+00:00",
          "2023-11-17T03:00:00+00:00",
          "2023-11-17T04:00:00+00:00",
          "2023-11-17T05:00:00+00:00",
          "2023-11-17T06:00:00+00:00",
          "2023-11-17T07:00:00+00:00",
          "2023-11-17T08:00:00+00:00",
          "2023-11-17T09:00:00+00:00",
          "2023-11-17T10:00:00+00:00",
          "2023-11-17T11:00:00+00:00",
          "2023-11-17T12:00:00+00:00",
          "2023-11-17T13:00:00+00:00",
          "2023-11-17T14:00:00+00:00",
          "2023-11-17T15:00:00+00:00",
          "2023-11-17T16:00:00+00:00",
          "2023-11-17T17:00:00+00:00",
          "2023-11-17T18:00:00+00:00",
          "2023-11-17T19:00:00+00:00",
          "2023-11-17T20:00:00+00:00",
          "2023-11-17T21:00:00+00:00",
          "2023-11-17T22:00:00+00:00",
          "2023-11-17T23:00:00+00:00",
          "2023-11-18T00:00:00+00:00",
          "2023-11-18T01:00:00+00:00",
          "2023-11-18T02:00:00+00:00",
          "2023-11-18T03:00:00+00:00",
          "2023-11-18T04:00:00+00:00",
          "2023-11-18T05:00:00+00:00",
          "2023-11-18T06:00:00+00:00",
          "2023-11-18T07:00:00+00:00",
          "2023-11-18T08:00:00+00:00",
          "2023-11-18T09:00:00+00:00",
          "2023-11-18T10:00:00+00:00",
          "2023-11-18T11:00:00+00:00",
          "2023-11-18T12:00:00+00:00",
          "2023-11-18T13:00:00+00:00",
          "2023-11-18T14:00:00+00:00",
          "2023-11-18T15:00:00+00:00",
          "2023-11-18T16:00:00+00:00",
          "2023-11-18T17:00:00+00:00",
          "2023-11-18T18:00:00+00:00",
          "2023-11-18T19:00:00+00:00",
          "2023-11-18T20:00:00+00:00",
          "2023-11-18T21:00:00+00:00",
          "2023-11-18T22:00:00+00:00",
          "2023-11-18T23:00:00+00:00",
          "2023-11-19T00:00:00+00:00",
          "2023-11-19T01:00:00+00:00",
          "2023-11-19T02:00:00+00:00",
          "2023-11-19T03:00:00+00:00",
          "2023-11-19T04:00:00+00:00",
          "2023-11-19T05:00:00+00:00",
          "2023-11-19T06:00:00+00:00",
          "2023-11-19T07:00:00+00:00",
          "2023-11-19T08:00:00+00:00",
          "2023-11-19T09:00:00+00:00",
          "2023-11-19T10:00:00+00:00",
          "2023-11-19T11:00:00+00:00",
          "2023-11-19T12:00:00+00:00",
          "2023-11-19T13:00:00+00:00",
          "2023-11-19T14:00:00+00:00",
          "2023-11-19T15:00:00+00:00",
          "2023-11-19T16:00:00+00:00",
          "2023-11-19T17:00:00+00:00",
          "2023-11-19T18:00:00+00:00",
          "2023-11-19T19:00:00+00:00",
          "2023-11-19T20:00:00+00:00",
          "2023-11-19T21:00:00+00:00",
          "2023-11-19T22:00:00+00:00",
          "2023-11-19T23:00:00+00:00",
          "2023-11-20T00:00:00+00:00",
          "2023-11-20T01:00:00+00:00",
          "2023-11-20T02:00:00+00:00",
          "2023-11-20T03:00:00+00:00",
          "2023-11-20T04:00:00+00:00",
          "2023-11-20T05:00:00+00:00",
          "2023-11-20T06:00:00+00:00",
          "2023-11-20T07:00:00+00:00",
          "2023-11-20T08:00:00+00:00",
          "2023-11-20T09:00:00+00:00",
          "2023-11-20T10:00:00+00:00",
          "2023-11-20T11:00:00+00:00",
          "2023-11-20T12:00:00+00:00",
          "2023-11-20T13:00:00+00:00",
          "2023-11-20T14:00:00+00:00",
          "2023-11-20T15:00:00+00:00",
          "2023-11-20T16:00:00+00:00",
          "2023-11-20T17:00:00+00:00",
          "2023-11-20T18:00:00+00:00",
          "2023-11-20T19:00:00+00:00",
          "2023-11-20T20:00:00+00:00",
          "2023-11-20T21:00:00+00:00",
          "2023-11-20T22:00:00+00:00",
          "2023-11-20T23:00:00+00:00",
          "2023-11-21T00:00:00+00:00",
          "2023-11-21T01:00:00+00:00",
          "2023-11-21T02:00:00+00:00",
          "2023-11-21T03:00:00+00:00",
          "2023-11-21T04:00:00+00:00",
          "2023-11-21T05:00:00+00:00",
          "2023-11-21T06:00:00+00:00",
          "2023-11-21T07:00:00+00:00",
          "2023-11-21T08:00:00+00:00",
          "2023-11-21T09:00:00+00:00",
          "2023-11-21T10:00:00+00:00",
          "2023-11-21T11:00:00+00:00",
          "2023-11-21T12:00:00+00:00",
          "2023-11-21T13:00:00+00:00",
          "2023-11-21T14:00:00+00:00",
          "2023-11-21T15:00:00+00:00",
          "2023-11-21T16:00:00+00:00",
          "2023-11-21T17:00:00+00:00",
          "2023-11-21T18:00:00+00:00",
          "2023-11-21T19:00:00+00:00",
          "2023-11-21T20:00:00+00:00",
          "2023-11-21T21:00:00+00:00",
          "2023-11-21T22:00:00+00:00",
          "2023-11-21T23:00:00+00:00",
          "2023-11-22T00:00:00+00:00",
          "2023-11-22T01:00:00+00:00",
          "2023-11-22T02:00:00+00:00",
          "2023-11-22T03:00:00+00:00",
          "2023-11-22T04:00:00+00:00",
          "2023-11-22T05:00:00+00:00",
          "2023-11-22T06:00:00+00:00",
          "2023-11-22T07:00:00+00:00",
          "2023-11-22T08:00:00+00:00",
          "2023-11-22T09:00:00+00:00",
          "2023-11-22T10:00:00+00:00",
          "2023-11-22T11:00:00+00:00",
          "2023-11-22T12:00:00+00:00",
          "2023-11-22T13:00:00+00:00",
          "2023-11-22T14:00:00+00:00",
          "2023-11-22T15:00:00+00:00",
          "2023-11-22T16:00:00+00:00",
          "2023-11-22T17:00:00+00:00",
          "2023-11-22T18:00:00+00:00",
          "2023-11-22T19:00:00+00:00",
          "2023-11-22T20:00:00+00:00",
          "2023-11-22T21:00:00+00:00",
          "2023-11-22T22:00:00+00:00",
          "2023-11-22T23:00:00+00:00",
          "2023-11-23T00:00:00+00:00",
          "2023-11-23T01:00:00+00:00",
          "2023-11-23T02:00:00+00:00",
          "2023-11-23T03:00:00+00:00",
          "2023-11-23T04:00:00+00:00",
          "2023-11-23T05:00:00+00:00",
          "2023-11-23T06:00:00+00:00",
          "2023-11-23T07:00:00+00:00",
          "2023-11-23T08:00:00+00:00",
          "2023-11-23T09:00:00+00:00",
          "2023-11-23T10:00:00+00:00",
          "2023-11-23T11:00:00+00:00",
          "2023-11-23T12:00:00+00:00",
          "2023-11-23T13:00:00+00:00",
          "2023-11-23T14:00:00+00:00",
          "2023-11-23T15:00:00+00:00",
          "2023-11-23T16:00:00+00:00",
          "2023-11-23T17:00:00+00:00",
          "2023-11-23T18:00:00+00:00",
          "2023-11-23T19:00:00+00:00",
          "2023-11-23T20:00:00+00:00",
          "2023-11-23T21:00:00+00:00",
          "2023-11-23T22:00:00+00:00",
          "2023-11-23T23:00:00+00:00",
          "2023-11-24T00:00:00+00:00",
          "2023-11-24T01:00:00+00:00",
          "2023-11-24T02:00:00+00:00",
          "2023-11-24T03:00:00+00:00",
          "2023-11-24T04:00:00+00:00",
          "2023-11-24T05:00:00+00:00",
          "2023-11-24T06:00:00+00:00",
          "2023-11-24T07:00:00+00:00",
          "2023-11-24T08:00:00+00:00",
          "2023-11-24T09:00:00+00:00",
          "2023-11-24T10:00:00+00:00",
          "2023-11-24T11:00:00+00:00",
          "2023-11-24T12:00:00+00:00",
          "2023-11-24T13:00:00+00:00",
          "2023-11-24T14:00:00+00:00",
          "2023-11-24T15:00:00+00:00",
          "2023-11-24T16:00:00+00:00",
          "2023-11-24T17:00:00+00:00",
          "2023-11-24T18:00:00+00:00",
          "2023-11-24T19:00:00+00:00",
          "2023-11-24T20:00:00+00:00",
          "2023-11-24T21:00:00+00:00",
          "2023-11-24T22:00:00+00:00",
          "2023-11-24T23:00:00+00:00",
          "2023-11-25T00:00:00+00:00",
          "2023-11-25T01:00:00+00:00",
          "2023-11-25T02:00:00+00:00",
          "2023-11-25T03:00:00+00:00",
          "2023-11-25T04:00:00+00:00",
          "2023-11-25T05:00:00+00:00",
          "2023-11-25T06:00:00+00:00",
          "2023-11-25T07:00:00+00:00",
          "2023-11-25T08:00:00+00:00",
          "2023-11-25T09:00:00+00:00",
          "2023-11-25T10:00:00+00:00",
          "2023-11-25T11:00:00+00:00",
          "2023-11-25T12:00:00+00:00",
          "2023-11-25T13:00:00+00:00",
          "2023-11-25T14:00:00+00:00",
          "2023-11-25T15:00:00+00:00",
          "2023-11-25T16:00:00+00:00",
          "2023-11-25T17:00:00+00:00",
          "2023-11-25T18:00:00+00:00",
          "2023-11-25T19:00:00+00:00",
          "2023-11-25T20:00:00+00:00",
          "2023-11-25T21:00:00+00:00",
          "2023-11-25T22:00:00+00:00",
          "2023-11-25T23:00:00+00:00",
          "2023-11-26T00:00:00+00:00",
          "2023-11-26T01:00:00+00:00",
          "2023-11-26T02:00:00+00:00",
          "2023-11-26T03:00:00+00:00",
          "2023-11-26T04:00:00+00:00",
          "2023-11-26T05:00:00+00:00",
          "2023-11-26T06:00:00+00:00",
          "2023-11-26T07:00:00+00:00",
          "2023-11-26T08:00:00+00:00",
          "2023-11-26T09:00:00+00:00",
          "2023-11-26T10:00:00+00:00",
          "2023-11-26T11:00:00+00:00",
          "2023-11-26T12:00:00+00:00",
          "2023-11-26T13:00:00+00:00",
          "2023-11-26T14:00:00+00:00",
          "2023-11-26T15:00:00+00:00",
          "2023-11-26T16:00:00+00:00",
          "2023-11-26T17:00:00+00:00",
          "2023-11-26T18:00:00+00:00",
          "2023-11-26T19:00:00+00:00",
          "2023-11-26T20:00:00+00:00",
          "2023-11-26T21:00:00+00:00",
          "2023-11-26T22:00:00+00:00",
          "2023-11-26T23:00:00+00:00",
          "2023-11-27T00:00:00+00:00",
          "2023-11-27T01:00:00+00:00",
          "2023-11-27T02:00:00+00:00",
          "2023-11-27T03:00:00+00:00",
          "2023-11-27T04:00:00+00:00",
          "2023-11-27T05:00:00+00:00",
          "2023-11-27T06:00:00+00:00",
          "2023-11-27T07:00:00+00:00",
          "2023-11-27T08:00:00+00:00",
          "2023-11-27T09:00:00+00:00",
          "2023-11-27T10:00:00+00:00",
          "2023-11-27T11:00:00+00:00",
          "2023-11-27T12:00:00+00:00",
          "2023-11-27T13:00:00+00:00",
          "2023-11-27T14:00:00+00:00",
          "2023-11-27T15:00:00+00:00",
          "2023-11-27T16:00:00+00:00",
          "2023-11-27T17:00:00+00:00",
          "2023-11-27T18:00:00+00:00",
          "2023-11-27T19:00:00+00:00",
          "2023-11-27T20:00:00+00:00",
          "2023-11-27T21:00:00+00:00",
          "2023-11-27T22:00:00+00:00",
          "2023-11-27T23:00:00+00:00",
          "2023-11-28T00:00:00+00:00",
          "2023-11-28T01:00:00+00:00",
          "2023-11-28T02:00:00+00:00",
          "2023-11-28T03:00:00+00:00",
          "2023-11-28T04:00:00+00:00",
          "2023-11-28T05:00:00+00:00",
          "2023-11-28T06:00:00+00:00",
          "2023-11-28T07:00:00+00:00",
          "2023-11-28T08:00:00+00:00",
          "2023-11-28T09:00:00+00:00",
          "2023-11-28T10:00:00+00:00",
          "2023-11-28T11:00:00+00:00",
          "2023-11-28T12:00:00+00:00",
          "2023-11-28T13:00:00+00:00",
          "2023-11-28T14:00:00+00:00",
          "2023-11-28T15:00:00+00:00",
          "2023-11-28T16:00:00+00:00",
          "2023-11-28T17:00:00+00:00",
          "2023-11-28T18:00:00+00:00",
          "2023-11-28T19:00:00+00:00",
          "2023-11-28T20:00:00+00:00",
          "2023-11-28T21:00:00+00:00",
          "2023-11-28T22:00:00+00:00",
          "2023-11-28T23:00:00+00:00",
          "2023-11-29T00:00:00+00:00"
         ],
         "xaxis": "x",
         "y": [
          439.0153080635637,
          436.82559069503367,
          432.3818708272281,
          431.9708863019371,
          432.2795793467307,
          433.47943636543727,
          437.8444531280938,
          437.6370460892079,
          438.1699262789263,
          438.4876883933135,
          436.87385429928753,
          435.53463894794294,
          435.98095729605467,
          436.2687377221548,
          439.02333517675817,
          440.9182903037963,
          438.4102204709529,
          438.64511529255407,
          439.0546457054006,
          438.7561243910265,
          438.98474706626865,
          440.04336916161145,
          438.6121172108896,
          437.33704537112743,
          435.39160219435456,
          431.9969649176664,
          432.0032447725577,
          433.5084936984628,
          434.9608002669406,
          436.61176901452694,
          438.0523342864904,
          439.61415911636163,
          439.10791683496706,
          435.87611171497315,
          432.3849582121856,
          430.97377727323607,
          429.67827483795276,
          429.3628860077886,
          429.9799552344013,
          432.6847929158909,
          434.4310891298724,
          441.6235808193266,
          440.7918147022545,
          433.7102736548448,
          430.54791509320876,
          432.7969505061728,
          433.14479610421387,
          435.5465436012987,
          439.56932159913544,
          442.39674525133745,
          448.15723397931515,
          441.31009713229383,
          435.1351691617785,
          430.7083322956793,
          430.5752007172389,
          431.9356275223848,
          431.4546609425857,
          430.6735644769626,
          430.0627508577024,
          428.3420285266221,
          427.918284894647,
          428.67355220093935,
          429.2919386404389,
          430.6935266741955,
          434.09349853160126,
          432.1010257595744,
          431.707731078676,
          431.6371321527979,
          431.6354979200923,
          431.563498773855,
          431.3746180192527,
          431.1225740040682,
          432.07080374348385,
          435.30751780862965,
          438.9767696168615,
          435.5783985497671,
          432.85311845012757,
          433.40727895675155,
          436.19011345912577,
          438.05929469946517,
          435.7832650658108,
          431.17573755496505,
          431.0124480221588,
          431.13460598382875,
          429.49424585827273,
          430.41045732780077,
          431.16401375377717,
          434.27879053916445,
          439.1250422164024,
          440.73615498336045,
          444.1351842663642,
          447.8709980705682,
          444.82898777424253,
          443.3744857616761,
          437.66697427862897,
          435.3674914527792,
          433.3376655290003,
          435.24286086624414,
          435.7395196965701,
          437.2544293908109,
          434.6074788614133,
          434.6422227342821,
          437.8785864365521,
          438.3940403572624,
          437.940447379413,
          435.72074311033157,
          434.0862185440597,
          434.10547746091476,
          436.45569070280163,
          444.20039277683827,
          445.24998602992565,
          456.2211164565503,
          462.33718998264385,
          472.93935694525743,
          472.3593358444127,
          460.5671399981698,
          456.9173176820593,
          450.73091825308603,
          450.15382364563214,
          449.29557383547154,
          446.2359874608121,
          444.17683571321487,
          445.30330925176264,
          445.9158725075965,
          447.07814239483065,
          448.20185033619055,
          450.51682272697735,
          453.642400373293,
          457.91202197582896,
          460.49477642447533,
          461.4936999548375,
          456.01460805599964,
          460.89062903238965,
          455.8997695496366,
          464.8997957756183,
          464.63780515748766,
          470.50787007561894,
          467.9412604835267,
          463.33757383453377,
          454.93001065895396,
          449.5255389103174,
          453.16097936265777,
          456.27899385850765,
          450.35161058869556,
          449.4373480352653,
          446.71356592103143,
          443.6621472949086,
          444.6059151878626,
          445.03585436982416,
          443.756517165303,
          447.04609701986647,
          451.3922333091814,
          449.1627496410046,
          446.84423735355307,
          443.0576540597372,
          442.2902850962894,
          441.1948403690756,
          441.76199498249827,
          441.2025259274888,
          444.30021911825673,
          447.6524171387937,
          448.1428840823178,
          446.3020400215095,
          445.6144427224478,
          447.767206756783,
          449.3416643343764,
          442.68387515035187,
          437.4119206063321,
          434.01794605709597,
          430.2370394507074,
          428.7086188939731,
          430.1573222496329,
          431.1324466335884,
          432.355466922734,
          433.5683689112702,
          434.61013741245387,
          431.8035449427753,
          432.9493363964437,
          433.3224077763046,
          437.6552515616436,
          434.5663513798673,
          434.4806765974108,
          436.3212485691076,
          435.59987151380864,
          433.3595932607481,
          435.0134396334727,
          436.87265441163186,
          435.4129700473623,
          435.6185441810339,
          435.12284011463,
          433.2424773281423,
          431.17946573125374,
          430.74185554994557,
          430.38046278102365,
          429.5695650973312,
          429.10793057778545,
          430.2834778882337,
          431.13913983608626,
          435.16923995956034,
          435.9003768453442,
          434.196779300469,
          434.0606862410327,
          434.47857784113853,
          433.7041248577541,
          432.2584482495384,
          431.86209218591335,
          431.22308865181793,
          432.4142297397628,
          433.38085009964266,
          433.1224227343469,
          432.1653650273235,
          432.9749582308352,
          432.72206213775826,
          432.9181643196201,
          434.16338641002903,
          434.19546630407325,
          435.864672382564,
          435.7836160658617,
          435.8752681853962,
          437.73514128983646,
          438.6055036134887,
          439.456716057073,
          439.5449799470148,
          442.07869071651925,
          443.6401749301037,
          440.9645996987404,
          440.57723640367595,
          439.4441354604417,
          437.44756835858647,
          437.80841063139536,
          437.46188384829253,
          439.2343253549206,
          444.22278005722615,
          443.4397165718928,
          447.8355668085303,
          446.7886435708412,
          445.605306349704,
          443.8239391685809,
          443.5852188223669,
          444.2648153886373,
          442.48982166315733,
          443.91285601636463,
          447.48489580952423,
          445.2922519228821,
          444.65682207310505,
          441.9641395145225,
          444.50847360417333,
          457.545541976431,
          469.9337227972692,
          449.18786844239395,
          444.6503241081344,
          445.59749052779284,
          443.67861098129464,
          445.8306478068927,
          450.2955564408919,
          456.90118700878116,
          459.1766951325332,
          444.1327541715206,
          449.0211528411739,
          449.0235895586341,
          444.64904654891734,
          440.51299796924656,
          439.5646740757404,
          442.6665149951978,
          437.01213281363425,
          436.169578948746,
          434.49671681080326,
          436.9317659562405,
          438.6095963383882,
          441.02331135246635,
          441.5896532875735,
          440.78761414008613,
          441.1560067729781,
          440.9244214559778,
          449.3188537625711,
          449.4399907117324,
          450.0637543294415,
          451.1779743311941,
          453.2970964095917,
          455.3176401412111,
          457.05230284883646,
          455.7228857327182,
          449.46545440367566,
          447.6722964816122,
          448.04989140951847,
          447.69882435572237,
          446.61074723767393,
          443.6841878776341,
          443.6727449221403
         ],
         "yaxis": "y"
        },
        {
         "hovertemplate": "system_name=tum-esm-midcost-raspi-18<br>creation_timestamp=%{x}<br>CO2_corr=%{y}<extra></extra>",
         "legendgroup": "tum-esm-midcost-raspi-18",
         "line": {
          "color": "#19d3f3",
          "dash": "solid"
         },
         "marker": {
          "symbol": "circle"
         },
         "mode": "markers+lines",
         "name": "tum-esm-midcost-raspi-18",
         "showlegend": true,
         "type": "scattergl",
         "x": [
          "2023-11-17T00:00:00+00:00",
          "2023-11-17T01:00:00+00:00",
          "2023-11-17T02:00:00+00:00",
          "2023-11-17T03:00:00+00:00",
          "2023-11-17T04:00:00+00:00",
          "2023-11-17T05:00:00+00:00",
          "2023-11-17T06:00:00+00:00",
          "2023-11-17T07:00:00+00:00",
          "2023-11-17T08:00:00+00:00",
          "2023-11-17T09:00:00+00:00",
          "2023-11-17T10:00:00+00:00",
          "2023-11-17T11:00:00+00:00",
          "2023-11-17T12:00:00+00:00",
          "2023-11-17T13:00:00+00:00",
          "2023-11-17T14:00:00+00:00",
          "2023-11-17T15:00:00+00:00",
          "2023-11-17T16:00:00+00:00",
          "2023-11-17T17:00:00+00:00",
          "2023-11-17T18:00:00+00:00",
          "2023-11-17T19:00:00+00:00",
          "2023-11-17T20:00:00+00:00",
          "2023-11-17T21:00:00+00:00",
          "2023-11-17T22:00:00+00:00",
          "2023-11-17T23:00:00+00:00",
          "2023-11-18T00:00:00+00:00",
          "2023-11-18T01:00:00+00:00",
          "2023-11-18T02:00:00+00:00",
          "2023-11-18T03:00:00+00:00",
          "2023-11-18T04:00:00+00:00",
          "2023-11-18T05:00:00+00:00",
          "2023-11-18T06:00:00+00:00",
          "2023-11-18T07:00:00+00:00",
          "2023-11-18T08:00:00+00:00",
          "2023-11-18T09:00:00+00:00",
          "2023-11-18T10:00:00+00:00",
          "2023-11-18T11:00:00+00:00",
          "2023-11-18T12:00:00+00:00",
          "2023-11-18T13:00:00+00:00",
          "2023-11-18T14:00:00+00:00",
          "2023-11-18T15:00:00+00:00",
          "2023-11-18T16:00:00+00:00",
          "2023-11-18T17:00:00+00:00",
          "2023-11-18T18:00:00+00:00",
          "2023-11-18T19:00:00+00:00",
          "2023-11-18T20:00:00+00:00",
          "2023-11-18T21:00:00+00:00",
          "2023-11-18T22:00:00+00:00",
          "2023-11-18T23:00:00+00:00",
          "2023-11-19T00:00:00+00:00",
          "2023-11-19T01:00:00+00:00",
          "2023-11-19T02:00:00+00:00",
          "2023-11-19T03:00:00+00:00",
          "2023-11-19T04:00:00+00:00",
          "2023-11-19T05:00:00+00:00",
          "2023-11-19T06:00:00+00:00",
          "2023-11-19T07:00:00+00:00",
          "2023-11-19T08:00:00+00:00",
          "2023-11-19T09:00:00+00:00",
          "2023-11-19T10:00:00+00:00",
          "2023-11-19T11:00:00+00:00",
          "2023-11-19T12:00:00+00:00",
          "2023-11-19T13:00:00+00:00",
          "2023-11-19T14:00:00+00:00",
          "2023-11-19T15:00:00+00:00",
          "2023-11-19T16:00:00+00:00",
          "2023-11-19T17:00:00+00:00",
          "2023-11-19T18:00:00+00:00",
          "2023-11-19T19:00:00+00:00",
          "2023-11-19T20:00:00+00:00",
          "2023-11-19T21:00:00+00:00",
          "2023-11-19T22:00:00+00:00",
          "2023-11-19T23:00:00+00:00",
          "2023-11-20T00:00:00+00:00",
          "2023-11-20T01:00:00+00:00",
          "2023-11-20T02:00:00+00:00",
          "2023-11-20T03:00:00+00:00",
          "2023-11-20T04:00:00+00:00",
          "2023-11-20T05:00:00+00:00",
          "2023-11-20T06:00:00+00:00",
          "2023-11-20T07:00:00+00:00",
          "2023-11-20T08:00:00+00:00",
          "2023-11-20T09:00:00+00:00",
          "2023-11-20T10:00:00+00:00",
          "2023-11-20T11:00:00+00:00",
          "2023-11-20T12:00:00+00:00",
          "2023-11-20T13:00:00+00:00",
          "2023-11-20T14:00:00+00:00",
          "2023-11-20T15:00:00+00:00",
          "2023-11-20T16:00:00+00:00",
          "2023-11-20T17:00:00+00:00",
          "2023-11-20T18:00:00+00:00",
          "2023-11-20T19:00:00+00:00",
          "2023-11-20T20:00:00+00:00",
          "2023-11-20T21:00:00+00:00",
          "2023-11-20T22:00:00+00:00",
          "2023-11-20T23:00:00+00:00",
          "2023-11-21T00:00:00+00:00",
          "2023-11-21T01:00:00+00:00",
          "2023-11-21T02:00:00+00:00",
          "2023-11-21T03:00:00+00:00",
          "2023-11-21T04:00:00+00:00",
          "2023-11-21T05:00:00+00:00",
          "2023-11-21T06:00:00+00:00",
          "2023-11-21T07:00:00+00:00",
          "2023-11-21T08:00:00+00:00",
          "2023-11-21T09:00:00+00:00",
          "2023-11-21T10:00:00+00:00",
          "2023-11-21T11:00:00+00:00",
          "2023-11-21T12:00:00+00:00",
          "2023-11-21T13:00:00+00:00",
          "2023-11-21T14:00:00+00:00",
          "2023-11-21T15:00:00+00:00",
          "2023-11-21T16:00:00+00:00",
          "2023-11-21T17:00:00+00:00",
          "2023-11-21T18:00:00+00:00",
          "2023-11-21T19:00:00+00:00",
          "2023-11-21T20:00:00+00:00",
          "2023-11-21T21:00:00+00:00",
          "2023-11-21T22:00:00+00:00",
          "2023-11-21T23:00:00+00:00",
          "2023-11-22T00:00:00+00:00",
          "2023-11-22T01:00:00+00:00",
          "2023-11-22T02:00:00+00:00",
          "2023-11-22T03:00:00+00:00",
          "2023-11-22T04:00:00+00:00",
          "2023-11-22T05:00:00+00:00",
          "2023-11-22T06:00:00+00:00",
          "2023-11-22T07:00:00+00:00",
          "2023-11-22T08:00:00+00:00",
          "2023-11-22T09:00:00+00:00",
          "2023-11-22T10:00:00+00:00",
          "2023-11-22T11:00:00+00:00",
          "2023-11-22T12:00:00+00:00",
          "2023-11-22T13:00:00+00:00",
          "2023-11-22T14:00:00+00:00",
          "2023-11-22T15:00:00+00:00",
          "2023-11-22T16:00:00+00:00",
          "2023-11-22T17:00:00+00:00",
          "2023-11-22T18:00:00+00:00",
          "2023-11-22T19:00:00+00:00",
          "2023-11-22T20:00:00+00:00",
          "2023-11-22T21:00:00+00:00",
          "2023-11-22T22:00:00+00:00",
          "2023-11-22T23:00:00+00:00",
          "2023-11-23T00:00:00+00:00",
          "2023-11-23T01:00:00+00:00",
          "2023-11-23T02:00:00+00:00",
          "2023-11-23T03:00:00+00:00",
          "2023-11-23T04:00:00+00:00",
          "2023-11-23T05:00:00+00:00",
          "2023-11-23T06:00:00+00:00",
          "2023-11-23T07:00:00+00:00",
          "2023-11-23T08:00:00+00:00",
          "2023-11-23T09:00:00+00:00",
          "2023-11-23T10:00:00+00:00",
          "2023-11-23T11:00:00+00:00",
          "2023-11-23T12:00:00+00:00",
          "2023-11-23T13:00:00+00:00",
          "2023-11-23T14:00:00+00:00",
          "2023-11-23T15:00:00+00:00",
          "2023-11-23T16:00:00+00:00",
          "2023-11-23T17:00:00+00:00",
          "2023-11-23T18:00:00+00:00",
          "2023-11-23T19:00:00+00:00",
          "2023-11-23T20:00:00+00:00",
          "2023-11-23T21:00:00+00:00",
          "2023-11-23T22:00:00+00:00",
          "2023-11-23T23:00:00+00:00",
          "2023-11-24T00:00:00+00:00",
          "2023-11-24T01:00:00+00:00",
          "2023-11-24T02:00:00+00:00",
          "2023-11-24T03:00:00+00:00",
          "2023-11-24T04:00:00+00:00",
          "2023-11-24T05:00:00+00:00",
          "2023-11-24T06:00:00+00:00",
          "2023-11-24T07:00:00+00:00",
          "2023-11-24T08:00:00+00:00",
          "2023-11-24T09:00:00+00:00",
          "2023-11-24T10:00:00+00:00",
          "2023-11-24T11:00:00+00:00",
          "2023-11-24T12:00:00+00:00",
          "2023-11-24T13:00:00+00:00",
          "2023-11-24T14:00:00+00:00",
          "2023-11-24T15:00:00+00:00",
          "2023-11-24T16:00:00+00:00",
          "2023-11-24T17:00:00+00:00",
          "2023-11-24T18:00:00+00:00",
          "2023-11-24T19:00:00+00:00",
          "2023-11-24T20:00:00+00:00",
          "2023-11-24T21:00:00+00:00",
          "2023-11-24T22:00:00+00:00",
          "2023-11-24T23:00:00+00:00",
          "2023-11-25T00:00:00+00:00",
          "2023-11-25T01:00:00+00:00",
          "2023-11-25T02:00:00+00:00",
          "2023-11-25T03:00:00+00:00",
          "2023-11-25T04:00:00+00:00",
          "2023-11-25T05:00:00+00:00",
          "2023-11-25T06:00:00+00:00",
          "2023-11-25T07:00:00+00:00",
          "2023-11-25T08:00:00+00:00",
          "2023-11-25T09:00:00+00:00",
          "2023-11-25T10:00:00+00:00",
          "2023-11-25T11:00:00+00:00",
          "2023-11-25T12:00:00+00:00",
          "2023-11-25T13:00:00+00:00",
          "2023-11-25T14:00:00+00:00",
          "2023-11-25T15:00:00+00:00",
          "2023-11-25T16:00:00+00:00",
          "2023-11-25T17:00:00+00:00",
          "2023-11-25T18:00:00+00:00",
          "2023-11-25T19:00:00+00:00",
          "2023-11-25T20:00:00+00:00",
          "2023-11-25T21:00:00+00:00",
          "2023-11-25T22:00:00+00:00",
          "2023-11-25T23:00:00+00:00",
          "2023-11-26T00:00:00+00:00",
          "2023-11-26T01:00:00+00:00",
          "2023-11-26T02:00:00+00:00",
          "2023-11-26T03:00:00+00:00",
          "2023-11-26T04:00:00+00:00",
          "2023-11-26T05:00:00+00:00",
          "2023-11-26T06:00:00+00:00",
          "2023-11-26T07:00:00+00:00",
          "2023-11-26T08:00:00+00:00",
          "2023-11-26T09:00:00+00:00",
          "2023-11-26T10:00:00+00:00",
          "2023-11-26T11:00:00+00:00",
          "2023-11-26T12:00:00+00:00",
          "2023-11-26T13:00:00+00:00",
          "2023-11-26T14:00:00+00:00",
          "2023-11-26T15:00:00+00:00",
          "2023-11-26T16:00:00+00:00",
          "2023-11-26T17:00:00+00:00",
          "2023-11-26T18:00:00+00:00",
          "2023-11-26T19:00:00+00:00",
          "2023-11-26T20:00:00+00:00",
          "2023-11-26T21:00:00+00:00",
          "2023-11-26T22:00:00+00:00",
          "2023-11-26T23:00:00+00:00",
          "2023-11-27T00:00:00+00:00",
          "2023-11-27T01:00:00+00:00",
          "2023-11-27T02:00:00+00:00",
          "2023-11-27T03:00:00+00:00",
          "2023-11-27T04:00:00+00:00",
          "2023-11-27T05:00:00+00:00",
          "2023-11-27T06:00:00+00:00",
          "2023-11-27T07:00:00+00:00",
          "2023-11-27T08:00:00+00:00",
          "2023-11-27T09:00:00+00:00",
          "2023-11-27T10:00:00+00:00",
          "2023-11-27T11:00:00+00:00",
          "2023-11-27T12:00:00+00:00",
          "2023-11-27T13:00:00+00:00",
          "2023-11-27T14:00:00+00:00",
          "2023-11-27T15:00:00+00:00",
          "2023-11-27T16:00:00+00:00",
          "2023-11-27T17:00:00+00:00",
          "2023-11-27T18:00:00+00:00",
          "2023-11-27T19:00:00+00:00",
          "2023-11-27T20:00:00+00:00",
          "2023-11-27T21:00:00+00:00",
          "2023-11-27T22:00:00+00:00",
          "2023-11-27T23:00:00+00:00",
          "2023-11-28T00:00:00+00:00",
          "2023-11-28T01:00:00+00:00",
          "2023-11-28T02:00:00+00:00",
          "2023-11-28T03:00:00+00:00",
          "2023-11-28T04:00:00+00:00",
          "2023-11-28T05:00:00+00:00",
          "2023-11-28T06:00:00+00:00",
          "2023-11-28T07:00:00+00:00",
          "2023-11-28T08:00:00+00:00",
          "2023-11-28T09:00:00+00:00",
          "2023-11-28T10:00:00+00:00",
          "2023-11-28T11:00:00+00:00",
          "2023-11-28T12:00:00+00:00",
          "2023-11-28T13:00:00+00:00",
          "2023-11-28T14:00:00+00:00",
          "2023-11-28T15:00:00+00:00",
          "2023-11-28T16:00:00+00:00",
          "2023-11-28T17:00:00+00:00",
          "2023-11-28T18:00:00+00:00",
          "2023-11-28T19:00:00+00:00",
          "2023-11-28T20:00:00+00:00",
          "2023-11-28T21:00:00+00:00",
          "2023-11-28T22:00:00+00:00",
          "2023-11-28T23:00:00+00:00",
          "2023-11-29T00:00:00+00:00"
         ],
         "xaxis": "x",
         "y": [
          439.2237761491023,
          437.82437039486155,
          434.29137400450537,
          434.6455629321843,
          434.29347189616675,
          436.1553024255523,
          440.9191738900822,
          440.59220076100775,
          441.75414023432296,
          441.9925317751063,
          439.94124847901315,
          438.57422263291573,
          437.9087157194637,
          438.57257514477675,
          441.24886383266966,
          443.66472621071057,
          439.7431983064512,
          439.8904933537032,
          441.12264550424544,
          441.6056065239711,
          441.79541305878064,
          443.0788257662246,
          441.7881680773302,
          440.0900199745277,
          438.43672072601385,
          435.06117668777864,
          435.8106456796411,
          436.84680069681787,
          438.38014307495837,
          440.0595300539701,
          441.0233088044917,
          442.64222426485776,
          441.35352746023005,
          437.1195252007078,
          432.94812536327345,
          431.67357161445943,
          430.7568697853555,
          430.4849185592198,
          430.5877697235448,
          433.180550640641,
          435.2572795800667,
          443.20267233148206,
          440.9326549396247,
          434.23916329670396,
          431.71141905197175,
          434.2660606258096,
          434.6506357254882,
          437.1089313418727,
          440.77694900837145,
          444.0511195317069,
          449.284956624718,
          441.82391141676453,
          435.62547785133205,
          431.00300051830953,
          430.80202800628587,
          431.8475919297883,
          431.9736755330086,
          430.8898458247574,
          429.82504229463933,
          427.772942190127,
          427.10910784116163,
          428.32598226026244,
          429.238475604245,
          430.55239062686604,
          434.28668691878096,
          432.04523807753935,
          431.30353342565286,
          431.4823488891513,
          431.1935806642827,
          431.5277491179638,
          431.1406280217523,
          431.065062728092,
          431.7959909008123,
          435.29102940692195,
          438.2957166119248,
          435.4026081644026,
          432.4493202685375,
          433.5408778280616,
          435.9333390695252,
          438.3378023922033,
          435.23171101766144,
          431.2588899529994,
          430.92772968201206,
          431.1034497041913,
          429.11689784753224,
          430.31255940584765,
          431.0280082376069,
          434.27897471486034,
          439.29626843321057,
          440.4984525194575,
          443.90019688688244,
          447.8064489053444,
          444.55864312743034,
          442.8188535912852,
          437.26983143511,
          435.25698400471947,
          433.2549676265514,
          435.541733120992,
          435.76921555269564,
          437.3313930552924,
          434.56453942728723,
          434.81974714408597,
          437.8683875103902,
          438.5006892579702,
          438.0071671629351,
          435.70132155118563,
          433.90872511754,
          433.95916182412043,
          435.9622423518802,
          444.848226598595,
          446.11024233473137,
          457.2978881662016,
          465.0393239479683,
          473.7989231067789,
          473.0131236011526,
          461.39804280935715,
          455.8457460742663,
          450.9087812836817,
          450.2180730824452,
          449.46154382209534,
          446.7174153822869,
          444.61251245026864,
          445.9158884808782,
          446.9116584147699,
          448.3292364144627,
          449.29279057445757,
          451.8278510457089,
          455.66098160370285,
          460.8338100976262,
          464.4996378363228,
          464.95120047074033,
          459.21360803112174,
          464.50874363201837,
          459.3734634368315,
          468.8264024454423,
          468.7455754570494,
          474.4953026979019,
          472.8283077280358,
          467.0578500320096,
          458.40709481962193,
          452.0217070430518,
          451.78989550553604,
          456.316444508437,
          451.38148994231665,
          450.5838339229631,
          448.5339104173226,
          445.4513402109071,
          446.5067838712634,
          446.78603498338884,
          445.32468491125456,
          448.29584263505126,
          452.56108638968504,
          450.2962222937702,
          447.8862490270771,
          444.01051274315427,
          443.3608040568059,
          442.5632742207765,
          442.92176069266344,
          441.82092952317834,
          445.20139433642345,
          449.3578157596963,
          449.8046938717319,
          447.86727316458547,
          447.04566027727265,
          448.8882688006142,
          450.61491302848214,
          443.106659310747,
          438.55703860694217,
          434.4805768685049,
          430.9532703339349,
          430.01298644791024,
          431.2545465788547,
          431.88343944772555,
          433.3313368958007,
          434.1431505308322,
          434.4919168974734,
          431.9718800634484,
          433.20584196848057,
          433.872466895134,
          437.96687938588497,
          435.0341099284662,
          434.8507907763722,
          436.5089131511866,
          435.8041835905394,
          433.560898413722,
          435.1439492954319,
          436.88422654110326,
          435.76642743068714,
          435.3564699173774,
          434.91797148575665,
          433.77381802883883,
          431.4159488187733,
          430.63634454926756,
          430.46998057321247,
          430.0950969036459,
          430.1170856687747,
          431.0800436637685,
          432.27155558635195,
          435.5807249402642,
          436.40591676446746,
          434.4080572537278,
          434.35343661758975,
          434.913790109691,
          434.4498818948334,
          433.32610766675504,
          432.85749235491454,
          432.4832821569621,
          433.7836329289235,
          434.44386220433245,
          434.30823538292924,
          433.64579624223023,
          434.3457264068504,
          434.33349869604353,
          434.41940116030406,
          435.17250289362056,
          435.20234019387,
          436.1110305324609,
          435.6366909316918,
          435.2622909199892,
          437.12233594694493,
          438.1593652182062,
          438.8245865556321,
          438.9139172891785,
          441.6402562426392,
          442.7062870003654,
          440.31251419905107,
          440.2124812713308,
          439.02909636647564,
          437.0082668599375,
          437.6099778367963,
          437.04314731402286,
          439.3355731663749,
          443.8149359294353,
          443.18613696383653,
          447.338114066607,
          446.11029926857447,
          444.84559182106824,
          443.1244995958054,
          443.1859731561022,
          443.8783042110149,
          442.1538070802109,
          442.6387990929242,
          445.7633279007852,
          445.0257116318815,
          444.54706657390415,
          441.63321104564073,
          443.9330158476355,
          457.2844004904437,
          469.82399627787953,
          448.66631780829954,
          444.0259856759549,
          444.429672906781,
          442.082737793617,
          444.05455366738994,
          447.40460191970186,
          454.2087370399877,
          455.71761769523044,
          441.56462653996533,
          448.39168152613894,
          447.90541254482537,
          443.3469710423726,
          439.12103991431496,
          438.18983615362004,
          441.44028396152515,
          435.31445049248765,
          433.8813217917137,
          432.84799795770357,
          435.7113395909901,
          436.84234477370984,
          438.48783487413033,
          439.1365843889621,
          439.34519182350255,
          438.97990602866184,
          439.0775420225836,
          447.5716500031064,
          448.0111511409296,
          449.353686563847,
          451.25232817670144,
          453.1484718324942,
          455.15070156057646,
          456.969264261261,
          455.16492259181064,
          448.20908892720473,
          446.56925677783937,
          446.48531577063596,
          445.55814201784347,
          444.45632663154953,
          441.68863316456486,
          441.3373474779652
         ],
         "yaxis": "y"
        }
       ],
       "layout": {
        "legend": {
         "title": {
          "text": "system_name"
         },
         "tracegroupgap": 0
        },
        "template": {
         "data": {
          "bar": [
           {
            "error_x": {
             "color": "#2a3f5f"
            },
            "error_y": {
             "color": "#2a3f5f"
            },
            "marker": {
             "line": {
              "color": "#E5ECF6",
              "width": 0.5
             },
             "pattern": {
              "fillmode": "overlay",
              "size": 10,
              "solidity": 0.2
             }
            },
            "type": "bar"
           }
          ],
          "barpolar": [
           {
            "marker": {
             "line": {
              "color": "#E5ECF6",
              "width": 0.5
             },
             "pattern": {
              "fillmode": "overlay",
              "size": 10,
              "solidity": 0.2
             }
            },
            "type": "barpolar"
           }
          ],
          "carpet": [
           {
            "aaxis": {
             "endlinecolor": "#2a3f5f",
             "gridcolor": "white",
             "linecolor": "white",
             "minorgridcolor": "white",
             "startlinecolor": "#2a3f5f"
            },
            "baxis": {
             "endlinecolor": "#2a3f5f",
             "gridcolor": "white",
             "linecolor": "white",
             "minorgridcolor": "white",
             "startlinecolor": "#2a3f5f"
            },
            "type": "carpet"
           }
          ],
          "choropleth": [
           {
            "colorbar": {
             "outlinewidth": 0,
             "ticks": ""
            },
            "type": "choropleth"
           }
          ],
          "contour": [
           {
            "colorbar": {
             "outlinewidth": 0,
             "ticks": ""
            },
            "colorscale": [
             [
              0,
              "#0d0887"
             ],
             [
              0.1111111111111111,
              "#46039f"
             ],
             [
              0.2222222222222222,
              "#7201a8"
             ],
             [
              0.3333333333333333,
              "#9c179e"
             ],
             [
              0.4444444444444444,
              "#bd3786"
             ],
             [
              0.5555555555555556,
              "#d8576b"
             ],
             [
              0.6666666666666666,
              "#ed7953"
             ],
             [
              0.7777777777777778,
              "#fb9f3a"
             ],
             [
              0.8888888888888888,
              "#fdca26"
             ],
             [
              1,
              "#f0f921"
             ]
            ],
            "type": "contour"
           }
          ],
          "contourcarpet": [
           {
            "colorbar": {
             "outlinewidth": 0,
             "ticks": ""
            },
            "type": "contourcarpet"
           }
          ],
          "heatmap": [
           {
            "colorbar": {
             "outlinewidth": 0,
             "ticks": ""
            },
            "colorscale": [
             [
              0,
              "#0d0887"
             ],
             [
              0.1111111111111111,
              "#46039f"
             ],
             [
              0.2222222222222222,
              "#7201a8"
             ],
             [
              0.3333333333333333,
              "#9c179e"
             ],
             [
              0.4444444444444444,
              "#bd3786"
             ],
             [
              0.5555555555555556,
              "#d8576b"
             ],
             [
              0.6666666666666666,
              "#ed7953"
             ],
             [
              0.7777777777777778,
              "#fb9f3a"
             ],
             [
              0.8888888888888888,
              "#fdca26"
             ],
             [
              1,
              "#f0f921"
             ]
            ],
            "type": "heatmap"
           }
          ],
          "heatmapgl": [
           {
            "colorbar": {
             "outlinewidth": 0,
             "ticks": ""
            },
            "colorscale": [
             [
              0,
              "#0d0887"
             ],
             [
              0.1111111111111111,
              "#46039f"
             ],
             [
              0.2222222222222222,
              "#7201a8"
             ],
             [
              0.3333333333333333,
              "#9c179e"
             ],
             [
              0.4444444444444444,
              "#bd3786"
             ],
             [
              0.5555555555555556,
              "#d8576b"
             ],
             [
              0.6666666666666666,
              "#ed7953"
             ],
             [
              0.7777777777777778,
              "#fb9f3a"
             ],
             [
              0.8888888888888888,
              "#fdca26"
             ],
             [
              1,
              "#f0f921"
             ]
            ],
            "type": "heatmapgl"
           }
          ],
          "histogram": [
           {
            "marker": {
             "pattern": {
              "fillmode": "overlay",
              "size": 10,
              "solidity": 0.2
             }
            },
            "type": "histogram"
           }
          ],
          "histogram2d": [
           {
            "colorbar": {
             "outlinewidth": 0,
             "ticks": ""
            },
            "colorscale": [
             [
              0,
              "#0d0887"
             ],
             [
              0.1111111111111111,
              "#46039f"
             ],
             [
              0.2222222222222222,
              "#7201a8"
             ],
             [
              0.3333333333333333,
              "#9c179e"
             ],
             [
              0.4444444444444444,
              "#bd3786"
             ],
             [
              0.5555555555555556,
              "#d8576b"
             ],
             [
              0.6666666666666666,
              "#ed7953"
             ],
             [
              0.7777777777777778,
              "#fb9f3a"
             ],
             [
              0.8888888888888888,
              "#fdca26"
             ],
             [
              1,
              "#f0f921"
             ]
            ],
            "type": "histogram2d"
           }
          ],
          "histogram2dcontour": [
           {
            "colorbar": {
             "outlinewidth": 0,
             "ticks": ""
            },
            "colorscale": [
             [
              0,
              "#0d0887"
             ],
             [
              0.1111111111111111,
              "#46039f"
             ],
             [
              0.2222222222222222,
              "#7201a8"
             ],
             [
              0.3333333333333333,
              "#9c179e"
             ],
             [
              0.4444444444444444,
              "#bd3786"
             ],
             [
              0.5555555555555556,
              "#d8576b"
             ],
             [
              0.6666666666666666,
              "#ed7953"
             ],
             [
              0.7777777777777778,
              "#fb9f3a"
             ],
             [
              0.8888888888888888,
              "#fdca26"
             ],
             [
              1,
              "#f0f921"
             ]
            ],
            "type": "histogram2dcontour"
           }
          ],
          "mesh3d": [
           {
            "colorbar": {
             "outlinewidth": 0,
             "ticks": ""
            },
            "type": "mesh3d"
           }
          ],
          "parcoords": [
           {
            "line": {
             "colorbar": {
              "outlinewidth": 0,
              "ticks": ""
             }
            },
            "type": "parcoords"
           }
          ],
          "pie": [
           {
            "automargin": true,
            "type": "pie"
           }
          ],
          "scatter": [
           {
            "fillpattern": {
             "fillmode": "overlay",
             "size": 10,
             "solidity": 0.2
            },
            "type": "scatter"
           }
          ],
          "scatter3d": [
           {
            "line": {
             "colorbar": {
              "outlinewidth": 0,
              "ticks": ""
             }
            },
            "marker": {
             "colorbar": {
              "outlinewidth": 0,
              "ticks": ""
             }
            },
            "type": "scatter3d"
           }
          ],
          "scattercarpet": [
           {
            "marker": {
             "colorbar": {
              "outlinewidth": 0,
              "ticks": ""
             }
            },
            "type": "scattercarpet"
           }
          ],
          "scattergeo": [
           {
            "marker": {
             "colorbar": {
              "outlinewidth": 0,
              "ticks": ""
             }
            },
            "type": "scattergeo"
           }
          ],
          "scattergl": [
           {
            "marker": {
             "colorbar": {
              "outlinewidth": 0,
              "ticks": ""
             }
            },
            "type": "scattergl"
           }
          ],
          "scattermapbox": [
           {
            "marker": {
             "colorbar": {
              "outlinewidth": 0,
              "ticks": ""
             }
            },
            "type": "scattermapbox"
           }
          ],
          "scatterpolar": [
           {
            "marker": {
             "colorbar": {
              "outlinewidth": 0,
              "ticks": ""
             }
            },
            "type": "scatterpolar"
           }
          ],
          "scatterpolargl": [
           {
            "marker": {
             "colorbar": {
              "outlinewidth": 0,
              "ticks": ""
             }
            },
            "type": "scatterpolargl"
           }
          ],
          "scatterternary": [
           {
            "marker": {
             "colorbar": {
              "outlinewidth": 0,
              "ticks": ""
             }
            },
            "type": "scatterternary"
           }
          ],
          "surface": [
           {
            "colorbar": {
             "outlinewidth": 0,
             "ticks": ""
            },
            "colorscale": [
             [
              0,
              "#0d0887"
             ],
             [
              0.1111111111111111,
              "#46039f"
             ],
             [
              0.2222222222222222,
              "#7201a8"
             ],
             [
              0.3333333333333333,
              "#9c179e"
             ],
             [
              0.4444444444444444,
              "#bd3786"
             ],
             [
              0.5555555555555556,
              "#d8576b"
             ],
             [
              0.6666666666666666,
              "#ed7953"
             ],
             [
              0.7777777777777778,
              "#fb9f3a"
             ],
             [
              0.8888888888888888,
              "#fdca26"
             ],
             [
              1,
              "#f0f921"
             ]
            ],
            "type": "surface"
           }
          ],
          "table": [
           {
            "cells": {
             "fill": {
              "color": "#EBF0F8"
             },
             "line": {
              "color": "white"
             }
            },
            "header": {
             "fill": {
              "color": "#C8D4E3"
             },
             "line": {
              "color": "white"
             }
            },
            "type": "table"
           }
          ]
         },
         "layout": {
          "annotationdefaults": {
           "arrowcolor": "#2a3f5f",
           "arrowhead": 0,
           "arrowwidth": 1
          },
          "autotypenumbers": "strict",
          "coloraxis": {
           "colorbar": {
            "outlinewidth": 0,
            "ticks": ""
           }
          },
          "colorscale": {
           "diverging": [
            [
             0,
             "#8e0152"
            ],
            [
             0.1,
             "#c51b7d"
            ],
            [
             0.2,
             "#de77ae"
            ],
            [
             0.3,
             "#f1b6da"
            ],
            [
             0.4,
             "#fde0ef"
            ],
            [
             0.5,
             "#f7f7f7"
            ],
            [
             0.6,
             "#e6f5d0"
            ],
            [
             0.7,
             "#b8e186"
            ],
            [
             0.8,
             "#7fbc41"
            ],
            [
             0.9,
             "#4d9221"
            ],
            [
             1,
             "#276419"
            ]
           ],
           "sequential": [
            [
             0,
             "#0d0887"
            ],
            [
             0.1111111111111111,
             "#46039f"
            ],
            [
             0.2222222222222222,
             "#7201a8"
            ],
            [
             0.3333333333333333,
             "#9c179e"
            ],
            [
             0.4444444444444444,
             "#bd3786"
            ],
            [
             0.5555555555555556,
             "#d8576b"
            ],
            [
             0.6666666666666666,
             "#ed7953"
            ],
            [
             0.7777777777777778,
             "#fb9f3a"
            ],
            [
             0.8888888888888888,
             "#fdca26"
            ],
            [
             1,
             "#f0f921"
            ]
           ],
           "sequentialminus": [
            [
             0,
             "#0d0887"
            ],
            [
             0.1111111111111111,
             "#46039f"
            ],
            [
             0.2222222222222222,
             "#7201a8"
            ],
            [
             0.3333333333333333,
             "#9c179e"
            ],
            [
             0.4444444444444444,
             "#bd3786"
            ],
            [
             0.5555555555555556,
             "#d8576b"
            ],
            [
             0.6666666666666666,
             "#ed7953"
            ],
            [
             0.7777777777777778,
             "#fb9f3a"
            ],
            [
             0.8888888888888888,
             "#fdca26"
            ],
            [
             1,
             "#f0f921"
            ]
           ]
          },
          "colorway": [
           "#636efa",
           "#EF553B",
           "#00cc96",
           "#ab63fa",
           "#FFA15A",
           "#19d3f3",
           "#FF6692",
           "#B6E880",
           "#FF97FF",
           "#FECB52"
          ],
          "font": {
           "color": "#2a3f5f"
          },
          "geo": {
           "bgcolor": "white",
           "lakecolor": "white",
           "landcolor": "#E5ECF6",
           "showlakes": true,
           "showland": true,
           "subunitcolor": "white"
          },
          "hoverlabel": {
           "align": "left"
          },
          "hovermode": "closest",
          "mapbox": {
           "style": "light"
          },
          "paper_bgcolor": "white",
          "plot_bgcolor": "#E5ECF6",
          "polar": {
           "angularaxis": {
            "gridcolor": "white",
            "linecolor": "white",
            "ticks": ""
           },
           "bgcolor": "#E5ECF6",
           "radialaxis": {
            "gridcolor": "white",
            "linecolor": "white",
            "ticks": ""
           }
          },
          "scene": {
           "xaxis": {
            "backgroundcolor": "#E5ECF6",
            "gridcolor": "white",
            "gridwidth": 2,
            "linecolor": "white",
            "showbackground": true,
            "ticks": "",
            "zerolinecolor": "white"
           },
           "yaxis": {
            "backgroundcolor": "#E5ECF6",
            "gridcolor": "white",
            "gridwidth": 2,
            "linecolor": "white",
            "showbackground": true,
            "ticks": "",
            "zerolinecolor": "white"
           },
           "zaxis": {
            "backgroundcolor": "#E5ECF6",
            "gridcolor": "white",
            "gridwidth": 2,
            "linecolor": "white",
            "showbackground": true,
            "ticks": "",
            "zerolinecolor": "white"
           }
          },
          "shapedefaults": {
           "line": {
            "color": "#2a3f5f"
           }
          },
          "ternary": {
           "aaxis": {
            "gridcolor": "white",
            "linecolor": "white",
            "ticks": ""
           },
           "baxis": {
            "gridcolor": "white",
            "linecolor": "white",
            "ticks": ""
           },
           "bgcolor": "#E5ECF6",
           "caxis": {
            "gridcolor": "white",
            "linecolor": "white",
            "ticks": ""
           }
          },
          "title": {
           "x": 0.05
          },
          "xaxis": {
           "automargin": true,
           "gridcolor": "white",
           "linecolor": "white",
           "ticks": "",
           "title": {
            "standoff": 15
           },
           "zerolinecolor": "white",
           "zerolinewidth": 2
          },
          "yaxis": {
           "automargin": true,
           "gridcolor": "white",
           "linecolor": "white",
           "ticks": "",
           "title": {
            "standoff": 15
           },
           "zerolinecolor": "white",
           "zerolinewidth": 2
          }
         }
        },
        "title": {
         "text": "CO2"
        },
        "xaxis": {
         "anchor": "y",
         "domain": [
          0,
          1
         ],
         "title": {
          "text": "creation_timestamp"
         }
        },
        "yaxis": {
         "anchor": "x",
         "domain": [
          0,
          1
         ],
         "title": {
          "text": "CO2_corr"
         }
        }
       }
      }
     },
     "metadata": {},
     "output_type": "display_data"
    },
    {
     "data": {
      "application/vnd.plotly.v1+json": {
       "config": {
        "plotlyServerURL": "https://plot.ly"
       },
       "data": [
        {
         "hovertemplate": "system_name=Picarro<br>creation_timestamp=%{x}<br>diff=%{y}<extra></extra>",
         "legendgroup": "Picarro",
         "line": {
          "color": "#636efa",
          "dash": "solid"
         },
         "marker": {
          "symbol": "circle"
         },
         "mode": "markers+lines",
         "name": "Picarro",
         "showlegend": true,
         "type": "scattergl",
         "x": [
          "2023-11-17T00:00:00+00:00",
          "2023-11-17T01:00:00+00:00",
          "2023-11-17T02:00:00+00:00",
          "2023-11-17T03:00:00+00:00",
          "2023-11-17T04:00:00+00:00",
          "2023-11-17T05:00:00+00:00",
          "2023-11-17T06:00:00+00:00",
          "2023-11-17T07:00:00+00:00",
          "2023-11-17T08:00:00+00:00",
          "2023-11-17T09:00:00+00:00",
          "2023-11-17T10:00:00+00:00",
          "2023-11-17T11:00:00+00:00",
          "2023-11-17T12:00:00+00:00",
          "2023-11-17T13:00:00+00:00",
          "2023-11-17T14:00:00+00:00",
          "2023-11-17T15:00:00+00:00",
          "2023-11-17T16:00:00+00:00",
          "2023-11-17T17:00:00+00:00",
          "2023-11-17T18:00:00+00:00",
          "2023-11-17T19:00:00+00:00",
          "2023-11-17T20:00:00+00:00",
          "2023-11-17T21:00:00+00:00",
          "2023-11-17T22:00:00+00:00",
          "2023-11-17T23:00:00+00:00",
          "2023-11-18T00:00:00+00:00",
          "2023-11-18T01:00:00+00:00",
          "2023-11-18T02:00:00+00:00",
          "2023-11-18T03:00:00+00:00",
          "2023-11-18T04:00:00+00:00",
          "2023-11-18T05:00:00+00:00",
          "2023-11-18T06:00:00+00:00",
          "2023-11-18T07:00:00+00:00",
          "2023-11-18T08:00:00+00:00",
          "2023-11-18T09:00:00+00:00",
          "2023-11-18T10:00:00+00:00",
          "2023-11-18T11:00:00+00:00",
          "2023-11-18T12:00:00+00:00",
          "2023-11-18T13:00:00+00:00",
          "2023-11-18T14:00:00+00:00",
          "2023-11-18T15:00:00+00:00",
          "2023-11-18T16:00:00+00:00",
          "2023-11-18T17:00:00+00:00",
          "2023-11-18T18:00:00+00:00",
          "2023-11-18T19:00:00+00:00",
          "2023-11-18T20:00:00+00:00",
          "2023-11-18T21:00:00+00:00",
          "2023-11-18T22:00:00+00:00",
          "2023-11-18T23:00:00+00:00",
          "2023-11-19T00:00:00+00:00",
          "2023-11-19T01:00:00+00:00",
          "2023-11-19T02:00:00+00:00",
          "2023-11-19T03:00:00+00:00",
          "2023-11-19T04:00:00+00:00",
          "2023-11-19T05:00:00+00:00",
          "2023-11-19T06:00:00+00:00",
          "2023-11-19T07:00:00+00:00",
          "2023-11-19T08:00:00+00:00",
          "2023-11-19T09:00:00+00:00",
          "2023-11-19T10:00:00+00:00",
          "2023-11-19T11:00:00+00:00",
          "2023-11-19T12:00:00+00:00",
          "2023-11-19T13:00:00+00:00",
          "2023-11-19T14:00:00+00:00",
          "2023-11-19T15:00:00+00:00",
          "2023-11-19T16:00:00+00:00",
          "2023-11-19T17:00:00+00:00",
          "2023-11-19T18:00:00+00:00",
          "2023-11-19T19:00:00+00:00",
          "2023-11-19T20:00:00+00:00",
          "2023-11-19T21:00:00+00:00",
          "2023-11-19T22:00:00+00:00",
          "2023-11-19T23:00:00+00:00",
          "2023-11-20T00:00:00+00:00",
          "2023-11-20T01:00:00+00:00",
          "2023-11-20T02:00:00+00:00",
          "2023-11-20T03:00:00+00:00",
          "2023-11-20T04:00:00+00:00",
          "2023-11-20T05:00:00+00:00",
          "2023-11-20T06:00:00+00:00",
          "2023-11-20T07:00:00+00:00",
          "2023-11-20T08:00:00+00:00",
          "2023-11-20T09:00:00+00:00",
          "2023-11-20T10:00:00+00:00",
          "2023-11-20T11:00:00+00:00",
          "2023-11-20T12:00:00+00:00",
          "2023-11-20T13:00:00+00:00",
          "2023-11-20T14:00:00+00:00",
          "2023-11-20T15:00:00+00:00",
          "2023-11-20T16:00:00+00:00",
          "2023-11-20T17:00:00+00:00",
          "2023-11-20T18:00:00+00:00",
          "2023-11-20T19:00:00+00:00",
          "2023-11-20T20:00:00+00:00",
          "2023-11-20T21:00:00+00:00",
          "2023-11-20T22:00:00+00:00",
          "2023-11-20T23:00:00+00:00",
          "2023-11-21T00:00:00+00:00",
          "2023-11-21T01:00:00+00:00",
          "2023-11-21T02:00:00+00:00",
          "2023-11-21T03:00:00+00:00",
          "2023-11-21T04:00:00+00:00",
          "2023-11-21T05:00:00+00:00",
          "2023-11-21T06:00:00+00:00",
          "2023-11-21T07:00:00+00:00",
          "2023-11-21T08:00:00+00:00",
          "2023-11-21T09:00:00+00:00",
          "2023-11-21T10:00:00+00:00",
          "2023-11-21T11:00:00+00:00",
          "2023-11-21T12:00:00+00:00",
          "2023-11-21T13:00:00+00:00",
          "2023-11-21T14:00:00+00:00",
          "2023-11-21T15:00:00+00:00",
          "2023-11-21T16:00:00+00:00",
          "2023-11-21T17:00:00+00:00",
          "2023-11-21T18:00:00+00:00",
          "2023-11-21T19:00:00+00:00",
          "2023-11-21T20:00:00+00:00",
          "2023-11-21T21:00:00+00:00",
          "2023-11-21T22:00:00+00:00",
          "2023-11-21T23:00:00+00:00",
          "2023-11-22T00:00:00+00:00",
          "2023-11-22T01:00:00+00:00",
          "2023-11-22T02:00:00+00:00",
          "2023-11-22T03:00:00+00:00",
          "2023-11-22T04:00:00+00:00",
          "2023-11-22T05:00:00+00:00",
          "2023-11-22T06:00:00+00:00",
          "2023-11-22T07:00:00+00:00",
          "2023-11-22T08:00:00+00:00",
          "2023-11-22T09:00:00+00:00",
          "2023-11-22T10:00:00+00:00",
          "2023-11-22T11:00:00+00:00",
          "2023-11-22T12:00:00+00:00",
          "2023-11-22T13:00:00+00:00",
          "2023-11-22T14:00:00+00:00",
          "2023-11-22T15:00:00+00:00",
          "2023-11-22T16:00:00+00:00",
          "2023-11-22T17:00:00+00:00",
          "2023-11-22T18:00:00+00:00",
          "2023-11-22T19:00:00+00:00",
          "2023-11-22T20:00:00+00:00",
          "2023-11-22T21:00:00+00:00",
          "2023-11-22T22:00:00+00:00",
          "2023-11-22T23:00:00+00:00",
          "2023-11-23T00:00:00+00:00",
          "2023-11-23T01:00:00+00:00",
          "2023-11-23T02:00:00+00:00",
          "2023-11-23T03:00:00+00:00",
          "2023-11-23T04:00:00+00:00",
          "2023-11-23T05:00:00+00:00",
          "2023-11-23T06:00:00+00:00",
          "2023-11-23T07:00:00+00:00",
          "2023-11-23T08:00:00+00:00",
          "2023-11-23T09:00:00+00:00",
          "2023-11-23T10:00:00+00:00",
          "2023-11-23T11:00:00+00:00",
          "2023-11-23T12:00:00+00:00",
          "2023-11-23T13:00:00+00:00",
          "2023-11-23T14:00:00+00:00",
          "2023-11-23T15:00:00+00:00",
          "2023-11-23T16:00:00+00:00",
          "2023-11-23T17:00:00+00:00",
          "2023-11-23T18:00:00+00:00",
          "2023-11-23T19:00:00+00:00",
          "2023-11-23T20:00:00+00:00",
          "2023-11-23T21:00:00+00:00",
          "2023-11-23T22:00:00+00:00",
          "2023-11-23T23:00:00+00:00",
          "2023-11-24T00:00:00+00:00",
          "2023-11-24T01:00:00+00:00",
          "2023-11-24T02:00:00+00:00",
          "2023-11-24T03:00:00+00:00",
          "2023-11-24T04:00:00+00:00",
          "2023-11-24T05:00:00+00:00",
          "2023-11-24T06:00:00+00:00",
          "2023-11-24T07:00:00+00:00",
          "2023-11-24T08:00:00+00:00",
          "2023-11-24T09:00:00+00:00",
          "2023-11-24T10:00:00+00:00",
          "2023-11-24T11:00:00+00:00",
          "2023-11-24T12:00:00+00:00",
          "2023-11-24T13:00:00+00:00",
          "2023-11-24T14:00:00+00:00",
          "2023-11-24T15:00:00+00:00",
          "2023-11-24T16:00:00+00:00",
          "2023-11-24T17:00:00+00:00",
          "2023-11-24T18:00:00+00:00",
          "2023-11-24T19:00:00+00:00",
          "2023-11-24T20:00:00+00:00",
          "2023-11-24T21:00:00+00:00",
          "2023-11-24T22:00:00+00:00",
          "2023-11-24T23:00:00+00:00",
          "2023-11-25T00:00:00+00:00",
          "2023-11-25T01:00:00+00:00",
          "2023-11-25T02:00:00+00:00",
          "2023-11-25T03:00:00+00:00",
          "2023-11-25T04:00:00+00:00",
          "2023-11-25T05:00:00+00:00",
          "2023-11-25T06:00:00+00:00",
          "2023-11-25T07:00:00+00:00",
          "2023-11-25T08:00:00+00:00",
          "2023-11-25T09:00:00+00:00",
          "2023-11-25T10:00:00+00:00",
          "2023-11-25T11:00:00+00:00",
          "2023-11-25T12:00:00+00:00",
          "2023-11-25T13:00:00+00:00",
          "2023-11-25T14:00:00+00:00",
          "2023-11-25T15:00:00+00:00",
          "2023-11-25T16:00:00+00:00",
          "2023-11-25T17:00:00+00:00",
          "2023-11-25T18:00:00+00:00",
          "2023-11-25T19:00:00+00:00",
          "2023-11-25T20:00:00+00:00",
          "2023-11-25T21:00:00+00:00",
          "2023-11-25T22:00:00+00:00",
          "2023-11-25T23:00:00+00:00",
          "2023-11-26T00:00:00+00:00",
          "2023-11-26T01:00:00+00:00",
          "2023-11-26T02:00:00+00:00",
          "2023-11-26T03:00:00+00:00",
          "2023-11-26T04:00:00+00:00",
          "2023-11-26T05:00:00+00:00",
          "2023-11-26T06:00:00+00:00",
          "2023-11-26T07:00:00+00:00",
          "2023-11-26T08:00:00+00:00",
          "2023-11-26T09:00:00+00:00",
          "2023-11-26T10:00:00+00:00",
          "2023-11-26T11:00:00+00:00",
          "2023-11-26T12:00:00+00:00",
          "2023-11-26T13:00:00+00:00",
          "2023-11-26T14:00:00+00:00",
          "2023-11-26T15:00:00+00:00",
          "2023-11-26T16:00:00+00:00",
          "2023-11-26T17:00:00+00:00",
          "2023-11-26T18:00:00+00:00",
          "2023-11-26T19:00:00+00:00",
          "2023-11-26T20:00:00+00:00",
          "2023-11-26T21:00:00+00:00",
          "2023-11-26T22:00:00+00:00",
          "2023-11-26T23:00:00+00:00"
         ],
         "xaxis": "x",
         "y": [
          0,
          0,
          0,
          0,
          0,
          0,
          0,
          0,
          0,
          0,
          0,
          0,
          0,
          0,
          0,
          0,
          0,
          0,
          0,
          0,
          0,
          0,
          0,
          0,
          0,
          0,
          0,
          0,
          0,
          0,
          0,
          0,
          0,
          0,
          0,
          0,
          0,
          0,
          0,
          0,
          0,
          0,
          0,
          0,
          0,
          0,
          0,
          0,
          0,
          0,
          0,
          0,
          0,
          0,
          0,
          0,
          0,
          0,
          0,
          0,
          0,
          0,
          0,
          0,
          0,
          0,
          0,
          0,
          0,
          0,
          0,
          0,
          0,
          0,
          0,
          0,
          0,
          0,
          0,
          0,
          0,
          0,
          0,
          0,
          0,
          0,
          0,
          0,
          0,
          0,
          0,
          0,
          0,
          0,
          0,
          0,
          0,
          0,
          0,
          0,
          0,
          0,
          0,
          0,
          0,
          0,
          0,
          0,
          0,
          0,
          0,
          0,
          0,
          0,
          0,
          0,
          0,
          0,
          0,
          0,
          0,
          0,
          0,
          0,
          0,
          0,
          0,
          0,
          0,
          0,
          0,
          0,
          0,
          0,
          0,
          0,
          0,
          0,
          0,
          0,
          0,
          0,
          0,
          0,
          0,
          0,
          0,
          0,
          0,
          0,
          0,
          0,
          0,
          0,
          0,
          0,
          0,
          0,
          0,
          0,
          0,
          0,
          0,
          0,
          0,
          0,
          0,
          0,
          0,
          0,
          0,
          0,
          0,
          0,
          0,
          0,
          0,
          0,
          0,
          0,
          0,
          0,
          0,
          0,
          0,
          0,
          0,
          0,
          0,
          0,
          0,
          0,
          0,
          0,
          0,
          0,
          0,
          0,
          0,
          0,
          0,
          0,
          0,
          0,
          0,
          0,
          0,
          0,
          0,
          0,
          0,
          0,
          0,
          0,
          0,
          0,
          0,
          0,
          0,
          0,
          0,
          0,
          0,
          0,
          0,
          0,
          0,
          0,
          0,
          0,
          0,
          0,
          0,
          0,
          0,
          0,
          0,
          0,
          0,
          0
         ],
         "yaxis": "y"
        },
        {
         "hovertemplate": "system_name=tum-esm-midcost-raspi-6<br>creation_timestamp=%{x}<br>diff=%{y}<extra></extra>",
         "legendgroup": "tum-esm-midcost-raspi-6",
         "line": {
          "color": "#EF553B",
          "dash": "solid"
         },
         "marker": {
          "symbol": "circle"
         },
         "mode": "markers+lines",
         "name": "tum-esm-midcost-raspi-6",
         "showlegend": true,
         "type": "scattergl",
         "x": [
          "2023-11-17T00:00:00+00:00",
          "2023-11-17T01:00:00+00:00",
          "2023-11-17T02:00:00+00:00",
          "2023-11-17T03:00:00+00:00",
          "2023-11-17T04:00:00+00:00",
          "2023-11-17T05:00:00+00:00",
          "2023-11-17T06:00:00+00:00",
          "2023-11-17T07:00:00+00:00",
          "2023-11-17T08:00:00+00:00",
          "2023-11-17T09:00:00+00:00",
          "2023-11-17T10:00:00+00:00",
          "2023-11-17T11:00:00+00:00",
          "2023-11-17T12:00:00+00:00",
          "2023-11-17T13:00:00+00:00",
          "2023-11-17T14:00:00+00:00",
          "2023-11-17T15:00:00+00:00",
          "2023-11-17T16:00:00+00:00",
          "2023-11-17T17:00:00+00:00",
          "2023-11-17T18:00:00+00:00",
          "2023-11-17T19:00:00+00:00",
          "2023-11-17T20:00:00+00:00",
          "2023-11-17T21:00:00+00:00",
          "2023-11-17T22:00:00+00:00",
          "2023-11-17T23:00:00+00:00",
          "2023-11-18T00:00:00+00:00",
          "2023-11-18T01:00:00+00:00",
          "2023-11-18T02:00:00+00:00",
          "2023-11-18T03:00:00+00:00",
          "2023-11-18T04:00:00+00:00",
          "2023-11-18T05:00:00+00:00",
          "2023-11-18T06:00:00+00:00",
          "2023-11-18T07:00:00+00:00",
          "2023-11-18T08:00:00+00:00",
          "2023-11-18T09:00:00+00:00",
          "2023-11-18T10:00:00+00:00",
          "2023-11-18T11:00:00+00:00",
          "2023-11-18T12:00:00+00:00",
          "2023-11-18T13:00:00+00:00",
          "2023-11-18T14:00:00+00:00",
          "2023-11-18T15:00:00+00:00",
          "2023-11-18T16:00:00+00:00",
          "2023-11-18T17:00:00+00:00",
          "2023-11-18T18:00:00+00:00",
          "2023-11-18T19:00:00+00:00",
          "2023-11-18T20:00:00+00:00",
          "2023-11-18T21:00:00+00:00",
          "2023-11-18T22:00:00+00:00",
          "2023-11-18T23:00:00+00:00",
          "2023-11-19T00:00:00+00:00",
          "2023-11-19T01:00:00+00:00",
          "2023-11-19T02:00:00+00:00",
          "2023-11-19T03:00:00+00:00",
          "2023-11-19T04:00:00+00:00",
          "2023-11-19T05:00:00+00:00",
          "2023-11-19T06:00:00+00:00",
          "2023-11-19T07:00:00+00:00",
          "2023-11-19T08:00:00+00:00",
          "2023-11-19T09:00:00+00:00",
          "2023-11-19T10:00:00+00:00",
          "2023-11-19T11:00:00+00:00",
          "2023-11-19T12:00:00+00:00",
          "2023-11-19T13:00:00+00:00",
          "2023-11-19T14:00:00+00:00",
          "2023-11-19T15:00:00+00:00",
          "2023-11-19T16:00:00+00:00",
          "2023-11-19T17:00:00+00:00",
          "2023-11-19T18:00:00+00:00",
          "2023-11-19T19:00:00+00:00",
          "2023-11-19T20:00:00+00:00",
          "2023-11-19T21:00:00+00:00",
          "2023-11-19T22:00:00+00:00",
          "2023-11-19T23:00:00+00:00",
          "2023-11-20T00:00:00+00:00",
          "2023-11-20T01:00:00+00:00",
          "2023-11-20T02:00:00+00:00",
          "2023-11-20T03:00:00+00:00",
          "2023-11-20T04:00:00+00:00",
          "2023-11-20T05:00:00+00:00",
          "2023-11-20T06:00:00+00:00",
          "2023-11-20T07:00:00+00:00",
          "2023-11-20T08:00:00+00:00",
          "2023-11-20T09:00:00+00:00",
          "2023-11-20T10:00:00+00:00",
          "2023-11-20T11:00:00+00:00",
          "2023-11-20T12:00:00+00:00",
          "2023-11-20T13:00:00+00:00",
          "2023-11-20T14:00:00+00:00",
          "2023-11-20T15:00:00+00:00",
          "2023-11-20T16:00:00+00:00",
          "2023-11-20T17:00:00+00:00",
          "2023-11-20T18:00:00+00:00",
          "2023-11-20T19:00:00+00:00",
          "2023-11-20T20:00:00+00:00",
          "2023-11-20T21:00:00+00:00",
          "2023-11-20T22:00:00+00:00",
          "2023-11-20T23:00:00+00:00",
          "2023-11-21T00:00:00+00:00",
          "2023-11-21T01:00:00+00:00",
          "2023-11-21T02:00:00+00:00",
          "2023-11-21T03:00:00+00:00",
          "2023-11-21T04:00:00+00:00",
          "2023-11-21T05:00:00+00:00",
          "2023-11-21T06:00:00+00:00",
          "2023-11-21T07:00:00+00:00",
          "2023-11-21T08:00:00+00:00",
          "2023-11-21T09:00:00+00:00",
          "2023-11-21T10:00:00+00:00",
          "2023-11-21T11:00:00+00:00",
          "2023-11-21T12:00:00+00:00",
          "2023-11-21T13:00:00+00:00",
          "2023-11-21T14:00:00+00:00",
          "2023-11-21T15:00:00+00:00",
          "2023-11-21T16:00:00+00:00",
          "2023-11-21T17:00:00+00:00",
          "2023-11-21T18:00:00+00:00",
          "2023-11-21T19:00:00+00:00",
          "2023-11-21T20:00:00+00:00",
          "2023-11-21T21:00:00+00:00",
          "2023-11-21T22:00:00+00:00",
          "2023-11-21T23:00:00+00:00",
          "2023-11-22T00:00:00+00:00",
          "2023-11-22T01:00:00+00:00",
          "2023-11-22T02:00:00+00:00",
          "2023-11-22T03:00:00+00:00",
          "2023-11-22T04:00:00+00:00",
          "2023-11-22T05:00:00+00:00",
          "2023-11-22T06:00:00+00:00",
          "2023-11-22T07:00:00+00:00",
          "2023-11-22T08:00:00+00:00",
          "2023-11-22T09:00:00+00:00",
          "2023-11-22T10:00:00+00:00",
          "2023-11-22T11:00:00+00:00",
          "2023-11-22T12:00:00+00:00",
          "2023-11-22T13:00:00+00:00",
          "2023-11-22T14:00:00+00:00",
          "2023-11-22T15:00:00+00:00",
          "2023-11-22T16:00:00+00:00",
          "2023-11-22T17:00:00+00:00",
          "2023-11-22T18:00:00+00:00",
          "2023-11-22T19:00:00+00:00",
          "2023-11-22T20:00:00+00:00",
          "2023-11-22T21:00:00+00:00",
          "2023-11-22T22:00:00+00:00",
          "2023-11-22T23:00:00+00:00",
          "2023-11-23T00:00:00+00:00",
          "2023-11-23T01:00:00+00:00",
          "2023-11-23T02:00:00+00:00",
          "2023-11-23T03:00:00+00:00",
          "2023-11-23T04:00:00+00:00",
          "2023-11-23T05:00:00+00:00",
          "2023-11-23T06:00:00+00:00",
          "2023-11-23T07:00:00+00:00",
          "2023-11-23T08:00:00+00:00",
          "2023-11-23T09:00:00+00:00",
          "2023-11-23T10:00:00+00:00",
          "2023-11-23T11:00:00+00:00",
          "2023-11-23T12:00:00+00:00",
          "2023-11-23T13:00:00+00:00",
          "2023-11-23T14:00:00+00:00",
          "2023-11-23T15:00:00+00:00",
          "2023-11-23T16:00:00+00:00",
          "2023-11-23T17:00:00+00:00",
          "2023-11-23T18:00:00+00:00",
          "2023-11-23T19:00:00+00:00",
          "2023-11-23T20:00:00+00:00",
          "2023-11-23T21:00:00+00:00",
          "2023-11-23T22:00:00+00:00",
          "2023-11-23T23:00:00+00:00",
          "2023-11-24T00:00:00+00:00",
          "2023-11-24T01:00:00+00:00",
          "2023-11-24T02:00:00+00:00",
          "2023-11-24T03:00:00+00:00",
          "2023-11-24T04:00:00+00:00",
          "2023-11-24T05:00:00+00:00",
          "2023-11-24T06:00:00+00:00",
          "2023-11-24T07:00:00+00:00",
          "2023-11-24T08:00:00+00:00",
          "2023-11-24T09:00:00+00:00",
          "2023-11-24T10:00:00+00:00",
          "2023-11-24T11:00:00+00:00",
          "2023-11-24T12:00:00+00:00",
          "2023-11-24T13:00:00+00:00",
          "2023-11-24T14:00:00+00:00",
          "2023-11-24T15:00:00+00:00",
          "2023-11-24T16:00:00+00:00",
          "2023-11-24T17:00:00+00:00",
          "2023-11-24T18:00:00+00:00",
          "2023-11-24T19:00:00+00:00",
          "2023-11-24T20:00:00+00:00",
          "2023-11-24T21:00:00+00:00",
          "2023-11-24T22:00:00+00:00",
          "2023-11-24T23:00:00+00:00",
          "2023-11-25T00:00:00+00:00",
          "2023-11-25T01:00:00+00:00",
          "2023-11-25T02:00:00+00:00",
          "2023-11-25T03:00:00+00:00",
          "2023-11-25T04:00:00+00:00",
          "2023-11-25T05:00:00+00:00",
          "2023-11-25T06:00:00+00:00",
          "2023-11-25T07:00:00+00:00",
          "2023-11-25T08:00:00+00:00",
          "2023-11-25T09:00:00+00:00",
          "2023-11-25T10:00:00+00:00",
          "2023-11-25T11:00:00+00:00",
          "2023-11-25T12:00:00+00:00",
          "2023-11-25T13:00:00+00:00",
          "2023-11-25T14:00:00+00:00",
          "2023-11-25T15:00:00+00:00",
          "2023-11-25T16:00:00+00:00",
          "2023-11-25T17:00:00+00:00",
          "2023-11-25T18:00:00+00:00",
          "2023-11-25T19:00:00+00:00",
          "2023-11-25T20:00:00+00:00",
          "2023-11-25T21:00:00+00:00",
          "2023-11-25T22:00:00+00:00",
          "2023-11-25T23:00:00+00:00",
          "2023-11-26T00:00:00+00:00",
          "2023-11-26T01:00:00+00:00",
          "2023-11-26T02:00:00+00:00",
          "2023-11-26T03:00:00+00:00",
          "2023-11-26T04:00:00+00:00",
          "2023-11-26T05:00:00+00:00",
          "2023-11-26T06:00:00+00:00",
          "2023-11-26T07:00:00+00:00",
          "2023-11-26T08:00:00+00:00",
          "2023-11-26T09:00:00+00:00",
          "2023-11-26T10:00:00+00:00",
          "2023-11-26T11:00:00+00:00",
          "2023-11-26T12:00:00+00:00",
          "2023-11-26T13:00:00+00:00",
          "2023-11-26T14:00:00+00:00",
          "2023-11-26T15:00:00+00:00",
          "2023-11-26T16:00:00+00:00",
          "2023-11-26T17:00:00+00:00",
          "2023-11-26T18:00:00+00:00",
          "2023-11-26T19:00:00+00:00",
          "2023-11-26T20:00:00+00:00",
          "2023-11-26T21:00:00+00:00",
          "2023-11-26T22:00:00+00:00",
          "2023-11-26T23:00:00+00:00",
          "2023-11-27T00:00:00+00:00",
          "2023-11-27T01:00:00+00:00",
          "2023-11-27T02:00:00+00:00",
          "2023-11-27T03:00:00+00:00",
          "2023-11-27T04:00:00+00:00",
          "2023-11-27T05:00:00+00:00",
          "2023-11-27T06:00:00+00:00",
          "2023-11-27T07:00:00+00:00",
          "2023-11-27T08:00:00+00:00",
          "2023-11-27T09:00:00+00:00",
          "2023-11-27T10:00:00+00:00",
          "2023-11-27T11:00:00+00:00",
          "2023-11-27T12:00:00+00:00",
          "2023-11-27T13:00:00+00:00",
          "2023-11-27T14:00:00+00:00",
          "2023-11-27T15:00:00+00:00",
          "2023-11-27T16:00:00+00:00",
          "2023-11-27T17:00:00+00:00",
          "2023-11-27T18:00:00+00:00",
          "2023-11-27T19:00:00+00:00",
          "2023-11-27T20:00:00+00:00",
          "2023-11-27T21:00:00+00:00",
          "2023-11-27T22:00:00+00:00",
          "2023-11-27T23:00:00+00:00",
          "2023-11-28T00:00:00+00:00",
          "2023-11-28T01:00:00+00:00",
          "2023-11-28T02:00:00+00:00",
          "2023-11-28T03:00:00+00:00",
          "2023-11-28T04:00:00+00:00",
          "2023-11-28T05:00:00+00:00",
          "2023-11-28T06:00:00+00:00",
          "2023-11-28T07:00:00+00:00",
          "2023-11-28T08:00:00+00:00",
          "2023-11-28T09:00:00+00:00",
          "2023-11-28T10:00:00+00:00",
          "2023-11-28T11:00:00+00:00",
          "2023-11-28T12:00:00+00:00",
          "2023-11-28T13:00:00+00:00",
          "2023-11-28T14:00:00+00:00",
          "2023-11-28T15:00:00+00:00",
          "2023-11-28T16:00:00+00:00",
          "2023-11-28T17:00:00+00:00",
          "2023-11-28T18:00:00+00:00",
          "2023-11-28T19:00:00+00:00",
          "2023-11-28T20:00:00+00:00",
          "2023-11-28T21:00:00+00:00",
          "2023-11-28T22:00:00+00:00",
          "2023-11-28T23:00:00+00:00",
          "2023-11-29T00:00:00+00:00"
         ],
         "xaxis": "x",
         "y": [
          -0.17448644236145583,
          -1.2774911972833252,
          -1.9159101128375369,
          -2.945033984056465,
          -2.5890464832805833,
          -3.6067701186056524,
          -2.1152923541750397,
          -2.2799402468812104,
          -1.7680660286891907,
          0.6152221843300367,
          -0.6767521663384173,
          0.9422999376131997,
          -0.18772340364921547,
          1.2814990518662626,
          -1.1461788527960266,
          -3.2998118564643732,
          -1.5994428692108613,
          -1.752516854862904,
          -2.074514475782223,
          -2.0180444781697133,
          -1.7126999534943366,
          -1.0408899370902418,
          -0.8002509784826088,
          -1.8779081607082162,
          -0.5950190168420022,
          -1.483749909570406,
          -1.8007356449360827,
          -1.8659468465431246,
          -1.8741949104179412,
          -1.7739154678821478,
          -1.9439209648636506,
          -2.1733711985834816,
          -1.4560171120667746,
          0.07895900180716353,
          -1.8135952713224128,
          -2.8848632884353833,
          -1.9270220513133722,
          -2.579170429362023,
          -1.852279248639718,
          -2.5819636209046735,
          -2.02941771645402,
          -3.7092820042016115,
          -0.04180475327342492,
          -0.7623735923954769,
          -2.3274509942829127,
          -1.9476155933198243,
          -1.756591580031909,
          -2.1034451929509714,
          -2.7502672271861,
          -2.559064717148658,
          -4.174914995710367,
          2.4847989390249836,
          -0.47549220426338934,
          -1.5614324469873964,
          -1.6847480428814379,
          -1.7667026266336165,
          -1.5172103021723728,
          -1.6700075625024056,
          -1.2927548453302506,
          -1.486538089223302,
          -1.8528017517656394,
          -2.090380027016238,
          -1.5935683194300054,
          -2.004120181463179,
          -1.596915931202318,
          -2.0210470683171025,
          -2.016705221275231,
          -1.2734597970779191,
          -1.386358418015618,
          -1.4919756673362485,
          -1.6649873077278698,
          -1.4716956177506972,
          -1.970100135370501,
          -2.3433300927504774,
          -2.191392758706627,
          -0.005301319065154075,
          -1.7398500310652025,
          -2.0076589077697804,
          -2.010894246963801,
          -1.742325767706177,
          -0.8943639280472553,
          -1.271704025221652,
          -1.1635869235801692,
          -0.6559625428321851,
          -0.9188498354178591,
          -0.9995830784349096,
          0.2995969022085774,
          -0.726260516542311,
          -3.216344893722294,
          -0.37772414383312025,
          -4.268704428752017,
          -2.2331295992522655,
          0.20197297436578765,
          -0.9231347824989484,
          0.6850122673112082,
          -0.4961050503414981,
          -1.084406621462847,
          -2.1903061781839597,
          -0.6383031580531906,
          -1.747159213742691,
          -0.6964639971404836,
          -2.179746750543245,
          -1.795694987366005,
          -1.7649823230299262,
          -1.2382695181541976,
          -1.690061461314599,
          2.284726394206075,
          3.4635665975388292,
          5.692059041938933,
          5.088047832548625,
          7.951257316295482,
          10.53557515938968,
          19.249852236697166,
          7.260635354465876,
          6.045212534982113,
          0.6186971772856964,
          1.966603966955347,
          0.8916335090040093,
          0.02272769873496827,
          0.2603114222268914,
          -0.4704219679921948,
          -0.3306782321792525,
          -1.7565771089244322,
          -1.3966440407265281,
          -1.4133866659704495,
          -2.286576916599074,
          -1.3523780386845488,
          -3.0669722728942475,
          -5.919078549311735,
          1.524878543729983,
          8.439275858170049,
          14.653731688904713,
          13.69390645949295,
          9.089358637675332,
          15.782681731409582,
          16.98901314891191,
          5.897364719365271,
          4.746613385626915,
          1.2725780139078893,
          3.11403481723039,
          3.458421809466472,
          -0.16990986954886012,
          1.1624051829129485,
          2.3376193826115923,
          -0.08438046010519429,
          0.5941190762991937,
          0.025084434445659554,
          -1.6033048597471975,
          0.1151979002465282,
          -0.861721251622555,
          -1.8974164313553388,
          -1.6420549051060789,
          -1.2255019142394303,
          0.34757228973677456,
          -0.39761522760824164,
          -0.7314151764622352,
          1.2879192375588104,
          3.39064732750478,
          1.2643149115565393,
          -0.996893730460954,
          -1.2640026084390001,
          0.20432796007736442,
          -0.26413230041822544,
          -1.2348816165597896,
          -1.0800579433622488,
          -0.9410896104351423,
          -0.07567690616133405,
          -0.1182383490639154,
          -0.012582145430997116,
          -0.9022076438470776,
          -1.5828329957498681,
          -1.4488456923064064,
          -1.3929329577825342,
          -1.514497849737893,
          -1.631343887359094,
          -0.4378709513467811,
          -0.851287542992452,
          0.14650411335816216,
          0.33111861762148465,
          -0.36707631851498945,
          1.9476080152990676,
          1.8074278027710307,
          2.55423269271796,
          1.770917880043612,
          0.23762937601969725,
          -0.8535881539472143,
          -0.17078534114250488,
          -1.173745186812198,
          -0.8984989886179733,
          -1.1083031293218255,
          -1.436354008136675,
          -0.9802951273843519,
          -1.156522337737897,
          -1.1980705633202433,
          -2.146905242273931,
          -2.7704120435323603,
          -2.819518650427483,
          -3.5037129545964945,
          -2.6486819865419875,
          -2.255041165706416,
          -2.1313378127054534,
          -1.6720919046265408,
          -2.1715076805529634,
          -1.4753361357271615,
          -1.3685379792577237,
          -2.008959384460752,
          -1.5613390510209229,
          -1.8186621331851143,
          -1.8224329502065189,
          -1.1830803848925484,
          -1.4703001620749774,
          -1.7198843891689535,
          -1.6409469310476652,
          -1.6539333729089094,
          -0.9271441246832524,
          -2.0027614221101544,
          -2.071875046103571,
          -2.047600822126242,
          -1.6642418517071178,
          -2.602251585921806,
          -1.5541126559280087,
          -1.8346102241468998,
          -1.0899375116487704,
          -2.0486125390551138,
          -1.5146871649607192,
          -0.8079419077261605,
          -1.0811586306315917,
          -1.4633418136818364,
          -1.3326723589321432,
          -1.5038419496195274,
          -1.3937258748017598,
          -2.2155243468736217,
          -2.363691608777856,
          -0.9992208439684873,
          -2.8653134132924265,
          0.33664042975937036,
          -1.4481904286200802,
          -1.2030336632238914,
          -0.8510889835444573,
          -1.601722223418335,
          null,
          null,
          null,
          null,
          null,
          null,
          null,
          null,
          null,
          null,
          null,
          null,
          null,
          null,
          null,
          null,
          null,
          null,
          null,
          null,
          null,
          null,
          null,
          null,
          null,
          null,
          null,
          null,
          null,
          null,
          null,
          null,
          null,
          null,
          null,
          null,
          null,
          null,
          null,
          null,
          null,
          null,
          null,
          null,
          null,
          null,
          null,
          null,
          null
         ],
         "yaxis": "y"
        },
        {
         "hovertemplate": "system_name=tum-esm-midcost-raspi-11<br>creation_timestamp=%{x}<br>diff=%{y}<extra></extra>",
         "legendgroup": "tum-esm-midcost-raspi-11",
         "line": {
          "color": "#00cc96",
          "dash": "solid"
         },
         "marker": {
          "symbol": "circle"
         },
         "mode": "markers+lines",
         "name": "tum-esm-midcost-raspi-11",
         "showlegend": true,
         "type": "scattergl",
         "x": [
          "2023-11-17T00:00:00+00:00",
          "2023-11-17T01:00:00+00:00",
          "2023-11-17T02:00:00+00:00",
          "2023-11-17T03:00:00+00:00",
          "2023-11-17T04:00:00+00:00",
          "2023-11-17T05:00:00+00:00",
          "2023-11-17T06:00:00+00:00",
          "2023-11-17T07:00:00+00:00",
          "2023-11-17T08:00:00+00:00",
          "2023-11-17T09:00:00+00:00",
          "2023-11-17T10:00:00+00:00",
          "2023-11-17T11:00:00+00:00",
          "2023-11-17T12:00:00+00:00",
          "2023-11-17T13:00:00+00:00",
          "2023-11-17T14:00:00+00:00",
          "2023-11-17T15:00:00+00:00",
          "2023-11-17T16:00:00+00:00",
          "2023-11-17T17:00:00+00:00",
          "2023-11-17T18:00:00+00:00",
          "2023-11-17T19:00:00+00:00",
          "2023-11-17T20:00:00+00:00",
          "2023-11-17T21:00:00+00:00",
          "2023-11-17T22:00:00+00:00",
          "2023-11-17T23:00:00+00:00",
          "2023-11-18T00:00:00+00:00",
          "2023-11-18T01:00:00+00:00",
          "2023-11-18T02:00:00+00:00",
          "2023-11-18T03:00:00+00:00",
          "2023-11-18T04:00:00+00:00",
          "2023-11-18T05:00:00+00:00",
          "2023-11-18T06:00:00+00:00",
          "2023-11-18T07:00:00+00:00",
          "2023-11-18T08:00:00+00:00",
          "2023-11-18T09:00:00+00:00",
          "2023-11-18T10:00:00+00:00",
          "2023-11-18T11:00:00+00:00",
          "2023-11-18T12:00:00+00:00",
          "2023-11-18T13:00:00+00:00",
          "2023-11-18T14:00:00+00:00",
          "2023-11-18T15:00:00+00:00",
          "2023-11-18T16:00:00+00:00",
          "2023-11-18T17:00:00+00:00",
          "2023-11-18T18:00:00+00:00",
          "2023-11-18T19:00:00+00:00",
          "2023-11-18T20:00:00+00:00",
          "2023-11-18T21:00:00+00:00",
          "2023-11-18T22:00:00+00:00",
          "2023-11-18T23:00:00+00:00",
          "2023-11-19T00:00:00+00:00",
          "2023-11-19T01:00:00+00:00",
          "2023-11-19T02:00:00+00:00",
          "2023-11-19T03:00:00+00:00",
          "2023-11-19T04:00:00+00:00",
          "2023-11-19T05:00:00+00:00",
          "2023-11-19T06:00:00+00:00",
          "2023-11-19T07:00:00+00:00",
          "2023-11-19T08:00:00+00:00",
          "2023-11-19T09:00:00+00:00",
          "2023-11-19T10:00:00+00:00",
          "2023-11-19T11:00:00+00:00",
          "2023-11-19T12:00:00+00:00",
          "2023-11-19T13:00:00+00:00",
          "2023-11-19T14:00:00+00:00",
          "2023-11-19T15:00:00+00:00",
          "2023-11-19T16:00:00+00:00",
          "2023-11-19T17:00:00+00:00",
          "2023-11-19T18:00:00+00:00",
          "2023-11-19T19:00:00+00:00",
          "2023-11-19T20:00:00+00:00",
          "2023-11-19T21:00:00+00:00",
          "2023-11-19T22:00:00+00:00",
          "2023-11-19T23:00:00+00:00",
          "2023-11-20T00:00:00+00:00",
          "2023-11-20T01:00:00+00:00",
          "2023-11-20T02:00:00+00:00",
          "2023-11-20T03:00:00+00:00",
          "2023-11-20T04:00:00+00:00",
          "2023-11-20T05:00:00+00:00",
          "2023-11-20T06:00:00+00:00",
          "2023-11-20T07:00:00+00:00",
          "2023-11-20T08:00:00+00:00",
          "2023-11-20T09:00:00+00:00",
          "2023-11-20T10:00:00+00:00",
          "2023-11-20T11:00:00+00:00",
          "2023-11-20T12:00:00+00:00",
          "2023-11-20T13:00:00+00:00",
          "2023-11-20T14:00:00+00:00",
          "2023-11-20T15:00:00+00:00",
          "2023-11-20T16:00:00+00:00",
          "2023-11-20T17:00:00+00:00",
          "2023-11-20T18:00:00+00:00",
          "2023-11-20T19:00:00+00:00",
          "2023-11-20T20:00:00+00:00",
          "2023-11-20T21:00:00+00:00",
          "2023-11-20T22:00:00+00:00",
          "2023-11-20T23:00:00+00:00",
          "2023-11-21T00:00:00+00:00",
          "2023-11-21T01:00:00+00:00",
          "2023-11-21T02:00:00+00:00",
          "2023-11-21T03:00:00+00:00",
          "2023-11-21T04:00:00+00:00",
          "2023-11-21T05:00:00+00:00",
          "2023-11-21T06:00:00+00:00",
          "2023-11-21T07:00:00+00:00",
          "2023-11-21T08:00:00+00:00",
          "2023-11-21T09:00:00+00:00",
          "2023-11-21T10:00:00+00:00",
          "2023-11-21T11:00:00+00:00",
          "2023-11-21T12:00:00+00:00",
          "2023-11-21T13:00:00+00:00",
          "2023-11-21T14:00:00+00:00",
          "2023-11-21T15:00:00+00:00",
          "2023-11-21T16:00:00+00:00",
          "2023-11-21T17:00:00+00:00",
          "2023-11-21T18:00:00+00:00",
          "2023-11-21T19:00:00+00:00",
          "2023-11-21T20:00:00+00:00",
          "2023-11-21T21:00:00+00:00",
          "2023-11-21T22:00:00+00:00",
          "2023-11-21T23:00:00+00:00",
          "2023-11-22T00:00:00+00:00",
          "2023-11-22T01:00:00+00:00",
          "2023-11-22T02:00:00+00:00",
          "2023-11-22T03:00:00+00:00",
          "2023-11-22T04:00:00+00:00",
          "2023-11-22T05:00:00+00:00",
          "2023-11-22T06:00:00+00:00",
          "2023-11-22T07:00:00+00:00",
          "2023-11-22T08:00:00+00:00",
          "2023-11-22T09:00:00+00:00",
          "2023-11-22T10:00:00+00:00",
          "2023-11-22T11:00:00+00:00",
          "2023-11-22T12:00:00+00:00",
          "2023-11-22T13:00:00+00:00",
          "2023-11-22T14:00:00+00:00",
          "2023-11-22T15:00:00+00:00",
          "2023-11-22T16:00:00+00:00",
          "2023-11-22T17:00:00+00:00",
          "2023-11-22T18:00:00+00:00",
          "2023-11-22T19:00:00+00:00",
          "2023-11-22T20:00:00+00:00",
          "2023-11-22T21:00:00+00:00",
          "2023-11-22T22:00:00+00:00",
          "2023-11-22T23:00:00+00:00",
          "2023-11-23T00:00:00+00:00",
          "2023-11-23T01:00:00+00:00",
          "2023-11-23T02:00:00+00:00",
          "2023-11-23T03:00:00+00:00",
          "2023-11-23T04:00:00+00:00",
          "2023-11-23T05:00:00+00:00",
          "2023-11-23T06:00:00+00:00",
          "2023-11-23T07:00:00+00:00",
          "2023-11-23T08:00:00+00:00",
          "2023-11-23T09:00:00+00:00",
          "2023-11-23T10:00:00+00:00",
          "2023-11-23T11:00:00+00:00",
          "2023-11-23T12:00:00+00:00",
          "2023-11-23T13:00:00+00:00",
          "2023-11-23T14:00:00+00:00",
          "2023-11-23T15:00:00+00:00",
          "2023-11-23T16:00:00+00:00",
          "2023-11-23T17:00:00+00:00",
          "2023-11-23T18:00:00+00:00",
          "2023-11-23T19:00:00+00:00",
          "2023-11-23T20:00:00+00:00",
          "2023-11-23T21:00:00+00:00",
          "2023-11-23T22:00:00+00:00",
          "2023-11-23T23:00:00+00:00",
          "2023-11-24T00:00:00+00:00",
          "2023-11-24T01:00:00+00:00",
          "2023-11-24T02:00:00+00:00",
          "2023-11-24T03:00:00+00:00",
          "2023-11-24T04:00:00+00:00",
          "2023-11-24T05:00:00+00:00",
          "2023-11-24T06:00:00+00:00",
          "2023-11-24T07:00:00+00:00",
          "2023-11-24T08:00:00+00:00",
          "2023-11-24T09:00:00+00:00",
          "2023-11-24T10:00:00+00:00",
          "2023-11-24T11:00:00+00:00",
          "2023-11-24T12:00:00+00:00",
          "2023-11-24T13:00:00+00:00",
          "2023-11-24T14:00:00+00:00",
          "2023-11-24T15:00:00+00:00",
          "2023-11-24T16:00:00+00:00",
          "2023-11-24T17:00:00+00:00",
          "2023-11-24T18:00:00+00:00",
          "2023-11-24T19:00:00+00:00",
          "2023-11-24T20:00:00+00:00",
          "2023-11-24T21:00:00+00:00",
          "2023-11-24T22:00:00+00:00",
          "2023-11-24T23:00:00+00:00",
          "2023-11-25T00:00:00+00:00",
          "2023-11-25T01:00:00+00:00",
          "2023-11-25T02:00:00+00:00",
          "2023-11-25T03:00:00+00:00",
          "2023-11-25T04:00:00+00:00",
          "2023-11-25T05:00:00+00:00",
          "2023-11-25T06:00:00+00:00",
          "2023-11-25T07:00:00+00:00",
          "2023-11-25T08:00:00+00:00",
          "2023-11-25T09:00:00+00:00",
          "2023-11-25T10:00:00+00:00",
          "2023-11-25T11:00:00+00:00",
          "2023-11-25T12:00:00+00:00",
          "2023-11-25T13:00:00+00:00",
          "2023-11-25T14:00:00+00:00",
          "2023-11-25T15:00:00+00:00",
          "2023-11-25T16:00:00+00:00",
          "2023-11-25T17:00:00+00:00",
          "2023-11-25T18:00:00+00:00",
          "2023-11-25T19:00:00+00:00",
          "2023-11-25T20:00:00+00:00",
          "2023-11-25T21:00:00+00:00",
          "2023-11-25T22:00:00+00:00",
          "2023-11-25T23:00:00+00:00",
          "2023-11-26T00:00:00+00:00",
          "2023-11-26T01:00:00+00:00",
          "2023-11-26T02:00:00+00:00",
          "2023-11-26T03:00:00+00:00",
          "2023-11-26T04:00:00+00:00",
          "2023-11-26T05:00:00+00:00",
          "2023-11-26T06:00:00+00:00",
          "2023-11-26T07:00:00+00:00",
          "2023-11-26T08:00:00+00:00",
          "2023-11-26T09:00:00+00:00",
          "2023-11-26T10:00:00+00:00",
          "2023-11-26T11:00:00+00:00",
          "2023-11-26T12:00:00+00:00",
          "2023-11-26T13:00:00+00:00",
          "2023-11-26T14:00:00+00:00",
          "2023-11-26T15:00:00+00:00",
          "2023-11-26T16:00:00+00:00",
          "2023-11-26T17:00:00+00:00",
          "2023-11-26T18:00:00+00:00",
          "2023-11-26T19:00:00+00:00",
          "2023-11-26T20:00:00+00:00",
          "2023-11-26T21:00:00+00:00",
          "2023-11-26T22:00:00+00:00",
          "2023-11-26T23:00:00+00:00",
          "2023-11-27T00:00:00+00:00",
          "2023-11-27T01:00:00+00:00",
          "2023-11-27T02:00:00+00:00",
          "2023-11-27T03:00:00+00:00",
          "2023-11-27T04:00:00+00:00",
          "2023-11-27T05:00:00+00:00",
          "2023-11-27T06:00:00+00:00",
          "2023-11-27T07:00:00+00:00",
          "2023-11-27T08:00:00+00:00",
          "2023-11-27T09:00:00+00:00",
          "2023-11-27T10:00:00+00:00",
          "2023-11-27T11:00:00+00:00",
          "2023-11-27T12:00:00+00:00",
          "2023-11-27T13:00:00+00:00",
          "2023-11-27T14:00:00+00:00",
          "2023-11-27T15:00:00+00:00",
          "2023-11-27T16:00:00+00:00",
          "2023-11-27T17:00:00+00:00",
          "2023-11-27T18:00:00+00:00",
          "2023-11-27T19:00:00+00:00",
          "2023-11-27T20:00:00+00:00",
          "2023-11-27T21:00:00+00:00",
          "2023-11-27T22:00:00+00:00",
          "2023-11-27T23:00:00+00:00",
          "2023-11-28T00:00:00+00:00",
          "2023-11-28T01:00:00+00:00",
          "2023-11-28T02:00:00+00:00",
          "2023-11-28T03:00:00+00:00",
          "2023-11-28T04:00:00+00:00",
          "2023-11-28T05:00:00+00:00",
          "2023-11-28T06:00:00+00:00",
          "2023-11-28T07:00:00+00:00",
          "2023-11-28T08:00:00+00:00",
          "2023-11-28T09:00:00+00:00",
          "2023-11-28T10:00:00+00:00",
          "2023-11-28T11:00:00+00:00",
          "2023-11-28T12:00:00+00:00",
          "2023-11-28T13:00:00+00:00",
          "2023-11-28T14:00:00+00:00",
          "2023-11-28T15:00:00+00:00",
          "2023-11-28T16:00:00+00:00",
          "2023-11-28T17:00:00+00:00",
          "2023-11-28T18:00:00+00:00",
          "2023-11-28T19:00:00+00:00",
          "2023-11-28T20:00:00+00:00",
          "2023-11-28T21:00:00+00:00",
          "2023-11-28T22:00:00+00:00",
          "2023-11-28T23:00:00+00:00",
          "2023-11-29T00:00:00+00:00"
         ],
         "xaxis": "x",
         "y": [
          7.254155860417939,
          7.809054653808516,
          6.864726698975403,
          6.997803352504889,
          6.977449079241751,
          5.4082101244709975,
          5.449900141796547,
          4.46689941100442,
          3.788448868213152,
          5.330721868738067,
          4.393014962732025,
          5.4417230516147015,
          5.147595409418898,
          4.580909488705515,
          4.220289644823765,
          4.577585058203226,
          2.620128242171404,
          4.551330994770808,
          4.451320566558991,
          4.800527147259402,
          5.037255573880657,
          5.057208440256375,
          5.394769171904272,
          5.000610019567603,
          5.5015335231714175,
          5.336000663964114,
          4.983758443445993,
          5.236899838372437,
          4.740071012632939,
          5.652532317229316,
          5.343640872478659,
          5.901904586731234,
          5.875825696791765,
          7.223980618300686,
          5.962564032854402,
          5.490195259495636,
          6.41474562960525,
          6.4368304674274555,
          6.860203475985145,
          7.310224051238322,
          6.898395455010927,
          5.771206270021821,
          8.491762375479311,
          8.004563224775154,
          6.865257657893437,
          7.506630155636742,
          7.355957606475442,
          7.382453551115759,
          7.11318575880432,
          7.592256277524484,
          6.821825769798522,
          9.478254268703097,
          8.447533228054795,
          7.175299715605263,
          7.142010726444539,
          6.59528052315693,
          6.997646926563505,
          7.351966935849305,
          7.644754772793931,
          7.482072705836856,
          8.11790676543967,
          8.170315479388478,
          8.65914678436792,
          8.274722699368738,
          8.633910601124967,
          8.014692193170504,
          6.973123271088241,
          8.084727900551343,
          7.178420700202366,
          7.443847408074532,
          7.294984570253973,
          7.264073542501194,
          7.091452475981669,
          8.317354711953556,
          8.574445777538983,
          9.866547833118432,
          7.51778802799214,
          6.8070252058657275,
          6.736759925198328,
          7.390349946139395,
          8.351456624855018,
          7.83561840886091,
          7.388476726490467,
          7.874149846576984,
          7.66164318140784,
          7.761504676688901,
          7.936432597464886,
          7.550185201936529,
          6.961326180619608,
          8.241809964330173,
          8.14048238407122,
          11.67373734163101,
          9.441217023129298,
          8.781468237282525,
          9.64406458481352,
          9.20378821445081,
          8.29396517947356,
          8.516192877302387,
          9.569779467330022,
          8.239720544407874,
          8.8186643853943,
          7.407989487225905,
          8.08429772580098,
          7.917643176361253,
          7.871282556353378,
          6.038237667738315,
          7.564745150100691,
          7.835175832099935,
          8.59456366908347,
          8.592136211225977,
          7.212938073554085,
          7.7704430014997,
          5.644570893774471,
          9.106901487262576,
          9.080667803489291,
          10.71865620805903,
          8.554388045588553,
          8.393409758591474,
          9.62166133146792,
          9.8055015325873,
          9.647799650853926,
          9.469960089234917,
          8.791695373579671,
          7.969262349126154,
          8.88978652941222,
          8.525207954063205,
          8.38455049711132,
          7.91311889959951,
          6.267529245861169,
          6.176400990335026,
          6.430938316332231,
          9.079185195161983,
          7.1325603270599345,
          7.4302934291260385,
          7.7246430258618375,
          6.333406572062245,
          5.262170686308991,
          7.261297179368626,
          8.443376107817585,
          9.196781877980584,
          8.357094303784947,
          10.285054010525755,
          8.88909012029211,
          9.717019949627854,
          8.546312543871238,
          8.88510171711232,
          8.378335424452814,
          6.659414079704618,
          7.883145913356486,
          6.709221971449722,
          6.528622847231645,
          6.857706266356502,
          6.5460118491236585,
          6.967281515221259,
          6.474123235427726,
          7.023317447027807,
          6.575641499141568,
          8.13266288833995,
          8.312141790622263,
          7.776075213982381,
          6.474634812731267,
          7.6439704371828725,
          6.5685865513823956,
          6.7889238191871755,
          6.116035556116344,
          7.8101625801887735,
          6.541933875182849,
          6.808201080079812,
          6.7784065291941715,
          6.987616193636711,
          6.4582787454970685,
          6.567198958367044,
          6.809759287056465,
          7.09532982724653,
          7.012051700301072,
          8.016270355908375,
          9.062676161685715,
          8.415410300066014,
          7.20369553386837,
          7.320056095253278,
          8.948272009863842,
          8.893799100638773,
          9.195855187306222,
          9.630090267614548,
          8.905644178627028,
          8.843579576949878,
          8.996369205561393,
          8.691914516051725,
          8.390959649026513,
          7.564373403079685,
          6.8421180794161955,
          7.0575271603836995,
          6.895519497043836,
          6.729274306958871,
          8.787323187515597,
          9.957461379456618,
          9.972908217660631,
          9.823825523966264,
          9.33042959881601,
          8.355155713281079,
          7.888473800015674,
          7.38788665590846,
          7.283466673411397,
          7.06014940569662,
          7.050383629328564,
          7.056225272961683,
          6.799372057866776,
          6.1879567477694195,
          6.3079419469789855,
          6.161736739635899,
          6.257298355318085,
          6.608290195704399,
          6.628816643716789,
          7.645617768734326,
          8.375494198332774,
          8.962385006884972,
          10.225103870742885,
          10.745403518592639,
          10.891167812136871,
          10.558156159207499,
          9.933499850395549,
          9.515681271629433,
          8.926915915242319,
          8.487332863316226,
          8.799790053589959,
          10.040714476595554,
          9.911938698993367,
          10.177167685802033,
          10.106924510190026,
          9.972112658947992,
          10.145278120382955,
          9.961163978457648,
          9.825252500859676,
          9.931725078284046,
          9.635986839693146,
          10.823215967620115,
          10.425020738200601,
          10.41733793324903,
          10.767775538638602,
          10.746849641803578,
          null,
          null,
          null,
          null,
          null,
          null,
          null,
          null,
          null,
          null,
          null,
          null,
          null,
          null,
          null,
          null,
          null,
          null,
          null,
          null,
          null,
          null,
          null,
          null,
          null,
          null,
          null,
          null,
          null,
          null,
          null,
          null,
          null,
          null,
          null,
          null,
          null,
          null,
          null,
          null,
          null,
          null,
          null,
          null,
          null,
          null,
          null,
          null,
          null
         ],
         "yaxis": "y"
        },
        {
         "hovertemplate": "system_name=tum-esm-midcost-raspi-12<br>creation_timestamp=%{x}<br>diff=%{y}<extra></extra>",
         "legendgroup": "tum-esm-midcost-raspi-12",
         "line": {
          "color": "#ab63fa",
          "dash": "solid"
         },
         "marker": {
          "symbol": "circle"
         },
         "mode": "markers+lines",
         "name": "tum-esm-midcost-raspi-12",
         "showlegend": true,
         "type": "scattergl",
         "x": [
          "2023-11-17T00:00:00+00:00",
          "2023-11-17T01:00:00+00:00",
          "2023-11-17T02:00:00+00:00",
          "2023-11-17T03:00:00+00:00",
          "2023-11-17T04:00:00+00:00",
          "2023-11-17T05:00:00+00:00",
          "2023-11-17T06:00:00+00:00",
          "2023-11-17T07:00:00+00:00",
          "2023-11-17T08:00:00+00:00",
          "2023-11-17T09:00:00+00:00",
          "2023-11-17T10:00:00+00:00",
          "2023-11-17T11:00:00+00:00",
          "2023-11-17T12:00:00+00:00",
          "2023-11-17T13:00:00+00:00",
          "2023-11-17T14:00:00+00:00",
          "2023-11-17T15:00:00+00:00",
          "2023-11-17T16:00:00+00:00",
          "2023-11-17T17:00:00+00:00",
          "2023-11-17T18:00:00+00:00",
          "2023-11-17T19:00:00+00:00",
          "2023-11-17T20:00:00+00:00",
          "2023-11-17T21:00:00+00:00",
          "2023-11-17T22:00:00+00:00",
          "2023-11-17T23:00:00+00:00",
          "2023-11-18T00:00:00+00:00",
          "2023-11-18T01:00:00+00:00",
          "2023-11-18T02:00:00+00:00",
          "2023-11-18T03:00:00+00:00",
          "2023-11-18T04:00:00+00:00",
          "2023-11-18T05:00:00+00:00",
          "2023-11-18T06:00:00+00:00",
          "2023-11-18T07:00:00+00:00",
          "2023-11-18T08:00:00+00:00",
          "2023-11-18T09:00:00+00:00",
          "2023-11-18T10:00:00+00:00",
          "2023-11-18T11:00:00+00:00",
          "2023-11-18T12:00:00+00:00",
          "2023-11-18T13:00:00+00:00",
          "2023-11-18T14:00:00+00:00",
          "2023-11-18T15:00:00+00:00",
          "2023-11-18T16:00:00+00:00",
          "2023-11-18T17:00:00+00:00",
          "2023-11-18T18:00:00+00:00",
          "2023-11-18T19:00:00+00:00",
          "2023-11-18T20:00:00+00:00",
          "2023-11-18T21:00:00+00:00",
          "2023-11-18T22:00:00+00:00",
          "2023-11-18T23:00:00+00:00",
          "2023-11-19T00:00:00+00:00",
          "2023-11-19T01:00:00+00:00",
          "2023-11-19T02:00:00+00:00",
          "2023-11-19T03:00:00+00:00",
          "2023-11-19T04:00:00+00:00",
          "2023-11-19T05:00:00+00:00",
          "2023-11-19T06:00:00+00:00",
          "2023-11-19T07:00:00+00:00",
          "2023-11-19T08:00:00+00:00",
          "2023-11-19T09:00:00+00:00",
          "2023-11-19T10:00:00+00:00",
          "2023-11-19T11:00:00+00:00",
          "2023-11-19T12:00:00+00:00",
          "2023-11-19T13:00:00+00:00",
          "2023-11-19T14:00:00+00:00",
          "2023-11-19T15:00:00+00:00",
          "2023-11-19T16:00:00+00:00",
          "2023-11-19T17:00:00+00:00",
          "2023-11-19T18:00:00+00:00",
          "2023-11-19T19:00:00+00:00",
          "2023-11-19T20:00:00+00:00",
          "2023-11-19T21:00:00+00:00",
          "2023-11-19T22:00:00+00:00",
          "2023-11-19T23:00:00+00:00",
          "2023-11-20T00:00:00+00:00",
          "2023-11-20T01:00:00+00:00",
          "2023-11-20T02:00:00+00:00",
          "2023-11-20T03:00:00+00:00",
          "2023-11-20T04:00:00+00:00",
          "2023-11-20T05:00:00+00:00",
          "2023-11-20T06:00:00+00:00",
          "2023-11-20T07:00:00+00:00",
          "2023-11-20T08:00:00+00:00",
          "2023-11-20T09:00:00+00:00",
          "2023-11-20T10:00:00+00:00",
          "2023-11-20T11:00:00+00:00",
          "2023-11-20T12:00:00+00:00",
          "2023-11-20T13:00:00+00:00",
          "2023-11-20T14:00:00+00:00",
          "2023-11-20T15:00:00+00:00",
          "2023-11-20T16:00:00+00:00",
          "2023-11-20T17:00:00+00:00",
          "2023-11-20T18:00:00+00:00",
          "2023-11-20T19:00:00+00:00",
          "2023-11-20T20:00:00+00:00",
          "2023-11-20T21:00:00+00:00",
          "2023-11-20T22:00:00+00:00",
          "2023-11-20T23:00:00+00:00",
          "2023-11-21T00:00:00+00:00",
          "2023-11-21T01:00:00+00:00",
          "2023-11-21T02:00:00+00:00",
          "2023-11-21T03:00:00+00:00",
          "2023-11-21T04:00:00+00:00",
          "2023-11-21T05:00:00+00:00",
          "2023-11-21T06:00:00+00:00",
          "2023-11-21T07:00:00+00:00",
          "2023-11-21T08:00:00+00:00",
          "2023-11-21T09:00:00+00:00",
          "2023-11-21T10:00:00+00:00",
          "2023-11-21T11:00:00+00:00",
          "2023-11-21T12:00:00+00:00",
          "2023-11-21T13:00:00+00:00",
          "2023-11-21T14:00:00+00:00",
          "2023-11-21T15:00:00+00:00",
          "2023-11-21T16:00:00+00:00",
          "2023-11-21T17:00:00+00:00",
          "2023-11-21T18:00:00+00:00",
          "2023-11-21T19:00:00+00:00",
          "2023-11-21T20:00:00+00:00",
          "2023-11-21T21:00:00+00:00",
          "2023-11-21T22:00:00+00:00",
          "2023-11-21T23:00:00+00:00",
          "2023-11-22T00:00:00+00:00",
          "2023-11-22T01:00:00+00:00",
          "2023-11-22T02:00:00+00:00",
          "2023-11-22T03:00:00+00:00",
          "2023-11-22T04:00:00+00:00",
          "2023-11-22T05:00:00+00:00",
          "2023-11-22T06:00:00+00:00",
          "2023-11-22T07:00:00+00:00",
          "2023-11-22T08:00:00+00:00",
          "2023-11-22T09:00:00+00:00",
          "2023-11-22T10:00:00+00:00",
          "2023-11-22T11:00:00+00:00",
          "2023-11-22T12:00:00+00:00",
          "2023-11-22T13:00:00+00:00",
          "2023-11-22T14:00:00+00:00",
          "2023-11-22T15:00:00+00:00",
          "2023-11-22T16:00:00+00:00",
          "2023-11-22T17:00:00+00:00",
          "2023-11-22T18:00:00+00:00",
          "2023-11-22T19:00:00+00:00",
          "2023-11-22T20:00:00+00:00",
          "2023-11-22T21:00:00+00:00",
          "2023-11-22T22:00:00+00:00",
          "2023-11-22T23:00:00+00:00",
          "2023-11-23T00:00:00+00:00",
          "2023-11-23T01:00:00+00:00",
          "2023-11-23T02:00:00+00:00",
          "2023-11-23T03:00:00+00:00",
          "2023-11-23T04:00:00+00:00",
          "2023-11-23T05:00:00+00:00",
          "2023-11-23T06:00:00+00:00",
          "2023-11-23T07:00:00+00:00",
          "2023-11-23T08:00:00+00:00",
          "2023-11-23T09:00:00+00:00",
          "2023-11-23T10:00:00+00:00",
          "2023-11-23T11:00:00+00:00",
          "2023-11-23T12:00:00+00:00",
          "2023-11-23T13:00:00+00:00",
          "2023-11-23T14:00:00+00:00",
          "2023-11-23T15:00:00+00:00",
          "2023-11-23T16:00:00+00:00",
          "2023-11-23T17:00:00+00:00",
          "2023-11-23T18:00:00+00:00",
          "2023-11-23T19:00:00+00:00",
          "2023-11-23T20:00:00+00:00",
          "2023-11-23T21:00:00+00:00",
          "2023-11-23T22:00:00+00:00",
          "2023-11-23T23:00:00+00:00",
          "2023-11-24T00:00:00+00:00",
          "2023-11-24T01:00:00+00:00",
          "2023-11-24T02:00:00+00:00",
          "2023-11-24T03:00:00+00:00",
          "2023-11-24T04:00:00+00:00",
          "2023-11-24T05:00:00+00:00",
          "2023-11-24T06:00:00+00:00",
          "2023-11-24T07:00:00+00:00",
          "2023-11-24T08:00:00+00:00",
          "2023-11-24T09:00:00+00:00",
          "2023-11-24T10:00:00+00:00",
          "2023-11-24T11:00:00+00:00",
          "2023-11-24T12:00:00+00:00",
          "2023-11-24T13:00:00+00:00",
          "2023-11-24T14:00:00+00:00",
          "2023-11-24T15:00:00+00:00",
          "2023-11-24T16:00:00+00:00",
          "2023-11-24T17:00:00+00:00",
          "2023-11-24T18:00:00+00:00",
          "2023-11-24T19:00:00+00:00",
          "2023-11-24T20:00:00+00:00",
          "2023-11-24T21:00:00+00:00",
          "2023-11-24T22:00:00+00:00",
          "2023-11-24T23:00:00+00:00",
          "2023-11-25T00:00:00+00:00",
          "2023-11-25T01:00:00+00:00",
          "2023-11-25T02:00:00+00:00",
          "2023-11-25T03:00:00+00:00",
          "2023-11-25T04:00:00+00:00",
          "2023-11-25T05:00:00+00:00",
          "2023-11-25T06:00:00+00:00",
          "2023-11-25T07:00:00+00:00",
          "2023-11-25T08:00:00+00:00",
          "2023-11-25T09:00:00+00:00",
          "2023-11-25T10:00:00+00:00",
          "2023-11-25T11:00:00+00:00",
          "2023-11-25T12:00:00+00:00",
          "2023-11-25T13:00:00+00:00",
          "2023-11-25T14:00:00+00:00",
          "2023-11-25T15:00:00+00:00",
          "2023-11-25T16:00:00+00:00",
          "2023-11-25T17:00:00+00:00",
          "2023-11-25T18:00:00+00:00",
          "2023-11-25T19:00:00+00:00",
          "2023-11-25T20:00:00+00:00",
          "2023-11-25T21:00:00+00:00",
          "2023-11-25T22:00:00+00:00",
          "2023-11-25T23:00:00+00:00",
          "2023-11-26T00:00:00+00:00",
          "2023-11-26T01:00:00+00:00",
          "2023-11-26T02:00:00+00:00",
          "2023-11-26T03:00:00+00:00",
          "2023-11-26T04:00:00+00:00",
          "2023-11-26T05:00:00+00:00",
          "2023-11-26T06:00:00+00:00",
          "2023-11-26T07:00:00+00:00",
          "2023-11-26T08:00:00+00:00",
          "2023-11-26T09:00:00+00:00",
          "2023-11-26T10:00:00+00:00",
          "2023-11-26T11:00:00+00:00",
          "2023-11-26T12:00:00+00:00",
          "2023-11-26T13:00:00+00:00",
          "2023-11-26T14:00:00+00:00",
          "2023-11-26T15:00:00+00:00",
          "2023-11-26T16:00:00+00:00",
          "2023-11-26T17:00:00+00:00",
          "2023-11-26T18:00:00+00:00",
          "2023-11-26T19:00:00+00:00",
          "2023-11-26T20:00:00+00:00",
          "2023-11-26T21:00:00+00:00",
          "2023-11-26T22:00:00+00:00",
          "2023-11-26T23:00:00+00:00",
          "2023-11-27T00:00:00+00:00",
          "2023-11-27T01:00:00+00:00",
          "2023-11-27T02:00:00+00:00",
          "2023-11-27T03:00:00+00:00",
          "2023-11-27T04:00:00+00:00",
          "2023-11-27T05:00:00+00:00",
          "2023-11-27T06:00:00+00:00",
          "2023-11-27T07:00:00+00:00",
          "2023-11-27T08:00:00+00:00",
          "2023-11-27T09:00:00+00:00",
          "2023-11-27T10:00:00+00:00",
          "2023-11-27T11:00:00+00:00",
          "2023-11-27T12:00:00+00:00",
          "2023-11-27T13:00:00+00:00",
          "2023-11-27T14:00:00+00:00",
          "2023-11-27T15:00:00+00:00",
          "2023-11-27T16:00:00+00:00",
          "2023-11-27T17:00:00+00:00",
          "2023-11-27T18:00:00+00:00",
          "2023-11-27T19:00:00+00:00",
          "2023-11-27T20:00:00+00:00",
          "2023-11-27T21:00:00+00:00",
          "2023-11-27T22:00:00+00:00",
          "2023-11-27T23:00:00+00:00",
          "2023-11-28T00:00:00+00:00",
          "2023-11-28T01:00:00+00:00",
          "2023-11-28T02:00:00+00:00",
          "2023-11-28T03:00:00+00:00",
          "2023-11-28T04:00:00+00:00",
          "2023-11-28T05:00:00+00:00",
          "2023-11-28T06:00:00+00:00",
          "2023-11-28T07:00:00+00:00",
          "2023-11-28T08:00:00+00:00",
          "2023-11-28T09:00:00+00:00",
          "2023-11-28T10:00:00+00:00",
          "2023-11-28T11:00:00+00:00",
          "2023-11-28T12:00:00+00:00",
          "2023-11-28T13:00:00+00:00",
          "2023-11-28T14:00:00+00:00",
          "2023-11-28T15:00:00+00:00",
          "2023-11-28T16:00:00+00:00",
          "2023-11-28T17:00:00+00:00",
          "2023-11-28T18:00:00+00:00",
          "2023-11-28T19:00:00+00:00",
          "2023-11-28T20:00:00+00:00",
          "2023-11-28T21:00:00+00:00",
          "2023-11-28T22:00:00+00:00",
          "2023-11-28T23:00:00+00:00",
          "2023-11-29T00:00:00+00:00"
         ],
         "xaxis": "x",
         "y": [
          9.799303008771005,
          10.769072685459378,
          9.526124282232217,
          10.016673108180612,
          10.554930524715644,
          8.731809175138835,
          9.85128822213278,
          9.832702915671291,
          9.268548346775276,
          10.185295270788743,
          9.387006714193262,
          9.840016114400157,
          9.771979076385264,
          10.748865365615131,
          9.391529915257934,
          9.459610732260728,
          8.606362978272955,
          10.22851701069095,
          9.733344494523351,
          9.580913539931203,
          9.56005147062433,
          9.814026855060092,
          10.047729064347891,
          9.618459507320495,
          10.72644464937406,
          10.342162018657689,
          10.027773403257356,
          10.046271101835657,
          9.60862019511535,
          9.917272120455891,
          10.343290883873294,
          10.2664810107986,
          10.326876940894408,
          12.26539663057963,
          10.135627906685329,
          10.117635277116847,
          11.04900387123223,
          10.743921837733524,
          11.202252346956357,
          11.146926937402952,
          11.316288480786966,
          8.87190500525378,
          11.570106783581082,
          11.895527970616797,
          10.912024588420081,
          10.919689518351504,
          11.227920248806242,
          10.948798003254865,
          10.628216869041466,
          10.355390621182892,
          10.220626814418836,
          12.398291130973746,
          11.809095979465951,
          11.654155244105652,
          11.059885271873327,
          11.081198706769726,
          11.04885577317009,
          11.183721927368254,
          11.783383668090323,
          11.36068163880168,
          10.81612393851509,
          10.71956178703806,
          11.185337617238417,
          11.62106561654781,
          11.762835198555251,
          12.175915146739499,
          10.925288481489133,
          11.346877251609442,
          11.366570771729641,
          11.86454838949237,
          11.323371400474002,
          11.782143762899182,
          11.643772852085647,
          11.398656123719434,
          11.6892065453996,
          12.677552932043284,
          11.682325097541934,
          11.612025205839132,
          11.63443770893258,
          11.561096540340145,
          12.532696635148852,
          12.132302704365543,
          11.946500288286586,
          12.606027086708195,
          12.497980031392444,
          12.118643954330992,
          11.945655425091957,
          11.842010279947544,
          10.65575081446741,
          12.637090265239294,
          11.334057272585596,
          13.864674188830975,
          11.624671214104296,
          11.653136781920182,
          13.75777536054619,
          13.052139307801554,
          12.033369896758074,
          11.147391030534038,
          12.627017020201777,
          11.66182815091139,
          12.319468144951657,
          11.55330024395306,
          11.672938286412773,
          12.012644455899931,
          12.968846926210745,
          10.349048798067315,
          11.021893447510877,
          11.232988002261436,
          12.363266136883738,
          12.398742013788251,
          11.779197748215495,
          11.98365905744896,
          10.630108431832184,
          12.583557600400411,
          12.922487890691968,
          13.921909834333007,
          12.186046990054365,
          11.946894962399597,
          12.802010163809996,
          12.764091190102022,
          12.646924380459382,
          12.710263438399636,
          12.453323116835747,
          12.442469430463348,
          13.03035467096845,
          11.886301649243592,
          12.31281651447432,
          12.00602873670698,
          11.705972607889123,
          12.919744223267514,
          12.802104409635206,
          14.494465645227251,
          12.529472694433593,
          12.450729927033876,
          13.097421173760381,
          12.261810118219103,
          11.108987269018144,
          13.637548025717024,
          13.511118245118723,
          14.634072020632459,
          13.211747768864257,
          13.666386022404765,
          12.808401808445694,
          13.704606809760264,
          12.715848611450156,
          13.495641249619837,
          13.256091734914264,
          12.48366164801513,
          13.132325301415676,
          12.788329258497185,
          12.275380247732414,
          12.946908215958956,
          12.426770005156584,
          14.24088173478782,
          13.15041678732672,
          13.24918731595443,
          12.538097603475933,
          13.101193462920548,
          13.291631182205663,
          13.439724915383977,
          12.223370669359895,
          14.065395007978225,
          13.260306652117322,
          12.546143802528547,
          12.572112579788836,
          13.029199759876747,
          13.350682860360223,
          13.922837419843688,
          14.214352389398357,
          13.946605009778523,
          13.707567679084036,
          13.924715228792934,
          13.748542165898584,
          13.78488163572132,
          13.698417908435147,
          14.294793301412312,
          13.497048029896234,
          14.270262147628955,
          13.91977836664131,
          13.045113055834918,
          13.733992644240516,
          13.649040877222262,
          14.091327731669708,
          13.749002182428,
          13.609256260999246,
          13.168747340407151,
          14.004393100649907,
          13.767387001651855,
          14.16359607479302,
          13.876158308953961,
          14.021397260558274,
          13.839015751067905,
          14.01997050262554,
          14.048368799349191,
          14.032499988457744,
          13.938094249650362,
          14.053546660490213,
          14.140329944829375,
          13.842632413599631,
          14.162061824647424,
          14.015767094521209,
          14.190531023049743,
          14.348172588025818,
          14.26423439343489,
          14.091139205382035,
          14.736387074664151,
          14.867538968326642,
          13.91108033260349,
          14.044874488410017,
          13.718623792323456,
          14.297830165170808,
          14.42076237178162,
          14.54888618431545,
          13.955550878896133,
          14.390387048436821,
          14.428707802062547,
          14.262391007722897,
          14.459091694712583,
          14.58597786754973,
          14.20595525519525,
          14.519900177095735,
          14.187974115812835,
          14.463293562669435,
          14.1341849163868,
          14.161789623672234,
          15.093548606143827,
          14.705825038253693,
          14.771387243152901,
          14.98199039434229,
          14.490864977373178,
          14.659000721454447,
          14.591272467499493,
          14.215966296179147,
          14.740066388136881,
          14.265782362775496,
          15.122161206790338,
          14.722614146911383,
          14.94200940533625,
          14.999545184386875,
          14.718723353464895,
          null,
          null,
          null,
          null,
          null,
          null,
          null,
          null,
          null,
          null,
          null,
          null,
          null,
          null,
          null,
          null,
          null,
          null,
          null,
          null,
          null,
          null,
          null,
          null,
          null,
          null,
          null,
          null,
          null,
          null,
          null,
          null,
          null,
          null,
          null,
          null,
          null,
          null,
          null,
          null,
          null,
          null,
          null,
          null,
          null,
          null,
          null,
          null,
          null
         ],
         "yaxis": "y"
        },
        {
         "hovertemplate": "system_name=tum-esm-midcost-raspi-13<br>creation_timestamp=%{x}<br>diff=%{y}<extra></extra>",
         "legendgroup": "tum-esm-midcost-raspi-13",
         "line": {
          "color": "#FFA15A",
          "dash": "solid"
         },
         "marker": {
          "symbol": "circle"
         },
         "mode": "markers+lines",
         "name": "tum-esm-midcost-raspi-13",
         "showlegend": true,
         "type": "scattergl",
         "x": [
          "2023-11-17T00:00:00+00:00",
          "2023-11-17T01:00:00+00:00",
          "2023-11-17T02:00:00+00:00",
          "2023-11-17T03:00:00+00:00",
          "2023-11-17T04:00:00+00:00",
          "2023-11-17T05:00:00+00:00",
          "2023-11-17T06:00:00+00:00",
          "2023-11-17T07:00:00+00:00",
          "2023-11-17T08:00:00+00:00",
          "2023-11-17T09:00:00+00:00",
          "2023-11-17T10:00:00+00:00",
          "2023-11-17T11:00:00+00:00",
          "2023-11-17T12:00:00+00:00",
          "2023-11-17T13:00:00+00:00",
          "2023-11-17T14:00:00+00:00",
          "2023-11-17T15:00:00+00:00",
          "2023-11-17T16:00:00+00:00",
          "2023-11-17T17:00:00+00:00",
          "2023-11-17T18:00:00+00:00",
          "2023-11-17T19:00:00+00:00",
          "2023-11-17T20:00:00+00:00",
          "2023-11-17T21:00:00+00:00",
          "2023-11-17T22:00:00+00:00",
          "2023-11-17T23:00:00+00:00",
          "2023-11-18T00:00:00+00:00",
          "2023-11-18T01:00:00+00:00",
          "2023-11-18T02:00:00+00:00",
          "2023-11-18T03:00:00+00:00",
          "2023-11-18T04:00:00+00:00",
          "2023-11-18T05:00:00+00:00",
          "2023-11-18T06:00:00+00:00",
          "2023-11-18T07:00:00+00:00",
          "2023-11-18T08:00:00+00:00",
          "2023-11-18T09:00:00+00:00",
          "2023-11-18T10:00:00+00:00",
          "2023-11-18T11:00:00+00:00",
          "2023-11-18T12:00:00+00:00",
          "2023-11-18T13:00:00+00:00",
          "2023-11-18T14:00:00+00:00",
          "2023-11-18T15:00:00+00:00",
          "2023-11-18T16:00:00+00:00",
          "2023-11-18T17:00:00+00:00",
          "2023-11-18T18:00:00+00:00",
          "2023-11-18T19:00:00+00:00",
          "2023-11-18T20:00:00+00:00",
          "2023-11-18T21:00:00+00:00",
          "2023-11-18T22:00:00+00:00",
          "2023-11-18T23:00:00+00:00",
          "2023-11-19T00:00:00+00:00",
          "2023-11-19T01:00:00+00:00",
          "2023-11-19T02:00:00+00:00",
          "2023-11-19T03:00:00+00:00",
          "2023-11-19T04:00:00+00:00",
          "2023-11-19T05:00:00+00:00",
          "2023-11-19T06:00:00+00:00",
          "2023-11-19T07:00:00+00:00",
          "2023-11-19T08:00:00+00:00",
          "2023-11-19T09:00:00+00:00",
          "2023-11-19T10:00:00+00:00",
          "2023-11-19T11:00:00+00:00",
          "2023-11-19T12:00:00+00:00",
          "2023-11-19T13:00:00+00:00",
          "2023-11-19T14:00:00+00:00",
          "2023-11-19T15:00:00+00:00",
          "2023-11-19T16:00:00+00:00",
          "2023-11-19T17:00:00+00:00",
          "2023-11-19T18:00:00+00:00",
          "2023-11-19T19:00:00+00:00",
          "2023-11-19T20:00:00+00:00",
          "2023-11-19T21:00:00+00:00",
          "2023-11-19T22:00:00+00:00",
          "2023-11-19T23:00:00+00:00",
          "2023-11-20T00:00:00+00:00",
          "2023-11-20T01:00:00+00:00",
          "2023-11-20T02:00:00+00:00",
          "2023-11-20T03:00:00+00:00",
          "2023-11-20T04:00:00+00:00",
          "2023-11-20T05:00:00+00:00",
          "2023-11-20T06:00:00+00:00",
          "2023-11-20T07:00:00+00:00",
          "2023-11-20T08:00:00+00:00",
          "2023-11-20T09:00:00+00:00",
          "2023-11-20T10:00:00+00:00",
          "2023-11-20T11:00:00+00:00",
          "2023-11-20T12:00:00+00:00",
          "2023-11-20T13:00:00+00:00",
          "2023-11-20T14:00:00+00:00",
          "2023-11-20T15:00:00+00:00",
          "2023-11-20T16:00:00+00:00",
          "2023-11-20T17:00:00+00:00",
          "2023-11-20T18:00:00+00:00",
          "2023-11-20T19:00:00+00:00",
          "2023-11-20T20:00:00+00:00",
          "2023-11-20T21:00:00+00:00",
          "2023-11-20T22:00:00+00:00",
          "2023-11-20T23:00:00+00:00",
          "2023-11-21T00:00:00+00:00",
          "2023-11-21T01:00:00+00:00",
          "2023-11-21T02:00:00+00:00",
          "2023-11-21T03:00:00+00:00",
          "2023-11-21T04:00:00+00:00",
          "2023-11-21T05:00:00+00:00",
          "2023-11-21T06:00:00+00:00",
          "2023-11-21T07:00:00+00:00",
          "2023-11-21T08:00:00+00:00",
          "2023-11-21T09:00:00+00:00",
          "2023-11-21T10:00:00+00:00",
          "2023-11-21T11:00:00+00:00",
          "2023-11-21T12:00:00+00:00",
          "2023-11-21T13:00:00+00:00",
          "2023-11-21T14:00:00+00:00",
          "2023-11-21T15:00:00+00:00",
          "2023-11-21T16:00:00+00:00",
          "2023-11-21T17:00:00+00:00",
          "2023-11-21T18:00:00+00:00",
          "2023-11-21T19:00:00+00:00",
          "2023-11-21T20:00:00+00:00",
          "2023-11-21T21:00:00+00:00",
          "2023-11-21T22:00:00+00:00",
          "2023-11-21T23:00:00+00:00",
          "2023-11-22T00:00:00+00:00",
          "2023-11-22T01:00:00+00:00",
          "2023-11-22T02:00:00+00:00",
          "2023-11-22T03:00:00+00:00",
          "2023-11-22T04:00:00+00:00",
          "2023-11-22T05:00:00+00:00",
          "2023-11-22T06:00:00+00:00",
          "2023-11-22T07:00:00+00:00",
          "2023-11-22T08:00:00+00:00",
          "2023-11-22T09:00:00+00:00",
          "2023-11-22T10:00:00+00:00",
          "2023-11-22T11:00:00+00:00",
          "2023-11-22T12:00:00+00:00",
          "2023-11-22T13:00:00+00:00",
          "2023-11-22T14:00:00+00:00",
          "2023-11-22T15:00:00+00:00",
          "2023-11-22T16:00:00+00:00",
          "2023-11-22T17:00:00+00:00",
          "2023-11-22T18:00:00+00:00",
          "2023-11-22T19:00:00+00:00",
          "2023-11-22T20:00:00+00:00",
          "2023-11-22T21:00:00+00:00",
          "2023-11-22T22:00:00+00:00",
          "2023-11-22T23:00:00+00:00",
          "2023-11-23T00:00:00+00:00",
          "2023-11-23T01:00:00+00:00",
          "2023-11-23T02:00:00+00:00",
          "2023-11-23T03:00:00+00:00",
          "2023-11-23T04:00:00+00:00",
          "2023-11-23T05:00:00+00:00",
          "2023-11-23T06:00:00+00:00",
          "2023-11-23T07:00:00+00:00",
          "2023-11-23T08:00:00+00:00",
          "2023-11-23T09:00:00+00:00",
          "2023-11-23T10:00:00+00:00",
          "2023-11-23T11:00:00+00:00",
          "2023-11-23T12:00:00+00:00",
          "2023-11-23T13:00:00+00:00",
          "2023-11-23T14:00:00+00:00",
          "2023-11-23T15:00:00+00:00",
          "2023-11-23T16:00:00+00:00",
          "2023-11-23T17:00:00+00:00",
          "2023-11-23T18:00:00+00:00",
          "2023-11-23T19:00:00+00:00",
          "2023-11-23T20:00:00+00:00",
          "2023-11-23T21:00:00+00:00",
          "2023-11-23T22:00:00+00:00",
          "2023-11-23T23:00:00+00:00",
          "2023-11-24T00:00:00+00:00",
          "2023-11-24T01:00:00+00:00",
          "2023-11-24T02:00:00+00:00",
          "2023-11-24T03:00:00+00:00",
          "2023-11-24T04:00:00+00:00",
          "2023-11-24T05:00:00+00:00",
          "2023-11-24T06:00:00+00:00",
          "2023-11-24T07:00:00+00:00",
          "2023-11-24T08:00:00+00:00",
          "2023-11-24T09:00:00+00:00",
          "2023-11-24T10:00:00+00:00",
          "2023-11-24T11:00:00+00:00",
          "2023-11-24T12:00:00+00:00",
          "2023-11-24T13:00:00+00:00",
          "2023-11-24T14:00:00+00:00",
          "2023-11-24T15:00:00+00:00",
          "2023-11-24T16:00:00+00:00",
          "2023-11-24T17:00:00+00:00",
          "2023-11-24T18:00:00+00:00",
          "2023-11-24T19:00:00+00:00",
          "2023-11-24T20:00:00+00:00",
          "2023-11-24T21:00:00+00:00",
          "2023-11-24T22:00:00+00:00",
          "2023-11-24T23:00:00+00:00",
          "2023-11-25T00:00:00+00:00",
          "2023-11-25T01:00:00+00:00",
          "2023-11-25T02:00:00+00:00",
          "2023-11-25T03:00:00+00:00",
          "2023-11-25T04:00:00+00:00",
          "2023-11-25T05:00:00+00:00",
          "2023-11-25T06:00:00+00:00",
          "2023-11-25T07:00:00+00:00",
          "2023-11-25T08:00:00+00:00",
          "2023-11-25T09:00:00+00:00",
          "2023-11-25T10:00:00+00:00",
          "2023-11-25T11:00:00+00:00",
          "2023-11-25T12:00:00+00:00",
          "2023-11-25T13:00:00+00:00",
          "2023-11-25T14:00:00+00:00",
          "2023-11-25T15:00:00+00:00",
          "2023-11-25T16:00:00+00:00",
          "2023-11-25T17:00:00+00:00",
          "2023-11-25T18:00:00+00:00",
          "2023-11-25T19:00:00+00:00",
          "2023-11-25T20:00:00+00:00",
          "2023-11-25T21:00:00+00:00",
          "2023-11-25T22:00:00+00:00",
          "2023-11-25T23:00:00+00:00",
          "2023-11-26T00:00:00+00:00",
          "2023-11-26T01:00:00+00:00",
          "2023-11-26T02:00:00+00:00",
          "2023-11-26T03:00:00+00:00",
          "2023-11-26T04:00:00+00:00",
          "2023-11-26T05:00:00+00:00",
          "2023-11-26T06:00:00+00:00",
          "2023-11-26T07:00:00+00:00",
          "2023-11-26T08:00:00+00:00",
          "2023-11-26T09:00:00+00:00",
          "2023-11-26T10:00:00+00:00",
          "2023-11-26T11:00:00+00:00",
          "2023-11-26T12:00:00+00:00",
          "2023-11-26T13:00:00+00:00",
          "2023-11-26T14:00:00+00:00",
          "2023-11-26T15:00:00+00:00",
          "2023-11-26T16:00:00+00:00",
          "2023-11-26T17:00:00+00:00",
          "2023-11-26T18:00:00+00:00",
          "2023-11-26T19:00:00+00:00",
          "2023-11-26T20:00:00+00:00",
          "2023-11-26T21:00:00+00:00",
          "2023-11-26T22:00:00+00:00",
          "2023-11-26T23:00:00+00:00",
          "2023-11-27T00:00:00+00:00",
          "2023-11-27T01:00:00+00:00",
          "2023-11-27T02:00:00+00:00",
          "2023-11-27T03:00:00+00:00",
          "2023-11-27T04:00:00+00:00",
          "2023-11-27T05:00:00+00:00",
          "2023-11-27T06:00:00+00:00",
          "2023-11-27T07:00:00+00:00",
          "2023-11-27T08:00:00+00:00",
          "2023-11-27T09:00:00+00:00",
          "2023-11-27T10:00:00+00:00",
          "2023-11-27T11:00:00+00:00",
          "2023-11-27T12:00:00+00:00",
          "2023-11-27T13:00:00+00:00",
          "2023-11-27T14:00:00+00:00",
          "2023-11-27T15:00:00+00:00",
          "2023-11-27T16:00:00+00:00",
          "2023-11-27T17:00:00+00:00",
          "2023-11-27T18:00:00+00:00",
          "2023-11-27T19:00:00+00:00",
          "2023-11-27T20:00:00+00:00",
          "2023-11-27T21:00:00+00:00",
          "2023-11-27T22:00:00+00:00",
          "2023-11-27T23:00:00+00:00",
          "2023-11-28T00:00:00+00:00",
          "2023-11-28T01:00:00+00:00",
          "2023-11-28T02:00:00+00:00",
          "2023-11-28T03:00:00+00:00",
          "2023-11-28T04:00:00+00:00",
          "2023-11-28T05:00:00+00:00",
          "2023-11-28T06:00:00+00:00",
          "2023-11-28T07:00:00+00:00",
          "2023-11-28T08:00:00+00:00",
          "2023-11-28T09:00:00+00:00",
          "2023-11-28T10:00:00+00:00",
          "2023-11-28T11:00:00+00:00",
          "2023-11-28T12:00:00+00:00",
          "2023-11-28T13:00:00+00:00",
          "2023-11-28T14:00:00+00:00",
          "2023-11-28T15:00:00+00:00",
          "2023-11-28T16:00:00+00:00",
          "2023-11-28T17:00:00+00:00",
          "2023-11-28T18:00:00+00:00",
          "2023-11-28T19:00:00+00:00",
          "2023-11-28T20:00:00+00:00",
          "2023-11-28T21:00:00+00:00",
          "2023-11-28T22:00:00+00:00",
          "2023-11-28T23:00:00+00:00",
          "2023-11-29T00:00:00+00:00"
         ],
         "xaxis": "x",
         "y": [
          0.3399373362519782,
          0.7488512874421644,
          -0.5288478424353684,
          -1.7050640086074509,
          -1.2956931848032696,
          -2.664166524924042,
          -1.8434299776910166,
          -1.5690829174066607,
          -2.2252999307769414,
          -1.3633600817614138,
          -1.8042063742759638,
          -1.4019673072063483,
          -0.9594459175680186,
          -0.8271447956616385,
          -1.203097588134483,
          -1.1133129961273198,
          -2.314386540360829,
          -0.5428430937257644,
          -0.7199861547029514,
          -1.4237268331073665,
          -1.4028000629602957,
          -1.574055719407852,
          -1.0629209491877418,
          -1.4457427303410668,
          -0.8056599377413818,
          -1.4168397288746064,
          -2.0917558220577916,
          -1.7476116406332949,
          -1.8898961700047607,
          -1.9534940911099739,
          -1.5301325026831023,
          -1.1864359558812225,
          -0.653893205246618,
          0.6611364496785654,
          -0.4135038980313652,
          -1.0038044493639973,
          -0.6919637186050522,
          -0.5135045244203411,
          -0.407377377021362,
          -0.14020140065196074,
          -0.3274898875333747,
          -1.997018854280725,
          0.8545483507915606,
          0.7605387128270991,
          -0.2491754558131447,
          -0.14669598095935044,
          -0.3931018551044758,
          -0.5120061139811583,
          -0.2099786200218432,
          -0.29508617132444215,
          -0.34212143564877806,
          2.105128374291155,
          1.2589436273667616,
          0.8202510642384482,
          0.8593549221830017,
          1.055562684669212,
          0.5182318333827993,
          0.7831754184626902,
          1.0393547840197925,
          1.0246489435806438,
          0.8738514463415186,
          0.8940272701059371,
          1.1092893653437272,
          0.8943431219208833,
          1.1990073137157538,
          1.1876329208903371,
          0.31146441357236654,
          0.6034658329376725,
          0.9922046463350966,
          0.8741573960153346,
          0.9023879118571472,
          0.7885643213066373,
          0.7704090067646234,
          0.5344020563485969,
          0.9797008679994406,
          1.6257827472956592,
          0.8500325042542158,
          0.5467884545618631,
          0.7094192161418391,
          0.9468262844270612,
          1.680118070627941,
          0.7909363771283893,
          0.6049266681012568,
          0.8977458321053291,
          0.8696184231817483,
          0.5874780650415801,
          0.878913764013987,
          0.6396977292219503,
          -0.14202278095524434,
          1.5573087456443773,
          0.5385281816029988,
          2.5099730524052575,
          1.2548256358906542,
          1.1066899468595466,
          1.9612114186906524,
          1.1351742515606134,
          1.2266588729223145,
          0.7448123837166349,
          1.71675443328445,
          0.955532710858563,
          1.5360574434370733,
          0.6262443785191749,
          1.081522375821919,
          0.888559720087926,
          0.9235150942549808,
          -1.0088803123503567,
          0.08283474223770781,
          -0.14265659370744288,
          0.8862937388248042,
          0.6499181838855179,
          -0.3083302813886917,
          -0.24675955649973957,
          -2.4059981518078644,
          0.9021851136937471,
          1.0525557612701277,
          2.175366289476244,
          2.075732081993806,
          0.5545099948510028,
          1.1304126013117752,
          1.4156097663874334,
          0.9293877861483679,
          0.912532096101188,
          0.8188200451037915,
          0.37373183933993914,
          0.18545809501637223,
          -0.7760886209160844,
          -0.625342721338825,
          -1.3705559664495013,
          -2.279343060181759,
          -2.342752410337596,
          -2.219492945910247,
          0.0813010541434096,
          -1.253259539192186,
          -1.5091491866352271,
          -0.8353505108152603,
          -2.019723374954083,
          -2.544763068464306,
          -1.4227640734985698,
          -0.49364967496455847,
          0.06007649061149323,
          -0.5773824364709412,
          3.13884990203735,
          1.3072814327182414,
          1.0783386625952858,
          0.07230280046672988,
          0.20498593064752413,
          -0.17819740083842817,
          -0.5806677184476712,
          -0.14387641265739148,
          -0.6241621677983744,
          -0.7693489068882968,
          -0.27436705381524007,
          -0.3201055047100567,
          0.3890376356187062,
          -0.35937880917043685,
          -0.018755645926489706,
          -0.47647068878694654,
          0.28406582009677095,
          0.4077328007242613,
          0.27780653624643037,
          -0.47216444877625463,
          0.33882745206699383,
          -0.029689361678151727,
          -0.2301700548812846,
          -0.37847832170479023,
          0.20695596647368575,
          0.9553749848815869,
          0.2538365040934991,
          0.5326818546294021,
          0.46035792378273754,
          -0.5159269889639972,
          -0.27005498881231915,
          -0.16902013245578473,
          -0.20937260332146934,
          -0.09722147707708473,
          1.4262938675795453,
          0.4380525506028903,
          0.2280483658080925,
          0.07251058174671243,
          0.1446220804137397,
          0.20029482912519825,
          -0.11397366857698898,
          0.42545144025046966,
          0.33866419510746937,
          0.5582768867029699,
          0.56943101991709,
          1.3881467355471386,
          0.579775351152648,
          1.1681123035771748,
          1.3084715244166887,
          1.1521113900026307,
          0.6456075431363502,
          0.7310080624605462,
          1.00879099414243,
          0.4519670560521831,
          -0.07909617418226844,
          0.03483373838452053,
          -0.44755770572015763,
          0.8737046447451462,
          1.1504351944908535,
          1.2569515509006237,
          1.189330439791945,
          1.0853153295436755,
          0.8552730268488062,
          0.10162324479699691,
          -0.04278509239924233,
          -0.04840247966910738,
          -0.2972482497111173,
          -0.035163613040026576,
          -0.1885859751512271,
          -0.010547824163154473,
          -0.08451886168080591,
          -0.22304224084882662,
          -0.2535049143432957,
          0.37196845057724204,
          0.16617637567264865,
          0.319194611026262,
          0.6144823618996611,
          1.0694231266924135,
          0.9762989268612614,
          1.420275394236512,
          1.184157393530029,
          1.4669105598361512,
          1.179225308224602,
          1.5686859628168577,
          1.8236501260789169,
          0.9399664992233738,
          0.9389811415417171,
          0.8853503850414768,
          0.9228054264780781,
          0.6471066771687788,
          0.3479314586079454,
          0.6838197428596118,
          0.7678568718822021,
          0.7601281480601187,
          1.7841210863305719,
          1.381376926635312,
          1.3398528398041663,
          1.1563796981747032,
          1.048384377368734,
          null,
          null,
          null,
          null,
          null,
          null,
          null,
          null,
          null,
          null,
          null,
          null,
          null,
          null,
          null,
          null,
          null,
          null,
          null,
          null,
          null,
          null,
          null,
          null,
          null,
          null,
          null,
          null,
          null,
          null,
          null,
          null,
          null,
          null,
          null,
          null,
          null,
          null,
          null,
          null,
          null,
          null,
          null,
          null,
          null,
          null,
          null,
          null,
          null
         ],
         "yaxis": "y"
        },
        {
         "hovertemplate": "system_name=tum-esm-midcost-raspi-18<br>creation_timestamp=%{x}<br>diff=%{y}<extra></extra>",
         "legendgroup": "tum-esm-midcost-raspi-18",
         "line": {
          "color": "#19d3f3",
          "dash": "solid"
         },
         "marker": {
          "symbol": "circle"
         },
         "mode": "markers+lines",
         "name": "tum-esm-midcost-raspi-18",
         "showlegend": true,
         "type": "scattergl",
         "x": [
          "2023-11-17T00:00:00+00:00",
          "2023-11-17T01:00:00+00:00",
          "2023-11-17T02:00:00+00:00",
          "2023-11-17T03:00:00+00:00",
          "2023-11-17T04:00:00+00:00",
          "2023-11-17T05:00:00+00:00",
          "2023-11-17T06:00:00+00:00",
          "2023-11-17T07:00:00+00:00",
          "2023-11-17T08:00:00+00:00",
          "2023-11-17T09:00:00+00:00",
          "2023-11-17T10:00:00+00:00",
          "2023-11-17T11:00:00+00:00",
          "2023-11-17T12:00:00+00:00",
          "2023-11-17T13:00:00+00:00",
          "2023-11-17T14:00:00+00:00",
          "2023-11-17T15:00:00+00:00",
          "2023-11-17T16:00:00+00:00",
          "2023-11-17T17:00:00+00:00",
          "2023-11-17T18:00:00+00:00",
          "2023-11-17T19:00:00+00:00",
          "2023-11-17T20:00:00+00:00",
          "2023-11-17T21:00:00+00:00",
          "2023-11-17T22:00:00+00:00",
          "2023-11-17T23:00:00+00:00",
          "2023-11-18T00:00:00+00:00",
          "2023-11-18T01:00:00+00:00",
          "2023-11-18T02:00:00+00:00",
          "2023-11-18T03:00:00+00:00",
          "2023-11-18T04:00:00+00:00",
          "2023-11-18T05:00:00+00:00",
          "2023-11-18T06:00:00+00:00",
          "2023-11-18T07:00:00+00:00",
          "2023-11-18T08:00:00+00:00",
          "2023-11-18T09:00:00+00:00",
          "2023-11-18T10:00:00+00:00",
          "2023-11-18T11:00:00+00:00",
          "2023-11-18T12:00:00+00:00",
          "2023-11-18T13:00:00+00:00",
          "2023-11-18T14:00:00+00:00",
          "2023-11-18T15:00:00+00:00",
          "2023-11-18T16:00:00+00:00",
          "2023-11-18T17:00:00+00:00",
          "2023-11-18T18:00:00+00:00",
          "2023-11-18T19:00:00+00:00",
          "2023-11-18T20:00:00+00:00",
          "2023-11-18T21:00:00+00:00",
          "2023-11-18T22:00:00+00:00",
          "2023-11-18T23:00:00+00:00",
          "2023-11-19T00:00:00+00:00",
          "2023-11-19T01:00:00+00:00",
          "2023-11-19T02:00:00+00:00",
          "2023-11-19T03:00:00+00:00",
          "2023-11-19T04:00:00+00:00",
          "2023-11-19T05:00:00+00:00",
          "2023-11-19T06:00:00+00:00",
          "2023-11-19T07:00:00+00:00",
          "2023-11-19T08:00:00+00:00",
          "2023-11-19T09:00:00+00:00",
          "2023-11-19T10:00:00+00:00",
          "2023-11-19T11:00:00+00:00",
          "2023-11-19T12:00:00+00:00",
          "2023-11-19T13:00:00+00:00",
          "2023-11-19T14:00:00+00:00",
          "2023-11-19T15:00:00+00:00",
          "2023-11-19T16:00:00+00:00",
          "2023-11-19T17:00:00+00:00",
          "2023-11-19T18:00:00+00:00",
          "2023-11-19T19:00:00+00:00",
          "2023-11-19T20:00:00+00:00",
          "2023-11-19T21:00:00+00:00",
          "2023-11-19T22:00:00+00:00",
          "2023-11-19T23:00:00+00:00",
          "2023-11-20T00:00:00+00:00",
          "2023-11-20T01:00:00+00:00",
          "2023-11-20T02:00:00+00:00",
          "2023-11-20T03:00:00+00:00",
          "2023-11-20T04:00:00+00:00",
          "2023-11-20T05:00:00+00:00",
          "2023-11-20T06:00:00+00:00",
          "2023-11-20T07:00:00+00:00",
          "2023-11-20T08:00:00+00:00",
          "2023-11-20T09:00:00+00:00",
          "2023-11-20T10:00:00+00:00",
          "2023-11-20T11:00:00+00:00",
          "2023-11-20T12:00:00+00:00",
          "2023-11-20T13:00:00+00:00",
          "2023-11-20T14:00:00+00:00",
          "2023-11-20T15:00:00+00:00",
          "2023-11-20T16:00:00+00:00",
          "2023-11-20T17:00:00+00:00",
          "2023-11-20T18:00:00+00:00",
          "2023-11-20T19:00:00+00:00",
          "2023-11-20T20:00:00+00:00",
          "2023-11-20T21:00:00+00:00",
          "2023-11-20T22:00:00+00:00",
          "2023-11-20T23:00:00+00:00",
          "2023-11-21T00:00:00+00:00",
          "2023-11-21T01:00:00+00:00",
          "2023-11-21T02:00:00+00:00",
          "2023-11-21T03:00:00+00:00",
          "2023-11-21T04:00:00+00:00",
          "2023-11-21T05:00:00+00:00",
          "2023-11-21T06:00:00+00:00",
          "2023-11-21T07:00:00+00:00",
          "2023-11-21T08:00:00+00:00",
          "2023-11-21T09:00:00+00:00",
          "2023-11-21T10:00:00+00:00",
          "2023-11-21T11:00:00+00:00",
          "2023-11-21T12:00:00+00:00",
          "2023-11-21T13:00:00+00:00",
          "2023-11-21T14:00:00+00:00",
          "2023-11-21T15:00:00+00:00",
          "2023-11-21T16:00:00+00:00",
          "2023-11-21T17:00:00+00:00",
          "2023-11-21T18:00:00+00:00",
          "2023-11-21T19:00:00+00:00",
          "2023-11-21T20:00:00+00:00",
          "2023-11-21T21:00:00+00:00",
          "2023-11-21T22:00:00+00:00",
          "2023-11-21T23:00:00+00:00",
          "2023-11-22T00:00:00+00:00",
          "2023-11-22T01:00:00+00:00",
          "2023-11-22T02:00:00+00:00",
          "2023-11-22T03:00:00+00:00",
          "2023-11-22T04:00:00+00:00",
          "2023-11-22T05:00:00+00:00",
          "2023-11-22T06:00:00+00:00",
          "2023-11-22T07:00:00+00:00",
          "2023-11-22T08:00:00+00:00",
          "2023-11-22T09:00:00+00:00",
          "2023-11-22T10:00:00+00:00",
          "2023-11-22T11:00:00+00:00",
          "2023-11-22T12:00:00+00:00",
          "2023-11-22T13:00:00+00:00",
          "2023-11-22T14:00:00+00:00",
          "2023-11-22T15:00:00+00:00",
          "2023-11-22T16:00:00+00:00",
          "2023-11-22T17:00:00+00:00",
          "2023-11-22T18:00:00+00:00",
          "2023-11-22T19:00:00+00:00",
          "2023-11-22T20:00:00+00:00",
          "2023-11-22T21:00:00+00:00",
          "2023-11-22T22:00:00+00:00",
          "2023-11-22T23:00:00+00:00",
          "2023-11-23T00:00:00+00:00",
          "2023-11-23T01:00:00+00:00",
          "2023-11-23T02:00:00+00:00",
          "2023-11-23T03:00:00+00:00",
          "2023-11-23T04:00:00+00:00",
          "2023-11-23T05:00:00+00:00",
          "2023-11-23T06:00:00+00:00",
          "2023-11-23T07:00:00+00:00",
          "2023-11-23T08:00:00+00:00",
          "2023-11-23T09:00:00+00:00",
          "2023-11-23T10:00:00+00:00",
          "2023-11-23T11:00:00+00:00",
          "2023-11-23T12:00:00+00:00",
          "2023-11-23T13:00:00+00:00",
          "2023-11-23T14:00:00+00:00",
          "2023-11-23T15:00:00+00:00",
          "2023-11-23T16:00:00+00:00",
          "2023-11-23T17:00:00+00:00",
          "2023-11-23T18:00:00+00:00",
          "2023-11-23T19:00:00+00:00",
          "2023-11-23T20:00:00+00:00",
          "2023-11-23T21:00:00+00:00",
          "2023-11-23T22:00:00+00:00",
          "2023-11-23T23:00:00+00:00",
          "2023-11-24T00:00:00+00:00",
          "2023-11-24T01:00:00+00:00",
          "2023-11-24T02:00:00+00:00",
          "2023-11-24T03:00:00+00:00",
          "2023-11-24T04:00:00+00:00",
          "2023-11-24T05:00:00+00:00",
          "2023-11-24T06:00:00+00:00",
          "2023-11-24T07:00:00+00:00",
          "2023-11-24T08:00:00+00:00",
          "2023-11-24T09:00:00+00:00",
          "2023-11-24T10:00:00+00:00",
          "2023-11-24T11:00:00+00:00",
          "2023-11-24T12:00:00+00:00",
          "2023-11-24T13:00:00+00:00",
          "2023-11-24T14:00:00+00:00",
          "2023-11-24T15:00:00+00:00",
          "2023-11-24T16:00:00+00:00",
          "2023-11-24T17:00:00+00:00",
          "2023-11-24T18:00:00+00:00",
          "2023-11-24T19:00:00+00:00",
          "2023-11-24T20:00:00+00:00",
          "2023-11-24T21:00:00+00:00",
          "2023-11-24T22:00:00+00:00",
          "2023-11-24T23:00:00+00:00",
          "2023-11-25T00:00:00+00:00",
          "2023-11-25T01:00:00+00:00",
          "2023-11-25T02:00:00+00:00",
          "2023-11-25T03:00:00+00:00",
          "2023-11-25T04:00:00+00:00",
          "2023-11-25T05:00:00+00:00",
          "2023-11-25T06:00:00+00:00",
          "2023-11-25T07:00:00+00:00",
          "2023-11-25T08:00:00+00:00",
          "2023-11-25T09:00:00+00:00",
          "2023-11-25T10:00:00+00:00",
          "2023-11-25T11:00:00+00:00",
          "2023-11-25T12:00:00+00:00",
          "2023-11-25T13:00:00+00:00",
          "2023-11-25T14:00:00+00:00",
          "2023-11-25T15:00:00+00:00",
          "2023-11-25T16:00:00+00:00",
          "2023-11-25T17:00:00+00:00",
          "2023-11-25T18:00:00+00:00",
          "2023-11-25T19:00:00+00:00",
          "2023-11-25T20:00:00+00:00",
          "2023-11-25T21:00:00+00:00",
          "2023-11-25T22:00:00+00:00",
          "2023-11-25T23:00:00+00:00",
          "2023-11-26T00:00:00+00:00",
          "2023-11-26T01:00:00+00:00",
          "2023-11-26T02:00:00+00:00",
          "2023-11-26T03:00:00+00:00",
          "2023-11-26T04:00:00+00:00",
          "2023-11-26T05:00:00+00:00",
          "2023-11-26T06:00:00+00:00",
          "2023-11-26T07:00:00+00:00",
          "2023-11-26T08:00:00+00:00",
          "2023-11-26T09:00:00+00:00",
          "2023-11-26T10:00:00+00:00",
          "2023-11-26T11:00:00+00:00",
          "2023-11-26T12:00:00+00:00",
          "2023-11-26T13:00:00+00:00",
          "2023-11-26T14:00:00+00:00",
          "2023-11-26T15:00:00+00:00",
          "2023-11-26T16:00:00+00:00",
          "2023-11-26T17:00:00+00:00",
          "2023-11-26T18:00:00+00:00",
          "2023-11-26T19:00:00+00:00",
          "2023-11-26T20:00:00+00:00",
          "2023-11-26T21:00:00+00:00",
          "2023-11-26T22:00:00+00:00",
          "2023-11-26T23:00:00+00:00",
          "2023-11-27T00:00:00+00:00",
          "2023-11-27T01:00:00+00:00",
          "2023-11-27T02:00:00+00:00",
          "2023-11-27T03:00:00+00:00",
          "2023-11-27T04:00:00+00:00",
          "2023-11-27T05:00:00+00:00",
          "2023-11-27T06:00:00+00:00",
          "2023-11-27T07:00:00+00:00",
          "2023-11-27T08:00:00+00:00",
          "2023-11-27T09:00:00+00:00",
          "2023-11-27T10:00:00+00:00",
          "2023-11-27T11:00:00+00:00",
          "2023-11-27T12:00:00+00:00",
          "2023-11-27T13:00:00+00:00",
          "2023-11-27T14:00:00+00:00",
          "2023-11-27T15:00:00+00:00",
          "2023-11-27T16:00:00+00:00",
          "2023-11-27T17:00:00+00:00",
          "2023-11-27T18:00:00+00:00",
          "2023-11-27T19:00:00+00:00",
          "2023-11-27T20:00:00+00:00",
          "2023-11-27T21:00:00+00:00",
          "2023-11-27T22:00:00+00:00",
          "2023-11-27T23:00:00+00:00",
          "2023-11-28T00:00:00+00:00",
          "2023-11-28T01:00:00+00:00",
          "2023-11-28T02:00:00+00:00",
          "2023-11-28T03:00:00+00:00",
          "2023-11-28T04:00:00+00:00",
          "2023-11-28T05:00:00+00:00",
          "2023-11-28T06:00:00+00:00",
          "2023-11-28T07:00:00+00:00",
          "2023-11-28T08:00:00+00:00",
          "2023-11-28T09:00:00+00:00",
          "2023-11-28T10:00:00+00:00",
          "2023-11-28T11:00:00+00:00",
          "2023-11-28T12:00:00+00:00",
          "2023-11-28T13:00:00+00:00",
          "2023-11-28T14:00:00+00:00",
          "2023-11-28T15:00:00+00:00",
          "2023-11-28T16:00:00+00:00",
          "2023-11-28T17:00:00+00:00",
          "2023-11-28T18:00:00+00:00",
          "2023-11-28T19:00:00+00:00",
          "2023-11-28T20:00:00+00:00",
          "2023-11-28T21:00:00+00:00",
          "2023-11-28T22:00:00+00:00",
          "2023-11-28T23:00:00+00:00",
          "2023-11-29T00:00:00+00:00"
         ],
         "xaxis": "x",
         "y": [
          0.5484054217906191,
          1.7476309872700426,
          1.3806553348418902,
          0.9696126216397261,
          0.7181993646327669,
          0.011699535190984989,
          1.2312907842974141,
          1.3860717543931855,
          1.3589140246197076,
          2.141483300031382,
          1.263187805449661,
          1.6376163777664487,
          0.9683125058410269,
          1.4766926269603005,
          1.0224310677770063,
          1.6331229107869376,
          -0.9814087048625311,
          0.7025349674233894,
          1.3480136441418722,
          1.425755299837249,
          1.40786592955169,
          1.4614008852053075,
          2.113129917252877,
          1.3072318730592087,
          2.2394585939179024,
          1.6473720412376451,
          1.715645085025585,
          1.5906953577217564,
          1.5294466380129847,
          1.494266948333177,
          1.4408420153181964,
          1.8416291926149029,
          1.59171742001638,
          1.904549935413229,
          0.14966325305647388,
          -0.30401010814063056,
          0.3866312287976825,
          0.608528027010891,
          0.2004371121221311,
          0.3555563240981314,
          0.4987005626609289,
          -0.4179273421252674,
          0.9953885881617452,
          1.2894283546862653,
          0.9143285029498429,
          1.322414138677459,
          1.1127377661698574,
          1.0503816265928094,
          0.9976487892141677,
          1.3592881090449964,
          0.785601209754077,
          2.6189426587618527,
          1.7492523169203196,
          1.1149192868686555,
          1.086182211229982,
          0.9675270920727144,
          1.0372464238056978,
          0.9994567662574809,
          0.8016462209567408,
          0.4555626070855965,
          0.06467439285614773,
          0.5464573294290176,
          1.055826329149852,
          0.7532070745914439,
          1.3921957008954564,
          1.1318452388553055,
          -0.09273323945075163,
          0.44868256929106565,
          0.5502873905255115,
          0.8384077401241825,
          0.668397914356774,
          0.7310530453304409,
          0.4955961640930582,
          0.5179136546408927,
          0.29864786306274027,
          1.4499923619311517,
          0.44623432266416785,
          0.6803873258718909,
          0.4526448265412455,
          1.2253339771651781,
          1.1285640224785993,
          0.8740887751627611,
          0.5202083279544922,
          0.8665895524678717,
          0.4922704124412576,
          0.4895801430884603,
          0.7429082478437294,
          0.6398819049178428,
          0.029203435852934945,
          1.3196062817414145,
          0.30354080212123336,
          2.445423887181448,
          0.9844809890784632,
          0.5510577764686104,
          1.5640685751716887,
          1.0246668035009066,
          1.1439609704734153,
          1.0436846384644696,
          1.7464502894100065,
          1.0324963753400311,
          1.4931180093109901,
          0.8037687883230547,
          1.0713234496600421,
          0.9952086207957223,
          0.990234877777084,
          -1.0283018714962964,
          -0.09465868428202384,
          -0.2889722305017699,
          0.3928453879033782,
          1.2977520056422236,
          0.5519260234170247,
          0.8300121531515288,
          0.29613581351657103,
          1.7617512752152038,
          1.7063435180099873,
          3.0062691006635873,
          1.0041604742007735,
          0.7323730254466909,
          1.194662038124818,
          1.5815797530112263,
          1.4108157076231578,
          1.3482088331549562,
          1.431399274219359,
          1.3695177465133384,
          1.436552114648407,
          0.31485161735093925,
          0.6856855973927054,
          0.648025263960335,
          0.64244506161549,
          1.6621090015098616,
          1.2380075699925897,
          3.2803010292655017,
          2.3648550604365255,
          1.9645447005597134,
          3.091256159008708,
          2.0880469246076814,
          1.4426695538186323,
          3.464283171010493,
          3.2266265225112534,
          3.537160651279464,
          1.9187856962634555,
          1.7677660449156178,
          1.3447320826475675,
          2.1082180162163695,
          1.2187886881645227,
          2.0253304269386945,
          1.6109955151600843,
          1.3202009649531306,
          1.6063042009072888,
          0.9440055781531669,
          0.48039670829649594,
          0.894486026688412,
          0.8133671480555336,
          1.431049309142736,
          0.5934798742466114,
          1.051763314590005,
          0.8919631629139531,
          1.4438315302619458,
          1.02613639641379,
          1.1789817544131438,
          1.2332341721263447,
          2.0006372414811153,
          1.5355437813977915,
          1.20104749994357,
          0.7425837221263691,
          1.4802046605794317,
          1.3781591452766975,
          1.3989545047035676,
          0.9953126660383305,
          1.176588807010205,
          0.7884405649731434,
          0.8271693404094549,
          0.58197268168135,
          0.7664973697451956,
          0.4775601424848901,
          1.3080733525990809,
          0.6063876712759679,
          0.48455393784496437,
          0.6225697005760935,
          0.45624990465512383,
          0.6680533777241067,
          0.2561405103843981,
          0.6131160223295069,
          0.5429762718382563,
          0.7595820396768431,
          0.6999406818763418,
          1.3997188650185421,
          0.9332327344774853,
          0.906038039920702,
          1.1036028955433608,
          1.683452090699177,
          0.8820906306559095,
          0.6254970617825393,
          1.0983087863312448,
          0.9774988623669287,
          0.9300589168069564,
          0.8313995139193366,
          0.6848580445455354,
          1.285189625448993,
          1.6559751136140903,
          1.4682295041594102,
          1.4820808163489687,
          1.5205275980961233,
          1.6010300639281354,
          1.169282662013643,
          0.9526150766019441,
          1.2117910254750655,
          1.0721549394496037,
          1.0278484916497632,
          0.9972266734311006,
          1.4698833907435755,
          1.286249314334384,
          1.3883943174364504,
          1.2477319263406912,
          1.3810849341687685,
          1.173050265469385,
          0.5655527609231967,
          0.4675572277297988,
          0.45644586128543096,
          0.36349358396972775,
          0.974136998954009,
          0.5520278920891428,
          0.8358479019998981,
          0.7407908343445797,
          0.6347980330785958,
          1.1715646263895678,
          0.5752113668781931,
          0.5239420475756447,
          0.44604888639253204,
          0.7243726318790209,
          0.2283701428991094,
          0.44917927006224545,
          0.27597561506877355,
          0.5142772638259316,
          0.2626754061367933,
          1.1057767840638348,
          0.6216623979995575,
          0.6404132670286344,
          0.7571340319099704,
          0.6618731997463101,
          null,
          null,
          null,
          null,
          null,
          null,
          null,
          null,
          null,
          null,
          null,
          null,
          null,
          null,
          null,
          null,
          null,
          null,
          null,
          null,
          null,
          null,
          null,
          null,
          null,
          null,
          null,
          null,
          null,
          null,
          null,
          null,
          null,
          null,
          null,
          null,
          null,
          null,
          null,
          null,
          null,
          null,
          null,
          null,
          null,
          null,
          null,
          null,
          null
         ],
         "yaxis": "y"
        }
       ],
       "layout": {
        "legend": {
         "title": {
          "text": "system_name"
         },
         "tracegroupgap": 0
        },
        "template": {
         "data": {
          "bar": [
           {
            "error_x": {
             "color": "#2a3f5f"
            },
            "error_y": {
             "color": "#2a3f5f"
            },
            "marker": {
             "line": {
              "color": "#E5ECF6",
              "width": 0.5
             },
             "pattern": {
              "fillmode": "overlay",
              "size": 10,
              "solidity": 0.2
             }
            },
            "type": "bar"
           }
          ],
          "barpolar": [
           {
            "marker": {
             "line": {
              "color": "#E5ECF6",
              "width": 0.5
             },
             "pattern": {
              "fillmode": "overlay",
              "size": 10,
              "solidity": 0.2
             }
            },
            "type": "barpolar"
           }
          ],
          "carpet": [
           {
            "aaxis": {
             "endlinecolor": "#2a3f5f",
             "gridcolor": "white",
             "linecolor": "white",
             "minorgridcolor": "white",
             "startlinecolor": "#2a3f5f"
            },
            "baxis": {
             "endlinecolor": "#2a3f5f",
             "gridcolor": "white",
             "linecolor": "white",
             "minorgridcolor": "white",
             "startlinecolor": "#2a3f5f"
            },
            "type": "carpet"
           }
          ],
          "choropleth": [
           {
            "colorbar": {
             "outlinewidth": 0,
             "ticks": ""
            },
            "type": "choropleth"
           }
          ],
          "contour": [
           {
            "colorbar": {
             "outlinewidth": 0,
             "ticks": ""
            },
            "colorscale": [
             [
              0,
              "#0d0887"
             ],
             [
              0.1111111111111111,
              "#46039f"
             ],
             [
              0.2222222222222222,
              "#7201a8"
             ],
             [
              0.3333333333333333,
              "#9c179e"
             ],
             [
              0.4444444444444444,
              "#bd3786"
             ],
             [
              0.5555555555555556,
              "#d8576b"
             ],
             [
              0.6666666666666666,
              "#ed7953"
             ],
             [
              0.7777777777777778,
              "#fb9f3a"
             ],
             [
              0.8888888888888888,
              "#fdca26"
             ],
             [
              1,
              "#f0f921"
             ]
            ],
            "type": "contour"
           }
          ],
          "contourcarpet": [
           {
            "colorbar": {
             "outlinewidth": 0,
             "ticks": ""
            },
            "type": "contourcarpet"
           }
          ],
          "heatmap": [
           {
            "colorbar": {
             "outlinewidth": 0,
             "ticks": ""
            },
            "colorscale": [
             [
              0,
              "#0d0887"
             ],
             [
              0.1111111111111111,
              "#46039f"
             ],
             [
              0.2222222222222222,
              "#7201a8"
             ],
             [
              0.3333333333333333,
              "#9c179e"
             ],
             [
              0.4444444444444444,
              "#bd3786"
             ],
             [
              0.5555555555555556,
              "#d8576b"
             ],
             [
              0.6666666666666666,
              "#ed7953"
             ],
             [
              0.7777777777777778,
              "#fb9f3a"
             ],
             [
              0.8888888888888888,
              "#fdca26"
             ],
             [
              1,
              "#f0f921"
             ]
            ],
            "type": "heatmap"
           }
          ],
          "heatmapgl": [
           {
            "colorbar": {
             "outlinewidth": 0,
             "ticks": ""
            },
            "colorscale": [
             [
              0,
              "#0d0887"
             ],
             [
              0.1111111111111111,
              "#46039f"
             ],
             [
              0.2222222222222222,
              "#7201a8"
             ],
             [
              0.3333333333333333,
              "#9c179e"
             ],
             [
              0.4444444444444444,
              "#bd3786"
             ],
             [
              0.5555555555555556,
              "#d8576b"
             ],
             [
              0.6666666666666666,
              "#ed7953"
             ],
             [
              0.7777777777777778,
              "#fb9f3a"
             ],
             [
              0.8888888888888888,
              "#fdca26"
             ],
             [
              1,
              "#f0f921"
             ]
            ],
            "type": "heatmapgl"
           }
          ],
          "histogram": [
           {
            "marker": {
             "pattern": {
              "fillmode": "overlay",
              "size": 10,
              "solidity": 0.2
             }
            },
            "type": "histogram"
           }
          ],
          "histogram2d": [
           {
            "colorbar": {
             "outlinewidth": 0,
             "ticks": ""
            },
            "colorscale": [
             [
              0,
              "#0d0887"
             ],
             [
              0.1111111111111111,
              "#46039f"
             ],
             [
              0.2222222222222222,
              "#7201a8"
             ],
             [
              0.3333333333333333,
              "#9c179e"
             ],
             [
              0.4444444444444444,
              "#bd3786"
             ],
             [
              0.5555555555555556,
              "#d8576b"
             ],
             [
              0.6666666666666666,
              "#ed7953"
             ],
             [
              0.7777777777777778,
              "#fb9f3a"
             ],
             [
              0.8888888888888888,
              "#fdca26"
             ],
             [
              1,
              "#f0f921"
             ]
            ],
            "type": "histogram2d"
           }
          ],
          "histogram2dcontour": [
           {
            "colorbar": {
             "outlinewidth": 0,
             "ticks": ""
            },
            "colorscale": [
             [
              0,
              "#0d0887"
             ],
             [
              0.1111111111111111,
              "#46039f"
             ],
             [
              0.2222222222222222,
              "#7201a8"
             ],
             [
              0.3333333333333333,
              "#9c179e"
             ],
             [
              0.4444444444444444,
              "#bd3786"
             ],
             [
              0.5555555555555556,
              "#d8576b"
             ],
             [
              0.6666666666666666,
              "#ed7953"
             ],
             [
              0.7777777777777778,
              "#fb9f3a"
             ],
             [
              0.8888888888888888,
              "#fdca26"
             ],
             [
              1,
              "#f0f921"
             ]
            ],
            "type": "histogram2dcontour"
           }
          ],
          "mesh3d": [
           {
            "colorbar": {
             "outlinewidth": 0,
             "ticks": ""
            },
            "type": "mesh3d"
           }
          ],
          "parcoords": [
           {
            "line": {
             "colorbar": {
              "outlinewidth": 0,
              "ticks": ""
             }
            },
            "type": "parcoords"
           }
          ],
          "pie": [
           {
            "automargin": true,
            "type": "pie"
           }
          ],
          "scatter": [
           {
            "fillpattern": {
             "fillmode": "overlay",
             "size": 10,
             "solidity": 0.2
            },
            "type": "scatter"
           }
          ],
          "scatter3d": [
           {
            "line": {
             "colorbar": {
              "outlinewidth": 0,
              "ticks": ""
             }
            },
            "marker": {
             "colorbar": {
              "outlinewidth": 0,
              "ticks": ""
             }
            },
            "type": "scatter3d"
           }
          ],
          "scattercarpet": [
           {
            "marker": {
             "colorbar": {
              "outlinewidth": 0,
              "ticks": ""
             }
            },
            "type": "scattercarpet"
           }
          ],
          "scattergeo": [
           {
            "marker": {
             "colorbar": {
              "outlinewidth": 0,
              "ticks": ""
             }
            },
            "type": "scattergeo"
           }
          ],
          "scattergl": [
           {
            "marker": {
             "colorbar": {
              "outlinewidth": 0,
              "ticks": ""
             }
            },
            "type": "scattergl"
           }
          ],
          "scattermapbox": [
           {
            "marker": {
             "colorbar": {
              "outlinewidth": 0,
              "ticks": ""
             }
            },
            "type": "scattermapbox"
           }
          ],
          "scatterpolar": [
           {
            "marker": {
             "colorbar": {
              "outlinewidth": 0,
              "ticks": ""
             }
            },
            "type": "scatterpolar"
           }
          ],
          "scatterpolargl": [
           {
            "marker": {
             "colorbar": {
              "outlinewidth": 0,
              "ticks": ""
             }
            },
            "type": "scatterpolargl"
           }
          ],
          "scatterternary": [
           {
            "marker": {
             "colorbar": {
              "outlinewidth": 0,
              "ticks": ""
             }
            },
            "type": "scatterternary"
           }
          ],
          "surface": [
           {
            "colorbar": {
             "outlinewidth": 0,
             "ticks": ""
            },
            "colorscale": [
             [
              0,
              "#0d0887"
             ],
             [
              0.1111111111111111,
              "#46039f"
             ],
             [
              0.2222222222222222,
              "#7201a8"
             ],
             [
              0.3333333333333333,
              "#9c179e"
             ],
             [
              0.4444444444444444,
              "#bd3786"
             ],
             [
              0.5555555555555556,
              "#d8576b"
             ],
             [
              0.6666666666666666,
              "#ed7953"
             ],
             [
              0.7777777777777778,
              "#fb9f3a"
             ],
             [
              0.8888888888888888,
              "#fdca26"
             ],
             [
              1,
              "#f0f921"
             ]
            ],
            "type": "surface"
           }
          ],
          "table": [
           {
            "cells": {
             "fill": {
              "color": "#EBF0F8"
             },
             "line": {
              "color": "white"
             }
            },
            "header": {
             "fill": {
              "color": "#C8D4E3"
             },
             "line": {
              "color": "white"
             }
            },
            "type": "table"
           }
          ]
         },
         "layout": {
          "annotationdefaults": {
           "arrowcolor": "#2a3f5f",
           "arrowhead": 0,
           "arrowwidth": 1
          },
          "autotypenumbers": "strict",
          "coloraxis": {
           "colorbar": {
            "outlinewidth": 0,
            "ticks": ""
           }
          },
          "colorscale": {
           "diverging": [
            [
             0,
             "#8e0152"
            ],
            [
             0.1,
             "#c51b7d"
            ],
            [
             0.2,
             "#de77ae"
            ],
            [
             0.3,
             "#f1b6da"
            ],
            [
             0.4,
             "#fde0ef"
            ],
            [
             0.5,
             "#f7f7f7"
            ],
            [
             0.6,
             "#e6f5d0"
            ],
            [
             0.7,
             "#b8e186"
            ],
            [
             0.8,
             "#7fbc41"
            ],
            [
             0.9,
             "#4d9221"
            ],
            [
             1,
             "#276419"
            ]
           ],
           "sequential": [
            [
             0,
             "#0d0887"
            ],
            [
             0.1111111111111111,
             "#46039f"
            ],
            [
             0.2222222222222222,
             "#7201a8"
            ],
            [
             0.3333333333333333,
             "#9c179e"
            ],
            [
             0.4444444444444444,
             "#bd3786"
            ],
            [
             0.5555555555555556,
             "#d8576b"
            ],
            [
             0.6666666666666666,
             "#ed7953"
            ],
            [
             0.7777777777777778,
             "#fb9f3a"
            ],
            [
             0.8888888888888888,
             "#fdca26"
            ],
            [
             1,
             "#f0f921"
            ]
           ],
           "sequentialminus": [
            [
             0,
             "#0d0887"
            ],
            [
             0.1111111111111111,
             "#46039f"
            ],
            [
             0.2222222222222222,
             "#7201a8"
            ],
            [
             0.3333333333333333,
             "#9c179e"
            ],
            [
             0.4444444444444444,
             "#bd3786"
            ],
            [
             0.5555555555555556,
             "#d8576b"
            ],
            [
             0.6666666666666666,
             "#ed7953"
            ],
            [
             0.7777777777777778,
             "#fb9f3a"
            ],
            [
             0.8888888888888888,
             "#fdca26"
            ],
            [
             1,
             "#f0f921"
            ]
           ]
          },
          "colorway": [
           "#636efa",
           "#EF553B",
           "#00cc96",
           "#ab63fa",
           "#FFA15A",
           "#19d3f3",
           "#FF6692",
           "#B6E880",
           "#FF97FF",
           "#FECB52"
          ],
          "font": {
           "color": "#2a3f5f"
          },
          "geo": {
           "bgcolor": "white",
           "lakecolor": "white",
           "landcolor": "#E5ECF6",
           "showlakes": true,
           "showland": true,
           "subunitcolor": "white"
          },
          "hoverlabel": {
           "align": "left"
          },
          "hovermode": "closest",
          "mapbox": {
           "style": "light"
          },
          "paper_bgcolor": "white",
          "plot_bgcolor": "#E5ECF6",
          "polar": {
           "angularaxis": {
            "gridcolor": "white",
            "linecolor": "white",
            "ticks": ""
           },
           "bgcolor": "#E5ECF6",
           "radialaxis": {
            "gridcolor": "white",
            "linecolor": "white",
            "ticks": ""
           }
          },
          "scene": {
           "xaxis": {
            "backgroundcolor": "#E5ECF6",
            "gridcolor": "white",
            "gridwidth": 2,
            "linecolor": "white",
            "showbackground": true,
            "ticks": "",
            "zerolinecolor": "white"
           },
           "yaxis": {
            "backgroundcolor": "#E5ECF6",
            "gridcolor": "white",
            "gridwidth": 2,
            "linecolor": "white",
            "showbackground": true,
            "ticks": "",
            "zerolinecolor": "white"
           },
           "zaxis": {
            "backgroundcolor": "#E5ECF6",
            "gridcolor": "white",
            "gridwidth": 2,
            "linecolor": "white",
            "showbackground": true,
            "ticks": "",
            "zerolinecolor": "white"
           }
          },
          "shapedefaults": {
           "line": {
            "color": "#2a3f5f"
           }
          },
          "ternary": {
           "aaxis": {
            "gridcolor": "white",
            "linecolor": "white",
            "ticks": ""
           },
           "baxis": {
            "gridcolor": "white",
            "linecolor": "white",
            "ticks": ""
           },
           "bgcolor": "#E5ECF6",
           "caxis": {
            "gridcolor": "white",
            "linecolor": "white",
            "ticks": ""
           }
          },
          "title": {
           "x": 0.05
          },
          "xaxis": {
           "automargin": true,
           "gridcolor": "white",
           "linecolor": "white",
           "ticks": "",
           "title": {
            "standoff": 15
           },
           "zerolinecolor": "white",
           "zerolinewidth": 2
          },
          "yaxis": {
           "automargin": true,
           "gridcolor": "white",
           "linecolor": "white",
           "ticks": "",
           "title": {
            "standoff": 15
           },
           "zerolinecolor": "white",
           "zerolinewidth": 2
          }
         }
        },
        "title": {
         "text": "CO2"
        },
        "xaxis": {
         "anchor": "y",
         "domain": [
          0,
          1
         ],
         "title": {
          "text": "creation_timestamp"
         }
        },
        "yaxis": {
         "anchor": "x",
         "domain": [
          0,
          1
         ],
         "title": {
          "text": "diff"
         }
        }
       }
      }
     },
     "metadata": {},
     "output_type": "display_data"
    }
   ],
   "source": [
    "import plotly.express as px\n",
    "\n",
    "fig = px.line(df_cal_cor, x=\"creation_timestamp\", y=f\"CO2_corr\", markers=True, title = \"CO2\", color=\"system_name\")\n",
    "fig.show()\n",
    "\n",
    "fig = px.line(df_cal_cor, x=\"creation_timestamp\", y=f\"diff\", markers=True, title = \"CO2\", color=\"system_name\")\n",
    "fig.show()"
   ]
  },
  {
   "cell_type": "code",
   "execution_count": 393,
   "metadata": {},
   "outputs": [
    {
     "name": "stdout",
     "output_type": "stream",
     "text": [
      "\n",
      "Analysis for System 6:\n",
      "Offset -0.4346396962073025\n",
      "RMSE: 3.262343142682238\n",
      "R2: 0.8712884146085973\n",
      "\n",
      "Analysis for System 11:\n",
      "Offset 7.662005413037948\n",
      "RMSE: 7.822171093458206\n",
      "R2: 0.2600319254214949\n",
      "\n",
      "Analysis for System 12:\n",
      "Offset 12.43515960896903\n",
      "RMSE: 12.537072185042407\n",
      "R2: -0.9008621086581452\n",
      "\n",
      "Analysis for System 13:\n",
      "Offset 0.1754314545518651\n",
      "RMSE: 1.0685262348111382\n",
      "R2: 0.986192064809505\n",
      "\n",
      "Analysis for System 18:\n",
      "Offset 1.0592543537240118\n",
      "RMSE: 1.2445511700999912\n",
      "R2: 0.9812680117914664\n"
     ]
    }
   ],
   "source": [
    "import math\n",
    "from sklearn.metrics import r2_score\n",
    "\n",
    "def rmse(y_true, y_meas):\n",
    "    MSE = np.square(np.subtract(y_true, y_meas)).mean()\n",
    "    RMSE = math.sqrt(MSE)\n",
    "\n",
    "    return RMSE\n",
    "\n",
    "def calc_r2(y_true, y_meas):\n",
    "    return r2_score(y_true, y_meas)\n",
    "\n",
    "\n",
    "for temp_id in sensor_id:\n",
    "\n",
    "    print(f\"\\nAnalysis for System {temp_id}:\")\n",
    "\n",
    "    #----\n",
    "    df_acropolis = df_cal_cor.filter(pl.col(\"system_name\")==f\"tum-esm-midcost-raspi-{temp_id}\") \\\n",
    "        .select([\"creation_timestamp\", \"CO2_corr\"]) \\\n",
    "        .rename({\"CO2_corr\": f\"CO2_acropolis_{temp_id}\"})\n",
    "        \n",
    "    df_picarro = df_cal_cor.filter(pl.col(\"system_name\")==\"Picarro\") \\\n",
    "        .select([\"creation_timestamp\", \"CO2_corr\"]) \\\n",
    "        .rename({\"CO2_corr\": f\"CO2_picarro\"})\n",
    "        \n",
    "    df_analysis = df_picarro.join(df_acropolis, on=\"creation_timestamp\")  \\\n",
    "        .filter(pl.col(\"CO2_picarro\") > 0)  \\\n",
    "        .filter(pl.col(f\"CO2_acropolis_{temp_id}\") > 0)\n",
    "        \n",
    "    l_picarro = df_analysis.select(\"CO2_picarro\").to_series().to_list()\n",
    "    l_acropolis = df_analysis.select(f\"CO2_acropolis_{temp_id}\").to_series().to_list()\n",
    "    \n",
    "    #----\n",
    "    if len(l_acropolis) > 0:\n",
    "        \n",
    "        mean_offset = df_cal_cor.filter(pl.col(\"system_name\")==f\"tum-esm-midcost-raspi-{temp_id}\").select(\"diff\").mean().item()\n",
    "        print(f\"Offset {mean_offset}\")\n",
    "        \n",
    "        rmse_result = rmse(l_picarro,l_acropolis)\n",
    "        print(f\"RMSE: {rmse_result}\")\n",
    "        \n",
    "        r2_result = calc_r2(l_picarro,l_acropolis)\n",
    "        print(f\"R2: {r2_result}\")"
   ]
  },
  {
   "cell_type": "code",
   "execution_count": 394,
   "metadata": {},
   "outputs": [
    {
     "name": "stdout",
     "output_type": "stream",
     "text": [
      "\n",
      "Analysis for System 6:\n",
      "RMSE: 3.2332601372433123\n",
      "R2: 0.8735730512497347\n",
      "\n",
      "Analysis for System 11:\n",
      "RMSE: 1.5748122637033033\n",
      "R2: 0.970007274199707\n",
      "\n",
      "Analysis for System 12:\n",
      "RMSE: 1.5953007467023934\n",
      "R2: 0.9692217801327488\n",
      "\n",
      "Analysis for System 13:\n",
      "RMSE: 1.0540266216910674\n",
      "R2: 0.9865642621703244\n",
      "\n",
      "Analysis for System 18:\n",
      "RMSE: 0.6533665350429138\n",
      "R2: 0.9948373565318525\n"
     ]
    }
   ],
   "source": [
    "for temp_id in sensor_id:\n",
    "\n",
    "    print(f\"\\nAnalysis for System {temp_id}:\")\n",
    "\n",
    "    #----\n",
    "    mean_offset = 0\n",
    "    if len(l_acropolis) > 0:\n",
    "        mean_offset = df_cal_cor.filter(pl.col(\"system_name\")==f\"tum-esm-midcost-raspi-{temp_id}\").select(\"diff\").mean().item()\n",
    "    \n",
    "    df_acropolis = df_cal_cor.filter(pl.col(\"system_name\")==f\"tum-esm-midcost-raspi-{temp_id}\") \\\n",
    "        .select([\"creation_timestamp\", \"CO2_corr\"]) \\\n",
    "        .with_columns(pl.col(\"CO2_corr\") - mean_offset)  \\\n",
    "        .rename({\"CO2_corr\": f\"CO2_acropolis_{temp_id}\"})\n",
    "        \n",
    "    df_picarro = df_cal_cor.filter(pl.col(\"system_name\")==\"Picarro\") \\\n",
    "        .select([\"creation_timestamp\", \"CO2_corr\"]) \\\n",
    "        .rename({\"CO2_corr\": f\"CO2_picarro\"})\n",
    "        \n",
    "    df_analysis = df_picarro.join(df_acropolis, on=\"creation_timestamp\")  \\\n",
    "        .filter(pl.col(\"CO2_picarro\") > 0)  \\\n",
    "        .filter(pl.col(f\"CO2_acropolis_{temp_id}\") > 0)\n",
    "        \n",
    "    l_picarro = df_analysis.select(\"CO2_picarro\").to_series().to_list()\n",
    "    l_acropolis = df_analysis.select(f\"CO2_acropolis_{temp_id}\").to_series().to_list()\n",
    "    \n",
    "    #----\n",
    "    if len(l_acropolis) > 0:\n",
    "        \n",
    "        rmse_result = rmse(l_picarro,l_acropolis)\n",
    "        print(f\"RMSE: {rmse_result}\")\n",
    "        \n",
    "        r2_result = calc_r2(l_picarro,l_acropolis)\n",
    "        print(f\"R2: {r2_result}\")"
   ]
  }
 ],
 "metadata": {
  "kernelspec": {
   "display_name": ".venv",
   "language": "python",
   "name": "python3"
  },
  "language_info": {
   "codemirror_mode": {
    "name": "ipython",
    "version": 3
   },
   "file_extension": ".py",
   "mimetype": "text/x-python",
   "name": "python",
   "nbconvert_exporter": "python",
   "pygments_lexer": "ipython3",
   "version": "3.11.6"
  }
 },
 "nbformat": 4,
 "nbformat_minor": 2
}
