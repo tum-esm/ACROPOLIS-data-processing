{
 "cells": [
  {
   "cell_type": "code",
   "execution_count": 4,
   "metadata": {},
   "outputs": [],
   "source": [
    "import notebooks.utils.processing_utils as pu"
   ]
  },
  {
   "cell_type": "raw",
   "metadata": {},
   "source": [
    "{\n",
    "    \"creation_timestamp\": 1699624306.07,\n",
    "    \"revision\": 20,\n",
    "    \"value\": {\n",
    "        \"gmp343_raw\": 394,\n",
    "        \"sht45_humidity\": 33.43,\n",
    "        \"bme280_humidity\": 29.38,\n",
    "        \"bme280_pressure\": 923.27,\n",
    "        \"gmp343_filtered\": 444.2,\n",
    "        \"sht45_temperature\": 24.59,\n",
    "        \"bme280_temperature\": 24.49,\n",
    "        \"gmp343_compensated\": 449.9,\n",
    "        \"gmp343_temperature\": 24.4\n",
    "    }\n",
    "}"
   ]
  },
  {
   "cell_type": "code",
   "execution_count": 6,
   "metadata": {},
   "outputs": [
    {
     "data": {
      "text/plain": [
       "297.54999999999995"
      ]
     },
     "execution_count": 6,
     "metadata": {},
     "output_type": "execute_result"
    }
   ],
   "source": [
    "pu.absolute_temperature(24.4)"
   ]
  },
  {
   "cell_type": "code",
   "execution_count": 13,
   "metadata": {},
   "outputs": [
    {
     "data": {
      "text/plain": [
       "449.17377865806344"
      ]
     },
     "execution_count": 13,
     "metadata": {},
     "output_type": "execute_result"
    }
   ],
   "source": [
    "pu.calculate_co2dry(co2wet=444.2, temperature=24.4, humidity=33.43, pressure=923.27*100)"
   ]
  },
  {
   "cell_type": "code",
   "execution_count": null,
   "metadata": {},
   "outputs": [],
   "source": []
  }
 ],
 "metadata": {
  "kernelspec": {
   "display_name": ".venv",
   "language": "python",
   "name": "python3"
  },
  "language_info": {
   "codemirror_mode": {
    "name": "ipython",
    "version": 3
   },
   "file_extension": ".py",
   "mimetype": "text/x-python",
   "name": "python",
   "nbconvert_exporter": "python",
   "pygments_lexer": "ipython3",
   "version": "3.11.6"
  }
 },
 "nbformat": 4,
 "nbformat_minor": 2
}
