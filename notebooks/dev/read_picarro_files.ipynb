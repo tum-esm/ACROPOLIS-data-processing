{
 "cells": [
  {
   "cell_type": "code",
   "execution_count": 1,
   "metadata": {},
   "outputs": [],
   "source": [
    "from datetime import datetime\n",
    "from datetime import timezone\n",
    "import pandas as pd\n",
    "import glob\n",
    "import seaborn as sns\n",
    "import matplotlib.pyplot as plt\n",
    "import matplotlib.dates as mdates"
   ]
  },
  {
   "cell_type": "code",
   "execution_count": 2,
   "metadata": {},
   "outputs": [
    {
     "ename": "NameError",
     "evalue": "name 'pd' is not defined",
     "output_type": "error",
     "traceback": [
      "\u001b[0;31m---------------------------------------------------------------------------\u001b[0m",
      "\u001b[0;31mNameError\u001b[0m                                 Traceback (most recent call last)",
      "\u001b[1;32m/Users/patrickaigner/Documents/PROJECTS/ACROPOLIS/Software/acropolis-visualisation/notebooks/read_picarro_files.ipynb Cell 2\u001b[0m line \u001b[0;36m7\n\u001b[1;32m      <a href='vscode-notebook-cell:/Users/patrickaigner/Documents/PROJECTS/ACROPOLIS/Software/acropolis-visualisation/notebooks/read_picarro_files.ipynb#W1sZmlsZQ%3D%3D?line=4'>5</a>\u001b[0m df_list \u001b[39m=\u001b[39m []\n\u001b[1;32m      <a href='vscode-notebook-cell:/Users/patrickaigner/Documents/PROJECTS/ACROPOLIS/Software/acropolis-visualisation/notebooks/read_picarro_files.ipynb#W1sZmlsZQ%3D%3D?line=5'>6</a>\u001b[0m \u001b[39mfor\u001b[39;00m filename \u001b[39min\u001b[39;00m filenames:\n\u001b[0;32m----> <a href='vscode-notebook-cell:/Users/patrickaigner/Documents/PROJECTS/ACROPOLIS/Software/acropolis-visualisation/notebooks/read_picarro_files.ipynb#W1sZmlsZQ%3D%3D?line=6'>7</a>\u001b[0m     df_list\u001b[39m.\u001b[39mappend(pd\u001b[39m.\u001b[39mread_csv(filename,sep\u001b[39m=\u001b[39m\u001b[39m'\u001b[39m\u001b[39m\\\u001b[39m\u001b[39ms+\u001b[39m\u001b[39m'\u001b[39m))\n\u001b[1;32m      <a href='vscode-notebook-cell:/Users/patrickaigner/Documents/PROJECTS/ACROPOLIS/Software/acropolis-visualisation/notebooks/read_picarro_files.ipynb#W1sZmlsZQ%3D%3D?line=8'>9</a>\u001b[0m big_frame \u001b[39m=\u001b[39m pd\u001b[39m.\u001b[39mconcat(df_list, ignore_index\u001b[39m=\u001b[39m\u001b[39mTrue\u001b[39;00m)\n\u001b[1;32m     <a href='vscode-notebook-cell:/Users/patrickaigner/Documents/PROJECTS/ACROPOLIS/Software/acropolis-visualisation/notebooks/read_picarro_files.ipynb#W1sZmlsZQ%3D%3D?line=9'>10</a>\u001b[0m big_frame[\u001b[39m\"\u001b[39m\u001b[39mdatetime\u001b[39m\u001b[39m\"\u001b[39m] \u001b[39m=\u001b[39m pd\u001b[39m.\u001b[39mto_datetime((big_frame[\u001b[39m'\u001b[39m\u001b[39mDATE\u001b[39m\u001b[39m'\u001b[39m] \u001b[39m+\u001b[39m \u001b[39m'\u001b[39m\u001b[39m \u001b[39m\u001b[39m'\u001b[39m \u001b[39m+\u001b[39m big_frame[\u001b[39m'\u001b[39m\u001b[39mTIME\u001b[39m\u001b[39m'\u001b[39m]))\n",
      "\u001b[0;31mNameError\u001b[0m: name 'pd' is not defined"
     ]
    }
   ],
   "source": [
    "# example file path: /Users/patrickaigner/Documents/PROJECTS/ACROPOLIS/Database/PICARRO/07/01/CFADS2343-20230701-000011Z-DataLog_User.dat\n",
    "picarro_path = r\"/Users/patrickaigner/Documents/PROJECTS/ACROPOLIS/Database/PICARRO\"\n",
    "filenames = glob.glob(picarro_path + \"/*/*/*.dat\")\n",
    "\n",
    "df_list = []\n",
    "for filename in filenames:\n",
    "    df_list.append(pd.read_csv(filename,sep='\\s+'))\n",
    "\n",
    "big_frame = pd.concat(df_list, ignore_index=True)\n",
    "big_frame[\"datetime\"] = pd.to_datetime((big_frame['DATE'] + ' ' + big_frame['TIME']))\n",
    "big_frame.sort_values(by='datetime', inplace = True)\n",
    "\n",
    "big_frame.info()"
   ]
  },
  {
   "cell_type": "code",
   "execution_count": null,
   "metadata": {},
   "outputs": [],
   "source": [
    "big_frame.to_parquet(path = f\"{picarro_path}/picarro.parquet\")"
   ]
  },
  {
   "cell_type": "code",
   "execution_count": null,
   "metadata": {},
   "outputs": [],
   "source": [
    "big_frame.info()"
   ]
  },
  {
   "cell_type": "code",
   "execution_count": null,
   "metadata": {},
   "outputs": [],
   "source": [
    "sns.lineplot(data=big_frame,x='datetime',y=\"CO2_dry\",label=\"Picarro\")\n",
    "\n",
    "# set axes labels\n",
    "plt.xlabel(\"Time\")\n",
    "plt.ylabel('CO2_dry')\n",
    "plt.xticks(rotation=45)\n",
    "# plt.legend(title=\"Systems\", bbox_to_anchor=(1, 1))\n",
    "plt.title(label='CO2_dry')\n",
    "plt.gca().xaxis.set_major_formatter(mdates.DateFormatter(\"%d.%m\"))\n",
    "\n",
    "# show the plot\n",
    "plt.show()"
   ]
  }
 ],
 "metadata": {
  "kernelspec": {
   "display_name": ".venv",
   "language": "python",
   "name": "python3"
  },
  "language_info": {
   "codemirror_mode": {
    "name": "ipython",
    "version": 3
   },
   "file_extension": ".py",
   "mimetype": "text/x-python",
   "name": "python",
   "nbconvert_exporter": "python",
   "pygments_lexer": "ipython3",
   "version": "3.11.4"
  },
  "orig_nbformat": 4
 },
 "nbformat": 4,
 "nbformat_minor": 2
}
