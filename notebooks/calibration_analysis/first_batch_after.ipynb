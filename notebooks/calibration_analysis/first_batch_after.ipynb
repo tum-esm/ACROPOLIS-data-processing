{
 "cells": [
  {
   "cell_type": "code",
   "execution_count": 22,
   "metadata": {},
   "outputs": [],
   "source": [
    "# Imports & Inits\n",
    "\n",
    "from datetime import datetime\n",
    "from datetime import timezone\n",
    "import polars as pl\n",
    "import os\n",
    "\n",
    "from utils import two_point_calibration, average_bottle, plot_sensor_measurement\n",
    "\n",
    "\n",
    "DATA_DIRECTORY = os.environ.get(\"DATA_DIRECTORY\")\n",
    "PICARRO_DATA_DIRECTORY = os.environ.get(\"PICARRO_DATA_DIRECTORY\")\n",
    "    \n",
    "df_p = pl.scan_parquet(os.path.join(PICARRO_DATA_DIRECTORY, \"picarro.parquet\")) "
   ]
  },
  {
   "cell_type": "markdown",
   "metadata": {},
   "source": [
    "# ICOS Calibration PICARRO"
   ]
  },
  {
   "cell_type": "code",
   "execution_count": 19,
   "metadata": {},
   "outputs": [],
   "source": [
    "picarro_slope = 0\n",
    "picarro_intercept = 0\n",
    "\n",
    "df_p.head(1).collect()"
   ]
  },
  {
   "cell_type": "markdown",
   "metadata": {},
   "source": [
    "# Bottles on 19.12.2023"
   ]
  },
  {
   "cell_type": "code",
   "execution_count": 34,
   "metadata": {},
   "outputs": [
    {
     "name": "stdout",
     "output_type": "stream",
     "text": [
      "Uncut average: 607.0610295264346\n",
      "Cut average: 607.0095882593893\n",
      "Picarro Average: 0.0\n"
     ]
    },
    {
     "ename": "ZeroDivisionError",
     "evalue": "division by zero",
     "output_type": "error",
     "traceback": [
      "\u001b[0;31m---------------------------------------------------------------------------\u001b[0m",
      "\u001b[0;31mZeroDivisionError\u001b[0m                         Traceback (most recent call last)",
      "Cell \u001b[0;32mIn[34], line 27\u001b[0m\n\u001b[1;32m     23\u001b[0m df_bottle \u001b[38;5;241m=\u001b[39m df\u001b[38;5;241m.\u001b[39mfilter(pl\u001b[38;5;241m.\u001b[39mcol(\u001b[38;5;124m\"\u001b[39m\u001b[38;5;124mcreation_timestamp\u001b[39m\u001b[38;5;124m\"\u001b[39m)\u001b[38;5;241m.\u001b[39mis_between(start_date, end_date))\n\u001b[1;32m     25\u001b[0m data \u001b[38;5;241m=\u001b[39m df_bottle\u001b[38;5;241m.\u001b[39mselect(pl\u001b[38;5;241m.\u001b[39mcol(\u001b[38;5;124m\"\u001b[39m\u001b[38;5;124mgmp343_filtered\u001b[39m\u001b[38;5;124m\"\u001b[39m))\u001b[38;5;241m.\u001b[39mcollect()\u001b[38;5;241m.\u001b[39mto_series()\u001b[38;5;241m.\u001b[39mto_list()\n\u001b[0;32m---> 27\u001b[0m avg \u001b[38;5;241m=\u001b[39m \u001b[43maverage_bottle\u001b[49m\u001b[43m(\u001b[49m\u001b[43mdata\u001b[49m\u001b[43m)\u001b[49m \u001b[38;5;241m*\u001b[39m acropolis_slope \u001b[38;5;241m+\u001b[39m acropolis_intercept\n\u001b[1;32m     29\u001b[0m \u001b[38;5;28mprint\u001b[39m(\u001b[38;5;124mf\u001b[39m\u001b[38;5;124m\"\u001b[39m\u001b[38;5;124mMC18 Average: \u001b[39m\u001b[38;5;132;01m{\u001b[39;00mavg\u001b[38;5;132;01m}\u001b[39;00m\u001b[38;5;124m\"\u001b[39m)\n\u001b[1;32m     32\u001b[0m \u001b[38;5;66;03m# Plots\u001b[39;00m\n",
      "File \u001b[0;32m~/Documents/PROJECTS/acropolis-visualisation/notebooks/calibration_analysis/utils.py:28\u001b[0m, in \u001b[0;36maverage_bottle\u001b[0;34m(conc_list)\u001b[0m\n\u001b[1;32m     27\u001b[0m \u001b[38;5;28;01mdef\u001b[39;00m \u001b[38;5;21maverage_bottle\u001b[39m(conc_list):\n\u001b[0;32m---> 28\u001b[0m     uncut_avg \u001b[38;5;241m=\u001b[39m \u001b[38;5;28;43msum\u001b[39;49m\u001b[43m(\u001b[49m\u001b[43mconc_list\u001b[49m\u001b[43m)\u001b[49m\u001b[43m \u001b[49m\u001b[38;5;241;43m/\u001b[39;49m\u001b[43m \u001b[49m\u001b[38;5;28;43mlen\u001b[39;49m\u001b[43m(\u001b[49m\u001b[43mconc_list\u001b[49m\u001b[43m)\u001b[49m\n\u001b[1;32m     29\u001b[0m     \u001b[38;5;28mprint\u001b[39m(\u001b[38;5;124mf\u001b[39m\u001b[38;5;124m\"\u001b[39m\u001b[38;5;124mUncut average: \u001b[39m\u001b[38;5;132;01m{\u001b[39;00muncut_avg\u001b[38;5;132;01m}\u001b[39;00m\u001b[38;5;124m\"\u001b[39m)\n\u001b[1;32m     31\u001b[0m     \u001b[38;5;28;01mif\u001b[39;00m \u001b[38;5;28mlen\u001b[39m(conc_list) \u001b[38;5;241m>\u001b[39m \u001b[38;5;241m0\u001b[39m:\n",
      "\u001b[0;31mZeroDivisionError\u001b[0m: division by zero"
     ]
    }
   ],
   "source": [
    "# bottle 36\n",
    "\n",
    "# PICARRO\n",
    "start_date = datetime(2023, 12, 19, 10, 45, 0).replace(tzinfo=timezone.utc)\n",
    "end_date = datetime(2023, 12, 19, 10, 55, 0).replace(tzinfo=timezone.utc)\n",
    "\n",
    "df_p_bottle = df_p.select(pl.col(\"datetime\").dt.cast_time_unit(\"us\").dt.replace_time_zone(\"UTC\").alias(\"creation_timestamp\"),\n",
    "            pl.col(\"CO2_dry\"),\n",
    "            pl.col(\"h2o_reported\")) \\\n",
    "    .sort(\"creation_timestamp\") \\\n",
    "    .filter(pl.col(\"creation_timestamp\").is_between(start_date, end_date))\n",
    "\n",
    "data = df_p_bottle.select(pl.col(\"CO2_dry\")).collect().to_series().to_list()\n",
    "data_cut = data[int(len(data)*0.3):int(len(data)*0.95)]\n",
    "\n",
    "avg = average_bottle(data_cut) * picarro_slope + picarro_intercept\n",
    "\n",
    "print(f\"Picarro Average: {avg}\")\n",
    "\n",
    "# Plots\n",
    "plot_sensor_measurement(df_p_bottle.collect(), col_name=\"CO2_dry\")\n",
    "plot_sensor_measurement(df_p_bottle.collect(), col_name=\"h2o_reported\")\n"
   ]
  },
  {
   "cell_type": "code",
   "execution_count": null,
   "metadata": {},
   "outputs": [],
   "source": []
  }
 ],
 "metadata": {
  "kernelspec": {
   "display_name": ".venv",
   "language": "python",
   "name": "python3"
  },
  "language_info": {
   "codemirror_mode": {
    "name": "ipython",
    "version": 3
   },
   "file_extension": ".py",
   "mimetype": "text/x-python",
   "name": "python",
   "nbconvert_exporter": "python",
   "pygments_lexer": "ipython3",
   "version": "3.11.6"
  }
 },
 "nbformat": 4,
 "nbformat_minor": 2
}
