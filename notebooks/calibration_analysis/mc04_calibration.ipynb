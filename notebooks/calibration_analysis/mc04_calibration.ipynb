{
 "cells": [
  {
   "cell_type": "code",
   "execution_count": 1,
   "metadata": {},
   "outputs": [
    {
     "ename": "FileNotFoundError",
     "evalue": "No such file or directory: ...ECTS/ACROPOLIS/Software/acropolis-visualisation/data/old_db_renamed_measurements.parquet",
     "output_type": "error",
     "traceback": [
      "\u001b[0;31m---------------------------------------------------------------------------\u001b[0m",
      "\u001b[0;31mFileNotFoundError\u001b[0m                         Traceback (most recent call last)",
      "\u001b[1;32m/Users/patrickaigner/Documents/PROJECTS/acropolis-visualisation/notebooks/calibration_analysis/mc04_calibration.ipynb Cell 1\u001b[0m line \u001b[0;36m1\n\u001b[1;32m     <a href='vscode-notebook-cell:/Users/patrickaigner/Documents/PROJECTS/acropolis-visualisation/notebooks/calibration_analysis/mc04_calibration.ipynb#W0sZmlsZQ%3D%3D?line=12'>13</a>\u001b[0m \u001b[39m#------------\u001b[39;00m\n\u001b[1;32m     <a href='vscode-notebook-cell:/Users/patrickaigner/Documents/PROJECTS/acropolis-visualisation/notebooks/calibration_analysis/mc04_calibration.ipynb#W0sZmlsZQ%3D%3D?line=14'>15</a>\u001b[0m data_directory \u001b[39m=\u001b[39m \u001b[39m\"\u001b[39m\u001b[39m/Users/patrickaigner/Documents/PROJECTS/ACROPOLIS/Software/acropolis-visualisation/data\u001b[39m\u001b[39m\"\u001b[39m\n\u001b[0;32m---> <a href='vscode-notebook-cell:/Users/patrickaigner/Documents/PROJECTS/acropolis-visualisation/notebooks/calibration_analysis/mc04_calibration.ipynb#W0sZmlsZQ%3D%3D?line=15'>16</a>\u001b[0m df \u001b[39m=\u001b[39m pl\u001b[39m.\u001b[39;49mscan_parquet(os\u001b[39m.\u001b[39;49mpath\u001b[39m.\u001b[39;49mjoin(data_directory, \u001b[39m\"\u001b[39;49m\u001b[39mold_db_renamed_measurements.parquet\u001b[39;49m\u001b[39m\"\u001b[39;49m))\n\u001b[1;32m     <a href='vscode-notebook-cell:/Users/patrickaigner/Documents/PROJECTS/acropolis-visualisation/notebooks/calibration_analysis/mc04_calibration.ipynb#W0sZmlsZQ%3D%3D?line=17'>18</a>\u001b[0m df \u001b[39m=\u001b[39m df\u001b[39m.\u001b[39mfilter(pl\u001b[39m.\u001b[39mcol(\u001b[39m\"\u001b[39m\u001b[39msystem_name\u001b[39m\u001b[39m\"\u001b[39m) \u001b[39m==\u001b[39m \u001b[39mf\u001b[39m\u001b[39m\"\u001b[39m\u001b[39mtum-esm-midcost-raspi-\u001b[39m\u001b[39m{\u001b[39;00msensor_id\u001b[39m}\u001b[39;00m\u001b[39m\"\u001b[39m) \\\n\u001b[1;32m     <a href='vscode-notebook-cell:/Users/patrickaigner/Documents/PROJECTS/acropolis-visualisation/notebooks/calibration_analysis/mc04_calibration.ipynb#W0sZmlsZQ%3D%3D?line=18'>19</a>\u001b[0m     \u001b[39m.\u001b[39msort(pl\u001b[39m.\u001b[39mcol(\u001b[39m\"\u001b[39m\u001b[39mcreation_timestamp\u001b[39m\u001b[39m\"\u001b[39m)) \\\n\u001b[1;32m     <a href='vscode-notebook-cell:/Users/patrickaigner/Documents/PROJECTS/acropolis-visualisation/notebooks/calibration_analysis/mc04_calibration.ipynb#W0sZmlsZQ%3D%3D?line=19'>20</a>\u001b[0m     \u001b[39m.\u001b[39mfilter(pl\u001b[39m.\u001b[39mcol(\u001b[39m\"\u001b[39m\u001b[39mgmp343_filtered\u001b[39m\u001b[39m\"\u001b[39m) \u001b[39m>\u001b[39m \u001b[39m0.0\u001b[39m) \\\n\u001b[1;32m     <a href='vscode-notebook-cell:/Users/patrickaigner/Documents/PROJECTS/acropolis-visualisation/notebooks/calibration_analysis/mc04_calibration.ipynb#W0sZmlsZQ%3D%3D?line=20'>21</a>\u001b[0m     \u001b[39m.\u001b[39mselect(pl\u001b[39m.\u001b[39mcol(\u001b[39m\"\u001b[39m\u001b[39mcreation_timestamp\u001b[39m\u001b[39m\"\u001b[39m),\n\u001b[1;32m     <a href='vscode-notebook-cell:/Users/patrickaigner/Documents/PROJECTS/acropolis-visualisation/notebooks/calibration_analysis/mc04_calibration.ipynb#W0sZmlsZQ%3D%3D?line=21'>22</a>\u001b[0m                 pl\u001b[39m.\u001b[39mcol(\u001b[39m\"\u001b[39m\u001b[39mgmp343_filtered\u001b[39m\u001b[39m\"\u001b[39m),\n\u001b[1;32m     <a href='vscode-notebook-cell:/Users/patrickaigner/Documents/PROJECTS/acropolis-visualisation/notebooks/calibration_analysis/mc04_calibration.ipynb#W0sZmlsZQ%3D%3D?line=22'>23</a>\u001b[0m                 pl\u001b[39m.\u001b[39mcol(\u001b[39m\"\u001b[39m\u001b[39msht45_humidity\u001b[39m\u001b[39m\"\u001b[39m))\n",
      "File \u001b[0;32m~/Documents/PROJECTS/acropolis-visualisation/.venv/lib/python3.11/site-packages/polars/io/parquet/functions.py:233\u001b[0m, in \u001b[0;36mscan_parquet\u001b[0;34m(source, n_rows, cache, parallel, rechunk, row_count_name, row_count_offset, storage_options, low_memory, use_statistics)\u001b[0m\n\u001b[1;32m    230\u001b[0m \u001b[39mif\u001b[39;00m \u001b[39misinstance\u001b[39m(source, (\u001b[39mstr\u001b[39m, Path)):\n\u001b[1;32m    231\u001b[0m     source \u001b[39m=\u001b[39m normalise_filepath(source)\n\u001b[0;32m--> 233\u001b[0m \u001b[39mreturn\u001b[39;00m pl\u001b[39m.\u001b[39;49mLazyFrame\u001b[39m.\u001b[39;49m_scan_parquet(\n\u001b[1;32m    234\u001b[0m     source,\n\u001b[1;32m    235\u001b[0m     n_rows\u001b[39m=\u001b[39;49mn_rows,\n\u001b[1;32m    236\u001b[0m     cache\u001b[39m=\u001b[39;49mcache,\n\u001b[1;32m    237\u001b[0m     parallel\u001b[39m=\u001b[39;49mparallel,\n\u001b[1;32m    238\u001b[0m     rechunk\u001b[39m=\u001b[39;49mrechunk,\n\u001b[1;32m    239\u001b[0m     row_count_name\u001b[39m=\u001b[39;49mrow_count_name,\n\u001b[1;32m    240\u001b[0m     row_count_offset\u001b[39m=\u001b[39;49mrow_count_offset,\n\u001b[1;32m    241\u001b[0m     storage_options\u001b[39m=\u001b[39;49mstorage_options,\n\u001b[1;32m    242\u001b[0m     low_memory\u001b[39m=\u001b[39;49mlow_memory,\n\u001b[1;32m    243\u001b[0m     use_statistics\u001b[39m=\u001b[39;49muse_statistics,\n\u001b[1;32m    244\u001b[0m )\n",
      "File \u001b[0;32m~/Documents/PROJECTS/acropolis-visualisation/.venv/lib/python3.11/site-packages/polars/lazyframe/frame.py:440\u001b[0m, in \u001b[0;36mLazyFrame._scan_parquet\u001b[0;34m(cls, source, n_rows, cache, parallel, rechunk, row_count_name, row_count_offset, storage_options, low_memory, use_statistics)\u001b[0m\n\u001b[1;32m    438\u001b[0m \u001b[39m# try fsspec scanner\u001b[39;00m\n\u001b[1;32m    439\u001b[0m \u001b[39mif\u001b[39;00m \u001b[39mnot\u001b[39;00m _is_local_file(source):\n\u001b[0;32m--> 440\u001b[0m     scan \u001b[39m=\u001b[39m _scan_parquet_fsspec(source, storage_options)\n\u001b[1;32m    441\u001b[0m     \u001b[39mif\u001b[39;00m n_rows:\n\u001b[1;32m    442\u001b[0m         scan \u001b[39m=\u001b[39m scan\u001b[39m.\u001b[39mhead(n_rows)\n",
      "File \u001b[0;32m~/Documents/PROJECTS/acropolis-visualisation/.venv/lib/python3.11/site-packages/polars/io/parquet/anonymous_scan.py:22\u001b[0m, in \u001b[0;36m_scan_parquet_fsspec\u001b[0;34m(source, storage_options)\u001b[0m\n\u001b[1;32m     20\u001b[0m storage_options \u001b[39m=\u001b[39m storage_options \u001b[39mor\u001b[39;00m {}\n\u001b[1;32m     21\u001b[0m \u001b[39mwith\u001b[39;00m _prepare_file_arg(source, \u001b[39m*\u001b[39m\u001b[39m*\u001b[39mstorage_options) \u001b[39mas\u001b[39;00m data:\n\u001b[0;32m---> 22\u001b[0m     schema \u001b[39m=\u001b[39m polars\u001b[39m.\u001b[39;49mio\u001b[39m.\u001b[39;49mparquet\u001b[39m.\u001b[39;49mread_parquet_schema(data)\n\u001b[1;32m     24\u001b[0m \u001b[39mreturn\u001b[39;00m pl\u001b[39m.\u001b[39mLazyFrame\u001b[39m.\u001b[39m_scan_python_function(schema, func)\n",
      "File \u001b[0;32m~/Documents/PROJECTS/acropolis-visualisation/.venv/lib/python3.11/site-packages/polars/io/parquet/functions.py:167\u001b[0m, in \u001b[0;36mread_parquet_schema\u001b[0;34m(source)\u001b[0m\n\u001b[1;32m    164\u001b[0m \u001b[39mif\u001b[39;00m \u001b[39misinstance\u001b[39m(source, (\u001b[39mstr\u001b[39m, Path)):\n\u001b[1;32m    165\u001b[0m     source \u001b[39m=\u001b[39m normalise_filepath(source)\n\u001b[0;32m--> 167\u001b[0m \u001b[39mreturn\u001b[39;00m _read_parquet_schema(source)\n",
      "\u001b[0;31mFileNotFoundError\u001b[0m: No such file or directory: ...ECTS/ACROPOLIS/Software/acropolis-visualisation/data/old_db_renamed_measurements.parquet"
     ]
    }
   ],
   "source": [
    "# Imports & Inits\n",
    "\n",
    "from datetime import datetime\n",
    "from datetime import timezone\n",
    "import polars as pl\n",
    "import os\n",
    "\n",
    "from utils import two_point_calibration, average_bottle, plot_sensor_measurement\n",
    "\n",
    "\n",
    "#------------\n",
    "sensor_id = 4\n",
    "#------------\n",
    "\n",
    "data_directory = \"/Users/patrickaigner/Documents/PROJECTS/ACROPOLIS/Software/acropolis-visualisation/data\"\n",
    "df = pl.scan_parquet(os.path.join(data_directory, \"old_db_renamed_measurements.parquet\"))\n",
    "\n",
    "df = df.filter(pl.col(\"system_name\") == f\"tum-esm-midcost-raspi-{sensor_id}\") \\\n",
    "    .sort(pl.col(\"creation_timestamp\")) \\\n",
    "    .filter(pl.col(\"gmp343_filtered\") > 0.0) \\\n",
    "    .select(pl.col(\"creation_timestamp\"),\n",
    "                pl.col(\"gmp343_filtered\"),\n",
    "                pl.col(\"sht45_humidity\"))"
   ]
  },
  {
   "cell_type": "code",
   "execution_count": null,
   "metadata": {},
   "outputs": [
    {
     "data": {
      "application/vnd.plotly.v1+json": {
       "config": {
        "plotlyServerURL": "https://plot.ly"
       },
       "data": [
        {
         "hovertemplate": "creation_timestamp=%{x}<br>gmp343_filtered=%{y}<extra></extra>",
         "legendgroup": "",
         "line": {
          "color": "#636efa",
          "dash": "solid"
         },
         "marker": {
          "symbol": "circle"
         },
         "mode": "markers+lines",
         "name": "",
         "orientation": "v",
         "showlegend": false,
         "type": "scatter",
         "x": [
          "2023-09-18T12:39:30.830000+00:00",
          "2023-09-18T12:39:40.840000+00:00",
          "2023-09-18T12:39:50.900000+00:00",
          "2023-09-18T12:40:00.860000+00:00",
          "2023-09-18T12:40:10.870000+00:00",
          "2023-09-18T12:40:20.880000+00:00",
          "2023-09-18T12:40:30.880000+00:00",
          "2023-09-18T12:40:40.850000+00:00",
          "2023-09-18T12:40:50.860000+00:00",
          "2023-09-18T12:41:00.870000+00:00",
          "2023-09-18T12:41:10.870000+00:00",
          "2023-09-18T12:41:20.920000+00:00",
          "2023-09-18T12:41:30.860000+00:00",
          "2023-09-18T12:41:40.880000+00:00",
          "2023-09-18T12:41:50.880000+00:00",
          "2023-09-18T12:42:00.880000+00:00",
          "2023-09-18T12:42:10.890000+00:00",
          "2023-09-18T12:42:20.950000+00:00",
          "2023-09-18T12:42:30.910000+00:00",
          "2023-09-18T12:42:41.020000+00:00",
          "2023-09-18T12:42:50.980000+00:00",
          "2023-09-18T12:43:01.040000+00:00",
          "2023-09-18T12:43:10.990000+00:00",
          "2023-09-18T12:43:21+00:00",
          "2023-09-18T12:43:31.010000+00:00",
          "2023-09-18T12:43:40.960000+00:00",
          "2023-09-18T12:43:51.020000+00:00",
          "2023-09-18T12:44:00.980000+00:00",
          "2023-09-18T12:44:11.040000+00:00",
          "2023-09-18T12:44:20.990000+00:00",
          "2023-09-18T12:44:31.040000+00:00",
          "2023-09-18T12:44:41+00:00",
          "2023-09-18T12:44:51.070000+00:00",
          "2023-09-18T12:45:01.020000+00:00",
          "2023-09-18T12:45:11.030000+00:00",
          "2023-09-18T12:45:21.050000+00:00",
          "2023-09-18T12:45:31.050000+00:00",
          "2023-09-18T12:45:41.060000+00:00",
          "2023-09-18T12:45:51.070000+00:00",
          "2023-09-18T12:46:01.070000+00:00",
          "2023-09-18T12:46:11.070000+00:00",
          "2023-09-18T12:46:21.080000+00:00",
          "2023-09-18T12:46:31.100000+00:00",
          "2023-09-18T12:46:41.090000+00:00",
          "2023-09-18T12:46:51.100000+00:00",
          "2023-09-18T12:47:01.110000+00:00",
          "2023-09-18T12:47:11.110000+00:00",
          "2023-09-18T12:47:21.120000+00:00",
          "2023-09-18T12:47:31.120000+00:00",
          "2023-09-18T12:47:41.120000+00:00",
          "2023-09-18T12:47:51.130000+00:00",
          "2023-09-18T12:48:01.140000+00:00",
          "2023-09-18T12:48:11.150000+00:00",
          "2023-09-18T12:48:21.150000+00:00",
          "2023-09-18T12:48:31.150000+00:00",
          "2023-09-18T12:48:41.150000+00:00",
          "2023-09-18T12:48:51.160000+00:00",
          "2023-09-18T12:49:01.150000+00:00",
          "2023-09-18T12:49:11.160000+00:00",
          "2023-09-18T12:49:21.170000+00:00",
          "2023-09-18T12:49:31.180000+00:00",
          "2023-09-18T12:49:41.180000+00:00",
          "2023-09-18T12:49:51.190000+00:00",
          "2023-09-18T12:50:01.200000+00:00",
          "2023-09-18T12:50:11.210000+00:00",
          "2023-09-18T12:50:21.220000+00:00",
          "2023-09-18T12:50:31.230000+00:00",
          "2023-09-18T12:50:41.240000+00:00",
          "2023-09-18T12:50:51.240000+00:00",
          "2023-09-18T12:51:01.250000+00:00",
          "2023-09-18T12:51:11.270000+00:00",
          "2023-09-18T12:51:21.270000+00:00",
          "2023-09-18T12:51:31.270000+00:00",
          "2023-09-18T12:51:41.280000+00:00",
          "2023-09-18T12:51:51.280000+00:00",
          "2023-09-18T12:52:01.290000+00:00",
          "2023-09-18T12:52:11.310000+00:00",
          "2023-09-18T12:52:21.310000+00:00",
          "2023-09-18T12:52:31.320000+00:00",
          "2023-09-18T12:52:41.330000+00:00",
          "2023-09-18T12:52:51.330000+00:00",
          "2023-09-18T12:53:01.340000+00:00",
          "2023-09-18T12:53:11.340000+00:00",
          "2023-09-18T12:53:21.350000+00:00",
          "2023-09-18T12:53:31.350000+00:00",
          "2023-09-18T12:53:41.350000+00:00",
          "2023-09-18T12:53:51.370000+00:00",
          "2023-09-18T12:54:01.380000+00:00",
          "2023-09-18T12:54:11.380000+00:00",
          "2023-09-18T12:54:21.390000+00:00",
          "2023-09-18T12:54:31.400000+00:00",
          "2023-09-18T12:54:41.400000+00:00",
          "2023-09-18T12:54:51.430000+00:00",
          "2023-09-18T12:55:01.420000+00:00",
          "2023-09-18T12:55:11.430000+00:00",
          "2023-09-18T12:55:21.440000+00:00",
          "2023-09-18T12:55:31.440000+00:00",
          "2023-09-18T12:55:41.450000+00:00",
          "2023-09-18T12:55:51.470000+00:00",
          "2023-09-18T12:56:01.480000+00:00",
          "2023-09-18T12:56:11.480000+00:00",
          "2023-09-18T12:56:21.490000+00:00",
          "2023-09-18T12:56:31.500000+00:00",
          "2023-09-18T12:56:41.500000+00:00",
          "2023-09-18T12:56:51.520000+00:00",
          "2023-09-18T12:57:01.530000+00:00",
          "2023-09-18T12:57:11.530000+00:00",
          "2023-09-18T12:57:21.540000+00:00",
          "2023-09-18T12:57:31.660000+00:00",
          "2023-09-18T12:57:41.650000+00:00",
          "2023-09-18T12:57:51.600000+00:00",
          "2023-09-18T12:58:01.660000+00:00",
          "2023-09-18T12:58:11.620000+00:00",
          "2023-09-18T12:58:21.680000+00:00",
          "2023-09-18T12:58:31.640000+00:00",
          "2023-09-18T12:58:41.690000+00:00",
          "2023-09-18T12:58:51.640000+00:00",
          "2023-09-18T12:59:01.640000+00:00",
          "2023-09-18T12:59:11.690000+00:00",
          "2023-09-18T12:59:21.650000+00:00",
          "2023-09-18T12:59:31.660000+00:00",
          "2023-09-18T12:59:41.660000+00:00",
          "2023-09-18T12:59:51.670000+00:00",
          "2023-09-18T13:00:01.680000+00:00",
          "2023-09-18T13:00:11.680000+00:00",
          "2023-09-18T13:00:21.690000+00:00",
          "2023-09-18T13:00:31.700000+00:00",
          "2023-09-18T13:00:41.650000+00:00",
          "2023-09-18T13:00:51.650000+00:00",
          "2023-09-18T13:01:01.670000+00:00",
          "2023-09-18T13:01:11.730000+00:00",
          "2023-09-18T13:01:21.680000+00:00",
          "2023-09-18T13:01:31.750000+00:00",
          "2023-09-18T13:01:41.710000+00:00",
          "2023-09-18T13:01:51.710000+00:00",
          "2023-09-18T13:02:01.780000+00:00",
          "2023-09-18T13:02:11.740000+00:00",
          "2023-09-18T13:02:21.850000+00:00",
          "2023-09-18T13:02:31.810000+00:00",
          "2023-09-18T13:02:41.800000+00:00",
          "2023-09-18T13:02:51.880000+00:00",
          "2023-09-18T13:03:01.790000+00:00",
          "2023-09-18T13:03:11.830000+00:00",
          "2023-09-18T13:03:21.890000+00:00",
          "2023-09-18T13:03:31.790000+00:00",
          "2023-09-18T13:03:41.850000+00:00",
          "2023-09-18T13:03:51.880000+00:00",
          "2023-09-18T13:04:01.860000+00:00",
          "2023-09-18T13:04:11.820000+00:00",
          "2023-09-18T13:04:21.870000+00:00",
          "2023-09-18T13:04:31.830000+00:00",
          "2023-09-18T13:04:41.840000+00:00",
          "2023-09-18T13:04:51.900000+00:00",
          "2023-09-18T13:05:01.850000+00:00",
          "2023-09-18T13:05:11.860000+00:00",
          "2023-09-18T13:05:21.870000+00:00",
          "2023-09-18T13:05:31.880000+00:00",
          "2023-09-18T13:05:41.880000+00:00",
          "2023-09-18T13:05:51.890000+00:00",
          "2023-09-18T13:06:01.910000+00:00",
          "2023-09-18T13:06:11.900000+00:00",
          "2023-09-18T13:06:21.910000+00:00",
          "2023-09-18T13:06:31.930000+00:00",
          "2023-09-18T13:06:41.940000+00:00",
          "2023-09-18T13:06:51.950000+00:00",
          "2023-09-18T13:07:01.940000+00:00",
          "2023-09-18T13:07:11.950000+00:00",
          "2023-09-18T13:07:21.970000+00:00",
          "2023-09-18T13:07:31.970000+00:00",
          "2023-09-18T13:07:41.980000+00:00",
          "2023-09-18T13:07:51.980000+00:00"
         ],
         "xaxis": "x",
         "y": [
          609.7,
          606,
          608.4,
          605,
          609.7,
          606.8,
          601.2,
          607.5,
          600.1,
          603.9,
          607.5,
          604.2,
          609.7,
          604,
          607.9,
          603.5,
          603.9,
          607.7,
          606,
          601.9,
          609.5,
          605.2,
          609.3,
          606.7,
          605.4,
          608.7,
          603.8,
          605.2,
          605.1,
          603.4,
          606.5,
          604,
          609.8,
          612.1,
          606.4,
          604.3,
          603.4,
          611.2,
          602.4,
          606,
          607.2,
          603,
          609.9,
          607.8,
          609.1,
          607.9,
          603.5,
          604.5,
          603.8,
          599.6,
          606.6,
          601,
          605.5,
          611.4,
          603,
          613.3,
          602.2,
          609.7,
          607.3,
          601.2,
          612.6,
          606.3,
          602.1,
          606,
          605,
          605.2,
          601,
          602.2,
          607.6,
          608.4,
          607.7,
          608.2,
          604,
          605.2,
          604,
          606.4,
          607.4,
          601.2,
          606.7,
          602.6,
          604,
          607.7,
          607.5,
          607.7,
          603.7,
          604.5,
          605.3,
          605.4,
          602.8,
          608.7,
          615.6,
          604.4,
          607,
          599.8,
          609.7,
          603.3,
          611,
          603.6,
          603.8,
          607.4,
          601.7,
          608.6,
          597.8,
          606.8,
          608.8,
          611.2,
          602.7,
          609.1,
          606.8,
          608.1,
          605.2,
          606.6,
          607.9,
          606.7,
          609.1,
          607,
          606.4,
          607,
          604.7,
          602.2,
          607,
          605.9,
          608.5,
          604.5,
          605.3,
          607.5,
          602,
          607.1,
          613,
          613,
          613.1,
          599.3,
          607.8,
          609.7,
          609.2,
          607.6,
          606.7,
          608.8,
          607.7,
          609.7,
          608.9,
          609.2,
          604.4,
          611.9,
          604.4,
          608.7,
          607.8,
          612.6,
          609.3,
          603.6,
          609.5,
          609.1,
          605.6,
          603.1,
          610.5,
          607.3,
          608.9,
          614.3,
          607.7,
          599.1,
          609.6,
          610,
          603.5,
          612.1,
          603.6,
          603.5,
          605.2,
          602,
          602.1,
          606.7,
          608
         ],
         "yaxis": "y"
        }
       ],
       "layout": {
        "legend": {
         "tracegroupgap": 0
        },
        "template": {
         "data": {
          "bar": [
           {
            "error_x": {
             "color": "#2a3f5f"
            },
            "error_y": {
             "color": "#2a3f5f"
            },
            "marker": {
             "line": {
              "color": "#E5ECF6",
              "width": 0.5
             },
             "pattern": {
              "fillmode": "overlay",
              "size": 10,
              "solidity": 0.2
             }
            },
            "type": "bar"
           }
          ],
          "barpolar": [
           {
            "marker": {
             "line": {
              "color": "#E5ECF6",
              "width": 0.5
             },
             "pattern": {
              "fillmode": "overlay",
              "size": 10,
              "solidity": 0.2
             }
            },
            "type": "barpolar"
           }
          ],
          "carpet": [
           {
            "aaxis": {
             "endlinecolor": "#2a3f5f",
             "gridcolor": "white",
             "linecolor": "white",
             "minorgridcolor": "white",
             "startlinecolor": "#2a3f5f"
            },
            "baxis": {
             "endlinecolor": "#2a3f5f",
             "gridcolor": "white",
             "linecolor": "white",
             "minorgridcolor": "white",
             "startlinecolor": "#2a3f5f"
            },
            "type": "carpet"
           }
          ],
          "choropleth": [
           {
            "colorbar": {
             "outlinewidth": 0,
             "ticks": ""
            },
            "type": "choropleth"
           }
          ],
          "contour": [
           {
            "colorbar": {
             "outlinewidth": 0,
             "ticks": ""
            },
            "colorscale": [
             [
              0,
              "#0d0887"
             ],
             [
              0.1111111111111111,
              "#46039f"
             ],
             [
              0.2222222222222222,
              "#7201a8"
             ],
             [
              0.3333333333333333,
              "#9c179e"
             ],
             [
              0.4444444444444444,
              "#bd3786"
             ],
             [
              0.5555555555555556,
              "#d8576b"
             ],
             [
              0.6666666666666666,
              "#ed7953"
             ],
             [
              0.7777777777777778,
              "#fb9f3a"
             ],
             [
              0.8888888888888888,
              "#fdca26"
             ],
             [
              1,
              "#f0f921"
             ]
            ],
            "type": "contour"
           }
          ],
          "contourcarpet": [
           {
            "colorbar": {
             "outlinewidth": 0,
             "ticks": ""
            },
            "type": "contourcarpet"
           }
          ],
          "heatmap": [
           {
            "colorbar": {
             "outlinewidth": 0,
             "ticks": ""
            },
            "colorscale": [
             [
              0,
              "#0d0887"
             ],
             [
              0.1111111111111111,
              "#46039f"
             ],
             [
              0.2222222222222222,
              "#7201a8"
             ],
             [
              0.3333333333333333,
              "#9c179e"
             ],
             [
              0.4444444444444444,
              "#bd3786"
             ],
             [
              0.5555555555555556,
              "#d8576b"
             ],
             [
              0.6666666666666666,
              "#ed7953"
             ],
             [
              0.7777777777777778,
              "#fb9f3a"
             ],
             [
              0.8888888888888888,
              "#fdca26"
             ],
             [
              1,
              "#f0f921"
             ]
            ],
            "type": "heatmap"
           }
          ],
          "heatmapgl": [
           {
            "colorbar": {
             "outlinewidth": 0,
             "ticks": ""
            },
            "colorscale": [
             [
              0,
              "#0d0887"
             ],
             [
              0.1111111111111111,
              "#46039f"
             ],
             [
              0.2222222222222222,
              "#7201a8"
             ],
             [
              0.3333333333333333,
              "#9c179e"
             ],
             [
              0.4444444444444444,
              "#bd3786"
             ],
             [
              0.5555555555555556,
              "#d8576b"
             ],
             [
              0.6666666666666666,
              "#ed7953"
             ],
             [
              0.7777777777777778,
              "#fb9f3a"
             ],
             [
              0.8888888888888888,
              "#fdca26"
             ],
             [
              1,
              "#f0f921"
             ]
            ],
            "type": "heatmapgl"
           }
          ],
          "histogram": [
           {
            "marker": {
             "pattern": {
              "fillmode": "overlay",
              "size": 10,
              "solidity": 0.2
             }
            },
            "type": "histogram"
           }
          ],
          "histogram2d": [
           {
            "colorbar": {
             "outlinewidth": 0,
             "ticks": ""
            },
            "colorscale": [
             [
              0,
              "#0d0887"
             ],
             [
              0.1111111111111111,
              "#46039f"
             ],
             [
              0.2222222222222222,
              "#7201a8"
             ],
             [
              0.3333333333333333,
              "#9c179e"
             ],
             [
              0.4444444444444444,
              "#bd3786"
             ],
             [
              0.5555555555555556,
              "#d8576b"
             ],
             [
              0.6666666666666666,
              "#ed7953"
             ],
             [
              0.7777777777777778,
              "#fb9f3a"
             ],
             [
              0.8888888888888888,
              "#fdca26"
             ],
             [
              1,
              "#f0f921"
             ]
            ],
            "type": "histogram2d"
           }
          ],
          "histogram2dcontour": [
           {
            "colorbar": {
             "outlinewidth": 0,
             "ticks": ""
            },
            "colorscale": [
             [
              0,
              "#0d0887"
             ],
             [
              0.1111111111111111,
              "#46039f"
             ],
             [
              0.2222222222222222,
              "#7201a8"
             ],
             [
              0.3333333333333333,
              "#9c179e"
             ],
             [
              0.4444444444444444,
              "#bd3786"
             ],
             [
              0.5555555555555556,
              "#d8576b"
             ],
             [
              0.6666666666666666,
              "#ed7953"
             ],
             [
              0.7777777777777778,
              "#fb9f3a"
             ],
             [
              0.8888888888888888,
              "#fdca26"
             ],
             [
              1,
              "#f0f921"
             ]
            ],
            "type": "histogram2dcontour"
           }
          ],
          "mesh3d": [
           {
            "colorbar": {
             "outlinewidth": 0,
             "ticks": ""
            },
            "type": "mesh3d"
           }
          ],
          "parcoords": [
           {
            "line": {
             "colorbar": {
              "outlinewidth": 0,
              "ticks": ""
             }
            },
            "type": "parcoords"
           }
          ],
          "pie": [
           {
            "automargin": true,
            "type": "pie"
           }
          ],
          "scatter": [
           {
            "fillpattern": {
             "fillmode": "overlay",
             "size": 10,
             "solidity": 0.2
            },
            "type": "scatter"
           }
          ],
          "scatter3d": [
           {
            "line": {
             "colorbar": {
              "outlinewidth": 0,
              "ticks": ""
             }
            },
            "marker": {
             "colorbar": {
              "outlinewidth": 0,
              "ticks": ""
             }
            },
            "type": "scatter3d"
           }
          ],
          "scattercarpet": [
           {
            "marker": {
             "colorbar": {
              "outlinewidth": 0,
              "ticks": ""
             }
            },
            "type": "scattercarpet"
           }
          ],
          "scattergeo": [
           {
            "marker": {
             "colorbar": {
              "outlinewidth": 0,
              "ticks": ""
             }
            },
            "type": "scattergeo"
           }
          ],
          "scattergl": [
           {
            "marker": {
             "colorbar": {
              "outlinewidth": 0,
              "ticks": ""
             }
            },
            "type": "scattergl"
           }
          ],
          "scattermapbox": [
           {
            "marker": {
             "colorbar": {
              "outlinewidth": 0,
              "ticks": ""
             }
            },
            "type": "scattermapbox"
           }
          ],
          "scatterpolar": [
           {
            "marker": {
             "colorbar": {
              "outlinewidth": 0,
              "ticks": ""
             }
            },
            "type": "scatterpolar"
           }
          ],
          "scatterpolargl": [
           {
            "marker": {
             "colorbar": {
              "outlinewidth": 0,
              "ticks": ""
             }
            },
            "type": "scatterpolargl"
           }
          ],
          "scatterternary": [
           {
            "marker": {
             "colorbar": {
              "outlinewidth": 0,
              "ticks": ""
             }
            },
            "type": "scatterternary"
           }
          ],
          "surface": [
           {
            "colorbar": {
             "outlinewidth": 0,
             "ticks": ""
            },
            "colorscale": [
             [
              0,
              "#0d0887"
             ],
             [
              0.1111111111111111,
              "#46039f"
             ],
             [
              0.2222222222222222,
              "#7201a8"
             ],
             [
              0.3333333333333333,
              "#9c179e"
             ],
             [
              0.4444444444444444,
              "#bd3786"
             ],
             [
              0.5555555555555556,
              "#d8576b"
             ],
             [
              0.6666666666666666,
              "#ed7953"
             ],
             [
              0.7777777777777778,
              "#fb9f3a"
             ],
             [
              0.8888888888888888,
              "#fdca26"
             ],
             [
              1,
              "#f0f921"
             ]
            ],
            "type": "surface"
           }
          ],
          "table": [
           {
            "cells": {
             "fill": {
              "color": "#EBF0F8"
             },
             "line": {
              "color": "white"
             }
            },
            "header": {
             "fill": {
              "color": "#C8D4E3"
             },
             "line": {
              "color": "white"
             }
            },
            "type": "table"
           }
          ]
         },
         "layout": {
          "annotationdefaults": {
           "arrowcolor": "#2a3f5f",
           "arrowhead": 0,
           "arrowwidth": 1
          },
          "autotypenumbers": "strict",
          "coloraxis": {
           "colorbar": {
            "outlinewidth": 0,
            "ticks": ""
           }
          },
          "colorscale": {
           "diverging": [
            [
             0,
             "#8e0152"
            ],
            [
             0.1,
             "#c51b7d"
            ],
            [
             0.2,
             "#de77ae"
            ],
            [
             0.3,
             "#f1b6da"
            ],
            [
             0.4,
             "#fde0ef"
            ],
            [
             0.5,
             "#f7f7f7"
            ],
            [
             0.6,
             "#e6f5d0"
            ],
            [
             0.7,
             "#b8e186"
            ],
            [
             0.8,
             "#7fbc41"
            ],
            [
             0.9,
             "#4d9221"
            ],
            [
             1,
             "#276419"
            ]
           ],
           "sequential": [
            [
             0,
             "#0d0887"
            ],
            [
             0.1111111111111111,
             "#46039f"
            ],
            [
             0.2222222222222222,
             "#7201a8"
            ],
            [
             0.3333333333333333,
             "#9c179e"
            ],
            [
             0.4444444444444444,
             "#bd3786"
            ],
            [
             0.5555555555555556,
             "#d8576b"
            ],
            [
             0.6666666666666666,
             "#ed7953"
            ],
            [
             0.7777777777777778,
             "#fb9f3a"
            ],
            [
             0.8888888888888888,
             "#fdca26"
            ],
            [
             1,
             "#f0f921"
            ]
           ],
           "sequentialminus": [
            [
             0,
             "#0d0887"
            ],
            [
             0.1111111111111111,
             "#46039f"
            ],
            [
             0.2222222222222222,
             "#7201a8"
            ],
            [
             0.3333333333333333,
             "#9c179e"
            ],
            [
             0.4444444444444444,
             "#bd3786"
            ],
            [
             0.5555555555555556,
             "#d8576b"
            ],
            [
             0.6666666666666666,
             "#ed7953"
            ],
            [
             0.7777777777777778,
             "#fb9f3a"
            ],
            [
             0.8888888888888888,
             "#fdca26"
            ],
            [
             1,
             "#f0f921"
            ]
           ]
          },
          "colorway": [
           "#636efa",
           "#EF553B",
           "#00cc96",
           "#ab63fa",
           "#FFA15A",
           "#19d3f3",
           "#FF6692",
           "#B6E880",
           "#FF97FF",
           "#FECB52"
          ],
          "font": {
           "color": "#2a3f5f"
          },
          "geo": {
           "bgcolor": "white",
           "lakecolor": "white",
           "landcolor": "#E5ECF6",
           "showlakes": true,
           "showland": true,
           "subunitcolor": "white"
          },
          "hoverlabel": {
           "align": "left"
          },
          "hovermode": "closest",
          "mapbox": {
           "style": "light"
          },
          "paper_bgcolor": "white",
          "plot_bgcolor": "#E5ECF6",
          "polar": {
           "angularaxis": {
            "gridcolor": "white",
            "linecolor": "white",
            "ticks": ""
           },
           "bgcolor": "#E5ECF6",
           "radialaxis": {
            "gridcolor": "white",
            "linecolor": "white",
            "ticks": ""
           }
          },
          "scene": {
           "xaxis": {
            "backgroundcolor": "#E5ECF6",
            "gridcolor": "white",
            "gridwidth": 2,
            "linecolor": "white",
            "showbackground": true,
            "ticks": "",
            "zerolinecolor": "white"
           },
           "yaxis": {
            "backgroundcolor": "#E5ECF6",
            "gridcolor": "white",
            "gridwidth": 2,
            "linecolor": "white",
            "showbackground": true,
            "ticks": "",
            "zerolinecolor": "white"
           },
           "zaxis": {
            "backgroundcolor": "#E5ECF6",
            "gridcolor": "white",
            "gridwidth": 2,
            "linecolor": "white",
            "showbackground": true,
            "ticks": "",
            "zerolinecolor": "white"
           }
          },
          "shapedefaults": {
           "line": {
            "color": "#2a3f5f"
           }
          },
          "ternary": {
           "aaxis": {
            "gridcolor": "white",
            "linecolor": "white",
            "ticks": ""
           },
           "baxis": {
            "gridcolor": "white",
            "linecolor": "white",
            "ticks": ""
           },
           "bgcolor": "#E5ECF6",
           "caxis": {
            "gridcolor": "white",
            "linecolor": "white",
            "ticks": ""
           }
          },
          "title": {
           "x": 0.05
          },
          "xaxis": {
           "automargin": true,
           "gridcolor": "white",
           "linecolor": "white",
           "ticks": "",
           "title": {
            "standoff": 15
           },
           "zerolinecolor": "white",
           "zerolinewidth": 2
          },
          "yaxis": {
           "automargin": true,
           "gridcolor": "white",
           "linecolor": "white",
           "ticks": "",
           "title": {
            "standoff": 15
           },
           "zerolinecolor": "white",
           "zerolinewidth": 2
          }
         }
        },
        "title": {
         "text": "gmp343_filtered"
        },
        "xaxis": {
         "anchor": "y",
         "domain": [
          0,
          1
         ],
         "title": {
          "text": "creation_timestamp"
         }
        },
        "yaxis": {
         "anchor": "x",
         "domain": [
          0,
          1
         ],
         "title": {
          "text": "gmp343_filtered"
         }
        }
       }
      }
     },
     "metadata": {},
     "output_type": "display_data"
    },
    {
     "data": {
      "application/vnd.plotly.v1+json": {
       "config": {
        "plotlyServerURL": "https://plot.ly"
       },
       "data": [
        {
         "hovertemplate": "creation_timestamp=%{x}<br>sht45_humidity=%{y}<extra></extra>",
         "legendgroup": "",
         "line": {
          "color": "#636efa",
          "dash": "solid"
         },
         "marker": {
          "symbol": "circle"
         },
         "mode": "markers+lines",
         "name": "",
         "orientation": "v",
         "showlegend": false,
         "type": "scatter",
         "x": [
          "2023-09-18T12:39:30.830000+00:00",
          "2023-09-18T12:39:40.840000+00:00",
          "2023-09-18T12:39:50.900000+00:00",
          "2023-09-18T12:40:00.860000+00:00",
          "2023-09-18T12:40:10.870000+00:00",
          "2023-09-18T12:40:20.880000+00:00",
          "2023-09-18T12:40:30.880000+00:00",
          "2023-09-18T12:40:40.850000+00:00",
          "2023-09-18T12:40:50.860000+00:00",
          "2023-09-18T12:41:00.870000+00:00",
          "2023-09-18T12:41:10.870000+00:00",
          "2023-09-18T12:41:20.920000+00:00",
          "2023-09-18T12:41:30.860000+00:00",
          "2023-09-18T12:41:40.880000+00:00",
          "2023-09-18T12:41:50.880000+00:00",
          "2023-09-18T12:42:00.880000+00:00",
          "2023-09-18T12:42:10.890000+00:00",
          "2023-09-18T12:42:20.950000+00:00",
          "2023-09-18T12:42:30.910000+00:00",
          "2023-09-18T12:42:41.020000+00:00",
          "2023-09-18T12:42:50.980000+00:00",
          "2023-09-18T12:43:01.040000+00:00",
          "2023-09-18T12:43:10.990000+00:00",
          "2023-09-18T12:43:21+00:00",
          "2023-09-18T12:43:31.010000+00:00",
          "2023-09-18T12:43:40.960000+00:00",
          "2023-09-18T12:43:51.020000+00:00",
          "2023-09-18T12:44:00.980000+00:00",
          "2023-09-18T12:44:11.040000+00:00",
          "2023-09-18T12:44:20.990000+00:00",
          "2023-09-18T12:44:31.040000+00:00",
          "2023-09-18T12:44:41+00:00",
          "2023-09-18T12:44:51.070000+00:00",
          "2023-09-18T12:45:01.020000+00:00",
          "2023-09-18T12:45:11.030000+00:00",
          "2023-09-18T12:45:21.050000+00:00",
          "2023-09-18T12:45:31.050000+00:00",
          "2023-09-18T12:45:41.060000+00:00",
          "2023-09-18T12:45:51.070000+00:00",
          "2023-09-18T12:46:01.070000+00:00",
          "2023-09-18T12:46:11.070000+00:00",
          "2023-09-18T12:46:21.080000+00:00",
          "2023-09-18T12:46:31.100000+00:00",
          "2023-09-18T12:46:41.090000+00:00",
          "2023-09-18T12:46:51.100000+00:00",
          "2023-09-18T12:47:01.110000+00:00",
          "2023-09-18T12:47:11.110000+00:00",
          "2023-09-18T12:47:21.120000+00:00",
          "2023-09-18T12:47:31.120000+00:00",
          "2023-09-18T12:47:41.120000+00:00",
          "2023-09-18T12:47:51.130000+00:00",
          "2023-09-18T12:48:01.140000+00:00",
          "2023-09-18T12:48:11.150000+00:00",
          "2023-09-18T12:48:21.150000+00:00",
          "2023-09-18T12:48:31.150000+00:00",
          "2023-09-18T12:48:41.150000+00:00",
          "2023-09-18T12:48:51.160000+00:00",
          "2023-09-18T12:49:01.150000+00:00",
          "2023-09-18T12:49:11.160000+00:00",
          "2023-09-18T12:49:21.170000+00:00",
          "2023-09-18T12:49:31.180000+00:00",
          "2023-09-18T12:49:41.180000+00:00",
          "2023-09-18T12:49:51.190000+00:00",
          "2023-09-18T12:50:01.200000+00:00",
          "2023-09-18T12:50:11.210000+00:00",
          "2023-09-18T12:50:21.220000+00:00",
          "2023-09-18T12:50:31.230000+00:00",
          "2023-09-18T12:50:41.240000+00:00",
          "2023-09-18T12:50:51.240000+00:00",
          "2023-09-18T12:51:01.250000+00:00",
          "2023-09-18T12:51:11.270000+00:00",
          "2023-09-18T12:51:21.270000+00:00",
          "2023-09-18T12:51:31.270000+00:00",
          "2023-09-18T12:51:41.280000+00:00",
          "2023-09-18T12:51:51.280000+00:00",
          "2023-09-18T12:52:01.290000+00:00",
          "2023-09-18T12:52:11.310000+00:00",
          "2023-09-18T12:52:21.310000+00:00",
          "2023-09-18T12:52:31.320000+00:00",
          "2023-09-18T12:52:41.330000+00:00",
          "2023-09-18T12:52:51.330000+00:00",
          "2023-09-18T12:53:01.340000+00:00",
          "2023-09-18T12:53:11.340000+00:00",
          "2023-09-18T12:53:21.350000+00:00",
          "2023-09-18T12:53:31.350000+00:00",
          "2023-09-18T12:53:41.350000+00:00",
          "2023-09-18T12:53:51.370000+00:00",
          "2023-09-18T12:54:01.380000+00:00",
          "2023-09-18T12:54:11.380000+00:00",
          "2023-09-18T12:54:21.390000+00:00",
          "2023-09-18T12:54:31.400000+00:00",
          "2023-09-18T12:54:41.400000+00:00",
          "2023-09-18T12:54:51.430000+00:00",
          "2023-09-18T12:55:01.420000+00:00",
          "2023-09-18T12:55:11.430000+00:00",
          "2023-09-18T12:55:21.440000+00:00",
          "2023-09-18T12:55:31.440000+00:00",
          "2023-09-18T12:55:41.450000+00:00",
          "2023-09-18T12:55:51.470000+00:00",
          "2023-09-18T12:56:01.480000+00:00",
          "2023-09-18T12:56:11.480000+00:00",
          "2023-09-18T12:56:21.490000+00:00",
          "2023-09-18T12:56:31.500000+00:00",
          "2023-09-18T12:56:41.500000+00:00",
          "2023-09-18T12:56:51.520000+00:00",
          "2023-09-18T12:57:01.530000+00:00",
          "2023-09-18T12:57:11.530000+00:00",
          "2023-09-18T12:57:21.540000+00:00",
          "2023-09-18T12:57:31.660000+00:00",
          "2023-09-18T12:57:41.650000+00:00",
          "2023-09-18T12:57:51.600000+00:00",
          "2023-09-18T12:58:01.660000+00:00",
          "2023-09-18T12:58:11.620000+00:00",
          "2023-09-18T12:58:21.680000+00:00",
          "2023-09-18T12:58:31.640000+00:00",
          "2023-09-18T12:58:41.690000+00:00",
          "2023-09-18T12:58:51.640000+00:00",
          "2023-09-18T12:59:01.640000+00:00",
          "2023-09-18T12:59:11.690000+00:00",
          "2023-09-18T12:59:21.650000+00:00",
          "2023-09-18T12:59:31.660000+00:00",
          "2023-09-18T12:59:41.660000+00:00",
          "2023-09-18T12:59:51.670000+00:00",
          "2023-09-18T13:00:01.680000+00:00",
          "2023-09-18T13:00:11.680000+00:00",
          "2023-09-18T13:00:21.690000+00:00",
          "2023-09-18T13:00:31.700000+00:00",
          "2023-09-18T13:00:41.650000+00:00",
          "2023-09-18T13:00:51.650000+00:00",
          "2023-09-18T13:01:01.670000+00:00",
          "2023-09-18T13:01:11.730000+00:00",
          "2023-09-18T13:01:21.680000+00:00",
          "2023-09-18T13:01:31.750000+00:00",
          "2023-09-18T13:01:41.710000+00:00",
          "2023-09-18T13:01:51.710000+00:00",
          "2023-09-18T13:02:01.780000+00:00",
          "2023-09-18T13:02:11.740000+00:00",
          "2023-09-18T13:02:21.850000+00:00",
          "2023-09-18T13:02:31.810000+00:00",
          "2023-09-18T13:02:41.800000+00:00",
          "2023-09-18T13:02:51.880000+00:00",
          "2023-09-18T13:03:01.790000+00:00",
          "2023-09-18T13:03:11.830000+00:00",
          "2023-09-18T13:03:21.890000+00:00",
          "2023-09-18T13:03:31.790000+00:00",
          "2023-09-18T13:03:41.850000+00:00",
          "2023-09-18T13:03:51.880000+00:00",
          "2023-09-18T13:04:01.860000+00:00",
          "2023-09-18T13:04:11.820000+00:00",
          "2023-09-18T13:04:21.870000+00:00",
          "2023-09-18T13:04:31.830000+00:00",
          "2023-09-18T13:04:41.840000+00:00",
          "2023-09-18T13:04:51.900000+00:00",
          "2023-09-18T13:05:01.850000+00:00",
          "2023-09-18T13:05:11.860000+00:00",
          "2023-09-18T13:05:21.870000+00:00",
          "2023-09-18T13:05:31.880000+00:00",
          "2023-09-18T13:05:41.880000+00:00",
          "2023-09-18T13:05:51.890000+00:00",
          "2023-09-18T13:06:01.910000+00:00",
          "2023-09-18T13:06:11.900000+00:00",
          "2023-09-18T13:06:21.910000+00:00",
          "2023-09-18T13:06:31.930000+00:00",
          "2023-09-18T13:06:41.940000+00:00",
          "2023-09-18T13:06:51.950000+00:00",
          "2023-09-18T13:07:01.940000+00:00",
          "2023-09-18T13:07:11.950000+00:00",
          "2023-09-18T13:07:21.970000+00:00",
          "2023-09-18T13:07:31.970000+00:00",
          "2023-09-18T13:07:41.980000+00:00",
          "2023-09-18T13:07:51.980000+00:00"
         ],
         "xaxis": "x",
         "y": [
          3.78,
          3.47,
          3.24,
          3.08,
          2.95,
          2.8,
          2.68,
          2.56,
          2.47,
          2.43,
          2.34,
          2.31,
          2.21,
          2.14,
          2.09,
          2.01,
          1.99,
          1.98,
          1.88,
          1.88,
          1.88,
          1.81,
          1.78,
          1.76,
          1.71,
          1.71,
          1.69,
          1.64,
          1.63,
          1.59,
          1.59,
          1.53,
          1.56,
          1.47,
          1.51,
          1.41,
          1.43,
          1.46,
          1.42,
          1.41,
          1.39,
          1.39,
          1.39,
          1.34,
          1.35,
          1.3,
          1.33,
          1.32,
          1.26,
          1.31,
          1.22,
          1.23,
          1.24,
          1.23,
          1.18,
          1.22,
          1.24,
          1.14,
          1.2,
          1.15,
          1.17,
          1.14,
          1.16,
          1.13,
          1.09,
          1.08,
          1.1,
          1.09,
          1.11,
          1.03,
          1.07,
          1.08,
          1.08,
          1.03,
          1.04,
          1.07,
          1.04,
          1.06,
          1.09,
          1.01,
          1.03,
          1.06,
          1,
          1.01,
          1.04,
          1.06,
          1.03,
          0.94,
          1,
          0.98,
          1,
          0.93,
          0.98,
          0.99,
          1.02,
          0.96,
          0.94,
          0.98,
          0.95,
          0.92,
          1,
          0.96,
          0.88,
          0.95,
          0.96,
          0.93,
          0.86,
          0.91,
          0.9,
          0.93,
          0.93,
          0.92,
          0.92,
          0.88,
          0.91,
          0.88,
          0.88,
          0.87,
          0.87,
          0.95,
          0.86,
          0.91,
          0.88,
          0.85,
          0.85,
          0.86,
          0.82,
          0.86,
          0.86,
          0.9,
          0.86,
          0.86,
          0.87,
          0.81,
          0.83,
          0.84,
          0.86,
          0.8,
          0.87,
          0.87,
          0.84,
          0.85,
          0.86,
          0.84,
          0.82,
          0.83,
          0.76,
          0.85,
          0.78,
          0.79,
          0.84,
          0.86,
          0.82,
          0.79,
          0.81,
          0.82,
          0.8,
          0.82,
          0.81,
          0.8,
          0.8,
          0.79,
          0.79,
          0.79,
          0.83,
          0.78,
          0.78,
          0.79,
          0.8,
          0.75,
          0.77
         ],
         "yaxis": "y"
        }
       ],
       "layout": {
        "legend": {
         "tracegroupgap": 0
        },
        "template": {
         "data": {
          "bar": [
           {
            "error_x": {
             "color": "#2a3f5f"
            },
            "error_y": {
             "color": "#2a3f5f"
            },
            "marker": {
             "line": {
              "color": "#E5ECF6",
              "width": 0.5
             },
             "pattern": {
              "fillmode": "overlay",
              "size": 10,
              "solidity": 0.2
             }
            },
            "type": "bar"
           }
          ],
          "barpolar": [
           {
            "marker": {
             "line": {
              "color": "#E5ECF6",
              "width": 0.5
             },
             "pattern": {
              "fillmode": "overlay",
              "size": 10,
              "solidity": 0.2
             }
            },
            "type": "barpolar"
           }
          ],
          "carpet": [
           {
            "aaxis": {
             "endlinecolor": "#2a3f5f",
             "gridcolor": "white",
             "linecolor": "white",
             "minorgridcolor": "white",
             "startlinecolor": "#2a3f5f"
            },
            "baxis": {
             "endlinecolor": "#2a3f5f",
             "gridcolor": "white",
             "linecolor": "white",
             "minorgridcolor": "white",
             "startlinecolor": "#2a3f5f"
            },
            "type": "carpet"
           }
          ],
          "choropleth": [
           {
            "colorbar": {
             "outlinewidth": 0,
             "ticks": ""
            },
            "type": "choropleth"
           }
          ],
          "contour": [
           {
            "colorbar": {
             "outlinewidth": 0,
             "ticks": ""
            },
            "colorscale": [
             [
              0,
              "#0d0887"
             ],
             [
              0.1111111111111111,
              "#46039f"
             ],
             [
              0.2222222222222222,
              "#7201a8"
             ],
             [
              0.3333333333333333,
              "#9c179e"
             ],
             [
              0.4444444444444444,
              "#bd3786"
             ],
             [
              0.5555555555555556,
              "#d8576b"
             ],
             [
              0.6666666666666666,
              "#ed7953"
             ],
             [
              0.7777777777777778,
              "#fb9f3a"
             ],
             [
              0.8888888888888888,
              "#fdca26"
             ],
             [
              1,
              "#f0f921"
             ]
            ],
            "type": "contour"
           }
          ],
          "contourcarpet": [
           {
            "colorbar": {
             "outlinewidth": 0,
             "ticks": ""
            },
            "type": "contourcarpet"
           }
          ],
          "heatmap": [
           {
            "colorbar": {
             "outlinewidth": 0,
             "ticks": ""
            },
            "colorscale": [
             [
              0,
              "#0d0887"
             ],
             [
              0.1111111111111111,
              "#46039f"
             ],
             [
              0.2222222222222222,
              "#7201a8"
             ],
             [
              0.3333333333333333,
              "#9c179e"
             ],
             [
              0.4444444444444444,
              "#bd3786"
             ],
             [
              0.5555555555555556,
              "#d8576b"
             ],
             [
              0.6666666666666666,
              "#ed7953"
             ],
             [
              0.7777777777777778,
              "#fb9f3a"
             ],
             [
              0.8888888888888888,
              "#fdca26"
             ],
             [
              1,
              "#f0f921"
             ]
            ],
            "type": "heatmap"
           }
          ],
          "heatmapgl": [
           {
            "colorbar": {
             "outlinewidth": 0,
             "ticks": ""
            },
            "colorscale": [
             [
              0,
              "#0d0887"
             ],
             [
              0.1111111111111111,
              "#46039f"
             ],
             [
              0.2222222222222222,
              "#7201a8"
             ],
             [
              0.3333333333333333,
              "#9c179e"
             ],
             [
              0.4444444444444444,
              "#bd3786"
             ],
             [
              0.5555555555555556,
              "#d8576b"
             ],
             [
              0.6666666666666666,
              "#ed7953"
             ],
             [
              0.7777777777777778,
              "#fb9f3a"
             ],
             [
              0.8888888888888888,
              "#fdca26"
             ],
             [
              1,
              "#f0f921"
             ]
            ],
            "type": "heatmapgl"
           }
          ],
          "histogram": [
           {
            "marker": {
             "pattern": {
              "fillmode": "overlay",
              "size": 10,
              "solidity": 0.2
             }
            },
            "type": "histogram"
           }
          ],
          "histogram2d": [
           {
            "colorbar": {
             "outlinewidth": 0,
             "ticks": ""
            },
            "colorscale": [
             [
              0,
              "#0d0887"
             ],
             [
              0.1111111111111111,
              "#46039f"
             ],
             [
              0.2222222222222222,
              "#7201a8"
             ],
             [
              0.3333333333333333,
              "#9c179e"
             ],
             [
              0.4444444444444444,
              "#bd3786"
             ],
             [
              0.5555555555555556,
              "#d8576b"
             ],
             [
              0.6666666666666666,
              "#ed7953"
             ],
             [
              0.7777777777777778,
              "#fb9f3a"
             ],
             [
              0.8888888888888888,
              "#fdca26"
             ],
             [
              1,
              "#f0f921"
             ]
            ],
            "type": "histogram2d"
           }
          ],
          "histogram2dcontour": [
           {
            "colorbar": {
             "outlinewidth": 0,
             "ticks": ""
            },
            "colorscale": [
             [
              0,
              "#0d0887"
             ],
             [
              0.1111111111111111,
              "#46039f"
             ],
             [
              0.2222222222222222,
              "#7201a8"
             ],
             [
              0.3333333333333333,
              "#9c179e"
             ],
             [
              0.4444444444444444,
              "#bd3786"
             ],
             [
              0.5555555555555556,
              "#d8576b"
             ],
             [
              0.6666666666666666,
              "#ed7953"
             ],
             [
              0.7777777777777778,
              "#fb9f3a"
             ],
             [
              0.8888888888888888,
              "#fdca26"
             ],
             [
              1,
              "#f0f921"
             ]
            ],
            "type": "histogram2dcontour"
           }
          ],
          "mesh3d": [
           {
            "colorbar": {
             "outlinewidth": 0,
             "ticks": ""
            },
            "type": "mesh3d"
           }
          ],
          "parcoords": [
           {
            "line": {
             "colorbar": {
              "outlinewidth": 0,
              "ticks": ""
             }
            },
            "type": "parcoords"
           }
          ],
          "pie": [
           {
            "automargin": true,
            "type": "pie"
           }
          ],
          "scatter": [
           {
            "fillpattern": {
             "fillmode": "overlay",
             "size": 10,
             "solidity": 0.2
            },
            "type": "scatter"
           }
          ],
          "scatter3d": [
           {
            "line": {
             "colorbar": {
              "outlinewidth": 0,
              "ticks": ""
             }
            },
            "marker": {
             "colorbar": {
              "outlinewidth": 0,
              "ticks": ""
             }
            },
            "type": "scatter3d"
           }
          ],
          "scattercarpet": [
           {
            "marker": {
             "colorbar": {
              "outlinewidth": 0,
              "ticks": ""
             }
            },
            "type": "scattercarpet"
           }
          ],
          "scattergeo": [
           {
            "marker": {
             "colorbar": {
              "outlinewidth": 0,
              "ticks": ""
             }
            },
            "type": "scattergeo"
           }
          ],
          "scattergl": [
           {
            "marker": {
             "colorbar": {
              "outlinewidth": 0,
              "ticks": ""
             }
            },
            "type": "scattergl"
           }
          ],
          "scattermapbox": [
           {
            "marker": {
             "colorbar": {
              "outlinewidth": 0,
              "ticks": ""
             }
            },
            "type": "scattermapbox"
           }
          ],
          "scatterpolar": [
           {
            "marker": {
             "colorbar": {
              "outlinewidth": 0,
              "ticks": ""
             }
            },
            "type": "scatterpolar"
           }
          ],
          "scatterpolargl": [
           {
            "marker": {
             "colorbar": {
              "outlinewidth": 0,
              "ticks": ""
             }
            },
            "type": "scatterpolargl"
           }
          ],
          "scatterternary": [
           {
            "marker": {
             "colorbar": {
              "outlinewidth": 0,
              "ticks": ""
             }
            },
            "type": "scatterternary"
           }
          ],
          "surface": [
           {
            "colorbar": {
             "outlinewidth": 0,
             "ticks": ""
            },
            "colorscale": [
             [
              0,
              "#0d0887"
             ],
             [
              0.1111111111111111,
              "#46039f"
             ],
             [
              0.2222222222222222,
              "#7201a8"
             ],
             [
              0.3333333333333333,
              "#9c179e"
             ],
             [
              0.4444444444444444,
              "#bd3786"
             ],
             [
              0.5555555555555556,
              "#d8576b"
             ],
             [
              0.6666666666666666,
              "#ed7953"
             ],
             [
              0.7777777777777778,
              "#fb9f3a"
             ],
             [
              0.8888888888888888,
              "#fdca26"
             ],
             [
              1,
              "#f0f921"
             ]
            ],
            "type": "surface"
           }
          ],
          "table": [
           {
            "cells": {
             "fill": {
              "color": "#EBF0F8"
             },
             "line": {
              "color": "white"
             }
            },
            "header": {
             "fill": {
              "color": "#C8D4E3"
             },
             "line": {
              "color": "white"
             }
            },
            "type": "table"
           }
          ]
         },
         "layout": {
          "annotationdefaults": {
           "arrowcolor": "#2a3f5f",
           "arrowhead": 0,
           "arrowwidth": 1
          },
          "autotypenumbers": "strict",
          "coloraxis": {
           "colorbar": {
            "outlinewidth": 0,
            "ticks": ""
           }
          },
          "colorscale": {
           "diverging": [
            [
             0,
             "#8e0152"
            ],
            [
             0.1,
             "#c51b7d"
            ],
            [
             0.2,
             "#de77ae"
            ],
            [
             0.3,
             "#f1b6da"
            ],
            [
             0.4,
             "#fde0ef"
            ],
            [
             0.5,
             "#f7f7f7"
            ],
            [
             0.6,
             "#e6f5d0"
            ],
            [
             0.7,
             "#b8e186"
            ],
            [
             0.8,
             "#7fbc41"
            ],
            [
             0.9,
             "#4d9221"
            ],
            [
             1,
             "#276419"
            ]
           ],
           "sequential": [
            [
             0,
             "#0d0887"
            ],
            [
             0.1111111111111111,
             "#46039f"
            ],
            [
             0.2222222222222222,
             "#7201a8"
            ],
            [
             0.3333333333333333,
             "#9c179e"
            ],
            [
             0.4444444444444444,
             "#bd3786"
            ],
            [
             0.5555555555555556,
             "#d8576b"
            ],
            [
             0.6666666666666666,
             "#ed7953"
            ],
            [
             0.7777777777777778,
             "#fb9f3a"
            ],
            [
             0.8888888888888888,
             "#fdca26"
            ],
            [
             1,
             "#f0f921"
            ]
           ],
           "sequentialminus": [
            [
             0,
             "#0d0887"
            ],
            [
             0.1111111111111111,
             "#46039f"
            ],
            [
             0.2222222222222222,
             "#7201a8"
            ],
            [
             0.3333333333333333,
             "#9c179e"
            ],
            [
             0.4444444444444444,
             "#bd3786"
            ],
            [
             0.5555555555555556,
             "#d8576b"
            ],
            [
             0.6666666666666666,
             "#ed7953"
            ],
            [
             0.7777777777777778,
             "#fb9f3a"
            ],
            [
             0.8888888888888888,
             "#fdca26"
            ],
            [
             1,
             "#f0f921"
            ]
           ]
          },
          "colorway": [
           "#636efa",
           "#EF553B",
           "#00cc96",
           "#ab63fa",
           "#FFA15A",
           "#19d3f3",
           "#FF6692",
           "#B6E880",
           "#FF97FF",
           "#FECB52"
          ],
          "font": {
           "color": "#2a3f5f"
          },
          "geo": {
           "bgcolor": "white",
           "lakecolor": "white",
           "landcolor": "#E5ECF6",
           "showlakes": true,
           "showland": true,
           "subunitcolor": "white"
          },
          "hoverlabel": {
           "align": "left"
          },
          "hovermode": "closest",
          "mapbox": {
           "style": "light"
          },
          "paper_bgcolor": "white",
          "plot_bgcolor": "#E5ECF6",
          "polar": {
           "angularaxis": {
            "gridcolor": "white",
            "linecolor": "white",
            "ticks": ""
           },
           "bgcolor": "#E5ECF6",
           "radialaxis": {
            "gridcolor": "white",
            "linecolor": "white",
            "ticks": ""
           }
          },
          "scene": {
           "xaxis": {
            "backgroundcolor": "#E5ECF6",
            "gridcolor": "white",
            "gridwidth": 2,
            "linecolor": "white",
            "showbackground": true,
            "ticks": "",
            "zerolinecolor": "white"
           },
           "yaxis": {
            "backgroundcolor": "#E5ECF6",
            "gridcolor": "white",
            "gridwidth": 2,
            "linecolor": "white",
            "showbackground": true,
            "ticks": "",
            "zerolinecolor": "white"
           },
           "zaxis": {
            "backgroundcolor": "#E5ECF6",
            "gridcolor": "white",
            "gridwidth": 2,
            "linecolor": "white",
            "showbackground": true,
            "ticks": "",
            "zerolinecolor": "white"
           }
          },
          "shapedefaults": {
           "line": {
            "color": "#2a3f5f"
           }
          },
          "ternary": {
           "aaxis": {
            "gridcolor": "white",
            "linecolor": "white",
            "ticks": ""
           },
           "baxis": {
            "gridcolor": "white",
            "linecolor": "white",
            "ticks": ""
           },
           "bgcolor": "#E5ECF6",
           "caxis": {
            "gridcolor": "white",
            "linecolor": "white",
            "ticks": ""
           }
          },
          "title": {
           "x": 0.05
          },
          "xaxis": {
           "automargin": true,
           "gridcolor": "white",
           "linecolor": "white",
           "ticks": "",
           "title": {
            "standoff": 15
           },
           "zerolinecolor": "white",
           "zerolinewidth": 2
          },
          "yaxis": {
           "automargin": true,
           "gridcolor": "white",
           "linecolor": "white",
           "ticks": "",
           "title": {
            "standoff": 15
           },
           "zerolinecolor": "white",
           "zerolinewidth": 2
          }
         }
        },
        "title": {
         "text": "sht45_humidity"
        },
        "xaxis": {
         "anchor": "y",
         "domain": [
          0,
          1
         ],
         "title": {
          "text": "creation_timestamp"
         }
        },
        "yaxis": {
         "anchor": "x",
         "domain": [
          0,
          1
         ],
         "title": {
          "text": "sht45_humidity"
         }
        }
       }
      }
     },
     "metadata": {},
     "output_type": "display_data"
    },
    {
     "data": {
      "application/vnd.plotly.v1+json": {
       "config": {
        "plotlyServerURL": "https://plot.ly"
       },
       "data": [
        {
         "hovertemplate": "creation_timestamp=%{x}<br>gmp343_filtered=%{y}<extra></extra>",
         "legendgroup": "",
         "line": {
          "color": "#636efa",
          "dash": "solid"
         },
         "marker": {
          "symbol": "circle"
         },
         "mode": "markers+lines",
         "name": "",
         "orientation": "v",
         "showlegend": false,
         "type": "scatter",
         "x": [
          "2023-09-18T13:10:02.090000+00:00",
          "2023-09-18T13:10:12.080000+00:00",
          "2023-09-18T13:10:22.090000+00:00",
          "2023-09-18T13:10:32.100000+00:00",
          "2023-09-18T13:10:42.110000+00:00",
          "2023-09-18T13:10:52.110000+00:00",
          "2023-09-18T13:11:02.130000+00:00",
          "2023-09-18T13:11:12.130000+00:00",
          "2023-09-18T13:11:22.130000+00:00",
          "2023-09-18T13:11:32.150000+00:00",
          "2023-09-18T13:11:42.140000+00:00",
          "2023-09-18T13:11:52.160000+00:00",
          "2023-09-18T13:12:02.180000+00:00",
          "2023-09-18T13:12:12.170000+00:00",
          "2023-09-18T13:12:22.180000+00:00",
          "2023-09-18T13:12:32.190000+00:00",
          "2023-09-18T13:12:42.200000+00:00",
          "2023-09-18T13:12:52.210000+00:00",
          "2023-09-18T13:13:02.220000+00:00",
          "2023-09-18T13:13:12.220000+00:00",
          "2023-09-18T13:13:22.230000+00:00",
          "2023-09-18T13:13:32.240000+00:00",
          "2023-09-18T13:13:42.250000+00:00",
          "2023-09-18T13:13:52.260000+00:00",
          "2023-09-18T13:14:02.270000+00:00",
          "2023-09-18T13:14:12.270000+00:00",
          "2023-09-18T13:14:22.280000+00:00",
          "2023-09-18T13:14:32.290000+00:00",
          "2023-09-18T13:14:42.300000+00:00",
          "2023-09-18T13:14:52.310000+00:00",
          "2023-09-18T13:15:02.310000+00:00",
          "2023-09-18T13:15:12.330000+00:00",
          "2023-09-18T13:15:22.340000+00:00",
          "2023-09-18T13:15:32.350000+00:00",
          "2023-09-18T13:15:42.360000+00:00",
          "2023-09-18T13:15:52.370000+00:00",
          "2023-09-18T13:16:02.370000+00:00",
          "2023-09-18T13:16:12.380000+00:00",
          "2023-09-18T13:16:22.400000+00:00",
          "2023-09-18T13:16:32.390000+00:00",
          "2023-09-18T13:16:42.400000+00:00",
          "2023-09-18T13:16:52.410000+00:00",
          "2023-09-18T13:17:02.420000+00:00",
          "2023-09-18T13:17:12.440000+00:00",
          "2023-09-18T13:17:22.440000+00:00",
          "2023-09-18T13:17:32.450000+00:00",
          "2023-09-18T13:17:42.460000+00:00",
          "2023-09-18T13:17:52.470000+00:00",
          "2023-09-18T13:18:02.480000+00:00",
          "2023-09-18T13:18:12.480000+00:00",
          "2023-09-18T13:18:22.550000+00:00",
          "2023-09-18T13:18:32.540000+00:00",
          "2023-09-18T13:18:42.560000+00:00",
          "2023-09-18T13:18:52.620000+00:00",
          "2023-09-18T13:19:02.570000+00:00",
          "2023-09-18T13:19:12.630000+00:00",
          "2023-09-18T13:19:22.590000+00:00",
          "2023-09-18T13:19:32.640000+00:00",
          "2023-09-18T13:19:42.600000+00:00",
          "2023-09-18T13:19:52.610000+00:00",
          "2023-09-18T13:20:02.630000+00:00",
          "2023-09-18T13:20:12.630000+00:00",
          "2023-09-18T13:20:22.640000+00:00",
          "2023-09-18T13:20:32.650000+00:00",
          "2023-09-18T13:20:42.650000+00:00",
          "2023-09-18T13:20:52.660000+00:00",
          "2023-09-18T13:21:02.670000+00:00",
          "2023-09-18T13:21:12.630000+00:00",
          "2023-09-18T13:21:22.630000+00:00",
          "2023-09-18T13:21:32.640000+00:00",
          "2023-09-18T13:21:42.700000+00:00",
          "2023-09-18T13:21:52.660000+00:00",
          "2023-09-18T13:22:02.670000+00:00",
          "2023-09-18T13:22:12.680000+00:00",
          "2023-09-18T13:22:22.790000+00:00",
          "2023-09-18T13:22:32.700000+00:00",
          "2023-09-18T13:22:42.700000+00:00",
          "2023-09-18T13:22:52.760000+00:00",
          "2023-09-18T13:23:02.730000+00:00",
          "2023-09-18T13:23:12.780000+00:00",
          "2023-09-18T13:23:22.790000+00:00",
          "2023-09-18T13:23:32.870000+00:00",
          "2023-09-18T13:23:42.810000+00:00",
          "2023-09-18T13:23:52.760000+00:00",
          "2023-09-18T13:24:02.830000+00:00",
          "2023-09-18T13:24:12.840000+00:00",
          "2023-09-18T13:24:22.800000+00:00",
          "2023-09-18T13:24:32.850000+00:00",
          "2023-09-18T13:24:42.810000+00:00",
          "2023-09-18T13:24:52.810000+00:00",
          "2023-09-18T13:25:02.820000+00:00",
          "2023-09-18T13:25:12.890000+00:00",
          "2023-09-18T13:25:22.830000+00:00",
          "2023-09-18T13:25:32.900000+00:00",
          "2023-09-18T13:25:42.860000+00:00",
          "2023-09-18T13:25:52.870000+00:00",
          "2023-09-18T13:26:02.870000+00:00",
          "2023-09-18T13:26:12.880000+00:00",
          "2023-09-18T13:26:22.880000+00:00",
          "2023-09-18T13:26:32.890000+00:00",
          "2023-09-18T13:26:42.890000+00:00",
          "2023-09-18T13:26:52.900000+00:00",
          "2023-09-18T13:27:02.910000+00:00",
          "2023-09-18T13:27:12.910000+00:00",
          "2023-09-18T13:27:22.910000+00:00",
          "2023-09-18T13:27:32.910000+00:00",
          "2023-09-18T13:27:42.930000+00:00",
          "2023-09-18T13:27:52.940000+00:00",
          "2023-09-18T13:28:02.940000+00:00",
          "2023-09-18T13:28:12.960000+00:00",
          "2023-09-18T13:28:22.970000+00:00",
          "2023-09-18T13:28:32.980000+00:00",
          "2023-09-18T13:28:42.980000+00:00",
          "2023-09-18T13:28:53+00:00",
          "2023-09-18T13:29:03+00:00",
          "2023-09-18T13:29:13.010000+00:00",
          "2023-09-18T13:29:23.020000+00:00",
          "2023-09-18T13:29:33.020000+00:00",
          "2023-09-18T13:29:43.030000+00:00",
          "2023-09-18T13:29:53.040000+00:00",
          "2023-09-18T13:30:03.030000+00:00",
          "2023-09-18T13:30:13.050000+00:00",
          "2023-09-18T13:30:23.050000+00:00",
          "2023-09-18T13:30:33.070000+00:00",
          "2023-09-18T13:30:43.080000+00:00",
          "2023-09-18T13:30:53.080000+00:00",
          "2023-09-18T13:31:03.090000+00:00",
          "2023-09-18T13:31:13.100000+00:00",
          "2023-09-18T13:31:23.110000+00:00",
          "2023-09-18T13:31:33.110000+00:00",
          "2023-09-18T13:31:43.110000+00:00",
          "2023-09-18T13:31:53.120000+00:00",
          "2023-09-18T13:32:03.130000+00:00",
          "2023-09-18T13:32:13.140000+00:00",
          "2023-09-18T13:32:23.150000+00:00",
          "2023-09-18T13:32:33.160000+00:00",
          "2023-09-18T13:32:43.170000+00:00",
          "2023-09-18T13:32:53.170000+00:00",
          "2023-09-18T13:33:03.180000+00:00",
          "2023-09-18T13:33:13.190000+00:00",
          "2023-09-18T13:33:23.190000+00:00",
          "2023-09-18T13:33:33.210000+00:00",
          "2023-09-18T13:33:43.200000+00:00",
          "2023-09-18T13:33:53.210000+00:00",
          "2023-09-18T13:34:03.210000+00:00",
          "2023-09-18T13:34:13.230000+00:00",
          "2023-09-18T13:34:23.240000+00:00",
          "2023-09-18T13:34:33.250000+00:00",
          "2023-09-18T13:34:43.260000+00:00",
          "2023-09-18T13:34:53.270000+00:00",
          "2023-09-18T13:35:03.280000+00:00",
          "2023-09-18T13:35:13.290000+00:00",
          "2023-09-18T13:35:23.290000+00:00",
          "2023-09-18T13:35:33.290000+00:00",
          "2023-09-18T13:35:43.310000+00:00",
          "2023-09-18T13:35:53.300000+00:00",
          "2023-09-18T13:36:03.310000+00:00",
          "2023-09-18T13:36:13.330000+00:00",
          "2023-09-18T13:36:23.330000+00:00",
          "2023-09-18T13:36:33.340000+00:00",
          "2023-09-18T13:36:43.350000+00:00",
          "2023-09-18T13:36:53.350000+00:00",
          "2023-09-18T13:37:03.410000+00:00",
          "2023-09-18T13:37:13.430000+00:00",
          "2023-09-18T13:37:23.430000+00:00",
          "2023-09-18T13:37:33.430000+00:00",
          "2023-09-18T13:37:43.440000+00:00",
          "2023-09-18T13:37:53.500000+00:00"
         ],
         "xaxis": "x",
         "y": [
          429.9,
          433.3,
          429.4,
          431.8,
          432.1,
          432.2,
          430.1,
          432.7,
          430.5,
          432.6,
          429.4,
          429.9,
          433.3,
          427.5,
          428.8,
          436.1,
          431.1,
          436.8,
          434.7,
          432.7,
          428.3,
          429,
          433.3,
          437.2,
          433.8,
          429.1,
          431.6,
          430.5,
          428.3,
          429,
          431.6,
          433,
          427.8,
          430.7,
          431.3,
          434.1,
          428.3,
          430.4,
          431.1,
          426.4,
          429.7,
          430.4,
          432.3,
          429.2,
          428.9,
          431.6,
          434.9,
          432.9,
          431.2,
          434.7,
          432.1,
          432.3,
          427,
          435.1,
          426.7,
          430.5,
          429.4,
          436,
          430.5,
          429.6,
          432.1,
          435.8,
          432.6,
          434.1,
          431.7,
          426.5,
          435.8,
          433.4,
          438.1,
          429.8,
          434.5,
          431.3,
          431.4,
          434.1,
          430.7,
          433.6,
          427.9,
          428.8,
          435.5,
          437.5,
          430.3,
          429,
          429.9,
          427.1,
          432.3,
          432.5,
          431,
          435.3,
          430.3,
          433.2,
          432.8,
          429.4,
          428.5,
          438.5,
          429.8,
          432.7,
          428.5,
          433.7,
          431.9,
          428.5,
          436.1,
          430.6,
          431.6,
          436.5,
          433.3,
          430.3,
          432.7,
          429.1,
          431.2,
          430.8,
          430.9,
          433.8,
          431.1,
          422.8,
          429.6,
          430.4,
          435.8,
          429.8,
          437.3,
          429.9,
          432.9,
          428.1,
          431.7,
          430.6,
          426.6,
          429.5,
          428.3,
          432,
          432.5,
          427.9,
          432.4,
          426.9,
          427.5,
          431.5,
          434.2,
          429,
          430.4,
          435.3,
          428.1,
          432.8,
          432.6,
          433.1,
          433.4,
          432.3,
          430.8,
          430.7,
          431.8,
          430.3,
          433.2,
          428.8,
          429.2,
          429.3,
          432.6,
          429.3,
          428.7,
          433.8,
          431.1,
          431.8,
          426.4,
          432.7,
          433.2,
          431.8,
          430.7,
          428.9,
          426.7,
          430.5,
          429.1,
          429.6
         ],
         "yaxis": "y"
        }
       ],
       "layout": {
        "legend": {
         "tracegroupgap": 0
        },
        "template": {
         "data": {
          "bar": [
           {
            "error_x": {
             "color": "#2a3f5f"
            },
            "error_y": {
             "color": "#2a3f5f"
            },
            "marker": {
             "line": {
              "color": "#E5ECF6",
              "width": 0.5
             },
             "pattern": {
              "fillmode": "overlay",
              "size": 10,
              "solidity": 0.2
             }
            },
            "type": "bar"
           }
          ],
          "barpolar": [
           {
            "marker": {
             "line": {
              "color": "#E5ECF6",
              "width": 0.5
             },
             "pattern": {
              "fillmode": "overlay",
              "size": 10,
              "solidity": 0.2
             }
            },
            "type": "barpolar"
           }
          ],
          "carpet": [
           {
            "aaxis": {
             "endlinecolor": "#2a3f5f",
             "gridcolor": "white",
             "linecolor": "white",
             "minorgridcolor": "white",
             "startlinecolor": "#2a3f5f"
            },
            "baxis": {
             "endlinecolor": "#2a3f5f",
             "gridcolor": "white",
             "linecolor": "white",
             "minorgridcolor": "white",
             "startlinecolor": "#2a3f5f"
            },
            "type": "carpet"
           }
          ],
          "choropleth": [
           {
            "colorbar": {
             "outlinewidth": 0,
             "ticks": ""
            },
            "type": "choropleth"
           }
          ],
          "contour": [
           {
            "colorbar": {
             "outlinewidth": 0,
             "ticks": ""
            },
            "colorscale": [
             [
              0,
              "#0d0887"
             ],
             [
              0.1111111111111111,
              "#46039f"
             ],
             [
              0.2222222222222222,
              "#7201a8"
             ],
             [
              0.3333333333333333,
              "#9c179e"
             ],
             [
              0.4444444444444444,
              "#bd3786"
             ],
             [
              0.5555555555555556,
              "#d8576b"
             ],
             [
              0.6666666666666666,
              "#ed7953"
             ],
             [
              0.7777777777777778,
              "#fb9f3a"
             ],
             [
              0.8888888888888888,
              "#fdca26"
             ],
             [
              1,
              "#f0f921"
             ]
            ],
            "type": "contour"
           }
          ],
          "contourcarpet": [
           {
            "colorbar": {
             "outlinewidth": 0,
             "ticks": ""
            },
            "type": "contourcarpet"
           }
          ],
          "heatmap": [
           {
            "colorbar": {
             "outlinewidth": 0,
             "ticks": ""
            },
            "colorscale": [
             [
              0,
              "#0d0887"
             ],
             [
              0.1111111111111111,
              "#46039f"
             ],
             [
              0.2222222222222222,
              "#7201a8"
             ],
             [
              0.3333333333333333,
              "#9c179e"
             ],
             [
              0.4444444444444444,
              "#bd3786"
             ],
             [
              0.5555555555555556,
              "#d8576b"
             ],
             [
              0.6666666666666666,
              "#ed7953"
             ],
             [
              0.7777777777777778,
              "#fb9f3a"
             ],
             [
              0.8888888888888888,
              "#fdca26"
             ],
             [
              1,
              "#f0f921"
             ]
            ],
            "type": "heatmap"
           }
          ],
          "heatmapgl": [
           {
            "colorbar": {
             "outlinewidth": 0,
             "ticks": ""
            },
            "colorscale": [
             [
              0,
              "#0d0887"
             ],
             [
              0.1111111111111111,
              "#46039f"
             ],
             [
              0.2222222222222222,
              "#7201a8"
             ],
             [
              0.3333333333333333,
              "#9c179e"
             ],
             [
              0.4444444444444444,
              "#bd3786"
             ],
             [
              0.5555555555555556,
              "#d8576b"
             ],
             [
              0.6666666666666666,
              "#ed7953"
             ],
             [
              0.7777777777777778,
              "#fb9f3a"
             ],
             [
              0.8888888888888888,
              "#fdca26"
             ],
             [
              1,
              "#f0f921"
             ]
            ],
            "type": "heatmapgl"
           }
          ],
          "histogram": [
           {
            "marker": {
             "pattern": {
              "fillmode": "overlay",
              "size": 10,
              "solidity": 0.2
             }
            },
            "type": "histogram"
           }
          ],
          "histogram2d": [
           {
            "colorbar": {
             "outlinewidth": 0,
             "ticks": ""
            },
            "colorscale": [
             [
              0,
              "#0d0887"
             ],
             [
              0.1111111111111111,
              "#46039f"
             ],
             [
              0.2222222222222222,
              "#7201a8"
             ],
             [
              0.3333333333333333,
              "#9c179e"
             ],
             [
              0.4444444444444444,
              "#bd3786"
             ],
             [
              0.5555555555555556,
              "#d8576b"
             ],
             [
              0.6666666666666666,
              "#ed7953"
             ],
             [
              0.7777777777777778,
              "#fb9f3a"
             ],
             [
              0.8888888888888888,
              "#fdca26"
             ],
             [
              1,
              "#f0f921"
             ]
            ],
            "type": "histogram2d"
           }
          ],
          "histogram2dcontour": [
           {
            "colorbar": {
             "outlinewidth": 0,
             "ticks": ""
            },
            "colorscale": [
             [
              0,
              "#0d0887"
             ],
             [
              0.1111111111111111,
              "#46039f"
             ],
             [
              0.2222222222222222,
              "#7201a8"
             ],
             [
              0.3333333333333333,
              "#9c179e"
             ],
             [
              0.4444444444444444,
              "#bd3786"
             ],
             [
              0.5555555555555556,
              "#d8576b"
             ],
             [
              0.6666666666666666,
              "#ed7953"
             ],
             [
              0.7777777777777778,
              "#fb9f3a"
             ],
             [
              0.8888888888888888,
              "#fdca26"
             ],
             [
              1,
              "#f0f921"
             ]
            ],
            "type": "histogram2dcontour"
           }
          ],
          "mesh3d": [
           {
            "colorbar": {
             "outlinewidth": 0,
             "ticks": ""
            },
            "type": "mesh3d"
           }
          ],
          "parcoords": [
           {
            "line": {
             "colorbar": {
              "outlinewidth": 0,
              "ticks": ""
             }
            },
            "type": "parcoords"
           }
          ],
          "pie": [
           {
            "automargin": true,
            "type": "pie"
           }
          ],
          "scatter": [
           {
            "fillpattern": {
             "fillmode": "overlay",
             "size": 10,
             "solidity": 0.2
            },
            "type": "scatter"
           }
          ],
          "scatter3d": [
           {
            "line": {
             "colorbar": {
              "outlinewidth": 0,
              "ticks": ""
             }
            },
            "marker": {
             "colorbar": {
              "outlinewidth": 0,
              "ticks": ""
             }
            },
            "type": "scatter3d"
           }
          ],
          "scattercarpet": [
           {
            "marker": {
             "colorbar": {
              "outlinewidth": 0,
              "ticks": ""
             }
            },
            "type": "scattercarpet"
           }
          ],
          "scattergeo": [
           {
            "marker": {
             "colorbar": {
              "outlinewidth": 0,
              "ticks": ""
             }
            },
            "type": "scattergeo"
           }
          ],
          "scattergl": [
           {
            "marker": {
             "colorbar": {
              "outlinewidth": 0,
              "ticks": ""
             }
            },
            "type": "scattergl"
           }
          ],
          "scattermapbox": [
           {
            "marker": {
             "colorbar": {
              "outlinewidth": 0,
              "ticks": ""
             }
            },
            "type": "scattermapbox"
           }
          ],
          "scatterpolar": [
           {
            "marker": {
             "colorbar": {
              "outlinewidth": 0,
              "ticks": ""
             }
            },
            "type": "scatterpolar"
           }
          ],
          "scatterpolargl": [
           {
            "marker": {
             "colorbar": {
              "outlinewidth": 0,
              "ticks": ""
             }
            },
            "type": "scatterpolargl"
           }
          ],
          "scatterternary": [
           {
            "marker": {
             "colorbar": {
              "outlinewidth": 0,
              "ticks": ""
             }
            },
            "type": "scatterternary"
           }
          ],
          "surface": [
           {
            "colorbar": {
             "outlinewidth": 0,
             "ticks": ""
            },
            "colorscale": [
             [
              0,
              "#0d0887"
             ],
             [
              0.1111111111111111,
              "#46039f"
             ],
             [
              0.2222222222222222,
              "#7201a8"
             ],
             [
              0.3333333333333333,
              "#9c179e"
             ],
             [
              0.4444444444444444,
              "#bd3786"
             ],
             [
              0.5555555555555556,
              "#d8576b"
             ],
             [
              0.6666666666666666,
              "#ed7953"
             ],
             [
              0.7777777777777778,
              "#fb9f3a"
             ],
             [
              0.8888888888888888,
              "#fdca26"
             ],
             [
              1,
              "#f0f921"
             ]
            ],
            "type": "surface"
           }
          ],
          "table": [
           {
            "cells": {
             "fill": {
              "color": "#EBF0F8"
             },
             "line": {
              "color": "white"
             }
            },
            "header": {
             "fill": {
              "color": "#C8D4E3"
             },
             "line": {
              "color": "white"
             }
            },
            "type": "table"
           }
          ]
         },
         "layout": {
          "annotationdefaults": {
           "arrowcolor": "#2a3f5f",
           "arrowhead": 0,
           "arrowwidth": 1
          },
          "autotypenumbers": "strict",
          "coloraxis": {
           "colorbar": {
            "outlinewidth": 0,
            "ticks": ""
           }
          },
          "colorscale": {
           "diverging": [
            [
             0,
             "#8e0152"
            ],
            [
             0.1,
             "#c51b7d"
            ],
            [
             0.2,
             "#de77ae"
            ],
            [
             0.3,
             "#f1b6da"
            ],
            [
             0.4,
             "#fde0ef"
            ],
            [
             0.5,
             "#f7f7f7"
            ],
            [
             0.6,
             "#e6f5d0"
            ],
            [
             0.7,
             "#b8e186"
            ],
            [
             0.8,
             "#7fbc41"
            ],
            [
             0.9,
             "#4d9221"
            ],
            [
             1,
             "#276419"
            ]
           ],
           "sequential": [
            [
             0,
             "#0d0887"
            ],
            [
             0.1111111111111111,
             "#46039f"
            ],
            [
             0.2222222222222222,
             "#7201a8"
            ],
            [
             0.3333333333333333,
             "#9c179e"
            ],
            [
             0.4444444444444444,
             "#bd3786"
            ],
            [
             0.5555555555555556,
             "#d8576b"
            ],
            [
             0.6666666666666666,
             "#ed7953"
            ],
            [
             0.7777777777777778,
             "#fb9f3a"
            ],
            [
             0.8888888888888888,
             "#fdca26"
            ],
            [
             1,
             "#f0f921"
            ]
           ],
           "sequentialminus": [
            [
             0,
             "#0d0887"
            ],
            [
             0.1111111111111111,
             "#46039f"
            ],
            [
             0.2222222222222222,
             "#7201a8"
            ],
            [
             0.3333333333333333,
             "#9c179e"
            ],
            [
             0.4444444444444444,
             "#bd3786"
            ],
            [
             0.5555555555555556,
             "#d8576b"
            ],
            [
             0.6666666666666666,
             "#ed7953"
            ],
            [
             0.7777777777777778,
             "#fb9f3a"
            ],
            [
             0.8888888888888888,
             "#fdca26"
            ],
            [
             1,
             "#f0f921"
            ]
           ]
          },
          "colorway": [
           "#636efa",
           "#EF553B",
           "#00cc96",
           "#ab63fa",
           "#FFA15A",
           "#19d3f3",
           "#FF6692",
           "#B6E880",
           "#FF97FF",
           "#FECB52"
          ],
          "font": {
           "color": "#2a3f5f"
          },
          "geo": {
           "bgcolor": "white",
           "lakecolor": "white",
           "landcolor": "#E5ECF6",
           "showlakes": true,
           "showland": true,
           "subunitcolor": "white"
          },
          "hoverlabel": {
           "align": "left"
          },
          "hovermode": "closest",
          "mapbox": {
           "style": "light"
          },
          "paper_bgcolor": "white",
          "plot_bgcolor": "#E5ECF6",
          "polar": {
           "angularaxis": {
            "gridcolor": "white",
            "linecolor": "white",
            "ticks": ""
           },
           "bgcolor": "#E5ECF6",
           "radialaxis": {
            "gridcolor": "white",
            "linecolor": "white",
            "ticks": ""
           }
          },
          "scene": {
           "xaxis": {
            "backgroundcolor": "#E5ECF6",
            "gridcolor": "white",
            "gridwidth": 2,
            "linecolor": "white",
            "showbackground": true,
            "ticks": "",
            "zerolinecolor": "white"
           },
           "yaxis": {
            "backgroundcolor": "#E5ECF6",
            "gridcolor": "white",
            "gridwidth": 2,
            "linecolor": "white",
            "showbackground": true,
            "ticks": "",
            "zerolinecolor": "white"
           },
           "zaxis": {
            "backgroundcolor": "#E5ECF6",
            "gridcolor": "white",
            "gridwidth": 2,
            "linecolor": "white",
            "showbackground": true,
            "ticks": "",
            "zerolinecolor": "white"
           }
          },
          "shapedefaults": {
           "line": {
            "color": "#2a3f5f"
           }
          },
          "ternary": {
           "aaxis": {
            "gridcolor": "white",
            "linecolor": "white",
            "ticks": ""
           },
           "baxis": {
            "gridcolor": "white",
            "linecolor": "white",
            "ticks": ""
           },
           "bgcolor": "#E5ECF6",
           "caxis": {
            "gridcolor": "white",
            "linecolor": "white",
            "ticks": ""
           }
          },
          "title": {
           "x": 0.05
          },
          "xaxis": {
           "automargin": true,
           "gridcolor": "white",
           "linecolor": "white",
           "ticks": "",
           "title": {
            "standoff": 15
           },
           "zerolinecolor": "white",
           "zerolinewidth": 2
          },
          "yaxis": {
           "automargin": true,
           "gridcolor": "white",
           "linecolor": "white",
           "ticks": "",
           "title": {
            "standoff": 15
           },
           "zerolinecolor": "white",
           "zerolinewidth": 2
          }
         }
        },
        "title": {
         "text": "gmp343_filtered"
        },
        "xaxis": {
         "anchor": "y",
         "domain": [
          0,
          1
         ],
         "title": {
          "text": "creation_timestamp"
         }
        },
        "yaxis": {
         "anchor": "x",
         "domain": [
          0,
          1
         ],
         "title": {
          "text": "gmp343_filtered"
         }
        }
       }
      }
     },
     "metadata": {},
     "output_type": "display_data"
    },
    {
     "data": {
      "application/vnd.plotly.v1+json": {
       "config": {
        "plotlyServerURL": "https://plot.ly"
       },
       "data": [
        {
         "hovertemplate": "creation_timestamp=%{x}<br>sht45_humidity=%{y}<extra></extra>",
         "legendgroup": "",
         "line": {
          "color": "#636efa",
          "dash": "solid"
         },
         "marker": {
          "symbol": "circle"
         },
         "mode": "markers+lines",
         "name": "",
         "orientation": "v",
         "showlegend": false,
         "type": "scatter",
         "x": [
          "2023-09-18T13:10:02.090000+00:00",
          "2023-09-18T13:10:12.080000+00:00",
          "2023-09-18T13:10:22.090000+00:00",
          "2023-09-18T13:10:32.100000+00:00",
          "2023-09-18T13:10:42.110000+00:00",
          "2023-09-18T13:10:52.110000+00:00",
          "2023-09-18T13:11:02.130000+00:00",
          "2023-09-18T13:11:12.130000+00:00",
          "2023-09-18T13:11:22.130000+00:00",
          "2023-09-18T13:11:32.150000+00:00",
          "2023-09-18T13:11:42.140000+00:00",
          "2023-09-18T13:11:52.160000+00:00",
          "2023-09-18T13:12:02.180000+00:00",
          "2023-09-18T13:12:12.170000+00:00",
          "2023-09-18T13:12:22.180000+00:00",
          "2023-09-18T13:12:32.190000+00:00",
          "2023-09-18T13:12:42.200000+00:00",
          "2023-09-18T13:12:52.210000+00:00",
          "2023-09-18T13:13:02.220000+00:00",
          "2023-09-18T13:13:12.220000+00:00",
          "2023-09-18T13:13:22.230000+00:00",
          "2023-09-18T13:13:32.240000+00:00",
          "2023-09-18T13:13:42.250000+00:00",
          "2023-09-18T13:13:52.260000+00:00",
          "2023-09-18T13:14:02.270000+00:00",
          "2023-09-18T13:14:12.270000+00:00",
          "2023-09-18T13:14:22.280000+00:00",
          "2023-09-18T13:14:32.290000+00:00",
          "2023-09-18T13:14:42.300000+00:00",
          "2023-09-18T13:14:52.310000+00:00",
          "2023-09-18T13:15:02.310000+00:00",
          "2023-09-18T13:15:12.330000+00:00",
          "2023-09-18T13:15:22.340000+00:00",
          "2023-09-18T13:15:32.350000+00:00",
          "2023-09-18T13:15:42.360000+00:00",
          "2023-09-18T13:15:52.370000+00:00",
          "2023-09-18T13:16:02.370000+00:00",
          "2023-09-18T13:16:12.380000+00:00",
          "2023-09-18T13:16:22.400000+00:00",
          "2023-09-18T13:16:32.390000+00:00",
          "2023-09-18T13:16:42.400000+00:00",
          "2023-09-18T13:16:52.410000+00:00",
          "2023-09-18T13:17:02.420000+00:00",
          "2023-09-18T13:17:12.440000+00:00",
          "2023-09-18T13:17:22.440000+00:00",
          "2023-09-18T13:17:32.450000+00:00",
          "2023-09-18T13:17:42.460000+00:00",
          "2023-09-18T13:17:52.470000+00:00",
          "2023-09-18T13:18:02.480000+00:00",
          "2023-09-18T13:18:12.480000+00:00",
          "2023-09-18T13:18:22.550000+00:00",
          "2023-09-18T13:18:32.540000+00:00",
          "2023-09-18T13:18:42.560000+00:00",
          "2023-09-18T13:18:52.620000+00:00",
          "2023-09-18T13:19:02.570000+00:00",
          "2023-09-18T13:19:12.630000+00:00",
          "2023-09-18T13:19:22.590000+00:00",
          "2023-09-18T13:19:32.640000+00:00",
          "2023-09-18T13:19:42.600000+00:00",
          "2023-09-18T13:19:52.610000+00:00",
          "2023-09-18T13:20:02.630000+00:00",
          "2023-09-18T13:20:12.630000+00:00",
          "2023-09-18T13:20:22.640000+00:00",
          "2023-09-18T13:20:32.650000+00:00",
          "2023-09-18T13:20:42.650000+00:00",
          "2023-09-18T13:20:52.660000+00:00",
          "2023-09-18T13:21:02.670000+00:00",
          "2023-09-18T13:21:12.630000+00:00",
          "2023-09-18T13:21:22.630000+00:00",
          "2023-09-18T13:21:32.640000+00:00",
          "2023-09-18T13:21:42.700000+00:00",
          "2023-09-18T13:21:52.660000+00:00",
          "2023-09-18T13:22:02.670000+00:00",
          "2023-09-18T13:22:12.680000+00:00",
          "2023-09-18T13:22:22.790000+00:00",
          "2023-09-18T13:22:32.700000+00:00",
          "2023-09-18T13:22:42.700000+00:00",
          "2023-09-18T13:22:52.760000+00:00",
          "2023-09-18T13:23:02.730000+00:00",
          "2023-09-18T13:23:12.780000+00:00",
          "2023-09-18T13:23:22.790000+00:00",
          "2023-09-18T13:23:32.870000+00:00",
          "2023-09-18T13:23:42.810000+00:00",
          "2023-09-18T13:23:52.760000+00:00",
          "2023-09-18T13:24:02.830000+00:00",
          "2023-09-18T13:24:12.840000+00:00",
          "2023-09-18T13:24:22.800000+00:00",
          "2023-09-18T13:24:32.850000+00:00",
          "2023-09-18T13:24:42.810000+00:00",
          "2023-09-18T13:24:52.810000+00:00",
          "2023-09-18T13:25:02.820000+00:00",
          "2023-09-18T13:25:12.890000+00:00",
          "2023-09-18T13:25:22.830000+00:00",
          "2023-09-18T13:25:32.900000+00:00",
          "2023-09-18T13:25:42.860000+00:00",
          "2023-09-18T13:25:52.870000+00:00",
          "2023-09-18T13:26:02.870000+00:00",
          "2023-09-18T13:26:12.880000+00:00",
          "2023-09-18T13:26:22.880000+00:00",
          "2023-09-18T13:26:32.890000+00:00",
          "2023-09-18T13:26:42.890000+00:00",
          "2023-09-18T13:26:52.900000+00:00",
          "2023-09-18T13:27:02.910000+00:00",
          "2023-09-18T13:27:12.910000+00:00",
          "2023-09-18T13:27:22.910000+00:00",
          "2023-09-18T13:27:32.910000+00:00",
          "2023-09-18T13:27:42.930000+00:00",
          "2023-09-18T13:27:52.940000+00:00",
          "2023-09-18T13:28:02.940000+00:00",
          "2023-09-18T13:28:12.960000+00:00",
          "2023-09-18T13:28:22.970000+00:00",
          "2023-09-18T13:28:32.980000+00:00",
          "2023-09-18T13:28:42.980000+00:00",
          "2023-09-18T13:28:53+00:00",
          "2023-09-18T13:29:03+00:00",
          "2023-09-18T13:29:13.010000+00:00",
          "2023-09-18T13:29:23.020000+00:00",
          "2023-09-18T13:29:33.020000+00:00",
          "2023-09-18T13:29:43.030000+00:00",
          "2023-09-18T13:29:53.040000+00:00",
          "2023-09-18T13:30:03.030000+00:00",
          "2023-09-18T13:30:13.050000+00:00",
          "2023-09-18T13:30:23.050000+00:00",
          "2023-09-18T13:30:33.070000+00:00",
          "2023-09-18T13:30:43.080000+00:00",
          "2023-09-18T13:30:53.080000+00:00",
          "2023-09-18T13:31:03.090000+00:00",
          "2023-09-18T13:31:13.100000+00:00",
          "2023-09-18T13:31:23.110000+00:00",
          "2023-09-18T13:31:33.110000+00:00",
          "2023-09-18T13:31:43.110000+00:00",
          "2023-09-18T13:31:53.120000+00:00",
          "2023-09-18T13:32:03.130000+00:00",
          "2023-09-18T13:32:13.140000+00:00",
          "2023-09-18T13:32:23.150000+00:00",
          "2023-09-18T13:32:33.160000+00:00",
          "2023-09-18T13:32:43.170000+00:00",
          "2023-09-18T13:32:53.170000+00:00",
          "2023-09-18T13:33:03.180000+00:00",
          "2023-09-18T13:33:13.190000+00:00",
          "2023-09-18T13:33:23.190000+00:00",
          "2023-09-18T13:33:33.210000+00:00",
          "2023-09-18T13:33:43.200000+00:00",
          "2023-09-18T13:33:53.210000+00:00",
          "2023-09-18T13:34:03.210000+00:00",
          "2023-09-18T13:34:13.230000+00:00",
          "2023-09-18T13:34:23.240000+00:00",
          "2023-09-18T13:34:33.250000+00:00",
          "2023-09-18T13:34:43.260000+00:00",
          "2023-09-18T13:34:53.270000+00:00",
          "2023-09-18T13:35:03.280000+00:00",
          "2023-09-18T13:35:13.290000+00:00",
          "2023-09-18T13:35:23.290000+00:00",
          "2023-09-18T13:35:33.290000+00:00",
          "2023-09-18T13:35:43.310000+00:00",
          "2023-09-18T13:35:53.300000+00:00",
          "2023-09-18T13:36:03.310000+00:00",
          "2023-09-18T13:36:13.330000+00:00",
          "2023-09-18T13:36:23.330000+00:00",
          "2023-09-18T13:36:33.340000+00:00",
          "2023-09-18T13:36:43.350000+00:00",
          "2023-09-18T13:36:53.350000+00:00",
          "2023-09-18T13:37:03.410000+00:00",
          "2023-09-18T13:37:13.430000+00:00",
          "2023-09-18T13:37:23.430000+00:00",
          "2023-09-18T13:37:33.430000+00:00",
          "2023-09-18T13:37:43.440000+00:00",
          "2023-09-18T13:37:53.500000+00:00"
         ],
         "xaxis": "x",
         "y": [
          0.77,
          0.79,
          0.78,
          0.75,
          0.77,
          0.78,
          0.77,
          0.76,
          0.77,
          0.75,
          0.73,
          0.76,
          0.79,
          0.73,
          0.8,
          0.81,
          0.78,
          0.79,
          0.79,
          0.75,
          0.74,
          0.71,
          0.77,
          0.74,
          0.76,
          0.75,
          0.78,
          0.75,
          0.78,
          0.73,
          0.74,
          0.77,
          0.74,
          0.74,
          0.68,
          0.68,
          0.74,
          0.75,
          0.74,
          0.71,
          0.75,
          0.71,
          0.74,
          0.72,
          0.72,
          0.72,
          0.73,
          0.68,
          0.73,
          0.74,
          0.78,
          0.72,
          0.73,
          0.72,
          0.72,
          0.71,
          0.74,
          0.71,
          0.75,
          0.68,
          0.73,
          0.71,
          0.72,
          0.73,
          0.75,
          0.71,
          0.7,
          0.71,
          0.77,
          0.74,
          0.71,
          0.72,
          0.72,
          0.75,
          0.69,
          0.74,
          0.72,
          0.71,
          0.71,
          0.7,
          0.72,
          0.68,
          0.67,
          0.73,
          0.7,
          0.68,
          0.72,
          0.69,
          0.7,
          0.72,
          0.72,
          0.7,
          0.66,
          0.73,
          0.66,
          0.71,
          0.69,
          0.68,
          0.77,
          0.68,
          0.7,
          0.69,
          0.74,
          0.69,
          0.69,
          0.73,
          0.66,
          0.7,
          0.68,
          0.74,
          0.65,
          0.71,
          0.69,
          0.65,
          0.7,
          0.7,
          0.71,
          0.71,
          0.68,
          0.73,
          0.69,
          0.7,
          0.72,
          0.71,
          0.69,
          0.7,
          0.69,
          0.69,
          0.68,
          0.71,
          0.68,
          0.7,
          0.68,
          0.7,
          0.68,
          0.68,
          0.67,
          0.69,
          0.71,
          0.69,
          0.69,
          0.63,
          0.68,
          0.68,
          0.68,
          0.68,
          0.68,
          0.66,
          0.69,
          0.7,
          0.7,
          0.72,
          0.65,
          0.68,
          0.71,
          0.65,
          0.69,
          0.68,
          0.65,
          0.66,
          0.69,
          0.64,
          0.7,
          0.7,
          0.72,
          0.69,
          0.68,
          0.75
         ],
         "yaxis": "y"
        }
       ],
       "layout": {
        "legend": {
         "tracegroupgap": 0
        },
        "template": {
         "data": {
          "bar": [
           {
            "error_x": {
             "color": "#2a3f5f"
            },
            "error_y": {
             "color": "#2a3f5f"
            },
            "marker": {
             "line": {
              "color": "#E5ECF6",
              "width": 0.5
             },
             "pattern": {
              "fillmode": "overlay",
              "size": 10,
              "solidity": 0.2
             }
            },
            "type": "bar"
           }
          ],
          "barpolar": [
           {
            "marker": {
             "line": {
              "color": "#E5ECF6",
              "width": 0.5
             },
             "pattern": {
              "fillmode": "overlay",
              "size": 10,
              "solidity": 0.2
             }
            },
            "type": "barpolar"
           }
          ],
          "carpet": [
           {
            "aaxis": {
             "endlinecolor": "#2a3f5f",
             "gridcolor": "white",
             "linecolor": "white",
             "minorgridcolor": "white",
             "startlinecolor": "#2a3f5f"
            },
            "baxis": {
             "endlinecolor": "#2a3f5f",
             "gridcolor": "white",
             "linecolor": "white",
             "minorgridcolor": "white",
             "startlinecolor": "#2a3f5f"
            },
            "type": "carpet"
           }
          ],
          "choropleth": [
           {
            "colorbar": {
             "outlinewidth": 0,
             "ticks": ""
            },
            "type": "choropleth"
           }
          ],
          "contour": [
           {
            "colorbar": {
             "outlinewidth": 0,
             "ticks": ""
            },
            "colorscale": [
             [
              0,
              "#0d0887"
             ],
             [
              0.1111111111111111,
              "#46039f"
             ],
             [
              0.2222222222222222,
              "#7201a8"
             ],
             [
              0.3333333333333333,
              "#9c179e"
             ],
             [
              0.4444444444444444,
              "#bd3786"
             ],
             [
              0.5555555555555556,
              "#d8576b"
             ],
             [
              0.6666666666666666,
              "#ed7953"
             ],
             [
              0.7777777777777778,
              "#fb9f3a"
             ],
             [
              0.8888888888888888,
              "#fdca26"
             ],
             [
              1,
              "#f0f921"
             ]
            ],
            "type": "contour"
           }
          ],
          "contourcarpet": [
           {
            "colorbar": {
             "outlinewidth": 0,
             "ticks": ""
            },
            "type": "contourcarpet"
           }
          ],
          "heatmap": [
           {
            "colorbar": {
             "outlinewidth": 0,
             "ticks": ""
            },
            "colorscale": [
             [
              0,
              "#0d0887"
             ],
             [
              0.1111111111111111,
              "#46039f"
             ],
             [
              0.2222222222222222,
              "#7201a8"
             ],
             [
              0.3333333333333333,
              "#9c179e"
             ],
             [
              0.4444444444444444,
              "#bd3786"
             ],
             [
              0.5555555555555556,
              "#d8576b"
             ],
             [
              0.6666666666666666,
              "#ed7953"
             ],
             [
              0.7777777777777778,
              "#fb9f3a"
             ],
             [
              0.8888888888888888,
              "#fdca26"
             ],
             [
              1,
              "#f0f921"
             ]
            ],
            "type": "heatmap"
           }
          ],
          "heatmapgl": [
           {
            "colorbar": {
             "outlinewidth": 0,
             "ticks": ""
            },
            "colorscale": [
             [
              0,
              "#0d0887"
             ],
             [
              0.1111111111111111,
              "#46039f"
             ],
             [
              0.2222222222222222,
              "#7201a8"
             ],
             [
              0.3333333333333333,
              "#9c179e"
             ],
             [
              0.4444444444444444,
              "#bd3786"
             ],
             [
              0.5555555555555556,
              "#d8576b"
             ],
             [
              0.6666666666666666,
              "#ed7953"
             ],
             [
              0.7777777777777778,
              "#fb9f3a"
             ],
             [
              0.8888888888888888,
              "#fdca26"
             ],
             [
              1,
              "#f0f921"
             ]
            ],
            "type": "heatmapgl"
           }
          ],
          "histogram": [
           {
            "marker": {
             "pattern": {
              "fillmode": "overlay",
              "size": 10,
              "solidity": 0.2
             }
            },
            "type": "histogram"
           }
          ],
          "histogram2d": [
           {
            "colorbar": {
             "outlinewidth": 0,
             "ticks": ""
            },
            "colorscale": [
             [
              0,
              "#0d0887"
             ],
             [
              0.1111111111111111,
              "#46039f"
             ],
             [
              0.2222222222222222,
              "#7201a8"
             ],
             [
              0.3333333333333333,
              "#9c179e"
             ],
             [
              0.4444444444444444,
              "#bd3786"
             ],
             [
              0.5555555555555556,
              "#d8576b"
             ],
             [
              0.6666666666666666,
              "#ed7953"
             ],
             [
              0.7777777777777778,
              "#fb9f3a"
             ],
             [
              0.8888888888888888,
              "#fdca26"
             ],
             [
              1,
              "#f0f921"
             ]
            ],
            "type": "histogram2d"
           }
          ],
          "histogram2dcontour": [
           {
            "colorbar": {
             "outlinewidth": 0,
             "ticks": ""
            },
            "colorscale": [
             [
              0,
              "#0d0887"
             ],
             [
              0.1111111111111111,
              "#46039f"
             ],
             [
              0.2222222222222222,
              "#7201a8"
             ],
             [
              0.3333333333333333,
              "#9c179e"
             ],
             [
              0.4444444444444444,
              "#bd3786"
             ],
             [
              0.5555555555555556,
              "#d8576b"
             ],
             [
              0.6666666666666666,
              "#ed7953"
             ],
             [
              0.7777777777777778,
              "#fb9f3a"
             ],
             [
              0.8888888888888888,
              "#fdca26"
             ],
             [
              1,
              "#f0f921"
             ]
            ],
            "type": "histogram2dcontour"
           }
          ],
          "mesh3d": [
           {
            "colorbar": {
             "outlinewidth": 0,
             "ticks": ""
            },
            "type": "mesh3d"
           }
          ],
          "parcoords": [
           {
            "line": {
             "colorbar": {
              "outlinewidth": 0,
              "ticks": ""
             }
            },
            "type": "parcoords"
           }
          ],
          "pie": [
           {
            "automargin": true,
            "type": "pie"
           }
          ],
          "scatter": [
           {
            "fillpattern": {
             "fillmode": "overlay",
             "size": 10,
             "solidity": 0.2
            },
            "type": "scatter"
           }
          ],
          "scatter3d": [
           {
            "line": {
             "colorbar": {
              "outlinewidth": 0,
              "ticks": ""
             }
            },
            "marker": {
             "colorbar": {
              "outlinewidth": 0,
              "ticks": ""
             }
            },
            "type": "scatter3d"
           }
          ],
          "scattercarpet": [
           {
            "marker": {
             "colorbar": {
              "outlinewidth": 0,
              "ticks": ""
             }
            },
            "type": "scattercarpet"
           }
          ],
          "scattergeo": [
           {
            "marker": {
             "colorbar": {
              "outlinewidth": 0,
              "ticks": ""
             }
            },
            "type": "scattergeo"
           }
          ],
          "scattergl": [
           {
            "marker": {
             "colorbar": {
              "outlinewidth": 0,
              "ticks": ""
             }
            },
            "type": "scattergl"
           }
          ],
          "scattermapbox": [
           {
            "marker": {
             "colorbar": {
              "outlinewidth": 0,
              "ticks": ""
             }
            },
            "type": "scattermapbox"
           }
          ],
          "scatterpolar": [
           {
            "marker": {
             "colorbar": {
              "outlinewidth": 0,
              "ticks": ""
             }
            },
            "type": "scatterpolar"
           }
          ],
          "scatterpolargl": [
           {
            "marker": {
             "colorbar": {
              "outlinewidth": 0,
              "ticks": ""
             }
            },
            "type": "scatterpolargl"
           }
          ],
          "scatterternary": [
           {
            "marker": {
             "colorbar": {
              "outlinewidth": 0,
              "ticks": ""
             }
            },
            "type": "scatterternary"
           }
          ],
          "surface": [
           {
            "colorbar": {
             "outlinewidth": 0,
             "ticks": ""
            },
            "colorscale": [
             [
              0,
              "#0d0887"
             ],
             [
              0.1111111111111111,
              "#46039f"
             ],
             [
              0.2222222222222222,
              "#7201a8"
             ],
             [
              0.3333333333333333,
              "#9c179e"
             ],
             [
              0.4444444444444444,
              "#bd3786"
             ],
             [
              0.5555555555555556,
              "#d8576b"
             ],
             [
              0.6666666666666666,
              "#ed7953"
             ],
             [
              0.7777777777777778,
              "#fb9f3a"
             ],
             [
              0.8888888888888888,
              "#fdca26"
             ],
             [
              1,
              "#f0f921"
             ]
            ],
            "type": "surface"
           }
          ],
          "table": [
           {
            "cells": {
             "fill": {
              "color": "#EBF0F8"
             },
             "line": {
              "color": "white"
             }
            },
            "header": {
             "fill": {
              "color": "#C8D4E3"
             },
             "line": {
              "color": "white"
             }
            },
            "type": "table"
           }
          ]
         },
         "layout": {
          "annotationdefaults": {
           "arrowcolor": "#2a3f5f",
           "arrowhead": 0,
           "arrowwidth": 1
          },
          "autotypenumbers": "strict",
          "coloraxis": {
           "colorbar": {
            "outlinewidth": 0,
            "ticks": ""
           }
          },
          "colorscale": {
           "diverging": [
            [
             0,
             "#8e0152"
            ],
            [
             0.1,
             "#c51b7d"
            ],
            [
             0.2,
             "#de77ae"
            ],
            [
             0.3,
             "#f1b6da"
            ],
            [
             0.4,
             "#fde0ef"
            ],
            [
             0.5,
             "#f7f7f7"
            ],
            [
             0.6,
             "#e6f5d0"
            ],
            [
             0.7,
             "#b8e186"
            ],
            [
             0.8,
             "#7fbc41"
            ],
            [
             0.9,
             "#4d9221"
            ],
            [
             1,
             "#276419"
            ]
           ],
           "sequential": [
            [
             0,
             "#0d0887"
            ],
            [
             0.1111111111111111,
             "#46039f"
            ],
            [
             0.2222222222222222,
             "#7201a8"
            ],
            [
             0.3333333333333333,
             "#9c179e"
            ],
            [
             0.4444444444444444,
             "#bd3786"
            ],
            [
             0.5555555555555556,
             "#d8576b"
            ],
            [
             0.6666666666666666,
             "#ed7953"
            ],
            [
             0.7777777777777778,
             "#fb9f3a"
            ],
            [
             0.8888888888888888,
             "#fdca26"
            ],
            [
             1,
             "#f0f921"
            ]
           ],
           "sequentialminus": [
            [
             0,
             "#0d0887"
            ],
            [
             0.1111111111111111,
             "#46039f"
            ],
            [
             0.2222222222222222,
             "#7201a8"
            ],
            [
             0.3333333333333333,
             "#9c179e"
            ],
            [
             0.4444444444444444,
             "#bd3786"
            ],
            [
             0.5555555555555556,
             "#d8576b"
            ],
            [
             0.6666666666666666,
             "#ed7953"
            ],
            [
             0.7777777777777778,
             "#fb9f3a"
            ],
            [
             0.8888888888888888,
             "#fdca26"
            ],
            [
             1,
             "#f0f921"
            ]
           ]
          },
          "colorway": [
           "#636efa",
           "#EF553B",
           "#00cc96",
           "#ab63fa",
           "#FFA15A",
           "#19d3f3",
           "#FF6692",
           "#B6E880",
           "#FF97FF",
           "#FECB52"
          ],
          "font": {
           "color": "#2a3f5f"
          },
          "geo": {
           "bgcolor": "white",
           "lakecolor": "white",
           "landcolor": "#E5ECF6",
           "showlakes": true,
           "showland": true,
           "subunitcolor": "white"
          },
          "hoverlabel": {
           "align": "left"
          },
          "hovermode": "closest",
          "mapbox": {
           "style": "light"
          },
          "paper_bgcolor": "white",
          "plot_bgcolor": "#E5ECF6",
          "polar": {
           "angularaxis": {
            "gridcolor": "white",
            "linecolor": "white",
            "ticks": ""
           },
           "bgcolor": "#E5ECF6",
           "radialaxis": {
            "gridcolor": "white",
            "linecolor": "white",
            "ticks": ""
           }
          },
          "scene": {
           "xaxis": {
            "backgroundcolor": "#E5ECF6",
            "gridcolor": "white",
            "gridwidth": 2,
            "linecolor": "white",
            "showbackground": true,
            "ticks": "",
            "zerolinecolor": "white"
           },
           "yaxis": {
            "backgroundcolor": "#E5ECF6",
            "gridcolor": "white",
            "gridwidth": 2,
            "linecolor": "white",
            "showbackground": true,
            "ticks": "",
            "zerolinecolor": "white"
           },
           "zaxis": {
            "backgroundcolor": "#E5ECF6",
            "gridcolor": "white",
            "gridwidth": 2,
            "linecolor": "white",
            "showbackground": true,
            "ticks": "",
            "zerolinecolor": "white"
           }
          },
          "shapedefaults": {
           "line": {
            "color": "#2a3f5f"
           }
          },
          "ternary": {
           "aaxis": {
            "gridcolor": "white",
            "linecolor": "white",
            "ticks": ""
           },
           "baxis": {
            "gridcolor": "white",
            "linecolor": "white",
            "ticks": ""
           },
           "bgcolor": "#E5ECF6",
           "caxis": {
            "gridcolor": "white",
            "linecolor": "white",
            "ticks": ""
           }
          },
          "title": {
           "x": 0.05
          },
          "xaxis": {
           "automargin": true,
           "gridcolor": "white",
           "linecolor": "white",
           "ticks": "",
           "title": {
            "standoff": 15
           },
           "zerolinecolor": "white",
           "zerolinewidth": 2
          },
          "yaxis": {
           "automargin": true,
           "gridcolor": "white",
           "linecolor": "white",
           "ticks": "",
           "title": {
            "standoff": 15
           },
           "zerolinecolor": "white",
           "zerolinewidth": 2
          }
         }
        },
        "title": {
         "text": "sht45_humidity"
        },
        "xaxis": {
         "anchor": "y",
         "domain": [
          0,
          1
         ],
         "title": {
          "text": "creation_timestamp"
         }
        },
        "yaxis": {
         "anchor": "x",
         "domain": [
          0,
          1
         ],
         "title": {
          "text": "sht45_humidity"
         }
        }
       }
      }
     },
     "metadata": {},
     "output_type": "display_data"
    }
   ],
   "source": [
    "#600\n",
    "start_date = datetime(2023, 9, 18, 12, 39, 30).replace(tzinfo=timezone.utc)\n",
    "end_date = datetime(2023, 9, 18, 13, 8, 0).replace(tzinfo=timezone.utc)\n",
    "\n",
    "df_p_600 = df.filter(pl.col(\"creation_timestamp\").is_between(start_date, end_date))\n",
    "\n",
    "plot_sensor_measurement(df_p_600.collect(), col_name=\"gmp343_filtered\")\n",
    "plot_sensor_measurement(df_p_600.collect(), col_name=\"sht45_humidity\")\n",
    "\n",
    "#400\n",
    "start_date = datetime(2023, 9, 18, 13, 10, 0).replace(tzinfo=timezone.utc)\n",
    "end_date = datetime(2023, 9, 18, 13, 38, 0).replace(tzinfo=timezone.utc)\n",
    "\n",
    "df_p_400 = df.sort(\"creation_timestamp\").filter(pl.col(\"creation_timestamp\").is_between(start_date, end_date))\n",
    "\n",
    "plot_sensor_measurement(df_p_400.collect(), col_name=\"gmp343_filtered\")\n",
    "plot_sensor_measurement(df_p_400.collect(), col_name=\"sht45_humidity\")\n"
   ]
  },
  {
   "cell_type": "code",
   "execution_count": null,
   "metadata": {},
   "outputs": [
    {
     "name": "stdout",
     "output_type": "stream",
     "text": [
      "Uncut average: 423.34550561797766\n",
      "Cut average: 417.1120689655173\n",
      "Uncut average: 597.4382857142856\n",
      "Cut average: 597.4605263157896\n",
      "acropolis_slope = 1.0178628788793624, acropolis_intercept = 2.8171086674313415\n"
     ]
    }
   ],
   "source": [
    "measured_values = [None, None]\n",
    "true_values = [427.38, 610.95]\n",
    "\n",
    "# 400 ppm\n",
    "\n",
    "data = df_p_400.select(pl.col(\"gmp343_filtered\")).collect().to_series().to_list()\n",
    "measured_values[0] = average_bottle(data)\n",
    "\n",
    "# 600 ppm\n",
    "data = df_p_600.select(pl.col(\"gmp343_filtered\")).collect().to_series().to_list()\n",
    "\n",
    "measured_values[1] = average_bottle(data)\n",
    "\n",
    "# calculate slope and intercept\n",
    "slope, intercept = two_point_calibration(measured_values, true_values)\n",
    "print(f\"acropolis_slope = {slope}, acropolis_intercept = {intercept}\")"
   ]
  }
 ],
 "metadata": {
  "kernelspec": {
   "display_name": ".venv",
   "language": "python",
   "name": "python3"
  },
  "language_info": {
   "codemirror_mode": {
    "name": "ipython",
    "version": 3
   },
   "file_extension": ".py",
   "mimetype": "text/x-python",
   "name": "python",
   "nbconvert_exporter": "python",
   "pygments_lexer": "ipython3",
   "version": "3.11.6"
  }
 },
 "nbformat": 4,
 "nbformat_minor": 2
}
