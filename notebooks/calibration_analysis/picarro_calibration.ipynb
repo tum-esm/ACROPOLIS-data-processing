{
 "cells": [
  {
   "cell_type": "code",
   "execution_count": 4,
   "metadata": {},
   "outputs": [],
   "source": [
    "# Imports & Inits\n",
    "\n",
    "from datetime import datetime\n",
    "from datetime import timezone\n",
    "import polars as pl\n",
    "import json\n",
    "import seaborn as sns\n",
    "import matplotlib.pyplot as plt\n",
    "import matplotlib.dates as mdates\n",
    "import plotly.express as px\n",
    "import math\n",
    "import pyarrow as pa\n",
    "import numpy as np\n",
    "import os\n",
    "\n",
    "picarro_path = r\"/Users/patrickaigner/Documents/PROJECTS/ACROPOLIS/Database/PICARRO\"\n",
    "\n",
    "df = pl.scan_parquet(os.path.join(picarro_path, \"picarro.parquet\")) \n",
    "\n",
    "def plot_sensor_measurement(df_f, variant: str, col_name: str, sensor_id: int, filter = None):\n",
    "    \n",
    "    if filter != None:\n",
    "            df_f = df_f.groupby_dynamic(\"date\",every=filter).agg(pl.all().exclude('date').mean())\n",
    "\n",
    "    sns.lineplot(data=df_f,\n",
    "            x='date',\n",
    "            y=col_name,\n",
    "            label = id)\n",
    "\n",
    "\n",
    "    # set axes labels\n",
    "    plt.xlabel('Time')\n",
    "    plt.ylabel(col_name)\n",
    "    plt.xticks(rotation=45)\n",
    "    plt.legend(title='Systems', bbox_to_anchor=(1, 1))\n",
    "    plt.title(label=col_name)\n",
    "    plt.gca().xaxis.set_major_formatter(mdates.DateFormatter('%d.%m %H:%M'))\n",
    "\n",
    "    # show the plot\n",
    "    plt.show()\n",
    "        \n",
    "def two_point_calibration(measured_values, true_values):\n",
    "    # Check if input lists have length 2\n",
    "    if len(measured_values) != 2 or len(true_values) != 2:\n",
    "        raise ValueError(\"Both measured_values and true_values must have length 2\")\n",
    "\n",
    "    # Calculate calibration parameters (slope and intercept)\n",
    "    # \n",
    "    slope = (true_values[1] - true_values[0]) / (measured_values[1] - measured_values[0])\n",
    "    # y_true = m * y_meas + t\n",
    "    intercept = true_values[0] - slope * measured_values[0]\n",
    "\n",
    "    return slope, intercept\n",
    "\n",
    "def average_bottle(conc_list):\n",
    "    uncut_avg = sum(conc_list) / len(conc_list)\n",
    "    print(f\"Uncut average: {uncut_avg}\")\n",
    "\n",
    "    if len(conc_list) > 0:\n",
    "        conc_list_cut = conc_list[int(len(conc_list)*0.3):int(len(conc_list)*0.95)]\n",
    "        cut_avg = sum(conc_list_cut) / len(conc_list_cut)\n",
    "        print(f\"Cut average: {cut_avg}\")\n",
    "    \n",
    "        return cut_avg\n",
    "    return 0"
   ]
  },
  {
   "cell_type": "code",
   "execution_count": 32,
   "metadata": {},
   "outputs": [],
   "source": [
    "start_date = datetime(2023, 10, 23, 13, 6, 0).replace(tzinfo=timezone.utc)\n",
    "end_date = datetime(2023, 10, 23, 13, 31, 0).replace(tzinfo=timezone.utc)\n",
    "\n",
    "df_p_600 = df.select(pl.col(\"datetime\").dt.cast_time_unit(\"us\").dt.replace_time_zone(\"UTC\").alias(\"creation_timestamp\"),\n",
    "                pl.col(\"CO2_dry\")).sort(\"creation_timestamp\").filter(pl.col(\"creation_timestamp\").is_between(start_date, end_date))\n",
    "\n",
    "start_date = datetime(2023, 10, 23, 13, 31, 30).replace(tzinfo=timezone.utc)\n",
    "end_date = datetime(2023, 10, 23, 14, 6, 0).replace(tzinfo=timezone.utc)\n",
    "\n",
    "df_p_400 = df.select(pl.col(\"datetime\").dt.cast_time_unit(\"us\").dt.replace_time_zone(\"UTC\").alias(\"creation_timestamp\"),\n",
    "                pl.col(\"CO2_dry\")).sort(\"creation_timestamp\").filter(pl.col(\"creation_timestamp\").is_between(start_date, end_date))"
   ]
  },
  {
   "cell_type": "code",
   "execution_count": 33,
   "metadata": {},
   "outputs": [
    {
     "data": {
      "text/html": [
       "<div><style>\n",
       ".dataframe > thead > tr > th,\n",
       ".dataframe > tbody > tr > td {\n",
       "  text-align: right;\n",
       "}\n",
       "</style>\n",
       "<small>shape: (1_860, 2)</small><table border=\"1\" class=\"dataframe\"><thead><tr><th>creation_timestamp</th><th>CO2_dry</th></tr><tr><td>datetime[μs, UTC]</td><td>f64</td></tr></thead><tbody><tr><td>2023-10-23 13:31:30.887 UTC</td><td>424.830962</td></tr><tr><td>2023-10-23 13:31:31.811 UTC</td><td>424.830962</td></tr><tr><td>2023-10-23 13:31:32.316 UTC</td><td>424.749556</td></tr><tr><td>2023-10-23 13:31:33.861 UTC</td><td>424.749556</td></tr><tr><td>2023-10-23 13:31:34.776 UTC</td><td>424.749556</td></tr><tr><td>2023-10-23 13:31:35.286 UTC</td><td>424.679845</td></tr><tr><td>2023-10-23 13:31:36.838 UTC</td><td>424.679845</td></tr><tr><td>2023-10-23 13:31:37.759 UTC</td><td>424.679845</td></tr><tr><td>2023-10-23 13:31:38.267 UTC</td><td>424.684115</td></tr><tr><td>2023-10-23 13:31:39.802 UTC</td><td>424.684115</td></tr><tr><td>2023-10-23 13:31:40.720 UTC</td><td>424.684115</td></tr><tr><td>2023-10-23 13:31:41.223 UTC</td><td>424.684856</td></tr><tr><td>&hellip;</td><td>&hellip;</td></tr><tr><td>2023-10-23 14:02:02.772 UTC</td><td>424.599095</td></tr><tr><td>2023-10-23 14:02:03.686 UTC</td><td>424.599095</td></tr><tr><td>2023-10-23 14:02:04.191 UTC</td><td>424.637818</td></tr><tr><td>2023-10-23 14:02:05.746 UTC</td><td>424.637818</td></tr><tr><td>2023-10-23 14:02:06.674 UTC</td><td>424.637818</td></tr><tr><td>2023-10-23 14:02:07.181 UTC</td><td>424.608296</td></tr><tr><td>2023-10-23 14:02:08.720 UTC</td><td>424.608296</td></tr><tr><td>2023-10-23 14:02:09.632 UTC</td><td>424.608296</td></tr><tr><td>2023-10-23 14:02:10.134 UTC</td><td>424.584446</td></tr><tr><td>2023-10-23 14:02:11.670 UTC</td><td>424.584446</td></tr><tr><td>2023-10-23 14:02:12.585 UTC</td><td>424.584446</td></tr><tr><td>2023-10-23 14:02:13.095 UTC</td><td>424.602407</td></tr></tbody></table></div>"
      ],
      "text/plain": [
       "shape: (1_860, 2)\n",
       "┌─────────────────────────────┬────────────┐\n",
       "│ creation_timestamp          ┆ CO2_dry    │\n",
       "│ ---                         ┆ ---        │\n",
       "│ datetime[μs, UTC]           ┆ f64        │\n",
       "╞═════════════════════════════╪════════════╡\n",
       "│ 2023-10-23 13:31:30.887 UTC ┆ 424.830962 │\n",
       "│ 2023-10-23 13:31:31.811 UTC ┆ 424.830962 │\n",
       "│ 2023-10-23 13:31:32.316 UTC ┆ 424.749556 │\n",
       "│ 2023-10-23 13:31:33.861 UTC ┆ 424.749556 │\n",
       "│ …                           ┆ …          │\n",
       "│ 2023-10-23 14:02:10.134 UTC ┆ 424.584446 │\n",
       "│ 2023-10-23 14:02:11.670 UTC ┆ 424.584446 │\n",
       "│ 2023-10-23 14:02:12.585 UTC ┆ 424.584446 │\n",
       "│ 2023-10-23 14:02:13.095 UTC ┆ 424.602407 │\n",
       "└─────────────────────────────┴────────────┘"
      ]
     },
     "execution_count": 33,
     "metadata": {},
     "output_type": "execute_result"
    }
   ],
   "source": [
    "df_p_400.collect()"
   ]
  },
  {
   "cell_type": "code",
   "execution_count": 34,
   "metadata": {},
   "outputs": [
    {
     "data": {
      "text/html": [
       "<div><style>\n",
       ".dataframe > thead > tr > th,\n",
       ".dataframe > tbody > tr > td {\n",
       "  text-align: right;\n",
       "}\n",
       "</style>\n",
       "<small>shape: (1_512, 2)</small><table border=\"1\" class=\"dataframe\"><thead><tr><th>creation_timestamp</th><th>CO2_dry</th></tr><tr><td>datetime[μs, UTC]</td><td>f64</td></tr></thead><tbody><tr><td>2023-10-23 13:06:00.611 UTC</td><td>607.296466</td></tr><tr><td>2023-10-23 13:06:01.529 UTC</td><td>607.296466</td></tr><tr><td>2023-10-23 13:06:02.036 UTC</td><td>607.29622</td></tr><tr><td>2023-10-23 13:06:03.581 UTC</td><td>607.29622</td></tr><tr><td>2023-10-23 13:06:04.503 UTC</td><td>607.29622</td></tr><tr><td>2023-10-23 13:06:05.006 UTC</td><td>607.285509</td></tr><tr><td>2023-10-23 13:06:06.553 UTC</td><td>607.285509</td></tr><tr><td>2023-10-23 13:06:07.479 UTC</td><td>607.285509</td></tr><tr><td>2023-10-23 13:06:07.986 UTC</td><td>607.251496</td></tr><tr><td>2023-10-23 13:06:09.532 UTC</td><td>607.251496</td></tr><tr><td>2023-10-23 13:06:10.460 UTC</td><td>607.251496</td></tr><tr><td>2023-10-23 13:06:10.966 UTC</td><td>607.25577</td></tr><tr><td>&hellip;</td><td>&hellip;</td></tr><tr><td>2023-10-23 13:30:49.203 UTC</td><td>606.975845</td></tr><tr><td>2023-10-23 13:30:50.130 UTC</td><td>606.975845</td></tr><tr><td>2023-10-23 13:30:50.637 UTC</td><td>606.9589</td></tr><tr><td>2023-10-23 13:30:52.181 UTC</td><td>606.9589</td></tr><tr><td>2023-10-23 13:30:53.094 UTC</td><td>606.9589</td></tr><tr><td>2023-10-23 13:30:53.601 UTC</td><td>606.981838</td></tr><tr><td>2023-10-23 13:30:55.158 UTC</td><td>606.981838</td></tr><tr><td>2023-10-23 13:30:56.088 UTC</td><td>606.981838</td></tr><tr><td>2023-10-23 13:30:56.595 UTC</td><td>606.949742</td></tr><tr><td>2023-10-23 13:30:58.155 UTC</td><td>606.949742</td></tr><tr><td>2023-10-23 13:30:59.094 UTC</td><td>606.949742</td></tr><tr><td>2023-10-23 13:30:59.599 UTC</td><td>606.968668</td></tr></tbody></table></div>"
      ],
      "text/plain": [
       "shape: (1_512, 2)\n",
       "┌─────────────────────────────┬────────────┐\n",
       "│ creation_timestamp          ┆ CO2_dry    │\n",
       "│ ---                         ┆ ---        │\n",
       "│ datetime[μs, UTC]           ┆ f64        │\n",
       "╞═════════════════════════════╪════════════╡\n",
       "│ 2023-10-23 13:06:00.611 UTC ┆ 607.296466 │\n",
       "│ 2023-10-23 13:06:01.529 UTC ┆ 607.296466 │\n",
       "│ 2023-10-23 13:06:02.036 UTC ┆ 607.29622  │\n",
       "│ 2023-10-23 13:06:03.581 UTC ┆ 607.29622  │\n",
       "│ …                           ┆ …          │\n",
       "│ 2023-10-23 13:30:56.595 UTC ┆ 606.949742 │\n",
       "│ 2023-10-23 13:30:58.155 UTC ┆ 606.949742 │\n",
       "│ 2023-10-23 13:30:59.094 UTC ┆ 606.949742 │\n",
       "│ 2023-10-23 13:30:59.599 UTC ┆ 606.968668 │\n",
       "└─────────────────────────────┴────────────┘"
      ]
     },
     "execution_count": 34,
     "metadata": {},
     "output_type": "execute_result"
    }
   ],
   "source": [
    "df_p_600.collect()"
   ]
  },
  {
   "cell_type": "code",
   "execution_count": 35,
   "metadata": {},
   "outputs": [
    {
     "name": "stdout",
     "output_type": "stream",
     "text": [
      "424.6064014685599\n",
      "424.6023673882955\n",
      "607.0610295264346\n",
      "607.0095882593893\n"
     ]
    },
    {
     "data": {
      "text/plain": [
       "(1.006374633215469, 0.0709482571842841)"
      ]
     },
     "execution_count": 35,
     "metadata": {},
     "output_type": "execute_result"
    }
   ],
   "source": [
    "measured_values = [None, None]\n",
    "true_values = [427.38, 610.95]\n",
    "\n",
    "# 400 ppm\n",
    "\n",
    "data = df_p_400.select(pl.col(\"CO2_dry\")).collect().to_series().to_list()\n",
    "\n",
    "data_cut = data[int(len(data)*0.3):int(len(data)*0.95)]\n",
    "\n",
    "print(sum(data) / len(data))\n",
    "print(sum(data_cut) / len(data_cut))\n",
    "measured_values[0] = sum(data_cut) / len(data_cut)\n",
    "\n",
    "# 600 ppm\n",
    "data = df_p_600.select(pl.col(\"CO2_dry\")).collect().to_series().to_list()\n",
    "\n",
    "data_cut = data[int(len(data)*0.3):int(len(data)*0.95)]\n",
    "\n",
    "print(sum(data) / len(data))\n",
    "print(sum(data_cut) / len(data_cut))\n",
    "measured_values[1] = sum(data_cut) / len(data_cut)\n",
    "\n",
    "\n",
    "two_point_calibration(measured_values, true_values)"
   ]
  },
  {
   "cell_type": "code",
   "execution_count": 36,
   "metadata": {},
   "outputs": [
    {
     "data": {
      "text/plain": [
       "610.95"
      ]
     },
     "execution_count": 36,
     "metadata": {},
     "output_type": "execute_result"
    }
   ],
   "source": [
    "607.0095882593893 * 1.006374633215469 + 0.0709482571842841"
   ]
  },
  {
   "cell_type": "code",
   "execution_count": 37,
   "metadata": {},
   "outputs": [
    {
     "data": {
      "text/plain": [
       "427.38"
      ]
     },
     "execution_count": 37,
     "metadata": {},
     "output_type": "execute_result"
    }
   ],
   "source": [
    "424.6023673882955 * 1.006374633215469 + 0.0709482571842841"
   ]
  }
 ],
 "metadata": {
  "kernelspec": {
   "display_name": ".venv",
   "language": "python",
   "name": "python3"
  },
  "language_info": {
   "codemirror_mode": {
    "name": "ipython",
    "version": 3
   },
   "file_extension": ".py",
   "mimetype": "text/x-python",
   "name": "python",
   "nbconvert_exporter": "python",
   "pygments_lexer": "ipython3",
   "version": "3.11.6"
  },
  "orig_nbformat": 4
 },
 "nbformat": 4,
 "nbformat_minor": 2
}
