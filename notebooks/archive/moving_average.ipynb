{
 "cells": [
  {
   "cell_type": "code",
   "execution_count": null,
   "metadata": {},
   "outputs": [],
   "source": [
    "import polars as pl\n",
    "import os\n",
    "from datetime import datetime\n",
    "from datetime import timezone\n",
    "import plotly.express as px\n",
    "import numpy as np\n",
    "\n",
    "DATA_DIRECTORY = os.environ.get(\"DATA_DIRECTORY\")\n",
    "PICARRO_DATA_DIRECTORy = os.environ.get(\"PICARRO_DATA_DIRECTORY\")"
   ]
  },
  {
   "cell_type": "code",
   "execution_count": null,
   "metadata": {},
   "outputs": [],
   "source": [
    "# 10m preprocessed acropolis data\n",
    "df_acropolis = pl.scan_parquet(os.path.join(DATA_DIRECTORY, \"processed\", \"1h_sbs_rmse_acropolis.parquet\"))"
   ]
  },
  {
   "cell_type": "code",
   "execution_count": null,
   "metadata": {},
   "outputs": [],
   "source": [
    "df_filtered = df_acropolis.group_by([\"date\", \"system_name\"]) \\\n",
    "    .agg([\n",
    "        pl.col(\"slope\").mean(),\n",
    "        pl.col(\"intercept\").mean(),\n",
    "        pl.col(\"system_id\").mean(),\n",
    "    ])"
   ]
  },
  {
   "cell_type": "code",
   "execution_count": null,
   "metadata": {},
   "outputs": [],
   "source": [
    "all_systems = []\n",
    "\n",
    "system_list = df_acropolis.collect()[\"system_id\"].unique().to_list()\n",
    "\n",
    "for id in system_list:\n",
    "\n",
    "    df_temp = df_acropolis.sort(\"date\") \\\n",
    "        .filter(pl.col(\"system_id\") == id).with_columns([\n",
    "            (pl.col(\"slope\").rolling_mean(window_size=72)).alias(\"slope_rolling_mean\"),\n",
    "            (pl.col(\"intercept\").rolling_mean(window_size=72)).alias(\"intercept_rolling_mean\"),\n",
    "        ])  \\\n",
    "    .fill_null(strategy = \"backward\")\n",
    "    \n",
    "    all_systems.append(df_temp)\n",
    "    \n",
    "df_all_filtered = pl.concat(all_systems, how=\"diagonal\")"
   ]
  },
  {
   "cell_type": "code",
   "execution_count": null,
   "metadata": {},
   "outputs": [],
   "source": [
    "df_filtered = df_acropolis.join(df_all_filtered, on = [\"date\", \"system_name\"], how= \"left\") \\\n",
    "    .collect()"
   ]
  },
  {
   "cell_type": "code",
   "execution_count": null,
   "metadata": {},
   "outputs": [],
   "source": [
    "fig = px.line(df_filtered, x=\"creation_timestamp\", y=[\"slope\",\"slope_rolling_mean\"], color = \"system_name\")\n",
    "fig.show()\n",
    "fig = px.line(df_filtered, x=\"creation_timestamp\", y=[\"slope\",\"slope_rolling_mean\"], color = \"system_name\")\n",
    "fig.show()"
   ]
  },
  {
   "cell_type": "code",
   "execution_count": null,
   "metadata": {},
   "outputs": [],
   "source": [
    "all_systems = []\n",
    "\n",
    "system_list = df_filtered[\"system_id\"].unique().to_list()\n",
    "\n",
    "for id in system_list:\n",
    "    print(f\"processing {id}\")\n",
    "\n",
    "    df_temp = df_filtered.filter(pl.col(\"system_id\") == id) \\\n",
    "            .with_columns(\n",
    "                ((pl.col(\"gmp343_dry\")) * pl.col(\"slope_rolling_mean\") + pl.col(\"intercept_rolling_mean\")).alias(\"gmp343_corrected_rolling_mean\")\n",
    "                ) \\\n",
    "            .with_columns([\n",
    "                (pl.col(\"CO2_corr\") - pl.col(\"gmp343_corrected_rolling_mean\")).alias(\"diff_rolling_mean\"),\n",
    "                (np.square(np.subtract(pl.col(\"CO2_corr\"), pl.col(\"gmp343_corrected_rolling_mean\"))).mean()).alias(\"mse_rolling_mean\")\n",
    "                        ]) \\\n",
    "            .with_columns(pl.col(\"mse_rolling_mean\").sqrt().alias(\"rmse_rolling_mean\"))\n",
    "            \n",
    "    all_systems.append(df_temp)\n",
    "    \n",
    "df_all_filtered = pl.concat(all_systems, how=\"diagonal\")"
   ]
  },
  {
   "cell_type": "code",
   "execution_count": null,
   "metadata": {},
   "outputs": [],
   "source": [
    "fig = px.line(df_all_filtered, x=\"creation_timestamp\", y=\"diff\", color = \"system_name\")\n",
    "fig.show()\n",
    "fig = px.line(df_all_filtered, x=\"creation_timestamp\", y=\"diff_rolling_mean\", color = \"system_name\")\n",
    "fig.show()\n",
    "\n",
    "fig = px.scatter(df_all_filtered, x=\"system_name\", y=[\"rmse_full_deployment\", \"rmse_rolling_mean\"])\n",
    "fig.show()"
   ]
  }
 ],
 "metadata": {
  "kernelspec": {
   "display_name": ".venv",
   "language": "python",
   "name": "python3"
  },
  "language_info": {
   "codemirror_mode": {
    "name": "ipython",
    "version": 3
   },
   "file_extension": ".py",
   "mimetype": "text/x-python",
   "name": "python",
   "nbconvert_exporter": "python",
   "pygments_lexer": "ipython3",
   "version": "3.11.9"
  }
 },
 "nbformat": 4,
 "nbformat_minor": 2
}
