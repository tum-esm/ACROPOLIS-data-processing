{
 "cells": [
  {
   "cell_type": "code",
   "execution_count": 3,
   "metadata": {},
   "outputs": [],
   "source": [
    "# Imports & Inits\n",
    "import os\n",
    "import polars as pl\n",
    "\n",
    "DATA_DIRECTORY = os.environ.get(\"DATA_DIRECTORY\")\n",
    "\n",
    "df = pl.scan_parquet(os.path.join(DATA_DIRECTORY, \"download\", \"acropolis.parquet\"))"
   ]
  },
  {
   "cell_type": "code",
   "execution_count": null,
   "metadata": {},
   "outputs": [],
   "source": [
    "year = 2023\n",
    "for month in range(6,13):\n",
    "    df.filter(pl.col(\"creation_timestamp\").dt.month() == month) \\\n",
    "        .filter(pl.col(\"creation_timestamp\").dt.year() == year) \\\n",
    "        .with_columns(pl.col(\"system_name\").str.extract(r'(\\d+)',1).str.to_integer().alias(\"system_id\")) \\\n",
    "        .sort(\"creation_timestamp\") \\\n",
    "        .collect() \\\n",
    "        .write_parquet(os.path.join(DATA_DIRECTORY, \"download\",\"measurements\", str(year), f\"{year}_{month}_acropolis.parquet\"))"
   ]
  },
  {
   "cell_type": "code",
   "execution_count": null,
   "metadata": {},
   "outputs": [],
   "source": [
    "year = 2024\n",
    "for month in range(1,12):\n",
    "    df.filter(pl.col(\"creation_timestamp\").dt.month() == month) \\\n",
    "        .filter(pl.col(\"creation_timestamp\").dt.year() == year) \\\n",
    "        .with_columns(pl.col(\"system_name\").str.extract(r'(\\d+)',1).str.to_integer().alias(\"system_id\")) \\\n",
    "        .sort(\"creation_timestamp\") \\\n",
    "        .collect() \\\n",
    "        .write_parquet(os.path.join(DATA_DIRECTORY, \"download\",\"measurements\", str(year), f\"{year}_{month}_acropolis.parquet\"))"
   ]
  },
  {
   "cell_type": "code",
   "execution_count": null,
   "metadata": {},
   "outputs": [],
   "source": [
    "import glob\n",
    "\n",
    "measurements = glob.glob(os.path.join(DATA_DIRECTORY, \"download\", \"measurements\", \"*\", \"*.parquet\"))\n",
    "\n",
    "latest_acropolis_file = sorted(measurements, key=os.path.getmtime)[-1]\n",
    "\n",
    "acropolis = pl.scan_parquet(latest_acropolis_file)\n",
    "sensors = pl.scan_parquet(os.path.join(DATA_DIRECTORY, \"download\", \"metadata\", \"sensors.parquet\"))"
   ]
  },
  {
   "cell_type": "code",
   "execution_count": null,
   "metadata": {},
   "outputs": [],
   "source": [
    "latest_acropolis_file = sorted(glob.glob(os.path.join(DATA_DIRECTORY, \"download\", \"measurements\", \"*\", \"*.parquet\")), key=os.path.getmtime)[-1]\n",
    "\n",
    "pl.scan_parquet(latest_acropolis_file).sort(\"creation_timestamp\").select(\"creation_timestamp\").last().collect().row(0)"
   ]
  },
  {
   "cell_type": "code",
   "execution_count": null,
   "metadata": {},
   "outputs": [],
   "source": [
    "pivots = []\n",
    "\n",
    "paths = glob.glob(\n",
    "    os.path.join(DATA_DIRECTORY, \"download\", \"chunks\", \"*.parquet\"))\n",
    "\n",
    "# Merge chunks & sensor metadata\n",
    "for path in paths:\n",
    "    pivots.append(\n",
    "        pl.scan_parquet(path).join(\n",
    "            sensors.select(\"identifier\", \"name\"),\n",
    "            how=\"left\",\n",
    "            left_on=\"sensor_identifier\",\n",
    "            right_on=\"identifier\",\n",
    "        ).drop(\"sensor_identifier\").rename({\n",
    "            \"name\": \"system_name\"\n",
    "        }).with_columns(\n",
    "            pl.col(\"creation_timestamp\").dt.cast_time_unit(\"us\")))\n",
    "    \n",
    "pivots = [acropolis] + pivots\n",
    "result = pl.concat(pivots, how=\"diagonal\").collect()"
   ]
  },
  {
   "cell_type": "code",
   "execution_count": null,
   "metadata": {},
   "outputs": [],
   "source": [
    "months = result.select(pl.col(\"creation_timestamp\").dt.month()).to_series().unique().to_list()\n",
    "\n",
    "years = result.select(pl.col(\"creation_timestamp\").dt.year()).to_series().unique().to_list()"
   ]
  },
  {
   "cell_type": "code",
   "execution_count": null,
   "metadata": {},
   "outputs": [],
   "source": [
    "for year in years:\n",
    "    for month in months:\n",
    "        result.filter(pl.col(\"creation_timestamp\").dt.month() == month) \\\n",
    "        .filter(pl.col(\"creation_timestamp\").dt.year() == year) \\\n",
    "        .with_columns(pl.col(\"system_name\").str.extract(r'(\\d+)',1).str.to_integer().alias(\"system_id\")) \\\n",
    "        .sort(\"creation_timestamp\") \\\n",
    "        .write_parquet(os.path.join(DATA_DIRECTORY, \"download\",\"measurements\", str(year), f\"{year}_{month}_acropolis.parquet\"))"
   ]
  },
  {
   "cell_type": "code",
   "execution_count": null,
   "metadata": {},
   "outputs": [],
   "source": [
    "acropolis.head().collect()"
   ]
  },
  {
   "cell_type": "code",
   "execution_count": 5,
   "metadata": {},
   "outputs": [],
   "source": [
    "import glob\n",
    "measurement_months = []\n",
    "\n",
    "year = 2024\n",
    "\n",
    "paths = sorted(glob.glob(os.path.join(DATA_DIRECTORY, \"download\", \"measurements\", str(year), \"*.parquet\")), key=os.path.getmtime)\n",
    "\n",
    "for path in paths:\n",
    "    measurement_months.append(pl.scan_parquet(path))\n",
    "    \n",
    "measurements = pl.concat(measurement_months, how=\"diagonal\").collect()"
   ]
  }
 ],
 "metadata": {
  "kernelspec": {
   "display_name": ".venv",
   "language": "python",
   "name": "python3"
  },
  "language_info": {
   "codemirror_mode": {
    "name": "ipython",
    "version": 3
   },
   "file_extension": ".py",
   "mimetype": "text/x-python",
   "name": "python",
   "nbconvert_exporter": "python",
   "pygments_lexer": "ipython3",
   "version": "3.11.10"
  }
 },
 "nbformat": 4,
 "nbformat_minor": 2
}
