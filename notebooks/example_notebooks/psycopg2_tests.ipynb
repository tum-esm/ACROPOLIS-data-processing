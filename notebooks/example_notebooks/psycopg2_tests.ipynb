{
 "cells": [
  {
   "cell_type": "code",
   "execution_count": 10,
   "metadata": {},
   "outputs": [],
   "source": [
    "import psycopg2\n",
    "import os\n",
    "\n",
    "CONNECTION = os.environ.get(\"TIMESCALE_CONNECTION_STRING\")"
   ]
  },
  {
   "cell_type": "code",
   "execution_count": null,
   "metadata": {},
   "outputs": [],
   "source": [
    "# download from measurement table\n",
    "\"SELECT * FROM measurement WHERE creation_timestamp > '2024-07-04T09:00:00+00:00'::TIMESTAMPTZ ORDER BY creation_timestamp DESC LIMIT 1024;\"\n",
    "\n",
    "#delete\n",
    "\"DELETE FROM measurement WHERE creation_timestamp < '2024-05-01T00:00:00+00:00'::TIMESTAMPTZ;\""
   ]
  },
  {
   "cell_type": "code",
   "execution_count": 13,
   "metadata": {},
   "outputs": [
    {
     "name": "stdout",
     "output_type": "stream",
     "text": [
      "('bcbf556b-e3b1-452b-b92c-8562d874e328', 'gmp343_raw', 369.9, 26, datetime.datetime(2024, 7, 9, 13, 28, 0, 130000, tzinfo=datetime.timezone.utc), datetime.datetime(2024, 7, 9, 13, 28, 0, 473799, tzinfo=datetime.timezone.utc))\n"
     ]
    }
   ],
   "source": [
    "with psycopg2.connect(CONNECTION) as conn:\n",
    "    cursor = conn.cursor()\n",
    "    # use the cursor to interact with your database\n",
    "    \n",
    "    cursor.execute(\"SELECT * FROM measurement WHERE creation_timestamp > '2024-07-09T13:28:00+00:00'::TIMESTAMPTZ ORDER BY creation_timestamp LIMIT 4096;\")\n",
    "    print(cursor.fetchone())\n",
    "    data =  cursor.fetchall()\n",
    "    "
   ]
  }
 ],
 "metadata": {
  "kernelspec": {
   "display_name": ".venv",
   "language": "python",
   "name": "python3"
  },
  "language_info": {
   "codemirror_mode": {
    "name": "ipython",
    "version": 3
   },
   "file_extension": ".py",
   "mimetype": "text/x-python",
   "name": "python",
   "nbconvert_exporter": "python",
   "pygments_lexer": "ipython3",
   "version": "3.11.9"
  }
 },
 "nbformat": 4,
 "nbformat_minor": 2
}
