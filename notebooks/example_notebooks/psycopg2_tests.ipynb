{
 "cells": [
  {
   "cell_type": "code",
   "execution_count": 16,
   "metadata": {},
   "outputs": [],
   "source": [
    "import psycopg2\n",
    "import os\n",
    "\n",
    "CONNECTION = os.environ.get(\"TIMESCALE_ADMIN_CONNECTION_STRING\")"
   ]
  },
  {
   "cell_type": "code",
   "execution_count": null,
   "metadata": {},
   "outputs": [],
   "source": [
    "# download from measurement table\n",
    "\"SELECT * FROM measurement WHERE creation_timestamp > '2024-07-09T13:28:00+00:00'::TIMESTAMPTZ ORDER BY creation_timestamp LIMIT 4096;\"\n",
    "\n",
    "#delete\n",
    "\"DELETE FROM measurement WHERE creation_timestamp < '2024-08-01T00:00:00+00:00'::TIMESTAMPTZ;\"\n",
    "\"SELECT drop_chunks('measurement', INTERVAL '1 months');\"\n",
    "\"VACUUM\" or \"VACUUM FULL\""
   ]
  },
  {
   "cell_type": "code",
   "execution_count": 17,
   "metadata": {},
   "outputs": [
    {
     "ename": "ProgrammingError",
     "evalue": "no results to fetch",
     "output_type": "error",
     "traceback": [
      "\u001b[0;31m---------------------------------------------------------------------------\u001b[0m",
      "\u001b[0;31mProgrammingError\u001b[0m                          Traceback (most recent call last)",
      "Cell \u001b[0;32mIn[17], line 6\u001b[0m\n\u001b[1;32m      4\u001b[0m \u001b[38;5;66;03m# use the cursor to interact with your database\u001b[39;00m\n\u001b[1;32m      5\u001b[0m cursor\u001b[38;5;241m.\u001b[39mexecute(\u001b[38;5;124m\"\u001b[39m\u001b[38;5;124mVACUUM FULL\u001b[39m\u001b[38;5;124m\"\u001b[39m)\n\u001b[0;32m----> 6\u001b[0m \u001b[38;5;28mprint\u001b[39m(\u001b[43mcursor\u001b[49m\u001b[38;5;241;43m.\u001b[39;49m\u001b[43mfetchone\u001b[49m\u001b[43m(\u001b[49m\u001b[43m)\u001b[49m)\n\u001b[1;32m      7\u001b[0m \u001b[38;5;66;03m#data =  cursor.fetchall()\u001b[39;00m\n",
      "\u001b[0;31mProgrammingError\u001b[0m: no results to fetch"
     ]
    }
   ],
   "source": [
    "conn =  psycopg2.connect(CONNECTION)\n",
    "conn.autocommit = True\n",
    "cursor = conn.cursor()\n",
    "# use the cursor to interact with your database\n",
    "cursor.execute(\"VACUUM FULL\")\n",
    "print(cursor.fetchone())\n",
    "#data =  cursor.fetchall()\n",
    "    "
   ]
  }
 ],
 "metadata": {
  "kernelspec": {
   "display_name": ".venv",
   "language": "python",
   "name": "python3"
  },
  "language_info": {
   "codemirror_mode": {
    "name": "ipython",
    "version": 3
   },
   "file_extension": ".py",
   "mimetype": "text/x-python",
   "name": "python",
   "nbconvert_exporter": "python",
   "pygments_lexer": "ipython3",
   "version": "3.11.9"
  }
 },
 "nbformat": 4,
 "nbformat_minor": 2
}
