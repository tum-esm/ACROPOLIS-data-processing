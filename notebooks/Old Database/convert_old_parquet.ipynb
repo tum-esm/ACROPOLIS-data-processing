{
 "cells": [
  {
   "cell_type": "code",
   "execution_count": 75,
   "metadata": {},
   "outputs": [],
   "source": [
    "from datetime import datetime\n",
    "from datetime import timezone\n",
    "import polars as pl\n",
    "import os\n",
    "\n",
    "acropolis_path = \"/Users/patrickaigner/Documents/PROJECTS/ACROPOLIS/Database/Old\""
   ]
  },
  {
   "cell_type": "code",
   "execution_count": 76,
   "metadata": {},
   "outputs": [
    {
     "data": {
      "text/html": [
       "<div><style>\n",
       ".dataframe > thead > tr > th,\n",
       ".dataframe > tbody > tr > td {\n",
       "  text-align: right;\n",
       "}\n",
       "</style>\n",
       "<small>shape: (5, 27)</small><table border=\"1\" class=\"dataframe\"><thead><tr><th>integer</th><th>creation_timestamp</th><th>system_name</th><th>variant</th><th>gmp343_raw</th><th>gmp343_compensated</th><th>gmp343_filtered</th><th>sht45_humidity</th><th>bme280_humidity</th><th>bme280_pressure</th><th>sht45_temperature</th><th>bme280_temperature</th><th>gmp343_temperature</th><th>gas_bottle_id</th><th>wxt532_speed_avg</th><th>wxt532_speed_max</th><th>wxt532_speed_min</th><th>wxt532_direction_avg</th><th>wxt532_direction_max</th><th>wxt532_direction_min</th><th>wxt532_last_update_time</th><th>raspi_cpu_usage</th><th>raspi_disk_usage</th><th>raspi_cpu_temperature</th><th>enclosure_bme280_humidity</th><th>enclosure_bme280_pressure</th><th>enclosure_bme280_temperature</th></tr><tr><td>i64</td><td>datetime[μs, UTC]</td><td>str</td><td>str</td><td>f64</td><td>f64</td><td>f64</td><td>f64</td><td>f64</td><td>f64</td><td>f64</td><td>f64</td><td>f64</td><td>str</td><td>f64</td><td>f64</td><td>f64</td><td>f64</td><td>f64</td><td>f64</td><td>f64</td><td>f64</td><td>f64</td><td>f64</td><td>f64</td><td>f64</td><td>f64</td></tr></thead><tbody><tr><td>11166354</td><td>2023-09-21 11:59:55.650 UTC</td><td>&quot;tum-esm-midcos…</td><td>&quot;measurement&quot;</td><td>342.4</td><td>405.8</td><td>405.8</td><td>31.71</td><td>29.84</td><td>904.03</td><td>32.34</td><td>32.14</td><td>33.7</td><td>null</td><td>null</td><td>null</td><td>null</td><td>null</td><td>null</td><td>null</td><td>null</td><td>null</td><td>null</td><td>null</td><td>null</td><td>null</td><td>null</td></tr><tr><td>11166355</td><td>2023-09-21 11:59:56.220 UTC</td><td>&quot;tum-esm-midcos…</td><td>&quot;measurement&quot;</td><td>347.2</td><td>402.5</td><td>402.5</td><td>26.43</td><td>23.82</td><td>927.65</td><td>33.37</td><td>33.17</td><td>34.8</td><td>null</td><td>null</td><td>null</td><td>null</td><td>null</td><td>null</td><td>null</td><td>null</td><td>null</td><td>null</td><td>null</td><td>null</td><td>null</td><td>null</td></tr><tr><td>11166356</td><td>2023-09-21 11:59:56.750 UTC</td><td>&quot;tum-esm-midcos…</td><td>&quot;measurement&quot;</td><td>370.0</td><td>426.6</td><td>426.6</td><td>29.62</td><td>28.44</td><td>923.37</td><td>30.79</td><td>30.65</td><td>32.0</td><td>null</td><td>null</td><td>null</td><td>null</td><td>null</td><td>null</td><td>null</td><td>null</td><td>null</td><td>null</td><td>null</td><td>null</td><td>null</td><td>null</td></tr><tr><td>11166357</td><td>2023-09-21 11:59:57.310 UTC</td><td>&quot;tum-esm-midcos…</td><td>&quot;measurement&quot;</td><td>364.0</td><td>422.5</td><td>422.5</td><td>29.22</td><td>25.44</td><td>922.38</td><td>30.73</td><td>30.3</td><td>31.3</td><td>null</td><td>null</td><td>null</td><td>null</td><td>null</td><td>null</td><td>null</td><td>null</td><td>null</td><td>null</td><td>null</td><td>null</td><td>null</td><td>null</td></tr><tr><td>11166358</td><td>2023-09-21 11:59:57.400 UTC</td><td>&quot;tum-esm-midcos…</td><td>&quot;measurement&quot;</td><td>373.7</td><td>433.9</td><td>433.9</td><td>27.63</td><td>24.4</td><td>923.61</td><td>32.11</td><td>31.81</td><td>33.3</td><td>null</td><td>null</td><td>null</td><td>null</td><td>null</td><td>null</td><td>null</td><td>null</td><td>null</td><td>null</td><td>null</td><td>null</td><td>null</td><td>null</td></tr></tbody></table></div>"
      ],
      "text/plain": [
       "shape: (5, 27)\n",
       "┌──────────┬────────────┬───────────┬──────┬───┬────────────┬────────────┬────────────┬────────────┐\n",
       "│ integer  ┆ creation_t ┆ system_na ┆ vari ┆ … ┆ raspi_cpu_ ┆ enclosure_ ┆ enclosure_ ┆ enclosure_ │\n",
       "│ ---      ┆ imestamp   ┆ me        ┆ ant  ┆   ┆ temperatur ┆ bme280_hum ┆ bme280_pre ┆ bme280_tem │\n",
       "│ i64      ┆ ---        ┆ ---       ┆ ---  ┆   ┆ e          ┆ idity      ┆ ssure      ┆ perature   │\n",
       "│          ┆ datetime[μ ┆ str       ┆ str  ┆   ┆ ---        ┆ ---        ┆ ---        ┆ ---        │\n",
       "│          ┆ s, UTC]    ┆           ┆      ┆   ┆ f64        ┆ f64        ┆ f64        ┆ f64        │\n",
       "╞══════════╪════════════╪═══════════╪══════╪═══╪════════════╪════════════╪════════════╪════════════╡\n",
       "│ 11166354 ┆ 2023-09-21 ┆ tum-esm-m ┆ meas ┆ … ┆ null       ┆ null       ┆ null       ┆ null       │\n",
       "│          ┆ 11:59:55.6 ┆ idcost-ra ┆ urem ┆   ┆            ┆            ┆            ┆            │\n",
       "│          ┆ 50 UTC     ┆ spi-18    ┆ ent  ┆   ┆            ┆            ┆            ┆            │\n",
       "│ 11166355 ┆ 2023-09-21 ┆ tum-esm-m ┆ meas ┆ … ┆ null       ┆ null       ┆ null       ┆ null       │\n",
       "│          ┆ 11:59:56.2 ┆ idcost-ra ┆ urem ┆   ┆            ┆            ┆            ┆            │\n",
       "│          ┆ 20 UTC     ┆ spi-6     ┆ ent  ┆   ┆            ┆            ┆            ┆            │\n",
       "│ 11166356 ┆ 2023-09-21 ┆ tum-esm-m ┆ meas ┆ … ┆ null       ┆ null       ┆ null       ┆ null       │\n",
       "│          ┆ 11:59:56.7 ┆ idcost-ra ┆ urem ┆   ┆            ┆            ┆            ┆            │\n",
       "│          ┆ 50 UTC     ┆ spi-11    ┆ ent  ┆   ┆            ┆            ┆            ┆            │\n",
       "│ 11166357 ┆ 2023-09-21 ┆ tum-esm-m ┆ meas ┆ … ┆ null       ┆ null       ┆ null       ┆ null       │\n",
       "│          ┆ 11:59:57.3 ┆ idcost-ra ┆ urem ┆   ┆            ┆            ┆            ┆            │\n",
       "│          ┆ 10 UTC     ┆ spi-4     ┆ ent  ┆   ┆            ┆            ┆            ┆            │\n",
       "│ 11166358 ┆ 2023-09-21 ┆ tum-esm-m ┆ meas ┆ … ┆ null       ┆ null       ┆ null       ┆ null       │\n",
       "│          ┆ 11:59:57.4 ┆ idcost-ra ┆ urem ┆   ┆            ┆            ┆            ┆            │\n",
       "│          ┆ 00 UTC     ┆ spi-8     ┆ ent  ┆   ┆            ┆            ┆            ┆            │\n",
       "└──────────┴────────────┴───────────┴──────┴───┴────────────┴────────────┴────────────┴────────────┘"
      ]
     },
     "execution_count": 76,
     "metadata": {},
     "output_type": "execute_result"
    }
   ],
   "source": [
    "df = pl.scan_parquet(os.path.join(acropolis_path, \"old_db_measurements.parquet\"))\n",
    "\n",
    "df = df.rename({\"date\": \"creation_timestamp\",\n",
    "                \"system name\": \"system_name\",\n",
    "                \"CO2_raw\": \"gmp343_raw\",\n",
    "                \"CO2_compensated\": \"gmp343_compensated\",\n",
    "                \"CO2_filtered\": \"gmp343_filtered\",\n",
    "                \"chamber_temperature\": \"gmp343_temperature\",\n",
    "                \"speed_avg\": \"wxt532_speed_avg\",\n",
    "                \"speed_min\": \"wxt532_speed_min\",\n",
    "                \"speed_max\": \"wxt532_speed_max\",\n",
    "                \"direction_avg\": \"wxt532_direction_avg\",\n",
    "                \"direction_min\": \"wxt532_direction_min\",\n",
    "                \"direction_max\": \"wxt532_direction_max\",\n",
    "                \"last_update_time\": \"wxt532_last_update_time\",\n",
    "                \"cpu_usage\": \"raspi_cpu_usage\",\n",
    "                \"cpu_temperature\": \"raspi_cpu_temperature\",\n",
    "                \"disk_usage\": \"raspi_disk_usage\",\n",
    "                \"enclosure_humidity\": \"enclosure_bme280_humidity\",\n",
    "                \"enclosure_pressure\": \"enclosure_bme280_pressure\",\n",
    "                \"mainboard_temperature\": \"enclosure_bme280_temperature\",})\n",
    "\n",
    "df.tail().collect()"
   ]
  },
  {
   "cell_type": "code",
   "execution_count": 77,
   "metadata": {},
   "outputs": [
    {
     "data": {
      "text/html": [
       "<div><style>\n",
       ".dataframe > thead > tr > th,\n",
       ".dataframe > tbody > tr > td {\n",
       "  text-align: right;\n",
       "}\n",
       "</style>\n",
       "<small>shape: (5, 29)</small><table border=\"1\" class=\"dataframe\"><thead><tr><th>creation_timestamp</th><th>system_name</th><th>variant</th><th>gmp343_raw</th><th>gmp343_compensated</th><th>gmp343_filtered</th><th>sht45_humidity</th><th>bme280_humidity</th><th>bme280_pressure</th><th>sht45_temperature</th><th>bme280_temperature</th><th>gmp343_temperature</th><th>gas_bottle_id</th><th>wxt532_speed_avg</th><th>wxt532_speed_max</th><th>wxt532_speed_min</th><th>wxt532_direction_avg</th><th>wxt532_direction_max</th><th>wxt532_direction_min</th><th>wxt532_last_update_time</th><th>raspi_cpu_usage</th><th>raspi_disk_usage</th><th>raspi_cpu_temperature</th><th>enclosure_bme280_humidity</th><th>enclosure_bme280_pressure</th><th>enclosure_bme280_temperature</th><th>cal_gmp343_raw</th><th>cal_gmp343_compensated</th><th>cal_gmp343_filtered</th></tr><tr><td>datetime[μs, UTC]</td><td>str</td><td>str</td><td>f64</td><td>f64</td><td>f64</td><td>f64</td><td>f64</td><td>f64</td><td>f64</td><td>f64</td><td>f64</td><td>str</td><td>f64</td><td>f64</td><td>f64</td><td>f64</td><td>f64</td><td>f64</td><td>f64</td><td>f64</td><td>f64</td><td>f64</td><td>f64</td><td>f64</td><td>f64</td><td>f64</td><td>f64</td><td>f64</td></tr></thead><tbody><tr><td>2023-06-26 14:01:38.950 UTC</td><td>&quot;tum-esm-midcos…</td><td>&quot;calibration&quot;</td><td>null</td><td>null</td><td>null</td><td>34.29</td><td>34.66</td><td>956.66</td><td>27.9</td><td>27.74</td><td>28.8</td><td>&quot;991&quot;</td><td>null</td><td>null</td><td>null</td><td>null</td><td>null</td><td>null</td><td>null</td><td>null</td><td>null</td><td>null</td><td>null</td><td>null</td><td>null</td><td>0.0</td><td>0.0</td><td>0.0</td></tr><tr><td>2023-06-26 14:01:48.960 UTC</td><td>&quot;tum-esm-midcos…</td><td>&quot;calibration&quot;</td><td>null</td><td>null</td><td>null</td><td>34.41</td><td>34.83</td><td>956.4</td><td>27.88</td><td>27.75</td><td>28.8</td><td>&quot;991&quot;</td><td>null</td><td>null</td><td>null</td><td>null</td><td>null</td><td>null</td><td>null</td><td>null</td><td>null</td><td>null</td><td>null</td><td>null</td><td>null</td><td>458.8</td><td>501.1</td><td>501.1</td></tr><tr><td>2023-06-26 14:01:58.980 UTC</td><td>&quot;tum-esm-midcos…</td><td>&quot;calibration&quot;</td><td>null</td><td>null</td><td>null</td><td>34.47</td><td>34.9</td><td>957.19</td><td>27.9</td><td>27.76</td><td>28.8</td><td>&quot;991&quot;</td><td>null</td><td>null</td><td>null</td><td>null</td><td>null</td><td>null</td><td>null</td><td>null</td><td>null</td><td>null</td><td>null</td><td>null</td><td>null</td><td>459.6</td><td>502.3</td><td>502.3</td></tr><tr><td>2023-06-26 14:02:08.980 UTC</td><td>&quot;tum-esm-midcos…</td><td>&quot;calibration&quot;</td><td>null</td><td>null</td><td>null</td><td>34.43</td><td>34.84</td><td>956.62</td><td>27.9</td><td>27.75</td><td>28.8</td><td>&quot;991&quot;</td><td>null</td><td>null</td><td>null</td><td>null</td><td>null</td><td>null</td><td>null</td><td>null</td><td>null</td><td>null</td><td>null</td><td>null</td><td>null</td><td>455.3</td><td>496.9</td><td>496.9</td></tr><tr><td>2023-06-26 14:02:18.990 UTC</td><td>&quot;tum-esm-midcos…</td><td>&quot;calibration&quot;</td><td>null</td><td>null</td><td>null</td><td>34.42</td><td>34.84</td><td>956.11</td><td>27.9</td><td>27.75</td><td>28.9</td><td>&quot;991&quot;</td><td>null</td><td>null</td><td>null</td><td>null</td><td>null</td><td>null</td><td>null</td><td>null</td><td>null</td><td>null</td><td>null</td><td>null</td><td>null</td><td>455.4</td><td>497.6</td><td>497.6</td></tr></tbody></table></div>"
      ],
      "text/plain": [
       "shape: (5, 29)\n",
       "┌────────────┬───────────┬──────┬──────────┬───┬────────────┬────────────┬────────────┬────────────┐\n",
       "│ creation_t ┆ system_na ┆ vari ┆ gmp343_r ┆ … ┆ enclosure_ ┆ cal_gmp343 ┆ cal_gmp343 ┆ cal_gmp343 │\n",
       "│ imestamp   ┆ me        ┆ ant  ┆ aw       ┆   ┆ bme280_tem ┆ _raw       ┆ _compensat ┆ _filtered  │\n",
       "│ ---        ┆ ---       ┆ ---  ┆ ---      ┆   ┆ perature   ┆ ---        ┆ ed         ┆ ---        │\n",
       "│ datetime[μ ┆ str       ┆ str  ┆ f64      ┆   ┆ ---        ┆ f64        ┆ ---        ┆ f64        │\n",
       "│ s, UTC]    ┆           ┆      ┆          ┆   ┆ f64        ┆            ┆ f64        ┆            │\n",
       "╞════════════╪═══════════╪══════╪══════════╪═══╪════════════╪════════════╪════════════╪════════════╡\n",
       "│ 2023-06-26 ┆ tum-esm-m ┆ cali ┆ null     ┆ … ┆ null       ┆ 0.0        ┆ 0.0        ┆ 0.0        │\n",
       "│ 14:01:38.9 ┆ idcost-ra ┆ brat ┆          ┆   ┆            ┆            ┆            ┆            │\n",
       "│ 50 UTC     ┆ spi-7     ┆ ion  ┆          ┆   ┆            ┆            ┆            ┆            │\n",
       "│ 2023-06-26 ┆ tum-esm-m ┆ cali ┆ null     ┆ … ┆ null       ┆ 458.8      ┆ 501.1      ┆ 501.1      │\n",
       "│ 14:01:48.9 ┆ idcost-ra ┆ brat ┆          ┆   ┆            ┆            ┆            ┆            │\n",
       "│ 60 UTC     ┆ spi-7     ┆ ion  ┆          ┆   ┆            ┆            ┆            ┆            │\n",
       "│ 2023-06-26 ┆ tum-esm-m ┆ cali ┆ null     ┆ … ┆ null       ┆ 459.6      ┆ 502.3      ┆ 502.3      │\n",
       "│ 14:01:58.9 ┆ idcost-ra ┆ brat ┆          ┆   ┆            ┆            ┆            ┆            │\n",
       "│ 80 UTC     ┆ spi-7     ┆ ion  ┆          ┆   ┆            ┆            ┆            ┆            │\n",
       "│ 2023-06-26 ┆ tum-esm-m ┆ cali ┆ null     ┆ … ┆ null       ┆ 455.3      ┆ 496.9      ┆ 496.9      │\n",
       "│ 14:02:08.9 ┆ idcost-ra ┆ brat ┆          ┆   ┆            ┆            ┆            ┆            │\n",
       "│ 80 UTC     ┆ spi-7     ┆ ion  ┆          ┆   ┆            ┆            ┆            ┆            │\n",
       "│ 2023-06-26 ┆ tum-esm-m ┆ cali ┆ null     ┆ … ┆ null       ┆ 455.4      ┆ 497.6      ┆ 497.6      │\n",
       "│ 14:02:18.9 ┆ idcost-ra ┆ brat ┆          ┆   ┆            ┆            ┆            ┆            │\n",
       "│ 90 UTC     ┆ spi-7     ┆ ion  ┆          ┆   ┆            ┆            ┆            ┆            │\n",
       "└────────────┴───────────┴──────┴──────────┴───┴────────────┴────────────┴────────────┴────────────┘"
      ]
     },
     "execution_count": 77,
     "metadata": {},
     "output_type": "execute_result"
    }
   ],
   "source": [
    "# select calibration data and create new colomn with cal_*\n",
    "\n",
    "df = df.with_columns(pl.when(pl.col(\"variant\")== \"calibration\").then(pl.col(\"gmp343_raw\")).otherwise(None).alias(\"cal_gmp343_raw\"))\n",
    "\n",
    "df = df.with_columns(pl.when(pl.col(\"variant\")== \"calibration\").then(pl.col(\"gmp343_compensated\")).otherwise(None).alias(\"cal_gmp343_compensated\"))\n",
    "\n",
    "df = df.with_columns(pl.when(pl.col(\"variant\")== \"calibration\").then(pl.col(\"gmp343_filtered\")).otherwise(None).alias(\"cal_gmp343_filtered\"))\n",
    "\n",
    "#delete calibration readings from columns gmp343_*\n",
    "\n",
    "df = df.with_columns(pl.when(pl.col(\"variant\")== \"measurement\").then(pl.col(\"gmp343_raw\")).otherwise(None))\n",
    "\n",
    "df = df.with_columns(pl.when(pl.col(\"variant\")== \"measurement\").then(pl.col(\"gmp343_compensated\")).otherwise(None))\n",
    "\n",
    "df = df.with_columns(pl.when(pl.col(\"variant\")== \"measurement\").then(pl.col(\"gmp343_filtered\")).otherwise(None))\n",
    "\n",
    "df = df.select(pl.exclude(\"integer\")) \n",
    "\n",
    "df.filter(pl.col(\"variant\") == \"calibration\").head().collect()"
   ]
  },
  {
   "cell_type": "code",
   "execution_count": 79,
   "metadata": {},
   "outputs": [],
   "source": [
    "df.sink_parquet(os.path.join(acropolis_path, \"old_db_renamed_measurements.parquet\"))"
   ]
  }
 ],
 "metadata": {
  "kernelspec": {
   "display_name": ".venv",
   "language": "python",
   "name": "python3"
  },
  "language_info": {
   "codemirror_mode": {
    "name": "ipython",
    "version": 3
   },
   "file_extension": ".py",
   "mimetype": "text/x-python",
   "name": "python",
   "nbconvert_exporter": "python",
   "pygments_lexer": "ipython3",
   "version": "3.11.4"
  },
  "orig_nbformat": 4
 },
 "nbformat": 4,
 "nbformat_minor": 2
}
