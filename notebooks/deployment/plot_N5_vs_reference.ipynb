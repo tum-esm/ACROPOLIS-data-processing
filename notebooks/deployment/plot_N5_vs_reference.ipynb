{
 "cells": [
  {
   "cell_type": "code",
   "execution_count": null,
   "metadata": {},
   "outputs": [],
   "source": [
    "import os\n",
    "import sys\n",
    "import polars as pl\n",
    "import polars.selectors as cs\n",
    "\n",
    "from datetime import datetime\n",
    "\n",
    "PROJECT_PATH = os.path.abspath(os.path.join(\"..\", \"..\"))\n",
    "PIPELINE_PATH = os.path.join(PROJECT_PATH, \"pipeline\")\n",
    "DATA_DIRECTORY = os.path.join(PROJECT_PATH, \"data\")\n",
    "\n",
    "if PIPELINE_PATH not in sys.path:\n",
    "    sys.path.append(PIPELINE_PATH)\n",
    "    \n",
    "from utils.paths import PROCESSED_PICARRO_DATA_DIRECTORY, POSTPROCESSED_DATA_DIRECTORY\n",
    "from utils.import_data import import_acropolis_system_data\n",
    "from utils.plot_dataframes import plot_column_difference, plot_column\n",
    "\n",
    "assert(os.path.exists(DATA_DIRECTORY))\n",
    "assert(os.path.exists(POSTPROCESSED_DATA_DIRECTORY))"
   ]
  },
  {
   "cell_type": "code",
   "execution_count": null,
   "metadata": {},
   "outputs": [],
   "source": [
    "# functions\n",
    "def join_picarro_data(df: pl.DataFrame, df_p: pl.DataFrame) -> pl.DataFrame:\n",
    "    return df.sort(\"datetime\") \\\n",
    "    .join(df_p, on=\"datetime\") \\\n",
    "    .group_by_dynamic(\"datetime\", every='1h', group_by=[\"system_id\", \"system_name\"]) \\\n",
    "    .agg([\n",
    "            cs.numeric().mean(),\n",
    "            pl.col(\"gmp343_corrected\").std().alias(\"gmp343_corrected_std\"),\n",
    "            pl.col(\"gmp343_corrected\").var().alias(\"gmp343_corrected_var\")\n",
    "        ]) \n",
    "            \n",
    "def calculate_performance_metrics(df: pl.DataFrame, col:str = \"gmp343_corrected\") -> pl.DataFrame:\n",
    "    return df.with_columns(diff = pl.col(\"CO2\") - pl.col(col)) \\\n",
    "        .filter(pl.col(\"diff\").is_not_nan()) \\\n",
    "        .select([\n",
    "            (pl.col(\"diff\").mean()).alias(\"mean_full_deployment\"),\n",
    "            (pl.col(\"diff\").pow(2).mean()).alias(\"mse_full_deployment\"),\n",
    "            (pl.col(\"diff\").pow(2).mean().sqrt()).alias(\"rmse_full_deployment\")\n",
    "        ])"
   ]
  },
  {
   "cell_type": "code",
   "execution_count": null,
   "metadata": {},
   "outputs": [],
   "source": [
    "df_p_icos = pl.scan_parquet(os.path.join(PROCESSED_PICARRO_DATA_DIRECTORY,\"Calibrated_1_min_ICOS_Picarro_G2401_529.parquet\"))\n",
    "\n",
    "start_date = datetime(2025, 2, 17, 15, 0, 0)\n",
    "end_date = datetime(2025, 2 , 24, 7, 0, 0)\n",
    "\n",
    "df_p_icos = df_p_icos.rename({\"creation_timestamp\": \"datetime\", \"picarro_corrected\": \"CO2\"}) \\\n",
    "    .select([\"datetime\", \"CO2\"]) \\\n",
    "    .with_columns(pl.col(\"datetime\").cast(pl.Datetime(\"ms\"))) \\\n",
    "    .filter(pl.col(\"datetime\").is_between(start_date, end_date)) \\\n",
    "    .with_columns(system_name = pl.lit(\"Picarro_ICOS\")) \\\n",
    "    .with_columns(system_id = pl.lit(529)) \\\n",
    "    .with_columns(pl.col(\"system_id\").cast(pl.Int64)) \\\n",
    "    .collect()"
   ]
  },
  {
   "cell_type": "code",
   "execution_count": null,
   "metadata": {},
   "outputs": [],
   "source": [
    "df_3 = import_acropolis_system_data(years = [2024,2025], \n",
    "                                    target_directory=POSTPROCESSED_DATA_DIRECTORY, \n",
    "                                    id=3, \n",
    "                                    prefix=\"1min\").collect().pipe(join_picarro_data, df_p_icos)\n",
    "df_6 = import_acropolis_system_data(years = [2024,2025], \n",
    "                                    target_directory=POSTPROCESSED_DATA_DIRECTORY, \n",
    "                                    id=6, \n",
    "                                    prefix=\"1min\").collect().pipe(join_picarro_data, df_p_icos)"
   ]
  },
  {
   "cell_type": "code",
   "execution_count": null,
   "metadata": {},
   "outputs": [],
   "source": [
    "df_3.with_columns(pl.col(\"datetime\").cast(pl.Datetime(\"ms\"))) \\\n",
    "    .filter(pl.col(\"datetime\").is_between(start_date, end_date)) \\\n",
    "    .select(\"datetime\", \"CO2\", \"gmp343_corrected\", \"gmp343_corrected_std\", \"gmp343_corrected_var\")"
   ]
  },
  {
   "cell_type": "code",
   "execution_count": null,
   "metadata": {},
   "outputs": [],
   "source": [
    "print(calculate_performance_metrics(df_3, col=\"gmp343_corrected\"))\n",
    "print(calculate_performance_metrics(df_3, col=\"gmp343_edge_corrected\"))"
   ]
  },
  {
   "cell_type": "code",
   "execution_count": null,
   "metadata": {},
   "outputs": [],
   "source": [
    "print(calculate_performance_metrics(df_6, col=\"gmp343_corrected\"))\n",
    "print(calculate_performance_metrics(df_6, col=\"gmp343_edge_corrected\"))"
   ]
  },
  {
   "cell_type": "code",
   "execution_count": null,
   "metadata": {},
   "outputs": [],
   "source": [
    "plot_column_difference(df_3, datetime_col=\"datetime\", col1=\"gmp343_corrected\", col2=\"CO2\", sample_size=100_000)\n",
    "plot_column_difference(df_3, datetime_col=\"datetime\", col1=\"gmp343_edge_corrected\", col2=\"CO2\", sample_size=100_000)\n",
    "plot_column_difference(df_3, datetime_col=\"datetime\", col1=\"gmp343_corrected\", col2=\"gmp343_edge_corrected\", sample_size=100_000)"
   ]
  },
  {
   "cell_type": "code",
   "execution_count": null,
   "metadata": {},
   "outputs": [],
   "source": [
    "plot_column_difference(df_6, datetime_col=\"datetime\", col1=\"gmp343_corrected\", col2=\"CO2\", sample_size=100_000)\n",
    "plot_column_difference(df_6, datetime_col=\"datetime\", col1=\"gmp343_edge_corrected\", col2=\"CO2\", sample_size=100_000)\n",
    "plot_column_difference(df_6, datetime_col=\"datetime\", col1=\"gmp343_corrected\", col2=\"gmp343_edge_corrected\", sample_size=100_000)"
   ]
  },
  {
   "cell_type": "code",
   "execution_count": null,
   "metadata": {},
   "outputs": [],
   "source": [
    "plot_column(df_6, datetime_col=\"datetime\", col1=\"gmp343_corrected\", sample_size=100_000)"
   ]
  }
 ],
 "metadata": {
  "kernelspec": {
   "display_name": ".venv",
   "language": "python",
   "name": "python3"
  },
  "language_info": {
   "codemirror_mode": {
    "name": "ipython",
    "version": 3
   },
   "file_extension": ".py",
   "mimetype": "text/x-python",
   "name": "python",
   "nbconvert_exporter": "python",
   "pygments_lexer": "ipython3",
   "version": "3.12.9"
  }
 },
 "nbformat": 4,
 "nbformat_minor": 2
}
