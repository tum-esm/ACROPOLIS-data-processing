{
 "cells": [
  {
   "cell_type": "code",
   "execution_count": 1,
   "metadata": {},
   "outputs": [],
   "source": [
    "import os\n",
    "import sys\n",
    "import polars as pl\n",
    "import polars.selectors as cs\n",
    "\n",
    "from datetime import datetime\n",
    "\n",
    "PROJECT_PATH = os.path.abspath(os.path.join(\"..\"))\n",
    "PIPELINE_PATH = os.path.join(PROJECT_PATH, \"pipeline\")\n",
    "DATA_DIRECTORY = os.path.join(PROJECT_PATH, \"data\")\n",
    "\n",
    "unflagged_data = False\n",
    "\n",
    "if PIPELINE_PATH not in sys.path:\n",
    "    sys.path.append(PIPELINE_PATH)\n",
    "    \n",
    "from utils.paths import PROCESSED_PICARRO_DATA_DIRECTORY, POSTPROCESSED_DATA_DIRECTORY\n",
    "from utils.import_data import import_acropolis_system_data\n",
    "from utils.plot_dataframes import plot_sensor_measurement, plot_wind_rose, plot_co2_rose\n",
    "\n",
    "assert(os.path.exists(POSTPROCESSED_DATA_DIRECTORY))\n",
    "assert(os.path.exists(PROCESSED_PICARRO_DATA_DIRECTORY))"
   ]
  },
  {
   "cell_type": "code",
   "execution_count": 8,
   "metadata": {},
   "outputs": [],
   "source": [
    "# Filters\n",
    "start_date = datetime(2025, 4, 25, 0, 0, 0)\n",
    "end_date = datetime(2025, 4, 26, 0, 0, 0)\n",
    "\n",
    "filter = '1h'\n",
    "ids = [1,2,3,4,5,6,7,8,9,10,11,12,13,14,15,16,17,18,19,20]\n",
    "ids = [3,6]"
   ]
  },
  {
   "cell_type": "code",
   "execution_count": 9,
   "metadata": {},
   "outputs": [
    {
     "data": {
      "text/html": [
       "<div><style>\n",
       ".dataframe > thead > tr,\n",
       ".dataframe > tbody > tr {\n",
       "  text-align: right;\n",
       "  white-space: pre-wrap;\n",
       "}\n",
       "</style>\n",
       "<small>shape: (2, 5)</small><table border=\"1\" class=\"dataframe\"><thead><tr><th>datetime</th><th>system_name</th><th>system_id</th><th>picarro_corrected</th><th>h2o_reported</th></tr><tr><td>datetime[ms]</td><td>str</td><td>i32</td><td>f64</td><td>f64</td></tr></thead><tbody><tr><td>2025-04-25 00:00:00</td><td>&quot;Picarro_G2401&quot;</td><td>529</td><td>446.147777</td><td>1.292265</td></tr><tr><td>2025-04-26 00:00:00</td><td>&quot;Picarro_G2401&quot;</td><td>529</td><td>444.23103</td><td>1.371538</td></tr></tbody></table></div>"
      ],
      "text/plain": [
       "shape: (2, 5)\n",
       "┌─────────────────────┬───────────────┬───────────┬───────────────────┬──────────────┐\n",
       "│ datetime            ┆ system_name   ┆ system_id ┆ picarro_corrected ┆ h2o_reported │\n",
       "│ ---                 ┆ ---           ┆ ---       ┆ ---               ┆ ---          │\n",
       "│ datetime[ms]        ┆ str           ┆ i32       ┆ f64               ┆ f64          │\n",
       "╞═════════════════════╪═══════════════╪═══════════╪═══════════════════╪══════════════╡\n",
       "│ 2025-04-25 00:00:00 ┆ Picarro_G2401 ┆ 529       ┆ 446.147777        ┆ 1.292265     │\n",
       "│ 2025-04-26 00:00:00 ┆ Picarro_G2401 ┆ 529       ┆ 444.23103         ┆ 1.371538     │\n",
       "└─────────────────────┴───────────────┴───────────┴───────────────────┴──────────────┘"
      ]
     },
     "execution_count": 9,
     "metadata": {},
     "output_type": "execute_result"
    }
   ],
   "source": [
    "# Load Picarro Data\n",
    "# DWD Picarro: \"Calibrated_1_min_DWD_Picarro_G2301_413.parquet\"\n",
    "df_p_dwd = pl.scan_parquet(os.path.join(PROCESSED_PICARRO_DATA_DIRECTORY,\"Calibrated_1_min_DWD_Picarro_G2301_413.parquet\"))\n",
    "df_p_dwd = df_p_dwd.filter(pl.col(\"datetime\").is_between(start_date, end_date)).collect()\n",
    "\n",
    "# ICOS Picarro: \"Calibrated_1_min_ICOS_Picarro_G2401_529.parquet\"\n",
    "df_p_icos = pl.scan_parquet(os.path.join(PROCESSED_PICARRO_DATA_DIRECTORY,\"Calibrated_1_min_ICOS_Picarro_G2401_529.parquet\"))\n",
    "df_p_icos = df_p_icos.filter(pl.col(\"datetime\").is_between(start_date, end_date)).collect()\n",
    "    \n",
    "df_p = pl.concat([df_p_dwd,df_p_icos], how=\"diagonal\")\n",
    "del df_p_dwd, df_p_icos\n",
    "df_p.head(1).vstack(df_p.tail(1))"
   ]
  },
  {
   "cell_type": "code",
   "execution_count": 10,
   "metadata": {},
   "outputs": [
    {
     "data": {
      "text/html": [
       "<div><style>\n",
       ".dataframe > thead > tr,\n",
       ".dataframe > tbody > tr {\n",
       "  text-align: right;\n",
       "  white-space: pre-wrap;\n",
       "}\n",
       "</style>\n",
       "<small>shape: (2, 47)</small><table border=\"1\" class=\"dataframe\"><thead><tr><th>system_id</th><th>system_name</th><th>datetime</th><th>ts</th><th>gmp343_raw</th><th>gmp343_compensated</th><th>gmp343_filtered</th><th>gmp343_temperature</th><th>bme280_temperature</th><th>bme280_humidity</th><th>bme280_pressure</th><th>sht45_temperature</th><th>sht45_humidity</th><th>gmp343_edge_corrected</th><th>gmp343_edge_dry</th><th>h2o_v%</th><th>gmp343_dry</th><th>slope</th><th>intercept</th><th>slope_interpolated</th><th>intercept_interpolated</th><th>gmp343_corrected</th><th>wxt532_direction_min</th><th>wxt532_direction_avg</th><th>wxt532_direction_max</th><th>wxt532_speed_min</th><th>wxt532_speed_avg</th><th>wxt532_speed_max</th><th>wxt532_last_update_time</th><th>wxt532_temperature</th><th>wxt532_heating_voltage</th><th>wxt532_supply_voltage</th><th>wxt532_reference_voltage</th><th>enclosure_bme280_temperature</th><th>enclosure_bme280_humidity</th><th>enclosure_bme280_pressure</th><th>raspi_cpu_temperature</th><th>raspi_disk_usage</th><th>raspi_cpu_usage</th><th>raspi_memory_usage</th><th>ups_powered_by_grid</th><th>ups_battery_is_fully_charged</th><th>ups_battery_error_detected</th><th>ups_battery_above_voltage_threshold</th><th>cal_gmp343_slope</th><th>cal_gmp343_intercept</th><th>cal_sht_45_offset</th></tr><tr><td>i32</td><td>str</td><td>datetime[ms]</td><td>f64</td><td>f64</td><td>f64</td><td>f64</td><td>f64</td><td>f64</td><td>f64</td><td>f64</td><td>f64</td><td>f64</td><td>f64</td><td>f64</td><td>f64</td><td>f64</td><td>f64</td><td>f64</td><td>f64</td><td>f64</td><td>f64</td><td>f64</td><td>f64</td><td>f64</td><td>f64</td><td>f64</td><td>f64</td><td>f64</td><td>f64</td><td>f64</td><td>f64</td><td>f64</td><td>f64</td><td>f64</td><td>f64</td><td>f64</td><td>f64</td><td>f64</td><td>f64</td><td>f64</td><td>f64</td><td>f64</td><td>f64</td><td>f64</td><td>f64</td><td>f64</td></tr></thead><tbody><tr><td>3</td><td>&quot;acropolis-3&quot;</td><td>2025-04-25 00:00:00</td><td>1.7455e12</td><td>388.026111</td><td>466.183889</td><td>466.168889</td><td>42.611111</td><td>39.688611</td><td>10.638972</td><td>937.031389</td><td>39.826234</td><td>15.640046</td><td>451.573889</td><td>472.856667</td><td>1.414919</td><td>472.859538</td><td>0.993264</td><td>-17.736678</td><td>0.984686</td><td>-15.431104</td><td>450.186893</td><td>null</td><td>null</td><td>null</td><td>null</td><td>null</td><td>null</td><td>null</td><td>null</td><td>null</td><td>null</td><td>null</td><td>23.037</td><td>30.8305</td><td>955.644167</td><td>42.8</td><td>0.298</td><td>0.022333</td><td>0.082133</td><td>1.0</td><td>1.0</td><td>0.0</td><td>1.0</td><td>0.9911</td><td>-17.08</td><td>1.14</td></tr><tr><td>6</td><td>&quot;acropolis-6&quot;</td><td>2025-04-25 23:00:00</td><td>1.7456e12</td><td>375.927381</td><td>423.092381</td><td>422.723571</td><td>26.917857</td><td>23.65419</td><td>32.430929</td><td>941.037</td><td>23.821092</td><td>34.939891</td><td>442.89381</td><td>428.360952</td><td>1.318302</td><td>428.370949</td><td>1.03333</td><td>-0.527075</td><td>1.03356</td><td>-2.878623</td><td>439.868499</td><td>39.857143</td><td>125.5</td><td>308.357143</td><td>0.2</td><td>1.421429</td><td>3.478571</td><td>1.7456e9</td><td>null</td><td>null</td><td>null</td><td>null</td><td>30.017143</td><td>21.206429</td><td>956.225</td><td>49.65</td><td>0.303</td><td>0.016857</td><td>0.075</td><td>0.0</td><td>0.0</td><td>0.0</td><td>1.0</td><td>null</td><td>null</td><td>null</td></tr></tbody></table></div>"
      ],
      "text/plain": [
       "shape: (2, 47)\n",
       "┌───────────┬───────────┬───────────┬───────────┬───┬───────────┬───────────┬───────────┬──────────┐\n",
       "│ system_id ┆ system_na ┆ datetime  ┆ ts        ┆ … ┆ ups_batte ┆ cal_gmp34 ┆ cal_gmp34 ┆ cal_sht_ │\n",
       "│ ---       ┆ me        ┆ ---       ┆ ---       ┆   ┆ ry_above_ ┆ 3_slope   ┆ 3_interce ┆ 45_offse │\n",
       "│ i32       ┆ ---       ┆ datetime[ ┆ f64       ┆   ┆ voltage_t ┆ ---       ┆ pt        ┆ t        │\n",
       "│           ┆ str       ┆ ms]       ┆           ┆   ┆ hre…      ┆ f64       ┆ ---       ┆ ---      │\n",
       "│           ┆           ┆           ┆           ┆   ┆ ---       ┆           ┆ f64       ┆ f64      │\n",
       "│           ┆           ┆           ┆           ┆   ┆ f64       ┆           ┆           ┆          │\n",
       "╞═══════════╪═══════════╪═══════════╪═══════════╪═══╪═══════════╪═══════════╪═══════════╪══════════╡\n",
       "│ 3         ┆ acropolis ┆ 2025-04-2 ┆ 1.7455e12 ┆ … ┆ 1.0       ┆ 0.9911    ┆ -17.08    ┆ 1.14     │\n",
       "│           ┆ -3        ┆ 5         ┆           ┆   ┆           ┆           ┆           ┆          │\n",
       "│           ┆           ┆ 00:00:00  ┆           ┆   ┆           ┆           ┆           ┆          │\n",
       "│ 6         ┆ acropolis ┆ 2025-04-2 ┆ 1.7456e12 ┆ … ┆ 1.0       ┆ null      ┆ null      ┆ null     │\n",
       "│           ┆ -6        ┆ 5         ┆           ┆   ┆           ┆           ┆           ┆          │\n",
       "│           ┆           ┆ 23:00:00  ┆           ┆   ┆           ┆           ┆           ┆          │\n",
       "└───────────┴───────────┴───────────┴───────────┴───┴───────────┴───────────┴───────────┴──────────┘"
      ]
     },
     "execution_count": 10,
     "metadata": {},
     "output_type": "execute_result"
    }
   ],
   "source": [
    "# Load ACROPOLIS Data\n",
    "all_systems = []\n",
    "\n",
    "for id in ids:\n",
    "    df_system = import_acropolis_system_data(\n",
    "            years=[2024,2025],\n",
    "            target_directory=POSTPROCESSED_DATA_DIRECTORY,\n",
    "            id=id,\n",
    "            prefix=\"1min\"\n",
    "        ).group_by_dynamic(\"datetime\", every=filter, group_by=[\"system_id\", \"system_name\"]) \\\n",
    "            .agg(cs.numeric().mean()) \\\n",
    "        .filter(pl.col(\"datetime\").is_between(start_date, end_date))\n",
    "        \n",
    "    all_systems.append(df_system)\n",
    "    \n",
    "del df_system\n",
    "df = pl.concat(all_systems, how=\"diagonal\").collect()\n",
    "df.head(1).vstack(df.tail(1))"
   ]
  },
  {
   "cell_type": "code",
   "execution_count": null,
   "metadata": {},
   "outputs": [],
   "source": [
    "# Load CAL ACROPOLIS Data (no aggregation)\n",
    "all_systems = []\n",
    "\n",
    "for id in ids:\n",
    "    df_system = import_acropolis_system_data(\n",
    "            years=[2024,2025],\n",
    "            target_directory=POSTPROCESSED_DATA_DIRECTORY,\n",
    "            id=id,\n",
    "            prefix=\"Cal_1min\"\n",
    "        ) \\\n",
    "        .filter(pl.col(\"datetime\").is_between(start_date, end_date))\n",
    "    \n",
    "    all_systems.append(df_system)\n",
    "    \n",
    "del df_system\n",
    "df_cal = pl.concat(all_systems, how=\"diagonal\").collect()\n",
    "df_cal.head(1).vstack(df_cal.tail(1))"
   ]
  },
  {
   "cell_type": "code",
   "execution_count": null,
   "metadata": {},
   "outputs": [],
   "source": [
    "df_plot = df.sort(pl.col(\"gmp343_temperature\")).select([\"datetime\", \"system_id\", \"gmp343_temperature\", \"sht45_temperature\", \"enclosure_bme280_temperature\"]).tail(10000)\n",
    "\n",
    "plot_sensor_measurement(df_plot,ids,col_name=\"gmp343_temperature\")"
   ]
  },
  {
   "cell_type": "code",
   "execution_count": 12,
   "metadata": {},
   "outputs": [
    {
     "data": {
      "application/vnd.plotly.v1+json": {
       "config": {
        "plotlyServerURL": "https://plot.ly"
       },
       "data": [
        {
         "hovertemplate": "system_id=3<br>datetime=%{x}<br>enclosure_bme280_humidity=%{y}<extra></extra>",
         "legendgroup": "3",
         "line": {
          "color": "#636efa",
          "dash": "solid"
         },
         "marker": {
          "symbol": "circle"
         },
         "mode": "lines+markers",
         "name": "3",
         "orientation": "v",
         "showlegend": true,
         "type": "scatter",
         "x": [
          "2025-04-25T00:00:00",
          "2025-04-25T01:00:00",
          "2025-04-25T02:00:00",
          "2025-04-25T03:00:00",
          "2025-04-25T04:00:00",
          "2025-04-25T05:00:00",
          "2025-04-25T06:00:00",
          "2025-04-25T07:00:00",
          "2025-04-25T08:00:00",
          "2025-04-25T09:00:00",
          "2025-04-25T10:00:00",
          "2025-04-25T11:00:00",
          "2025-04-25T12:00:00",
          "2025-04-25T13:00:00",
          "2025-04-25T14:00:00",
          "2025-04-25T15:00:00",
          "2025-04-25T16:00:00",
          "2025-04-25T17:00:00",
          "2025-04-25T18:00:00",
          "2025-04-25T19:00:00",
          "2025-04-25T20:00:00",
          "2025-04-25T21:00:00",
          "2025-04-25T22:00:00",
          "2025-04-25T23:00:00"
         ],
         "xaxis": "x",
         "y": [
          30.830499999999986,
          31.517999999999994,
          31.502499999999994,
          32.043833333333346,
          31.853833333333334,
          31.919666666666664,
          30.89533333333334,
          27.61616666666666,
          26.61533333333335,
          26.2165,
          24.570833333333347,
          22.431666666666658,
          22.00533333333334,
          22.344833333333337,
          21.905999999999995,
          22.624833333333324,
          23.395999999999994,
          24.009500000000006,
          25.5335,
          26.980499999999996,
          26.110499999999984,
          25.941166666666668,
          27.233220338983067,
          43.74444444444444
         ],
         "yaxis": "y"
        },
        {
         "hovertemplate": "system_id=6<br>datetime=%{x}<br>enclosure_bme280_humidity=%{y}<extra></extra>",
         "legendgroup": "6",
         "line": {
          "color": "#EF553B",
          "dash": "solid"
         },
         "marker": {
          "symbol": "circle"
         },
         "mode": "lines+markers",
         "name": "6",
         "orientation": "v",
         "showlegend": true,
         "type": "scatter",
         "x": [
          "2025-04-25T00:00:00",
          "2025-04-25T01:00:00",
          "2025-04-25T02:00:00",
          "2025-04-25T03:00:00",
          "2025-04-25T04:00:00",
          "2025-04-25T05:00:00",
          "2025-04-25T06:00:00",
          "2025-04-25T07:00:00",
          "2025-04-25T08:00:00",
          "2025-04-25T09:00:00",
          "2025-04-25T10:00:00",
          "2025-04-25T11:00:00",
          "2025-04-25T12:00:00",
          "2025-04-25T13:00:00",
          "2025-04-25T14:00:00",
          "2025-04-25T15:00:00",
          "2025-04-25T16:00:00",
          "2025-04-25T17:00:00",
          "2025-04-25T18:00:00",
          "2025-04-25T19:00:00",
          "2025-04-25T20:00:00",
          "2025-04-25T21:00:00",
          "2025-04-25T22:00:00",
          "2025-04-25T23:00:00"
         ],
         "xaxis": "x",
         "y": [
          16.419333333333338,
          16.915666666666663,
          16.908500000000007,
          16.8325,
          16.581333333333333,
          16.274000000000008,
          16.733833333333337,
          17.116166666666665,
          16.83516666666666,
          17.30416666666667,
          17.484666666666676,
          15.190166666666672,
          15.12116666666666,
          16.17316666666666,
          15.799333333333333,
          16.408499999999993,
          16.95399999999999,
          17.233333333333338,
          18.02266666666667,
          18.481833333333327,
          17.95416666666666,
          17.977166666666676,
          18.901500000000002,
          21.20642857142857
         ],
         "yaxis": "y"
        }
       ],
       "layout": {
        "legend": {
         "title": {
          "text": "system_id"
         },
         "tracegroupgap": 0
        },
        "template": {
         "data": {
          "bar": [
           {
            "error_x": {
             "color": "#2a3f5f"
            },
            "error_y": {
             "color": "#2a3f5f"
            },
            "marker": {
             "line": {
              "color": "#E5ECF6",
              "width": 0.5
             },
             "pattern": {
              "fillmode": "overlay",
              "size": 10,
              "solidity": 0.2
             }
            },
            "type": "bar"
           }
          ],
          "barpolar": [
           {
            "marker": {
             "line": {
              "color": "#E5ECF6",
              "width": 0.5
             },
             "pattern": {
              "fillmode": "overlay",
              "size": 10,
              "solidity": 0.2
             }
            },
            "type": "barpolar"
           }
          ],
          "carpet": [
           {
            "aaxis": {
             "endlinecolor": "#2a3f5f",
             "gridcolor": "white",
             "linecolor": "white",
             "minorgridcolor": "white",
             "startlinecolor": "#2a3f5f"
            },
            "baxis": {
             "endlinecolor": "#2a3f5f",
             "gridcolor": "white",
             "linecolor": "white",
             "minorgridcolor": "white",
             "startlinecolor": "#2a3f5f"
            },
            "type": "carpet"
           }
          ],
          "choropleth": [
           {
            "colorbar": {
             "outlinewidth": 0,
             "ticks": ""
            },
            "type": "choropleth"
           }
          ],
          "contour": [
           {
            "colorbar": {
             "outlinewidth": 0,
             "ticks": ""
            },
            "colorscale": [
             [
              0,
              "#0d0887"
             ],
             [
              0.1111111111111111,
              "#46039f"
             ],
             [
              0.2222222222222222,
              "#7201a8"
             ],
             [
              0.3333333333333333,
              "#9c179e"
             ],
             [
              0.4444444444444444,
              "#bd3786"
             ],
             [
              0.5555555555555556,
              "#d8576b"
             ],
             [
              0.6666666666666666,
              "#ed7953"
             ],
             [
              0.7777777777777778,
              "#fb9f3a"
             ],
             [
              0.8888888888888888,
              "#fdca26"
             ],
             [
              1,
              "#f0f921"
             ]
            ],
            "type": "contour"
           }
          ],
          "contourcarpet": [
           {
            "colorbar": {
             "outlinewidth": 0,
             "ticks": ""
            },
            "type": "contourcarpet"
           }
          ],
          "heatmap": [
           {
            "colorbar": {
             "outlinewidth": 0,
             "ticks": ""
            },
            "colorscale": [
             [
              0,
              "#0d0887"
             ],
             [
              0.1111111111111111,
              "#46039f"
             ],
             [
              0.2222222222222222,
              "#7201a8"
             ],
             [
              0.3333333333333333,
              "#9c179e"
             ],
             [
              0.4444444444444444,
              "#bd3786"
             ],
             [
              0.5555555555555556,
              "#d8576b"
             ],
             [
              0.6666666666666666,
              "#ed7953"
             ],
             [
              0.7777777777777778,
              "#fb9f3a"
             ],
             [
              0.8888888888888888,
              "#fdca26"
             ],
             [
              1,
              "#f0f921"
             ]
            ],
            "type": "heatmap"
           }
          ],
          "heatmapgl": [
           {
            "colorbar": {
             "outlinewidth": 0,
             "ticks": ""
            },
            "colorscale": [
             [
              0,
              "#0d0887"
             ],
             [
              0.1111111111111111,
              "#46039f"
             ],
             [
              0.2222222222222222,
              "#7201a8"
             ],
             [
              0.3333333333333333,
              "#9c179e"
             ],
             [
              0.4444444444444444,
              "#bd3786"
             ],
             [
              0.5555555555555556,
              "#d8576b"
             ],
             [
              0.6666666666666666,
              "#ed7953"
             ],
             [
              0.7777777777777778,
              "#fb9f3a"
             ],
             [
              0.8888888888888888,
              "#fdca26"
             ],
             [
              1,
              "#f0f921"
             ]
            ],
            "type": "heatmapgl"
           }
          ],
          "histogram": [
           {
            "marker": {
             "pattern": {
              "fillmode": "overlay",
              "size": 10,
              "solidity": 0.2
             }
            },
            "type": "histogram"
           }
          ],
          "histogram2d": [
           {
            "colorbar": {
             "outlinewidth": 0,
             "ticks": ""
            },
            "colorscale": [
             [
              0,
              "#0d0887"
             ],
             [
              0.1111111111111111,
              "#46039f"
             ],
             [
              0.2222222222222222,
              "#7201a8"
             ],
             [
              0.3333333333333333,
              "#9c179e"
             ],
             [
              0.4444444444444444,
              "#bd3786"
             ],
             [
              0.5555555555555556,
              "#d8576b"
             ],
             [
              0.6666666666666666,
              "#ed7953"
             ],
             [
              0.7777777777777778,
              "#fb9f3a"
             ],
             [
              0.8888888888888888,
              "#fdca26"
             ],
             [
              1,
              "#f0f921"
             ]
            ],
            "type": "histogram2d"
           }
          ],
          "histogram2dcontour": [
           {
            "colorbar": {
             "outlinewidth": 0,
             "ticks": ""
            },
            "colorscale": [
             [
              0,
              "#0d0887"
             ],
             [
              0.1111111111111111,
              "#46039f"
             ],
             [
              0.2222222222222222,
              "#7201a8"
             ],
             [
              0.3333333333333333,
              "#9c179e"
             ],
             [
              0.4444444444444444,
              "#bd3786"
             ],
             [
              0.5555555555555556,
              "#d8576b"
             ],
             [
              0.6666666666666666,
              "#ed7953"
             ],
             [
              0.7777777777777778,
              "#fb9f3a"
             ],
             [
              0.8888888888888888,
              "#fdca26"
             ],
             [
              1,
              "#f0f921"
             ]
            ],
            "type": "histogram2dcontour"
           }
          ],
          "mesh3d": [
           {
            "colorbar": {
             "outlinewidth": 0,
             "ticks": ""
            },
            "type": "mesh3d"
           }
          ],
          "parcoords": [
           {
            "line": {
             "colorbar": {
              "outlinewidth": 0,
              "ticks": ""
             }
            },
            "type": "parcoords"
           }
          ],
          "pie": [
           {
            "automargin": true,
            "type": "pie"
           }
          ],
          "scatter": [
           {
            "fillpattern": {
             "fillmode": "overlay",
             "size": 10,
             "solidity": 0.2
            },
            "type": "scatter"
           }
          ],
          "scatter3d": [
           {
            "line": {
             "colorbar": {
              "outlinewidth": 0,
              "ticks": ""
             }
            },
            "marker": {
             "colorbar": {
              "outlinewidth": 0,
              "ticks": ""
             }
            },
            "type": "scatter3d"
           }
          ],
          "scattercarpet": [
           {
            "marker": {
             "colorbar": {
              "outlinewidth": 0,
              "ticks": ""
             }
            },
            "type": "scattercarpet"
           }
          ],
          "scattergeo": [
           {
            "marker": {
             "colorbar": {
              "outlinewidth": 0,
              "ticks": ""
             }
            },
            "type": "scattergeo"
           }
          ],
          "scattergl": [
           {
            "marker": {
             "colorbar": {
              "outlinewidth": 0,
              "ticks": ""
             }
            },
            "type": "scattergl"
           }
          ],
          "scattermapbox": [
           {
            "marker": {
             "colorbar": {
              "outlinewidth": 0,
              "ticks": ""
             }
            },
            "type": "scattermapbox"
           }
          ],
          "scatterpolar": [
           {
            "marker": {
             "colorbar": {
              "outlinewidth": 0,
              "ticks": ""
             }
            },
            "type": "scatterpolar"
           }
          ],
          "scatterpolargl": [
           {
            "marker": {
             "colorbar": {
              "outlinewidth": 0,
              "ticks": ""
             }
            },
            "type": "scatterpolargl"
           }
          ],
          "scatterternary": [
           {
            "marker": {
             "colorbar": {
              "outlinewidth": 0,
              "ticks": ""
             }
            },
            "type": "scatterternary"
           }
          ],
          "surface": [
           {
            "colorbar": {
             "outlinewidth": 0,
             "ticks": ""
            },
            "colorscale": [
             [
              0,
              "#0d0887"
             ],
             [
              0.1111111111111111,
              "#46039f"
             ],
             [
              0.2222222222222222,
              "#7201a8"
             ],
             [
              0.3333333333333333,
              "#9c179e"
             ],
             [
              0.4444444444444444,
              "#bd3786"
             ],
             [
              0.5555555555555556,
              "#d8576b"
             ],
             [
              0.6666666666666666,
              "#ed7953"
             ],
             [
              0.7777777777777778,
              "#fb9f3a"
             ],
             [
              0.8888888888888888,
              "#fdca26"
             ],
             [
              1,
              "#f0f921"
             ]
            ],
            "type": "surface"
           }
          ],
          "table": [
           {
            "cells": {
             "fill": {
              "color": "#EBF0F8"
             },
             "line": {
              "color": "white"
             }
            },
            "header": {
             "fill": {
              "color": "#C8D4E3"
             },
             "line": {
              "color": "white"
             }
            },
            "type": "table"
           }
          ]
         },
         "layout": {
          "annotationdefaults": {
           "arrowcolor": "#2a3f5f",
           "arrowhead": 0,
           "arrowwidth": 1
          },
          "autotypenumbers": "strict",
          "coloraxis": {
           "colorbar": {
            "outlinewidth": 0,
            "ticks": ""
           }
          },
          "colorscale": {
           "diverging": [
            [
             0,
             "#8e0152"
            ],
            [
             0.1,
             "#c51b7d"
            ],
            [
             0.2,
             "#de77ae"
            ],
            [
             0.3,
             "#f1b6da"
            ],
            [
             0.4,
             "#fde0ef"
            ],
            [
             0.5,
             "#f7f7f7"
            ],
            [
             0.6,
             "#e6f5d0"
            ],
            [
             0.7,
             "#b8e186"
            ],
            [
             0.8,
             "#7fbc41"
            ],
            [
             0.9,
             "#4d9221"
            ],
            [
             1,
             "#276419"
            ]
           ],
           "sequential": [
            [
             0,
             "#0d0887"
            ],
            [
             0.1111111111111111,
             "#46039f"
            ],
            [
             0.2222222222222222,
             "#7201a8"
            ],
            [
             0.3333333333333333,
             "#9c179e"
            ],
            [
             0.4444444444444444,
             "#bd3786"
            ],
            [
             0.5555555555555556,
             "#d8576b"
            ],
            [
             0.6666666666666666,
             "#ed7953"
            ],
            [
             0.7777777777777778,
             "#fb9f3a"
            ],
            [
             0.8888888888888888,
             "#fdca26"
            ],
            [
             1,
             "#f0f921"
            ]
           ],
           "sequentialminus": [
            [
             0,
             "#0d0887"
            ],
            [
             0.1111111111111111,
             "#46039f"
            ],
            [
             0.2222222222222222,
             "#7201a8"
            ],
            [
             0.3333333333333333,
             "#9c179e"
            ],
            [
             0.4444444444444444,
             "#bd3786"
            ],
            [
             0.5555555555555556,
             "#d8576b"
            ],
            [
             0.6666666666666666,
             "#ed7953"
            ],
            [
             0.7777777777777778,
             "#fb9f3a"
            ],
            [
             0.8888888888888888,
             "#fdca26"
            ],
            [
             1,
             "#f0f921"
            ]
           ]
          },
          "colorway": [
           "#636efa",
           "#EF553B",
           "#00cc96",
           "#ab63fa",
           "#FFA15A",
           "#19d3f3",
           "#FF6692",
           "#B6E880",
           "#FF97FF",
           "#FECB52"
          ],
          "font": {
           "color": "#2a3f5f"
          },
          "geo": {
           "bgcolor": "white",
           "lakecolor": "white",
           "landcolor": "#E5ECF6",
           "showlakes": true,
           "showland": true,
           "subunitcolor": "white"
          },
          "hoverlabel": {
           "align": "left"
          },
          "hovermode": "closest",
          "mapbox": {
           "style": "light"
          },
          "paper_bgcolor": "white",
          "plot_bgcolor": "#E5ECF6",
          "polar": {
           "angularaxis": {
            "gridcolor": "white",
            "linecolor": "white",
            "ticks": ""
           },
           "bgcolor": "#E5ECF6",
           "radialaxis": {
            "gridcolor": "white",
            "linecolor": "white",
            "ticks": ""
           }
          },
          "scene": {
           "xaxis": {
            "backgroundcolor": "#E5ECF6",
            "gridcolor": "white",
            "gridwidth": 2,
            "linecolor": "white",
            "showbackground": true,
            "ticks": "",
            "zerolinecolor": "white"
           },
           "yaxis": {
            "backgroundcolor": "#E5ECF6",
            "gridcolor": "white",
            "gridwidth": 2,
            "linecolor": "white",
            "showbackground": true,
            "ticks": "",
            "zerolinecolor": "white"
           },
           "zaxis": {
            "backgroundcolor": "#E5ECF6",
            "gridcolor": "white",
            "gridwidth": 2,
            "linecolor": "white",
            "showbackground": true,
            "ticks": "",
            "zerolinecolor": "white"
           }
          },
          "shapedefaults": {
           "line": {
            "color": "#2a3f5f"
           }
          },
          "ternary": {
           "aaxis": {
            "gridcolor": "white",
            "linecolor": "white",
            "ticks": ""
           },
           "baxis": {
            "gridcolor": "white",
            "linecolor": "white",
            "ticks": ""
           },
           "bgcolor": "#E5ECF6",
           "caxis": {
            "gridcolor": "white",
            "linecolor": "white",
            "ticks": ""
           }
          },
          "title": {
           "x": 0.05
          },
          "xaxis": {
           "automargin": true,
           "gridcolor": "white",
           "linecolor": "white",
           "ticks": "",
           "title": {
            "standoff": 15
           },
           "zerolinecolor": "white",
           "zerolinewidth": 2
          },
          "yaxis": {
           "automargin": true,
           "gridcolor": "white",
           "linecolor": "white",
           "ticks": "",
           "title": {
            "standoff": 15
           },
           "zerolinecolor": "white",
           "zerolinewidth": 2
          }
         }
        },
        "title": {
         "text": "enclosure_bme280_humidity"
        },
        "xaxis": {
         "anchor": "y",
         "domain": [
          0,
          1
         ],
         "title": {
          "text": "datetime"
         }
        },
        "yaxis": {
         "anchor": "x",
         "domain": [
          0,
          1
         ],
         "title": {
          "text": "enclosure_bme280_humidity"
         }
        }
       }
      }
     },
     "metadata": {},
     "output_type": "display_data"
    }
   ],
   "source": [
    "plot_sensor_measurement(df,ids,col_name=\"enclosure_bme280_humidity\")"
   ]
  },
  {
   "cell_type": "code",
   "execution_count": 11,
   "metadata": {},
   "outputs": [
    {
     "data": {
      "application/vnd.plotly.v1+json": {
       "config": {
        "plotlyServerURL": "https://plot.ly"
       },
       "data": [
        {
         "hovertemplate": "system_id=3<br>datetime=%{x}<br>gmp343_temperature=%{y}<extra></extra>",
         "legendgroup": "3",
         "line": {
          "color": "#636efa",
          "dash": "solid"
         },
         "marker": {
          "symbol": "circle"
         },
         "mode": "lines+markers",
         "name": "3",
         "orientation": "v",
         "showlegend": true,
         "type": "scatter",
         "x": [
          "2025-04-25T00:00:00",
          "2025-04-25T01:00:00",
          "2025-04-25T02:00:00",
          "2025-04-25T03:00:00",
          "2025-04-25T04:00:00",
          "2025-04-25T05:00:00",
          "2025-04-25T06:00:00",
          "2025-04-25T07:00:00",
          "2025-04-25T08:00:00",
          "2025-04-25T09:00:00",
          "2025-04-25T10:00:00",
          "2025-04-25T11:00:00",
          "2025-04-25T12:00:00",
          "2025-04-25T13:00:00",
          "2025-04-25T14:00:00",
          "2025-04-25T15:00:00",
          "2025-04-25T16:00:00",
          "2025-04-25T17:00:00",
          "2025-04-25T18:00:00",
          "2025-04-25T19:00:00",
          "2025-04-25T20:00:00",
          "2025-04-25T21:00:00",
          "2025-04-25T22:00:00",
          "2025-04-25T23:00:00"
         ],
         "xaxis": "x",
         "y": [
          42.61111111111109,
          42.608611111111074,
          42.60861111111107,
          42.605238095238064,
          42.607777777777756,
          42.6045833333333,
          42.606111111111076,
          42.60452777777775,
          42.60444444444441,
          42.60555555555552,
          42.60249999999997,
          42.60583333333331,
          42.60305555555553,
          42.60277777777773,
          42.60277777777773,
          42.60555555555553,
          42.60611111111108,
          42.60277777777774,
          42.606944444444416,
          42.608333333333306,
          42.608055555555524,
          42.61083333333331,
          42.606355932203364,
          34.53310185185185
         ],
         "yaxis": "y"
        },
        {
         "hovertemplate": "system_id=6<br>datetime=%{x}<br>gmp343_temperature=%{y}<extra></extra>",
         "legendgroup": "6",
         "line": {
          "color": "#EF553B",
          "dash": "solid"
         },
         "marker": {
          "symbol": "circle"
         },
         "mode": "lines+markers",
         "name": "6",
         "orientation": "v",
         "showlegend": true,
         "type": "scatter",
         "x": [
          "2025-04-25T00:00:00",
          "2025-04-25T01:00:00",
          "2025-04-25T02:00:00",
          "2025-04-25T03:00:00",
          "2025-04-25T04:00:00",
          "2025-04-25T05:00:00",
          "2025-04-25T06:00:00",
          "2025-04-25T07:00:00",
          "2025-04-25T08:00:00",
          "2025-04-25T09:00:00",
          "2025-04-25T10:00:00",
          "2025-04-25T11:00:00",
          "2025-04-25T12:00:00",
          "2025-04-25T13:00:00",
          "2025-04-25T14:00:00",
          "2025-04-25T15:00:00",
          "2025-04-25T16:00:00",
          "2025-04-25T17:00:00",
          "2025-04-25T18:00:00",
          "2025-04-25T19:00:00",
          "2025-04-25T20:00:00",
          "2025-04-25T21:00:00",
          "2025-04-25T22:00:00",
          "2025-04-25T23:00:00"
         ],
         "xaxis": "x",
         "y": [
          30.043333333333326,
          29.96166666666668,
          29.955000000000023,
          29.91166666666669,
          29.90833333333336,
          29.90694444444447,
          29.91444444444447,
          29.738888888888884,
          29.620277777777797,
          29.635833333333345,
          29.85861111111111,
          30.36499999999999,
          30.080555555555556,
          29.68333333333334,
          29.372777777777763,
          29.15416666666666,
          28.9921388888889,
          28.96138888888888,
          29.13791666666666,
          29.17753174603174,
          29.450277777777785,
          29.313611111111086,
          28.65361111111111,
          26.917857142857148
         ],
         "yaxis": "y"
        }
       ],
       "layout": {
        "legend": {
         "title": {
          "text": "system_id"
         },
         "tracegroupgap": 0
        },
        "template": {
         "data": {
          "bar": [
           {
            "error_x": {
             "color": "#2a3f5f"
            },
            "error_y": {
             "color": "#2a3f5f"
            },
            "marker": {
             "line": {
              "color": "#E5ECF6",
              "width": 0.5
             },
             "pattern": {
              "fillmode": "overlay",
              "size": 10,
              "solidity": 0.2
             }
            },
            "type": "bar"
           }
          ],
          "barpolar": [
           {
            "marker": {
             "line": {
              "color": "#E5ECF6",
              "width": 0.5
             },
             "pattern": {
              "fillmode": "overlay",
              "size": 10,
              "solidity": 0.2
             }
            },
            "type": "barpolar"
           }
          ],
          "carpet": [
           {
            "aaxis": {
             "endlinecolor": "#2a3f5f",
             "gridcolor": "white",
             "linecolor": "white",
             "minorgridcolor": "white",
             "startlinecolor": "#2a3f5f"
            },
            "baxis": {
             "endlinecolor": "#2a3f5f",
             "gridcolor": "white",
             "linecolor": "white",
             "minorgridcolor": "white",
             "startlinecolor": "#2a3f5f"
            },
            "type": "carpet"
           }
          ],
          "choropleth": [
           {
            "colorbar": {
             "outlinewidth": 0,
             "ticks": ""
            },
            "type": "choropleth"
           }
          ],
          "contour": [
           {
            "colorbar": {
             "outlinewidth": 0,
             "ticks": ""
            },
            "colorscale": [
             [
              0,
              "#0d0887"
             ],
             [
              0.1111111111111111,
              "#46039f"
             ],
             [
              0.2222222222222222,
              "#7201a8"
             ],
             [
              0.3333333333333333,
              "#9c179e"
             ],
             [
              0.4444444444444444,
              "#bd3786"
             ],
             [
              0.5555555555555556,
              "#d8576b"
             ],
             [
              0.6666666666666666,
              "#ed7953"
             ],
             [
              0.7777777777777778,
              "#fb9f3a"
             ],
             [
              0.8888888888888888,
              "#fdca26"
             ],
             [
              1,
              "#f0f921"
             ]
            ],
            "type": "contour"
           }
          ],
          "contourcarpet": [
           {
            "colorbar": {
             "outlinewidth": 0,
             "ticks": ""
            },
            "type": "contourcarpet"
           }
          ],
          "heatmap": [
           {
            "colorbar": {
             "outlinewidth": 0,
             "ticks": ""
            },
            "colorscale": [
             [
              0,
              "#0d0887"
             ],
             [
              0.1111111111111111,
              "#46039f"
             ],
             [
              0.2222222222222222,
              "#7201a8"
             ],
             [
              0.3333333333333333,
              "#9c179e"
             ],
             [
              0.4444444444444444,
              "#bd3786"
             ],
             [
              0.5555555555555556,
              "#d8576b"
             ],
             [
              0.6666666666666666,
              "#ed7953"
             ],
             [
              0.7777777777777778,
              "#fb9f3a"
             ],
             [
              0.8888888888888888,
              "#fdca26"
             ],
             [
              1,
              "#f0f921"
             ]
            ],
            "type": "heatmap"
           }
          ],
          "heatmapgl": [
           {
            "colorbar": {
             "outlinewidth": 0,
             "ticks": ""
            },
            "colorscale": [
             [
              0,
              "#0d0887"
             ],
             [
              0.1111111111111111,
              "#46039f"
             ],
             [
              0.2222222222222222,
              "#7201a8"
             ],
             [
              0.3333333333333333,
              "#9c179e"
             ],
             [
              0.4444444444444444,
              "#bd3786"
             ],
             [
              0.5555555555555556,
              "#d8576b"
             ],
             [
              0.6666666666666666,
              "#ed7953"
             ],
             [
              0.7777777777777778,
              "#fb9f3a"
             ],
             [
              0.8888888888888888,
              "#fdca26"
             ],
             [
              1,
              "#f0f921"
             ]
            ],
            "type": "heatmapgl"
           }
          ],
          "histogram": [
           {
            "marker": {
             "pattern": {
              "fillmode": "overlay",
              "size": 10,
              "solidity": 0.2
             }
            },
            "type": "histogram"
           }
          ],
          "histogram2d": [
           {
            "colorbar": {
             "outlinewidth": 0,
             "ticks": ""
            },
            "colorscale": [
             [
              0,
              "#0d0887"
             ],
             [
              0.1111111111111111,
              "#46039f"
             ],
             [
              0.2222222222222222,
              "#7201a8"
             ],
             [
              0.3333333333333333,
              "#9c179e"
             ],
             [
              0.4444444444444444,
              "#bd3786"
             ],
             [
              0.5555555555555556,
              "#d8576b"
             ],
             [
              0.6666666666666666,
              "#ed7953"
             ],
             [
              0.7777777777777778,
              "#fb9f3a"
             ],
             [
              0.8888888888888888,
              "#fdca26"
             ],
             [
              1,
              "#f0f921"
             ]
            ],
            "type": "histogram2d"
           }
          ],
          "histogram2dcontour": [
           {
            "colorbar": {
             "outlinewidth": 0,
             "ticks": ""
            },
            "colorscale": [
             [
              0,
              "#0d0887"
             ],
             [
              0.1111111111111111,
              "#46039f"
             ],
             [
              0.2222222222222222,
              "#7201a8"
             ],
             [
              0.3333333333333333,
              "#9c179e"
             ],
             [
              0.4444444444444444,
              "#bd3786"
             ],
             [
              0.5555555555555556,
              "#d8576b"
             ],
             [
              0.6666666666666666,
              "#ed7953"
             ],
             [
              0.7777777777777778,
              "#fb9f3a"
             ],
             [
              0.8888888888888888,
              "#fdca26"
             ],
             [
              1,
              "#f0f921"
             ]
            ],
            "type": "histogram2dcontour"
           }
          ],
          "mesh3d": [
           {
            "colorbar": {
             "outlinewidth": 0,
             "ticks": ""
            },
            "type": "mesh3d"
           }
          ],
          "parcoords": [
           {
            "line": {
             "colorbar": {
              "outlinewidth": 0,
              "ticks": ""
             }
            },
            "type": "parcoords"
           }
          ],
          "pie": [
           {
            "automargin": true,
            "type": "pie"
           }
          ],
          "scatter": [
           {
            "fillpattern": {
             "fillmode": "overlay",
             "size": 10,
             "solidity": 0.2
            },
            "type": "scatter"
           }
          ],
          "scatter3d": [
           {
            "line": {
             "colorbar": {
              "outlinewidth": 0,
              "ticks": ""
             }
            },
            "marker": {
             "colorbar": {
              "outlinewidth": 0,
              "ticks": ""
             }
            },
            "type": "scatter3d"
           }
          ],
          "scattercarpet": [
           {
            "marker": {
             "colorbar": {
              "outlinewidth": 0,
              "ticks": ""
             }
            },
            "type": "scattercarpet"
           }
          ],
          "scattergeo": [
           {
            "marker": {
             "colorbar": {
              "outlinewidth": 0,
              "ticks": ""
             }
            },
            "type": "scattergeo"
           }
          ],
          "scattergl": [
           {
            "marker": {
             "colorbar": {
              "outlinewidth": 0,
              "ticks": ""
             }
            },
            "type": "scattergl"
           }
          ],
          "scattermapbox": [
           {
            "marker": {
             "colorbar": {
              "outlinewidth": 0,
              "ticks": ""
             }
            },
            "type": "scattermapbox"
           }
          ],
          "scatterpolar": [
           {
            "marker": {
             "colorbar": {
              "outlinewidth": 0,
              "ticks": ""
             }
            },
            "type": "scatterpolar"
           }
          ],
          "scatterpolargl": [
           {
            "marker": {
             "colorbar": {
              "outlinewidth": 0,
              "ticks": ""
             }
            },
            "type": "scatterpolargl"
           }
          ],
          "scatterternary": [
           {
            "marker": {
             "colorbar": {
              "outlinewidth": 0,
              "ticks": ""
             }
            },
            "type": "scatterternary"
           }
          ],
          "surface": [
           {
            "colorbar": {
             "outlinewidth": 0,
             "ticks": ""
            },
            "colorscale": [
             [
              0,
              "#0d0887"
             ],
             [
              0.1111111111111111,
              "#46039f"
             ],
             [
              0.2222222222222222,
              "#7201a8"
             ],
             [
              0.3333333333333333,
              "#9c179e"
             ],
             [
              0.4444444444444444,
              "#bd3786"
             ],
             [
              0.5555555555555556,
              "#d8576b"
             ],
             [
              0.6666666666666666,
              "#ed7953"
             ],
             [
              0.7777777777777778,
              "#fb9f3a"
             ],
             [
              0.8888888888888888,
              "#fdca26"
             ],
             [
              1,
              "#f0f921"
             ]
            ],
            "type": "surface"
           }
          ],
          "table": [
           {
            "cells": {
             "fill": {
              "color": "#EBF0F8"
             },
             "line": {
              "color": "white"
             }
            },
            "header": {
             "fill": {
              "color": "#C8D4E3"
             },
             "line": {
              "color": "white"
             }
            },
            "type": "table"
           }
          ]
         },
         "layout": {
          "annotationdefaults": {
           "arrowcolor": "#2a3f5f",
           "arrowhead": 0,
           "arrowwidth": 1
          },
          "autotypenumbers": "strict",
          "coloraxis": {
           "colorbar": {
            "outlinewidth": 0,
            "ticks": ""
           }
          },
          "colorscale": {
           "diverging": [
            [
             0,
             "#8e0152"
            ],
            [
             0.1,
             "#c51b7d"
            ],
            [
             0.2,
             "#de77ae"
            ],
            [
             0.3,
             "#f1b6da"
            ],
            [
             0.4,
             "#fde0ef"
            ],
            [
             0.5,
             "#f7f7f7"
            ],
            [
             0.6,
             "#e6f5d0"
            ],
            [
             0.7,
             "#b8e186"
            ],
            [
             0.8,
             "#7fbc41"
            ],
            [
             0.9,
             "#4d9221"
            ],
            [
             1,
             "#276419"
            ]
           ],
           "sequential": [
            [
             0,
             "#0d0887"
            ],
            [
             0.1111111111111111,
             "#46039f"
            ],
            [
             0.2222222222222222,
             "#7201a8"
            ],
            [
             0.3333333333333333,
             "#9c179e"
            ],
            [
             0.4444444444444444,
             "#bd3786"
            ],
            [
             0.5555555555555556,
             "#d8576b"
            ],
            [
             0.6666666666666666,
             "#ed7953"
            ],
            [
             0.7777777777777778,
             "#fb9f3a"
            ],
            [
             0.8888888888888888,
             "#fdca26"
            ],
            [
             1,
             "#f0f921"
            ]
           ],
           "sequentialminus": [
            [
             0,
             "#0d0887"
            ],
            [
             0.1111111111111111,
             "#46039f"
            ],
            [
             0.2222222222222222,
             "#7201a8"
            ],
            [
             0.3333333333333333,
             "#9c179e"
            ],
            [
             0.4444444444444444,
             "#bd3786"
            ],
            [
             0.5555555555555556,
             "#d8576b"
            ],
            [
             0.6666666666666666,
             "#ed7953"
            ],
            [
             0.7777777777777778,
             "#fb9f3a"
            ],
            [
             0.8888888888888888,
             "#fdca26"
            ],
            [
             1,
             "#f0f921"
            ]
           ]
          },
          "colorway": [
           "#636efa",
           "#EF553B",
           "#00cc96",
           "#ab63fa",
           "#FFA15A",
           "#19d3f3",
           "#FF6692",
           "#B6E880",
           "#FF97FF",
           "#FECB52"
          ],
          "font": {
           "color": "#2a3f5f"
          },
          "geo": {
           "bgcolor": "white",
           "lakecolor": "white",
           "landcolor": "#E5ECF6",
           "showlakes": true,
           "showland": true,
           "subunitcolor": "white"
          },
          "hoverlabel": {
           "align": "left"
          },
          "hovermode": "closest",
          "mapbox": {
           "style": "light"
          },
          "paper_bgcolor": "white",
          "plot_bgcolor": "#E5ECF6",
          "polar": {
           "angularaxis": {
            "gridcolor": "white",
            "linecolor": "white",
            "ticks": ""
           },
           "bgcolor": "#E5ECF6",
           "radialaxis": {
            "gridcolor": "white",
            "linecolor": "white",
            "ticks": ""
           }
          },
          "scene": {
           "xaxis": {
            "backgroundcolor": "#E5ECF6",
            "gridcolor": "white",
            "gridwidth": 2,
            "linecolor": "white",
            "showbackground": true,
            "ticks": "",
            "zerolinecolor": "white"
           },
           "yaxis": {
            "backgroundcolor": "#E5ECF6",
            "gridcolor": "white",
            "gridwidth": 2,
            "linecolor": "white",
            "showbackground": true,
            "ticks": "",
            "zerolinecolor": "white"
           },
           "zaxis": {
            "backgroundcolor": "#E5ECF6",
            "gridcolor": "white",
            "gridwidth": 2,
            "linecolor": "white",
            "showbackground": true,
            "ticks": "",
            "zerolinecolor": "white"
           }
          },
          "shapedefaults": {
           "line": {
            "color": "#2a3f5f"
           }
          },
          "ternary": {
           "aaxis": {
            "gridcolor": "white",
            "linecolor": "white",
            "ticks": ""
           },
           "baxis": {
            "gridcolor": "white",
            "linecolor": "white",
            "ticks": ""
           },
           "bgcolor": "#E5ECF6",
           "caxis": {
            "gridcolor": "white",
            "linecolor": "white",
            "ticks": ""
           }
          },
          "title": {
           "x": 0.05
          },
          "xaxis": {
           "automargin": true,
           "gridcolor": "white",
           "linecolor": "white",
           "ticks": "",
           "title": {
            "standoff": 15
           },
           "zerolinecolor": "white",
           "zerolinewidth": 2
          },
          "yaxis": {
           "automargin": true,
           "gridcolor": "white",
           "linecolor": "white",
           "ticks": "",
           "title": {
            "standoff": 15
           },
           "zerolinecolor": "white",
           "zerolinewidth": 2
          }
         }
        },
        "title": {
         "text": "gmp343_temperature"
        },
        "xaxis": {
         "anchor": "y",
         "domain": [
          0,
          1
         ],
         "title": {
          "text": "datetime"
         }
        },
        "yaxis": {
         "anchor": "x",
         "domain": [
          0,
          1
         ],
         "title": {
          "text": "gmp343_temperature"
         }
        }
       }
      }
     },
     "metadata": {},
     "output_type": "display_data"
    }
   ],
   "source": [
    "plot_sensor_measurement(df,ids,col_name=\"gmp343_temperature\")"
   ]
  },
  {
   "cell_type": "code",
   "execution_count": 13,
   "metadata": {},
   "outputs": [
    {
     "data": {
      "application/vnd.plotly.v1+json": {
       "config": {
        "plotlyServerURL": "https://plot.ly"
       },
       "data": [
        {
         "hovertemplate": "system_id=3<br>datetime=%{x}<br>gmp343_corrected=%{y}<extra></extra>",
         "legendgroup": "3",
         "line": {
          "color": "#636efa",
          "dash": "solid"
         },
         "marker": {
          "symbol": "circle"
         },
         "mode": "lines+markers",
         "name": "3",
         "orientation": "v",
         "showlegend": true,
         "type": "scatter",
         "x": [
          "2025-04-25T00:00:00",
          "2025-04-25T01:00:00",
          "2025-04-25T02:00:00",
          "2025-04-25T03:00:00",
          "2025-04-25T04:00:00",
          "2025-04-25T05:00:00",
          "2025-04-25T06:00:00",
          "2025-04-25T07:00:00",
          "2025-04-25T08:00:00",
          "2025-04-25T09:00:00",
          "2025-04-25T10:00:00",
          "2025-04-25T11:00:00",
          "2025-04-25T12:00:00",
          "2025-04-25T13:00:00",
          "2025-04-25T14:00:00",
          "2025-04-25T15:00:00",
          "2025-04-25T16:00:00",
          "2025-04-25T17:00:00",
          "2025-04-25T18:00:00",
          "2025-04-25T19:00:00",
          "2025-04-25T20:00:00",
          "2025-04-25T21:00:00",
          "2025-04-25T22:00:00",
          "2025-04-25T23:00:00"
         ],
         "xaxis": "x",
         "y": [
          450.18689272520777,
          449.54663513859816,
          449.9072796260368,
          451.85640875273145,
          448.73319139910825,
          451.8050593549599,
          444.99397747163636,
          442.0241400351874,
          441.60944593406924,
          439.7741896924714,
          435.55228782585925,
          434.3742954874739,
          433.56228999853494,
          432.9718738170926,
          435.005665834204,
          436.8180641072435,
          438.8711817708971,
          442.1441416316329,
          446.42628582748347,
          444.3570059529475,
          441.68788237666234,
          443.43904981778934,
          443.8371871622593,
          435.7742565256765
         ],
         "yaxis": "y"
        },
        {
         "hovertemplate": "system_id=6<br>datetime=%{x}<br>gmp343_corrected=%{y}<extra></extra>",
         "legendgroup": "6",
         "line": {
          "color": "#EF553B",
          "dash": "solid"
         },
         "marker": {
          "symbol": "circle"
         },
         "mode": "lines+markers",
         "name": "6",
         "orientation": "v",
         "showlegend": true,
         "type": "scatter",
         "x": [
          "2025-04-25T00:00:00",
          "2025-04-25T01:00:00",
          "2025-04-25T02:00:00",
          "2025-04-25T03:00:00",
          "2025-04-25T04:00:00",
          "2025-04-25T05:00:00",
          "2025-04-25T06:00:00",
          "2025-04-25T07:00:00",
          "2025-04-25T08:00:00",
          "2025-04-25T09:00:00",
          "2025-04-25T10:00:00",
          "2025-04-25T11:00:00",
          "2025-04-25T12:00:00",
          "2025-04-25T13:00:00",
          "2025-04-25T14:00:00",
          "2025-04-25T15:00:00",
          "2025-04-25T16:00:00",
          "2025-04-25T17:00:00",
          "2025-04-25T18:00:00",
          "2025-04-25T19:00:00",
          "2025-04-25T20:00:00",
          "2025-04-25T21:00:00",
          "2025-04-25T22:00:00",
          "2025-04-25T23:00:00"
         ],
         "xaxis": "x",
         "y": [
          448.74630426341173,
          447.67710816782716,
          448.5708211498385,
          450.6690645697679,
          447.98004198849264,
          451.06851805197573,
          444.13964164827473,
          441.74251671163336,
          440.24361287569474,
          438.7988942197017,
          434.7415165633744,
          433.36771233852716,
          432.1217606764858,
          432.0924660383553,
          433.42470192691854,
          435.66720012716337,
          437.49651487443526,
          440.7485984908291,
          444.8465911823362,
          443.6059777189355,
          439.97552897912476,
          441.77198630899824,
          442.3082489480987,
          439.8684988541857
         ],
         "yaxis": "y"
        }
       ],
       "layout": {
        "legend": {
         "title": {
          "text": "system_id"
         },
         "tracegroupgap": 0
        },
        "template": {
         "data": {
          "bar": [
           {
            "error_x": {
             "color": "#2a3f5f"
            },
            "error_y": {
             "color": "#2a3f5f"
            },
            "marker": {
             "line": {
              "color": "#E5ECF6",
              "width": 0.5
             },
             "pattern": {
              "fillmode": "overlay",
              "size": 10,
              "solidity": 0.2
             }
            },
            "type": "bar"
           }
          ],
          "barpolar": [
           {
            "marker": {
             "line": {
              "color": "#E5ECF6",
              "width": 0.5
             },
             "pattern": {
              "fillmode": "overlay",
              "size": 10,
              "solidity": 0.2
             }
            },
            "type": "barpolar"
           }
          ],
          "carpet": [
           {
            "aaxis": {
             "endlinecolor": "#2a3f5f",
             "gridcolor": "white",
             "linecolor": "white",
             "minorgridcolor": "white",
             "startlinecolor": "#2a3f5f"
            },
            "baxis": {
             "endlinecolor": "#2a3f5f",
             "gridcolor": "white",
             "linecolor": "white",
             "minorgridcolor": "white",
             "startlinecolor": "#2a3f5f"
            },
            "type": "carpet"
           }
          ],
          "choropleth": [
           {
            "colorbar": {
             "outlinewidth": 0,
             "ticks": ""
            },
            "type": "choropleth"
           }
          ],
          "contour": [
           {
            "colorbar": {
             "outlinewidth": 0,
             "ticks": ""
            },
            "colorscale": [
             [
              0,
              "#0d0887"
             ],
             [
              0.1111111111111111,
              "#46039f"
             ],
             [
              0.2222222222222222,
              "#7201a8"
             ],
             [
              0.3333333333333333,
              "#9c179e"
             ],
             [
              0.4444444444444444,
              "#bd3786"
             ],
             [
              0.5555555555555556,
              "#d8576b"
             ],
             [
              0.6666666666666666,
              "#ed7953"
             ],
             [
              0.7777777777777778,
              "#fb9f3a"
             ],
             [
              0.8888888888888888,
              "#fdca26"
             ],
             [
              1,
              "#f0f921"
             ]
            ],
            "type": "contour"
           }
          ],
          "contourcarpet": [
           {
            "colorbar": {
             "outlinewidth": 0,
             "ticks": ""
            },
            "type": "contourcarpet"
           }
          ],
          "heatmap": [
           {
            "colorbar": {
             "outlinewidth": 0,
             "ticks": ""
            },
            "colorscale": [
             [
              0,
              "#0d0887"
             ],
             [
              0.1111111111111111,
              "#46039f"
             ],
             [
              0.2222222222222222,
              "#7201a8"
             ],
             [
              0.3333333333333333,
              "#9c179e"
             ],
             [
              0.4444444444444444,
              "#bd3786"
             ],
             [
              0.5555555555555556,
              "#d8576b"
             ],
             [
              0.6666666666666666,
              "#ed7953"
             ],
             [
              0.7777777777777778,
              "#fb9f3a"
             ],
             [
              0.8888888888888888,
              "#fdca26"
             ],
             [
              1,
              "#f0f921"
             ]
            ],
            "type": "heatmap"
           }
          ],
          "heatmapgl": [
           {
            "colorbar": {
             "outlinewidth": 0,
             "ticks": ""
            },
            "colorscale": [
             [
              0,
              "#0d0887"
             ],
             [
              0.1111111111111111,
              "#46039f"
             ],
             [
              0.2222222222222222,
              "#7201a8"
             ],
             [
              0.3333333333333333,
              "#9c179e"
             ],
             [
              0.4444444444444444,
              "#bd3786"
             ],
             [
              0.5555555555555556,
              "#d8576b"
             ],
             [
              0.6666666666666666,
              "#ed7953"
             ],
             [
              0.7777777777777778,
              "#fb9f3a"
             ],
             [
              0.8888888888888888,
              "#fdca26"
             ],
             [
              1,
              "#f0f921"
             ]
            ],
            "type": "heatmapgl"
           }
          ],
          "histogram": [
           {
            "marker": {
             "pattern": {
              "fillmode": "overlay",
              "size": 10,
              "solidity": 0.2
             }
            },
            "type": "histogram"
           }
          ],
          "histogram2d": [
           {
            "colorbar": {
             "outlinewidth": 0,
             "ticks": ""
            },
            "colorscale": [
             [
              0,
              "#0d0887"
             ],
             [
              0.1111111111111111,
              "#46039f"
             ],
             [
              0.2222222222222222,
              "#7201a8"
             ],
             [
              0.3333333333333333,
              "#9c179e"
             ],
             [
              0.4444444444444444,
              "#bd3786"
             ],
             [
              0.5555555555555556,
              "#d8576b"
             ],
             [
              0.6666666666666666,
              "#ed7953"
             ],
             [
              0.7777777777777778,
              "#fb9f3a"
             ],
             [
              0.8888888888888888,
              "#fdca26"
             ],
             [
              1,
              "#f0f921"
             ]
            ],
            "type": "histogram2d"
           }
          ],
          "histogram2dcontour": [
           {
            "colorbar": {
             "outlinewidth": 0,
             "ticks": ""
            },
            "colorscale": [
             [
              0,
              "#0d0887"
             ],
             [
              0.1111111111111111,
              "#46039f"
             ],
             [
              0.2222222222222222,
              "#7201a8"
             ],
             [
              0.3333333333333333,
              "#9c179e"
             ],
             [
              0.4444444444444444,
              "#bd3786"
             ],
             [
              0.5555555555555556,
              "#d8576b"
             ],
             [
              0.6666666666666666,
              "#ed7953"
             ],
             [
              0.7777777777777778,
              "#fb9f3a"
             ],
             [
              0.8888888888888888,
              "#fdca26"
             ],
             [
              1,
              "#f0f921"
             ]
            ],
            "type": "histogram2dcontour"
           }
          ],
          "mesh3d": [
           {
            "colorbar": {
             "outlinewidth": 0,
             "ticks": ""
            },
            "type": "mesh3d"
           }
          ],
          "parcoords": [
           {
            "line": {
             "colorbar": {
              "outlinewidth": 0,
              "ticks": ""
             }
            },
            "type": "parcoords"
           }
          ],
          "pie": [
           {
            "automargin": true,
            "type": "pie"
           }
          ],
          "scatter": [
           {
            "fillpattern": {
             "fillmode": "overlay",
             "size": 10,
             "solidity": 0.2
            },
            "type": "scatter"
           }
          ],
          "scatter3d": [
           {
            "line": {
             "colorbar": {
              "outlinewidth": 0,
              "ticks": ""
             }
            },
            "marker": {
             "colorbar": {
              "outlinewidth": 0,
              "ticks": ""
             }
            },
            "type": "scatter3d"
           }
          ],
          "scattercarpet": [
           {
            "marker": {
             "colorbar": {
              "outlinewidth": 0,
              "ticks": ""
             }
            },
            "type": "scattercarpet"
           }
          ],
          "scattergeo": [
           {
            "marker": {
             "colorbar": {
              "outlinewidth": 0,
              "ticks": ""
             }
            },
            "type": "scattergeo"
           }
          ],
          "scattergl": [
           {
            "marker": {
             "colorbar": {
              "outlinewidth": 0,
              "ticks": ""
             }
            },
            "type": "scattergl"
           }
          ],
          "scattermapbox": [
           {
            "marker": {
             "colorbar": {
              "outlinewidth": 0,
              "ticks": ""
             }
            },
            "type": "scattermapbox"
           }
          ],
          "scatterpolar": [
           {
            "marker": {
             "colorbar": {
              "outlinewidth": 0,
              "ticks": ""
             }
            },
            "type": "scatterpolar"
           }
          ],
          "scatterpolargl": [
           {
            "marker": {
             "colorbar": {
              "outlinewidth": 0,
              "ticks": ""
             }
            },
            "type": "scatterpolargl"
           }
          ],
          "scatterternary": [
           {
            "marker": {
             "colorbar": {
              "outlinewidth": 0,
              "ticks": ""
             }
            },
            "type": "scatterternary"
           }
          ],
          "surface": [
           {
            "colorbar": {
             "outlinewidth": 0,
             "ticks": ""
            },
            "colorscale": [
             [
              0,
              "#0d0887"
             ],
             [
              0.1111111111111111,
              "#46039f"
             ],
             [
              0.2222222222222222,
              "#7201a8"
             ],
             [
              0.3333333333333333,
              "#9c179e"
             ],
             [
              0.4444444444444444,
              "#bd3786"
             ],
             [
              0.5555555555555556,
              "#d8576b"
             ],
             [
              0.6666666666666666,
              "#ed7953"
             ],
             [
              0.7777777777777778,
              "#fb9f3a"
             ],
             [
              0.8888888888888888,
              "#fdca26"
             ],
             [
              1,
              "#f0f921"
             ]
            ],
            "type": "surface"
           }
          ],
          "table": [
           {
            "cells": {
             "fill": {
              "color": "#EBF0F8"
             },
             "line": {
              "color": "white"
             }
            },
            "header": {
             "fill": {
              "color": "#C8D4E3"
             },
             "line": {
              "color": "white"
             }
            },
            "type": "table"
           }
          ]
         },
         "layout": {
          "annotationdefaults": {
           "arrowcolor": "#2a3f5f",
           "arrowhead": 0,
           "arrowwidth": 1
          },
          "autotypenumbers": "strict",
          "coloraxis": {
           "colorbar": {
            "outlinewidth": 0,
            "ticks": ""
           }
          },
          "colorscale": {
           "diverging": [
            [
             0,
             "#8e0152"
            ],
            [
             0.1,
             "#c51b7d"
            ],
            [
             0.2,
             "#de77ae"
            ],
            [
             0.3,
             "#f1b6da"
            ],
            [
             0.4,
             "#fde0ef"
            ],
            [
             0.5,
             "#f7f7f7"
            ],
            [
             0.6,
             "#e6f5d0"
            ],
            [
             0.7,
             "#b8e186"
            ],
            [
             0.8,
             "#7fbc41"
            ],
            [
             0.9,
             "#4d9221"
            ],
            [
             1,
             "#276419"
            ]
           ],
           "sequential": [
            [
             0,
             "#0d0887"
            ],
            [
             0.1111111111111111,
             "#46039f"
            ],
            [
             0.2222222222222222,
             "#7201a8"
            ],
            [
             0.3333333333333333,
             "#9c179e"
            ],
            [
             0.4444444444444444,
             "#bd3786"
            ],
            [
             0.5555555555555556,
             "#d8576b"
            ],
            [
             0.6666666666666666,
             "#ed7953"
            ],
            [
             0.7777777777777778,
             "#fb9f3a"
            ],
            [
             0.8888888888888888,
             "#fdca26"
            ],
            [
             1,
             "#f0f921"
            ]
           ],
           "sequentialminus": [
            [
             0,
             "#0d0887"
            ],
            [
             0.1111111111111111,
             "#46039f"
            ],
            [
             0.2222222222222222,
             "#7201a8"
            ],
            [
             0.3333333333333333,
             "#9c179e"
            ],
            [
             0.4444444444444444,
             "#bd3786"
            ],
            [
             0.5555555555555556,
             "#d8576b"
            ],
            [
             0.6666666666666666,
             "#ed7953"
            ],
            [
             0.7777777777777778,
             "#fb9f3a"
            ],
            [
             0.8888888888888888,
             "#fdca26"
            ],
            [
             1,
             "#f0f921"
            ]
           ]
          },
          "colorway": [
           "#636efa",
           "#EF553B",
           "#00cc96",
           "#ab63fa",
           "#FFA15A",
           "#19d3f3",
           "#FF6692",
           "#B6E880",
           "#FF97FF",
           "#FECB52"
          ],
          "font": {
           "color": "#2a3f5f"
          },
          "geo": {
           "bgcolor": "white",
           "lakecolor": "white",
           "landcolor": "#E5ECF6",
           "showlakes": true,
           "showland": true,
           "subunitcolor": "white"
          },
          "hoverlabel": {
           "align": "left"
          },
          "hovermode": "closest",
          "mapbox": {
           "style": "light"
          },
          "paper_bgcolor": "white",
          "plot_bgcolor": "#E5ECF6",
          "polar": {
           "angularaxis": {
            "gridcolor": "white",
            "linecolor": "white",
            "ticks": ""
           },
           "bgcolor": "#E5ECF6",
           "radialaxis": {
            "gridcolor": "white",
            "linecolor": "white",
            "ticks": ""
           }
          },
          "scene": {
           "xaxis": {
            "backgroundcolor": "#E5ECF6",
            "gridcolor": "white",
            "gridwidth": 2,
            "linecolor": "white",
            "showbackground": true,
            "ticks": "",
            "zerolinecolor": "white"
           },
           "yaxis": {
            "backgroundcolor": "#E5ECF6",
            "gridcolor": "white",
            "gridwidth": 2,
            "linecolor": "white",
            "showbackground": true,
            "ticks": "",
            "zerolinecolor": "white"
           },
           "zaxis": {
            "backgroundcolor": "#E5ECF6",
            "gridcolor": "white",
            "gridwidth": 2,
            "linecolor": "white",
            "showbackground": true,
            "ticks": "",
            "zerolinecolor": "white"
           }
          },
          "shapedefaults": {
           "line": {
            "color": "#2a3f5f"
           }
          },
          "ternary": {
           "aaxis": {
            "gridcolor": "white",
            "linecolor": "white",
            "ticks": ""
           },
           "baxis": {
            "gridcolor": "white",
            "linecolor": "white",
            "ticks": ""
           },
           "bgcolor": "#E5ECF6",
           "caxis": {
            "gridcolor": "white",
            "linecolor": "white",
            "ticks": ""
           }
          },
          "title": {
           "x": 0.05
          },
          "xaxis": {
           "automargin": true,
           "gridcolor": "white",
           "linecolor": "white",
           "ticks": "",
           "title": {
            "standoff": 15
           },
           "zerolinecolor": "white",
           "zerolinewidth": 2
          },
          "yaxis": {
           "automargin": true,
           "gridcolor": "white",
           "linecolor": "white",
           "ticks": "",
           "title": {
            "standoff": 15
           },
           "zerolinecolor": "white",
           "zerolinewidth": 2
          }
         }
        },
        "title": {
         "text": "gmp343_corrected"
        },
        "xaxis": {
         "anchor": "y",
         "domain": [
          0,
          1
         ],
         "title": {
          "text": "datetime"
         }
        },
        "yaxis": {
         "anchor": "x",
         "domain": [
          0,
          1
         ],
         "title": {
          "text": "gmp343_corrected"
         }
        }
       }
      }
     },
     "metadata": {},
     "output_type": "display_data"
    }
   ],
   "source": [
    "plot_sensor_measurement(df,ids,col_name=\"gmp343_corrected\")"
   ]
  },
  {
   "cell_type": "code",
   "execution_count": 14,
   "metadata": {},
   "outputs": [
    {
     "data": {
      "application/vnd.plotly.v1+json": {
       "config": {
        "plotlyServerURL": "https://plot.ly"
       },
       "data": [
        {
         "hovertemplate": "system_id=529<br>datetime=%{x}<br>picarro_corrected=%{y}<extra></extra>",
         "legendgroup": "529",
         "line": {
          "color": "#636efa",
          "dash": "solid"
         },
         "marker": {
          "symbol": "circle"
         },
         "mode": "lines+markers",
         "name": "529",
         "showlegend": true,
         "type": "scattergl",
         "x": [
          "2025-04-25T00:00:00",
          "2025-04-25T00:01:00",
          "2025-04-25T00:02:00",
          "2025-04-25T00:03:00",
          "2025-04-25T00:04:00",
          "2025-04-25T00:05:00",
          "2025-04-25T00:06:00",
          "2025-04-25T00:07:00",
          "2025-04-25T00:08:00",
          "2025-04-25T00:09:00",
          "2025-04-25T00:10:00",
          "2025-04-25T00:11:00",
          "2025-04-25T00:12:00",
          "2025-04-25T00:13:00",
          "2025-04-25T00:14:00",
          "2025-04-25T00:15:00",
          "2025-04-25T00:16:00",
          "2025-04-25T00:17:00",
          "2025-04-25T00:18:00",
          "2025-04-25T00:19:00",
          "2025-04-25T00:20:00",
          "2025-04-25T00:21:00",
          "2025-04-25T00:22:00",
          "2025-04-25T00:23:00",
          "2025-04-25T00:24:00",
          "2025-04-25T00:25:00",
          "2025-04-25T00:26:00",
          "2025-04-25T00:27:00",
          "2025-04-25T00:28:00",
          "2025-04-25T00:29:00",
          "2025-04-25T00:30:00",
          "2025-04-25T00:31:00",
          "2025-04-25T00:32:00",
          "2025-04-25T00:33:00",
          "2025-04-25T00:34:00",
          "2025-04-25T00:35:00",
          "2025-04-25T00:36:00",
          "2025-04-25T00:37:00",
          "2025-04-25T00:38:00",
          "2025-04-25T00:39:00",
          "2025-04-25T00:40:00",
          "2025-04-25T00:41:00",
          "2025-04-25T00:42:00",
          "2025-04-25T00:43:00",
          "2025-04-25T00:44:00",
          "2025-04-25T00:45:00",
          "2025-04-25T00:46:00",
          "2025-04-25T00:47:00",
          "2025-04-25T00:48:00",
          "2025-04-25T00:49:00",
          "2025-04-25T00:50:00",
          "2025-04-25T00:51:00",
          "2025-04-25T00:52:00",
          "2025-04-25T00:53:00",
          "2025-04-25T00:54:00",
          "2025-04-25T00:55:00",
          "2025-04-25T00:56:00",
          "2025-04-25T00:57:00",
          "2025-04-25T00:58:00",
          "2025-04-25T00:59:00",
          "2025-04-25T01:00:00",
          "2025-04-25T01:01:00",
          "2025-04-25T01:02:00",
          "2025-04-25T01:03:00",
          "2025-04-25T01:04:00",
          "2025-04-25T01:05:00",
          "2025-04-25T01:06:00",
          "2025-04-25T01:07:00",
          "2025-04-25T01:08:00",
          "2025-04-25T01:09:00",
          "2025-04-25T01:10:00",
          "2025-04-25T01:11:00",
          "2025-04-25T01:12:00",
          "2025-04-25T01:13:00",
          "2025-04-25T01:14:00",
          "2025-04-25T01:15:00",
          "2025-04-25T01:16:00",
          "2025-04-25T01:17:00",
          "2025-04-25T01:18:00",
          "2025-04-25T01:19:00",
          "2025-04-25T01:20:00",
          "2025-04-25T01:21:00",
          "2025-04-25T01:22:00",
          "2025-04-25T01:23:00",
          "2025-04-25T01:24:00",
          "2025-04-25T01:25:00",
          "2025-04-25T01:26:00",
          "2025-04-25T01:27:00",
          "2025-04-25T01:28:00",
          "2025-04-25T01:29:00",
          "2025-04-25T01:30:00",
          "2025-04-25T01:31:00",
          "2025-04-25T01:32:00",
          "2025-04-25T01:33:00",
          "2025-04-25T01:34:00",
          "2025-04-25T01:35:00",
          "2025-04-25T01:36:00",
          "2025-04-25T01:37:00",
          "2025-04-25T01:38:00",
          "2025-04-25T01:39:00",
          "2025-04-25T01:40:00",
          "2025-04-25T01:41:00",
          "2025-04-25T01:42:00",
          "2025-04-25T01:43:00",
          "2025-04-25T01:44:00",
          "2025-04-25T01:45:00",
          "2025-04-25T01:46:00",
          "2025-04-25T01:47:00",
          "2025-04-25T01:48:00",
          "2025-04-25T01:49:00",
          "2025-04-25T01:50:00",
          "2025-04-25T01:51:00",
          "2025-04-25T01:52:00",
          "2025-04-25T01:53:00",
          "2025-04-25T01:54:00",
          "2025-04-25T01:55:00",
          "2025-04-25T01:56:00",
          "2025-04-25T01:57:00",
          "2025-04-25T01:58:00",
          "2025-04-25T01:59:00",
          "2025-04-25T02:00:00",
          "2025-04-25T02:01:00",
          "2025-04-25T02:02:00",
          "2025-04-25T02:03:00",
          "2025-04-25T02:04:00",
          "2025-04-25T02:05:00",
          "2025-04-25T02:06:00",
          "2025-04-25T02:07:00",
          "2025-04-25T02:08:00",
          "2025-04-25T02:09:00",
          "2025-04-25T02:10:00",
          "2025-04-25T02:11:00",
          "2025-04-25T02:12:00",
          "2025-04-25T02:13:00",
          "2025-04-25T02:14:00",
          "2025-04-25T02:15:00",
          "2025-04-25T02:16:00",
          "2025-04-25T02:17:00",
          "2025-04-25T02:18:00",
          "2025-04-25T02:19:00",
          "2025-04-25T02:20:00",
          "2025-04-25T02:21:00",
          "2025-04-25T02:22:00",
          "2025-04-25T02:23:00",
          "2025-04-25T02:24:00",
          "2025-04-25T02:25:00",
          "2025-04-25T02:26:00",
          "2025-04-25T02:27:00",
          "2025-04-25T02:28:00",
          "2025-04-25T02:29:00",
          "2025-04-25T02:30:00",
          "2025-04-25T02:31:00",
          "2025-04-25T02:32:00",
          "2025-04-25T02:33:00",
          "2025-04-25T02:34:00",
          "2025-04-25T02:35:00",
          "2025-04-25T02:36:00",
          "2025-04-25T02:37:00",
          "2025-04-25T02:38:00",
          "2025-04-25T02:39:00",
          "2025-04-25T02:40:00",
          "2025-04-25T02:41:00",
          "2025-04-25T02:42:00",
          "2025-04-25T02:43:00",
          "2025-04-25T02:44:00",
          "2025-04-25T02:45:00",
          "2025-04-25T02:46:00",
          "2025-04-25T02:47:00",
          "2025-04-25T02:48:00",
          "2025-04-25T02:49:00",
          "2025-04-25T02:50:00",
          "2025-04-25T02:51:00",
          "2025-04-25T02:52:00",
          "2025-04-25T02:53:00",
          "2025-04-25T02:54:00",
          "2025-04-25T02:55:00",
          "2025-04-25T02:56:00",
          "2025-04-25T02:57:00",
          "2025-04-25T02:58:00",
          "2025-04-25T02:59:00",
          "2025-04-25T03:00:00",
          "2025-04-25T03:01:00",
          "2025-04-25T03:02:00",
          "2025-04-25T03:03:00",
          "2025-04-25T03:04:00",
          "2025-04-25T03:05:00",
          "2025-04-25T03:06:00",
          "2025-04-25T03:07:00",
          "2025-04-25T03:08:00",
          "2025-04-25T03:09:00",
          "2025-04-25T03:10:00",
          "2025-04-25T03:11:00",
          "2025-04-25T03:12:00",
          "2025-04-25T03:13:00",
          "2025-04-25T03:14:00",
          "2025-04-25T03:15:00",
          "2025-04-25T03:16:00",
          "2025-04-25T03:17:00",
          "2025-04-25T03:18:00",
          "2025-04-25T03:19:00",
          "2025-04-25T03:20:00",
          "2025-04-25T03:21:00",
          "2025-04-25T03:22:00",
          "2025-04-25T03:23:00",
          "2025-04-25T03:24:00",
          "2025-04-25T03:25:00",
          "2025-04-25T03:26:00",
          "2025-04-25T03:27:00",
          "2025-04-25T03:28:00",
          "2025-04-25T03:29:00",
          "2025-04-25T03:30:00",
          "2025-04-25T03:31:00",
          "2025-04-25T03:32:00",
          "2025-04-25T03:33:00",
          "2025-04-25T03:34:00",
          "2025-04-25T03:35:00",
          "2025-04-25T03:36:00",
          "2025-04-25T03:37:00",
          "2025-04-25T03:38:00",
          "2025-04-25T03:39:00",
          "2025-04-25T03:40:00",
          "2025-04-25T03:41:00",
          "2025-04-25T03:42:00",
          "2025-04-25T03:43:00",
          "2025-04-25T03:44:00",
          "2025-04-25T03:45:00",
          "2025-04-25T03:46:00",
          "2025-04-25T03:47:00",
          "2025-04-25T03:48:00",
          "2025-04-25T03:49:00",
          "2025-04-25T03:50:00",
          "2025-04-25T03:51:00",
          "2025-04-25T03:52:00",
          "2025-04-25T03:53:00",
          "2025-04-25T03:54:00",
          "2025-04-25T03:55:00",
          "2025-04-25T03:56:00",
          "2025-04-25T03:57:00",
          "2025-04-25T03:58:00",
          "2025-04-25T03:59:00",
          "2025-04-25T04:00:00",
          "2025-04-25T04:01:00",
          "2025-04-25T04:02:00",
          "2025-04-25T04:03:00",
          "2025-04-25T04:04:00",
          "2025-04-25T04:05:00",
          "2025-04-25T04:06:00",
          "2025-04-25T04:07:00",
          "2025-04-25T04:08:00",
          "2025-04-25T04:09:00",
          "2025-04-25T04:10:00",
          "2025-04-25T04:11:00",
          "2025-04-25T04:12:00",
          "2025-04-25T04:13:00",
          "2025-04-25T04:14:00",
          "2025-04-25T04:15:00",
          "2025-04-25T04:16:00",
          "2025-04-25T04:17:00",
          "2025-04-25T04:18:00",
          "2025-04-25T04:19:00",
          "2025-04-25T04:20:00",
          "2025-04-25T04:21:00",
          "2025-04-25T04:22:00",
          "2025-04-25T04:23:00",
          "2025-04-25T04:24:00",
          "2025-04-25T04:25:00",
          "2025-04-25T04:26:00",
          "2025-04-25T04:27:00",
          "2025-04-25T04:28:00",
          "2025-04-25T04:29:00",
          "2025-04-25T04:30:00",
          "2025-04-25T04:31:00",
          "2025-04-25T04:32:00",
          "2025-04-25T04:33:00",
          "2025-04-25T04:34:00",
          "2025-04-25T04:35:00",
          "2025-04-25T04:36:00",
          "2025-04-25T04:37:00",
          "2025-04-25T04:38:00",
          "2025-04-25T04:39:00",
          "2025-04-25T04:40:00",
          "2025-04-25T04:41:00",
          "2025-04-25T04:42:00",
          "2025-04-25T04:43:00",
          "2025-04-25T04:44:00",
          "2025-04-25T04:45:00",
          "2025-04-25T04:46:00",
          "2025-04-25T04:47:00",
          "2025-04-25T04:48:00",
          "2025-04-25T04:49:00",
          "2025-04-25T04:50:00",
          "2025-04-25T04:51:00",
          "2025-04-25T04:52:00",
          "2025-04-25T04:53:00",
          "2025-04-25T04:54:00",
          "2025-04-25T04:55:00",
          "2025-04-25T04:56:00",
          "2025-04-25T04:57:00",
          "2025-04-25T04:58:00",
          "2025-04-25T04:59:00",
          "2025-04-25T05:00:00",
          "2025-04-25T05:01:00",
          "2025-04-25T05:02:00",
          "2025-04-25T05:03:00",
          "2025-04-25T05:04:00",
          "2025-04-25T05:05:00",
          "2025-04-25T05:06:00",
          "2025-04-25T05:07:00",
          "2025-04-25T05:08:00",
          "2025-04-25T05:09:00",
          "2025-04-25T05:10:00",
          "2025-04-25T05:11:00",
          "2025-04-25T05:12:00",
          "2025-04-25T05:13:00",
          "2025-04-25T05:14:00",
          "2025-04-25T05:15:00",
          "2025-04-25T05:16:00",
          "2025-04-25T05:17:00",
          "2025-04-25T05:18:00",
          "2025-04-25T05:19:00",
          "2025-04-25T05:20:00",
          "2025-04-25T05:21:00",
          "2025-04-25T05:22:00",
          "2025-04-25T05:23:00",
          "2025-04-25T05:24:00",
          "2025-04-25T05:25:00",
          "2025-04-25T05:26:00",
          "2025-04-25T05:27:00",
          "2025-04-25T05:28:00",
          "2025-04-25T05:29:00",
          "2025-04-25T05:30:00",
          "2025-04-25T05:31:00",
          "2025-04-25T05:32:00",
          "2025-04-25T05:33:00",
          "2025-04-25T05:34:00",
          "2025-04-25T05:35:00",
          "2025-04-25T05:36:00",
          "2025-04-25T05:37:00",
          "2025-04-25T05:38:00",
          "2025-04-25T05:39:00",
          "2025-04-25T05:40:00",
          "2025-04-25T05:41:00",
          "2025-04-25T05:42:00",
          "2025-04-25T05:43:00",
          "2025-04-25T05:44:00",
          "2025-04-25T05:45:00",
          "2025-04-25T05:46:00",
          "2025-04-25T05:47:00",
          "2025-04-25T05:48:00",
          "2025-04-25T05:49:00",
          "2025-04-25T05:50:00",
          "2025-04-25T05:51:00",
          "2025-04-25T05:52:00",
          "2025-04-25T05:53:00",
          "2025-04-25T05:54:00",
          "2025-04-25T05:55:00",
          "2025-04-25T05:56:00",
          "2025-04-25T05:57:00",
          "2025-04-25T05:58:00",
          "2025-04-25T05:59:00",
          "2025-04-25T06:00:00",
          "2025-04-25T06:01:00",
          "2025-04-25T06:02:00",
          "2025-04-25T06:03:00",
          "2025-04-25T06:04:00",
          "2025-04-25T06:05:00",
          "2025-04-25T06:06:00",
          "2025-04-25T06:07:00",
          "2025-04-25T06:08:00",
          "2025-04-25T06:09:00",
          "2025-04-25T06:10:00",
          "2025-04-25T06:11:00",
          "2025-04-25T06:12:00",
          "2025-04-25T06:13:00",
          "2025-04-25T06:14:00",
          "2025-04-25T06:15:00",
          "2025-04-25T06:16:00",
          "2025-04-25T06:17:00",
          "2025-04-25T06:18:00",
          "2025-04-25T06:19:00",
          "2025-04-25T06:20:00",
          "2025-04-25T06:21:00",
          "2025-04-25T06:22:00",
          "2025-04-25T06:23:00",
          "2025-04-25T06:24:00",
          "2025-04-25T06:25:00",
          "2025-04-25T06:26:00",
          "2025-04-25T06:27:00",
          "2025-04-25T06:28:00",
          "2025-04-25T06:29:00",
          "2025-04-25T06:30:00",
          "2025-04-25T06:31:00",
          "2025-04-25T06:32:00",
          "2025-04-25T06:33:00",
          "2025-04-25T06:34:00",
          "2025-04-25T06:35:00",
          "2025-04-25T06:36:00",
          "2025-04-25T06:37:00",
          "2025-04-25T06:38:00",
          "2025-04-25T06:39:00",
          "2025-04-25T06:40:00",
          "2025-04-25T06:41:00",
          "2025-04-25T06:42:00",
          "2025-04-25T06:43:00",
          "2025-04-25T06:44:00",
          "2025-04-25T06:45:00",
          "2025-04-25T06:46:00",
          "2025-04-25T06:47:00",
          "2025-04-25T06:48:00",
          "2025-04-25T06:49:00",
          "2025-04-25T06:50:00",
          "2025-04-25T06:51:00",
          "2025-04-25T06:52:00",
          "2025-04-25T06:53:00",
          "2025-04-25T06:54:00",
          "2025-04-25T06:55:00",
          "2025-04-25T06:56:00",
          "2025-04-25T06:57:00",
          "2025-04-25T06:58:00",
          "2025-04-25T06:59:00",
          "2025-04-25T07:00:00",
          "2025-04-25T07:01:00",
          "2025-04-25T07:02:00",
          "2025-04-25T07:03:00",
          "2025-04-25T07:04:00",
          "2025-04-25T07:05:00",
          "2025-04-25T07:06:00",
          "2025-04-25T07:07:00",
          "2025-04-25T07:08:00",
          "2025-04-25T07:09:00",
          "2025-04-25T07:10:00",
          "2025-04-25T07:11:00",
          "2025-04-25T07:12:00",
          "2025-04-25T07:13:00",
          "2025-04-25T07:14:00",
          "2025-04-25T07:15:00",
          "2025-04-25T07:16:00",
          "2025-04-25T07:17:00",
          "2025-04-25T07:18:00",
          "2025-04-25T07:19:00",
          "2025-04-25T07:20:00",
          "2025-04-25T07:21:00",
          "2025-04-25T07:22:00",
          "2025-04-25T07:23:00",
          "2025-04-25T07:24:00",
          "2025-04-25T07:25:00",
          "2025-04-25T07:26:00",
          "2025-04-25T07:27:00",
          "2025-04-25T07:28:00",
          "2025-04-25T07:29:00",
          "2025-04-25T07:30:00",
          "2025-04-25T07:31:00",
          "2025-04-25T07:32:00",
          "2025-04-25T07:33:00",
          "2025-04-25T07:34:00",
          "2025-04-25T07:35:00",
          "2025-04-25T07:36:00",
          "2025-04-25T07:37:00",
          "2025-04-25T07:38:00",
          "2025-04-25T07:39:00",
          "2025-04-25T07:40:00",
          "2025-04-25T07:41:00",
          "2025-04-25T07:42:00",
          "2025-04-25T07:43:00",
          "2025-04-25T07:44:00",
          "2025-04-25T07:45:00",
          "2025-04-25T07:46:00",
          "2025-04-25T07:47:00",
          "2025-04-25T07:48:00",
          "2025-04-25T07:49:00",
          "2025-04-25T07:50:00",
          "2025-04-25T07:51:00",
          "2025-04-25T07:52:00",
          "2025-04-25T07:53:00",
          "2025-04-25T07:54:00",
          "2025-04-25T07:55:00",
          "2025-04-25T07:56:00",
          "2025-04-25T07:57:00",
          "2025-04-25T07:58:00",
          "2025-04-25T07:59:00",
          "2025-04-25T08:00:00",
          "2025-04-25T08:01:00",
          "2025-04-25T08:02:00",
          "2025-04-25T08:03:00",
          "2025-04-25T08:04:00",
          "2025-04-25T08:05:00",
          "2025-04-25T08:06:00",
          "2025-04-25T08:07:00",
          "2025-04-25T08:08:00",
          "2025-04-25T08:09:00",
          "2025-04-25T08:10:00",
          "2025-04-25T08:11:00",
          "2025-04-25T08:12:00",
          "2025-04-25T08:13:00",
          "2025-04-25T08:14:00",
          "2025-04-25T08:15:00",
          "2025-04-25T08:16:00",
          "2025-04-25T08:17:00",
          "2025-04-25T08:18:00",
          "2025-04-25T08:19:00",
          "2025-04-25T08:20:00",
          "2025-04-25T08:21:00",
          "2025-04-25T08:22:00",
          "2025-04-25T08:23:00",
          "2025-04-25T08:24:00",
          "2025-04-25T08:25:00",
          "2025-04-25T08:26:00",
          "2025-04-25T08:27:00",
          "2025-04-25T08:28:00",
          "2025-04-25T08:29:00",
          "2025-04-25T08:30:00",
          "2025-04-25T08:31:00",
          "2025-04-25T08:32:00",
          "2025-04-25T08:33:00",
          "2025-04-25T08:34:00",
          "2025-04-25T08:35:00",
          "2025-04-25T08:36:00",
          "2025-04-25T08:37:00",
          "2025-04-25T08:38:00",
          "2025-04-25T08:39:00",
          "2025-04-25T08:40:00",
          "2025-04-25T08:41:00",
          "2025-04-25T08:42:00",
          "2025-04-25T08:43:00",
          "2025-04-25T08:44:00",
          "2025-04-25T08:45:00",
          "2025-04-25T08:46:00",
          "2025-04-25T08:47:00",
          "2025-04-25T08:48:00",
          "2025-04-25T08:49:00",
          "2025-04-25T08:50:00",
          "2025-04-25T08:51:00",
          "2025-04-25T08:52:00",
          "2025-04-25T08:53:00",
          "2025-04-25T08:54:00",
          "2025-04-25T08:55:00",
          "2025-04-25T08:56:00",
          "2025-04-25T08:57:00",
          "2025-04-25T08:58:00",
          "2025-04-25T08:59:00",
          "2025-04-25T09:00:00",
          "2025-04-25T09:01:00",
          "2025-04-25T09:02:00",
          "2025-04-25T09:03:00",
          "2025-04-25T09:04:00",
          "2025-04-25T09:05:00",
          "2025-04-25T09:06:00",
          "2025-04-25T09:07:00",
          "2025-04-25T09:08:00",
          "2025-04-25T09:09:00",
          "2025-04-25T09:10:00",
          "2025-04-25T09:11:00",
          "2025-04-25T09:12:00",
          "2025-04-25T09:13:00",
          "2025-04-25T09:14:00",
          "2025-04-25T09:15:00",
          "2025-04-25T09:16:00",
          "2025-04-25T09:17:00",
          "2025-04-25T09:18:00",
          "2025-04-25T09:19:00",
          "2025-04-25T09:20:00",
          "2025-04-25T09:21:00",
          "2025-04-25T09:22:00",
          "2025-04-25T09:23:00",
          "2025-04-25T09:24:00",
          "2025-04-25T09:25:00",
          "2025-04-25T09:26:00",
          "2025-04-25T09:27:00",
          "2025-04-25T09:28:00",
          "2025-04-25T09:29:00",
          "2025-04-25T09:30:00",
          "2025-04-25T09:31:00",
          "2025-04-25T09:32:00",
          "2025-04-25T09:33:00",
          "2025-04-25T09:34:00",
          "2025-04-25T09:35:00",
          "2025-04-25T09:36:00",
          "2025-04-25T09:37:00",
          "2025-04-25T09:38:00",
          "2025-04-25T09:39:00",
          "2025-04-25T09:40:00",
          "2025-04-25T09:41:00",
          "2025-04-25T09:42:00",
          "2025-04-25T09:43:00",
          "2025-04-25T09:44:00",
          "2025-04-25T09:45:00",
          "2025-04-25T09:46:00",
          "2025-04-25T09:47:00",
          "2025-04-25T09:48:00",
          "2025-04-25T09:49:00",
          "2025-04-25T09:50:00",
          "2025-04-25T09:51:00",
          "2025-04-25T09:52:00",
          "2025-04-25T09:53:00",
          "2025-04-25T09:54:00",
          "2025-04-25T09:55:00",
          "2025-04-25T09:56:00",
          "2025-04-25T09:57:00",
          "2025-04-25T09:58:00",
          "2025-04-25T09:59:00",
          "2025-04-25T10:00:00",
          "2025-04-25T10:01:00",
          "2025-04-25T10:02:00",
          "2025-04-25T10:03:00",
          "2025-04-25T10:04:00",
          "2025-04-25T10:05:00",
          "2025-04-25T10:06:00",
          "2025-04-25T10:07:00",
          "2025-04-25T10:08:00",
          "2025-04-25T10:09:00",
          "2025-04-25T10:10:00",
          "2025-04-25T10:11:00",
          "2025-04-25T10:12:00",
          "2025-04-25T10:13:00",
          "2025-04-25T10:14:00",
          "2025-04-25T10:15:00",
          "2025-04-25T10:16:00",
          "2025-04-25T10:17:00",
          "2025-04-25T10:18:00",
          "2025-04-25T10:19:00",
          "2025-04-25T10:20:00",
          "2025-04-25T10:21:00",
          "2025-04-25T10:22:00",
          "2025-04-25T10:23:00",
          "2025-04-25T10:24:00",
          "2025-04-25T10:25:00",
          "2025-04-25T10:26:00",
          "2025-04-25T10:27:00",
          "2025-04-25T10:28:00",
          "2025-04-25T10:29:00",
          "2025-04-25T10:30:00",
          "2025-04-25T10:31:00",
          "2025-04-25T10:32:00",
          "2025-04-25T10:33:00",
          "2025-04-25T10:34:00",
          "2025-04-25T10:35:00",
          "2025-04-25T10:36:00",
          "2025-04-25T10:37:00",
          "2025-04-25T10:38:00",
          "2025-04-25T10:39:00",
          "2025-04-25T10:40:00",
          "2025-04-25T10:41:00",
          "2025-04-25T10:42:00",
          "2025-04-25T10:43:00",
          "2025-04-25T10:44:00",
          "2025-04-25T10:45:00",
          "2025-04-25T10:46:00",
          "2025-04-25T10:47:00",
          "2025-04-25T10:48:00",
          "2025-04-25T10:49:00",
          "2025-04-25T10:50:00",
          "2025-04-25T10:51:00",
          "2025-04-25T10:52:00",
          "2025-04-25T10:53:00",
          "2025-04-25T10:54:00",
          "2025-04-25T10:55:00",
          "2025-04-25T10:56:00",
          "2025-04-25T10:57:00",
          "2025-04-25T10:58:00",
          "2025-04-25T10:59:00",
          "2025-04-25T11:00:00",
          "2025-04-25T11:01:00",
          "2025-04-25T11:02:00",
          "2025-04-25T11:03:00",
          "2025-04-25T11:04:00",
          "2025-04-25T11:05:00",
          "2025-04-25T11:06:00",
          "2025-04-25T11:07:00",
          "2025-04-25T11:08:00",
          "2025-04-25T11:09:00",
          "2025-04-25T11:10:00",
          "2025-04-25T11:11:00",
          "2025-04-25T11:12:00",
          "2025-04-25T11:13:00",
          "2025-04-25T11:14:00",
          "2025-04-25T11:15:00",
          "2025-04-25T11:16:00",
          "2025-04-25T11:17:00",
          "2025-04-25T11:18:00",
          "2025-04-25T11:19:00",
          "2025-04-25T11:20:00",
          "2025-04-25T11:21:00",
          "2025-04-25T11:22:00",
          "2025-04-25T11:23:00",
          "2025-04-25T11:24:00",
          "2025-04-25T11:25:00",
          "2025-04-25T11:26:00",
          "2025-04-25T11:27:00",
          "2025-04-25T11:28:00",
          "2025-04-25T11:29:00",
          "2025-04-25T11:30:00",
          "2025-04-25T11:31:00",
          "2025-04-25T11:32:00",
          "2025-04-25T11:33:00",
          "2025-04-25T11:34:00",
          "2025-04-25T11:35:00",
          "2025-04-25T11:36:00",
          "2025-04-25T11:37:00",
          "2025-04-25T11:38:00",
          "2025-04-25T11:39:00",
          "2025-04-25T11:40:00",
          "2025-04-25T11:41:00",
          "2025-04-25T11:42:00",
          "2025-04-25T11:43:00",
          "2025-04-25T11:44:00",
          "2025-04-25T11:45:00",
          "2025-04-25T11:46:00",
          "2025-04-25T11:47:00",
          "2025-04-25T11:48:00",
          "2025-04-25T11:49:00",
          "2025-04-25T11:50:00",
          "2025-04-25T11:51:00",
          "2025-04-25T11:52:00",
          "2025-04-25T11:53:00",
          "2025-04-25T11:54:00",
          "2025-04-25T11:55:00",
          "2025-04-25T11:56:00",
          "2025-04-25T11:57:00",
          "2025-04-25T11:58:00",
          "2025-04-25T11:59:00",
          "2025-04-25T12:00:00",
          "2025-04-25T12:01:00",
          "2025-04-25T12:02:00",
          "2025-04-25T12:03:00",
          "2025-04-25T12:04:00",
          "2025-04-25T12:05:00",
          "2025-04-25T12:06:00",
          "2025-04-25T12:07:00",
          "2025-04-25T12:08:00",
          "2025-04-25T12:09:00",
          "2025-04-25T12:10:00",
          "2025-04-25T12:11:00",
          "2025-04-25T12:12:00",
          "2025-04-25T12:13:00",
          "2025-04-25T12:14:00",
          "2025-04-25T12:15:00",
          "2025-04-25T12:16:00",
          "2025-04-25T12:17:00",
          "2025-04-25T12:18:00",
          "2025-04-25T12:19:00",
          "2025-04-25T12:20:00",
          "2025-04-25T12:21:00",
          "2025-04-25T12:22:00",
          "2025-04-25T12:23:00",
          "2025-04-25T12:24:00",
          "2025-04-25T12:25:00",
          "2025-04-25T12:26:00",
          "2025-04-25T12:27:00",
          "2025-04-25T12:28:00",
          "2025-04-25T12:29:00",
          "2025-04-25T12:30:00",
          "2025-04-25T12:31:00",
          "2025-04-25T12:32:00",
          "2025-04-25T12:33:00",
          "2025-04-25T12:34:00",
          "2025-04-25T12:35:00",
          "2025-04-25T12:36:00",
          "2025-04-25T12:37:00",
          "2025-04-25T12:38:00",
          "2025-04-25T12:39:00",
          "2025-04-25T12:40:00",
          "2025-04-25T12:41:00",
          "2025-04-25T12:42:00",
          "2025-04-25T12:43:00",
          "2025-04-25T12:44:00",
          "2025-04-25T12:45:00",
          "2025-04-25T12:46:00",
          "2025-04-25T12:47:00",
          "2025-04-25T12:48:00",
          "2025-04-25T12:49:00",
          "2025-04-25T12:50:00",
          "2025-04-25T12:51:00",
          "2025-04-25T12:52:00",
          "2025-04-25T12:53:00",
          "2025-04-25T12:54:00",
          "2025-04-25T12:55:00",
          "2025-04-25T12:56:00",
          "2025-04-25T12:57:00",
          "2025-04-25T12:58:00",
          "2025-04-25T12:59:00",
          "2025-04-25T13:00:00",
          "2025-04-25T13:01:00",
          "2025-04-25T13:02:00",
          "2025-04-25T13:03:00",
          "2025-04-25T13:04:00",
          "2025-04-25T13:05:00",
          "2025-04-25T13:06:00",
          "2025-04-25T13:07:00",
          "2025-04-25T13:08:00",
          "2025-04-25T13:09:00",
          "2025-04-25T13:10:00",
          "2025-04-25T13:11:00",
          "2025-04-25T13:12:00",
          "2025-04-25T13:13:00",
          "2025-04-25T13:14:00",
          "2025-04-25T13:15:00",
          "2025-04-25T13:16:00",
          "2025-04-25T13:17:00",
          "2025-04-25T13:18:00",
          "2025-04-25T13:19:00",
          "2025-04-25T13:20:00",
          "2025-04-25T13:21:00",
          "2025-04-25T13:22:00",
          "2025-04-25T13:23:00",
          "2025-04-25T13:24:00",
          "2025-04-25T13:25:00",
          "2025-04-25T13:26:00",
          "2025-04-25T13:27:00",
          "2025-04-25T13:28:00",
          "2025-04-25T13:29:00",
          "2025-04-25T13:30:00",
          "2025-04-25T13:31:00",
          "2025-04-25T13:32:00",
          "2025-04-25T13:33:00",
          "2025-04-25T13:34:00",
          "2025-04-25T13:35:00",
          "2025-04-25T13:36:00",
          "2025-04-25T13:37:00",
          "2025-04-25T13:38:00",
          "2025-04-25T13:39:00",
          "2025-04-25T13:40:00",
          "2025-04-25T13:41:00",
          "2025-04-25T13:42:00",
          "2025-04-25T13:43:00",
          "2025-04-25T13:44:00",
          "2025-04-25T13:45:00",
          "2025-04-25T13:46:00",
          "2025-04-25T13:47:00",
          "2025-04-25T13:48:00",
          "2025-04-25T13:49:00",
          "2025-04-25T13:50:00",
          "2025-04-25T13:51:00",
          "2025-04-25T13:52:00",
          "2025-04-25T13:53:00",
          "2025-04-25T13:54:00",
          "2025-04-25T13:55:00",
          "2025-04-25T13:56:00",
          "2025-04-25T13:57:00",
          "2025-04-25T13:58:00",
          "2025-04-25T13:59:00",
          "2025-04-25T14:00:00",
          "2025-04-25T14:01:00",
          "2025-04-25T14:02:00",
          "2025-04-25T14:03:00",
          "2025-04-25T14:04:00",
          "2025-04-25T14:05:00",
          "2025-04-25T14:06:00",
          "2025-04-25T14:07:00",
          "2025-04-25T14:08:00",
          "2025-04-25T14:09:00",
          "2025-04-25T14:10:00",
          "2025-04-25T14:11:00",
          "2025-04-25T14:12:00",
          "2025-04-25T14:13:00",
          "2025-04-25T14:14:00",
          "2025-04-25T14:15:00",
          "2025-04-25T14:16:00",
          "2025-04-25T14:17:00",
          "2025-04-25T14:18:00",
          "2025-04-25T14:19:00",
          "2025-04-25T14:20:00",
          "2025-04-25T14:21:00",
          "2025-04-25T14:22:00",
          "2025-04-25T14:23:00",
          "2025-04-25T14:24:00",
          "2025-04-25T14:25:00",
          "2025-04-25T14:26:00",
          "2025-04-25T14:27:00",
          "2025-04-25T14:28:00",
          "2025-04-25T14:29:00",
          "2025-04-25T14:30:00",
          "2025-04-25T14:31:00",
          "2025-04-25T14:32:00",
          "2025-04-25T14:33:00",
          "2025-04-25T14:34:00",
          "2025-04-25T14:35:00",
          "2025-04-25T14:36:00",
          "2025-04-25T14:37:00",
          "2025-04-25T14:38:00",
          "2025-04-25T14:39:00",
          "2025-04-25T14:40:00",
          "2025-04-25T14:41:00",
          "2025-04-25T14:42:00",
          "2025-04-25T14:43:00",
          "2025-04-25T14:44:00",
          "2025-04-25T14:45:00",
          "2025-04-25T14:46:00",
          "2025-04-25T14:47:00",
          "2025-04-25T14:48:00",
          "2025-04-25T14:49:00",
          "2025-04-25T14:50:00",
          "2025-04-25T14:51:00",
          "2025-04-25T14:52:00",
          "2025-04-25T14:53:00",
          "2025-04-25T14:54:00",
          "2025-04-25T14:55:00",
          "2025-04-25T14:56:00",
          "2025-04-25T14:57:00",
          "2025-04-25T14:58:00",
          "2025-04-25T14:59:00",
          "2025-04-25T15:00:00",
          "2025-04-25T15:01:00",
          "2025-04-25T15:02:00",
          "2025-04-25T15:03:00",
          "2025-04-25T15:04:00",
          "2025-04-25T15:05:00",
          "2025-04-25T15:06:00",
          "2025-04-25T15:07:00",
          "2025-04-25T15:08:00",
          "2025-04-25T15:09:00",
          "2025-04-25T15:10:00",
          "2025-04-25T15:11:00",
          "2025-04-25T15:12:00",
          "2025-04-25T15:13:00",
          "2025-04-25T15:14:00",
          "2025-04-25T15:15:00",
          "2025-04-25T15:16:00",
          "2025-04-25T15:17:00",
          "2025-04-25T15:18:00",
          "2025-04-25T15:19:00",
          "2025-04-25T15:20:00",
          "2025-04-25T15:21:00",
          "2025-04-25T15:22:00",
          "2025-04-25T15:23:00",
          "2025-04-25T15:24:00",
          "2025-04-25T15:25:00",
          "2025-04-25T15:26:00",
          "2025-04-25T15:27:00",
          "2025-04-25T15:28:00",
          "2025-04-25T15:29:00",
          "2025-04-25T15:30:00",
          "2025-04-25T15:31:00",
          "2025-04-25T15:32:00",
          "2025-04-25T15:33:00",
          "2025-04-25T15:34:00",
          "2025-04-25T15:35:00",
          "2025-04-25T15:36:00",
          "2025-04-25T15:37:00",
          "2025-04-25T15:38:00",
          "2025-04-25T15:39:00",
          "2025-04-25T15:40:00",
          "2025-04-25T15:41:00",
          "2025-04-25T15:42:00",
          "2025-04-25T15:43:00",
          "2025-04-25T15:44:00",
          "2025-04-25T15:45:00",
          "2025-04-25T15:46:00",
          "2025-04-25T15:47:00",
          "2025-04-25T15:48:00",
          "2025-04-25T15:49:00",
          "2025-04-25T15:50:00",
          "2025-04-25T15:51:00",
          "2025-04-25T15:52:00",
          "2025-04-25T15:53:00",
          "2025-04-25T15:54:00",
          "2025-04-25T15:55:00",
          "2025-04-25T15:56:00",
          "2025-04-25T15:57:00",
          "2025-04-25T15:58:00",
          "2025-04-25T15:59:00",
          "2025-04-25T16:00:00",
          "2025-04-25T16:01:00",
          "2025-04-25T16:02:00",
          "2025-04-25T16:03:00",
          "2025-04-25T16:04:00",
          "2025-04-25T16:05:00",
          "2025-04-25T16:06:00",
          "2025-04-25T16:07:00",
          "2025-04-25T16:08:00",
          "2025-04-25T16:09:00",
          "2025-04-25T16:10:00",
          "2025-04-25T16:11:00",
          "2025-04-25T16:12:00",
          "2025-04-25T16:13:00",
          "2025-04-25T16:14:00",
          "2025-04-25T16:15:00",
          "2025-04-25T16:16:00",
          "2025-04-25T16:17:00",
          "2025-04-25T16:18:00",
          "2025-04-25T16:19:00",
          "2025-04-25T16:20:00",
          "2025-04-25T16:21:00",
          "2025-04-25T16:22:00",
          "2025-04-25T16:23:00",
          "2025-04-25T16:24:00",
          "2025-04-25T16:25:00",
          "2025-04-25T16:26:00",
          "2025-04-25T16:27:00",
          "2025-04-25T16:28:00",
          "2025-04-25T16:29:00",
          "2025-04-25T16:30:00",
          "2025-04-25T16:31:00",
          "2025-04-25T16:32:00",
          "2025-04-25T16:33:00",
          "2025-04-25T16:34:00",
          "2025-04-25T16:35:00",
          "2025-04-25T16:36:00",
          "2025-04-25T16:37:00",
          "2025-04-25T16:38:00",
          "2025-04-25T16:39:00",
          "2025-04-25T16:40:00",
          "2025-04-25T16:41:00",
          "2025-04-25T16:42:00",
          "2025-04-25T16:43:00",
          "2025-04-25T16:44:00",
          "2025-04-25T16:45:00",
          "2025-04-25T16:46:00",
          "2025-04-25T16:47:00",
          "2025-04-25T16:48:00",
          "2025-04-25T16:49:00",
          "2025-04-25T16:50:00",
          "2025-04-25T16:51:00",
          "2025-04-25T16:52:00",
          "2025-04-25T16:53:00",
          "2025-04-25T16:54:00",
          "2025-04-25T16:55:00",
          "2025-04-25T16:56:00",
          "2025-04-25T16:57:00",
          "2025-04-25T16:58:00",
          "2025-04-25T16:59:00",
          "2025-04-25T17:00:00",
          "2025-04-25T17:01:00",
          "2025-04-25T17:02:00",
          "2025-04-25T17:03:00",
          "2025-04-25T17:04:00",
          "2025-04-25T17:05:00",
          "2025-04-25T17:06:00",
          "2025-04-25T17:07:00",
          "2025-04-25T17:08:00",
          "2025-04-25T17:09:00",
          "2025-04-25T17:10:00",
          "2025-04-25T17:11:00",
          "2025-04-25T17:12:00",
          "2025-04-25T17:13:00",
          "2025-04-25T17:14:00",
          "2025-04-25T17:15:00",
          "2025-04-25T17:16:00",
          "2025-04-25T17:17:00",
          "2025-04-25T17:18:00",
          "2025-04-25T17:19:00",
          "2025-04-25T17:20:00",
          "2025-04-25T17:21:00",
          "2025-04-25T17:22:00",
          "2025-04-25T17:23:00",
          "2025-04-25T17:24:00",
          "2025-04-25T17:25:00",
          "2025-04-25T17:26:00",
          "2025-04-25T17:27:00",
          "2025-04-25T17:28:00",
          "2025-04-25T17:29:00",
          "2025-04-25T17:30:00",
          "2025-04-25T17:31:00",
          "2025-04-25T17:32:00",
          "2025-04-25T17:33:00",
          "2025-04-25T17:34:00",
          "2025-04-25T17:35:00",
          "2025-04-25T17:36:00",
          "2025-04-25T17:37:00",
          "2025-04-25T17:38:00",
          "2025-04-25T17:39:00",
          "2025-04-25T17:40:00",
          "2025-04-25T17:41:00",
          "2025-04-25T17:42:00",
          "2025-04-25T17:43:00",
          "2025-04-25T17:44:00",
          "2025-04-25T17:45:00",
          "2025-04-25T17:46:00",
          "2025-04-25T17:47:00",
          "2025-04-25T17:48:00",
          "2025-04-25T17:49:00",
          "2025-04-25T17:50:00",
          "2025-04-25T17:51:00",
          "2025-04-25T17:52:00",
          "2025-04-25T17:53:00",
          "2025-04-25T17:54:00",
          "2025-04-25T17:55:00",
          "2025-04-25T17:56:00",
          "2025-04-25T17:57:00",
          "2025-04-25T17:58:00",
          "2025-04-25T17:59:00",
          "2025-04-25T18:00:00",
          "2025-04-25T18:01:00",
          "2025-04-25T18:02:00",
          "2025-04-25T18:03:00",
          "2025-04-25T18:04:00",
          "2025-04-25T18:05:00",
          "2025-04-25T18:06:00",
          "2025-04-25T18:07:00",
          "2025-04-25T18:08:00",
          "2025-04-25T18:09:00",
          "2025-04-25T18:10:00",
          "2025-04-25T18:11:00",
          "2025-04-25T18:12:00",
          "2025-04-25T18:13:00",
          "2025-04-25T18:14:00",
          "2025-04-25T18:15:00",
          "2025-04-25T18:16:00",
          "2025-04-25T18:17:00",
          "2025-04-25T18:18:00",
          "2025-04-25T18:19:00",
          "2025-04-25T18:20:00",
          "2025-04-25T18:21:00",
          "2025-04-25T18:22:00",
          "2025-04-25T18:23:00",
          "2025-04-25T18:24:00",
          "2025-04-25T18:25:00",
          "2025-04-25T18:26:00",
          "2025-04-25T18:27:00",
          "2025-04-25T18:28:00",
          "2025-04-25T18:29:00",
          "2025-04-25T18:30:00",
          "2025-04-25T18:31:00",
          "2025-04-25T18:32:00",
          "2025-04-25T18:33:00",
          "2025-04-25T18:34:00",
          "2025-04-25T18:35:00",
          "2025-04-25T18:36:00",
          "2025-04-25T18:37:00",
          "2025-04-25T18:38:00",
          "2025-04-25T18:39:00",
          "2025-04-25T18:40:00",
          "2025-04-25T18:41:00",
          "2025-04-25T18:42:00",
          "2025-04-25T18:43:00",
          "2025-04-25T18:44:00",
          "2025-04-25T18:45:00",
          "2025-04-25T18:46:00",
          "2025-04-25T18:47:00",
          "2025-04-25T18:48:00",
          "2025-04-25T18:49:00",
          "2025-04-25T18:50:00",
          "2025-04-25T18:51:00",
          "2025-04-25T18:52:00",
          "2025-04-25T18:53:00",
          "2025-04-25T18:54:00",
          "2025-04-25T18:55:00",
          "2025-04-25T18:56:00",
          "2025-04-25T18:57:00",
          "2025-04-25T18:58:00",
          "2025-04-25T18:59:00",
          "2025-04-25T19:00:00",
          "2025-04-25T19:01:00",
          "2025-04-25T19:02:00",
          "2025-04-25T19:03:00",
          "2025-04-25T19:04:00",
          "2025-04-25T19:05:00",
          "2025-04-25T19:06:00",
          "2025-04-25T19:07:00",
          "2025-04-25T19:08:00",
          "2025-04-25T19:09:00",
          "2025-04-25T19:10:00",
          "2025-04-25T19:11:00",
          "2025-04-25T19:12:00",
          "2025-04-25T19:13:00",
          "2025-04-25T19:14:00",
          "2025-04-25T19:15:00",
          "2025-04-25T19:16:00",
          "2025-04-25T19:17:00",
          "2025-04-25T19:18:00",
          "2025-04-25T19:19:00",
          "2025-04-25T19:20:00",
          "2025-04-25T19:21:00",
          "2025-04-25T19:22:00",
          "2025-04-25T19:23:00",
          "2025-04-25T19:24:00",
          "2025-04-25T19:25:00",
          "2025-04-25T19:26:00",
          "2025-04-25T19:27:00",
          "2025-04-25T19:28:00",
          "2025-04-25T19:29:00",
          "2025-04-25T19:30:00",
          "2025-04-25T19:31:00",
          "2025-04-25T19:32:00",
          "2025-04-25T19:33:00",
          "2025-04-25T19:34:00",
          "2025-04-25T19:35:00",
          "2025-04-25T19:36:00",
          "2025-04-25T19:37:00",
          "2025-04-25T19:38:00",
          "2025-04-25T19:39:00",
          "2025-04-25T19:40:00",
          "2025-04-25T19:41:00",
          "2025-04-25T19:42:00",
          "2025-04-25T19:43:00",
          "2025-04-25T19:44:00",
          "2025-04-25T19:45:00",
          "2025-04-25T19:46:00",
          "2025-04-25T19:47:00",
          "2025-04-25T19:48:00",
          "2025-04-25T19:49:00",
          "2025-04-25T19:50:00",
          "2025-04-25T19:51:00",
          "2025-04-25T19:52:00",
          "2025-04-25T19:53:00",
          "2025-04-25T19:54:00",
          "2025-04-25T19:55:00",
          "2025-04-25T19:56:00",
          "2025-04-25T19:57:00",
          "2025-04-25T19:58:00",
          "2025-04-25T19:59:00",
          "2025-04-25T20:00:00",
          "2025-04-25T20:01:00",
          "2025-04-25T20:02:00",
          "2025-04-25T20:03:00",
          "2025-04-25T20:04:00",
          "2025-04-25T20:05:00",
          "2025-04-25T20:06:00",
          "2025-04-25T20:07:00",
          "2025-04-25T20:08:00",
          "2025-04-25T20:09:00",
          "2025-04-25T20:10:00",
          "2025-04-25T20:11:00",
          "2025-04-25T20:12:00",
          "2025-04-25T20:13:00",
          "2025-04-25T20:14:00",
          "2025-04-25T20:15:00",
          "2025-04-25T20:16:00",
          "2025-04-25T20:17:00",
          "2025-04-25T20:18:00",
          "2025-04-25T20:19:00",
          "2025-04-25T20:20:00",
          "2025-04-25T20:21:00",
          "2025-04-25T20:22:00",
          "2025-04-25T20:23:00",
          "2025-04-25T20:24:00",
          "2025-04-25T20:25:00",
          "2025-04-25T20:26:00",
          "2025-04-25T20:27:00",
          "2025-04-25T20:28:00",
          "2025-04-25T20:29:00",
          "2025-04-25T20:30:00",
          "2025-04-25T20:31:00",
          "2025-04-25T20:32:00",
          "2025-04-25T20:33:00",
          "2025-04-25T20:34:00",
          "2025-04-25T20:35:00",
          "2025-04-25T20:36:00",
          "2025-04-25T20:37:00",
          "2025-04-25T20:38:00",
          "2025-04-25T20:39:00",
          "2025-04-25T20:40:00",
          "2025-04-25T20:41:00",
          "2025-04-25T20:42:00",
          "2025-04-25T20:43:00",
          "2025-04-25T20:44:00",
          "2025-04-25T20:45:00",
          "2025-04-25T20:46:00",
          "2025-04-25T20:47:00",
          "2025-04-25T20:48:00",
          "2025-04-25T20:49:00",
          "2025-04-25T20:50:00",
          "2025-04-25T20:51:00",
          "2025-04-25T20:52:00",
          "2025-04-25T20:53:00",
          "2025-04-25T20:54:00",
          "2025-04-25T20:55:00",
          "2025-04-25T20:56:00",
          "2025-04-25T20:57:00",
          "2025-04-25T20:58:00",
          "2025-04-25T20:59:00",
          "2025-04-25T21:00:00",
          "2025-04-25T21:01:00",
          "2025-04-25T21:02:00",
          "2025-04-25T21:03:00",
          "2025-04-25T21:04:00",
          "2025-04-25T21:05:00",
          "2025-04-25T21:06:00",
          "2025-04-25T21:07:00",
          "2025-04-25T21:08:00",
          "2025-04-25T21:09:00",
          "2025-04-25T21:10:00",
          "2025-04-25T21:11:00",
          "2025-04-25T21:12:00",
          "2025-04-25T21:13:00",
          "2025-04-25T21:14:00",
          "2025-04-25T21:15:00",
          "2025-04-25T21:16:00",
          "2025-04-25T21:17:00",
          "2025-04-25T21:18:00",
          "2025-04-25T21:19:00",
          "2025-04-25T21:20:00",
          "2025-04-25T21:21:00",
          "2025-04-25T21:22:00",
          "2025-04-25T21:23:00",
          "2025-04-25T21:24:00",
          "2025-04-25T21:25:00",
          "2025-04-25T21:26:00",
          "2025-04-25T21:27:00",
          "2025-04-25T21:28:00",
          "2025-04-25T21:29:00",
          "2025-04-25T21:30:00",
          "2025-04-25T21:31:00",
          "2025-04-25T21:32:00",
          "2025-04-25T21:33:00",
          "2025-04-25T21:34:00",
          "2025-04-25T21:35:00",
          "2025-04-25T21:36:00",
          "2025-04-25T21:37:00",
          "2025-04-25T21:38:00",
          "2025-04-25T21:39:00",
          "2025-04-25T21:40:00",
          "2025-04-25T21:41:00",
          "2025-04-25T21:42:00",
          "2025-04-25T21:43:00",
          "2025-04-25T21:44:00",
          "2025-04-25T21:45:00",
          "2025-04-25T21:46:00",
          "2025-04-25T21:47:00",
          "2025-04-25T21:48:00",
          "2025-04-25T21:49:00",
          "2025-04-25T21:50:00",
          "2025-04-25T21:51:00",
          "2025-04-25T21:52:00",
          "2025-04-25T21:53:00",
          "2025-04-25T21:54:00",
          "2025-04-25T21:55:00",
          "2025-04-25T21:56:00",
          "2025-04-25T21:57:00",
          "2025-04-25T21:58:00",
          "2025-04-25T21:59:00",
          "2025-04-25T22:00:00",
          "2025-04-25T22:01:00",
          "2025-04-25T22:02:00",
          "2025-04-25T22:03:00",
          "2025-04-25T22:04:00",
          "2025-04-25T22:05:00",
          "2025-04-25T22:06:00",
          "2025-04-25T22:07:00",
          "2025-04-25T22:08:00",
          "2025-04-25T22:09:00",
          "2025-04-25T22:10:00",
          "2025-04-25T22:11:00",
          "2025-04-25T22:12:00",
          "2025-04-25T22:13:00",
          "2025-04-25T22:14:00",
          "2025-04-25T22:15:00",
          "2025-04-25T22:16:00",
          "2025-04-25T22:17:00",
          "2025-04-25T22:18:00",
          "2025-04-25T22:19:00",
          "2025-04-25T22:20:00",
          "2025-04-25T22:21:00",
          "2025-04-25T22:22:00",
          "2025-04-25T22:23:00",
          "2025-04-25T22:24:00",
          "2025-04-25T22:25:00",
          "2025-04-25T22:26:00",
          "2025-04-25T22:27:00",
          "2025-04-25T22:28:00",
          "2025-04-25T22:29:00",
          "2025-04-25T22:30:00",
          "2025-04-25T22:31:00",
          "2025-04-25T22:32:00",
          "2025-04-25T22:33:00",
          "2025-04-25T22:34:00",
          "2025-04-25T22:35:00",
          "2025-04-25T22:36:00",
          "2025-04-25T22:37:00",
          "2025-04-25T22:38:00",
          "2025-04-25T22:39:00",
          "2025-04-25T22:40:00",
          "2025-04-25T22:41:00",
          "2025-04-25T22:42:00",
          "2025-04-25T22:43:00",
          "2025-04-25T22:44:00",
          "2025-04-25T22:45:00",
          "2025-04-25T22:46:00",
          "2025-04-25T22:47:00",
          "2025-04-25T22:48:00",
          "2025-04-25T22:49:00",
          "2025-04-25T22:50:00",
          "2025-04-25T22:51:00",
          "2025-04-25T22:52:00",
          "2025-04-25T22:53:00",
          "2025-04-25T22:54:00",
          "2025-04-25T22:55:00",
          "2025-04-25T22:56:00",
          "2025-04-25T22:57:00",
          "2025-04-25T22:58:00",
          "2025-04-25T22:59:00",
          "2025-04-25T23:00:00",
          "2025-04-25T23:01:00",
          "2025-04-25T23:02:00",
          "2025-04-25T23:03:00",
          "2025-04-25T23:04:00",
          "2025-04-25T23:05:00",
          "2025-04-25T23:06:00",
          "2025-04-25T23:07:00",
          "2025-04-25T23:08:00",
          "2025-04-25T23:09:00",
          "2025-04-25T23:10:00",
          "2025-04-25T23:11:00",
          "2025-04-25T23:12:00",
          "2025-04-25T23:13:00",
          "2025-04-25T23:14:00",
          "2025-04-25T23:15:00",
          "2025-04-25T23:16:00",
          "2025-04-25T23:17:00",
          "2025-04-25T23:18:00",
          "2025-04-25T23:19:00",
          "2025-04-25T23:20:00",
          "2025-04-25T23:21:00",
          "2025-04-25T23:22:00",
          "2025-04-25T23:23:00",
          "2025-04-25T23:24:00",
          "2025-04-25T23:25:00",
          "2025-04-25T23:26:00",
          "2025-04-25T23:27:00",
          "2025-04-25T23:28:00",
          "2025-04-25T23:29:00",
          "2025-04-25T23:30:00",
          "2025-04-25T23:31:00",
          "2025-04-25T23:32:00",
          "2025-04-25T23:33:00",
          "2025-04-25T23:34:00",
          "2025-04-25T23:35:00",
          "2025-04-25T23:36:00",
          "2025-04-25T23:37:00",
          "2025-04-25T23:38:00",
          "2025-04-25T23:39:00",
          "2025-04-25T23:40:00",
          "2025-04-25T23:41:00",
          "2025-04-25T23:42:00",
          "2025-04-25T23:43:00",
          "2025-04-25T23:44:00",
          "2025-04-25T23:45:00",
          "2025-04-25T23:46:00",
          "2025-04-25T23:47:00",
          "2025-04-25T23:48:00",
          "2025-04-25T23:49:00",
          "2025-04-25T23:50:00",
          "2025-04-25T23:51:00",
          "2025-04-25T23:52:00",
          "2025-04-25T23:53:00",
          "2025-04-25T23:54:00",
          "2025-04-25T23:55:00",
          "2025-04-25T23:56:00",
          "2025-04-25T23:57:00",
          "2025-04-25T23:58:00",
          "2025-04-25T23:59:00",
          "2025-04-26T00:00:00"
         ],
         "xaxis": "x",
         "y": [
          446.1477773889201,
          445.7794739053992,
          448.74845235250075,
          449.9879928662025,
          450.51592491781906,
          448.79862607422854,
          447.7187344946963,
          447.7196858494476,
          447.86819176115955,
          448.5186743936841,
          449.0570594480602,
          448.9104095578672,
          448.13320114213684,
          447.6676027798561,
          448.47576846993724,
          448.8906734867136,
          449.64429233060036,
          449.7364670200118,
          453.225416278732,
          450.41638333628447,
          452.10206340139496,
          450.8841860376969,
          448.3350391846705,
          448.47693799803983,
          455.1373713258362,
          449.3779240848901,
          453.05757977106435,
          453.5793532207843,
          450.92430704583853,
          447.4641599861505,
          449.26630351012597,
          451.35090090822405,
          460.5354316461258,
          453.14363924853444,
          449.83225955797326,
          453.17370077025845,
          461.97313457317364,
          454.9605917939187,
          453.18878335501165,
          450.5405552279089,
          448.44823517213285,
          446.6229106191156,
          449.28988051302315,
          450.48154020804844,
          455.58709086918356,
          465.2915335341795,
          455.8347304169435,
          458.0689211242352,
          456.47176474969336,
          454.99185960283506,
          455.2853813249176,
          455.48363712718407,
          448.16789410720895,
          450.8893160716641,
          456.7942597592223,
          448.79568158241125,
          446.2563266737368,
          447.4294328166233,
          448.1970827533654,
          455.91228610307115,
          448.65691988136484,
          447.9363470507267,
          447.5723273717577,
          447.8754260976967,
          448.1122764132544,
          448.3588646273249,
          448.2162151565208,
          448.19774956437834,
          447.42700583988193,
          447.97222129250747,
          447.94408895099053,
          448.1566658804214,
          448.26977467912633,
          448.00727938706973,
          449.05629801064384,
          449.2449171612359,
          449.80741383628356,
          449.4356193040053,
          448.17938840938746,
          457.4550900727344,
          458.16804172213057,
          450.61943861442865,
          451.21752152684917,
          448.903266888222,
          448.6069041171529,
          448.30733508564333,
          449.3226190238302,
          448.9403174856521,
          452.9146581622575,
          450.4252395617883,
          450.4571721374255,
          451.392243821768,
          451.86507578936164,
          449.5597804323813,
          449.7644354520083,
          451.0269360311002,
          450.9217710954462,
          452.99960119403954,
          452.8029089697406,
          450.92246920099655,
          451.0848134604243,
          451.4590341359865,
          449.82445735652885,
          451.141865751689,
          451.2375177189486,
          451.1821115838189,
          450.8918820389573,
          450.79885700056593,
          453.007125905875,
          453.59535513312807,
          453.5267852029218,
          454.7581742876107,
          454.5632403053582,
          452.6268307883433,
          452.70149529671716,
          453.0201614834311,
          452.3272401859948,
          452.8250645084704,
          454.12788362722443,
          455.90229328561367,
          458.75021111385354,
          458.8323084443476,
          455.71611521918965,
          454.7456423892144,
          455.14954026932395,
          454.8324203418606,
          455.3175037091355,
          455.53331250126274,
          453.43908272810535,
          450.94237826901195,
          452.97715028659184,
          452.1813233380715,
          452.2762710829741,
          453.1471300792242,
          451.7585848343564,
          451.4257829175857,
          452.2039135964884,
          450.5807493282129,
          450.75605623208776,
          450.7215845547601,
          451.9673027343066,
          452.1111018348141,
          452.23986401531755,
          450.7147356077381,
          450.39565165472993,
          450.6017210928046,
          451.56901797810787,
          450.93351676668146,
          451.3643548923593,
          450.511012333645,
          450.8633102884673,
          449.51531816966195,
          448.79962228807557,
          448.03394620246297,
          450.2262237314511,
          448.1979711618711,
          449.0904048519996,
          449.4673575061074,
          447.3473947300412,
          447.6608991080081,
          446.7212464634673,
          446.3386481499778,
          447.7462280266109,
          448.5815019230531,
          449.11067124160303,
          450.1907786566273,
          450.31161150095664,
          449.8703985085326,
          449.6567794707907,
          451.78259629636483,
          451.49755613241376,
          449.0693869831206,
          449.55498641413,
          448.6170566749493,
          449.1227542330276,
          450.7538743630528,
          453.09090067586055,
          451.0673015009016,
          451.1746196068824,
          451.8061998801179,
          453.65811838535956,
          452.42828067281476,
          452.0362859664022,
          451.06474932625457,
          450.7949172047704,
          451.8401679622237,
          451.16157030950814,
          454.46858964066666,
          455.8464759178457,
          452.80239063844135,
          452.42184349016475,
          460.9713091542676,
          465.2608095060936,
          457.5931101811703,
          458.83328207543195,
          457.0985070292962,
          454.5377696231115,
          451.0152012728261,
          452.25346106187254,
          451.59611480942453,
          455.8205825022798,
          453.69006939129963,
          459.3390248844868,
          453.2875253152602,
          453.973894430805,
          452.0944043950208,
          456.3576684551797,
          457.4890737709414,
          453.2913832013809,
          453.355348562508,
          454.4765850373,
          458.35622603284395,
          455.27344651268544,
          456.8920906618135,
          460.00691561029106,
          457.62820713933684,
          452.0618669765838,
          450.3210051456847,
          449.92010565365166,
          450.68190552651674,
          456.8779758589778,
          452.84258066122067,
          449.78077306000955,
          450.1872797430997,
          451.53915530601785,
          451.44903060606094,
          449.0383263231641,
          450.74055288514916,
          451.3890618187267,
          449.38223969607094,
          449.17591482525603,
          449.00403077830936,
          449.56004089168823,
          452.3250433350245,
          449.5012589504553,
          450.8882455344535,
          450.7292615162087,
          449.4543740049798,
          451.0923755513987,
          453.54435805281895,
          450.31439155008945,
          450.43112024192044,
          451.4168099926915,
          451.3450280773623,
          449.3632051048516,
          448.1087933466913,
          447.7645677937398,
          449.52448368821695,
          446.61405863792123,
          447.62607078390187,
          449.2703762231671,
          450.7380498256015,
          450.46204597441556,
          448.96000573214826,
          448.497979973223,
          449.36206697320546,
          449.35321146431124,
          448.91204387961,
          449.6054786572613,
          449.085975672282,
          447.74913981627964,
          448.43007340657977,
          448.7177066912648,
          449.9063935117072,
          449.4934218744858,
          448.4637798979781,
          448.7567713904261,
          448.1268873133283,
          448.1851243746681,
          448.5561976868501,
          450.42098490143206,
          451.09551605731764,
          450.38683013414027,
          451.6721209769941,
          451.9931418219281,
          451.4634371253231,
          450.7336891327742,
          450.5272595394189,
          452.9808892440366,
          451.1107358513571,
          450.3921621354307,
          450.61370662936883,
          450.1253282911284,
          449.26701083647794,
          449.62619125647035,
          450.548393934125,
          451.9543763491253,
          451.9922115376799,
          451.2308738679036,
          450.67789582901366,
          450.8567349455405,
          450.4886526635279,
          451.7126635129877,
          453.6432167482864,
          453.61939957668693,
          453.3141034172509,
          453.19304829397817,
          453.06383188263175,
          450.6126195733624,
          452.4305936682106,
          453.0901145752436,
          452.7839333828134,
          453.2532160564076,
          455.0048755896072,
          454.0204962638709,
          454.37737807617293,
          451.3802185577422,
          452.03857191443944,
          455.08351771030874,
          455.89446351946356,
          452.4025095217775,
          452.1300125376898,
          454.9755255655701,
          452.85288419687436,
          455.203801496692,
          457.9653298748532,
          456.6623106268238,
          453.70221521539054,
          454.00894186110287,
          458.1368589624302,
          454.1586480992051,
          454.253787411837,
          454.5887380750533,
          452.6799387597026,
          454.05700778245864,
          455.54211862926803,
          455.62766871336424,
          453.8834174913237,
          453.9370290593023,
          455.8618613341433,
          452.8306035770489,
          454.4601107968674,
          456.2651842766301,
          453.7866137838943,
          454.7078276175426,
          453.77598994052664,
          453.82761493861165,
          454.3820698802229,
          450.4078542812735,
          451.93233739469616,
          452.2785070694959,
          452.72229445324655,
          453.6516547431369,
          453.52342135229895,
          453.98420894093834,
          453.848930236811,
          454.38065316854295,
          453.9957236614242,
          452.93386400828706,
          454.8228621782616,
          454.6261562656718,
          451.9430578117474,
          449.9528856101863,
          450.76063488833637,
          450.92080810069325,
          449.85440236899285,
          450.4490960013616,
          450.4207275272395,
          449.54384455207827,
          450.6431581321659,
          447.7903472016617,
          448.5608743426387,
          448.3470348012122,
          447.16787069560814,
          447.4522854412644,
          448.3159736576368,
          448.60006208936244,
          447.9280197779526,
          449.7787970683591,
          448.4266428200533,
          449.46206666444624,
          448.8799101053599,
          447.24105594411645,
          446.63428301016086,
          446.55501378479175,
          446.77057228212936,
          446.67243050904347,
          445.91868317695736,
          446.33466844897356,
          445.9825745100224,
          445.608594401883,
          446.20917289070104,
          446.22203105316765,
          445.88890368869244,
          445.9007479044032,
          447.2622756371184,
          447.3712649577933,
          447.21630322352627,
          447.8671210062968,
          448.6725166375852,
          448.44874426612415,
          445.5607183084162,
          445.82714582821365,
          446.7981496716155,
          446.39444045943,
          445.66937549597486,
          445.5851027319357,
          446.1660934126531,
          446.70416347684596,
          447.1292530490779,
          445.70967039310335,
          445.2287349208346,
          446.2800098414372,
          447.34177821155316,
          446.65660262651755,
          447.4688282288948,
          446.87790910586205,
          446.55752474838823,
          445.69602463832484,
          446.7862514886113,
          447.4473846172448,
          447.459919080574,
          448.44923211732,
          447.5929146750008,
          446.0070677398363,
          444.318128499275,
          444.70243878384923,
          443.5292559986099,
          441.9505805582861,
          443.284761860033,
          444.05085020590604,
          443.38765189021217,
          445.2167754181825,
          443.9428471890717,
          443.2357748874006,
          442.96390579469596,
          443.491886857983,
          444.69789226220627,
          443.6094696181656,
          443.59625057260826,
          443.1542383444831,
          443.7660668621298,
          444.0078146894746,
          443.9004127887221,
          443.04917136525825,
          441.3941149233803,
          442.41528956252347,
          443.938987071577,
          444.80927466858645,
          445.9702444351411,
          444.9346056910588,
          444.2342454989368,
          445.0097856213934,
          445.11933995730345,
          444.9358628606627,
          443.95772907934156,
          444.19153537851554,
          444.97092777316936,
          443.4077895900094,
          441.6651431281319,
          441.90934826141336,
          441.27728751621095,
          440.8438972182953,
          442.5591047746036,
          441.91557671829946,
          442.2899685980134,
          443.83956930624066,
          443.9971309386509,
          445.4440823904868,
          445.4426048868965,
          445.60727733162616,
          445.4649085710334,
          445.18294096546845,
          446.5087588215459,
          447.12673158528133,
          445.27658466396355,
          445.48142987225305,
          445.70451205699567,
          443.52875495854806,
          443.2548800944331,
          442.7152473910904,
          443.04253024825533,
          443.93422824780816,
          445.53663253381416,
          445.58898618809906,
          445.70158418155876,
          446.14863632283675,
          444.2861332546766,
          444.14420281200495,
          444.4302968507165,
          443.21278923266465,
          444.9628317192881,
          446.202990030822,
          446.4038063650683,
          444.50302570408604,
          443.63765628065613,
          444.2418834214787,
          446.2753309014056,
          447.03860802367024,
          445.98232989002264,
          446.08296608700846,
          446.4756417372913,
          445.38359164711255,
          445.7337124510276,
          444.10768800543235,
          444.493849091901,
          444.4356495536735,
          444.2432106921285,
          442.563893244436,
          442.3926130527269,
          442.6637229542786,
          442.09798158787834,
          442.4690605744106,
          442.57529340029373,
          443.7461100217589,
          443.1228848724189,
          443.0966384257958,
          442.6394198499099,
          440.5830422408537,
          440.14032059670734,
          440.90215306934203,
          441.7695996677441,
          442.9965338295701,
          442.51931420744745,
          444.4033889122252,
          444.71456560013235,
          442.26535090165555,
          442.95079902328837,
          444.36316753796297,
          442.4449850101653,
          442.7107702345053,
          441.7281155021478,
          442.5599519628736,
          441.13068390471625,
          440.8347430202644,
          441.0942014203583,
          442.8150242187719,
          443.6743209805516,
          442.67308385507823,
          441.2013858209915,
          440.9046299944958,
          440.91108980029395,
          440.5018146719715,
          440.66314080104706,
          441.3533465260409,
          442.34451380335224,
          442.7920045833498,
          442.564285705107,
          443.52482846218857,
          442.3703505459256,
          444.5286799364288,
          445.75212414785085,
          444.38080992078244,
          444.1430569384239,
          442.06271865190854,
          443.3454966370083,
          442.6791525585714,
          442.09339067691457,
          442.2721612767654,
          443.6500602184685,
          442.33845193948855,
          443.8614546052394,
          446.23734041871506,
          444.84319699663126,
          443.2636486095946,
          441.21312272345125,
          441.0770703202215,
          440.0549880895331,
          441.1178877474915,
          441.4183846511912,
          440.58451960440846,
          440.2117995602977,
          439.7841551869594,
          440.3302375719075,
          445.112532755736,
          443.94197238286495,
          441.6162939185766,
          442.4921470485404,
          442.47516033819954,
          443.04565065972923,
          439.5254586909389,
          439.8178296668096,
          439.1674304928586,
          439.32167873765434,
          439.5232164462871,
          439.64283428348193,
          438.9525236328596,
          441.0830881546037,
          440.28107481233485,
          439.75930020277474,
          439.13639205252883,
          439.6127776809078,
          440.3300494740528,
          441.38460754793346,
          440.5462475756451,
          439.4504407864893,
          439.3433807004749,
          438.0805274448433,
          438.0911611393763,
          439.6583863240686,
          440.3787775981053,
          442.31691564554274,
          444.35972521035814,
          443.4049348157685,
          441.0149688676738,
          440.17239134245,
          441.7270284012141,
          439.31684022373264,
          439.402027677798,
          439.2882941790062,
          440.03813015917336,
          439.3655670101342,
          439.64193083373436,
          441.2400519236153,
          439.8281250376015,
          439.97992824065494,
          438.9777304151041,
          439.1936952914197,
          438.6370353489521,
          441.1021681430282,
          443.2829220540689,
          442.8145706174744,
          441.5523816886073,
          439.71239627047066,
          436.7104078691605,
          436.40953387568277,
          436.59158122951857,
          439.15196938657226,
          439.63337293323616,
          436.6647873984142,
          438.3445442936833,
          436.8724736827763,
          435.9804799743702,
          436.1490696173014,
          436.97794676440094,
          435.78014734529324,
          437.4860709885223,
          436.59826512844865,
          435.66885921893567,
          435.5543581634351,
          435.65792083605584,
          437.1229834443531,
          435.8524949084805,
          436.3816676048344,
          435.8919064544658,
          436.3492127371059,
          435.917605823901,
          436.28705895249675,
          438.9585778778158,
          439.1112924710073,
          439.045587106588,
          438.75691092930464,
          436.54206528331946,
          437.2244718526491,
          438.422596278412,
          435.3166242728389,
          436.5575620833266,
          436.6560038271067,
          436.5812451554874,
          436.87315299438967,
          436.2610498016024,
          437.546613930031,
          438.5454333781539,
          437.84531533970153,
          435.90310461516094,
          435.515847939456,
          439.07322499761995,
          437.4635479165237,
          438.6810023629094,
          435.5546466287423,
          435.4689211779852,
          435.16522564425236,
          436.0768593234378,
          439.4802570551685,
          435.9004868164528,
          435.69494325328986,
          436.63862857806555,
          436.36949375216307,
          436.0466688509522,
          437.39606631531393,
          440.70532428560085,
          437.9072789527101,
          438.55444209810105,
          437.31038867157446,
          437.42767862266936,
          440.8566634208602,
          436.9007625767768,
          435.65104503312,
          436.0066500540656,
          434.740841031144,
          434.24488493521136,
          434.6083001307649,
          436.5218209293337,
          435.23472636644595,
          434.61216918258026,
          434.6544368425401,
          434.85551545661707,
          434.7019189456513,
          434.9597730552324,
          435.29689638215285,
          435.8268756432022,
          435.1412651872278,
          435.1673910376919,
          436.3622024988988,
          436.6078722459239,
          437.1006111190836,
          437.8378438607653,
          435.1286250832734,
          434.901892507266,
          436.41907615335913,
          435.77850766884,
          434.58208864881107,
          435.2520056444795,
          435.09033141263524,
          435.35618310305466,
          434.7859287295154,
          435.712325238544,
          435.1746242787008,
          436.9984668853868,
          436.87794451001497,
          435.3712098991333,
          434.7792788899722,
          436.0646473440485,
          434.8291489721883,
          435.5592065608934,
          435.7554037520543,
          435.304924699994,
          435.8548232976164,
          439.2986127515778,
          436.1612025673472,
          435.09247952166936,
          435.44710444664497,
          435.1755225976646,
          435.78716010320574,
          435.17469104876915,
          436.0646131329588,
          436.4001342503505,
          435.15112588351127,
          435.5705029914021,
          434.88330134981726,
          434.8103312959709,
          434.78664043372106,
          435.89392173063516,
          434.43239240907474,
          434.0734539960857,
          434.1937648937681,
          435.02855365841475,
          434.5422039791501,
          435.53180768364444,
          435.3327891304162,
          434.79356939500144,
          435.56314107879626,
          434.5506773980689,
          433.91196956719807,
          433.31201253885035,
          433.44025699447775,
          434.2253511555263,
          433.96957955383317,
          435.1095805320714,
          434.816989874458,
          435.0633787757979,
          435.06987476532487,
          436.8057148747551,
          436.4450460891082,
          435.5542746710723,
          435.8706009950864,
          435.7962345164374,
          435.22594563011756,
          435.98100529781044,
          437.7092527533856,
          437.2861950286339,
          436.04390876872014,
          435.32441537959704,
          435.2317505003353,
          435.06925857159166,
          434.86394165976816,
          434.90991094019785,
          435.8817566386615,
          435.38837132694505,
          435.0375228501302,
          434.1974611816363,
          433.85981967187854,
          434.54841506495,
          434.0335842860021,
          434.31983828140824,
          435.24333338723807,
          435.34997337085537,
          434.18756611944104,
          434.54500638605896,
          435.6973742655346,
          435.1026436369773,
          434.58946187971327,
          435.0522957693929,
          434.207405873767,
          434.24995010242947,
          434.37256825966386,
          434.7910494448999,
          435.2913560450758,
          435.2119271418838,
          434.36389915906506,
          434.06144803683935,
          434.7075741571433,
          434.4748060905989,
          434.0439015583912,
          434.73618772944025,
          434.9213679909629,
          435.0330645529919,
          434.7192830812086,
          433.6776337143528,
          435.30778287933293,
          435.19136960572547,
          433.4138095425379,
          433.54046095924707,
          434.6112296478127,
          434.21826515677475,
          433.73062258795494,
          434.34399487273464,
          436.2284127315267,
          436.25883633689955,
          435.08694141577183,
          434.4494813249019,
          435.01605102457023,
          434.12561524320836,
          433.38922725590106,
          432.8101691824694,
          432.66765930328904,
          432.4298986146523,
          432.9401007863503,
          433.6488351716613,
          433.6842676088265,
          433.700629237282,
          433.4811196938423,
          435.4519933932988,
          435.0340910127383,
          434.20844815881793,
          434.49466562500083,
          433.91321218344257,
          434.96923740152386,
          434.1372590974775,
          435.5664674617162,
          434.41213568433875,
          434.8836141202441,
          435.086448011871,
          434.08846776583835,
          434.2157050827072,
          434.56538156365826,
          435.0652787984597,
          434.63088920779364,
          435.50376489216893,
          434.8714270297304,
          434.6071019542104,
          435.1708038599015,
          437.0226794165792,
          436.28443319081094,
          436.0461759569116,
          436.6956349990167,
          436.7376688750628,
          434.91764272933005,
          435.7085331962248,
          435.13749470309165,
          435.0897239132214,
          436.5587095739958,
          435.964869149816,
          436.0701634525005,
          436.6186977623626,
          436.42217632533976,
          436.814704120125,
          437.47329682586815,
          437.99936030097354,
          436.7989925057254,
          435.89021511848875,
          435.7139684303627,
          434.64998677380595,
          435.0700978966752,
          435.7041334096515,
          435.3945541965274,
          435.62348269137055,
          436.22021473169247,
          435.83726360733505,
          435.4185415786058,
          436.06459514496794,
          439.10605526612363,
          436.0427466380735,
          435.81446629882095,
          436.20223625671133,
          436.5533595344585,
          436.32161222802296,
          436.8354086879005,
          437.5976462602027,
          438.11146462053284,
          437.7562939896008,
          437.81587861613,
          438.4750781594257,
          438.24226355957325,
          438.65234755851367,
          438.69964675328725,
          437.85610850914765,
          438.4308920045574,
          437.6753166112437,
          438.33927926792694,
          437.1705629327896,
          436.92386103466885,
          437.47337203869415,
          438.1008062268128,
          438.0977038441685,
          437.83091058489515,
          437.2258964453895,
          436.75316184004623,
          436.7893940112813,
          437.5758303625678,
          436.87650709943165,
          437.152073020135,
          436.3183034660071,
          436.6603998419976,
          436.9013860538979,
          436.9549181349592,
          437.93083270439166,
          437.62023985455,
          437.513362758166,
          437.5158658588671,
          437.8029757527174,
          438.33602340185377,
          438.49440949973916,
          437.28797241771986,
          437.51933922798173,
          438.60516742830407,
          438.58401475774184,
          436.952232190311,
          436.1186455538294,
          436.80277740493216,
          437.18418888565816,
          437.0267097321286,
          437.32115917680824,
          437.4086207932677,
          436.103663902643,
          436.7032676623166,
          438.1471694030691,
          437.7785425843573,
          438.3093312718414,
          438.4081977406491,
          438.37191409631714,
          438.21192729282205,
          439.245309722898,
          438.50083779129073,
          438.4840435816942,
          438.6142864331697,
          438.26418608473364,
          438.5465665674839,
          439.0321948194556,
          438.91410874730093,
          439.6700259691576,
          439.6956132002627,
          439.32143263766847,
          439.56383186167915,
          438.78887777481214,
          439.3176543777585,
          438.5856577529711,
          438.9737851459188,
          438.9866398396824,
          439.6138783461444,
          439.53275458617196,
          440.0655044690676,
          439.47535580941235,
          439.5581831780303,
          439.49611215793743,
          440.6392222602177,
          439.77921770094594,
          440.2405099735542,
          439.7572823248754,
          439.4562293284536,
          440.00293001528297,
          439.8782179994438,
          440.12163474154795,
          440.1651340205438,
          441.26481988198884,
          441.7140579875701,
          440.55567065164,
          440.82986493924244,
          440.37056720745767,
          441.22288833703806,
          440.6609292254643,
          441.03607670055305,
          441.5110309302206,
          440.7135986170202,
          439.1577308200058,
          440.4942922561101,
          440.7888799181897,
          440.87626897849697,
          440.3848828781008,
          439.62388588865315,
          439.9732650753882,
          440.6064395158057,
          441.22440795190727,
          441.0513985564727,
          440.26606279172137,
          441.376754651056,
          441.1050927818026,
          439.9988859873004,
          439.96157234307066,
          440.8781220392802,
          441.38440896353967,
          440.04450619331976,
          440.1284614221113,
          440.948551633749,
          440.5552658203099,
          441.1511134269928,
          440.06964419021836,
          440.22623581459635,
          440.831725726184,
          440.780357110452,
          440.7759558982341,
          440.41174895522744,
          439.8817411365546,
          440.67422395127153,
          440.20993707759425,
          440.02335226542976,
          440.7758216516529,
          440.6866626275395,
          440.56959888325605,
          440.627018462558,
          440.57771967383565,
          440.4617206133463,
          440.50626104106533,
          440.75519231459606,
          440.660145820173,
          440.66433028997204,
          440.910886729002,
          440.5234013398959,
          440.90235709655434,
          441.64811702578595,
          441.1219550064813,
          441.26713724398826,
          443.08425754209287,
          442.0101375323184,
          443.8486375952943,
          442.3735072301195,
          442.9953900289405,
          443.7867676559034,
          444.1678733733489,
          444.09054191302556,
          443.2116751903888,
          443.83137933591473,
          445.74124777643186,
          443.5562507971699,
          442.20454839053707,
          444.2591119722977,
          446.0236641531751,
          442.01742275154476,
          442.8632342929618,
          443.17690320208584,
          443.0858134646456,
          441.9097856077328,
          441.1996065758385,
          442.3734950514754,
          441.732254504116,
          443.00680974207785,
          443.62682979343094,
          444.0989143664188,
          444.4443686588597,
          443.33098076296005,
          445.4974679813027,
          444.5680819187591,
          443.68996989150696,
          444.5152919635455,
          442.8217550985164,
          442.72150655524644,
          445.0828614534647,
          443.75641850444026,
          444.3395943620295,
          444.45587511196965,
          446.038423299127,
          446.9443424810202,
          447.06876891822077,
          446.5764748304014,
          448.1703161302423,
          446.3813518674639,
          446.4829138484872,
          445.9105392779972,
          446.1196700743736,
          447.65465519759,
          449.0087148286323,
          446.20865167113294,
          445.9579926235449,
          446.14535835449135,
          445.05071519977736,
          444.29202050413676,
          445.25906244914165,
          443.88724251227677,
          445.13615852123945,
          444.5875252777942,
          443.0226755983137,
          444.984081843283,
          445.63367642664656,
          446.7283437577658,
          445.0430835582183,
          444.2342767904255,
          444.57969057118214,
          446.0515572903673,
          447.4839831956838,
          446.2052858849035,
          445.278911450672,
          445.44755085948174,
          446.22550514407976,
          448.8214806623853,
          447.52357282354984,
          446.57034251267163,
          445.9791116650138,
          448.9831048138657,
          448.7957313885974,
          447.45770322209324,
          449.95607581197487,
          448.81833699137707,
          447.8958568698031,
          449.2756162412672,
          447.2063104992349,
          447.70932968103114,
          448.7957467235474,
          447.65985074644254,
          447.6322792965947,
          446.93491866765305,
          446.89497997779137,
          448.74058281158614,
          447.56138375923643,
          447.9514746530183,
          448.36218146319567,
          449.6699108386222,
          450.46014025433,
          449.44727249155693,
          449.02667483071826,
          450.2905467503959,
          447.86698426573184,
          447.19651876522767,
          446.583476207321,
          449.2751826605387,
          449.55103290909886,
          449.2233257444292,
          448.3348153829886,
          449.87514837643,
          449.6176766530347,
          450.15874325069825,
          450.0055772910197,
          450.75167350016466,
          451.9238780558326,
          451.3868675877641,
          451.5400254487538,
          451.4683791604581,
          451.6233597961468,
          452.33547199833936,
          452.1169122511395,
          453.2735372195854,
          454.08908201704537,
          450.9333484269711,
          448.8918792599832,
          449.22224768491026,
          449.5688830161621,
          448.58834051576434,
          449.25776619594853,
          449.29446958158394,
          449.49994566852195,
          449.7424596287599,
          448.55913641674294,
          449.73425132728613,
          450.42190975718484,
          448.98081494500116,
          449.76955917335584,
          448.2342141555406,
          449.0697865810825,
          449.89061720239386,
          450.93574362965455,
          449.6380767207821,
          449.9225399744467,
          450.7454393102122,
          452.0927846713325,
          449.76985849872966,
          449.6023279421067,
          451.151420128932,
          451.9261863572496,
          451.3474460267499,
          451.525954336099,
          450.49634561384255,
          448.47192992336045,
          449.34745608053964,
          450.60317431563965,
          449.77850553050564,
          446.8144173371921,
          445.4254531745284,
          442.3593649400757,
          442.48759938033965,
          441.5088320507532,
          442.07813018350527,
          442.2991831020381,
          442.3197956941843,
          442.7053540833204,
          443.1786868075503,
          443.7830694920289,
          442.0455623736542,
          442.35912772614955,
          441.22134171567893,
          441.70235109009866,
          439.6620215864558,
          438.77801912013217,
          440.4577056749113,
          438.853845588025,
          438.6068780568071,
          440.3026527613785,
          439.73216015447093,
          440.97665167177746,
          442.20491517760297,
          439.40491476335484,
          439.7471601066229,
          443.0719296247097,
          440.51187278089304,
          443.0583205740984,
          443.4527387599241,
          442.371598820086,
          440.10473284308364,
          440.00243727502396,
          440.92218548870466,
          440.08962278355466,
          441.10398979211317,
          440.2437889645764,
          442.34783669349684,
          442.10203314287645,
          441.4294271751305,
          442.2803062784096,
          443.90363970958225,
          443.1267818465994,
          443.0824869019958,
          443.48255734403836,
          442.2738714630932,
          442.45771875297856,
          441.81515010800837,
          441.8154275457293,
          441.02025183909075,
          442.77676150528356,
          444.70306345155274,
          446.1562564681908,
          446.74409111635543,
          444.93422730873687,
          443.7279953611159,
          444.0606923475265,
          443.2568589294849,
          447.4561807667423,
          447.75744958218155,
          445.57819358800793,
          446.25362504610325,
          445.9929824069644,
          444.39608049445155,
          447.3428361876377,
          445.8346685770783,
          444.7518710712264,
          445.79572187138626,
          447.2631390820521,
          445.5341969648052,
          443.1655823272149,
          443.70388899764487,
          443.4940457283851,
          443.5564528074235,
          444.97168297791967,
          444.75454393559187,
          445.62794394772004,
          444.2990142583837,
          443.90007826750553,
          444.1200435582065,
          444.05154414735574,
          443.3541104477454,
          443.39815253097976,
          443.58551126767844,
          442.2719749295023,
          443.2113501815493,
          442.17916433381714,
          441.7785715171797,
          443.1177684027869,
          442.942151425848,
          443.99693101213774,
          442.40555988354276,
          442.4345948396195,
          443.4219748043667,
          442.6676979227381,
          442.52114849371867,
          443.70699286715046,
          443.96896990330754,
          444.04604874789885,
          443.68950311766946,
          445.4268936537651,
          443.65949488048244,
          443.3386511766216,
          443.42563016457717,
          443.47633725601696,
          445.46293856259183,
          444.7933663065258,
          444.68815552891607,
          444.01728901130394,
          445.7895926629292,
          446.5149574257215,
          446.42582410972653,
          447.12769888937765,
          446.3090899024251,
          446.1561887415743,
          445.64134527168017,
          446.0272631625043,
          446.25796768585644,
          446.2970001413754,
          447.3137938512633,
          447.68100826672145,
          446.1172852658711,
          447.1098085883346,
          445.16857039158157,
          444.885290648301,
          446.4983579247802,
          446.31074860791375,
          446.41009188984253,
          447.0945097935408,
          448.15535429666903,
          446.685295066495,
          447.9045764045411,
          447.1772441028263,
          447.37660418551195,
          447.09101848995306,
          445.9586695855226,
          446.16636928774636,
          447.2747732889753,
          446.22825069991546,
          445.94278328295377,
          447.3944302046885,
          447.21256372595286,
          447.2688649237521,
          447.53555403340573,
          445.39433843453406,
          444.8491705091951,
          446.194521531349,
          445.7844090546172,
          445.9681145517879,
          446.2394605421515,
          446.7389895516677,
          446.430248910613,
          445.58431478683826,
          445.078327213356,
          445.75762232269904,
          446.55547041778516,
          446.2887728161888,
          446.2491558259917,
          445.9104701923832,
          445.8441576300118,
          443.97190173253676,
          444.4923283375027,
          444.80021270976033,
          444.7448326200676,
          445.5245062433723,
          445.40009101616624,
          445.04328460039454,
          444.9848971643409,
          446.07923959878315,
          445.70216236713514,
          445.0420634243047,
          445.06425443183235,
          444.3265169614573,
          445.14729588482044,
          446.13367363194897,
          445.1398169766691,
          444.43774439825614,
          446.3538765503107,
          445.9892296994024,
          445.6097027192875,
          445.9941893573234,
          446.69730585957615,
          444.6274318814292,
          445.73730795661527,
          446.10513099037456,
          445.5149832141465,
          446.8275483683024,
          444.87956318450233,
          445.9273012698108,
          446.7692108160581,
          445.72696265426686,
          445.9681115272491,
          446.72998697627304,
          446.24612073577276,
          446.48016214799276,
          447.53469450686015,
          447.0551755793093,
          447.6282360811929,
          447.41399815426115,
          446.70228609709056,
          445.91472563814375,
          446.82242870337734,
          445.7324681060312,
          446.53782916546345,
          446.0648822573011,
          445.64010003094967,
          446.41248016726223,
          446.2973353595763,
          447.0898794450981,
          447.460762041805,
          445.21039238656283,
          445.44133784445677,
          443.674276293946,
          443.04296537701356,
          442.7788403324306,
          443.05926921407166,
          444.1470809018723,
          444.8486356842263,
          445.1270490094218,
          443.60756002962785,
          444.54822804701274,
          443.10171743565473,
          443.4106081792867,
          444.49392672202924,
          444.38423440358633,
          443.7809023059299,
          443.80281720920976,
          444.1632637034532,
          444.27711471741657,
          444.28381390010315,
          443.84134576916375,
          444.6451696084985,
          444.68961701144474,
          444.4345142880221,
          443.26927803378396,
          443.98791446633567,
          444.51154605975967,
          444.65493511161174,
          443.2354822591111,
          443.89769941248335,
          444.6644929322505,
          444.30086224167667,
          444.64187816332003,
          444.18939946784235,
          444.839012692982,
          445.44548868470326,
          445.47804284855044,
          444.67529217958713,
          444.94837608807967,
          444.6929151095608,
          445.93126485161775,
          446.2248211942077,
          445.6310226269286,
          446.6041002151349,
          445.6448871266189,
          445.70937739641073,
          445.9466751718012,
          446.3795515930673,
          445.82282260492843,
          446.26273593927084,
          446.92812170695254,
          447.53083072177765,
          446.6495942176908,
          445.2757929378655,
          446.5566845606731,
          445.9048987611096,
          444.23103021349243
         ],
         "yaxis": "y"
        }
       ],
       "layout": {
        "legend": {
         "title": {
          "text": "system_id"
         },
         "tracegroupgap": 0
        },
        "template": {
         "data": {
          "bar": [
           {
            "error_x": {
             "color": "#2a3f5f"
            },
            "error_y": {
             "color": "#2a3f5f"
            },
            "marker": {
             "line": {
              "color": "#E5ECF6",
              "width": 0.5
             },
             "pattern": {
              "fillmode": "overlay",
              "size": 10,
              "solidity": 0.2
             }
            },
            "type": "bar"
           }
          ],
          "barpolar": [
           {
            "marker": {
             "line": {
              "color": "#E5ECF6",
              "width": 0.5
             },
             "pattern": {
              "fillmode": "overlay",
              "size": 10,
              "solidity": 0.2
             }
            },
            "type": "barpolar"
           }
          ],
          "carpet": [
           {
            "aaxis": {
             "endlinecolor": "#2a3f5f",
             "gridcolor": "white",
             "linecolor": "white",
             "minorgridcolor": "white",
             "startlinecolor": "#2a3f5f"
            },
            "baxis": {
             "endlinecolor": "#2a3f5f",
             "gridcolor": "white",
             "linecolor": "white",
             "minorgridcolor": "white",
             "startlinecolor": "#2a3f5f"
            },
            "type": "carpet"
           }
          ],
          "choropleth": [
           {
            "colorbar": {
             "outlinewidth": 0,
             "ticks": ""
            },
            "type": "choropleth"
           }
          ],
          "contour": [
           {
            "colorbar": {
             "outlinewidth": 0,
             "ticks": ""
            },
            "colorscale": [
             [
              0,
              "#0d0887"
             ],
             [
              0.1111111111111111,
              "#46039f"
             ],
             [
              0.2222222222222222,
              "#7201a8"
             ],
             [
              0.3333333333333333,
              "#9c179e"
             ],
             [
              0.4444444444444444,
              "#bd3786"
             ],
             [
              0.5555555555555556,
              "#d8576b"
             ],
             [
              0.6666666666666666,
              "#ed7953"
             ],
             [
              0.7777777777777778,
              "#fb9f3a"
             ],
             [
              0.8888888888888888,
              "#fdca26"
             ],
             [
              1,
              "#f0f921"
             ]
            ],
            "type": "contour"
           }
          ],
          "contourcarpet": [
           {
            "colorbar": {
             "outlinewidth": 0,
             "ticks": ""
            },
            "type": "contourcarpet"
           }
          ],
          "heatmap": [
           {
            "colorbar": {
             "outlinewidth": 0,
             "ticks": ""
            },
            "colorscale": [
             [
              0,
              "#0d0887"
             ],
             [
              0.1111111111111111,
              "#46039f"
             ],
             [
              0.2222222222222222,
              "#7201a8"
             ],
             [
              0.3333333333333333,
              "#9c179e"
             ],
             [
              0.4444444444444444,
              "#bd3786"
             ],
             [
              0.5555555555555556,
              "#d8576b"
             ],
             [
              0.6666666666666666,
              "#ed7953"
             ],
             [
              0.7777777777777778,
              "#fb9f3a"
             ],
             [
              0.8888888888888888,
              "#fdca26"
             ],
             [
              1,
              "#f0f921"
             ]
            ],
            "type": "heatmap"
           }
          ],
          "heatmapgl": [
           {
            "colorbar": {
             "outlinewidth": 0,
             "ticks": ""
            },
            "colorscale": [
             [
              0,
              "#0d0887"
             ],
             [
              0.1111111111111111,
              "#46039f"
             ],
             [
              0.2222222222222222,
              "#7201a8"
             ],
             [
              0.3333333333333333,
              "#9c179e"
             ],
             [
              0.4444444444444444,
              "#bd3786"
             ],
             [
              0.5555555555555556,
              "#d8576b"
             ],
             [
              0.6666666666666666,
              "#ed7953"
             ],
             [
              0.7777777777777778,
              "#fb9f3a"
             ],
             [
              0.8888888888888888,
              "#fdca26"
             ],
             [
              1,
              "#f0f921"
             ]
            ],
            "type": "heatmapgl"
           }
          ],
          "histogram": [
           {
            "marker": {
             "pattern": {
              "fillmode": "overlay",
              "size": 10,
              "solidity": 0.2
             }
            },
            "type": "histogram"
           }
          ],
          "histogram2d": [
           {
            "colorbar": {
             "outlinewidth": 0,
             "ticks": ""
            },
            "colorscale": [
             [
              0,
              "#0d0887"
             ],
             [
              0.1111111111111111,
              "#46039f"
             ],
             [
              0.2222222222222222,
              "#7201a8"
             ],
             [
              0.3333333333333333,
              "#9c179e"
             ],
             [
              0.4444444444444444,
              "#bd3786"
             ],
             [
              0.5555555555555556,
              "#d8576b"
             ],
             [
              0.6666666666666666,
              "#ed7953"
             ],
             [
              0.7777777777777778,
              "#fb9f3a"
             ],
             [
              0.8888888888888888,
              "#fdca26"
             ],
             [
              1,
              "#f0f921"
             ]
            ],
            "type": "histogram2d"
           }
          ],
          "histogram2dcontour": [
           {
            "colorbar": {
             "outlinewidth": 0,
             "ticks": ""
            },
            "colorscale": [
             [
              0,
              "#0d0887"
             ],
             [
              0.1111111111111111,
              "#46039f"
             ],
             [
              0.2222222222222222,
              "#7201a8"
             ],
             [
              0.3333333333333333,
              "#9c179e"
             ],
             [
              0.4444444444444444,
              "#bd3786"
             ],
             [
              0.5555555555555556,
              "#d8576b"
             ],
             [
              0.6666666666666666,
              "#ed7953"
             ],
             [
              0.7777777777777778,
              "#fb9f3a"
             ],
             [
              0.8888888888888888,
              "#fdca26"
             ],
             [
              1,
              "#f0f921"
             ]
            ],
            "type": "histogram2dcontour"
           }
          ],
          "mesh3d": [
           {
            "colorbar": {
             "outlinewidth": 0,
             "ticks": ""
            },
            "type": "mesh3d"
           }
          ],
          "parcoords": [
           {
            "line": {
             "colorbar": {
              "outlinewidth": 0,
              "ticks": ""
             }
            },
            "type": "parcoords"
           }
          ],
          "pie": [
           {
            "automargin": true,
            "type": "pie"
           }
          ],
          "scatter": [
           {
            "fillpattern": {
             "fillmode": "overlay",
             "size": 10,
             "solidity": 0.2
            },
            "type": "scatter"
           }
          ],
          "scatter3d": [
           {
            "line": {
             "colorbar": {
              "outlinewidth": 0,
              "ticks": ""
             }
            },
            "marker": {
             "colorbar": {
              "outlinewidth": 0,
              "ticks": ""
             }
            },
            "type": "scatter3d"
           }
          ],
          "scattercarpet": [
           {
            "marker": {
             "colorbar": {
              "outlinewidth": 0,
              "ticks": ""
             }
            },
            "type": "scattercarpet"
           }
          ],
          "scattergeo": [
           {
            "marker": {
             "colorbar": {
              "outlinewidth": 0,
              "ticks": ""
             }
            },
            "type": "scattergeo"
           }
          ],
          "scattergl": [
           {
            "marker": {
             "colorbar": {
              "outlinewidth": 0,
              "ticks": ""
             }
            },
            "type": "scattergl"
           }
          ],
          "scattermapbox": [
           {
            "marker": {
             "colorbar": {
              "outlinewidth": 0,
              "ticks": ""
             }
            },
            "type": "scattermapbox"
           }
          ],
          "scatterpolar": [
           {
            "marker": {
             "colorbar": {
              "outlinewidth": 0,
              "ticks": ""
             }
            },
            "type": "scatterpolar"
           }
          ],
          "scatterpolargl": [
           {
            "marker": {
             "colorbar": {
              "outlinewidth": 0,
              "ticks": ""
             }
            },
            "type": "scatterpolargl"
           }
          ],
          "scatterternary": [
           {
            "marker": {
             "colorbar": {
              "outlinewidth": 0,
              "ticks": ""
             }
            },
            "type": "scatterternary"
           }
          ],
          "surface": [
           {
            "colorbar": {
             "outlinewidth": 0,
             "ticks": ""
            },
            "colorscale": [
             [
              0,
              "#0d0887"
             ],
             [
              0.1111111111111111,
              "#46039f"
             ],
             [
              0.2222222222222222,
              "#7201a8"
             ],
             [
              0.3333333333333333,
              "#9c179e"
             ],
             [
              0.4444444444444444,
              "#bd3786"
             ],
             [
              0.5555555555555556,
              "#d8576b"
             ],
             [
              0.6666666666666666,
              "#ed7953"
             ],
             [
              0.7777777777777778,
              "#fb9f3a"
             ],
             [
              0.8888888888888888,
              "#fdca26"
             ],
             [
              1,
              "#f0f921"
             ]
            ],
            "type": "surface"
           }
          ],
          "table": [
           {
            "cells": {
             "fill": {
              "color": "#EBF0F8"
             },
             "line": {
              "color": "white"
             }
            },
            "header": {
             "fill": {
              "color": "#C8D4E3"
             },
             "line": {
              "color": "white"
             }
            },
            "type": "table"
           }
          ]
         },
         "layout": {
          "annotationdefaults": {
           "arrowcolor": "#2a3f5f",
           "arrowhead": 0,
           "arrowwidth": 1
          },
          "autotypenumbers": "strict",
          "coloraxis": {
           "colorbar": {
            "outlinewidth": 0,
            "ticks": ""
           }
          },
          "colorscale": {
           "diverging": [
            [
             0,
             "#8e0152"
            ],
            [
             0.1,
             "#c51b7d"
            ],
            [
             0.2,
             "#de77ae"
            ],
            [
             0.3,
             "#f1b6da"
            ],
            [
             0.4,
             "#fde0ef"
            ],
            [
             0.5,
             "#f7f7f7"
            ],
            [
             0.6,
             "#e6f5d0"
            ],
            [
             0.7,
             "#b8e186"
            ],
            [
             0.8,
             "#7fbc41"
            ],
            [
             0.9,
             "#4d9221"
            ],
            [
             1,
             "#276419"
            ]
           ],
           "sequential": [
            [
             0,
             "#0d0887"
            ],
            [
             0.1111111111111111,
             "#46039f"
            ],
            [
             0.2222222222222222,
             "#7201a8"
            ],
            [
             0.3333333333333333,
             "#9c179e"
            ],
            [
             0.4444444444444444,
             "#bd3786"
            ],
            [
             0.5555555555555556,
             "#d8576b"
            ],
            [
             0.6666666666666666,
             "#ed7953"
            ],
            [
             0.7777777777777778,
             "#fb9f3a"
            ],
            [
             0.8888888888888888,
             "#fdca26"
            ],
            [
             1,
             "#f0f921"
            ]
           ],
           "sequentialminus": [
            [
             0,
             "#0d0887"
            ],
            [
             0.1111111111111111,
             "#46039f"
            ],
            [
             0.2222222222222222,
             "#7201a8"
            ],
            [
             0.3333333333333333,
             "#9c179e"
            ],
            [
             0.4444444444444444,
             "#bd3786"
            ],
            [
             0.5555555555555556,
             "#d8576b"
            ],
            [
             0.6666666666666666,
             "#ed7953"
            ],
            [
             0.7777777777777778,
             "#fb9f3a"
            ],
            [
             0.8888888888888888,
             "#fdca26"
            ],
            [
             1,
             "#f0f921"
            ]
           ]
          },
          "colorway": [
           "#636efa",
           "#EF553B",
           "#00cc96",
           "#ab63fa",
           "#FFA15A",
           "#19d3f3",
           "#FF6692",
           "#B6E880",
           "#FF97FF",
           "#FECB52"
          ],
          "font": {
           "color": "#2a3f5f"
          },
          "geo": {
           "bgcolor": "white",
           "lakecolor": "white",
           "landcolor": "#E5ECF6",
           "showlakes": true,
           "showland": true,
           "subunitcolor": "white"
          },
          "hoverlabel": {
           "align": "left"
          },
          "hovermode": "closest",
          "mapbox": {
           "style": "light"
          },
          "paper_bgcolor": "white",
          "plot_bgcolor": "#E5ECF6",
          "polar": {
           "angularaxis": {
            "gridcolor": "white",
            "linecolor": "white",
            "ticks": ""
           },
           "bgcolor": "#E5ECF6",
           "radialaxis": {
            "gridcolor": "white",
            "linecolor": "white",
            "ticks": ""
           }
          },
          "scene": {
           "xaxis": {
            "backgroundcolor": "#E5ECF6",
            "gridcolor": "white",
            "gridwidth": 2,
            "linecolor": "white",
            "showbackground": true,
            "ticks": "",
            "zerolinecolor": "white"
           },
           "yaxis": {
            "backgroundcolor": "#E5ECF6",
            "gridcolor": "white",
            "gridwidth": 2,
            "linecolor": "white",
            "showbackground": true,
            "ticks": "",
            "zerolinecolor": "white"
           },
           "zaxis": {
            "backgroundcolor": "#E5ECF6",
            "gridcolor": "white",
            "gridwidth": 2,
            "linecolor": "white",
            "showbackground": true,
            "ticks": "",
            "zerolinecolor": "white"
           }
          },
          "shapedefaults": {
           "line": {
            "color": "#2a3f5f"
           }
          },
          "ternary": {
           "aaxis": {
            "gridcolor": "white",
            "linecolor": "white",
            "ticks": ""
           },
           "baxis": {
            "gridcolor": "white",
            "linecolor": "white",
            "ticks": ""
           },
           "bgcolor": "#E5ECF6",
           "caxis": {
            "gridcolor": "white",
            "linecolor": "white",
            "ticks": ""
           }
          },
          "title": {
           "x": 0.05
          },
          "xaxis": {
           "automargin": true,
           "gridcolor": "white",
           "linecolor": "white",
           "ticks": "",
           "title": {
            "standoff": 15
           },
           "zerolinecolor": "white",
           "zerolinewidth": 2
          },
          "yaxis": {
           "automargin": true,
           "gridcolor": "white",
           "linecolor": "white",
           "ticks": "",
           "title": {
            "standoff": 15
           },
           "zerolinecolor": "white",
           "zerolinewidth": 2
          }
         }
        },
        "title": {
         "text": "picarro_corrected"
        },
        "xaxis": {
         "anchor": "y",
         "domain": [
          0,
          1
         ],
         "title": {
          "text": "datetime"
         }
        },
        "yaxis": {
         "anchor": "x",
         "domain": [
          0,
          1
         ],
         "title": {
          "text": "picarro_corrected"
         }
        }
       }
      }
     },
     "metadata": {},
     "output_type": "display_data"
    }
   ],
   "source": [
    "plot_sensor_measurement(df_p,529,col_name=\"picarro_corrected\")"
   ]
  },
  {
   "cell_type": "code",
   "execution_count": 16,
   "metadata": {},
   "outputs": [
    {
     "data": {
      "application/vnd.plotly.v1+json": {
       "config": {
        "plotlyServerURL": "https://plot.ly"
       },
       "data": [
        {
         "hovertemplate": "system_id=6<br>datetime=%{x}<br>wxt532_speed_avg=%{y}<extra></extra>",
         "legendgroup": "6",
         "line": {
          "color": "#636efa",
          "dash": "solid"
         },
         "marker": {
          "symbol": "circle"
         },
         "mode": "lines+markers",
         "name": "6",
         "orientation": "v",
         "showlegend": true,
         "type": "scatter",
         "x": [
          "2025-04-25T00:00:00",
          "2025-04-25T01:00:00",
          "2025-04-25T02:00:00",
          "2025-04-25T03:00:00",
          "2025-04-25T04:00:00",
          "2025-04-25T05:00:00",
          "2025-04-25T06:00:00",
          "2025-04-25T07:00:00",
          "2025-04-25T08:00:00",
          "2025-04-25T09:00:00",
          "2025-04-25T10:00:00",
          "2025-04-25T11:00:00",
          "2025-04-25T12:00:00",
          "2025-04-25T13:00:00",
          "2025-04-25T14:00:00",
          "2025-04-25T15:00:00",
          "2025-04-25T16:00:00",
          "2025-04-25T17:00:00",
          "2025-04-25T18:00:00",
          "2025-04-25T19:00:00",
          "2025-04-25T20:00:00",
          "2025-04-25T21:00:00",
          "2025-04-25T22:00:00",
          "2025-04-25T23:00:00"
         ],
         "xaxis": "x",
         "y": [
          0.9683333333333334,
          1.1099999999999997,
          1.3716666666666664,
          1.4083333333333334,
          1.5983333333333323,
          1.5366666666666675,
          1.3216666666666665,
          1.5816666666666666,
          1.5083333333333335,
          1.5516666666666672,
          1.593333333333333,
          1.9199999999999995,
          1.9516666666666675,
          3.0366666666666666,
          3.3366666666666682,
          3.503333333333333,
          3.073333333333333,
          2.4633333333333334,
          1.9933333333333332,
          1.6216666666666668,
          1.1549999999999998,
          1.9199999999999997,
          1.7416666666666671,
          1.4214285714285713
         ],
         "yaxis": "y"
        }
       ],
       "layout": {
        "legend": {
         "title": {
          "text": "system_id"
         },
         "tracegroupgap": 0
        },
        "template": {
         "data": {
          "bar": [
           {
            "error_x": {
             "color": "#2a3f5f"
            },
            "error_y": {
             "color": "#2a3f5f"
            },
            "marker": {
             "line": {
              "color": "#E5ECF6",
              "width": 0.5
             },
             "pattern": {
              "fillmode": "overlay",
              "size": 10,
              "solidity": 0.2
             }
            },
            "type": "bar"
           }
          ],
          "barpolar": [
           {
            "marker": {
             "line": {
              "color": "#E5ECF6",
              "width": 0.5
             },
             "pattern": {
              "fillmode": "overlay",
              "size": 10,
              "solidity": 0.2
             }
            },
            "type": "barpolar"
           }
          ],
          "carpet": [
           {
            "aaxis": {
             "endlinecolor": "#2a3f5f",
             "gridcolor": "white",
             "linecolor": "white",
             "minorgridcolor": "white",
             "startlinecolor": "#2a3f5f"
            },
            "baxis": {
             "endlinecolor": "#2a3f5f",
             "gridcolor": "white",
             "linecolor": "white",
             "minorgridcolor": "white",
             "startlinecolor": "#2a3f5f"
            },
            "type": "carpet"
           }
          ],
          "choropleth": [
           {
            "colorbar": {
             "outlinewidth": 0,
             "ticks": ""
            },
            "type": "choropleth"
           }
          ],
          "contour": [
           {
            "colorbar": {
             "outlinewidth": 0,
             "ticks": ""
            },
            "colorscale": [
             [
              0,
              "#0d0887"
             ],
             [
              0.1111111111111111,
              "#46039f"
             ],
             [
              0.2222222222222222,
              "#7201a8"
             ],
             [
              0.3333333333333333,
              "#9c179e"
             ],
             [
              0.4444444444444444,
              "#bd3786"
             ],
             [
              0.5555555555555556,
              "#d8576b"
             ],
             [
              0.6666666666666666,
              "#ed7953"
             ],
             [
              0.7777777777777778,
              "#fb9f3a"
             ],
             [
              0.8888888888888888,
              "#fdca26"
             ],
             [
              1,
              "#f0f921"
             ]
            ],
            "type": "contour"
           }
          ],
          "contourcarpet": [
           {
            "colorbar": {
             "outlinewidth": 0,
             "ticks": ""
            },
            "type": "contourcarpet"
           }
          ],
          "heatmap": [
           {
            "colorbar": {
             "outlinewidth": 0,
             "ticks": ""
            },
            "colorscale": [
             [
              0,
              "#0d0887"
             ],
             [
              0.1111111111111111,
              "#46039f"
             ],
             [
              0.2222222222222222,
              "#7201a8"
             ],
             [
              0.3333333333333333,
              "#9c179e"
             ],
             [
              0.4444444444444444,
              "#bd3786"
             ],
             [
              0.5555555555555556,
              "#d8576b"
             ],
             [
              0.6666666666666666,
              "#ed7953"
             ],
             [
              0.7777777777777778,
              "#fb9f3a"
             ],
             [
              0.8888888888888888,
              "#fdca26"
             ],
             [
              1,
              "#f0f921"
             ]
            ],
            "type": "heatmap"
           }
          ],
          "heatmapgl": [
           {
            "colorbar": {
             "outlinewidth": 0,
             "ticks": ""
            },
            "colorscale": [
             [
              0,
              "#0d0887"
             ],
             [
              0.1111111111111111,
              "#46039f"
             ],
             [
              0.2222222222222222,
              "#7201a8"
             ],
             [
              0.3333333333333333,
              "#9c179e"
             ],
             [
              0.4444444444444444,
              "#bd3786"
             ],
             [
              0.5555555555555556,
              "#d8576b"
             ],
             [
              0.6666666666666666,
              "#ed7953"
             ],
             [
              0.7777777777777778,
              "#fb9f3a"
             ],
             [
              0.8888888888888888,
              "#fdca26"
             ],
             [
              1,
              "#f0f921"
             ]
            ],
            "type": "heatmapgl"
           }
          ],
          "histogram": [
           {
            "marker": {
             "pattern": {
              "fillmode": "overlay",
              "size": 10,
              "solidity": 0.2
             }
            },
            "type": "histogram"
           }
          ],
          "histogram2d": [
           {
            "colorbar": {
             "outlinewidth": 0,
             "ticks": ""
            },
            "colorscale": [
             [
              0,
              "#0d0887"
             ],
             [
              0.1111111111111111,
              "#46039f"
             ],
             [
              0.2222222222222222,
              "#7201a8"
             ],
             [
              0.3333333333333333,
              "#9c179e"
             ],
             [
              0.4444444444444444,
              "#bd3786"
             ],
             [
              0.5555555555555556,
              "#d8576b"
             ],
             [
              0.6666666666666666,
              "#ed7953"
             ],
             [
              0.7777777777777778,
              "#fb9f3a"
             ],
             [
              0.8888888888888888,
              "#fdca26"
             ],
             [
              1,
              "#f0f921"
             ]
            ],
            "type": "histogram2d"
           }
          ],
          "histogram2dcontour": [
           {
            "colorbar": {
             "outlinewidth": 0,
             "ticks": ""
            },
            "colorscale": [
             [
              0,
              "#0d0887"
             ],
             [
              0.1111111111111111,
              "#46039f"
             ],
             [
              0.2222222222222222,
              "#7201a8"
             ],
             [
              0.3333333333333333,
              "#9c179e"
             ],
             [
              0.4444444444444444,
              "#bd3786"
             ],
             [
              0.5555555555555556,
              "#d8576b"
             ],
             [
              0.6666666666666666,
              "#ed7953"
             ],
             [
              0.7777777777777778,
              "#fb9f3a"
             ],
             [
              0.8888888888888888,
              "#fdca26"
             ],
             [
              1,
              "#f0f921"
             ]
            ],
            "type": "histogram2dcontour"
           }
          ],
          "mesh3d": [
           {
            "colorbar": {
             "outlinewidth": 0,
             "ticks": ""
            },
            "type": "mesh3d"
           }
          ],
          "parcoords": [
           {
            "line": {
             "colorbar": {
              "outlinewidth": 0,
              "ticks": ""
             }
            },
            "type": "parcoords"
           }
          ],
          "pie": [
           {
            "automargin": true,
            "type": "pie"
           }
          ],
          "scatter": [
           {
            "fillpattern": {
             "fillmode": "overlay",
             "size": 10,
             "solidity": 0.2
            },
            "type": "scatter"
           }
          ],
          "scatter3d": [
           {
            "line": {
             "colorbar": {
              "outlinewidth": 0,
              "ticks": ""
             }
            },
            "marker": {
             "colorbar": {
              "outlinewidth": 0,
              "ticks": ""
             }
            },
            "type": "scatter3d"
           }
          ],
          "scattercarpet": [
           {
            "marker": {
             "colorbar": {
              "outlinewidth": 0,
              "ticks": ""
             }
            },
            "type": "scattercarpet"
           }
          ],
          "scattergeo": [
           {
            "marker": {
             "colorbar": {
              "outlinewidth": 0,
              "ticks": ""
             }
            },
            "type": "scattergeo"
           }
          ],
          "scattergl": [
           {
            "marker": {
             "colorbar": {
              "outlinewidth": 0,
              "ticks": ""
             }
            },
            "type": "scattergl"
           }
          ],
          "scattermapbox": [
           {
            "marker": {
             "colorbar": {
              "outlinewidth": 0,
              "ticks": ""
             }
            },
            "type": "scattermapbox"
           }
          ],
          "scatterpolar": [
           {
            "marker": {
             "colorbar": {
              "outlinewidth": 0,
              "ticks": ""
             }
            },
            "type": "scatterpolar"
           }
          ],
          "scatterpolargl": [
           {
            "marker": {
             "colorbar": {
              "outlinewidth": 0,
              "ticks": ""
             }
            },
            "type": "scatterpolargl"
           }
          ],
          "scatterternary": [
           {
            "marker": {
             "colorbar": {
              "outlinewidth": 0,
              "ticks": ""
             }
            },
            "type": "scatterternary"
           }
          ],
          "surface": [
           {
            "colorbar": {
             "outlinewidth": 0,
             "ticks": ""
            },
            "colorscale": [
             [
              0,
              "#0d0887"
             ],
             [
              0.1111111111111111,
              "#46039f"
             ],
             [
              0.2222222222222222,
              "#7201a8"
             ],
             [
              0.3333333333333333,
              "#9c179e"
             ],
             [
              0.4444444444444444,
              "#bd3786"
             ],
             [
              0.5555555555555556,
              "#d8576b"
             ],
             [
              0.6666666666666666,
              "#ed7953"
             ],
             [
              0.7777777777777778,
              "#fb9f3a"
             ],
             [
              0.8888888888888888,
              "#fdca26"
             ],
             [
              1,
              "#f0f921"
             ]
            ],
            "type": "surface"
           }
          ],
          "table": [
           {
            "cells": {
             "fill": {
              "color": "#EBF0F8"
             },
             "line": {
              "color": "white"
             }
            },
            "header": {
             "fill": {
              "color": "#C8D4E3"
             },
             "line": {
              "color": "white"
             }
            },
            "type": "table"
           }
          ]
         },
         "layout": {
          "annotationdefaults": {
           "arrowcolor": "#2a3f5f",
           "arrowhead": 0,
           "arrowwidth": 1
          },
          "autotypenumbers": "strict",
          "coloraxis": {
           "colorbar": {
            "outlinewidth": 0,
            "ticks": ""
           }
          },
          "colorscale": {
           "diverging": [
            [
             0,
             "#8e0152"
            ],
            [
             0.1,
             "#c51b7d"
            ],
            [
             0.2,
             "#de77ae"
            ],
            [
             0.3,
             "#f1b6da"
            ],
            [
             0.4,
             "#fde0ef"
            ],
            [
             0.5,
             "#f7f7f7"
            ],
            [
             0.6,
             "#e6f5d0"
            ],
            [
             0.7,
             "#b8e186"
            ],
            [
             0.8,
             "#7fbc41"
            ],
            [
             0.9,
             "#4d9221"
            ],
            [
             1,
             "#276419"
            ]
           ],
           "sequential": [
            [
             0,
             "#0d0887"
            ],
            [
             0.1111111111111111,
             "#46039f"
            ],
            [
             0.2222222222222222,
             "#7201a8"
            ],
            [
             0.3333333333333333,
             "#9c179e"
            ],
            [
             0.4444444444444444,
             "#bd3786"
            ],
            [
             0.5555555555555556,
             "#d8576b"
            ],
            [
             0.6666666666666666,
             "#ed7953"
            ],
            [
             0.7777777777777778,
             "#fb9f3a"
            ],
            [
             0.8888888888888888,
             "#fdca26"
            ],
            [
             1,
             "#f0f921"
            ]
           ],
           "sequentialminus": [
            [
             0,
             "#0d0887"
            ],
            [
             0.1111111111111111,
             "#46039f"
            ],
            [
             0.2222222222222222,
             "#7201a8"
            ],
            [
             0.3333333333333333,
             "#9c179e"
            ],
            [
             0.4444444444444444,
             "#bd3786"
            ],
            [
             0.5555555555555556,
             "#d8576b"
            ],
            [
             0.6666666666666666,
             "#ed7953"
            ],
            [
             0.7777777777777778,
             "#fb9f3a"
            ],
            [
             0.8888888888888888,
             "#fdca26"
            ],
            [
             1,
             "#f0f921"
            ]
           ]
          },
          "colorway": [
           "#636efa",
           "#EF553B",
           "#00cc96",
           "#ab63fa",
           "#FFA15A",
           "#19d3f3",
           "#FF6692",
           "#B6E880",
           "#FF97FF",
           "#FECB52"
          ],
          "font": {
           "color": "#2a3f5f"
          },
          "geo": {
           "bgcolor": "white",
           "lakecolor": "white",
           "landcolor": "#E5ECF6",
           "showlakes": true,
           "showland": true,
           "subunitcolor": "white"
          },
          "hoverlabel": {
           "align": "left"
          },
          "hovermode": "closest",
          "mapbox": {
           "style": "light"
          },
          "paper_bgcolor": "white",
          "plot_bgcolor": "#E5ECF6",
          "polar": {
           "angularaxis": {
            "gridcolor": "white",
            "linecolor": "white",
            "ticks": ""
           },
           "bgcolor": "#E5ECF6",
           "radialaxis": {
            "gridcolor": "white",
            "linecolor": "white",
            "ticks": ""
           }
          },
          "scene": {
           "xaxis": {
            "backgroundcolor": "#E5ECF6",
            "gridcolor": "white",
            "gridwidth": 2,
            "linecolor": "white",
            "showbackground": true,
            "ticks": "",
            "zerolinecolor": "white"
           },
           "yaxis": {
            "backgroundcolor": "#E5ECF6",
            "gridcolor": "white",
            "gridwidth": 2,
            "linecolor": "white",
            "showbackground": true,
            "ticks": "",
            "zerolinecolor": "white"
           },
           "zaxis": {
            "backgroundcolor": "#E5ECF6",
            "gridcolor": "white",
            "gridwidth": 2,
            "linecolor": "white",
            "showbackground": true,
            "ticks": "",
            "zerolinecolor": "white"
           }
          },
          "shapedefaults": {
           "line": {
            "color": "#2a3f5f"
           }
          },
          "ternary": {
           "aaxis": {
            "gridcolor": "white",
            "linecolor": "white",
            "ticks": ""
           },
           "baxis": {
            "gridcolor": "white",
            "linecolor": "white",
            "ticks": ""
           },
           "bgcolor": "#E5ECF6",
           "caxis": {
            "gridcolor": "white",
            "linecolor": "white",
            "ticks": ""
           }
          },
          "title": {
           "x": 0.05
          },
          "xaxis": {
           "automargin": true,
           "gridcolor": "white",
           "linecolor": "white",
           "ticks": "",
           "title": {
            "standoff": 15
           },
           "zerolinecolor": "white",
           "zerolinewidth": 2
          },
          "yaxis": {
           "automargin": true,
           "gridcolor": "white",
           "linecolor": "white",
           "ticks": "",
           "title": {
            "standoff": 15
           },
           "zerolinecolor": "white",
           "zerolinewidth": 2
          }
         }
        },
        "title": {
         "text": "wxt532_speed_avg"
        },
        "xaxis": {
         "anchor": "y",
         "domain": [
          0,
          1
         ],
         "title": {
          "text": "datetime"
         }
        },
        "yaxis": {
         "anchor": "x",
         "domain": [
          0,
          1
         ],
         "title": {
          "text": "wxt532_speed_avg"
         }
        }
       }
      }
     },
     "metadata": {},
     "output_type": "display_data"
    }
   ],
   "source": [
    "plot_sensor_measurement(df,ids,col_name=\"wxt532_speed_avg\")"
   ]
  },
  {
   "cell_type": "code",
   "execution_count": 17,
   "metadata": {},
   "outputs": [
    {
     "data": {
      "application/vnd.plotly.v1+json": {
       "config": {
        "plotlyServerURL": "https://plot.ly"
       },
       "data": [
        {
         "hovertemplate": "system_id=3<br>datetime=%{x}<br>sht45_humidity=%{y}<extra></extra>",
         "legendgroup": "3",
         "line": {
          "color": "#636efa",
          "dash": "solid"
         },
         "marker": {
          "symbol": "circle"
         },
         "mode": "lines+markers",
         "name": "3",
         "orientation": "v",
         "showlegend": true,
         "type": "scatter",
         "x": [
          "2025-04-25T00:00:00",
          "2025-04-25T01:00:00",
          "2025-04-25T02:00:00",
          "2025-04-25T03:00:00",
          "2025-04-25T04:00:00",
          "2025-04-25T05:00:00",
          "2025-04-25T06:00:00",
          "2025-04-25T07:00:00",
          "2025-04-25T08:00:00",
          "2025-04-25T09:00:00",
          "2025-04-25T10:00:00",
          "2025-04-25T11:00:00",
          "2025-04-25T12:00:00",
          "2025-04-25T13:00:00",
          "2025-04-25T14:00:00",
          "2025-04-25T15:00:00",
          "2025-04-25T16:00:00",
          "2025-04-25T17:00:00",
          "2025-04-25T18:00:00",
          "2025-04-25T19:00:00",
          "2025-04-25T20:00:00",
          "2025-04-25T21:00:00",
          "2025-04-25T22:00:00",
          "2025-04-25T23:00:00"
         ],
         "xaxis": "x",
         "y": [
          15.64004638888889,
          15.938606111111113,
          15.69079555555556,
          15.66619349206349,
          15.516154166666665,
          15.711445972222227,
          15.919036805555555,
          15.34511427777777,
          14.92106888888889,
          14.645109722222221,
          13.721831269841267,
          13.340623055555556,
          13.132319722222217,
          14.152001944444443,
          13.960301388888887,
          14.533106499999997,
          15.034805555555556,
          15.380022499999995,
          16.267152777777778,
          16.686834166666667,
          15.920310833333337,
          15.976043611111118,
          16.18496570621469,
          27.468708333333336
         ],
         "yaxis": "y"
        },
        {
         "hovertemplate": "system_id=6<br>datetime=%{x}<br>sht45_humidity=%{y}<extra></extra>",
         "legendgroup": "6",
         "line": {
          "color": "#EF553B",
          "dash": "solid"
         },
         "marker": {
          "symbol": "circle"
         },
         "mode": "lines+markers",
         "name": "6",
         "orientation": "v",
         "showlegend": true,
         "type": "scatter",
         "x": [
          "2025-04-25T00:00:00",
          "2025-04-25T01:00:00",
          "2025-04-25T02:00:00",
          "2025-04-25T03:00:00",
          "2025-04-25T04:00:00",
          "2025-04-25T05:00:00",
          "2025-04-25T06:00:00",
          "2025-04-25T07:00:00",
          "2025-04-25T08:00:00",
          "2025-04-25T09:00:00",
          "2025-04-25T10:00:00",
          "2025-04-25T11:00:00",
          "2025-04-25T12:00:00",
          "2025-04-25T13:00:00",
          "2025-04-25T14:00:00",
          "2025-04-25T15:00:00",
          "2025-04-25T16:00:00",
          "2025-04-25T17:00:00",
          "2025-04-25T18:00:00",
          "2025-04-25T19:00:00",
          "2025-04-25T20:00:00",
          "2025-04-25T21:00:00",
          "2025-04-25T22:00:00",
          "2025-04-25T23:00:00"
         ],
         "xaxis": "x",
         "y": [
          29.164327222222223,
          29.798614166666667,
          29.784036111111103,
          29.79368694444445,
          29.57033388888889,
          29.87869888888888,
          32.22144888888889,
          30.7710575,
          29.2251175,
          28.63432388888888,
          25.002495555555566,
          23.74275444444444,
          23.76705027777778,
          26.321978611111113,
          26.213329999999996,
          27.572324999999996,
          28.74023258333333,
          29.518538333333332,
          31.08295152777778,
          31.79921660317459,
          30.592004722222217,
          30.741147777777783,
          31.93252472222222,
          34.93989071428572
         ],
         "yaxis": "y"
        }
       ],
       "layout": {
        "legend": {
         "title": {
          "text": "system_id"
         },
         "tracegroupgap": 0
        },
        "template": {
         "data": {
          "bar": [
           {
            "error_x": {
             "color": "#2a3f5f"
            },
            "error_y": {
             "color": "#2a3f5f"
            },
            "marker": {
             "line": {
              "color": "#E5ECF6",
              "width": 0.5
             },
             "pattern": {
              "fillmode": "overlay",
              "size": 10,
              "solidity": 0.2
             }
            },
            "type": "bar"
           }
          ],
          "barpolar": [
           {
            "marker": {
             "line": {
              "color": "#E5ECF6",
              "width": 0.5
             },
             "pattern": {
              "fillmode": "overlay",
              "size": 10,
              "solidity": 0.2
             }
            },
            "type": "barpolar"
           }
          ],
          "carpet": [
           {
            "aaxis": {
             "endlinecolor": "#2a3f5f",
             "gridcolor": "white",
             "linecolor": "white",
             "minorgridcolor": "white",
             "startlinecolor": "#2a3f5f"
            },
            "baxis": {
             "endlinecolor": "#2a3f5f",
             "gridcolor": "white",
             "linecolor": "white",
             "minorgridcolor": "white",
             "startlinecolor": "#2a3f5f"
            },
            "type": "carpet"
           }
          ],
          "choropleth": [
           {
            "colorbar": {
             "outlinewidth": 0,
             "ticks": ""
            },
            "type": "choropleth"
           }
          ],
          "contour": [
           {
            "colorbar": {
             "outlinewidth": 0,
             "ticks": ""
            },
            "colorscale": [
             [
              0,
              "#0d0887"
             ],
             [
              0.1111111111111111,
              "#46039f"
             ],
             [
              0.2222222222222222,
              "#7201a8"
             ],
             [
              0.3333333333333333,
              "#9c179e"
             ],
             [
              0.4444444444444444,
              "#bd3786"
             ],
             [
              0.5555555555555556,
              "#d8576b"
             ],
             [
              0.6666666666666666,
              "#ed7953"
             ],
             [
              0.7777777777777778,
              "#fb9f3a"
             ],
             [
              0.8888888888888888,
              "#fdca26"
             ],
             [
              1,
              "#f0f921"
             ]
            ],
            "type": "contour"
           }
          ],
          "contourcarpet": [
           {
            "colorbar": {
             "outlinewidth": 0,
             "ticks": ""
            },
            "type": "contourcarpet"
           }
          ],
          "heatmap": [
           {
            "colorbar": {
             "outlinewidth": 0,
             "ticks": ""
            },
            "colorscale": [
             [
              0,
              "#0d0887"
             ],
             [
              0.1111111111111111,
              "#46039f"
             ],
             [
              0.2222222222222222,
              "#7201a8"
             ],
             [
              0.3333333333333333,
              "#9c179e"
             ],
             [
              0.4444444444444444,
              "#bd3786"
             ],
             [
              0.5555555555555556,
              "#d8576b"
             ],
             [
              0.6666666666666666,
              "#ed7953"
             ],
             [
              0.7777777777777778,
              "#fb9f3a"
             ],
             [
              0.8888888888888888,
              "#fdca26"
             ],
             [
              1,
              "#f0f921"
             ]
            ],
            "type": "heatmap"
           }
          ],
          "heatmapgl": [
           {
            "colorbar": {
             "outlinewidth": 0,
             "ticks": ""
            },
            "colorscale": [
             [
              0,
              "#0d0887"
             ],
             [
              0.1111111111111111,
              "#46039f"
             ],
             [
              0.2222222222222222,
              "#7201a8"
             ],
             [
              0.3333333333333333,
              "#9c179e"
             ],
             [
              0.4444444444444444,
              "#bd3786"
             ],
             [
              0.5555555555555556,
              "#d8576b"
             ],
             [
              0.6666666666666666,
              "#ed7953"
             ],
             [
              0.7777777777777778,
              "#fb9f3a"
             ],
             [
              0.8888888888888888,
              "#fdca26"
             ],
             [
              1,
              "#f0f921"
             ]
            ],
            "type": "heatmapgl"
           }
          ],
          "histogram": [
           {
            "marker": {
             "pattern": {
              "fillmode": "overlay",
              "size": 10,
              "solidity": 0.2
             }
            },
            "type": "histogram"
           }
          ],
          "histogram2d": [
           {
            "colorbar": {
             "outlinewidth": 0,
             "ticks": ""
            },
            "colorscale": [
             [
              0,
              "#0d0887"
             ],
             [
              0.1111111111111111,
              "#46039f"
             ],
             [
              0.2222222222222222,
              "#7201a8"
             ],
             [
              0.3333333333333333,
              "#9c179e"
             ],
             [
              0.4444444444444444,
              "#bd3786"
             ],
             [
              0.5555555555555556,
              "#d8576b"
             ],
             [
              0.6666666666666666,
              "#ed7953"
             ],
             [
              0.7777777777777778,
              "#fb9f3a"
             ],
             [
              0.8888888888888888,
              "#fdca26"
             ],
             [
              1,
              "#f0f921"
             ]
            ],
            "type": "histogram2d"
           }
          ],
          "histogram2dcontour": [
           {
            "colorbar": {
             "outlinewidth": 0,
             "ticks": ""
            },
            "colorscale": [
             [
              0,
              "#0d0887"
             ],
             [
              0.1111111111111111,
              "#46039f"
             ],
             [
              0.2222222222222222,
              "#7201a8"
             ],
             [
              0.3333333333333333,
              "#9c179e"
             ],
             [
              0.4444444444444444,
              "#bd3786"
             ],
             [
              0.5555555555555556,
              "#d8576b"
             ],
             [
              0.6666666666666666,
              "#ed7953"
             ],
             [
              0.7777777777777778,
              "#fb9f3a"
             ],
             [
              0.8888888888888888,
              "#fdca26"
             ],
             [
              1,
              "#f0f921"
             ]
            ],
            "type": "histogram2dcontour"
           }
          ],
          "mesh3d": [
           {
            "colorbar": {
             "outlinewidth": 0,
             "ticks": ""
            },
            "type": "mesh3d"
           }
          ],
          "parcoords": [
           {
            "line": {
             "colorbar": {
              "outlinewidth": 0,
              "ticks": ""
             }
            },
            "type": "parcoords"
           }
          ],
          "pie": [
           {
            "automargin": true,
            "type": "pie"
           }
          ],
          "scatter": [
           {
            "fillpattern": {
             "fillmode": "overlay",
             "size": 10,
             "solidity": 0.2
            },
            "type": "scatter"
           }
          ],
          "scatter3d": [
           {
            "line": {
             "colorbar": {
              "outlinewidth": 0,
              "ticks": ""
             }
            },
            "marker": {
             "colorbar": {
              "outlinewidth": 0,
              "ticks": ""
             }
            },
            "type": "scatter3d"
           }
          ],
          "scattercarpet": [
           {
            "marker": {
             "colorbar": {
              "outlinewidth": 0,
              "ticks": ""
             }
            },
            "type": "scattercarpet"
           }
          ],
          "scattergeo": [
           {
            "marker": {
             "colorbar": {
              "outlinewidth": 0,
              "ticks": ""
             }
            },
            "type": "scattergeo"
           }
          ],
          "scattergl": [
           {
            "marker": {
             "colorbar": {
              "outlinewidth": 0,
              "ticks": ""
             }
            },
            "type": "scattergl"
           }
          ],
          "scattermapbox": [
           {
            "marker": {
             "colorbar": {
              "outlinewidth": 0,
              "ticks": ""
             }
            },
            "type": "scattermapbox"
           }
          ],
          "scatterpolar": [
           {
            "marker": {
             "colorbar": {
              "outlinewidth": 0,
              "ticks": ""
             }
            },
            "type": "scatterpolar"
           }
          ],
          "scatterpolargl": [
           {
            "marker": {
             "colorbar": {
              "outlinewidth": 0,
              "ticks": ""
             }
            },
            "type": "scatterpolargl"
           }
          ],
          "scatterternary": [
           {
            "marker": {
             "colorbar": {
              "outlinewidth": 0,
              "ticks": ""
             }
            },
            "type": "scatterternary"
           }
          ],
          "surface": [
           {
            "colorbar": {
             "outlinewidth": 0,
             "ticks": ""
            },
            "colorscale": [
             [
              0,
              "#0d0887"
             ],
             [
              0.1111111111111111,
              "#46039f"
             ],
             [
              0.2222222222222222,
              "#7201a8"
             ],
             [
              0.3333333333333333,
              "#9c179e"
             ],
             [
              0.4444444444444444,
              "#bd3786"
             ],
             [
              0.5555555555555556,
              "#d8576b"
             ],
             [
              0.6666666666666666,
              "#ed7953"
             ],
             [
              0.7777777777777778,
              "#fb9f3a"
             ],
             [
              0.8888888888888888,
              "#fdca26"
             ],
             [
              1,
              "#f0f921"
             ]
            ],
            "type": "surface"
           }
          ],
          "table": [
           {
            "cells": {
             "fill": {
              "color": "#EBF0F8"
             },
             "line": {
              "color": "white"
             }
            },
            "header": {
             "fill": {
              "color": "#C8D4E3"
             },
             "line": {
              "color": "white"
             }
            },
            "type": "table"
           }
          ]
         },
         "layout": {
          "annotationdefaults": {
           "arrowcolor": "#2a3f5f",
           "arrowhead": 0,
           "arrowwidth": 1
          },
          "autotypenumbers": "strict",
          "coloraxis": {
           "colorbar": {
            "outlinewidth": 0,
            "ticks": ""
           }
          },
          "colorscale": {
           "diverging": [
            [
             0,
             "#8e0152"
            ],
            [
             0.1,
             "#c51b7d"
            ],
            [
             0.2,
             "#de77ae"
            ],
            [
             0.3,
             "#f1b6da"
            ],
            [
             0.4,
             "#fde0ef"
            ],
            [
             0.5,
             "#f7f7f7"
            ],
            [
             0.6,
             "#e6f5d0"
            ],
            [
             0.7,
             "#b8e186"
            ],
            [
             0.8,
             "#7fbc41"
            ],
            [
             0.9,
             "#4d9221"
            ],
            [
             1,
             "#276419"
            ]
           ],
           "sequential": [
            [
             0,
             "#0d0887"
            ],
            [
             0.1111111111111111,
             "#46039f"
            ],
            [
             0.2222222222222222,
             "#7201a8"
            ],
            [
             0.3333333333333333,
             "#9c179e"
            ],
            [
             0.4444444444444444,
             "#bd3786"
            ],
            [
             0.5555555555555556,
             "#d8576b"
            ],
            [
             0.6666666666666666,
             "#ed7953"
            ],
            [
             0.7777777777777778,
             "#fb9f3a"
            ],
            [
             0.8888888888888888,
             "#fdca26"
            ],
            [
             1,
             "#f0f921"
            ]
           ],
           "sequentialminus": [
            [
             0,
             "#0d0887"
            ],
            [
             0.1111111111111111,
             "#46039f"
            ],
            [
             0.2222222222222222,
             "#7201a8"
            ],
            [
             0.3333333333333333,
             "#9c179e"
            ],
            [
             0.4444444444444444,
             "#bd3786"
            ],
            [
             0.5555555555555556,
             "#d8576b"
            ],
            [
             0.6666666666666666,
             "#ed7953"
            ],
            [
             0.7777777777777778,
             "#fb9f3a"
            ],
            [
             0.8888888888888888,
             "#fdca26"
            ],
            [
             1,
             "#f0f921"
            ]
           ]
          },
          "colorway": [
           "#636efa",
           "#EF553B",
           "#00cc96",
           "#ab63fa",
           "#FFA15A",
           "#19d3f3",
           "#FF6692",
           "#B6E880",
           "#FF97FF",
           "#FECB52"
          ],
          "font": {
           "color": "#2a3f5f"
          },
          "geo": {
           "bgcolor": "white",
           "lakecolor": "white",
           "landcolor": "#E5ECF6",
           "showlakes": true,
           "showland": true,
           "subunitcolor": "white"
          },
          "hoverlabel": {
           "align": "left"
          },
          "hovermode": "closest",
          "mapbox": {
           "style": "light"
          },
          "paper_bgcolor": "white",
          "plot_bgcolor": "#E5ECF6",
          "polar": {
           "angularaxis": {
            "gridcolor": "white",
            "linecolor": "white",
            "ticks": ""
           },
           "bgcolor": "#E5ECF6",
           "radialaxis": {
            "gridcolor": "white",
            "linecolor": "white",
            "ticks": ""
           }
          },
          "scene": {
           "xaxis": {
            "backgroundcolor": "#E5ECF6",
            "gridcolor": "white",
            "gridwidth": 2,
            "linecolor": "white",
            "showbackground": true,
            "ticks": "",
            "zerolinecolor": "white"
           },
           "yaxis": {
            "backgroundcolor": "#E5ECF6",
            "gridcolor": "white",
            "gridwidth": 2,
            "linecolor": "white",
            "showbackground": true,
            "ticks": "",
            "zerolinecolor": "white"
           },
           "zaxis": {
            "backgroundcolor": "#E5ECF6",
            "gridcolor": "white",
            "gridwidth": 2,
            "linecolor": "white",
            "showbackground": true,
            "ticks": "",
            "zerolinecolor": "white"
           }
          },
          "shapedefaults": {
           "line": {
            "color": "#2a3f5f"
           }
          },
          "ternary": {
           "aaxis": {
            "gridcolor": "white",
            "linecolor": "white",
            "ticks": ""
           },
           "baxis": {
            "gridcolor": "white",
            "linecolor": "white",
            "ticks": ""
           },
           "bgcolor": "#E5ECF6",
           "caxis": {
            "gridcolor": "white",
            "linecolor": "white",
            "ticks": ""
           }
          },
          "title": {
           "x": 0.05
          },
          "xaxis": {
           "automargin": true,
           "gridcolor": "white",
           "linecolor": "white",
           "ticks": "",
           "title": {
            "standoff": 15
           },
           "zerolinecolor": "white",
           "zerolinewidth": 2
          },
          "yaxis": {
           "automargin": true,
           "gridcolor": "white",
           "linecolor": "white",
           "ticks": "",
           "title": {
            "standoff": 15
           },
           "zerolinecolor": "white",
           "zerolinewidth": 2
          }
         }
        },
        "title": {
         "text": "sht45_humidity"
        },
        "xaxis": {
         "anchor": "y",
         "domain": [
          0,
          1
         ],
         "title": {
          "text": "datetime"
         }
        },
        "yaxis": {
         "anchor": "x",
         "domain": [
          0,
          1
         ],
         "title": {
          "text": "sht45_humidity"
         }
        }
       }
      }
     },
     "metadata": {},
     "output_type": "display_data"
    }
   ],
   "source": [
    "plot_sensor_measurement(df,ids,col_name=\"sht45_humidity\")"
   ]
  },
  {
   "cell_type": "code",
   "execution_count": 15,
   "metadata": {},
   "outputs": [
    {
     "data": {
      "application/vnd.plotly.v1+json": {
       "config": {
        "plotlyServerURL": "https://plot.ly"
       },
       "data": [
        {
         "hovertemplate": "system_id=3<br>datetime=%{x}<br>h2o_v%=%{y}<extra></extra>",
         "legendgroup": "3",
         "line": {
          "color": "#636efa",
          "dash": "solid"
         },
         "marker": {
          "symbol": "circle"
         },
         "mode": "lines+markers",
         "name": "3",
         "orientation": "v",
         "showlegend": true,
         "type": "scatter",
         "x": [
          "2025-04-25T00:00:00",
          "2025-04-25T01:00:00",
          "2025-04-25T02:00:00",
          "2025-04-25T03:00:00",
          "2025-04-25T04:00:00",
          "2025-04-25T05:00:00",
          "2025-04-25T06:00:00",
          "2025-04-25T07:00:00",
          "2025-04-25T08:00:00",
          "2025-04-25T09:00:00",
          "2025-04-25T10:00:00",
          "2025-04-25T11:00:00",
          "2025-04-25T12:00:00",
          "2025-04-25T13:00:00",
          "2025-04-25T14:00:00",
          "2025-04-25T15:00:00",
          "2025-04-25T16:00:00",
          "2025-04-25T17:00:00",
          "2025-04-25T18:00:00",
          "2025-04-25T19:00:00",
          "2025-04-25T20:00:00",
          "2025-04-25T21:00:00",
          "2025-04-25T22:00:00",
          "2025-04-25T23:00:00"
         ],
         "xaxis": "x",
         "y": [
          1.4149191294264745,
          1.4416020297045042,
          1.4196746188761742,
          1.4177929736354498,
          1.4041865860888803,
          1.4212535304729004,
          1.440098121892341,
          1.3879405115298589,
          1.3490840340452437,
          1.3243083343545081,
          1.2410983648399923,
          1.2072719180621545,
          1.1883528440246096,
          1.2802978657354542,
          1.262436796160144,
          1.314186951047614,
          1.3593939336536438,
          1.3897804050941764,
          1.4694365005038001,
          1.5063905337357697,
          1.436990203279414,
          1.4421889480088517,
          1.4605438127053954,
          1.3078907159084725
         ],
         "yaxis": "y"
        },
        {
         "hovertemplate": "system_id=6<br>datetime=%{x}<br>h2o_v%=%{y}<extra></extra>",
         "legendgroup": "6",
         "line": {
          "color": "#EF553B",
          "dash": "solid"
         },
         "marker": {
          "symbol": "circle"
         },
         "mode": "lines+markers",
         "name": "6",
         "orientation": "v",
         "showlegend": true,
         "type": "scatter",
         "x": [
          "2025-04-25T00:00:00",
          "2025-04-25T01:00:00",
          "2025-04-25T02:00:00",
          "2025-04-25T03:00:00",
          "2025-04-25T04:00:00",
          "2025-04-25T05:00:00",
          "2025-04-25T06:00:00",
          "2025-04-25T07:00:00",
          "2025-04-25T08:00:00",
          "2025-04-25T09:00:00",
          "2025-04-25T10:00:00",
          "2025-04-25T11:00:00",
          "2025-04-25T12:00:00",
          "2025-04-25T13:00:00",
          "2025-04-25T14:00:00",
          "2025-04-25T15:00:00",
          "2025-04-25T16:00:00",
          "2025-04-25T17:00:00",
          "2025-04-25T18:00:00",
          "2025-04-25T19:00:00",
          "2025-04-25T20:00:00",
          "2025-04-25T21:00:00",
          "2025-04-25T22:00:00",
          "2025-04-25T23:00:00"
         ],
         "xaxis": "x",
         "y": [
          1.3238832867113712,
          1.345989929805764,
          1.3453231504686909,
          1.3429571753321627,
          1.3326294797334615,
          1.3459891492260776,
          1.4519072568141032,
          1.3726970890237833,
          1.2941887410847075,
          1.2694100150207992,
          1.1220969692550053,
          1.098152144808214,
          1.081517449727063,
          1.1706225862834019,
          1.1445979880586459,
          1.1886377180807028,
          1.2271339581328176,
          1.2578215122037137,
          1.337287244839431,
          1.3704414073159958,
          1.3389807101640563,
          1.3348007284465464,
          1.3338924417411357,
          1.3183015624786252
         ],
         "yaxis": "y"
        }
       ],
       "layout": {
        "legend": {
         "title": {
          "text": "system_id"
         },
         "tracegroupgap": 0
        },
        "template": {
         "data": {
          "bar": [
           {
            "error_x": {
             "color": "#2a3f5f"
            },
            "error_y": {
             "color": "#2a3f5f"
            },
            "marker": {
             "line": {
              "color": "#E5ECF6",
              "width": 0.5
             },
             "pattern": {
              "fillmode": "overlay",
              "size": 10,
              "solidity": 0.2
             }
            },
            "type": "bar"
           }
          ],
          "barpolar": [
           {
            "marker": {
             "line": {
              "color": "#E5ECF6",
              "width": 0.5
             },
             "pattern": {
              "fillmode": "overlay",
              "size": 10,
              "solidity": 0.2
             }
            },
            "type": "barpolar"
           }
          ],
          "carpet": [
           {
            "aaxis": {
             "endlinecolor": "#2a3f5f",
             "gridcolor": "white",
             "linecolor": "white",
             "minorgridcolor": "white",
             "startlinecolor": "#2a3f5f"
            },
            "baxis": {
             "endlinecolor": "#2a3f5f",
             "gridcolor": "white",
             "linecolor": "white",
             "minorgridcolor": "white",
             "startlinecolor": "#2a3f5f"
            },
            "type": "carpet"
           }
          ],
          "choropleth": [
           {
            "colorbar": {
             "outlinewidth": 0,
             "ticks": ""
            },
            "type": "choropleth"
           }
          ],
          "contour": [
           {
            "colorbar": {
             "outlinewidth": 0,
             "ticks": ""
            },
            "colorscale": [
             [
              0,
              "#0d0887"
             ],
             [
              0.1111111111111111,
              "#46039f"
             ],
             [
              0.2222222222222222,
              "#7201a8"
             ],
             [
              0.3333333333333333,
              "#9c179e"
             ],
             [
              0.4444444444444444,
              "#bd3786"
             ],
             [
              0.5555555555555556,
              "#d8576b"
             ],
             [
              0.6666666666666666,
              "#ed7953"
             ],
             [
              0.7777777777777778,
              "#fb9f3a"
             ],
             [
              0.8888888888888888,
              "#fdca26"
             ],
             [
              1,
              "#f0f921"
             ]
            ],
            "type": "contour"
           }
          ],
          "contourcarpet": [
           {
            "colorbar": {
             "outlinewidth": 0,
             "ticks": ""
            },
            "type": "contourcarpet"
           }
          ],
          "heatmap": [
           {
            "colorbar": {
             "outlinewidth": 0,
             "ticks": ""
            },
            "colorscale": [
             [
              0,
              "#0d0887"
             ],
             [
              0.1111111111111111,
              "#46039f"
             ],
             [
              0.2222222222222222,
              "#7201a8"
             ],
             [
              0.3333333333333333,
              "#9c179e"
             ],
             [
              0.4444444444444444,
              "#bd3786"
             ],
             [
              0.5555555555555556,
              "#d8576b"
             ],
             [
              0.6666666666666666,
              "#ed7953"
             ],
             [
              0.7777777777777778,
              "#fb9f3a"
             ],
             [
              0.8888888888888888,
              "#fdca26"
             ],
             [
              1,
              "#f0f921"
             ]
            ],
            "type": "heatmap"
           }
          ],
          "heatmapgl": [
           {
            "colorbar": {
             "outlinewidth": 0,
             "ticks": ""
            },
            "colorscale": [
             [
              0,
              "#0d0887"
             ],
             [
              0.1111111111111111,
              "#46039f"
             ],
             [
              0.2222222222222222,
              "#7201a8"
             ],
             [
              0.3333333333333333,
              "#9c179e"
             ],
             [
              0.4444444444444444,
              "#bd3786"
             ],
             [
              0.5555555555555556,
              "#d8576b"
             ],
             [
              0.6666666666666666,
              "#ed7953"
             ],
             [
              0.7777777777777778,
              "#fb9f3a"
             ],
             [
              0.8888888888888888,
              "#fdca26"
             ],
             [
              1,
              "#f0f921"
             ]
            ],
            "type": "heatmapgl"
           }
          ],
          "histogram": [
           {
            "marker": {
             "pattern": {
              "fillmode": "overlay",
              "size": 10,
              "solidity": 0.2
             }
            },
            "type": "histogram"
           }
          ],
          "histogram2d": [
           {
            "colorbar": {
             "outlinewidth": 0,
             "ticks": ""
            },
            "colorscale": [
             [
              0,
              "#0d0887"
             ],
             [
              0.1111111111111111,
              "#46039f"
             ],
             [
              0.2222222222222222,
              "#7201a8"
             ],
             [
              0.3333333333333333,
              "#9c179e"
             ],
             [
              0.4444444444444444,
              "#bd3786"
             ],
             [
              0.5555555555555556,
              "#d8576b"
             ],
             [
              0.6666666666666666,
              "#ed7953"
             ],
             [
              0.7777777777777778,
              "#fb9f3a"
             ],
             [
              0.8888888888888888,
              "#fdca26"
             ],
             [
              1,
              "#f0f921"
             ]
            ],
            "type": "histogram2d"
           }
          ],
          "histogram2dcontour": [
           {
            "colorbar": {
             "outlinewidth": 0,
             "ticks": ""
            },
            "colorscale": [
             [
              0,
              "#0d0887"
             ],
             [
              0.1111111111111111,
              "#46039f"
             ],
             [
              0.2222222222222222,
              "#7201a8"
             ],
             [
              0.3333333333333333,
              "#9c179e"
             ],
             [
              0.4444444444444444,
              "#bd3786"
             ],
             [
              0.5555555555555556,
              "#d8576b"
             ],
             [
              0.6666666666666666,
              "#ed7953"
             ],
             [
              0.7777777777777778,
              "#fb9f3a"
             ],
             [
              0.8888888888888888,
              "#fdca26"
             ],
             [
              1,
              "#f0f921"
             ]
            ],
            "type": "histogram2dcontour"
           }
          ],
          "mesh3d": [
           {
            "colorbar": {
             "outlinewidth": 0,
             "ticks": ""
            },
            "type": "mesh3d"
           }
          ],
          "parcoords": [
           {
            "line": {
             "colorbar": {
              "outlinewidth": 0,
              "ticks": ""
             }
            },
            "type": "parcoords"
           }
          ],
          "pie": [
           {
            "automargin": true,
            "type": "pie"
           }
          ],
          "scatter": [
           {
            "fillpattern": {
             "fillmode": "overlay",
             "size": 10,
             "solidity": 0.2
            },
            "type": "scatter"
           }
          ],
          "scatter3d": [
           {
            "line": {
             "colorbar": {
              "outlinewidth": 0,
              "ticks": ""
             }
            },
            "marker": {
             "colorbar": {
              "outlinewidth": 0,
              "ticks": ""
             }
            },
            "type": "scatter3d"
           }
          ],
          "scattercarpet": [
           {
            "marker": {
             "colorbar": {
              "outlinewidth": 0,
              "ticks": ""
             }
            },
            "type": "scattercarpet"
           }
          ],
          "scattergeo": [
           {
            "marker": {
             "colorbar": {
              "outlinewidth": 0,
              "ticks": ""
             }
            },
            "type": "scattergeo"
           }
          ],
          "scattergl": [
           {
            "marker": {
             "colorbar": {
              "outlinewidth": 0,
              "ticks": ""
             }
            },
            "type": "scattergl"
           }
          ],
          "scattermapbox": [
           {
            "marker": {
             "colorbar": {
              "outlinewidth": 0,
              "ticks": ""
             }
            },
            "type": "scattermapbox"
           }
          ],
          "scatterpolar": [
           {
            "marker": {
             "colorbar": {
              "outlinewidth": 0,
              "ticks": ""
             }
            },
            "type": "scatterpolar"
           }
          ],
          "scatterpolargl": [
           {
            "marker": {
             "colorbar": {
              "outlinewidth": 0,
              "ticks": ""
             }
            },
            "type": "scatterpolargl"
           }
          ],
          "scatterternary": [
           {
            "marker": {
             "colorbar": {
              "outlinewidth": 0,
              "ticks": ""
             }
            },
            "type": "scatterternary"
           }
          ],
          "surface": [
           {
            "colorbar": {
             "outlinewidth": 0,
             "ticks": ""
            },
            "colorscale": [
             [
              0,
              "#0d0887"
             ],
             [
              0.1111111111111111,
              "#46039f"
             ],
             [
              0.2222222222222222,
              "#7201a8"
             ],
             [
              0.3333333333333333,
              "#9c179e"
             ],
             [
              0.4444444444444444,
              "#bd3786"
             ],
             [
              0.5555555555555556,
              "#d8576b"
             ],
             [
              0.6666666666666666,
              "#ed7953"
             ],
             [
              0.7777777777777778,
              "#fb9f3a"
             ],
             [
              0.8888888888888888,
              "#fdca26"
             ],
             [
              1,
              "#f0f921"
             ]
            ],
            "type": "surface"
           }
          ],
          "table": [
           {
            "cells": {
             "fill": {
              "color": "#EBF0F8"
             },
             "line": {
              "color": "white"
             }
            },
            "header": {
             "fill": {
              "color": "#C8D4E3"
             },
             "line": {
              "color": "white"
             }
            },
            "type": "table"
           }
          ]
         },
         "layout": {
          "annotationdefaults": {
           "arrowcolor": "#2a3f5f",
           "arrowhead": 0,
           "arrowwidth": 1
          },
          "autotypenumbers": "strict",
          "coloraxis": {
           "colorbar": {
            "outlinewidth": 0,
            "ticks": ""
           }
          },
          "colorscale": {
           "diverging": [
            [
             0,
             "#8e0152"
            ],
            [
             0.1,
             "#c51b7d"
            ],
            [
             0.2,
             "#de77ae"
            ],
            [
             0.3,
             "#f1b6da"
            ],
            [
             0.4,
             "#fde0ef"
            ],
            [
             0.5,
             "#f7f7f7"
            ],
            [
             0.6,
             "#e6f5d0"
            ],
            [
             0.7,
             "#b8e186"
            ],
            [
             0.8,
             "#7fbc41"
            ],
            [
             0.9,
             "#4d9221"
            ],
            [
             1,
             "#276419"
            ]
           ],
           "sequential": [
            [
             0,
             "#0d0887"
            ],
            [
             0.1111111111111111,
             "#46039f"
            ],
            [
             0.2222222222222222,
             "#7201a8"
            ],
            [
             0.3333333333333333,
             "#9c179e"
            ],
            [
             0.4444444444444444,
             "#bd3786"
            ],
            [
             0.5555555555555556,
             "#d8576b"
            ],
            [
             0.6666666666666666,
             "#ed7953"
            ],
            [
             0.7777777777777778,
             "#fb9f3a"
            ],
            [
             0.8888888888888888,
             "#fdca26"
            ],
            [
             1,
             "#f0f921"
            ]
           ],
           "sequentialminus": [
            [
             0,
             "#0d0887"
            ],
            [
             0.1111111111111111,
             "#46039f"
            ],
            [
             0.2222222222222222,
             "#7201a8"
            ],
            [
             0.3333333333333333,
             "#9c179e"
            ],
            [
             0.4444444444444444,
             "#bd3786"
            ],
            [
             0.5555555555555556,
             "#d8576b"
            ],
            [
             0.6666666666666666,
             "#ed7953"
            ],
            [
             0.7777777777777778,
             "#fb9f3a"
            ],
            [
             0.8888888888888888,
             "#fdca26"
            ],
            [
             1,
             "#f0f921"
            ]
           ]
          },
          "colorway": [
           "#636efa",
           "#EF553B",
           "#00cc96",
           "#ab63fa",
           "#FFA15A",
           "#19d3f3",
           "#FF6692",
           "#B6E880",
           "#FF97FF",
           "#FECB52"
          ],
          "font": {
           "color": "#2a3f5f"
          },
          "geo": {
           "bgcolor": "white",
           "lakecolor": "white",
           "landcolor": "#E5ECF6",
           "showlakes": true,
           "showland": true,
           "subunitcolor": "white"
          },
          "hoverlabel": {
           "align": "left"
          },
          "hovermode": "closest",
          "mapbox": {
           "style": "light"
          },
          "paper_bgcolor": "white",
          "plot_bgcolor": "#E5ECF6",
          "polar": {
           "angularaxis": {
            "gridcolor": "white",
            "linecolor": "white",
            "ticks": ""
           },
           "bgcolor": "#E5ECF6",
           "radialaxis": {
            "gridcolor": "white",
            "linecolor": "white",
            "ticks": ""
           }
          },
          "scene": {
           "xaxis": {
            "backgroundcolor": "#E5ECF6",
            "gridcolor": "white",
            "gridwidth": 2,
            "linecolor": "white",
            "showbackground": true,
            "ticks": "",
            "zerolinecolor": "white"
           },
           "yaxis": {
            "backgroundcolor": "#E5ECF6",
            "gridcolor": "white",
            "gridwidth": 2,
            "linecolor": "white",
            "showbackground": true,
            "ticks": "",
            "zerolinecolor": "white"
           },
           "zaxis": {
            "backgroundcolor": "#E5ECF6",
            "gridcolor": "white",
            "gridwidth": 2,
            "linecolor": "white",
            "showbackground": true,
            "ticks": "",
            "zerolinecolor": "white"
           }
          },
          "shapedefaults": {
           "line": {
            "color": "#2a3f5f"
           }
          },
          "ternary": {
           "aaxis": {
            "gridcolor": "white",
            "linecolor": "white",
            "ticks": ""
           },
           "baxis": {
            "gridcolor": "white",
            "linecolor": "white",
            "ticks": ""
           },
           "bgcolor": "#E5ECF6",
           "caxis": {
            "gridcolor": "white",
            "linecolor": "white",
            "ticks": ""
           }
          },
          "title": {
           "x": 0.05
          },
          "xaxis": {
           "automargin": true,
           "gridcolor": "white",
           "linecolor": "white",
           "ticks": "",
           "title": {
            "standoff": 15
           },
           "zerolinecolor": "white",
           "zerolinewidth": 2
          },
          "yaxis": {
           "automargin": true,
           "gridcolor": "white",
           "linecolor": "white",
           "ticks": "",
           "title": {
            "standoff": 15
           },
           "zerolinecolor": "white",
           "zerolinewidth": 2
          }
         }
        },
        "title": {
         "text": "h2o_v%"
        },
        "xaxis": {
         "anchor": "y",
         "domain": [
          0,
          1
         ],
         "title": {
          "text": "datetime"
         }
        },
        "yaxis": {
         "anchor": "x",
         "domain": [
          0,
          1
         ],
         "title": {
          "text": "h2o_v%"
         }
        }
       }
      }
     },
     "metadata": {},
     "output_type": "display_data"
    }
   ],
   "source": [
    "plot_sensor_measurement(df,ids,col_name=\"h2o_v%\")"
   ]
  },
  {
   "cell_type": "code",
   "execution_count": null,
   "metadata": {},
   "outputs": [],
   "source": [
    "plot_sensor_measurement(df,ids,col_name=\"bme280_humidity\")"
   ]
  },
  {
   "cell_type": "code",
   "execution_count": null,
   "metadata": {},
   "outputs": [],
   "source": [
    "plot_sensor_measurement(df,ids,col_name=\"ups_powered_by_grid\")"
   ]
  },
  {
   "cell_type": "code",
   "execution_count": null,
   "metadata": {},
   "outputs": [],
   "source": [
    "plot_sensor_measurement(df,ids,col_name=\"bme280_h2o_v%\")"
   ]
  },
  {
   "cell_type": "code",
   "execution_count": null,
   "metadata": {},
   "outputs": [],
   "source": [
    "df_plot = df.with_columns(diff_inflow_humidity = (pl.col(\"sht45_humidity\") - pl.col(\"bme280_humidity\"))) \\\n",
    "    .filter(pl.col(\"diff_inflow_humidity\").is_not_nan()) \\\n",
    "    .select(\"datetime\", \"diff_inflow_humidity\", \"system_id\") \\\n",
    "    .sort(\"system_id\")\n",
    "    \n",
    "plot_sensor_measurement(df_plot,ids,col_name=\"diff_inflow_humidity\")"
   ]
  },
  {
   "cell_type": "code",
   "execution_count": null,
   "metadata": {},
   "outputs": [],
   "source": [
    "df_plot = df.with_columns(diff_inflow_humidity = (pl.col(\"h2o_v%\") - pl.col(\"bme280_h2o_v%\"))) \\\n",
    "    .filter(pl.col(\"diff_inflow_humidity\").is_not_nan()) \\\n",
    "    .select(\"datetime\", \"diff_inflow_humidity\", \"system_id\") \\\n",
    "    .sort(\"system_id\")\n",
    "    \n",
    "plot_sensor_measurement(df_plot,ids,col_name=\"diff_inflow_humidity\")"
   ]
  },
  {
   "cell_type": "code",
   "execution_count": null,
   "metadata": {},
   "outputs": [],
   "source": [
    "plot_sensor_measurement(df,ids,col_name=\"sht45_temperature\")"
   ]
  },
  {
   "cell_type": "code",
   "execution_count": null,
   "metadata": {},
   "outputs": [],
   "source": [
    "plot_sensor_measurement(df,ids,col_name=\"bme280_temperature\")"
   ]
  },
  {
   "cell_type": "code",
   "execution_count": null,
   "metadata": {},
   "outputs": [],
   "source": [
    "df_plot = df.with_columns(diff_inflow_temperature = (pl.col(\"sht45_temperature\") - pl.col(\"bme280_temperature\"))) \\\n",
    "    .filter(pl.col(\"diff_inflow_temperature\").is_not_nan()) \\\n",
    "    .select(\"datetime\", \"diff_inflow_temperature\", \"system_id\") \\\n",
    "    .sort(\"system_id\")\n",
    "    \n",
    "plot_sensor_measurement(df_plot,ids,col_name=\"diff_inflow_temperature\")"
   ]
  },
  {
   "cell_type": "code",
   "execution_count": null,
   "metadata": {},
   "outputs": [],
   "source": [
    "plot_sensor_measurement(df,ids,col_name=\"bme280_pressure\")"
   ]
  },
  {
   "cell_type": "code",
   "execution_count": null,
   "metadata": {},
   "outputs": [],
   "source": [
    "plot_sensor_measurement(df,ids,col_name=\"enclosure_bme280_temperature\")"
   ]
  },
  {
   "cell_type": "code",
   "execution_count": null,
   "metadata": {},
   "outputs": [],
   "source": [
    "plot_sensor_measurement(df,ids=ids,col_name=\"gmp343_raw\")"
   ]
  },
  {
   "cell_type": "code",
   "execution_count": null,
   "metadata": {},
   "outputs": [],
   "source": [
    "plot_sensor_measurement(df,ids,col_name=\"gmp343_compensated\")"
   ]
  },
  {
   "cell_type": "code",
   "execution_count": null,
   "metadata": {},
   "outputs": [],
   "source": [
    "plot_sensor_measurement(df,ids,col_name=\"wxt532_temperature\")"
   ]
  },
  {
   "cell_type": "code",
   "execution_count": null,
   "metadata": {},
   "outputs": [],
   "source": [
    "# KLEG\n",
    "plot_co2_rose(df, 1, 'Klenze Gymnasium')\n",
    "\n",
    "# X\n",
    "#plot_co2_rose(df, 2, 'X')\n",
    "\n",
    "# X\n",
    "#plot_co2_rose(df, 3, 'X')\n",
    "\n",
    "# X\n",
    "#plot_co2_rose(df, 4, 'X')\n",
    "\n",
    "# DLRO\n",
    "plot_co2_rose(df, 5, 'DLR')\n",
    "\n",
    "# TUMN\n",
    "plot_co2_rose(df, 6, 'TUM')\n",
    "\n",
    "# FB85\n",
    "#plot_co2_rose(df, 7, 'Blutenburgturm 85m')\n",
    "\n",
    "# KRDI\n",
    "plot_co2_rose(df, 8, 'Klinikum Rechts-der-Isar')\n",
    "\n",
    "# KNPL\n",
    "plot_co2_rose(df, 9, 'Klinikum Neuperlach')\n",
    "\n",
    "# SWGG\n",
    "plot_co2_rose(df, 10, 'Städtisches Willi Graf Gymnasium')\n",
    "\n",
    "# RFIN\n",
    "plot_co2_rose(df, 11, 'Rathaus Finsing')\n",
    "\n",
    "# WKRT\n",
    "plot_co2_rose(df, 12, 'Walter-Klingenbeck-Realschule')\n",
    "\n",
    "# RFEL\n",
    "plot_co2_rose(df, 13, 'Rathaus Feldkirchen')\n",
    "\n",
    "# FB48\n",
    "#plot_co2_rose(df, 14, 'Blutenburgturm 48m')\n",
    "\n",
    "# SWMZ\n",
    "plot_co2_rose(df, 15, 'Stadtwerke München Zentrale')\n",
    "\n",
    "# SMAI\n",
    "plot_co2_rose(df, 16, 'Schule Maisach')\n",
    "\n",
    "# KBOG\n",
    "#plot_co2_rose(df, 17, 'Klinikum Bogenhausen')\n",
    "\n",
    "# SBBG\n",
    "plot_co2_rose(df, 18, 'Städtisches Bertolt Brecht Gymnasium')\n",
    "\n",
    "# X\n",
    "#plot_o2_rose(df, 19, 'X')\n",
    "\n",
    "# LGRO\n",
    "plot_co2_rose(df, 20, 'LMU Großhadern')\n",
    "\n"
   ]
  },
  {
   "cell_type": "code",
   "execution_count": null,
   "metadata": {},
   "outputs": [],
   "source": [
    "# KLEG\n",
    "plot_wind_rose(df, 1, 'Klenze Gymnasium')\n",
    "\n",
    "# X\n",
    "#plot_wind_rose(df, 2, 'X')\n",
    "\n",
    "# X\n",
    "#plot_wind_rose(df, 3, 'X')\n",
    "\n",
    "# X\n",
    "#plot_wind_rose(df, 4, 'X')\n",
    "\n",
    "# DLRO\n",
    "plot_wind_rose(df, 5, 'DLR')\n",
    "\n",
    "# TUMN\n",
    "plot_wind_rose(df, 6, 'TUM')\n",
    "\n",
    "# FB85\n",
    "#plot_wind_rose(df, 7, 'Blutenburgturm 85m')\n",
    "\n",
    "# KRDI\n",
    "plot_wind_rose(df, 8, 'Klinikum Rechts-der-Isar')\n",
    "\n",
    "# KNPL\n",
    "plot_wind_rose(df, 9, 'Klinikum Neuperlach')\n",
    "\n",
    "# SWGG\n",
    "plot_wind_rose(df, 10, 'Städtisches Willi Graf Gymnasium')\n",
    "\n",
    "# RFIN\n",
    "plot_wind_rose(df, 11, 'Rathaus Finsing')\n",
    "\n",
    "# WKRT\n",
    "plot_wind_rose(df, 12, 'Walter-Klingenbeck-Realschule')\n",
    "\n",
    "# RFEL\n",
    "plot_wind_rose(df, 13, 'Rathaus Feldkirchen')\n",
    "\n",
    "# FB48\n",
    "#plot_wind_rose(df, 14, 'Blutenburgturm 48m')\n",
    "\n",
    "# SWMZ\n",
    "plot_wind_rose(df, 15, 'Stadtwerke München Zentrale')\n",
    "\n",
    "# SMAI\n",
    "plot_wind_rose(df, 16, 'Schule Maisach')\n",
    "\n",
    "# KBOG\n",
    "#plot_wind_rose(df, 17, 'Klinikum Bogenhausen')\n",
    "\n",
    "# SBBG\n",
    "plot_wind_rose(df, 18, 'Städtisches Bertolt Brecht Gymnasium')\n",
    "\n",
    "# X\n",
    "#plot_o2_rose(df, 19, 'X')\n",
    "\n",
    "# LGRO\n",
    "plot_wind_rose(df, 20, 'LMU Großhadern')\n",
    "\n"
   ]
  },
  {
   "cell_type": "code",
   "execution_count": null,
   "metadata": {},
   "outputs": [],
   "source": [
    "plot_sensor_measurement(df,ids,col_name=\"wxt532_direction_avg\")"
   ]
  },
  {
   "cell_type": "code",
   "execution_count": null,
   "metadata": {},
   "outputs": [],
   "source": [
    "plot_sensor_measurement(df,ids,col_name=\"raspi_cpu_usage\")"
   ]
  },
  {
   "cell_type": "code",
   "execution_count": null,
   "metadata": {},
   "outputs": [],
   "source": [
    "plot_sensor_measurement(df,ids,col_name=\"raspi_memory_usage\")\n"
   ]
  },
  {
   "cell_type": "code",
   "execution_count": null,
   "metadata": {},
   "outputs": [],
   "source": [
    "plot_sensor_measurement(df,ids,col_name=\"raspi_disk_usage\")\n"
   ]
  },
  {
   "cell_type": "code",
   "execution_count": null,
   "metadata": {},
   "outputs": [],
   "source": [
    "plot_sensor_measurement(df,ids,col_name=\"raspi_cpu_temperature\")"
   ]
  },
  {
   "cell_type": "code",
   "execution_count": null,
   "metadata": {},
   "outputs": [],
   "source": [
    "plot_sensor_measurement(df,ids,col_name=\"enclosure_bme280_pressure\")"
   ]
  },
  {
   "cell_type": "code",
   "execution_count": null,
   "metadata": {},
   "outputs": [],
   "source": [
    "df_plot = df.with_columns(pl.col(\"enclosure_bme280_pressure\").forward_fill().backward_fill()) \\\n",
    "    .with_columns(measurement_pressure = (pl.col(\"bme280_pressure\") - pl.col(\"enclosure_bme280_pressure\"))) \\\n",
    "    .filter(pl.col(\"measurement_pressure\").is_not_nan()) \\\n",
    "    .select(\"datetime\", \"measurement_pressure\", \"system_id\") \\\n",
    "    .sort(\"system_id\")\n",
    "    \n",
    "\n",
    "import matplotlib.pyplot as plt\n",
    "import polars as pl\n",
    "\n",
    "for id in ids:\n",
    "    \n",
    "    # Filter data for the given system_id\n",
    "    filtered_df = (\n",
    "    df_plot.filter(pl.col(\"system_id\") == id)\n",
    ")\n",
    "\n",
    "    # Plot using Matplotlib\n",
    "    plt.figure(figsize=(10, 6))\n",
    "    plt.plot(\n",
    "        filtered_df[\"datetime\"], \n",
    "        filtered_df[\"measurement_pressure\"], \n",
    "        marker='o', \n",
    "        label=f\"System {id}\"\n",
    "    )\n",
    "\n",
    "    # Customize plot\n",
    "    plt.title(f\"Pressure Drop During Measurement for System {id}\", fontsize=14)\n",
    "    plt.xlabel(\"Timestamp\", fontsize=12)\n",
    "    plt.ylabel(\"measurement_pressure\", fontsize=12)\n",
    "    plt.xticks(rotation=45)\n",
    "    plt.grid(True, linestyle='--', alpha=0.6)\n",
    "    plt.legend(fontsize=12)\n",
    "\n",
    "    # Show the plot\n",
    "    plt.tight_layout()\n",
    "    plt.show()"
   ]
  },
  {
   "cell_type": "markdown",
   "metadata": {},
   "source": [
    "# Calibration Data"
   ]
  },
  {
   "cell_type": "code",
   "execution_count": null,
   "metadata": {},
   "outputs": [],
   "source": [
    "plot_sensor_measurement(df=df_cal,sensor_id=ids,col_name=\"cal_bottle_id\")"
   ]
  },
  {
   "cell_type": "code",
   "execution_count": null,
   "metadata": {},
   "outputs": [],
   "source": [
    "plot_sensor_measurement(df_cal,ids,col_name=\"cal_gmp343_filtered\")"
   ]
  },
  {
   "cell_type": "code",
   "execution_count": null,
   "metadata": {},
   "outputs": [],
   "source": [
    "plot_sensor_measurement(df_cal,[17],col_name=\"cal_sht45_humidity\")"
   ]
  },
  {
   "cell_type": "code",
   "execution_count": null,
   "metadata": {},
   "outputs": [],
   "source": [
    "plot_sensor_measurement(df_cal,ids,col_name=\"cal_sht45_temperature\")"
   ]
  },
  {
   "cell_type": "code",
   "execution_count": null,
   "metadata": {},
   "outputs": [],
   "source": [
    "plot_sensor_measurement(df_cal,ids,col_name=\"cal_gmp343_temperature\")"
   ]
  },
  {
   "cell_type": "code",
   "execution_count": null,
   "metadata": {},
   "outputs": [],
   "source": [
    "plot_sensor_measurement(df_cal,ids,col_name=\"cal_bme280_temperature\")"
   ]
  },
  {
   "cell_type": "code",
   "execution_count": null,
   "metadata": {},
   "outputs": [],
   "source": [
    "plot_sensor_measurement(df_cal,ids,col_name=\"cal_bme280_humidity\")"
   ]
  },
  {
   "cell_type": "code",
   "execution_count": null,
   "metadata": {},
   "outputs": [],
   "source": [
    "plot_sensor_measurement(df_cal,ids,col_name=\"cal_sht45_humidity\")"
   ]
  },
  {
   "cell_type": "code",
   "execution_count": null,
   "metadata": {},
   "outputs": [],
   "source": [
    "plot_sensor_measurement(df_cal,ids,col_name=\"cal_bme280_pressure\")"
   ]
  },
  {
   "cell_type": "code",
   "execution_count": null,
   "metadata": {},
   "outputs": [],
   "source": [
    "plot_sensor_measurement(df_cal,ids,col_name=\"cal_gmp343_filtered\", cut_above=350, cut_below=470)"
   ]
  },
  {
   "cell_type": "code",
   "execution_count": null,
   "metadata": {},
   "outputs": [],
   "source": [
    "plot_sensor_measurement(df_cal,ids,col_name=\"cal_gmp343_filtered\", cut_above=470, cut_below=800)"
   ]
  }
 ],
 "metadata": {
  "kernelspec": {
   "display_name": ".venv",
   "language": "python",
   "name": "python3"
  },
  "language_info": {
   "codemirror_mode": {
    "name": "ipython",
    "version": 3
   },
   "file_extension": ".py",
   "mimetype": "text/x-python",
   "name": "python",
   "nbconvert_exporter": "python",
   "pygments_lexer": "ipython3",
   "version": "3.12.10"
  },
  "orig_nbformat": 4
 },
 "nbformat": 4,
 "nbformat_minor": 2
}
