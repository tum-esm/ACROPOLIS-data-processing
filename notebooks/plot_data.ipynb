{
 "cells": [
  {
   "cell_type": "code",
   "execution_count": null,
   "metadata": {},
   "outputs": [],
   "source": [
    "import os\n",
    "import sys\n",
    "import polars as pl\n",
    "import polars.selectors as cs\n",
    "\n",
    "from datetime import datetime\n",
    "\n",
    "PROJECT_PATH = os.path.abspath(os.path.join(\"..\"))\n",
    "PIPELINE_PATH = os.path.join(PROJECT_PATH, \"pipeline\")\n",
    "DATA_DIRECTORY = os.path.join(PROJECT_PATH, \"data\")\n",
    "\n",
    "unflagged_data = False\n",
    "\n",
    "if PIPELINE_PATH not in sys.path:\n",
    "    sys.path.append(PIPELINE_PATH)\n",
    "    \n",
    "from utils.paths import PROCESSED_PICARRO_DATA_DIRECTORY, POSTPROCESSED_DATA_DIRECTORY\n",
    "from utils.import_data import import_acropolis_system_data\n",
    "from utils.plot_dataframes import plot_sensor_measurement\n",
    "\n",
    "assert(os.path.exists(POSTPROCESSED_DATA_DIRECTORY))\n",
    "assert(os.path.exists(PROCESSED_PICARRO_DATA_DIRECTORY))"
   ]
  },
  {
   "cell_type": "code",
   "execution_count": null,
   "metadata": {},
   "outputs": [],
   "source": [
    "# Filters\n",
    "start_date = datetime(2025, 6, 1, 0, 0, 0)\n",
    "end_date = datetime(2025, 7, 30, 0, 0, 0)\n",
    "\n",
    "filter = '1h'\n",
    "ids = [1,2,3,4,5,6,7,8,9,10,11,12,13,14,15,16,17,18,19,20]\n",
    "ids = [3,6]"
   ]
  },
  {
   "cell_type": "code",
   "execution_count": null,
   "metadata": {},
   "outputs": [],
   "source": [
    "# Load ACROPOLIS Data\n",
    "all_systems = []\n",
    "\n",
    "for id in ids:\n",
    "    df_system = import_acropolis_system_data(\n",
    "            years=[2024,2025],\n",
    "            target_directory=POSTPROCESSED_DATA_DIRECTORY,\n",
    "            id=id,\n",
    "            prefix=\"1min\"\n",
    "        ).group_by_dynamic(\"datetime\", every=filter, group_by=[\"system_id\", \"system_name\"]) \\\n",
    "            .agg(cs.numeric().mean()) \\\n",
    "        .filter(pl.col(\"datetime\").is_between(start_date, end_date))\n",
    "        \n",
    "    all_systems.append(df_system)\n",
    "    \n",
    "df = pl.concat(all_systems, how=\"diagonal\").collect()\n",
    "del df_system, all_systems\n",
    "df.head(1).vstack(df.tail(1))"
   ]
  },
  {
   "cell_type": "code",
   "execution_count": null,
   "metadata": {},
   "outputs": [],
   "source": [
    "assert(False)"
   ]
  },
  {
   "cell_type": "code",
   "execution_count": null,
   "metadata": {},
   "outputs": [],
   "source": [
    "# Load Picarro Data\n",
    "# DWD Picarro: \"Calibrated_1_min_DWD_Picarro_G2301_413.parquet\"\n",
    "df_p_dwd = pl.scan_parquet(os.path.join(PROCESSED_PICARRO_DATA_DIRECTORY,\"Calibrated_1_min_DWD_Picarro_G2301_413.parquet\"))\n",
    "df_p_dwd = df_p_dwd.filter(pl.col(\"datetime\").is_between(start_date, end_date)).collect()\n",
    "\n",
    "# ICOS Picarro: \"Calibrated_1_min_ICOS_Picarro_G2401_529.parquet\"\n",
    "df_p_icos = pl.scan_parquet(os.path.join(PROCESSED_PICARRO_DATA_DIRECTORY,\"Calibrated_1_min_ICOS_Picarro_G2401_529.parquet\"))\n",
    "df_p_icos = df_p_icos.filter(pl.col(\"datetime\").is_between(start_date, end_date)).collect()\n",
    "    \n",
    "df_p = pl.concat([df_p_dwd,df_p_icos], how=\"diagonal\")\n",
    "del df_p_dwd, df_p_icos\n",
    "df_p.head(1).vstack(df_p.tail(1))"
   ]
  },
  {
   "cell_type": "code",
   "execution_count": null,
   "metadata": {},
   "outputs": [],
   "source": [
    "# Load CAL ACROPOLIS Data (no aggregation)\n",
    "all_systems = []\n",
    "\n",
    "for id in ids:\n",
    "    df_system = import_acropolis_system_data(\n",
    "            years=[2024,2025],\n",
    "            target_directory=POSTPROCESSED_DATA_DIRECTORY,\n",
    "            id=id,\n",
    "            prefix=\"Cal_1min\"\n",
    "        ) \\\n",
    "        .filter(pl.col(\"datetime\").is_between(start_date, end_date))\n",
    "    \n",
    "    all_systems.append(df_system)\n",
    "    \n",
    "df_cal = pl.concat(all_systems, how=\"diagonal\").collect()\n",
    "del df_system, all_systems\n",
    "df_cal.head(1).vstack(df_cal.tail(1))"
   ]
  },
  {
   "cell_type": "code",
   "execution_count": null,
   "metadata": {},
   "outputs": [],
   "source": [
    "plot_sensor_measurement(df,ids,col_name=\"enclosure_bme280_humidity\")"
   ]
  },
  {
   "cell_type": "code",
   "execution_count": null,
   "metadata": {},
   "outputs": [],
   "source": [
    "plot_sensor_measurement(df,ids,col_name=\"gmp343_temperature\")"
   ]
  },
  {
   "cell_type": "code",
   "execution_count": null,
   "metadata": {},
   "outputs": [],
   "source": [
    "plot_sensor_measurement(df,ids,col_name=\"gmp343_corrected\")"
   ]
  },
  {
   "cell_type": "code",
   "execution_count": null,
   "metadata": {},
   "outputs": [],
   "source": [
    "plot_sensor_measurement(df_p,529, col_name=\"picarro_corrected\")"
   ]
  },
  {
   "cell_type": "code",
   "execution_count": null,
   "metadata": {},
   "outputs": [],
   "source": [
    "plot_sensor_measurement(df,ids,col_name=\"wxt532_speed_avg\")"
   ]
  },
  {
   "cell_type": "code",
   "execution_count": null,
   "metadata": {},
   "outputs": [],
   "source": [
    "plot_sensor_measurement(df,ids,col_name=\"sht45_humidity\")"
   ]
  },
  {
   "cell_type": "code",
   "execution_count": null,
   "metadata": {},
   "outputs": [],
   "source": [
    "plot_sensor_measurement(df,ids,col_name=\"h2o_v%\")"
   ]
  },
  {
   "cell_type": "code",
   "execution_count": null,
   "metadata": {},
   "outputs": [],
   "source": [
    "plot_sensor_measurement(df,ids,col_name=\"bme280_humidity\")"
   ]
  },
  {
   "cell_type": "code",
   "execution_count": null,
   "metadata": {},
   "outputs": [],
   "source": [
    "plot_sensor_measurement(df,ids,col_name=\"ups_powered_by_grid\")"
   ]
  },
  {
   "cell_type": "code",
   "execution_count": null,
   "metadata": {},
   "outputs": [],
   "source": [
    "plot_sensor_measurement(df,ids,col_name=\"h2o_v%\")"
   ]
  },
  {
   "cell_type": "code",
   "execution_count": null,
   "metadata": {},
   "outputs": [],
   "source": [
    "plot_sensor_measurement(df,ids,col_name=\"sht45_temperature\")"
   ]
  },
  {
   "cell_type": "code",
   "execution_count": null,
   "metadata": {},
   "outputs": [],
   "source": [
    "plot_sensor_measurement(df,ids,col_name=\"bme280_temperature\")"
   ]
  },
  {
   "cell_type": "code",
   "execution_count": null,
   "metadata": {},
   "outputs": [],
   "source": [
    "plot_sensor_measurement(df,ids,col_name=\"bme280_pressure\")"
   ]
  },
  {
   "cell_type": "code",
   "execution_count": null,
   "metadata": {},
   "outputs": [],
   "source": [
    "plot_sensor_measurement(df,ids,col_name=\"enclosure_bme280_temperature\")"
   ]
  },
  {
   "cell_type": "code",
   "execution_count": null,
   "metadata": {},
   "outputs": [],
   "source": [
    "plot_sensor_measurement(df,ids,col_name=\"gmp343_raw\")"
   ]
  },
  {
   "cell_type": "code",
   "execution_count": null,
   "metadata": {},
   "outputs": [],
   "source": [
    "plot_sensor_measurement(df,ids,col_name=\"gmp343_compensated\")"
   ]
  },
  {
   "cell_type": "code",
   "execution_count": null,
   "metadata": {},
   "outputs": [],
   "source": [
    "plot_sensor_measurement(df,ids,col_name=\"wxt532_temperature\")"
   ]
  },
  {
   "cell_type": "code",
   "execution_count": null,
   "metadata": {},
   "outputs": [],
   "source": [
    "plot_sensor_measurement(df,ids,col_name=\"wxt532_direction_avg\")"
   ]
  },
  {
   "cell_type": "code",
   "execution_count": null,
   "metadata": {},
   "outputs": [],
   "source": [
    "plot_sensor_measurement(df,ids,col_name=\"raspi_cpu_usage\")"
   ]
  },
  {
   "cell_type": "code",
   "execution_count": null,
   "metadata": {},
   "outputs": [],
   "source": [
    "plot_sensor_measurement(df,ids,col_name=\"raspi_memory_usage\")"
   ]
  },
  {
   "cell_type": "code",
   "execution_count": null,
   "metadata": {},
   "outputs": [],
   "source": [
    "plot_sensor_measurement(df,ids,col_name=\"raspi_disk_usage\")"
   ]
  },
  {
   "cell_type": "code",
   "execution_count": null,
   "metadata": {},
   "outputs": [],
   "source": [
    "plot_sensor_measurement(df,ids,col_name=\"raspi_cpu_temperature\")"
   ]
  },
  {
   "cell_type": "code",
   "execution_count": null,
   "metadata": {},
   "outputs": [],
   "source": [
    "plot_sensor_measurement(df,ids,col_name=\"enclosure_bme280_pressure\")"
   ]
  },
  {
   "cell_type": "markdown",
   "metadata": {},
   "source": [
    "# Differences"
   ]
  },
  {
   "cell_type": "code",
   "execution_count": null,
   "metadata": {},
   "outputs": [],
   "source": [
    "df_plot = df.with_columns(diff_inflow_humidity = (pl.col(\"sht45_humidity\") - pl.col(\"bme280_humidity\"))) \\\n",
    "    .filter(pl.col(\"diff_inflow_humidity\").is_not_nan()) \\\n",
    "    .select(\"datetime\", \"diff_inflow_humidity\", \"system_id\") \\\n",
    "    .sort(\"system_id\")\n",
    "    \n",
    "plot_sensor_measurement(df_plot,ids,col_name=\"diff_inflow_humidity\")"
   ]
  },
  {
   "cell_type": "code",
   "execution_count": null,
   "metadata": {},
   "outputs": [],
   "source": [
    "df_plot = df.with_columns(diff_inflow_temperature = (pl.col(\"sht45_temperature\") - pl.col(\"bme280_temperature\"))) \\\n",
    "    .filter(pl.col(\"diff_inflow_temperature\").is_not_nan()) \\\n",
    "    .select(\"datetime\", \"diff_inflow_temperature\", \"system_id\") \\\n",
    "    .sort(\"system_id\")\n",
    "    \n",
    "plot_sensor_measurement(df_plot,ids,col_name=\"diff_inflow_temperature\")"
   ]
  },
  {
   "cell_type": "code",
   "execution_count": null,
   "metadata": {},
   "outputs": [],
   "source": [
    "df_plot = df.with_columns(diff_inflow_pressure = (pl.col(\"bme280_pressure\") - pl.col(\"enclosure_bme280_pressure\"))) \\\n",
    "    .filter(pl.col(\"diff_inflow_pressure\").is_not_nan()) \\\n",
    "    .select(\"datetime\", \"diff_inflow_pressure\", \"system_id\") \\\n",
    "    .sort(\"system_id\")\n",
    "    \n",
    "plot_sensor_measurement(df_plot,ids,col_name=\"diff_inflow_pressure\")"
   ]
  },
  {
   "cell_type": "markdown",
   "metadata": {},
   "source": [
    "# Calibration Data"
   ]
  },
  {
   "cell_type": "code",
   "execution_count": null,
   "metadata": {},
   "outputs": [],
   "source": [
    "plot_sensor_measurement(df=df_cal,sensor_id=ids,col_name=\"cal_bottle_id\")"
   ]
  },
  {
   "cell_type": "code",
   "execution_count": null,
   "metadata": {},
   "outputs": [],
   "source": [
    "plot_sensor_measurement(df_cal,ids,col_name=\"cal_gmp343_filtered\")"
   ]
  },
  {
   "cell_type": "code",
   "execution_count": null,
   "metadata": {},
   "outputs": [],
   "source": [
    "plot_sensor_measurement(df_cal,ids,col_name=\"cal_sht45_humidity\")"
   ]
  },
  {
   "cell_type": "code",
   "execution_count": null,
   "metadata": {},
   "outputs": [],
   "source": [
    "plot_sensor_measurement(df_cal,ids,col_name=\"cal_sht45_temperature\")"
   ]
  },
  {
   "cell_type": "code",
   "execution_count": null,
   "metadata": {},
   "outputs": [],
   "source": [
    "plot_sensor_measurement(df_cal,ids,col_name=\"cal_gmp343_temperature\")"
   ]
  },
  {
   "cell_type": "code",
   "execution_count": null,
   "metadata": {},
   "outputs": [],
   "source": [
    "plot_sensor_measurement(df_cal,ids,col_name=\"cal_bme280_temperature\")"
   ]
  },
  {
   "cell_type": "code",
   "execution_count": null,
   "metadata": {},
   "outputs": [],
   "source": [
    "plot_sensor_measurement(df_cal,ids,col_name=\"cal_bme280_humidity\")"
   ]
  },
  {
   "cell_type": "code",
   "execution_count": null,
   "metadata": {},
   "outputs": [],
   "source": [
    "plot_sensor_measurement(df_cal,ids,col_name=\"cal_sht45_humidity\")"
   ]
  },
  {
   "cell_type": "code",
   "execution_count": null,
   "metadata": {},
   "outputs": [],
   "source": [
    "plot_sensor_measurement(df_cal,ids,col_name=\"cal_bme280_pressure\")"
   ]
  },
  {
   "cell_type": "code",
   "execution_count": null,
   "metadata": {},
   "outputs": [],
   "source": [
    "plot_sensor_measurement(df_cal,ids,col_name=\"cal_gmp343_filtered\", cut_above=350, cut_below=470)"
   ]
  },
  {
   "cell_type": "code",
   "execution_count": null,
   "metadata": {},
   "outputs": [],
   "source": [
    "plot_sensor_measurement(df_cal,ids,col_name=\"cal_gmp343_filtered\", cut_above=470, cut_below=800)"
   ]
  }
 ],
 "metadata": {
  "kernelspec": {
   "display_name": ".venv",
   "language": "python",
   "name": "python3"
  },
  "language_info": {
   "codemirror_mode": {
    "name": "ipython",
    "version": 3
   },
   "file_extension": ".py",
   "mimetype": "text/x-python",
   "name": "python",
   "nbconvert_exporter": "python",
   "pygments_lexer": "ipython3",
   "version": "3.12.10"
  },
  "orig_nbformat": 4
 },
 "nbformat": 4,
 "nbformat_minor": 2
}
