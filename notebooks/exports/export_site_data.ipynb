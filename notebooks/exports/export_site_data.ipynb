{
 "cells": [
  {
   "cell_type": "code",
   "execution_count": 46,
   "metadata": {},
   "outputs": [],
   "source": [
    "from datetime import datetime\n",
    "from datetime import timezone\n",
    "import polars as pl\n",
    "import os\n",
    "import plotly.express as px\n",
    "\n",
    "DATA_DIRECTORY = os.environ.get(\"DATA_DIRECTORY\")\n",
    "\n",
    "# processed 10min average measurement data\n",
    "df_1m = pl.scan_parquet(os.path.join(DATA_DIRECTORY, \"processed\", \"1m_spike_detected_acropolis.parquet\"))\n",
    "df_1h = pl.scan_parquet(os.path.join(DATA_DIRECTORY, \"processed\", \"1h_despiked_acropolis.parquet\"))\n"
   ]
  },
  {
   "cell_type": "code",
   "execution_count": 47,
   "metadata": {},
   "outputs": [
    {
     "data": {
      "text/html": [
       "<div><style>\n",
       ".dataframe > thead > tr,\n",
       ".dataframe > tbody > tr {\n",
       "  text-align: right;\n",
       "  white-space: pre-wrap;\n",
       "}\n",
       "</style>\n",
       "<small>shape: (5, 8)</small><table border=\"1\" class=\"dataframe\"><thead><tr><th>creation_timestamp</th><th>system_id</th><th>sys_name_short</th><th>gmp343_corrected</th><th>wxt532_speed_avg</th><th>wxt532_direction_avg</th><th>gmp343_hampel_filtered</th><th>Flag</th></tr><tr><td>datetime[μs, UTC]</td><td>i64</td><td>str</td><td>f32</td><td>f64</td><td>f64</td><td>f32</td><td>bool</td></tr></thead><tbody><tr><td>2024-07-17 07:08:00 UTC</td><td>20</td><td>&quot;acropolis-20&quot;</td><td>436.681458</td><td>1.2</td><td>214.3</td><td>436.681458</td><td>false</td></tr><tr><td>2024-07-17 07:09:00 UTC</td><td>20</td><td>&quot;acropolis-20&quot;</td><td>439.574219</td><td>1.2</td><td>214.3</td><td>439.574219</td><td>false</td></tr><tr><td>2024-07-17 07:10:00 UTC</td><td>20</td><td>&quot;acropolis-20&quot;</td><td>434.971008</td><td>1.2</td><td>214.3</td><td>434.971008</td><td>false</td></tr><tr><td>2024-07-17 07:11:00 UTC</td><td>20</td><td>&quot;acropolis-20&quot;</td><td>431.944061</td><td>1.4</td><td>240.3</td><td>431.944061</td><td>false</td></tr><tr><td>2024-07-17 07:12:00 UTC</td><td>20</td><td>&quot;acropolis-20&quot;</td><td>435.061432</td><td>1.4</td><td>240.3</td><td>435.061432</td><td>false</td></tr></tbody></table></div>"
      ],
      "text/plain": [
       "shape: (5, 8)\n",
       "┌─────────────┬───────────┬────────────┬────────────┬────────────┬────────────┬────────────┬───────┐\n",
       "│ creation_ti ┆ system_id ┆ sys_name_s ┆ gmp343_cor ┆ wxt532_spe ┆ wxt532_dir ┆ gmp343_ham ┆ Flag  │\n",
       "│ mestamp     ┆ ---       ┆ hort       ┆ rected     ┆ ed_avg     ┆ ection_avg ┆ pel_filter ┆ ---   │\n",
       "│ ---         ┆ i64       ┆ ---        ┆ ---        ┆ ---        ┆ ---        ┆ ed         ┆ bool  │\n",
       "│ datetime[μs ┆           ┆ str        ┆ f32        ┆ f64        ┆ f64        ┆ ---        ┆       │\n",
       "│ , UTC]      ┆           ┆            ┆            ┆            ┆            ┆ f32        ┆       │\n",
       "╞═════════════╪═══════════╪════════════╪════════════╪════════════╪════════════╪════════════╪═══════╡\n",
       "│ 2024-07-17  ┆ 20        ┆ acropolis- ┆ 436.681458 ┆ 1.2        ┆ 214.3      ┆ 436.681458 ┆ false │\n",
       "│ 07:08:00    ┆           ┆ 20         ┆            ┆            ┆            ┆            ┆       │\n",
       "│ UTC         ┆           ┆            ┆            ┆            ┆            ┆            ┆       │\n",
       "│ 2024-07-17  ┆ 20        ┆ acropolis- ┆ 439.574219 ┆ 1.2        ┆ 214.3      ┆ 439.574219 ┆ false │\n",
       "│ 07:09:00    ┆           ┆ 20         ┆            ┆            ┆            ┆            ┆       │\n",
       "│ UTC         ┆           ┆            ┆            ┆            ┆            ┆            ┆       │\n",
       "│ 2024-07-17  ┆ 20        ┆ acropolis- ┆ 434.971008 ┆ 1.2        ┆ 214.3      ┆ 434.971008 ┆ false │\n",
       "│ 07:10:00    ┆           ┆ 20         ┆            ┆            ┆            ┆            ┆       │\n",
       "│ UTC         ┆           ┆            ┆            ┆            ┆            ┆            ┆       │\n",
       "│ 2024-07-17  ┆ 20        ┆ acropolis- ┆ 431.944061 ┆ 1.4        ┆ 240.3      ┆ 431.944061 ┆ false │\n",
       "│ 07:11:00    ┆           ┆ 20         ┆            ┆            ┆            ┆            ┆       │\n",
       "│ UTC         ┆           ┆            ┆            ┆            ┆            ┆            ┆       │\n",
       "│ 2024-07-17  ┆ 20        ┆ acropolis- ┆ 435.061432 ┆ 1.4        ┆ 240.3      ┆ 435.061432 ┆ false │\n",
       "│ 07:12:00    ┆           ┆ 20         ┆            ┆            ┆            ┆            ┆       │\n",
       "│ UTC         ┆           ┆            ┆            ┆            ┆            ┆            ┆       │\n",
       "└─────────────┴───────────┴────────────┴────────────┴────────────┴────────────┴────────────┴───────┘"
      ]
     },
     "execution_count": 47,
     "metadata": {},
     "output_type": "execute_result"
    }
   ],
   "source": [
    "df_1m.tail().collect()"
   ]
  },
  {
   "cell_type": "code",
   "execution_count": 48,
   "metadata": {},
   "outputs": [],
   "source": [
    "# Utility\n",
    "\n",
    "def extract_site_data(df, dates:dict[list[tuple]], site_name:str, plot=False):\n",
    "    extracted_dates = []\n",
    "    \n",
    "    for date in dates[site_name]:\n",
    "        #print(date[0], date[1], date[2])\n",
    "        \n",
    "        df_temp = df.filter(pl.col(\"system_id\") == date[0]).filter(pl.col(\"creation_timestamp\").is_between(date[1], date[2])).collect()\n",
    "        \n",
    "        extracted_dates.append(df_temp)\n",
    "    \n",
    "    df_extracted = pl.concat(extracted_dates)\n",
    "    \n",
    "    if plot:\n",
    "        fig = px.line(df_extracted, x=\"creation_timestamp\", y=\"gmp343_corrected\", markers=True, title=f\"{site_name}: CO2 Corrected [ppm]\")\n",
    "        fig.show()\n",
    "        \n",
    "    return df_extracted"
   ]
  },
  {
   "cell_type": "code",
   "execution_count": 49,
   "metadata": {},
   "outputs": [],
   "source": [
    "today = datetime(2024, 7, 1, 0, 0, 0).replace(tzinfo=timezone.utc)\n",
    "\n",
    "# INFO: First two days of deployment are cut due to system warming up and adjusting to new environment\n",
    "\n",
    "dates = {\n",
    "      \"KLEG\": [\n",
    "            (1, datetime(2024, 2, 29, 0, 0, 0).replace(tzinfo=timezone.utc), today)\n",
    "            ], \n",
    "      \"DLRO\": [\n",
    "            (14, datetime(2023, 11, 22, 0, 0, 0).replace(tzinfo=timezone.utc), datetime(2023, 12, 22, 23, 59, 59).replace(tzinfo=timezone.utc)),\n",
    "            (5, datetime(2024, 2, 28, 0, 0, 0).replace(tzinfo=timezone.utc), today)\n",
    "            ],\n",
    "      \"TUMN\": [\n",
    "            (6, datetime(2024, 2, 21, 0, 0, 0).replace(tzinfo=timezone.utc), datetime(2024, 5, 11, 0, 0, 0).replace(tzinfo=timezone.utc)),\n",
    "            (6, datetime(2024, 5, 31, 0, 0, 0).replace(tzinfo=timezone.utc), today)\n",
    "            ],\n",
    "      \"KRDI\": [\n",
    "            (2, datetime(2023, 9, 13, 0, 0, 0).replace(tzinfo=timezone.utc), datetime(2023, 12, 22, 0, 0, 0).replace(tzinfo=timezone.utc)),\n",
    "            (8, datetime(2024, 3, 15, 0, 0, 0).replace(tzinfo=timezone.utc), today)\n",
    "            ],\n",
    "      \"SWGG\": [\n",
    "            (10, datetime(2024, 4, 11, 0, 0, 0).replace(tzinfo=timezone.utc), today)\n",
    "            ],\n",
    "      \"RFIN\": [\n",
    "            (15, datetime(2023, 11, 16, 0, 0, 0).replace(tzinfo=timezone.utc), datetime(2023, 12, 22, 0, 0, 0).replace(tzinfo=timezone.utc)),\n",
    "            (3, datetime(2024, 2, 22, 0, 0, 0).replace(tzinfo=timezone.utc), datetime(2024, 4, 2, 23, 59, 59).replace(tzinfo=timezone.utc)),\n",
    "            (11, datetime(2024, 4, 11, 0, 0, 0).replace(tzinfo=timezone.utc), today)\n",
    "            ],\n",
    "      \"WKRT\": [\n",
    "            (8, datetime(2023, 10, 27, 0, 0, 0).replace(tzinfo=timezone.utc), datetime(2023, 12, 22, 0, 0, 0).replace(tzinfo=timezone.utc)),\n",
    "            (12, datetime(2024, 2, 14, 0, 0, 0).replace(tzinfo=timezone.utc), today)\n",
    "            ],\n",
    "      \"RFEL\": [\n",
    "            (7, datetime(2023, 12, 14, 0, 0, 0).replace(tzinfo=timezone.utc), datetime(2023, 12, 22, 0, 0, 0).replace(tzinfo=timezone.utc)),\n",
    "            (13, datetime(2024, 2, 22, 0, 0, 0).replace(tzinfo=timezone.utc), today)\n",
    "            ],\n",
    "      \"SWMZ\": [\n",
    "            (15, datetime(2024, 6, 14, 0, 0, 0).replace(tzinfo=timezone.utc), today)\n",
    "            ],\n",
    "      \"SMAI\": [\n",
    "            (1, datetime(2023, 9, 8, 0, 0, 0).replace(tzinfo=timezone.utc), datetime(2023, 12, 22, 0, 0, 0).replace(tzinfo=timezone.utc)),\n",
    "            (16, datetime(2024, 2, 8, 0, 0, 0).replace(tzinfo=timezone.utc), today)\n",
    "            ],\n",
    "      \"SBBG\": [\n",
    "            (5, datetime(2023, 11, 16, 0, 0, 0).replace(tzinfo=timezone.utc), datetime(2024, 2, 6, 0, 0, 0).replace(tzinfo=timezone.utc)),\n",
    "            (18, datetime(2024, 2, 8, 0, 0, 0).replace(tzinfo=timezone.utc), today)\n",
    "            ],\n",
    "      \"LGRO\": [\n",
    "            (4, datetime(2023, 9, 22, 0, 0, 0).replace(tzinfo=timezone.utc), datetime(2024, 2, 12, 0, 0, 0).replace(tzinfo=timezone.utc)),\n",
    "            (20, datetime(2024, 2, 14, 0, 0, 0).replace(tzinfo=timezone.utc), today)\n",
    "            ],\n",
    "      \"FB48\": [\n",
    "            (14, datetime(2024, 6, 23, 0, 0, 0).replace(tzinfo=timezone.utc), today)\n",
    "            ], \n",
    "      \"FB85\": [\n",
    "            (7, datetime(2024, 6, 23, 0, 0, 0).replace(tzinfo=timezone.utc), today)\n",
    "            ], \n",
    "      \"KNPL\": [\n",
    "            (9, datetime(2024, 6, 26, 0, 0, 0).replace(tzinfo=timezone.utc), today)\n",
    "            ], \n",
    "      \"KBOG\": [\n",
    "            (17, datetime(2024, 7, 9, 0, 0, 0).replace(tzinfo=timezone.utc), today)\n",
    "            ], \n",
    " }\n"
   ]
  },
  {
   "cell_type": "code",
   "execution_count": 50,
   "metadata": {},
   "outputs": [
    {
     "data": {
      "text/html": [
       "<div><style>\n",
       ".dataframe > thead > tr,\n",
       ".dataframe > tbody > tr {\n",
       "  text-align: right;\n",
       "  white-space: pre-wrap;\n",
       "}\n",
       "</style>\n",
       "<small>shape: (5_837, 8)</small><table border=\"1\" class=\"dataframe\"><thead><tr><th>system_id</th><th>sys_name_short</th><th>creation_timestamp</th><th>gmp343_corrected</th><th>wxt532_speed_avg</th><th>wxt532_direction_avg</th><th>Stdev</th><th>NbPoints</th></tr><tr><td>i64</td><td>str</td><td>datetime[μs, UTC]</td><td>f32</td><td>f64</td><td>f64</td><td>f32</td><td>u32</td></tr></thead><tbody><tr><td>1</td><td>&quot;acropolis-1&quot;</td><td>2023-09-08 00:00:00 UTC</td><td>525.686646</td><td>0.788333</td><td>150.666667</td><td>36.749001</td><td>60</td></tr><tr><td>1</td><td>&quot;acropolis-1&quot;</td><td>2023-09-08 01:00:00 UTC</td><td>555.169189</td><td>0.668333</td><td>185.6</td><td>34.284832</td><td>60</td></tr><tr><td>1</td><td>&quot;acropolis-1&quot;</td><td>2023-09-08 02:00:00 UTC</td><td>586.737854</td><td>0.595</td><td>239.566667</td><td>26.875011</td><td>60</td></tr><tr><td>1</td><td>&quot;acropolis-1&quot;</td><td>2023-09-08 03:00:00 UTC</td><td>606.083923</td><td>1.026667</td><td>186.5</td><td>18.97349</td><td>60</td></tr><tr><td>1</td><td>&quot;acropolis-1&quot;</td><td>2023-09-08 04:00:00 UTC</td><td>623.262939</td><td>0.743333</td><td>229.95</td><td>20.104853</td><td>60</td></tr><tr><td>1</td><td>&quot;acropolis-1&quot;</td><td>2023-09-08 05:00:00 UTC</td><td>611.634399</td><td>0.73</td><td>232.483333</td><td>20.82835</td><td>60</td></tr><tr><td>1</td><td>&quot;acropolis-1&quot;</td><td>2023-09-08 06:00:00 UTC</td><td>549.209229</td><td>1.18</td><td>245.0</td><td>31.699793</td><td>60</td></tr><tr><td>1</td><td>&quot;acropolis-1&quot;</td><td>2023-09-08 07:00:00 UTC</td><td>497.243591</td><td>0.87</td><td>237.666667</td><td>9.433885</td><td>60</td></tr><tr><td>1</td><td>&quot;acropolis-1&quot;</td><td>2023-09-08 08:00:00 UTC</td><td>466.497528</td><td>0.77</td><td>220.6</td><td>11.224157</td><td>60</td></tr><tr><td>1</td><td>&quot;acropolis-1&quot;</td><td>2023-09-08 09:00:00 UTC</td><td>450.882324</td><td>0.495</td><td>158.533333</td><td>3.305336</td><td>60</td></tr><tr><td>1</td><td>&quot;acropolis-1&quot;</td><td>2023-09-08 10:00:00 UTC</td><td>441.004242</td><td>0.648333</td><td>176.366667</td><td>7.690867</td><td>60</td></tr><tr><td>1</td><td>&quot;acropolis-1&quot;</td><td>2023-09-08 11:00:00 UTC</td><td>424.226685</td><td>1.095</td><td>258.466667</td><td>1.621225</td><td>60</td></tr><tr><td>&hellip;</td><td>&hellip;</td><td>&hellip;</td><td>&hellip;</td><td>&hellip;</td><td>&hellip;</td><td>&hellip;</td><td>&hellip;</td></tr><tr><td>16</td><td>&quot;acropolis-16&quot;</td><td>2024-06-30 13:00:00 UTC</td><td>422.043396</td><td>5.25</td><td>251.18</td><td>1.584617</td><td>60</td></tr><tr><td>16</td><td>&quot;acropolis-16&quot;</td><td>2024-06-30 14:00:00 UTC</td><td>422.338959</td><td>5.96</td><td>242.211667</td><td>1.40895</td><td>60</td></tr><tr><td>16</td><td>&quot;acropolis-16&quot;</td><td>2024-06-30 15:00:00 UTC</td><td>421.395386</td><td>6.17</td><td>263.825</td><td>1.682763</td><td>60</td></tr><tr><td>16</td><td>&quot;acropolis-16&quot;</td><td>2024-06-30 16:00:00 UTC</td><td>425.070923</td><td>4.601667</td><td>273.241667</td><td>1.561589</td><td>60</td></tr><tr><td>16</td><td>&quot;acropolis-16&quot;</td><td>2024-06-30 17:00:00 UTC</td><td>428.117401</td><td>4.798333</td><td>274.268333</td><td>1.93584</td><td>60</td></tr><tr><td>16</td><td>&quot;acropolis-16&quot;</td><td>2024-06-30 18:00:00 UTC</td><td>432.41098</td><td>4.823333</td><td>278.983333</td><td>2.542336</td><td>60</td></tr><tr><td>16</td><td>&quot;acropolis-16&quot;</td><td>2024-06-30 19:00:00 UTC</td><td>440.81311</td><td>4.838333</td><td>292.176667</td><td>1.312265</td><td>60</td></tr><tr><td>16</td><td>&quot;acropolis-16&quot;</td><td>2024-06-30 20:00:00 UTC</td><td>437.896942</td><td>3.795</td><td>276.773333</td><td>3.823986</td><td>60</td></tr><tr><td>16</td><td>&quot;acropolis-16&quot;</td><td>2024-06-30 21:00:00 UTC</td><td>431.522308</td><td>3.94</td><td>280.873333</td><td>1.204941</td><td>60</td></tr><tr><td>16</td><td>&quot;acropolis-16&quot;</td><td>2024-06-30 22:00:00 UTC</td><td>433.022278</td><td>2.973333</td><td>274.02</td><td>1.59989</td><td>60</td></tr><tr><td>16</td><td>&quot;acropolis-16&quot;</td><td>2024-06-30 23:00:00 UTC</td><td>437.541016</td><td>1.884746</td><td>275.157627</td><td>3.191683</td><td>59</td></tr><tr><td>16</td><td>&quot;acropolis-16&quot;</td><td>2024-07-01 00:00:00 UTC</td><td>444.627502</td><td>1.661017</td><td>254.989831</td><td>1.852625</td><td>59</td></tr></tbody></table></div>"
      ],
      "text/plain": [
       "shape: (5_837, 8)\n",
       "┌───────────┬────────────┬────────────┬────────────┬────────────┬───────────┬───────────┬──────────┐\n",
       "│ system_id ┆ sys_name_s ┆ creation_t ┆ gmp343_cor ┆ wxt532_spe ┆ wxt532_di ┆ Stdev     ┆ NbPoints │\n",
       "│ ---       ┆ hort       ┆ imestamp   ┆ rected     ┆ ed_avg     ┆ rection_a ┆ ---       ┆ ---      │\n",
       "│ i64       ┆ ---        ┆ ---        ┆ ---        ┆ ---        ┆ vg        ┆ f32       ┆ u32      │\n",
       "│           ┆ str        ┆ datetime[μ ┆ f32        ┆ f64        ┆ ---       ┆           ┆          │\n",
       "│           ┆            ┆ s, UTC]    ┆            ┆            ┆ f64       ┆           ┆          │\n",
       "╞═══════════╪════════════╪════════════╪════════════╪════════════╪═══════════╪═══════════╪══════════╡\n",
       "│ 1         ┆ acropolis- ┆ 2023-09-08 ┆ 525.686646 ┆ 0.788333   ┆ 150.66666 ┆ 36.749001 ┆ 60       │\n",
       "│           ┆ 1          ┆ 00:00:00   ┆            ┆            ┆ 7         ┆           ┆          │\n",
       "│           ┆            ┆ UTC        ┆            ┆            ┆           ┆           ┆          │\n",
       "│ 1         ┆ acropolis- ┆ 2023-09-08 ┆ 555.169189 ┆ 0.668333   ┆ 185.6     ┆ 34.284832 ┆ 60       │\n",
       "│           ┆ 1          ┆ 01:00:00   ┆            ┆            ┆           ┆           ┆          │\n",
       "│           ┆            ┆ UTC        ┆            ┆            ┆           ┆           ┆          │\n",
       "│ 1         ┆ acropolis- ┆ 2023-09-08 ┆ 586.737854 ┆ 0.595      ┆ 239.56666 ┆ 26.875011 ┆ 60       │\n",
       "│           ┆ 1          ┆ 02:00:00   ┆            ┆            ┆ 7         ┆           ┆          │\n",
       "│           ┆            ┆ UTC        ┆            ┆            ┆           ┆           ┆          │\n",
       "│ 1         ┆ acropolis- ┆ 2023-09-08 ┆ 606.083923 ┆ 1.026667   ┆ 186.5     ┆ 18.97349  ┆ 60       │\n",
       "│           ┆ 1          ┆ 03:00:00   ┆            ┆            ┆           ┆           ┆          │\n",
       "│           ┆            ┆ UTC        ┆            ┆            ┆           ┆           ┆          │\n",
       "│ 1         ┆ acropolis- ┆ 2023-09-08 ┆ 623.262939 ┆ 0.743333   ┆ 229.95    ┆ 20.104853 ┆ 60       │\n",
       "│           ┆ 1          ┆ 04:00:00   ┆            ┆            ┆           ┆           ┆          │\n",
       "│           ┆            ┆ UTC        ┆            ┆            ┆           ┆           ┆          │\n",
       "│ …         ┆ …          ┆ …          ┆ …          ┆ …          ┆ …         ┆ …         ┆ …        │\n",
       "│ 16        ┆ acropolis- ┆ 2024-06-30 ┆ 437.896942 ┆ 3.795      ┆ 276.77333 ┆ 3.823986  ┆ 60       │\n",
       "│           ┆ 16         ┆ 20:00:00   ┆            ┆            ┆ 3         ┆           ┆          │\n",
       "│           ┆            ┆ UTC        ┆            ┆            ┆           ┆           ┆          │\n",
       "│ 16        ┆ acropolis- ┆ 2024-06-30 ┆ 431.522308 ┆ 3.94       ┆ 280.87333 ┆ 1.204941  ┆ 60       │\n",
       "│           ┆ 16         ┆ 21:00:00   ┆            ┆            ┆ 3         ┆           ┆          │\n",
       "│           ┆            ┆ UTC        ┆            ┆            ┆           ┆           ┆          │\n",
       "│ 16        ┆ acropolis- ┆ 2024-06-30 ┆ 433.022278 ┆ 2.973333   ┆ 274.02    ┆ 1.59989   ┆ 60       │\n",
       "│           ┆ 16         ┆ 22:00:00   ┆            ┆            ┆           ┆           ┆          │\n",
       "│           ┆            ┆ UTC        ┆            ┆            ┆           ┆           ┆          │\n",
       "│ 16        ┆ acropolis- ┆ 2024-06-30 ┆ 437.541016 ┆ 1.884746   ┆ 275.15762 ┆ 3.191683  ┆ 59       │\n",
       "│           ┆ 16         ┆ 23:00:00   ┆            ┆            ┆ 7         ┆           ┆          │\n",
       "│           ┆            ┆ UTC        ┆            ┆            ┆           ┆           ┆          │\n",
       "│ 16        ┆ acropolis- ┆ 2024-07-01 ┆ 444.627502 ┆ 1.661017   ┆ 254.98983 ┆ 1.852625  ┆ 59       │\n",
       "│           ┆ 16         ┆ 00:00:00   ┆            ┆            ┆ 1         ┆           ┆          │\n",
       "│           ┆            ┆ UTC        ┆            ┆            ┆           ┆           ┆          │\n",
       "└───────────┴────────────┴────────────┴────────────┴────────────┴───────────┴───────────┴──────────┘"
      ]
     },
     "execution_count": 50,
     "metadata": {},
     "output_type": "execute_result"
    }
   ],
   "source": [
    "extract_site_data(df=df_1h, dates = dates, site_name=\"SMAI\")"
   ]
  },
  {
   "cell_type": "code",
   "execution_count": 51,
   "metadata": {},
   "outputs": [],
   "source": [
    "extracted_dates = []\n",
    "\n",
    "for key, site in dates.items():\n",
    "    \n",
    "    df_temp = extract_site_data(df=df_1m, dates = dates, site_name=key)\n",
    "    df_temp = df_temp.with_columns(site_name = pl.lit(key))\n",
    "    df_temp.write_parquet(os.path.join(DATA_DIRECTORY,\"processed/acropolis_sites\", f\"1m_acropolis_{key}.parquet\"))\n",
    "    \n",
    "    df_temp = extract_site_data(df=df_1h, dates = dates, site_name=key)\n",
    "    df_temp = df_temp.with_columns(site_name = pl.lit(key))\n",
    "    df_temp.write_parquet(os.path.join(DATA_DIRECTORY,\"processed/acropolis_sites\", f\"1h_acropolis_{key}.parquet\"))\n",
    "    extracted_dates.append(df_temp)"
   ]
  }
 ],
 "metadata": {
  "kernelspec": {
   "display_name": ".venv",
   "language": "python",
   "name": "python3"
  },
  "language_info": {
   "codemirror_mode": {
    "name": "ipython",
    "version": 3
   },
   "file_extension": ".py",
   "mimetype": "text/x-python",
   "name": "python",
   "nbconvert_exporter": "python",
   "pygments_lexer": "ipython3",
   "version": "3.11.9"
  }
 },
 "nbformat": 4,
 "nbformat_minor": 2
}
