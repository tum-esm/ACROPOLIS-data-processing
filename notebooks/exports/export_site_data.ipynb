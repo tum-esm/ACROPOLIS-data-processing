{
 "cells": [
  {
   "cell_type": "code",
   "execution_count": 54,
   "metadata": {},
   "outputs": [],
   "source": [
    "from datetime import datetime\n",
    "from datetime import timezone\n",
    "import polars as pl\n",
    "import os\n",
    "import plotly.express as px\n",
    "\n",
    "DATA_DIRECTORY = os.environ.get(\"DATA_DIRECTORY\")\n",
    "\n",
    "# processed 10min average measurement data\n",
    "df_1m = pl.scan_parquet(os.path.join(DATA_DIRECTORY, \"processed\", \"1m_level_1_cities_portal.parquet\"))\n",
    "df_1h = pl.scan_parquet(os.path.join(DATA_DIRECTORY, \"processed\", \"1h_level_1_cities_portal.parquet\"))\n"
   ]
  },
  {
   "cell_type": "code",
   "execution_count": 59,
   "metadata": {},
   "outputs": [
    {
     "data": {
      "text/html": [
       "<div><style>\n",
       ".dataframe > thead > tr,\n",
       ".dataframe > tbody > tr {\n",
       "  text-align: right;\n",
       "  white-space: pre-wrap;\n",
       "}\n",
       "</style>\n",
       "<small>shape: (2, 15)</small><table border=\"1\" class=\"dataframe\"><thead><tr><th>#Datetime</th><th>system_id</th><th>sys_name_short</th><th>co2</th><th>h2o</th><th>ws</th><th>wd</th><th>OriginalFlag</th><th>Flag</th><th>Year</th><th>Month</th><th>Day</th><th>Hour</th><th>Minute</th><th>Second</th></tr><tr><td>datetime[μs, UTC]</td><td>i64</td><td>str</td><td>f32</td><td>f64</td><td>f64</td><td>f64</td><td>i32</td><td>str</td><td>i32</td><td>i8</td><td>i8</td><td>i8</td><td>i8</td><td>i8</td></tr></thead><tbody><tr><td>2024-07-17 07:11:00 UTC</td><td>20</td><td>&quot;acropolis-20&quot;</td><td>431.944061</td><td>2.075215</td><td>1.4</td><td>240.3</td><td>0</td><td>&quot;O&quot;</td><td>2024</td><td>7</td><td>17</td><td>7</td><td>11</td><td>0</td></tr><tr><td>2024-07-17 07:12:00 UTC</td><td>20</td><td>&quot;acropolis-20&quot;</td><td>435.061432</td><td>2.119144</td><td>1.4</td><td>240.3</td><td>0</td><td>&quot;O&quot;</td><td>2024</td><td>7</td><td>17</td><td>7</td><td>12</td><td>0</td></tr></tbody></table></div>"
      ],
      "text/plain": [
       "shape: (2, 15)\n",
       "┌─────────────────────┬───────────┬────────────────┬────────────┬───┬─────┬──────┬────────┬────────┐\n",
       "│ #Datetime           ┆ system_id ┆ sys_name_short ┆ co2        ┆ … ┆ Day ┆ Hour ┆ Minute ┆ Second │\n",
       "│ ---                 ┆ ---       ┆ ---            ┆ ---        ┆   ┆ --- ┆ ---  ┆ ---    ┆ ---    │\n",
       "│ datetime[μs, UTC]   ┆ i64       ┆ str            ┆ f32        ┆   ┆ i8  ┆ i8   ┆ i8     ┆ i8     │\n",
       "╞═════════════════════╪═══════════╪════════════════╪════════════╪═══╪═════╪══════╪════════╪════════╡\n",
       "│ 2024-07-17 07:11:00 ┆ 20        ┆ acropolis-20   ┆ 431.944061 ┆ … ┆ 17  ┆ 7    ┆ 11     ┆ 0      │\n",
       "│ UTC                 ┆           ┆                ┆            ┆   ┆     ┆      ┆        ┆        │\n",
       "│ 2024-07-17 07:12:00 ┆ 20        ┆ acropolis-20   ┆ 435.061432 ┆ … ┆ 17  ┆ 7    ┆ 12     ┆ 0      │\n",
       "│ UTC                 ┆           ┆                ┆            ┆   ┆     ┆      ┆        ┆        │\n",
       "└─────────────────────┴───────────┴────────────────┴────────────┴───┴─────┴──────┴────────┴────────┘"
      ]
     },
     "execution_count": 59,
     "metadata": {},
     "output_type": "execute_result"
    }
   ],
   "source": [
    "df_1m.tail(2).collect()"
   ]
  },
  {
   "cell_type": "code",
   "execution_count": 58,
   "metadata": {},
   "outputs": [
    {
     "data": {
      "text/html": [
       "<div><style>\n",
       ".dataframe > thead > tr,\n",
       ".dataframe > tbody > tr {\n",
       "  text-align: right;\n",
       "  white-space: pre-wrap;\n",
       "}\n",
       "</style>\n",
       "<small>shape: (2, 17)</small><table border=\"1\" class=\"dataframe\"><thead><tr><th>system_id</th><th>sys_name_short</th><th>#Datetime</th><th>co2</th><th>h2o</th><th>ws</th><th>wd</th><th>Stdev</th><th>NbPoints</th><th>OriginalFlag</th><th>Flag</th><th>Year</th><th>Month</th><th>Day</th><th>Hour</th><th>Minute</th><th>Second</th></tr><tr><td>i64</td><td>str</td><td>datetime[μs, UTC]</td><td>f32</td><td>f64</td><td>f64</td><td>f64</td><td>f32</td><td>u32</td><td>i32</td><td>str</td><td>i32</td><td>i8</td><td>i8</td><td>i8</td><td>i8</td><td>i8</td></tr></thead><tbody><tr><td>17</td><td>&quot;acropolis-17&quot;</td><td>2024-07-17 06:30:00 UTC</td><td>458.691956</td><td>2.269222</td><td>0.906667</td><td>280.038333</td><td>16.240496</td><td>60</td><td>0</td><td>&quot;O&quot;</td><td>2024</td><td>7</td><td>17</td><td>6</td><td>30</td><td>0</td></tr><tr><td>17</td><td>&quot;acropolis-17&quot;</td><td>2024-07-17 07:30:00 UTC</td><td>437.800995</td><td>2.27189</td><td>0.892308</td><td>277.638462</td><td>2.147389</td><td>13</td><td>389</td><td>&quot;K&quot;</td><td>2024</td><td>7</td><td>17</td><td>7</td><td>30</td><td>0</td></tr></tbody></table></div>"
      ],
      "text/plain": [
       "shape: (2, 17)\n",
       "┌───────────┬────────────────┬─────────────────────┬────────────┬───┬─────┬──────┬────────┬────────┐\n",
       "│ system_id ┆ sys_name_short ┆ #Datetime           ┆ co2        ┆ … ┆ Day ┆ Hour ┆ Minute ┆ Second │\n",
       "│ ---       ┆ ---            ┆ ---                 ┆ ---        ┆   ┆ --- ┆ ---  ┆ ---    ┆ ---    │\n",
       "│ i64       ┆ str            ┆ datetime[μs, UTC]   ┆ f32        ┆   ┆ i8  ┆ i8   ┆ i8     ┆ i8     │\n",
       "╞═══════════╪════════════════╪═════════════════════╪════════════╪═══╪═════╪══════╪════════╪════════╡\n",
       "│ 17        ┆ acropolis-17   ┆ 2024-07-17 06:30:00 ┆ 458.691956 ┆ … ┆ 17  ┆ 6    ┆ 30     ┆ 0      │\n",
       "│           ┆                ┆ UTC                 ┆            ┆   ┆     ┆      ┆        ┆        │\n",
       "│ 17        ┆ acropolis-17   ┆ 2024-07-17 07:30:00 ┆ 437.800995 ┆ … ┆ 17  ┆ 7    ┆ 30     ┆ 0      │\n",
       "│           ┆                ┆ UTC                 ┆            ┆   ┆     ┆      ┆        ┆        │\n",
       "└───────────┴────────────────┴─────────────────────┴────────────┴───┴─────┴──────┴────────┴────────┘"
      ]
     },
     "execution_count": 58,
     "metadata": {},
     "output_type": "execute_result"
    }
   ],
   "source": [
    "df_1h.tail(2).collect()"
   ]
  },
  {
   "cell_type": "code",
   "execution_count": 64,
   "metadata": {},
   "outputs": [],
   "source": [
    "# Utility\n",
    "\n",
    "def extract_site_data(df, dates:dict[list[tuple]], site_name:str, plot=False):\n",
    "    extracted_dates = []\n",
    "    \n",
    "    for date in dates[site_name]:\n",
    "        #print(date[0], date[1], date[2])\n",
    "        \n",
    "        df_temp = df.filter(pl.col(\"system_id\") == date[0]).filter(pl.col(\"#Datetime\").is_between(date[1], date[2])).collect()\n",
    "        \n",
    "        extracted_dates.append(df_temp)\n",
    "    \n",
    "    df_extracted = pl.concat(extracted_dates)\n",
    "    \n",
    "    if plot:\n",
    "        fig = px.line(df_extracted, x=\"#Datetime\", y=\"co2\", markers=True, title=f\"{site_name}: CO2 Corrected [ppm]\")\n",
    "        fig.show()\n",
    "        \n",
    "    return df_extracted"
   ]
  },
  {
   "cell_type": "code",
   "execution_count": 62,
   "metadata": {},
   "outputs": [],
   "source": [
    "today = datetime(2024, 7, 17, 0, 0, 0).replace(tzinfo=timezone.utc)\n",
    "\n",
    "# INFO: First two days of deployment are cut due to system warming up and adjusting to new environment\n",
    "\n",
    "dates = {\n",
    "      \"KLEG\": [\n",
    "            (1, datetime(2024, 2, 29, 0, 0, 0).replace(tzinfo=timezone.utc), today)\n",
    "            ], \n",
    "      \"DLRO\": [\n",
    "            (14, datetime(2023, 11, 22, 0, 0, 0).replace(tzinfo=timezone.utc), datetime(2023, 12, 22, 23, 59, 59).replace(tzinfo=timezone.utc)),\n",
    "            (5, datetime(2024, 2, 28, 0, 0, 0).replace(tzinfo=timezone.utc), today)\n",
    "            ],\n",
    "      \"TUMN\": [\n",
    "            (6, datetime(2024, 2, 21, 0, 0, 0).replace(tzinfo=timezone.utc), datetime(2024, 5, 11, 0, 0, 0).replace(tzinfo=timezone.utc)),\n",
    "            (6, datetime(2024, 5, 31, 0, 0, 0).replace(tzinfo=timezone.utc), today)\n",
    "            ],\n",
    "      \"KRDI\": [\n",
    "            (2, datetime(2023, 9, 13, 0, 0, 0).replace(tzinfo=timezone.utc), datetime(2023, 12, 22, 0, 0, 0).replace(tzinfo=timezone.utc)),\n",
    "            (8, datetime(2024, 3, 15, 0, 0, 0).replace(tzinfo=timezone.utc), today)\n",
    "            ],\n",
    "      \"SWGG\": [\n",
    "            (10, datetime(2024, 4, 11, 0, 0, 0).replace(tzinfo=timezone.utc), today)\n",
    "            ],\n",
    "      \"RFIN\": [\n",
    "            (15, datetime(2023, 11, 16, 0, 0, 0).replace(tzinfo=timezone.utc), datetime(2023, 12, 22, 0, 0, 0).replace(tzinfo=timezone.utc)),\n",
    "            (3, datetime(2024, 2, 22, 0, 0, 0).replace(tzinfo=timezone.utc), datetime(2024, 4, 2, 23, 59, 59).replace(tzinfo=timezone.utc)),\n",
    "            (11, datetime(2024, 4, 11, 0, 0, 0).replace(tzinfo=timezone.utc), today)\n",
    "            ],\n",
    "      \"WKRT\": [\n",
    "            (8, datetime(2023, 10, 27, 0, 0, 0).replace(tzinfo=timezone.utc), datetime(2023, 12, 22, 0, 0, 0).replace(tzinfo=timezone.utc)),\n",
    "            (12, datetime(2024, 2, 14, 0, 0, 0).replace(tzinfo=timezone.utc), today)\n",
    "            ],\n",
    "      \"RFEL\": [\n",
    "            (7, datetime(2023, 12, 14, 0, 0, 0).replace(tzinfo=timezone.utc), datetime(2023, 12, 22, 0, 0, 0).replace(tzinfo=timezone.utc)),\n",
    "            (13, datetime(2024, 2, 22, 0, 0, 0).replace(tzinfo=timezone.utc), today)\n",
    "            ],\n",
    "      \"SWMZ\": [\n",
    "            (15, datetime(2024, 6, 14, 0, 0, 0).replace(tzinfo=timezone.utc), today)\n",
    "            ],\n",
    "      \"SMAI\": [\n",
    "            (1, datetime(2023, 9, 8, 0, 0, 0).replace(tzinfo=timezone.utc), datetime(2023, 12, 22, 0, 0, 0).replace(tzinfo=timezone.utc)),\n",
    "            (16, datetime(2024, 2, 8, 0, 0, 0).replace(tzinfo=timezone.utc), today)\n",
    "            ],\n",
    "      \"SBBG\": [\n",
    "            (5, datetime(2023, 11, 16, 0, 0, 0).replace(tzinfo=timezone.utc), datetime(2024, 2, 6, 0, 0, 0).replace(tzinfo=timezone.utc)),\n",
    "            (18, datetime(2024, 2, 8, 0, 0, 0).replace(tzinfo=timezone.utc), today)\n",
    "            ],\n",
    "      \"LGRO\": [\n",
    "            (4, datetime(2023, 9, 22, 0, 0, 0).replace(tzinfo=timezone.utc), datetime(2024, 2, 12, 0, 0, 0).replace(tzinfo=timezone.utc)),\n",
    "            (20, datetime(2024, 2, 14, 0, 0, 0).replace(tzinfo=timezone.utc), today)\n",
    "            ],\n",
    "      \"FB48\": [\n",
    "            (14, datetime(2024, 6, 23, 0, 0, 0).replace(tzinfo=timezone.utc), today)\n",
    "            ], \n",
    "      \"FB85\": [\n",
    "            (7, datetime(2024, 6, 23, 0, 0, 0).replace(tzinfo=timezone.utc), today)\n",
    "            ], \n",
    "      \"KNPL\": [\n",
    "            (9, datetime(2024, 6, 26, 0, 0, 0).replace(tzinfo=timezone.utc), today)\n",
    "            ], \n",
    "      \"KBOG\": [\n",
    "            (17, datetime(2024, 7, 9, 0, 0, 0).replace(tzinfo=timezone.utc), today)\n",
    "            ], \n",
    " }\n"
   ]
  },
  {
   "cell_type": "code",
   "execution_count": 65,
   "metadata": {},
   "outputs": [
    {
     "data": {
      "text/html": [
       "<div><style>\n",
       ".dataframe > thead > tr,\n",
       ".dataframe > tbody > tr {\n",
       "  text-align: right;\n",
       "  white-space: pre-wrap;\n",
       "}\n",
       "</style>\n",
       "<small>shape: (6_191, 17)</small><table border=\"1\" class=\"dataframe\"><thead><tr><th>system_id</th><th>sys_name_short</th><th>#Datetime</th><th>co2</th><th>h2o</th><th>ws</th><th>wd</th><th>Stdev</th><th>NbPoints</th><th>OriginalFlag</th><th>Flag</th><th>Year</th><th>Month</th><th>Day</th><th>Hour</th><th>Minute</th><th>Second</th></tr><tr><td>i64</td><td>str</td><td>datetime[μs, UTC]</td><td>f32</td><td>f64</td><td>f64</td><td>f64</td><td>f32</td><td>u32</td><td>i32</td><td>str</td><td>i32</td><td>i8</td><td>i8</td><td>i8</td><td>i8</td><td>i8</td></tr></thead><tbody><tr><td>1</td><td>&quot;acropolis-1&quot;</td><td>2023-09-08 00:30:00 UTC</td><td>525.686646</td><td>1.536833</td><td>0.788333</td><td>150.666667</td><td>36.749001</td><td>60</td><td>0</td><td>&quot;O&quot;</td><td>2023</td><td>9</td><td>8</td><td>0</td><td>30</td><td>0</td></tr><tr><td>1</td><td>&quot;acropolis-1&quot;</td><td>2023-09-08 01:30:00 UTC</td><td>555.169189</td><td>1.487815</td><td>0.668333</td><td>185.6</td><td>34.284832</td><td>60</td><td>0</td><td>&quot;O&quot;</td><td>2023</td><td>9</td><td>8</td><td>1</td><td>30</td><td>0</td></tr><tr><td>1</td><td>&quot;acropolis-1&quot;</td><td>2023-09-08 02:30:00 UTC</td><td>586.737854</td><td>1.449841</td><td>0.595</td><td>239.566667</td><td>26.875011</td><td>60</td><td>0</td><td>&quot;O&quot;</td><td>2023</td><td>9</td><td>8</td><td>2</td><td>30</td><td>0</td></tr><tr><td>1</td><td>&quot;acropolis-1&quot;</td><td>2023-09-08 03:30:00 UTC</td><td>606.083923</td><td>1.408887</td><td>1.026667</td><td>186.5</td><td>18.97349</td><td>60</td><td>0</td><td>&quot;O&quot;</td><td>2023</td><td>9</td><td>8</td><td>3</td><td>30</td><td>0</td></tr><tr><td>1</td><td>&quot;acropolis-1&quot;</td><td>2023-09-08 04:30:00 UTC</td><td>623.262939</td><td>1.391929</td><td>0.743333</td><td>229.95</td><td>20.104853</td><td>60</td><td>0</td><td>&quot;O&quot;</td><td>2023</td><td>9</td><td>8</td><td>4</td><td>30</td><td>0</td></tr><tr><td>1</td><td>&quot;acropolis-1&quot;</td><td>2023-09-08 05:30:00 UTC</td><td>611.634399</td><td>1.540214</td><td>0.73</td><td>232.483333</td><td>20.82835</td><td>60</td><td>0</td><td>&quot;O&quot;</td><td>2023</td><td>9</td><td>8</td><td>5</td><td>30</td><td>0</td></tr><tr><td>1</td><td>&quot;acropolis-1&quot;</td><td>2023-09-08 06:30:00 UTC</td><td>549.209229</td><td>1.59476</td><td>1.18</td><td>245.0</td><td>31.699793</td><td>60</td><td>0</td><td>&quot;O&quot;</td><td>2023</td><td>9</td><td>8</td><td>6</td><td>30</td><td>0</td></tr><tr><td>1</td><td>&quot;acropolis-1&quot;</td><td>2023-09-08 07:30:00 UTC</td><td>497.243591</td><td>1.671611</td><td>0.87</td><td>237.666667</td><td>9.433885</td><td>60</td><td>0</td><td>&quot;O&quot;</td><td>2023</td><td>9</td><td>8</td><td>7</td><td>30</td><td>0</td></tr><tr><td>1</td><td>&quot;acropolis-1&quot;</td><td>2023-09-08 08:30:00 UTC</td><td>466.497528</td><td>1.7407</td><td>0.77</td><td>220.6</td><td>11.224157</td><td>60</td><td>0</td><td>&quot;O&quot;</td><td>2023</td><td>9</td><td>8</td><td>8</td><td>30</td><td>0</td></tr><tr><td>1</td><td>&quot;acropolis-1&quot;</td><td>2023-09-08 09:30:00 UTC</td><td>450.882324</td><td>1.88543</td><td>0.495</td><td>158.533333</td><td>3.305336</td><td>60</td><td>0</td><td>&quot;O&quot;</td><td>2023</td><td>9</td><td>8</td><td>9</td><td>30</td><td>0</td></tr><tr><td>1</td><td>&quot;acropolis-1&quot;</td><td>2023-09-08 10:30:00 UTC</td><td>441.004242</td><td>1.884466</td><td>0.648333</td><td>176.366667</td><td>7.690867</td><td>60</td><td>0</td><td>&quot;O&quot;</td><td>2023</td><td>9</td><td>8</td><td>10</td><td>30</td><td>0</td></tr><tr><td>1</td><td>&quot;acropolis-1&quot;</td><td>2023-09-08 11:30:00 UTC</td><td>424.226685</td><td>1.887394</td><td>1.095</td><td>258.466667</td><td>1.621225</td><td>60</td><td>0</td><td>&quot;O&quot;</td><td>2023</td><td>9</td><td>8</td><td>11</td><td>30</td><td>0</td></tr><tr><td>&hellip;</td><td>&hellip;</td><td>&hellip;</td><td>&hellip;</td><td>&hellip;</td><td>&hellip;</td><td>&hellip;</td><td>&hellip;</td><td>&hellip;</td><td>&hellip;</td><td>&hellip;</td><td>&hellip;</td><td>&hellip;</td><td>&hellip;</td><td>&hellip;</td><td>&hellip;</td><td>&hellip;</td></tr><tr><td>16</td><td>&quot;acropolis-16&quot;</td><td>2024-07-16 12:30:00 UTC</td><td>413.463989</td><td>2.697942</td><td>2.023333</td><td>245.828333</td><td>1.380952</td><td>60</td><td>0</td><td>&quot;O&quot;</td><td>2024</td><td>7</td><td>16</td><td>12</td><td>30</td><td>0</td></tr><tr><td>16</td><td>&quot;acropolis-16&quot;</td><td>2024-07-16 13:30:00 UTC</td><td>413.083923</td><td>2.553285</td><td>2.621667</td><td>238.733333</td><td>1.980206</td><td>60</td><td>0</td><td>&quot;O&quot;</td><td>2024</td><td>7</td><td>16</td><td>13</td><td>30</td><td>0</td></tr><tr><td>16</td><td>&quot;acropolis-16&quot;</td><td>2024-07-16 14:30:00 UTC</td><td>413.741211</td><td>2.466553</td><td>2.74</td><td>226.506667</td><td>1.227463</td><td>60</td><td>0</td><td>&quot;O&quot;</td><td>2024</td><td>7</td><td>16</td><td>14</td><td>30</td><td>0</td></tr><tr><td>16</td><td>&quot;acropolis-16&quot;</td><td>2024-07-16 15:30:00 UTC</td><td>414.287018</td><td>2.391559</td><td>3.178333</td><td>246.106667</td><td>2.01051</td><td>60</td><td>0</td><td>&quot;O&quot;</td><td>2024</td><td>7</td><td>16</td><td>15</td><td>30</td><td>0</td></tr><tr><td>16</td><td>&quot;acropolis-16&quot;</td><td>2024-07-16 16:30:00 UTC</td><td>418.075897</td><td>2.366144</td><td>2.835</td><td>267.946667</td><td>2.096512</td><td>60</td><td>0</td><td>&quot;O&quot;</td><td>2024</td><td>7</td><td>16</td><td>16</td><td>30</td><td>0</td></tr><tr><td>16</td><td>&quot;acropolis-16&quot;</td><td>2024-07-16 17:30:00 UTC</td><td>422.629089</td><td>2.535766</td><td>1.275</td><td>158.625</td><td>1.426311</td><td>60</td><td>0</td><td>&quot;O&quot;</td><td>2024</td><td>7</td><td>16</td><td>17</td><td>30</td><td>0</td></tr><tr><td>16</td><td>&quot;acropolis-16&quot;</td><td>2024-07-16 18:30:00 UTC</td><td>428.006409</td><td>2.61602</td><td>2.285714</td><td>181.276786</td><td>3.915626</td><td>56</td><td>0</td><td>&quot;O&quot;</td><td>2024</td><td>7</td><td>16</td><td>18</td><td>30</td><td>0</td></tr><tr><td>16</td><td>&quot;acropolis-16&quot;</td><td>2024-07-16 19:30:00 UTC</td><td>430.733368</td><td>2.489939</td><td>1.353333</td><td>216.84</td><td>3.079914</td><td>60</td><td>0</td><td>&quot;O&quot;</td><td>2024</td><td>7</td><td>16</td><td>19</td><td>30</td><td>0</td></tr><tr><td>16</td><td>&quot;acropolis-16&quot;</td><td>2024-07-16 20:30:00 UTC</td><td>445.241486</td><td>2.51134</td><td>0.918333</td><td>287.815</td><td>8.064178</td><td>60</td><td>0</td><td>&quot;O&quot;</td><td>2024</td><td>7</td><td>16</td><td>20</td><td>30</td><td>0</td></tr><tr><td>16</td><td>&quot;acropolis-16&quot;</td><td>2024-07-16 21:30:00 UTC</td><td>444.18515</td><td>2.29455</td><td>1.483333</td><td>291.721667</td><td>6.417263</td><td>60</td><td>0</td><td>&quot;O&quot;</td><td>2024</td><td>7</td><td>16</td><td>21</td><td>30</td><td>0</td></tr><tr><td>16</td><td>&quot;acropolis-16&quot;</td><td>2024-07-16 22:30:00 UTC</td><td>454.394745</td><td>2.266513</td><td>1.061667</td><td>242.201667</td><td>7.601977</td><td>60</td><td>0</td><td>&quot;O&quot;</td><td>2024</td><td>7</td><td>16</td><td>22</td><td>30</td><td>0</td></tr><tr><td>16</td><td>&quot;acropolis-16&quot;</td><td>2024-07-16 23:30:00 UTC</td><td>472.624695</td><td>2.305424</td><td>0.95</td><td>279.795</td><td>6.788084</td><td>60</td><td>0</td><td>&quot;O&quot;</td><td>2024</td><td>7</td><td>16</td><td>23</td><td>30</td><td>0</td></tr></tbody></table></div>"
      ],
      "text/plain": [
       "shape: (6_191, 17)\n",
       "┌───────────┬────────────────┬─────────────────────┬────────────┬───┬─────┬──────┬────────┬────────┐\n",
       "│ system_id ┆ sys_name_short ┆ #Datetime           ┆ co2        ┆ … ┆ Day ┆ Hour ┆ Minute ┆ Second │\n",
       "│ ---       ┆ ---            ┆ ---                 ┆ ---        ┆   ┆ --- ┆ ---  ┆ ---    ┆ ---    │\n",
       "│ i64       ┆ str            ┆ datetime[μs, UTC]   ┆ f32        ┆   ┆ i8  ┆ i8   ┆ i8     ┆ i8     │\n",
       "╞═══════════╪════════════════╪═════════════════════╪════════════╪═══╪═════╪══════╪════════╪════════╡\n",
       "│ 1         ┆ acropolis-1    ┆ 2023-09-08 00:30:00 ┆ 525.686646 ┆ … ┆ 8   ┆ 0    ┆ 30     ┆ 0      │\n",
       "│           ┆                ┆ UTC                 ┆            ┆   ┆     ┆      ┆        ┆        │\n",
       "│ 1         ┆ acropolis-1    ┆ 2023-09-08 01:30:00 ┆ 555.169189 ┆ … ┆ 8   ┆ 1    ┆ 30     ┆ 0      │\n",
       "│           ┆                ┆ UTC                 ┆            ┆   ┆     ┆      ┆        ┆        │\n",
       "│ 1         ┆ acropolis-1    ┆ 2023-09-08 02:30:00 ┆ 586.737854 ┆ … ┆ 8   ┆ 2    ┆ 30     ┆ 0      │\n",
       "│           ┆                ┆ UTC                 ┆            ┆   ┆     ┆      ┆        ┆        │\n",
       "│ 1         ┆ acropolis-1    ┆ 2023-09-08 03:30:00 ┆ 606.083923 ┆ … ┆ 8   ┆ 3    ┆ 30     ┆ 0      │\n",
       "│           ┆                ┆ UTC                 ┆            ┆   ┆     ┆      ┆        ┆        │\n",
       "│ 1         ┆ acropolis-1    ┆ 2023-09-08 04:30:00 ┆ 623.262939 ┆ … ┆ 8   ┆ 4    ┆ 30     ┆ 0      │\n",
       "│           ┆                ┆ UTC                 ┆            ┆   ┆     ┆      ┆        ┆        │\n",
       "│ …         ┆ …              ┆ …                   ┆ …          ┆ … ┆ …   ┆ …    ┆ …      ┆ …      │\n",
       "│ 16        ┆ acropolis-16   ┆ 2024-07-16 19:30:00 ┆ 430.733368 ┆ … ┆ 16  ┆ 19   ┆ 30     ┆ 0      │\n",
       "│           ┆                ┆ UTC                 ┆            ┆   ┆     ┆      ┆        ┆        │\n",
       "│ 16        ┆ acropolis-16   ┆ 2024-07-16 20:30:00 ┆ 445.241486 ┆ … ┆ 16  ┆ 20   ┆ 30     ┆ 0      │\n",
       "│           ┆                ┆ UTC                 ┆            ┆   ┆     ┆      ┆        ┆        │\n",
       "│ 16        ┆ acropolis-16   ┆ 2024-07-16 21:30:00 ┆ 444.18515  ┆ … ┆ 16  ┆ 21   ┆ 30     ┆ 0      │\n",
       "│           ┆                ┆ UTC                 ┆            ┆   ┆     ┆      ┆        ┆        │\n",
       "│ 16        ┆ acropolis-16   ┆ 2024-07-16 22:30:00 ┆ 454.394745 ┆ … ┆ 16  ┆ 22   ┆ 30     ┆ 0      │\n",
       "│           ┆                ┆ UTC                 ┆            ┆   ┆     ┆      ┆        ┆        │\n",
       "│ 16        ┆ acropolis-16   ┆ 2024-07-16 23:30:00 ┆ 472.624695 ┆ … ┆ 16  ┆ 23   ┆ 30     ┆ 0      │\n",
       "│           ┆                ┆ UTC                 ┆            ┆   ┆     ┆      ┆        ┆        │\n",
       "└───────────┴────────────────┴─────────────────────┴────────────┴───┴─────┴──────┴────────┴────────┘"
      ]
     },
     "execution_count": 65,
     "metadata": {},
     "output_type": "execute_result"
    }
   ],
   "source": [
    "extract_site_data(df=df_1h, dates = dates, site_name=\"SMAI\")"
   ]
  },
  {
   "cell_type": "code",
   "execution_count": 66,
   "metadata": {},
   "outputs": [],
   "source": [
    "extracted_dates = []\n",
    "\n",
    "for key, site in dates.items():\n",
    "    \n",
    "    df_temp = extract_site_data(df=df_1m, dates = dates, site_name=key)\n",
    "    df_temp = df_temp.with_columns(site_name = pl.lit(key))\n",
    "    df_temp.write_parquet(os.path.join(DATA_DIRECTORY,\"processed/acropolis_sites\", f\"1m_acropolis_{key}.parquet\"))\n",
    "    \n",
    "    df_temp = extract_site_data(df=df_1h, dates = dates, site_name=key)\n",
    "    df_temp = df_temp.with_columns(site_name = pl.lit(key))\n",
    "    df_temp.write_parquet(os.path.join(DATA_DIRECTORY,\"processed/acropolis_sites\", f\"1h_acropolis_{key}.parquet\"))\n",
    "    extracted_dates.append(df_temp)"
   ]
  }
 ],
 "metadata": {
  "kernelspec": {
   "display_name": ".venv",
   "language": "python",
   "name": "python3"
  },
  "language_info": {
   "codemirror_mode": {
    "name": "ipython",
    "version": 3
   },
   "file_extension": ".py",
   "mimetype": "text/x-python",
   "name": "python",
   "nbconvert_exporter": "python",
   "pygments_lexer": "ipython3",
   "version": "3.11.9"
  }
 },
 "nbformat": 4,
 "nbformat_minor": 2
}
