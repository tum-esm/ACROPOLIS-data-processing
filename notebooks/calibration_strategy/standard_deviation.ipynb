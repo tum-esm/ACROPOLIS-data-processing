{
 "cells": [
  {
   "cell_type": "code",
   "execution_count": 1,
   "metadata": {},
   "outputs": [],
   "source": [
    "import polars as pl\n",
    "import os\n",
    "from datetime import datetime\n",
    "from datetime import timezone\n",
    "import plotly.express as px\n",
    "from plotly.subplots import make_subplots\n",
    "import plotly.graph_objects as go\n",
    "import numpy as np\n",
    "\n",
    "DATA_DIRECTORY = os.environ.get(\"DATA_DIRECTORY\")\n",
    "PICARRO_DATA_DIRECTORy = os.environ.get(\"PICARRO_DATA_DIRECTORY\")"
   ]
  },
  {
   "cell_type": "code",
   "execution_count": 2,
   "metadata": {},
   "outputs": [],
   "source": [
    "# 10m preprocessed acropolis data\n",
    "df_acropolis = pl.scan_parquet(os.path.join(DATA_DIRECTORY, \"processed\", \"test_10m_cal_corr_acropolis.parquet\"))\n",
    "  \n",
    "# 10m preprocessed picarro data\n",
    "df_p_10m = pl.scan_parquet(os.path.join(DATA_DIRECTORY,\"processed\", \"10m_cal_corr_picarro.parquet\"))"
   ]
  },
  {
   "cell_type": "code",
   "execution_count": 3,
   "metadata": {},
   "outputs": [
    {
     "data": {
      "text/html": [
       "<div><style>\n",
       ".dataframe > thead > tr,\n",
       ".dataframe > tbody > tr {\n",
       "  text-align: right;\n",
       "  white-space: pre-wrap;\n",
       "}\n",
       "</style>\n",
       "<small>shape: (5, 56)</small><table border=\"1\" class=\"dataframe\"><thead><tr><th>system_name</th><th>creation_timestamp</th><th>gmp343_raw</th><th>gmp343_compensated</th><th>gmp343_filtered</th><th>gmp343_temperature</th><th>wxt532_speed_avg</th><th>wxt532_speed_min</th><th>wxt532_speed_max</th><th>wxt532_direction_avg</th><th>wxt532_direction_min</th><th>wxt532_direction_max</th><th>wxt532_last_update_time</th><th>raspi_cpu_usage</th><th>raspi_cpu_temperature</th><th>raspi_disk_usage</th><th>enclosure_bme280_humidity</th><th>enclosure_bme280_pressure</th><th>enclosure_bme280_temperature</th><th>sht45_humidity</th><th>sht45_temperature</th><th>bme280_humidity</th><th>bme280_temperature</th><th>bme280_pressure</th><th>cal_bottle_id</th><th>cal_gmp343_raw</th><th>cal_gmp343_compensated</th><th>cal_gmp343_filtered</th><th>cal_gmp343_temperature</th><th>cal_bme280_temperature</th><th>cal_bme280_humidity</th><th>cal_bme280_pressure</th><th>cal_sht45_temperature</th><th>cal_sht45_humidity</th><th>revision</th><th>receipt_timestamp</th><th>raspi_memory_usage</th><th>wxt532_temperature</th><th>wxt532_heating_voltage</th><th>wxt532_supply_voltage</th><th>wxt532_reference_voltage</th><th>ups_battery_error_detected</th><th>ups_battery_above_voltage_threshold</th><th>ups_battery_is_fully_charged</th><th>ups_powered_by_grid</th><th>date</th><th>gmp343_dry</th><th>h2o_ah</th><th>h2o_ppm</th><th>CO2_corr</th><th>system_id</th><th>diff</th><th>sys_name_short</th><th>slope</th><th>intercept</th><th>gmp343_corrected</th></tr><tr><td>str</td><td>datetime[μs, UTC]</td><td>f64</td><td>f64</td><td>f64</td><td>f64</td><td>f64</td><td>f64</td><td>f64</td><td>f64</td><td>f64</td><td>f64</td><td>f64</td><td>f64</td><td>f64</td><td>f64</td><td>f64</td><td>f64</td><td>f64</td><td>f64</td><td>f64</td><td>f64</td><td>f64</td><td>f64</td><td>f64</td><td>f64</td><td>f64</td><td>f64</td><td>f64</td><td>f64</td><td>f64</td><td>f64</td><td>f64</td><td>f64</td><td>f64</td><td>datetime[ns, UTC]</td><td>f64</td><td>f64</td><td>f64</td><td>f64</td><td>f64</td><td>f64</td><td>f64</td><td>f64</td><td>f64</td><td>date</td><td>f64</td><td>f64</td><td>f64</td><td>f64</td><td>i64</td><td>struct[4]</td><td>str</td><td>f64</td><td>f64</td><td>f64</td></tr></thead><tbody><tr><td>&quot;tum-esm-midcos…</td><td>2023-06-01 00:00:00 UTC</td><td>null</td><td>null</td><td>null</td><td>null</td><td>0.94</td><td>0.26</td><td>1.66</td><td>104.2</td><td>123.2</td><td>294.2</td><td>1.6856e9</td><td>0.0312</td><td>53.52</td><td>0.426</td><td>15.154</td><td>956.434</td><td>33.662</td><td>null</td><td>null</td><td>null</td><td>null</td><td>null</td><td>null</td><td>null</td><td>null</td><td>null</td><td>null</td><td>null</td><td>null</td><td>null</td><td>null</td><td>null</td><td>null</td><td>null</td><td>null</td><td>null</td><td>null</td><td>null</td><td>null</td><td>null</td><td>null</td><td>null</td><td>null</td><td>2023-06-01</td><td>null</td><td>null</td><td>null</td><td>null</td><td>1</td><td>{null,null,null,null}</td><td>&quot;mid-cost-1&quot;</td><td>null</td><td>null</td><td>null</td></tr><tr><td>&quot;tum-esm-midcos…</td><td>2023-06-01 00:10:00 UTC</td><td>null</td><td>null</td><td>null</td><td>null</td><td>1.12</td><td>0.44</td><td>1.74</td><td>47.0</td><td>87.8</td><td>218.2</td><td>1.6856e9</td><td>0.0438</td><td>53.88</td><td>0.426</td><td>15.228</td><td>956.448</td><td>33.5</td><td>null</td><td>null</td><td>null</td><td>null</td><td>null</td><td>null</td><td>null</td><td>null</td><td>null</td><td>null</td><td>null</td><td>null</td><td>null</td><td>null</td><td>null</td><td>null</td><td>null</td><td>null</td><td>null</td><td>null</td><td>null</td><td>null</td><td>null</td><td>null</td><td>null</td><td>null</td><td>2023-06-01</td><td>null</td><td>null</td><td>null</td><td>null</td><td>1</td><td>{null,null,null,null}</td><td>&quot;mid-cost-1&quot;</td><td>null</td><td>null</td><td>null</td></tr><tr><td>&quot;tum-esm-midcos…</td><td>2023-06-01 00:20:00 UTC</td><td>null</td><td>null</td><td>null</td><td>null</td><td>0.675</td><td>0.275</td><td>1.35</td><td>57.75</td><td>107.0</td><td>262.0</td><td>1.6856e9</td><td>0.0335</td><td>53.875</td><td>0.426</td><td>15.2375</td><td>956.4725</td><td>33.585</td><td>null</td><td>null</td><td>null</td><td>null</td><td>null</td><td>null</td><td>null</td><td>null</td><td>null</td><td>null</td><td>null</td><td>null</td><td>null</td><td>null</td><td>null</td><td>null</td><td>null</td><td>null</td><td>null</td><td>null</td><td>null</td><td>null</td><td>null</td><td>null</td><td>null</td><td>null</td><td>2023-06-01</td><td>null</td><td>null</td><td>null</td><td>null</td><td>1</td><td>{null,null,null,null}</td><td>&quot;mid-cost-1&quot;</td><td>null</td><td>null</td><td>null</td></tr><tr><td>&quot;tum-esm-midcos…</td><td>2023-06-01 00:30:00 UTC</td><td>null</td><td>null</td><td>null</td><td>null</td><td>0.66</td><td>0.22</td><td>1.26</td><td>168.2</td><td>81.6</td><td>174.8</td><td>1.6856e9</td><td>0.0418</td><td>53.4</td><td>0.426</td><td>15.024</td><td>956.406</td><td>34.104</td><td>null</td><td>null</td><td>null</td><td>null</td><td>null</td><td>null</td><td>null</td><td>null</td><td>null</td><td>null</td><td>null</td><td>null</td><td>null</td><td>null</td><td>null</td><td>null</td><td>null</td><td>null</td><td>null</td><td>null</td><td>null</td><td>null</td><td>null</td><td>null</td><td>null</td><td>null</td><td>2023-06-01</td><td>null</td><td>null</td><td>null</td><td>null</td><td>1</td><td>{null,null,null,null}</td><td>&quot;mid-cost-1&quot;</td><td>null</td><td>null</td><td>null</td></tr><tr><td>&quot;tum-esm-midcos…</td><td>2023-06-01 00:40:00 UTC</td><td>null</td><td>null</td><td>null</td><td>null</td><td>1.04</td><td>0.38</td><td>1.82</td><td>62.4</td><td>89.0</td><td>287.6</td><td>1.6856e9</td><td>0.0436</td><td>54.0</td><td>0.426</td><td>14.796</td><td>956.312</td><td>34.432</td><td>null</td><td>null</td><td>null</td><td>null</td><td>null</td><td>null</td><td>null</td><td>null</td><td>null</td><td>null</td><td>null</td><td>null</td><td>null</td><td>null</td><td>null</td><td>null</td><td>null</td><td>null</td><td>null</td><td>null</td><td>null</td><td>null</td><td>null</td><td>null</td><td>null</td><td>null</td><td>2023-06-01</td><td>null</td><td>null</td><td>null</td><td>null</td><td>1</td><td>{null,null,null,null}</td><td>&quot;mid-cost-1&quot;</td><td>null</td><td>null</td><td>null</td></tr></tbody></table></div>"
      ],
      "text/plain": [
       "shape: (5, 56)\n",
       "┌────────────┬────────────┬────────────┬───────────┬───┬───────────┬───────┬───────────┬───────────┐\n",
       "│ system_nam ┆ creation_t ┆ gmp343_raw ┆ gmp343_co ┆ … ┆ sys_name_ ┆ slope ┆ intercept ┆ gmp343_co │\n",
       "│ e          ┆ imestamp   ┆ ---        ┆ mpensated ┆   ┆ short     ┆ ---   ┆ ---       ┆ rrected   │\n",
       "│ ---        ┆ ---        ┆ f64        ┆ ---       ┆   ┆ ---       ┆ f64   ┆ f64       ┆ ---       │\n",
       "│ str        ┆ datetime[μ ┆            ┆ f64       ┆   ┆ str       ┆       ┆           ┆ f64       │\n",
       "│            ┆ s, UTC]    ┆            ┆           ┆   ┆           ┆       ┆           ┆           │\n",
       "╞════════════╪════════════╪════════════╪═══════════╪═══╪═══════════╪═══════╪═══════════╪═══════════╡\n",
       "│ tum-esm-mi ┆ 2023-06-01 ┆ null       ┆ null      ┆ … ┆ mid-cost- ┆ null  ┆ null      ┆ null      │\n",
       "│ dcost-rasp ┆ 00:00:00   ┆            ┆           ┆   ┆ 1         ┆       ┆           ┆           │\n",
       "│ i-1        ┆ UTC        ┆            ┆           ┆   ┆           ┆       ┆           ┆           │\n",
       "│ tum-esm-mi ┆ 2023-06-01 ┆ null       ┆ null      ┆ … ┆ mid-cost- ┆ null  ┆ null      ┆ null      │\n",
       "│ dcost-rasp ┆ 00:10:00   ┆            ┆           ┆   ┆ 1         ┆       ┆           ┆           │\n",
       "│ i-1        ┆ UTC        ┆            ┆           ┆   ┆           ┆       ┆           ┆           │\n",
       "│ tum-esm-mi ┆ 2023-06-01 ┆ null       ┆ null      ┆ … ┆ mid-cost- ┆ null  ┆ null      ┆ null      │\n",
       "│ dcost-rasp ┆ 00:20:00   ┆            ┆           ┆   ┆ 1         ┆       ┆           ┆           │\n",
       "│ i-1        ┆ UTC        ┆            ┆           ┆   ┆           ┆       ┆           ┆           │\n",
       "│ tum-esm-mi ┆ 2023-06-01 ┆ null       ┆ null      ┆ … ┆ mid-cost- ┆ null  ┆ null      ┆ null      │\n",
       "│ dcost-rasp ┆ 00:30:00   ┆            ┆           ┆   ┆ 1         ┆       ┆           ┆           │\n",
       "│ i-1        ┆ UTC        ┆            ┆           ┆   ┆           ┆       ┆           ┆           │\n",
       "│ tum-esm-mi ┆ 2023-06-01 ┆ null       ┆ null      ┆ … ┆ mid-cost- ┆ null  ┆ null      ┆ null      │\n",
       "│ dcost-rasp ┆ 00:40:00   ┆            ┆           ┆   ┆ 1         ┆       ┆           ┆           │\n",
       "│ i-1        ┆ UTC        ┆            ┆           ┆   ┆           ┆       ┆           ┆           │\n",
       "└────────────┴────────────┴────────────┴───────────┴───┴───────────┴───────┴───────────┴───────────┘"
      ]
     },
     "execution_count": 3,
     "metadata": {},
     "output_type": "execute_result"
    }
   ],
   "source": [
    "df_acropolis.head(5).collect()"
   ]
  },
  {
   "cell_type": "code",
   "execution_count": 4,
   "metadata": {},
   "outputs": [],
   "source": [
    "ongoing_sbs = datetime(2024, 3, 11, 23, 59, 59).replace(tzinfo=timezone.utc)\n",
    "\n",
    "sbs_times = [\n",
    "    (1,datetime(2024, 2, 7, 0, 0, 0).replace(tzinfo=timezone.utc),ongoing_sbs),\n",
    "    #2 is still deployed\n",
    "    (3,datetime(2024, 1, 13, 0, 0, 0).replace(tzinfo=timezone.utc),datetime(2024, 2, 18, 23, 59, 59).replace(tzinfo=timezone.utc)),\n",
    "    (4,datetime(2024, 2, 14, 0, 0, 0).replace(tzinfo=timezone.utc),ongoing_sbs),\n",
    "    (5,datetime(2024, 2, 7, 0, 0, 0).replace(tzinfo=timezone.utc),datetime(2024, 2, 25, 23, 59, 59).replace(tzinfo=timezone.utc)),\n",
    "    (6,datetime(2024, 2, 20, 0, 0, 0).replace(tzinfo=timezone.utc),ongoing_sbs),\n",
    "    (7,datetime(2024, 2, 21, 0, 0, 0).replace(tzinfo=timezone.utc),ongoing_sbs),\n",
    "    (8,datetime(2024, 2, 13, 0, 0, 0).replace(tzinfo=timezone.utc),ongoing_sbs),\n",
    "    (9,datetime(2024, 2, 12, 0, 0, 0).replace(tzinfo=timezone.utc),ongoing_sbs),\n",
    "    (10,datetime(2024, 1, 13, 0, 0, 0).replace(tzinfo=timezone.utc),ongoing_sbs),\n",
    "    (11,datetime(2024, 1, 12, 0, 0, 0).replace(tzinfo=timezone.utc),ongoing_sbs),\n",
    "    (12,datetime(2023, 12, 23, 0, 0, 0).replace(tzinfo=timezone.utc),datetime(2024, 2, 11, 23, 59, 59).replace(tzinfo=timezone.utc)),\n",
    "    (13,datetime(2024, 1, 13, 0, 0, 0).replace(tzinfo=timezone.utc),datetime(2024, 1, 30, 23, 59, 59).replace(tzinfo=timezone.utc)),\n",
    "    #(14,datetime(2024, 2, 29, 0, 0, 0).replace(tzinfo=timezone.utc),ongoing_sbs),\n",
    "    (15,datetime(2024, 2, 21, 0, 0, 0).replace(tzinfo=timezone.utc),ongoing_sbs),\n",
    "    (16,datetime(2023, 12, 23, 0, 0, 0).replace(tzinfo=timezone.utc),datetime(2024, 2, 5, 23, 59, 59).replace(tzinfo=timezone.utc)),\n",
    "    # 17 needs assembly\n",
    "    (18,datetime(2023, 12, 23, 0, 0, 0).replace(tzinfo=timezone.utc),datetime(2024, 2, 5, 23, 59, 59).replace(tzinfo=timezone.utc)),\n",
    "    # 19 needs assembly\n",
    "    (20,datetime(2023, 12, 23, 0, 0, 0).replace(tzinfo=timezone.utc),datetime(2024, 2, 11, 23, 59, 59).replace(tzinfo=timezone.utc))    \n",
    "]"
   ]
  },
  {
   "cell_type": "code",
   "execution_count": 5,
   "metadata": {},
   "outputs": [
    {
     "name": "stdout",
     "output_type": "stream",
     "text": [
      "processing 1\n"
     ]
    },
    {
     "name": "stderr",
     "output_type": "stream",
     "text": [
      "thread '<unnamed>' panicked at crates/polars-core/src/series/mod.rs:462:67:\n",
      "called `Result::unwrap()` on an `Err` value: Duplicate(ErrString(\"multiple fields with name 'mean_cal_low' found\"))\n",
      "note: run with `RUST_BACKTRACE=1` environment variable to display a backtrace\n"
     ]
    },
    {
     "ename": "PanicException",
     "evalue": "called `Result::unwrap()` on an `Err` value: Duplicate(ErrString(\"multiple fields with name 'mean_cal_low' found\"))",
     "output_type": "error",
     "traceback": [
      "\u001b[0;31m---------------------------------------------------------------------------\u001b[0m",
      "\u001b[0;31mPanicException\u001b[0m                            Traceback (most recent call last)",
      "Cell \u001b[0;32mIn[5], line 59\u001b[0m\n\u001b[1;32m     50\u001b[0m calibrations_1_std \u001b[38;5;241m=\u001b[39m df_std\u001b[38;5;241m.\u001b[39mfilter(pl\u001b[38;5;241m.\u001b[39mcol(\u001b[38;5;124m\"\u001b[39m\u001b[38;5;124mslope_1_std_selector\u001b[39m\u001b[38;5;124m\"\u001b[39m) \u001b[38;5;241m==\u001b[39m \u001b[38;5;28;01mTrue\u001b[39;00m)\u001b[38;5;241m.\u001b[39mselect(\u001b[38;5;124m\"\u001b[39m\u001b[38;5;124mcreation_timestamp\u001b[39m\u001b[38;5;124m\"\u001b[39m,\u001b[38;5;124m\"\u001b[39m\u001b[38;5;124mslope\u001b[39m\u001b[38;5;124m\"\u001b[39m, \u001b[38;5;124m\"\u001b[39m\u001b[38;5;124mintercept\u001b[39m\u001b[38;5;124m\"\u001b[39m) \\\n\u001b[1;32m     51\u001b[0m     \u001b[38;5;241m.\u001b[39mrename({\u001b[38;5;124m\"\u001b[39m\u001b[38;5;124mslope\u001b[39m\u001b[38;5;124m\"\u001b[39m:\u001b[38;5;124m\"\u001b[39m\u001b[38;5;124mslope_1_std\u001b[39m\u001b[38;5;124m\"\u001b[39m,\u001b[38;5;124m\"\u001b[39m\u001b[38;5;124mintercept\u001b[39m\u001b[38;5;124m\"\u001b[39m:\u001b[38;5;124m\"\u001b[39m\u001b[38;5;124mintercept_1_std\u001b[39m\u001b[38;5;124m\"\u001b[39m})\n\u001b[1;32m     53\u001b[0m calibrations_2_std \u001b[38;5;241m=\u001b[39m df_std\u001b[38;5;241m.\u001b[39mfilter(pl\u001b[38;5;241m.\u001b[39mcol(\u001b[38;5;124m\"\u001b[39m\u001b[38;5;124mslope_2_std_selector\u001b[39m\u001b[38;5;124m\"\u001b[39m) \u001b[38;5;241m==\u001b[39m \u001b[38;5;28;01mTrue\u001b[39;00m)\u001b[38;5;241m.\u001b[39mselect(\u001b[38;5;124m\"\u001b[39m\u001b[38;5;124mcreation_timestamp\u001b[39m\u001b[38;5;124m\"\u001b[39m,\u001b[38;5;124m\"\u001b[39m\u001b[38;5;124mslope\u001b[39m\u001b[38;5;124m\"\u001b[39m, \u001b[38;5;124m\"\u001b[39m\u001b[38;5;124mintercept\u001b[39m\u001b[38;5;124m\"\u001b[39m) \\\n\u001b[1;32m     54\u001b[0m     \u001b[38;5;241m.\u001b[39mrename({\u001b[38;5;124m\"\u001b[39m\u001b[38;5;124mslope\u001b[39m\u001b[38;5;124m\"\u001b[39m:\u001b[38;5;124m\"\u001b[39m\u001b[38;5;124mslope_2_std\u001b[39m\u001b[38;5;124m\"\u001b[39m,\u001b[38;5;124m\"\u001b[39m\u001b[38;5;124mintercept\u001b[39m\u001b[38;5;124m\"\u001b[39m:\u001b[38;5;124m\"\u001b[39m\u001b[38;5;124mintercept_2_std\u001b[39m\u001b[38;5;124m\"\u001b[39m})\n\u001b[1;32m     56\u001b[0m df_filtered \u001b[38;5;241m=\u001b[39m \u001b[43mdf_filtered\u001b[49m\u001b[38;5;241;43m.\u001b[39;49m\u001b[43msort\u001b[49m\u001b[43m(\u001b[49m\u001b[38;5;124;43m\"\u001b[39;49m\u001b[38;5;124;43mcreation_timestamp\u001b[39;49m\u001b[38;5;124;43m\"\u001b[39;49m\u001b[43m)\u001b[49m\u001b[43m \u001b[49m\u001b[43m\\\u001b[49m\n\u001b[1;32m     57\u001b[0m \u001b[43m    \u001b[49m\u001b[38;5;241;43m.\u001b[39;49m\u001b[43mjoin\u001b[49m\u001b[43m(\u001b[49m\u001b[43mcalibrations_1_std\u001b[49m\u001b[43m,\u001b[49m\u001b[43m \u001b[49m\u001b[43mon\u001b[49m\u001b[43m \u001b[49m\u001b[38;5;241;43m=\u001b[39;49m\u001b[43m \u001b[49m\u001b[43m[\u001b[49m\u001b[38;5;124;43m\"\u001b[39;49m\u001b[38;5;124;43mcreation_timestamp\u001b[39;49m\u001b[38;5;124;43m\"\u001b[39;49m\u001b[43m]\u001b[49m\u001b[43m,\u001b[49m\u001b[43m \u001b[49m\u001b[43mhow\u001b[49m\u001b[38;5;241;43m=\u001b[39;49m\u001b[43m \u001b[49m\u001b[38;5;124;43m\"\u001b[39;49m\u001b[38;5;124;43mleft\u001b[39;49m\u001b[38;5;124;43m\"\u001b[39;49m\u001b[43m)\u001b[49m\u001b[43m \u001b[49m\u001b[43m\\\u001b[49m\n\u001b[1;32m     58\u001b[0m \u001b[43m    \u001b[49m\u001b[38;5;241;43m.\u001b[39;49m\u001b[43mjoin\u001b[49m\u001b[43m(\u001b[49m\u001b[43mcalibrations_2_std\u001b[49m\u001b[43m,\u001b[49m\u001b[43m \u001b[49m\u001b[43mon\u001b[49m\u001b[43m \u001b[49m\u001b[38;5;241;43m=\u001b[39;49m\u001b[43m \u001b[49m\u001b[43m[\u001b[49m\u001b[38;5;124;43m\"\u001b[39;49m\u001b[38;5;124;43mcreation_timestamp\u001b[39;49m\u001b[38;5;124;43m\"\u001b[39;49m\u001b[43m]\u001b[49m\u001b[43m,\u001b[49m\u001b[43m \u001b[49m\u001b[43mhow\u001b[49m\u001b[38;5;241;43m=\u001b[39;49m\u001b[43m \u001b[49m\u001b[38;5;124;43m\"\u001b[39;49m\u001b[38;5;124;43mleft\u001b[39;49m\u001b[38;5;124;43m\"\u001b[39;49m\u001b[43m)\u001b[49m\u001b[43m \u001b[49m\u001b[43m\\\u001b[49m\n\u001b[0;32m---> 59\u001b[0m \u001b[43m    \u001b[49m\u001b[38;5;241;43m.\u001b[39;49m\u001b[43mfill_null\u001b[49m\u001b[43m(\u001b[49m\u001b[43mstrategy\u001b[49m\u001b[43m \u001b[49m\u001b[38;5;241;43m=\u001b[39;49m\u001b[43m \u001b[49m\u001b[38;5;124;43m\"\u001b[39;49m\u001b[38;5;124;43mforward\u001b[39;49m\u001b[38;5;124;43m\"\u001b[39;49m\u001b[43m)\u001b[49m \\\n\u001b[1;32m     60\u001b[0m     \u001b[38;5;241m.\u001b[39mfill_null(strategy \u001b[38;5;241m=\u001b[39m \u001b[38;5;124m\"\u001b[39m\u001b[38;5;124mbackward\u001b[39m\u001b[38;5;124m\"\u001b[39m) \n\u001b[1;32m     62\u001b[0m df_filtered \u001b[38;5;241m=\u001b[39m df_filtered\u001b[38;5;241m.\u001b[39mwith_columns([\n\u001b[1;32m     63\u001b[0m     ((pl\u001b[38;5;241m.\u001b[39mcol(\u001b[38;5;124m\"\u001b[39m\u001b[38;5;124mgmp343_dry\u001b[39m\u001b[38;5;124m\"\u001b[39m)) \u001b[38;5;241m*\u001b[39m pl\u001b[38;5;241m.\u001b[39mcol(\u001b[38;5;124m\"\u001b[39m\u001b[38;5;124mslope_1_std\u001b[39m\u001b[38;5;124m\"\u001b[39m) \u001b[38;5;241m+\u001b[39m pl\u001b[38;5;241m.\u001b[39mcol(\u001b[38;5;124m\"\u001b[39m\u001b[38;5;124mintercept_1_std\u001b[39m\u001b[38;5;124m\"\u001b[39m))\u001b[38;5;241m.\u001b[39malias(\u001b[38;5;124m\"\u001b[39m\u001b[38;5;124mgmp343_corrected_1_std\u001b[39m\u001b[38;5;124m\"\u001b[39m),\n\u001b[1;32m     64\u001b[0m     ((pl\u001b[38;5;241m.\u001b[39mcol(\u001b[38;5;124m\"\u001b[39m\u001b[38;5;124mgmp343_dry\u001b[39m\u001b[38;5;124m\"\u001b[39m)) \u001b[38;5;241m*\u001b[39m pl\u001b[38;5;241m.\u001b[39mcol(\u001b[38;5;124m\"\u001b[39m\u001b[38;5;124mslope_2_std\u001b[39m\u001b[38;5;124m\"\u001b[39m) \u001b[38;5;241m+\u001b[39m pl\u001b[38;5;241m.\u001b[39mcol(\u001b[38;5;124m\"\u001b[39m\u001b[38;5;124mintercept_2_std\u001b[39m\u001b[38;5;124m\"\u001b[39m))\u001b[38;5;241m.\u001b[39malias(\u001b[38;5;124m\"\u001b[39m\u001b[38;5;124mgmp343_corrected_2_std\u001b[39m\u001b[38;5;124m\"\u001b[39m)\n\u001b[0;32m   (...)\u001b[0m\n\u001b[1;32m     76\u001b[0m         pl\u001b[38;5;241m.\u001b[39mcol(\u001b[38;5;124m\"\u001b[39m\u001b[38;5;124mmse_2_std_full_deployment\u001b[39m\u001b[38;5;124m\"\u001b[39m)\u001b[38;5;241m.\u001b[39msqrt()\u001b[38;5;241m.\u001b[39malias(\u001b[38;5;124m\"\u001b[39m\u001b[38;5;124mrmse_2_std_full_deployment\u001b[39m\u001b[38;5;124m\"\u001b[39m)\n\u001b[1;32m     77\u001b[0m                 ]) \n\u001b[1;32m     79\u001b[0m all_systems\u001b[38;5;241m.\u001b[39mappend(df_filtered)\n",
      "File \u001b[0;32m~/Documents/PROJECTS/acropolis-visualisation/.venv/lib/python3.11/site-packages/polars/dataframe/frame.py:7147\u001b[0m, in \u001b[0;36mDataFrame.fill_null\u001b[0;34m(self, value, strategy, limit, matches_supertype)\u001b[0m\n\u001b[1;32m   7053\u001b[0m \u001b[38;5;28;01mdef\u001b[39;00m \u001b[38;5;21mfill_null\u001b[39m(\n\u001b[1;32m   7054\u001b[0m     \u001b[38;5;28mself\u001b[39m,\n\u001b[1;32m   7055\u001b[0m     value: Any \u001b[38;5;241m|\u001b[39m \u001b[38;5;28;01mNone\u001b[39;00m \u001b[38;5;241m=\u001b[39m \u001b[38;5;28;01mNone\u001b[39;00m,\n\u001b[0;32m   (...)\u001b[0m\n\u001b[1;32m   7059\u001b[0m     matches_supertype: \u001b[38;5;28mbool\u001b[39m \u001b[38;5;241m=\u001b[39m \u001b[38;5;28;01mTrue\u001b[39;00m,\n\u001b[1;32m   7060\u001b[0m ) \u001b[38;5;241m-\u001b[39m\u001b[38;5;241m>\u001b[39m DataFrame:\n\u001b[1;32m   7061\u001b[0m \u001b[38;5;250m    \u001b[39m\u001b[38;5;124;03m\"\"\"\u001b[39;00m\n\u001b[1;32m   7062\u001b[0m \u001b[38;5;124;03m    Fill null values using the specified value or strategy.\u001b[39;00m\n\u001b[1;32m   7063\u001b[0m \n\u001b[0;32m   (...)\u001b[0m\n\u001b[1;32m   7142\u001b[0m \u001b[38;5;124;03m    └─────┴──────┘\u001b[39;00m\n\u001b[1;32m   7143\u001b[0m \u001b[38;5;124;03m    \"\"\"\u001b[39;00m\n\u001b[1;32m   7144\u001b[0m     \u001b[38;5;28;01mreturn\u001b[39;00m (\n\u001b[1;32m   7145\u001b[0m         \u001b[38;5;28;43mself\u001b[39;49m\u001b[38;5;241;43m.\u001b[39;49m\u001b[43mlazy\u001b[49m\u001b[43m(\u001b[49m\u001b[43m)\u001b[49m\n\u001b[1;32m   7146\u001b[0m \u001b[43m        \u001b[49m\u001b[38;5;241;43m.\u001b[39;49m\u001b[43mfill_null\u001b[49m\u001b[43m(\u001b[49m\u001b[43mvalue\u001b[49m\u001b[43m,\u001b[49m\u001b[43m \u001b[49m\u001b[43mstrategy\u001b[49m\u001b[43m,\u001b[49m\u001b[43m \u001b[49m\u001b[43mlimit\u001b[49m\u001b[43m,\u001b[49m\u001b[43m \u001b[49m\u001b[43mmatches_supertype\u001b[49m\u001b[38;5;241;43m=\u001b[39;49m\u001b[43mmatches_supertype\u001b[49m\u001b[43m)\u001b[49m\n\u001b[0;32m-> 7147\u001b[0m \u001b[43m        \u001b[49m\u001b[38;5;241;43m.\u001b[39;49m\u001b[43mcollect\u001b[49m\u001b[43m(\u001b[49m\u001b[43m_eager\u001b[49m\u001b[38;5;241;43m=\u001b[39;49m\u001b[38;5;28;43;01mTrue\u001b[39;49;00m\u001b[43m)\u001b[49m\n\u001b[1;32m   7148\u001b[0m     )\n",
      "File \u001b[0;32m~/Documents/PROJECTS/acropolis-visualisation/.venv/lib/python3.11/site-packages/polars/lazyframe/frame.py:1937\u001b[0m, in \u001b[0;36mLazyFrame.collect\u001b[0;34m(self, type_coercion, predicate_pushdown, projection_pushdown, simplify_expression, slice_pushdown, comm_subplan_elim, comm_subexpr_elim, no_optimization, streaming, background, _eager)\u001b[0m\n\u001b[1;32m   1934\u001b[0m \u001b[38;5;28;01mif\u001b[39;00m background:\n\u001b[1;32m   1935\u001b[0m     \u001b[38;5;28;01mreturn\u001b[39;00m InProcessQuery(ldf\u001b[38;5;241m.\u001b[39mcollect_concurrently())\n\u001b[0;32m-> 1937\u001b[0m \u001b[38;5;28;01mreturn\u001b[39;00m wrap_df(ldf\u001b[38;5;241m.\u001b[39mcollect())\n",
      "\u001b[0;31mPanicException\u001b[0m: called `Result::unwrap()` on an `Err` value: Duplicate(ErrString(\"multiple fields with name 'mean_cal_low' found\"))"
     ]
    }
   ],
   "source": [
    "all_systems = []\n",
    "\n",
    "#--- events during sbs\n",
    "\n",
    "# cut roof-top power out\n",
    "before = df_acropolis.filter(pl.col(\"creation_timestamp\") < datetime(2024, 1, 15, 18, 0, 0).replace(tzinfo=timezone.utc))\n",
    "after = df_acropolis.filter(pl.col(\"creation_timestamp\") > datetime(2024, 1, 17, 0, 0, 0).replace(tzinfo=timezone.utc))\n",
    "    \n",
    "df_acropolis = pl.concat([before, after], how=\"diagonal\")\n",
    "\n",
    "# cut inlet change\n",
    "before = df_acropolis.filter(pl.col(\"creation_timestamp\") < datetime(2024, 2, 5, 13, 0, 0).replace(tzinfo=timezone.utc))\n",
    "after = df_acropolis.filter(pl.col(\"creation_timestamp\") > datetime(2024, 2, 5, 15, 30, 0).replace(tzinfo=timezone.utc))\n",
    "    \n",
    "df_acropolis = pl.concat([before, after], how=\"diagonal\")\n",
    "\n",
    "# cut inlet maintainence\n",
    "before = df_acropolis.filter(pl.col(\"creation_timestamp\") < datetime(2024, 2, 13, 10, 30, 0).replace(tzinfo=timezone.utc))\n",
    "after = df_acropolis.filter(pl.col(\"creation_timestamp\") > datetime(2024, 2, 13, 12, 0, 0).replace(tzinfo=timezone.utc))\n",
    "    \n",
    "df_acropolis = pl.concat([before, after], how=\"diagonal\")\n",
    "\n",
    "#---\n",
    "\n",
    "for id, start_date, end_date in sbs_times:\n",
    "    print(f\"processing {id}\")\n",
    "    \n",
    "    #cut maintainence / power outtage from 23.01.2024\n",
    "    if id in [10,11,13]:\n",
    "        before = df_acropolis.filter(pl.col(\"creation_timestamp\") < datetime(2024, 1, 23, 14, 0, 0).replace(tzinfo=timezone.utc))\n",
    "        after = df_acropolis.filter(pl.col(\"creation_timestamp\") > datetime(2024, 1, 25, 23, 59, 59).replace(tzinfo=timezone.utc))\n",
    "        \n",
    "        df_acropolis = pl.concat([before, after], how=\"diagonal\")\n",
    "    \n",
    "    #-------\n",
    "\n",
    "    df_filtered = df_acropolis.filter(pl.col(\"creation_timestamp\").is_between(start_date, end_date))  \\\n",
    "        .filter(pl.col(\"CO2_corr\") > 0) \\\n",
    "        .filter(pl.col(\"gmp343_filtered\") > 0) \\\n",
    "        .filter(pl.col(\"system_id\") == id)  \\\n",
    "        .collect()\n",
    "        \n",
    "    mean = df_filtered[\"slope\"].mean()\n",
    "    std = df_filtered[\"slope\"].std()\n",
    "\n",
    "    df_std = df_filtered.with_columns((((mean - std) < pl.col(\"slope\")) \n",
    "                                    & (pl.col(\"slope\")  < (mean + std))).alias(\"slope_1_std_selector\")) \\\n",
    "        .with_columns((((mean - 2*std) < pl.col(\"slope\")) & (pl.col(\"slope\")  < (mean + 2*std))).alias(\"slope_2_std_selector\"))\n",
    "        \n",
    "    calibrations_1_std = df_std.filter(pl.col(\"slope_1_std_selector\") == True).select(\"creation_timestamp\",\"slope\", \"intercept\") \\\n",
    "        .rename({\"slope\":\"slope_1_std\",\"intercept\":\"intercept_1_std\"})\n",
    "        \n",
    "    calibrations_2_std = df_std.filter(pl.col(\"slope_2_std_selector\") == True).select(\"creation_timestamp\",\"slope\", \"intercept\") \\\n",
    "        .rename({\"slope\":\"slope_2_std\",\"intercept\":\"intercept_2_std\"})\n",
    "\n",
    "    df_filtered = df_filtered.sort(\"creation_timestamp\") \\\n",
    "        .join(calibrations_1_std, on = [\"creation_timestamp\"], how= \"left\") \\\n",
    "        .join(calibrations_2_std, on = [\"creation_timestamp\"], how= \"left\") \\\n",
    "        .fill_null(strategy = \"forward\") \\\n",
    "        .fill_null(strategy = \"backward\") \n",
    "        \n",
    "    df_filtered = df_filtered.with_columns([\n",
    "        ((pl.col(\"gmp343_dry\")) * pl.col(\"slope_1_std\") + pl.col(\"intercept_1_std\")).alias(\"gmp343_corrected_1_std\"),\n",
    "        ((pl.col(\"gmp343_dry\")) * pl.col(\"slope_2_std\") + pl.col(\"intercept_2_std\")).alias(\"gmp343_corrected_2_std\")\n",
    "                            ]) \\\n",
    "        .with_columns([\n",
    "            (pl.col(\"CO2_corr\") - pl.col(\"gmp343_corrected_1_std\")).alias(\"diff_1_std\"),\n",
    "            (pl.col(\"CO2_corr\") - pl.col(\"gmp343_corrected_2_std\")).alias(\"diff_2_std\"),\n",
    "            (np.square(np.subtract(pl.col(\"CO2_corr\"), pl.col(\"gmp343_corrected\"))).mean()).alias(\"mse_full_deployment\"),\n",
    "            (np.square(np.subtract(pl.col(\"CO2_corr\"), pl.col(\"gmp343_corrected_1_std\"))).mean()).alias(\"mse_1_std_full_deployment\"),\n",
    "            (np.square(np.subtract(pl.col(\"CO2_corr\"), pl.col(\"gmp343_corrected_2_std\"))).mean()).alias(\"mse_2_std_full_deployment\")\n",
    "                    ]) \\\n",
    "        .with_columns([\n",
    "            pl.col(\"mse_full_deployment\").sqrt().alias(\"rmse_full_deployment\"),\n",
    "            pl.col(\"mse_1_std_full_deployment\").sqrt().alias(\"rmse_1_std_full_deployment\"),\n",
    "            pl.col(\"mse_2_std_full_deployment\").sqrt().alias(\"rmse_2_std_full_deployment\")\n",
    "                    ]) \n",
    "        \n",
    "    all_systems.append(df_filtered)\n",
    "    "
   ]
  },
  {
   "cell_type": "code",
   "execution_count": null,
   "metadata": {},
   "outputs": [],
   "source": [
    "df_all_sbs_filtered.head(1)"
   ]
  },
  {
   "cell_type": "code",
   "execution_count": null,
   "metadata": {},
   "outputs": [],
   "source": [
    "df_all_sbs_filtered = pl.concat(all_systems, how=\"diagonal\")\n",
    "df_all_sbs_filtered.write_parquet(os.path.join(DATA_DIRECTORY, \"processed\", \"filtered_1_std_acropolis.parquet\"))"
   ]
  },
  {
   "cell_type": "code",
   "execution_count": null,
   "metadata": {},
   "outputs": [],
   "source": [
    "df_all_sbs_filtered = df_all_sbs_filtered.with_columns(pl.lit(\"Munich\").alias(\"Mid-Cost Network\"))"
   ]
  },
  {
   "cell_type": "code",
   "execution_count": null,
   "metadata": {},
   "outputs": [],
   "source": [
    "fig = px.histogram(df_filtered, x=\"slope\")\n",
    "fig.show()\n",
    "fig = px.histogram(df_std, x=\"slope\", color=\"slope_1_std_selector\")\n",
    "fig.show()\n",
    "fig = px.histogram(df_std, x=\"slope\", color=\"slope_2_std_selector\")\n",
    "fig.show()\n",
    "\n",
    "fig = px.line(df_all_sbs_filtered, x=\"creation_timestamp\", y=\"diff\", color = \"system_name\")\n",
    "fig.show()\n",
    "fig = px.line(df_all_sbs_filtered, x=\"creation_timestamp\", y=\"diff_1_std\", color = \"system_name\")\n",
    "fig.show()\n",
    "\n",
    "fig = px.scatter(df_all_sbs_filtered, x=\"system_name\", y=[\"rmse_full_deployment\", \"rmse_1_std_full_deployment\",\"rmse_2_std_full_deployment\"])\n",
    "fig.show()"
   ]
  },
  {
   "cell_type": "code",
   "execution_count": null,
   "metadata": {},
   "outputs": [],
   "source": [
    "# 144 * 10 minute intervals in 1 day - 3 * 10 min intervals in one calibration\n",
    "\n",
    "df_plot = df_all_sbs_filtered.sort(\"creation_timestamp\") \\\n",
    "    .group_by(\"system_name\") \\\n",
    "    .agg([(pl.col(\"gmp343_corrected\").count() / 141).alias(\"sbs_days\"),\n",
    "          pl.col(\"system_id\"),\n",
    "          ]) \\\n",
    "    .with_columns((pl.col(\"sbs_days\") > 14).alias(\"days_threshold\")) \\\n",
    "    .sort(\"sbs_days\")\n",
    "    \n",
    "fig = px.scatter(df_plot, x=\"system_name\", y=\"sbs_days\", color=\"days_threshold\")\n",
    "fig.show()"
   ]
  },
  {
   "cell_type": "code",
   "execution_count": null,
   "metadata": {},
   "outputs": [],
   "source": [
    "df_plot = df_all_sbs_filtered.rename({\"rmse_2_std_full_deployment\":\"RMSE (ppm)\"}) \\\n",
    "    .join(df_plot, on=\"system_name\", how=\"left\")"
   ]
  },
  {
   "cell_type": "code",
   "execution_count": null,
   "metadata": {},
   "outputs": [],
   "source": [
    "import seaborn as sns\n",
    "import matplotlib.pyplot as plt\n",
    "\n",
    "sns.scatterplot(data=df_plot,x='Mid-Cost Network',y='RMSE (ppm)', hue=\"sbs_days\", alpha=0.5).set(title='Side-by-side performance')\n",
    "plt.show()"
   ]
  }
 ],
 "metadata": {
  "kernelspec": {
   "display_name": ".venv",
   "language": "python",
   "name": "python3"
  },
  "language_info": {
   "codemirror_mode": {
    "name": "ipython",
    "version": 3
   },
   "file_extension": ".py",
   "mimetype": "text/x-python",
   "name": "python",
   "nbconvert_exporter": "python",
   "pygments_lexer": "ipython3",
   "version": "3.11.6"
  }
 },
 "nbformat": 4,
 "nbformat_minor": 2
}
