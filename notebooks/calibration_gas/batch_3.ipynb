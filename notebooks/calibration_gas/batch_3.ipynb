{
 "cells": [
  {
   "cell_type": "code",
   "execution_count": null,
   "metadata": {},
   "outputs": [],
   "source": [
    "from datetime import datetime\n",
    "import polars as pl\n",
    "import os\n",
    "import sys\n",
    "import plotly.express as px\n",
    "import polars.selectors as cs\n",
    "\n",
    "\n",
    "PROJECT_PATH = os.path.abspath(os.path.join(\"..\", \"..\"))\n",
    "PIPELINE_PATH = os.path.join(PROJECT_PATH, \"pipeline\")\n",
    "DATA_DIRECTORY = os.path.join(PROJECT_PATH, \"data\")\n",
    "\n",
    "if PIPELINE_PATH not in sys.path:\n",
    "    sys.path.append(PIPELINE_PATH)\n",
    "    \n",
    "from utils.paths import PROCESSED_PICARRO_DATA_DIRECTORY\n",
    "from utils.calibration_processing import process_bottle\n",
    "\n",
    "assert(os.path.exists(PROCESSED_PICARRO_DATA_DIRECTORY))"
   ]
  },
  {
   "cell_type": "code",
   "execution_count": 8,
   "metadata": {},
   "outputs": [
    {
     "data": {
      "text/html": [
       "<div><style>\n",
       ".dataframe > thead > tr,\n",
       ".dataframe > tbody > tr {\n",
       "  text-align: right;\n",
       "  white-space: pre-wrap;\n",
       "}\n",
       "</style>\n",
       "<small>shape: (2, 3)</small><table border=\"1\" class=\"dataframe\"><thead><tr><th>datetime</th><th>picarro_corrected</th><th>h2o_reported</th></tr><tr><td>datetime[ms]</td><td>f64</td><td>f64</td></tr></thead><tbody><tr><td>2024-12-03 12:53:00</td><td>427.302241</td><td>0.001157</td></tr><tr><td>2024-12-20 16:17:00</td><td>610.944729</td><td>-0.001034</td></tr></tbody></table></div>"
      ],
      "text/plain": [
       "shape: (2, 3)\n",
       "┌─────────────────────┬───────────────────┬──────────────┐\n",
       "│ datetime            ┆ picarro_corrected ┆ h2o_reported │\n",
       "│ ---                 ┆ ---               ┆ ---          │\n",
       "│ datetime[ms]        ┆ f64               ┆ f64          │\n",
       "╞═════════════════════╪═══════════════════╪══════════════╡\n",
       "│ 2024-12-03 12:53:00 ┆ 427.302241        ┆ 0.001157     │\n",
       "│ 2024-12-20 16:17:00 ┆ 610.944729        ┆ -0.001034    │\n",
       "└─────────────────────┴───────────────────┴──────────────┘"
      ]
     },
     "execution_count": 8,
     "metadata": {},
     "output_type": "execute_result"
    }
   ],
   "source": [
    "start_date = datetime(2024, 12, 3, 0, 0, 0)\n",
    "end_date = datetime(2024, 12 , 21, 0, 0, 0)\n",
    "  \n",
    "# Load Picarro Data\n",
    "# DWD Picarro: \"Calibrated_1_min_DWD_Picarro_G2301_413.parquet\"\n",
    "df_p = pl.scan_parquet(os.path.join(PROCESSED_PICARRO_DATA_DIRECTORY,\"Calibrated_1_min_DWD_Picarro_G2301_413.parquet\"))\n",
    "df_p = df_p.filter(pl.col(\"datetime\").is_between(start_date, end_date)) \\\n",
    "    .select([\"datetime\", \"picarro_corrected\", \"h2o_reported\"]) \\\n",
    "    .collect()\n",
    "    \n",
    "df_p.head(1).vstack(df_p.tail(1))"
   ]
  },
  {
   "cell_type": "code",
   "execution_count": 9,
   "metadata": {},
   "outputs": [],
   "source": [
    "def plot_sensor_measurement(df, col_name: str, filter = None):\n",
    "    if filter != None:\n",
    "        df = df.groupby_dynamic(\"datetime\", every=filter).agg(cs.numeric().mean())\n",
    "        \n",
    "    fig = px.line(\n",
    "        df,\n",
    "        x=\"datetime\",\n",
    "        y=col_name,\n",
    "        markers=True,\n",
    "        title=col_name,\n",
    "    )\n",
    "    fig.show()\n",
    "    \n",
    "def process_measurement(start_date, end_date, plot=False):\n",
    "    df_p_bottle = df_p.filter(pl.col(\"datetime\").is_between(start_date, end_date))\n",
    "\n",
    "    data = df_p_bottle.select(pl.col(\"picarro_corrected\")).to_series().to_list()\n",
    "    data_cut = data[int(len(data)*0.3):int(len(data)*0.95)]\n",
    "\n",
    "    median = process_bottle(data_cut, ignore_len=True) \n",
    "\n",
    "    print(f\"Picarro Median Reading: {median}\")\n",
    "\n",
    "    # Plots\n",
    "    if plot:\n",
    "        plot_sensor_measurement(df_p_bottle, col_name=\"picarro_corrected\")\n",
    "        plot_sensor_measurement(df_p_bottle, col_name=\"h2o_reported\")"
   ]
  },
  {
   "cell_type": "code",
   "execution_count": 50,
   "metadata": {},
   "outputs": [
    {
     "name": "stdout",
     "output_type": "stream",
     "text": [
      "Picarro Median Reading: 522.2875301643999\n"
     ]
    },
    {
     "data": {
      "application/vnd.plotly.v1+json": {
       "config": {
        "plotlyServerURL": "https://plot.ly"
       },
       "data": [
        {
         "hovertemplate": "datetime=%{x}<br>picarro_corrected=%{y}<extra></extra>",
         "legendgroup": "",
         "line": {
          "color": "#636efa",
          "dash": "solid"
         },
         "marker": {
          "symbol": "circle"
         },
         "mode": "lines+markers",
         "name": "",
         "orientation": "v",
         "showlegend": false,
         "type": "scatter",
         "x": [
          "2024-12-11T12:45:00",
          "2024-12-11T12:46:00",
          "2024-12-11T12:47:00",
          "2024-12-11T12:48:00",
          "2024-12-11T12:49:00",
          "2024-12-11T12:50:00",
          "2024-12-11T12:51:00",
          "2024-12-11T12:52:00",
          "2024-12-11T12:53:00",
          "2024-12-11T12:54:00",
          "2024-12-11T12:55:00",
          "2024-12-11T12:56:00",
          "2024-12-11T12:57:00",
          "2024-12-11T12:58:00",
          "2024-12-11T12:59:00",
          "2024-12-11T13:00:00",
          "2024-12-11T13:01:00",
          "2024-12-11T13:02:00",
          "2024-12-11T13:03:00",
          "2024-12-11T13:04:00"
         ],
         "xaxis": "x",
         "y": [
          521.225264995688,
          522.1775521103493,
          522.2174974443402,
          522.2664154518199,
          522.2470034813527,
          522.2702194270104,
          522.2710273431019,
          522.2748257440668,
          522.2685442352185,
          522.2979417355159,
          522.3001511577604,
          522.2698740468063,
          522.2742270746654,
          522.259358445246,
          522.2913771278676,
          522.2632096446465,
          522.2875301643999,
          522.2949216420911,
          522.2738986119809,
          522.2576517412054
         ],
         "yaxis": "y"
        }
       ],
       "layout": {
        "legend": {
         "tracegroupgap": 0
        },
        "template": {
         "data": {
          "bar": [
           {
            "error_x": {
             "color": "#2a3f5f"
            },
            "error_y": {
             "color": "#2a3f5f"
            },
            "marker": {
             "line": {
              "color": "#E5ECF6",
              "width": 0.5
             },
             "pattern": {
              "fillmode": "overlay",
              "size": 10,
              "solidity": 0.2
             }
            },
            "type": "bar"
           }
          ],
          "barpolar": [
           {
            "marker": {
             "line": {
              "color": "#E5ECF6",
              "width": 0.5
             },
             "pattern": {
              "fillmode": "overlay",
              "size": 10,
              "solidity": 0.2
             }
            },
            "type": "barpolar"
           }
          ],
          "carpet": [
           {
            "aaxis": {
             "endlinecolor": "#2a3f5f",
             "gridcolor": "white",
             "linecolor": "white",
             "minorgridcolor": "white",
             "startlinecolor": "#2a3f5f"
            },
            "baxis": {
             "endlinecolor": "#2a3f5f",
             "gridcolor": "white",
             "linecolor": "white",
             "minorgridcolor": "white",
             "startlinecolor": "#2a3f5f"
            },
            "type": "carpet"
           }
          ],
          "choropleth": [
           {
            "colorbar": {
             "outlinewidth": 0,
             "ticks": ""
            },
            "type": "choropleth"
           }
          ],
          "contour": [
           {
            "colorbar": {
             "outlinewidth": 0,
             "ticks": ""
            },
            "colorscale": [
             [
              0,
              "#0d0887"
             ],
             [
              0.1111111111111111,
              "#46039f"
             ],
             [
              0.2222222222222222,
              "#7201a8"
             ],
             [
              0.3333333333333333,
              "#9c179e"
             ],
             [
              0.4444444444444444,
              "#bd3786"
             ],
             [
              0.5555555555555556,
              "#d8576b"
             ],
             [
              0.6666666666666666,
              "#ed7953"
             ],
             [
              0.7777777777777778,
              "#fb9f3a"
             ],
             [
              0.8888888888888888,
              "#fdca26"
             ],
             [
              1,
              "#f0f921"
             ]
            ],
            "type": "contour"
           }
          ],
          "contourcarpet": [
           {
            "colorbar": {
             "outlinewidth": 0,
             "ticks": ""
            },
            "type": "contourcarpet"
           }
          ],
          "heatmap": [
           {
            "colorbar": {
             "outlinewidth": 0,
             "ticks": ""
            },
            "colorscale": [
             [
              0,
              "#0d0887"
             ],
             [
              0.1111111111111111,
              "#46039f"
             ],
             [
              0.2222222222222222,
              "#7201a8"
             ],
             [
              0.3333333333333333,
              "#9c179e"
             ],
             [
              0.4444444444444444,
              "#bd3786"
             ],
             [
              0.5555555555555556,
              "#d8576b"
             ],
             [
              0.6666666666666666,
              "#ed7953"
             ],
             [
              0.7777777777777778,
              "#fb9f3a"
             ],
             [
              0.8888888888888888,
              "#fdca26"
             ],
             [
              1,
              "#f0f921"
             ]
            ],
            "type": "heatmap"
           }
          ],
          "heatmapgl": [
           {
            "colorbar": {
             "outlinewidth": 0,
             "ticks": ""
            },
            "colorscale": [
             [
              0,
              "#0d0887"
             ],
             [
              0.1111111111111111,
              "#46039f"
             ],
             [
              0.2222222222222222,
              "#7201a8"
             ],
             [
              0.3333333333333333,
              "#9c179e"
             ],
             [
              0.4444444444444444,
              "#bd3786"
             ],
             [
              0.5555555555555556,
              "#d8576b"
             ],
             [
              0.6666666666666666,
              "#ed7953"
             ],
             [
              0.7777777777777778,
              "#fb9f3a"
             ],
             [
              0.8888888888888888,
              "#fdca26"
             ],
             [
              1,
              "#f0f921"
             ]
            ],
            "type": "heatmapgl"
           }
          ],
          "histogram": [
           {
            "marker": {
             "pattern": {
              "fillmode": "overlay",
              "size": 10,
              "solidity": 0.2
             }
            },
            "type": "histogram"
           }
          ],
          "histogram2d": [
           {
            "colorbar": {
             "outlinewidth": 0,
             "ticks": ""
            },
            "colorscale": [
             [
              0,
              "#0d0887"
             ],
             [
              0.1111111111111111,
              "#46039f"
             ],
             [
              0.2222222222222222,
              "#7201a8"
             ],
             [
              0.3333333333333333,
              "#9c179e"
             ],
             [
              0.4444444444444444,
              "#bd3786"
             ],
             [
              0.5555555555555556,
              "#d8576b"
             ],
             [
              0.6666666666666666,
              "#ed7953"
             ],
             [
              0.7777777777777778,
              "#fb9f3a"
             ],
             [
              0.8888888888888888,
              "#fdca26"
             ],
             [
              1,
              "#f0f921"
             ]
            ],
            "type": "histogram2d"
           }
          ],
          "histogram2dcontour": [
           {
            "colorbar": {
             "outlinewidth": 0,
             "ticks": ""
            },
            "colorscale": [
             [
              0,
              "#0d0887"
             ],
             [
              0.1111111111111111,
              "#46039f"
             ],
             [
              0.2222222222222222,
              "#7201a8"
             ],
             [
              0.3333333333333333,
              "#9c179e"
             ],
             [
              0.4444444444444444,
              "#bd3786"
             ],
             [
              0.5555555555555556,
              "#d8576b"
             ],
             [
              0.6666666666666666,
              "#ed7953"
             ],
             [
              0.7777777777777778,
              "#fb9f3a"
             ],
             [
              0.8888888888888888,
              "#fdca26"
             ],
             [
              1,
              "#f0f921"
             ]
            ],
            "type": "histogram2dcontour"
           }
          ],
          "mesh3d": [
           {
            "colorbar": {
             "outlinewidth": 0,
             "ticks": ""
            },
            "type": "mesh3d"
           }
          ],
          "parcoords": [
           {
            "line": {
             "colorbar": {
              "outlinewidth": 0,
              "ticks": ""
             }
            },
            "type": "parcoords"
           }
          ],
          "pie": [
           {
            "automargin": true,
            "type": "pie"
           }
          ],
          "scatter": [
           {
            "fillpattern": {
             "fillmode": "overlay",
             "size": 10,
             "solidity": 0.2
            },
            "type": "scatter"
           }
          ],
          "scatter3d": [
           {
            "line": {
             "colorbar": {
              "outlinewidth": 0,
              "ticks": ""
             }
            },
            "marker": {
             "colorbar": {
              "outlinewidth": 0,
              "ticks": ""
             }
            },
            "type": "scatter3d"
           }
          ],
          "scattercarpet": [
           {
            "marker": {
             "colorbar": {
              "outlinewidth": 0,
              "ticks": ""
             }
            },
            "type": "scattercarpet"
           }
          ],
          "scattergeo": [
           {
            "marker": {
             "colorbar": {
              "outlinewidth": 0,
              "ticks": ""
             }
            },
            "type": "scattergeo"
           }
          ],
          "scattergl": [
           {
            "marker": {
             "colorbar": {
              "outlinewidth": 0,
              "ticks": ""
             }
            },
            "type": "scattergl"
           }
          ],
          "scattermapbox": [
           {
            "marker": {
             "colorbar": {
              "outlinewidth": 0,
              "ticks": ""
             }
            },
            "type": "scattermapbox"
           }
          ],
          "scatterpolar": [
           {
            "marker": {
             "colorbar": {
              "outlinewidth": 0,
              "ticks": ""
             }
            },
            "type": "scatterpolar"
           }
          ],
          "scatterpolargl": [
           {
            "marker": {
             "colorbar": {
              "outlinewidth": 0,
              "ticks": ""
             }
            },
            "type": "scatterpolargl"
           }
          ],
          "scatterternary": [
           {
            "marker": {
             "colorbar": {
              "outlinewidth": 0,
              "ticks": ""
             }
            },
            "type": "scatterternary"
           }
          ],
          "surface": [
           {
            "colorbar": {
             "outlinewidth": 0,
             "ticks": ""
            },
            "colorscale": [
             [
              0,
              "#0d0887"
             ],
             [
              0.1111111111111111,
              "#46039f"
             ],
             [
              0.2222222222222222,
              "#7201a8"
             ],
             [
              0.3333333333333333,
              "#9c179e"
             ],
             [
              0.4444444444444444,
              "#bd3786"
             ],
             [
              0.5555555555555556,
              "#d8576b"
             ],
             [
              0.6666666666666666,
              "#ed7953"
             ],
             [
              0.7777777777777778,
              "#fb9f3a"
             ],
             [
              0.8888888888888888,
              "#fdca26"
             ],
             [
              1,
              "#f0f921"
             ]
            ],
            "type": "surface"
           }
          ],
          "table": [
           {
            "cells": {
             "fill": {
              "color": "#EBF0F8"
             },
             "line": {
              "color": "white"
             }
            },
            "header": {
             "fill": {
              "color": "#C8D4E3"
             },
             "line": {
              "color": "white"
             }
            },
            "type": "table"
           }
          ]
         },
         "layout": {
          "annotationdefaults": {
           "arrowcolor": "#2a3f5f",
           "arrowhead": 0,
           "arrowwidth": 1
          },
          "autotypenumbers": "strict",
          "coloraxis": {
           "colorbar": {
            "outlinewidth": 0,
            "ticks": ""
           }
          },
          "colorscale": {
           "diverging": [
            [
             0,
             "#8e0152"
            ],
            [
             0.1,
             "#c51b7d"
            ],
            [
             0.2,
             "#de77ae"
            ],
            [
             0.3,
             "#f1b6da"
            ],
            [
             0.4,
             "#fde0ef"
            ],
            [
             0.5,
             "#f7f7f7"
            ],
            [
             0.6,
             "#e6f5d0"
            ],
            [
             0.7,
             "#b8e186"
            ],
            [
             0.8,
             "#7fbc41"
            ],
            [
             0.9,
             "#4d9221"
            ],
            [
             1,
             "#276419"
            ]
           ],
           "sequential": [
            [
             0,
             "#0d0887"
            ],
            [
             0.1111111111111111,
             "#46039f"
            ],
            [
             0.2222222222222222,
             "#7201a8"
            ],
            [
             0.3333333333333333,
             "#9c179e"
            ],
            [
             0.4444444444444444,
             "#bd3786"
            ],
            [
             0.5555555555555556,
             "#d8576b"
            ],
            [
             0.6666666666666666,
             "#ed7953"
            ],
            [
             0.7777777777777778,
             "#fb9f3a"
            ],
            [
             0.8888888888888888,
             "#fdca26"
            ],
            [
             1,
             "#f0f921"
            ]
           ],
           "sequentialminus": [
            [
             0,
             "#0d0887"
            ],
            [
             0.1111111111111111,
             "#46039f"
            ],
            [
             0.2222222222222222,
             "#7201a8"
            ],
            [
             0.3333333333333333,
             "#9c179e"
            ],
            [
             0.4444444444444444,
             "#bd3786"
            ],
            [
             0.5555555555555556,
             "#d8576b"
            ],
            [
             0.6666666666666666,
             "#ed7953"
            ],
            [
             0.7777777777777778,
             "#fb9f3a"
            ],
            [
             0.8888888888888888,
             "#fdca26"
            ],
            [
             1,
             "#f0f921"
            ]
           ]
          },
          "colorway": [
           "#636efa",
           "#EF553B",
           "#00cc96",
           "#ab63fa",
           "#FFA15A",
           "#19d3f3",
           "#FF6692",
           "#B6E880",
           "#FF97FF",
           "#FECB52"
          ],
          "font": {
           "color": "#2a3f5f"
          },
          "geo": {
           "bgcolor": "white",
           "lakecolor": "white",
           "landcolor": "#E5ECF6",
           "showlakes": true,
           "showland": true,
           "subunitcolor": "white"
          },
          "hoverlabel": {
           "align": "left"
          },
          "hovermode": "closest",
          "mapbox": {
           "style": "light"
          },
          "paper_bgcolor": "white",
          "plot_bgcolor": "#E5ECF6",
          "polar": {
           "angularaxis": {
            "gridcolor": "white",
            "linecolor": "white",
            "ticks": ""
           },
           "bgcolor": "#E5ECF6",
           "radialaxis": {
            "gridcolor": "white",
            "linecolor": "white",
            "ticks": ""
           }
          },
          "scene": {
           "xaxis": {
            "backgroundcolor": "#E5ECF6",
            "gridcolor": "white",
            "gridwidth": 2,
            "linecolor": "white",
            "showbackground": true,
            "ticks": "",
            "zerolinecolor": "white"
           },
           "yaxis": {
            "backgroundcolor": "#E5ECF6",
            "gridcolor": "white",
            "gridwidth": 2,
            "linecolor": "white",
            "showbackground": true,
            "ticks": "",
            "zerolinecolor": "white"
           },
           "zaxis": {
            "backgroundcolor": "#E5ECF6",
            "gridcolor": "white",
            "gridwidth": 2,
            "linecolor": "white",
            "showbackground": true,
            "ticks": "",
            "zerolinecolor": "white"
           }
          },
          "shapedefaults": {
           "line": {
            "color": "#2a3f5f"
           }
          },
          "ternary": {
           "aaxis": {
            "gridcolor": "white",
            "linecolor": "white",
            "ticks": ""
           },
           "baxis": {
            "gridcolor": "white",
            "linecolor": "white",
            "ticks": ""
           },
           "bgcolor": "#E5ECF6",
           "caxis": {
            "gridcolor": "white",
            "linecolor": "white",
            "ticks": ""
           }
          },
          "title": {
           "x": 0.05
          },
          "xaxis": {
           "automargin": true,
           "gridcolor": "white",
           "linecolor": "white",
           "ticks": "",
           "title": {
            "standoff": 15
           },
           "zerolinecolor": "white",
           "zerolinewidth": 2
          },
          "yaxis": {
           "automargin": true,
           "gridcolor": "white",
           "linecolor": "white",
           "ticks": "",
           "title": {
            "standoff": 15
           },
           "zerolinecolor": "white",
           "zerolinewidth": 2
          }
         }
        },
        "title": {
         "text": "picarro_corrected"
        },
        "xaxis": {
         "anchor": "y",
         "domain": [
          0,
          1
         ],
         "title": {
          "text": "datetime"
         }
        },
        "yaxis": {
         "anchor": "x",
         "domain": [
          0,
          1
         ],
         "title": {
          "text": "picarro_corrected"
         }
        }
       }
      }
     },
     "metadata": {},
     "output_type": "display_data"
    },
    {
     "data": {
      "application/vnd.plotly.v1+json": {
       "config": {
        "plotlyServerURL": "https://plot.ly"
       },
       "data": [
        {
         "hovertemplate": "datetime=%{x}<br>h2o_reported=%{y}<extra></extra>",
         "legendgroup": "",
         "line": {
          "color": "#636efa",
          "dash": "solid"
         },
         "marker": {
          "symbol": "circle"
         },
         "mode": "lines+markers",
         "name": "",
         "orientation": "v",
         "showlegend": false,
         "type": "scatter",
         "x": [
          "2024-12-11T12:45:00",
          "2024-12-11T12:46:00",
          "2024-12-11T12:47:00",
          "2024-12-11T12:48:00",
          "2024-12-11T12:49:00",
          "2024-12-11T12:50:00",
          "2024-12-11T12:51:00",
          "2024-12-11T12:52:00",
          "2024-12-11T12:53:00",
          "2024-12-11T12:54:00",
          "2024-12-11T12:55:00",
          "2024-12-11T12:56:00",
          "2024-12-11T12:57:00",
          "2024-12-11T12:58:00",
          "2024-12-11T12:59:00",
          "2024-12-11T13:00:00",
          "2024-12-11T13:01:00",
          "2024-12-11T13:02:00",
          "2024-12-11T13:03:00",
          "2024-12-11T13:04:00"
         ],
         "xaxis": "x",
         "y": [
          0.04926219661922953,
          0.028374179619225805,
          0.021715685387200003,
          0.017839119370229504,
          0.015007468914967211,
          0.013682756819672135,
          0.012114690876098358,
          0.01082423690738196,
          0.010339782325634426,
          0.009871435657065577,
          0.009149294097742624,
          0.008672700124122948,
          0.00838000936668667,
          0.008039430989580328,
          0.008028646283075808,
          0.007850859202444996,
          0.007785107170481964,
          0.006997162343537095,
          0.0067773694460983355,
          0.006349799419186886
         ],
         "yaxis": "y"
        }
       ],
       "layout": {
        "legend": {
         "tracegroupgap": 0
        },
        "template": {
         "data": {
          "bar": [
           {
            "error_x": {
             "color": "#2a3f5f"
            },
            "error_y": {
             "color": "#2a3f5f"
            },
            "marker": {
             "line": {
              "color": "#E5ECF6",
              "width": 0.5
             },
             "pattern": {
              "fillmode": "overlay",
              "size": 10,
              "solidity": 0.2
             }
            },
            "type": "bar"
           }
          ],
          "barpolar": [
           {
            "marker": {
             "line": {
              "color": "#E5ECF6",
              "width": 0.5
             },
             "pattern": {
              "fillmode": "overlay",
              "size": 10,
              "solidity": 0.2
             }
            },
            "type": "barpolar"
           }
          ],
          "carpet": [
           {
            "aaxis": {
             "endlinecolor": "#2a3f5f",
             "gridcolor": "white",
             "linecolor": "white",
             "minorgridcolor": "white",
             "startlinecolor": "#2a3f5f"
            },
            "baxis": {
             "endlinecolor": "#2a3f5f",
             "gridcolor": "white",
             "linecolor": "white",
             "minorgridcolor": "white",
             "startlinecolor": "#2a3f5f"
            },
            "type": "carpet"
           }
          ],
          "choropleth": [
           {
            "colorbar": {
             "outlinewidth": 0,
             "ticks": ""
            },
            "type": "choropleth"
           }
          ],
          "contour": [
           {
            "colorbar": {
             "outlinewidth": 0,
             "ticks": ""
            },
            "colorscale": [
             [
              0,
              "#0d0887"
             ],
             [
              0.1111111111111111,
              "#46039f"
             ],
             [
              0.2222222222222222,
              "#7201a8"
             ],
             [
              0.3333333333333333,
              "#9c179e"
             ],
             [
              0.4444444444444444,
              "#bd3786"
             ],
             [
              0.5555555555555556,
              "#d8576b"
             ],
             [
              0.6666666666666666,
              "#ed7953"
             ],
             [
              0.7777777777777778,
              "#fb9f3a"
             ],
             [
              0.8888888888888888,
              "#fdca26"
             ],
             [
              1,
              "#f0f921"
             ]
            ],
            "type": "contour"
           }
          ],
          "contourcarpet": [
           {
            "colorbar": {
             "outlinewidth": 0,
             "ticks": ""
            },
            "type": "contourcarpet"
           }
          ],
          "heatmap": [
           {
            "colorbar": {
             "outlinewidth": 0,
             "ticks": ""
            },
            "colorscale": [
             [
              0,
              "#0d0887"
             ],
             [
              0.1111111111111111,
              "#46039f"
             ],
             [
              0.2222222222222222,
              "#7201a8"
             ],
             [
              0.3333333333333333,
              "#9c179e"
             ],
             [
              0.4444444444444444,
              "#bd3786"
             ],
             [
              0.5555555555555556,
              "#d8576b"
             ],
             [
              0.6666666666666666,
              "#ed7953"
             ],
             [
              0.7777777777777778,
              "#fb9f3a"
             ],
             [
              0.8888888888888888,
              "#fdca26"
             ],
             [
              1,
              "#f0f921"
             ]
            ],
            "type": "heatmap"
           }
          ],
          "heatmapgl": [
           {
            "colorbar": {
             "outlinewidth": 0,
             "ticks": ""
            },
            "colorscale": [
             [
              0,
              "#0d0887"
             ],
             [
              0.1111111111111111,
              "#46039f"
             ],
             [
              0.2222222222222222,
              "#7201a8"
             ],
             [
              0.3333333333333333,
              "#9c179e"
             ],
             [
              0.4444444444444444,
              "#bd3786"
             ],
             [
              0.5555555555555556,
              "#d8576b"
             ],
             [
              0.6666666666666666,
              "#ed7953"
             ],
             [
              0.7777777777777778,
              "#fb9f3a"
             ],
             [
              0.8888888888888888,
              "#fdca26"
             ],
             [
              1,
              "#f0f921"
             ]
            ],
            "type": "heatmapgl"
           }
          ],
          "histogram": [
           {
            "marker": {
             "pattern": {
              "fillmode": "overlay",
              "size": 10,
              "solidity": 0.2
             }
            },
            "type": "histogram"
           }
          ],
          "histogram2d": [
           {
            "colorbar": {
             "outlinewidth": 0,
             "ticks": ""
            },
            "colorscale": [
             [
              0,
              "#0d0887"
             ],
             [
              0.1111111111111111,
              "#46039f"
             ],
             [
              0.2222222222222222,
              "#7201a8"
             ],
             [
              0.3333333333333333,
              "#9c179e"
             ],
             [
              0.4444444444444444,
              "#bd3786"
             ],
             [
              0.5555555555555556,
              "#d8576b"
             ],
             [
              0.6666666666666666,
              "#ed7953"
             ],
             [
              0.7777777777777778,
              "#fb9f3a"
             ],
             [
              0.8888888888888888,
              "#fdca26"
             ],
             [
              1,
              "#f0f921"
             ]
            ],
            "type": "histogram2d"
           }
          ],
          "histogram2dcontour": [
           {
            "colorbar": {
             "outlinewidth": 0,
             "ticks": ""
            },
            "colorscale": [
             [
              0,
              "#0d0887"
             ],
             [
              0.1111111111111111,
              "#46039f"
             ],
             [
              0.2222222222222222,
              "#7201a8"
             ],
             [
              0.3333333333333333,
              "#9c179e"
             ],
             [
              0.4444444444444444,
              "#bd3786"
             ],
             [
              0.5555555555555556,
              "#d8576b"
             ],
             [
              0.6666666666666666,
              "#ed7953"
             ],
             [
              0.7777777777777778,
              "#fb9f3a"
             ],
             [
              0.8888888888888888,
              "#fdca26"
             ],
             [
              1,
              "#f0f921"
             ]
            ],
            "type": "histogram2dcontour"
           }
          ],
          "mesh3d": [
           {
            "colorbar": {
             "outlinewidth": 0,
             "ticks": ""
            },
            "type": "mesh3d"
           }
          ],
          "parcoords": [
           {
            "line": {
             "colorbar": {
              "outlinewidth": 0,
              "ticks": ""
             }
            },
            "type": "parcoords"
           }
          ],
          "pie": [
           {
            "automargin": true,
            "type": "pie"
           }
          ],
          "scatter": [
           {
            "fillpattern": {
             "fillmode": "overlay",
             "size": 10,
             "solidity": 0.2
            },
            "type": "scatter"
           }
          ],
          "scatter3d": [
           {
            "line": {
             "colorbar": {
              "outlinewidth": 0,
              "ticks": ""
             }
            },
            "marker": {
             "colorbar": {
              "outlinewidth": 0,
              "ticks": ""
             }
            },
            "type": "scatter3d"
           }
          ],
          "scattercarpet": [
           {
            "marker": {
             "colorbar": {
              "outlinewidth": 0,
              "ticks": ""
             }
            },
            "type": "scattercarpet"
           }
          ],
          "scattergeo": [
           {
            "marker": {
             "colorbar": {
              "outlinewidth": 0,
              "ticks": ""
             }
            },
            "type": "scattergeo"
           }
          ],
          "scattergl": [
           {
            "marker": {
             "colorbar": {
              "outlinewidth": 0,
              "ticks": ""
             }
            },
            "type": "scattergl"
           }
          ],
          "scattermapbox": [
           {
            "marker": {
             "colorbar": {
              "outlinewidth": 0,
              "ticks": ""
             }
            },
            "type": "scattermapbox"
           }
          ],
          "scatterpolar": [
           {
            "marker": {
             "colorbar": {
              "outlinewidth": 0,
              "ticks": ""
             }
            },
            "type": "scatterpolar"
           }
          ],
          "scatterpolargl": [
           {
            "marker": {
             "colorbar": {
              "outlinewidth": 0,
              "ticks": ""
             }
            },
            "type": "scatterpolargl"
           }
          ],
          "scatterternary": [
           {
            "marker": {
             "colorbar": {
              "outlinewidth": 0,
              "ticks": ""
             }
            },
            "type": "scatterternary"
           }
          ],
          "surface": [
           {
            "colorbar": {
             "outlinewidth": 0,
             "ticks": ""
            },
            "colorscale": [
             [
              0,
              "#0d0887"
             ],
             [
              0.1111111111111111,
              "#46039f"
             ],
             [
              0.2222222222222222,
              "#7201a8"
             ],
             [
              0.3333333333333333,
              "#9c179e"
             ],
             [
              0.4444444444444444,
              "#bd3786"
             ],
             [
              0.5555555555555556,
              "#d8576b"
             ],
             [
              0.6666666666666666,
              "#ed7953"
             ],
             [
              0.7777777777777778,
              "#fb9f3a"
             ],
             [
              0.8888888888888888,
              "#fdca26"
             ],
             [
              1,
              "#f0f921"
             ]
            ],
            "type": "surface"
           }
          ],
          "table": [
           {
            "cells": {
             "fill": {
              "color": "#EBF0F8"
             },
             "line": {
              "color": "white"
             }
            },
            "header": {
             "fill": {
              "color": "#C8D4E3"
             },
             "line": {
              "color": "white"
             }
            },
            "type": "table"
           }
          ]
         },
         "layout": {
          "annotationdefaults": {
           "arrowcolor": "#2a3f5f",
           "arrowhead": 0,
           "arrowwidth": 1
          },
          "autotypenumbers": "strict",
          "coloraxis": {
           "colorbar": {
            "outlinewidth": 0,
            "ticks": ""
           }
          },
          "colorscale": {
           "diverging": [
            [
             0,
             "#8e0152"
            ],
            [
             0.1,
             "#c51b7d"
            ],
            [
             0.2,
             "#de77ae"
            ],
            [
             0.3,
             "#f1b6da"
            ],
            [
             0.4,
             "#fde0ef"
            ],
            [
             0.5,
             "#f7f7f7"
            ],
            [
             0.6,
             "#e6f5d0"
            ],
            [
             0.7,
             "#b8e186"
            ],
            [
             0.8,
             "#7fbc41"
            ],
            [
             0.9,
             "#4d9221"
            ],
            [
             1,
             "#276419"
            ]
           ],
           "sequential": [
            [
             0,
             "#0d0887"
            ],
            [
             0.1111111111111111,
             "#46039f"
            ],
            [
             0.2222222222222222,
             "#7201a8"
            ],
            [
             0.3333333333333333,
             "#9c179e"
            ],
            [
             0.4444444444444444,
             "#bd3786"
            ],
            [
             0.5555555555555556,
             "#d8576b"
            ],
            [
             0.6666666666666666,
             "#ed7953"
            ],
            [
             0.7777777777777778,
             "#fb9f3a"
            ],
            [
             0.8888888888888888,
             "#fdca26"
            ],
            [
             1,
             "#f0f921"
            ]
           ],
           "sequentialminus": [
            [
             0,
             "#0d0887"
            ],
            [
             0.1111111111111111,
             "#46039f"
            ],
            [
             0.2222222222222222,
             "#7201a8"
            ],
            [
             0.3333333333333333,
             "#9c179e"
            ],
            [
             0.4444444444444444,
             "#bd3786"
            ],
            [
             0.5555555555555556,
             "#d8576b"
            ],
            [
             0.6666666666666666,
             "#ed7953"
            ],
            [
             0.7777777777777778,
             "#fb9f3a"
            ],
            [
             0.8888888888888888,
             "#fdca26"
            ],
            [
             1,
             "#f0f921"
            ]
           ]
          },
          "colorway": [
           "#636efa",
           "#EF553B",
           "#00cc96",
           "#ab63fa",
           "#FFA15A",
           "#19d3f3",
           "#FF6692",
           "#B6E880",
           "#FF97FF",
           "#FECB52"
          ],
          "font": {
           "color": "#2a3f5f"
          },
          "geo": {
           "bgcolor": "white",
           "lakecolor": "white",
           "landcolor": "#E5ECF6",
           "showlakes": true,
           "showland": true,
           "subunitcolor": "white"
          },
          "hoverlabel": {
           "align": "left"
          },
          "hovermode": "closest",
          "mapbox": {
           "style": "light"
          },
          "paper_bgcolor": "white",
          "plot_bgcolor": "#E5ECF6",
          "polar": {
           "angularaxis": {
            "gridcolor": "white",
            "linecolor": "white",
            "ticks": ""
           },
           "bgcolor": "#E5ECF6",
           "radialaxis": {
            "gridcolor": "white",
            "linecolor": "white",
            "ticks": ""
           }
          },
          "scene": {
           "xaxis": {
            "backgroundcolor": "#E5ECF6",
            "gridcolor": "white",
            "gridwidth": 2,
            "linecolor": "white",
            "showbackground": true,
            "ticks": "",
            "zerolinecolor": "white"
           },
           "yaxis": {
            "backgroundcolor": "#E5ECF6",
            "gridcolor": "white",
            "gridwidth": 2,
            "linecolor": "white",
            "showbackground": true,
            "ticks": "",
            "zerolinecolor": "white"
           },
           "zaxis": {
            "backgroundcolor": "#E5ECF6",
            "gridcolor": "white",
            "gridwidth": 2,
            "linecolor": "white",
            "showbackground": true,
            "ticks": "",
            "zerolinecolor": "white"
           }
          },
          "shapedefaults": {
           "line": {
            "color": "#2a3f5f"
           }
          },
          "ternary": {
           "aaxis": {
            "gridcolor": "white",
            "linecolor": "white",
            "ticks": ""
           },
           "baxis": {
            "gridcolor": "white",
            "linecolor": "white",
            "ticks": ""
           },
           "bgcolor": "#E5ECF6",
           "caxis": {
            "gridcolor": "white",
            "linecolor": "white",
            "ticks": ""
           }
          },
          "title": {
           "x": 0.05
          },
          "xaxis": {
           "automargin": true,
           "gridcolor": "white",
           "linecolor": "white",
           "ticks": "",
           "title": {
            "standoff": 15
           },
           "zerolinecolor": "white",
           "zerolinewidth": 2
          },
          "yaxis": {
           "automargin": true,
           "gridcolor": "white",
           "linecolor": "white",
           "ticks": "",
           "title": {
            "standoff": 15
           },
           "zerolinecolor": "white",
           "zerolinewidth": 2
          }
         }
        },
        "title": {
         "text": "h2o_reported"
        },
        "xaxis": {
         "anchor": "y",
         "domain": [
          0,
          1
         ],
         "title": {
          "text": "datetime"
         }
        },
        "yaxis": {
         "anchor": "x",
         "domain": [
          0,
          1
         ],
         "title": {
          "text": "h2o_reported"
         }
        }
       }
      }
     },
     "metadata": {},
     "output_type": "display_data"
    }
   ],
   "source": [
    "# 81 12:44 - 13:04\n",
    "# Reading: 518.9\n",
    "\n",
    "start_date = datetime(2024, 12, 11, 12, 44, 49)\n",
    "end_date = datetime(2024, 12, 11, 13, 4, 0)\n",
    "\n",
    "process_measurement(start_date, end_date, plot = True)"
   ]
  },
  {
   "cell_type": "code",
   "execution_count": 11,
   "metadata": {},
   "outputs": [
    {
     "name": "stdout",
     "output_type": "stream",
     "text": [
      "Picarro Median Reading: 521.8658507946442\n"
     ]
    }
   ],
   "source": [
    "# 82 13:08 - 13:29\n",
    "# Reading: 518.3\n",
    "\n",
    "start_date = datetime(2024, 12, 11, 13, 8, 0)\n",
    "end_date = datetime(2024, 12, 11, 13, 28, 0)\n",
    "\n",
    "process_measurement(start_date, end_date)"
   ]
  },
  {
   "cell_type": "code",
   "execution_count": 12,
   "metadata": {},
   "outputs": [
    {
     "name": "stdout",
     "output_type": "stream",
     "text": [
      "Picarro Median Reading: 522.4968016109835\n"
     ]
    }
   ],
   "source": [
    "# 83 15:25 - 15:45\n",
    "# Reading: 518.9\n",
    "\n",
    "start_date = datetime(2024, 12, 3, 15, 25, 0)\n",
    "end_date = datetime(2024, 12, 3, 15, 45, 0)\n",
    "\n",
    "process_measurement(start_date, end_date)"
   ]
  },
  {
   "cell_type": "code",
   "execution_count": 13,
   "metadata": {},
   "outputs": [
    {
     "name": "stdout",
     "output_type": "stream",
     "text": [
      "Picarro Median Reading: 519.4770598989816\n"
     ]
    }
   ],
   "source": [
    "# 84  16:05 - 16:25\n",
    "# Reading: 516.0\n",
    "\n",
    "start_date = datetime(2024, 12, 3, 16, 5, 6)\n",
    "end_date = datetime(2024, 12, 3, 16, 25, 0)\n",
    "\n",
    "process_measurement(start_date, end_date)"
   ]
  },
  {
   "cell_type": "code",
   "execution_count": 14,
   "metadata": {},
   "outputs": [
    {
     "name": "stdout",
     "output_type": "stream",
     "text": [
      "Picarro Median Reading: 522.4849526454174\n"
     ]
    }
   ],
   "source": [
    "# 85 UTC: 13:31 - 13:51\n",
    "# Reading: 519.0\n",
    "\n",
    "start_date = datetime(2024, 12, 11, 13, 31, 19)\n",
    "end_date = datetime(2024, 12, 11, 13, 51, 0)\n",
    "\n",
    "process_measurement(start_date, end_date)"
   ]
  },
  {
   "cell_type": "code",
   "execution_count": 15,
   "metadata": {},
   "outputs": [
    {
     "name": "stdout",
     "output_type": "stream",
     "text": [
      "Picarro Median Reading: 522.3177838289337\n"
     ]
    }
   ],
   "source": [
    "# 86 UTC: 13:53 - 14:13\n",
    "# Reading: 518.7\n",
    "\n",
    "start_date = datetime(2024, 12, 11, 13, 53, 20)\n",
    "end_date = datetime(2024, 12, 11, 14, 13, 0)\n",
    "\n",
    "process_measurement(start_date, end_date)"
   ]
  },
  {
   "cell_type": "code",
   "execution_count": 16,
   "metadata": {},
   "outputs": [
    {
     "name": "stdout",
     "output_type": "stream",
     "text": [
      "Picarro Median Reading: 522.1724404766294\n"
     ]
    }
   ],
   "source": [
    "# 87 UTC: 14:15 - 14:35\n",
    "# Reading: 518.8\n",
    "\n",
    "start_date = datetime(2024, 12, 11, 14, 15, 0)\n",
    "end_date = datetime(2024, 12, 11, 14, 35, 0)\n",
    "\n",
    "process_measurement(start_date, end_date)"
   ]
  },
  {
   "cell_type": "code",
   "execution_count": 17,
   "metadata": {},
   "outputs": [
    {
     "name": "stdout",
     "output_type": "stream",
     "text": [
      "Picarro Median Reading: 521.8874542192472\n"
     ]
    }
   ],
   "source": [
    "# 88 UTC: 14:38 - 14:58\n",
    "# Reading: 518.4\n",
    "\n",
    "start_date = datetime(2024, 12, 11, 14, 38, 29)\n",
    "end_date = datetime(2024, 12, 11, 14, 58, 0)\n",
    "\n",
    "process_measurement(start_date, end_date)"
   ]
  },
  {
   "cell_type": "code",
   "execution_count": 18,
   "metadata": {},
   "outputs": [
    {
     "name": "stdout",
     "output_type": "stream",
     "text": [
      "Picarro Median Reading: 523.0891391054257\n"
     ]
    }
   ],
   "source": [
    "# 89 UTC: 15:01 - 15:21\n",
    "# Reading: 519.6\n",
    "\n",
    "start_date = datetime(2024, 12, 11, 15, 1, 0)\n",
    "end_date = datetime(2024, 12, 11, 15, 21, 0)\n",
    "\n",
    "process_measurement(start_date, end_date)"
   ]
  },
  {
   "cell_type": "code",
   "execution_count": 19,
   "metadata": {},
   "outputs": [
    {
     "name": "stdout",
     "output_type": "stream",
     "text": [
      "Picarro Median Reading: 522.491612062708\n"
     ]
    }
   ],
   "source": [
    "# 90 UTC: 13:00 - 13:22\n",
    "# Reading: 519.1\n",
    "\n",
    "start_date = datetime(2024, 12, 18, 13, 2, 46)\n",
    "end_date = datetime(2024, 12, 18, 13, 21, 40)\n",
    "\n",
    "process_measurement(start_date, end_date)"
   ]
  },
  {
   "cell_type": "code",
   "execution_count": 20,
   "metadata": {},
   "outputs": [
    {
     "name": "stdout",
     "output_type": "stream",
     "text": [
      "Picarro Median Reading: 522.5101663622424\n"
     ]
    }
   ],
   "source": [
    "# 91 UTC: 13:22 - 13:42\n",
    "# Reading: 519.1\n",
    "\n",
    "start_date = datetime(2024, 12, 18, 13, 22, 5)\n",
    "end_date = datetime(2024, 12, 18, 13, 42, 0)\n",
    "\n",
    "process_measurement(start_date, end_date)"
   ]
  },
  {
   "cell_type": "code",
   "execution_count": 21,
   "metadata": {},
   "outputs": [
    {
     "name": "stdout",
     "output_type": "stream",
     "text": [
      "Picarro Median Reading: 519.7332957497948\n"
     ]
    }
   ],
   "source": [
    "# 92 UTC: 13:42 - 14:02\n",
    "# Reading: 516.4\n",
    "\n",
    "start_date = datetime(2024, 12, 18, 13, 43, 29)\n",
    "end_date = datetime(2024, 12, 18, 14, 2, 0)\n",
    "\n",
    "process_measurement(start_date, end_date)"
   ]
  },
  {
   "cell_type": "code",
   "execution_count": 22,
   "metadata": {},
   "outputs": [
    {
     "name": "stdout",
     "output_type": "stream",
     "text": [
      "Picarro Median Reading: 522.3030308847357\n"
     ]
    }
   ],
   "source": [
    "# 93 UTC: 14:02 - 14:22\n",
    "# Reading: 519.0\n",
    "\n",
    "start_date = datetime(2024, 12, 18, 14, 3, 45)\n",
    "end_date = datetime(2024, 12, 18, 14, 22, 0)\n",
    "\n",
    "process_measurement(start_date, end_date)"
   ]
  },
  {
   "cell_type": "code",
   "execution_count": 23,
   "metadata": {},
   "outputs": [
    {
     "name": "stdout",
     "output_type": "stream",
     "text": [
      "Picarro Median Reading: 521.6356827796312\n"
     ]
    }
   ],
   "source": [
    "# 94 UTC: 14:22 - 14:42\n",
    "# Reading: 518,3\n",
    "\n",
    "start_date = datetime(2024, 12, 18, 14, 23, 14)\n",
    "end_date = datetime(2024, 12, 18, 14, 42, 0)\n",
    "\n",
    "process_measurement(start_date, end_date)"
   ]
  },
  {
   "cell_type": "code",
   "execution_count": 24,
   "metadata": {},
   "outputs": [
    {
     "name": "stdout",
     "output_type": "stream",
     "text": [
      "Picarro Median Reading: 522.1018738006179\n"
     ]
    }
   ],
   "source": [
    "# 95 UTC: 14:42 - 15:02\n",
    "# Reading: 518.7\n",
    "\n",
    "start_date = datetime(2024, 12, 18, 14, 43, 54)\n",
    "end_date = datetime(2024, 12, 18, 15, 2, 0)\n",
    "\n",
    "process_measurement(start_date, end_date)"
   ]
  },
  {
   "cell_type": "code",
   "execution_count": 25,
   "metadata": {},
   "outputs": [
    {
     "name": "stdout",
     "output_type": "stream",
     "text": [
      "Picarro Median Reading: 521.6260233154374\n"
     ]
    }
   ],
   "source": [
    "# 96 UTC: 15:02 - 15:22\n",
    "# Reading: 518.1\n",
    "\n",
    "start_date = datetime(2024, 12, 18, 15, 4, 7)\n",
    "end_date = datetime(2024, 12, 18, 15, 22, 0)\n",
    "\n",
    "process_measurement(start_date, end_date)"
   ]
  },
  {
   "cell_type": "code",
   "execution_count": 26,
   "metadata": {},
   "outputs": [
    {
     "name": "stdout",
     "output_type": "stream",
     "text": [
      "Picarro Median Reading: 521.9528892686263\n"
     ]
    }
   ],
   "source": [
    "# 97 UTC: 15:22 - 15:42\n",
    "# Reading: 518.8\n",
    "\n",
    "start_date = datetime(2024, 12, 18, 15, 23, 25)\n",
    "end_date = datetime(2024, 12, 18, 15, 42, 0)\n",
    "\n",
    "process_measurement(start_date, end_date)"
   ]
  },
  {
   "cell_type": "code",
   "execution_count": 27,
   "metadata": {},
   "outputs": [
    {
     "name": "stdout",
     "output_type": "stream",
     "text": [
      "Picarro Median Reading: 522.3799135847399\n"
     ]
    }
   ],
   "source": [
    "# 98 UTC: 10:21 - 10:41\n",
    "# Reading: 519.0\n",
    "\n",
    "start_date = datetime(2024, 12, 19, 10, 21, 52)\n",
    "end_date = datetime(2024, 12, 19, 10, 40, 49)\n",
    "\n",
    "process_measurement(start_date, end_date)"
   ]
  },
  {
   "cell_type": "code",
   "execution_count": 28,
   "metadata": {},
   "outputs": [
    {
     "name": "stdout",
     "output_type": "stream",
     "text": [
      "Picarro Median Reading: 522.6305812150305\n"
     ]
    }
   ],
   "source": [
    "# 99 UTC: 12:32 - 12:53\n",
    "# Reading: 519.3\n",
    "\n",
    "start_date = datetime(2024, 12, 19, 12, 43, 30)\n",
    "end_date = datetime(2024, 12, 19, 12, 53, 0)\n",
    "\n",
    "process_measurement(start_date, end_date)"
   ]
  },
  {
   "cell_type": "code",
   "execution_count": 29,
   "metadata": {},
   "outputs": [
    {
     "name": "stdout",
     "output_type": "stream",
     "text": [
      "Picarro Median Reading: 522.2353233571587\n"
     ]
    }
   ],
   "source": [
    "# 100 UTC: 12:52 - 13:14\n",
    "# Reading: 519.0\n",
    "\n",
    "start_date = datetime(2024, 12, 19, 12, 53, 24)\n",
    "end_date = datetime(2024, 12, 19, 13, 14, 0)\n",
    "\n",
    "process_measurement(start_date, end_date)"
   ]
  },
  {
   "cell_type": "code",
   "execution_count": 30,
   "metadata": {},
   "outputs": [
    {
     "name": "stdout",
     "output_type": "stream",
     "text": [
      "Picarro Median Reading: 401.7647699354647\n"
     ]
    }
   ],
   "source": [
    "# 101 UTC: 13:14 - 13:35\n",
    "# Reading: 399.4\n",
    "\n",
    "start_date = datetime(2024, 12, 19, 13, 14, 37)\n",
    "end_date = datetime(2024, 12, 19, 13, 34, 33)\n",
    "\n",
    "process_measurement(start_date, end_date)"
   ]
  },
  {
   "cell_type": "code",
   "execution_count": 31,
   "metadata": {},
   "outputs": [
    {
     "name": "stdout",
     "output_type": "stream",
     "text": [
      "Picarro Median Reading: 402.66138570405303\n"
     ]
    }
   ],
   "source": [
    "# 102 UTC: 13:35 - 13:55\n",
    "# Reading: 400.1\n",
    "\n",
    "start_date = datetime(2024, 12, 19, 13, 35, 33)\n",
    "end_date = datetime(2024, 12, 19, 13, 55, 0)\n",
    "\n",
    "process_measurement(start_date, end_date)"
   ]
  },
  {
   "cell_type": "code",
   "execution_count": 32,
   "metadata": {},
   "outputs": [
    {
     "name": "stdout",
     "output_type": "stream",
     "text": [
      "Picarro Median Reading: 402.68248817549687\n"
     ]
    }
   ],
   "source": [
    "# 103 UTC: 13:55 - 14:15\n",
    "# Reading: 400.1\n",
    "\n",
    "start_date = datetime(2024, 12, 19, 13, 56, 43)\n",
    "end_date = datetime(2024, 12, 19, 14, 15, 0)\n",
    "\n",
    "process_measurement(start_date, end_date)"
   ]
  },
  {
   "cell_type": "code",
   "execution_count": 33,
   "metadata": {},
   "outputs": [
    {
     "name": "stdout",
     "output_type": "stream",
     "text": [
      "Picarro Median Reading: 401.6191689496525\n"
     ]
    }
   ],
   "source": [
    "# 104 UTC: 14:15 - 14:35\n",
    "# Reading: 399.1\n",
    "\n",
    "start_date = datetime(2024, 12, 19, 14, 15, 31)\n",
    "end_date = datetime(2024, 12, 19, 14, 35, 0)\n",
    "\n",
    "process_measurement(start_date, end_date)"
   ]
  },
  {
   "cell_type": "code",
   "execution_count": 34,
   "metadata": {},
   "outputs": [
    {
     "name": "stdout",
     "output_type": "stream",
     "text": [
      "Picarro Median Reading: 400.4666169738992\n"
     ]
    }
   ],
   "source": [
    "# 105 UTC: 14:55 - 15:15\n",
    "# Reading: 397.9\n",
    "\n",
    "start_date = datetime(2024, 12, 19, 14, 57, 40)\n",
    "end_date = datetime(2024, 12, 19, 15, 15, 0)\n",
    "\n",
    "process_measurement(start_date, end_date)"
   ]
  },
  {
   "cell_type": "code",
   "execution_count": 35,
   "metadata": {},
   "outputs": [
    {
     "name": "stdout",
     "output_type": "stream",
     "text": [
      "Picarro Median Reading: 401.60491206736805\n"
     ]
    }
   ],
   "source": [
    "# 106 UTC: 15:15 - 15:35\n",
    "# Reading: 399.0\n",
    "\n",
    "start_date = datetime(2024, 12, 19, 15, 16, 42)\n",
    "end_date = datetime(2024, 12, 19, 15, 35, 0)\n",
    "\n",
    "process_measurement(start_date, end_date)"
   ]
  },
  {
   "cell_type": "code",
   "execution_count": 36,
   "metadata": {},
   "outputs": [
    {
     "name": "stdout",
     "output_type": "stream",
     "text": [
      "Picarro Median Reading: 401.90021658762305\n"
     ]
    }
   ],
   "source": [
    "# 107 UTC: 15:35 - 15:55\n",
    "# Reading: 499.3\n",
    "\n",
    "start_date = datetime(2024, 12, 19, 15, 35, 41)\n",
    "end_date = datetime(2024, 12, 19, 15, 54, 50)\n",
    "\n",
    "process_measurement(start_date, end_date)"
   ]
  },
  {
   "cell_type": "code",
   "execution_count": 37,
   "metadata": {},
   "outputs": [
    {
     "name": "stdout",
     "output_type": "stream",
     "text": [
      "Picarro Median Reading: 402.62355954491454\n"
     ]
    }
   ],
   "source": [
    "# 108 UTC: 08:45 - 09:05\n",
    "# Reading: 400.0\n",
    "\n",
    "start_date = datetime(2024, 12, 20, 8, 45, 10)\n",
    "end_date = datetime(2024, 12, 20, 9, 5, 0)\n",
    "\n",
    "process_measurement(start_date, end_date)"
   ]
  },
  {
   "cell_type": "code",
   "execution_count": 38,
   "metadata": {},
   "outputs": [
    {
     "name": "stdout",
     "output_type": "stream",
     "text": [
      "Picarro Median Reading: 399.45926835304\n"
     ]
    }
   ],
   "source": [
    "# 109 UTC: 09:05 - 09:25\n",
    "# Reading: 396.9\n",
    "\n",
    "start_date = datetime(2024, 12, 20, 9, 8, 30)\n",
    "end_date = datetime(2024, 12, 20, 9, 25, 0)\n",
    "\n",
    "process_measurement(start_date, end_date)"
   ]
  },
  {
   "cell_type": "code",
   "execution_count": 39,
   "metadata": {},
   "outputs": [
    {
     "name": "stdout",
     "output_type": "stream",
     "text": [
      "Picarro Median Reading: 401.57076504850534\n"
     ]
    }
   ],
   "source": [
    "# 110 UTC: 09:25 - 09:45\n",
    "# Reading: 399.0\n",
    "\n",
    "start_date = datetime(2024, 12, 20, 9, 27, 0)\n",
    "end_date = datetime(2024, 12, 20, 9, 45, 0)\n",
    "\n",
    "process_measurement(start_date, end_date)"
   ]
  },
  {
   "cell_type": "code",
   "execution_count": 40,
   "metadata": {},
   "outputs": [
    {
     "name": "stdout",
     "output_type": "stream",
     "text": [
      "Picarro Median Reading: 402.5006864719442\n"
     ]
    }
   ],
   "source": [
    "# 111 UTC: 10:06 - 10:26\n",
    "# Reading: 399.9\n",
    "\n",
    "start_date = datetime(2024, 12, 20, 10, 6, 0)\n",
    "end_date = datetime(2024, 12, 20, 10, 26, 0)\n",
    "\n",
    "process_measurement(start_date, end_date)"
   ]
  },
  {
   "cell_type": "code",
   "execution_count": 41,
   "metadata": {},
   "outputs": [
    {
     "name": "stdout",
     "output_type": "stream",
     "text": [
      "Picarro Median Reading: 402.504090295343\n"
     ]
    }
   ],
   "source": [
    "# 112 UTC: 10:26 - 10:46\n",
    "# Reading: 399.9\n",
    "\n",
    "start_date = datetime(2024, 12, 20, 10, 27, 20)\n",
    "end_date = datetime(2024, 12, 20, 10, 46, 0)\n",
    "\n",
    "process_measurement(start_date, end_date)"
   ]
  },
  {
   "cell_type": "code",
   "execution_count": 42,
   "metadata": {},
   "outputs": [
    {
     "name": "stdout",
     "output_type": "stream",
     "text": [
      "Picarro Median Reading: 401.6594670193435\n"
     ]
    }
   ],
   "source": [
    "# 113 UTC: 12:08 - 12:28\n",
    "# Reading: 399.1\n",
    "\n",
    "start_date = datetime(2024, 12, 20, 12, 8, 30)\n",
    "end_date = datetime(2024, 12, 20, 12, 28, 0)\n",
    "\n",
    "process_measurement(start_date, end_date)"
   ]
  },
  {
   "cell_type": "code",
   "execution_count": 43,
   "metadata": {},
   "outputs": [
    {
     "name": "stdout",
     "output_type": "stream",
     "text": [
      "Picarro Median Reading: 401.778021092574\n"
     ]
    }
   ],
   "source": [
    "# 114 UTC: 12:28 - 12:49\n",
    "# Reading: 399.1\n",
    "\n",
    "start_date = datetime(2024, 12, 20, 12, 29, 10)\n",
    "end_date = datetime(2024, 12, 20, 12, 49, 0)\n",
    "\n",
    "process_measurement(start_date, end_date)"
   ]
  },
  {
   "cell_type": "code",
   "execution_count": 44,
   "metadata": {},
   "outputs": [
    {
     "name": "stdout",
     "output_type": "stream",
     "text": [
      "Picarro Median Reading: 402.45153795997226\n"
     ]
    }
   ],
   "source": [
    "# 115 UTC: 12:49 - 13:09\n",
    "# Reading: 399.9\n",
    "\n",
    "start_date = datetime(2024, 12, 20, 12, 49, 40)\n",
    "end_date = datetime(2024, 12, 20, 13, 9, 0)\n",
    "\n",
    "process_measurement(start_date, end_date)"
   ]
  },
  {
   "cell_type": "code",
   "execution_count": 45,
   "metadata": {},
   "outputs": [
    {
     "name": "stdout",
     "output_type": "stream",
     "text": [
      "Picarro Median Reading: 401.8961799160489\n"
     ]
    }
   ],
   "source": [
    "# 116 UTC: 13:09 - 13:29\n",
    "# Reading: 399.4\n",
    "\n",
    "start_date = datetime(2024, 12, 20, 13, 10, 10)\n",
    "end_date = datetime(2024, 12, 20, 13, 29, 0)\n",
    "\n",
    "process_measurement(start_date, end_date)"
   ]
  },
  {
   "cell_type": "code",
   "execution_count": 46,
   "metadata": {},
   "outputs": [
    {
     "name": "stdout",
     "output_type": "stream",
     "text": [
      "Picarro Median Reading: 401.4432746016526\n"
     ]
    }
   ],
   "source": [
    "# 117 UTC: 13:29 - 13:49\n",
    "# Reading: 399.0\n",
    "\n",
    "start_date = datetime(2024, 12, 20, 13, 30, 10)\n",
    "end_date = datetime(2024, 12, 20, 13, 49, 0)\n",
    "\n",
    "process_measurement(start_date, end_date)"
   ]
  },
  {
   "cell_type": "code",
   "execution_count": 47,
   "metadata": {},
   "outputs": [
    {
     "name": "stdout",
     "output_type": "stream",
     "text": [
      "Picarro Median Reading: 401.64859394908416\n"
     ]
    }
   ],
   "source": [
    "# 118 UTC: 13:49 - 14:09\n",
    "# Reading: 399.2\n",
    "\n",
    "start_date = datetime(2024, 12, 20, 13, 50, 30)\n",
    "end_date = datetime(2024, 12, 20, 14, 9, 0)\n",
    "\n",
    "process_measurement(start_date, end_date)"
   ]
  },
  {
   "cell_type": "code",
   "execution_count": 48,
   "metadata": {},
   "outputs": [
    {
     "name": "stdout",
     "output_type": "stream",
     "text": [
      "Picarro Median Reading: 402.82572380927417\n"
     ]
    }
   ],
   "source": [
    "# 119 UTC: 14:09 - 14:29\n",
    "# Reading: \n",
    "\n",
    "start_date = datetime(2024, 12, 20, 14, 9, 40)\n",
    "end_date = datetime(2024, 12, 20, 14, 29, 0)\n",
    "\n",
    "process_measurement(start_date, end_date)"
   ]
  },
  {
   "cell_type": "code",
   "execution_count": 49,
   "metadata": {},
   "outputs": [
    {
     "name": "stdout",
     "output_type": "stream",
     "text": [
      "Picarro Median Reading: 402.4684831554075\n"
     ]
    }
   ],
   "source": [
    "# 120 UTC: 14:29 - 14:49\n",
    "# Reading:  399.9\n",
    "\n",
    "start_date = datetime(2024, 12, 20, 14, 29, 40)\n",
    "end_date = datetime(2024, 12, 20, 14, 49, 0)\n",
    "\n",
    "process_measurement(start_date, end_date)"
   ]
  }
 ],
 "metadata": {
  "kernelspec": {
   "display_name": ".venv",
   "language": "python",
   "name": "python3"
  },
  "language_info": {
   "codemirror_mode": {
    "name": "ipython",
    "version": 3
   },
   "file_extension": ".py",
   "mimetype": "text/x-python",
   "name": "python",
   "nbconvert_exporter": "python",
   "pygments_lexer": "ipython3",
   "version": "3.12.10"
  }
 },
 "nbformat": 4,
 "nbformat_minor": 2
}
