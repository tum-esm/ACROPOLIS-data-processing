{
 "cells": [
  {
   "cell_type": "code",
   "execution_count": 20,
   "metadata": {},
   "outputs": [],
   "source": [
    "# Imports & Inits\n",
    "\n",
    "from datetime import datetime\n",
    "from datetime import timezone\n",
    "import polars as pl\n",
    "import os\n",
    "import sys\n",
    "import plotly.express as px\n",
    "\n",
    "\n",
    "PROJECT_PATH = os.path.abspath(os.path.join(\"..\", \"..\"))\n",
    "PIPELINE_PATH = os.path.join(PROJECT_PATH, \"pipeline\")\n",
    "DATA_DIRECTORY = os.path.join(PROJECT_PATH, \"data\")\n",
    "\n",
    "if PIPELINE_PATH not in sys.path:\n",
    "    sys.path.append(PIPELINE_PATH)\n",
    "    \n",
    "from utils.paths import PROCESSED_PICARRO_DATA_DIRECTORY\n",
    "from utils.calibration_processing import process_bottle\n",
    "\n",
    "assert(os.path.exists(PROCESSED_PICARRO_DATA_DIRECTORY))"
   ]
  },
  {
   "cell_type": "code",
   "execution_count": 21,
   "metadata": {},
   "outputs": [
    {
     "data": {
      "text/html": [
       "<div><style>\n",
       ".dataframe > thead > tr,\n",
       ".dataframe > tbody > tr {\n",
       "  text-align: right;\n",
       "  white-space: pre-wrap;\n",
       "}\n",
       "</style>\n",
       "<small>shape: (1, 3)</small><table border=\"1\" class=\"dataframe\"><thead><tr><th>datetime</th><th>picarro_corrected</th><th>h2o_reported</th></tr><tr><td>datetime[μs, UTC]</td><td>f64</td><td>f64</td></tr></thead><tbody><tr><td>2024-12-03 12:53:31.812 UTC</td><td>427.175463</td><td>0.003362</td></tr></tbody></table></div>"
      ],
      "text/plain": [
       "shape: (1, 3)\n",
       "┌─────────────────────────────┬───────────────────┬──────────────┐\n",
       "│ datetime                    ┆ picarro_corrected ┆ h2o_reported │\n",
       "│ ---                         ┆ ---               ┆ ---          │\n",
       "│ datetime[μs, UTC]           ┆ f64               ┆ f64          │\n",
       "╞═════════════════════════════╪═══════════════════╪══════════════╡\n",
       "│ 2024-12-03 12:53:31.812 UTC ┆ 427.175463        ┆ 0.003362     │\n",
       "└─────────────────────────────┴───────────────────┴──────────────┘"
      ]
     },
     "execution_count": 21,
     "metadata": {},
     "output_type": "execute_result"
    }
   ],
   "source": [
    "start_date = datetime(2024, 12, 3, 0, 0, 0).replace(tzinfo=timezone.utc)\n",
    "end_date = datetime(2024, 12 , 21, 0, 0, 0).replace(tzinfo=timezone.utc)\n",
    "  \n",
    "df_p = pl.scan_parquet(os.path.join(PROCESSED_PICARRO_DATA_DIRECTORY, \"Calibrated_Raw_DWD_Picarro_G2301_413.parquet\")) \\\n",
    "    .filter(pl.col(\"datetime\").is_between(start_date, end_date)) \\\n",
    "    .select([\"datetime\", \"picarro_corrected\", \"h2o_reported\"])\n",
    "df_p.head(1).collect()"
   ]
  },
  {
   "cell_type": "code",
   "execution_count": 22,
   "metadata": {},
   "outputs": [],
   "source": [
    "def plot_sensor_measurement(df, col_name: str, filter = None):\n",
    "    if filter != None:\n",
    "        df = df.groupby_dynamic(\"datetime\", every=filter).agg(\n",
    "            [\n",
    "                pl.all().exclude([\"datetime\"]).mean(),\n",
    "            ]\n",
    "        )\n",
    "\n",
    "    fig = px.line(\n",
    "        df,\n",
    "        x=\"datetime\",\n",
    "        y=col_name,\n",
    "        markers=True,\n",
    "        title=col_name,\n",
    "    )\n",
    "    fig.show()\n",
    "    \n",
    "def process_measurement(start_date, end_date, plot=False):\n",
    "    df_p_bottle = df_p.filter(pl.col(\"datetime\").is_between(start_date, end_date)) \\\n",
    "        .collect()\n",
    "\n",
    "    data = df_p_bottle.select(pl.col(\"picarro_corrected\")).to_series().to_list()\n",
    "    data_cut = data[int(len(data)*0.3):int(len(data)*0.95)]\n",
    "\n",
    "    median = process_bottle(data_cut, ignore_len=True) \n",
    "\n",
    "    print(f\"Picarro Median Reading: {median}\")\n",
    "\n",
    "    # Plots\n",
    "    if plot:\n",
    "        plot_sensor_measurement(df_p_bottle, col_name=\"picarro_corrected\")\n",
    "        plot_sensor_measurement(df_p_bottle, col_name=\"h2o_reported\")"
   ]
  },
  {
   "cell_type": "code",
   "execution_count": 23,
   "metadata": {},
   "outputs": [
    {
     "name": "stdout",
     "output_type": "stream",
     "text": [
      "Picarro Median Reading: 522.399596037361\n"
     ]
    }
   ],
   "source": [
    "# 81 12:44 - 13:04\n",
    "# Reading: 518.9\n",
    "\n",
    "start_date = datetime(2024, 12, 11, 12, 44, 49).replace(tzinfo=timezone.utc)\n",
    "end_date = datetime(2024, 12, 11, 13, 4, 0).replace(tzinfo=timezone.utc)\n",
    "\n",
    "process_measurement(start_date, end_date)"
   ]
  },
  {
   "cell_type": "code",
   "execution_count": 24,
   "metadata": {},
   "outputs": [
    {
     "name": "stdout",
     "output_type": "stream",
     "text": [
      "Picarro Median Reading: 522.0029551874638\n"
     ]
    }
   ],
   "source": [
    "# 82 13:08 - 13:29\n",
    "# Reading: 518.3\n",
    "\n",
    "start_date = datetime(2024, 12, 11, 13, 8, 0).replace(tzinfo=timezone.utc)\n",
    "end_date = datetime(2024, 12, 11, 13, 28, 0).replace(tzinfo=timezone.utc)\n",
    "\n",
    "process_measurement(start_date, end_date)"
   ]
  },
  {
   "cell_type": "code",
   "execution_count": 25,
   "metadata": {},
   "outputs": [
    {
     "name": "stdout",
     "output_type": "stream",
     "text": [
      "Picarro Median Reading: 522.4975732853461\n"
     ]
    }
   ],
   "source": [
    "# 83 15:25 - 15:45\n",
    "# Reading: 518.9\n",
    "\n",
    "start_date = datetime(2024, 12, 3, 15, 25, 0).replace(tzinfo=timezone.utc)\n",
    "end_date = datetime(2024, 12, 3, 15, 45, 0).replace(tzinfo=timezone.utc)\n",
    "\n",
    "process_measurement(start_date, end_date)"
   ]
  },
  {
   "cell_type": "code",
   "execution_count": 26,
   "metadata": {},
   "outputs": [
    {
     "name": "stdout",
     "output_type": "stream",
     "text": [
      "Picarro Median Reading: 519.4809280817365\n"
     ]
    }
   ],
   "source": [
    "# 84  16:05 - 16:25\n",
    "# Reading: 516.0\n",
    "\n",
    "start_date = datetime(2024, 12, 3, 16, 5, 6).replace(tzinfo=timezone.utc)\n",
    "end_date = datetime(2024, 12, 3, 16, 25, 0).replace(tzinfo=timezone.utc)\n",
    "\n",
    "process_measurement(start_date, end_date)"
   ]
  },
  {
   "cell_type": "code",
   "execution_count": 27,
   "metadata": {},
   "outputs": [
    {
     "name": "stdout",
     "output_type": "stream",
     "text": [
      "Picarro Median Reading: 522.6054309448991\n"
     ]
    }
   ],
   "source": [
    "# 85 UTC: 13:31 - 13:51\n",
    "# Reading: 519.0\n",
    "\n",
    "start_date = datetime(2024, 12, 11, 13, 31, 19).replace(tzinfo=timezone.utc)\n",
    "end_date = datetime(2024, 12, 11, 13, 51, 0).replace(tzinfo=timezone.utc)\n",
    "\n",
    "process_measurement(start_date, end_date)"
   ]
  },
  {
   "cell_type": "code",
   "execution_count": 28,
   "metadata": {},
   "outputs": [
    {
     "name": "stdout",
     "output_type": "stream",
     "text": [
      "Picarro Median Reading: 522.4460071604951\n"
     ]
    }
   ],
   "source": [
    "# 86 UTC: 13:53 - 14:13\n",
    "# Reading: 518.7\n",
    "\n",
    "start_date = datetime(2024, 12, 11, 13, 53, 20).replace(tzinfo=timezone.utc)\n",
    "end_date = datetime(2024, 12, 11, 14, 13, 0).replace(tzinfo=timezone.utc)\n",
    "\n",
    "process_measurement(start_date, end_date)"
   ]
  },
  {
   "cell_type": "code",
   "execution_count": 29,
   "metadata": {},
   "outputs": [
    {
     "name": "stdout",
     "output_type": "stream",
     "text": [
      "Picarro Median Reading: 522.3058339682808\n"
     ]
    }
   ],
   "source": [
    "# 87 UTC: 14:15 - 14:35\n",
    "# Reading: 518.8\n",
    "\n",
    "start_date = datetime(2024, 12, 11, 14, 15, 0).replace(tzinfo=timezone.utc)\n",
    "end_date = datetime(2024, 12, 11, 14, 35, 0).replace(tzinfo=timezone.utc)\n",
    "\n",
    "process_measurement(start_date, end_date)"
   ]
  },
  {
   "cell_type": "code",
   "execution_count": 30,
   "metadata": {},
   "outputs": [
    {
     "name": "stdout",
     "output_type": "stream",
     "text": [
      "Picarro Median Reading: 522.0212340787328\n"
     ]
    }
   ],
   "source": [
    "# 88 UTC: 14:38 - 14:58\n",
    "# Reading: 518.4\n",
    "\n",
    "start_date = datetime(2024, 12, 11, 14, 38, 29).replace(tzinfo=timezone.utc)\n",
    "end_date = datetime(2024, 12, 11, 14, 58, 0).replace(tzinfo=timezone.utc)\n",
    "\n",
    "process_measurement(start_date, end_date)"
   ]
  },
  {
   "cell_type": "code",
   "execution_count": 31,
   "metadata": {},
   "outputs": [
    {
     "name": "stdout",
     "output_type": "stream",
     "text": [
      "Picarro Median Reading: 523.2034187247424\n"
     ]
    }
   ],
   "source": [
    "# 89 UTC: 15:01 - 15:21\n",
    "# Reading: 519.6\n",
    "\n",
    "start_date = datetime(2024, 12, 11, 15, 1, 0).replace(tzinfo=timezone.utc)\n",
    "end_date = datetime(2024, 12, 11, 15, 21, 0).replace(tzinfo=timezone.utc)\n",
    "\n",
    "process_measurement(start_date, end_date)"
   ]
  },
  {
   "cell_type": "code",
   "execution_count": 32,
   "metadata": {},
   "outputs": [
    {
     "name": "stdout",
     "output_type": "stream",
     "text": [
      "Picarro Median Reading: 522.734519152853\n"
     ]
    }
   ],
   "source": [
    "# 90 UTC: 13:00 - 13:22\n",
    "# Reading: 519.1\n",
    "\n",
    "start_date = datetime(2024, 12, 18, 13, 2, 46).replace(tzinfo=timezone.utc)\n",
    "end_date = datetime(2024, 12, 18, 13, 21, 40).replace(tzinfo=timezone.utc)\n",
    "\n",
    "process_measurement(start_date, end_date)"
   ]
  },
  {
   "cell_type": "code",
   "execution_count": 33,
   "metadata": {},
   "outputs": [
    {
     "name": "stdout",
     "output_type": "stream",
     "text": [
      "Picarro Median Reading: 522.7434156870997\n"
     ]
    }
   ],
   "source": [
    "# 91 UTC: 13:22 - 13:42\n",
    "# Reading: 519.1\n",
    "\n",
    "start_date = datetime(2024, 12, 18, 13, 22, 5).replace(tzinfo=timezone.utc)\n",
    "end_date = datetime(2024, 12, 18, 13, 42, 0).replace(tzinfo=timezone.utc)\n",
    "\n",
    "process_measurement(start_date, end_date)"
   ]
  },
  {
   "cell_type": "code",
   "execution_count": 34,
   "metadata": {},
   "outputs": [
    {
     "name": "stdout",
     "output_type": "stream",
     "text": [
      "Picarro Median Reading: 519.9676870656331\n"
     ]
    }
   ],
   "source": [
    "# 92 UTC: 13:42 - 14:02\n",
    "# Reading: 516.4\n",
    "\n",
    "start_date = datetime(2024, 12, 18, 13, 43, 29).replace(tzinfo=timezone.utc)\n",
    "end_date = datetime(2024, 12, 18, 14, 2, 0).replace(tzinfo=timezone.utc)\n",
    "\n",
    "process_measurement(start_date, end_date)"
   ]
  },
  {
   "cell_type": "code",
   "execution_count": 35,
   "metadata": {},
   "outputs": [
    {
     "name": "stdout",
     "output_type": "stream",
     "text": [
      "Picarro Median Reading: 522.5332816091653\n"
     ]
    }
   ],
   "source": [
    "# 93 UTC: 14:02 - 14:22\n",
    "# Reading: 519.0\n",
    "\n",
    "start_date = datetime(2024, 12, 18, 14, 3, 45).replace(tzinfo=timezone.utc)\n",
    "end_date = datetime(2024, 12, 18, 14, 22, 0).replace(tzinfo=timezone.utc)\n",
    "\n",
    "process_measurement(start_date, end_date)"
   ]
  },
  {
   "cell_type": "code",
   "execution_count": 36,
   "metadata": {},
   "outputs": [
    {
     "name": "stdout",
     "output_type": "stream",
     "text": [
      "Picarro Median Reading: 521.8665165561736\n"
     ]
    }
   ],
   "source": [
    "# 94 UTC: 14:22 - 14:42\n",
    "# Reading: 518,3\n",
    "\n",
    "start_date = datetime(2024, 12, 18, 14, 23, 14).replace(tzinfo=timezone.utc)\n",
    "end_date = datetime(2024, 12, 18, 14, 42, 0).replace(tzinfo=timezone.utc)\n",
    "\n",
    "process_measurement(start_date, end_date)"
   ]
  },
  {
   "cell_type": "code",
   "execution_count": 37,
   "metadata": {},
   "outputs": [
    {
     "name": "stdout",
     "output_type": "stream",
     "text": [
      "Picarro Median Reading: 522.3340173370009\n"
     ]
    }
   ],
   "source": [
    "# 95 UTC: 14:42 - 15:02\n",
    "# Reading: 518.7\n",
    "\n",
    "start_date = datetime(2024, 12, 18, 14, 43, 54).replace(tzinfo=timezone.utc)\n",
    "end_date = datetime(2024, 12, 18, 15, 2, 0).replace(tzinfo=timezone.utc)\n",
    "\n",
    "process_measurement(start_date, end_date)"
   ]
  },
  {
   "cell_type": "code",
   "execution_count": 38,
   "metadata": {},
   "outputs": [
    {
     "name": "stdout",
     "output_type": "stream",
     "text": [
      "Picarro Median Reading: 521.8625590800384\n"
     ]
    }
   ],
   "source": [
    "# 96 UTC: 15:02 - 15:22\n",
    "# Reading: 518.1\n",
    "\n",
    "start_date = datetime(2024, 12, 18, 15, 4, 7).replace(tzinfo=timezone.utc)\n",
    "end_date = datetime(2024, 12, 18, 15, 22, 0).replace(tzinfo=timezone.utc)\n",
    "\n",
    "process_measurement(start_date, end_date)"
   ]
  },
  {
   "cell_type": "code",
   "execution_count": 39,
   "metadata": {},
   "outputs": [
    {
     "name": "stdout",
     "output_type": "stream",
     "text": [
      "Picarro Median Reading: 522.1986144749345\n"
     ]
    }
   ],
   "source": [
    "# 97 UTC: 15:22 - 15:42\n",
    "# Reading: 518.8\n",
    "\n",
    "start_date = datetime(2024, 12, 18, 15, 23, 25).replace(tzinfo=timezone.utc)\n",
    "end_date = datetime(2024, 12, 18, 15, 42, 0).replace(tzinfo=timezone.utc)\n",
    "\n",
    "process_measurement(start_date, end_date)"
   ]
  },
  {
   "cell_type": "code",
   "execution_count": 40,
   "metadata": {},
   "outputs": [
    {
     "name": "stdout",
     "output_type": "stream",
     "text": [
      "Picarro Median Reading: 522.6351899066206\n"
     ]
    }
   ],
   "source": [
    "# 98 UTC: 10:21 - 10:41\n",
    "# Reading: 519.0\n",
    "\n",
    "start_date = datetime(2024, 12, 19, 10, 21, 52).replace(tzinfo=timezone.utc)\n",
    "end_date = datetime(2024, 12, 19, 10, 40, 49).replace(tzinfo=timezone.utc)\n",
    "\n",
    "process_measurement(start_date, end_date)"
   ]
  },
  {
   "cell_type": "code",
   "execution_count": 41,
   "metadata": {},
   "outputs": [
    {
     "name": "stdout",
     "output_type": "stream",
     "text": [
      "Picarro Median Reading: 522.884522933563\n"
     ]
    }
   ],
   "source": [
    "# 99 UTC: 12:32 - 12:53\n",
    "# Reading: 519.3\n",
    "\n",
    "start_date = datetime(2024, 12, 19, 12, 43, 30).replace(tzinfo=timezone.utc)\n",
    "end_date = datetime(2024, 12, 19, 12, 53, 0).replace(tzinfo=timezone.utc)\n",
    "\n",
    "process_measurement(start_date, end_date)"
   ]
  },
  {
   "cell_type": "code",
   "execution_count": 42,
   "metadata": {},
   "outputs": [
    {
     "name": "stdout",
     "output_type": "stream",
     "text": [
      "Picarro Median Reading: 522.4917033240507\n"
     ]
    }
   ],
   "source": [
    "# 100 UTC: 12:52 - 13:14\n",
    "# Reading: 519.0\n",
    "\n",
    "start_date = datetime(2024, 12, 19, 12, 53, 24).replace(tzinfo=timezone.utc)\n",
    "end_date = datetime(2024, 12, 19, 13, 14, 0).replace(tzinfo=timezone.utc)\n",
    "\n",
    "process_measurement(start_date, end_date)"
   ]
  },
  {
   "cell_type": "code",
   "execution_count": 43,
   "metadata": {},
   "outputs": [
    {
     "name": "stdout",
     "output_type": "stream",
     "text": [
      "Picarro Median Reading: 401.95058691676235\n"
     ]
    }
   ],
   "source": [
    "# 101 UTC: 13:14 - 13:35\n",
    "# Reading: 399.4\n",
    "\n",
    "start_date = datetime(2024, 12, 19, 13, 14, 37).replace(tzinfo=timezone.utc)\n",
    "end_date = datetime(2024, 12, 19, 13, 34, 33).replace(tzinfo=timezone.utc)\n",
    "\n",
    "process_measurement(start_date, end_date)"
   ]
  },
  {
   "cell_type": "code",
   "execution_count": 44,
   "metadata": {},
   "outputs": [
    {
     "name": "stdout",
     "output_type": "stream",
     "text": [
      "Picarro Median Reading: 402.8450981061115\n"
     ]
    }
   ],
   "source": [
    "# 102 UTC: 13:35 - 13:55\n",
    "# Reading: 400.1\n",
    "\n",
    "start_date = datetime(2024, 12, 19, 13, 35, 33).replace(tzinfo=timezone.utc)\n",
    "end_date = datetime(2024, 12, 19, 13, 55, 0).replace(tzinfo=timezone.utc)\n",
    "\n",
    "process_measurement(start_date, end_date)"
   ]
  },
  {
   "cell_type": "code",
   "execution_count": 45,
   "metadata": {},
   "outputs": [
    {
     "name": "stdout",
     "output_type": "stream",
     "text": [
      "Picarro Median Reading: 402.8695100323505\n"
     ]
    }
   ],
   "source": [
    "# 103 UTC: 13:55 - 14:15\n",
    "# Reading: 400.1\n",
    "\n",
    "start_date = datetime(2024, 12, 19, 13, 56, 43).replace(tzinfo=timezone.utc)\n",
    "end_date = datetime(2024, 12, 19, 14, 15, 0).replace(tzinfo=timezone.utc)\n",
    "\n",
    "process_measurement(start_date, end_date)"
   ]
  },
  {
   "cell_type": "code",
   "execution_count": 46,
   "metadata": {},
   "outputs": [
    {
     "name": "stdout",
     "output_type": "stream",
     "text": [
      "Picarro Median Reading: 401.8133091910395\n"
     ]
    }
   ],
   "source": [
    "# 104 UTC: 14:15 - 14:35\n",
    "# Reading: 399.1\n",
    "\n",
    "start_date = datetime(2024, 12, 19, 14, 15, 31).replace(tzinfo=timezone.utc)\n",
    "end_date = datetime(2024, 12, 19, 14, 35, 0).replace(tzinfo=timezone.utc)\n",
    "\n",
    "process_measurement(start_date, end_date)"
   ]
  },
  {
   "cell_type": "code",
   "execution_count": 47,
   "metadata": {},
   "outputs": [
    {
     "name": "stdout",
     "output_type": "stream",
     "text": [
      "Picarro Median Reading: 400.6500867493169\n"
     ]
    }
   ],
   "source": [
    "# 105 UTC: 14:55 - 15:15\n",
    "# Reading: 397.9\n",
    "\n",
    "start_date = datetime(2024, 12, 19, 14, 57, 40).replace(tzinfo=timezone.utc)\n",
    "end_date = datetime(2024, 12, 19, 15, 15, 0).replace(tzinfo=timezone.utc)\n",
    "\n",
    "process_measurement(start_date, end_date)"
   ]
  },
  {
   "cell_type": "code",
   "execution_count": 48,
   "metadata": {},
   "outputs": [
    {
     "name": "stdout",
     "output_type": "stream",
     "text": [
      "Picarro Median Reading: 401.7771358183205\n"
     ]
    }
   ],
   "source": [
    "# 106 UTC: 15:15 - 15:35\n",
    "# Reading: 399.0\n",
    "\n",
    "start_date = datetime(2024, 12, 19, 15, 16, 42).replace(tzinfo=timezone.utc)\n",
    "end_date = datetime(2024, 12, 19, 15, 35, 0).replace(tzinfo=timezone.utc)\n",
    "\n",
    "process_measurement(start_date, end_date)"
   ]
  },
  {
   "cell_type": "code",
   "execution_count": 49,
   "metadata": {},
   "outputs": [
    {
     "name": "stdout",
     "output_type": "stream",
     "text": [
      "Picarro Median Reading: 402.0895296633208\n"
     ]
    }
   ],
   "source": [
    "# 107 UTC: 15:35 - 15:55\n",
    "# Reading: 499.3\n",
    "\n",
    "start_date = datetime(2024, 12, 19, 15, 35, 41).replace(tzinfo=timezone.utc)\n",
    "end_date = datetime(2024, 12, 19, 15, 54, 50).replace(tzinfo=timezone.utc)\n",
    "\n",
    "process_measurement(start_date, end_date)"
   ]
  },
  {
   "cell_type": "code",
   "execution_count": 50,
   "metadata": {},
   "outputs": [
    {
     "name": "stdout",
     "output_type": "stream",
     "text": [
      "Picarro Median Reading: 402.81699400731907\n"
     ]
    }
   ],
   "source": [
    "# 108 UTC: 08:45 - 09:05\n",
    "# Reading: 400.0\n",
    "\n",
    "start_date = datetime(2024, 12, 20, 8, 45, 10).replace(tzinfo=timezone.utc)\n",
    "end_date = datetime(2024, 12, 20, 9, 5, 0).replace(tzinfo=timezone.utc)\n",
    "\n",
    "process_measurement(start_date, end_date)"
   ]
  },
  {
   "cell_type": "code",
   "execution_count": 51,
   "metadata": {},
   "outputs": [
    {
     "name": "stdout",
     "output_type": "stream",
     "text": [
      "Picarro Median Reading: 399.65400877556243\n"
     ]
    }
   ],
   "source": [
    "# 109 UTC: 09:05 - 09:25\n",
    "# Reading: 396.9\n",
    "\n",
    "start_date = datetime(2024, 12, 20, 9, 8, 30).replace(tzinfo=timezone.utc)\n",
    "end_date = datetime(2024, 12, 20, 9, 25, 0).replace(tzinfo=timezone.utc)\n",
    "\n",
    "process_measurement(start_date, end_date)"
   ]
  },
  {
   "cell_type": "code",
   "execution_count": 52,
   "metadata": {},
   "outputs": [
    {
     "name": "stdout",
     "output_type": "stream",
     "text": [
      "Picarro Median Reading: 401.76477491943956\n"
     ]
    }
   ],
   "source": [
    "# 110 UTC: 09:25 - 09:45\n",
    "# Reading: 399.0\n",
    "\n",
    "start_date = datetime(2024, 12, 20, 9, 27, 0).replace(tzinfo=timezone.utc)\n",
    "end_date = datetime(2024, 12, 20, 9, 45, 0).replace(tzinfo=timezone.utc)\n",
    "\n",
    "process_measurement(start_date, end_date)"
   ]
  },
  {
   "cell_type": "code",
   "execution_count": 53,
   "metadata": {},
   "outputs": [
    {
     "name": "stdout",
     "output_type": "stream",
     "text": [
      "Picarro Median Reading: 402.6973904653332\n"
     ]
    }
   ],
   "source": [
    "# 111 UTC: 10:06 - 10:26\n",
    "# Reading: 399.9\n",
    "\n",
    "start_date = datetime(2024, 12, 20, 10, 6, 0).replace(tzinfo=timezone.utc)\n",
    "end_date = datetime(2024, 12, 20, 10, 26, 0).replace(tzinfo=timezone.utc)\n",
    "\n",
    "process_measurement(start_date, end_date)"
   ]
  },
  {
   "cell_type": "code",
   "execution_count": 54,
   "metadata": {},
   "outputs": [
    {
     "name": "stdout",
     "output_type": "stream",
     "text": [
      "Picarro Median Reading: 402.7038303868714\n"
     ]
    }
   ],
   "source": [
    "# 112 UTC: 10:26 - 10:46\n",
    "# Reading: 399.9\n",
    "\n",
    "start_date = datetime(2024, 12, 20, 10, 27, 20).replace(tzinfo=timezone.utc)\n",
    "end_date = datetime(2024, 12, 20, 10, 46, 0).replace(tzinfo=timezone.utc)\n",
    "\n",
    "process_measurement(start_date, end_date)"
   ]
  },
  {
   "cell_type": "code",
   "execution_count": 55,
   "metadata": {},
   "outputs": [
    {
     "name": "stdout",
     "output_type": "stream",
     "text": [
      "Picarro Median Reading: 401.8625188426242\n"
     ]
    }
   ],
   "source": [
    "# 113 UTC: 12:08 - 12:28\n",
    "# Reading: 399.1\n",
    "\n",
    "start_date = datetime(2024, 12, 20, 12, 8, 30).replace(tzinfo=timezone.utc)\n",
    "end_date = datetime(2024, 12, 20, 12, 28, 0).replace(tzinfo=timezone.utc)\n",
    "\n",
    "process_measurement(start_date, end_date)"
   ]
  },
  {
   "cell_type": "code",
   "execution_count": 56,
   "metadata": {},
   "outputs": [
    {
     "name": "stdout",
     "output_type": "stream",
     "text": [
      "Picarro Median Reading: 401.98147418130424\n"
     ]
    }
   ],
   "source": [
    "# 114 UTC: 12:28 - 12:49\n",
    "# Reading: 399.1\n",
    "\n",
    "start_date = datetime(2024, 12, 20, 12, 29, 10).replace(tzinfo=timezone.utc)\n",
    "end_date = datetime(2024, 12, 20, 12, 49, 0).replace(tzinfo=timezone.utc)\n",
    "\n",
    "process_measurement(start_date, end_date)"
   ]
  },
  {
   "cell_type": "code",
   "execution_count": 57,
   "metadata": {},
   "outputs": [
    {
     "name": "stdout",
     "output_type": "stream",
     "text": [
      "Picarro Median Reading: 402.6424573618839\n"
     ]
    }
   ],
   "source": [
    "# 115 UTC: 12:49 - 13:09\n",
    "# Reading: 399.9\n",
    "\n",
    "start_date = datetime(2024, 12, 20, 12, 49, 40).replace(tzinfo=timezone.utc)\n",
    "end_date = datetime(2024, 12, 20, 13, 9, 0).replace(tzinfo=timezone.utc)\n",
    "\n",
    "process_measurement(start_date, end_date)"
   ]
  },
  {
   "cell_type": "code",
   "execution_count": 58,
   "metadata": {},
   "outputs": [
    {
     "name": "stdout",
     "output_type": "stream",
     "text": [
      "Picarro Median Reading: 402.0960448177989\n"
     ]
    }
   ],
   "source": [
    "# 116 UTC: 13:09 - 13:29\n",
    "# Reading: 399.4\n",
    "\n",
    "start_date = datetime(2024, 12, 20, 13, 10, 10).replace(tzinfo=timezone.utc)\n",
    "end_date = datetime(2024, 12, 20, 13, 29, 0).replace(tzinfo=timezone.utc)\n",
    "\n",
    "process_measurement(start_date, end_date)"
   ]
  },
  {
   "cell_type": "code",
   "execution_count": 59,
   "metadata": {},
   "outputs": [
    {
     "name": "stdout",
     "output_type": "stream",
     "text": [
      "Picarro Median Reading: 401.6390980113765\n"
     ]
    }
   ],
   "source": [
    "# 117 UTC: 13:29 - 13:49\n",
    "# Reading: 399.0\n",
    "\n",
    "start_date = datetime(2024, 12, 20, 13, 30, 10).replace(tzinfo=timezone.utc)\n",
    "end_date = datetime(2024, 12, 20, 13, 49, 0).replace(tzinfo=timezone.utc)\n",
    "\n",
    "process_measurement(start_date, end_date)"
   ]
  },
  {
   "cell_type": "code",
   "execution_count": 60,
   "metadata": {},
   "outputs": [
    {
     "name": "stdout",
     "output_type": "stream",
     "text": [
      "Picarro Median Reading: 401.8435636753806\n"
     ]
    }
   ],
   "source": [
    "# 118 UTC: 13:49 - 14:09\n",
    "# Reading: 399.2\n",
    "\n",
    "start_date = datetime(2024, 12, 20, 13, 50, 30).replace(tzinfo=timezone.utc)\n",
    "end_date = datetime(2024, 12, 20, 14, 9, 0).replace(tzinfo=timezone.utc)\n",
    "\n",
    "process_measurement(start_date, end_date)"
   ]
  },
  {
   "cell_type": "code",
   "execution_count": 61,
   "metadata": {},
   "outputs": [
    {
     "name": "stdout",
     "output_type": "stream",
     "text": [
      "Picarro Median Reading: 403.0266976175326\n"
     ]
    }
   ],
   "source": [
    "# 119 UTC: 14:09 - 14:29\n",
    "# Reading: \n",
    "\n",
    "start_date = datetime(2024, 12, 20, 14, 9, 40).replace(tzinfo=timezone.utc)\n",
    "end_date = datetime(2024, 12, 20, 14, 29, 0).replace(tzinfo=timezone.utc)\n",
    "\n",
    "process_measurement(start_date, end_date)"
   ]
  },
  {
   "cell_type": "code",
   "execution_count": 62,
   "metadata": {},
   "outputs": [
    {
     "name": "stdout",
     "output_type": "stream",
     "text": [
      "Picarro Median Reading: 402.66182572136006\n"
     ]
    }
   ],
   "source": [
    "# 120 UTC: 14:29 - 14:49\n",
    "# Reading:  399.9\n",
    "\n",
    "start_date = datetime(2024, 12, 20, 14, 29, 40).replace(tzinfo=timezone.utc)\n",
    "end_date = datetime(2024, 12, 20, 14, 49, 0).replace(tzinfo=timezone.utc)\n",
    "\n",
    "process_measurement(start_date, end_date)"
   ]
  }
 ],
 "metadata": {
  "kernelspec": {
   "display_name": ".venv",
   "language": "python",
   "name": "python3"
  },
  "language_info": {
   "codemirror_mode": {
    "name": "ipython",
    "version": 3
   },
   "file_extension": ".py",
   "mimetype": "text/x-python",
   "name": "python",
   "nbconvert_exporter": "python",
   "pygments_lexer": "ipython3",
   "version": "3.12.9"
  }
 },
 "nbformat": 4,
 "nbformat_minor": 2
}
