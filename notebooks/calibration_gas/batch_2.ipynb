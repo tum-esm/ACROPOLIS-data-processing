{
 "cells": [
  {
   "cell_type": "code",
   "execution_count": 1,
   "metadata": {},
   "outputs": [],
   "source": [
    "from datetime import datetime\n",
    "import polars as pl\n",
    "import os\n",
    "import sys\n",
    "import plotly.express as px\n",
    "import polars.selectors as cs\n",
    "\n",
    "\n",
    "PROJECT_PATH = os.path.abspath(os.path.join(\"..\", \"..\"))\n",
    "PIPELINE_PATH = os.path.join(PROJECT_PATH, \"pipeline\")\n",
    "DATA_DIRECTORY = os.path.join(PROJECT_PATH, \"data\")\n",
    "\n",
    "if PIPELINE_PATH not in sys.path:\n",
    "    sys.path.append(PIPELINE_PATH)\n",
    "    \n",
    "from utils.paths import PROCESSED_PICARRO_DATA_DIRECTORY\n",
    "from utils.calibration_processing import process_bottle\n",
    "\n",
    "assert(os.path.exists(DATA_DIRECTORY))\n",
    "assert(os.path.exists(PROCESSED_PICARRO_DATA_DIRECTORY))"
   ]
  },
  {
   "cell_type": "code",
   "execution_count": 2,
   "metadata": {},
   "outputs": [
    {
     "data": {
      "text/html": [
       "<div><style>\n",
       ".dataframe > thead > tr,\n",
       ".dataframe > tbody > tr {\n",
       "  text-align: right;\n",
       "  white-space: pre-wrap;\n",
       "}\n",
       "</style>\n",
       "<small>shape: (2, 3)</small><table border=\"1\" class=\"dataframe\"><thead><tr><th>datetime</th><th>picarro_corrected</th><th>h2o_reported</th></tr><tr><td>datetime[ms]</td><td>f64</td><td>f64</td></tr></thead><tbody><tr><td>2023-12-19 00:00:00</td><td>519.542796</td><td>0.874734</td></tr><tr><td>2023-12-23 00:00:00</td><td>428.267135</td><td>1.181619</td></tr></tbody></table></div>"
      ],
      "text/plain": [
       "shape: (2, 3)\n",
       "┌─────────────────────┬───────────────────┬──────────────┐\n",
       "│ datetime            ┆ picarro_corrected ┆ h2o_reported │\n",
       "│ ---                 ┆ ---               ┆ ---          │\n",
       "│ datetime[ms]        ┆ f64               ┆ f64          │\n",
       "╞═════════════════════╪═══════════════════╪══════════════╡\n",
       "│ 2023-12-19 00:00:00 ┆ 519.542796        ┆ 0.874734     │\n",
       "│ 2023-12-23 00:00:00 ┆ 428.267135        ┆ 1.181619     │\n",
       "└─────────────────────┴───────────────────┴──────────────┘"
      ]
     },
     "execution_count": 2,
     "metadata": {},
     "output_type": "execute_result"
    }
   ],
   "source": [
    "start_date = datetime(2023, 12, 19, 0, 0, 0)\n",
    "end_date = datetime(2023, 12 , 23, 0, 0, 0)\n",
    "  \n",
    "# Load Picarro Data\n",
    "# DWD Picarro: \"Calibrated_1_min_DWD_Picarro_G2301_413.parquet\"\n",
    "df_p = pl.scan_parquet(os.path.join(PROCESSED_PICARRO_DATA_DIRECTORY,\"Calibrated_1_min_DWD_Picarro_G2301_413.parquet\"))\n",
    "df_p = df_p.filter(pl.col(\"datetime\").is_between(start_date, end_date)) \\\n",
    "    .select([\"datetime\", \"picarro_corrected\", \"h2o_reported\"]) \\\n",
    "    .collect()\n",
    "    \n",
    "df_p.head(1).vstack(df_p.tail(1))"
   ]
  },
  {
   "cell_type": "code",
   "execution_count": 3,
   "metadata": {},
   "outputs": [],
   "source": [
    "def plot_sensor_measurement(df, col_name: str, filter = None):\n",
    "    if filter != None:\n",
    "        df = df.groupby_dynamic(\"datetime\", every=filter).agg(cs.numeric().mean())\n",
    "        \n",
    "    fig = px.line(\n",
    "        df,\n",
    "        x=\"datetime\",\n",
    "        y=col_name,\n",
    "        markers=True,\n",
    "        title=col_name,\n",
    "    )\n",
    "    fig.show()\n",
    "    \n",
    "def process_measurement(start_date, end_date, plot=False):\n",
    "    df_p_bottle = df_p.filter(pl.col(\"datetime\").is_between(start_date, end_date))\n",
    "\n",
    "    data = df_p_bottle.select(pl.col(\"picarro_corrected\")).to_series().to_list()\n",
    "    data_cut = data[int(len(data)*0.3):int(len(data)*0.95)]\n",
    "\n",
    "    median = process_bottle(data_cut, ignore_len=True) \n",
    "\n",
    "    print(f\"Picarro Median Reading: {median}\")\n",
    "\n",
    "    # Plots\n",
    "    if plot:\n",
    "        plot_sensor_measurement(df_p_bottle, col_name=\"picarro_corrected\")\n",
    "        plot_sensor_measurement(df_p_bottle, col_name=\"h2o_reported\")"
   ]
  },
  {
   "cell_type": "markdown",
   "metadata": {},
   "source": [
    "# Bottles on 19.12.2023"
   ]
  },
  {
   "cell_type": "code",
   "execution_count": 45,
   "metadata": {},
   "outputs": [
    {
     "name": "stdout",
     "output_type": "stream",
     "text": [
      "Picarro Median Reading: 402.33845708226943\n"
     ]
    },
    {
     "data": {
      "application/vnd.plotly.v1+json": {
       "config": {
        "plotlyServerURL": "https://plot.ly"
       },
       "data": [
        {
         "hovertemplate": "datetime=%{x}<br>picarro_corrected=%{y}<extra></extra>",
         "legendgroup": "",
         "line": {
          "color": "#636efa",
          "dash": "solid"
         },
         "marker": {
          "symbol": "circle"
         },
         "mode": "lines+markers",
         "name": "",
         "orientation": "v",
         "showlegend": false,
         "type": "scatter",
         "x": [
          "2023-12-19T14:56:00",
          "2023-12-19T14:57:00",
          "2023-12-19T14:58:00",
          "2023-12-19T14:59:00",
          "2023-12-19T15:00:00",
          "2023-12-19T15:01:00",
          "2023-12-19T15:02:00",
          "2023-12-19T15:03:00",
          "2023-12-19T15:04:00",
          "2023-12-19T15:05:00",
          "2023-12-19T15:06:00",
          "2023-12-19T15:07:00",
          "2023-12-19T15:08:00",
          "2023-12-19T15:09:00",
          "2023-12-19T15:10:00",
          "2023-12-19T15:11:00",
          "2023-12-19T15:12:00",
          "2023-12-19T15:13:00",
          "2023-12-19T15:14:00",
          "2023-12-19T15:15:00",
          "2023-12-19T15:16:00",
          "2023-12-19T15:17:00",
          "2023-12-19T15:18:00",
          "2023-12-19T15:19:00",
          "2023-12-19T15:20:00"
         ],
         "xaxis": "x",
         "y": [
          402.3708233961191,
          402.3241020865972,
          402.30230358202476,
          402.3159981485061,
          402.32230654056116,
          402.31732355791064,
          402.31806081890005,
          402.3403687771664,
          402.34150934111756,
          402.3382023734674,
          402.3416377361556,
          402.35277239650014,
          402.3472916483975,
          402.33845708226943,
          402.33653569923416,
          402.3308583235701,
          402.32856072521145,
          402.3371070366017,
          402.33981284225257,
          402.32495597545886,
          402.338641815897,
          402.33883440397994,
          402.3383921805616,
          402.33820792707826,
          402.339177510217
         ],
         "yaxis": "y"
        }
       ],
       "layout": {
        "legend": {
         "tracegroupgap": 0
        },
        "template": {
         "data": {
          "bar": [
           {
            "error_x": {
             "color": "#2a3f5f"
            },
            "error_y": {
             "color": "#2a3f5f"
            },
            "marker": {
             "line": {
              "color": "#E5ECF6",
              "width": 0.5
             },
             "pattern": {
              "fillmode": "overlay",
              "size": 10,
              "solidity": 0.2
             }
            },
            "type": "bar"
           }
          ],
          "barpolar": [
           {
            "marker": {
             "line": {
              "color": "#E5ECF6",
              "width": 0.5
             },
             "pattern": {
              "fillmode": "overlay",
              "size": 10,
              "solidity": 0.2
             }
            },
            "type": "barpolar"
           }
          ],
          "carpet": [
           {
            "aaxis": {
             "endlinecolor": "#2a3f5f",
             "gridcolor": "white",
             "linecolor": "white",
             "minorgridcolor": "white",
             "startlinecolor": "#2a3f5f"
            },
            "baxis": {
             "endlinecolor": "#2a3f5f",
             "gridcolor": "white",
             "linecolor": "white",
             "minorgridcolor": "white",
             "startlinecolor": "#2a3f5f"
            },
            "type": "carpet"
           }
          ],
          "choropleth": [
           {
            "colorbar": {
             "outlinewidth": 0,
             "ticks": ""
            },
            "type": "choropleth"
           }
          ],
          "contour": [
           {
            "colorbar": {
             "outlinewidth": 0,
             "ticks": ""
            },
            "colorscale": [
             [
              0,
              "#0d0887"
             ],
             [
              0.1111111111111111,
              "#46039f"
             ],
             [
              0.2222222222222222,
              "#7201a8"
             ],
             [
              0.3333333333333333,
              "#9c179e"
             ],
             [
              0.4444444444444444,
              "#bd3786"
             ],
             [
              0.5555555555555556,
              "#d8576b"
             ],
             [
              0.6666666666666666,
              "#ed7953"
             ],
             [
              0.7777777777777778,
              "#fb9f3a"
             ],
             [
              0.8888888888888888,
              "#fdca26"
             ],
             [
              1,
              "#f0f921"
             ]
            ],
            "type": "contour"
           }
          ],
          "contourcarpet": [
           {
            "colorbar": {
             "outlinewidth": 0,
             "ticks": ""
            },
            "type": "contourcarpet"
           }
          ],
          "heatmap": [
           {
            "colorbar": {
             "outlinewidth": 0,
             "ticks": ""
            },
            "colorscale": [
             [
              0,
              "#0d0887"
             ],
             [
              0.1111111111111111,
              "#46039f"
             ],
             [
              0.2222222222222222,
              "#7201a8"
             ],
             [
              0.3333333333333333,
              "#9c179e"
             ],
             [
              0.4444444444444444,
              "#bd3786"
             ],
             [
              0.5555555555555556,
              "#d8576b"
             ],
             [
              0.6666666666666666,
              "#ed7953"
             ],
             [
              0.7777777777777778,
              "#fb9f3a"
             ],
             [
              0.8888888888888888,
              "#fdca26"
             ],
             [
              1,
              "#f0f921"
             ]
            ],
            "type": "heatmap"
           }
          ],
          "heatmapgl": [
           {
            "colorbar": {
             "outlinewidth": 0,
             "ticks": ""
            },
            "colorscale": [
             [
              0,
              "#0d0887"
             ],
             [
              0.1111111111111111,
              "#46039f"
             ],
             [
              0.2222222222222222,
              "#7201a8"
             ],
             [
              0.3333333333333333,
              "#9c179e"
             ],
             [
              0.4444444444444444,
              "#bd3786"
             ],
             [
              0.5555555555555556,
              "#d8576b"
             ],
             [
              0.6666666666666666,
              "#ed7953"
             ],
             [
              0.7777777777777778,
              "#fb9f3a"
             ],
             [
              0.8888888888888888,
              "#fdca26"
             ],
             [
              1,
              "#f0f921"
             ]
            ],
            "type": "heatmapgl"
           }
          ],
          "histogram": [
           {
            "marker": {
             "pattern": {
              "fillmode": "overlay",
              "size": 10,
              "solidity": 0.2
             }
            },
            "type": "histogram"
           }
          ],
          "histogram2d": [
           {
            "colorbar": {
             "outlinewidth": 0,
             "ticks": ""
            },
            "colorscale": [
             [
              0,
              "#0d0887"
             ],
             [
              0.1111111111111111,
              "#46039f"
             ],
             [
              0.2222222222222222,
              "#7201a8"
             ],
             [
              0.3333333333333333,
              "#9c179e"
             ],
             [
              0.4444444444444444,
              "#bd3786"
             ],
             [
              0.5555555555555556,
              "#d8576b"
             ],
             [
              0.6666666666666666,
              "#ed7953"
             ],
             [
              0.7777777777777778,
              "#fb9f3a"
             ],
             [
              0.8888888888888888,
              "#fdca26"
             ],
             [
              1,
              "#f0f921"
             ]
            ],
            "type": "histogram2d"
           }
          ],
          "histogram2dcontour": [
           {
            "colorbar": {
             "outlinewidth": 0,
             "ticks": ""
            },
            "colorscale": [
             [
              0,
              "#0d0887"
             ],
             [
              0.1111111111111111,
              "#46039f"
             ],
             [
              0.2222222222222222,
              "#7201a8"
             ],
             [
              0.3333333333333333,
              "#9c179e"
             ],
             [
              0.4444444444444444,
              "#bd3786"
             ],
             [
              0.5555555555555556,
              "#d8576b"
             ],
             [
              0.6666666666666666,
              "#ed7953"
             ],
             [
              0.7777777777777778,
              "#fb9f3a"
             ],
             [
              0.8888888888888888,
              "#fdca26"
             ],
             [
              1,
              "#f0f921"
             ]
            ],
            "type": "histogram2dcontour"
           }
          ],
          "mesh3d": [
           {
            "colorbar": {
             "outlinewidth": 0,
             "ticks": ""
            },
            "type": "mesh3d"
           }
          ],
          "parcoords": [
           {
            "line": {
             "colorbar": {
              "outlinewidth": 0,
              "ticks": ""
             }
            },
            "type": "parcoords"
           }
          ],
          "pie": [
           {
            "automargin": true,
            "type": "pie"
           }
          ],
          "scatter": [
           {
            "fillpattern": {
             "fillmode": "overlay",
             "size": 10,
             "solidity": 0.2
            },
            "type": "scatter"
           }
          ],
          "scatter3d": [
           {
            "line": {
             "colorbar": {
              "outlinewidth": 0,
              "ticks": ""
             }
            },
            "marker": {
             "colorbar": {
              "outlinewidth": 0,
              "ticks": ""
             }
            },
            "type": "scatter3d"
           }
          ],
          "scattercarpet": [
           {
            "marker": {
             "colorbar": {
              "outlinewidth": 0,
              "ticks": ""
             }
            },
            "type": "scattercarpet"
           }
          ],
          "scattergeo": [
           {
            "marker": {
             "colorbar": {
              "outlinewidth": 0,
              "ticks": ""
             }
            },
            "type": "scattergeo"
           }
          ],
          "scattergl": [
           {
            "marker": {
             "colorbar": {
              "outlinewidth": 0,
              "ticks": ""
             }
            },
            "type": "scattergl"
           }
          ],
          "scattermapbox": [
           {
            "marker": {
             "colorbar": {
              "outlinewidth": 0,
              "ticks": ""
             }
            },
            "type": "scattermapbox"
           }
          ],
          "scatterpolar": [
           {
            "marker": {
             "colorbar": {
              "outlinewidth": 0,
              "ticks": ""
             }
            },
            "type": "scatterpolar"
           }
          ],
          "scatterpolargl": [
           {
            "marker": {
             "colorbar": {
              "outlinewidth": 0,
              "ticks": ""
             }
            },
            "type": "scatterpolargl"
           }
          ],
          "scatterternary": [
           {
            "marker": {
             "colorbar": {
              "outlinewidth": 0,
              "ticks": ""
             }
            },
            "type": "scatterternary"
           }
          ],
          "surface": [
           {
            "colorbar": {
             "outlinewidth": 0,
             "ticks": ""
            },
            "colorscale": [
             [
              0,
              "#0d0887"
             ],
             [
              0.1111111111111111,
              "#46039f"
             ],
             [
              0.2222222222222222,
              "#7201a8"
             ],
             [
              0.3333333333333333,
              "#9c179e"
             ],
             [
              0.4444444444444444,
              "#bd3786"
             ],
             [
              0.5555555555555556,
              "#d8576b"
             ],
             [
              0.6666666666666666,
              "#ed7953"
             ],
             [
              0.7777777777777778,
              "#fb9f3a"
             ],
             [
              0.8888888888888888,
              "#fdca26"
             ],
             [
              1,
              "#f0f921"
             ]
            ],
            "type": "surface"
           }
          ],
          "table": [
           {
            "cells": {
             "fill": {
              "color": "#EBF0F8"
             },
             "line": {
              "color": "white"
             }
            },
            "header": {
             "fill": {
              "color": "#C8D4E3"
             },
             "line": {
              "color": "white"
             }
            },
            "type": "table"
           }
          ]
         },
         "layout": {
          "annotationdefaults": {
           "arrowcolor": "#2a3f5f",
           "arrowhead": 0,
           "arrowwidth": 1
          },
          "autotypenumbers": "strict",
          "coloraxis": {
           "colorbar": {
            "outlinewidth": 0,
            "ticks": ""
           }
          },
          "colorscale": {
           "diverging": [
            [
             0,
             "#8e0152"
            ],
            [
             0.1,
             "#c51b7d"
            ],
            [
             0.2,
             "#de77ae"
            ],
            [
             0.3,
             "#f1b6da"
            ],
            [
             0.4,
             "#fde0ef"
            ],
            [
             0.5,
             "#f7f7f7"
            ],
            [
             0.6,
             "#e6f5d0"
            ],
            [
             0.7,
             "#b8e186"
            ],
            [
             0.8,
             "#7fbc41"
            ],
            [
             0.9,
             "#4d9221"
            ],
            [
             1,
             "#276419"
            ]
           ],
           "sequential": [
            [
             0,
             "#0d0887"
            ],
            [
             0.1111111111111111,
             "#46039f"
            ],
            [
             0.2222222222222222,
             "#7201a8"
            ],
            [
             0.3333333333333333,
             "#9c179e"
            ],
            [
             0.4444444444444444,
             "#bd3786"
            ],
            [
             0.5555555555555556,
             "#d8576b"
            ],
            [
             0.6666666666666666,
             "#ed7953"
            ],
            [
             0.7777777777777778,
             "#fb9f3a"
            ],
            [
             0.8888888888888888,
             "#fdca26"
            ],
            [
             1,
             "#f0f921"
            ]
           ],
           "sequentialminus": [
            [
             0,
             "#0d0887"
            ],
            [
             0.1111111111111111,
             "#46039f"
            ],
            [
             0.2222222222222222,
             "#7201a8"
            ],
            [
             0.3333333333333333,
             "#9c179e"
            ],
            [
             0.4444444444444444,
             "#bd3786"
            ],
            [
             0.5555555555555556,
             "#d8576b"
            ],
            [
             0.6666666666666666,
             "#ed7953"
            ],
            [
             0.7777777777777778,
             "#fb9f3a"
            ],
            [
             0.8888888888888888,
             "#fdca26"
            ],
            [
             1,
             "#f0f921"
            ]
           ]
          },
          "colorway": [
           "#636efa",
           "#EF553B",
           "#00cc96",
           "#ab63fa",
           "#FFA15A",
           "#19d3f3",
           "#FF6692",
           "#B6E880",
           "#FF97FF",
           "#FECB52"
          ],
          "font": {
           "color": "#2a3f5f"
          },
          "geo": {
           "bgcolor": "white",
           "lakecolor": "white",
           "landcolor": "#E5ECF6",
           "showlakes": true,
           "showland": true,
           "subunitcolor": "white"
          },
          "hoverlabel": {
           "align": "left"
          },
          "hovermode": "closest",
          "mapbox": {
           "style": "light"
          },
          "paper_bgcolor": "white",
          "plot_bgcolor": "#E5ECF6",
          "polar": {
           "angularaxis": {
            "gridcolor": "white",
            "linecolor": "white",
            "ticks": ""
           },
           "bgcolor": "#E5ECF6",
           "radialaxis": {
            "gridcolor": "white",
            "linecolor": "white",
            "ticks": ""
           }
          },
          "scene": {
           "xaxis": {
            "backgroundcolor": "#E5ECF6",
            "gridcolor": "white",
            "gridwidth": 2,
            "linecolor": "white",
            "showbackground": true,
            "ticks": "",
            "zerolinecolor": "white"
           },
           "yaxis": {
            "backgroundcolor": "#E5ECF6",
            "gridcolor": "white",
            "gridwidth": 2,
            "linecolor": "white",
            "showbackground": true,
            "ticks": "",
            "zerolinecolor": "white"
           },
           "zaxis": {
            "backgroundcolor": "#E5ECF6",
            "gridcolor": "white",
            "gridwidth": 2,
            "linecolor": "white",
            "showbackground": true,
            "ticks": "",
            "zerolinecolor": "white"
           }
          },
          "shapedefaults": {
           "line": {
            "color": "#2a3f5f"
           }
          },
          "ternary": {
           "aaxis": {
            "gridcolor": "white",
            "linecolor": "white",
            "ticks": ""
           },
           "baxis": {
            "gridcolor": "white",
            "linecolor": "white",
            "ticks": ""
           },
           "bgcolor": "#E5ECF6",
           "caxis": {
            "gridcolor": "white",
            "linecolor": "white",
            "ticks": ""
           }
          },
          "title": {
           "x": 0.05
          },
          "xaxis": {
           "automargin": true,
           "gridcolor": "white",
           "linecolor": "white",
           "ticks": "",
           "title": {
            "standoff": 15
           },
           "zerolinecolor": "white",
           "zerolinewidth": 2
          },
          "yaxis": {
           "automargin": true,
           "gridcolor": "white",
           "linecolor": "white",
           "ticks": "",
           "title": {
            "standoff": 15
           },
           "zerolinecolor": "white",
           "zerolinewidth": 2
          }
         }
        },
        "title": {
         "text": "picarro_corrected"
        },
        "xaxis": {
         "anchor": "y",
         "domain": [
          0,
          1
         ],
         "title": {
          "text": "datetime"
         }
        },
        "yaxis": {
         "anchor": "x",
         "domain": [
          0,
          1
         ],
         "title": {
          "text": "picarro_corrected"
         }
        }
       }
      }
     },
     "metadata": {},
     "output_type": "display_data"
    },
    {
     "data": {
      "application/vnd.plotly.v1+json": {
       "config": {
        "plotlyServerURL": "https://plot.ly"
       },
       "data": [
        {
         "hovertemplate": "datetime=%{x}<br>h2o_reported=%{y}<extra></extra>",
         "legendgroup": "",
         "line": {
          "color": "#636efa",
          "dash": "solid"
         },
         "marker": {
          "symbol": "circle"
         },
         "mode": "lines+markers",
         "name": "",
         "orientation": "v",
         "showlegend": false,
         "type": "scatter",
         "x": [
          "2023-12-19T14:56:00",
          "2023-12-19T14:57:00",
          "2023-12-19T14:58:00",
          "2023-12-19T14:59:00",
          "2023-12-19T15:00:00",
          "2023-12-19T15:01:00",
          "2023-12-19T15:02:00",
          "2023-12-19T15:03:00",
          "2023-12-19T15:04:00",
          "2023-12-19T15:05:00",
          "2023-12-19T15:06:00",
          "2023-12-19T15:07:00",
          "2023-12-19T15:08:00",
          "2023-12-19T15:09:00",
          "2023-12-19T15:10:00",
          "2023-12-19T15:11:00",
          "2023-12-19T15:12:00",
          "2023-12-19T15:13:00",
          "2023-12-19T15:14:00",
          "2023-12-19T15:15:00",
          "2023-12-19T15:16:00",
          "2023-12-19T15:17:00",
          "2023-12-19T15:18:00",
          "2023-12-19T15:19:00",
          "2023-12-19T15:20:00"
         ],
         "xaxis": "x",
         "y": [
          0.02018202578763935,
          0.016031761655730767,
          0.013636906844639349,
          0.01201126927957541,
          0.011133673722773334,
          0.009631819495286884,
          0.009533110676470969,
          0.00890998572931,
          0.00847783844873934,
          0.008158130065534426,
          0.007370306675136066,
          0.0072646490097541,
          0.00705221500404426,
          0.006432646066186889,
          0.006699482498931669,
          0.006382005877904919,
          0.006052334714758067,
          0.006206888965285003,
          0.006147616626288526,
          0.005494166839742624,
          0.005597939143037706,
          0.005029653346249998,
          0.005162230122880647,
          0.005455651642718033,
          0.004749671273353336
         ],
         "yaxis": "y"
        }
       ],
       "layout": {
        "legend": {
         "tracegroupgap": 0
        },
        "template": {
         "data": {
          "bar": [
           {
            "error_x": {
             "color": "#2a3f5f"
            },
            "error_y": {
             "color": "#2a3f5f"
            },
            "marker": {
             "line": {
              "color": "#E5ECF6",
              "width": 0.5
             },
             "pattern": {
              "fillmode": "overlay",
              "size": 10,
              "solidity": 0.2
             }
            },
            "type": "bar"
           }
          ],
          "barpolar": [
           {
            "marker": {
             "line": {
              "color": "#E5ECF6",
              "width": 0.5
             },
             "pattern": {
              "fillmode": "overlay",
              "size": 10,
              "solidity": 0.2
             }
            },
            "type": "barpolar"
           }
          ],
          "carpet": [
           {
            "aaxis": {
             "endlinecolor": "#2a3f5f",
             "gridcolor": "white",
             "linecolor": "white",
             "minorgridcolor": "white",
             "startlinecolor": "#2a3f5f"
            },
            "baxis": {
             "endlinecolor": "#2a3f5f",
             "gridcolor": "white",
             "linecolor": "white",
             "minorgridcolor": "white",
             "startlinecolor": "#2a3f5f"
            },
            "type": "carpet"
           }
          ],
          "choropleth": [
           {
            "colorbar": {
             "outlinewidth": 0,
             "ticks": ""
            },
            "type": "choropleth"
           }
          ],
          "contour": [
           {
            "colorbar": {
             "outlinewidth": 0,
             "ticks": ""
            },
            "colorscale": [
             [
              0,
              "#0d0887"
             ],
             [
              0.1111111111111111,
              "#46039f"
             ],
             [
              0.2222222222222222,
              "#7201a8"
             ],
             [
              0.3333333333333333,
              "#9c179e"
             ],
             [
              0.4444444444444444,
              "#bd3786"
             ],
             [
              0.5555555555555556,
              "#d8576b"
             ],
             [
              0.6666666666666666,
              "#ed7953"
             ],
             [
              0.7777777777777778,
              "#fb9f3a"
             ],
             [
              0.8888888888888888,
              "#fdca26"
             ],
             [
              1,
              "#f0f921"
             ]
            ],
            "type": "contour"
           }
          ],
          "contourcarpet": [
           {
            "colorbar": {
             "outlinewidth": 0,
             "ticks": ""
            },
            "type": "contourcarpet"
           }
          ],
          "heatmap": [
           {
            "colorbar": {
             "outlinewidth": 0,
             "ticks": ""
            },
            "colorscale": [
             [
              0,
              "#0d0887"
             ],
             [
              0.1111111111111111,
              "#46039f"
             ],
             [
              0.2222222222222222,
              "#7201a8"
             ],
             [
              0.3333333333333333,
              "#9c179e"
             ],
             [
              0.4444444444444444,
              "#bd3786"
             ],
             [
              0.5555555555555556,
              "#d8576b"
             ],
             [
              0.6666666666666666,
              "#ed7953"
             ],
             [
              0.7777777777777778,
              "#fb9f3a"
             ],
             [
              0.8888888888888888,
              "#fdca26"
             ],
             [
              1,
              "#f0f921"
             ]
            ],
            "type": "heatmap"
           }
          ],
          "heatmapgl": [
           {
            "colorbar": {
             "outlinewidth": 0,
             "ticks": ""
            },
            "colorscale": [
             [
              0,
              "#0d0887"
             ],
             [
              0.1111111111111111,
              "#46039f"
             ],
             [
              0.2222222222222222,
              "#7201a8"
             ],
             [
              0.3333333333333333,
              "#9c179e"
             ],
             [
              0.4444444444444444,
              "#bd3786"
             ],
             [
              0.5555555555555556,
              "#d8576b"
             ],
             [
              0.6666666666666666,
              "#ed7953"
             ],
             [
              0.7777777777777778,
              "#fb9f3a"
             ],
             [
              0.8888888888888888,
              "#fdca26"
             ],
             [
              1,
              "#f0f921"
             ]
            ],
            "type": "heatmapgl"
           }
          ],
          "histogram": [
           {
            "marker": {
             "pattern": {
              "fillmode": "overlay",
              "size": 10,
              "solidity": 0.2
             }
            },
            "type": "histogram"
           }
          ],
          "histogram2d": [
           {
            "colorbar": {
             "outlinewidth": 0,
             "ticks": ""
            },
            "colorscale": [
             [
              0,
              "#0d0887"
             ],
             [
              0.1111111111111111,
              "#46039f"
             ],
             [
              0.2222222222222222,
              "#7201a8"
             ],
             [
              0.3333333333333333,
              "#9c179e"
             ],
             [
              0.4444444444444444,
              "#bd3786"
             ],
             [
              0.5555555555555556,
              "#d8576b"
             ],
             [
              0.6666666666666666,
              "#ed7953"
             ],
             [
              0.7777777777777778,
              "#fb9f3a"
             ],
             [
              0.8888888888888888,
              "#fdca26"
             ],
             [
              1,
              "#f0f921"
             ]
            ],
            "type": "histogram2d"
           }
          ],
          "histogram2dcontour": [
           {
            "colorbar": {
             "outlinewidth": 0,
             "ticks": ""
            },
            "colorscale": [
             [
              0,
              "#0d0887"
             ],
             [
              0.1111111111111111,
              "#46039f"
             ],
             [
              0.2222222222222222,
              "#7201a8"
             ],
             [
              0.3333333333333333,
              "#9c179e"
             ],
             [
              0.4444444444444444,
              "#bd3786"
             ],
             [
              0.5555555555555556,
              "#d8576b"
             ],
             [
              0.6666666666666666,
              "#ed7953"
             ],
             [
              0.7777777777777778,
              "#fb9f3a"
             ],
             [
              0.8888888888888888,
              "#fdca26"
             ],
             [
              1,
              "#f0f921"
             ]
            ],
            "type": "histogram2dcontour"
           }
          ],
          "mesh3d": [
           {
            "colorbar": {
             "outlinewidth": 0,
             "ticks": ""
            },
            "type": "mesh3d"
           }
          ],
          "parcoords": [
           {
            "line": {
             "colorbar": {
              "outlinewidth": 0,
              "ticks": ""
             }
            },
            "type": "parcoords"
           }
          ],
          "pie": [
           {
            "automargin": true,
            "type": "pie"
           }
          ],
          "scatter": [
           {
            "fillpattern": {
             "fillmode": "overlay",
             "size": 10,
             "solidity": 0.2
            },
            "type": "scatter"
           }
          ],
          "scatter3d": [
           {
            "line": {
             "colorbar": {
              "outlinewidth": 0,
              "ticks": ""
             }
            },
            "marker": {
             "colorbar": {
              "outlinewidth": 0,
              "ticks": ""
             }
            },
            "type": "scatter3d"
           }
          ],
          "scattercarpet": [
           {
            "marker": {
             "colorbar": {
              "outlinewidth": 0,
              "ticks": ""
             }
            },
            "type": "scattercarpet"
           }
          ],
          "scattergeo": [
           {
            "marker": {
             "colorbar": {
              "outlinewidth": 0,
              "ticks": ""
             }
            },
            "type": "scattergeo"
           }
          ],
          "scattergl": [
           {
            "marker": {
             "colorbar": {
              "outlinewidth": 0,
              "ticks": ""
             }
            },
            "type": "scattergl"
           }
          ],
          "scattermapbox": [
           {
            "marker": {
             "colorbar": {
              "outlinewidth": 0,
              "ticks": ""
             }
            },
            "type": "scattermapbox"
           }
          ],
          "scatterpolar": [
           {
            "marker": {
             "colorbar": {
              "outlinewidth": 0,
              "ticks": ""
             }
            },
            "type": "scatterpolar"
           }
          ],
          "scatterpolargl": [
           {
            "marker": {
             "colorbar": {
              "outlinewidth": 0,
              "ticks": ""
             }
            },
            "type": "scatterpolargl"
           }
          ],
          "scatterternary": [
           {
            "marker": {
             "colorbar": {
              "outlinewidth": 0,
              "ticks": ""
             }
            },
            "type": "scatterternary"
           }
          ],
          "surface": [
           {
            "colorbar": {
             "outlinewidth": 0,
             "ticks": ""
            },
            "colorscale": [
             [
              0,
              "#0d0887"
             ],
             [
              0.1111111111111111,
              "#46039f"
             ],
             [
              0.2222222222222222,
              "#7201a8"
             ],
             [
              0.3333333333333333,
              "#9c179e"
             ],
             [
              0.4444444444444444,
              "#bd3786"
             ],
             [
              0.5555555555555556,
              "#d8576b"
             ],
             [
              0.6666666666666666,
              "#ed7953"
             ],
             [
              0.7777777777777778,
              "#fb9f3a"
             ],
             [
              0.8888888888888888,
              "#fdca26"
             ],
             [
              1,
              "#f0f921"
             ]
            ],
            "type": "surface"
           }
          ],
          "table": [
           {
            "cells": {
             "fill": {
              "color": "#EBF0F8"
             },
             "line": {
              "color": "white"
             }
            },
            "header": {
             "fill": {
              "color": "#C8D4E3"
             },
             "line": {
              "color": "white"
             }
            },
            "type": "table"
           }
          ]
         },
         "layout": {
          "annotationdefaults": {
           "arrowcolor": "#2a3f5f",
           "arrowhead": 0,
           "arrowwidth": 1
          },
          "autotypenumbers": "strict",
          "coloraxis": {
           "colorbar": {
            "outlinewidth": 0,
            "ticks": ""
           }
          },
          "colorscale": {
           "diverging": [
            [
             0,
             "#8e0152"
            ],
            [
             0.1,
             "#c51b7d"
            ],
            [
             0.2,
             "#de77ae"
            ],
            [
             0.3,
             "#f1b6da"
            ],
            [
             0.4,
             "#fde0ef"
            ],
            [
             0.5,
             "#f7f7f7"
            ],
            [
             0.6,
             "#e6f5d0"
            ],
            [
             0.7,
             "#b8e186"
            ],
            [
             0.8,
             "#7fbc41"
            ],
            [
             0.9,
             "#4d9221"
            ],
            [
             1,
             "#276419"
            ]
           ],
           "sequential": [
            [
             0,
             "#0d0887"
            ],
            [
             0.1111111111111111,
             "#46039f"
            ],
            [
             0.2222222222222222,
             "#7201a8"
            ],
            [
             0.3333333333333333,
             "#9c179e"
            ],
            [
             0.4444444444444444,
             "#bd3786"
            ],
            [
             0.5555555555555556,
             "#d8576b"
            ],
            [
             0.6666666666666666,
             "#ed7953"
            ],
            [
             0.7777777777777778,
             "#fb9f3a"
            ],
            [
             0.8888888888888888,
             "#fdca26"
            ],
            [
             1,
             "#f0f921"
            ]
           ],
           "sequentialminus": [
            [
             0,
             "#0d0887"
            ],
            [
             0.1111111111111111,
             "#46039f"
            ],
            [
             0.2222222222222222,
             "#7201a8"
            ],
            [
             0.3333333333333333,
             "#9c179e"
            ],
            [
             0.4444444444444444,
             "#bd3786"
            ],
            [
             0.5555555555555556,
             "#d8576b"
            ],
            [
             0.6666666666666666,
             "#ed7953"
            ],
            [
             0.7777777777777778,
             "#fb9f3a"
            ],
            [
             0.8888888888888888,
             "#fdca26"
            ],
            [
             1,
             "#f0f921"
            ]
           ]
          },
          "colorway": [
           "#636efa",
           "#EF553B",
           "#00cc96",
           "#ab63fa",
           "#FFA15A",
           "#19d3f3",
           "#FF6692",
           "#B6E880",
           "#FF97FF",
           "#FECB52"
          ],
          "font": {
           "color": "#2a3f5f"
          },
          "geo": {
           "bgcolor": "white",
           "lakecolor": "white",
           "landcolor": "#E5ECF6",
           "showlakes": true,
           "showland": true,
           "subunitcolor": "white"
          },
          "hoverlabel": {
           "align": "left"
          },
          "hovermode": "closest",
          "mapbox": {
           "style": "light"
          },
          "paper_bgcolor": "white",
          "plot_bgcolor": "#E5ECF6",
          "polar": {
           "angularaxis": {
            "gridcolor": "white",
            "linecolor": "white",
            "ticks": ""
           },
           "bgcolor": "#E5ECF6",
           "radialaxis": {
            "gridcolor": "white",
            "linecolor": "white",
            "ticks": ""
           }
          },
          "scene": {
           "xaxis": {
            "backgroundcolor": "#E5ECF6",
            "gridcolor": "white",
            "gridwidth": 2,
            "linecolor": "white",
            "showbackground": true,
            "ticks": "",
            "zerolinecolor": "white"
           },
           "yaxis": {
            "backgroundcolor": "#E5ECF6",
            "gridcolor": "white",
            "gridwidth": 2,
            "linecolor": "white",
            "showbackground": true,
            "ticks": "",
            "zerolinecolor": "white"
           },
           "zaxis": {
            "backgroundcolor": "#E5ECF6",
            "gridcolor": "white",
            "gridwidth": 2,
            "linecolor": "white",
            "showbackground": true,
            "ticks": "",
            "zerolinecolor": "white"
           }
          },
          "shapedefaults": {
           "line": {
            "color": "#2a3f5f"
           }
          },
          "ternary": {
           "aaxis": {
            "gridcolor": "white",
            "linecolor": "white",
            "ticks": ""
           },
           "baxis": {
            "gridcolor": "white",
            "linecolor": "white",
            "ticks": ""
           },
           "bgcolor": "#E5ECF6",
           "caxis": {
            "gridcolor": "white",
            "linecolor": "white",
            "ticks": ""
           }
          },
          "title": {
           "x": 0.05
          },
          "xaxis": {
           "automargin": true,
           "gridcolor": "white",
           "linecolor": "white",
           "ticks": "",
           "title": {
            "standoff": 15
           },
           "zerolinecolor": "white",
           "zerolinewidth": 2
          },
          "yaxis": {
           "automargin": true,
           "gridcolor": "white",
           "linecolor": "white",
           "ticks": "",
           "title": {
            "standoff": 15
           },
           "zerolinecolor": "white",
           "zerolinewidth": 2
          }
         }
        },
        "title": {
         "text": "h2o_reported"
        },
        "xaxis": {
         "anchor": "y",
         "domain": [
          0,
          1
         ],
         "title": {
          "text": "datetime"
         }
        },
        "yaxis": {
         "anchor": "x",
         "domain": [
          0,
          1
         ],
         "title": {
          "text": "h2o_reported"
         }
        }
       }
      }
     },
     "metadata": {},
     "output_type": "display_data"
    }
   ],
   "source": [
    "# bottle 41\n",
    "\n",
    "# PICARRO\n",
    "# 41\t\t16:02\t16:27\t399,8\n",
    "start_date = datetime(2023, 12, 19, 14, 56, 0)\n",
    "end_date = datetime(2023, 12, 19, 15, 20, 0)\n",
    "\n",
    "process_measurement(start_date, end_date, plot = True)"
   ]
  },
  {
   "cell_type": "code",
   "execution_count": 5,
   "metadata": {},
   "outputs": [
    {
     "name": "stdout",
     "output_type": "stream",
     "text": [
      "Picarro Median Reading: 404.28084224654657\n"
     ]
    }
   ],
   "source": [
    "# 42\t\t16:32\t16:53\t401.7\n",
    "start_date = datetime(2023, 12, 19, 15, 28, 0)\n",
    "end_date = datetime(2023, 12, 19, 15, 47, 0)\n",
    "\n",
    "process_measurement(start_date, end_date)"
   ]
  },
  {
   "cell_type": "code",
   "execution_count": 6,
   "metadata": {},
   "outputs": [
    {
     "name": "stdout",
     "output_type": "stream",
     "text": [
      "Picarro Median Reading: 404.09465945204835\n"
     ]
    }
   ],
   "source": [
    "# 43\t\t16:55\t17:15\t401,5\n",
    "start_date = datetime(2023, 12, 19, 15, 51, 0)\n",
    "end_date = datetime(2023, 12, 19, 16, 9, 0)\n",
    "\n",
    "process_measurement(start_date, end_date)"
   ]
  },
  {
   "cell_type": "code",
   "execution_count": 7,
   "metadata": {},
   "outputs": [
    {
     "name": "stdout",
     "output_type": "stream",
     "text": [
      "Picarro Median Reading: 404.1662843361729\n"
     ]
    }
   ],
   "source": [
    "# 44\t\t17:18\t17:40\t401,7\n",
    "start_date = datetime(2023, 12, 19, 16, 14, 0)\n",
    "end_date = datetime(2023, 12, 19, 16, 34, 0)\n",
    "\n",
    "process_measurement(start_date, end_date)"
   ]
  },
  {
   "cell_type": "code",
   "execution_count": 8,
   "metadata": {},
   "outputs": [
    {
     "name": "stdout",
     "output_type": "stream",
     "text": [
      "Picarro Median Reading: 406.27310849017164\n"
     ]
    }
   ],
   "source": [
    "# 45\t\t17:41\t18:02\t403,6\n",
    "start_date = datetime(2023, 12, 19, 16, 36, 0)\n",
    "end_date = datetime(2023, 12, 19, 16, 56, 0)\n",
    "\n",
    "process_measurement(start_date, end_date)"
   ]
  },
  {
   "cell_type": "code",
   "execution_count": 9,
   "metadata": {},
   "outputs": [
    {
     "name": "stdout",
     "output_type": "stream",
     "text": [
      "Picarro Median Reading: 405.8415053858322\n"
     ]
    }
   ],
   "source": [
    "# 46\t\t18:04\t18:24\t403,2\n",
    "start_date = datetime(2023, 12, 19, 16, 59, 0)\n",
    "end_date = datetime(2023, 12, 19, 17, 18, 0)\n",
    "\n",
    "process_measurement(start_date, end_date)"
   ]
  },
  {
   "cell_type": "code",
   "execution_count": 10,
   "metadata": {},
   "outputs": [
    {
     "name": "stdout",
     "output_type": "stream",
     "text": [
      "Picarro Median Reading: 402.7636985592384\n"
     ]
    }
   ],
   "source": [
    "# 47\t20.12.2023\t10:49\t11:09\t400,2\n",
    "start_date = datetime(2023, 12, 20, 9, 43, 0)\n",
    "end_date = datetime(2023, 12, 20, 10, 3, 0)\n",
    "\n",
    "process_measurement(start_date, end_date)"
   ]
  },
  {
   "cell_type": "code",
   "execution_count": 11,
   "metadata": {},
   "outputs": [
    {
     "name": "stdout",
     "output_type": "stream",
     "text": [
      "Picarro Median Reading: 403.8434525836858\n"
     ]
    }
   ],
   "source": [
    "# 48\t\t11:10\t11:30\t401,4\n",
    "start_date = datetime(2023, 12, 20, 10, 5, 0)\n",
    "end_date = datetime(2023, 12, 20, 10, 24, 0)\n",
    "\n",
    "process_measurement(start_date, end_date)"
   ]
  },
  {
   "cell_type": "code",
   "execution_count": 12,
   "metadata": {},
   "outputs": [
    {
     "name": "stdout",
     "output_type": "stream",
     "text": [
      "Picarro Median Reading: 404.00236047057155\n"
     ]
    }
   ],
   "source": [
    "# 49\t\t11:31\t11:51   401,3\n",
    "start_date = datetime(2023, 12, 20, 10, 26, 0)\n",
    "end_date = datetime(2023, 12, 20, 10, 45, 0)\n",
    "\n",
    "process_measurement(start_date, end_date)"
   ]
  },
  {
   "cell_type": "markdown",
   "metadata": {},
   "source": [
    "Corrected Picarro Timeshift on Windows PC"
   ]
  },
  {
   "cell_type": "code",
   "execution_count": 13,
   "metadata": {},
   "outputs": [
    {
     "name": "stdout",
     "output_type": "stream",
     "text": [
      "Picarro Median Reading: 403.98960507209415\n"
     ]
    }
   ],
   "source": [
    "# 50\t\t13:54\t14:14\t401,4\n",
    "start_date = datetime(2023, 12, 20, 13, 45, 0)\n",
    "end_date = datetime(2023, 12, 20, 14, 14, 0)\n",
    "\n",
    "process_measurement(start_date, end_date)"
   ]
  },
  {
   "cell_type": "code",
   "execution_count": 14,
   "metadata": {},
   "outputs": [
    {
     "name": "stdout",
     "output_type": "stream",
     "text": [
      "Picarro Median Reading: 402.4487098262509\n"
     ]
    }
   ],
   "source": [
    "# 51\t\t14:15\t14:35\t399,9\n",
    "start_date = datetime(2023, 12, 20, 14, 15, 0)\n",
    "end_date = datetime(2023, 12, 20, 14, 34, 0)\n",
    "\n",
    "process_measurement(start_date, end_date)\n"
   ]
  },
  {
   "cell_type": "code",
   "execution_count": 15,
   "metadata": {},
   "outputs": [
    {
     "name": "stdout",
     "output_type": "stream",
     "text": [
      "Picarro Median Reading: 404.3338211154601\n"
     ]
    }
   ],
   "source": [
    "# 52\t\t14:35\t14:50\t401,7\n",
    "start_date = datetime(2023, 12, 20, 14, 35, 0)\n",
    "end_date = datetime(2023, 12, 20, 14, 50, 0)\n",
    "\n",
    "process_measurement(start_date, end_date)"
   ]
  },
  {
   "cell_type": "code",
   "execution_count": 16,
   "metadata": {},
   "outputs": [
    {
     "name": "stdout",
     "output_type": "stream",
     "text": [
      "Picarro Median Reading: 404.07819705002055\n"
     ]
    }
   ],
   "source": [
    "# 53\t\t14:57\t15:17\t401,4\n",
    "start_date = datetime(2023, 12, 20, 14, 57, 0)\n",
    "end_date = datetime(2023, 12, 20, 15, 17, 0)\n",
    "\n",
    "process_measurement(start_date, end_date)"
   ]
  },
  {
   "cell_type": "code",
   "execution_count": 17,
   "metadata": {},
   "outputs": [
    {
     "name": "stdout",
     "output_type": "stream",
     "text": [
      "Picarro Median Reading: 403.74321644442495\n"
     ]
    }
   ],
   "source": [
    "# 54\t\t15:19\t15:39\t401,1\n",
    "start_date = datetime(2023, 12, 20, 15, 19, 0)\n",
    "end_date = datetime(2023, 12, 20, 15, 39, 0)\n",
    "\n",
    "process_measurement(start_date, end_date)"
   ]
  },
  {
   "cell_type": "code",
   "execution_count": 18,
   "metadata": {},
   "outputs": [
    {
     "name": "stdout",
     "output_type": "stream",
     "text": [
      "Picarro Median Reading: 405.99519469080195\n"
     ]
    }
   ],
   "source": [
    "# 55\t\t15:40\t16:00\t403,4\n",
    "start_date = datetime(2023, 12, 20, 15, 40, 0)\n",
    "end_date = datetime(2023, 12, 20, 16, 0, 0)\n",
    "\n",
    "process_measurement(start_date, end_date)"
   ]
  },
  {
   "cell_type": "code",
   "execution_count": 19,
   "metadata": {},
   "outputs": [
    {
     "name": "stdout",
     "output_type": "stream",
     "text": [
      "Picarro Median Reading: 403.9337850829329\n"
     ]
    }
   ],
   "source": [
    "# 56\t\t16:01\t16:20\t401,4\n",
    "start_date = datetime(2023, 12, 20, 16, 2, 0)\n",
    "end_date = datetime(2023, 12, 20, 16, 19, 0)\n",
    "\n",
    "process_measurement(start_date, end_date)"
   ]
  },
  {
   "cell_type": "code",
   "execution_count": 20,
   "metadata": {},
   "outputs": [
    {
     "name": "stdout",
     "output_type": "stream",
     "text": [
      "Picarro Median Reading: 405.8811432314349\n"
     ]
    }
   ],
   "source": [
    "# 57\t\t10:24\t10:44\t403,3\n",
    "start_date = datetime(2023, 12, 21, 10, 25, 0)\n",
    "end_date = datetime(2023, 12, 21, 10, 44, 0)\n",
    "\n",
    "process_measurement(start_date, end_date)"
   ]
  },
  {
   "cell_type": "code",
   "execution_count": 21,
   "metadata": {},
   "outputs": [
    {
     "name": "stdout",
     "output_type": "stream",
     "text": [
      "Picarro Median Reading: 405.71712692843624\n"
     ]
    }
   ],
   "source": [
    "# 58\t\t10:45\t11:05\t403,1\n",
    "start_date = datetime(2023, 12, 21, 10, 45, 0)\n",
    "end_date = datetime(2023, 12, 21, 11, 5, 0)\n",
    "\n",
    "process_measurement(start_date, end_date)"
   ]
  },
  {
   "cell_type": "code",
   "execution_count": 22,
   "metadata": {},
   "outputs": [
    {
     "name": "stdout",
     "output_type": "stream",
     "text": [
      "Picarro Median Reading: 403.97594446019167\n"
     ]
    }
   ],
   "source": [
    "# 59\t\t11:06\t11:26\t401,4\n",
    "start_date = datetime(2023, 12, 21, 11, 6, 0)\n",
    "end_date = datetime(2023, 12, 21, 11, 25, 0)\n",
    "\n",
    "process_measurement(start_date, end_date)"
   ]
  },
  {
   "cell_type": "code",
   "execution_count": 23,
   "metadata": {},
   "outputs": [
    {
     "name": "stdout",
     "output_type": "stream",
     "text": [
      "Picarro Median Reading: 405.81767395442\n"
     ]
    }
   ],
   "source": [
    "# 60\t\t11:27\t11:47\t403,1\n",
    "start_date = datetime(2023, 12, 21, 11, 27, 0)\n",
    "end_date = datetime(2023, 12, 21, 11, 47, 0)\n",
    "\n",
    "process_measurement(start_date, end_date)"
   ]
  },
  {
   "cell_type": "code",
   "execution_count": 24,
   "metadata": {},
   "outputs": [
    {
     "name": "stdout",
     "output_type": "stream",
     "text": [
      "Picarro Median Reading: 525.8090878887841\n"
     ]
    }
   ],
   "source": [
    "# 61\t\t11:48\t12:08\t522,4\n",
    "start_date = datetime(2023, 12, 21, 11, 48, 0)\n",
    "end_date = datetime(2023, 12, 21, 12, 7, 0)\n",
    "\n",
    "process_measurement(start_date, end_date)"
   ]
  },
  {
   "cell_type": "code",
   "execution_count": 25,
   "metadata": {},
   "outputs": [
    {
     "name": "stdout",
     "output_type": "stream",
     "text": [
      "Picarro Median Reading: 525.8837538620087\n"
     ]
    }
   ],
   "source": [
    "# 62\t\t13:26\t13:46\t522,6\n",
    "start_date = datetime(2023, 12, 21, 13, 26, 0)\n",
    "end_date = datetime(2023, 12, 21, 13, 45, 0)\n",
    "\n",
    "process_measurement(start_date, end_date)"
   ]
  },
  {
   "cell_type": "code",
   "execution_count": 26,
   "metadata": {},
   "outputs": [
    {
     "name": "stdout",
     "output_type": "stream",
     "text": [
      "Picarro Median Reading: 521.6663325435406\n"
     ]
    }
   ],
   "source": [
    "# 63\t\t13:48\t14:08\t518,4\n",
    "start_date = datetime(2023, 12, 21, 13, 48, 0)\n",
    "end_date = datetime(2023, 12, 21, 14, 7, 0)\n",
    "\n",
    "process_measurement(start_date, end_date)"
   ]
  },
  {
   "cell_type": "code",
   "execution_count": 27,
   "metadata": {},
   "outputs": [
    {
     "name": "stdout",
     "output_type": "stream",
     "text": [
      "Picarro Median Reading: 525.6308581103898\n"
     ]
    }
   ],
   "source": [
    "# 64\t\t14:09\t14:29\t522,3\n",
    "start_date = datetime(2023, 12, 21, 14, 9, 0)\n",
    "end_date = datetime(2023, 12, 21, 14, 29, 0)\n",
    "\n",
    "process_measurement(start_date, end_date)"
   ]
  },
  {
   "cell_type": "code",
   "execution_count": 28,
   "metadata": {},
   "outputs": [
    {
     "name": "stdout",
     "output_type": "stream",
     "text": [
      "Picarro Median Reading: 524.2813444300078\n"
     ]
    }
   ],
   "source": [
    "# 65\t\t14:30\t14:50\t521,0\t\n",
    "start_date = datetime(2023, 12, 21, 14, 31, 0)\n",
    "end_date = datetime(2023, 12, 21, 14, 50, 0)\n",
    "\n",
    "process_measurement(start_date, end_date)"
   ]
  },
  {
   "cell_type": "code",
   "execution_count": 29,
   "metadata": {},
   "outputs": [
    {
     "name": "stdout",
     "output_type": "stream",
     "text": [
      "Picarro Median Reading: 524.0564396007776\n"
     ]
    }
   ],
   "source": [
    "# 66\t\t14:52\t15:12\t520,7\t\n",
    "start_date = datetime(2023, 12, 21, 14, 51, 30)\n",
    "end_date = datetime(2023, 12, 21, 15, 11, 0)\n",
    "\n",
    "process_measurement(start_date, end_date)"
   ]
  },
  {
   "cell_type": "code",
   "execution_count": 30,
   "metadata": {},
   "outputs": [
    {
     "name": "stdout",
     "output_type": "stream",
     "text": [
      "Picarro Median Reading: 525.6138988273221\n"
     ]
    }
   ],
   "source": [
    "# 67\t\t15:13\t15:33\t522,2\t\n",
    "start_date = datetime(2023, 12, 21, 15, 13, 0)\n",
    "end_date = datetime(2023, 12, 21, 15, 32, 0)\n",
    "\n",
    "process_measurement(start_date, end_date)"
   ]
  },
  {
   "cell_type": "code",
   "execution_count": 31,
   "metadata": {},
   "outputs": [
    {
     "name": "stdout",
     "output_type": "stream",
     "text": [
      "Picarro Median Reading: 525.7725659489872\n"
     ]
    }
   ],
   "source": [
    "# 68\t\t15:34\t15:54\t522,5\t\n",
    "start_date = datetime(2023, 12, 21, 15, 34, 0)\n",
    "end_date = datetime(2023, 12, 21, 15, 53, 0)\n",
    "\n",
    "process_measurement(start_date, end_date)"
   ]
  },
  {
   "cell_type": "code",
   "execution_count": 32,
   "metadata": {},
   "outputs": [
    {
     "name": "stdout",
     "output_type": "stream",
     "text": [
      "Picarro Median Reading: 525.4162006688188\n"
     ]
    }
   ],
   "source": [
    "# 69\t\t15:55\t16:15\t522,1\t\n",
    "start_date = datetime(2023, 12, 21, 15, 55, 0)\n",
    "end_date = datetime(2023, 12, 21, 16, 14, 0)\n",
    "\n",
    "process_measurement(start_date, end_date)"
   ]
  },
  {
   "cell_type": "code",
   "execution_count": 33,
   "metadata": {},
   "outputs": [
    {
     "name": "stdout",
     "output_type": "stream",
     "text": [
      "Picarro Median Reading: 525.0034711775301\n"
     ]
    }
   ],
   "source": [
    "# 70\t\t16:16\t16:36\t521,7\t\n",
    "start_date = datetime(2023, 12, 21, 16, 17, 0)\n",
    "end_date = datetime(2023, 12, 21, 16, 35, 0)\n",
    "\n",
    "process_measurement(start_date, end_date)"
   ]
  },
  {
   "cell_type": "code",
   "execution_count": 34,
   "metadata": {},
   "outputs": [
    {
     "name": "stdout",
     "output_type": "stream",
     "text": [
      "Picarro Median Reading: 524.9285100804026\n"
     ]
    }
   ],
   "source": [
    "# 71\t\t16:41\t17:00\t521,6\t\n",
    "start_date = datetime(2023, 12, 21, 16, 41, 0)\n",
    "end_date = datetime(2023, 12, 21, 16, 59, 0)\n",
    "\n",
    "process_measurement(start_date, end_date)"
   ]
  },
  {
   "cell_type": "code",
   "execution_count": 35,
   "metadata": {},
   "outputs": [
    {
     "name": "stdout",
     "output_type": "stream",
     "text": [
      "Picarro Median Reading: 524.3075122568364\n"
     ]
    }
   ],
   "source": [
    "# 72\t\t10:34\t10:54\t521,0\n",
    "start_date = datetime(2023, 12, 22, 9, 34, 0)\n",
    "end_date = datetime(2023, 12, 22, 9, 53, 0)\n",
    "\n",
    "process_measurement(start_date, end_date)"
   ]
  },
  {
   "cell_type": "code",
   "execution_count": 36,
   "metadata": {},
   "outputs": [
    {
     "name": "stdout",
     "output_type": "stream",
     "text": [
      "Picarro Median Reading: 524.3280140678185\n"
     ]
    }
   ],
   "source": [
    "# 73\t\t10:55\t11:16\t520,9\n",
    "start_date = datetime(2023, 12, 22, 9, 55, 0)\n",
    "end_date = datetime(2023, 12, 22, 10, 16, 0)\n",
    "\n",
    "process_measurement(start_date, end_date)"
   ]
  },
  {
   "cell_type": "code",
   "execution_count": 37,
   "metadata": {},
   "outputs": [
    {
     "name": "stdout",
     "output_type": "stream",
     "text": [
      "Picarro Median Reading: 523.6397110932725\n"
     ]
    }
   ],
   "source": [
    "# 74\t\t11:17\t11:39\t520,3\t\n",
    "start_date = datetime(2023, 12, 22, 10, 17, 0)\n",
    "end_date = datetime(2023, 12, 22, 10, 38, 0)\n",
    "\n",
    "process_measurement(start_date, end_date)"
   ]
  },
  {
   "cell_type": "code",
   "execution_count": 38,
   "metadata": {},
   "outputs": [
    {
     "name": "stdout",
     "output_type": "stream",
     "text": [
      "Picarro Median Reading: 524.4249224244528\n"
     ]
    }
   ],
   "source": [
    "# 75\t\t12:48\t13:08\t521,1\t\n",
    "start_date = datetime(2023, 12, 22, 11, 48, 0)\n",
    "end_date = datetime(2023, 12, 22, 12, 8, 0)\n",
    "\n",
    "process_measurement(start_date, end_date)"
   ]
  },
  {
   "cell_type": "code",
   "execution_count": 39,
   "metadata": {},
   "outputs": [
    {
     "name": "stdout",
     "output_type": "stream",
     "text": [
      "Picarro Median Reading: 524.8720877640983\n"
     ]
    }
   ],
   "source": [
    "# 76\t\t13:16\t13:36\t521,6\t\n",
    "start_date = datetime(2023, 12, 22, 12, 16, 0)\n",
    "end_date = datetime(2023, 12, 22, 12, 35, 0)\n",
    "\n",
    "process_measurement(start_date, end_date)"
   ]
  },
  {
   "cell_type": "code",
   "execution_count": 40,
   "metadata": {},
   "outputs": [
    {
     "name": "stdout",
     "output_type": "stream",
     "text": [
      "Picarro Median Reading: 524.4989332749016\n"
     ]
    }
   ],
   "source": [
    "# 77\t\t13:37\t13:58\t521,2\t\n",
    "start_date = datetime(2023, 12, 22, 12, 37, 0)\n",
    "end_date = datetime(2023, 12, 22, 12, 57, 0)\n",
    "\n",
    "process_measurement(start_date, end_date)"
   ]
  },
  {
   "cell_type": "code",
   "execution_count": 41,
   "metadata": {},
   "outputs": [
    {
     "name": "stdout",
     "output_type": "stream",
     "text": [
      "Picarro Median Reading: 521.7572171744932\n"
     ]
    }
   ],
   "source": [
    "# 78\t\t14:00\t14:21\t518,4\t\n",
    "start_date = datetime(2023, 12, 22, 13, 0, 0)\n",
    "end_date = datetime(2023, 12, 22, 13, 21, 0)\n",
    "\n",
    "process_measurement(start_date, end_date)"
   ]
  },
  {
   "cell_type": "code",
   "execution_count": 42,
   "metadata": {},
   "outputs": [
    {
     "name": "stdout",
     "output_type": "stream",
     "text": [
      "Picarro Median Reading: 523.8961785786234\n"
     ]
    }
   ],
   "source": [
    "# 79\t\t14:23\t14:43\t520,6\t\n",
    "start_date = datetime(2023, 12, 22, 13, 23, 0)\n",
    "end_date = datetime(2023, 12, 22, 13, 43, 0)\n",
    "\n",
    "process_measurement(start_date, end_date)"
   ]
  },
  {
   "cell_type": "code",
   "execution_count": 43,
   "metadata": {},
   "outputs": [
    {
     "name": "stdout",
     "output_type": "stream",
     "text": [
      "Picarro Median Reading: 523.0029524916635\n"
     ]
    }
   ],
   "source": [
    "# 80\t\t14:44\t15:04\t520,6\t\n",
    "start_date = datetime(2023, 12, 22, 13,45, 0)\n",
    "end_date = datetime(2023, 12, 22, 14, 4, 0)\n",
    "\n",
    "process_measurement(start_date, end_date)"
   ]
  }
 ],
 "metadata": {
  "kernelspec": {
   "display_name": ".venv",
   "language": "python",
   "name": "python3"
  },
  "language_info": {
   "codemirror_mode": {
    "name": "ipython",
    "version": 3
   },
   "file_extension": ".py",
   "mimetype": "text/x-python",
   "name": "python",
   "nbconvert_exporter": "python",
   "pygments_lexer": "ipython3",
   "version": "3.12.10"
  }
 },
 "nbformat": 4,
 "nbformat_minor": 2
}
