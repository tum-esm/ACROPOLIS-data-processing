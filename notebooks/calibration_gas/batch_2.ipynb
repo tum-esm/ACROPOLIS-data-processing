{
 "cells": [
  {
   "cell_type": "code",
   "execution_count": 1,
   "metadata": {},
   "outputs": [],
   "source": [
    "# Imports & Inits\n",
    "\n",
    "from datetime import datetime\n",
    "from datetime import timezone\n",
    "import polars as pl\n",
    "import os\n",
    "import sys\n",
    "import plotly.express as px\n",
    "import polars.selectors as cs\n",
    "\n",
    "\n",
    "PROJECT_PATH = os.path.abspath(os.path.join(\"..\", \"..\"))\n",
    "PIPELINE_PATH = os.path.join(PROJECT_PATH, \"pipeline\")\n",
    "DATA_DIRECTORY = os.path.join(PROJECT_PATH, \"data\")\n",
    "\n",
    "if PIPELINE_PATH not in sys.path:\n",
    "    sys.path.append(PIPELINE_PATH)\n",
    "    \n",
    "from utils.paths import PROCESSED_PICARRO_DATA_DIRECTORY\n",
    "from utils.calibration_processing import process_bottle\n",
    "\n",
    "assert(os.path.exists(DATA_DIRECTORY))\n",
    "assert(os.path.exists(PROCESSED_PICARRO_DATA_DIRECTORY))"
   ]
  },
  {
   "cell_type": "code",
   "execution_count": 2,
   "metadata": {},
   "outputs": [
    {
     "data": {
      "text/html": [
       "<div><style>\n",
       ".dataframe > thead > tr,\n",
       ".dataframe > tbody > tr {\n",
       "  text-align: right;\n",
       "  white-space: pre-wrap;\n",
       "}\n",
       "</style>\n",
       "<small>shape: (1, 3)</small><table border=\"1\" class=\"dataframe\"><thead><tr><th>datetime</th><th>picarro_corrected</th><th>h2o_reported</th></tr><tr><td>datetime[ms]</td><td>f64</td><td>f64</td></tr></thead><tbody><tr><td>2023-12-19 00:00:00.897</td><td>519.587674</td><td>0.872202</td></tr></tbody></table></div>"
      ],
      "text/plain": [
       "shape: (1, 3)\n",
       "┌─────────────────────────┬───────────────────┬──────────────┐\n",
       "│ datetime                ┆ picarro_corrected ┆ h2o_reported │\n",
       "│ ---                     ┆ ---               ┆ ---          │\n",
       "│ datetime[ms]            ┆ f64               ┆ f64          │\n",
       "╞═════════════════════════╪═══════════════════╪══════════════╡\n",
       "│ 2023-12-19 00:00:00.897 ┆ 519.587674        ┆ 0.872202     │\n",
       "└─────────────────────────┴───────────────────┴──────────────┘"
      ]
     },
     "execution_count": 2,
     "metadata": {},
     "output_type": "execute_result"
    }
   ],
   "source": [
    "start_date = datetime(2023, 12, 19, 0, 0, 0)\n",
    "end_date = datetime(2023, 12 , 23, 0, 0, 0)\n",
    "  \n",
    "df_p = pl.scan_parquet(os.path.join(PROCESSED_PICARRO_DATA_DIRECTORY, \"Calibrated_Raw_DWD_Picarro_G2301_413.parquet\")) \\\n",
    "    .filter(pl.col(\"datetime\").is_between(start_date, end_date)) \\\n",
    "    .select([\"datetime\", \"picarro_corrected\", \"h2o_reported\"])\n",
    "df_p.head(1).collect()"
   ]
  },
  {
   "cell_type": "code",
   "execution_count": 3,
   "metadata": {},
   "outputs": [],
   "source": [
    "def plot_sensor_measurement(df, col_name: str, filter = None):\n",
    "    if filter != None:\n",
    "        df = df.groupby_dynamic(\"datetime\", every=filter).agg(cs.numeric().mean())\n",
    "        \n",
    "    fig = px.line(\n",
    "        df,\n",
    "        x=\"datetime\",\n",
    "        y=col_name,\n",
    "        markers=True,\n",
    "        title=col_name,\n",
    "    )\n",
    "    fig.show()\n",
    "    \n",
    "def process_measurement(start_date, end_date, plot=False):\n",
    "    df_p_bottle = df_p.filter(pl.col(\"datetime\").is_between(start_date, end_date)) \\\n",
    "        .collect()\n",
    "\n",
    "    data = df_p_bottle.select(pl.col(\"picarro_corrected\")).to_series().to_list()\n",
    "    data_cut = data[int(len(data)*0.3):int(len(data)*0.95)]\n",
    "\n",
    "    median = process_bottle(data_cut, ignore_len=True) \n",
    "\n",
    "    print(f\"Picarro Median Reading: {median}\")\n",
    "\n",
    "    # Plots\n",
    "    if plot:\n",
    "        plot_sensor_measurement(df_p_bottle, col_name=\"picarro_corrected\")\n",
    "        plot_sensor_measurement(df_p_bottle, col_name=\"h2o_reported\")"
   ]
  },
  {
   "cell_type": "markdown",
   "metadata": {},
   "source": [
    "# ICOS Calibration MC13 19.12.2023"
   ]
  },
  {
   "cell_type": "markdown",
   "metadata": {},
   "source": [
    "# Bottles on 19.12.2023"
   ]
  },
  {
   "cell_type": "code",
   "execution_count": 4,
   "metadata": {},
   "outputs": [
    {
     "name": "stdout",
     "output_type": "stream",
     "text": [
      "Picarro Median Reading: 402.3372066791953\n"
     ]
    }
   ],
   "source": [
    "# bottle 41\n",
    "\n",
    "# PICARRO\n",
    "# 41\t\t16:02\t16:27\t399,8\n",
    "start_date = datetime(2023, 12, 19, 14, 56, 0)\n",
    "end_date = datetime(2023, 12, 19, 15, 21, 0)\n",
    "\n",
    "process_measurement(start_date, end_date)"
   ]
  },
  {
   "cell_type": "code",
   "execution_count": 6,
   "metadata": {},
   "outputs": [
    {
     "name": "stdout",
     "output_type": "stream",
     "text": [
      "Picarro Median Reading: 404.2780727481887\n"
     ]
    }
   ],
   "source": [
    "# 42\t\t16:32\t16:53\t401.7\n",
    "start_date = datetime(2023, 12, 19, 15, 28, 0)\n",
    "end_date = datetime(2023, 12, 19, 15, 47, 0)\n",
    "\n",
    "process_measurement(start_date, end_date)"
   ]
  },
  {
   "cell_type": "code",
   "execution_count": 7,
   "metadata": {},
   "outputs": [
    {
     "name": "stdout",
     "output_type": "stream",
     "text": [
      "Picarro Median Reading: 404.09566142975984\n"
     ]
    }
   ],
   "source": [
    "# 43\t\t16:55\t17:15\t401,5\n",
    "start_date = datetime(2023, 12, 19, 15, 51, 0)\n",
    "end_date = datetime(2023, 12, 19, 16, 9, 0)\n",
    "\n",
    "process_measurement(start_date, end_date)"
   ]
  },
  {
   "cell_type": "code",
   "execution_count": 8,
   "metadata": {},
   "outputs": [
    {
     "name": "stdout",
     "output_type": "stream",
     "text": [
      "Picarro Median Reading: 404.16971293880266\n"
     ]
    }
   ],
   "source": [
    "# 44\t\t17:18\t17:40\t401,7\n",
    "start_date = datetime(2023, 12, 19, 16, 14, 0)\n",
    "end_date = datetime(2023, 12, 19, 16, 34, 0)\n",
    "\n",
    "process_measurement(start_date, end_date)"
   ]
  },
  {
   "cell_type": "code",
   "execution_count": 9,
   "metadata": {},
   "outputs": [
    {
     "name": "stdout",
     "output_type": "stream",
     "text": [
      "Picarro Median Reading: 406.2687511104686\n"
     ]
    }
   ],
   "source": [
    "# 45\t\t17:41\t18:02\t403,6\n",
    "start_date = datetime(2023, 12, 19, 16, 36, 0)\n",
    "end_date = datetime(2023, 12, 19, 16, 56, 0)\n",
    "\n",
    "process_measurement(start_date, end_date)"
   ]
  },
  {
   "cell_type": "code",
   "execution_count": 10,
   "metadata": {},
   "outputs": [
    {
     "name": "stdout",
     "output_type": "stream",
     "text": [
      "Picarro Median Reading: 405.84128551892496\n"
     ]
    }
   ],
   "source": [
    "# 46\t\t18:04\t18:24\t403,2\n",
    "start_date = datetime(2023, 12, 19, 16, 59, 0)\n",
    "end_date = datetime(2023, 12, 19, 17, 18, 0)\n",
    "\n",
    "process_measurement(start_date, end_date)"
   ]
  },
  {
   "cell_type": "code",
   "execution_count": 11,
   "metadata": {},
   "outputs": [
    {
     "name": "stdout",
     "output_type": "stream",
     "text": [
      "Picarro Median Reading: 402.7622226728666\n"
     ]
    }
   ],
   "source": [
    "# 47\t20.12.2023\t10:49\t11:09\t400,2\n",
    "start_date = datetime(2023, 12, 20, 9, 43, 0)\n",
    "end_date = datetime(2023, 12, 20, 10, 3, 0)\n",
    "\n",
    "process_measurement(start_date, end_date)"
   ]
  },
  {
   "cell_type": "code",
   "execution_count": 12,
   "metadata": {},
   "outputs": [
    {
     "name": "stdout",
     "output_type": "stream",
     "text": [
      "Picarro Median Reading: 403.84276416204915\n"
     ]
    }
   ],
   "source": [
    "# 48\t\t11:10\t11:30\t401,4\n",
    "start_date = datetime(2023, 12, 20, 10, 5, 0)\n",
    "end_date = datetime(2023, 12, 20, 10, 24, 0)\n",
    "\n",
    "process_measurement(start_date, end_date)"
   ]
  },
  {
   "cell_type": "code",
   "execution_count": 13,
   "metadata": {},
   "outputs": [
    {
     "name": "stdout",
     "output_type": "stream",
     "text": [
      "Picarro Median Reading: 404.00578667973883\n"
     ]
    }
   ],
   "source": [
    "# 49\t\t11:31\t11:51   401,3\n",
    "start_date = datetime(2023, 12, 20, 10, 26, 0)\n",
    "end_date = datetime(2023, 12, 20, 10, 45, 0)\n",
    "\n",
    "process_measurement(start_date, end_date)"
   ]
  },
  {
   "cell_type": "markdown",
   "metadata": {},
   "source": [
    "Corrected Picarro Timeshift on Windows PC"
   ]
  },
  {
   "cell_type": "code",
   "execution_count": 14,
   "metadata": {},
   "outputs": [
    {
     "name": "stdout",
     "output_type": "stream",
     "text": [
      "Picarro Median Reading: 403.9864359258373\n"
     ]
    }
   ],
   "source": [
    "# 50\t\t13:54\t14:14\t401,4\n",
    "start_date = datetime(2023, 12, 20, 13, 45, 0)\n",
    "end_date = datetime(2023, 12, 20, 14, 14, 0)\n",
    "\n",
    "process_measurement(start_date, end_date)"
   ]
  },
  {
   "cell_type": "code",
   "execution_count": 15,
   "metadata": {},
   "outputs": [
    {
     "name": "stdout",
     "output_type": "stream",
     "text": [
      "Picarro Median Reading: 402.4467161252168\n"
     ]
    }
   ],
   "source": [
    "# 51\t\t14:15\t14:35\t399,9\n",
    "start_date = datetime(2023, 12, 20, 14, 15, 0)\n",
    "end_date = datetime(2023, 12, 20, 14, 34, 0)\n",
    "\n",
    "process_measurement(start_date, end_date)\n"
   ]
  },
  {
   "cell_type": "code",
   "execution_count": 16,
   "metadata": {},
   "outputs": [
    {
     "name": "stdout",
     "output_type": "stream",
     "text": [
      "Picarro Median Reading: 404.33704649160916\n"
     ]
    }
   ],
   "source": [
    "# 52\t\t14:35\t14:50\t401,7\n",
    "start_date = datetime(2023, 12, 20, 14, 35, 0)\n",
    "end_date = datetime(2023, 12, 20, 14, 50, 0)\n",
    "\n",
    "process_measurement(start_date, end_date)"
   ]
  },
  {
   "cell_type": "code",
   "execution_count": 17,
   "metadata": {},
   "outputs": [
    {
     "name": "stdout",
     "output_type": "stream",
     "text": [
      "Picarro Median Reading: 404.08082407676324\n"
     ]
    }
   ],
   "source": [
    "# 53\t\t14:57\t15:17\t401,4\n",
    "start_date = datetime(2023, 12, 20, 14, 57, 0)\n",
    "end_date = datetime(2023, 12, 20, 15, 17, 0)\n",
    "\n",
    "process_measurement(start_date, end_date)"
   ]
  },
  {
   "cell_type": "code",
   "execution_count": 18,
   "metadata": {},
   "outputs": [
    {
     "name": "stdout",
     "output_type": "stream",
     "text": [
      "Picarro Median Reading: 403.743053371287\n"
     ]
    }
   ],
   "source": [
    "# 54\t\t15:19\t15:39\t401,1\n",
    "start_date = datetime(2023, 12, 20, 15, 19, 0)\n",
    "end_date = datetime(2023, 12, 20, 15, 39, 0)\n",
    "\n",
    "process_measurement(start_date, end_date)"
   ]
  },
  {
   "cell_type": "code",
   "execution_count": 19,
   "metadata": {},
   "outputs": [
    {
     "name": "stdout",
     "output_type": "stream",
     "text": [
      "Picarro Median Reading: 405.99346563058305\n"
     ]
    }
   ],
   "source": [
    "# 55\t\t15:40\t16:00\t403,4\n",
    "start_date = datetime(2023, 12, 20, 15, 40, 0)\n",
    "end_date = datetime(2023, 12, 20, 16, 0, 0)\n",
    "\n",
    "process_measurement(start_date, end_date)"
   ]
  },
  {
   "cell_type": "code",
   "execution_count": 20,
   "metadata": {},
   "outputs": [
    {
     "name": "stdout",
     "output_type": "stream",
     "text": [
      "Picarro Median Reading: 403.9364065704011\n"
     ]
    }
   ],
   "source": [
    "# 56\t\t16:01\t16:20\t401,4\n",
    "start_date = datetime(2023, 12, 20, 16, 2, 0)\n",
    "end_date = datetime(2023, 12, 20, 16, 19, 0)\n",
    "\n",
    "process_measurement(start_date, end_date)"
   ]
  },
  {
   "cell_type": "code",
   "execution_count": 21,
   "metadata": {},
   "outputs": [
    {
     "name": "stdout",
     "output_type": "stream",
     "text": [
      "Picarro Median Reading: 405.87750632701403\n"
     ]
    }
   ],
   "source": [
    "# 57\t\t10:24\t10:44\t403,3\n",
    "start_date = datetime(2023, 12, 21, 10, 25, 0)\n",
    "end_date = datetime(2023, 12, 21, 10, 44, 0)\n",
    "\n",
    "process_measurement(start_date, end_date)"
   ]
  },
  {
   "cell_type": "code",
   "execution_count": 22,
   "metadata": {},
   "outputs": [
    {
     "name": "stdout",
     "output_type": "stream",
     "text": [
      "Picarro Median Reading: 405.71976831244774\n"
     ]
    }
   ],
   "source": [
    "# 58\t\t10:45\t11:05\t403,1\n",
    "start_date = datetime(2023, 12, 21, 10, 45, 0)\n",
    "end_date = datetime(2023, 12, 21, 11, 5, 0)\n",
    "\n",
    "process_measurement(start_date, end_date)"
   ]
  },
  {
   "cell_type": "code",
   "execution_count": 23,
   "metadata": {},
   "outputs": [
    {
     "name": "stdout",
     "output_type": "stream",
     "text": [
      "Picarro Median Reading: 403.97509316925994\n"
     ]
    }
   ],
   "source": [
    "# 59\t\t11:06\t11:26\t401,4\n",
    "start_date = datetime(2023, 12, 21, 11, 6, 0)\n",
    "end_date = datetime(2023, 12, 21, 11, 25, 0)\n",
    "\n",
    "process_measurement(start_date, end_date)"
   ]
  },
  {
   "cell_type": "code",
   "execution_count": 24,
   "metadata": {},
   "outputs": [
    {
     "name": "stdout",
     "output_type": "stream",
     "text": [
      "Picarro Median Reading: 405.8138425558703\n"
     ]
    }
   ],
   "source": [
    "# 60\t\t11:27\t11:47\t403,1\n",
    "start_date = datetime(2023, 12, 21, 11, 27, 0)\n",
    "end_date = datetime(2023, 12, 21, 11, 47, 0)\n",
    "\n",
    "process_measurement(start_date, end_date)"
   ]
  },
  {
   "cell_type": "code",
   "execution_count": 25,
   "metadata": {},
   "outputs": [
    {
     "name": "stdout",
     "output_type": "stream",
     "text": [
      "Picarro Median Reading: 525.8012738406374\n"
     ]
    }
   ],
   "source": [
    "# 61\t\t11:48\t12:08\t522,4\n",
    "start_date = datetime(2023, 12, 21, 11, 48, 0)\n",
    "end_date = datetime(2023, 12, 21, 12, 7, 0)\n",
    "\n",
    "process_measurement(start_date, end_date)"
   ]
  },
  {
   "cell_type": "code",
   "execution_count": 26,
   "metadata": {},
   "outputs": [
    {
     "name": "stdout",
     "output_type": "stream",
     "text": [
      "Picarro Median Reading: 525.8826896093798\n"
     ]
    }
   ],
   "source": [
    "# 62\t\t13:26\t13:46\t522,6\n",
    "start_date = datetime(2023, 12, 21, 13, 26, 0)\n",
    "end_date = datetime(2023, 12, 21, 13, 45, 0)\n",
    "\n",
    "process_measurement(start_date, end_date)"
   ]
  },
  {
   "cell_type": "code",
   "execution_count": 27,
   "metadata": {},
   "outputs": [
    {
     "name": "stdout",
     "output_type": "stream",
     "text": [
      "Picarro Median Reading: 521.6654248899684\n"
     ]
    }
   ],
   "source": [
    "# 63\t\t13:48\t14:08\t518,4\n",
    "start_date = datetime(2023, 12, 21, 13, 48, 0)\n",
    "end_date = datetime(2023, 12, 21, 14, 7, 0)\n",
    "\n",
    "process_measurement(start_date, end_date)"
   ]
  },
  {
   "cell_type": "code",
   "execution_count": 28,
   "metadata": {},
   "outputs": [
    {
     "name": "stdout",
     "output_type": "stream",
     "text": [
      "Picarro Median Reading: 525.6320028647042\n"
     ]
    }
   ],
   "source": [
    "# 64\t\t14:09\t14:29\t522,3\n",
    "start_date = datetime(2023, 12, 21, 14, 9, 0)\n",
    "end_date = datetime(2023, 12, 21, 14, 29, 0)\n",
    "\n",
    "process_measurement(start_date, end_date)"
   ]
  },
  {
   "cell_type": "code",
   "execution_count": 29,
   "metadata": {},
   "outputs": [
    {
     "name": "stdout",
     "output_type": "stream",
     "text": [
      "Picarro Median Reading: 524.2810276039543\n"
     ]
    }
   ],
   "source": [
    "# 65\t\t14:30\t14:50\t521,0\t\n",
    "start_date = datetime(2023, 12, 21, 14, 31, 0)\n",
    "end_date = datetime(2023, 12, 21, 14, 50, 0)\n",
    "\n",
    "process_measurement(start_date, end_date)"
   ]
  },
  {
   "cell_type": "code",
   "execution_count": 30,
   "metadata": {},
   "outputs": [
    {
     "name": "stdout",
     "output_type": "stream",
     "text": [
      "Picarro Median Reading: 524.0589566337143\n"
     ]
    }
   ],
   "source": [
    "# 66\t\t14:52\t15:12\t520,7\t\n",
    "start_date = datetime(2023, 12, 21, 14, 51, 30)\n",
    "end_date = datetime(2023, 12, 21, 15, 11, 0)\n",
    "\n",
    "process_measurement(start_date, end_date)"
   ]
  },
  {
   "cell_type": "code",
   "execution_count": 31,
   "metadata": {},
   "outputs": [
    {
     "name": "stdout",
     "output_type": "stream",
     "text": [
      "Picarro Median Reading: 525.6160497080073\n"
     ]
    }
   ],
   "source": [
    "# 67\t\t15:13\t15:33\t522,2\t\n",
    "start_date = datetime(2023, 12, 21, 15, 13, 0)\n",
    "end_date = datetime(2023, 12, 21, 15, 32, 0)\n",
    "\n",
    "process_measurement(start_date, end_date)"
   ]
  },
  {
   "cell_type": "code",
   "execution_count": 32,
   "metadata": {},
   "outputs": [
    {
     "name": "stdout",
     "output_type": "stream",
     "text": [
      "Picarro Median Reading: 525.7712518589742\n"
     ]
    }
   ],
   "source": [
    "# 68\t\t15:34\t15:54\t522,5\t\n",
    "start_date = datetime(2023, 12, 21, 15, 34, 0)\n",
    "end_date = datetime(2023, 12, 21, 15, 53, 0)\n",
    "\n",
    "process_measurement(start_date, end_date)"
   ]
  },
  {
   "cell_type": "code",
   "execution_count": 33,
   "metadata": {},
   "outputs": [
    {
     "name": "stdout",
     "output_type": "stream",
     "text": [
      "Picarro Median Reading: 525.4179514150369\n"
     ]
    }
   ],
   "source": [
    "# 69\t\t15:55\t16:15\t522,1\t\n",
    "start_date = datetime(2023, 12, 21, 15, 55, 0)\n",
    "end_date = datetime(2023, 12, 21, 16, 14, 0)\n",
    "\n",
    "process_measurement(start_date, end_date)"
   ]
  },
  {
   "cell_type": "code",
   "execution_count": 34,
   "metadata": {},
   "outputs": [
    {
     "name": "stdout",
     "output_type": "stream",
     "text": [
      "Picarro Median Reading: 525.0001758973897\n"
     ]
    }
   ],
   "source": [
    "# 70\t\t16:16\t16:36\t521,7\t\n",
    "start_date = datetime(2023, 12, 21, 16, 17, 0)\n",
    "end_date = datetime(2023, 12, 21, 16, 35, 0)\n",
    "\n",
    "process_measurement(start_date, end_date)"
   ]
  },
  {
   "cell_type": "code",
   "execution_count": 35,
   "metadata": {},
   "outputs": [
    {
     "name": "stdout",
     "output_type": "stream",
     "text": [
      "Picarro Median Reading: 524.9279574607302\n"
     ]
    }
   ],
   "source": [
    "# 71\t\t16:41\t17:00\t521,6\t\n",
    "start_date = datetime(2023, 12, 21, 16, 41, 0)\n",
    "end_date = datetime(2023, 12, 21, 16, 59, 0)\n",
    "\n",
    "process_measurement(start_date, end_date)"
   ]
  },
  {
   "cell_type": "code",
   "execution_count": 36,
   "metadata": {},
   "outputs": [
    {
     "name": "stdout",
     "output_type": "stream",
     "text": [
      "Picarro Median Reading: 524.3050674789254\n"
     ]
    }
   ],
   "source": [
    "# 72\t\t10:34\t10:54\t521,0\n",
    "start_date = datetime(2023, 12, 22, 9, 34, 0)\n",
    "end_date = datetime(2023, 12, 22, 9, 53, 0)\n",
    "\n",
    "process_measurement(start_date, end_date)"
   ]
  },
  {
   "cell_type": "code",
   "execution_count": 37,
   "metadata": {},
   "outputs": [
    {
     "name": "stdout",
     "output_type": "stream",
     "text": [
      "Picarro Median Reading: 524.3232952966947\n"
     ]
    }
   ],
   "source": [
    "# 73\t\t10:55\t11:16\t520,9\n",
    "start_date = datetime(2023, 12, 22, 9, 55, 0)\n",
    "end_date = datetime(2023, 12, 22, 10, 16, 0)\n",
    "\n",
    "process_measurement(start_date, end_date)"
   ]
  },
  {
   "cell_type": "code",
   "execution_count": 38,
   "metadata": {},
   "outputs": [
    {
     "name": "stdout",
     "output_type": "stream",
     "text": [
      "Picarro Median Reading: 523.6374309320414\n"
     ]
    }
   ],
   "source": [
    "# 74\t\t11:17\t11:39\t520,3\t\n",
    "start_date = datetime(2023, 12, 22, 10, 17, 0)\n",
    "end_date = datetime(2023, 12, 22, 10, 38, 0)\n",
    "\n",
    "process_measurement(start_date, end_date)"
   ]
  },
  {
   "cell_type": "code",
   "execution_count": 39,
   "metadata": {},
   "outputs": [
    {
     "name": "stdout",
     "output_type": "stream",
     "text": [
      "Picarro Median Reading: 524.4227474437\n"
     ]
    }
   ],
   "source": [
    "# 75\t\t12:48\t13:08\t521,1\t\n",
    "start_date = datetime(2023, 12, 22, 11, 48, 0)\n",
    "end_date = datetime(2023, 12, 22, 12, 8, 0)\n",
    "\n",
    "process_measurement(start_date, end_date)"
   ]
  },
  {
   "cell_type": "code",
   "execution_count": 40,
   "metadata": {},
   "outputs": [
    {
     "name": "stdout",
     "output_type": "stream",
     "text": [
      "Picarro Median Reading: 524.8762542662157\n"
     ]
    }
   ],
   "source": [
    "# 76\t\t13:16\t13:36\t521,6\t\n",
    "start_date = datetime(2023, 12, 22, 12, 16, 0)\n",
    "end_date = datetime(2023, 12, 22, 12, 35, 0)\n",
    "\n",
    "process_measurement(start_date, end_date)"
   ]
  },
  {
   "cell_type": "code",
   "execution_count": 41,
   "metadata": {},
   "outputs": [
    {
     "name": "stdout",
     "output_type": "stream",
     "text": [
      "Picarro Median Reading: 524.5003306696854\n"
     ]
    }
   ],
   "source": [
    "# 77\t\t13:37\t13:58\t521,2\t\n",
    "start_date = datetime(2023, 12, 22, 12, 37, 0)\n",
    "end_date = datetime(2023, 12, 22, 12, 57, 0)\n",
    "\n",
    "process_measurement(start_date, end_date)"
   ]
  },
  {
   "cell_type": "code",
   "execution_count": 42,
   "metadata": {},
   "outputs": [
    {
     "name": "stdout",
     "output_type": "stream",
     "text": [
      "Picarro Median Reading: 521.7477712385396\n"
     ]
    }
   ],
   "source": [
    "# 78\t\t14:00\t14:21\t518,4\t\n",
    "start_date = datetime(2023, 12, 22, 13, 0, 0)\n",
    "end_date = datetime(2023, 12, 22, 13, 21, 0)\n",
    "\n",
    "process_measurement(start_date, end_date)"
   ]
  },
  {
   "cell_type": "code",
   "execution_count": 43,
   "metadata": {},
   "outputs": [
    {
     "name": "stdout",
     "output_type": "stream",
     "text": [
      "Picarro Median Reading: 523.9036866803831\n"
     ]
    }
   ],
   "source": [
    "# 79\t\t14:23\t14:43\t520,6\t\n",
    "start_date = datetime(2023, 12, 22, 13, 23, 0)\n",
    "end_date = datetime(2023, 12, 22, 13, 43, 0)\n",
    "\n",
    "process_measurement(start_date, end_date)"
   ]
  },
  {
   "cell_type": "code",
   "execution_count": 44,
   "metadata": {},
   "outputs": [
    {
     "name": "stdout",
     "output_type": "stream",
     "text": [
      "Picarro Median Reading: 522.9999944288347\n"
     ]
    }
   ],
   "source": [
    "# 80\t\t14:44\t15:04\t520,6\t\n",
    "start_date = datetime(2023, 12, 22, 13,45, 0)\n",
    "end_date = datetime(2023, 12, 22, 14, 4, 0)\n",
    "\n",
    "process_measurement(start_date, end_date)"
   ]
  }
 ],
 "metadata": {
  "kernelspec": {
   "display_name": ".venv",
   "language": "python",
   "name": "python3"
  },
  "language_info": {
   "codemirror_mode": {
    "name": "ipython",
    "version": 3
   },
   "file_extension": ".py",
   "mimetype": "text/x-python",
   "name": "python",
   "nbconvert_exporter": "python",
   "pygments_lexer": "ipython3",
   "version": "3.12.9"
  }
 },
 "nbformat": 4,
 "nbformat_minor": 2
}
