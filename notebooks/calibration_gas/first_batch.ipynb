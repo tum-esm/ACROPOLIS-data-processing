{
 "cells": [
  {
   "cell_type": "code",
   "execution_count": 34,
   "metadata": {},
   "outputs": [],
   "source": [
    "# Imports & Inits\n",
    "\n",
    "from datetime import datetime\n",
    "from datetime import timezone\n",
    "import polars as pl\n",
    "import os\n",
    "import sys\n",
    "import plotly.express as px\n",
    "\n",
    "\n",
    "PROJECT_PATH = os.path.abspath(os.path.join(\"..\", \"..\"))\n",
    "PIPELINE_PATH = os.path.join(PROJECT_PATH, \"pipeline\")\n",
    "DATA_DIRECTORY = os.path.join(PROJECT_PATH, \"data\")\n",
    "\n",
    "if PIPELINE_PATH not in sys.path:\n",
    "    sys.path.append(PIPELINE_PATH)\n",
    "    \n",
    "from utils.paths import PROCESSED_PICARRO_DATA_DIRECTORY\n",
    "from utils.calibration_processing import process_bottle\n",
    "\n",
    "assert(os.path.exists(PROCESSED_PICARRO_DATA_DIRECTORY))"
   ]
  },
  {
   "cell_type": "code",
   "execution_count": 35,
   "metadata": {},
   "outputs": [
    {
     "data": {
      "text/html": [
       "<div><style>\n",
       ".dataframe > thead > tr,\n",
       ".dataframe > tbody > tr {\n",
       "  text-align: right;\n",
       "  white-space: pre-wrap;\n",
       "}\n",
       "</style>\n",
       "<small>shape: (1, 3)</small><table border=\"1\" class=\"dataframe\"><thead><tr><th>datetime</th><th>picarro_corrected</th><th>h2o_reported</th></tr><tr><td>datetime[μs, UTC]</td><td>f64</td><td>f64</td></tr></thead><tbody><tr><td>2023-12-19 00:00:00.897 UTC</td><td>519.587674</td><td>0.872202</td></tr></tbody></table></div>"
      ],
      "text/plain": [
       "shape: (1, 3)\n",
       "┌─────────────────────────────┬───────────────────┬──────────────┐\n",
       "│ datetime                    ┆ picarro_corrected ┆ h2o_reported │\n",
       "│ ---                         ┆ ---               ┆ ---          │\n",
       "│ datetime[μs, UTC]           ┆ f64               ┆ f64          │\n",
       "╞═════════════════════════════╪═══════════════════╪══════════════╡\n",
       "│ 2023-12-19 00:00:00.897 UTC ┆ 519.587674        ┆ 0.872202     │\n",
       "└─────────────────────────────┴───────────────────┴──────────────┘"
      ]
     },
     "execution_count": 35,
     "metadata": {},
     "output_type": "execute_result"
    }
   ],
   "source": [
    "start_date = datetime(2023, 12, 19, 0, 0, 0).replace(tzinfo=timezone.utc)\n",
    "end_date = datetime(2023, 12 , 20, 0, 0, 0).replace(tzinfo=timezone.utc)\n",
    "  \n",
    "df_p = pl.scan_parquet(os.path.join(PROCESSED_PICARRO_DATA_DIRECTORY, \"Calibrated_Raw_DWD_Picarro_G2301_413.parquet\")) \\\n",
    "    .filter(pl.col(\"datetime\").is_between(start_date, end_date)) \\\n",
    "    .select([\"datetime\", \"picarro_corrected\", \"h2o_reported\"])\n",
    "df_p.head(1).collect()"
   ]
  },
  {
   "cell_type": "code",
   "execution_count": 36,
   "metadata": {},
   "outputs": [],
   "source": [
    "def plot_sensor_measurement(df, col_name: str, filter = None):\n",
    "    if filter != None:\n",
    "        df = df.groupby_dynamic(\"datetime\", every=filter).agg(\n",
    "            [\n",
    "                pl.all().exclude([\"datetime\"]).mean(),\n",
    "            ]\n",
    "        )\n",
    "\n",
    "    fig = px.line(\n",
    "        df,\n",
    "        x=\"datetime\",\n",
    "        y=col_name,\n",
    "        markers=True,\n",
    "        title=col_name,\n",
    "    )\n",
    "    fig.show()\n",
    "    \n",
    "def process_measurement(start_date, end_date, plot=False):\n",
    "    df_p_bottle = df_p.filter(pl.col(\"datetime\").is_between(start_date, end_date)) \\\n",
    "        .collect()\n",
    "\n",
    "    data = df_p_bottle.select(pl.col(\"picarro_corrected\")).to_series().to_list()\n",
    "    data_cut = data[int(len(data)*0.3):int(len(data)*0.95)]\n",
    "\n",
    "    median = process_bottle(data_cut, ignore_len=True) \n",
    "\n",
    "    print(f\"Picarro Median Reading: {median}\")\n",
    "\n",
    "    # Plots\n",
    "    if plot:\n",
    "        plot_sensor_measurement(df_p_bottle, col_name=\"picarro_corrected\")\n",
    "        plot_sensor_measurement(df_p_bottle, col_name=\"h2o_reported\")"
   ]
  },
  {
   "cell_type": "markdown",
   "metadata": {},
   "source": [
    "# Bottles on 19.12.2023"
   ]
  },
  {
   "cell_type": "code",
   "execution_count": 37,
   "metadata": {},
   "outputs": [
    {
     "name": "stdout",
     "output_type": "stream",
     "text": [
      "Picarro Median Reading: 400.80017990568547\n"
     ]
    }
   ],
   "source": [
    "# bottle 36\n",
    "\n",
    "# PICARRO\n",
    "start_date = datetime(2023, 12, 19, 10, 39, 0).replace(tzinfo=timezone.utc)\n",
    "end_date = datetime(2023, 12, 19, 10, 51, 0).replace(tzinfo=timezone.utc)\n",
    "\n",
    "process_measurement(start_date, end_date)"
   ]
  },
  {
   "cell_type": "code",
   "execution_count": 38,
   "metadata": {},
   "outputs": [
    {
     "name": "stdout",
     "output_type": "stream",
     "text": [
      "Picarro Median Reading: 814.6825252059775\n"
     ]
    }
   ],
   "source": [
    "# bottle 38\n",
    "\n",
    "# PICARRO\n",
    "start_date = datetime(2023, 12, 19, 11, 32, 0).replace(tzinfo=timezone.utc)\n",
    "end_date = datetime(2023, 12, 19, 11, 48, 0).replace(tzinfo=timezone.utc)\n",
    "\n",
    "process_measurement(start_date, end_date)\n"
   ]
  },
  {
   "cell_type": "code",
   "execution_count": 39,
   "metadata": {},
   "outputs": [
    {
     "name": "stdout",
     "output_type": "stream",
     "text": [
      "Picarro Median Reading: 400.30408646713613\n"
     ]
    }
   ],
   "source": [
    "# bottle 21\t\t12:58\t13:09\t397,7\n",
    "\n",
    "# PICARRO\n",
    "start_date = datetime(2023, 12, 19, 11, 53, 0).replace(tzinfo=timezone.utc)\n",
    "end_date = datetime(2023, 12, 19, 12, 3, 0).replace(tzinfo=timezone.utc)\n",
    "\n",
    "process_measurement(start_date, end_date)"
   ]
  },
  {
   "cell_type": "code",
   "execution_count": 40,
   "metadata": {},
   "outputs": [
    {
     "name": "stdout",
     "output_type": "stream",
     "text": [
      "Picarro Median Reading: 391.30721247687427\n"
     ]
    }
   ],
   "source": [
    "# bottle 3\t\t13:13\t13:23\t388.8\n",
    "\n",
    "# PICARRO\n",
    "start_date = datetime(2023, 12, 19, 12, 8, 0).replace(tzinfo=timezone.utc)\n",
    "end_date = datetime(2023, 12, 19, 12, 16, 0).replace(tzinfo=timezone.utc)\n",
    "\n",
    "process_measurement(start_date, end_date)\n"
   ]
  },
  {
   "cell_type": "code",
   "execution_count": 41,
   "metadata": {},
   "outputs": [
    {
     "name": "stdout",
     "output_type": "stream",
     "text": [
      "Picarro Median Reading: 816.2053318218398\n"
     ]
    }
   ],
   "source": [
    "# bottle 12\t\t13:25\t13:35\t811,1\n",
    "\n",
    "# PICARRO\n",
    "start_date = datetime(2023, 12, 19, 12, 20, 0).replace(tzinfo=timezone.utc)\n",
    "end_date = datetime(2023, 12, 19, 12, 29, 0).replace(tzinfo=timezone.utc)\n",
    "\n",
    "process_measurement(start_date, end_date)\n"
   ]
  },
  {
   "cell_type": "code",
   "execution_count": 42,
   "metadata": {},
   "outputs": [
    {
     "name": "stdout",
     "output_type": "stream",
     "text": [
      "Picarro Median Reading: 400.61270678373626\n"
     ]
    }
   ],
   "source": [
    "# bottle 18\t\t13:36\t13:45\t398,1\n",
    "\n",
    "# PICARRO\n",
    "start_date = datetime(2023, 12, 19, 12, 32, 0).replace(tzinfo=timezone.utc)\n",
    "end_date = datetime(2023, 12, 19, 12, 39, 0).replace(tzinfo=timezone.utc)\n",
    "\n",
    "process_measurement(start_date, end_date)\n"
   ]
  },
  {
   "cell_type": "code",
   "execution_count": 43,
   "metadata": {},
   "outputs": [
    {
     "name": "stdout",
     "output_type": "stream",
     "text": [
      "Picarro Median Reading: 798.2035530591762\n"
     ]
    }
   ],
   "source": [
    "# bottle 1\t\t13:49\t13:59\t793,2\n",
    "\n",
    "# PICARRO\n",
    "start_date = datetime(2023, 12, 19, 12, 42, 0).replace(tzinfo=timezone.utc)\n",
    "end_date = datetime(2023, 12, 19, 12, 52, 0).replace(tzinfo=timezone.utc)\n",
    "\n",
    "process_measurement(start_date, end_date)"
   ]
  },
  {
   "cell_type": "code",
   "execution_count": 44,
   "metadata": {},
   "outputs": [
    {
     "name": "stdout",
     "output_type": "stream",
     "text": [
      "Picarro Median Reading: 811.0975484829518\n"
     ]
    }
   ],
   "source": [
    "# bottle 28\t\t14:01\t14:10\t806.0\n",
    "\n",
    "# PICARRO\n",
    "start_date = datetime(2023, 12, 19, 12, 55, 0).replace(tzinfo=timezone.utc)\n",
    "end_date = datetime(2023, 12, 19, 13, 4, 0).replace(tzinfo=timezone.utc)\n",
    "\n",
    "process_measurement(start_date, end_date)"
   ]
  },
  {
   "cell_type": "code",
   "execution_count": 45,
   "metadata": {},
   "outputs": [
    {
     "name": "stdout",
     "output_type": "stream",
     "text": [
      "Picarro Median Reading: 805.682778193441\n"
     ]
    }
   ],
   "source": [
    "# bottle 33\t\t14:11\t14:21\t800,7\n",
    "\n",
    "# PICARRO\n",
    "start_date = datetime(2023, 12, 19, 13, 6, 0).replace(tzinfo=timezone.utc)\n",
    "end_date = datetime(2023, 12, 19, 13, 14, 0).replace(tzinfo=timezone.utc)\n",
    "\n",
    "process_measurement(start_date, end_date)"
   ]
  },
  {
   "cell_type": "code",
   "execution_count": 46,
   "metadata": {},
   "outputs": [
    {
     "name": "stdout",
     "output_type": "stream",
     "text": [
      "Picarro Median Reading: 807.8576576567568\n"
     ]
    }
   ],
   "source": [
    "# bottle 15\t\t14:22\t14:32\t802,7\n",
    "\n",
    "# PICARRO\n",
    "start_date = datetime(2023, 12, 19, 13, 18, 0).replace(tzinfo=timezone.utc)\n",
    "end_date = datetime(2023, 12, 19, 13, 26, 0).replace(tzinfo=timezone.utc)\n",
    "\n",
    "process_measurement(start_date, end_date)"
   ]
  },
  {
   "cell_type": "code",
   "execution_count": 47,
   "metadata": {},
   "outputs": [
    {
     "name": "stdout",
     "output_type": "stream",
     "text": [
      "Picarro Median Reading: 806.8231043999862\n"
     ]
    }
   ],
   "source": [
    "# bottle 24\t\t15:09\t15:20\t801,8\n",
    "\n",
    "# PICARRO\n",
    "start_date = datetime(2023, 12, 19, 14, 3, 0).replace(tzinfo=timezone.utc)\n",
    "end_date = datetime(2023, 12, 19, 14, 13, 0).replace(tzinfo=timezone.utc)\n",
    "\n",
    "process_measurement(start_date, end_date)"
   ]
  },
  {
   "cell_type": "code",
   "execution_count": 48,
   "metadata": {},
   "outputs": [
    {
     "name": "stdout",
     "output_type": "stream",
     "text": [
      "Picarro Median Reading: 407.04727223703986\n"
     ]
    }
   ],
   "source": [
    "# bottle 5\t\t15:22\t15:32\t404,4\n",
    "\n",
    "# PICARRO\n",
    "start_date = datetime(2023, 12, 19, 14, 17, 0).replace(tzinfo=timezone.utc)\n",
    "end_date = datetime(2023, 12, 19, 14, 26, 0).replace(tzinfo=timezone.utc)\n",
    "\n",
    "process_measurement(start_date, end_date)"
   ]
  },
  {
   "cell_type": "code",
   "execution_count": 49,
   "metadata": {},
   "outputs": [
    {
     "name": "stdout",
     "output_type": "stream",
     "text": [
      "Picarro Median Reading: 413.35782151085607\n"
     ]
    }
   ],
   "source": [
    "# bottle 8\t\t15:33\t15:43\t410,7\n",
    "\n",
    "# PICARRO\n",
    "start_date = datetime(2023, 12, 19, 14, 28, 0).replace(tzinfo=timezone.utc)\n",
    "end_date = datetime(2023, 12, 19, 14, 37, 0).replace(tzinfo=timezone.utc)\n",
    "\n",
    "process_measurement(start_date, end_date)"
   ]
  },
  {
   "cell_type": "code",
   "execution_count": 50,
   "metadata": {},
   "outputs": [
    {
     "name": "stdout",
     "output_type": "stream",
     "text": [
      "Picarro Median Reading: 390.4862171491995\n"
     ]
    }
   ],
   "source": [
    "# bottle 23\t\t15:44\t15:54\t388.0\n",
    "\n",
    "# PICARRO\n",
    "start_date = datetime(2023, 12, 19, 14, 39, 0).replace(tzinfo=timezone.utc)\n",
    "end_date = datetime(2023, 12, 19, 14, 47, 0).replace(tzinfo=timezone.utc)\n",
    "\n",
    "process_measurement(start_date, end_date)"
   ]
  }
 ],
 "metadata": {
  "kernelspec": {
   "display_name": ".venv",
   "language": "python",
   "name": "python3"
  },
  "language_info": {
   "codemirror_mode": {
    "name": "ipython",
    "version": 3
   },
   "file_extension": ".py",
   "mimetype": "text/x-python",
   "name": "python",
   "nbconvert_exporter": "python",
   "pygments_lexer": "ipython3",
   "version": "3.12.9"
  }
 },
 "nbformat": 4,
 "nbformat_minor": 2
}
