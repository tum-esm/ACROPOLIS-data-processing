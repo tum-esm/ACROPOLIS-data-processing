{
 "cells": [
  {
   "cell_type": "code",
   "execution_count": 10,
   "metadata": {},
   "outputs": [],
   "source": [
    "from datetime import datetime\n",
    "from datetime import timezone\n",
    "\n",
    "\n",
    "start_date = datetime(2023, 8, 8, 0, 0, 0).replace(tzinfo=timezone.utc)\n",
    "end_date = datetime(2023, 8, 9, 23, 59, 59).replace(tzinfo=timezone.utc)"
   ]
  },
  {
   "cell_type": "code",
   "execution_count": 11,
   "metadata": {},
   "outputs": [],
   "source": [
    "import polars as pl\n",
    "import os\n",
    "import json\n",
    "\n",
    "data = {\"date\": [],\n",
    "        \"system name\": [],\n",
    "        \"variant\": [],\n",
    "        \"CO2_raw\": [],\n",
    "        \"CO2_compensated\": [],\n",
    "        \"CO2_filtered\": [],\n",
    "        \"sht45_humidity\": [],\n",
    "        \"bme280_humidity\": [],\n",
    "        \"bme280_pressure\": [],\n",
    "        \"sht45_temperature\": [],\n",
    "        \"bme280_temperature\": [],\n",
    "        \"chamber_temperature\": [],\n",
    "        \"gas_bottle_id\": []}"
   ]
  },
  {
   "cell_type": "code",
   "execution_count": 12,
   "metadata": {},
   "outputs": [
    {
     "data": {
      "text/html": [
       "<div><style>\n",
       ".dataframe > thead > tr > th,\n",
       ".dataframe > tbody > tr > td {\n",
       "  text-align: right;\n",
       "}\n",
       "</style>\n",
       "<small>shape: (5, 2)</small><table border=\"1\" class=\"dataframe\"><thead><tr><th>Bottle_ID</th><th>CO2_dry</th></tr><tr><td>i64</td><td>f64</td></tr></thead><tbody><tr><td>1</td><td>798.115438</td></tr><tr><td>2</td><td>807.238809</td></tr><tr><td>3</td><td>391.345476</td></tr><tr><td>4</td><td>399.530674</td></tr><tr><td>5</td><td>416.594961</td></tr></tbody></table></div>"
      ],
      "text/plain": [
       "shape: (5, 2)\n",
       "┌───────────┬────────────┐\n",
       "│ Bottle_ID ┆ CO2_dry    │\n",
       "│ ---       ┆ ---        │\n",
       "│ i64       ┆ f64        │\n",
       "╞═══════════╪════════════╡\n",
       "│ 1         ┆ 798.115438 │\n",
       "│ 2         ┆ 807.238809 │\n",
       "│ 3         ┆ 391.345476 │\n",
       "│ 4         ┆ 399.530674 │\n",
       "│ 5         ┆ 416.594961 │\n",
       "└───────────┴────────────┘"
      ]
     },
     "execution_count": 12,
     "metadata": {},
     "output_type": "execute_result"
    }
   ],
   "source": [
    "df = pl.read_csv(\"../data/averaged_gases.csv\")\n",
    "df.head()"
   ]
  },
  {
   "cell_type": "code",
   "execution_count": 13,
   "metadata": {},
   "outputs": [],
   "source": [
    "quickflow_directory = \"/Users/patrickaigner/Documents/PROJECTS/ACROPOLIS/Software/quickflow/notebooks/acropolis/\"\n",
    "df_quickflow = pl.scan_parquet(os.path.join(quickflow_directory, \"measurements.parquet\")) "
   ]
  },
  {
   "cell_type": "code",
   "execution_count": 15,
   "metadata": {},
   "outputs": [
    {
     "data": {
      "text/html": [
       "<div><style>\n",
       ".dataframe > thead > tr > th,\n",
       ".dataframe > tbody > tr > td {\n",
       "  text-align: right;\n",
       "}\n",
       "</style>\n",
       "<small>shape: (5, 13)</small><table border=\"1\" class=\"dataframe\"><thead><tr><th>date</th><th>system name</th><th>variant</th><th>CO2_raw</th><th>CO2_compensated</th><th>CO2_filtered</th><th>sht45_humidity</th><th>bme280_humidity</th><th>bme280_pressure</th><th>sht45_temperature</th><th>bme280_temperature</th><th>chamber_temperature</th><th>gas_bottle_id</th></tr><tr><td>datetime[μs, UTC]</td><td>str</td><td>str</td><td>f64</td><td>f64</td><td>f64</td><td>f64</td><td>f64</td><td>f64</td><td>f64</td><td>f64</td><td>f64</td><td>str</td></tr></thead><tbody><tr><td>2023-08-08 09:08:51.550 UTC</td><td>&quot;tum-esm-midcos…</td><td>&quot;calibration&quot;</td><td>0.0</td><td>0.0</td><td>0.0</td><td>45.49</td><td>44.92</td><td>940.85</td><td>19.4</td><td>18.76</td><td>18.8</td><td>&quot;40&quot;</td></tr><tr><td>2023-08-08 09:09:01.570 UTC</td><td>&quot;tum-esm-midcos…</td><td>&quot;calibration&quot;</td><td>417.9</td><td>446.4</td><td>446.4</td><td>44.3</td><td>42.01</td><td>950.21</td><td>19.4</td><td>18.77</td><td>18.8</td><td>&quot;40&quot;</td></tr><tr><td>2023-08-08 09:09:11.580 UTC</td><td>&quot;tum-esm-midcos…</td><td>&quot;calibration&quot;</td><td>500.2</td><td>528.9</td><td>528.9</td><td>39.5</td><td>36.77</td><td>950.9</td><td>19.4</td><td>18.77</td><td>18.8</td><td>&quot;40&quot;</td></tr><tr><td>2023-08-08 09:09:21.590 UTC</td><td>&quot;tum-esm-midcos…</td><td>&quot;calibration&quot;</td><td>531.1</td><td>561.6</td><td>561.6</td><td>37.21</td><td>34.11</td><td>950.04</td><td>19.42</td><td>18.79</td><td>18.8</td><td>&quot;40&quot;</td></tr><tr><td>2023-08-08 09:09:31.590 UTC</td><td>&quot;tum-esm-midcos…</td><td>&quot;calibration&quot;</td><td>545.2</td><td>577.5</td><td>577.5</td><td>35.99</td><td>32.57</td><td>951.24</td><td>19.43</td><td>18.78</td><td>18.8</td><td>&quot;40&quot;</td></tr></tbody></table></div>"
      ],
      "text/plain": [
       "shape: (5, 13)\n",
       "┌──────────┬───────────┬─────────┬─────────┬───┬────────────┬────────────┬────────────┬────────────┐\n",
       "│ date     ┆ system    ┆ variant ┆ CO2_raw ┆ … ┆ sht45_temp ┆ bme280_tem ┆ chamber_te ┆ gas_bottle │\n",
       "│ ---      ┆ name      ┆ ---     ┆ ---     ┆   ┆ erature    ┆ perature   ┆ mperature  ┆ _id        │\n",
       "│ datetime ┆ ---       ┆ str     ┆ f64     ┆   ┆ ---        ┆ ---        ┆ ---        ┆ ---        │\n",
       "│ [μs,     ┆ str       ┆         ┆         ┆   ┆ f64        ┆ f64        ┆ f64        ┆ str        │\n",
       "│ UTC]     ┆           ┆         ┆         ┆   ┆            ┆            ┆            ┆            │\n",
       "╞══════════╪═══════════╪═════════╪═════════╪═══╪════════════╪════════════╪════════════╪════════════╡\n",
       "│ 2023-08- ┆ tum-esm-m ┆ calibra ┆ 0.0     ┆ … ┆ 19.4       ┆ 18.76      ┆ 18.8       ┆ 40         │\n",
       "│ 08 09:08 ┆ idcost-ra ┆ tion    ┆         ┆   ┆            ┆            ┆            ┆            │\n",
       "│ :51.550  ┆ spi-4     ┆         ┆         ┆   ┆            ┆            ┆            ┆            │\n",
       "│ UTC      ┆           ┆         ┆         ┆   ┆            ┆            ┆            ┆            │\n",
       "│ 2023-08- ┆ tum-esm-m ┆ calibra ┆ 417.9   ┆ … ┆ 19.4       ┆ 18.77      ┆ 18.8       ┆ 40         │\n",
       "│ 08 09:09 ┆ idcost-ra ┆ tion    ┆         ┆   ┆            ┆            ┆            ┆            │\n",
       "│ :01.570  ┆ spi-4     ┆         ┆         ┆   ┆            ┆            ┆            ┆            │\n",
       "│ UTC      ┆           ┆         ┆         ┆   ┆            ┆            ┆            ┆            │\n",
       "│ 2023-08- ┆ tum-esm-m ┆ calibra ┆ 500.2   ┆ … ┆ 19.4       ┆ 18.77      ┆ 18.8       ┆ 40         │\n",
       "│ 08 09:09 ┆ idcost-ra ┆ tion    ┆         ┆   ┆            ┆            ┆            ┆            │\n",
       "│ :11.580  ┆ spi-4     ┆         ┆         ┆   ┆            ┆            ┆            ┆            │\n",
       "│ UTC      ┆           ┆         ┆         ┆   ┆            ┆            ┆            ┆            │\n",
       "│ 2023-08- ┆ tum-esm-m ┆ calibra ┆ 531.1   ┆ … ┆ 19.42      ┆ 18.79      ┆ 18.8       ┆ 40         │\n",
       "│ 08 09:09 ┆ idcost-ra ┆ tion    ┆         ┆   ┆            ┆            ┆            ┆            │\n",
       "│ :21.590  ┆ spi-4     ┆         ┆         ┆   ┆            ┆            ┆            ┆            │\n",
       "│ UTC      ┆           ┆         ┆         ┆   ┆            ┆            ┆            ┆            │\n",
       "│ 2023-08- ┆ tum-esm-m ┆ calibra ┆ 545.2   ┆ … ┆ 19.43      ┆ 18.78      ┆ 18.8       ┆ 40         │\n",
       "│ 08 09:09 ┆ idcost-ra ┆ tion    ┆         ┆   ┆            ┆            ┆            ┆            │\n",
       "│ :31.590  ┆ spi-4     ┆         ┆         ┆   ┆            ┆            ┆            ┆            │\n",
       "│ UTC      ┆           ┆         ┆         ┆   ┆            ┆            ┆            ┆            │\n",
       "└──────────┴───────────┴─────────┴─────────┴───┴────────────┴────────────┴────────────┴────────────┘"
      ]
     },
     "execution_count": 15,
     "metadata": {},
     "output_type": "execute_result"
    }
   ],
   "source": [
    "# loop through the quickflow dataset and sort it into dataframe\n",
    "df_q = df_quickflow.select(pl.col(\"creation_timestamp\",\"sensor_name\",\"value\")).sort(\"creation_timestamp\").filter(pl.col(\"creation_timestamp\").is_between(start_date, end_date)).collect()\n",
    "\n",
    "for payload in df_q.iter_rows():\n",
    "    creation_timestamp = payload[0]\n",
    "    sensor_name = payload[1]\n",
    "    entry = json.loads(payload[2])\n",
    "    \n",
    "    if entry[\"variant\"] == \"calibration\":\n",
    "        # base\n",
    "        data[\"date\"].append(creation_timestamp)\n",
    "        data[\"system name\"].append(sensor_name)\n",
    "        data[\"variant\"].append(entry[\"variant\"])\n",
    "        #variant measurement & calibrtion\n",
    "        data[\"CO2_raw\"].append(entry[\"data\"][\"raw\"])\n",
    "        data[\"CO2_compensated\"].append(entry[\"data\"][\"compensated\"])\n",
    "        data[\"CO2_filtered\"].append(entry[\"data\"][\"compensated\"])\n",
    "        data[\"sht45_humidity\"].append(entry[\"data\"][\"sht45_humidity\"])\n",
    "        data[\"bme280_humidity\"].append(entry[\"data\"][\"bme280_humidity\"])\n",
    "        data[\"bme280_pressure\"].append(entry[\"data\"][\"bme280_pressure\"])\n",
    "        data[\"sht45_temperature\"].append(entry[\"data\"][\"sht45_temperature\"])\n",
    "        data[\"bme280_temperature\"].append(entry[\"data\"][\"bme280_temperature\"])\n",
    "        data[\"chamber_temperature\"].append(entry[\"data\"][\"chamber_temperature\"])\n",
    "        if entry[\"variant\"] == \"calibration\":\n",
    "                data[\"gas_bottle_id\"].append(entry[\"data\"][\"gas_bottle_id\"])\n",
    "        else:\n",
    "                data[\"gas_bottle_id\"].append(None)\n",
    "        \n",
    "df = pl.DataFrame(data)\n",
    "df.head()    "
   ]
  }
 ],
 "metadata": {
  "kernelspec": {
   "display_name": ".venv",
   "language": "python",
   "name": "python3"
  },
  "language_info": {
   "codemirror_mode": {
    "name": "ipython",
    "version": 3
   },
   "file_extension": ".py",
   "mimetype": "text/x-python",
   "name": "python",
   "nbconvert_exporter": "python",
   "pygments_lexer": "ipython3",
   "version": "3.11.4"
  },
  "orig_nbformat": 4
 },
 "nbformat": 4,
 "nbformat_minor": 2
}
