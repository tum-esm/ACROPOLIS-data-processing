{
 "cells": [
  {
   "cell_type": "code",
   "execution_count": 96,
   "metadata": {},
   "outputs": [],
   "source": [
    "import polars as pl\n",
    "import pandas as pd\n",
    "import os\n",
    "import json\n",
    "import seaborn as sns\n",
    "import matplotlib.pyplot as plt\n",
    "import matplotlib.dates as mdates\n",
    "from datetime import datetime\n",
    "from datetime import timezone\n",
    "\n",
    "start_date = datetime(2023, 7, 30, 0, 0, 0).replace(tzinfo=timezone.utc)\n",
    "end_date = datetime(2023, 7, 30, 23, 59, 59).replace(tzinfo=timezone.utc)\n",
    "\n",
    "data = {\"date\": [],\n",
    "        \"system name\": [],\n",
    "        \"variant\": [],\n",
    "        \"CO2_raw\": [],\n",
    "        \"CO2_compensated\": [],\n",
    "        \"CO2_filtered\": [],\n",
    "        \"sht45_humidity\": [],\n",
    "        \"bme280_humidity\": [],\n",
    "        \"bme280_pressure\": [],\n",
    "        \"sht45_temperature\": [],\n",
    "        \"bme280_temperature\": [],\n",
    "        \"chamber_temperature\": [],\n",
    "        \"gas_bottle_id\": []}"
   ]
  },
  {
   "cell_type": "code",
   "execution_count": 97,
   "metadata": {},
   "outputs": [
    {
     "data": {
      "text/html": [
       "<div><style>\n",
       ".dataframe > thead > tr > th,\n",
       ".dataframe > tbody > tr > td {\n",
       "  text-align: right;\n",
       "}\n",
       "</style>\n",
       "<small>shape: (40, 2)</small><table border=\"1\" class=\"dataframe\"><thead><tr><th>Bottle_ID</th><th>CO2_dry</th></tr><tr><td>i64</td><td>f64</td></tr></thead><tbody><tr><td>1</td><td>798.115438</td></tr><tr><td>2</td><td>807.238809</td></tr><tr><td>3</td><td>391.345476</td></tr><tr><td>4</td><td>399.530674</td></tr><tr><td>5</td><td>416.594961</td></tr><tr><td>6</td><td>401.541294</td></tr><tr><td>7</td><td>403.088251</td></tr><tr><td>8</td><td>417.417491</td></tr><tr><td>9</td><td>805.549024</td></tr><tr><td>10</td><td>804.593078</td></tr><tr><td>11</td><td>400.268968</td></tr><tr><td>12</td><td>816.272385</td></tr><tr><td>&hellip;</td><td>&hellip;</td></tr><tr><td>29</td><td>805.956972</td></tr><tr><td>30</td><td>400.67102</td></tr><tr><td>31</td><td>806.691764</td></tr><tr><td>32</td><td>805.264601</td></tr><tr><td>33</td><td>806.739161</td></tr><tr><td>34</td><td>805.728469</td></tr><tr><td>35</td><td>808.305509</td></tr><tr><td>36</td><td>406.531496</td></tr><tr><td>37</td><td>802.196432</td></tr><tr><td>38</td><td>814.66555</td></tr><tr><td>39</td><td>816.252165</td></tr><tr><td>40</td><td>802.708357</td></tr></tbody></table></div>"
      ],
      "text/plain": [
       "shape: (40, 2)\n",
       "┌───────────┬────────────┐\n",
       "│ Bottle_ID ┆ CO2_dry    │\n",
       "│ ---       ┆ ---        │\n",
       "│ i64       ┆ f64        │\n",
       "╞═══════════╪════════════╡\n",
       "│ 1         ┆ 798.115438 │\n",
       "│ 2         ┆ 807.238809 │\n",
       "│ 3         ┆ 391.345476 │\n",
       "│ 4         ┆ 399.530674 │\n",
       "│ …         ┆ …          │\n",
       "│ 37        ┆ 802.196432 │\n",
       "│ 38        ┆ 814.66555  │\n",
       "│ 39        ┆ 816.252165 │\n",
       "│ 40        ┆ 802.708357 │\n",
       "└───────────┴────────────┘"
      ]
     },
     "execution_count": 97,
     "metadata": {},
     "output_type": "execute_result"
    }
   ],
   "source": [
    "df_gas = pl.read_csv(\"../data/averaged_gases.csv\")\n",
    "df_gas"
   ]
  },
  {
   "cell_type": "code",
   "execution_count": 98,
   "metadata": {},
   "outputs": [],
   "source": [
    "quickflow_directory = \"/Users/patrickaigner/Documents/PROJECTS/ACROPOLIS/Software/quickflow/notebooks/acropolis/\"\n",
    "df_quickflow = pl.scan_parquet(os.path.join(quickflow_directory, \"measurements.parquet\")) "
   ]
  },
  {
   "cell_type": "code",
   "execution_count": 99,
   "metadata": {},
   "outputs": [
    {
     "data": {
      "text/html": [
       "<div><style>\n",
       ".dataframe > thead > tr > th,\n",
       ".dataframe > tbody > tr > td {\n",
       "  text-align: right;\n",
       "}\n",
       "</style>\n",
       "<small>shape: (5, 13)</small><table border=\"1\" class=\"dataframe\"><thead><tr><th>date</th><th>system name</th><th>variant</th><th>CO2_raw</th><th>CO2_compensated</th><th>CO2_filtered</th><th>sht45_humidity</th><th>bme280_humidity</th><th>bme280_pressure</th><th>sht45_temperature</th><th>bme280_temperature</th><th>chamber_temperature</th><th>gas_bottle_id</th></tr><tr><td>datetime[μs, UTC]</td><td>str</td><td>str</td><td>f64</td><td>f64</td><td>f64</td><td>f64</td><td>f64</td><td>f64</td><td>f64</td><td>f64</td><td>f64</td><td>str</td></tr></thead><tbody><tr><td>2023-07-30 00:00:00.370 UTC</td><td>&quot;tum-esm-midcos…</td><td>&quot;measurement&quot;</td><td>362.7</td><td>396.2</td><td>396.2</td><td>58.55</td><td>58.06</td><td>941.73</td><td>22.5</td><td>22.24</td><td>23.8</td><td>null</td></tr><tr><td>2023-07-30 00:00:00.860 UTC</td><td>&quot;tum-esm-midcos…</td><td>&quot;measurement&quot;</td><td>386.9</td><td>421.0</td><td>421.0</td><td>63.73</td><td>62.99</td><td>943.17</td><td>21.97</td><td>21.66</td><td>23.8</td><td>null</td></tr><tr><td>2023-07-30 00:00:02.270 UTC</td><td>&quot;tum-esm-midcos…</td><td>&quot;measurement&quot;</td><td>393.1</td><td>432.0</td><td>432.0</td><td>57.33</td><td>55.18</td><td>933.06</td><td>22.37</td><td>22.23</td><td>23.9</td><td>null</td></tr><tr><td>2023-07-30 00:00:03.400 UTC</td><td>&quot;tum-esm-midcos…</td><td>&quot;measurement&quot;</td><td>389.3</td><td>425.9</td><td>425.9</td><td>59.07</td><td>60.43</td><td>931.05</td><td>22.11</td><td>22.01</td><td>23.3</td><td>null</td></tr><tr><td>2023-07-30 00:00:04.220 UTC</td><td>&quot;tum-esm-midcos…</td><td>&quot;measurement&quot;</td><td>394.1</td><td>430.1</td><td>430.1</td><td>58.26</td><td>58.03</td><td>938.66</td><td>22.16</td><td>21.44</td><td>23.5</td><td>null</td></tr></tbody></table></div>"
      ],
      "text/plain": [
       "shape: (5, 13)\n",
       "┌──────────┬───────────┬─────────┬─────────┬───┬────────────┬────────────┬────────────┬────────────┐\n",
       "│ date     ┆ system    ┆ variant ┆ CO2_raw ┆ … ┆ sht45_temp ┆ bme280_tem ┆ chamber_te ┆ gas_bottle │\n",
       "│ ---      ┆ name      ┆ ---     ┆ ---     ┆   ┆ erature    ┆ perature   ┆ mperature  ┆ _id        │\n",
       "│ datetime ┆ ---       ┆ str     ┆ f64     ┆   ┆ ---        ┆ ---        ┆ ---        ┆ ---        │\n",
       "│ [μs,     ┆ str       ┆         ┆         ┆   ┆ f64        ┆ f64        ┆ f64        ┆ str        │\n",
       "│ UTC]     ┆           ┆         ┆         ┆   ┆            ┆            ┆            ┆            │\n",
       "╞══════════╪═══════════╪═════════╪═════════╪═══╪════════════╪════════════╪════════════╪════════════╡\n",
       "│ 2023-07- ┆ tum-esm-m ┆ measure ┆ 362.7   ┆ … ┆ 22.5       ┆ 22.24      ┆ 23.8       ┆ null       │\n",
       "│ 30 00:00 ┆ idcost-ra ┆ ment    ┆         ┆   ┆            ┆            ┆            ┆            │\n",
       "│ :00.370  ┆ spi-6     ┆         ┆         ┆   ┆            ┆            ┆            ┆            │\n",
       "│ UTC      ┆           ┆         ┆         ┆   ┆            ┆            ┆            ┆            │\n",
       "│ 2023-07- ┆ tum-esm-m ┆ measure ┆ 386.9   ┆ … ┆ 21.97      ┆ 21.66      ┆ 23.8       ┆ null       │\n",
       "│ 30 00:00 ┆ idcost-ra ┆ ment    ┆         ┆   ┆            ┆            ┆            ┆            │\n",
       "│ :00.860  ┆ spi-3     ┆         ┆         ┆   ┆            ┆            ┆            ┆            │\n",
       "│ UTC      ┆           ┆         ┆         ┆   ┆            ┆            ┆            ┆            │\n",
       "│ 2023-07- ┆ tum-esm-m ┆ measure ┆ 393.1   ┆ … ┆ 22.37      ┆ 22.23      ┆ 23.9       ┆ null       │\n",
       "│ 30 00:00 ┆ idcost-ra ┆ ment    ┆         ┆   ┆            ┆            ┆            ┆            │\n",
       "│ :02.270  ┆ spi-1     ┆         ┆         ┆   ┆            ┆            ┆            ┆            │\n",
       "│ UTC      ┆           ┆         ┆         ┆   ┆            ┆            ┆            ┆            │\n",
       "│ 2023-07- ┆ tum-esm-m ┆ measure ┆ 389.3   ┆ … ┆ 22.11      ┆ 22.01      ┆ 23.3       ┆ null       │\n",
       "│ 30 00:00 ┆ idcost-ra ┆ ment    ┆         ┆   ┆            ┆            ┆            ┆            │\n",
       "│ :03.400  ┆ spi-11    ┆         ┆         ┆   ┆            ┆            ┆            ┆            │\n",
       "│ UTC      ┆           ┆         ┆         ┆   ┆            ┆            ┆            ┆            │\n",
       "│ 2023-07- ┆ tum-esm-m ┆ measure ┆ 394.1   ┆ … ┆ 22.16      ┆ 21.44      ┆ 23.5       ┆ null       │\n",
       "│ 30 00:00 ┆ idcost-ra ┆ ment    ┆         ┆   ┆            ┆            ┆            ┆            │\n",
       "│ :04.220  ┆ spi-10    ┆         ┆         ┆   ┆            ┆            ┆            ┆            │\n",
       "│ UTC      ┆           ┆         ┆         ┆   ┆            ┆            ┆            ┆            │\n",
       "└──────────┴───────────┴─────────┴─────────┴───┴────────────┴────────────┴────────────┴────────────┘"
      ]
     },
     "execution_count": 99,
     "metadata": {},
     "output_type": "execute_result"
    }
   ],
   "source": [
    "# loop through the quickflow dataset and sort it into dataframe\n",
    "df_q = df_quickflow.select(pl.col(\"creation_timestamp\",\"sensor_name\",\"value\")).sort(\"creation_timestamp\").filter(pl.col(\"creation_timestamp\").is_between(start_date, end_date)).collect()\n",
    "\n",
    "for payload in df_q.iter_rows():\n",
    "    creation_timestamp = payload[0]\n",
    "    sensor_name = payload[1]\n",
    "    entry = json.loads(payload[2])\n",
    "    \n",
    "    if entry[\"variant\"] in (\"measurement\",\"calibration\"):\n",
    "        # base\n",
    "        data[\"date\"].append(creation_timestamp)\n",
    "        data[\"system name\"].append(sensor_name)\n",
    "        data[\"variant\"].append(entry[\"variant\"])\n",
    "        #variant measurement & calibrtion\n",
    "        data[\"CO2_raw\"].append(entry[\"data\"][\"raw\"])\n",
    "        data[\"CO2_compensated\"].append(entry[\"data\"][\"compensated\"])\n",
    "        data[\"CO2_filtered\"].append(entry[\"data\"][\"compensated\"])\n",
    "        data[\"sht45_humidity\"].append(entry[\"data\"][\"sht45_humidity\"])\n",
    "        data[\"bme280_humidity\"].append(entry[\"data\"][\"bme280_humidity\"])\n",
    "        data[\"bme280_pressure\"].append(entry[\"data\"][\"bme280_pressure\"])\n",
    "        data[\"sht45_temperature\"].append(entry[\"data\"][\"sht45_temperature\"])\n",
    "        data[\"bme280_temperature\"].append(entry[\"data\"][\"bme280_temperature\"])\n",
    "        data[\"chamber_temperature\"].append(entry[\"data\"][\"chamber_temperature\"])\n",
    "        if entry[\"variant\"] == \"calibration\":\n",
    "                data[\"gas_bottle_id\"].append(entry[\"data\"][\"gas_bottle_id\"])\n",
    "        else:\n",
    "                data[\"gas_bottle_id\"].append(None)\n",
    "        \n",
    "df = pl.DataFrame(data)\n",
    "df.head()    "
   ]
  },
  {
   "cell_type": "code",
   "execution_count": 100,
   "metadata": {},
   "outputs": [
    {
     "name": "stdout",
     "output_type": "stream",
     "text": [
      "410.4703703703706\n",
      "808.1648648648649\n"
     ]
    },
    {
     "data": {
      "text/plain": [
       "<Axes: xlabel='date', ylabel='CO2_compensated'>"
      ]
     },
     "execution_count": 100,
     "metadata": {},
     "output_type": "execute_result"
    },
    {
     "data": {
      "image/png": "[encoded data removed]",
      "text/plain": [
       "<Figure size 640x480 with 1 Axes>"
      ]
     },
     "metadata": {},
     "output_type": "display_data"
    }
   ],
   "source": [
    "# System 1 has bottles 6 & 2\n",
    "\n",
    "bottles_meas = []\n",
    "\n",
    "df_f = df.filter(pl.col(\"gas_bottle_id\") == \"6\").filter(pl.col(\"CO2_compensated\") > 0)\n",
    "avg = df_f[\"CO2_compensated\"][(int(len(df_f)*0.5)):(int(len(df_f)*0.95))].mean()\n",
    "bottles_meas.append(avg)\n",
    "print(avg)\n",
    "\n",
    "sns.lineplot(data=df_f,x='date',y=\"CO2_compensated\")\n",
    "\n",
    "df_f = df.filter(pl.col(\"gas_bottle_id\") == \"2\").filter(pl.col(\"CO2_compensated\") > 0)\n",
    "avg = df_f[\"CO2_compensated\"][(int(len(df_f)*0.3)):(int(len(df_f)*0.95))].mean()\n",
    "bottles_meas.append(avg)\n",
    "print(avg)\n",
    "sns.lineplot(data=df_f,x='date',y=\"CO2_compensated\")"
   ]
  },
  {
   "cell_type": "code",
   "execution_count": 101,
   "metadata": {},
   "outputs": [],
   "source": [
    "def two_point_calibration(measured_values, true_values):\n",
    "    # Check if input lists have length 2\n",
    "    if len(measured_values) != 2 or len(true_values) != 2:\n",
    "        raise ValueError(\"Both measured_values and true_values must have length 2\")\n",
    "\n",
    "    # Calculate calibration parameters (slope and intercept)\n",
    "    slope = (true_values[1] - true_values[0]) / (measured_values[1] - measured_values[0])\n",
    "    intercept = true_values[0] - slope * measured_values[0]\n",
    "\n",
    "    return slope, intercept"
   ]
  },
  {
   "cell_type": "code",
   "execution_count": 188,
   "metadata": {},
   "outputs": [
    {
     "name": "stdout",
     "output_type": "stream",
     "text": [
      "1.0201235376856512 -17.189192149753637\n"
     ]
    }
   ],
   "source": [
    "bottle_true = [df_gas.filter(pl.col(\"Bottle_ID\")== 6)[\"CO2_dry\"][0],df_gas.filter(pl.col(\"Bottle_ID\")== 2)[\"CO2_dry\"][0]]\n",
    "\n",
    "slope, intercept = two_point_calibration(bottles_meas, bottle_true)\n",
    "print(slope, intercept)\n"
   ]
  },
  {
   "cell_type": "code",
   "execution_count": 191,
   "metadata": {},
   "outputs": [
    {
     "data": {
      "text/html": [
       "<div><style>\n",
       ".dataframe > thead > tr > th,\n",
       ".dataframe > tbody > tr > td {\n",
       "  text-align: right;\n",
       "}\n",
       "</style>\n",
       "<small>shape: (5, 13)</small><table border=\"1\" class=\"dataframe\"><thead><tr><th>date</th><th>system name</th><th>variant</th><th>CO2_raw</th><th>CO2_compensated</th><th>CO2_filtered</th><th>sht45_humidity</th><th>bme280_humidity</th><th>bme280_pressure</th><th>sht45_temperature</th><th>bme280_temperature</th><th>chamber_temperature</th><th>gas_bottle_id</th></tr><tr><td>datetime[μs, UTC]</td><td>str</td><td>str</td><td>f64</td><td>f64</td><td>f64</td><td>f64</td><td>f64</td><td>f64</td><td>f64</td><td>f64</td><td>f64</td><td>str</td></tr></thead><tbody><tr><td>2023-07-30 23:10:00 UTC</td><td>null</td><td>null</td><td>373.835088</td><td>417.204494</td><td>400.354386</td><td>49.624386</td><td>48.880702</td><td>948.867895</td><td>20.714386</td><td>20.64807</td><td>22.540351</td><td>null</td></tr><tr><td>2023-07-30 23:20:00 UTC</td><td>null</td><td>null</td><td>374.411667</td><td>417.853442</td><td>401.003333</td><td>49.657667</td><td>48.9035</td><td>948.882833</td><td>20.640167</td><td>20.571333</td><td>22.441667</td><td>null</td></tr><tr><td>2023-07-30 23:30:00 UTC</td><td>null</td><td>null</td><td>377.836667</td><td>421.253442</td><td>404.403333</td><td>50.824167</td><td>50.01</td><td>948.939</td><td>20.5645</td><td>20.498333</td><td>22.396667</td><td>null</td></tr><tr><td>2023-07-30 23:40:00 UTC</td><td>null</td><td>null</td><td>380.551667</td><td>424.091775</td><td>407.241667</td><td>51.938667</td><td>51.096</td><td>948.988</td><td>20.484</td><td>20.419833</td><td>22.321667</td><td>null</td></tr><tr><td>2023-07-30 23:50:00 UTC</td><td>null</td><td>null</td><td>378.973684</td><td>422.241336</td><td>405.391228</td><td>52.109649</td><td>51.272105</td><td>948.671053</td><td>20.404561</td><td>20.333684</td><td>22.214035</td><td>null</td></tr></tbody></table></div>"
      ],
      "text/plain": [
       "shape: (5, 13)\n",
       "┌──────────┬───────────┬─────────┬─────────┬───┬────────────┬────────────┬────────────┬────────────┐\n",
       "│ date     ┆ system    ┆ variant ┆ CO2_raw ┆ … ┆ sht45_temp ┆ bme280_tem ┆ chamber_te ┆ gas_bottle │\n",
       "│ ---      ┆ name      ┆ ---     ┆ ---     ┆   ┆ erature    ┆ perature   ┆ mperature  ┆ _id        │\n",
       "│ datetime ┆ ---       ┆ str     ┆ f64     ┆   ┆ ---        ┆ ---        ┆ ---        ┆ ---        │\n",
       "│ [μs,     ┆ str       ┆         ┆         ┆   ┆ f64        ┆ f64        ┆ f64        ┆ str        │\n",
       "│ UTC]     ┆           ┆         ┆         ┆   ┆            ┆            ┆            ┆            │\n",
       "╞══════════╪═══════════╪═════════╪═════════╪═══╪════════════╪════════════╪════════════╪════════════╡\n",
       "│ 2023-07- ┆ null      ┆ null    ┆ 373.835 ┆ … ┆ 20.714386  ┆ 20.64807   ┆ 22.540351  ┆ null       │\n",
       "│ 30       ┆           ┆         ┆ 088     ┆   ┆            ┆            ┆            ┆            │\n",
       "│ 23:10:00 ┆           ┆         ┆         ┆   ┆            ┆            ┆            ┆            │\n",
       "│ UTC      ┆           ┆         ┆         ┆   ┆            ┆            ┆            ┆            │\n",
       "│ 2023-07- ┆ null      ┆ null    ┆ 374.411 ┆ … ┆ 20.640167  ┆ 20.571333  ┆ 22.441667  ┆ null       │\n",
       "│ 30       ┆           ┆         ┆ 667     ┆   ┆            ┆            ┆            ┆            │\n",
       "│ 23:20:00 ┆           ┆         ┆         ┆   ┆            ┆            ┆            ┆            │\n",
       "│ UTC      ┆           ┆         ┆         ┆   ┆            ┆            ┆            ┆            │\n",
       "│ 2023-07- ┆ null      ┆ null    ┆ 377.836 ┆ … ┆ 20.5645    ┆ 20.498333  ┆ 22.396667  ┆ null       │\n",
       "│ 30       ┆           ┆         ┆ 667     ┆   ┆            ┆            ┆            ┆            │\n",
       "│ 23:30:00 ┆           ┆         ┆         ┆   ┆            ┆            ┆            ┆            │\n",
       "│ UTC      ┆           ┆         ┆         ┆   ┆            ┆            ┆            ┆            │\n",
       "│ 2023-07- ┆ null      ┆ null    ┆ 380.551 ┆ … ┆ 20.484     ┆ 20.419833  ┆ 22.321667  ┆ null       │\n",
       "│ 30       ┆           ┆         ┆ 667     ┆   ┆            ┆            ┆            ┆            │\n",
       "│ 23:40:00 ┆           ┆         ┆         ┆   ┆            ┆            ┆            ┆            │\n",
       "│ UTC      ┆           ┆         ┆         ┆   ┆            ┆            ┆            ┆            │\n",
       "│ 2023-07- ┆ null      ┆ null    ┆ 378.973 ┆ … ┆ 20.404561  ┆ 20.333684  ┆ 22.214035  ┆ null       │\n",
       "│ 30       ┆           ┆         ┆ 684     ┆   ┆            ┆            ┆            ┆            │\n",
       "│ 23:50:00 ┆           ┆         ┆         ┆   ┆            ┆            ┆            ┆            │\n",
       "│ UTC      ┆           ┆         ┆         ┆   ┆            ┆            ┆            ┆            │\n",
       "└──────────┴───────────┴─────────┴─────────┴───┴────────────┴────────────┴────────────┴────────────┘"
      ]
     },
     "execution_count": 191,
     "metadata": {},
     "output_type": "execute_result"
    }
   ],
   "source": [
    "df_meas = df.filter(pl.col(\"variant\") == \"measurement\").filter(pl.col(\"system name\") == \"tum-esm-midcost-raspi-5\").filter(pl.col(\"CO2_compensated\") > 0).filter(pl.col(\"CO2_compensated\") < 600).sort(\"date\").groupby_dynamic(\"date\",every='10m').agg(pl.all().exclude('date').mean())\n",
    "\n",
    "df_meas = df_meas.with_columns(pl.col(\"CO2_compensated\") - intercept / slope)\n",
    "\n",
    "df_meas.tail()"
   ]
  },
  {
   "cell_type": "code",
   "execution_count": 121,
   "metadata": {},
   "outputs": [
    {
     "data": {
      "text/html": [
       "<div>\n",
       "<style scoped>\n",
       "    .dataframe tbody tr th:only-of-type {\n",
       "        vertical-align: middle;\n",
       "    }\n",
       "\n",
       "    .dataframe tbody tr th {\n",
       "        vertical-align: top;\n",
       "    }\n",
       "\n",
       "    .dataframe thead th {\n",
       "        text-align: right;\n",
       "    }\n",
       "</style>\n",
       "<table border=\"1\" class=\"dataframe\">\n",
       "  <thead>\n",
       "    <tr style=\"text-align: right;\">\n",
       "      <th></th>\n",
       "      <th>DATE</th>\n",
       "      <th>TIME</th>\n",
       "      <th>FRAC_DAYS_SINCE_JAN1</th>\n",
       "      <th>FRAC_HRS_SINCE_JAN1</th>\n",
       "      <th>JULIAN_DAYS</th>\n",
       "      <th>EPOCH_TIME</th>\n",
       "      <th>ALARM_STATUS</th>\n",
       "      <th>INST_STATUS</th>\n",
       "      <th>CavityPressure</th>\n",
       "      <th>CavityTemp</th>\n",
       "      <th>...</th>\n",
       "      <th>CO2</th>\n",
       "      <th>CO2_dry</th>\n",
       "      <th>h2o_reported</th>\n",
       "      <th>ch4_base</th>\n",
       "      <th>ch4_pzt_std</th>\n",
       "      <th>co2_base</th>\n",
       "      <th>co2_pzt_std</th>\n",
       "      <th>wlm1_offset</th>\n",
       "      <th>wlm2_offset</th>\n",
       "      <th>datetime</th>\n",
       "    </tr>\n",
       "  </thead>\n",
       "  <tbody>\n",
       "    <tr>\n",
       "      <th>0</th>\n",
       "      <td>2023-07-30</td>\n",
       "      <td>00:00:00.378</td>\n",
       "      <td>210.000004</td>\n",
       "      <td>5040.000105</td>\n",
       "      <td>211.000004</td>\n",
       "      <td>1.690675e+09</td>\n",
       "      <td>0</td>\n",
       "      <td>963</td>\n",
       "      <td>140.003001</td>\n",
       "      <td>45.00045</td>\n",
       "      <td>...</td>\n",
       "      <td>419.648833</td>\n",
       "      <td>430.502855</td>\n",
       "      <td>2.022647</td>\n",
       "      <td>1181.903298</td>\n",
       "      <td>94.43908</td>\n",
       "      <td>1084.867770</td>\n",
       "      <td>76.205523</td>\n",
       "      <td>-0.074475</td>\n",
       "      <td>-0.04456</td>\n",
       "      <td>2023-07-30 00:00:00.378</td>\n",
       "    </tr>\n",
       "    <tr>\n",
       "      <th>1</th>\n",
       "      <td>2023-07-30</td>\n",
       "      <td>00:00:00.884</td>\n",
       "      <td>210.000010</td>\n",
       "      <td>5040.000246</td>\n",
       "      <td>211.000010</td>\n",
       "      <td>1.690675e+09</td>\n",
       "      <td>0</td>\n",
       "      <td>963</td>\n",
       "      <td>140.000793</td>\n",
       "      <td>45.00045</td>\n",
       "      <td>...</td>\n",
       "      <td>419.648833</td>\n",
       "      <td>430.574158</td>\n",
       "      <td>2.023890</td>\n",
       "      <td>1181.903298</td>\n",
       "      <td>94.43908</td>\n",
       "      <td>1084.867770</td>\n",
       "      <td>76.205523</td>\n",
       "      <td>-0.074475</td>\n",
       "      <td>-0.04456</td>\n",
       "      <td>2023-07-30 00:00:00.884</td>\n",
       "    </tr>\n",
       "    <tr>\n",
       "      <th>2</th>\n",
       "      <td>2023-07-30</td>\n",
       "      <td>00:00:02.428</td>\n",
       "      <td>210.000028</td>\n",
       "      <td>5040.000675</td>\n",
       "      <td>211.000028</td>\n",
       "      <td>1.690675e+09</td>\n",
       "      <td>0</td>\n",
       "      <td>963</td>\n",
       "      <td>140.007018</td>\n",
       "      <td>45.00045</td>\n",
       "      <td>...</td>\n",
       "      <td>419.648833</td>\n",
       "      <td>430.574158</td>\n",
       "      <td>2.023890</td>\n",
       "      <td>1181.910224</td>\n",
       "      <td>94.43908</td>\n",
       "      <td>1085.042196</td>\n",
       "      <td>76.205523</td>\n",
       "      <td>-0.074465</td>\n",
       "      <td>-0.04455</td>\n",
       "      <td>2023-07-30 00:00:02.428</td>\n",
       "    </tr>\n",
       "    <tr>\n",
       "      <th>3</th>\n",
       "      <td>2023-07-30</td>\n",
       "      <td>00:00:03.345</td>\n",
       "      <td>210.000039</td>\n",
       "      <td>5040.000929</td>\n",
       "      <td>211.000039</td>\n",
       "      <td>1.690675e+09</td>\n",
       "      <td>0</td>\n",
       "      <td>963</td>\n",
       "      <td>140.015208</td>\n",
       "      <td>45.00045</td>\n",
       "      <td>...</td>\n",
       "      <td>419.656023</td>\n",
       "      <td>430.574158</td>\n",
       "      <td>2.023890</td>\n",
       "      <td>1181.910224</td>\n",
       "      <td>94.43908</td>\n",
       "      <td>1084.920966</td>\n",
       "      <td>76.205523</td>\n",
       "      <td>-0.074471</td>\n",
       "      <td>-0.04455</td>\n",
       "      <td>2023-07-30 00:00:03.345</td>\n",
       "    </tr>\n",
       "    <tr>\n",
       "      <th>4</th>\n",
       "      <td>2023-07-30</td>\n",
       "      <td>00:00:03.851</td>\n",
       "      <td>210.000045</td>\n",
       "      <td>5040.001070</td>\n",
       "      <td>211.000045</td>\n",
       "      <td>1.690675e+09</td>\n",
       "      <td>0</td>\n",
       "      <td>963</td>\n",
       "      <td>140.021429</td>\n",
       "      <td>45.00045</td>\n",
       "      <td>...</td>\n",
       "      <td>419.656023</td>\n",
       "      <td>430.585300</td>\n",
       "      <td>2.023949</td>\n",
       "      <td>1181.910224</td>\n",
       "      <td>94.43908</td>\n",
       "      <td>1084.920966</td>\n",
       "      <td>76.205523</td>\n",
       "      <td>-0.074471</td>\n",
       "      <td>-0.04455</td>\n",
       "      <td>2023-07-30 00:00:03.851</td>\n",
       "    </tr>\n",
       "  </tbody>\n",
       "</table>\n",
       "<p>5 rows × 26 columns</p>\n",
       "</div>"
      ],
      "text/plain": [
       "         DATE          TIME  FRAC_DAYS_SINCE_JAN1  FRAC_HRS_SINCE_JAN1  \\\n",
       "0  2023-07-30  00:00:00.378            210.000004          5040.000105   \n",
       "1  2023-07-30  00:00:00.884            210.000010          5040.000246   \n",
       "2  2023-07-30  00:00:02.428            210.000028          5040.000675   \n",
       "3  2023-07-30  00:00:03.345            210.000039          5040.000929   \n",
       "4  2023-07-30  00:00:03.851            210.000045          5040.001070   \n",
       "\n",
       "   JULIAN_DAYS    EPOCH_TIME  ALARM_STATUS  INST_STATUS  CavityPressure  \\\n",
       "0   211.000004  1.690675e+09             0          963      140.003001   \n",
       "1   211.000010  1.690675e+09             0          963      140.000793   \n",
       "2   211.000028  1.690675e+09             0          963      140.007018   \n",
       "3   211.000039  1.690675e+09             0          963      140.015208   \n",
       "4   211.000045  1.690675e+09             0          963      140.021429   \n",
       "\n",
       "   CavityTemp  ...         CO2     CO2_dry  h2o_reported     ch4_base  \\\n",
       "0    45.00045  ...  419.648833  430.502855      2.022647  1181.903298   \n",
       "1    45.00045  ...  419.648833  430.574158      2.023890  1181.903298   \n",
       "2    45.00045  ...  419.648833  430.574158      2.023890  1181.910224   \n",
       "3    45.00045  ...  419.656023  430.574158      2.023890  1181.910224   \n",
       "4    45.00045  ...  419.656023  430.585300      2.023949  1181.910224   \n",
       "\n",
       "   ch4_pzt_std     co2_base  co2_pzt_std  wlm1_offset  wlm2_offset  \\\n",
       "0     94.43908  1084.867770    76.205523    -0.074475     -0.04456   \n",
       "1     94.43908  1084.867770    76.205523    -0.074475     -0.04456   \n",
       "2     94.43908  1085.042196    76.205523    -0.074465     -0.04455   \n",
       "3     94.43908  1084.920966    76.205523    -0.074471     -0.04455   \n",
       "4     94.43908  1084.920966    76.205523    -0.074471     -0.04455   \n",
       "\n",
       "                 datetime  \n",
       "0 2023-07-30 00:00:00.378  \n",
       "1 2023-07-30 00:00:00.884  \n",
       "2 2023-07-30 00:00:02.428  \n",
       "3 2023-07-30 00:00:03.345  \n",
       "4 2023-07-30 00:00:03.851  \n",
       "\n",
       "[5 rows x 26 columns]"
      ]
     },
     "execution_count": 121,
     "metadata": {},
     "output_type": "execute_result"
    }
   ],
   "source": [
    "df_p = pd.read_csv(\"../data/picarro/CFADS2343-20230730-000014Z-DataLog_User.dat\",sep='\\s+')\n",
    "df_p[\"datetime\"] = pd.to_datetime((df_p['DATE'] + ' ' + df_p['TIME']))\n",
    "df_p.head()"
   ]
  },
  {
   "cell_type": "code",
   "execution_count": 192,
   "metadata": {},
   "outputs": [
    {
     "data": {
      "text/plain": [
       "<Axes: xlabel='date', ylabel='CO2_compensated'>"
      ]
     },
     "execution_count": 192,
     "metadata": {},
     "output_type": "execute_result"
    },
    {
     "data": {
      "image/png": "[encoded data removed]",
      "text/plain": [
       "<Figure size 640x480 with 1 Axes>"
      ]
     },
     "metadata": {},
     "output_type": "display_data"
    }
   ],
   "source": [
    "sns.lineplot(data=df_meas,x='date',y=\"CO2_compensated\")\n",
    "sns.lineplot(data=df_p,x='datetime',y=\"CO2_dry\")"
   ]
  }
 ],
 "metadata": {
  "kernelspec": {
   "display_name": ".venv",
   "language": "python",
   "name": "python3"
  },
  "language_info": {
   "codemirror_mode": {
    "name": "ipython",
    "version": 3
   },
   "file_extension": ".py",
   "mimetype": "text/x-python",
   "name": "python",
   "nbconvert_exporter": "python",
   "pygments_lexer": "ipython3",
   "version": "3.11.4"
  },
  "orig_nbformat": 4
 },
 "nbformat": 4,
 "nbformat_minor": 2
}
