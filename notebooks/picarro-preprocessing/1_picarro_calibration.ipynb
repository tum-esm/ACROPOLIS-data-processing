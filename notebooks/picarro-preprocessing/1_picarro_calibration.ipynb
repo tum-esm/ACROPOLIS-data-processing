{
 "cells": [
  {
   "cell_type": "code",
   "execution_count": 161,
   "metadata": {},
   "outputs": [],
   "source": [
    "from datetime import datetime\n",
    "import glob\n",
    "import polars as pl\n",
    "import os\n",
    "import plotly.express as px\n",
    "import sys\n",
    "\n",
    "PROJECT_PATH = os.path.abspath(os.path.join(\"..\", \"..\"))\n",
    "PIPELINE_PATH = os.path.join(PROJECT_PATH, \"pipeline\")\n",
    "DATA_DIRECTORY = os.path.join(PROJECT_PATH, \"data\")\n",
    "\n",
    "\n",
    "if PIPELINE_PATH not in sys.path:\n",
    "    sys.path.append(PIPELINE_PATH)\n",
    "\n",
    "from utils.paths import PROCESSED_PICARRO_DATA_DIRECTORY\n",
    "from utils.calibration_processing import two_point_calibration, process_bottle\n",
    "\n",
    "assert(os.path.exists(PROCESSED_PICARRO_DATA_DIRECTORY))"
   ]
  },
  {
   "cell_type": "code",
   "execution_count": 162,
   "metadata": {},
   "outputs": [],
   "source": [
    "def read_picarro_data(directory_path:str, device_name:str) -> pl.DataFrame:\n",
    "    \n",
    "    path = os.path.join(directory_path, device_name, \"*/*.parquet\")\n",
    "    paths = glob.glob(path)\n",
    "\n",
    "    df_years = []\n",
    "\n",
    "    for path in paths:\n",
    "        df_chunk = pl.scan_parquet(path).select(\"datetime\", \"CO2_dry\", \"h2o_reported\").with_columns(pl.col(\"datetime\").dt.cast_time_unit(\"ms\"))\n",
    "        df_years.append(df_chunk)\n",
    "\n",
    "    df_p = pl.concat(df_years, how=\"diagonal\").collect().sort(\"datetime\")\n",
    "    return df_p"
   ]
  },
  {
   "cell_type": "code",
   "execution_count": 163,
   "metadata": {},
   "outputs": [
    {
     "data": {
      "text/html": [
       "<div><style>\n",
       ".dataframe > thead > tr,\n",
       ".dataframe > tbody > tr {\n",
       "  text-align: right;\n",
       "  white-space: pre-wrap;\n",
       "}\n",
       "</style>\n",
       "<small>shape: (2, 3)</small><table border=\"1\" class=\"dataframe\"><thead><tr><th>datetime</th><th>CO2_dry</th><th>h2o_reported</th></tr><tr><td>datetime[ms]</td><td>f64</td><td>f64</td></tr></thead><tbody><tr><td>2023-07-01 00:00:01.150</td><td>433.462829</td><td>2.274335</td></tr><tr><td>2024-12-20 16:17:31.513</td><td>607.165968</td><td>-0.001279</td></tr></tbody></table></div>"
      ],
      "text/plain": [
       "shape: (2, 3)\n",
       "┌─────────────────────────┬────────────┬──────────────┐\n",
       "│ datetime                ┆ CO2_dry    ┆ h2o_reported │\n",
       "│ ---                     ┆ ---        ┆ ---          │\n",
       "│ datetime[ms]            ┆ f64        ┆ f64          │\n",
       "╞═════════════════════════╪════════════╪══════════════╡\n",
       "│ 2023-07-01 00:00:01.150 ┆ 433.462829 ┆ 2.274335     │\n",
       "│ 2024-12-20 16:17:31.513 ┆ 607.165968 ┆ -0.001279    │\n",
       "└─────────────────────────┴────────────┴──────────────┘"
      ]
     },
     "execution_count": 163,
     "metadata": {},
     "output_type": "execute_result"
    }
   ],
   "source": [
    "df_p_413 = read_picarro_data(directory_path=PROCESSED_PICARRO_DATA_DIRECTORY, device_name=\"DWD_Picarro_G2301_413\")\n",
    "df_p_413.head(1).vstack(df_p_413.tail(1))"
   ]
  },
  {
   "cell_type": "code",
   "execution_count": 164,
   "metadata": {},
   "outputs": [
    {
     "data": {
      "text/html": [
       "<div><style>\n",
       ".dataframe > thead > tr,\n",
       ".dataframe > tbody > tr {\n",
       "  text-align: right;\n",
       "  white-space: pre-wrap;\n",
       "}\n",
       "</style>\n",
       "<small>shape: (2, 3)</small><table border=\"1\" class=\"dataframe\"><thead><tr><th>datetime</th><th>CO2_dry</th><th>h2o_reported</th></tr><tr><td>datetime[ms]</td><td>f64</td><td>f64</td></tr></thead><tbody><tr><td>2024-09-23 11:21:13.016</td><td>0.0</td><td>0.0</td></tr><tr><td>2025-03-03 15:27:57.660</td><td>446.22185</td><td>0.487782</td></tr></tbody></table></div>"
      ],
      "text/plain": [
       "shape: (2, 3)\n",
       "┌─────────────────────────┬───────────┬──────────────┐\n",
       "│ datetime                ┆ CO2_dry   ┆ h2o_reported │\n",
       "│ ---                     ┆ ---       ┆ ---          │\n",
       "│ datetime[ms]            ┆ f64       ┆ f64          │\n",
       "╞═════════════════════════╪═══════════╪══════════════╡\n",
       "│ 2024-09-23 11:21:13.016 ┆ 0.0       ┆ 0.0          │\n",
       "│ 2025-03-03 15:27:57.660 ┆ 446.22185 ┆ 0.487782     │\n",
       "└─────────────────────────┴───────────┴──────────────┘"
      ]
     },
     "execution_count": 164,
     "metadata": {},
     "output_type": "execute_result"
    }
   ],
   "source": [
    "df_p_529 = read_picarro_data(directory_path=PROCESSED_PICARRO_DATA_DIRECTORY, device_name=\"ICOS_Picarro_G2401_529\")\n",
    "df_p_529.head(1).vstack(df_p_529.tail(1))"
   ]
  },
  {
   "cell_type": "code",
   "execution_count": 165,
   "metadata": {},
   "outputs": [],
   "source": [
    "# Notebook specific functions\n",
    "df = pl.DataFrame({\n",
    "    \"datetime\": pl.Series([], dtype=pl.Datetime()),\n",
    "    \"Picarro ID\": pl.Series([], dtype=pl.Int64),\n",
    "    \"Bottle_1_Median\": pl.Series([], dtype=pl.Float64),\n",
    "    \"Bottle_2_Median\": pl.Series([], dtype=pl.Float64),\n",
    "    \"slope\": pl.Series([], dtype=pl.Float64),\n",
    "    \"slope\": pl.Series([], dtype=pl.Float64),\n",
    "    \"intercept\": pl.Series([], dtype=pl.Float64)\n",
    "})\n",
    "\n",
    "# Function to add a new row\n",
    "def add_row(dataframe, datetime, picarro_id, median_bottle_1, median_bottle_2, slope, intercept):\n",
    "    new_row = pl.DataFrame({\n",
    "        \"datetime\": [datetime],\n",
    "        \"Picarro ID\": [picarro_id],\n",
    "        \"Bottle_1_Median\": [median_bottle_1],\n",
    "        \"Bottle_2_Median\": [median_bottle_2],\n",
    "        \"slope\": [slope],\n",
    "        \"intercept\": [intercept]\n",
    "    })\n",
    "    return dataframe.vstack(new_row)\n",
    "\n",
    "def process_two_point_picarro_calibration(df, low_start_date, low_end_date, high_start_date, high_end_date, true_values):\n",
    "\n",
    "    df_p_400 = df.sort(\"datetime\").filter(pl.col(\"datetime\").is_between(low_start_date, low_end_date)) \n",
    "                    \n",
    "    df_p_600 = df.sort(\"datetime\").filter(pl.col(\"datetime\").is_between(high_start_date, high_end_date)) \n",
    "                \n",
    "    measured_values = [None, None]\n",
    "\n",
    "    # 400 ppm\n",
    "    data = df_p_400.select(pl.col(\"CO2_dry\")).to_series().to_list()\n",
    "    measured_values[0] = process_bottle(data=data, ignore_len=True)\n",
    "\n",
    "    # 600 ppm\n",
    "    data = df_p_600.select(pl.col(\"CO2_dry\")).to_series().to_list()\n",
    "    measured_values[1] = process_bottle(data=data, ignore_len=True)\n",
    "\n",
    "    result = two_point_calibration(measured_values, true_values)\n",
    "    \n",
    "    return measured_values[0], measured_values[1], result[\"slope\"], result[\"intercept\"] \n",
    "    \n",
    "def process_calibration_times(df_p:pl.DataFrame, id:int, calibration_times: dict, df:pl.DataFrame, true_values:list[int]) -> None:\n",
    "    for key in calibration_times[str(id)].keys():\n",
    "        low_start_date = calibration_times[str(id)][key][\"low_start_date\"]\n",
    "        low_end_date = calibration_times[str(id)][key][\"low_end_date\"]\n",
    "        high_start_date = calibration_times[str(id)][key][\"high_start_date\"]\n",
    "        high_end_date = calibration_times[str(id)][key][\"high_end_date\"]\n",
    "        \n",
    "        # process\n",
    "        median_bottle_1, median_bottle_2, slope, intercept = process_two_point_picarro_calibration(df_p, low_start_date, low_end_date, high_start_date, high_end_date, true_values)\n",
    "        \n",
    "        # add row\n",
    "        df = add_row(df, high_end_date, id , median_bottle_1, median_bottle_2, slope, intercept)\n",
    "    return df    \n",
    "    \n",
    "def plot_calibration_time(df_p, low_start_date, low_end_date, high_start_date, high_end_date):\n",
    "    \n",
    "    df_p_400 = df_p.sort(\"datetime\").filter(pl.col(\"datetime\").is_between(low_start_date, low_end_date)) \n",
    "    df_p_600 = df_p.sort(\"datetime\").filter(pl.col(\"datetime\").is_between(high_start_date, high_end_date)) \n",
    "    \n",
    "    #plots\n",
    "    fig = px.line(df_p_400, x=\"datetime\", y=\"h2o_reported\")\n",
    "    fig.show()\n",
    "\n",
    "    fig = px.line(df_p_400, x=\"datetime\", y=\"CO2_dry\")\n",
    "    fig.show()\n",
    "\n",
    "    fig = px.line(df_p_600, x=\"datetime\", y=\"h2o_reported\")\n",
    "    fig.show()\n",
    "\n",
    "    fig = px.line(df_p_600, x=\"datetime\", y=\"CO2_dry\")\n",
    "    fig.show()"
   ]
  },
  {
   "cell_type": "code",
   "execution_count": 166,
   "metadata": {},
   "outputs": [],
   "source": [
    "calibration_times = {\n",
    "    \"413\": { \n",
    "        \"23.10.2023\": {\n",
    "            \"low_start_date\": datetime(2023, 10, 23, 13, 31, 30),\n",
    "            \"low_end_date\": datetime(2023, 10, 23, 14, 6, 0),\n",
    "            \"high_start_date\": datetime(2023, 10, 23, 13, 6, 0),\n",
    "            \"high_end_date\": datetime(2023, 10, 23, 13, 31, 0)\n",
    "        },\n",
    "        \"18.12.2023\": {\n",
    "            \"low_start_date\":datetime(2023, 12, 18, 14, 33, 0),\n",
    "            \"low_end_date\": datetime(2023, 12, 18, 15, 2, 0),\n",
    "            \"high_start_date\":  datetime(2023, 12, 18, 15, 4, 0),\n",
    "            \"high_end_date\": datetime(2023, 12, 18, 15, 32, 0)\n",
    "        },\n",
    "        \"06.05.2024\":\n",
    "        {\n",
    "            \"low_start_date\": datetime(2024, 5, 6, 11, 33, 0),\n",
    "            \"low_end_date\": datetime(2024, 5, 6, 12, 1, 0),\n",
    "            \"high_start_date\": datetime(2024, 5, 6, 12, 2, 30),\n",
    "            \"high_end_date\": datetime(2024, 5, 6, 12, 31, 0)\n",
    "        }, \n",
    "        \"04.09.2024\":\n",
    "        {\n",
    "            \"low_start_date\": datetime(2024, 9, 4, 13, 0, 0),\n",
    "            \"low_end_date\": datetime(2024, 9, 4, 13, 30, 0),\n",
    "            \"high_start_date\": datetime(2024, 9, 4, 13, 31, 0),\n",
    "            \"high_end_date\": datetime(2024, 9, 4, 14, 0, 0)\n",
    "        },\n",
    "        \"24.09.2024\":\n",
    "        {\n",
    "            \"low_start_date\": datetime(2024, 9, 24, 9, 11, 0),\n",
    "            \"low_end_date\": datetime(2024, 9, 24, 9, 37, 0),\n",
    "            \"high_start_date\": datetime(2024, 9, 24, 9, 37, 0),\n",
    "            \"high_end_date\": datetime(2024, 9, 24, 10, 2, 0)\n",
    "        },\n",
    "        \"03.12.2024\":\n",
    "        {\n",
    "            \"low_start_date\": datetime(2024, 12, 3, 12, 42, 0),\n",
    "            \"low_end_date\": datetime(2024, 12, 3, 13, 23, 0),\n",
    "            \"high_start_date\": datetime(2024, 12, 3, 13, 23, 0),\n",
    "            \"high_end_date\": datetime(2024, 12, 3, 13, 53, 0)\n",
    "        },\n",
    "        \"20.12.2024\":\n",
    "        {\n",
    "            \"low_start_date\": datetime(2024, 12, 20, 15, 10, 0),\n",
    "            \"low_end_date\": datetime(2024, 12, 20, 15, 47, 0),\n",
    "            \"high_start_date\": datetime(2024, 12, 20, 15, 47, 40),\n",
    "            \"high_end_date\": datetime(2024, 12, 20, 16, 17, 0)\n",
    "        }},\n",
    "    \"529\": {\n",
    "        \"23.09.2024\":\n",
    "        {\n",
    "            \"low_start_date\": datetime(2024, 9, 23, 12, 19, 0),\n",
    "            \"low_end_date\": datetime(2024, 9, 23, 12, 52, 0),\n",
    "            \"high_start_date\": datetime(2024, 9, 23, 12, 54, 0),\n",
    "            \"high_end_date\": datetime(2024, 9, 23, 13, 22)\n",
    "        },\n",
    "        \"21.11.2024\":\n",
    "        {\n",
    "            \"low_start_date\": datetime(2024, 11, 21, 12, 26, 0),\n",
    "            \"low_end_date\": datetime(2024, 11, 21, 12, 53, 30),\n",
    "            \"high_start_date\": datetime(2024,11, 21, 12, 55, 0),\n",
    "            \"high_end_date\": datetime(2024, 11, 21, 13, 23, 0)\n",
    "        },\n",
    "        \"24.02.2025\":\n",
    "        {\n",
    "            \"low_start_date\": datetime(2025, 2, 24, 12, 8, 0),\n",
    "            \"low_end_date\": datetime(2025, 2, 24, 12, 36, 40),\n",
    "            \"high_start_date\": datetime(2025, 2, 24, 12, 38, 0),\n",
    "            \"high_end_date\": datetime(2025, 2, 24, 12, 55, 0)\n",
    "        }}\n",
    "    }\n"
   ]
  },
  {
   "cell_type": "code",
   "execution_count": 167,
   "metadata": {},
   "outputs": [],
   "source": [
    "# Plot Tool to tailor calibration times\n",
    "\n",
    "id = 529\n",
    "key = \"24.02.2025\"\n",
    "\n",
    "low_start_date = calibration_times[str(id)][key][\"low_start_date\"]\n",
    "low_end_date = calibration_times[str(id)][key][\"low_end_date\"]\n",
    "high_start_date = calibration_times[str(id)][key][\"high_start_date\"]\n",
    "high_end_date = calibration_times[str(id)][key][\"high_end_date\"]\n",
    "\n",
    "#plot_calibration_time(df_p_529, low_start_date, low_end_date, high_start_date, high_end_date)"
   ]
  },
  {
   "cell_type": "code",
   "execution_count": 168,
   "metadata": {},
   "outputs": [
    {
     "data": {
      "text/html": [
       "<div><style>\n",
       ".dataframe > thead > tr,\n",
       ".dataframe > tbody > tr {\n",
       "  text-align: right;\n",
       "  white-space: pre-wrap;\n",
       "}\n",
       "</style>\n",
       "<small>shape: (10, 6)</small><table border=\"1\" class=\"dataframe\"><thead><tr><th>datetime</th><th>Picarro ID</th><th>Bottle_1_Median</th><th>Bottle_2_Median</th><th>slope</th><th>intercept</th></tr><tr><td>datetime[μs]</td><td>i64</td><td>f64</td><td>f64</td><td>f64</td><td>f64</td></tr></thead><tbody><tr><td>2023-10-23 13:31:00</td><td>413</td><td>424.60174</td><td>607.006545</td><td>1.006388</td><td>0.065919</td></tr><tr><td>2023-12-18 15:32:00</td><td>413</td><td>424.720504</td><td>607.182719</td><td>1.006071</td><td>0.080886</td></tr><tr><td>2024-05-06 12:31:00</td><td>413</td><td>424.737684</td><td>607.144954</td><td>1.006374</td><td>-0.065117</td></tr><tr><td>2024-09-04 14:00:00</td><td>413</td><td>424.37114</td><td>606.636933</td><td>1.007156</td><td>-0.027737</td></tr><tr><td>2024-09-24 10:02:00</td><td>413</td><td>424.671389</td><td>607.080922</td><td>1.006362</td><td>0.006904</td></tr><tr><td>2024-12-03 13:53:00</td><td>413</td><td>424.494511</td><td>606.837327</td><td>1.00673</td><td>0.028601</td></tr><tr><td>2024-12-20 16:17:00</td><td>413</td><td>424.70576</td><td>607.157409</td><td>1.00613</td><td>0.070976</td></tr><tr><td>2024-09-23 13:22:00</td><td>529</td><td>424.55278</td><td>607.022187</td><td>1.006032</td><td>0.266464</td></tr><tr><td>2024-11-21 13:23:00</td><td>529</td><td>424.618376</td><td>607.100354</td><td>1.005962</td><td>0.229899</td></tr><tr><td>2025-02-24 12:55:00</td><td>529</td><td>424.605472</td><td>607.069369</td><td>1.006062</td><td>0.200554</td></tr></tbody></table></div>"
      ],
      "text/plain": [
       "shape: (10, 6)\n",
       "┌─────────────────────┬────────────┬─────────────────┬─────────────────┬──────────┬───────────┐\n",
       "│ datetime            ┆ Picarro ID ┆ Bottle_1_Median ┆ Bottle_2_Median ┆ slope    ┆ intercept │\n",
       "│ ---                 ┆ ---        ┆ ---             ┆ ---             ┆ ---      ┆ ---       │\n",
       "│ datetime[μs]        ┆ i64        ┆ f64             ┆ f64             ┆ f64      ┆ f64       │\n",
       "╞═════════════════════╪════════════╪═════════════════╪═════════════════╪══════════╪═══════════╡\n",
       "│ 2023-10-23 13:31:00 ┆ 413        ┆ 424.60174       ┆ 607.006545      ┆ 1.006388 ┆ 0.065919  │\n",
       "│ 2023-12-18 15:32:00 ┆ 413        ┆ 424.720504      ┆ 607.182719      ┆ 1.006071 ┆ 0.080886  │\n",
       "│ 2024-05-06 12:31:00 ┆ 413        ┆ 424.737684      ┆ 607.144954      ┆ 1.006374 ┆ -0.065117 │\n",
       "│ 2024-09-04 14:00:00 ┆ 413        ┆ 424.37114       ┆ 606.636933      ┆ 1.007156 ┆ -0.027737 │\n",
       "│ 2024-09-24 10:02:00 ┆ 413        ┆ 424.671389      ┆ 607.080922      ┆ 1.006362 ┆ 0.006904  │\n",
       "│ 2024-12-03 13:53:00 ┆ 413        ┆ 424.494511      ┆ 606.837327      ┆ 1.00673  ┆ 0.028601  │\n",
       "│ 2024-12-20 16:17:00 ┆ 413        ┆ 424.70576       ┆ 607.157409      ┆ 1.00613  ┆ 0.070976  │\n",
       "│ 2024-09-23 13:22:00 ┆ 529        ┆ 424.55278       ┆ 607.022187      ┆ 1.006032 ┆ 0.266464  │\n",
       "│ 2024-11-21 13:23:00 ┆ 529        ┆ 424.618376      ┆ 607.100354      ┆ 1.005962 ┆ 0.229899  │\n",
       "│ 2025-02-24 12:55:00 ┆ 529        ┆ 424.605472      ┆ 607.069369      ┆ 1.006062 ┆ 0.200554  │\n",
       "└─────────────────────┴────────────┴─────────────────┴─────────────────┴──────────┴───────────┘"
      ]
     },
     "execution_count": 168,
     "metadata": {},
     "output_type": "execute_result"
    }
   ],
   "source": [
    "df = process_calibration_times(df_p=df_p_413, id=413, calibration_times=calibration_times, df=df, true_values=[427.38, 610.95])\n",
    "df = process_calibration_times(df_p=df_p_529, id=529, calibration_times=calibration_times, df=df, true_values=[427.38, 610.95])\n",
    "\n",
    "df"
   ]
  },
  {
   "cell_type": "code",
   "execution_count": 169,
   "metadata": {},
   "outputs": [],
   "source": [
    "df.with_columns(pl.col(\"datetime\").dt.cast_time_unit(\"ms\")) \\\n",
    "    .write_parquet(os.path.join(DATA_DIRECTORY, \"input\", \"picarro\", \"picarro_slope_intercept.parquet\"))"
   ]
  }
 ],
 "metadata": {
  "kernelspec": {
   "display_name": ".venv",
   "language": "python",
   "name": "python3"
  },
  "language_info": {
   "codemirror_mode": {
    "name": "ipython",
    "version": 3
   },
   "file_extension": ".py",
   "mimetype": "text/x-python",
   "name": "python",
   "nbconvert_exporter": "python",
   "pygments_lexer": "ipython3",
   "version": "3.12.9"
  },
  "orig_nbformat": 4
 },
 "nbformat": 4,
 "nbformat_minor": 2
}
