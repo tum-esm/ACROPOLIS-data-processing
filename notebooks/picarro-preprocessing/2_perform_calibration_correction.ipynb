{
 "cells": [
  {
   "cell_type": "code",
   "execution_count": 31,
   "metadata": {},
   "outputs": [],
   "source": [
    "import glob\n",
    "import polars as pl\n",
    "import os\n",
    "import sys\n",
    "import polars.selectors as cs\n",
    "\n",
    "PROJECT_PATH = os.path.abspath(os.path.join(\"..\", \"..\"))\n",
    "PIPELINE_PATH = os.path.join(PROJECT_PATH, \"pipeline\")\n",
    "DATA_DIRECTORY = os.path.join(PROJECT_PATH, \"data\")\n",
    "\n",
    "\n",
    "if PIPELINE_PATH not in sys.path:\n",
    "    sys.path.append(PIPELINE_PATH)\n",
    "\n",
    "from utils.paths import PROCESSED_PICARRO_DATA_DIRECTORY\n",
    "\n",
    "assert(os.path.exists(PROCESSED_PICARRO_DATA_DIRECTORY))"
   ]
  },
  {
   "cell_type": "code",
   "execution_count": 33,
   "metadata": {},
   "outputs": [],
   "source": [
    "def read_picarro_data(directory_path:str, device_name:str, filter:str) -> pl.DataFrame:\n",
    "    \n",
    "    path = os.path.join(directory_path, device_name, \"*/*.parquet\")\n",
    "    paths = glob.glob(path)\n",
    "\n",
    "    df_years = []\n",
    "\n",
    "    for path in paths:\n",
    "        df_chunk = pl.scan_parquet(path).select(\"datetime\", \"CO2_dry\", \"h2o_reported\").with_columns(pl.col(\"datetime\").dt.cast_time_unit(\"ms\"))\n",
    "        df_years.append(df_chunk)\n",
    "\n",
    "    df_p = pl.concat(df_years, how=\"diagonal\").collect() \\\n",
    "        .sort(\"datetime\") \\\n",
    "        .group_by_dynamic(\"datetime\", every=filter) \\\n",
    "            .agg(cs.numeric().mean())\n",
    "            \n",
    "    return df_p"
   ]
  },
  {
   "cell_type": "code",
   "execution_count": 34,
   "metadata": {},
   "outputs": [
    {
     "data": {
      "text/html": [
       "<div><style>\n",
       ".dataframe > thead > tr,\n",
       ".dataframe > tbody > tr {\n",
       "  text-align: right;\n",
       "  white-space: pre-wrap;\n",
       "}\n",
       "</style>\n",
       "<small>shape: (2, 5)</small><table border=\"1\" class=\"dataframe\"><thead><tr><th>datetime</th><th>CO2_dry</th><th>h2o_reported</th><th>system_name</th><th>system_id</th></tr><tr><td>datetime[ms]</td><td>f64</td><td>f64</td><td>str</td><td>i32</td></tr></thead><tbody><tr><td>2023-07-01 00:00:00</td><td>433.484034</td><td>2.266186</td><td>&quot;Picarro_G2301&quot;</td><td>413</td></tr><tr><td>2024-12-20 16:17:00</td><td>607.152171</td><td>-0.001034</td><td>&quot;Picarro_G2301&quot;</td><td>413</td></tr></tbody></table></div>"
      ],
      "text/plain": [
       "shape: (2, 5)\n",
       "┌─────────────────────┬────────────┬──────────────┬───────────────┬───────────┐\n",
       "│ datetime            ┆ CO2_dry    ┆ h2o_reported ┆ system_name   ┆ system_id │\n",
       "│ ---                 ┆ ---        ┆ ---          ┆ ---           ┆ ---       │\n",
       "│ datetime[ms]        ┆ f64        ┆ f64          ┆ str           ┆ i32       │\n",
       "╞═════════════════════╪════════════╪══════════════╪═══════════════╪═══════════╡\n",
       "│ 2023-07-01 00:00:00 ┆ 433.484034 ┆ 2.266186     ┆ Picarro_G2301 ┆ 413       │\n",
       "│ 2024-12-20 16:17:00 ┆ 607.152171 ┆ -0.001034    ┆ Picarro_G2301 ┆ 413       │\n",
       "└─────────────────────┴────────────┴──────────────┴───────────────┴───────────┘"
      ]
     },
     "execution_count": 34,
     "metadata": {},
     "output_type": "execute_result"
    }
   ],
   "source": [
    "df_p_413 = read_picarro_data(directory_path=PROCESSED_PICARRO_DATA_DIRECTORY, device_name=\"DWD_Picarro_G2301_413\", filter=\"1m\") \\\n",
    "    .with_columns(system_name = pl.lit(\"Picarro_G2301\")).with_columns(system_id = pl.lit(413))\n",
    "df_p_413.head(1).vstack(df_p_413.tail(1))"
   ]
  },
  {
   "cell_type": "code",
   "execution_count": 35,
   "metadata": {},
   "outputs": [
    {
     "data": {
      "text/html": [
       "<div><style>\n",
       ".dataframe > thead > tr,\n",
       ".dataframe > tbody > tr {\n",
       "  text-align: right;\n",
       "  white-space: pre-wrap;\n",
       "}\n",
       "</style>\n",
       "<small>shape: (2, 5)</small><table border=\"1\" class=\"dataframe\"><thead><tr><th>datetime</th><th>CO2_dry</th><th>h2o_reported</th><th>system_name</th><th>system_id</th></tr><tr><td>datetime[ms]</td><td>f64</td><td>f64</td><td>str</td><td>i32</td></tr></thead><tbody><tr><td>2024-09-23 11:21:00</td><td>695.688105</td><td>1.795375</td><td>&quot;Picarro_G2401&quot;</td><td>529</td></tr><tr><td>2025-03-03 15:27:00</td><td>445.753775</td><td>0.489036</td><td>&quot;Picarro_G2401&quot;</td><td>529</td></tr></tbody></table></div>"
      ],
      "text/plain": [
       "shape: (2, 5)\n",
       "┌─────────────────────┬────────────┬──────────────┬───────────────┬───────────┐\n",
       "│ datetime            ┆ CO2_dry    ┆ h2o_reported ┆ system_name   ┆ system_id │\n",
       "│ ---                 ┆ ---        ┆ ---          ┆ ---           ┆ ---       │\n",
       "│ datetime[ms]        ┆ f64        ┆ f64          ┆ str           ┆ i32       │\n",
       "╞═════════════════════╪════════════╪══════════════╪═══════════════╪═══════════╡\n",
       "│ 2024-09-23 11:21:00 ┆ 695.688105 ┆ 1.795375     ┆ Picarro_G2401 ┆ 529       │\n",
       "│ 2025-03-03 15:27:00 ┆ 445.753775 ┆ 0.489036     ┆ Picarro_G2401 ┆ 529       │\n",
       "└─────────────────────┴────────────┴──────────────┴───────────────┴───────────┘"
      ]
     },
     "execution_count": 35,
     "metadata": {},
     "output_type": "execute_result"
    }
   ],
   "source": [
    "df_p_529 = read_picarro_data(directory_path=PROCESSED_PICARRO_DATA_DIRECTORY, device_name=\"ICOS_Picarro_G2401_529\", filter=\"1m\") \\\n",
    "    .with_columns(system_name = pl.lit(\"Picarro_G2401\")).with_columns(system_id = pl.lit(529))\n",
    "df_p_529.head(1).vstack(df_p_529.tail(1))"
   ]
  },
  {
   "cell_type": "code",
   "execution_count": 42,
   "metadata": {},
   "outputs": [
    {
     "data": {
      "text/html": [
       "<div><style>\n",
       ".dataframe > thead > tr,\n",
       ".dataframe > tbody > tr {\n",
       "  text-align: right;\n",
       "  white-space: pre-wrap;\n",
       "}\n",
       "</style>\n",
       "<small>shape: (2, 6)</small><table border=\"1\" class=\"dataframe\"><thead><tr><th>datetime</th><th>Picarro ID</th><th>Bottle_1_Median</th><th>Bottle_2_Median</th><th>slope</th><th>intercept</th></tr><tr><td>datetime[ms]</td><td>i64</td><td>f64</td><td>f64</td><td>f64</td><td>f64</td></tr></thead><tbody><tr><td>2023-10-23 13:31:00</td><td>413</td><td>424.60174</td><td>607.006545</td><td>1.006388</td><td>0.065919</td></tr><tr><td>2025-02-24 12:55:00</td><td>529</td><td>424.605472</td><td>607.069369</td><td>1.006062</td><td>0.200554</td></tr></tbody></table></div>"
      ],
      "text/plain": [
       "shape: (2, 6)\n",
       "┌─────────────────────┬────────────┬─────────────────┬─────────────────┬──────────┬───────────┐\n",
       "│ datetime            ┆ Picarro ID ┆ Bottle_1_Median ┆ Bottle_2_Median ┆ slope    ┆ intercept │\n",
       "│ ---                 ┆ ---        ┆ ---             ┆ ---             ┆ ---      ┆ ---       │\n",
       "│ datetime[ms]        ┆ i64        ┆ f64             ┆ f64             ┆ f64      ┆ f64       │\n",
       "╞═════════════════════╪════════════╪═════════════════╪═════════════════╪══════════╪═══════════╡\n",
       "│ 2023-10-23 13:31:00 ┆ 413        ┆ 424.60174       ┆ 607.006545      ┆ 1.006388 ┆ 0.065919  │\n",
       "│ 2025-02-24 12:55:00 ┆ 529        ┆ 424.605472      ┆ 607.069369      ┆ 1.006062 ┆ 0.200554  │\n",
       "└─────────────────────┴────────────┴─────────────────┴─────────────────┴──────────┴───────────┘"
      ]
     },
     "execution_count": 42,
     "metadata": {},
     "output_type": "execute_result"
    }
   ],
   "source": [
    "df_cal = pl.read_parquet(os.path.join(PROCESSED_PICARRO_DATA_DIRECTORY, \"picarro_slope_intercept.parquet\"))\n",
    "df_cal.head(1).vstack(df_cal.tail(1))"
   ]
  },
  {
   "cell_type": "code",
   "execution_count": 44,
   "metadata": {},
   "outputs": [],
   "source": [
    "def apply_calibration_correction(df_p:pl.DataFrame, df_cal:pl.DataFrame, id=int):\n",
    "    df_cal = df_cal.filter(pl.col(\"Picarro ID\") == id)\n",
    "    \n",
    "    return df_p.sort(\"datetime\") \\\n",
    "    .join_asof(df_cal, on=\"datetime\", strategy=\"nearest\", tolerance=\"10m\") \\\n",
    "    .with_columns([\n",
    "        pl.col(\"slope\").interpolate().alias(\"slope_interpolated\"),\n",
    "        pl.col(\"intercept\").interpolate().alias(\"intercept_interpolated\")\n",
    "        ]) \\\n",
    "    .with_columns([\n",
    "        pl.col(\"slope_interpolated\").forward_fill().backward_fill(),\n",
    "        pl.col(\"intercept_interpolated\").forward_fill().backward_fill()\n",
    "        ]) \\\n",
    "    .with_columns(((pl.col(\"CO2_dry\")) * pl.col(\"slope_interpolated\") + pl.col(\"intercept_interpolated\")).alias(\"picarro_corrected\")) \\\n",
    "    .select(\"datetime\", \"system_name\", \"system_id\", \"picarro_corrected\", \"h2o_reported\")"
   ]
  },
  {
   "cell_type": "code",
   "execution_count": 46,
   "metadata": {},
   "outputs": [
    {
     "data": {
      "text/html": [
       "<div><style>\n",
       ".dataframe > thead > tr,\n",
       ".dataframe > tbody > tr {\n",
       "  text-align: right;\n",
       "  white-space: pre-wrap;\n",
       "}\n",
       "</style>\n",
       "<small>shape: (2, 5)</small><table border=\"1\" class=\"dataframe\"><thead><tr><th>datetime</th><th>system_name</th><th>system_id</th><th>picarro_corrected</th><th>h2o_reported</th></tr><tr><td>datetime[ms]</td><td>str</td><td>i32</td><td>f64</td><td>f64</td></tr></thead><tbody><tr><td>2023-07-01 00:00:00</td><td>&quot;Picarro_G2301&quot;</td><td>413</td><td>436.319033</td><td>2.266186</td></tr><tr><td>2024-12-20 16:17:00</td><td>&quot;Picarro_G2301&quot;</td><td>413</td><td>610.944729</td><td>-0.001034</td></tr></tbody></table></div>"
      ],
      "text/plain": [
       "shape: (2, 5)\n",
       "┌─────────────────────┬───────────────┬───────────┬───────────────────┬──────────────┐\n",
       "│ datetime            ┆ system_name   ┆ system_id ┆ picarro_corrected ┆ h2o_reported │\n",
       "│ ---                 ┆ ---           ┆ ---       ┆ ---               ┆ ---          │\n",
       "│ datetime[ms]        ┆ str           ┆ i32       ┆ f64               ┆ f64          │\n",
       "╞═════════════════════╪═══════════════╪═══════════╪═══════════════════╪══════════════╡\n",
       "│ 2023-07-01 00:00:00 ┆ Picarro_G2301 ┆ 413       ┆ 436.319033        ┆ 2.266186     │\n",
       "│ 2024-12-20 16:17:00 ┆ Picarro_G2301 ┆ 413       ┆ 610.944729        ┆ -0.001034    │\n",
       "└─────────────────────┴───────────────┴───────────┴───────────────────┴──────────────┘"
      ]
     },
     "execution_count": 46,
     "metadata": {},
     "output_type": "execute_result"
    }
   ],
   "source": [
    "df_corr = apply_calibration_correction(df_p=df_p_413, df_cal=df_cal, id=413)\n",
    "\n",
    "df_corr.write_parquet(os.path.join(PROCESSED_PICARRO_DATA_DIRECTORY, \"Calibrated_1_min_DWD_Picarro_G2301_413.parquet\"))\n",
    "\n",
    "df_corr.group_by_dynamic(\"datetime\", every='1m', group_by=[\"system_name\", \"system_id\"]).agg(cs.numeric().mean()) \\\n",
    "    .write_parquet(os.path.join(PROCESSED_PICARRO_DATA_DIRECTORY, \"Calibrated_1_h_DWD_Picarro_G2301_413.parquet\"))\n",
    "    \n",
    "df_corr.head(1).vstack(df_corr.tail(1))"
   ]
  },
  {
   "cell_type": "code",
   "execution_count": 47,
   "metadata": {},
   "outputs": [
    {
     "data": {
      "text/html": [
       "<div><style>\n",
       ".dataframe > thead > tr,\n",
       ".dataframe > tbody > tr {\n",
       "  text-align: right;\n",
       "  white-space: pre-wrap;\n",
       "}\n",
       "</style>\n",
       "<small>shape: (2, 5)</small><table border=\"1\" class=\"dataframe\"><thead><tr><th>datetime</th><th>system_name</th><th>system_id</th><th>picarro_corrected</th><th>h2o_reported</th></tr><tr><td>datetime[ms]</td><td>str</td><td>i32</td><td>f64</td><td>f64</td></tr></thead><tbody><tr><td>2024-09-23 11:21:00</td><td>&quot;Picarro_G2401&quot;</td><td>529</td><td>700.150721</td><td>1.795375</td></tr><tr><td>2025-03-03 15:27:00</td><td>&quot;Picarro_G2401&quot;</td><td>529</td><td>448.656505</td><td>0.489036</td></tr></tbody></table></div>"
      ],
      "text/plain": [
       "shape: (2, 5)\n",
       "┌─────────────────────┬───────────────┬───────────┬───────────────────┬──────────────┐\n",
       "│ datetime            ┆ system_name   ┆ system_id ┆ picarro_corrected ┆ h2o_reported │\n",
       "│ ---                 ┆ ---           ┆ ---       ┆ ---               ┆ ---          │\n",
       "│ datetime[ms]        ┆ str           ┆ i32       ┆ f64               ┆ f64          │\n",
       "╞═════════════════════╪═══════════════╪═══════════╪═══════════════════╪══════════════╡\n",
       "│ 2024-09-23 11:21:00 ┆ Picarro_G2401 ┆ 529       ┆ 700.150721        ┆ 1.795375     │\n",
       "│ 2025-03-03 15:27:00 ┆ Picarro_G2401 ┆ 529       ┆ 448.656505        ┆ 0.489036     │\n",
       "└─────────────────────┴───────────────┴───────────┴───────────────────┴──────────────┘"
      ]
     },
     "execution_count": 47,
     "metadata": {},
     "output_type": "execute_result"
    }
   ],
   "source": [
    "df_corr = apply_calibration_correction(df_p=df_p_529, df_cal=df_cal, id=529)\n",
    "\n",
    "df_corr.write_parquet(os.path.join(PROCESSED_PICARRO_DATA_DIRECTORY, \"Calibrated_1_min_ICOS_Picarro_G2401_529.parquet\"))\n",
    "\n",
    "df_corr.group_by_dynamic(\"datetime\", every='1m', group_by=[\"system_name\", \"system_id\"]).agg(cs.numeric().mean()) \\\n",
    "    .write_parquet(os.path.join(PROCESSED_PICARRO_DATA_DIRECTORY, \"Calibrated_1_h_ICOS_Picarro_G2401_529.parquet\"))\n",
    "    \n",
    "df_corr.head(1).vstack(df_corr.tail(1))"
   ]
  }
 ],
 "metadata": {
  "kernelspec": {
   "display_name": ".venv",
   "language": "python",
   "name": "python3"
  },
  "language_info": {
   "codemirror_mode": {
    "name": "ipython",
    "version": 3
   },
   "file_extension": ".py",
   "mimetype": "text/x-python",
   "name": "python",
   "nbconvert_exporter": "python",
   "pygments_lexer": "ipython3",
   "version": "3.12.9"
  }
 },
 "nbformat": 4,
 "nbformat_minor": 2
}
