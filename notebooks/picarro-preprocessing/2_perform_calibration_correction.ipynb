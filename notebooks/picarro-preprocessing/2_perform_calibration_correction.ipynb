{
 "cells": [
  {
   "cell_type": "code",
   "execution_count": 9,
   "metadata": {},
   "outputs": [],
   "source": [
    "# Imports & Inits\n",
    "import os\n",
    "import sys\n",
    "import polars as pl\n",
    "import polars.selectors as cs\n",
    "\n",
    "PROJECT_PATH = os.path.abspath(os.path.join(\"..\", \"..\"))\n",
    "PIPELINE_PATH = os.path.join(PROJECT_PATH, \"pipeline\")\n",
    "DATA_DIRECTORY = os.path.join(PROJECT_PATH, \"data\")\n",
    "\n",
    "if PIPELINE_PATH not in sys.path:\n",
    "    sys.path.append(PIPELINE_PATH)\n",
    "    \n",
    "from utils.paths import PROCESSED_PICARRO_DATA_DIRECTORY\n",
    "\n",
    "df_p_413 = pl.scan_parquet(os.path.join(PROCESSED_PICARRO_DATA_DIRECTORY, \"DWD_Picarro_G2301_413.parquet\")) \\\n",
    "    .with_columns(pl.col(\"datetime\").dt.cast_time_unit(\"ms\"))\n",
    "df_p_529 = pl.scan_parquet(os.path.join(PROCESSED_PICARRO_DATA_DIRECTORY, \"ICOS_Picarro_G2401_529.parquet\")) \\\n",
    "    .with_columns(pl.col(\"datetime\").dt.cast_time_unit(\"ms\")) \n",
    "df_p_cal_corr = pl.scan_parquet(os.path.join(PROCESSED_PICARRO_DATA_DIRECTORY, \"picarro_slope_intercept.parquet\")) \\\n",
    "    .with_columns(pl.col(\"datetime\").dt.cast_time_unit(\"ms\"))"
   ]
  },
  {
   "cell_type": "code",
   "execution_count": 10,
   "metadata": {},
   "outputs": [
    {
     "data": {
      "text/html": [
       "<div><style>\n",
       ".dataframe > thead > tr,\n",
       ".dataframe > tbody > tr {\n",
       "  text-align: right;\n",
       "  white-space: pre-wrap;\n",
       "}\n",
       "</style>\n",
       "<small>shape: (10, 6)</small><table border=\"1\" class=\"dataframe\"><thead><tr><th>datetime</th><th>Picarro ID</th><th>Bottle_1_Median</th><th>Bottle_2_Median</th><th>slope</th><th>intercept</th></tr><tr><td>datetime[ms]</td><td>i64</td><td>f64</td><td>f64</td><td>f64</td><td>f64</td></tr></thead><tbody><tr><td>2023-10-23 13:31:00</td><td>413</td><td>424.60174</td><td>607.006545</td><td>1.006388</td><td>0.065919</td></tr><tr><td>2023-12-18 15:32:00</td><td>413</td><td>424.720504</td><td>607.182719</td><td>1.006071</td><td>0.080886</td></tr><tr><td>2024-05-06 12:31:00</td><td>413</td><td>424.737684</td><td>607.144954</td><td>1.006374</td><td>-0.065117</td></tr><tr><td>2024-09-04 14:00:00</td><td>413</td><td>424.37114</td><td>606.636933</td><td>1.007156</td><td>-0.027737</td></tr><tr><td>2024-09-24 10:02:00</td><td>413</td><td>424.671389</td><td>607.080922</td><td>1.006362</td><td>0.006904</td></tr><tr><td>2024-12-03 13:43:00</td><td>413</td><td>424.494511</td><td>606.837327</td><td>1.00673</td><td>0.028601</td></tr><tr><td>2024-12-20 17:17:00</td><td>413</td><td>424.70576</td><td>607.157409</td><td>1.00613</td><td>0.070976</td></tr><tr><td>2024-09-23 13:22:00</td><td>529</td><td>424.55278</td><td>607.022187</td><td>1.006032</td><td>0.266464</td></tr><tr><td>2024-11-21 13:23:00</td><td>529</td><td>424.618376</td><td>607.100354</td><td>1.005962</td><td>0.229899</td></tr><tr><td>2025-02-24 12:55:00</td><td>529</td><td>424.605472</td><td>607.069369</td><td>1.006062</td><td>0.200554</td></tr></tbody></table></div>"
      ],
      "text/plain": [
       "shape: (10, 6)\n",
       "┌─────────────────────┬────────────┬─────────────────┬─────────────────┬──────────┬───────────┐\n",
       "│ datetime            ┆ Picarro ID ┆ Bottle_1_Median ┆ Bottle_2_Median ┆ slope    ┆ intercept │\n",
       "│ ---                 ┆ ---        ┆ ---             ┆ ---             ┆ ---      ┆ ---       │\n",
       "│ datetime[ms]        ┆ i64        ┆ f64             ┆ f64             ┆ f64      ┆ f64       │\n",
       "╞═════════════════════╪════════════╪═════════════════╪═════════════════╪══════════╪═══════════╡\n",
       "│ 2023-10-23 13:31:00 ┆ 413        ┆ 424.60174       ┆ 607.006545      ┆ 1.006388 ┆ 0.065919  │\n",
       "│ 2023-12-18 15:32:00 ┆ 413        ┆ 424.720504      ┆ 607.182719      ┆ 1.006071 ┆ 0.080886  │\n",
       "│ 2024-05-06 12:31:00 ┆ 413        ┆ 424.737684      ┆ 607.144954      ┆ 1.006374 ┆ -0.065117 │\n",
       "│ 2024-09-04 14:00:00 ┆ 413        ┆ 424.37114       ┆ 606.636933      ┆ 1.007156 ┆ -0.027737 │\n",
       "│ 2024-09-24 10:02:00 ┆ 413        ┆ 424.671389      ┆ 607.080922      ┆ 1.006362 ┆ 0.006904  │\n",
       "│ 2024-12-03 13:43:00 ┆ 413        ┆ 424.494511      ┆ 606.837327      ┆ 1.00673  ┆ 0.028601  │\n",
       "│ 2024-12-20 17:17:00 ┆ 413        ┆ 424.70576       ┆ 607.157409      ┆ 1.00613  ┆ 0.070976  │\n",
       "│ 2024-09-23 13:22:00 ┆ 529        ┆ 424.55278       ┆ 607.022187      ┆ 1.006032 ┆ 0.266464  │\n",
       "│ 2024-11-21 13:23:00 ┆ 529        ┆ 424.618376      ┆ 607.100354      ┆ 1.005962 ┆ 0.229899  │\n",
       "│ 2025-02-24 12:55:00 ┆ 529        ┆ 424.605472      ┆ 607.069369      ┆ 1.006062 ┆ 0.200554  │\n",
       "└─────────────────────┴────────────┴─────────────────┴─────────────────┴──────────┴───────────┘"
      ]
     },
     "execution_count": 10,
     "metadata": {},
     "output_type": "execute_result"
    }
   ],
   "source": [
    "df_p_cal_corr.collect()"
   ]
  },
  {
   "cell_type": "code",
   "execution_count": 11,
   "metadata": {},
   "outputs": [],
   "source": [
    "df_cal_corr = df_p_cal_corr.filter(pl.col(\"Picarro ID\") == 413) \\\n",
    "    .sort(\"datetime\")\n",
    "\n",
    "df_p_413_corr = df_p_413.sort(\"datetime\") \\\n",
    "    .join_asof(df_cal_corr, on=\"datetime\", strategy=\"nearest\", tolerance=\"10m\") \\\n",
    "    .with_columns([\n",
    "        pl.col(\"slope\").interpolate().alias(\"slope_interpolated\"),\n",
    "        pl.col(\"intercept\").interpolate().alias(\"intercept_interpolated\")\n",
    "        ]) \\\n",
    "    .with_columns([\n",
    "        pl.col(\"slope_interpolated\").forward_fill().backward_fill(),\n",
    "        pl.col(\"intercept_interpolated\").forward_fill().backward_fill()\n",
    "        ]) \\\n",
    "    .with_columns(((pl.col(\"CO2_dry\")) * pl.col(\"slope_interpolated\") + pl.col(\"intercept_interpolated\")).alias(\"picarro_corrected\")) \\\n",
    "    .with_columns(system_name = pl.lit(\"Picarro_G2301\")) \\\n",
    "    .with_columns(system_id = pl.lit(413)) \\\n",
    "    .collect()\n",
    "    \n",
    "# save raw file\n",
    "df_p_413_corr.write_parquet(os.path.join(PROCESSED_PICARRO_DATA_DIRECTORY, \"Calibrated_Raw_DWD_Picarro_G2301_413.parquet\"))\n",
    "\n",
    "# 1m\n",
    "df_p_413_corr.select(\"datetime\", \"system_name\", \"system_id\", \"picarro_corrected\", \"h2o_reported\") \\\n",
    "    .group_by_dynamic(\"datetime\", every='1m', group_by=[\"system_name\", \"system_id\"]) \\\n",
    "    .agg(cs.numeric().mean()) \\\n",
    "    .write_parquet(os.path.join(PROCESSED_PICARRO_DATA_DIRECTORY, \"Calibrated_1_min_DWD_Picarro_G2301_413.parquet\"))\n",
    "    \n",
    "# 1h  \n",
    "df_p_413_corr.select(\"datetime\", \"system_name\", \"system_id\", \"picarro_corrected\", \"h2o_reported\") \\\n",
    "    .group_by_dynamic(\"datetime\", every='1h', group_by=[\"system_name\", \"system_id\"]) \\\n",
    "    .agg(cs.numeric().mean()) \\\n",
    "    .write_parquet(os.path.join(PROCESSED_PICARRO_DATA_DIRECTORY, \"Calibrated_1_h_DWD_Picarro_G2301_413.parquet\"))\n",
    "    \n",
    "df_p_413_corr.head(1).vstack(df_p_413_corr.tail(1))"
   ]
  },
  {
   "cell_type": "code",
   "execution_count": 12,
   "metadata": {},
   "outputs": [
    {
     "data": {
      "text/html": [
       "<div><style>\n",
       ".dataframe > thead > tr,\n",
       ".dataframe > tbody > tr {\n",
       "  text-align: right;\n",
       "  white-space: pre-wrap;\n",
       "}\n",
       "</style>\n",
       "<small>shape: (2, 43)</small><table border=\"1\" class=\"dataframe\"><thead><tr><th>DATE</th><th>TIME</th><th>FRAC_DAYS_SINCE_JAN1</th><th>FRAC_HRS_SINCE_JAN1</th><th>JULIAN_DAYS</th><th>EPOCH_TIME</th><th>ALARM_STATUS</th><th>INST_STATUS</th><th>CavityPressure</th><th>CavityTemp</th><th>DasTemp</th><th>EtalonTemp</th><th>WarmBoxTemp</th><th>species</th><th>MPVPosition</th><th>OutletValve</th><th>CO</th><th>CO2</th><th>CO2_dry</th><th>CH4</th><th>CH4_dry</th><th>H2O</th><th>h2o_reported</th><th>co2_base</th><th>ch4_base</th><th>wlm2_offset</th><th>co2_pzt_std</th><th>ch4_pzt_std</th><th>b_h2o_pct</th><th>peak_14</th><th>peak84_raw</th><th>datetime</th><th>__index_level_0__</th><th>Picarro ID</th><th>Bottle_1_Median</th><th>Bottle_2_Median</th><th>slope</th><th>intercept</th><th>slope_interpolated</th><th>intercept_interpolated</th><th>picarro_corrected</th><th>system_name</th><th>system_id</th></tr><tr><td>str</td><td>str</td><td>f64</td><td>f64</td><td>f64</td><td>f64</td><td>f64</td><td>f64</td><td>f64</td><td>f64</td><td>f64</td><td>f64</td><td>f64</td><td>f64</td><td>f64</td><td>f64</td><td>f64</td><td>f64</td><td>f64</td><td>f64</td><td>f64</td><td>f64</td><td>f64</td><td>f64</td><td>f64</td><td>f64</td><td>f64</td><td>f64</td><td>f64</td><td>f64</td><td>f64</td><td>datetime[ms]</td><td>i64</td><td>i64</td><td>f64</td><td>f64</td><td>f64</td><td>f64</td><td>f64</td><td>f64</td><td>f64</td><td>str</td><td>i32</td></tr></thead><tbody><tr><td>&quot;2024-09-23&quot;</td><td>&quot;11:21:13.016&quot;</td><td>266.473067</td><td>6395.353616</td><td>267.473067</td><td>1.7271e9</td><td>0.0</td><td>963.0</td><td>140.010322</td><td>44.854485</td><td>37.625</td><td>44.7799</td><td>44.805504</td><td>1.0</td><td>0.0</td><td>32230.379956</td><td>0.0</td><td>725.528657</td><td>0.0</td><td>0.0</td><td>0.0</td><td>0.0</td><td>0.0</td><td>761.902019</td><td>0.0</td><td>0.0</td><td>570.310965</td><td>0.0</td><td>0.0</td><td>1031.44608</td><td>0.0</td><td>2024-09-23 11:21:13.016</td><td>17234767</td><td>null</td><td>null</td><td>null</td><td>null</td><td>null</td><td>1.006032</td><td>0.266464</td><td>0.266464</td><td>&quot;Picarro_G2401&quot;</td><td>529</td></tr><tr><td>&quot;2025-03-03&quot;</td><td>&quot;15:27:57.660&quot;</td><td>61.644417</td><td>1479.466017</td><td>62.644417</td><td>1.7410e9</td><td>0.0</td><td>963.0</td><td>139.997345</td><td>44.998833</td><td>39.0625</td><td>45.102409</td><td>44.99865</td><td>3.0</td><td>0.0</td><td>32583.15625</td><td>0.150781</td><td>443.572592</td><td>446.22185</td><td>2.081851</td><td>2.092025</td><td>0.381206</td><td>0.487782</td><td>760.844567</td><td>913.553978</td><td>-0.033572</td><td>81.322562</td><td>118.540749</td><td>0.51286</td><td>630.539621</td><td>0.336018</td><td>2025-03-03 15:27:57.660</td><td>241953</td><td>null</td><td>null</td><td>null</td><td>null</td><td>null</td><td>1.006062</td><td>0.200554</td><td>449.127417</td><td>&quot;Picarro_G2401&quot;</td><td>529</td></tr></tbody></table></div>"
      ],
      "text/plain": [
       "shape: (2, 43)\n",
       "┌───────────┬───────────┬───────────┬───────────┬───┬───────────┬───────────┬───────────┬──────────┐\n",
       "│ DATE      ┆ TIME      ┆ FRAC_DAYS ┆ FRAC_HRS_ ┆ … ┆ intercept ┆ picarro_c ┆ system_na ┆ system_i │\n",
       "│ ---       ┆ ---       ┆ _SINCE_JA ┆ SINCE_JAN ┆   ┆ _interpol ┆ orrected  ┆ me        ┆ d        │\n",
       "│ str       ┆ str       ┆ N1        ┆ 1         ┆   ┆ ated      ┆ ---       ┆ ---       ┆ ---      │\n",
       "│           ┆           ┆ ---       ┆ ---       ┆   ┆ ---       ┆ f64       ┆ str       ┆ i32      │\n",
       "│           ┆           ┆ f64       ┆ f64       ┆   ┆ f64       ┆           ┆           ┆          │\n",
       "╞═══════════╪═══════════╪═══════════╪═══════════╪═══╪═══════════╪═══════════╪═══════════╪══════════╡\n",
       "│ 2024-09-2 ┆ 11:21:13. ┆ 266.47306 ┆ 6395.3536 ┆ … ┆ 0.266464  ┆ 0.266464  ┆ Picarro_G ┆ 529      │\n",
       "│ 3         ┆ 016       ┆ 7         ┆ 16        ┆   ┆           ┆           ┆ 2401      ┆          │\n",
       "│ 2025-03-0 ┆ 15:27:57. ┆ 61.644417 ┆ 1479.4660 ┆ … ┆ 0.200554  ┆ 449.12741 ┆ Picarro_G ┆ 529      │\n",
       "│ 3         ┆ 660       ┆           ┆ 17        ┆   ┆           ┆ 7         ┆ 2401      ┆          │\n",
       "└───────────┴───────────┴───────────┴───────────┴───┴───────────┴───────────┴───────────┴──────────┘"
      ]
     },
     "execution_count": 12,
     "metadata": {},
     "output_type": "execute_result"
    }
   ],
   "source": [
    "df_cal_corr = df_p_cal_corr.filter(pl.col(\"Picarro ID\") == 529) \\\n",
    "    .sort(\"datetime\")\n",
    "\n",
    "df_p_529_corr = df_p_529.sort(\"datetime\") \\\n",
    "    .join_asof(df_cal_corr, on=\"datetime\", strategy=\"nearest\", tolerance=\"10m\") \\\n",
    "    .with_columns([\n",
    "        pl.col(\"slope\").interpolate().alias(\"slope_interpolated\"),\n",
    "        pl.col(\"intercept\").interpolate().alias(\"intercept_interpolated\")\n",
    "        ]) \\\n",
    "    .with_columns([\n",
    "        pl.col(\"slope_interpolated\").forward_fill().backward_fill(),\n",
    "        pl.col(\"intercept_interpolated\").forward_fill().backward_fill()\n",
    "        ]) \\\n",
    "    .with_columns(((pl.col(\"CO2_dry\")) * pl.col(\"slope_interpolated\") + pl.col(\"intercept_interpolated\")).alias(\"picarro_corrected\")) \\\n",
    "    .with_columns(system_name = pl.lit(\"Picarro_G2401\")) \\\n",
    "    .with_columns(system_id = pl.lit(529)) \\\n",
    "    .collect()\n",
    "    \n",
    "# save raw file\n",
    "df_p_529_corr.write_parquet(os.path.join(PROCESSED_PICARRO_DATA_DIRECTORY, \"Calibrated_Raw_ICOS_Picarro_G2401_529.parquet\"))\n",
    "\n",
    "# 1m\n",
    "df_p_529_corr.select(\"datetime\", \"system_name\", \"system_id\", \"picarro_corrected\", \"h2o_reported\") \\\n",
    "    .group_by_dynamic(\"datetime\", every='1m', group_by=[\"system_name\", \"system_id\"]) \\\n",
    "    .agg(cs.numeric().mean()) \\\n",
    "    .write_parquet(os.path.join(PROCESSED_PICARRO_DATA_DIRECTORY, \"Calibrated_1_min_ICOS_Picarro_G2401_529.parquet\"))\n",
    "    \n",
    "# 1h  \n",
    "df_p_529_corr.select(\"datetime\", \"system_name\", \"system_id\", \"picarro_corrected\", \"h2o_reported\") \\\n",
    "    .group_by_dynamic(\"datetime\", every='1h', group_by=[\"system_name\", \"system_id\"]) \\\n",
    "    .agg(cs.numeric().mean()) \\\n",
    "    .write_parquet(os.path.join(PROCESSED_PICARRO_DATA_DIRECTORY, \"Calibrated_1_h_ICOS_Picarro_G2401_529.parquet\"))\n",
    "    \n",
    "df_p_529_corr.head(1).vstack(df_p_529_corr.tail(1))"
   ]
  }
 ],
 "metadata": {
  "kernelspec": {
   "display_name": ".venv",
   "language": "python",
   "name": "python3"
  },
  "language_info": {
   "codemirror_mode": {
    "name": "ipython",
    "version": 3
   },
   "file_extension": ".py",
   "mimetype": "text/x-python",
   "name": "python",
   "nbconvert_exporter": "python",
   "pygments_lexer": "ipython3",
   "version": "3.12.9"
  }
 },
 "nbformat": 4,
 "nbformat_minor": 2
}
