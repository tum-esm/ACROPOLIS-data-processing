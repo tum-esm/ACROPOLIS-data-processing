{
 "cells": [
  {
   "cell_type": "code",
   "execution_count": 13,
   "metadata": {},
   "outputs": [],
   "source": [
    "# Imports & Inits\n",
    "import os\n",
    "import sys\n",
    "import polars as pl\n",
    "\n",
    "PROJECT_PATH = os.path.abspath(os.path.join(\"..\", \"..\"))\n",
    "PIPELINE_PATH = os.path.join(PROJECT_PATH, \"pipeline\")\n",
    "DATA_DIRECTORY = os.path.join(PROJECT_PATH, \"data\")\n",
    "\n",
    "if PIPELINE_PATH not in sys.path:\n",
    "    sys.path.append(PIPELINE_PATH)\n",
    "    \n",
    "from utils.paths import PROCESSED_PICARRO_DATA_DIRECTORY\n",
    "\n",
    "df_p_413 = pl.read_parquet(os.path.join(PROCESSED_PICARRO_DATA_DIRECTORY, \"DWD_Picarro_G2301_413.parquet\")) \\\n",
    "    .with_columns(pl.col(\"datetime\").dt.cast_time_unit(\"us\"))\n",
    "df_p_529 = pl.read_parquet(os.path.join(PROCESSED_PICARRO_DATA_DIRECTORY, \"ICOS_Picarro_G2401_529.parquet\")) \\\n",
    "    .with_columns(pl.col(\"datetime\").dt.cast_time_unit(\"us\")) \n",
    "df_p_cal_corr = pl.read_parquet(os.path.join(PROCESSED_PICARRO_DATA_DIRECTORY, \"picarro_slope_intercept.parquet\")) \\\n",
    "    .with_columns(pl.col(\"datetime\").dt.cast_time_unit(\"us\"))"
   ]
  },
  {
   "cell_type": "code",
   "execution_count": 14,
   "metadata": {},
   "outputs": [
    {
     "data": {
      "text/html": [
       "<div><style>\n",
       ".dataframe > thead > tr,\n",
       ".dataframe > tbody > tr {\n",
       "  text-align: right;\n",
       "  white-space: pre-wrap;\n",
       "}\n",
       "</style>\n",
       "<small>shape: (10, 6)</small><table border=\"1\" class=\"dataframe\"><thead><tr><th>datetime</th><th>Picarro ID</th><th>Bottle_1_Median</th><th>Bottle_2_Median</th><th>slope</th><th>intercept</th></tr><tr><td>datetime[μs, UTC]</td><td>i64</td><td>f64</td><td>f64</td><td>f64</td><td>f64</td></tr></thead><tbody><tr><td>2023-10-23 13:31:00 UTC</td><td>413</td><td>424.60174</td><td>607.006545</td><td>1.006388</td><td>0.065919</td></tr><tr><td>2023-12-18 15:32:00 UTC</td><td>413</td><td>424.720504</td><td>607.182719</td><td>1.006071</td><td>0.080886</td></tr><tr><td>2024-05-06 12:31:00 UTC</td><td>413</td><td>424.737684</td><td>607.144954</td><td>1.006374</td><td>-0.065117</td></tr><tr><td>2024-09-04 14:00:00 UTC</td><td>413</td><td>424.37114</td><td>606.636933</td><td>1.007156</td><td>-0.027737</td></tr><tr><td>2024-09-24 10:02:00 UTC</td><td>413</td><td>424.671389</td><td>607.080922</td><td>1.006362</td><td>0.006904</td></tr><tr><td>2024-12-03 13:43:00 UTC</td><td>413</td><td>424.494511</td><td>606.837327</td><td>1.00673</td><td>0.028601</td></tr><tr><td>2024-12-20 17:17:00 UTC</td><td>413</td><td>424.70576</td><td>607.157409</td><td>1.00613</td><td>0.070976</td></tr><tr><td>2024-09-23 13:22:00 UTC</td><td>529</td><td>424.55278</td><td>607.022187</td><td>1.006032</td><td>0.266464</td></tr><tr><td>2024-11-21 13:23:00 UTC</td><td>529</td><td>424.618376</td><td>607.100354</td><td>1.005962</td><td>0.229899</td></tr><tr><td>2025-02-24 12:55:00 UTC</td><td>529</td><td>424.605472</td><td>607.069369</td><td>1.006062</td><td>0.200554</td></tr></tbody></table></div>"
      ],
      "text/plain": [
       "shape: (10, 6)\n",
       "┌─────────────────────────┬────────────┬─────────────────┬─────────────────┬──────────┬───────────┐\n",
       "│ datetime                ┆ Picarro ID ┆ Bottle_1_Median ┆ Bottle_2_Median ┆ slope    ┆ intercept │\n",
       "│ ---                     ┆ ---        ┆ ---             ┆ ---             ┆ ---      ┆ ---       │\n",
       "│ datetime[μs, UTC]       ┆ i64        ┆ f64             ┆ f64             ┆ f64      ┆ f64       │\n",
       "╞═════════════════════════╪════════════╪═════════════════╪═════════════════╪══════════╪═══════════╡\n",
       "│ 2023-10-23 13:31:00 UTC ┆ 413        ┆ 424.60174       ┆ 607.006545      ┆ 1.006388 ┆ 0.065919  │\n",
       "│ 2023-12-18 15:32:00 UTC ┆ 413        ┆ 424.720504      ┆ 607.182719      ┆ 1.006071 ┆ 0.080886  │\n",
       "│ 2024-05-06 12:31:00 UTC ┆ 413        ┆ 424.737684      ┆ 607.144954      ┆ 1.006374 ┆ -0.065117 │\n",
       "│ 2024-09-04 14:00:00 UTC ┆ 413        ┆ 424.37114       ┆ 606.636933      ┆ 1.007156 ┆ -0.027737 │\n",
       "│ 2024-09-24 10:02:00 UTC ┆ 413        ┆ 424.671389      ┆ 607.080922      ┆ 1.006362 ┆ 0.006904  │\n",
       "│ 2024-12-03 13:43:00 UTC ┆ 413        ┆ 424.494511      ┆ 606.837327      ┆ 1.00673  ┆ 0.028601  │\n",
       "│ 2024-12-20 17:17:00 UTC ┆ 413        ┆ 424.70576       ┆ 607.157409      ┆ 1.00613  ┆ 0.070976  │\n",
       "│ 2024-09-23 13:22:00 UTC ┆ 529        ┆ 424.55278       ┆ 607.022187      ┆ 1.006032 ┆ 0.266464  │\n",
       "│ 2024-11-21 13:23:00 UTC ┆ 529        ┆ 424.618376      ┆ 607.100354      ┆ 1.005962 ┆ 0.229899  │\n",
       "│ 2025-02-24 12:55:00 UTC ┆ 529        ┆ 424.605472      ┆ 607.069369      ┆ 1.006062 ┆ 0.200554  │\n",
       "└─────────────────────────┴────────────┴─────────────────┴─────────────────┴──────────┴───────────┘"
      ]
     },
     "execution_count": 14,
     "metadata": {},
     "output_type": "execute_result"
    }
   ],
   "source": [
    "df_p_cal_corr"
   ]
  },
  {
   "cell_type": "code",
   "execution_count": 15,
   "metadata": {},
   "outputs": [],
   "source": [
    "df_cal_corr = df_p_cal_corr.filter(pl.col(\"Picarro ID\") == 413) \\\n",
    "    .sort(\"datetime\")\n",
    "\n",
    "df_p_413_corr = df_p_413.with_columns(pl.col(\"datetime\").dt.replace_time_zone(\"UTC\")) \\\n",
    "    .sort(\"datetime\") \\\n",
    "    .join_asof(df_cal_corr, on=\"datetime\", strategy=\"nearest\", tolerance=\"10m\") \\\n",
    "    .with_columns([\n",
    "        pl.col(\"slope\").interpolate().alias(\"slope_interpolated\"),\n",
    "        pl.col(\"intercept\").interpolate().alias(\"intercept_interpolated\")\n",
    "        ]) \\\n",
    "    .with_columns([\n",
    "        pl.col(\"slope_interpolated\").forward_fill(),\n",
    "        pl.col(\"intercept_interpolated\").forward_fill()\n",
    "        ]) \\\n",
    "    .with_columns([\n",
    "        pl.col(\"slope_interpolated\").backward_fill(),\n",
    "        pl.col(\"intercept_interpolated\").backward_fill()\n",
    "        ]) \\\n",
    "    .with_columns(((pl.col(\"CO2_dry\")) * pl.col(\"slope_interpolated\") + pl.col(\"intercept_interpolated\")).alias(\"picarro_corrected\"))\n",
    "    \n",
    "# save raw file\n",
    "df_p_413_corr.write_parquet(os.path.join(PROCESSED_PICARRO_DATA_DIRECTORY, \"Calibrated_Raw_DWD_Picarro_G2301_413.parquet\"))\n",
    "\n",
    "# 1m\n",
    "df_p_413_corr.with_columns(pl.lit(\"Picarro\").alias(\"sys_name_short\")) \\\n",
    "    .select(\"datetime\", \"sys_name_short\", \"picarro_corrected\", \"h2o_reported\") \\\n",
    "    .rename({\"datetime\":\"creation_timestamp\"}) \\\n",
    "    .group_by_dynamic(\"creation_timestamp\", every='1m') \\\n",
    "    .agg(pl.all().exclude([\"creation_timestamp\",\"sys_name_short\"]).mean(),\n",
    "            pl.col(\"picarro_corrected\").std().alias(\"std\")) \\\n",
    "    .write_parquet(os.path.join(PROCESSED_PICARRO_DATA_DIRECTORY, \"Calibrated_1_min_DWD_Picarro_G2301_413.parquet\"))\n",
    "    \n",
    "# 1h  \n",
    "df_p_413_corr.with_columns(pl.lit(\"Picarro\").alias(\"sys_name_short\")) \\\n",
    "    .select(\"datetime\", \"sys_name_short\", \"picarro_corrected\", \"h2o_reported\") \\\n",
    "    .rename({\"datetime\":\"creation_timestamp\"}) \\\n",
    "    .group_by_dynamic(\"creation_timestamp\", every='1h') \\\n",
    "    .agg(pl.all().exclude([\"creation_timestamp\",\"sys_name_short\"]).mean(),\n",
    "            pl.col(\"picarro_corrected\").std().alias(\"std\")) \\\n",
    "    .write_parquet(os.path.join(PROCESSED_PICARRO_DATA_DIRECTORY, \"Calibrated_1_h_DWD_Picarro_G2301_413.parquet\"))"
   ]
  },
  {
   "cell_type": "code",
   "execution_count": 16,
   "metadata": {},
   "outputs": [],
   "source": [
    "df_cal_corr = df_p_cal_corr.filter(pl.col(\"Picarro ID\") == 529) \\\n",
    "    .sort(\"datetime\")\n",
    "\n",
    "df_p_529_corr = df_p_529.with_columns(pl.col(\"datetime\").dt.replace_time_zone(\"UTC\")) \\\n",
    "    .sort(\"datetime\") \\\n",
    "    .join_asof(df_cal_corr, on=\"datetime\", strategy=\"nearest\", tolerance=\"10m\") \\\n",
    "    .with_columns([\n",
    "        pl.col(\"slope\").interpolate().alias(\"slope_interpolated\"),\n",
    "        pl.col(\"intercept\").interpolate().alias(\"intercept_interpolated\")\n",
    "        ]) \\\n",
    "    .with_columns([\n",
    "        pl.col(\"slope_interpolated\").forward_fill(),\n",
    "        pl.col(\"intercept_interpolated\").forward_fill()\n",
    "        ]) \\\n",
    "    .with_columns([\n",
    "        pl.col(\"slope_interpolated\").backward_fill(),\n",
    "        pl.col(\"intercept_interpolated\").backward_fill()\n",
    "        ]) \\\n",
    "    .with_columns(((pl.col(\"CO2_dry\")) * pl.col(\"slope_interpolated\") + pl.col(\"intercept_interpolated\")).alias(\"picarro_corrected\"))\n",
    "    \n",
    "# save raw file\n",
    "df_p_529_corr.write_parquet(os.path.join(PROCESSED_PICARRO_DATA_DIRECTORY, \"Calibrated_Raw_ICOS_Picarro_G2401_529.parquet\"))\n",
    "\n",
    "# 1m\n",
    "df_p_529_corr.with_columns(pl.lit(\"Picarro\").alias(\"sys_name_short\")) \\\n",
    "    .select(\"datetime\", \"sys_name_short\", \"picarro_corrected\", \"h2o_reported\") \\\n",
    "    .rename({\"datetime\":\"creation_timestamp\"}) \\\n",
    "    .group_by_dynamic(\"creation_timestamp\", every='1m') \\\n",
    "    .agg(pl.all().exclude([\"creation_timestamp\",\"sys_name_short\"]).mean(),\n",
    "            pl.col(\"picarro_corrected\").std().alias(\"std\")) \\\n",
    "    .write_parquet(os.path.join(PROCESSED_PICARRO_DATA_DIRECTORY, \"Calibrated_1_min_ICOS_Picarro_G2401_529.parquet\"))\n",
    "    \n",
    "# 1h  \n",
    "df_p_529_corr.with_columns(pl.lit(\"Picarro\").alias(\"sys_name_short\")) \\\n",
    "    .select(\"datetime\", \"sys_name_short\", \"picarro_corrected\", \"h2o_reported\") \\\n",
    "    .rename({\"datetime\":\"creation_timestamp\"}) \\\n",
    "    .group_by_dynamic(\"creation_timestamp\", every='1h') \\\n",
    "    .agg(pl.all().exclude([\"creation_timestamp\",\"sys_name_short\"]).mean(),\n",
    "            pl.col(\"picarro_corrected\").std().alias(\"std\")) \\\n",
    "    .write_parquet(os.path.join(PROCESSED_PICARRO_DATA_DIRECTORY, \"Calibrated_1_h_ICOS_Picarro_G2401_529.parquet\"))"
   ]
  }
 ],
 "metadata": {
  "kernelspec": {
   "display_name": ".venv",
   "language": "python",
   "name": "python3"
  },
  "language_info": {
   "codemirror_mode": {
    "name": "ipython",
    "version": 3
   },
   "file_extension": ".py",
   "mimetype": "text/x-python",
   "name": "python",
   "nbconvert_exporter": "python",
   "pygments_lexer": "ipython3",
   "version": "3.12.9"
  }
 },
 "nbformat": 4,
 "nbformat_minor": 2
}
