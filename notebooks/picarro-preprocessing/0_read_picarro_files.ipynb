{
 "cells": [
  {
   "cell_type": "code",
   "execution_count": 3,
   "metadata": {},
   "outputs": [],
   "source": [
    "import sys\n",
    "import os\n",
    "import pandas as pd\n",
    "import polars as pl\n",
    "import numpy as np\n",
    "import glob\n",
    "import seaborn as sns\n",
    "import matplotlib.pyplot as plt\n",
    "import matplotlib.dates as mdates\n",
    "\n",
    "PROJECT_PATH = os.path.abspath(os.path.join(\"..\", \"..\"))\n",
    "PIPELINE_PATH = os.path.join(PROJECT_PATH, \"pipeline\")\n",
    "DATA_DIRECTORY = os.path.join(PROJECT_PATH, \"data\")\n",
    "\n",
    "\n",
    "if PIPELINE_PATH not in sys.path:\n",
    "    sys.path.append(PIPELINE_PATH)\n",
    "\n",
    "from utils.paths import PICARRO_DATA_DIRECTORY, PROCESSED_PICARRO_DATA_DIRECTORY\n",
    "\n",
    "assert(os.path.exists(PICARRO_DATA_DIRECTORY))\n",
    "assert(os.path.exists(PROCESSED_PICARRO_DATA_DIRECTORY))"
   ]
  },
  {
   "cell_type": "code",
   "execution_count": 4,
   "metadata": {},
   "outputs": [
    {
     "name": "stderr",
     "output_type": "stream",
     "text": [
      "<>:14: SyntaxWarning: invalid escape sequence '\\s'\n",
      "<>:14: SyntaxWarning: invalid escape sequence '\\s'\n",
      "/var/folders/y4/db3wnfk51k5977sk937k5q140000gn/T/ipykernel_1717/2839495103.py:14: SyntaxWarning: invalid escape sequence '\\s'\n",
      "  df_list.append(pd.read_csv(filename,sep='\\s+'))\n"
     ]
    }
   ],
   "source": [
    "def merge_picarro_files(input_path:str, output_path:str, output_name:str=\"picarro\"):\n",
    "    \"\"\"Example Path: .../BaseFolder/Year/Month/Day/*.dat\n",
    "    \n",
    "    input_path:str = \".../BaseFolder\"\n",
    "    \n",
    "    \"\"\"\n",
    "    path = os.path.join(input_path, \"*/*/*/*.dat\")\n",
    "    filenames = glob.glob(path)\n",
    "    \n",
    "\n",
    "    df_list = []\n",
    "    #read all files into pandas dataframe\n",
    "    for filename in filenames:\n",
    "        df_list.append(pd.read_csv(filename,sep='\\s+'))\n",
    "\n",
    "    # concat all read files\n",
    "    df_picarro = pd.concat(df_list, ignore_index=True)\n",
    "    \n",
    "    # calculate datetime object for dataframe and sort by time\n",
    "    df_picarro[\"datetime\"] = pd.to_datetime((df_picarro['DATE'] + ' ' + df_picarro['TIME']))\n",
    "    df_picarro.sort_values(by='datetime', inplace = True)\n",
    "    \n",
    "    # fix: some value seems to be a int in this float column\n",
    "    df_picarro.EtalonTemp = pd.to_numeric(df_picarro.EtalonTemp, errors='coerce').fillna(0).astype(np.float64)\n",
    "    \n",
    "    # save dataframe as parquet file\n",
    "    df_picarro.to_parquet(path = f\"{output_path}/{output_name}.parquet\")\n",
    "    \n",
    "    return df_picarro"
   ]
  },
  {
   "cell_type": "code",
   "execution_count": null,
   "metadata": {},
   "outputs": [
    {
     "name": "stdout",
     "output_type": "stream",
     "text": [
      "Starting read for DWD Picarro G2301 ID413.\n",
      "Finished read for DWD Picarro G2301 ID413.\n",
      "Starting read for ICOS_Picarro_G2401_529.\n",
      "Starting read for ICOS_Picarro_G2401_529.\n"
     ]
    }
   ],
   "source": [
    "# DWD Picarro G2301 ID413\n",
    "print(\"Starting read for DWD Picarro G2301 ID413.\")\n",
    "path = os.path.join(PICARRO_DATA_DIRECTORY, \"DWD_Picarro_G2301_413\")\n",
    "#df_p_413 = merge_picarro_files(input_path=path, output_path=PROCESSED_PICARRO_DATA_DIRECTORY, output_name=\"DWD_Picarro_G2301_413\")\n",
    "print(\"Finished read for DWD Picarro G2301 ID413.\")\n",
    "\n",
    "# LSCE Picarro G2401 ID520\n",
    "print(\"Starting read for ICOS_Picarro_G2401_529.\")\n",
    "#path = os.path.join(PICARRO_DATA_DIRECTORY, \"ICOS_Picarro_G2401_529\")\n",
    "#df_p_529 = merge_picarro_files(input_path=path, output_path=PROCESSED_PICARRO_DATA_DIRECTORY, output_name=\"ICOS_Picarro_G2401_529\")\n",
    "print(\"Starting read for ICOS_Picarro_G2401_529.\")"
   ]
  },
  {
   "cell_type": "code",
   "execution_count": 7,
   "metadata": {},
   "outputs": [
    {
     "data": {
      "text/html": [
       "<div>\n",
       "<style scoped>\n",
       "    .dataframe tbody tr th:only-of-type {\n",
       "        vertical-align: middle;\n",
       "    }\n",
       "\n",
       "    .dataframe tbody tr th {\n",
       "        vertical-align: top;\n",
       "    }\n",
       "\n",
       "    .dataframe thead th {\n",
       "        text-align: right;\n",
       "    }\n",
       "</style>\n",
       "<table border=\"1\" class=\"dataframe\">\n",
       "  <thead>\n",
       "    <tr style=\"text-align: right;\">\n",
       "      <th></th>\n",
       "      <th>DATE</th>\n",
       "      <th>TIME</th>\n",
       "      <th>FRAC_DAYS_SINCE_JAN1</th>\n",
       "      <th>FRAC_HRS_SINCE_JAN1</th>\n",
       "      <th>JULIAN_DAYS</th>\n",
       "      <th>EPOCH_TIME</th>\n",
       "      <th>ALARM_STATUS</th>\n",
       "      <th>INST_STATUS</th>\n",
       "      <th>CavityPressure</th>\n",
       "      <th>CavityTemp</th>\n",
       "      <th>...</th>\n",
       "      <th>CO2</th>\n",
       "      <th>CO2_dry</th>\n",
       "      <th>h2o_reported</th>\n",
       "      <th>ch4_base</th>\n",
       "      <th>ch4_pzt_std</th>\n",
       "      <th>co2_base</th>\n",
       "      <th>co2_pzt_std</th>\n",
       "      <th>wlm1_offset</th>\n",
       "      <th>wlm2_offset</th>\n",
       "      <th>datetime</th>\n",
       "    </tr>\n",
       "  </thead>\n",
       "  <tbody>\n",
       "    <tr>\n",
       "      <th>25156741</th>\n",
       "      <td>2023-07-01</td>\n",
       "      <td>00:00:01.150</td>\n",
       "      <td>181.000013</td>\n",
       "      <td>4344.000319</td>\n",
       "      <td>182.000013</td>\n",
       "      <td>1.688170e+09</td>\n",
       "      <td>0</td>\n",
       "      <td>963</td>\n",
       "      <td>140.012831</td>\n",
       "      <td>44.99987</td>\n",
       "      <td>...</td>\n",
       "      <td>421.023033</td>\n",
       "      <td>433.462829</td>\n",
       "      <td>2.274335</td>\n",
       "      <td>1181.940043</td>\n",
       "      <td>82.55631</td>\n",
       "      <td>1084.999673</td>\n",
       "      <td>78.542541</td>\n",
       "      <td>-0.074797</td>\n",
       "      <td>-0.045017</td>\n",
       "      <td>2023-07-01 00:00:01.150</td>\n",
       "    </tr>\n",
       "  </tbody>\n",
       "</table>\n",
       "<p>1 rows × 26 columns</p>\n",
       "</div>"
      ],
      "text/plain": [
       "                DATE          TIME  FRAC_DAYS_SINCE_JAN1  FRAC_HRS_SINCE_JAN1  \\\n",
       "25156741  2023-07-01  00:00:01.150            181.000013          4344.000319   \n",
       "\n",
       "          JULIAN_DAYS    EPOCH_TIME  ALARM_STATUS  INST_STATUS  \\\n",
       "25156741   182.000013  1.688170e+09             0          963   \n",
       "\n",
       "          CavityPressure  CavityTemp  ...         CO2     CO2_dry  \\\n",
       "25156741      140.012831    44.99987  ...  421.023033  433.462829   \n",
       "\n",
       "          h2o_reported     ch4_base  ch4_pzt_std     co2_base  co2_pzt_std  \\\n",
       "25156741      2.274335  1181.940043     82.55631  1084.999673    78.542541   \n",
       "\n",
       "          wlm1_offset  wlm2_offset                datetime  \n",
       "25156741    -0.074797    -0.045017 2023-07-01 00:00:01.150  \n",
       "\n",
       "[1 rows x 26 columns]"
      ]
     },
     "execution_count": 7,
     "metadata": {},
     "output_type": "execute_result"
    }
   ],
   "source": [
    "df_p_413.head(1)"
   ]
  },
  {
   "cell_type": "code",
   "execution_count": 16,
   "metadata": {},
   "outputs": [
    {
     "name": "stderr",
     "output_type": "stream",
     "text": [
      "/Users/patrickaigner/Documents/PROJECTS/acropolis-visualisation/.venv/lib/python3.12/site-packages/seaborn/_oldcore.py:1119: FutureWarning: use_inf_as_na option is deprecated and will be removed in a future version. Convert inf values to NaN before operating instead.\n",
      "  with pd.option_context('mode.use_inf_as_na', True):\n",
      "/Users/patrickaigner/Documents/PROJECTS/acropolis-visualisation/.venv/lib/python3.12/site-packages/seaborn/_oldcore.py:1119: FutureWarning: use_inf_as_na option is deprecated and will be removed in a future version. Convert inf values to NaN before operating instead.\n",
      "  with pd.option_context('mode.use_inf_as_na', True):\n"
     ]
    },
    {
     "data": {
      "image/png": "[encoded data removed]",
      "text/plain": [
       "<Figure size 640x480 with 1 Axes>"
      ]
     },
     "metadata": {},
     "output_type": "display_data"
    }
   ],
   "source": [
    "df_plot = df_p_529[[\"datetime\", \"CO2_dry\"]] \\\n",
    "    .loc[(df_p_529['CO2_dry'] > 300) & (df_p_529['CO2_dry'] < 1000)] \\\n",
    "    .set_index(\"datetime\") \\\n",
    "    .resample('1min').mean() \n",
    "    \n",
    "sns.lineplot(data=df_plot,x='datetime',y=\"CO2_dry\",label=\"Picarro\")\n",
    "\n",
    "# set axes labels\n",
    "plt.xlabel(\"Time\")\n",
    "plt.ylabel('CO2_dry')\n",
    "plt.xticks(rotation=45)\n",
    "\n",
    "# plt.legend(title=\"Systems\", bbox_to_anchor=(1, 1))\n",
    "plt.title(label='CO2_dry')\n",
    "plt.gca().xaxis.set_major_formatter(mdates.DateFormatter(\"%d.%m\"))\n",
    "\n",
    "# show the plot\n",
    "plt.show()"
   ]
  }
 ],
 "metadata": {
  "kernelspec": {
   "display_name": ".venv",
   "language": "python",
   "name": "python3"
  },
  "language_info": {
   "codemirror_mode": {
    "name": "ipython",
    "version": 3
   },
   "file_extension": ".py",
   "mimetype": "text/x-python",
   "name": "python",
   "nbconvert_exporter": "python",
   "pygments_lexer": "ipython3",
   "version": "3.12.9"
  },
  "orig_nbformat": 4
 },
 "nbformat": 4,
 "nbformat_minor": 2
}
