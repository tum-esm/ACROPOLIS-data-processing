{
 "cells": [
  {
   "cell_type": "code",
   "execution_count": 1,
   "metadata": {},
   "outputs": [],
   "source": [
    "import psycopg2\n",
    "import os\n",
    "\n",
    "CONNECTION = os.environ.get(\"TIMESCALE_CONNECTION_STRING\")"
   ]
  },
  {
   "cell_type": "code",
   "execution_count": null,
   "metadata": {},
   "outputs": [],
   "source": [
    "# download from measurement table\n",
    "\"SELECT * FROM measurement WHERE creation_timestamp > '2024-07-04T09:00:00+00:00'::TIMESTAMPTZ ORDER BY creation_timestamp DESC LIMIT 1024;\"\n",
    "\n",
    "#delete\n",
    "\"DELETE FROM measurement WHERE creation_timestamp < '2024-05-01T00:00:00+00:00'::TIMESTAMPTZ;\""
   ]
  },
  {
   "cell_type": "code",
   "execution_count": 18,
   "metadata": {},
   "outputs": [
    {
     "data": {
      "text/plain": [
       "65536"
      ]
     },
     "execution_count": 18,
     "metadata": {},
     "output_type": "execute_result"
    }
   ],
   "source": [
    "2**16"
   ]
  },
  {
   "cell_type": "code",
   "execution_count": 4,
   "metadata": {},
   "outputs": [
    {
     "name": "stdout",
     "output_type": "stream",
     "text": [
      "('64c5c8ec-4e6b-413b-b113-b130f80eae91', 'gmp343_raw', 395.9, 38, datetime.datetime(2024, 6, 30, 0, 0, 1, 500000, tzinfo=datetime.timezone.utc), datetime.datetime(2024, 6, 30, 0, 0, 2, 331463, tzinfo=datetime.timezone.utc))\n"
     ]
    }
   ],
   "source": [
    "with psycopg2.connect(CONNECTION) as conn:\n",
    "    cursor = conn.cursor()\n",
    "    # use the cursor to interact with your database\n",
    "    \n",
    "    cursor.execute(\"SELECT * FROM measurement WHERE creation_timestamp > '2024-06-30T00:00:00+00:00'::TIMESTAMPTZ ORDER BY creation_timestamp LIMIT 1024;\")\n",
    "    print(cursor.fetchone())"
   ]
  }
 ],
 "metadata": {
  "kernelspec": {
   "display_name": ".venv",
   "language": "python",
   "name": "python3"
  },
  "language_info": {
   "codemirror_mode": {
    "name": "ipython",
    "version": 3
   },
   "file_extension": ".py",
   "mimetype": "text/x-python",
   "name": "python",
   "nbconvert_exporter": "python",
   "pygments_lexer": "ipython3",
   "version": "3.11.9"
  }
 },
 "nbformat": 4,
 "nbformat_minor": 2
}
