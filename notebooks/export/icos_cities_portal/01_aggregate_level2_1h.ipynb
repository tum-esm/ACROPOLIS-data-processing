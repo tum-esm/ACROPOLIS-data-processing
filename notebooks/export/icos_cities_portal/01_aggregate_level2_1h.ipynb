{
 "cells": [
  {
   "cell_type": "code",
   "execution_count": 1,
   "metadata": {},
   "outputs": [],
   "source": [
    "import polars as pl\n",
    "import os\n",
    "from datetime import timedelta\n",
    "\n",
    "\n",
    "DATA_DIRECTORY = os.environ.get(\"DATA_DIRECTORY\")"
   ]
  },
  {
   "cell_type": "code",
   "execution_count": 2,
   "metadata": {},
   "outputs": [],
   "source": [
    "df_1_min = pl.read_parquet(os.path.join(DATA_DIRECTORY, \"processed\", \"pipeline\", \"flagged_L2_1_min_acropolis.parquet\"))"
   ]
  },
  {
   "cell_type": "code",
   "execution_count": 3,
   "metadata": {},
   "outputs": [
    {
     "name": "stderr",
     "output_type": "stream",
     "text": [
      "/var/folders/y4/db3wnfk51k5977sk937k5q140000gn/T/ipykernel_1704/3943880282.py:10: DeprecationWarning: The argument `by` for `group_by_dynamic` is deprecated. It has been renamed to `group_by`.\n",
      "  .group_by_dynamic(\"creation_timestamp\", every='1h', by=[\"system_id\", \"sys_name_short\"]) \\\n"
     ]
    }
   ],
   "source": [
    "# Set Flag O for all aggregations with more or equal to 40 datapoints per hour\n",
    "# Set Flag K for all aggregations with less than 40 datapoints per hour\n",
    "# New Column: Standard Diviation Stdev\n",
    "# New Column: Number of point NbPoints\n",
    "\n",
    "# save a 1h product for ICOS cities portal\n",
    "df_1_min.sort(\"creation_timestamp\") \\\n",
    "        .filter(pl.col(\"Flag\") == 'O') \\\n",
    "        .drop(\"Flag\") \\\n",
    "        .group_by_dynamic(\"creation_timestamp\", every='1h', by=[\"system_id\", \"sys_name_short\"]) \\\n",
    "        .agg(pl.all().exclude([\"creation_timestamp\",\"system_id\", \"sys_name_short\"]).mean(),\n",
    "             pl.col(\"gmp343_corrected\").std().alias(\"Stdev\"),\n",
    "             pl.col(\"gmp343_corrected\").count().alias(\"NbPoints\")) \\\n",
    "        .with_columns(pl.when(pl.col(\"NbPoints\") < 40).then(pl.lit('K')).otherwise(pl.lit('O')).alias(\"Flag\"),\n",
    "                      (pl.col(\"creation_timestamp\") + timedelta(minutes=30))) \\\n",
    "        .write_parquet(os.path.join(DATA_DIRECTORY, \"processed\", \"pipeline\", \"flagged_L2_1_h_acropolis.parquet\"))"
   ]
  }
 ],
 "metadata": {
  "kernelspec": {
   "display_name": ".venv",
   "language": "python",
   "name": "python3"
  },
  "language_info": {
   "codemirror_mode": {
    "name": "ipython",
    "version": 3
   },
   "file_extension": ".py",
   "mimetype": "text/x-python",
   "name": "python",
   "nbconvert_exporter": "python",
   "pygments_lexer": "ipython3",
   "version": "3.11.10"
  }
 },
 "nbformat": 4,
 "nbformat_minor": 2
}
