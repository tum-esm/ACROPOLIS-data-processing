{
 "cells": [
  {
   "cell_type": "code",
   "execution_count": 1,
   "metadata": {},
   "outputs": [],
   "source": [
    "import os\n",
    "from utils import hermes_download_client\n",
    "\n",
    "DATA_DIRECTORY = os.environ.get(\"DATA_DIRECTORY\")"
   ]
  },
  {
   "cell_type": "code",
   "execution_count": 2,
   "metadata": {},
   "outputs": [
    {
     "name": "stdout",
     "output_type": "stream",
     "text": [
      "Start downloading from datetime: \n",
      "did not find a measurements-chunk-*.parquet\n",
      "reading last creation_timestamp from acropolis.parquet\n",
      "2024-12-01 08:26:05.380000+00:00\n",
      "2024-12-01 09:20:21.780000+00:00\n",
      "2024-12-01 10:14:35.570000+00:00\n",
      "2024-12-01 11:09:01.050000+00:00\n",
      "2024-12-01 12:03:20.590000+00:00\n",
      "2024-12-01 12:57:38.500000+00:00\n",
      "2024-12-01 13:55:00.370000+00:00\n",
      "2024-12-01 14:52:26.630000+00:00\n",
      "2024-12-01 15:49:49.670000+00:00\n",
      "2024-12-01 16:47:12.080000+00:00\n",
      "2024-12-01 17:45:57.260000+00:00\n",
      "2024-12-01 18:46:50.390000+00:00\n",
      "2024-12-01 19:47:43.400000+00:00\n",
      "2024-12-01 20:48:33.380000+00:00\n",
      "2024-12-01 21:49:24.300000+00:00\n",
      "2024-12-01 22:50:17.540000+00:00\n",
      "2024-12-01 23:51:31.190000+00:00\n",
      "2024-12-02 00:52:24.210000+00:00\n",
      "2024-12-02 01:53:57.040000+00:00\n",
      "2024-12-02 02:54:41.360000+00:00\n",
      "2024-12-02 04:00:48.740000+00:00\n",
      "2024-12-02 05:01:44.430000+00:00\n",
      "2024-12-02 06:02:44.390000+00:00\n",
      "2024-12-02 07:03:36.260000+00:00\n",
      "2024-12-02 08:04:32.810000+00:00\n",
      "Joining metadata.\n",
      "Performing merge.\n",
      "Dumping merged files.\n",
      "Deleting merged chunks.\n"
     ]
    }
   ],
   "source": [
    "while(True):\n",
    "    try:\n",
    "        component = hermes_download_client.Extract()\n",
    "        df_raw = component.execute()\n",
    "        break\n",
    "    except Exception as e:\n",
    "        print(e)"
   ]
  }
 ],
 "metadata": {
  "kernelspec": {
   "display_name": ".venv",
   "language": "python",
   "name": "python3"
  },
  "language_info": {
   "codemirror_mode": {
    "name": "ipython",
    "version": 3
   },
   "file_extension": ".py",
   "mimetype": "text/x-python",
   "name": "python",
   "nbconvert_exporter": "python",
   "pygments_lexer": "ipython3",
   "version": "3.11.10"
  }
 },
 "nbformat": 4,
 "nbformat_minor": 2
}
