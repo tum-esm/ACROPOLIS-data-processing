{
 "cells": [
  {
   "cell_type": "code",
   "execution_count": 2,
   "metadata": {},
   "outputs": [],
   "source": [
    "import os\n",
    "import sys\n",
    "import polars as pl\n",
    "import plotly.express as px\n",
    "import numpy as np\n",
    "import seaborn as sns\n",
    "import matplotlib.pyplot as plt\n",
    "import polars.selectors as cs\n",
    "\n",
    "PROJECT_PATH = os.path.abspath(os.path.join(\"..\", \"..\"))\n",
    "PIPELINE_PATH = os.path.join(PROJECT_PATH, \"pipeline\")\n",
    "DATA_DIRECTORY = os.path.join(PROJECT_PATH, \"data\")\n",
    "\n",
    "if PIPELINE_PATH not in sys.path:\n",
    "    sys.path.append(PIPELINE_PATH)"
   ]
  },
  {
   "cell_type": "code",
   "execution_count": 3,
   "metadata": {},
   "outputs": [],
   "source": [
    "df = pl.read_parquet(os.path.join(DATA_DIRECTORY, \"output\", \"side-by-side\", \"2025_L1_1_min_sbs_period_acropolis.parquet\")) \\\n",
    "    .sort(\"datetime\") \\\n",
    "    .with_columns(diff = pl.col(\"gmp343_corrected\") - pl.col(\"picarro_corrected\")) \\\n",
    "    .group_by_dynamic(\"datetime\", every='1h', group_by=[\"system_id\", \"system_name\"]) \\\n",
    "    .agg([\n",
    "            cs.numeric().mean(),\n",
    "            pl.col(\"gmp343_corrected\").std().alias(\"gmp343_corrected_std\"),\n",
    "            pl.col(\"gmp343_corrected\").var().alias(\"gmp343_corrected_var\")\n",
    "        ]) \\\n",
    "    .sort(\"system_id\")"
   ]
  },
  {
   "cell_type": "code",
   "execution_count": 4,
   "metadata": {},
   "outputs": [],
   "source": [
    "df_sbs = df.filter(pl.col(\"diff\").is_not_nan()) \\\n",
    "    .group_by([\"system_id\", \"system_name\"]) \\\n",
    "    .agg([\n",
    "            (pl.col(\"diff\").mean()).alias(\"mean_full_deployment\"),\n",
    "            (np.abs(pl.col(\"diff\"))).mean().alias(\"mae_full_deployment\"),\n",
    "            (pl.col(\"diff\").pow(2).mean()).alias(\"mse_full_deployment\"),\n",
    "            (pl.col(\"diff\").pow(2).mean().sqrt()).alias(\"rmse_full_deployment\")\n",
    "        ]) \\\n",
    "    .sort(\"system_id\")"
   ]
  },
  {
   "cell_type": "code",
   "execution_count": 5,
   "metadata": {},
   "outputs": [
    {
     "data": {
      "application/vnd.plotly.v1+json": {
       "config": {
        "plotlyServerURL": "https://plot.ly"
       },
       "data": [
        {
         "hovertemplate": "system_name=acropolis-3<br>date=%{x}<br>daily_mean=%{y}<extra></extra>",
         "legendgroup": "acropolis-3",
         "marker": {
          "color": "#636efa",
          "symbol": "circle"
         },
         "mode": "markers",
         "name": "acropolis-3",
         "orientation": "v",
         "showlegend": true,
         "type": "scatter",
         "x": [
          "2025-03-04T00:00:00",
          "2025-03-16T00:00:00",
          "2025-03-07T00:00:00",
          "2025-02-28T00:00:00",
          "2025-03-08T00:00:00",
          "2025-03-13T00:00:00",
          "2025-03-02T00:00:00",
          "2025-03-05T00:00:00",
          "2025-02-17T00:00:00",
          "2025-03-01T00:00:00",
          "2025-03-06T00:00:00",
          "2025-03-12T00:00:00",
          "2025-02-21T00:00:00",
          "2025-02-26T00:00:00",
          "2025-03-11T00:00:00",
          "2025-03-10T00:00:00",
          "2025-02-18T00:00:00",
          "2025-02-22T00:00:00",
          "2025-02-27T00:00:00",
          "2025-02-19T00:00:00",
          "2025-02-20T00:00:00",
          "2025-03-14T00:00:00",
          "2025-02-25T00:00:00",
          "2025-02-23T00:00:00",
          "2025-02-24T00:00:00",
          "2025-03-03T00:00:00",
          "2025-03-15T00:00:00",
          "2025-03-09T00:00:00"
         ],
         "xaxis": "x",
         "y": [
          -1.3761328391340184,
          -1.3576178311591158,
          -1.1473430347454734,
          -0.43197137206554487,
          -1.069984451347503,
          -0.2793269602680059,
          -1.0385589313577563,
          -1.296859698812512,
          -0.00397970741931617,
          -0.8602014514216108,
          -1.0533266589109873,
          -0.2270999258680676,
          -0.26361234574727355,
          -0.19920063548928227,
          -0.48165452233084594,
          -0.6696490403110428,
          -0.26719969366563895,
          -0.3083258850036617,
          -0.4084951343766254,
          -0.43326414909984384,
          -0.4559613679883985,
          -0.6704935307810981,
          -0.17705053375365998,
          -0.25883194922115826,
          -0.2549308113882541,
          -1.1800254376935169,
          -1.1036994000818792,
          -0.977787623424116
         ],
         "yaxis": "y"
        },
        {
         "hovertemplate": "system_name=acropolis-6<br>date=%{x}<br>daily_mean=%{y}<extra></extra>",
         "legendgroup": "acropolis-6",
         "marker": {
          "color": "#EF553B",
          "symbol": "circle"
         },
         "mode": "markers",
         "name": "acropolis-6",
         "orientation": "v",
         "showlegend": true,
         "type": "scatter",
         "x": [
          "2025-03-13T00:00:00",
          "2025-02-28T00:00:00",
          "2025-03-01T00:00:00",
          "2025-03-11T00:00:00",
          "2025-02-24T00:00:00",
          "2025-03-06T00:00:00",
          "2025-02-19T00:00:00",
          "2025-03-07T00:00:00",
          "2025-02-20T00:00:00",
          "2025-02-21T00:00:00",
          "2025-03-12T00:00:00",
          "2025-03-03T00:00:00",
          "2025-03-05T00:00:00",
          "2025-03-08T00:00:00",
          "2025-02-27T00:00:00",
          "2025-03-04T00:00:00",
          "2025-03-15T00:00:00",
          "2025-03-10T00:00:00",
          "2025-03-09T00:00:00",
          "2025-03-16T00:00:00",
          "2025-02-23T00:00:00",
          "2025-03-02T00:00:00",
          "2025-02-26T00:00:00",
          "2025-03-14T00:00:00",
          "2025-02-22T00:00:00",
          "2025-02-18T00:00:00",
          "2025-02-25T00:00:00"
         ],
         "xaxis": "x",
         "y": [
          0.23720938558228133,
          -0.9146916151104171,
          -0.5649035294777888,
          0.34201764638832155,
          -0.403778916677351,
          -0.381862079444471,
          -1.2255763303344644,
          -0.29054278300816044,
          -0.4787811409327714,
          -0.11084625067656634,
          0.584398673738942,
          -0.6843229956230931,
          -0.694979923128687,
          -0.26853808907145077,
          -0.7808737257786303,
          -0.7836592521383273,
          -0.7922043422152357,
          0.049148978525531066,
          -0.24277154730108855,
          -0.45145626726487326,
          -0.040364122507154536,
          -0.7340768518645486,
          -1.27311502003134,
          -0.13715661812748603,
          -0.3568474910042185,
          -0.8627097761896657,
          -0.6800764588474162
         ],
         "yaxis": "y"
        }
       ],
       "layout": {
        "legend": {
         "title": {
          "text": "system_name"
         },
         "tracegroupgap": 0
        },
        "margin": {
         "t": 60
        },
        "template": {
         "data": {
          "bar": [
           {
            "error_x": {
             "color": "#2a3f5f"
            },
            "error_y": {
             "color": "#2a3f5f"
            },
            "marker": {
             "line": {
              "color": "#E5ECF6",
              "width": 0.5
             },
             "pattern": {
              "fillmode": "overlay",
              "size": 10,
              "solidity": 0.2
             }
            },
            "type": "bar"
           }
          ],
          "barpolar": [
           {
            "marker": {
             "line": {
              "color": "#E5ECF6",
              "width": 0.5
             },
             "pattern": {
              "fillmode": "overlay",
              "size": 10,
              "solidity": 0.2
             }
            },
            "type": "barpolar"
           }
          ],
          "carpet": [
           {
            "aaxis": {
             "endlinecolor": "#2a3f5f",
             "gridcolor": "white",
             "linecolor": "white",
             "minorgridcolor": "white",
             "startlinecolor": "#2a3f5f"
            },
            "baxis": {
             "endlinecolor": "#2a3f5f",
             "gridcolor": "white",
             "linecolor": "white",
             "minorgridcolor": "white",
             "startlinecolor": "#2a3f5f"
            },
            "type": "carpet"
           }
          ],
          "choropleth": [
           {
            "colorbar": {
             "outlinewidth": 0,
             "ticks": ""
            },
            "type": "choropleth"
           }
          ],
          "contour": [
           {
            "colorbar": {
             "outlinewidth": 0,
             "ticks": ""
            },
            "colorscale": [
             [
              0,
              "#0d0887"
             ],
             [
              0.1111111111111111,
              "#46039f"
             ],
             [
              0.2222222222222222,
              "#7201a8"
             ],
             [
              0.3333333333333333,
              "#9c179e"
             ],
             [
              0.4444444444444444,
              "#bd3786"
             ],
             [
              0.5555555555555556,
              "#d8576b"
             ],
             [
              0.6666666666666666,
              "#ed7953"
             ],
             [
              0.7777777777777778,
              "#fb9f3a"
             ],
             [
              0.8888888888888888,
              "#fdca26"
             ],
             [
              1,
              "#f0f921"
             ]
            ],
            "type": "contour"
           }
          ],
          "contourcarpet": [
           {
            "colorbar": {
             "outlinewidth": 0,
             "ticks": ""
            },
            "type": "contourcarpet"
           }
          ],
          "heatmap": [
           {
            "colorbar": {
             "outlinewidth": 0,
             "ticks": ""
            },
            "colorscale": [
             [
              0,
              "#0d0887"
             ],
             [
              0.1111111111111111,
              "#46039f"
             ],
             [
              0.2222222222222222,
              "#7201a8"
             ],
             [
              0.3333333333333333,
              "#9c179e"
             ],
             [
              0.4444444444444444,
              "#bd3786"
             ],
             [
              0.5555555555555556,
              "#d8576b"
             ],
             [
              0.6666666666666666,
              "#ed7953"
             ],
             [
              0.7777777777777778,
              "#fb9f3a"
             ],
             [
              0.8888888888888888,
              "#fdca26"
             ],
             [
              1,
              "#f0f921"
             ]
            ],
            "type": "heatmap"
           }
          ],
          "heatmapgl": [
           {
            "colorbar": {
             "outlinewidth": 0,
             "ticks": ""
            },
            "colorscale": [
             [
              0,
              "#0d0887"
             ],
             [
              0.1111111111111111,
              "#46039f"
             ],
             [
              0.2222222222222222,
              "#7201a8"
             ],
             [
              0.3333333333333333,
              "#9c179e"
             ],
             [
              0.4444444444444444,
              "#bd3786"
             ],
             [
              0.5555555555555556,
              "#d8576b"
             ],
             [
              0.6666666666666666,
              "#ed7953"
             ],
             [
              0.7777777777777778,
              "#fb9f3a"
             ],
             [
              0.8888888888888888,
              "#fdca26"
             ],
             [
              1,
              "#f0f921"
             ]
            ],
            "type": "heatmapgl"
           }
          ],
          "histogram": [
           {
            "marker": {
             "pattern": {
              "fillmode": "overlay",
              "size": 10,
              "solidity": 0.2
             }
            },
            "type": "histogram"
           }
          ],
          "histogram2d": [
           {
            "colorbar": {
             "outlinewidth": 0,
             "ticks": ""
            },
            "colorscale": [
             [
              0,
              "#0d0887"
             ],
             [
              0.1111111111111111,
              "#46039f"
             ],
             [
              0.2222222222222222,
              "#7201a8"
             ],
             [
              0.3333333333333333,
              "#9c179e"
             ],
             [
              0.4444444444444444,
              "#bd3786"
             ],
             [
              0.5555555555555556,
              "#d8576b"
             ],
             [
              0.6666666666666666,
              "#ed7953"
             ],
             [
              0.7777777777777778,
              "#fb9f3a"
             ],
             [
              0.8888888888888888,
              "#fdca26"
             ],
             [
              1,
              "#f0f921"
             ]
            ],
            "type": "histogram2d"
           }
          ],
          "histogram2dcontour": [
           {
            "colorbar": {
             "outlinewidth": 0,
             "ticks": ""
            },
            "colorscale": [
             [
              0,
              "#0d0887"
             ],
             [
              0.1111111111111111,
              "#46039f"
             ],
             [
              0.2222222222222222,
              "#7201a8"
             ],
             [
              0.3333333333333333,
              "#9c179e"
             ],
             [
              0.4444444444444444,
              "#bd3786"
             ],
             [
              0.5555555555555556,
              "#d8576b"
             ],
             [
              0.6666666666666666,
              "#ed7953"
             ],
             [
              0.7777777777777778,
              "#fb9f3a"
             ],
             [
              0.8888888888888888,
              "#fdca26"
             ],
             [
              1,
              "#f0f921"
             ]
            ],
            "type": "histogram2dcontour"
           }
          ],
          "mesh3d": [
           {
            "colorbar": {
             "outlinewidth": 0,
             "ticks": ""
            },
            "type": "mesh3d"
           }
          ],
          "parcoords": [
           {
            "line": {
             "colorbar": {
              "outlinewidth": 0,
              "ticks": ""
             }
            },
            "type": "parcoords"
           }
          ],
          "pie": [
           {
            "automargin": true,
            "type": "pie"
           }
          ],
          "scatter": [
           {
            "fillpattern": {
             "fillmode": "overlay",
             "size": 10,
             "solidity": 0.2
            },
            "type": "scatter"
           }
          ],
          "scatter3d": [
           {
            "line": {
             "colorbar": {
              "outlinewidth": 0,
              "ticks": ""
             }
            },
            "marker": {
             "colorbar": {
              "outlinewidth": 0,
              "ticks": ""
             }
            },
            "type": "scatter3d"
           }
          ],
          "scattercarpet": [
           {
            "marker": {
             "colorbar": {
              "outlinewidth": 0,
              "ticks": ""
             }
            },
            "type": "scattercarpet"
           }
          ],
          "scattergeo": [
           {
            "marker": {
             "colorbar": {
              "outlinewidth": 0,
              "ticks": ""
             }
            },
            "type": "scattergeo"
           }
          ],
          "scattergl": [
           {
            "marker": {
             "colorbar": {
              "outlinewidth": 0,
              "ticks": ""
             }
            },
            "type": "scattergl"
           }
          ],
          "scattermapbox": [
           {
            "marker": {
             "colorbar": {
              "outlinewidth": 0,
              "ticks": ""
             }
            },
            "type": "scattermapbox"
           }
          ],
          "scatterpolar": [
           {
            "marker": {
             "colorbar": {
              "outlinewidth": 0,
              "ticks": ""
             }
            },
            "type": "scatterpolar"
           }
          ],
          "scatterpolargl": [
           {
            "marker": {
             "colorbar": {
              "outlinewidth": 0,
              "ticks": ""
             }
            },
            "type": "scatterpolargl"
           }
          ],
          "scatterternary": [
           {
            "marker": {
             "colorbar": {
              "outlinewidth": 0,
              "ticks": ""
             }
            },
            "type": "scatterternary"
           }
          ],
          "surface": [
           {
            "colorbar": {
             "outlinewidth": 0,
             "ticks": ""
            },
            "colorscale": [
             [
              0,
              "#0d0887"
             ],
             [
              0.1111111111111111,
              "#46039f"
             ],
             [
              0.2222222222222222,
              "#7201a8"
             ],
             [
              0.3333333333333333,
              "#9c179e"
             ],
             [
              0.4444444444444444,
              "#bd3786"
             ],
             [
              0.5555555555555556,
              "#d8576b"
             ],
             [
              0.6666666666666666,
              "#ed7953"
             ],
             [
              0.7777777777777778,
              "#fb9f3a"
             ],
             [
              0.8888888888888888,
              "#fdca26"
             ],
             [
              1,
              "#f0f921"
             ]
            ],
            "type": "surface"
           }
          ],
          "table": [
           {
            "cells": {
             "fill": {
              "color": "#EBF0F8"
             },
             "line": {
              "color": "white"
             }
            },
            "header": {
             "fill": {
              "color": "#C8D4E3"
             },
             "line": {
              "color": "white"
             }
            },
            "type": "table"
           }
          ]
         },
         "layout": {
          "annotationdefaults": {
           "arrowcolor": "#2a3f5f",
           "arrowhead": 0,
           "arrowwidth": 1
          },
          "autotypenumbers": "strict",
          "coloraxis": {
           "colorbar": {
            "outlinewidth": 0,
            "ticks": ""
           }
          },
          "colorscale": {
           "diverging": [
            [
             0,
             "#8e0152"
            ],
            [
             0.1,
             "#c51b7d"
            ],
            [
             0.2,
             "#de77ae"
            ],
            [
             0.3,
             "#f1b6da"
            ],
            [
             0.4,
             "#fde0ef"
            ],
            [
             0.5,
             "#f7f7f7"
            ],
            [
             0.6,
             "#e6f5d0"
            ],
            [
             0.7,
             "#b8e186"
            ],
            [
             0.8,
             "#7fbc41"
            ],
            [
             0.9,
             "#4d9221"
            ],
            [
             1,
             "#276419"
            ]
           ],
           "sequential": [
            [
             0,
             "#0d0887"
            ],
            [
             0.1111111111111111,
             "#46039f"
            ],
            [
             0.2222222222222222,
             "#7201a8"
            ],
            [
             0.3333333333333333,
             "#9c179e"
            ],
            [
             0.4444444444444444,
             "#bd3786"
            ],
            [
             0.5555555555555556,
             "#d8576b"
            ],
            [
             0.6666666666666666,
             "#ed7953"
            ],
            [
             0.7777777777777778,
             "#fb9f3a"
            ],
            [
             0.8888888888888888,
             "#fdca26"
            ],
            [
             1,
             "#f0f921"
            ]
           ],
           "sequentialminus": [
            [
             0,
             "#0d0887"
            ],
            [
             0.1111111111111111,
             "#46039f"
            ],
            [
             0.2222222222222222,
             "#7201a8"
            ],
            [
             0.3333333333333333,
             "#9c179e"
            ],
            [
             0.4444444444444444,
             "#bd3786"
            ],
            [
             0.5555555555555556,
             "#d8576b"
            ],
            [
             0.6666666666666666,
             "#ed7953"
            ],
            [
             0.7777777777777778,
             "#fb9f3a"
            ],
            [
             0.8888888888888888,
             "#fdca26"
            ],
            [
             1,
             "#f0f921"
            ]
           ]
          },
          "colorway": [
           "#636efa",
           "#EF553B",
           "#00cc96",
           "#ab63fa",
           "#FFA15A",
           "#19d3f3",
           "#FF6692",
           "#B6E880",
           "#FF97FF",
           "#FECB52"
          ],
          "font": {
           "color": "#2a3f5f"
          },
          "geo": {
           "bgcolor": "white",
           "lakecolor": "white",
           "landcolor": "#E5ECF6",
           "showlakes": true,
           "showland": true,
           "subunitcolor": "white"
          },
          "hoverlabel": {
           "align": "left"
          },
          "hovermode": "closest",
          "mapbox": {
           "style": "light"
          },
          "paper_bgcolor": "white",
          "plot_bgcolor": "#E5ECF6",
          "polar": {
           "angularaxis": {
            "gridcolor": "white",
            "linecolor": "white",
            "ticks": ""
           },
           "bgcolor": "#E5ECF6",
           "radialaxis": {
            "gridcolor": "white",
            "linecolor": "white",
            "ticks": ""
           }
          },
          "scene": {
           "xaxis": {
            "backgroundcolor": "#E5ECF6",
            "gridcolor": "white",
            "gridwidth": 2,
            "linecolor": "white",
            "showbackground": true,
            "ticks": "",
            "zerolinecolor": "white"
           },
           "yaxis": {
            "backgroundcolor": "#E5ECF6",
            "gridcolor": "white",
            "gridwidth": 2,
            "linecolor": "white",
            "showbackground": true,
            "ticks": "",
            "zerolinecolor": "white"
           },
           "zaxis": {
            "backgroundcolor": "#E5ECF6",
            "gridcolor": "white",
            "gridwidth": 2,
            "linecolor": "white",
            "showbackground": true,
            "ticks": "",
            "zerolinecolor": "white"
           }
          },
          "shapedefaults": {
           "line": {
            "color": "#2a3f5f"
           }
          },
          "ternary": {
           "aaxis": {
            "gridcolor": "white",
            "linecolor": "white",
            "ticks": ""
           },
           "baxis": {
            "gridcolor": "white",
            "linecolor": "white",
            "ticks": ""
           },
           "bgcolor": "#E5ECF6",
           "caxis": {
            "gridcolor": "white",
            "linecolor": "white",
            "ticks": ""
           }
          },
          "title": {
           "x": 0.05
          },
          "xaxis": {
           "automargin": true,
           "gridcolor": "white",
           "linecolor": "white",
           "ticks": "",
           "title": {
            "standoff": 15
           },
           "zerolinecolor": "white",
           "zerolinewidth": 2
          },
          "yaxis": {
           "automargin": true,
           "gridcolor": "white",
           "linecolor": "white",
           "ticks": "",
           "title": {
            "standoff": 15
           },
           "zerolinecolor": "white",
           "zerolinewidth": 2
          }
         }
        },
        "xaxis": {
         "anchor": "y",
         "domain": [
          0,
          1
         ],
         "title": {
          "text": "date"
         }
        },
        "yaxis": {
         "anchor": "x",
         "domain": [
          0,
          1
         ],
         "title": {
          "text": "daily_mean"
         }
        }
       }
      }
     },
     "metadata": {},
     "output_type": "display_data"
    },
    {
     "data": {
      "application/vnd.plotly.v1+json": {
       "config": {
        "plotlyServerURL": "https://plot.ly"
       },
       "data": [
        {
         "hovertemplate": "system_name=acropolis-3<br>date=%{x}<br>daily_median=%{y}<extra></extra>",
         "legendgroup": "acropolis-3",
         "marker": {
          "color": "#636efa",
          "symbol": "circle"
         },
         "mode": "markers",
         "name": "acropolis-3",
         "orientation": "v",
         "showlegend": true,
         "type": "scatter",
         "x": [
          "2025-03-04T00:00:00",
          "2025-03-16T00:00:00",
          "2025-03-07T00:00:00",
          "2025-02-28T00:00:00",
          "2025-03-08T00:00:00",
          "2025-03-13T00:00:00",
          "2025-03-02T00:00:00",
          "2025-03-05T00:00:00",
          "2025-02-17T00:00:00",
          "2025-03-01T00:00:00",
          "2025-03-06T00:00:00",
          "2025-03-12T00:00:00",
          "2025-02-21T00:00:00",
          "2025-02-26T00:00:00",
          "2025-03-11T00:00:00",
          "2025-03-10T00:00:00",
          "2025-02-18T00:00:00",
          "2025-02-22T00:00:00",
          "2025-02-27T00:00:00",
          "2025-02-19T00:00:00",
          "2025-02-20T00:00:00",
          "2025-03-14T00:00:00",
          "2025-02-25T00:00:00",
          "2025-02-23T00:00:00",
          "2025-02-24T00:00:00",
          "2025-03-03T00:00:00",
          "2025-03-15T00:00:00",
          "2025-03-09T00:00:00"
         ],
         "xaxis": "x",
         "y": [
          -1.3213693411214995,
          -1.3729533296717638,
          -1.105238178471123,
          -0.4405799266821203,
          -1.0184021961923655,
          -0.33776471040878087,
          -1.0331043500679251,
          -1.2737589895152066,
          -0.014928136772582926,
          -0.8792180791334394,
          -1.1222161529749464,
          -0.32331206170696825,
          -0.2507280490555921,
          -0.21622248658842172,
          -0.5224304423748651,
          -0.6365255866858731,
          -0.2340530978625336,
          -0.26197505440788993,
          -0.40967557629914686,
          -0.3777084276924607,
          -0.40212922344646246,
          -0.6946743803340165,
          -0.1419441018179959,
          -0.18312931565494636,
          -0.3894606007676946,
          -1.2249443912737796,
          -1.0799063818489616,
          -0.93298225447177
         ],
         "yaxis": "y"
        },
        {
         "hovertemplate": "system_name=acropolis-6<br>date=%{x}<br>daily_median=%{y}<extra></extra>",
         "legendgroup": "acropolis-6",
         "marker": {
          "color": "#EF553B",
          "symbol": "circle"
         },
         "mode": "markers",
         "name": "acropolis-6",
         "orientation": "v",
         "showlegend": true,
         "type": "scatter",
         "x": [
          "2025-03-13T00:00:00",
          "2025-02-28T00:00:00",
          "2025-03-01T00:00:00",
          "2025-03-11T00:00:00",
          "2025-02-24T00:00:00",
          "2025-03-06T00:00:00",
          "2025-02-19T00:00:00",
          "2025-03-07T00:00:00",
          "2025-02-20T00:00:00",
          "2025-02-21T00:00:00",
          "2025-03-12T00:00:00",
          "2025-03-03T00:00:00",
          "2025-03-05T00:00:00",
          "2025-03-08T00:00:00",
          "2025-02-27T00:00:00",
          "2025-03-04T00:00:00",
          "2025-03-15T00:00:00",
          "2025-03-10T00:00:00",
          "2025-03-09T00:00:00",
          "2025-03-16T00:00:00",
          "2025-02-23T00:00:00",
          "2025-03-02T00:00:00",
          "2025-02-26T00:00:00",
          "2025-03-14T00:00:00",
          "2025-02-22T00:00:00",
          "2025-02-18T00:00:00",
          "2025-02-25T00:00:00"
         ],
         "xaxis": "x",
         "y": [
          0.2628529570089574,
          -0.9020155402355973,
          -0.5351678568804548,
          0.35381619450553303,
          -0.48734851239869764,
          -0.3766378772865277,
          -1.254047741309206,
          -0.07561055615745171,
          -0.42933117178541413,
          -0.06761279273048829,
          0.612497609720275,
          -0.7857238059235268,
          -0.5743478739946006,
          -0.354461871641956,
          -0.7049023680172968,
          -0.8088502855601779,
          -0.7072158192631922,
          -0.10644561499853608,
          -0.30002408467684016,
          -0.5254060155446411,
          0.08588022915925322,
          -0.6750293382323796,
          -1.355134461513872,
          -0.009844424609760108,
          -0.403927840401906,
          -0.9626857473290178,
          -0.6876570201603575
         ],
         "yaxis": "y"
        }
       ],
       "layout": {
        "legend": {
         "title": {
          "text": "system_name"
         },
         "tracegroupgap": 0
        },
        "margin": {
         "t": 60
        },
        "template": {
         "data": {
          "bar": [
           {
            "error_x": {
             "color": "#2a3f5f"
            },
            "error_y": {
             "color": "#2a3f5f"
            },
            "marker": {
             "line": {
              "color": "#E5ECF6",
              "width": 0.5
             },
             "pattern": {
              "fillmode": "overlay",
              "size": 10,
              "solidity": 0.2
             }
            },
            "type": "bar"
           }
          ],
          "barpolar": [
           {
            "marker": {
             "line": {
              "color": "#E5ECF6",
              "width": 0.5
             },
             "pattern": {
              "fillmode": "overlay",
              "size": 10,
              "solidity": 0.2
             }
            },
            "type": "barpolar"
           }
          ],
          "carpet": [
           {
            "aaxis": {
             "endlinecolor": "#2a3f5f",
             "gridcolor": "white",
             "linecolor": "white",
             "minorgridcolor": "white",
             "startlinecolor": "#2a3f5f"
            },
            "baxis": {
             "endlinecolor": "#2a3f5f",
             "gridcolor": "white",
             "linecolor": "white",
             "minorgridcolor": "white",
             "startlinecolor": "#2a3f5f"
            },
            "type": "carpet"
           }
          ],
          "choropleth": [
           {
            "colorbar": {
             "outlinewidth": 0,
             "ticks": ""
            },
            "type": "choropleth"
           }
          ],
          "contour": [
           {
            "colorbar": {
             "outlinewidth": 0,
             "ticks": ""
            },
            "colorscale": [
             [
              0,
              "#0d0887"
             ],
             [
              0.1111111111111111,
              "#46039f"
             ],
             [
              0.2222222222222222,
              "#7201a8"
             ],
             [
              0.3333333333333333,
              "#9c179e"
             ],
             [
              0.4444444444444444,
              "#bd3786"
             ],
             [
              0.5555555555555556,
              "#d8576b"
             ],
             [
              0.6666666666666666,
              "#ed7953"
             ],
             [
              0.7777777777777778,
              "#fb9f3a"
             ],
             [
              0.8888888888888888,
              "#fdca26"
             ],
             [
              1,
              "#f0f921"
             ]
            ],
            "type": "contour"
           }
          ],
          "contourcarpet": [
           {
            "colorbar": {
             "outlinewidth": 0,
             "ticks": ""
            },
            "type": "contourcarpet"
           }
          ],
          "heatmap": [
           {
            "colorbar": {
             "outlinewidth": 0,
             "ticks": ""
            },
            "colorscale": [
             [
              0,
              "#0d0887"
             ],
             [
              0.1111111111111111,
              "#46039f"
             ],
             [
              0.2222222222222222,
              "#7201a8"
             ],
             [
              0.3333333333333333,
              "#9c179e"
             ],
             [
              0.4444444444444444,
              "#bd3786"
             ],
             [
              0.5555555555555556,
              "#d8576b"
             ],
             [
              0.6666666666666666,
              "#ed7953"
             ],
             [
              0.7777777777777778,
              "#fb9f3a"
             ],
             [
              0.8888888888888888,
              "#fdca26"
             ],
             [
              1,
              "#f0f921"
             ]
            ],
            "type": "heatmap"
           }
          ],
          "heatmapgl": [
           {
            "colorbar": {
             "outlinewidth": 0,
             "ticks": ""
            },
            "colorscale": [
             [
              0,
              "#0d0887"
             ],
             [
              0.1111111111111111,
              "#46039f"
             ],
             [
              0.2222222222222222,
              "#7201a8"
             ],
             [
              0.3333333333333333,
              "#9c179e"
             ],
             [
              0.4444444444444444,
              "#bd3786"
             ],
             [
              0.5555555555555556,
              "#d8576b"
             ],
             [
              0.6666666666666666,
              "#ed7953"
             ],
             [
              0.7777777777777778,
              "#fb9f3a"
             ],
             [
              0.8888888888888888,
              "#fdca26"
             ],
             [
              1,
              "#f0f921"
             ]
            ],
            "type": "heatmapgl"
           }
          ],
          "histogram": [
           {
            "marker": {
             "pattern": {
              "fillmode": "overlay",
              "size": 10,
              "solidity": 0.2
             }
            },
            "type": "histogram"
           }
          ],
          "histogram2d": [
           {
            "colorbar": {
             "outlinewidth": 0,
             "ticks": ""
            },
            "colorscale": [
             [
              0,
              "#0d0887"
             ],
             [
              0.1111111111111111,
              "#46039f"
             ],
             [
              0.2222222222222222,
              "#7201a8"
             ],
             [
              0.3333333333333333,
              "#9c179e"
             ],
             [
              0.4444444444444444,
              "#bd3786"
             ],
             [
              0.5555555555555556,
              "#d8576b"
             ],
             [
              0.6666666666666666,
              "#ed7953"
             ],
             [
              0.7777777777777778,
              "#fb9f3a"
             ],
             [
              0.8888888888888888,
              "#fdca26"
             ],
             [
              1,
              "#f0f921"
             ]
            ],
            "type": "histogram2d"
           }
          ],
          "histogram2dcontour": [
           {
            "colorbar": {
             "outlinewidth": 0,
             "ticks": ""
            },
            "colorscale": [
             [
              0,
              "#0d0887"
             ],
             [
              0.1111111111111111,
              "#46039f"
             ],
             [
              0.2222222222222222,
              "#7201a8"
             ],
             [
              0.3333333333333333,
              "#9c179e"
             ],
             [
              0.4444444444444444,
              "#bd3786"
             ],
             [
              0.5555555555555556,
              "#d8576b"
             ],
             [
              0.6666666666666666,
              "#ed7953"
             ],
             [
              0.7777777777777778,
              "#fb9f3a"
             ],
             [
              0.8888888888888888,
              "#fdca26"
             ],
             [
              1,
              "#f0f921"
             ]
            ],
            "type": "histogram2dcontour"
           }
          ],
          "mesh3d": [
           {
            "colorbar": {
             "outlinewidth": 0,
             "ticks": ""
            },
            "type": "mesh3d"
           }
          ],
          "parcoords": [
           {
            "line": {
             "colorbar": {
              "outlinewidth": 0,
              "ticks": ""
             }
            },
            "type": "parcoords"
           }
          ],
          "pie": [
           {
            "automargin": true,
            "type": "pie"
           }
          ],
          "scatter": [
           {
            "fillpattern": {
             "fillmode": "overlay",
             "size": 10,
             "solidity": 0.2
            },
            "type": "scatter"
           }
          ],
          "scatter3d": [
           {
            "line": {
             "colorbar": {
              "outlinewidth": 0,
              "ticks": ""
             }
            },
            "marker": {
             "colorbar": {
              "outlinewidth": 0,
              "ticks": ""
             }
            },
            "type": "scatter3d"
           }
          ],
          "scattercarpet": [
           {
            "marker": {
             "colorbar": {
              "outlinewidth": 0,
              "ticks": ""
             }
            },
            "type": "scattercarpet"
           }
          ],
          "scattergeo": [
           {
            "marker": {
             "colorbar": {
              "outlinewidth": 0,
              "ticks": ""
             }
            },
            "type": "scattergeo"
           }
          ],
          "scattergl": [
           {
            "marker": {
             "colorbar": {
              "outlinewidth": 0,
              "ticks": ""
             }
            },
            "type": "scattergl"
           }
          ],
          "scattermapbox": [
           {
            "marker": {
             "colorbar": {
              "outlinewidth": 0,
              "ticks": ""
             }
            },
            "type": "scattermapbox"
           }
          ],
          "scatterpolar": [
           {
            "marker": {
             "colorbar": {
              "outlinewidth": 0,
              "ticks": ""
             }
            },
            "type": "scatterpolar"
           }
          ],
          "scatterpolargl": [
           {
            "marker": {
             "colorbar": {
              "outlinewidth": 0,
              "ticks": ""
             }
            },
            "type": "scatterpolargl"
           }
          ],
          "scatterternary": [
           {
            "marker": {
             "colorbar": {
              "outlinewidth": 0,
              "ticks": ""
             }
            },
            "type": "scatterternary"
           }
          ],
          "surface": [
           {
            "colorbar": {
             "outlinewidth": 0,
             "ticks": ""
            },
            "colorscale": [
             [
              0,
              "#0d0887"
             ],
             [
              0.1111111111111111,
              "#46039f"
             ],
             [
              0.2222222222222222,
              "#7201a8"
             ],
             [
              0.3333333333333333,
              "#9c179e"
             ],
             [
              0.4444444444444444,
              "#bd3786"
             ],
             [
              0.5555555555555556,
              "#d8576b"
             ],
             [
              0.6666666666666666,
              "#ed7953"
             ],
             [
              0.7777777777777778,
              "#fb9f3a"
             ],
             [
              0.8888888888888888,
              "#fdca26"
             ],
             [
              1,
              "#f0f921"
             ]
            ],
            "type": "surface"
           }
          ],
          "table": [
           {
            "cells": {
             "fill": {
              "color": "#EBF0F8"
             },
             "line": {
              "color": "white"
             }
            },
            "header": {
             "fill": {
              "color": "#C8D4E3"
             },
             "line": {
              "color": "white"
             }
            },
            "type": "table"
           }
          ]
         },
         "layout": {
          "annotationdefaults": {
           "arrowcolor": "#2a3f5f",
           "arrowhead": 0,
           "arrowwidth": 1
          },
          "autotypenumbers": "strict",
          "coloraxis": {
           "colorbar": {
            "outlinewidth": 0,
            "ticks": ""
           }
          },
          "colorscale": {
           "diverging": [
            [
             0,
             "#8e0152"
            ],
            [
             0.1,
             "#c51b7d"
            ],
            [
             0.2,
             "#de77ae"
            ],
            [
             0.3,
             "#f1b6da"
            ],
            [
             0.4,
             "#fde0ef"
            ],
            [
             0.5,
             "#f7f7f7"
            ],
            [
             0.6,
             "#e6f5d0"
            ],
            [
             0.7,
             "#b8e186"
            ],
            [
             0.8,
             "#7fbc41"
            ],
            [
             0.9,
             "#4d9221"
            ],
            [
             1,
             "#276419"
            ]
           ],
           "sequential": [
            [
             0,
             "#0d0887"
            ],
            [
             0.1111111111111111,
             "#46039f"
            ],
            [
             0.2222222222222222,
             "#7201a8"
            ],
            [
             0.3333333333333333,
             "#9c179e"
            ],
            [
             0.4444444444444444,
             "#bd3786"
            ],
            [
             0.5555555555555556,
             "#d8576b"
            ],
            [
             0.6666666666666666,
             "#ed7953"
            ],
            [
             0.7777777777777778,
             "#fb9f3a"
            ],
            [
             0.8888888888888888,
             "#fdca26"
            ],
            [
             1,
             "#f0f921"
            ]
           ],
           "sequentialminus": [
            [
             0,
             "#0d0887"
            ],
            [
             0.1111111111111111,
             "#46039f"
            ],
            [
             0.2222222222222222,
             "#7201a8"
            ],
            [
             0.3333333333333333,
             "#9c179e"
            ],
            [
             0.4444444444444444,
             "#bd3786"
            ],
            [
             0.5555555555555556,
             "#d8576b"
            ],
            [
             0.6666666666666666,
             "#ed7953"
            ],
            [
             0.7777777777777778,
             "#fb9f3a"
            ],
            [
             0.8888888888888888,
             "#fdca26"
            ],
            [
             1,
             "#f0f921"
            ]
           ]
          },
          "colorway": [
           "#636efa",
           "#EF553B",
           "#00cc96",
           "#ab63fa",
           "#FFA15A",
           "#19d3f3",
           "#FF6692",
           "#B6E880",
           "#FF97FF",
           "#FECB52"
          ],
          "font": {
           "color": "#2a3f5f"
          },
          "geo": {
           "bgcolor": "white",
           "lakecolor": "white",
           "landcolor": "#E5ECF6",
           "showlakes": true,
           "showland": true,
           "subunitcolor": "white"
          },
          "hoverlabel": {
           "align": "left"
          },
          "hovermode": "closest",
          "mapbox": {
           "style": "light"
          },
          "paper_bgcolor": "white",
          "plot_bgcolor": "#E5ECF6",
          "polar": {
           "angularaxis": {
            "gridcolor": "white",
            "linecolor": "white",
            "ticks": ""
           },
           "bgcolor": "#E5ECF6",
           "radialaxis": {
            "gridcolor": "white",
            "linecolor": "white",
            "ticks": ""
           }
          },
          "scene": {
           "xaxis": {
            "backgroundcolor": "#E5ECF6",
            "gridcolor": "white",
            "gridwidth": 2,
            "linecolor": "white",
            "showbackground": true,
            "ticks": "",
            "zerolinecolor": "white"
           },
           "yaxis": {
            "backgroundcolor": "#E5ECF6",
            "gridcolor": "white",
            "gridwidth": 2,
            "linecolor": "white",
            "showbackground": true,
            "ticks": "",
            "zerolinecolor": "white"
           },
           "zaxis": {
            "backgroundcolor": "#E5ECF6",
            "gridcolor": "white",
            "gridwidth": 2,
            "linecolor": "white",
            "showbackground": true,
            "ticks": "",
            "zerolinecolor": "white"
           }
          },
          "shapedefaults": {
           "line": {
            "color": "#2a3f5f"
           }
          },
          "ternary": {
           "aaxis": {
            "gridcolor": "white",
            "linecolor": "white",
            "ticks": ""
           },
           "baxis": {
            "gridcolor": "white",
            "linecolor": "white",
            "ticks": ""
           },
           "bgcolor": "#E5ECF6",
           "caxis": {
            "gridcolor": "white",
            "linecolor": "white",
            "ticks": ""
           }
          },
          "title": {
           "x": 0.05
          },
          "xaxis": {
           "automargin": true,
           "gridcolor": "white",
           "linecolor": "white",
           "ticks": "",
           "title": {
            "standoff": 15
           },
           "zerolinecolor": "white",
           "zerolinewidth": 2
          },
          "yaxis": {
           "automargin": true,
           "gridcolor": "white",
           "linecolor": "white",
           "ticks": "",
           "title": {
            "standoff": 15
           },
           "zerolinecolor": "white",
           "zerolinewidth": 2
          }
         }
        },
        "xaxis": {
         "anchor": "y",
         "domain": [
          0,
          1
         ],
         "title": {
          "text": "date"
         }
        },
        "yaxis": {
         "anchor": "x",
         "domain": [
          0,
          1
         ],
         "title": {
          "text": "daily_median"
         }
        }
       }
      }
     },
     "metadata": {},
     "output_type": "display_data"
    }
   ],
   "source": [
    "df_daily_mean = df.sort(\"datetime\") \\\n",
    "    .with_columns(pl.col(\"datetime\").dt.date().alias(\"date\")) \\\n",
    "    .group_by([\"date\", \"system_name\", \"system_id\"]) \\\n",
    "    .agg([\n",
    "        (pl.col(\"diff\").mean()).alias(\"daily_mean\"),\n",
    "        (pl.col(\"diff\").median()).alias(\"daily_median\")\n",
    "        ]) \\\n",
    "    .sort(\"system_id\")\n",
    "    \n",
    "fig = px.scatter(df_daily_mean, x=\"date\", y=\"daily_mean\", color = \"system_name\")\n",
    "fig.show()\n",
    "fig = px.scatter(df_daily_mean, x=\"date\", y=\"daily_median\", color = \"system_name\")\n",
    "fig.show()"
   ]
  },
  {
   "cell_type": "code",
   "execution_count": 6,
   "metadata": {},
   "outputs": [
    {
     "data": {
      "application/vnd.plotly.v1+json": {
       "config": {
        "plotlyServerURL": "https://plot.ly"
       },
       "data": [
        {
         "hovertemplate": "system_name=acropolis-3<br>datetime=%{x}<br>diff=%{y}<extra></extra>",
         "legendgroup": "acropolis-3",
         "marker": {
          "color": "#636efa",
          "symbol": "circle"
         },
         "mode": "markers",
         "name": "acropolis-3",
         "showlegend": true,
         "type": "scattergl",
         "x": [
          "2025-02-17T15:00:00",
          "2025-02-17T16:00:00",
          "2025-02-17T17:00:00",
          "2025-02-17T18:00:00",
          "2025-02-17T19:00:00",
          "2025-02-17T20:00:00",
          "2025-02-17T21:00:00",
          "2025-02-17T22:00:00",
          "2025-02-17T23:00:00",
          "2025-02-18T00:00:00",
          "2025-02-18T01:00:00",
          "2025-02-18T02:00:00",
          "2025-02-18T03:00:00",
          "2025-02-18T04:00:00",
          "2025-02-18T05:00:00",
          "2025-02-18T06:00:00",
          "2025-02-18T07:00:00",
          "2025-02-18T08:00:00",
          "2025-02-18T09:00:00",
          "2025-02-18T10:00:00",
          "2025-02-18T11:00:00",
          "2025-02-18T12:00:00",
          "2025-02-18T13:00:00",
          "2025-02-18T14:00:00",
          "2025-02-18T15:00:00",
          "2025-02-18T16:00:00",
          "2025-02-18T17:00:00",
          "2025-02-18T18:00:00",
          "2025-02-18T19:00:00",
          "2025-02-18T20:00:00",
          "2025-02-18T21:00:00",
          "2025-02-18T22:00:00",
          "2025-02-18T23:00:00",
          "2025-02-19T00:00:00",
          "2025-02-19T01:00:00",
          "2025-02-19T02:00:00",
          "2025-02-19T03:00:00",
          "2025-02-19T04:00:00",
          "2025-02-19T05:00:00",
          "2025-02-19T06:00:00",
          "2025-02-19T07:00:00",
          "2025-02-19T08:00:00",
          "2025-02-19T09:00:00",
          "2025-02-19T10:00:00",
          "2025-02-19T11:00:00",
          "2025-02-19T12:00:00",
          "2025-02-19T13:00:00",
          "2025-02-19T14:00:00",
          "2025-02-19T15:00:00",
          "2025-02-19T16:00:00",
          "2025-02-19T17:00:00",
          "2025-02-19T18:00:00",
          "2025-02-19T19:00:00",
          "2025-02-19T20:00:00",
          "2025-02-19T21:00:00",
          "2025-02-19T22:00:00",
          "2025-02-19T23:00:00",
          "2025-02-20T00:00:00",
          "2025-02-20T01:00:00",
          "2025-02-20T02:00:00",
          "2025-02-20T03:00:00",
          "2025-02-20T04:00:00",
          "2025-02-20T05:00:00",
          "2025-02-20T06:00:00",
          "2025-02-20T07:00:00",
          "2025-02-20T08:00:00",
          "2025-02-20T09:00:00",
          "2025-02-20T10:00:00",
          "2025-02-20T11:00:00",
          "2025-02-20T12:00:00",
          "2025-02-20T13:00:00",
          "2025-02-20T14:00:00",
          "2025-02-20T15:00:00",
          "2025-02-20T16:00:00",
          "2025-02-20T17:00:00",
          "2025-02-20T18:00:00",
          "2025-02-20T19:00:00",
          "2025-02-20T20:00:00",
          "2025-02-20T21:00:00",
          "2025-02-20T22:00:00",
          "2025-02-20T23:00:00",
          "2025-02-21T00:00:00",
          "2025-02-21T01:00:00",
          "2025-02-21T02:00:00",
          "2025-02-21T03:00:00",
          "2025-02-21T04:00:00",
          "2025-02-21T05:00:00",
          "2025-02-21T06:00:00",
          "2025-02-21T07:00:00",
          "2025-02-21T08:00:00",
          "2025-02-21T09:00:00",
          "2025-02-21T10:00:00",
          "2025-02-21T11:00:00",
          "2025-02-21T12:00:00",
          "2025-02-21T13:00:00",
          "2025-02-21T14:00:00",
          "2025-02-21T15:00:00",
          "2025-02-21T16:00:00",
          "2025-02-21T17:00:00",
          "2025-02-21T18:00:00",
          "2025-02-21T19:00:00",
          "2025-02-21T20:00:00",
          "2025-02-21T21:00:00",
          "2025-02-21T22:00:00",
          "2025-02-21T23:00:00",
          "2025-02-22T00:00:00",
          "2025-02-22T01:00:00",
          "2025-02-22T02:00:00",
          "2025-02-22T03:00:00",
          "2025-02-22T04:00:00",
          "2025-02-22T05:00:00",
          "2025-02-22T06:00:00",
          "2025-02-22T07:00:00",
          "2025-02-22T08:00:00",
          "2025-02-22T09:00:00",
          "2025-02-22T10:00:00",
          "2025-02-22T11:00:00",
          "2025-02-22T12:00:00",
          "2025-02-22T13:00:00",
          "2025-02-22T14:00:00",
          "2025-02-22T15:00:00",
          "2025-02-22T16:00:00",
          "2025-02-22T17:00:00",
          "2025-02-22T18:00:00",
          "2025-02-22T19:00:00",
          "2025-02-22T20:00:00",
          "2025-02-22T21:00:00",
          "2025-02-22T22:00:00",
          "2025-02-22T23:00:00",
          "2025-02-23T00:00:00",
          "2025-02-23T01:00:00",
          "2025-02-23T02:00:00",
          "2025-02-23T03:00:00",
          "2025-02-23T04:00:00",
          "2025-02-23T05:00:00",
          "2025-02-23T06:00:00",
          "2025-02-23T07:00:00",
          "2025-02-23T08:00:00",
          "2025-02-23T09:00:00",
          "2025-02-23T10:00:00",
          "2025-02-23T11:00:00",
          "2025-02-23T12:00:00",
          "2025-02-23T13:00:00",
          "2025-02-23T14:00:00",
          "2025-02-23T15:00:00",
          "2025-02-23T16:00:00",
          "2025-02-23T17:00:00",
          "2025-02-23T18:00:00",
          "2025-02-23T19:00:00",
          "2025-02-23T20:00:00",
          "2025-02-23T21:00:00",
          "2025-02-23T22:00:00",
          "2025-02-23T23:00:00",
          "2025-02-24T00:00:00",
          "2025-02-24T01:00:00",
          "2025-02-24T02:00:00",
          "2025-02-24T03:00:00",
          "2025-02-24T04:00:00",
          "2025-02-24T05:00:00",
          "2025-02-24T06:00:00",
          "2025-02-24T07:00:00",
          "2025-02-24T08:00:00",
          "2025-02-24T14:00:00",
          "2025-02-24T15:00:00",
          "2025-02-24T16:00:00",
          "2025-02-24T17:00:00",
          "2025-02-24T18:00:00",
          "2025-02-24T19:00:00",
          "2025-02-24T20:00:00",
          "2025-02-24T21:00:00",
          "2025-02-24T22:00:00",
          "2025-02-24T23:00:00",
          "2025-02-25T00:00:00",
          "2025-02-25T01:00:00",
          "2025-02-25T02:00:00",
          "2025-02-25T03:00:00",
          "2025-02-25T04:00:00",
          "2025-02-25T05:00:00",
          "2025-02-25T06:00:00",
          "2025-02-25T07:00:00",
          "2025-02-25T08:00:00",
          "2025-02-25T09:00:00",
          "2025-02-25T10:00:00",
          "2025-02-25T11:00:00",
          "2025-02-25T12:00:00",
          "2025-02-25T13:00:00",
          "2025-02-25T14:00:00",
          "2025-02-25T15:00:00",
          "2025-02-25T16:00:00",
          "2025-02-25T17:00:00",
          "2025-02-25T18:00:00",
          "2025-02-25T19:00:00",
          "2025-02-25T20:00:00",
          "2025-02-25T21:00:00",
          "2025-02-25T22:00:00",
          "2025-02-25T23:00:00",
          "2025-02-26T00:00:00",
          "2025-02-26T01:00:00",
          "2025-02-26T02:00:00",
          "2025-02-26T03:00:00",
          "2025-02-26T04:00:00",
          "2025-02-26T05:00:00",
          "2025-02-26T06:00:00",
          "2025-02-26T07:00:00",
          "2025-02-26T08:00:00",
          "2025-02-26T09:00:00",
          "2025-02-26T10:00:00",
          "2025-02-26T11:00:00",
          "2025-02-26T12:00:00",
          "2025-02-26T13:00:00",
          "2025-02-26T14:00:00",
          "2025-02-26T15:00:00",
          "2025-02-26T16:00:00",
          "2025-02-26T17:00:00",
          "2025-02-26T18:00:00",
          "2025-02-26T19:00:00",
          "2025-02-26T20:00:00",
          "2025-02-26T21:00:00",
          "2025-02-26T22:00:00",
          "2025-02-26T23:00:00",
          "2025-02-27T00:00:00",
          "2025-02-27T01:00:00",
          "2025-02-27T02:00:00",
          "2025-02-27T03:00:00",
          "2025-02-27T04:00:00",
          "2025-02-27T05:00:00",
          "2025-02-27T06:00:00",
          "2025-02-27T07:00:00",
          "2025-02-27T08:00:00",
          "2025-02-27T09:00:00",
          "2025-02-27T10:00:00",
          "2025-02-27T11:00:00",
          "2025-02-27T12:00:00",
          "2025-02-27T13:00:00",
          "2025-02-27T14:00:00",
          "2025-02-27T15:00:00",
          "2025-02-27T16:00:00",
          "2025-02-27T17:00:00",
          "2025-02-27T18:00:00",
          "2025-02-27T19:00:00",
          "2025-02-27T20:00:00",
          "2025-02-27T21:00:00",
          "2025-02-27T22:00:00",
          "2025-02-27T23:00:00",
          "2025-02-28T00:00:00",
          "2025-02-28T01:00:00",
          "2025-02-28T02:00:00",
          "2025-02-28T03:00:00",
          "2025-02-28T04:00:00",
          "2025-02-28T05:00:00",
          "2025-02-28T06:00:00",
          "2025-02-28T07:00:00",
          "2025-02-28T08:00:00",
          "2025-02-28T09:00:00",
          "2025-02-28T10:00:00",
          "2025-02-28T11:00:00",
          "2025-02-28T12:00:00",
          "2025-02-28T13:00:00",
          "2025-02-28T14:00:00",
          "2025-02-28T15:00:00",
          "2025-02-28T16:00:00",
          "2025-02-28T17:00:00",
          "2025-02-28T18:00:00",
          "2025-02-28T19:00:00",
          "2025-02-28T20:00:00",
          "2025-02-28T21:00:00",
          "2025-02-28T22:00:00",
          "2025-02-28T23:00:00",
          "2025-03-01T00:00:00",
          "2025-03-01T01:00:00",
          "2025-03-01T02:00:00",
          "2025-03-01T03:00:00",
          "2025-03-01T04:00:00",
          "2025-03-01T05:00:00",
          "2025-03-01T06:00:00",
          "2025-03-01T07:00:00",
          "2025-03-01T08:00:00",
          "2025-03-01T09:00:00",
          "2025-03-01T10:00:00",
          "2025-03-01T11:00:00",
          "2025-03-01T12:00:00",
          "2025-03-01T13:00:00",
          "2025-03-01T14:00:00",
          "2025-03-01T15:00:00",
          "2025-03-01T16:00:00",
          "2025-03-01T17:00:00",
          "2025-03-01T18:00:00",
          "2025-03-01T19:00:00",
          "2025-03-01T20:00:00",
          "2025-03-01T21:00:00",
          "2025-03-01T22:00:00",
          "2025-03-01T23:00:00",
          "2025-03-02T00:00:00",
          "2025-03-02T01:00:00",
          "2025-03-02T02:00:00",
          "2025-03-02T03:00:00",
          "2025-03-02T04:00:00",
          "2025-03-02T05:00:00",
          "2025-03-02T06:00:00",
          "2025-03-02T07:00:00",
          "2025-03-02T08:00:00",
          "2025-03-02T09:00:00",
          "2025-03-02T10:00:00",
          "2025-03-02T11:00:00",
          "2025-03-02T12:00:00",
          "2025-03-02T13:00:00",
          "2025-03-02T14:00:00",
          "2025-03-02T15:00:00",
          "2025-03-02T16:00:00",
          "2025-03-02T17:00:00",
          "2025-03-02T18:00:00",
          "2025-03-02T19:00:00",
          "2025-03-02T20:00:00",
          "2025-03-02T21:00:00",
          "2025-03-02T22:00:00",
          "2025-03-02T23:00:00",
          "2025-03-03T00:00:00",
          "2025-03-03T01:00:00",
          "2025-03-03T02:00:00",
          "2025-03-03T03:00:00",
          "2025-03-03T04:00:00",
          "2025-03-03T05:00:00",
          "2025-03-03T06:00:00",
          "2025-03-03T07:00:00",
          "2025-03-03T08:00:00",
          "2025-03-03T09:00:00",
          "2025-03-03T10:00:00",
          "2025-03-03T11:00:00",
          "2025-03-03T12:00:00",
          "2025-03-03T13:00:00",
          "2025-03-03T14:00:00",
          "2025-03-03T15:00:00",
          "2025-03-03T16:00:00",
          "2025-03-03T17:00:00",
          "2025-03-03T18:00:00",
          "2025-03-03T19:00:00",
          "2025-03-03T20:00:00",
          "2025-03-03T21:00:00",
          "2025-03-03T22:00:00",
          "2025-03-03T23:00:00",
          "2025-03-04T00:00:00",
          "2025-03-04T01:00:00",
          "2025-03-04T02:00:00",
          "2025-03-04T03:00:00",
          "2025-03-04T04:00:00",
          "2025-03-04T05:00:00",
          "2025-03-04T06:00:00",
          "2025-03-04T07:00:00",
          "2025-03-04T08:00:00",
          "2025-03-04T09:00:00",
          "2025-03-04T10:00:00",
          "2025-03-04T11:00:00",
          "2025-03-04T12:00:00",
          "2025-03-04T13:00:00",
          "2025-03-04T14:00:00",
          "2025-03-04T15:00:00",
          "2025-03-04T16:00:00",
          "2025-03-04T17:00:00",
          "2025-03-04T18:00:00",
          "2025-03-04T19:00:00",
          "2025-03-04T20:00:00",
          "2025-03-04T21:00:00",
          "2025-03-04T22:00:00",
          "2025-03-04T23:00:00",
          "2025-03-05T00:00:00",
          "2025-03-05T01:00:00",
          "2025-03-05T02:00:00",
          "2025-03-05T03:00:00",
          "2025-03-05T04:00:00",
          "2025-03-05T05:00:00",
          "2025-03-05T06:00:00",
          "2025-03-05T07:00:00",
          "2025-03-05T08:00:00",
          "2025-03-05T09:00:00",
          "2025-03-05T10:00:00",
          "2025-03-05T11:00:00",
          "2025-03-05T12:00:00",
          "2025-03-05T13:00:00",
          "2025-03-05T14:00:00",
          "2025-03-05T15:00:00",
          "2025-03-05T16:00:00",
          "2025-03-05T17:00:00",
          "2025-03-05T18:00:00",
          "2025-03-05T19:00:00",
          "2025-03-05T20:00:00",
          "2025-03-05T21:00:00",
          "2025-03-05T22:00:00",
          "2025-03-05T23:00:00",
          "2025-03-06T00:00:00",
          "2025-03-06T01:00:00",
          "2025-03-06T02:00:00",
          "2025-03-06T03:00:00",
          "2025-03-06T04:00:00",
          "2025-03-06T05:00:00",
          "2025-03-06T06:00:00",
          "2025-03-06T07:00:00",
          "2025-03-06T08:00:00",
          "2025-03-06T09:00:00",
          "2025-03-06T10:00:00",
          "2025-03-06T11:00:00",
          "2025-03-06T12:00:00",
          "2025-03-06T13:00:00",
          "2025-03-06T14:00:00",
          "2025-03-06T15:00:00",
          "2025-03-06T16:00:00",
          "2025-03-06T17:00:00",
          "2025-03-06T18:00:00",
          "2025-03-06T19:00:00",
          "2025-03-06T20:00:00",
          "2025-03-06T21:00:00",
          "2025-03-06T22:00:00",
          "2025-03-06T23:00:00",
          "2025-03-07T00:00:00",
          "2025-03-07T01:00:00",
          "2025-03-07T02:00:00",
          "2025-03-07T03:00:00",
          "2025-03-07T04:00:00",
          "2025-03-07T05:00:00",
          "2025-03-07T06:00:00",
          "2025-03-07T07:00:00",
          "2025-03-07T08:00:00",
          "2025-03-07T09:00:00",
          "2025-03-07T10:00:00",
          "2025-03-07T11:00:00",
          "2025-03-07T12:00:00",
          "2025-03-07T13:00:00",
          "2025-03-07T14:00:00",
          "2025-03-07T15:00:00",
          "2025-03-07T16:00:00",
          "2025-03-07T17:00:00",
          "2025-03-07T18:00:00",
          "2025-03-07T19:00:00",
          "2025-03-07T20:00:00",
          "2025-03-07T21:00:00",
          "2025-03-07T22:00:00",
          "2025-03-07T23:00:00",
          "2025-03-08T00:00:00",
          "2025-03-08T01:00:00",
          "2025-03-08T02:00:00",
          "2025-03-08T03:00:00",
          "2025-03-08T04:00:00",
          "2025-03-08T05:00:00",
          "2025-03-08T06:00:00",
          "2025-03-08T07:00:00",
          "2025-03-08T08:00:00",
          "2025-03-08T09:00:00",
          "2025-03-08T10:00:00",
          "2025-03-08T11:00:00",
          "2025-03-08T12:00:00",
          "2025-03-08T13:00:00",
          "2025-03-08T14:00:00",
          "2025-03-08T15:00:00",
          "2025-03-08T16:00:00",
          "2025-03-08T17:00:00",
          "2025-03-08T18:00:00",
          "2025-03-08T19:00:00",
          "2025-03-08T20:00:00",
          "2025-03-08T21:00:00",
          "2025-03-08T22:00:00",
          "2025-03-08T23:00:00",
          "2025-03-09T00:00:00",
          "2025-03-09T01:00:00",
          "2025-03-09T02:00:00",
          "2025-03-09T03:00:00",
          "2025-03-09T04:00:00",
          "2025-03-09T05:00:00",
          "2025-03-09T06:00:00",
          "2025-03-09T07:00:00",
          "2025-03-09T08:00:00",
          "2025-03-09T09:00:00",
          "2025-03-09T10:00:00",
          "2025-03-09T11:00:00",
          "2025-03-09T12:00:00",
          "2025-03-09T13:00:00",
          "2025-03-09T14:00:00",
          "2025-03-09T15:00:00",
          "2025-03-09T16:00:00",
          "2025-03-09T17:00:00",
          "2025-03-09T18:00:00",
          "2025-03-09T19:00:00",
          "2025-03-09T20:00:00",
          "2025-03-09T21:00:00",
          "2025-03-09T22:00:00",
          "2025-03-09T23:00:00",
          "2025-03-10T00:00:00",
          "2025-03-10T01:00:00",
          "2025-03-10T02:00:00",
          "2025-03-10T03:00:00",
          "2025-03-10T04:00:00",
          "2025-03-10T05:00:00",
          "2025-03-10T06:00:00",
          "2025-03-10T07:00:00",
          "2025-03-10T08:00:00",
          "2025-03-10T09:00:00",
          "2025-03-10T10:00:00",
          "2025-03-10T11:00:00",
          "2025-03-10T12:00:00",
          "2025-03-10T13:00:00",
          "2025-03-10T14:00:00",
          "2025-03-10T15:00:00",
          "2025-03-10T16:00:00",
          "2025-03-10T17:00:00",
          "2025-03-10T18:00:00",
          "2025-03-10T19:00:00",
          "2025-03-10T20:00:00",
          "2025-03-10T21:00:00",
          "2025-03-10T22:00:00",
          "2025-03-10T23:00:00",
          "2025-03-11T00:00:00",
          "2025-03-11T01:00:00",
          "2025-03-11T02:00:00",
          "2025-03-11T03:00:00",
          "2025-03-11T04:00:00",
          "2025-03-11T05:00:00",
          "2025-03-11T06:00:00",
          "2025-03-11T07:00:00",
          "2025-03-11T08:00:00",
          "2025-03-11T09:00:00",
          "2025-03-11T10:00:00",
          "2025-03-11T11:00:00",
          "2025-03-11T12:00:00",
          "2025-03-11T13:00:00",
          "2025-03-11T14:00:00",
          "2025-03-11T15:00:00",
          "2025-03-11T16:00:00",
          "2025-03-11T17:00:00",
          "2025-03-11T18:00:00",
          "2025-03-11T19:00:00",
          "2025-03-11T20:00:00",
          "2025-03-11T21:00:00",
          "2025-03-11T22:00:00",
          "2025-03-11T23:00:00",
          "2025-03-12T00:00:00",
          "2025-03-12T01:00:00",
          "2025-03-12T02:00:00",
          "2025-03-12T03:00:00",
          "2025-03-12T04:00:00",
          "2025-03-12T05:00:00",
          "2025-03-12T06:00:00",
          "2025-03-12T07:00:00",
          "2025-03-12T08:00:00",
          "2025-03-12T09:00:00",
          "2025-03-12T10:00:00",
          "2025-03-12T11:00:00",
          "2025-03-12T12:00:00",
          "2025-03-12T13:00:00",
          "2025-03-12T14:00:00",
          "2025-03-12T15:00:00",
          "2025-03-12T16:00:00",
          "2025-03-12T17:00:00",
          "2025-03-12T18:00:00",
          "2025-03-12T19:00:00",
          "2025-03-12T20:00:00",
          "2025-03-12T21:00:00",
          "2025-03-12T22:00:00",
          "2025-03-12T23:00:00",
          "2025-03-13T00:00:00",
          "2025-03-13T01:00:00",
          "2025-03-13T02:00:00",
          "2025-03-13T03:00:00",
          "2025-03-13T04:00:00",
          "2025-03-13T05:00:00",
          "2025-03-13T06:00:00",
          "2025-03-13T07:00:00",
          "2025-03-13T08:00:00",
          "2025-03-13T09:00:00",
          "2025-03-13T10:00:00",
          "2025-03-13T11:00:00",
          "2025-03-13T12:00:00",
          "2025-03-13T13:00:00",
          "2025-03-13T14:00:00",
          "2025-03-13T15:00:00",
          "2025-03-13T16:00:00",
          "2025-03-13T17:00:00",
          "2025-03-13T18:00:00",
          "2025-03-13T19:00:00",
          "2025-03-13T20:00:00",
          "2025-03-13T21:00:00",
          "2025-03-13T22:00:00",
          "2025-03-13T23:00:00",
          "2025-03-14T00:00:00",
          "2025-03-14T01:00:00",
          "2025-03-14T02:00:00",
          "2025-03-14T03:00:00",
          "2025-03-14T04:00:00",
          "2025-03-14T05:00:00",
          "2025-03-14T06:00:00",
          "2025-03-14T07:00:00",
          "2025-03-14T08:00:00",
          "2025-03-14T09:00:00",
          "2025-03-14T10:00:00",
          "2025-03-14T11:00:00",
          "2025-03-14T12:00:00",
          "2025-03-14T13:00:00",
          "2025-03-14T14:00:00",
          "2025-03-14T15:00:00",
          "2025-03-14T16:00:00",
          "2025-03-14T17:00:00",
          "2025-03-14T18:00:00",
          "2025-03-14T19:00:00",
          "2025-03-14T20:00:00",
          "2025-03-14T21:00:00",
          "2025-03-14T22:00:00",
          "2025-03-14T23:00:00",
          "2025-03-15T00:00:00",
          "2025-03-15T01:00:00",
          "2025-03-15T02:00:00",
          "2025-03-15T03:00:00",
          "2025-03-15T04:00:00",
          "2025-03-15T05:00:00",
          "2025-03-15T06:00:00",
          "2025-03-15T07:00:00",
          "2025-03-15T08:00:00",
          "2025-03-15T09:00:00",
          "2025-03-15T10:00:00",
          "2025-03-15T11:00:00",
          "2025-03-15T12:00:00",
          "2025-03-15T13:00:00",
          "2025-03-15T14:00:00",
          "2025-03-15T15:00:00",
          "2025-03-15T16:00:00",
          "2025-03-15T17:00:00",
          "2025-03-15T18:00:00",
          "2025-03-15T19:00:00",
          "2025-03-15T20:00:00",
          "2025-03-15T21:00:00",
          "2025-03-15T22:00:00",
          "2025-03-15T23:00:00",
          "2025-03-16T00:00:00",
          "2025-03-16T01:00:00",
          "2025-03-16T02:00:00",
          "2025-03-16T03:00:00",
          "2025-03-16T04:00:00",
          "2025-03-16T05:00:00",
          "2025-03-16T06:00:00",
          "2025-03-16T07:00:00",
          "2025-03-16T08:00:00",
          "2025-03-16T09:00:00",
          "2025-03-16T10:00:00",
          "2025-03-16T11:00:00",
          "2025-03-16T12:00:00",
          "2025-03-16T13:00:00",
          "2025-03-16T14:00:00",
          "2025-03-16T15:00:00",
          "2025-03-16T16:00:00",
          "2025-03-16T17:00:00",
          "2025-03-16T18:00:00",
          "2025-03-16T19:00:00",
          "2025-03-16T20:00:00",
          "2025-03-16T21:00:00",
          "2025-03-16T22:00:00",
          "2025-03-16T23:00:00"
         ],
         "xaxis": "x",
         "y": [
          0.0777491679163797,
          0.21761609817242658,
          -0.10091666536213542,
          -0.014928136772582926,
          -0.05007346787020026,
          0.03707898888720488,
          -0.20187277065668732,
          -0.11562604643408794,
          0.11515546534583715,
          -0.1748133982533318,
          -0.18674346537314315,
          -0.11992935062739715,
          -0.15243320724705994,
          -0.29301864835319125,
          -0.670904147333356,
          -0.5122452682133495,
          -0.17379954261906125,
          -0.36266204791678786,
          -0.2742034367690754,
          -0.4388997529743926,
          -0.23140998818932226,
          -0.31596229986468954,
          -0.390113765168971,
          -0.1164581650559768,
          -0.15421972858266836,
          -0.20471290528450178,
          -0.3727867138982544,
          -0.2366962075357449,
          -0.08423566629816102,
          -0.2530284769614288,
          -0.12690153105716082,
          -0.20924945854295912,
          -0.3573654758553497,
          -0.20470319858906738,
          -0.20193384876653983,
          -1.1240553024313413,
          -0.29049365177100506,
          -0.3529007234787561,
          -0.39120117680575484,
          -0.3177193360427315,
          -0.36421567857916654,
          -0.2518649451107303,
          -0.28389038002865113,
          -0.42171356297642465,
          -0.1584586265290258,
          -0.23511243349848834,
          -0.5542877415161598,
          -0.44260824481092864,
          -0.3009996353053722,
          -0.1150574809300764,
          -0.40310197740259335,
          -0.5280085117170207,
          -0.4421135995148916,
          -0.5762813936678248,
          -0.7670017950755346,
          -0.679404872314926,
          -0.9912114615332396,
          -0.356486181742846,
          -1.0820826077698815,
          -0.5137394951117964,
          -0.6050164615608182,
          -0.3813105169428615,
          -1.152315040899824,
          -0.5011927354578243,
          -1.202496244013063,
          -1.114768170480507,
          -1.2988130046953452,
          -0.8452310271288127,
          -0.0901485538633049,
          0.33631565303015093,
          0.6834222102077244,
          0.08452940995373487,
          -0.13051436630443097,
          -0.28595500882094677,
          -0.22823980933346869,
          -0.5410357943239897,
          -0.4060885465964262,
          -0.38354269774770083,
          -0.43816342940670744,
          -0.39816990029649874,
          -0.09203051241612314,
          -0.49748879767097376,
          -0.2315152410643421,
          -1.4080456506705479,
          -0.48936592321987576,
          -0.2399870740798292,
          -0.3669249354526727,
          -0.43909057138474167,
          -0.3484550381919386,
          -0.26146902403135497,
          0.13778931489983914,
          -0.14181955254651893,
          -0.042517080303197,
          -0.3789733736129891,
          -0.1443321885306484,
          0.17568110143868884,
          -0.00954793358187942,
          -0.3940407494564224,
          -0.08708091495845593,
          -0.2753828537552067,
          0.18317893862737503,
          -0.26306715331390035,
          -0.19205920103323612,
          -0.4983104529468553,
          -0.11387194309488156,
          0.10765280962175297,
          -0.14674652080761963,
          -0.41496945455359174,
          -0.289114006720745,
          -0.2702810719722478,
          -0.3441677959285125,
          -0.7403209687823765,
          -0.036414476695430645,
          -0.7432027355032489,
          -0.2536690368435321,
          -0.18024817293739312,
          -0.0690782496609477,
          -0.15767845866183686,
          0.2019922460317313,
          0.10045616276466045,
          0.13364685100036933,
          -0.1876148698139507,
          -0.6658013911827794,
          -0.5754457398762346,
          -0.13429712024686752,
          -0.8965253304353065,
          -0.4680427903205441,
          -0.37963703096664386,
          -0.9903140875965856,
          -0.4310838728151528,
          -0.15296326249564107,
          -1.3306079315313901,
          -0.18361097873923454,
          -0.2607761174368851,
          -0.22300969026768486,
          0.21804706317051972,
          -0.1918125966408269,
          -0.5857150989640354,
          0.016803744955181325,
          -0.14452540330593705,
          -0.5152849319415495,
          -0.0881628495954871,
          -0.08020816098119496,
          -0.12533344052794382,
          0.0019129753837882882,
          0.06779464844255093,
          -0.081177083294178,
          -0.2070286090399809,
          -0.14603606990566978,
          -0.3863563457362678,
          -0.18264765257065818,
          -0.6011696647009354,
          -0.5990154527691838,
          -0.25646138723395306,
          -0.3894606007676946,
          -0.30697449341755695,
          -0.5850077391479582,
          -0.44528319068083183,
          -0.44261723042460327,
          -0.6407507647387282,
          -0.4825277613672194,
          -0.7124312214739476,
          0.6758397980867215,
          0.245007388033486,
          0.45220165819954966,
          0.18098383623438347,
          0.03443886523604078,
          0.1005333236140558,
          -0.7440724814535031,
          -0.5979366187476867,
          -0.6691330164078229,
          -0.26003377991955906,
          -0.1285598524312216,
          -0.09062443000833914,
          -0.6670618437718805,
          -0.06704773901672449,
          -0.2583009511015078,
          -0.396273033514355,
          -0.3910747128724364,
          -0.7375551412658488,
          0.0689931421222307,
          -0.2782493060458317,
          -0.08841190478316131,
          -0.4641725419532458,
          0.06391933622844542,
          -0.10368896456343733,
          0.04751106328934469,
          0.19892755978747753,
          -0.18781851267653316,
          -0.15532835120477023,
          -0.08429793846550761,
          -0.42698540680302577,
          0.06960133771184758,
          -0.24023442749184387,
          -0.1944613906851212,
          0.2619811994276063,
          0.056863172675079454,
          0.25287090084887753,
          0.2039553203168386,
          -0.14882876505775613,
          0.05271995444912302,
          -0.13186459730130243,
          -0.3704162043410841,
          -0.14651379067294196,
          -0.19057194075090772,
          -0.07338550199673269,
          -0.22249635158624745,
          -0.3272247520307199,
          -0.430869579131713,
          -0.30549263964785583,
          -0.47622224332007995,
          -0.2924364280330015,
          -0.2550740764229497,
          -0.07227500227978681,
          -0.209948621590596,
          -0.5259131504131976,
          -0.31987653949475664,
          -0.12318148820514949,
          -0.26081385235170224,
          -0.46381907540421274,
          -0.1600818546925647,
          0.09138051467798078,
          -1.1879310002994066,
          -0.11530333521393364,
          -0.5757552041635032,
          -0.43394628653160133,
          -0.2511552071160835,
          -0.6853292855126923,
          -0.39672823823320014,
          -0.23164680506171095,
          -0.43531597966296165,
          -0.30621009832173535,
          -0.4782631298243255,
          -0.3163840380659233,
          -0.5264375023313761,
          -0.3161514706645804,
          -0.16292174262146092,
          -0.16976324478521054,
          -0.6126152607622212,
          -0.4226229143650935,
          -0.35608734359376937,
          -0.6804034796579017,
          -0.544052001457267,
          -0.5301583167784658,
          -0.48558675655408334,
          -0.6316532943777162,
          -0.7330846762353957,
          -0.7460826693797229,
          -0.8430263183997289,
          -0.3851391925665766,
          -0.43549825969753425,
          -0.4456615936667063,
          -0.5579851069300257,
          -1.046698532606177,
          -0.4765180649071198,
          -0.951280410331567,
          -0.08578678009025073,
          -0.35397761414432194,
          -0.09845456860664446,
          0.16833798791763524,
          0.157030893065019,
          0.25218409666625374,
          -0.005807952182598797,
          -0.40002157254407916,
          -0.4182580445445822,
          -0.3874213857890993,
          -0.7613655535223195,
          -0.6955575601457336,
          -0.9646148365160997,
          -0.7680800237797774,
          -0.8683382005248467,
          -0.7253755781082115,
          -0.9622380334272701,
          -0.6916872267773305,
          -0.49991751614527163,
          -0.9936988219904492,
          -1.0508074924609305,
          -0.875531351587864,
          -0.57694536351346,
          -0.9033806080385531,
          -0.8829048066790147,
          -0.8674243219049785,
          -0.7870335766222974,
          -0.9447004963079432,
          -1.0967385593435397,
          -0.9148868012802337,
          -0.885543191271778,
          -0.8434393102440206,
          -0.9592708809813004,
          -0.7958084981599749,
          -0.6680466699031788,
          -1.118422668550333,
          -0.8946384170826122,
          -0.7795483733574187,
          -1.0552762992960187,
          -1.1942482969296895,
          -1.33855304220144,
          -1.2129071503307647,
          -1.0939938749219351,
          -1.3643471677242893,
          -1.0328472388535894,
          -1.128374983731556,
          -1.1038984659729953,
          -1.161604923796733,
          -0.9760435252103719,
          -0.9254003119431483,
          -0.7469857665580676,
          -0.94759910716456,
          -0.9405629898159896,
          -0.8117973962790008,
          -1.0333614612822606,
          -1.0231321656036816,
          -0.9647517973099198,
          -0.98018104406684,
          -1.1063069044000575,
          -1.1090536487532114,
          -1.040045138109844,
          -0.8901289227393089,
          -2.012998459780516,
          -1.384317243257612,
          -1.1742966379390702,
          -1.2598981854953366,
          -1.2948730412451217,
          -1.351330895699921,
          -1.3378370227201393,
          -1.2065367896882142,
          -1.2632290145129483,
          -1.533957611574679,
          -0.8427193818060446,
          -0.8064761227500417,
          -1.3159707917074632,
          -0.991696860588012,
          -0.8757258197244951,
          -0.734716789324357,
          -1.0734610017739883,
          -0.9844029551859573,
          -1.243351992859345,
          -1.388633574637851,
          -0.9628291299485113,
          -1.351177121575635,
          -1.9923241066158899,
          -1.582680526020109,
          -1.806237514982908,
          -0.8896245744030528,
          -1.5060586436732242,
          -1.594977393302915,
          -1.5586916144587661,
          -2.307863515740695,
          -2.373080484031355,
          -1.3277577238580156,
          -1.6573454716287344,
          -0.9675365911622227,
          -1.0207200578897224,
          -0.6326092052216709,
          -1.0235862262693867,
          -1.0912803277264265,
          -1.0195637093794603,
          -0.6265693934337151,
          -1.0365120138885164,
          -1.533384404988857,
          -1.2210403206636136,
          -1.8835952897251436,
          -1.0591680717670533,
          -1.3149809583849834,
          -1.3320494935480158,
          -1.718611843552241,
          -1.4526554521861215,
          -1.8671748247733555,
          -1.67500738852007,
          -1.4679840199955578,
          -1.5197594281496938,
          -1.0636591101543507,
          -2.431347809224808,
          -1.2168426223846291,
          -1.2233142943044764,
          -1.59108222803637,
          -0.8019289135811202,
          -1.3453934605424243,
          -1.0063280168722821,
          -1.1198274084972328,
          -0.8890822209387338,
          -0.7832646701715239,
          -1.0418649285156396,
          -1.4269970937935346,
          -0.7978703072109743,
          -1.3242036847259366,
          -1.0948075102640453,
          -0.9335760415571523,
          -1.3305800774213064,
          -1.1204202350393406,
          -1.124012070910552,
          -1.162217448924389,
          -0.8901913720794046,
          -0.9259379662946065,
          -1.4482907616368716,
          -1.6142696666343708,
          -1.2631556314457564,
          -1.1416356614118357,
          -0.9098302371656,
          -0.5414329561076722,
          -0.48551679843831863,
          -0.256683508227664,
          -0.4574594856966305,
          -0.6207939432949477,
          -0.9117789472144471,
          -0.9193228687687807,
          -1.2458779217592066,
          -0.9752488785357177,
          -1.5094261653515568,
          -1.5421375514047477,
          -1.4471569913948001,
          -1.43646266870518,
          -1.4728529581284064,
          -1.4236693684513815,
          -1.4403089815598253,
          -1.4919945730902584,
          -0.9678598310981713,
          -1.06811669997033,
          -1.3206811640823448,
          -0.9352089924121928,
          -1.0631520259416811,
          -1.0028128920954131,
          -0.4493928206954266,
          -0.9210359680852532,
          -0.7204878569918378,
          -1.2213971198193294,
          -1.0963932803611594,
          -1.0445215408708581,
          -1.2041366780779532,
          -0.9236410042619682,
          -1.1140830765810865,
          -1.3643986515185857,
          -1.0336868497795375,
          -1.1767557044398052,
          -1.5317908069567607,
          -1.5478539886217997,
          -1.0106883239720583,
          -1.1003009100344716,
          -1.0156603150859378,
          -1.0065156951091672,
          -1.294984692520551,
          -1.0244052752022876,
          -1.0711045719125674,
          -1.347513480197042,
          -1.0908327977426084,
          -1.0793732175363144,
          -0.7510730365940712,
          -1.3129106955687695,
          -0.9236607443925133,
          -1.3311252268348455,
          -0.8760113147925068,
          -0.9066488998287751,
          -0.8931790094412548,
          -0.9630823254747123,
          -1.0211440772987932,
          -0.9314022340489511,
          -0.7480637611894181,
          -0.9865229264759757,
          -1.1176624800755264,
          -1.8757608210109538,
          -1.4201846543926933,
          -1.2454777073074335,
          -1.3862457894604894,
          -0.8543725918931552,
          -1.0636686670624205,
          -1.4505728729143732,
          -1.1965317238569724,
          -0.9749442643826333,
          -1.0104048345199337,
          -1.1439465454685347,
          -1.2630070034590608,
          -0.7211485691180315,
          -1.2483194461111924,
          -0.7156690085629862,
          -0.6408598907477103,
          -0.8910202445609067,
          -0.7467858100043363,
          -0.6768732140959703,
          -0.6325296528808049,
          -0.8518167455846907,
          -0.7162424699712597,
          -0.8053675471076327,
          -0.7125173464768324,
          -1.098396362238727,
          -1.1083043777556925,
          -0.8205352054890748,
          -0.4958742998475761,
          -0.8897782133354531,
          -1.2000513199544762,
          -1.063870950249296,
          -0.537915144874735,
          -0.8182296326554043,
          -1.291482921794226,
          -1.1405492832430497,
          -0.7276292549642126,
          -0.10518766878623846,
          -0.2597311743189522,
          -0.5612518450538535,
          -0.708441640628769,
          -0.4432514322786247,
          -0.14026625879481192,
          -0.5314600241057483,
          -0.33466799872454434,
          -0.7260609054533654,
          -0.5646095327429772,
          -0.39933147485175297,
          -0.7944761738208603,
          -0.4086202337413364,
          -0.48212350282329247,
          -0.7639020565562267,
          -0.9088270315695256,
          -0.44727260630696575,
          -0.5968205082472793,
          -0.1997483596962804,
          -0.595128754633869,
          -1.3441402064101458,
          -0.6675845060814077,
          -0.2510949666589118,
          -0.2097010663408223,
          -0.18200553432854652,
          -0.5627373819264377,
          -0.1793940145015781,
          -0.033453749068628726,
          0.22484333221100553,
          -0.1794890067972266,
          -0.7290462952157329,
          -0.6555706175002479,
          -0.45154903804236995,
          -0.5752874550564456,
          -0.7421818452198915,
          -0.44284943246504394,
          -0.5846439327044327,
          -1.0625046923477208,
          -0.7451180053122068,
          -0.6836410035992638,
          -0.692375921451539,
          -0.4517586778721641,
          -0.48201527203263717,
          -0.8239702976402986,
          -0.9758264420675071,
          -0.5981951696863566,
          -1.3388583876885294,
          -0.15764392323857332,
          -0.40113211492821205,
          0.07273037795721678,
          0.1745614341079739,
          0.15798144811348416,
          0.9377132708085261,
          1.1624733088048977,
          0.537726685150669,
          0.579726763270835,
          0.13852252153402228,
          -0.1588963340519295,
          -0.2454920084857245,
          0.10079845472715476,
          -0.49520423490573956,
          -0.1710743303436601,
          -0.7978412562087167,
          -0.9436037654896291,
          -0.5965093791656768,
          -0.03667192450673487,
          -0.1749480972639996,
          -0.6165499552007565,
          0.02957050856614008,
          0.023223828604364862,
          0.08364513035637189,
          0.4123635702146378,
          0.10688095545198213,
          -0.3425958291381507,
          0.023543607252463516,
          0.5191122112505214,
          0.23581992781708674,
          -0.33946367211668566,
          -0.46905376818424344,
          -0.747306101603399,
          -0.766117107308708,
          -0.3360657487008761,
          -0.8449067341933443,
          -0.5661435180193318,
          -0.38915559850179826,
          -0.49791008779114015,
          -0.25180602631857546,
          -0.7350019057629869,
          -1.1439979908762405,
          -0.6470274801218342,
          -0.6013235491306171,
          -0.9550274913202026,
          -0.7022390068157397,
          -0.6696291259224637,
          -0.6346173314599037,
          -0.28851985610025394,
          -0.6778872041876502,
          -0.14129123392838921,
          0.05989198151948093,
          -0.7488139162370735,
          -0.7404172395643006,
          -0.9153964957348931,
          -0.6323991506817482,
          -0.8554324845947467,
          -0.6871097538522932,
          -0.7416654513985771,
          -0.9270663223717274,
          -0.8225059848404247,
          -1.1346516312540553,
          -0.7179607747736606,
          -1.5063130820969224,
          -1.7837110936877103,
          -0.7905762476720493,
          -0.8470333637121418,
          -0.8931358202260332,
          -1.4029533212384326,
          -1.1156665636647662,
          -1.1469809051494926,
          -0.7765420722563803,
          -1.000564928061273,
          -1.0882229398738645,
          -1.0753299126131979,
          -0.9934086733694064,
          -1.1113387519188065,
          -1.0294056087645724,
          -1.22757014589346,
          -1.04031823010497,
          -0.9454377620279715,
          -0.802777348453696,
          -1.5393223122586266,
          -1.3959045202553926,
          -1.1738283728075498,
          -1.084482851084725,
          -1.0184774713079534,
          -1.2818694340248158,
          -1.1209789347367547,
          -1.1032609938018416,
          -1.1009977045174575,
          -1.058174558166381,
          -1.0734626905151563,
          -1.035171927119445,
          -1.3982527350512532,
          -1.6974740982309457,
          -1.2571475144973459,
          -1.40626454300124,
          -1.3960168759824085,
          -1.2977516000374447,
          -1.44272646292217,
          -1.5260214338960363,
          -1.1358950755258874,
          -1.4610542217482418,
          -1.349889783361119,
          -1.59658198985282,
          -1.5823211411121283,
          -1.8860020720935409,
          -1.7708083505943,
          -1.5862263357220934
         ],
         "yaxis": "y"
        },
        {
         "hovertemplate": "system_name=acropolis-6<br>datetime=%{x}<br>diff=%{y}<extra></extra>",
         "legendgroup": "acropolis-6",
         "marker": {
          "color": "#EF553B",
          "symbol": "circle"
         },
         "mode": "markers",
         "name": "acropolis-6",
         "showlegend": true,
         "type": "scattergl",
         "x": [
          "2025-02-18T00:00:00",
          "2025-02-18T01:00:00",
          "2025-02-18T02:00:00",
          "2025-02-18T03:00:00",
          "2025-02-18T04:00:00",
          "2025-02-18T05:00:00",
          "2025-02-18T06:00:00",
          "2025-02-18T07:00:00",
          "2025-02-18T08:00:00",
          "2025-02-18T09:00:00",
          "2025-02-18T10:00:00",
          "2025-02-18T11:00:00",
          "2025-02-18T12:00:00",
          "2025-02-18T13:00:00",
          "2025-02-18T14:00:00",
          "2025-02-18T15:00:00",
          "2025-02-18T16:00:00",
          "2025-02-18T17:00:00",
          "2025-02-18T18:00:00",
          "2025-02-18T19:00:00",
          "2025-02-18T20:00:00",
          "2025-02-18T21:00:00",
          "2025-02-18T22:00:00",
          "2025-02-18T23:00:00",
          "2025-02-19T00:00:00",
          "2025-02-19T01:00:00",
          "2025-02-19T02:00:00",
          "2025-02-19T03:00:00",
          "2025-02-19T04:00:00",
          "2025-02-19T05:00:00",
          "2025-02-19T06:00:00",
          "2025-02-19T07:00:00",
          "2025-02-19T08:00:00",
          "2025-02-19T09:00:00",
          "2025-02-19T10:00:00",
          "2025-02-19T11:00:00",
          "2025-02-19T12:00:00",
          "2025-02-19T13:00:00",
          "2025-02-19T14:00:00",
          "2025-02-19T15:00:00",
          "2025-02-19T16:00:00",
          "2025-02-19T17:00:00",
          "2025-02-19T18:00:00",
          "2025-02-19T19:00:00",
          "2025-02-19T20:00:00",
          "2025-02-19T21:00:00",
          "2025-02-19T22:00:00",
          "2025-02-19T23:00:00",
          "2025-02-20T00:00:00",
          "2025-02-20T01:00:00",
          "2025-02-20T02:00:00",
          "2025-02-20T03:00:00",
          "2025-02-20T04:00:00",
          "2025-02-20T05:00:00",
          "2025-02-20T06:00:00",
          "2025-02-20T07:00:00",
          "2025-02-20T08:00:00",
          "2025-02-20T09:00:00",
          "2025-02-20T10:00:00",
          "2025-02-20T11:00:00",
          "2025-02-20T12:00:00",
          "2025-02-20T13:00:00",
          "2025-02-20T14:00:00",
          "2025-02-20T15:00:00",
          "2025-02-20T16:00:00",
          "2025-02-20T17:00:00",
          "2025-02-20T18:00:00",
          "2025-02-20T19:00:00",
          "2025-02-20T20:00:00",
          "2025-02-20T21:00:00",
          "2025-02-20T22:00:00",
          "2025-02-20T23:00:00",
          "2025-02-21T00:00:00",
          "2025-02-21T01:00:00",
          "2025-02-21T02:00:00",
          "2025-02-21T03:00:00",
          "2025-02-21T04:00:00",
          "2025-02-21T05:00:00",
          "2025-02-21T06:00:00",
          "2025-02-21T07:00:00",
          "2025-02-21T08:00:00",
          "2025-02-21T09:00:00",
          "2025-02-21T10:00:00",
          "2025-02-21T11:00:00",
          "2025-02-21T12:00:00",
          "2025-02-21T13:00:00",
          "2025-02-21T14:00:00",
          "2025-02-21T15:00:00",
          "2025-02-21T16:00:00",
          "2025-02-21T17:00:00",
          "2025-02-21T18:00:00",
          "2025-02-21T19:00:00",
          "2025-02-21T20:00:00",
          "2025-02-21T21:00:00",
          "2025-02-21T22:00:00",
          "2025-02-21T23:00:00",
          "2025-02-22T00:00:00",
          "2025-02-22T01:00:00",
          "2025-02-22T02:00:00",
          "2025-02-22T03:00:00",
          "2025-02-22T04:00:00",
          "2025-02-22T05:00:00",
          "2025-02-22T06:00:00",
          "2025-02-22T07:00:00",
          "2025-02-22T08:00:00",
          "2025-02-22T09:00:00",
          "2025-02-22T10:00:00",
          "2025-02-22T11:00:00",
          "2025-02-22T12:00:00",
          "2025-02-22T13:00:00",
          "2025-02-22T14:00:00",
          "2025-02-22T15:00:00",
          "2025-02-22T16:00:00",
          "2025-02-22T17:00:00",
          "2025-02-22T18:00:00",
          "2025-02-22T19:00:00",
          "2025-02-22T20:00:00",
          "2025-02-22T21:00:00",
          "2025-02-22T22:00:00",
          "2025-02-22T23:00:00",
          "2025-02-23T00:00:00",
          "2025-02-23T01:00:00",
          "2025-02-23T02:00:00",
          "2025-02-23T03:00:00",
          "2025-02-23T04:00:00",
          "2025-02-23T05:00:00",
          "2025-02-23T06:00:00",
          "2025-02-23T07:00:00",
          "2025-02-23T08:00:00",
          "2025-02-23T09:00:00",
          "2025-02-23T10:00:00",
          "2025-02-23T11:00:00",
          "2025-02-23T12:00:00",
          "2025-02-23T13:00:00",
          "2025-02-23T14:00:00",
          "2025-02-23T15:00:00",
          "2025-02-23T16:00:00",
          "2025-02-23T17:00:00",
          "2025-02-23T18:00:00",
          "2025-02-23T19:00:00",
          "2025-02-23T20:00:00",
          "2025-02-23T21:00:00",
          "2025-02-23T22:00:00",
          "2025-02-23T23:00:00",
          "2025-02-24T00:00:00",
          "2025-02-24T01:00:00",
          "2025-02-24T02:00:00",
          "2025-02-24T03:00:00",
          "2025-02-24T04:00:00",
          "2025-02-24T05:00:00",
          "2025-02-24T06:00:00",
          "2025-02-24T07:00:00",
          "2025-02-24T08:00:00",
          "2025-02-24T14:00:00",
          "2025-02-24T15:00:00",
          "2025-02-24T16:00:00",
          "2025-02-24T17:00:00",
          "2025-02-24T18:00:00",
          "2025-02-24T19:00:00",
          "2025-02-24T20:00:00",
          "2025-02-24T21:00:00",
          "2025-02-24T22:00:00",
          "2025-02-24T23:00:00",
          "2025-02-25T00:00:00",
          "2025-02-25T01:00:00",
          "2025-02-25T02:00:00",
          "2025-02-25T03:00:00",
          "2025-02-25T04:00:00",
          "2025-02-25T05:00:00",
          "2025-02-25T06:00:00",
          "2025-02-25T07:00:00",
          "2025-02-25T08:00:00",
          "2025-02-25T09:00:00",
          "2025-02-25T10:00:00",
          "2025-02-25T11:00:00",
          "2025-02-25T12:00:00",
          "2025-02-25T13:00:00",
          "2025-02-25T14:00:00",
          "2025-02-25T15:00:00",
          "2025-02-25T16:00:00",
          "2025-02-25T17:00:00",
          "2025-02-25T18:00:00",
          "2025-02-25T19:00:00",
          "2025-02-25T20:00:00",
          "2025-02-25T21:00:00",
          "2025-02-25T22:00:00",
          "2025-02-25T23:00:00",
          "2025-02-26T00:00:00",
          "2025-02-26T01:00:00",
          "2025-02-26T02:00:00",
          "2025-02-26T03:00:00",
          "2025-02-26T04:00:00",
          "2025-02-26T05:00:00",
          "2025-02-26T06:00:00",
          "2025-02-26T07:00:00",
          "2025-02-26T08:00:00",
          "2025-02-26T09:00:00",
          "2025-02-26T10:00:00",
          "2025-02-26T11:00:00",
          "2025-02-26T12:00:00",
          "2025-02-26T13:00:00",
          "2025-02-26T14:00:00",
          "2025-02-26T15:00:00",
          "2025-02-26T16:00:00",
          "2025-02-26T17:00:00",
          "2025-02-26T18:00:00",
          "2025-02-26T19:00:00",
          "2025-02-26T20:00:00",
          "2025-02-26T21:00:00",
          "2025-02-26T22:00:00",
          "2025-02-26T23:00:00",
          "2025-02-27T00:00:00",
          "2025-02-27T01:00:00",
          "2025-02-27T02:00:00",
          "2025-02-27T03:00:00",
          "2025-02-27T04:00:00",
          "2025-02-27T05:00:00",
          "2025-02-27T06:00:00",
          "2025-02-27T07:00:00",
          "2025-02-27T08:00:00",
          "2025-02-27T09:00:00",
          "2025-02-27T10:00:00",
          "2025-02-27T11:00:00",
          "2025-02-27T12:00:00",
          "2025-02-27T13:00:00",
          "2025-02-27T14:00:00",
          "2025-02-27T15:00:00",
          "2025-02-27T16:00:00",
          "2025-02-27T17:00:00",
          "2025-02-27T18:00:00",
          "2025-02-27T19:00:00",
          "2025-02-27T20:00:00",
          "2025-02-27T21:00:00",
          "2025-02-27T22:00:00",
          "2025-02-27T23:00:00",
          "2025-02-28T00:00:00",
          "2025-02-28T01:00:00",
          "2025-02-28T02:00:00",
          "2025-02-28T03:00:00",
          "2025-02-28T04:00:00",
          "2025-02-28T05:00:00",
          "2025-02-28T06:00:00",
          "2025-02-28T07:00:00",
          "2025-02-28T08:00:00",
          "2025-02-28T09:00:00",
          "2025-02-28T10:00:00",
          "2025-02-28T11:00:00",
          "2025-02-28T12:00:00",
          "2025-02-28T13:00:00",
          "2025-02-28T14:00:00",
          "2025-02-28T15:00:00",
          "2025-02-28T16:00:00",
          "2025-02-28T17:00:00",
          "2025-02-28T18:00:00",
          "2025-02-28T19:00:00",
          "2025-02-28T20:00:00",
          "2025-02-28T21:00:00",
          "2025-02-28T22:00:00",
          "2025-02-28T23:00:00",
          "2025-03-01T00:00:00",
          "2025-03-01T01:00:00",
          "2025-03-01T02:00:00",
          "2025-03-01T03:00:00",
          "2025-03-01T04:00:00",
          "2025-03-01T05:00:00",
          "2025-03-01T06:00:00",
          "2025-03-01T07:00:00",
          "2025-03-01T08:00:00",
          "2025-03-01T09:00:00",
          "2025-03-01T10:00:00",
          "2025-03-01T11:00:00",
          "2025-03-01T12:00:00",
          "2025-03-01T13:00:00",
          "2025-03-01T14:00:00",
          "2025-03-01T15:00:00",
          "2025-03-01T16:00:00",
          "2025-03-01T17:00:00",
          "2025-03-01T18:00:00",
          "2025-03-01T19:00:00",
          "2025-03-01T20:00:00",
          "2025-03-01T21:00:00",
          "2025-03-01T22:00:00",
          "2025-03-01T23:00:00",
          "2025-03-02T00:00:00",
          "2025-03-02T01:00:00",
          "2025-03-02T02:00:00",
          "2025-03-02T03:00:00",
          "2025-03-02T04:00:00",
          "2025-03-02T05:00:00",
          "2025-03-02T06:00:00",
          "2025-03-02T07:00:00",
          "2025-03-02T08:00:00",
          "2025-03-02T09:00:00",
          "2025-03-02T10:00:00",
          "2025-03-02T11:00:00",
          "2025-03-02T12:00:00",
          "2025-03-02T13:00:00",
          "2025-03-02T14:00:00",
          "2025-03-02T15:00:00",
          "2025-03-02T16:00:00",
          "2025-03-02T17:00:00",
          "2025-03-02T18:00:00",
          "2025-03-02T19:00:00",
          "2025-03-02T20:00:00",
          "2025-03-02T21:00:00",
          "2025-03-02T22:00:00",
          "2025-03-02T23:00:00",
          "2025-03-03T00:00:00",
          "2025-03-03T01:00:00",
          "2025-03-03T02:00:00",
          "2025-03-03T03:00:00",
          "2025-03-03T04:00:00",
          "2025-03-03T05:00:00",
          "2025-03-03T06:00:00",
          "2025-03-03T07:00:00",
          "2025-03-03T08:00:00",
          "2025-03-03T09:00:00",
          "2025-03-03T10:00:00",
          "2025-03-03T11:00:00",
          "2025-03-03T12:00:00",
          "2025-03-03T13:00:00",
          "2025-03-03T14:00:00",
          "2025-03-03T15:00:00",
          "2025-03-03T16:00:00",
          "2025-03-03T17:00:00",
          "2025-03-03T18:00:00",
          "2025-03-03T19:00:00",
          "2025-03-03T20:00:00",
          "2025-03-03T21:00:00",
          "2025-03-03T22:00:00",
          "2025-03-03T23:00:00",
          "2025-03-04T00:00:00",
          "2025-03-04T01:00:00",
          "2025-03-04T02:00:00",
          "2025-03-04T03:00:00",
          "2025-03-04T04:00:00",
          "2025-03-04T05:00:00",
          "2025-03-04T06:00:00",
          "2025-03-04T07:00:00",
          "2025-03-04T08:00:00",
          "2025-03-04T09:00:00",
          "2025-03-04T10:00:00",
          "2025-03-04T11:00:00",
          "2025-03-04T12:00:00",
          "2025-03-04T13:00:00",
          "2025-03-04T14:00:00",
          "2025-03-04T15:00:00",
          "2025-03-04T16:00:00",
          "2025-03-04T17:00:00",
          "2025-03-04T18:00:00",
          "2025-03-04T19:00:00",
          "2025-03-04T20:00:00",
          "2025-03-04T21:00:00",
          "2025-03-04T22:00:00",
          "2025-03-04T23:00:00",
          "2025-03-05T00:00:00",
          "2025-03-05T01:00:00",
          "2025-03-05T02:00:00",
          "2025-03-05T03:00:00",
          "2025-03-05T04:00:00",
          "2025-03-05T05:00:00",
          "2025-03-05T06:00:00",
          "2025-03-05T07:00:00",
          "2025-03-05T08:00:00",
          "2025-03-05T09:00:00",
          "2025-03-05T10:00:00",
          "2025-03-05T11:00:00",
          "2025-03-05T12:00:00",
          "2025-03-05T13:00:00",
          "2025-03-05T14:00:00",
          "2025-03-05T15:00:00",
          "2025-03-05T16:00:00",
          "2025-03-05T17:00:00",
          "2025-03-05T18:00:00",
          "2025-03-05T19:00:00",
          "2025-03-05T20:00:00",
          "2025-03-05T21:00:00",
          "2025-03-05T22:00:00",
          "2025-03-05T23:00:00",
          "2025-03-06T00:00:00",
          "2025-03-06T01:00:00",
          "2025-03-06T02:00:00",
          "2025-03-06T03:00:00",
          "2025-03-06T04:00:00",
          "2025-03-06T05:00:00",
          "2025-03-06T06:00:00",
          "2025-03-06T07:00:00",
          "2025-03-06T08:00:00",
          "2025-03-06T09:00:00",
          "2025-03-06T10:00:00",
          "2025-03-06T11:00:00",
          "2025-03-06T12:00:00",
          "2025-03-06T13:00:00",
          "2025-03-06T14:00:00",
          "2025-03-06T15:00:00",
          "2025-03-06T16:00:00",
          "2025-03-06T17:00:00",
          "2025-03-06T18:00:00",
          "2025-03-06T19:00:00",
          "2025-03-06T20:00:00",
          "2025-03-06T21:00:00",
          "2025-03-06T22:00:00",
          "2025-03-06T23:00:00",
          "2025-03-07T00:00:00",
          "2025-03-07T01:00:00",
          "2025-03-07T02:00:00",
          "2025-03-07T03:00:00",
          "2025-03-07T04:00:00",
          "2025-03-07T05:00:00",
          "2025-03-07T06:00:00",
          "2025-03-07T07:00:00",
          "2025-03-07T08:00:00",
          "2025-03-07T09:00:00",
          "2025-03-07T10:00:00",
          "2025-03-07T11:00:00",
          "2025-03-07T12:00:00",
          "2025-03-07T13:00:00",
          "2025-03-07T14:00:00",
          "2025-03-07T15:00:00",
          "2025-03-07T16:00:00",
          "2025-03-07T17:00:00",
          "2025-03-07T18:00:00",
          "2025-03-07T19:00:00",
          "2025-03-07T20:00:00",
          "2025-03-07T21:00:00",
          "2025-03-07T22:00:00",
          "2025-03-07T23:00:00",
          "2025-03-08T00:00:00",
          "2025-03-08T01:00:00",
          "2025-03-08T02:00:00",
          "2025-03-08T03:00:00",
          "2025-03-08T04:00:00",
          "2025-03-08T05:00:00",
          "2025-03-08T06:00:00",
          "2025-03-08T07:00:00",
          "2025-03-08T08:00:00",
          "2025-03-08T09:00:00",
          "2025-03-08T10:00:00",
          "2025-03-08T11:00:00",
          "2025-03-08T12:00:00",
          "2025-03-08T13:00:00",
          "2025-03-08T14:00:00",
          "2025-03-08T15:00:00",
          "2025-03-08T16:00:00",
          "2025-03-08T17:00:00",
          "2025-03-08T18:00:00",
          "2025-03-08T19:00:00",
          "2025-03-08T20:00:00",
          "2025-03-08T21:00:00",
          "2025-03-08T22:00:00",
          "2025-03-08T23:00:00",
          "2025-03-09T00:00:00",
          "2025-03-09T01:00:00",
          "2025-03-09T02:00:00",
          "2025-03-09T03:00:00",
          "2025-03-09T04:00:00",
          "2025-03-09T05:00:00",
          "2025-03-09T06:00:00",
          "2025-03-09T07:00:00",
          "2025-03-09T08:00:00",
          "2025-03-09T09:00:00",
          "2025-03-09T10:00:00",
          "2025-03-09T11:00:00",
          "2025-03-09T12:00:00",
          "2025-03-09T13:00:00",
          "2025-03-09T14:00:00",
          "2025-03-09T15:00:00",
          "2025-03-09T16:00:00",
          "2025-03-09T17:00:00",
          "2025-03-09T18:00:00",
          "2025-03-09T19:00:00",
          "2025-03-09T20:00:00",
          "2025-03-09T21:00:00",
          "2025-03-09T22:00:00",
          "2025-03-09T23:00:00",
          "2025-03-10T00:00:00",
          "2025-03-10T01:00:00",
          "2025-03-10T02:00:00",
          "2025-03-10T03:00:00",
          "2025-03-10T04:00:00",
          "2025-03-10T05:00:00",
          "2025-03-10T06:00:00",
          "2025-03-10T07:00:00",
          "2025-03-10T08:00:00",
          "2025-03-10T09:00:00",
          "2025-03-10T10:00:00",
          "2025-03-10T11:00:00",
          "2025-03-10T12:00:00",
          "2025-03-10T13:00:00",
          "2025-03-10T14:00:00",
          "2025-03-10T15:00:00",
          "2025-03-10T16:00:00",
          "2025-03-10T17:00:00",
          "2025-03-10T18:00:00",
          "2025-03-10T19:00:00",
          "2025-03-10T20:00:00",
          "2025-03-10T21:00:00",
          "2025-03-10T22:00:00",
          "2025-03-10T23:00:00",
          "2025-03-11T00:00:00",
          "2025-03-11T01:00:00",
          "2025-03-11T02:00:00",
          "2025-03-11T03:00:00",
          "2025-03-11T04:00:00",
          "2025-03-11T05:00:00",
          "2025-03-11T06:00:00",
          "2025-03-11T07:00:00",
          "2025-03-11T08:00:00",
          "2025-03-11T09:00:00",
          "2025-03-11T10:00:00",
          "2025-03-11T11:00:00",
          "2025-03-11T12:00:00",
          "2025-03-11T13:00:00",
          "2025-03-11T14:00:00",
          "2025-03-11T15:00:00",
          "2025-03-11T16:00:00",
          "2025-03-11T17:00:00",
          "2025-03-11T18:00:00",
          "2025-03-11T19:00:00",
          "2025-03-11T20:00:00",
          "2025-03-11T21:00:00",
          "2025-03-11T22:00:00",
          "2025-03-11T23:00:00",
          "2025-03-12T00:00:00",
          "2025-03-12T01:00:00",
          "2025-03-12T02:00:00",
          "2025-03-12T03:00:00",
          "2025-03-12T04:00:00",
          "2025-03-12T05:00:00",
          "2025-03-12T06:00:00",
          "2025-03-12T07:00:00",
          "2025-03-12T08:00:00",
          "2025-03-12T09:00:00",
          "2025-03-12T10:00:00",
          "2025-03-12T11:00:00",
          "2025-03-12T12:00:00",
          "2025-03-12T13:00:00",
          "2025-03-12T14:00:00",
          "2025-03-12T15:00:00",
          "2025-03-12T16:00:00",
          "2025-03-12T17:00:00",
          "2025-03-12T18:00:00",
          "2025-03-12T19:00:00",
          "2025-03-12T20:00:00",
          "2025-03-12T21:00:00",
          "2025-03-12T22:00:00",
          "2025-03-12T23:00:00",
          "2025-03-13T00:00:00",
          "2025-03-13T01:00:00",
          "2025-03-13T02:00:00",
          "2025-03-13T03:00:00",
          "2025-03-13T04:00:00",
          "2025-03-13T05:00:00",
          "2025-03-13T06:00:00",
          "2025-03-13T07:00:00",
          "2025-03-13T08:00:00",
          "2025-03-13T09:00:00",
          "2025-03-13T10:00:00",
          "2025-03-13T11:00:00",
          "2025-03-13T12:00:00",
          "2025-03-13T13:00:00",
          "2025-03-13T14:00:00",
          "2025-03-13T15:00:00",
          "2025-03-13T16:00:00",
          "2025-03-13T17:00:00",
          "2025-03-13T18:00:00",
          "2025-03-13T19:00:00",
          "2025-03-13T20:00:00",
          "2025-03-13T21:00:00",
          "2025-03-13T22:00:00",
          "2025-03-13T23:00:00",
          "2025-03-14T00:00:00",
          "2025-03-14T01:00:00",
          "2025-03-14T02:00:00",
          "2025-03-14T03:00:00",
          "2025-03-14T04:00:00",
          "2025-03-14T05:00:00",
          "2025-03-14T06:00:00",
          "2025-03-14T07:00:00",
          "2025-03-14T08:00:00",
          "2025-03-14T09:00:00",
          "2025-03-14T10:00:00",
          "2025-03-14T11:00:00",
          "2025-03-14T12:00:00",
          "2025-03-14T13:00:00",
          "2025-03-14T14:00:00",
          "2025-03-14T15:00:00",
          "2025-03-14T16:00:00",
          "2025-03-14T17:00:00",
          "2025-03-14T18:00:00",
          "2025-03-14T19:00:00",
          "2025-03-14T20:00:00",
          "2025-03-14T21:00:00",
          "2025-03-14T22:00:00",
          "2025-03-14T23:00:00",
          "2025-03-15T00:00:00",
          "2025-03-15T01:00:00",
          "2025-03-15T02:00:00",
          "2025-03-15T03:00:00",
          "2025-03-15T04:00:00",
          "2025-03-15T05:00:00",
          "2025-03-15T06:00:00",
          "2025-03-15T07:00:00",
          "2025-03-15T08:00:00",
          "2025-03-15T09:00:00",
          "2025-03-15T10:00:00",
          "2025-03-15T11:00:00",
          "2025-03-15T12:00:00",
          "2025-03-15T13:00:00",
          "2025-03-15T14:00:00",
          "2025-03-15T15:00:00",
          "2025-03-15T16:00:00",
          "2025-03-15T17:00:00",
          "2025-03-15T18:00:00",
          "2025-03-15T19:00:00",
          "2025-03-15T20:00:00",
          "2025-03-15T21:00:00",
          "2025-03-15T22:00:00",
          "2025-03-15T23:00:00",
          "2025-03-16T00:00:00",
          "2025-03-16T01:00:00",
          "2025-03-16T02:00:00",
          "2025-03-16T03:00:00",
          "2025-03-16T04:00:00",
          "2025-03-16T05:00:00",
          "2025-03-16T06:00:00",
          "2025-03-16T07:00:00",
          "2025-03-16T08:00:00",
          "2025-03-16T09:00:00",
          "2025-03-16T10:00:00",
          "2025-03-16T11:00:00",
          "2025-03-16T12:00:00",
          "2025-03-16T13:00:00",
          "2025-03-16T14:00:00",
          "2025-03-16T15:00:00",
          "2025-03-16T16:00:00",
          "2025-03-16T17:00:00",
          "2025-03-16T18:00:00",
          "2025-03-16T19:00:00",
          "2025-03-16T20:00:00",
          "2025-03-16T21:00:00",
          "2025-03-16T22:00:00",
          "2025-03-16T23:00:00"
         ],
         "xaxis": "x",
         "y": [
          -0.2621196459284481,
          -0.4505700636970426,
          -0.25529202252124944,
          -0.45400724610833076,
          -0.979924457947114,
          -1.0029552282127838,
          -1.3009211213181076,
          -1.154015681243765,
          -0.9454470367109215,
          -1.310745619677546,
          -0.9908597499470307,
          -1.1567543249360672,
          -1.2926996859606585,
          -0.7253783846593336,
          -0.7112749291755562,
          -0.6122167070702152,
          -0.3679993027370993,
          -0.5715953278892092,
          -0.5636457994994222,
          -1.2268672138814196,
          -0.8277209453969282,
          -0.9859566626707855,
          -1.1187549182823668,
          -1.4373125530805786,
          -1.5229798852078829,
          -1.5208993348765583,
          -1.376496214668016,
          -1.0760316283895677,
          -1.2458738017126867,
          -1.5419543323744198,
          -1.4961658328049594,
          -1.9592805446062818,
          -1.581622978179412,
          -1.1583956899249883,
          -1.2622216809057254,
          -1.100423555286772,
          -0.6427386269254352,
          -0.7331536192687852,
          -1.3098692919097021,
          -1.227173513217815,
          -0.6239136592507175,
          -0.5504766305850952,
          -0.7056050806620652,
          -1.6909641341737356,
          -1.108477558261808,
          -0.9449658889416658,
          -1.480507375046056,
          -1.5536410708470005,
          -1.7818084470140239,
          -1.5197725312590018,
          -1.2258481242501869,
          -1.5907136073323906,
          -1.442618120223961,
          -0.7024644097796132,
          -0.7302294797320575,
          -0.8616375245223964,
          -0.3191696652441304,
          0.7758128178538385,
          0.3295202202360263,
          -0.05844820742401519,
          -0.05160449361023325,
          -0.7606327610868414,
          -0.6605495808741552,
          -0.4268436643450611,
          -0.22232506599596888,
          -0.23502823209043983,
          -0.651517518019745,
          -0.4318186792257672,
          0.09564643935110126,
          0.2626141094216725,
          0.33946785198729873,
          0.37922129079353745,
          0.0346113072848766,
          0.2454337561793551,
          -1.481727971358377,
          0.05316350335857104,
          -0.22666709055887443,
          -0.016044266621984587,
          0.6651748950155247,
          0.3228906505409199,
          -0.05238193882402176,
          -0.0828436466369548,
          -0.5996506500182164,
          0.2506575852444646,
          0.26423704622423827,
          -0.2129021368984553,
          -0.36985766062844194,
          -0.5269908947819374,
          -0.4056131178686177,
          -0.3961966301399651,
          -0.3724980937231242,
          -0.20010264464562794,
          0.005165936508340489,
          0.5043480941111553,
          0.30355664920591846,
          -0.36607269720635854,
          -0.7171861610498372,
          -0.4626022226768626,
          -0.7793324442010359,
          0.019359503062344175,
          0.02545621498554548,
          -0.0937257230882608,
          -0.6753834557219506,
          -0.7375414547524234,
          -0.17461181309893684,
          0.2975009081007196,
          0.0669218537519626,
          -0.507611577417821,
          -0.855881608247725,
          -0.3458786220606773,
          0.3528151655134607,
          0.3408021877317997,
          -0.34910549348161385,
          -1.238679134468177,
          -0.6196991101347848,
          -0.4318106498276,
          -0.007447721325569982,
          -0.5026286065985237,
          -0.7920247881190652,
          -0.37604503097621206,
          -0.29224894893214876,
          0.015759290011834064,
          -1.8266916404293192,
          -0.16294259651188317,
          -0.23607916990512526,
          0.15600116830667238,
          0.6932928964952666,
          0.5271798305277542,
          0.3158097969311059,
          -0.0276339305714212,
          0.33388625453702425,
          -0.05409686383767527,
          0.19894390296707817,
          0.26900597453913044,
          0.26655139917345755,
          0.37355578453059857,
          0.26043942862462094,
          0.40564809082150266,
          0.5763486971743698,
          -0.3545734230444078,
          -0.5381409498668878,
          -0.5991063691841504,
          -0.5368636228025394,
          -0.7327839397265662,
          -0.6265830958831888,
          -0.48734851239869764,
          -0.7983970128109582,
          -0.728372553847039,
          -0.47750410006233135,
          0.03907467065177504,
          0.26524022801618324,
          0.2042798382574053,
          -0.060405735333992065,
          0.24409898896423046,
          -0.37343549809689736,
          0.09952286515871028,
          -0.3901575287698227,
          -0.6361058351185918,
          -0.6763651485617695,
          -0.5261686805186064,
          -0.6193155526409881,
          -1.0672949971967924,
          -1.056561756678297,
          -0.9332483886440187,
          -1.0658010239982005,
          -1.3075446363071936,
          -0.586413994503793,
          -0.8715265658188591,
          -1.2444762285341122,
          -0.9358524623532579,
          -0.5026017784781242,
          -0.4183251686276478,
          -0.4066335513833252,
          -0.1440946577760054,
          -0.28720764637508867,
          -0.5740777586666667,
          -0.73983766719865,
          -0.8083451645634232,
          -0.2824781228804625,
          -0.13878644729170161,
          -0.44217110368093976,
          -0.487584161225188,
          -1.0250274434737359,
          -0.6512442258074945,
          -0.8556882103286587,
          -0.8887987899082224,
          -0.7240698145132204,
          -0.32351954658439536,
          -1.1293422313824508,
          -1.1825749066819033,
          -1.1943912754101902,
          -1.2372548243645203,
          -1.1931295374057773,
          -0.39717218007993343,
          -0.8428314237381718,
          -1.5452167212295,
          -1.67248421130756,
          -1.8384839905996364,
          -1.609653727095899,
          -1.6064627330601218,
          -1.8168779644469388,
          -1.6471551246958354,
          -1.4936365306879877,
          -1.3427101803630066,
          -1.3675587426647375,
          -1.729596472688417,
          -1.7543653217153583,
          -1.6593870815626663,
          -0.8985235419045822,
          -0.765412277288749,
          -0.30701993379381787,
          -0.18105330969353303,
          -0.5189440732552479,
          -1.1579228630344052,
          -0.6754236239239385,
          -0.3795111058366525,
          -1.1785050349570336,
          -1.4499088346740512,
          -1.56273797156118,
          -0.85983451293361,
          -0.663538293624561,
          -1.1599000831536208,
          -0.9561229904594281,
          -0.5528727767779491,
          -0.7817017641669515,
          -0.4947697027001567,
          -0.3179265701053585,
          -0.2074194744222017,
          -0.10406774315652711,
          -0.6701072691189104,
          -0.3584560627317837,
          -0.734381112110655,
          -1.2002261224285424,
          -1.2823096131178977,
          -1.293328510742931,
          -1.3809295233179646,
          -0.9457893149788053,
          -1.1927741284029598,
          -1.2273875580396727,
          -1.054005606896711,
          -1.1187990204026386,
          -1.2157661774381192,
          -0.7422755486741376,
          -0.8331183839226242,
          -1.1155497866012065,
          -1.43318552016538,
          -1.5198348519859433,
          -0.6229738129769237,
          -0.9891028200454808,
          -1.3711526371306553,
          -0.43124883459113905,
          -0.8582417654923893,
          -0.634279442981629,
          -0.5870915353476613,
          -0.8480985389711341,
          -0.5622124753616277,
          -0.5592256095614445,
          -0.2516386735508557,
          -0.45791719581291235,
          -1.0494868992924955,
          -0.4297792063726822,
          -1.1537010650437578,
          -0.6800899916515301,
          -0.7422698017022166,
          -0.15003064322461626,
          -0.23698609330054551,
          -0.43980131535660943,
          -0.38917649085085393,
          -0.5683259311239941,
          -0.5194070964355642,
          -0.2479105958353903,
          -0.06930296903434699,
          -0.2904629769214362,
          -0.358896994065437,
          -0.7017529337671334,
          -0.9429101446564834,
          -0.961390128554531,
          -0.5882635299798404,
          -0.7746918226148523,
          -0.5149357120745288,
          -0.978006272247436,
          -0.5509286173253454,
          -0.21917747603530557,
          -0.225551431247663,
          -0.3369658390952945,
          -0.9971969743070074,
          -0.6803416085396047,
          -1.399319714006215,
          -1.628150774254316,
          -1.664157798592322,
          -1.135080540592249,
          -0.6697170679251546,
          -0.6349925920492392,
          -0.5417493112843604,
          -1.1376383179364191,
          -1.064362345442899,
          -0.17067792837522236,
          0.0159682107152283,
          -0.16573580229537252,
          -0.19292557659711587,
          -0.09254109771686009,
          -0.3328704817997623,
          -0.5681661193842403,
          -0.7975429037664824,
          -1.1706621218571938,
          -1.0072571892988043,
          -1.0202091191005997,
          -0.6145948380761709,
          -0.4829793413988696,
          -1.2835221387774414,
          -0.8198391937655458,
          -0.9155050940819526,
          -0.45722209702016653,
          -1.7014323633054578,
          -0.47633846637612437,
          -1.202362990691791,
          -0.29137935328189524,
          -0.7516084180815076,
          -0.9605836233241712,
          -0.8782804331721882,
          -0.8518068447795241,
          -0.5874490546447548,
          -0.14089475358898038,
          0.06143145157673236,
          0.2669686580592038,
          0.037826303934710856,
          -0.16300866661757,
          -0.8560124819471672,
          -1.164937086600313,
          -1.0906416351330577,
          -1.0995794338602327,
          -0.883095939026136,
          -0.398954802235248,
          -0.4302700095853458,
          -0.9573133145187607,
          -1.5185208859005779,
          -1.3931588649538706,
          -0.7340850789846968,
          -0.7442711061764526,
          -1.1981091303718188,
          -0.7498553064310253,
          -0.9842082359747413,
          -1.037133990406495,
          -0.5489140484447887,
          -0.1472955702077049,
          0.012677071703105487,
          -0.6617856217511002,
          -0.6377133474027175,
          -0.8169550923505488,
          -0.8395542824777535,
          -0.8699125379683892,
          -0.2911750272663653,
          -1.182326278531768,
          -0.8007454787698071,
          -0.995145173286849,
          -1.138221700858755,
          -0.6188596957416508,
          -2.1228742680356505,
          -1.0080190212745337,
          -0.4217873671823379,
          -0.08648492947484954,
          -0.9640440234201226,
          -0.21732539100804013,
          -1.3603263110194244,
          -1.636487026811401,
          -0.15230734701295176,
          0.04949877853326541,
          -1.54492889518898,
          -0.873648648809741,
          -0.6221784060946453,
          -0.4000895809039748,
          -0.46973770840065754,
          -0.5298360522475505,
          -0.2828142842787789,
          -0.44212910335744293,
          -0.9071647636623368,
          -0.8183991983977658,
          -0.39828097605730606,
          0.2869277656171429,
          -0.21694628925981854,
          -0.42751800807918033,
          -0.870552618752231,
          -0.8859161650743294,
          -0.6505712966356172,
          -0.38704649821151,
          -0.04388517170890698,
          -0.590200795331548,
          -0.6544312823301951,
          -0.4755373934471123,
          -0.0076865689742054615,
          -0.3662292563615454,
          -0.8654846429793499,
          -0.8949611073329644,
          -1.1843740772117608,
          -0.9812592348533106,
          -0.16256077875926944,
          0.10688534210183984,
          0.1401664910173352,
          0.24904218928846736,
          0.4132720058250707,
          0.11675011003795391,
          -0.2627735382047831,
          -0.2628713214303351,
          0.10550518825348121,
          -0.012216293477117782,
          -2.3208734034514693,
          0.1372950713551821,
          0.12881874259570786,
          -0.5813790269182,
          -0.3460502755377426,
          -0.7079156924109106,
          -0.5063754453397995,
          -0.10721126528670671,
          0.17472849576677493,
          -0.6109944748546207,
          -0.8893592786703086,
          -0.6260230517468964,
          -1.0908967212425693,
          -0.29090785560069654,
          0.08414853332364629,
          0.07561141490711189,
          0.11375011159992757,
          0.003508655726702633,
          0.18659510556350795,
          -0.3560240272829688,
          -0.0440098470281967,
          0.5072485475603117,
          0.1531805902162612,
          0.7514358169841444,
          -0.1265772824088297,
          -0.7338116202255894,
          -0.8296723840468322,
          -0.3839618564183477,
          0.19621261913089635,
          -0.9772305753744964,
          -1.0998438744273598,
          -0.6170849525593519,
          -0.39386773066697034,
          -0.30686032144698266,
          -0.8060064785929877,
          -0.8309668790010017,
          -0.3808617063094587,
          -0.3280620369744532,
          0.054321001149144385,
          0.18439475248604728,
          0.07935478515779693,
          0.38929470244081443,
          -0.41553126988918904,
          -0.4932830538977688,
          -0.021683691558995594,
          0.49219730851869103,
          1.0541932706794195,
          0.7729493114186804,
          -1.1056312494485172,
          -0.35380970143491386,
          0.24150155985738544,
          -0.06700490834246772,
          -0.31930481628877533,
          -0.5235450835519622,
          -0.6816204106311403,
          -0.05491370984681557,
          -0.7742693354709237,
          -0.8040352418560285,
          -0.865896289947429,
          -0.5956801020287092,
          -0.19229740038753912,
          -0.4990795586604528,
          -0.5314261206062004,
          -0.23874225081798053,
          -0.28074335306490494,
          -0.44478443820343233,
          -0.0952779167172333,
          0.06327541016906414,
          0.2959321289023786,
          0.17369307105237192,
          0.5513835033252226,
          -0.2762905977095296,
          -0.4956138593565926,
          -0.5220573772329156,
          -0.18161258539369005,
          0.08992163803647343,
          -0.11921389843624013,
          0.2030862825077629,
          0.6964730497560804,
          2.0211246722973457,
          0.4984406463010401,
          -0.39979244851733287,
          -0.5536060748723519,
          -0.43089508601536247,
          -0.4262315369387355,
          -0.5329707593472368,
          -0.15266523753539948,
          -0.07171246198720287,
          0.013030646362106948,
          -0.09367733156083205,
          -0.28054124994567997,
          0.4748081404956211,
          0.835800809913029,
          0.33238660046716495,
          0.6471316357741188,
          0.051546154490042774,
          -1.3049876292802962,
          0.11727489981669853,
          0.4712832868964213,
          -0.833684710050134,
          0.2016722940456167,
          -0.021025799135581735,
          0.24442351607544216,
          0.2542717749469342,
          0.2628224736590977,
          0.6688825000862498,
          -0.469286442995566,
          0.1730200797621566,
          0.24937483132660201,
          0.6099799034424095,
          1.1932775683950927,
          0.7761176720803149,
          0.6759980540885157,
          0.9110111833436473,
          1.4071466732796571,
          1.0281825117414856,
          0.44918116617882425,
          0.4448099153519683,
          0.5968225303710393,
          0.9211855527463427,
          1.1303220496522306,
          1.091556782770471,
          0.8606219660583553,
          0.3414384750745574,
          0.469922409042591,
          1.1805712316785397,
          1.8782217080192263,
          0.4169444848298544,
          0.7520943913761002,
          -0.34315759765039267,
          0.15169380947607702,
          0.40752328946740257,
          -0.1092931473932222,
          0.9378097529723234,
          1.177372566468492,
          1.0776821498796436,
          1.2192502211720462,
          0.6281726890695106,
          0.4233305157781473,
          0.22917769030922747,
          -0.6266311361000326,
          -0.7870642153339209,
          -0.3434330443111582,
          -0.8949488110375223,
          -1.4242262053666952,
          -0.9877960018917658,
          0.17282816939420323,
          -0.5121859918968779,
          0.2730401173619323,
          -0.31854983349366395,
          0.352831575307052,
          0.7855613535054962,
          0.49574429632215006,
          -0.22467823372458184,
          0.41953894956534205,
          1.0075572088954325,
          1.1427311379947471,
          1.0199199471448657,
          0.14564973649956556,
          -0.013971315421839582,
          0.03593929357433297,
          0.25266579665598254,
          1.1543906838931979,
          1.1195115783551506,
          0.6667308778952129,
          1.368173968754193,
          -0.770925212730135,
          0.4349819254140172,
          0.342618897995873,
          0.2522702333398906,
          0.1253877135375277,
          0.04920067593057784,
          0.07548921591688608,
          -0.18685436226927976,
          -0.5410639815013648,
          -0.706912872392014,
          -0.6665121004127942,
          -1.0344767754495277,
          -0.6431620887782543,
          0.43651142642738894,
          0.5838662589311029,
          -0.08832128404643148,
          -0.4889435752829196,
          0.053320358443867615,
          -0.5411287061774448,
          -0.4256951529965746,
          0.12987873746766684,
          0.26288668207798194,
          0.12471467664439283,
          -0.06888952515009805,
          -0.20691773608340752,
          -0.646136202657937,
          -1.7880896690090613,
          0.13094600581555985,
          -0.6743667591848997,
          0.1785276184117464,
          -0.9693725946038656,
          -1.0493442306161616,
          -0.37063844234953514,
          -0.926365739603995,
          -0.6873679792922971,
          -0.49387590177579577,
          -0.5538845311341575,
          -0.6923674250880609,
          -1.2981994347504269,
          -1.4986218503648145,
          -1.6173650231424117,
          -1.4443141230409868,
          -1.0243066264520517,
          -1.1541562333820528,
          -0.16401366138027607,
          -0.9562837975792295,
          -0.7220642134383235,
          -0.3843256624632147,
          -0.8433618515389064,
          -0.3563533123063299,
          -1.116513304688347,
          -0.8064549020796018,
          -0.6964262015140453,
          -1.2152920880553495,
          -1.2302806419299004,
          -1.3472237782425371,
          -1.1107783305346017,
          -0.4652239894709846,
          -0.1781396444443292,
          -0.5855880416182975,
          -1.126550182321409,
          -0.8606254617899015,
          0.08347553231568601,
          0.21988861383055916,
          0.3309898624587693,
          0.3347027708634774,
          0.09598780044726864,
          0.38279051026874467,
          0.4895649338757941,
          0.10532577444389375,
          -0.2797375325455088,
          -0.6591269497811045
         ],
         "yaxis": "y"
        }
       ],
       "layout": {
        "legend": {
         "title": {
          "text": "system_name"
         },
         "tracegroupgap": 0
        },
        "margin": {
         "t": 60
        },
        "template": {
         "data": {
          "bar": [
           {
            "error_x": {
             "color": "#2a3f5f"
            },
            "error_y": {
             "color": "#2a3f5f"
            },
            "marker": {
             "line": {
              "color": "#E5ECF6",
              "width": 0.5
             },
             "pattern": {
              "fillmode": "overlay",
              "size": 10,
              "solidity": 0.2
             }
            },
            "type": "bar"
           }
          ],
          "barpolar": [
           {
            "marker": {
             "line": {
              "color": "#E5ECF6",
              "width": 0.5
             },
             "pattern": {
              "fillmode": "overlay",
              "size": 10,
              "solidity": 0.2
             }
            },
            "type": "barpolar"
           }
          ],
          "carpet": [
           {
            "aaxis": {
             "endlinecolor": "#2a3f5f",
             "gridcolor": "white",
             "linecolor": "white",
             "minorgridcolor": "white",
             "startlinecolor": "#2a3f5f"
            },
            "baxis": {
             "endlinecolor": "#2a3f5f",
             "gridcolor": "white",
             "linecolor": "white",
             "minorgridcolor": "white",
             "startlinecolor": "#2a3f5f"
            },
            "type": "carpet"
           }
          ],
          "choropleth": [
           {
            "colorbar": {
             "outlinewidth": 0,
             "ticks": ""
            },
            "type": "choropleth"
           }
          ],
          "contour": [
           {
            "colorbar": {
             "outlinewidth": 0,
             "ticks": ""
            },
            "colorscale": [
             [
              0,
              "#0d0887"
             ],
             [
              0.1111111111111111,
              "#46039f"
             ],
             [
              0.2222222222222222,
              "#7201a8"
             ],
             [
              0.3333333333333333,
              "#9c179e"
             ],
             [
              0.4444444444444444,
              "#bd3786"
             ],
             [
              0.5555555555555556,
              "#d8576b"
             ],
             [
              0.6666666666666666,
              "#ed7953"
             ],
             [
              0.7777777777777778,
              "#fb9f3a"
             ],
             [
              0.8888888888888888,
              "#fdca26"
             ],
             [
              1,
              "#f0f921"
             ]
            ],
            "type": "contour"
           }
          ],
          "contourcarpet": [
           {
            "colorbar": {
             "outlinewidth": 0,
             "ticks": ""
            },
            "type": "contourcarpet"
           }
          ],
          "heatmap": [
           {
            "colorbar": {
             "outlinewidth": 0,
             "ticks": ""
            },
            "colorscale": [
             [
              0,
              "#0d0887"
             ],
             [
              0.1111111111111111,
              "#46039f"
             ],
             [
              0.2222222222222222,
              "#7201a8"
             ],
             [
              0.3333333333333333,
              "#9c179e"
             ],
             [
              0.4444444444444444,
              "#bd3786"
             ],
             [
              0.5555555555555556,
              "#d8576b"
             ],
             [
              0.6666666666666666,
              "#ed7953"
             ],
             [
              0.7777777777777778,
              "#fb9f3a"
             ],
             [
              0.8888888888888888,
              "#fdca26"
             ],
             [
              1,
              "#f0f921"
             ]
            ],
            "type": "heatmap"
           }
          ],
          "heatmapgl": [
           {
            "colorbar": {
             "outlinewidth": 0,
             "ticks": ""
            },
            "colorscale": [
             [
              0,
              "#0d0887"
             ],
             [
              0.1111111111111111,
              "#46039f"
             ],
             [
              0.2222222222222222,
              "#7201a8"
             ],
             [
              0.3333333333333333,
              "#9c179e"
             ],
             [
              0.4444444444444444,
              "#bd3786"
             ],
             [
              0.5555555555555556,
              "#d8576b"
             ],
             [
              0.6666666666666666,
              "#ed7953"
             ],
             [
              0.7777777777777778,
              "#fb9f3a"
             ],
             [
              0.8888888888888888,
              "#fdca26"
             ],
             [
              1,
              "#f0f921"
             ]
            ],
            "type": "heatmapgl"
           }
          ],
          "histogram": [
           {
            "marker": {
             "pattern": {
              "fillmode": "overlay",
              "size": 10,
              "solidity": 0.2
             }
            },
            "type": "histogram"
           }
          ],
          "histogram2d": [
           {
            "colorbar": {
             "outlinewidth": 0,
             "ticks": ""
            },
            "colorscale": [
             [
              0,
              "#0d0887"
             ],
             [
              0.1111111111111111,
              "#46039f"
             ],
             [
              0.2222222222222222,
              "#7201a8"
             ],
             [
              0.3333333333333333,
              "#9c179e"
             ],
             [
              0.4444444444444444,
              "#bd3786"
             ],
             [
              0.5555555555555556,
              "#d8576b"
             ],
             [
              0.6666666666666666,
              "#ed7953"
             ],
             [
              0.7777777777777778,
              "#fb9f3a"
             ],
             [
              0.8888888888888888,
              "#fdca26"
             ],
             [
              1,
              "#f0f921"
             ]
            ],
            "type": "histogram2d"
           }
          ],
          "histogram2dcontour": [
           {
            "colorbar": {
             "outlinewidth": 0,
             "ticks": ""
            },
            "colorscale": [
             [
              0,
              "#0d0887"
             ],
             [
              0.1111111111111111,
              "#46039f"
             ],
             [
              0.2222222222222222,
              "#7201a8"
             ],
             [
              0.3333333333333333,
              "#9c179e"
             ],
             [
              0.4444444444444444,
              "#bd3786"
             ],
             [
              0.5555555555555556,
              "#d8576b"
             ],
             [
              0.6666666666666666,
              "#ed7953"
             ],
             [
              0.7777777777777778,
              "#fb9f3a"
             ],
             [
              0.8888888888888888,
              "#fdca26"
             ],
             [
              1,
              "#f0f921"
             ]
            ],
            "type": "histogram2dcontour"
           }
          ],
          "mesh3d": [
           {
            "colorbar": {
             "outlinewidth": 0,
             "ticks": ""
            },
            "type": "mesh3d"
           }
          ],
          "parcoords": [
           {
            "line": {
             "colorbar": {
              "outlinewidth": 0,
              "ticks": ""
             }
            },
            "type": "parcoords"
           }
          ],
          "pie": [
           {
            "automargin": true,
            "type": "pie"
           }
          ],
          "scatter": [
           {
            "fillpattern": {
             "fillmode": "overlay",
             "size": 10,
             "solidity": 0.2
            },
            "type": "scatter"
           }
          ],
          "scatter3d": [
           {
            "line": {
             "colorbar": {
              "outlinewidth": 0,
              "ticks": ""
             }
            },
            "marker": {
             "colorbar": {
              "outlinewidth": 0,
              "ticks": ""
             }
            },
            "type": "scatter3d"
           }
          ],
          "scattercarpet": [
           {
            "marker": {
             "colorbar": {
              "outlinewidth": 0,
              "ticks": ""
             }
            },
            "type": "scattercarpet"
           }
          ],
          "scattergeo": [
           {
            "marker": {
             "colorbar": {
              "outlinewidth": 0,
              "ticks": ""
             }
            },
            "type": "scattergeo"
           }
          ],
          "scattergl": [
           {
            "marker": {
             "colorbar": {
              "outlinewidth": 0,
              "ticks": ""
             }
            },
            "type": "scattergl"
           }
          ],
          "scattermapbox": [
           {
            "marker": {
             "colorbar": {
              "outlinewidth": 0,
              "ticks": ""
             }
            },
            "type": "scattermapbox"
           }
          ],
          "scatterpolar": [
           {
            "marker": {
             "colorbar": {
              "outlinewidth": 0,
              "ticks": ""
             }
            },
            "type": "scatterpolar"
           }
          ],
          "scatterpolargl": [
           {
            "marker": {
             "colorbar": {
              "outlinewidth": 0,
              "ticks": ""
             }
            },
            "type": "scatterpolargl"
           }
          ],
          "scatterternary": [
           {
            "marker": {
             "colorbar": {
              "outlinewidth": 0,
              "ticks": ""
             }
            },
            "type": "scatterternary"
           }
          ],
          "surface": [
           {
            "colorbar": {
             "outlinewidth": 0,
             "ticks": ""
            },
            "colorscale": [
             [
              0,
              "#0d0887"
             ],
             [
              0.1111111111111111,
              "#46039f"
             ],
             [
              0.2222222222222222,
              "#7201a8"
             ],
             [
              0.3333333333333333,
              "#9c179e"
             ],
             [
              0.4444444444444444,
              "#bd3786"
             ],
             [
              0.5555555555555556,
              "#d8576b"
             ],
             [
              0.6666666666666666,
              "#ed7953"
             ],
             [
              0.7777777777777778,
              "#fb9f3a"
             ],
             [
              0.8888888888888888,
              "#fdca26"
             ],
             [
              1,
              "#f0f921"
             ]
            ],
            "type": "surface"
           }
          ],
          "table": [
           {
            "cells": {
             "fill": {
              "color": "#EBF0F8"
             },
             "line": {
              "color": "white"
             }
            },
            "header": {
             "fill": {
              "color": "#C8D4E3"
             },
             "line": {
              "color": "white"
             }
            },
            "type": "table"
           }
          ]
         },
         "layout": {
          "annotationdefaults": {
           "arrowcolor": "#2a3f5f",
           "arrowhead": 0,
           "arrowwidth": 1
          },
          "autotypenumbers": "strict",
          "coloraxis": {
           "colorbar": {
            "outlinewidth": 0,
            "ticks": ""
           }
          },
          "colorscale": {
           "diverging": [
            [
             0,
             "#8e0152"
            ],
            [
             0.1,
             "#c51b7d"
            ],
            [
             0.2,
             "#de77ae"
            ],
            [
             0.3,
             "#f1b6da"
            ],
            [
             0.4,
             "#fde0ef"
            ],
            [
             0.5,
             "#f7f7f7"
            ],
            [
             0.6,
             "#e6f5d0"
            ],
            [
             0.7,
             "#b8e186"
            ],
            [
             0.8,
             "#7fbc41"
            ],
            [
             0.9,
             "#4d9221"
            ],
            [
             1,
             "#276419"
            ]
           ],
           "sequential": [
            [
             0,
             "#0d0887"
            ],
            [
             0.1111111111111111,
             "#46039f"
            ],
            [
             0.2222222222222222,
             "#7201a8"
            ],
            [
             0.3333333333333333,
             "#9c179e"
            ],
            [
             0.4444444444444444,
             "#bd3786"
            ],
            [
             0.5555555555555556,
             "#d8576b"
            ],
            [
             0.6666666666666666,
             "#ed7953"
            ],
            [
             0.7777777777777778,
             "#fb9f3a"
            ],
            [
             0.8888888888888888,
             "#fdca26"
            ],
            [
             1,
             "#f0f921"
            ]
           ],
           "sequentialminus": [
            [
             0,
             "#0d0887"
            ],
            [
             0.1111111111111111,
             "#46039f"
            ],
            [
             0.2222222222222222,
             "#7201a8"
            ],
            [
             0.3333333333333333,
             "#9c179e"
            ],
            [
             0.4444444444444444,
             "#bd3786"
            ],
            [
             0.5555555555555556,
             "#d8576b"
            ],
            [
             0.6666666666666666,
             "#ed7953"
            ],
            [
             0.7777777777777778,
             "#fb9f3a"
            ],
            [
             0.8888888888888888,
             "#fdca26"
            ],
            [
             1,
             "#f0f921"
            ]
           ]
          },
          "colorway": [
           "#636efa",
           "#EF553B",
           "#00cc96",
           "#ab63fa",
           "#FFA15A",
           "#19d3f3",
           "#FF6692",
           "#B6E880",
           "#FF97FF",
           "#FECB52"
          ],
          "font": {
           "color": "#2a3f5f"
          },
          "geo": {
           "bgcolor": "white",
           "lakecolor": "white",
           "landcolor": "#E5ECF6",
           "showlakes": true,
           "showland": true,
           "subunitcolor": "white"
          },
          "hoverlabel": {
           "align": "left"
          },
          "hovermode": "closest",
          "mapbox": {
           "style": "light"
          },
          "paper_bgcolor": "white",
          "plot_bgcolor": "#E5ECF6",
          "polar": {
           "angularaxis": {
            "gridcolor": "white",
            "linecolor": "white",
            "ticks": ""
           },
           "bgcolor": "#E5ECF6",
           "radialaxis": {
            "gridcolor": "white",
            "linecolor": "white",
            "ticks": ""
           }
          },
          "scene": {
           "xaxis": {
            "backgroundcolor": "#E5ECF6",
            "gridcolor": "white",
            "gridwidth": 2,
            "linecolor": "white",
            "showbackground": true,
            "ticks": "",
            "zerolinecolor": "white"
           },
           "yaxis": {
            "backgroundcolor": "#E5ECF6",
            "gridcolor": "white",
            "gridwidth": 2,
            "linecolor": "white",
            "showbackground": true,
            "ticks": "",
            "zerolinecolor": "white"
           },
           "zaxis": {
            "backgroundcolor": "#E5ECF6",
            "gridcolor": "white",
            "gridwidth": 2,
            "linecolor": "white",
            "showbackground": true,
            "ticks": "",
            "zerolinecolor": "white"
           }
          },
          "shapedefaults": {
           "line": {
            "color": "#2a3f5f"
           }
          },
          "ternary": {
           "aaxis": {
            "gridcolor": "white",
            "linecolor": "white",
            "ticks": ""
           },
           "baxis": {
            "gridcolor": "white",
            "linecolor": "white",
            "ticks": ""
           },
           "bgcolor": "#E5ECF6",
           "caxis": {
            "gridcolor": "white",
            "linecolor": "white",
            "ticks": ""
           }
          },
          "title": {
           "x": 0.05
          },
          "xaxis": {
           "automargin": true,
           "gridcolor": "white",
           "linecolor": "white",
           "ticks": "",
           "title": {
            "standoff": 15
           },
           "zerolinecolor": "white",
           "zerolinewidth": 2
          },
          "yaxis": {
           "automargin": true,
           "gridcolor": "white",
           "linecolor": "white",
           "ticks": "",
           "title": {
            "standoff": 15
           },
           "zerolinecolor": "white",
           "zerolinewidth": 2
          }
         }
        },
        "xaxis": {
         "anchor": "y",
         "domain": [
          0,
          1
         ],
         "title": {
          "text": "datetime"
         }
        },
        "yaxis": {
         "anchor": "x",
         "domain": [
          0,
          1
         ],
         "title": {
          "text": "diff"
         }
        }
       }
      }
     },
     "metadata": {},
     "output_type": "display_data"
    },
    {
     "data": {
      "application/vnd.plotly.v1+json": {
       "config": {
        "plotlyServerURL": "https://plot.ly"
       },
       "data": [
        {
         "hovertemplate": "system_name=%{x}<br>mean_full_deployment=%{y}<extra></extra>",
         "legendgroup": "",
         "marker": {
          "color": "#636efa",
          "symbol": "circle"
         },
         "mode": "markers",
         "name": "",
         "orientation": "v",
         "showlegend": false,
         "type": "scatter",
         "x": [
          "acropolis-3",
          "acropolis-6"
         ],
         "xaxis": "x",
         "y": [
          -0.6698277430683396,
          -0.44257193784929477
         ],
         "yaxis": "y"
        }
       ],
       "layout": {
        "legend": {
         "tracegroupgap": 0
        },
        "margin": {
         "t": 60
        },
        "template": {
         "data": {
          "bar": [
           {
            "error_x": {
             "color": "#2a3f5f"
            },
            "error_y": {
             "color": "#2a3f5f"
            },
            "marker": {
             "line": {
              "color": "#E5ECF6",
              "width": 0.5
             },
             "pattern": {
              "fillmode": "overlay",
              "size": 10,
              "solidity": 0.2
             }
            },
            "type": "bar"
           }
          ],
          "barpolar": [
           {
            "marker": {
             "line": {
              "color": "#E5ECF6",
              "width": 0.5
             },
             "pattern": {
              "fillmode": "overlay",
              "size": 10,
              "solidity": 0.2
             }
            },
            "type": "barpolar"
           }
          ],
          "carpet": [
           {
            "aaxis": {
             "endlinecolor": "#2a3f5f",
             "gridcolor": "white",
             "linecolor": "white",
             "minorgridcolor": "white",
             "startlinecolor": "#2a3f5f"
            },
            "baxis": {
             "endlinecolor": "#2a3f5f",
             "gridcolor": "white",
             "linecolor": "white",
             "minorgridcolor": "white",
             "startlinecolor": "#2a3f5f"
            },
            "type": "carpet"
           }
          ],
          "choropleth": [
           {
            "colorbar": {
             "outlinewidth": 0,
             "ticks": ""
            },
            "type": "choropleth"
           }
          ],
          "contour": [
           {
            "colorbar": {
             "outlinewidth": 0,
             "ticks": ""
            },
            "colorscale": [
             [
              0,
              "#0d0887"
             ],
             [
              0.1111111111111111,
              "#46039f"
             ],
             [
              0.2222222222222222,
              "#7201a8"
             ],
             [
              0.3333333333333333,
              "#9c179e"
             ],
             [
              0.4444444444444444,
              "#bd3786"
             ],
             [
              0.5555555555555556,
              "#d8576b"
             ],
             [
              0.6666666666666666,
              "#ed7953"
             ],
             [
              0.7777777777777778,
              "#fb9f3a"
             ],
             [
              0.8888888888888888,
              "#fdca26"
             ],
             [
              1,
              "#f0f921"
             ]
            ],
            "type": "contour"
           }
          ],
          "contourcarpet": [
           {
            "colorbar": {
             "outlinewidth": 0,
             "ticks": ""
            },
            "type": "contourcarpet"
           }
          ],
          "heatmap": [
           {
            "colorbar": {
             "outlinewidth": 0,
             "ticks": ""
            },
            "colorscale": [
             [
              0,
              "#0d0887"
             ],
             [
              0.1111111111111111,
              "#46039f"
             ],
             [
              0.2222222222222222,
              "#7201a8"
             ],
             [
              0.3333333333333333,
              "#9c179e"
             ],
             [
              0.4444444444444444,
              "#bd3786"
             ],
             [
              0.5555555555555556,
              "#d8576b"
             ],
             [
              0.6666666666666666,
              "#ed7953"
             ],
             [
              0.7777777777777778,
              "#fb9f3a"
             ],
             [
              0.8888888888888888,
              "#fdca26"
             ],
             [
              1,
              "#f0f921"
             ]
            ],
            "type": "heatmap"
           }
          ],
          "heatmapgl": [
           {
            "colorbar": {
             "outlinewidth": 0,
             "ticks": ""
            },
            "colorscale": [
             [
              0,
              "#0d0887"
             ],
             [
              0.1111111111111111,
              "#46039f"
             ],
             [
              0.2222222222222222,
              "#7201a8"
             ],
             [
              0.3333333333333333,
              "#9c179e"
             ],
             [
              0.4444444444444444,
              "#bd3786"
             ],
             [
              0.5555555555555556,
              "#d8576b"
             ],
             [
              0.6666666666666666,
              "#ed7953"
             ],
             [
              0.7777777777777778,
              "#fb9f3a"
             ],
             [
              0.8888888888888888,
              "#fdca26"
             ],
             [
              1,
              "#f0f921"
             ]
            ],
            "type": "heatmapgl"
           }
          ],
          "histogram": [
           {
            "marker": {
             "pattern": {
              "fillmode": "overlay",
              "size": 10,
              "solidity": 0.2
             }
            },
            "type": "histogram"
           }
          ],
          "histogram2d": [
           {
            "colorbar": {
             "outlinewidth": 0,
             "ticks": ""
            },
            "colorscale": [
             [
              0,
              "#0d0887"
             ],
             [
              0.1111111111111111,
              "#46039f"
             ],
             [
              0.2222222222222222,
              "#7201a8"
             ],
             [
              0.3333333333333333,
              "#9c179e"
             ],
             [
              0.4444444444444444,
              "#bd3786"
             ],
             [
              0.5555555555555556,
              "#d8576b"
             ],
             [
              0.6666666666666666,
              "#ed7953"
             ],
             [
              0.7777777777777778,
              "#fb9f3a"
             ],
             [
              0.8888888888888888,
              "#fdca26"
             ],
             [
              1,
              "#f0f921"
             ]
            ],
            "type": "histogram2d"
           }
          ],
          "histogram2dcontour": [
           {
            "colorbar": {
             "outlinewidth": 0,
             "ticks": ""
            },
            "colorscale": [
             [
              0,
              "#0d0887"
             ],
             [
              0.1111111111111111,
              "#46039f"
             ],
             [
              0.2222222222222222,
              "#7201a8"
             ],
             [
              0.3333333333333333,
              "#9c179e"
             ],
             [
              0.4444444444444444,
              "#bd3786"
             ],
             [
              0.5555555555555556,
              "#d8576b"
             ],
             [
              0.6666666666666666,
              "#ed7953"
             ],
             [
              0.7777777777777778,
              "#fb9f3a"
             ],
             [
              0.8888888888888888,
              "#fdca26"
             ],
             [
              1,
              "#f0f921"
             ]
            ],
            "type": "histogram2dcontour"
           }
          ],
          "mesh3d": [
           {
            "colorbar": {
             "outlinewidth": 0,
             "ticks": ""
            },
            "type": "mesh3d"
           }
          ],
          "parcoords": [
           {
            "line": {
             "colorbar": {
              "outlinewidth": 0,
              "ticks": ""
             }
            },
            "type": "parcoords"
           }
          ],
          "pie": [
           {
            "automargin": true,
            "type": "pie"
           }
          ],
          "scatter": [
           {
            "fillpattern": {
             "fillmode": "overlay",
             "size": 10,
             "solidity": 0.2
            },
            "type": "scatter"
           }
          ],
          "scatter3d": [
           {
            "line": {
             "colorbar": {
              "outlinewidth": 0,
              "ticks": ""
             }
            },
            "marker": {
             "colorbar": {
              "outlinewidth": 0,
              "ticks": ""
             }
            },
            "type": "scatter3d"
           }
          ],
          "scattercarpet": [
           {
            "marker": {
             "colorbar": {
              "outlinewidth": 0,
              "ticks": ""
             }
            },
            "type": "scattercarpet"
           }
          ],
          "scattergeo": [
           {
            "marker": {
             "colorbar": {
              "outlinewidth": 0,
              "ticks": ""
             }
            },
            "type": "scattergeo"
           }
          ],
          "scattergl": [
           {
            "marker": {
             "colorbar": {
              "outlinewidth": 0,
              "ticks": ""
             }
            },
            "type": "scattergl"
           }
          ],
          "scattermapbox": [
           {
            "marker": {
             "colorbar": {
              "outlinewidth": 0,
              "ticks": ""
             }
            },
            "type": "scattermapbox"
           }
          ],
          "scatterpolar": [
           {
            "marker": {
             "colorbar": {
              "outlinewidth": 0,
              "ticks": ""
             }
            },
            "type": "scatterpolar"
           }
          ],
          "scatterpolargl": [
           {
            "marker": {
             "colorbar": {
              "outlinewidth": 0,
              "ticks": ""
             }
            },
            "type": "scatterpolargl"
           }
          ],
          "scatterternary": [
           {
            "marker": {
             "colorbar": {
              "outlinewidth": 0,
              "ticks": ""
             }
            },
            "type": "scatterternary"
           }
          ],
          "surface": [
           {
            "colorbar": {
             "outlinewidth": 0,
             "ticks": ""
            },
            "colorscale": [
             [
              0,
              "#0d0887"
             ],
             [
              0.1111111111111111,
              "#46039f"
             ],
             [
              0.2222222222222222,
              "#7201a8"
             ],
             [
              0.3333333333333333,
              "#9c179e"
             ],
             [
              0.4444444444444444,
              "#bd3786"
             ],
             [
              0.5555555555555556,
              "#d8576b"
             ],
             [
              0.6666666666666666,
              "#ed7953"
             ],
             [
              0.7777777777777778,
              "#fb9f3a"
             ],
             [
              0.8888888888888888,
              "#fdca26"
             ],
             [
              1,
              "#f0f921"
             ]
            ],
            "type": "surface"
           }
          ],
          "table": [
           {
            "cells": {
             "fill": {
              "color": "#EBF0F8"
             },
             "line": {
              "color": "white"
             }
            },
            "header": {
             "fill": {
              "color": "#C8D4E3"
             },
             "line": {
              "color": "white"
             }
            },
            "type": "table"
           }
          ]
         },
         "layout": {
          "annotationdefaults": {
           "arrowcolor": "#2a3f5f",
           "arrowhead": 0,
           "arrowwidth": 1
          },
          "autotypenumbers": "strict",
          "coloraxis": {
           "colorbar": {
            "outlinewidth": 0,
            "ticks": ""
           }
          },
          "colorscale": {
           "diverging": [
            [
             0,
             "#8e0152"
            ],
            [
             0.1,
             "#c51b7d"
            ],
            [
             0.2,
             "#de77ae"
            ],
            [
             0.3,
             "#f1b6da"
            ],
            [
             0.4,
             "#fde0ef"
            ],
            [
             0.5,
             "#f7f7f7"
            ],
            [
             0.6,
             "#e6f5d0"
            ],
            [
             0.7,
             "#b8e186"
            ],
            [
             0.8,
             "#7fbc41"
            ],
            [
             0.9,
             "#4d9221"
            ],
            [
             1,
             "#276419"
            ]
           ],
           "sequential": [
            [
             0,
             "#0d0887"
            ],
            [
             0.1111111111111111,
             "#46039f"
            ],
            [
             0.2222222222222222,
             "#7201a8"
            ],
            [
             0.3333333333333333,
             "#9c179e"
            ],
            [
             0.4444444444444444,
             "#bd3786"
            ],
            [
             0.5555555555555556,
             "#d8576b"
            ],
            [
             0.6666666666666666,
             "#ed7953"
            ],
            [
             0.7777777777777778,
             "#fb9f3a"
            ],
            [
             0.8888888888888888,
             "#fdca26"
            ],
            [
             1,
             "#f0f921"
            ]
           ],
           "sequentialminus": [
            [
             0,
             "#0d0887"
            ],
            [
             0.1111111111111111,
             "#46039f"
            ],
            [
             0.2222222222222222,
             "#7201a8"
            ],
            [
             0.3333333333333333,
             "#9c179e"
            ],
            [
             0.4444444444444444,
             "#bd3786"
            ],
            [
             0.5555555555555556,
             "#d8576b"
            ],
            [
             0.6666666666666666,
             "#ed7953"
            ],
            [
             0.7777777777777778,
             "#fb9f3a"
            ],
            [
             0.8888888888888888,
             "#fdca26"
            ],
            [
             1,
             "#f0f921"
            ]
           ]
          },
          "colorway": [
           "#636efa",
           "#EF553B",
           "#00cc96",
           "#ab63fa",
           "#FFA15A",
           "#19d3f3",
           "#FF6692",
           "#B6E880",
           "#FF97FF",
           "#FECB52"
          ],
          "font": {
           "color": "#2a3f5f"
          },
          "geo": {
           "bgcolor": "white",
           "lakecolor": "white",
           "landcolor": "#E5ECF6",
           "showlakes": true,
           "showland": true,
           "subunitcolor": "white"
          },
          "hoverlabel": {
           "align": "left"
          },
          "hovermode": "closest",
          "mapbox": {
           "style": "light"
          },
          "paper_bgcolor": "white",
          "plot_bgcolor": "#E5ECF6",
          "polar": {
           "angularaxis": {
            "gridcolor": "white",
            "linecolor": "white",
            "ticks": ""
           },
           "bgcolor": "#E5ECF6",
           "radialaxis": {
            "gridcolor": "white",
            "linecolor": "white",
            "ticks": ""
           }
          },
          "scene": {
           "xaxis": {
            "backgroundcolor": "#E5ECF6",
            "gridcolor": "white",
            "gridwidth": 2,
            "linecolor": "white",
            "showbackground": true,
            "ticks": "",
            "zerolinecolor": "white"
           },
           "yaxis": {
            "backgroundcolor": "#E5ECF6",
            "gridcolor": "white",
            "gridwidth": 2,
            "linecolor": "white",
            "showbackground": true,
            "ticks": "",
            "zerolinecolor": "white"
           },
           "zaxis": {
            "backgroundcolor": "#E5ECF6",
            "gridcolor": "white",
            "gridwidth": 2,
            "linecolor": "white",
            "showbackground": true,
            "ticks": "",
            "zerolinecolor": "white"
           }
          },
          "shapedefaults": {
           "line": {
            "color": "#2a3f5f"
           }
          },
          "ternary": {
           "aaxis": {
            "gridcolor": "white",
            "linecolor": "white",
            "ticks": ""
           },
           "baxis": {
            "gridcolor": "white",
            "linecolor": "white",
            "ticks": ""
           },
           "bgcolor": "#E5ECF6",
           "caxis": {
            "gridcolor": "white",
            "linecolor": "white",
            "ticks": ""
           }
          },
          "title": {
           "x": 0.05
          },
          "xaxis": {
           "automargin": true,
           "gridcolor": "white",
           "linecolor": "white",
           "ticks": "",
           "title": {
            "standoff": 15
           },
           "zerolinecolor": "white",
           "zerolinewidth": 2
          },
          "yaxis": {
           "automargin": true,
           "gridcolor": "white",
           "linecolor": "white",
           "ticks": "",
           "title": {
            "standoff": 15
           },
           "zerolinecolor": "white",
           "zerolinewidth": 2
          }
         }
        },
        "xaxis": {
         "anchor": "y",
         "domain": [
          0,
          1
         ],
         "title": {
          "text": "system_name"
         }
        },
        "yaxis": {
         "anchor": "x",
         "domain": [
          0,
          1
         ],
         "title": {
          "text": "mean_full_deployment"
         }
        }
       }
      }
     },
     "metadata": {},
     "output_type": "display_data"
    },
    {
     "data": {
      "application/vnd.plotly.v1+json": {
       "config": {
        "plotlyServerURL": "https://plot.ly"
       },
       "data": [
        {
         "hovertemplate": "system_name=%{x}<br>mae_full_deployment=%{y}<extra></extra>",
         "legendgroup": "",
         "marker": {
          "color": "#636efa",
          "symbol": "circle"
         },
         "mode": "markers",
         "name": "",
         "orientation": "v",
         "showlegend": false,
         "type": "scatter",
         "x": [
          "acropolis-3",
          "acropolis-6"
         ],
         "xaxis": "x",
         "y": [
          0.7069849010933607,
          0.6523302486791854
         ],
         "yaxis": "y"
        }
       ],
       "layout": {
        "legend": {
         "tracegroupgap": 0
        },
        "margin": {
         "t": 60
        },
        "template": {
         "data": {
          "bar": [
           {
            "error_x": {
             "color": "#2a3f5f"
            },
            "error_y": {
             "color": "#2a3f5f"
            },
            "marker": {
             "line": {
              "color": "#E5ECF6",
              "width": 0.5
             },
             "pattern": {
              "fillmode": "overlay",
              "size": 10,
              "solidity": 0.2
             }
            },
            "type": "bar"
           }
          ],
          "barpolar": [
           {
            "marker": {
             "line": {
              "color": "#E5ECF6",
              "width": 0.5
             },
             "pattern": {
              "fillmode": "overlay",
              "size": 10,
              "solidity": 0.2
             }
            },
            "type": "barpolar"
           }
          ],
          "carpet": [
           {
            "aaxis": {
             "endlinecolor": "#2a3f5f",
             "gridcolor": "white",
             "linecolor": "white",
             "minorgridcolor": "white",
             "startlinecolor": "#2a3f5f"
            },
            "baxis": {
             "endlinecolor": "#2a3f5f",
             "gridcolor": "white",
             "linecolor": "white",
             "minorgridcolor": "white",
             "startlinecolor": "#2a3f5f"
            },
            "type": "carpet"
           }
          ],
          "choropleth": [
           {
            "colorbar": {
             "outlinewidth": 0,
             "ticks": ""
            },
            "type": "choropleth"
           }
          ],
          "contour": [
           {
            "colorbar": {
             "outlinewidth": 0,
             "ticks": ""
            },
            "colorscale": [
             [
              0,
              "#0d0887"
             ],
             [
              0.1111111111111111,
              "#46039f"
             ],
             [
              0.2222222222222222,
              "#7201a8"
             ],
             [
              0.3333333333333333,
              "#9c179e"
             ],
             [
              0.4444444444444444,
              "#bd3786"
             ],
             [
              0.5555555555555556,
              "#d8576b"
             ],
             [
              0.6666666666666666,
              "#ed7953"
             ],
             [
              0.7777777777777778,
              "#fb9f3a"
             ],
             [
              0.8888888888888888,
              "#fdca26"
             ],
             [
              1,
              "#f0f921"
             ]
            ],
            "type": "contour"
           }
          ],
          "contourcarpet": [
           {
            "colorbar": {
             "outlinewidth": 0,
             "ticks": ""
            },
            "type": "contourcarpet"
           }
          ],
          "heatmap": [
           {
            "colorbar": {
             "outlinewidth": 0,
             "ticks": ""
            },
            "colorscale": [
             [
              0,
              "#0d0887"
             ],
             [
              0.1111111111111111,
              "#46039f"
             ],
             [
              0.2222222222222222,
              "#7201a8"
             ],
             [
              0.3333333333333333,
              "#9c179e"
             ],
             [
              0.4444444444444444,
              "#bd3786"
             ],
             [
              0.5555555555555556,
              "#d8576b"
             ],
             [
              0.6666666666666666,
              "#ed7953"
             ],
             [
              0.7777777777777778,
              "#fb9f3a"
             ],
             [
              0.8888888888888888,
              "#fdca26"
             ],
             [
              1,
              "#f0f921"
             ]
            ],
            "type": "heatmap"
           }
          ],
          "heatmapgl": [
           {
            "colorbar": {
             "outlinewidth": 0,
             "ticks": ""
            },
            "colorscale": [
             [
              0,
              "#0d0887"
             ],
             [
              0.1111111111111111,
              "#46039f"
             ],
             [
              0.2222222222222222,
              "#7201a8"
             ],
             [
              0.3333333333333333,
              "#9c179e"
             ],
             [
              0.4444444444444444,
              "#bd3786"
             ],
             [
              0.5555555555555556,
              "#d8576b"
             ],
             [
              0.6666666666666666,
              "#ed7953"
             ],
             [
              0.7777777777777778,
              "#fb9f3a"
             ],
             [
              0.8888888888888888,
              "#fdca26"
             ],
             [
              1,
              "#f0f921"
             ]
            ],
            "type": "heatmapgl"
           }
          ],
          "histogram": [
           {
            "marker": {
             "pattern": {
              "fillmode": "overlay",
              "size": 10,
              "solidity": 0.2
             }
            },
            "type": "histogram"
           }
          ],
          "histogram2d": [
           {
            "colorbar": {
             "outlinewidth": 0,
             "ticks": ""
            },
            "colorscale": [
             [
              0,
              "#0d0887"
             ],
             [
              0.1111111111111111,
              "#46039f"
             ],
             [
              0.2222222222222222,
              "#7201a8"
             ],
             [
              0.3333333333333333,
              "#9c179e"
             ],
             [
              0.4444444444444444,
              "#bd3786"
             ],
             [
              0.5555555555555556,
              "#d8576b"
             ],
             [
              0.6666666666666666,
              "#ed7953"
             ],
             [
              0.7777777777777778,
              "#fb9f3a"
             ],
             [
              0.8888888888888888,
              "#fdca26"
             ],
             [
              1,
              "#f0f921"
             ]
            ],
            "type": "histogram2d"
           }
          ],
          "histogram2dcontour": [
           {
            "colorbar": {
             "outlinewidth": 0,
             "ticks": ""
            },
            "colorscale": [
             [
              0,
              "#0d0887"
             ],
             [
              0.1111111111111111,
              "#46039f"
             ],
             [
              0.2222222222222222,
              "#7201a8"
             ],
             [
              0.3333333333333333,
              "#9c179e"
             ],
             [
              0.4444444444444444,
              "#bd3786"
             ],
             [
              0.5555555555555556,
              "#d8576b"
             ],
             [
              0.6666666666666666,
              "#ed7953"
             ],
             [
              0.7777777777777778,
              "#fb9f3a"
             ],
             [
              0.8888888888888888,
              "#fdca26"
             ],
             [
              1,
              "#f0f921"
             ]
            ],
            "type": "histogram2dcontour"
           }
          ],
          "mesh3d": [
           {
            "colorbar": {
             "outlinewidth": 0,
             "ticks": ""
            },
            "type": "mesh3d"
           }
          ],
          "parcoords": [
           {
            "line": {
             "colorbar": {
              "outlinewidth": 0,
              "ticks": ""
             }
            },
            "type": "parcoords"
           }
          ],
          "pie": [
           {
            "automargin": true,
            "type": "pie"
           }
          ],
          "scatter": [
           {
            "fillpattern": {
             "fillmode": "overlay",
             "size": 10,
             "solidity": 0.2
            },
            "type": "scatter"
           }
          ],
          "scatter3d": [
           {
            "line": {
             "colorbar": {
              "outlinewidth": 0,
              "ticks": ""
             }
            },
            "marker": {
             "colorbar": {
              "outlinewidth": 0,
              "ticks": ""
             }
            },
            "type": "scatter3d"
           }
          ],
          "scattercarpet": [
           {
            "marker": {
             "colorbar": {
              "outlinewidth": 0,
              "ticks": ""
             }
            },
            "type": "scattercarpet"
           }
          ],
          "scattergeo": [
           {
            "marker": {
             "colorbar": {
              "outlinewidth": 0,
              "ticks": ""
             }
            },
            "type": "scattergeo"
           }
          ],
          "scattergl": [
           {
            "marker": {
             "colorbar": {
              "outlinewidth": 0,
              "ticks": ""
             }
            },
            "type": "scattergl"
           }
          ],
          "scattermapbox": [
           {
            "marker": {
             "colorbar": {
              "outlinewidth": 0,
              "ticks": ""
             }
            },
            "type": "scattermapbox"
           }
          ],
          "scatterpolar": [
           {
            "marker": {
             "colorbar": {
              "outlinewidth": 0,
              "ticks": ""
             }
            },
            "type": "scatterpolar"
           }
          ],
          "scatterpolargl": [
           {
            "marker": {
             "colorbar": {
              "outlinewidth": 0,
              "ticks": ""
             }
            },
            "type": "scatterpolargl"
           }
          ],
          "scatterternary": [
           {
            "marker": {
             "colorbar": {
              "outlinewidth": 0,
              "ticks": ""
             }
            },
            "type": "scatterternary"
           }
          ],
          "surface": [
           {
            "colorbar": {
             "outlinewidth": 0,
             "ticks": ""
            },
            "colorscale": [
             [
              0,
              "#0d0887"
             ],
             [
              0.1111111111111111,
              "#46039f"
             ],
             [
              0.2222222222222222,
              "#7201a8"
             ],
             [
              0.3333333333333333,
              "#9c179e"
             ],
             [
              0.4444444444444444,
              "#bd3786"
             ],
             [
              0.5555555555555556,
              "#d8576b"
             ],
             [
              0.6666666666666666,
              "#ed7953"
             ],
             [
              0.7777777777777778,
              "#fb9f3a"
             ],
             [
              0.8888888888888888,
              "#fdca26"
             ],
             [
              1,
              "#f0f921"
             ]
            ],
            "type": "surface"
           }
          ],
          "table": [
           {
            "cells": {
             "fill": {
              "color": "#EBF0F8"
             },
             "line": {
              "color": "white"
             }
            },
            "header": {
             "fill": {
              "color": "#C8D4E3"
             },
             "line": {
              "color": "white"
             }
            },
            "type": "table"
           }
          ]
         },
         "layout": {
          "annotationdefaults": {
           "arrowcolor": "#2a3f5f",
           "arrowhead": 0,
           "arrowwidth": 1
          },
          "autotypenumbers": "strict",
          "coloraxis": {
           "colorbar": {
            "outlinewidth": 0,
            "ticks": ""
           }
          },
          "colorscale": {
           "diverging": [
            [
             0,
             "#8e0152"
            ],
            [
             0.1,
             "#c51b7d"
            ],
            [
             0.2,
             "#de77ae"
            ],
            [
             0.3,
             "#f1b6da"
            ],
            [
             0.4,
             "#fde0ef"
            ],
            [
             0.5,
             "#f7f7f7"
            ],
            [
             0.6,
             "#e6f5d0"
            ],
            [
             0.7,
             "#b8e186"
            ],
            [
             0.8,
             "#7fbc41"
            ],
            [
             0.9,
             "#4d9221"
            ],
            [
             1,
             "#276419"
            ]
           ],
           "sequential": [
            [
             0,
             "#0d0887"
            ],
            [
             0.1111111111111111,
             "#46039f"
            ],
            [
             0.2222222222222222,
             "#7201a8"
            ],
            [
             0.3333333333333333,
             "#9c179e"
            ],
            [
             0.4444444444444444,
             "#bd3786"
            ],
            [
             0.5555555555555556,
             "#d8576b"
            ],
            [
             0.6666666666666666,
             "#ed7953"
            ],
            [
             0.7777777777777778,
             "#fb9f3a"
            ],
            [
             0.8888888888888888,
             "#fdca26"
            ],
            [
             1,
             "#f0f921"
            ]
           ],
           "sequentialminus": [
            [
             0,
             "#0d0887"
            ],
            [
             0.1111111111111111,
             "#46039f"
            ],
            [
             0.2222222222222222,
             "#7201a8"
            ],
            [
             0.3333333333333333,
             "#9c179e"
            ],
            [
             0.4444444444444444,
             "#bd3786"
            ],
            [
             0.5555555555555556,
             "#d8576b"
            ],
            [
             0.6666666666666666,
             "#ed7953"
            ],
            [
             0.7777777777777778,
             "#fb9f3a"
            ],
            [
             0.8888888888888888,
             "#fdca26"
            ],
            [
             1,
             "#f0f921"
            ]
           ]
          },
          "colorway": [
           "#636efa",
           "#EF553B",
           "#00cc96",
           "#ab63fa",
           "#FFA15A",
           "#19d3f3",
           "#FF6692",
           "#B6E880",
           "#FF97FF",
           "#FECB52"
          ],
          "font": {
           "color": "#2a3f5f"
          },
          "geo": {
           "bgcolor": "white",
           "lakecolor": "white",
           "landcolor": "#E5ECF6",
           "showlakes": true,
           "showland": true,
           "subunitcolor": "white"
          },
          "hoverlabel": {
           "align": "left"
          },
          "hovermode": "closest",
          "mapbox": {
           "style": "light"
          },
          "paper_bgcolor": "white",
          "plot_bgcolor": "#E5ECF6",
          "polar": {
           "angularaxis": {
            "gridcolor": "white",
            "linecolor": "white",
            "ticks": ""
           },
           "bgcolor": "#E5ECF6",
           "radialaxis": {
            "gridcolor": "white",
            "linecolor": "white",
            "ticks": ""
           }
          },
          "scene": {
           "xaxis": {
            "backgroundcolor": "#E5ECF6",
            "gridcolor": "white",
            "gridwidth": 2,
            "linecolor": "white",
            "showbackground": true,
            "ticks": "",
            "zerolinecolor": "white"
           },
           "yaxis": {
            "backgroundcolor": "#E5ECF6",
            "gridcolor": "white",
            "gridwidth": 2,
            "linecolor": "white",
            "showbackground": true,
            "ticks": "",
            "zerolinecolor": "white"
           },
           "zaxis": {
            "backgroundcolor": "#E5ECF6",
            "gridcolor": "white",
            "gridwidth": 2,
            "linecolor": "white",
            "showbackground": true,
            "ticks": "",
            "zerolinecolor": "white"
           }
          },
          "shapedefaults": {
           "line": {
            "color": "#2a3f5f"
           }
          },
          "ternary": {
           "aaxis": {
            "gridcolor": "white",
            "linecolor": "white",
            "ticks": ""
           },
           "baxis": {
            "gridcolor": "white",
            "linecolor": "white",
            "ticks": ""
           },
           "bgcolor": "#E5ECF6",
           "caxis": {
            "gridcolor": "white",
            "linecolor": "white",
            "ticks": ""
           }
          },
          "title": {
           "x": 0.05
          },
          "xaxis": {
           "automargin": true,
           "gridcolor": "white",
           "linecolor": "white",
           "ticks": "",
           "title": {
            "standoff": 15
           },
           "zerolinecolor": "white",
           "zerolinewidth": 2
          },
          "yaxis": {
           "automargin": true,
           "gridcolor": "white",
           "linecolor": "white",
           "ticks": "",
           "title": {
            "standoff": 15
           },
           "zerolinecolor": "white",
           "zerolinewidth": 2
          }
         }
        },
        "xaxis": {
         "anchor": "y",
         "domain": [
          0,
          1
         ],
         "title": {
          "text": "system_name"
         }
        },
        "yaxis": {
         "anchor": "x",
         "domain": [
          0,
          1
         ],
         "title": {
          "text": "mae_full_deployment"
         }
        }
       }
      }
     },
     "metadata": {},
     "output_type": "display_data"
    },
    {
     "data": {
      "application/vnd.plotly.v1+json": {
       "config": {
        "plotlyServerURL": "https://plot.ly"
       },
       "data": [
        {
         "hovertemplate": "system_name=%{x}<br>rmse_full_deployment=%{y}<extra></extra>",
         "legendgroup": "",
         "marker": {
          "color": "#636efa",
          "symbol": "circle"
         },
         "mode": "markers",
         "name": "",
         "orientation": "v",
         "showlegend": false,
         "type": "scatter",
         "x": [
          "acropolis-3",
          "acropolis-6"
         ],
         "xaxis": "x",
         "y": [
          0.8490695344155316,
          0.7937235263794111
         ],
         "yaxis": "y"
        }
       ],
       "layout": {
        "legend": {
         "tracegroupgap": 0
        },
        "margin": {
         "t": 60
        },
        "template": {
         "data": {
          "bar": [
           {
            "error_x": {
             "color": "#2a3f5f"
            },
            "error_y": {
             "color": "#2a3f5f"
            },
            "marker": {
             "line": {
              "color": "#E5ECF6",
              "width": 0.5
             },
             "pattern": {
              "fillmode": "overlay",
              "size": 10,
              "solidity": 0.2
             }
            },
            "type": "bar"
           }
          ],
          "barpolar": [
           {
            "marker": {
             "line": {
              "color": "#E5ECF6",
              "width": 0.5
             },
             "pattern": {
              "fillmode": "overlay",
              "size": 10,
              "solidity": 0.2
             }
            },
            "type": "barpolar"
           }
          ],
          "carpet": [
           {
            "aaxis": {
             "endlinecolor": "#2a3f5f",
             "gridcolor": "white",
             "linecolor": "white",
             "minorgridcolor": "white",
             "startlinecolor": "#2a3f5f"
            },
            "baxis": {
             "endlinecolor": "#2a3f5f",
             "gridcolor": "white",
             "linecolor": "white",
             "minorgridcolor": "white",
             "startlinecolor": "#2a3f5f"
            },
            "type": "carpet"
           }
          ],
          "choropleth": [
           {
            "colorbar": {
             "outlinewidth": 0,
             "ticks": ""
            },
            "type": "choropleth"
           }
          ],
          "contour": [
           {
            "colorbar": {
             "outlinewidth": 0,
             "ticks": ""
            },
            "colorscale": [
             [
              0,
              "#0d0887"
             ],
             [
              0.1111111111111111,
              "#46039f"
             ],
             [
              0.2222222222222222,
              "#7201a8"
             ],
             [
              0.3333333333333333,
              "#9c179e"
             ],
             [
              0.4444444444444444,
              "#bd3786"
             ],
             [
              0.5555555555555556,
              "#d8576b"
             ],
             [
              0.6666666666666666,
              "#ed7953"
             ],
             [
              0.7777777777777778,
              "#fb9f3a"
             ],
             [
              0.8888888888888888,
              "#fdca26"
             ],
             [
              1,
              "#f0f921"
             ]
            ],
            "type": "contour"
           }
          ],
          "contourcarpet": [
           {
            "colorbar": {
             "outlinewidth": 0,
             "ticks": ""
            },
            "type": "contourcarpet"
           }
          ],
          "heatmap": [
           {
            "colorbar": {
             "outlinewidth": 0,
             "ticks": ""
            },
            "colorscale": [
             [
              0,
              "#0d0887"
             ],
             [
              0.1111111111111111,
              "#46039f"
             ],
             [
              0.2222222222222222,
              "#7201a8"
             ],
             [
              0.3333333333333333,
              "#9c179e"
             ],
             [
              0.4444444444444444,
              "#bd3786"
             ],
             [
              0.5555555555555556,
              "#d8576b"
             ],
             [
              0.6666666666666666,
              "#ed7953"
             ],
             [
              0.7777777777777778,
              "#fb9f3a"
             ],
             [
              0.8888888888888888,
              "#fdca26"
             ],
             [
              1,
              "#f0f921"
             ]
            ],
            "type": "heatmap"
           }
          ],
          "heatmapgl": [
           {
            "colorbar": {
             "outlinewidth": 0,
             "ticks": ""
            },
            "colorscale": [
             [
              0,
              "#0d0887"
             ],
             [
              0.1111111111111111,
              "#46039f"
             ],
             [
              0.2222222222222222,
              "#7201a8"
             ],
             [
              0.3333333333333333,
              "#9c179e"
             ],
             [
              0.4444444444444444,
              "#bd3786"
             ],
             [
              0.5555555555555556,
              "#d8576b"
             ],
             [
              0.6666666666666666,
              "#ed7953"
             ],
             [
              0.7777777777777778,
              "#fb9f3a"
             ],
             [
              0.8888888888888888,
              "#fdca26"
             ],
             [
              1,
              "#f0f921"
             ]
            ],
            "type": "heatmapgl"
           }
          ],
          "histogram": [
           {
            "marker": {
             "pattern": {
              "fillmode": "overlay",
              "size": 10,
              "solidity": 0.2
             }
            },
            "type": "histogram"
           }
          ],
          "histogram2d": [
           {
            "colorbar": {
             "outlinewidth": 0,
             "ticks": ""
            },
            "colorscale": [
             [
              0,
              "#0d0887"
             ],
             [
              0.1111111111111111,
              "#46039f"
             ],
             [
              0.2222222222222222,
              "#7201a8"
             ],
             [
              0.3333333333333333,
              "#9c179e"
             ],
             [
              0.4444444444444444,
              "#bd3786"
             ],
             [
              0.5555555555555556,
              "#d8576b"
             ],
             [
              0.6666666666666666,
              "#ed7953"
             ],
             [
              0.7777777777777778,
              "#fb9f3a"
             ],
             [
              0.8888888888888888,
              "#fdca26"
             ],
             [
              1,
              "#f0f921"
             ]
            ],
            "type": "histogram2d"
           }
          ],
          "histogram2dcontour": [
           {
            "colorbar": {
             "outlinewidth": 0,
             "ticks": ""
            },
            "colorscale": [
             [
              0,
              "#0d0887"
             ],
             [
              0.1111111111111111,
              "#46039f"
             ],
             [
              0.2222222222222222,
              "#7201a8"
             ],
             [
              0.3333333333333333,
              "#9c179e"
             ],
             [
              0.4444444444444444,
              "#bd3786"
             ],
             [
              0.5555555555555556,
              "#d8576b"
             ],
             [
              0.6666666666666666,
              "#ed7953"
             ],
             [
              0.7777777777777778,
              "#fb9f3a"
             ],
             [
              0.8888888888888888,
              "#fdca26"
             ],
             [
              1,
              "#f0f921"
             ]
            ],
            "type": "histogram2dcontour"
           }
          ],
          "mesh3d": [
           {
            "colorbar": {
             "outlinewidth": 0,
             "ticks": ""
            },
            "type": "mesh3d"
           }
          ],
          "parcoords": [
           {
            "line": {
             "colorbar": {
              "outlinewidth": 0,
              "ticks": ""
             }
            },
            "type": "parcoords"
           }
          ],
          "pie": [
           {
            "automargin": true,
            "type": "pie"
           }
          ],
          "scatter": [
           {
            "fillpattern": {
             "fillmode": "overlay",
             "size": 10,
             "solidity": 0.2
            },
            "type": "scatter"
           }
          ],
          "scatter3d": [
           {
            "line": {
             "colorbar": {
              "outlinewidth": 0,
              "ticks": ""
             }
            },
            "marker": {
             "colorbar": {
              "outlinewidth": 0,
              "ticks": ""
             }
            },
            "type": "scatter3d"
           }
          ],
          "scattercarpet": [
           {
            "marker": {
             "colorbar": {
              "outlinewidth": 0,
              "ticks": ""
             }
            },
            "type": "scattercarpet"
           }
          ],
          "scattergeo": [
           {
            "marker": {
             "colorbar": {
              "outlinewidth": 0,
              "ticks": ""
             }
            },
            "type": "scattergeo"
           }
          ],
          "scattergl": [
           {
            "marker": {
             "colorbar": {
              "outlinewidth": 0,
              "ticks": ""
             }
            },
            "type": "scattergl"
           }
          ],
          "scattermapbox": [
           {
            "marker": {
             "colorbar": {
              "outlinewidth": 0,
              "ticks": ""
             }
            },
            "type": "scattermapbox"
           }
          ],
          "scatterpolar": [
           {
            "marker": {
             "colorbar": {
              "outlinewidth": 0,
              "ticks": ""
             }
            },
            "type": "scatterpolar"
           }
          ],
          "scatterpolargl": [
           {
            "marker": {
             "colorbar": {
              "outlinewidth": 0,
              "ticks": ""
             }
            },
            "type": "scatterpolargl"
           }
          ],
          "scatterternary": [
           {
            "marker": {
             "colorbar": {
              "outlinewidth": 0,
              "ticks": ""
             }
            },
            "type": "scatterternary"
           }
          ],
          "surface": [
           {
            "colorbar": {
             "outlinewidth": 0,
             "ticks": ""
            },
            "colorscale": [
             [
              0,
              "#0d0887"
             ],
             [
              0.1111111111111111,
              "#46039f"
             ],
             [
              0.2222222222222222,
              "#7201a8"
             ],
             [
              0.3333333333333333,
              "#9c179e"
             ],
             [
              0.4444444444444444,
              "#bd3786"
             ],
             [
              0.5555555555555556,
              "#d8576b"
             ],
             [
              0.6666666666666666,
              "#ed7953"
             ],
             [
              0.7777777777777778,
              "#fb9f3a"
             ],
             [
              0.8888888888888888,
              "#fdca26"
             ],
             [
              1,
              "#f0f921"
             ]
            ],
            "type": "surface"
           }
          ],
          "table": [
           {
            "cells": {
             "fill": {
              "color": "#EBF0F8"
             },
             "line": {
              "color": "white"
             }
            },
            "header": {
             "fill": {
              "color": "#C8D4E3"
             },
             "line": {
              "color": "white"
             }
            },
            "type": "table"
           }
          ]
         },
         "layout": {
          "annotationdefaults": {
           "arrowcolor": "#2a3f5f",
           "arrowhead": 0,
           "arrowwidth": 1
          },
          "autotypenumbers": "strict",
          "coloraxis": {
           "colorbar": {
            "outlinewidth": 0,
            "ticks": ""
           }
          },
          "colorscale": {
           "diverging": [
            [
             0,
             "#8e0152"
            ],
            [
             0.1,
             "#c51b7d"
            ],
            [
             0.2,
             "#de77ae"
            ],
            [
             0.3,
             "#f1b6da"
            ],
            [
             0.4,
             "#fde0ef"
            ],
            [
             0.5,
             "#f7f7f7"
            ],
            [
             0.6,
             "#e6f5d0"
            ],
            [
             0.7,
             "#b8e186"
            ],
            [
             0.8,
             "#7fbc41"
            ],
            [
             0.9,
             "#4d9221"
            ],
            [
             1,
             "#276419"
            ]
           ],
           "sequential": [
            [
             0,
             "#0d0887"
            ],
            [
             0.1111111111111111,
             "#46039f"
            ],
            [
             0.2222222222222222,
             "#7201a8"
            ],
            [
             0.3333333333333333,
             "#9c179e"
            ],
            [
             0.4444444444444444,
             "#bd3786"
            ],
            [
             0.5555555555555556,
             "#d8576b"
            ],
            [
             0.6666666666666666,
             "#ed7953"
            ],
            [
             0.7777777777777778,
             "#fb9f3a"
            ],
            [
             0.8888888888888888,
             "#fdca26"
            ],
            [
             1,
             "#f0f921"
            ]
           ],
           "sequentialminus": [
            [
             0,
             "#0d0887"
            ],
            [
             0.1111111111111111,
             "#46039f"
            ],
            [
             0.2222222222222222,
             "#7201a8"
            ],
            [
             0.3333333333333333,
             "#9c179e"
            ],
            [
             0.4444444444444444,
             "#bd3786"
            ],
            [
             0.5555555555555556,
             "#d8576b"
            ],
            [
             0.6666666666666666,
             "#ed7953"
            ],
            [
             0.7777777777777778,
             "#fb9f3a"
            ],
            [
             0.8888888888888888,
             "#fdca26"
            ],
            [
             1,
             "#f0f921"
            ]
           ]
          },
          "colorway": [
           "#636efa",
           "#EF553B",
           "#00cc96",
           "#ab63fa",
           "#FFA15A",
           "#19d3f3",
           "#FF6692",
           "#B6E880",
           "#FF97FF",
           "#FECB52"
          ],
          "font": {
           "color": "#2a3f5f"
          },
          "geo": {
           "bgcolor": "white",
           "lakecolor": "white",
           "landcolor": "#E5ECF6",
           "showlakes": true,
           "showland": true,
           "subunitcolor": "white"
          },
          "hoverlabel": {
           "align": "left"
          },
          "hovermode": "closest",
          "mapbox": {
           "style": "light"
          },
          "paper_bgcolor": "white",
          "plot_bgcolor": "#E5ECF6",
          "polar": {
           "angularaxis": {
            "gridcolor": "white",
            "linecolor": "white",
            "ticks": ""
           },
           "bgcolor": "#E5ECF6",
           "radialaxis": {
            "gridcolor": "white",
            "linecolor": "white",
            "ticks": ""
           }
          },
          "scene": {
           "xaxis": {
            "backgroundcolor": "#E5ECF6",
            "gridcolor": "white",
            "gridwidth": 2,
            "linecolor": "white",
            "showbackground": true,
            "ticks": "",
            "zerolinecolor": "white"
           },
           "yaxis": {
            "backgroundcolor": "#E5ECF6",
            "gridcolor": "white",
            "gridwidth": 2,
            "linecolor": "white",
            "showbackground": true,
            "ticks": "",
            "zerolinecolor": "white"
           },
           "zaxis": {
            "backgroundcolor": "#E5ECF6",
            "gridcolor": "white",
            "gridwidth": 2,
            "linecolor": "white",
            "showbackground": true,
            "ticks": "",
            "zerolinecolor": "white"
           }
          },
          "shapedefaults": {
           "line": {
            "color": "#2a3f5f"
           }
          },
          "ternary": {
           "aaxis": {
            "gridcolor": "white",
            "linecolor": "white",
            "ticks": ""
           },
           "baxis": {
            "gridcolor": "white",
            "linecolor": "white",
            "ticks": ""
           },
           "bgcolor": "#E5ECF6",
           "caxis": {
            "gridcolor": "white",
            "linecolor": "white",
            "ticks": ""
           }
          },
          "title": {
           "x": 0.05
          },
          "xaxis": {
           "automargin": true,
           "gridcolor": "white",
           "linecolor": "white",
           "ticks": "",
           "title": {
            "standoff": 15
           },
           "zerolinecolor": "white",
           "zerolinewidth": 2
          },
          "yaxis": {
           "automargin": true,
           "gridcolor": "white",
           "linecolor": "white",
           "ticks": "",
           "title": {
            "standoff": 15
           },
           "zerolinecolor": "white",
           "zerolinewidth": 2
          }
         }
        },
        "xaxis": {
         "anchor": "y",
         "domain": [
          0,
          1
         ],
         "title": {
          "text": "system_name"
         }
        },
        "yaxis": {
         "anchor": "x",
         "domain": [
          0,
          1
         ],
         "title": {
          "text": "rmse_full_deployment"
         }
        }
       }
      }
     },
     "metadata": {},
     "output_type": "display_data"
    }
   ],
   "source": [
    "fig = px.scatter(df, x=\"datetime\", y=\"diff\", color = \"system_name\")\n",
    "fig.show()\n",
    "fig = px.scatter(df_sbs, x=\"system_name\", y=\"mean_full_deployment\")\n",
    "fig.show()\n",
    "fig = px.scatter(df_sbs, x=\"system_name\", y=\"mae_full_deployment\")\n",
    "fig.show()\n",
    "fig = px.scatter(df_sbs, x=\"system_name\", y=\"rmse_full_deployment\")\n",
    "fig.show()"
   ]
  },
  {
   "cell_type": "code",
   "execution_count": 7,
   "metadata": {},
   "outputs": [
    {
     "data": {
      "application/vnd.plotly.v1+json": {
       "config": {
        "plotlyServerURL": "https://plot.ly"
       },
       "data": [
        {
         "hovertemplate": "system_name=%{x}<br>sbs_days=%{y}<extra></extra>",
         "legendgroup": "",
         "marker": {
          "color": "#636efa",
          "symbol": "circle"
         },
         "mode": "markers",
         "name": "",
         "orientation": "v",
         "showlegend": false,
         "type": "scatter",
         "x": [
          "acropolis-3",
          "acropolis-6"
         ],
         "xaxis": "x",
         "y": [
          27,
          26
         ],
         "yaxis": "y"
        }
       ],
       "layout": {
        "legend": {
         "tracegroupgap": 0
        },
        "margin": {
         "t": 60
        },
        "template": {
         "data": {
          "bar": [
           {
            "error_x": {
             "color": "#2a3f5f"
            },
            "error_y": {
             "color": "#2a3f5f"
            },
            "marker": {
             "line": {
              "color": "#E5ECF6",
              "width": 0.5
             },
             "pattern": {
              "fillmode": "overlay",
              "size": 10,
              "solidity": 0.2
             }
            },
            "type": "bar"
           }
          ],
          "barpolar": [
           {
            "marker": {
             "line": {
              "color": "#E5ECF6",
              "width": 0.5
             },
             "pattern": {
              "fillmode": "overlay",
              "size": 10,
              "solidity": 0.2
             }
            },
            "type": "barpolar"
           }
          ],
          "carpet": [
           {
            "aaxis": {
             "endlinecolor": "#2a3f5f",
             "gridcolor": "white",
             "linecolor": "white",
             "minorgridcolor": "white",
             "startlinecolor": "#2a3f5f"
            },
            "baxis": {
             "endlinecolor": "#2a3f5f",
             "gridcolor": "white",
             "linecolor": "white",
             "minorgridcolor": "white",
             "startlinecolor": "#2a3f5f"
            },
            "type": "carpet"
           }
          ],
          "choropleth": [
           {
            "colorbar": {
             "outlinewidth": 0,
             "ticks": ""
            },
            "type": "choropleth"
           }
          ],
          "contour": [
           {
            "colorbar": {
             "outlinewidth": 0,
             "ticks": ""
            },
            "colorscale": [
             [
              0,
              "#0d0887"
             ],
             [
              0.1111111111111111,
              "#46039f"
             ],
             [
              0.2222222222222222,
              "#7201a8"
             ],
             [
              0.3333333333333333,
              "#9c179e"
             ],
             [
              0.4444444444444444,
              "#bd3786"
             ],
             [
              0.5555555555555556,
              "#d8576b"
             ],
             [
              0.6666666666666666,
              "#ed7953"
             ],
             [
              0.7777777777777778,
              "#fb9f3a"
             ],
             [
              0.8888888888888888,
              "#fdca26"
             ],
             [
              1,
              "#f0f921"
             ]
            ],
            "type": "contour"
           }
          ],
          "contourcarpet": [
           {
            "colorbar": {
             "outlinewidth": 0,
             "ticks": ""
            },
            "type": "contourcarpet"
           }
          ],
          "heatmap": [
           {
            "colorbar": {
             "outlinewidth": 0,
             "ticks": ""
            },
            "colorscale": [
             [
              0,
              "#0d0887"
             ],
             [
              0.1111111111111111,
              "#46039f"
             ],
             [
              0.2222222222222222,
              "#7201a8"
             ],
             [
              0.3333333333333333,
              "#9c179e"
             ],
             [
              0.4444444444444444,
              "#bd3786"
             ],
             [
              0.5555555555555556,
              "#d8576b"
             ],
             [
              0.6666666666666666,
              "#ed7953"
             ],
             [
              0.7777777777777778,
              "#fb9f3a"
             ],
             [
              0.8888888888888888,
              "#fdca26"
             ],
             [
              1,
              "#f0f921"
             ]
            ],
            "type": "heatmap"
           }
          ],
          "heatmapgl": [
           {
            "colorbar": {
             "outlinewidth": 0,
             "ticks": ""
            },
            "colorscale": [
             [
              0,
              "#0d0887"
             ],
             [
              0.1111111111111111,
              "#46039f"
             ],
             [
              0.2222222222222222,
              "#7201a8"
             ],
             [
              0.3333333333333333,
              "#9c179e"
             ],
             [
              0.4444444444444444,
              "#bd3786"
             ],
             [
              0.5555555555555556,
              "#d8576b"
             ],
             [
              0.6666666666666666,
              "#ed7953"
             ],
             [
              0.7777777777777778,
              "#fb9f3a"
             ],
             [
              0.8888888888888888,
              "#fdca26"
             ],
             [
              1,
              "#f0f921"
             ]
            ],
            "type": "heatmapgl"
           }
          ],
          "histogram": [
           {
            "marker": {
             "pattern": {
              "fillmode": "overlay",
              "size": 10,
              "solidity": 0.2
             }
            },
            "type": "histogram"
           }
          ],
          "histogram2d": [
           {
            "colorbar": {
             "outlinewidth": 0,
             "ticks": ""
            },
            "colorscale": [
             [
              0,
              "#0d0887"
             ],
             [
              0.1111111111111111,
              "#46039f"
             ],
             [
              0.2222222222222222,
              "#7201a8"
             ],
             [
              0.3333333333333333,
              "#9c179e"
             ],
             [
              0.4444444444444444,
              "#bd3786"
             ],
             [
              0.5555555555555556,
              "#d8576b"
             ],
             [
              0.6666666666666666,
              "#ed7953"
             ],
             [
              0.7777777777777778,
              "#fb9f3a"
             ],
             [
              0.8888888888888888,
              "#fdca26"
             ],
             [
              1,
              "#f0f921"
             ]
            ],
            "type": "histogram2d"
           }
          ],
          "histogram2dcontour": [
           {
            "colorbar": {
             "outlinewidth": 0,
             "ticks": ""
            },
            "colorscale": [
             [
              0,
              "#0d0887"
             ],
             [
              0.1111111111111111,
              "#46039f"
             ],
             [
              0.2222222222222222,
              "#7201a8"
             ],
             [
              0.3333333333333333,
              "#9c179e"
             ],
             [
              0.4444444444444444,
              "#bd3786"
             ],
             [
              0.5555555555555556,
              "#d8576b"
             ],
             [
              0.6666666666666666,
              "#ed7953"
             ],
             [
              0.7777777777777778,
              "#fb9f3a"
             ],
             [
              0.8888888888888888,
              "#fdca26"
             ],
             [
              1,
              "#f0f921"
             ]
            ],
            "type": "histogram2dcontour"
           }
          ],
          "mesh3d": [
           {
            "colorbar": {
             "outlinewidth": 0,
             "ticks": ""
            },
            "type": "mesh3d"
           }
          ],
          "parcoords": [
           {
            "line": {
             "colorbar": {
              "outlinewidth": 0,
              "ticks": ""
             }
            },
            "type": "parcoords"
           }
          ],
          "pie": [
           {
            "automargin": true,
            "type": "pie"
           }
          ],
          "scatter": [
           {
            "fillpattern": {
             "fillmode": "overlay",
             "size": 10,
             "solidity": 0.2
            },
            "type": "scatter"
           }
          ],
          "scatter3d": [
           {
            "line": {
             "colorbar": {
              "outlinewidth": 0,
              "ticks": ""
             }
            },
            "marker": {
             "colorbar": {
              "outlinewidth": 0,
              "ticks": ""
             }
            },
            "type": "scatter3d"
           }
          ],
          "scattercarpet": [
           {
            "marker": {
             "colorbar": {
              "outlinewidth": 0,
              "ticks": ""
             }
            },
            "type": "scattercarpet"
           }
          ],
          "scattergeo": [
           {
            "marker": {
             "colorbar": {
              "outlinewidth": 0,
              "ticks": ""
             }
            },
            "type": "scattergeo"
           }
          ],
          "scattergl": [
           {
            "marker": {
             "colorbar": {
              "outlinewidth": 0,
              "ticks": ""
             }
            },
            "type": "scattergl"
           }
          ],
          "scattermapbox": [
           {
            "marker": {
             "colorbar": {
              "outlinewidth": 0,
              "ticks": ""
             }
            },
            "type": "scattermapbox"
           }
          ],
          "scatterpolar": [
           {
            "marker": {
             "colorbar": {
              "outlinewidth": 0,
              "ticks": ""
             }
            },
            "type": "scatterpolar"
           }
          ],
          "scatterpolargl": [
           {
            "marker": {
             "colorbar": {
              "outlinewidth": 0,
              "ticks": ""
             }
            },
            "type": "scatterpolargl"
           }
          ],
          "scatterternary": [
           {
            "marker": {
             "colorbar": {
              "outlinewidth": 0,
              "ticks": ""
             }
            },
            "type": "scatterternary"
           }
          ],
          "surface": [
           {
            "colorbar": {
             "outlinewidth": 0,
             "ticks": ""
            },
            "colorscale": [
             [
              0,
              "#0d0887"
             ],
             [
              0.1111111111111111,
              "#46039f"
             ],
             [
              0.2222222222222222,
              "#7201a8"
             ],
             [
              0.3333333333333333,
              "#9c179e"
             ],
             [
              0.4444444444444444,
              "#bd3786"
             ],
             [
              0.5555555555555556,
              "#d8576b"
             ],
             [
              0.6666666666666666,
              "#ed7953"
             ],
             [
              0.7777777777777778,
              "#fb9f3a"
             ],
             [
              0.8888888888888888,
              "#fdca26"
             ],
             [
              1,
              "#f0f921"
             ]
            ],
            "type": "surface"
           }
          ],
          "table": [
           {
            "cells": {
             "fill": {
              "color": "#EBF0F8"
             },
             "line": {
              "color": "white"
             }
            },
            "header": {
             "fill": {
              "color": "#C8D4E3"
             },
             "line": {
              "color": "white"
             }
            },
            "type": "table"
           }
          ]
         },
         "layout": {
          "annotationdefaults": {
           "arrowcolor": "#2a3f5f",
           "arrowhead": 0,
           "arrowwidth": 1
          },
          "autotypenumbers": "strict",
          "coloraxis": {
           "colorbar": {
            "outlinewidth": 0,
            "ticks": ""
           }
          },
          "colorscale": {
           "diverging": [
            [
             0,
             "#8e0152"
            ],
            [
             0.1,
             "#c51b7d"
            ],
            [
             0.2,
             "#de77ae"
            ],
            [
             0.3,
             "#f1b6da"
            ],
            [
             0.4,
             "#fde0ef"
            ],
            [
             0.5,
             "#f7f7f7"
            ],
            [
             0.6,
             "#e6f5d0"
            ],
            [
             0.7,
             "#b8e186"
            ],
            [
             0.8,
             "#7fbc41"
            ],
            [
             0.9,
             "#4d9221"
            ],
            [
             1,
             "#276419"
            ]
           ],
           "sequential": [
            [
             0,
             "#0d0887"
            ],
            [
             0.1111111111111111,
             "#46039f"
            ],
            [
             0.2222222222222222,
             "#7201a8"
            ],
            [
             0.3333333333333333,
             "#9c179e"
            ],
            [
             0.4444444444444444,
             "#bd3786"
            ],
            [
             0.5555555555555556,
             "#d8576b"
            ],
            [
             0.6666666666666666,
             "#ed7953"
            ],
            [
             0.7777777777777778,
             "#fb9f3a"
            ],
            [
             0.8888888888888888,
             "#fdca26"
            ],
            [
             1,
             "#f0f921"
            ]
           ],
           "sequentialminus": [
            [
             0,
             "#0d0887"
            ],
            [
             0.1111111111111111,
             "#46039f"
            ],
            [
             0.2222222222222222,
             "#7201a8"
            ],
            [
             0.3333333333333333,
             "#9c179e"
            ],
            [
             0.4444444444444444,
             "#bd3786"
            ],
            [
             0.5555555555555556,
             "#d8576b"
            ],
            [
             0.6666666666666666,
             "#ed7953"
            ],
            [
             0.7777777777777778,
             "#fb9f3a"
            ],
            [
             0.8888888888888888,
             "#fdca26"
            ],
            [
             1,
             "#f0f921"
            ]
           ]
          },
          "colorway": [
           "#636efa",
           "#EF553B",
           "#00cc96",
           "#ab63fa",
           "#FFA15A",
           "#19d3f3",
           "#FF6692",
           "#B6E880",
           "#FF97FF",
           "#FECB52"
          ],
          "font": {
           "color": "#2a3f5f"
          },
          "geo": {
           "bgcolor": "white",
           "lakecolor": "white",
           "landcolor": "#E5ECF6",
           "showlakes": true,
           "showland": true,
           "subunitcolor": "white"
          },
          "hoverlabel": {
           "align": "left"
          },
          "hovermode": "closest",
          "mapbox": {
           "style": "light"
          },
          "paper_bgcolor": "white",
          "plot_bgcolor": "#E5ECF6",
          "polar": {
           "angularaxis": {
            "gridcolor": "white",
            "linecolor": "white",
            "ticks": ""
           },
           "bgcolor": "#E5ECF6",
           "radialaxis": {
            "gridcolor": "white",
            "linecolor": "white",
            "ticks": ""
           }
          },
          "scene": {
           "xaxis": {
            "backgroundcolor": "#E5ECF6",
            "gridcolor": "white",
            "gridwidth": 2,
            "linecolor": "white",
            "showbackground": true,
            "ticks": "",
            "zerolinecolor": "white"
           },
           "yaxis": {
            "backgroundcolor": "#E5ECF6",
            "gridcolor": "white",
            "gridwidth": 2,
            "linecolor": "white",
            "showbackground": true,
            "ticks": "",
            "zerolinecolor": "white"
           },
           "zaxis": {
            "backgroundcolor": "#E5ECF6",
            "gridcolor": "white",
            "gridwidth": 2,
            "linecolor": "white",
            "showbackground": true,
            "ticks": "",
            "zerolinecolor": "white"
           }
          },
          "shapedefaults": {
           "line": {
            "color": "#2a3f5f"
           }
          },
          "ternary": {
           "aaxis": {
            "gridcolor": "white",
            "linecolor": "white",
            "ticks": ""
           },
           "baxis": {
            "gridcolor": "white",
            "linecolor": "white",
            "ticks": ""
           },
           "bgcolor": "#E5ECF6",
           "caxis": {
            "gridcolor": "white",
            "linecolor": "white",
            "ticks": ""
           }
          },
          "title": {
           "x": 0.05
          },
          "xaxis": {
           "automargin": true,
           "gridcolor": "white",
           "linecolor": "white",
           "ticks": "",
           "title": {
            "standoff": 15
           },
           "zerolinecolor": "white",
           "zerolinewidth": 2
          },
          "yaxis": {
           "automargin": true,
           "gridcolor": "white",
           "linecolor": "white",
           "ticks": "",
           "title": {
            "standoff": 15
           },
           "zerolinecolor": "white",
           "zerolinewidth": 2
          }
         }
        },
        "xaxis": {
         "anchor": "y",
         "domain": [
          0,
          1
         ],
         "title": {
          "text": "system_name"
         }
        },
        "yaxis": {
         "anchor": "x",
         "domain": [
          0,
          1
         ],
         "title": {
          "text": "sbs_days"
         }
        }
       }
      }
     },
     "metadata": {},
     "output_type": "display_data"
    }
   ],
   "source": [
    "# 144 * 10 minute intervals in 1 day - 3 * 10 min intervals in one calibration\n",
    "# 24* 1h interval in 1 day\n",
    "\n",
    "df_plot = df.sort(\"datetime\") \\\n",
    "    .group_by([\"system_name\", \"system_id\"]) \\\n",
    "    .agg((pl.col(\"gmp343_corrected\").count() / 24).cast(int).alias(\"sbs_days\")) \\\n",
    "    .join(df_sbs, on=\"system_id\") \\\n",
    "    .drop(\"^.*_right$\") \\\n",
    "    .sort(\"system_id\")\n",
    "\n",
    "fig = px.scatter(df_plot, x=\"system_name\", y=\"sbs_days\")\n",
    "fig.show()"
   ]
  },
  {
   "cell_type": "code",
   "execution_count": 8,
   "metadata": {},
   "outputs": [
    {
     "data": {
      "application/vnd.plotly.v1+json": {
       "config": {
        "plotlyServerURL": "https://plot.ly"
       },
       "data": [
        {
         "hovertemplate": "system_name=%{x}<br>rmse_full_deployment=%{y}<br>sbs_days=%{marker.color}<extra></extra>",
         "legendgroup": "",
         "marker": {
          "color": [
           27,
           26
          ],
          "coloraxis": "coloraxis",
          "symbol": "circle"
         },
         "mode": "markers",
         "name": "",
         "orientation": "v",
         "showlegend": false,
         "type": "scatter",
         "x": [
          "acropolis-3",
          "acropolis-6"
         ],
         "xaxis": "x",
         "y": [
          0.8490695344155316,
          0.7937235263794111
         ],
         "yaxis": "y"
        }
       ],
       "layout": {
        "coloraxis": {
         "colorbar": {
          "title": {
           "text": "sbs_days"
          }
         },
         "colorscale": [
          [
           0,
           "rgb(255,0,0)"
          ],
          [
           1,
           "rgb(0,0,255)"
          ]
         ]
        },
        "legend": {
         "tracegroupgap": 0
        },
        "margin": {
         "t": 60
        },
        "template": {
         "data": {
          "bar": [
           {
            "error_x": {
             "color": "#2a3f5f"
            },
            "error_y": {
             "color": "#2a3f5f"
            },
            "marker": {
             "line": {
              "color": "#E5ECF6",
              "width": 0.5
             },
             "pattern": {
              "fillmode": "overlay",
              "size": 10,
              "solidity": 0.2
             }
            },
            "type": "bar"
           }
          ],
          "barpolar": [
           {
            "marker": {
             "line": {
              "color": "#E5ECF6",
              "width": 0.5
             },
             "pattern": {
              "fillmode": "overlay",
              "size": 10,
              "solidity": 0.2
             }
            },
            "type": "barpolar"
           }
          ],
          "carpet": [
           {
            "aaxis": {
             "endlinecolor": "#2a3f5f",
             "gridcolor": "white",
             "linecolor": "white",
             "minorgridcolor": "white",
             "startlinecolor": "#2a3f5f"
            },
            "baxis": {
             "endlinecolor": "#2a3f5f",
             "gridcolor": "white",
             "linecolor": "white",
             "minorgridcolor": "white",
             "startlinecolor": "#2a3f5f"
            },
            "type": "carpet"
           }
          ],
          "choropleth": [
           {
            "colorbar": {
             "outlinewidth": 0,
             "ticks": ""
            },
            "type": "choropleth"
           }
          ],
          "contour": [
           {
            "colorbar": {
             "outlinewidth": 0,
             "ticks": ""
            },
            "colorscale": [
             [
              0,
              "#0d0887"
             ],
             [
              0.1111111111111111,
              "#46039f"
             ],
             [
              0.2222222222222222,
              "#7201a8"
             ],
             [
              0.3333333333333333,
              "#9c179e"
             ],
             [
              0.4444444444444444,
              "#bd3786"
             ],
             [
              0.5555555555555556,
              "#d8576b"
             ],
             [
              0.6666666666666666,
              "#ed7953"
             ],
             [
              0.7777777777777778,
              "#fb9f3a"
             ],
             [
              0.8888888888888888,
              "#fdca26"
             ],
             [
              1,
              "#f0f921"
             ]
            ],
            "type": "contour"
           }
          ],
          "contourcarpet": [
           {
            "colorbar": {
             "outlinewidth": 0,
             "ticks": ""
            },
            "type": "contourcarpet"
           }
          ],
          "heatmap": [
           {
            "colorbar": {
             "outlinewidth": 0,
             "ticks": ""
            },
            "colorscale": [
             [
              0,
              "#0d0887"
             ],
             [
              0.1111111111111111,
              "#46039f"
             ],
             [
              0.2222222222222222,
              "#7201a8"
             ],
             [
              0.3333333333333333,
              "#9c179e"
             ],
             [
              0.4444444444444444,
              "#bd3786"
             ],
             [
              0.5555555555555556,
              "#d8576b"
             ],
             [
              0.6666666666666666,
              "#ed7953"
             ],
             [
              0.7777777777777778,
              "#fb9f3a"
             ],
             [
              0.8888888888888888,
              "#fdca26"
             ],
             [
              1,
              "#f0f921"
             ]
            ],
            "type": "heatmap"
           }
          ],
          "heatmapgl": [
           {
            "colorbar": {
             "outlinewidth": 0,
             "ticks": ""
            },
            "colorscale": [
             [
              0,
              "#0d0887"
             ],
             [
              0.1111111111111111,
              "#46039f"
             ],
             [
              0.2222222222222222,
              "#7201a8"
             ],
             [
              0.3333333333333333,
              "#9c179e"
             ],
             [
              0.4444444444444444,
              "#bd3786"
             ],
             [
              0.5555555555555556,
              "#d8576b"
             ],
             [
              0.6666666666666666,
              "#ed7953"
             ],
             [
              0.7777777777777778,
              "#fb9f3a"
             ],
             [
              0.8888888888888888,
              "#fdca26"
             ],
             [
              1,
              "#f0f921"
             ]
            ],
            "type": "heatmapgl"
           }
          ],
          "histogram": [
           {
            "marker": {
             "pattern": {
              "fillmode": "overlay",
              "size": 10,
              "solidity": 0.2
             }
            },
            "type": "histogram"
           }
          ],
          "histogram2d": [
           {
            "colorbar": {
             "outlinewidth": 0,
             "ticks": ""
            },
            "colorscale": [
             [
              0,
              "#0d0887"
             ],
             [
              0.1111111111111111,
              "#46039f"
             ],
             [
              0.2222222222222222,
              "#7201a8"
             ],
             [
              0.3333333333333333,
              "#9c179e"
             ],
             [
              0.4444444444444444,
              "#bd3786"
             ],
             [
              0.5555555555555556,
              "#d8576b"
             ],
             [
              0.6666666666666666,
              "#ed7953"
             ],
             [
              0.7777777777777778,
              "#fb9f3a"
             ],
             [
              0.8888888888888888,
              "#fdca26"
             ],
             [
              1,
              "#f0f921"
             ]
            ],
            "type": "histogram2d"
           }
          ],
          "histogram2dcontour": [
           {
            "colorbar": {
             "outlinewidth": 0,
             "ticks": ""
            },
            "colorscale": [
             [
              0,
              "#0d0887"
             ],
             [
              0.1111111111111111,
              "#46039f"
             ],
             [
              0.2222222222222222,
              "#7201a8"
             ],
             [
              0.3333333333333333,
              "#9c179e"
             ],
             [
              0.4444444444444444,
              "#bd3786"
             ],
             [
              0.5555555555555556,
              "#d8576b"
             ],
             [
              0.6666666666666666,
              "#ed7953"
             ],
             [
              0.7777777777777778,
              "#fb9f3a"
             ],
             [
              0.8888888888888888,
              "#fdca26"
             ],
             [
              1,
              "#f0f921"
             ]
            ],
            "type": "histogram2dcontour"
           }
          ],
          "mesh3d": [
           {
            "colorbar": {
             "outlinewidth": 0,
             "ticks": ""
            },
            "type": "mesh3d"
           }
          ],
          "parcoords": [
           {
            "line": {
             "colorbar": {
              "outlinewidth": 0,
              "ticks": ""
             }
            },
            "type": "parcoords"
           }
          ],
          "pie": [
           {
            "automargin": true,
            "type": "pie"
           }
          ],
          "scatter": [
           {
            "fillpattern": {
             "fillmode": "overlay",
             "size": 10,
             "solidity": 0.2
            },
            "type": "scatter"
           }
          ],
          "scatter3d": [
           {
            "line": {
             "colorbar": {
              "outlinewidth": 0,
              "ticks": ""
             }
            },
            "marker": {
             "colorbar": {
              "outlinewidth": 0,
              "ticks": ""
             }
            },
            "type": "scatter3d"
           }
          ],
          "scattercarpet": [
           {
            "marker": {
             "colorbar": {
              "outlinewidth": 0,
              "ticks": ""
             }
            },
            "type": "scattercarpet"
           }
          ],
          "scattergeo": [
           {
            "marker": {
             "colorbar": {
              "outlinewidth": 0,
              "ticks": ""
             }
            },
            "type": "scattergeo"
           }
          ],
          "scattergl": [
           {
            "marker": {
             "colorbar": {
              "outlinewidth": 0,
              "ticks": ""
             }
            },
            "type": "scattergl"
           }
          ],
          "scattermapbox": [
           {
            "marker": {
             "colorbar": {
              "outlinewidth": 0,
              "ticks": ""
             }
            },
            "type": "scattermapbox"
           }
          ],
          "scatterpolar": [
           {
            "marker": {
             "colorbar": {
              "outlinewidth": 0,
              "ticks": ""
             }
            },
            "type": "scatterpolar"
           }
          ],
          "scatterpolargl": [
           {
            "marker": {
             "colorbar": {
              "outlinewidth": 0,
              "ticks": ""
             }
            },
            "type": "scatterpolargl"
           }
          ],
          "scatterternary": [
           {
            "marker": {
             "colorbar": {
              "outlinewidth": 0,
              "ticks": ""
             }
            },
            "type": "scatterternary"
           }
          ],
          "surface": [
           {
            "colorbar": {
             "outlinewidth": 0,
             "ticks": ""
            },
            "colorscale": [
             [
              0,
              "#0d0887"
             ],
             [
              0.1111111111111111,
              "#46039f"
             ],
             [
              0.2222222222222222,
              "#7201a8"
             ],
             [
              0.3333333333333333,
              "#9c179e"
             ],
             [
              0.4444444444444444,
              "#bd3786"
             ],
             [
              0.5555555555555556,
              "#d8576b"
             ],
             [
              0.6666666666666666,
              "#ed7953"
             ],
             [
              0.7777777777777778,
              "#fb9f3a"
             ],
             [
              0.8888888888888888,
              "#fdca26"
             ],
             [
              1,
              "#f0f921"
             ]
            ],
            "type": "surface"
           }
          ],
          "table": [
           {
            "cells": {
             "fill": {
              "color": "#EBF0F8"
             },
             "line": {
              "color": "white"
             }
            },
            "header": {
             "fill": {
              "color": "#C8D4E3"
             },
             "line": {
              "color": "white"
             }
            },
            "type": "table"
           }
          ]
         },
         "layout": {
          "annotationdefaults": {
           "arrowcolor": "#2a3f5f",
           "arrowhead": 0,
           "arrowwidth": 1
          },
          "autotypenumbers": "strict",
          "coloraxis": {
           "colorbar": {
            "outlinewidth": 0,
            "ticks": ""
           }
          },
          "colorscale": {
           "diverging": [
            [
             0,
             "#8e0152"
            ],
            [
             0.1,
             "#c51b7d"
            ],
            [
             0.2,
             "#de77ae"
            ],
            [
             0.3,
             "#f1b6da"
            ],
            [
             0.4,
             "#fde0ef"
            ],
            [
             0.5,
             "#f7f7f7"
            ],
            [
             0.6,
             "#e6f5d0"
            ],
            [
             0.7,
             "#b8e186"
            ],
            [
             0.8,
             "#7fbc41"
            ],
            [
             0.9,
             "#4d9221"
            ],
            [
             1,
             "#276419"
            ]
           ],
           "sequential": [
            [
             0,
             "#0d0887"
            ],
            [
             0.1111111111111111,
             "#46039f"
            ],
            [
             0.2222222222222222,
             "#7201a8"
            ],
            [
             0.3333333333333333,
             "#9c179e"
            ],
            [
             0.4444444444444444,
             "#bd3786"
            ],
            [
             0.5555555555555556,
             "#d8576b"
            ],
            [
             0.6666666666666666,
             "#ed7953"
            ],
            [
             0.7777777777777778,
             "#fb9f3a"
            ],
            [
             0.8888888888888888,
             "#fdca26"
            ],
            [
             1,
             "#f0f921"
            ]
           ],
           "sequentialminus": [
            [
             0,
             "#0d0887"
            ],
            [
             0.1111111111111111,
             "#46039f"
            ],
            [
             0.2222222222222222,
             "#7201a8"
            ],
            [
             0.3333333333333333,
             "#9c179e"
            ],
            [
             0.4444444444444444,
             "#bd3786"
            ],
            [
             0.5555555555555556,
             "#d8576b"
            ],
            [
             0.6666666666666666,
             "#ed7953"
            ],
            [
             0.7777777777777778,
             "#fb9f3a"
            ],
            [
             0.8888888888888888,
             "#fdca26"
            ],
            [
             1,
             "#f0f921"
            ]
           ]
          },
          "colorway": [
           "#636efa",
           "#EF553B",
           "#00cc96",
           "#ab63fa",
           "#FFA15A",
           "#19d3f3",
           "#FF6692",
           "#B6E880",
           "#FF97FF",
           "#FECB52"
          ],
          "font": {
           "color": "#2a3f5f"
          },
          "geo": {
           "bgcolor": "white",
           "lakecolor": "white",
           "landcolor": "#E5ECF6",
           "showlakes": true,
           "showland": true,
           "subunitcolor": "white"
          },
          "hoverlabel": {
           "align": "left"
          },
          "hovermode": "closest",
          "mapbox": {
           "style": "light"
          },
          "paper_bgcolor": "white",
          "plot_bgcolor": "#E5ECF6",
          "polar": {
           "angularaxis": {
            "gridcolor": "white",
            "linecolor": "white",
            "ticks": ""
           },
           "bgcolor": "#E5ECF6",
           "radialaxis": {
            "gridcolor": "white",
            "linecolor": "white",
            "ticks": ""
           }
          },
          "scene": {
           "xaxis": {
            "backgroundcolor": "#E5ECF6",
            "gridcolor": "white",
            "gridwidth": 2,
            "linecolor": "white",
            "showbackground": true,
            "ticks": "",
            "zerolinecolor": "white"
           },
           "yaxis": {
            "backgroundcolor": "#E5ECF6",
            "gridcolor": "white",
            "gridwidth": 2,
            "linecolor": "white",
            "showbackground": true,
            "ticks": "",
            "zerolinecolor": "white"
           },
           "zaxis": {
            "backgroundcolor": "#E5ECF6",
            "gridcolor": "white",
            "gridwidth": 2,
            "linecolor": "white",
            "showbackground": true,
            "ticks": "",
            "zerolinecolor": "white"
           }
          },
          "shapedefaults": {
           "line": {
            "color": "#2a3f5f"
           }
          },
          "ternary": {
           "aaxis": {
            "gridcolor": "white",
            "linecolor": "white",
            "ticks": ""
           },
           "baxis": {
            "gridcolor": "white",
            "linecolor": "white",
            "ticks": ""
           },
           "bgcolor": "#E5ECF6",
           "caxis": {
            "gridcolor": "white",
            "linecolor": "white",
            "ticks": ""
           }
          },
          "title": {
           "x": 0.05
          },
          "xaxis": {
           "automargin": true,
           "gridcolor": "white",
           "linecolor": "white",
           "ticks": "",
           "title": {
            "standoff": 15
           },
           "zerolinecolor": "white",
           "zerolinewidth": 2
          },
          "yaxis": {
           "automargin": true,
           "gridcolor": "white",
           "linecolor": "white",
           "ticks": "",
           "title": {
            "standoff": 15
           },
           "zerolinecolor": "white",
           "zerolinewidth": 2
          }
         }
        },
        "title": {
         "text": ""
        },
        "xaxis": {
         "anchor": "y",
         "domain": [
          0,
          1
         ],
         "title": {
          "text": "System Identifier"
         }
        },
        "yaxis": {
         "anchor": "x",
         "domain": [
          0,
          1
         ],
         "title": {
          "text": "RMSE (ppm)"
         }
        }
       }
      }
     },
     "metadata": {},
     "output_type": "display_data"
    }
   ],
   "source": [
    "fig = px.scatter(df_plot, x=\"system_name\",\n",
    "                 y=\"rmse_full_deployment\", \n",
    "                 color = \"sbs_days\", \n",
    "                 color_continuous_scale=px.colors.sequential.Bluered_r)\n",
    "\n",
    "fig.update_layout(\n",
    "    yaxis_title='RMSE (ppm)',\n",
    "    xaxis_title='System Identifier',\n",
    "    title='',\n",
    ")\n",
    "fig.show()"
   ]
  },
  {
   "cell_type": "code",
   "execution_count": 9,
   "metadata": {},
   "outputs": [],
   "source": [
    "df_plot = df_plot.rename({\"rmse_full_deployment\":\"RMSE (ppm)\", \"mae_full_deployment\": \"MAE (ppm)\", \"mean_full_deployment\": \"MEAN (ppm)\"}).with_columns(pl.lit(\"Munich\").alias(\"Mid-Cost Network\"))"
   ]
  },
  {
   "cell_type": "code",
   "execution_count": 10,
   "metadata": {},
   "outputs": [
    {
     "data": {
      "image/png": "[encoded data removed]",
      "text/plain": [
       "<Figure size 640x480 with 1 Axes>"
      ]
     },
     "metadata": {},
     "output_type": "display_data"
    },
    {
     "data": {
      "image/png": "[encoded data removed]",
      "text/plain": [
       "<Figure size 640x480 with 1 Axes>"
      ]
     },
     "metadata": {},
     "output_type": "display_data"
    },
    {
     "data": {
      "image/png": "[encoded data removed]",
      "text/plain": [
       "<Figure size 640x480 with 1 Axes>"
      ]
     },
     "metadata": {},
     "output_type": "display_data"
    }
   ],
   "source": [
    "sns.scatterplot(data=df_plot,x='Mid-Cost Network',\n",
    "                y='RMSE (ppm)', \n",
    "                hue=\"sbs_days\", \n",
    "                alpha=0.8).set(title='Side-by-side performance')\n",
    "plt.show()\n",
    "\n",
    "sns.scatterplot(data=df_plot,x='Mid-Cost Network',\n",
    "                y='MAE (ppm)', \n",
    "                hue=\"sbs_days\", \n",
    "                alpha=0.8).set(title='Side-by-side performance')\n",
    "plt.show()\n",
    "\n",
    "sns.scatterplot(data=df_plot,x='Mid-Cost Network',\n",
    "                y='MEAN (ppm)', \n",
    "                hue=\"sbs_days\", \n",
    "                alpha=0.8).set(title='Side-by-side performance')\n",
    "plt.show()"
   ]
  }
 ],
 "metadata": {
  "kernelspec": {
   "display_name": ".venv",
   "language": "python",
   "name": "python3"
  },
  "language_info": {
   "codemirror_mode": {
    "name": "ipython",
    "version": 3
   },
   "file_extension": ".py",
   "mimetype": "text/x-python",
   "name": "python",
   "nbconvert_exporter": "python",
   "pygments_lexer": "ipython3",
   "version": "3.12.9"
  }
 },
 "nbformat": 4,
 "nbformat_minor": 2
}
