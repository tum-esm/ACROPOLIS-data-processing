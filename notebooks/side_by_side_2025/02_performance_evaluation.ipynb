{
 "cells": [
  {
   "cell_type": "code",
   "execution_count": 3,
   "metadata": {},
   "outputs": [],
   "source": [
    "import os\n",
    "import sys\n",
    "import polars as pl\n",
    "import plotly.express as px\n",
    "import numpy as np\n",
    "import seaborn as sns\n",
    "import matplotlib.pyplot as plt\n",
    "import polars.selectors as cs\n",
    "\n",
    "PROJECT_PATH = os.path.abspath(os.path.join(\"..\", \"..\"))\n",
    "PIPELINE_PATH = os.path.join(PROJECT_PATH, \"pipeline\")\n",
    "DATA_DIRECTORY = os.path.join(PROJECT_PATH, \"data\")\n",
    "\n",
    "if PIPELINE_PATH not in sys.path:\n",
    "    sys.path.append(PIPELINE_PATH)"
   ]
  },
  {
   "cell_type": "code",
   "execution_count": 4,
   "metadata": {},
   "outputs": [],
   "source": [
    "df = pl.read_parquet(os.path.join(DATA_DIRECTORY, \"output\", \"side-by-side\", \"2025_L1_1_min_sbs_period_acropolis.parquet\")) \\\n",
    "    .sort(\"datetime\") \\\n",
    "    .with_columns(diff = pl.col(\"gmp343_corrected\") - pl.col(\"picarro_corrected\")) \\\n",
    "    .group_by_dynamic(\"datetime\", every='1h', group_by=[\"system_id\", \"system_name\"]) \\\n",
    "    .agg([\n",
    "            cs.numeric().mean(),\n",
    "            pl.col(\"gmp343_corrected\").std().alias(\"gmp343_corrected_std\"),\n",
    "            pl.col(\"gmp343_corrected\").var().alias(\"gmp343_corrected_var\")\n",
    "        ]) \\\n",
    "    .sort(\"system_id\")"
   ]
  },
  {
   "cell_type": "code",
   "execution_count": 5,
   "metadata": {},
   "outputs": [],
   "source": [
    "df_sbs = df.filter(pl.col(\"diff\").is_not_nan()) \\\n",
    "    .group_by([\"system_id\", \"system_name\"]) \\\n",
    "    .agg([\n",
    "            (pl.col(\"diff\").mean()).alias(\"mean_full_deployment\"),\n",
    "            (np.abs(pl.col(\"diff\"))).mean().alias(\"mae_full_deployment\"),\n",
    "            (pl.col(\"diff\").pow(2).mean()).alias(\"mse_full_deployment\"),\n",
    "            (pl.col(\"diff\").pow(2).mean().sqrt()).alias(\"rmse_full_deployment\")\n",
    "        ]) \\\n",
    "    .sort(\"system_id\")"
   ]
  },
  {
   "cell_type": "code",
   "execution_count": 6,
   "metadata": {},
   "outputs": [
    {
     "data": {
      "application/vnd.plotly.v1+json": {
       "config": {
        "plotlyServerURL": "https://plot.ly"
       },
       "data": [
        {
         "hovertemplate": "system_name=acropolis-3<br>date=%{x}<br>daily_mean=%{y}<extra></extra>",
         "legendgroup": "acropolis-3",
         "marker": {
          "color": "#636efa",
          "symbol": "circle"
         },
         "mode": "markers",
         "name": "acropolis-3",
         "orientation": "v",
         "showlegend": true,
         "type": "scatter",
         "x": [
          "2025-02-17T00:00:00",
          "2025-03-01T00:00:00",
          "2025-02-28T00:00:00",
          "2025-02-25T00:00:00",
          "2025-02-24T00:00:00",
          "2025-02-18T00:00:00",
          "2025-02-23T00:00:00",
          "2025-02-19T00:00:00",
          "2025-03-02T00:00:00",
          "2025-02-21T00:00:00",
          "2025-02-22T00:00:00",
          "2025-02-26T00:00:00",
          "2025-02-27T00:00:00",
          "2025-03-03T00:00:00",
          "2025-02-20T00:00:00"
         ],
         "xaxis": "x",
         "y": [
          -0.00397970741931617,
          -0.8602014514216108,
          -0.43197137206554487,
          -0.17705053375365998,
          -0.2549308113882541,
          -0.26719969366563895,
          -0.25883194922115826,
          -0.43326414909984384,
          -1.0385589313577563,
          -0.26361234574727355,
          -0.3083258850036617,
          -0.19920063548928227,
          -0.4084951343766254,
          -1.2330681499662577,
          -0.4559613679883985
         ],
         "yaxis": "y"
        },
        {
         "hovertemplate": "system_name=acropolis-6<br>date=%{x}<br>daily_mean=%{y}<extra></extra>",
         "legendgroup": "acropolis-6",
         "marker": {
          "color": "#EF553B",
          "symbol": "circle"
         },
         "mode": "markers",
         "name": "acropolis-6",
         "orientation": "v",
         "showlegend": true,
         "type": "scatter",
         "x": [
          "2025-02-21T00:00:00",
          "2025-02-18T00:00:00",
          "2025-02-26T00:00:00",
          "2025-02-28T00:00:00",
          "2025-02-24T00:00:00",
          "2025-02-27T00:00:00",
          "2025-03-01T00:00:00",
          "2025-02-25T00:00:00",
          "2025-02-19T00:00:00",
          "2025-02-22T00:00:00",
          "2025-03-02T00:00:00",
          "2025-02-23T00:00:00",
          "2025-03-03T00:00:00",
          "2025-02-20T00:00:00"
         ],
         "xaxis": "x",
         "y": [
          -0.11084625067656634,
          -0.8627097761896657,
          -1.27311502003134,
          -0.9146916151104171,
          -0.403778916677351,
          -0.7808737257786303,
          -0.4998039407671444,
          -0.6800764588474162,
          -1.2255763303344644,
          -0.3568474910042185,
          -0.5096308028029018,
          -0.040364122507154536,
          -0.4124833395120723,
          -0.4787811409327714
         ],
         "yaxis": "y"
        }
       ],
       "layout": {
        "legend": {
         "title": {
          "text": "system_name"
         },
         "tracegroupgap": 0
        },
        "margin": {
         "t": 60
        },
        "template": {
         "data": {
          "bar": [
           {
            "error_x": {
             "color": "#2a3f5f"
            },
            "error_y": {
             "color": "#2a3f5f"
            },
            "marker": {
             "line": {
              "color": "#E5ECF6",
              "width": 0.5
             },
             "pattern": {
              "fillmode": "overlay",
              "size": 10,
              "solidity": 0.2
             }
            },
            "type": "bar"
           }
          ],
          "barpolar": [
           {
            "marker": {
             "line": {
              "color": "#E5ECF6",
              "width": 0.5
             },
             "pattern": {
              "fillmode": "overlay",
              "size": 10,
              "solidity": 0.2
             }
            },
            "type": "barpolar"
           }
          ],
          "carpet": [
           {
            "aaxis": {
             "endlinecolor": "#2a3f5f",
             "gridcolor": "white",
             "linecolor": "white",
             "minorgridcolor": "white",
             "startlinecolor": "#2a3f5f"
            },
            "baxis": {
             "endlinecolor": "#2a3f5f",
             "gridcolor": "white",
             "linecolor": "white",
             "minorgridcolor": "white",
             "startlinecolor": "#2a3f5f"
            },
            "type": "carpet"
           }
          ],
          "choropleth": [
           {
            "colorbar": {
             "outlinewidth": 0,
             "ticks": ""
            },
            "type": "choropleth"
           }
          ],
          "contour": [
           {
            "colorbar": {
             "outlinewidth": 0,
             "ticks": ""
            },
            "colorscale": [
             [
              0,
              "#0d0887"
             ],
             [
              0.1111111111111111,
              "#46039f"
             ],
             [
              0.2222222222222222,
              "#7201a8"
             ],
             [
              0.3333333333333333,
              "#9c179e"
             ],
             [
              0.4444444444444444,
              "#bd3786"
             ],
             [
              0.5555555555555556,
              "#d8576b"
             ],
             [
              0.6666666666666666,
              "#ed7953"
             ],
             [
              0.7777777777777778,
              "#fb9f3a"
             ],
             [
              0.8888888888888888,
              "#fdca26"
             ],
             [
              1,
              "#f0f921"
             ]
            ],
            "type": "contour"
           }
          ],
          "contourcarpet": [
           {
            "colorbar": {
             "outlinewidth": 0,
             "ticks": ""
            },
            "type": "contourcarpet"
           }
          ],
          "heatmap": [
           {
            "colorbar": {
             "outlinewidth": 0,
             "ticks": ""
            },
            "colorscale": [
             [
              0,
              "#0d0887"
             ],
             [
              0.1111111111111111,
              "#46039f"
             ],
             [
              0.2222222222222222,
              "#7201a8"
             ],
             [
              0.3333333333333333,
              "#9c179e"
             ],
             [
              0.4444444444444444,
              "#bd3786"
             ],
             [
              0.5555555555555556,
              "#d8576b"
             ],
             [
              0.6666666666666666,
              "#ed7953"
             ],
             [
              0.7777777777777778,
              "#fb9f3a"
             ],
             [
              0.8888888888888888,
              "#fdca26"
             ],
             [
              1,
              "#f0f921"
             ]
            ],
            "type": "heatmap"
           }
          ],
          "heatmapgl": [
           {
            "colorbar": {
             "outlinewidth": 0,
             "ticks": ""
            },
            "colorscale": [
             [
              0,
              "#0d0887"
             ],
             [
              0.1111111111111111,
              "#46039f"
             ],
             [
              0.2222222222222222,
              "#7201a8"
             ],
             [
              0.3333333333333333,
              "#9c179e"
             ],
             [
              0.4444444444444444,
              "#bd3786"
             ],
             [
              0.5555555555555556,
              "#d8576b"
             ],
             [
              0.6666666666666666,
              "#ed7953"
             ],
             [
              0.7777777777777778,
              "#fb9f3a"
             ],
             [
              0.8888888888888888,
              "#fdca26"
             ],
             [
              1,
              "#f0f921"
             ]
            ],
            "type": "heatmapgl"
           }
          ],
          "histogram": [
           {
            "marker": {
             "pattern": {
              "fillmode": "overlay",
              "size": 10,
              "solidity": 0.2
             }
            },
            "type": "histogram"
           }
          ],
          "histogram2d": [
           {
            "colorbar": {
             "outlinewidth": 0,
             "ticks": ""
            },
            "colorscale": [
             [
              0,
              "#0d0887"
             ],
             [
              0.1111111111111111,
              "#46039f"
             ],
             [
              0.2222222222222222,
              "#7201a8"
             ],
             [
              0.3333333333333333,
              "#9c179e"
             ],
             [
              0.4444444444444444,
              "#bd3786"
             ],
             [
              0.5555555555555556,
              "#d8576b"
             ],
             [
              0.6666666666666666,
              "#ed7953"
             ],
             [
              0.7777777777777778,
              "#fb9f3a"
             ],
             [
              0.8888888888888888,
              "#fdca26"
             ],
             [
              1,
              "#f0f921"
             ]
            ],
            "type": "histogram2d"
           }
          ],
          "histogram2dcontour": [
           {
            "colorbar": {
             "outlinewidth": 0,
             "ticks": ""
            },
            "colorscale": [
             [
              0,
              "#0d0887"
             ],
             [
              0.1111111111111111,
              "#46039f"
             ],
             [
              0.2222222222222222,
              "#7201a8"
             ],
             [
              0.3333333333333333,
              "#9c179e"
             ],
             [
              0.4444444444444444,
              "#bd3786"
             ],
             [
              0.5555555555555556,
              "#d8576b"
             ],
             [
              0.6666666666666666,
              "#ed7953"
             ],
             [
              0.7777777777777778,
              "#fb9f3a"
             ],
             [
              0.8888888888888888,
              "#fdca26"
             ],
             [
              1,
              "#f0f921"
             ]
            ],
            "type": "histogram2dcontour"
           }
          ],
          "mesh3d": [
           {
            "colorbar": {
             "outlinewidth": 0,
             "ticks": ""
            },
            "type": "mesh3d"
           }
          ],
          "parcoords": [
           {
            "line": {
             "colorbar": {
              "outlinewidth": 0,
              "ticks": ""
             }
            },
            "type": "parcoords"
           }
          ],
          "pie": [
           {
            "automargin": true,
            "type": "pie"
           }
          ],
          "scatter": [
           {
            "fillpattern": {
             "fillmode": "overlay",
             "size": 10,
             "solidity": 0.2
            },
            "type": "scatter"
           }
          ],
          "scatter3d": [
           {
            "line": {
             "colorbar": {
              "outlinewidth": 0,
              "ticks": ""
             }
            },
            "marker": {
             "colorbar": {
              "outlinewidth": 0,
              "ticks": ""
             }
            },
            "type": "scatter3d"
           }
          ],
          "scattercarpet": [
           {
            "marker": {
             "colorbar": {
              "outlinewidth": 0,
              "ticks": ""
             }
            },
            "type": "scattercarpet"
           }
          ],
          "scattergeo": [
           {
            "marker": {
             "colorbar": {
              "outlinewidth": 0,
              "ticks": ""
             }
            },
            "type": "scattergeo"
           }
          ],
          "scattergl": [
           {
            "marker": {
             "colorbar": {
              "outlinewidth": 0,
              "ticks": ""
             }
            },
            "type": "scattergl"
           }
          ],
          "scattermapbox": [
           {
            "marker": {
             "colorbar": {
              "outlinewidth": 0,
              "ticks": ""
             }
            },
            "type": "scattermapbox"
           }
          ],
          "scatterpolar": [
           {
            "marker": {
             "colorbar": {
              "outlinewidth": 0,
              "ticks": ""
             }
            },
            "type": "scatterpolar"
           }
          ],
          "scatterpolargl": [
           {
            "marker": {
             "colorbar": {
              "outlinewidth": 0,
              "ticks": ""
             }
            },
            "type": "scatterpolargl"
           }
          ],
          "scatterternary": [
           {
            "marker": {
             "colorbar": {
              "outlinewidth": 0,
              "ticks": ""
             }
            },
            "type": "scatterternary"
           }
          ],
          "surface": [
           {
            "colorbar": {
             "outlinewidth": 0,
             "ticks": ""
            },
            "colorscale": [
             [
              0,
              "#0d0887"
             ],
             [
              0.1111111111111111,
              "#46039f"
             ],
             [
              0.2222222222222222,
              "#7201a8"
             ],
             [
              0.3333333333333333,
              "#9c179e"
             ],
             [
              0.4444444444444444,
              "#bd3786"
             ],
             [
              0.5555555555555556,
              "#d8576b"
             ],
             [
              0.6666666666666666,
              "#ed7953"
             ],
             [
              0.7777777777777778,
              "#fb9f3a"
             ],
             [
              0.8888888888888888,
              "#fdca26"
             ],
             [
              1,
              "#f0f921"
             ]
            ],
            "type": "surface"
           }
          ],
          "table": [
           {
            "cells": {
             "fill": {
              "color": "#EBF0F8"
             },
             "line": {
              "color": "white"
             }
            },
            "header": {
             "fill": {
              "color": "#C8D4E3"
             },
             "line": {
              "color": "white"
             }
            },
            "type": "table"
           }
          ]
         },
         "layout": {
          "annotationdefaults": {
           "arrowcolor": "#2a3f5f",
           "arrowhead": 0,
           "arrowwidth": 1
          },
          "autotypenumbers": "strict",
          "coloraxis": {
           "colorbar": {
            "outlinewidth": 0,
            "ticks": ""
           }
          },
          "colorscale": {
           "diverging": [
            [
             0,
             "#8e0152"
            ],
            [
             0.1,
             "#c51b7d"
            ],
            [
             0.2,
             "#de77ae"
            ],
            [
             0.3,
             "#f1b6da"
            ],
            [
             0.4,
             "#fde0ef"
            ],
            [
             0.5,
             "#f7f7f7"
            ],
            [
             0.6,
             "#e6f5d0"
            ],
            [
             0.7,
             "#b8e186"
            ],
            [
             0.8,
             "#7fbc41"
            ],
            [
             0.9,
             "#4d9221"
            ],
            [
             1,
             "#276419"
            ]
           ],
           "sequential": [
            [
             0,
             "#0d0887"
            ],
            [
             0.1111111111111111,
             "#46039f"
            ],
            [
             0.2222222222222222,
             "#7201a8"
            ],
            [
             0.3333333333333333,
             "#9c179e"
            ],
            [
             0.4444444444444444,
             "#bd3786"
            ],
            [
             0.5555555555555556,
             "#d8576b"
            ],
            [
             0.6666666666666666,
             "#ed7953"
            ],
            [
             0.7777777777777778,
             "#fb9f3a"
            ],
            [
             0.8888888888888888,
             "#fdca26"
            ],
            [
             1,
             "#f0f921"
            ]
           ],
           "sequentialminus": [
            [
             0,
             "#0d0887"
            ],
            [
             0.1111111111111111,
             "#46039f"
            ],
            [
             0.2222222222222222,
             "#7201a8"
            ],
            [
             0.3333333333333333,
             "#9c179e"
            ],
            [
             0.4444444444444444,
             "#bd3786"
            ],
            [
             0.5555555555555556,
             "#d8576b"
            ],
            [
             0.6666666666666666,
             "#ed7953"
            ],
            [
             0.7777777777777778,
             "#fb9f3a"
            ],
            [
             0.8888888888888888,
             "#fdca26"
            ],
            [
             1,
             "#f0f921"
            ]
           ]
          },
          "colorway": [
           "#636efa",
           "#EF553B",
           "#00cc96",
           "#ab63fa",
           "#FFA15A",
           "#19d3f3",
           "#FF6692",
           "#B6E880",
           "#FF97FF",
           "#FECB52"
          ],
          "font": {
           "color": "#2a3f5f"
          },
          "geo": {
           "bgcolor": "white",
           "lakecolor": "white",
           "landcolor": "#E5ECF6",
           "showlakes": true,
           "showland": true,
           "subunitcolor": "white"
          },
          "hoverlabel": {
           "align": "left"
          },
          "hovermode": "closest",
          "mapbox": {
           "style": "light"
          },
          "paper_bgcolor": "white",
          "plot_bgcolor": "#E5ECF6",
          "polar": {
           "angularaxis": {
            "gridcolor": "white",
            "linecolor": "white",
            "ticks": ""
           },
           "bgcolor": "#E5ECF6",
           "radialaxis": {
            "gridcolor": "white",
            "linecolor": "white",
            "ticks": ""
           }
          },
          "scene": {
           "xaxis": {
            "backgroundcolor": "#E5ECF6",
            "gridcolor": "white",
            "gridwidth": 2,
            "linecolor": "white",
            "showbackground": true,
            "ticks": "",
            "zerolinecolor": "white"
           },
           "yaxis": {
            "backgroundcolor": "#E5ECF6",
            "gridcolor": "white",
            "gridwidth": 2,
            "linecolor": "white",
            "showbackground": true,
            "ticks": "",
            "zerolinecolor": "white"
           },
           "zaxis": {
            "backgroundcolor": "#E5ECF6",
            "gridcolor": "white",
            "gridwidth": 2,
            "linecolor": "white",
            "showbackground": true,
            "ticks": "",
            "zerolinecolor": "white"
           }
          },
          "shapedefaults": {
           "line": {
            "color": "#2a3f5f"
           }
          },
          "ternary": {
           "aaxis": {
            "gridcolor": "white",
            "linecolor": "white",
            "ticks": ""
           },
           "baxis": {
            "gridcolor": "white",
            "linecolor": "white",
            "ticks": ""
           },
           "bgcolor": "#E5ECF6",
           "caxis": {
            "gridcolor": "white",
            "linecolor": "white",
            "ticks": ""
           }
          },
          "title": {
           "x": 0.05
          },
          "xaxis": {
           "automargin": true,
           "gridcolor": "white",
           "linecolor": "white",
           "ticks": "",
           "title": {
            "standoff": 15
           },
           "zerolinecolor": "white",
           "zerolinewidth": 2
          },
          "yaxis": {
           "automargin": true,
           "gridcolor": "white",
           "linecolor": "white",
           "ticks": "",
           "title": {
            "standoff": 15
           },
           "zerolinecolor": "white",
           "zerolinewidth": 2
          }
         }
        },
        "xaxis": {
         "anchor": "y",
         "domain": [
          0,
          1
         ],
         "title": {
          "text": "date"
         }
        },
        "yaxis": {
         "anchor": "x",
         "domain": [
          0,
          1
         ],
         "title": {
          "text": "daily_mean"
         }
        }
       }
      }
     },
     "metadata": {},
     "output_type": "display_data"
    },
    {
     "data": {
      "application/vnd.plotly.v1+json": {
       "config": {
        "plotlyServerURL": "https://plot.ly"
       },
       "data": [
        {
         "hovertemplate": "system_name=acropolis-3<br>date=%{x}<br>daily_median=%{y}<extra></extra>",
         "legendgroup": "acropolis-3",
         "marker": {
          "color": "#636efa",
          "symbol": "circle"
         },
         "mode": "markers",
         "name": "acropolis-3",
         "orientation": "v",
         "showlegend": true,
         "type": "scatter",
         "x": [
          "2025-02-17T00:00:00",
          "2025-03-01T00:00:00",
          "2025-02-28T00:00:00",
          "2025-02-25T00:00:00",
          "2025-02-24T00:00:00",
          "2025-02-18T00:00:00",
          "2025-02-23T00:00:00",
          "2025-02-19T00:00:00",
          "2025-03-02T00:00:00",
          "2025-02-21T00:00:00",
          "2025-02-22T00:00:00",
          "2025-02-26T00:00:00",
          "2025-02-27T00:00:00",
          "2025-03-03T00:00:00",
          "2025-02-20T00:00:00"
         ],
         "xaxis": "x",
         "y": [
          -0.014928136772582926,
          -0.8792180791334394,
          -0.4405799266821203,
          -0.1419441018179959,
          -0.3894606007676946,
          -0.2340530978625336,
          -0.18312931565494636,
          -0.3777084276924607,
          -1.0331043500679251,
          -0.2507280490555921,
          -0.26197505440788993,
          -0.21622248658842172,
          -0.40967557629914686,
          -1.2615636000041426,
          -0.40212922344646246
         ],
         "yaxis": "y"
        },
        {
         "hovertemplate": "system_name=acropolis-6<br>date=%{x}<br>daily_median=%{y}<extra></extra>",
         "legendgroup": "acropolis-6",
         "marker": {
          "color": "#EF553B",
          "symbol": "circle"
         },
         "mode": "markers",
         "name": "acropolis-6",
         "orientation": "v",
         "showlegend": true,
         "type": "scatter",
         "x": [
          "2025-02-21T00:00:00",
          "2025-02-18T00:00:00",
          "2025-02-26T00:00:00",
          "2025-02-28T00:00:00",
          "2025-02-24T00:00:00",
          "2025-02-27T00:00:00",
          "2025-03-01T00:00:00",
          "2025-02-25T00:00:00",
          "2025-02-19T00:00:00",
          "2025-02-22T00:00:00",
          "2025-03-02T00:00:00",
          "2025-02-23T00:00:00",
          "2025-03-03T00:00:00",
          "2025-02-20T00:00:00"
         ],
         "xaxis": "x",
         "y": [
          -0.06761279273048829,
          -0.9626857473290178,
          -1.355134461513872,
          -0.9020155402355973,
          -0.48734851239869764,
          -0.7049023680172968,
          -0.44714792546682536,
          -0.6876570201603575,
          -1.254047741309206,
          -0.403927840401906,
          -0.48618907281457313,
          0.08588022915925322,
          -0.4173189829134045,
          -0.42933117178541413
         ],
         "yaxis": "y"
        }
       ],
       "layout": {
        "legend": {
         "title": {
          "text": "system_name"
         },
         "tracegroupgap": 0
        },
        "margin": {
         "t": 60
        },
        "template": {
         "data": {
          "bar": [
           {
            "error_x": {
             "color": "#2a3f5f"
            },
            "error_y": {
             "color": "#2a3f5f"
            },
            "marker": {
             "line": {
              "color": "#E5ECF6",
              "width": 0.5
             },
             "pattern": {
              "fillmode": "overlay",
              "size": 10,
              "solidity": 0.2
             }
            },
            "type": "bar"
           }
          ],
          "barpolar": [
           {
            "marker": {
             "line": {
              "color": "#E5ECF6",
              "width": 0.5
             },
             "pattern": {
              "fillmode": "overlay",
              "size": 10,
              "solidity": 0.2
             }
            },
            "type": "barpolar"
           }
          ],
          "carpet": [
           {
            "aaxis": {
             "endlinecolor": "#2a3f5f",
             "gridcolor": "white",
             "linecolor": "white",
             "minorgridcolor": "white",
             "startlinecolor": "#2a3f5f"
            },
            "baxis": {
             "endlinecolor": "#2a3f5f",
             "gridcolor": "white",
             "linecolor": "white",
             "minorgridcolor": "white",
             "startlinecolor": "#2a3f5f"
            },
            "type": "carpet"
           }
          ],
          "choropleth": [
           {
            "colorbar": {
             "outlinewidth": 0,
             "ticks": ""
            },
            "type": "choropleth"
           }
          ],
          "contour": [
           {
            "colorbar": {
             "outlinewidth": 0,
             "ticks": ""
            },
            "colorscale": [
             [
              0,
              "#0d0887"
             ],
             [
              0.1111111111111111,
              "#46039f"
             ],
             [
              0.2222222222222222,
              "#7201a8"
             ],
             [
              0.3333333333333333,
              "#9c179e"
             ],
             [
              0.4444444444444444,
              "#bd3786"
             ],
             [
              0.5555555555555556,
              "#d8576b"
             ],
             [
              0.6666666666666666,
              "#ed7953"
             ],
             [
              0.7777777777777778,
              "#fb9f3a"
             ],
             [
              0.8888888888888888,
              "#fdca26"
             ],
             [
              1,
              "#f0f921"
             ]
            ],
            "type": "contour"
           }
          ],
          "contourcarpet": [
           {
            "colorbar": {
             "outlinewidth": 0,
             "ticks": ""
            },
            "type": "contourcarpet"
           }
          ],
          "heatmap": [
           {
            "colorbar": {
             "outlinewidth": 0,
             "ticks": ""
            },
            "colorscale": [
             [
              0,
              "#0d0887"
             ],
             [
              0.1111111111111111,
              "#46039f"
             ],
             [
              0.2222222222222222,
              "#7201a8"
             ],
             [
              0.3333333333333333,
              "#9c179e"
             ],
             [
              0.4444444444444444,
              "#bd3786"
             ],
             [
              0.5555555555555556,
              "#d8576b"
             ],
             [
              0.6666666666666666,
              "#ed7953"
             ],
             [
              0.7777777777777778,
              "#fb9f3a"
             ],
             [
              0.8888888888888888,
              "#fdca26"
             ],
             [
              1,
              "#f0f921"
             ]
            ],
            "type": "heatmap"
           }
          ],
          "heatmapgl": [
           {
            "colorbar": {
             "outlinewidth": 0,
             "ticks": ""
            },
            "colorscale": [
             [
              0,
              "#0d0887"
             ],
             [
              0.1111111111111111,
              "#46039f"
             ],
             [
              0.2222222222222222,
              "#7201a8"
             ],
             [
              0.3333333333333333,
              "#9c179e"
             ],
             [
              0.4444444444444444,
              "#bd3786"
             ],
             [
              0.5555555555555556,
              "#d8576b"
             ],
             [
              0.6666666666666666,
              "#ed7953"
             ],
             [
              0.7777777777777778,
              "#fb9f3a"
             ],
             [
              0.8888888888888888,
              "#fdca26"
             ],
             [
              1,
              "#f0f921"
             ]
            ],
            "type": "heatmapgl"
           }
          ],
          "histogram": [
           {
            "marker": {
             "pattern": {
              "fillmode": "overlay",
              "size": 10,
              "solidity": 0.2
             }
            },
            "type": "histogram"
           }
          ],
          "histogram2d": [
           {
            "colorbar": {
             "outlinewidth": 0,
             "ticks": ""
            },
            "colorscale": [
             [
              0,
              "#0d0887"
             ],
             [
              0.1111111111111111,
              "#46039f"
             ],
             [
              0.2222222222222222,
              "#7201a8"
             ],
             [
              0.3333333333333333,
              "#9c179e"
             ],
             [
              0.4444444444444444,
              "#bd3786"
             ],
             [
              0.5555555555555556,
              "#d8576b"
             ],
             [
              0.6666666666666666,
              "#ed7953"
             ],
             [
              0.7777777777777778,
              "#fb9f3a"
             ],
             [
              0.8888888888888888,
              "#fdca26"
             ],
             [
              1,
              "#f0f921"
             ]
            ],
            "type": "histogram2d"
           }
          ],
          "histogram2dcontour": [
           {
            "colorbar": {
             "outlinewidth": 0,
             "ticks": ""
            },
            "colorscale": [
             [
              0,
              "#0d0887"
             ],
             [
              0.1111111111111111,
              "#46039f"
             ],
             [
              0.2222222222222222,
              "#7201a8"
             ],
             [
              0.3333333333333333,
              "#9c179e"
             ],
             [
              0.4444444444444444,
              "#bd3786"
             ],
             [
              0.5555555555555556,
              "#d8576b"
             ],
             [
              0.6666666666666666,
              "#ed7953"
             ],
             [
              0.7777777777777778,
              "#fb9f3a"
             ],
             [
              0.8888888888888888,
              "#fdca26"
             ],
             [
              1,
              "#f0f921"
             ]
            ],
            "type": "histogram2dcontour"
           }
          ],
          "mesh3d": [
           {
            "colorbar": {
             "outlinewidth": 0,
             "ticks": ""
            },
            "type": "mesh3d"
           }
          ],
          "parcoords": [
           {
            "line": {
             "colorbar": {
              "outlinewidth": 0,
              "ticks": ""
             }
            },
            "type": "parcoords"
           }
          ],
          "pie": [
           {
            "automargin": true,
            "type": "pie"
           }
          ],
          "scatter": [
           {
            "fillpattern": {
             "fillmode": "overlay",
             "size": 10,
             "solidity": 0.2
            },
            "type": "scatter"
           }
          ],
          "scatter3d": [
           {
            "line": {
             "colorbar": {
              "outlinewidth": 0,
              "ticks": ""
             }
            },
            "marker": {
             "colorbar": {
              "outlinewidth": 0,
              "ticks": ""
             }
            },
            "type": "scatter3d"
           }
          ],
          "scattercarpet": [
           {
            "marker": {
             "colorbar": {
              "outlinewidth": 0,
              "ticks": ""
             }
            },
            "type": "scattercarpet"
           }
          ],
          "scattergeo": [
           {
            "marker": {
             "colorbar": {
              "outlinewidth": 0,
              "ticks": ""
             }
            },
            "type": "scattergeo"
           }
          ],
          "scattergl": [
           {
            "marker": {
             "colorbar": {
              "outlinewidth": 0,
              "ticks": ""
             }
            },
            "type": "scattergl"
           }
          ],
          "scattermapbox": [
           {
            "marker": {
             "colorbar": {
              "outlinewidth": 0,
              "ticks": ""
             }
            },
            "type": "scattermapbox"
           }
          ],
          "scatterpolar": [
           {
            "marker": {
             "colorbar": {
              "outlinewidth": 0,
              "ticks": ""
             }
            },
            "type": "scatterpolar"
           }
          ],
          "scatterpolargl": [
           {
            "marker": {
             "colorbar": {
              "outlinewidth": 0,
              "ticks": ""
             }
            },
            "type": "scatterpolargl"
           }
          ],
          "scatterternary": [
           {
            "marker": {
             "colorbar": {
              "outlinewidth": 0,
              "ticks": ""
             }
            },
            "type": "scatterternary"
           }
          ],
          "surface": [
           {
            "colorbar": {
             "outlinewidth": 0,
             "ticks": ""
            },
            "colorscale": [
             [
              0,
              "#0d0887"
             ],
             [
              0.1111111111111111,
              "#46039f"
             ],
             [
              0.2222222222222222,
              "#7201a8"
             ],
             [
              0.3333333333333333,
              "#9c179e"
             ],
             [
              0.4444444444444444,
              "#bd3786"
             ],
             [
              0.5555555555555556,
              "#d8576b"
             ],
             [
              0.6666666666666666,
              "#ed7953"
             ],
             [
              0.7777777777777778,
              "#fb9f3a"
             ],
             [
              0.8888888888888888,
              "#fdca26"
             ],
             [
              1,
              "#f0f921"
             ]
            ],
            "type": "surface"
           }
          ],
          "table": [
           {
            "cells": {
             "fill": {
              "color": "#EBF0F8"
             },
             "line": {
              "color": "white"
             }
            },
            "header": {
             "fill": {
              "color": "#C8D4E3"
             },
             "line": {
              "color": "white"
             }
            },
            "type": "table"
           }
          ]
         },
         "layout": {
          "annotationdefaults": {
           "arrowcolor": "#2a3f5f",
           "arrowhead": 0,
           "arrowwidth": 1
          },
          "autotypenumbers": "strict",
          "coloraxis": {
           "colorbar": {
            "outlinewidth": 0,
            "ticks": ""
           }
          },
          "colorscale": {
           "diverging": [
            [
             0,
             "#8e0152"
            ],
            [
             0.1,
             "#c51b7d"
            ],
            [
             0.2,
             "#de77ae"
            ],
            [
             0.3,
             "#f1b6da"
            ],
            [
             0.4,
             "#fde0ef"
            ],
            [
             0.5,
             "#f7f7f7"
            ],
            [
             0.6,
             "#e6f5d0"
            ],
            [
             0.7,
             "#b8e186"
            ],
            [
             0.8,
             "#7fbc41"
            ],
            [
             0.9,
             "#4d9221"
            ],
            [
             1,
             "#276419"
            ]
           ],
           "sequential": [
            [
             0,
             "#0d0887"
            ],
            [
             0.1111111111111111,
             "#46039f"
            ],
            [
             0.2222222222222222,
             "#7201a8"
            ],
            [
             0.3333333333333333,
             "#9c179e"
            ],
            [
             0.4444444444444444,
             "#bd3786"
            ],
            [
             0.5555555555555556,
             "#d8576b"
            ],
            [
             0.6666666666666666,
             "#ed7953"
            ],
            [
             0.7777777777777778,
             "#fb9f3a"
            ],
            [
             0.8888888888888888,
             "#fdca26"
            ],
            [
             1,
             "#f0f921"
            ]
           ],
           "sequentialminus": [
            [
             0,
             "#0d0887"
            ],
            [
             0.1111111111111111,
             "#46039f"
            ],
            [
             0.2222222222222222,
             "#7201a8"
            ],
            [
             0.3333333333333333,
             "#9c179e"
            ],
            [
             0.4444444444444444,
             "#bd3786"
            ],
            [
             0.5555555555555556,
             "#d8576b"
            ],
            [
             0.6666666666666666,
             "#ed7953"
            ],
            [
             0.7777777777777778,
             "#fb9f3a"
            ],
            [
             0.8888888888888888,
             "#fdca26"
            ],
            [
             1,
             "#f0f921"
            ]
           ]
          },
          "colorway": [
           "#636efa",
           "#EF553B",
           "#00cc96",
           "#ab63fa",
           "#FFA15A",
           "#19d3f3",
           "#FF6692",
           "#B6E880",
           "#FF97FF",
           "#FECB52"
          ],
          "font": {
           "color": "#2a3f5f"
          },
          "geo": {
           "bgcolor": "white",
           "lakecolor": "white",
           "landcolor": "#E5ECF6",
           "showlakes": true,
           "showland": true,
           "subunitcolor": "white"
          },
          "hoverlabel": {
           "align": "left"
          },
          "hovermode": "closest",
          "mapbox": {
           "style": "light"
          },
          "paper_bgcolor": "white",
          "plot_bgcolor": "#E5ECF6",
          "polar": {
           "angularaxis": {
            "gridcolor": "white",
            "linecolor": "white",
            "ticks": ""
           },
           "bgcolor": "#E5ECF6",
           "radialaxis": {
            "gridcolor": "white",
            "linecolor": "white",
            "ticks": ""
           }
          },
          "scene": {
           "xaxis": {
            "backgroundcolor": "#E5ECF6",
            "gridcolor": "white",
            "gridwidth": 2,
            "linecolor": "white",
            "showbackground": true,
            "ticks": "",
            "zerolinecolor": "white"
           },
           "yaxis": {
            "backgroundcolor": "#E5ECF6",
            "gridcolor": "white",
            "gridwidth": 2,
            "linecolor": "white",
            "showbackground": true,
            "ticks": "",
            "zerolinecolor": "white"
           },
           "zaxis": {
            "backgroundcolor": "#E5ECF6",
            "gridcolor": "white",
            "gridwidth": 2,
            "linecolor": "white",
            "showbackground": true,
            "ticks": "",
            "zerolinecolor": "white"
           }
          },
          "shapedefaults": {
           "line": {
            "color": "#2a3f5f"
           }
          },
          "ternary": {
           "aaxis": {
            "gridcolor": "white",
            "linecolor": "white",
            "ticks": ""
           },
           "baxis": {
            "gridcolor": "white",
            "linecolor": "white",
            "ticks": ""
           },
           "bgcolor": "#E5ECF6",
           "caxis": {
            "gridcolor": "white",
            "linecolor": "white",
            "ticks": ""
           }
          },
          "title": {
           "x": 0.05
          },
          "xaxis": {
           "automargin": true,
           "gridcolor": "white",
           "linecolor": "white",
           "ticks": "",
           "title": {
            "standoff": 15
           },
           "zerolinecolor": "white",
           "zerolinewidth": 2
          },
          "yaxis": {
           "automargin": true,
           "gridcolor": "white",
           "linecolor": "white",
           "ticks": "",
           "title": {
            "standoff": 15
           },
           "zerolinecolor": "white",
           "zerolinewidth": 2
          }
         }
        },
        "xaxis": {
         "anchor": "y",
         "domain": [
          0,
          1
         ],
         "title": {
          "text": "date"
         }
        },
        "yaxis": {
         "anchor": "x",
         "domain": [
          0,
          1
         ],
         "title": {
          "text": "daily_median"
         }
        }
       }
      }
     },
     "metadata": {},
     "output_type": "display_data"
    }
   ],
   "source": [
    "df_daily_mean = df.sort(\"datetime\") \\\n",
    "    .with_columns(pl.col(\"datetime\").dt.date().alias(\"date\")) \\\n",
    "    .group_by([\"date\", \"system_name\", \"system_id\"]) \\\n",
    "    .agg([\n",
    "        (pl.col(\"diff\").mean()).alias(\"daily_mean\"),\n",
    "        (pl.col(\"diff\").median()).alias(\"daily_median\")\n",
    "        ]) \\\n",
    "    .sort(\"system_id\")\n",
    "    \n",
    "fig = px.scatter(df_daily_mean, x=\"date\", y=\"daily_mean\", color = \"system_name\")\n",
    "fig.show()\n",
    "fig = px.scatter(df_daily_mean, x=\"date\", y=\"daily_median\", color = \"system_name\")\n",
    "fig.show()"
   ]
  },
  {
   "cell_type": "code",
   "execution_count": 7,
   "metadata": {},
   "outputs": [
    {
     "data": {
      "application/vnd.plotly.v1+json": {
       "config": {
        "plotlyServerURL": "https://plot.ly"
       },
       "data": [
        {
         "hovertemplate": "system_name=acropolis-3<br>datetime=%{x}<br>diff=%{y}<extra></extra>",
         "legendgroup": "acropolis-3",
         "marker": {
          "color": "#636efa",
          "symbol": "circle"
         },
         "mode": "markers",
         "name": "acropolis-3",
         "orientation": "v",
         "showlegend": true,
         "type": "scatter",
         "x": [
          "2025-02-17T15:00:00",
          "2025-02-17T16:00:00",
          "2025-02-17T17:00:00",
          "2025-02-17T18:00:00",
          "2025-02-17T19:00:00",
          "2025-02-17T20:00:00",
          "2025-02-17T21:00:00",
          "2025-02-17T22:00:00",
          "2025-02-17T23:00:00",
          "2025-02-18T00:00:00",
          "2025-02-18T01:00:00",
          "2025-02-18T02:00:00",
          "2025-02-18T03:00:00",
          "2025-02-18T04:00:00",
          "2025-02-18T05:00:00",
          "2025-02-18T06:00:00",
          "2025-02-18T07:00:00",
          "2025-02-18T08:00:00",
          "2025-02-18T09:00:00",
          "2025-02-18T10:00:00",
          "2025-02-18T11:00:00",
          "2025-02-18T12:00:00",
          "2025-02-18T13:00:00",
          "2025-02-18T14:00:00",
          "2025-02-18T15:00:00",
          "2025-02-18T16:00:00",
          "2025-02-18T17:00:00",
          "2025-02-18T18:00:00",
          "2025-02-18T19:00:00",
          "2025-02-18T20:00:00",
          "2025-02-18T21:00:00",
          "2025-02-18T22:00:00",
          "2025-02-18T23:00:00",
          "2025-02-19T00:00:00",
          "2025-02-19T01:00:00",
          "2025-02-19T02:00:00",
          "2025-02-19T03:00:00",
          "2025-02-19T04:00:00",
          "2025-02-19T05:00:00",
          "2025-02-19T06:00:00",
          "2025-02-19T07:00:00",
          "2025-02-19T08:00:00",
          "2025-02-19T09:00:00",
          "2025-02-19T10:00:00",
          "2025-02-19T11:00:00",
          "2025-02-19T12:00:00",
          "2025-02-19T13:00:00",
          "2025-02-19T14:00:00",
          "2025-02-19T15:00:00",
          "2025-02-19T16:00:00",
          "2025-02-19T17:00:00",
          "2025-02-19T18:00:00",
          "2025-02-19T19:00:00",
          "2025-02-19T20:00:00",
          "2025-02-19T21:00:00",
          "2025-02-19T22:00:00",
          "2025-02-19T23:00:00",
          "2025-02-20T00:00:00",
          "2025-02-20T01:00:00",
          "2025-02-20T02:00:00",
          "2025-02-20T03:00:00",
          "2025-02-20T04:00:00",
          "2025-02-20T05:00:00",
          "2025-02-20T06:00:00",
          "2025-02-20T07:00:00",
          "2025-02-20T08:00:00",
          "2025-02-20T09:00:00",
          "2025-02-20T10:00:00",
          "2025-02-20T11:00:00",
          "2025-02-20T12:00:00",
          "2025-02-20T13:00:00",
          "2025-02-20T14:00:00",
          "2025-02-20T15:00:00",
          "2025-02-20T16:00:00",
          "2025-02-20T17:00:00",
          "2025-02-20T18:00:00",
          "2025-02-20T19:00:00",
          "2025-02-20T20:00:00",
          "2025-02-20T21:00:00",
          "2025-02-20T22:00:00",
          "2025-02-20T23:00:00",
          "2025-02-21T00:00:00",
          "2025-02-21T01:00:00",
          "2025-02-21T02:00:00",
          "2025-02-21T03:00:00",
          "2025-02-21T04:00:00",
          "2025-02-21T05:00:00",
          "2025-02-21T06:00:00",
          "2025-02-21T07:00:00",
          "2025-02-21T08:00:00",
          "2025-02-21T09:00:00",
          "2025-02-21T10:00:00",
          "2025-02-21T11:00:00",
          "2025-02-21T12:00:00",
          "2025-02-21T13:00:00",
          "2025-02-21T14:00:00",
          "2025-02-21T15:00:00",
          "2025-02-21T16:00:00",
          "2025-02-21T17:00:00",
          "2025-02-21T18:00:00",
          "2025-02-21T19:00:00",
          "2025-02-21T20:00:00",
          "2025-02-21T21:00:00",
          "2025-02-21T22:00:00",
          "2025-02-21T23:00:00",
          "2025-02-22T00:00:00",
          "2025-02-22T01:00:00",
          "2025-02-22T02:00:00",
          "2025-02-22T03:00:00",
          "2025-02-22T04:00:00",
          "2025-02-22T05:00:00",
          "2025-02-22T06:00:00",
          "2025-02-22T07:00:00",
          "2025-02-22T08:00:00",
          "2025-02-22T09:00:00",
          "2025-02-22T10:00:00",
          "2025-02-22T11:00:00",
          "2025-02-22T12:00:00",
          "2025-02-22T13:00:00",
          "2025-02-22T14:00:00",
          "2025-02-22T15:00:00",
          "2025-02-22T16:00:00",
          "2025-02-22T17:00:00",
          "2025-02-22T18:00:00",
          "2025-02-22T19:00:00",
          "2025-02-22T20:00:00",
          "2025-02-22T21:00:00",
          "2025-02-22T22:00:00",
          "2025-02-22T23:00:00",
          "2025-02-23T00:00:00",
          "2025-02-23T01:00:00",
          "2025-02-23T02:00:00",
          "2025-02-23T03:00:00",
          "2025-02-23T04:00:00",
          "2025-02-23T05:00:00",
          "2025-02-23T06:00:00",
          "2025-02-23T07:00:00",
          "2025-02-23T08:00:00",
          "2025-02-23T09:00:00",
          "2025-02-23T10:00:00",
          "2025-02-23T11:00:00",
          "2025-02-23T12:00:00",
          "2025-02-23T13:00:00",
          "2025-02-23T14:00:00",
          "2025-02-23T15:00:00",
          "2025-02-23T16:00:00",
          "2025-02-23T17:00:00",
          "2025-02-23T18:00:00",
          "2025-02-23T19:00:00",
          "2025-02-23T20:00:00",
          "2025-02-23T21:00:00",
          "2025-02-23T22:00:00",
          "2025-02-23T23:00:00",
          "2025-02-24T00:00:00",
          "2025-02-24T01:00:00",
          "2025-02-24T02:00:00",
          "2025-02-24T03:00:00",
          "2025-02-24T04:00:00",
          "2025-02-24T05:00:00",
          "2025-02-24T06:00:00",
          "2025-02-24T07:00:00",
          "2025-02-24T08:00:00",
          "2025-02-24T14:00:00",
          "2025-02-24T15:00:00",
          "2025-02-24T16:00:00",
          "2025-02-24T17:00:00",
          "2025-02-24T18:00:00",
          "2025-02-24T19:00:00",
          "2025-02-24T20:00:00",
          "2025-02-24T21:00:00",
          "2025-02-24T22:00:00",
          "2025-02-24T23:00:00",
          "2025-02-25T00:00:00",
          "2025-02-25T01:00:00",
          "2025-02-25T02:00:00",
          "2025-02-25T03:00:00",
          "2025-02-25T04:00:00",
          "2025-02-25T05:00:00",
          "2025-02-25T06:00:00",
          "2025-02-25T07:00:00",
          "2025-02-25T08:00:00",
          "2025-02-25T09:00:00",
          "2025-02-25T10:00:00",
          "2025-02-25T11:00:00",
          "2025-02-25T12:00:00",
          "2025-02-25T13:00:00",
          "2025-02-25T14:00:00",
          "2025-02-25T15:00:00",
          "2025-02-25T16:00:00",
          "2025-02-25T17:00:00",
          "2025-02-25T18:00:00",
          "2025-02-25T19:00:00",
          "2025-02-25T20:00:00",
          "2025-02-25T21:00:00",
          "2025-02-25T22:00:00",
          "2025-02-25T23:00:00",
          "2025-02-26T00:00:00",
          "2025-02-26T01:00:00",
          "2025-02-26T02:00:00",
          "2025-02-26T03:00:00",
          "2025-02-26T04:00:00",
          "2025-02-26T05:00:00",
          "2025-02-26T06:00:00",
          "2025-02-26T07:00:00",
          "2025-02-26T08:00:00",
          "2025-02-26T09:00:00",
          "2025-02-26T10:00:00",
          "2025-02-26T11:00:00",
          "2025-02-26T12:00:00",
          "2025-02-26T13:00:00",
          "2025-02-26T14:00:00",
          "2025-02-26T15:00:00",
          "2025-02-26T16:00:00",
          "2025-02-26T17:00:00",
          "2025-02-26T18:00:00",
          "2025-02-26T19:00:00",
          "2025-02-26T20:00:00",
          "2025-02-26T21:00:00",
          "2025-02-26T22:00:00",
          "2025-02-26T23:00:00",
          "2025-02-27T00:00:00",
          "2025-02-27T01:00:00",
          "2025-02-27T02:00:00",
          "2025-02-27T03:00:00",
          "2025-02-27T04:00:00",
          "2025-02-27T05:00:00",
          "2025-02-27T06:00:00",
          "2025-02-27T07:00:00",
          "2025-02-27T08:00:00",
          "2025-02-27T09:00:00",
          "2025-02-27T10:00:00",
          "2025-02-27T11:00:00",
          "2025-02-27T12:00:00",
          "2025-02-27T13:00:00",
          "2025-02-27T14:00:00",
          "2025-02-27T15:00:00",
          "2025-02-27T16:00:00",
          "2025-02-27T17:00:00",
          "2025-02-27T18:00:00",
          "2025-02-27T19:00:00",
          "2025-02-27T20:00:00",
          "2025-02-27T21:00:00",
          "2025-02-27T22:00:00",
          "2025-02-27T23:00:00",
          "2025-02-28T00:00:00",
          "2025-02-28T01:00:00",
          "2025-02-28T02:00:00",
          "2025-02-28T03:00:00",
          "2025-02-28T04:00:00",
          "2025-02-28T05:00:00",
          "2025-02-28T06:00:00",
          "2025-02-28T07:00:00",
          "2025-02-28T08:00:00",
          "2025-02-28T09:00:00",
          "2025-02-28T10:00:00",
          "2025-02-28T11:00:00",
          "2025-02-28T12:00:00",
          "2025-02-28T13:00:00",
          "2025-02-28T14:00:00",
          "2025-02-28T15:00:00",
          "2025-02-28T16:00:00",
          "2025-02-28T17:00:00",
          "2025-02-28T18:00:00",
          "2025-02-28T19:00:00",
          "2025-02-28T20:00:00",
          "2025-02-28T21:00:00",
          "2025-02-28T22:00:00",
          "2025-02-28T23:00:00",
          "2025-03-01T00:00:00",
          "2025-03-01T01:00:00",
          "2025-03-01T02:00:00",
          "2025-03-01T03:00:00",
          "2025-03-01T04:00:00",
          "2025-03-01T05:00:00",
          "2025-03-01T06:00:00",
          "2025-03-01T07:00:00",
          "2025-03-01T08:00:00",
          "2025-03-01T09:00:00",
          "2025-03-01T10:00:00",
          "2025-03-01T11:00:00",
          "2025-03-01T12:00:00",
          "2025-03-01T13:00:00",
          "2025-03-01T14:00:00",
          "2025-03-01T15:00:00",
          "2025-03-01T16:00:00",
          "2025-03-01T17:00:00",
          "2025-03-01T18:00:00",
          "2025-03-01T19:00:00",
          "2025-03-01T20:00:00",
          "2025-03-01T21:00:00",
          "2025-03-01T22:00:00",
          "2025-03-01T23:00:00",
          "2025-03-02T00:00:00",
          "2025-03-02T01:00:00",
          "2025-03-02T02:00:00",
          "2025-03-02T03:00:00",
          "2025-03-02T04:00:00",
          "2025-03-02T05:00:00",
          "2025-03-02T06:00:00",
          "2025-03-02T07:00:00",
          "2025-03-02T08:00:00",
          "2025-03-02T09:00:00",
          "2025-03-02T10:00:00",
          "2025-03-02T11:00:00",
          "2025-03-02T12:00:00",
          "2025-03-02T13:00:00",
          "2025-03-02T14:00:00",
          "2025-03-02T15:00:00",
          "2025-03-02T16:00:00",
          "2025-03-02T17:00:00",
          "2025-03-02T18:00:00",
          "2025-03-02T19:00:00",
          "2025-03-02T20:00:00",
          "2025-03-02T21:00:00",
          "2025-03-02T22:00:00",
          "2025-03-02T23:00:00",
          "2025-03-03T00:00:00",
          "2025-03-03T01:00:00",
          "2025-03-03T02:00:00",
          "2025-03-03T03:00:00",
          "2025-03-03T04:00:00",
          "2025-03-03T05:00:00",
          "2025-03-03T06:00:00",
          "2025-03-03T07:00:00",
          "2025-03-03T08:00:00",
          "2025-03-03T09:00:00",
          "2025-03-03T10:00:00",
          "2025-03-03T11:00:00",
          "2025-03-03T12:00:00",
          "2025-03-03T13:00:00",
          "2025-03-03T14:00:00",
          "2025-03-03T15:00:00"
         ],
         "xaxis": "x",
         "y": [
          0.0777491679163797,
          0.21761609817242658,
          -0.10091666536213542,
          -0.014928136772582926,
          -0.05007346787020026,
          0.03707898888720488,
          -0.20187277065668732,
          -0.11562604643408794,
          0.11515546534583715,
          -0.1748133982533318,
          -0.18674346537314315,
          -0.11992935062739715,
          -0.15243320724705994,
          -0.29301864835319125,
          -0.670904147333356,
          -0.5122452682133495,
          -0.17379954261906125,
          -0.36266204791678786,
          -0.2742034367690754,
          -0.4388997529743926,
          -0.23140998818932226,
          -0.31596229986468954,
          -0.390113765168971,
          -0.1164581650559768,
          -0.15421972858266836,
          -0.20471290528450178,
          -0.3727867138982544,
          -0.2366962075357449,
          -0.08423566629816102,
          -0.2530284769614288,
          -0.12690153105716082,
          -0.20924945854295912,
          -0.3573654758553497,
          -0.20470319858906738,
          -0.20193384876653983,
          -1.1240553024313413,
          -0.29049365177100506,
          -0.3529007234787561,
          -0.39120117680575484,
          -0.3177193360427315,
          -0.36421567857916654,
          -0.2518649451107303,
          -0.28389038002865113,
          -0.42171356297642465,
          -0.1584586265290258,
          -0.23511243349848834,
          -0.5542877415161598,
          -0.44260824481092864,
          -0.3009996353053722,
          -0.1150574809300764,
          -0.40310197740259335,
          -0.5280085117170207,
          -0.4421135995148916,
          -0.5762813936678248,
          -0.7670017950755346,
          -0.679404872314926,
          -0.9912114615332396,
          -0.356486181742846,
          -1.0820826077698815,
          -0.5137394951117964,
          -0.6050164615608182,
          -0.3813105169428615,
          -1.152315040899824,
          -0.5011927354578243,
          -1.202496244013063,
          -1.114768170480507,
          -1.2988130046953452,
          -0.8452310271288127,
          -0.0901485538633049,
          0.33631565303015093,
          0.6834222102077244,
          0.08452940995373487,
          -0.13051436630443097,
          -0.28595500882094677,
          -0.22823980933346869,
          -0.5410357943239897,
          -0.4060885465964262,
          -0.38354269774770083,
          -0.43816342940670744,
          -0.39816990029649874,
          -0.09203051241612314,
          -0.49748879767097376,
          -0.2315152410643421,
          -1.4080456506705479,
          -0.48936592321987576,
          -0.2399870740798292,
          -0.3669249354526727,
          -0.43909057138474167,
          -0.3484550381919386,
          -0.26146902403135497,
          0.13778931489983914,
          -0.14181955254651893,
          -0.042517080303197,
          -0.3789733736129891,
          -0.1443321885306484,
          0.17568110143868884,
          -0.00954793358187942,
          -0.3940407494564224,
          -0.08708091495845593,
          -0.2753828537552067,
          0.18317893862737503,
          -0.26306715331390035,
          -0.19205920103323612,
          -0.4983104529468553,
          -0.11387194309488156,
          0.10765280962175297,
          -0.14674652080761963,
          -0.41496945455359174,
          -0.289114006720745,
          -0.2702810719722478,
          -0.3441677959285125,
          -0.7403209687823765,
          -0.036414476695430645,
          -0.7432027355032489,
          -0.2536690368435321,
          -0.18024817293739312,
          -0.0690782496609477,
          -0.15767845866183686,
          0.2019922460317313,
          0.10045616276466045,
          0.13364685100036933,
          -0.1876148698139507,
          -0.6658013911827794,
          -0.5754457398762346,
          -0.13429712024686752,
          -0.8965253304353065,
          -0.4680427903205441,
          -0.37963703096664386,
          -0.9903140875965856,
          -0.4310838728151528,
          -0.15296326249564107,
          -1.3306079315313901,
          -0.18361097873923454,
          -0.2607761174368851,
          -0.22300969026768486,
          0.21804706317051972,
          -0.1918125966408269,
          -0.5857150989640354,
          0.016803744955181325,
          -0.14452540330593705,
          -0.5152849319415495,
          -0.0881628495954871,
          -0.08020816098119496,
          -0.12533344052794382,
          0.0019129753837882882,
          0.06779464844255093,
          -0.081177083294178,
          -0.2070286090399809,
          -0.14603606990566978,
          -0.3863563457362678,
          -0.18264765257065818,
          -0.6011696647009354,
          -0.5990154527691838,
          -0.25646138723395306,
          -0.3894606007676946,
          -0.30697449341755695,
          -0.5850077391479582,
          -0.44528319068083183,
          -0.44261723042460327,
          -0.6407507647387282,
          -0.4825277613672194,
          -0.7124312214739476,
          0.6758397980867215,
          0.245007388033486,
          0.45220165819954966,
          0.18098383623438347,
          0.03443886523604078,
          0.1005333236140558,
          -0.7440724814535031,
          -0.5979366187476867,
          -0.6691330164078229,
          -0.26003377991955906,
          -0.1285598524312216,
          -0.09062443000833914,
          -0.6670618437718805,
          -0.06704773901672449,
          -0.2583009511015078,
          -0.396273033514355,
          -0.3910747128724364,
          -0.7375551412658488,
          0.0689931421222307,
          -0.2782493060458317,
          -0.08841190478316131,
          -0.4641725419532458,
          0.06391933622844542,
          -0.10368896456343733,
          0.04751106328934469,
          0.19892755978747753,
          -0.18781851267653316,
          -0.15532835120477023,
          -0.08429793846550761,
          -0.42698540680302577,
          0.06960133771184758,
          -0.24023442749184387,
          -0.1944613906851212,
          0.2619811994276063,
          0.056863172675079454,
          0.25287090084887753,
          0.2039553203168386,
          -0.14882876505775613,
          0.05271995444912302,
          -0.13186459730130243,
          -0.3704162043410841,
          -0.14651379067294196,
          -0.19057194075090772,
          -0.07338550199673269,
          -0.22249635158624745,
          -0.3272247520307199,
          -0.430869579131713,
          -0.30549263964785583,
          -0.47622224332007995,
          -0.2924364280330015,
          -0.2550740764229497,
          -0.07227500227978681,
          -0.209948621590596,
          -0.5259131504131976,
          -0.31987653949475664,
          -0.12318148820514949,
          -0.26081385235170224,
          -0.46381907540421274,
          -0.1600818546925647,
          0.09138051467798078,
          -1.1879310002994066,
          -0.11530333521393364,
          -0.5757552041635032,
          -0.43394628653160133,
          -0.2511552071160835,
          -0.6853292855126923,
          -0.39672823823320014,
          -0.23164680506171095,
          -0.43531597966296165,
          -0.30621009832173535,
          -0.4782631298243255,
          -0.3163840380659233,
          -0.5264375023313761,
          -0.3161514706645804,
          -0.16292174262146092,
          -0.16976324478521054,
          -0.6126152607622212,
          -0.4226229143650935,
          -0.35608734359376937,
          -0.6804034796579017,
          -0.544052001457267,
          -0.5301583167784658,
          -0.48558675655408334,
          -0.6316532943777162,
          -0.7330846762353957,
          -0.7460826693797229,
          -0.8430263183997289,
          -0.3851391925665766,
          -0.43549825969753425,
          -0.4456615936667063,
          -0.5579851069300257,
          -1.046698532606177,
          -0.4765180649071198,
          -0.951280410331567,
          -0.08578678009025073,
          -0.35397761414432194,
          -0.09845456860664446,
          0.16833798791763524,
          0.157030893065019,
          0.25218409666625374,
          -0.005807952182598797,
          -0.40002157254407916,
          -0.4182580445445822,
          -0.3874213857890993,
          -0.7613655535223195,
          -0.6955575601457336,
          -0.9646148365160997,
          -0.7680800237797774,
          -0.8683382005248467,
          -0.7253755781082115,
          -0.9622380334272701,
          -0.6916872267773305,
          -0.49991751614527163,
          -0.9936988219904492,
          -1.0508074924609305,
          -0.875531351587864,
          -0.57694536351346,
          -0.9033806080385531,
          -0.8829048066790147,
          -0.8674243219049785,
          -0.7870335766222974,
          -0.9447004963079432,
          -1.0967385593435397,
          -0.9148868012802337,
          -0.885543191271778,
          -0.8434393102440206,
          -0.9592708809813004,
          -0.7958084981599749,
          -0.6680466699031788,
          -1.118422668550333,
          -0.8946384170826122,
          -0.7795483733574187,
          -1.0552762992960187,
          -1.1942482969296895,
          -1.33855304220144,
          -1.2129071503307647,
          -1.0939938749219351,
          -1.3643471677242893,
          -1.0328472388535894,
          -1.128374983731556,
          -1.1038984659729953,
          -1.161604923796733,
          -0.9760435252103719,
          -0.9254003119431483,
          -0.7469857665580676,
          -0.94759910716456,
          -0.9405629898159896,
          -0.8117973962790008,
          -1.0333614612822606,
          -1.0231321656036816,
          -0.9647517973099198,
          -0.98018104406684,
          -1.1063069044000575,
          -1.1090536487532114,
          -1.040045138109844,
          -0.8901289227393089,
          -2.012998459780516,
          -1.384317243257612,
          -1.1742966379390702,
          -1.2598981854953366,
          -1.2948730412451217,
          -1.351330895699921,
          -1.3378370227201393,
          -1.2065367896882142,
          -1.2632290145129483,
          -1.533957611574679,
          -0.8427193818060446,
          -0.8064761227500417,
          -1.3159707917074632,
          -1.0144751404338632
         ],
         "yaxis": "y"
        },
        {
         "hovertemplate": "system_name=acropolis-6<br>datetime=%{x}<br>diff=%{y}<extra></extra>",
         "legendgroup": "acropolis-6",
         "marker": {
          "color": "#EF553B",
          "symbol": "circle"
         },
         "mode": "markers",
         "name": "acropolis-6",
         "orientation": "v",
         "showlegend": true,
         "type": "scatter",
         "x": [
          "2025-02-18T00:00:00",
          "2025-02-18T01:00:00",
          "2025-02-18T02:00:00",
          "2025-02-18T03:00:00",
          "2025-02-18T04:00:00",
          "2025-02-18T05:00:00",
          "2025-02-18T06:00:00",
          "2025-02-18T07:00:00",
          "2025-02-18T08:00:00",
          "2025-02-18T09:00:00",
          "2025-02-18T10:00:00",
          "2025-02-18T11:00:00",
          "2025-02-18T12:00:00",
          "2025-02-18T13:00:00",
          "2025-02-18T14:00:00",
          "2025-02-18T15:00:00",
          "2025-02-18T16:00:00",
          "2025-02-18T17:00:00",
          "2025-02-18T18:00:00",
          "2025-02-18T19:00:00",
          "2025-02-18T20:00:00",
          "2025-02-18T21:00:00",
          "2025-02-18T22:00:00",
          "2025-02-18T23:00:00",
          "2025-02-19T00:00:00",
          "2025-02-19T01:00:00",
          "2025-02-19T02:00:00",
          "2025-02-19T03:00:00",
          "2025-02-19T04:00:00",
          "2025-02-19T05:00:00",
          "2025-02-19T06:00:00",
          "2025-02-19T07:00:00",
          "2025-02-19T08:00:00",
          "2025-02-19T09:00:00",
          "2025-02-19T10:00:00",
          "2025-02-19T11:00:00",
          "2025-02-19T12:00:00",
          "2025-02-19T13:00:00",
          "2025-02-19T14:00:00",
          "2025-02-19T15:00:00",
          "2025-02-19T16:00:00",
          "2025-02-19T17:00:00",
          "2025-02-19T18:00:00",
          "2025-02-19T19:00:00",
          "2025-02-19T20:00:00",
          "2025-02-19T21:00:00",
          "2025-02-19T22:00:00",
          "2025-02-19T23:00:00",
          "2025-02-20T00:00:00",
          "2025-02-20T01:00:00",
          "2025-02-20T02:00:00",
          "2025-02-20T03:00:00",
          "2025-02-20T04:00:00",
          "2025-02-20T05:00:00",
          "2025-02-20T06:00:00",
          "2025-02-20T07:00:00",
          "2025-02-20T08:00:00",
          "2025-02-20T09:00:00",
          "2025-02-20T10:00:00",
          "2025-02-20T11:00:00",
          "2025-02-20T12:00:00",
          "2025-02-20T13:00:00",
          "2025-02-20T14:00:00",
          "2025-02-20T15:00:00",
          "2025-02-20T16:00:00",
          "2025-02-20T17:00:00",
          "2025-02-20T18:00:00",
          "2025-02-20T19:00:00",
          "2025-02-20T20:00:00",
          "2025-02-20T21:00:00",
          "2025-02-20T22:00:00",
          "2025-02-20T23:00:00",
          "2025-02-21T00:00:00",
          "2025-02-21T01:00:00",
          "2025-02-21T02:00:00",
          "2025-02-21T03:00:00",
          "2025-02-21T04:00:00",
          "2025-02-21T05:00:00",
          "2025-02-21T06:00:00",
          "2025-02-21T07:00:00",
          "2025-02-21T08:00:00",
          "2025-02-21T09:00:00",
          "2025-02-21T10:00:00",
          "2025-02-21T11:00:00",
          "2025-02-21T12:00:00",
          "2025-02-21T13:00:00",
          "2025-02-21T14:00:00",
          "2025-02-21T15:00:00",
          "2025-02-21T16:00:00",
          "2025-02-21T17:00:00",
          "2025-02-21T18:00:00",
          "2025-02-21T19:00:00",
          "2025-02-21T20:00:00",
          "2025-02-21T21:00:00",
          "2025-02-21T22:00:00",
          "2025-02-21T23:00:00",
          "2025-02-22T00:00:00",
          "2025-02-22T01:00:00",
          "2025-02-22T02:00:00",
          "2025-02-22T03:00:00",
          "2025-02-22T04:00:00",
          "2025-02-22T05:00:00",
          "2025-02-22T06:00:00",
          "2025-02-22T07:00:00",
          "2025-02-22T08:00:00",
          "2025-02-22T09:00:00",
          "2025-02-22T10:00:00",
          "2025-02-22T11:00:00",
          "2025-02-22T12:00:00",
          "2025-02-22T13:00:00",
          "2025-02-22T14:00:00",
          "2025-02-22T15:00:00",
          "2025-02-22T16:00:00",
          "2025-02-22T17:00:00",
          "2025-02-22T18:00:00",
          "2025-02-22T19:00:00",
          "2025-02-22T20:00:00",
          "2025-02-22T21:00:00",
          "2025-02-22T22:00:00",
          "2025-02-22T23:00:00",
          "2025-02-23T00:00:00",
          "2025-02-23T01:00:00",
          "2025-02-23T02:00:00",
          "2025-02-23T03:00:00",
          "2025-02-23T04:00:00",
          "2025-02-23T05:00:00",
          "2025-02-23T06:00:00",
          "2025-02-23T07:00:00",
          "2025-02-23T08:00:00",
          "2025-02-23T09:00:00",
          "2025-02-23T10:00:00",
          "2025-02-23T11:00:00",
          "2025-02-23T12:00:00",
          "2025-02-23T13:00:00",
          "2025-02-23T14:00:00",
          "2025-02-23T15:00:00",
          "2025-02-23T16:00:00",
          "2025-02-23T17:00:00",
          "2025-02-23T18:00:00",
          "2025-02-23T19:00:00",
          "2025-02-23T20:00:00",
          "2025-02-23T21:00:00",
          "2025-02-23T22:00:00",
          "2025-02-23T23:00:00",
          "2025-02-24T00:00:00",
          "2025-02-24T01:00:00",
          "2025-02-24T02:00:00",
          "2025-02-24T03:00:00",
          "2025-02-24T04:00:00",
          "2025-02-24T05:00:00",
          "2025-02-24T06:00:00",
          "2025-02-24T07:00:00",
          "2025-02-24T08:00:00",
          "2025-02-24T14:00:00",
          "2025-02-24T15:00:00",
          "2025-02-24T16:00:00",
          "2025-02-24T17:00:00",
          "2025-02-24T18:00:00",
          "2025-02-24T19:00:00",
          "2025-02-24T20:00:00",
          "2025-02-24T21:00:00",
          "2025-02-24T22:00:00",
          "2025-02-24T23:00:00",
          "2025-02-25T00:00:00",
          "2025-02-25T01:00:00",
          "2025-02-25T02:00:00",
          "2025-02-25T03:00:00",
          "2025-02-25T04:00:00",
          "2025-02-25T05:00:00",
          "2025-02-25T06:00:00",
          "2025-02-25T07:00:00",
          "2025-02-25T08:00:00",
          "2025-02-25T09:00:00",
          "2025-02-25T10:00:00",
          "2025-02-25T11:00:00",
          "2025-02-25T12:00:00",
          "2025-02-25T13:00:00",
          "2025-02-25T14:00:00",
          "2025-02-25T15:00:00",
          "2025-02-25T16:00:00",
          "2025-02-25T17:00:00",
          "2025-02-25T18:00:00",
          "2025-02-25T19:00:00",
          "2025-02-25T20:00:00",
          "2025-02-25T21:00:00",
          "2025-02-25T22:00:00",
          "2025-02-25T23:00:00",
          "2025-02-26T00:00:00",
          "2025-02-26T01:00:00",
          "2025-02-26T02:00:00",
          "2025-02-26T03:00:00",
          "2025-02-26T04:00:00",
          "2025-02-26T05:00:00",
          "2025-02-26T06:00:00",
          "2025-02-26T07:00:00",
          "2025-02-26T08:00:00",
          "2025-02-26T09:00:00",
          "2025-02-26T10:00:00",
          "2025-02-26T11:00:00",
          "2025-02-26T12:00:00",
          "2025-02-26T13:00:00",
          "2025-02-26T14:00:00",
          "2025-02-26T15:00:00",
          "2025-02-26T16:00:00",
          "2025-02-26T17:00:00",
          "2025-02-26T18:00:00",
          "2025-02-26T19:00:00",
          "2025-02-26T20:00:00",
          "2025-02-26T21:00:00",
          "2025-02-26T22:00:00",
          "2025-02-26T23:00:00",
          "2025-02-27T00:00:00",
          "2025-02-27T01:00:00",
          "2025-02-27T02:00:00",
          "2025-02-27T03:00:00",
          "2025-02-27T04:00:00",
          "2025-02-27T05:00:00",
          "2025-02-27T06:00:00",
          "2025-02-27T07:00:00",
          "2025-02-27T08:00:00",
          "2025-02-27T09:00:00",
          "2025-02-27T10:00:00",
          "2025-02-27T11:00:00",
          "2025-02-27T12:00:00",
          "2025-02-27T13:00:00",
          "2025-02-27T14:00:00",
          "2025-02-27T15:00:00",
          "2025-02-27T16:00:00",
          "2025-02-27T17:00:00",
          "2025-02-27T18:00:00",
          "2025-02-27T19:00:00",
          "2025-02-27T20:00:00",
          "2025-02-27T21:00:00",
          "2025-02-27T22:00:00",
          "2025-02-27T23:00:00",
          "2025-02-28T00:00:00",
          "2025-02-28T01:00:00",
          "2025-02-28T02:00:00",
          "2025-02-28T03:00:00",
          "2025-02-28T04:00:00",
          "2025-02-28T05:00:00",
          "2025-02-28T06:00:00",
          "2025-02-28T07:00:00",
          "2025-02-28T08:00:00",
          "2025-02-28T09:00:00",
          "2025-02-28T10:00:00",
          "2025-02-28T11:00:00",
          "2025-02-28T12:00:00",
          "2025-02-28T13:00:00",
          "2025-02-28T14:00:00",
          "2025-02-28T15:00:00",
          "2025-02-28T16:00:00",
          "2025-02-28T17:00:00",
          "2025-02-28T18:00:00",
          "2025-02-28T19:00:00",
          "2025-02-28T20:00:00",
          "2025-02-28T21:00:00",
          "2025-02-28T22:00:00",
          "2025-02-28T23:00:00",
          "2025-03-01T00:00:00",
          "2025-03-01T01:00:00",
          "2025-03-01T02:00:00",
          "2025-03-01T03:00:00",
          "2025-03-01T04:00:00",
          "2025-03-01T05:00:00",
          "2025-03-01T06:00:00",
          "2025-03-01T07:00:00",
          "2025-03-01T08:00:00",
          "2025-03-01T09:00:00",
          "2025-03-01T10:00:00",
          "2025-03-01T11:00:00",
          "2025-03-01T12:00:00",
          "2025-03-01T13:00:00",
          "2025-03-01T14:00:00",
          "2025-03-01T15:00:00",
          "2025-03-01T16:00:00",
          "2025-03-01T17:00:00",
          "2025-03-01T18:00:00",
          "2025-03-01T19:00:00",
          "2025-03-01T20:00:00",
          "2025-03-01T21:00:00",
          "2025-03-01T22:00:00",
          "2025-03-01T23:00:00",
          "2025-03-02T00:00:00",
          "2025-03-02T01:00:00",
          "2025-03-02T02:00:00",
          "2025-03-02T03:00:00",
          "2025-03-02T04:00:00",
          "2025-03-02T05:00:00",
          "2025-03-02T06:00:00",
          "2025-03-02T07:00:00",
          "2025-03-02T08:00:00",
          "2025-03-02T09:00:00",
          "2025-03-02T10:00:00",
          "2025-03-02T11:00:00",
          "2025-03-02T12:00:00",
          "2025-03-02T13:00:00",
          "2025-03-02T14:00:00",
          "2025-03-02T15:00:00",
          "2025-03-02T16:00:00",
          "2025-03-02T17:00:00",
          "2025-03-02T18:00:00",
          "2025-03-02T19:00:00",
          "2025-03-02T20:00:00",
          "2025-03-02T21:00:00",
          "2025-03-02T22:00:00",
          "2025-03-02T23:00:00",
          "2025-03-03T00:00:00",
          "2025-03-03T01:00:00",
          "2025-03-03T02:00:00",
          "2025-03-03T03:00:00",
          "2025-03-03T04:00:00",
          "2025-03-03T05:00:00",
          "2025-03-03T06:00:00",
          "2025-03-03T07:00:00",
          "2025-03-03T08:00:00",
          "2025-03-03T09:00:00",
          "2025-03-03T10:00:00",
          "2025-03-03T11:00:00",
          "2025-03-03T12:00:00",
          "2025-03-03T13:00:00",
          "2025-03-03T14:00:00",
          "2025-03-03T15:00:00"
         ],
         "xaxis": "x",
         "y": [
          -0.2621196459284481,
          -0.4505700636970426,
          -0.25529202252124944,
          -0.45400724610833076,
          -0.979924457947114,
          -1.0029552282127838,
          -1.3009211213181076,
          -1.154015681243765,
          -0.9454470367109215,
          -1.310745619677546,
          -0.9908597499470307,
          -1.1567543249360672,
          -1.2926996859606585,
          -0.7253783846593336,
          -0.7112749291755562,
          -0.6122167070702152,
          -0.3679993027370993,
          -0.5715953278892092,
          -0.5636457994994222,
          -1.2268672138814196,
          -0.8277209453969282,
          -0.9859566626707855,
          -1.1187549182823668,
          -1.4373125530805786,
          -1.5229798852078829,
          -1.5208993348765583,
          -1.376496214668016,
          -1.0760316283895677,
          -1.2458738017126867,
          -1.5419543323744198,
          -1.4961658328049594,
          -1.9592805446062818,
          -1.581622978179412,
          -1.1583956899249883,
          -1.2622216809057254,
          -1.100423555286772,
          -0.6427386269254352,
          -0.7331536192687852,
          -1.3098692919097021,
          -1.227173513217815,
          -0.6239136592507175,
          -0.5504766305850952,
          -0.7056050806620652,
          -1.6909641341737356,
          -1.108477558261808,
          -0.9449658889416658,
          -1.480507375046056,
          -1.5536410708470005,
          -1.7818084470140239,
          -1.5197725312590018,
          -1.2258481242501869,
          -1.5907136073323906,
          -1.442618120223961,
          -0.7024644097796132,
          -0.7302294797320575,
          -0.8616375245223964,
          -0.3191696652441304,
          0.7758128178538385,
          0.3295202202360263,
          -0.05844820742401519,
          -0.05160449361023325,
          -0.7606327610868414,
          -0.6605495808741552,
          -0.4268436643450611,
          -0.22232506599596888,
          -0.23502823209043983,
          -0.651517518019745,
          -0.4318186792257672,
          0.09564643935110126,
          0.2626141094216725,
          0.33946785198729873,
          0.37922129079353745,
          0.0346113072848766,
          0.2454337561793551,
          -1.481727971358377,
          0.05316350335857104,
          -0.22666709055887443,
          -0.016044266621984587,
          0.6651748950155247,
          0.3228906505409199,
          -0.05238193882402176,
          -0.0828436466369548,
          -0.5996506500182164,
          0.2506575852444646,
          0.26423704622423827,
          -0.2129021368984553,
          -0.36985766062844194,
          -0.5269908947819374,
          -0.4056131178686177,
          -0.3961966301399651,
          -0.3724980937231242,
          -0.20010264464562794,
          0.005165936508340489,
          0.5043480941111553,
          0.30355664920591846,
          -0.36607269720635854,
          -0.7171861610498372,
          -0.4626022226768626,
          -0.7793324442010359,
          0.019359503062344175,
          0.02545621498554548,
          -0.0937257230882608,
          -0.6753834557219506,
          -0.7375414547524234,
          -0.17461181309893684,
          0.2975009081007196,
          0.0669218537519626,
          -0.507611577417821,
          -0.855881608247725,
          -0.3458786220606773,
          0.3528151655134607,
          0.3408021877317997,
          -0.34910549348161385,
          -1.238679134468177,
          -0.6196991101347848,
          -0.4318106498276,
          -0.007447721325569982,
          -0.5026286065985237,
          -0.7920247881190652,
          -0.37604503097621206,
          -0.29224894893214876,
          0.015759290011834064,
          -1.8266916404293192,
          -0.16294259651188317,
          -0.23607916990512526,
          0.15600116830667238,
          0.6932928964952666,
          0.5271798305277542,
          0.3158097969311059,
          -0.0276339305714212,
          0.33388625453702425,
          -0.05409686383767527,
          0.19894390296707817,
          0.26900597453913044,
          0.26655139917345755,
          0.37355578453059857,
          0.26043942862462094,
          0.40564809082150266,
          0.5763486971743698,
          -0.3545734230444078,
          -0.5381409498668878,
          -0.5991063691841504,
          -0.5368636228025394,
          -0.7327839397265662,
          -0.6265830958831888,
          -0.48734851239869764,
          -0.7983970128109582,
          -0.728372553847039,
          -0.47750410006233135,
          0.03907467065177504,
          0.26524022801618324,
          0.2042798382574053,
          -0.060405735333992065,
          0.24409898896423046,
          -0.37343549809689736,
          0.09952286515871028,
          -0.3901575287698227,
          -0.6361058351185918,
          -0.6763651485617695,
          -0.5261686805186064,
          -0.6193155526409881,
          -1.0672949971967924,
          -1.056561756678297,
          -0.9332483886440187,
          -1.0658010239982005,
          -1.3075446363071936,
          -0.586413994503793,
          -0.8715265658188591,
          -1.2444762285341122,
          -0.9358524623532579,
          -0.5026017784781242,
          -0.4183251686276478,
          -0.4066335513833252,
          -0.1440946577760054,
          -0.28720764637508867,
          -0.5740777586666667,
          -0.73983766719865,
          -0.8083451645634232,
          -0.2824781228804625,
          -0.13878644729170161,
          -0.44217110368093976,
          -0.487584161225188,
          -1.0250274434737359,
          -0.6512442258074945,
          -0.8556882103286587,
          -0.8887987899082224,
          -0.7240698145132204,
          -0.32351954658439536,
          -1.1293422313824508,
          -1.1825749066819033,
          -1.1943912754101902,
          -1.2372548243645203,
          -1.1931295374057773,
          -0.39717218007993343,
          -0.8428314237381718,
          -1.5452167212295,
          -1.67248421130756,
          -1.8384839905996364,
          -1.609653727095899,
          -1.6064627330601218,
          -1.8168779644469388,
          -1.6471551246958354,
          -1.4936365306879877,
          -1.3427101803630066,
          -1.3675587426647375,
          -1.729596472688417,
          -1.7543653217153583,
          -1.6593870815626663,
          -0.8985235419045822,
          -0.765412277288749,
          -0.30701993379381787,
          -0.18105330969353303,
          -0.5189440732552479,
          -1.1579228630344052,
          -0.6754236239239385,
          -0.3795111058366525,
          -1.1785050349570336,
          -1.4499088346740512,
          -1.56273797156118,
          -0.85983451293361,
          -0.663538293624561,
          -1.1599000831536208,
          -0.9561229904594281,
          -0.5528727767779491,
          -0.7817017641669515,
          -0.4947697027001567,
          -0.3179265701053585,
          -0.2074194744222017,
          -0.10406774315652711,
          -0.6701072691189104,
          -0.3584560627317837,
          -0.734381112110655,
          -1.2002261224285424,
          -1.2823096131178977,
          -1.293328510742931,
          -1.3809295233179646,
          -0.9457893149788053,
          -1.1927741284029598,
          -1.2273875580396727,
          -1.054005606896711,
          -1.1187990204026386,
          -1.2157661774381192,
          -0.7422755486741376,
          -0.8331183839226242,
          -1.1155497866012065,
          -1.43318552016538,
          -1.5198348519859433,
          -0.6229738129769237,
          -0.9891028200454808,
          -1.3711526371306553,
          -0.43124883459113905,
          -0.8582417654923893,
          -0.634279442981629,
          -0.5870915353476613,
          -0.8480985389711341,
          -0.5622124753616277,
          -0.5592256095614445,
          -0.2516386735508557,
          -0.45791719581291235,
          -1.0494868992924955,
          -0.4297792063726822,
          -1.1529147564865954,
          -0.674517202632965,
          -0.7298470016543998,
          -0.130731089000957,
          -0.2106211638365764,
          -0.4060651642047433,
          -0.34830262753992297,
          -0.5206237176651659,
          -0.4645166445609685,
          -0.18672100411563028,
          -0.00317117263615548,
          -0.2180298783637544,
          -0.278955560722018,
          -0.6159567001387316,
          -0.8528187016494205,
          -0.86227838240371,
          -0.4795435877071175,
          -0.6541784812994038,
          -0.387919221937841,
          -0.8485360738761651,
          -0.41365772659537897,
          -0.0761226137186687,
          -0.07479634500347364,
          -0.17949937396334453,
          -0.8329970724240194,
          -0.5067849110954,
          -1.2183644568705938,
          -1.4376891372695724,
          -1.4641687118169031,
          -0.9291093578223013,
          -0.4655932345337462,
          -0.42799310498328785,
          -0.33045752543481444,
          -0.9219962720910644,
          -0.8455631963585868,
          0.05434622044084811,
          0.24920989968071058,
          0.07354624382766038,
          0.05022934611949666,
          0.15930406389354962,
          -0.06953292754706743,
          -0.29357381728975857,
          -0.5121606499870438,
          -0.8757020370059401,
          -0.7126969994115914,
          -0.7190959103234011,
          -0.29203414816975953,
          -0.15491473987189674,
          -0.9515681278688988,
          -0.4733378633321943,
          -0.5636121268424403,
          -0.08497659390603711,
          -1.31352482823458,
          -0.07390573616779647,
          -0.8019363750650096,
          0.10265896329334367,
          -0.36844358502545305,
          -0.5768443620098557,
          -0.4942360290859611,
          -0.466194380801356,
          -0.19827406790857133,
          0.11141056880330881
         ],
         "yaxis": "y"
        }
       ],
       "layout": {
        "legend": {
         "title": {
          "text": "system_name"
         },
         "tracegroupgap": 0
        },
        "margin": {
         "t": 60
        },
        "template": {
         "data": {
          "bar": [
           {
            "error_x": {
             "color": "#2a3f5f"
            },
            "error_y": {
             "color": "#2a3f5f"
            },
            "marker": {
             "line": {
              "color": "#E5ECF6",
              "width": 0.5
             },
             "pattern": {
              "fillmode": "overlay",
              "size": 10,
              "solidity": 0.2
             }
            },
            "type": "bar"
           }
          ],
          "barpolar": [
           {
            "marker": {
             "line": {
              "color": "#E5ECF6",
              "width": 0.5
             },
             "pattern": {
              "fillmode": "overlay",
              "size": 10,
              "solidity": 0.2
             }
            },
            "type": "barpolar"
           }
          ],
          "carpet": [
           {
            "aaxis": {
             "endlinecolor": "#2a3f5f",
             "gridcolor": "white",
             "linecolor": "white",
             "minorgridcolor": "white",
             "startlinecolor": "#2a3f5f"
            },
            "baxis": {
             "endlinecolor": "#2a3f5f",
             "gridcolor": "white",
             "linecolor": "white",
             "minorgridcolor": "white",
             "startlinecolor": "#2a3f5f"
            },
            "type": "carpet"
           }
          ],
          "choropleth": [
           {
            "colorbar": {
             "outlinewidth": 0,
             "ticks": ""
            },
            "type": "choropleth"
           }
          ],
          "contour": [
           {
            "colorbar": {
             "outlinewidth": 0,
             "ticks": ""
            },
            "colorscale": [
             [
              0,
              "#0d0887"
             ],
             [
              0.1111111111111111,
              "#46039f"
             ],
             [
              0.2222222222222222,
              "#7201a8"
             ],
             [
              0.3333333333333333,
              "#9c179e"
             ],
             [
              0.4444444444444444,
              "#bd3786"
             ],
             [
              0.5555555555555556,
              "#d8576b"
             ],
             [
              0.6666666666666666,
              "#ed7953"
             ],
             [
              0.7777777777777778,
              "#fb9f3a"
             ],
             [
              0.8888888888888888,
              "#fdca26"
             ],
             [
              1,
              "#f0f921"
             ]
            ],
            "type": "contour"
           }
          ],
          "contourcarpet": [
           {
            "colorbar": {
             "outlinewidth": 0,
             "ticks": ""
            },
            "type": "contourcarpet"
           }
          ],
          "heatmap": [
           {
            "colorbar": {
             "outlinewidth": 0,
             "ticks": ""
            },
            "colorscale": [
             [
              0,
              "#0d0887"
             ],
             [
              0.1111111111111111,
              "#46039f"
             ],
             [
              0.2222222222222222,
              "#7201a8"
             ],
             [
              0.3333333333333333,
              "#9c179e"
             ],
             [
              0.4444444444444444,
              "#bd3786"
             ],
             [
              0.5555555555555556,
              "#d8576b"
             ],
             [
              0.6666666666666666,
              "#ed7953"
             ],
             [
              0.7777777777777778,
              "#fb9f3a"
             ],
             [
              0.8888888888888888,
              "#fdca26"
             ],
             [
              1,
              "#f0f921"
             ]
            ],
            "type": "heatmap"
           }
          ],
          "heatmapgl": [
           {
            "colorbar": {
             "outlinewidth": 0,
             "ticks": ""
            },
            "colorscale": [
             [
              0,
              "#0d0887"
             ],
             [
              0.1111111111111111,
              "#46039f"
             ],
             [
              0.2222222222222222,
              "#7201a8"
             ],
             [
              0.3333333333333333,
              "#9c179e"
             ],
             [
              0.4444444444444444,
              "#bd3786"
             ],
             [
              0.5555555555555556,
              "#d8576b"
             ],
             [
              0.6666666666666666,
              "#ed7953"
             ],
             [
              0.7777777777777778,
              "#fb9f3a"
             ],
             [
              0.8888888888888888,
              "#fdca26"
             ],
             [
              1,
              "#f0f921"
             ]
            ],
            "type": "heatmapgl"
           }
          ],
          "histogram": [
           {
            "marker": {
             "pattern": {
              "fillmode": "overlay",
              "size": 10,
              "solidity": 0.2
             }
            },
            "type": "histogram"
           }
          ],
          "histogram2d": [
           {
            "colorbar": {
             "outlinewidth": 0,
             "ticks": ""
            },
            "colorscale": [
             [
              0,
              "#0d0887"
             ],
             [
              0.1111111111111111,
              "#46039f"
             ],
             [
              0.2222222222222222,
              "#7201a8"
             ],
             [
              0.3333333333333333,
              "#9c179e"
             ],
             [
              0.4444444444444444,
              "#bd3786"
             ],
             [
              0.5555555555555556,
              "#d8576b"
             ],
             [
              0.6666666666666666,
              "#ed7953"
             ],
             [
              0.7777777777777778,
              "#fb9f3a"
             ],
             [
              0.8888888888888888,
              "#fdca26"
             ],
             [
              1,
              "#f0f921"
             ]
            ],
            "type": "histogram2d"
           }
          ],
          "histogram2dcontour": [
           {
            "colorbar": {
             "outlinewidth": 0,
             "ticks": ""
            },
            "colorscale": [
             [
              0,
              "#0d0887"
             ],
             [
              0.1111111111111111,
              "#46039f"
             ],
             [
              0.2222222222222222,
              "#7201a8"
             ],
             [
              0.3333333333333333,
              "#9c179e"
             ],
             [
              0.4444444444444444,
              "#bd3786"
             ],
             [
              0.5555555555555556,
              "#d8576b"
             ],
             [
              0.6666666666666666,
              "#ed7953"
             ],
             [
              0.7777777777777778,
              "#fb9f3a"
             ],
             [
              0.8888888888888888,
              "#fdca26"
             ],
             [
              1,
              "#f0f921"
             ]
            ],
            "type": "histogram2dcontour"
           }
          ],
          "mesh3d": [
           {
            "colorbar": {
             "outlinewidth": 0,
             "ticks": ""
            },
            "type": "mesh3d"
           }
          ],
          "parcoords": [
           {
            "line": {
             "colorbar": {
              "outlinewidth": 0,
              "ticks": ""
             }
            },
            "type": "parcoords"
           }
          ],
          "pie": [
           {
            "automargin": true,
            "type": "pie"
           }
          ],
          "scatter": [
           {
            "fillpattern": {
             "fillmode": "overlay",
             "size": 10,
             "solidity": 0.2
            },
            "type": "scatter"
           }
          ],
          "scatter3d": [
           {
            "line": {
             "colorbar": {
              "outlinewidth": 0,
              "ticks": ""
             }
            },
            "marker": {
             "colorbar": {
              "outlinewidth": 0,
              "ticks": ""
             }
            },
            "type": "scatter3d"
           }
          ],
          "scattercarpet": [
           {
            "marker": {
             "colorbar": {
              "outlinewidth": 0,
              "ticks": ""
             }
            },
            "type": "scattercarpet"
           }
          ],
          "scattergeo": [
           {
            "marker": {
             "colorbar": {
              "outlinewidth": 0,
              "ticks": ""
             }
            },
            "type": "scattergeo"
           }
          ],
          "scattergl": [
           {
            "marker": {
             "colorbar": {
              "outlinewidth": 0,
              "ticks": ""
             }
            },
            "type": "scattergl"
           }
          ],
          "scattermapbox": [
           {
            "marker": {
             "colorbar": {
              "outlinewidth": 0,
              "ticks": ""
             }
            },
            "type": "scattermapbox"
           }
          ],
          "scatterpolar": [
           {
            "marker": {
             "colorbar": {
              "outlinewidth": 0,
              "ticks": ""
             }
            },
            "type": "scatterpolar"
           }
          ],
          "scatterpolargl": [
           {
            "marker": {
             "colorbar": {
              "outlinewidth": 0,
              "ticks": ""
             }
            },
            "type": "scatterpolargl"
           }
          ],
          "scatterternary": [
           {
            "marker": {
             "colorbar": {
              "outlinewidth": 0,
              "ticks": ""
             }
            },
            "type": "scatterternary"
           }
          ],
          "surface": [
           {
            "colorbar": {
             "outlinewidth": 0,
             "ticks": ""
            },
            "colorscale": [
             [
              0,
              "#0d0887"
             ],
             [
              0.1111111111111111,
              "#46039f"
             ],
             [
              0.2222222222222222,
              "#7201a8"
             ],
             [
              0.3333333333333333,
              "#9c179e"
             ],
             [
              0.4444444444444444,
              "#bd3786"
             ],
             [
              0.5555555555555556,
              "#d8576b"
             ],
             [
              0.6666666666666666,
              "#ed7953"
             ],
             [
              0.7777777777777778,
              "#fb9f3a"
             ],
             [
              0.8888888888888888,
              "#fdca26"
             ],
             [
              1,
              "#f0f921"
             ]
            ],
            "type": "surface"
           }
          ],
          "table": [
           {
            "cells": {
             "fill": {
              "color": "#EBF0F8"
             },
             "line": {
              "color": "white"
             }
            },
            "header": {
             "fill": {
              "color": "#C8D4E3"
             },
             "line": {
              "color": "white"
             }
            },
            "type": "table"
           }
          ]
         },
         "layout": {
          "annotationdefaults": {
           "arrowcolor": "#2a3f5f",
           "arrowhead": 0,
           "arrowwidth": 1
          },
          "autotypenumbers": "strict",
          "coloraxis": {
           "colorbar": {
            "outlinewidth": 0,
            "ticks": ""
           }
          },
          "colorscale": {
           "diverging": [
            [
             0,
             "#8e0152"
            ],
            [
             0.1,
             "#c51b7d"
            ],
            [
             0.2,
             "#de77ae"
            ],
            [
             0.3,
             "#f1b6da"
            ],
            [
             0.4,
             "#fde0ef"
            ],
            [
             0.5,
             "#f7f7f7"
            ],
            [
             0.6,
             "#e6f5d0"
            ],
            [
             0.7,
             "#b8e186"
            ],
            [
             0.8,
             "#7fbc41"
            ],
            [
             0.9,
             "#4d9221"
            ],
            [
             1,
             "#276419"
            ]
           ],
           "sequential": [
            [
             0,
             "#0d0887"
            ],
            [
             0.1111111111111111,
             "#46039f"
            ],
            [
             0.2222222222222222,
             "#7201a8"
            ],
            [
             0.3333333333333333,
             "#9c179e"
            ],
            [
             0.4444444444444444,
             "#bd3786"
            ],
            [
             0.5555555555555556,
             "#d8576b"
            ],
            [
             0.6666666666666666,
             "#ed7953"
            ],
            [
             0.7777777777777778,
             "#fb9f3a"
            ],
            [
             0.8888888888888888,
             "#fdca26"
            ],
            [
             1,
             "#f0f921"
            ]
           ],
           "sequentialminus": [
            [
             0,
             "#0d0887"
            ],
            [
             0.1111111111111111,
             "#46039f"
            ],
            [
             0.2222222222222222,
             "#7201a8"
            ],
            [
             0.3333333333333333,
             "#9c179e"
            ],
            [
             0.4444444444444444,
             "#bd3786"
            ],
            [
             0.5555555555555556,
             "#d8576b"
            ],
            [
             0.6666666666666666,
             "#ed7953"
            ],
            [
             0.7777777777777778,
             "#fb9f3a"
            ],
            [
             0.8888888888888888,
             "#fdca26"
            ],
            [
             1,
             "#f0f921"
            ]
           ]
          },
          "colorway": [
           "#636efa",
           "#EF553B",
           "#00cc96",
           "#ab63fa",
           "#FFA15A",
           "#19d3f3",
           "#FF6692",
           "#B6E880",
           "#FF97FF",
           "#FECB52"
          ],
          "font": {
           "color": "#2a3f5f"
          },
          "geo": {
           "bgcolor": "white",
           "lakecolor": "white",
           "landcolor": "#E5ECF6",
           "showlakes": true,
           "showland": true,
           "subunitcolor": "white"
          },
          "hoverlabel": {
           "align": "left"
          },
          "hovermode": "closest",
          "mapbox": {
           "style": "light"
          },
          "paper_bgcolor": "white",
          "plot_bgcolor": "#E5ECF6",
          "polar": {
           "angularaxis": {
            "gridcolor": "white",
            "linecolor": "white",
            "ticks": ""
           },
           "bgcolor": "#E5ECF6",
           "radialaxis": {
            "gridcolor": "white",
            "linecolor": "white",
            "ticks": ""
           }
          },
          "scene": {
           "xaxis": {
            "backgroundcolor": "#E5ECF6",
            "gridcolor": "white",
            "gridwidth": 2,
            "linecolor": "white",
            "showbackground": true,
            "ticks": "",
            "zerolinecolor": "white"
           },
           "yaxis": {
            "backgroundcolor": "#E5ECF6",
            "gridcolor": "white",
            "gridwidth": 2,
            "linecolor": "white",
            "showbackground": true,
            "ticks": "",
            "zerolinecolor": "white"
           },
           "zaxis": {
            "backgroundcolor": "#E5ECF6",
            "gridcolor": "white",
            "gridwidth": 2,
            "linecolor": "white",
            "showbackground": true,
            "ticks": "",
            "zerolinecolor": "white"
           }
          },
          "shapedefaults": {
           "line": {
            "color": "#2a3f5f"
           }
          },
          "ternary": {
           "aaxis": {
            "gridcolor": "white",
            "linecolor": "white",
            "ticks": ""
           },
           "baxis": {
            "gridcolor": "white",
            "linecolor": "white",
            "ticks": ""
           },
           "bgcolor": "#E5ECF6",
           "caxis": {
            "gridcolor": "white",
            "linecolor": "white",
            "ticks": ""
           }
          },
          "title": {
           "x": 0.05
          },
          "xaxis": {
           "automargin": true,
           "gridcolor": "white",
           "linecolor": "white",
           "ticks": "",
           "title": {
            "standoff": 15
           },
           "zerolinecolor": "white",
           "zerolinewidth": 2
          },
          "yaxis": {
           "automargin": true,
           "gridcolor": "white",
           "linecolor": "white",
           "ticks": "",
           "title": {
            "standoff": 15
           },
           "zerolinecolor": "white",
           "zerolinewidth": 2
          }
         }
        },
        "xaxis": {
         "anchor": "y",
         "domain": [
          0,
          1
         ],
         "title": {
          "text": "datetime"
         }
        },
        "yaxis": {
         "anchor": "x",
         "domain": [
          0,
          1
         ],
         "title": {
          "text": "diff"
         }
        }
       }
      }
     },
     "metadata": {},
     "output_type": "display_data"
    },
    {
     "data": {
      "application/vnd.plotly.v1+json": {
       "config": {
        "plotlyServerURL": "https://plot.ly"
       },
       "data": [
        {
         "hovertemplate": "system_name=%{x}<br>mean_full_deployment=%{y}<extra></extra>",
         "legendgroup": "",
         "marker": {
          "color": "#636efa",
          "symbol": "circle"
         },
         "mode": "markers",
         "name": "",
         "orientation": "v",
         "showlegend": false,
         "type": "scatter",
         "x": [
          "acropolis-3",
          "acropolis-6"
         ],
         "xaxis": "x",
         "y": [
          -0.44299022880476413,
          -0.6187960775499926
         ],
         "yaxis": "y"
        }
       ],
       "layout": {
        "legend": {
         "tracegroupgap": 0
        },
        "margin": {
         "t": 60
        },
        "template": {
         "data": {
          "bar": [
           {
            "error_x": {
             "color": "#2a3f5f"
            },
            "error_y": {
             "color": "#2a3f5f"
            },
            "marker": {
             "line": {
              "color": "#E5ECF6",
              "width": 0.5
             },
             "pattern": {
              "fillmode": "overlay",
              "size": 10,
              "solidity": 0.2
             }
            },
            "type": "bar"
           }
          ],
          "barpolar": [
           {
            "marker": {
             "line": {
              "color": "#E5ECF6",
              "width": 0.5
             },
             "pattern": {
              "fillmode": "overlay",
              "size": 10,
              "solidity": 0.2
             }
            },
            "type": "barpolar"
           }
          ],
          "carpet": [
           {
            "aaxis": {
             "endlinecolor": "#2a3f5f",
             "gridcolor": "white",
             "linecolor": "white",
             "minorgridcolor": "white",
             "startlinecolor": "#2a3f5f"
            },
            "baxis": {
             "endlinecolor": "#2a3f5f",
             "gridcolor": "white",
             "linecolor": "white",
             "minorgridcolor": "white",
             "startlinecolor": "#2a3f5f"
            },
            "type": "carpet"
           }
          ],
          "choropleth": [
           {
            "colorbar": {
             "outlinewidth": 0,
             "ticks": ""
            },
            "type": "choropleth"
           }
          ],
          "contour": [
           {
            "colorbar": {
             "outlinewidth": 0,
             "ticks": ""
            },
            "colorscale": [
             [
              0,
              "#0d0887"
             ],
             [
              0.1111111111111111,
              "#46039f"
             ],
             [
              0.2222222222222222,
              "#7201a8"
             ],
             [
              0.3333333333333333,
              "#9c179e"
             ],
             [
              0.4444444444444444,
              "#bd3786"
             ],
             [
              0.5555555555555556,
              "#d8576b"
             ],
             [
              0.6666666666666666,
              "#ed7953"
             ],
             [
              0.7777777777777778,
              "#fb9f3a"
             ],
             [
              0.8888888888888888,
              "#fdca26"
             ],
             [
              1,
              "#f0f921"
             ]
            ],
            "type": "contour"
           }
          ],
          "contourcarpet": [
           {
            "colorbar": {
             "outlinewidth": 0,
             "ticks": ""
            },
            "type": "contourcarpet"
           }
          ],
          "heatmap": [
           {
            "colorbar": {
             "outlinewidth": 0,
             "ticks": ""
            },
            "colorscale": [
             [
              0,
              "#0d0887"
             ],
             [
              0.1111111111111111,
              "#46039f"
             ],
             [
              0.2222222222222222,
              "#7201a8"
             ],
             [
              0.3333333333333333,
              "#9c179e"
             ],
             [
              0.4444444444444444,
              "#bd3786"
             ],
             [
              0.5555555555555556,
              "#d8576b"
             ],
             [
              0.6666666666666666,
              "#ed7953"
             ],
             [
              0.7777777777777778,
              "#fb9f3a"
             ],
             [
              0.8888888888888888,
              "#fdca26"
             ],
             [
              1,
              "#f0f921"
             ]
            ],
            "type": "heatmap"
           }
          ],
          "heatmapgl": [
           {
            "colorbar": {
             "outlinewidth": 0,
             "ticks": ""
            },
            "colorscale": [
             [
              0,
              "#0d0887"
             ],
             [
              0.1111111111111111,
              "#46039f"
             ],
             [
              0.2222222222222222,
              "#7201a8"
             ],
             [
              0.3333333333333333,
              "#9c179e"
             ],
             [
              0.4444444444444444,
              "#bd3786"
             ],
             [
              0.5555555555555556,
              "#d8576b"
             ],
             [
              0.6666666666666666,
              "#ed7953"
             ],
             [
              0.7777777777777778,
              "#fb9f3a"
             ],
             [
              0.8888888888888888,
              "#fdca26"
             ],
             [
              1,
              "#f0f921"
             ]
            ],
            "type": "heatmapgl"
           }
          ],
          "histogram": [
           {
            "marker": {
             "pattern": {
              "fillmode": "overlay",
              "size": 10,
              "solidity": 0.2
             }
            },
            "type": "histogram"
           }
          ],
          "histogram2d": [
           {
            "colorbar": {
             "outlinewidth": 0,
             "ticks": ""
            },
            "colorscale": [
             [
              0,
              "#0d0887"
             ],
             [
              0.1111111111111111,
              "#46039f"
             ],
             [
              0.2222222222222222,
              "#7201a8"
             ],
             [
              0.3333333333333333,
              "#9c179e"
             ],
             [
              0.4444444444444444,
              "#bd3786"
             ],
             [
              0.5555555555555556,
              "#d8576b"
             ],
             [
              0.6666666666666666,
              "#ed7953"
             ],
             [
              0.7777777777777778,
              "#fb9f3a"
             ],
             [
              0.8888888888888888,
              "#fdca26"
             ],
             [
              1,
              "#f0f921"
             ]
            ],
            "type": "histogram2d"
           }
          ],
          "histogram2dcontour": [
           {
            "colorbar": {
             "outlinewidth": 0,
             "ticks": ""
            },
            "colorscale": [
             [
              0,
              "#0d0887"
             ],
             [
              0.1111111111111111,
              "#46039f"
             ],
             [
              0.2222222222222222,
              "#7201a8"
             ],
             [
              0.3333333333333333,
              "#9c179e"
             ],
             [
              0.4444444444444444,
              "#bd3786"
             ],
             [
              0.5555555555555556,
              "#d8576b"
             ],
             [
              0.6666666666666666,
              "#ed7953"
             ],
             [
              0.7777777777777778,
              "#fb9f3a"
             ],
             [
              0.8888888888888888,
              "#fdca26"
             ],
             [
              1,
              "#f0f921"
             ]
            ],
            "type": "histogram2dcontour"
           }
          ],
          "mesh3d": [
           {
            "colorbar": {
             "outlinewidth": 0,
             "ticks": ""
            },
            "type": "mesh3d"
           }
          ],
          "parcoords": [
           {
            "line": {
             "colorbar": {
              "outlinewidth": 0,
              "ticks": ""
             }
            },
            "type": "parcoords"
           }
          ],
          "pie": [
           {
            "automargin": true,
            "type": "pie"
           }
          ],
          "scatter": [
           {
            "fillpattern": {
             "fillmode": "overlay",
             "size": 10,
             "solidity": 0.2
            },
            "type": "scatter"
           }
          ],
          "scatter3d": [
           {
            "line": {
             "colorbar": {
              "outlinewidth": 0,
              "ticks": ""
             }
            },
            "marker": {
             "colorbar": {
              "outlinewidth": 0,
              "ticks": ""
             }
            },
            "type": "scatter3d"
           }
          ],
          "scattercarpet": [
           {
            "marker": {
             "colorbar": {
              "outlinewidth": 0,
              "ticks": ""
             }
            },
            "type": "scattercarpet"
           }
          ],
          "scattergeo": [
           {
            "marker": {
             "colorbar": {
              "outlinewidth": 0,
              "ticks": ""
             }
            },
            "type": "scattergeo"
           }
          ],
          "scattergl": [
           {
            "marker": {
             "colorbar": {
              "outlinewidth": 0,
              "ticks": ""
             }
            },
            "type": "scattergl"
           }
          ],
          "scattermapbox": [
           {
            "marker": {
             "colorbar": {
              "outlinewidth": 0,
              "ticks": ""
             }
            },
            "type": "scattermapbox"
           }
          ],
          "scatterpolar": [
           {
            "marker": {
             "colorbar": {
              "outlinewidth": 0,
              "ticks": ""
             }
            },
            "type": "scatterpolar"
           }
          ],
          "scatterpolargl": [
           {
            "marker": {
             "colorbar": {
              "outlinewidth": 0,
              "ticks": ""
             }
            },
            "type": "scatterpolargl"
           }
          ],
          "scatterternary": [
           {
            "marker": {
             "colorbar": {
              "outlinewidth": 0,
              "ticks": ""
             }
            },
            "type": "scatterternary"
           }
          ],
          "surface": [
           {
            "colorbar": {
             "outlinewidth": 0,
             "ticks": ""
            },
            "colorscale": [
             [
              0,
              "#0d0887"
             ],
             [
              0.1111111111111111,
              "#46039f"
             ],
             [
              0.2222222222222222,
              "#7201a8"
             ],
             [
              0.3333333333333333,
              "#9c179e"
             ],
             [
              0.4444444444444444,
              "#bd3786"
             ],
             [
              0.5555555555555556,
              "#d8576b"
             ],
             [
              0.6666666666666666,
              "#ed7953"
             ],
             [
              0.7777777777777778,
              "#fb9f3a"
             ],
             [
              0.8888888888888888,
              "#fdca26"
             ],
             [
              1,
              "#f0f921"
             ]
            ],
            "type": "surface"
           }
          ],
          "table": [
           {
            "cells": {
             "fill": {
              "color": "#EBF0F8"
             },
             "line": {
              "color": "white"
             }
            },
            "header": {
             "fill": {
              "color": "#C8D4E3"
             },
             "line": {
              "color": "white"
             }
            },
            "type": "table"
           }
          ]
         },
         "layout": {
          "annotationdefaults": {
           "arrowcolor": "#2a3f5f",
           "arrowhead": 0,
           "arrowwidth": 1
          },
          "autotypenumbers": "strict",
          "coloraxis": {
           "colorbar": {
            "outlinewidth": 0,
            "ticks": ""
           }
          },
          "colorscale": {
           "diverging": [
            [
             0,
             "#8e0152"
            ],
            [
             0.1,
             "#c51b7d"
            ],
            [
             0.2,
             "#de77ae"
            ],
            [
             0.3,
             "#f1b6da"
            ],
            [
             0.4,
             "#fde0ef"
            ],
            [
             0.5,
             "#f7f7f7"
            ],
            [
             0.6,
             "#e6f5d0"
            ],
            [
             0.7,
             "#b8e186"
            ],
            [
             0.8,
             "#7fbc41"
            ],
            [
             0.9,
             "#4d9221"
            ],
            [
             1,
             "#276419"
            ]
           ],
           "sequential": [
            [
             0,
             "#0d0887"
            ],
            [
             0.1111111111111111,
             "#46039f"
            ],
            [
             0.2222222222222222,
             "#7201a8"
            ],
            [
             0.3333333333333333,
             "#9c179e"
            ],
            [
             0.4444444444444444,
             "#bd3786"
            ],
            [
             0.5555555555555556,
             "#d8576b"
            ],
            [
             0.6666666666666666,
             "#ed7953"
            ],
            [
             0.7777777777777778,
             "#fb9f3a"
            ],
            [
             0.8888888888888888,
             "#fdca26"
            ],
            [
             1,
             "#f0f921"
            ]
           ],
           "sequentialminus": [
            [
             0,
             "#0d0887"
            ],
            [
             0.1111111111111111,
             "#46039f"
            ],
            [
             0.2222222222222222,
             "#7201a8"
            ],
            [
             0.3333333333333333,
             "#9c179e"
            ],
            [
             0.4444444444444444,
             "#bd3786"
            ],
            [
             0.5555555555555556,
             "#d8576b"
            ],
            [
             0.6666666666666666,
             "#ed7953"
            ],
            [
             0.7777777777777778,
             "#fb9f3a"
            ],
            [
             0.8888888888888888,
             "#fdca26"
            ],
            [
             1,
             "#f0f921"
            ]
           ]
          },
          "colorway": [
           "#636efa",
           "#EF553B",
           "#00cc96",
           "#ab63fa",
           "#FFA15A",
           "#19d3f3",
           "#FF6692",
           "#B6E880",
           "#FF97FF",
           "#FECB52"
          ],
          "font": {
           "color": "#2a3f5f"
          },
          "geo": {
           "bgcolor": "white",
           "lakecolor": "white",
           "landcolor": "#E5ECF6",
           "showlakes": true,
           "showland": true,
           "subunitcolor": "white"
          },
          "hoverlabel": {
           "align": "left"
          },
          "hovermode": "closest",
          "mapbox": {
           "style": "light"
          },
          "paper_bgcolor": "white",
          "plot_bgcolor": "#E5ECF6",
          "polar": {
           "angularaxis": {
            "gridcolor": "white",
            "linecolor": "white",
            "ticks": ""
           },
           "bgcolor": "#E5ECF6",
           "radialaxis": {
            "gridcolor": "white",
            "linecolor": "white",
            "ticks": ""
           }
          },
          "scene": {
           "xaxis": {
            "backgroundcolor": "#E5ECF6",
            "gridcolor": "white",
            "gridwidth": 2,
            "linecolor": "white",
            "showbackground": true,
            "ticks": "",
            "zerolinecolor": "white"
           },
           "yaxis": {
            "backgroundcolor": "#E5ECF6",
            "gridcolor": "white",
            "gridwidth": 2,
            "linecolor": "white",
            "showbackground": true,
            "ticks": "",
            "zerolinecolor": "white"
           },
           "zaxis": {
            "backgroundcolor": "#E5ECF6",
            "gridcolor": "white",
            "gridwidth": 2,
            "linecolor": "white",
            "showbackground": true,
            "ticks": "",
            "zerolinecolor": "white"
           }
          },
          "shapedefaults": {
           "line": {
            "color": "#2a3f5f"
           }
          },
          "ternary": {
           "aaxis": {
            "gridcolor": "white",
            "linecolor": "white",
            "ticks": ""
           },
           "baxis": {
            "gridcolor": "white",
            "linecolor": "white",
            "ticks": ""
           },
           "bgcolor": "#E5ECF6",
           "caxis": {
            "gridcolor": "white",
            "linecolor": "white",
            "ticks": ""
           }
          },
          "title": {
           "x": 0.05
          },
          "xaxis": {
           "automargin": true,
           "gridcolor": "white",
           "linecolor": "white",
           "ticks": "",
           "title": {
            "standoff": 15
           },
           "zerolinecolor": "white",
           "zerolinewidth": 2
          },
          "yaxis": {
           "automargin": true,
           "gridcolor": "white",
           "linecolor": "white",
           "ticks": "",
           "title": {
            "standoff": 15
           },
           "zerolinecolor": "white",
           "zerolinewidth": 2
          }
         }
        },
        "xaxis": {
         "anchor": "y",
         "domain": [
          0,
          1
         ],
         "title": {
          "text": "system_name"
         }
        },
        "yaxis": {
         "anchor": "x",
         "domain": [
          0,
          1
         ],
         "title": {
          "text": "mean_full_deployment"
         }
        }
       }
      }
     },
     "metadata": {},
     "output_type": "display_data"
    },
    {
     "data": {
      "application/vnd.plotly.v1+json": {
       "config": {
        "plotlyServerURL": "https://plot.ly"
       },
       "data": [
        {
         "hovertemplate": "system_name=%{x}<br>mae_full_deployment=%{y}<extra></extra>",
         "legendgroup": "",
         "marker": {
          "color": "#636efa",
          "symbol": "circle"
         },
         "mode": "markers",
         "name": "",
         "orientation": "v",
         "showlegend": false,
         "type": "scatter",
         "x": [
          "acropolis-3",
          "acropolis-6"
         ],
         "xaxis": "x",
         "y": [
          0.4823402540965587,
          0.6929739252169291
         ],
         "yaxis": "y"
        }
       ],
       "layout": {
        "legend": {
         "tracegroupgap": 0
        },
        "margin": {
         "t": 60
        },
        "template": {
         "data": {
          "bar": [
           {
            "error_x": {
             "color": "#2a3f5f"
            },
            "error_y": {
             "color": "#2a3f5f"
            },
            "marker": {
             "line": {
              "color": "#E5ECF6",
              "width": 0.5
             },
             "pattern": {
              "fillmode": "overlay",
              "size": 10,
              "solidity": 0.2
             }
            },
            "type": "bar"
           }
          ],
          "barpolar": [
           {
            "marker": {
             "line": {
              "color": "#E5ECF6",
              "width": 0.5
             },
             "pattern": {
              "fillmode": "overlay",
              "size": 10,
              "solidity": 0.2
             }
            },
            "type": "barpolar"
           }
          ],
          "carpet": [
           {
            "aaxis": {
             "endlinecolor": "#2a3f5f",
             "gridcolor": "white",
             "linecolor": "white",
             "minorgridcolor": "white",
             "startlinecolor": "#2a3f5f"
            },
            "baxis": {
             "endlinecolor": "#2a3f5f",
             "gridcolor": "white",
             "linecolor": "white",
             "minorgridcolor": "white",
             "startlinecolor": "#2a3f5f"
            },
            "type": "carpet"
           }
          ],
          "choropleth": [
           {
            "colorbar": {
             "outlinewidth": 0,
             "ticks": ""
            },
            "type": "choropleth"
           }
          ],
          "contour": [
           {
            "colorbar": {
             "outlinewidth": 0,
             "ticks": ""
            },
            "colorscale": [
             [
              0,
              "#0d0887"
             ],
             [
              0.1111111111111111,
              "#46039f"
             ],
             [
              0.2222222222222222,
              "#7201a8"
             ],
             [
              0.3333333333333333,
              "#9c179e"
             ],
             [
              0.4444444444444444,
              "#bd3786"
             ],
             [
              0.5555555555555556,
              "#d8576b"
             ],
             [
              0.6666666666666666,
              "#ed7953"
             ],
             [
              0.7777777777777778,
              "#fb9f3a"
             ],
             [
              0.8888888888888888,
              "#fdca26"
             ],
             [
              1,
              "#f0f921"
             ]
            ],
            "type": "contour"
           }
          ],
          "contourcarpet": [
           {
            "colorbar": {
             "outlinewidth": 0,
             "ticks": ""
            },
            "type": "contourcarpet"
           }
          ],
          "heatmap": [
           {
            "colorbar": {
             "outlinewidth": 0,
             "ticks": ""
            },
            "colorscale": [
             [
              0,
              "#0d0887"
             ],
             [
              0.1111111111111111,
              "#46039f"
             ],
             [
              0.2222222222222222,
              "#7201a8"
             ],
             [
              0.3333333333333333,
              "#9c179e"
             ],
             [
              0.4444444444444444,
              "#bd3786"
             ],
             [
              0.5555555555555556,
              "#d8576b"
             ],
             [
              0.6666666666666666,
              "#ed7953"
             ],
             [
              0.7777777777777778,
              "#fb9f3a"
             ],
             [
              0.8888888888888888,
              "#fdca26"
             ],
             [
              1,
              "#f0f921"
             ]
            ],
            "type": "heatmap"
           }
          ],
          "heatmapgl": [
           {
            "colorbar": {
             "outlinewidth": 0,
             "ticks": ""
            },
            "colorscale": [
             [
              0,
              "#0d0887"
             ],
             [
              0.1111111111111111,
              "#46039f"
             ],
             [
              0.2222222222222222,
              "#7201a8"
             ],
             [
              0.3333333333333333,
              "#9c179e"
             ],
             [
              0.4444444444444444,
              "#bd3786"
             ],
             [
              0.5555555555555556,
              "#d8576b"
             ],
             [
              0.6666666666666666,
              "#ed7953"
             ],
             [
              0.7777777777777778,
              "#fb9f3a"
             ],
             [
              0.8888888888888888,
              "#fdca26"
             ],
             [
              1,
              "#f0f921"
             ]
            ],
            "type": "heatmapgl"
           }
          ],
          "histogram": [
           {
            "marker": {
             "pattern": {
              "fillmode": "overlay",
              "size": 10,
              "solidity": 0.2
             }
            },
            "type": "histogram"
           }
          ],
          "histogram2d": [
           {
            "colorbar": {
             "outlinewidth": 0,
             "ticks": ""
            },
            "colorscale": [
             [
              0,
              "#0d0887"
             ],
             [
              0.1111111111111111,
              "#46039f"
             ],
             [
              0.2222222222222222,
              "#7201a8"
             ],
             [
              0.3333333333333333,
              "#9c179e"
             ],
             [
              0.4444444444444444,
              "#bd3786"
             ],
             [
              0.5555555555555556,
              "#d8576b"
             ],
             [
              0.6666666666666666,
              "#ed7953"
             ],
             [
              0.7777777777777778,
              "#fb9f3a"
             ],
             [
              0.8888888888888888,
              "#fdca26"
             ],
             [
              1,
              "#f0f921"
             ]
            ],
            "type": "histogram2d"
           }
          ],
          "histogram2dcontour": [
           {
            "colorbar": {
             "outlinewidth": 0,
             "ticks": ""
            },
            "colorscale": [
             [
              0,
              "#0d0887"
             ],
             [
              0.1111111111111111,
              "#46039f"
             ],
             [
              0.2222222222222222,
              "#7201a8"
             ],
             [
              0.3333333333333333,
              "#9c179e"
             ],
             [
              0.4444444444444444,
              "#bd3786"
             ],
             [
              0.5555555555555556,
              "#d8576b"
             ],
             [
              0.6666666666666666,
              "#ed7953"
             ],
             [
              0.7777777777777778,
              "#fb9f3a"
             ],
             [
              0.8888888888888888,
              "#fdca26"
             ],
             [
              1,
              "#f0f921"
             ]
            ],
            "type": "histogram2dcontour"
           }
          ],
          "mesh3d": [
           {
            "colorbar": {
             "outlinewidth": 0,
             "ticks": ""
            },
            "type": "mesh3d"
           }
          ],
          "parcoords": [
           {
            "line": {
             "colorbar": {
              "outlinewidth": 0,
              "ticks": ""
             }
            },
            "type": "parcoords"
           }
          ],
          "pie": [
           {
            "automargin": true,
            "type": "pie"
           }
          ],
          "scatter": [
           {
            "fillpattern": {
             "fillmode": "overlay",
             "size": 10,
             "solidity": 0.2
            },
            "type": "scatter"
           }
          ],
          "scatter3d": [
           {
            "line": {
             "colorbar": {
              "outlinewidth": 0,
              "ticks": ""
             }
            },
            "marker": {
             "colorbar": {
              "outlinewidth": 0,
              "ticks": ""
             }
            },
            "type": "scatter3d"
           }
          ],
          "scattercarpet": [
           {
            "marker": {
             "colorbar": {
              "outlinewidth": 0,
              "ticks": ""
             }
            },
            "type": "scattercarpet"
           }
          ],
          "scattergeo": [
           {
            "marker": {
             "colorbar": {
              "outlinewidth": 0,
              "ticks": ""
             }
            },
            "type": "scattergeo"
           }
          ],
          "scattergl": [
           {
            "marker": {
             "colorbar": {
              "outlinewidth": 0,
              "ticks": ""
             }
            },
            "type": "scattergl"
           }
          ],
          "scattermapbox": [
           {
            "marker": {
             "colorbar": {
              "outlinewidth": 0,
              "ticks": ""
             }
            },
            "type": "scattermapbox"
           }
          ],
          "scatterpolar": [
           {
            "marker": {
             "colorbar": {
              "outlinewidth": 0,
              "ticks": ""
             }
            },
            "type": "scatterpolar"
           }
          ],
          "scatterpolargl": [
           {
            "marker": {
             "colorbar": {
              "outlinewidth": 0,
              "ticks": ""
             }
            },
            "type": "scatterpolargl"
           }
          ],
          "scatterternary": [
           {
            "marker": {
             "colorbar": {
              "outlinewidth": 0,
              "ticks": ""
             }
            },
            "type": "scatterternary"
           }
          ],
          "surface": [
           {
            "colorbar": {
             "outlinewidth": 0,
             "ticks": ""
            },
            "colorscale": [
             [
              0,
              "#0d0887"
             ],
             [
              0.1111111111111111,
              "#46039f"
             ],
             [
              0.2222222222222222,
              "#7201a8"
             ],
             [
              0.3333333333333333,
              "#9c179e"
             ],
             [
              0.4444444444444444,
              "#bd3786"
             ],
             [
              0.5555555555555556,
              "#d8576b"
             ],
             [
              0.6666666666666666,
              "#ed7953"
             ],
             [
              0.7777777777777778,
              "#fb9f3a"
             ],
             [
              0.8888888888888888,
              "#fdca26"
             ],
             [
              1,
              "#f0f921"
             ]
            ],
            "type": "surface"
           }
          ],
          "table": [
           {
            "cells": {
             "fill": {
              "color": "#EBF0F8"
             },
             "line": {
              "color": "white"
             }
            },
            "header": {
             "fill": {
              "color": "#C8D4E3"
             },
             "line": {
              "color": "white"
             }
            },
            "type": "table"
           }
          ]
         },
         "layout": {
          "annotationdefaults": {
           "arrowcolor": "#2a3f5f",
           "arrowhead": 0,
           "arrowwidth": 1
          },
          "autotypenumbers": "strict",
          "coloraxis": {
           "colorbar": {
            "outlinewidth": 0,
            "ticks": ""
           }
          },
          "colorscale": {
           "diverging": [
            [
             0,
             "#8e0152"
            ],
            [
             0.1,
             "#c51b7d"
            ],
            [
             0.2,
             "#de77ae"
            ],
            [
             0.3,
             "#f1b6da"
            ],
            [
             0.4,
             "#fde0ef"
            ],
            [
             0.5,
             "#f7f7f7"
            ],
            [
             0.6,
             "#e6f5d0"
            ],
            [
             0.7,
             "#b8e186"
            ],
            [
             0.8,
             "#7fbc41"
            ],
            [
             0.9,
             "#4d9221"
            ],
            [
             1,
             "#276419"
            ]
           ],
           "sequential": [
            [
             0,
             "#0d0887"
            ],
            [
             0.1111111111111111,
             "#46039f"
            ],
            [
             0.2222222222222222,
             "#7201a8"
            ],
            [
             0.3333333333333333,
             "#9c179e"
            ],
            [
             0.4444444444444444,
             "#bd3786"
            ],
            [
             0.5555555555555556,
             "#d8576b"
            ],
            [
             0.6666666666666666,
             "#ed7953"
            ],
            [
             0.7777777777777778,
             "#fb9f3a"
            ],
            [
             0.8888888888888888,
             "#fdca26"
            ],
            [
             1,
             "#f0f921"
            ]
           ],
           "sequentialminus": [
            [
             0,
             "#0d0887"
            ],
            [
             0.1111111111111111,
             "#46039f"
            ],
            [
             0.2222222222222222,
             "#7201a8"
            ],
            [
             0.3333333333333333,
             "#9c179e"
            ],
            [
             0.4444444444444444,
             "#bd3786"
            ],
            [
             0.5555555555555556,
             "#d8576b"
            ],
            [
             0.6666666666666666,
             "#ed7953"
            ],
            [
             0.7777777777777778,
             "#fb9f3a"
            ],
            [
             0.8888888888888888,
             "#fdca26"
            ],
            [
             1,
             "#f0f921"
            ]
           ]
          },
          "colorway": [
           "#636efa",
           "#EF553B",
           "#00cc96",
           "#ab63fa",
           "#FFA15A",
           "#19d3f3",
           "#FF6692",
           "#B6E880",
           "#FF97FF",
           "#FECB52"
          ],
          "font": {
           "color": "#2a3f5f"
          },
          "geo": {
           "bgcolor": "white",
           "lakecolor": "white",
           "landcolor": "#E5ECF6",
           "showlakes": true,
           "showland": true,
           "subunitcolor": "white"
          },
          "hoverlabel": {
           "align": "left"
          },
          "hovermode": "closest",
          "mapbox": {
           "style": "light"
          },
          "paper_bgcolor": "white",
          "plot_bgcolor": "#E5ECF6",
          "polar": {
           "angularaxis": {
            "gridcolor": "white",
            "linecolor": "white",
            "ticks": ""
           },
           "bgcolor": "#E5ECF6",
           "radialaxis": {
            "gridcolor": "white",
            "linecolor": "white",
            "ticks": ""
           }
          },
          "scene": {
           "xaxis": {
            "backgroundcolor": "#E5ECF6",
            "gridcolor": "white",
            "gridwidth": 2,
            "linecolor": "white",
            "showbackground": true,
            "ticks": "",
            "zerolinecolor": "white"
           },
           "yaxis": {
            "backgroundcolor": "#E5ECF6",
            "gridcolor": "white",
            "gridwidth": 2,
            "linecolor": "white",
            "showbackground": true,
            "ticks": "",
            "zerolinecolor": "white"
           },
           "zaxis": {
            "backgroundcolor": "#E5ECF6",
            "gridcolor": "white",
            "gridwidth": 2,
            "linecolor": "white",
            "showbackground": true,
            "ticks": "",
            "zerolinecolor": "white"
           }
          },
          "shapedefaults": {
           "line": {
            "color": "#2a3f5f"
           }
          },
          "ternary": {
           "aaxis": {
            "gridcolor": "white",
            "linecolor": "white",
            "ticks": ""
           },
           "baxis": {
            "gridcolor": "white",
            "linecolor": "white",
            "ticks": ""
           },
           "bgcolor": "#E5ECF6",
           "caxis": {
            "gridcolor": "white",
            "linecolor": "white",
            "ticks": ""
           }
          },
          "title": {
           "x": 0.05
          },
          "xaxis": {
           "automargin": true,
           "gridcolor": "white",
           "linecolor": "white",
           "ticks": "",
           "title": {
            "standoff": 15
           },
           "zerolinecolor": "white",
           "zerolinewidth": 2
          },
          "yaxis": {
           "automargin": true,
           "gridcolor": "white",
           "linecolor": "white",
           "ticks": "",
           "title": {
            "standoff": 15
           },
           "zerolinecolor": "white",
           "zerolinewidth": 2
          }
         }
        },
        "xaxis": {
         "anchor": "y",
         "domain": [
          0,
          1
         ],
         "title": {
          "text": "system_name"
         }
        },
        "yaxis": {
         "anchor": "x",
         "domain": [
          0,
          1
         ],
         "title": {
          "text": "mae_full_deployment"
         }
        }
       }
      }
     },
     "metadata": {},
     "output_type": "display_data"
    },
    {
     "data": {
      "application/vnd.plotly.v1+json": {
       "config": {
        "plotlyServerURL": "https://plot.ly"
       },
       "data": [
        {
         "hovertemplate": "system_name=%{x}<br>rmse_full_deployment=%{y}<extra></extra>",
         "legendgroup": "",
         "marker": {
          "color": "#636efa",
          "symbol": "circle"
         },
         "mode": "markers",
         "name": "",
         "orientation": "v",
         "showlegend": false,
         "type": "scatter",
         "x": [
          "acropolis-3",
          "acropolis-6"
         ],
         "xaxis": "x",
         "y": [
          0.6084766857570496,
          0.8362929566651133
         ],
         "yaxis": "y"
        }
       ],
       "layout": {
        "legend": {
         "tracegroupgap": 0
        },
        "margin": {
         "t": 60
        },
        "template": {
         "data": {
          "bar": [
           {
            "error_x": {
             "color": "#2a3f5f"
            },
            "error_y": {
             "color": "#2a3f5f"
            },
            "marker": {
             "line": {
              "color": "#E5ECF6",
              "width": 0.5
             },
             "pattern": {
              "fillmode": "overlay",
              "size": 10,
              "solidity": 0.2
             }
            },
            "type": "bar"
           }
          ],
          "barpolar": [
           {
            "marker": {
             "line": {
              "color": "#E5ECF6",
              "width": 0.5
             },
             "pattern": {
              "fillmode": "overlay",
              "size": 10,
              "solidity": 0.2
             }
            },
            "type": "barpolar"
           }
          ],
          "carpet": [
           {
            "aaxis": {
             "endlinecolor": "#2a3f5f",
             "gridcolor": "white",
             "linecolor": "white",
             "minorgridcolor": "white",
             "startlinecolor": "#2a3f5f"
            },
            "baxis": {
             "endlinecolor": "#2a3f5f",
             "gridcolor": "white",
             "linecolor": "white",
             "minorgridcolor": "white",
             "startlinecolor": "#2a3f5f"
            },
            "type": "carpet"
           }
          ],
          "choropleth": [
           {
            "colorbar": {
             "outlinewidth": 0,
             "ticks": ""
            },
            "type": "choropleth"
           }
          ],
          "contour": [
           {
            "colorbar": {
             "outlinewidth": 0,
             "ticks": ""
            },
            "colorscale": [
             [
              0,
              "#0d0887"
             ],
             [
              0.1111111111111111,
              "#46039f"
             ],
             [
              0.2222222222222222,
              "#7201a8"
             ],
             [
              0.3333333333333333,
              "#9c179e"
             ],
             [
              0.4444444444444444,
              "#bd3786"
             ],
             [
              0.5555555555555556,
              "#d8576b"
             ],
             [
              0.6666666666666666,
              "#ed7953"
             ],
             [
              0.7777777777777778,
              "#fb9f3a"
             ],
             [
              0.8888888888888888,
              "#fdca26"
             ],
             [
              1,
              "#f0f921"
             ]
            ],
            "type": "contour"
           }
          ],
          "contourcarpet": [
           {
            "colorbar": {
             "outlinewidth": 0,
             "ticks": ""
            },
            "type": "contourcarpet"
           }
          ],
          "heatmap": [
           {
            "colorbar": {
             "outlinewidth": 0,
             "ticks": ""
            },
            "colorscale": [
             [
              0,
              "#0d0887"
             ],
             [
              0.1111111111111111,
              "#46039f"
             ],
             [
              0.2222222222222222,
              "#7201a8"
             ],
             [
              0.3333333333333333,
              "#9c179e"
             ],
             [
              0.4444444444444444,
              "#bd3786"
             ],
             [
              0.5555555555555556,
              "#d8576b"
             ],
             [
              0.6666666666666666,
              "#ed7953"
             ],
             [
              0.7777777777777778,
              "#fb9f3a"
             ],
             [
              0.8888888888888888,
              "#fdca26"
             ],
             [
              1,
              "#f0f921"
             ]
            ],
            "type": "heatmap"
           }
          ],
          "heatmapgl": [
           {
            "colorbar": {
             "outlinewidth": 0,
             "ticks": ""
            },
            "colorscale": [
             [
              0,
              "#0d0887"
             ],
             [
              0.1111111111111111,
              "#46039f"
             ],
             [
              0.2222222222222222,
              "#7201a8"
             ],
             [
              0.3333333333333333,
              "#9c179e"
             ],
             [
              0.4444444444444444,
              "#bd3786"
             ],
             [
              0.5555555555555556,
              "#d8576b"
             ],
             [
              0.6666666666666666,
              "#ed7953"
             ],
             [
              0.7777777777777778,
              "#fb9f3a"
             ],
             [
              0.8888888888888888,
              "#fdca26"
             ],
             [
              1,
              "#f0f921"
             ]
            ],
            "type": "heatmapgl"
           }
          ],
          "histogram": [
           {
            "marker": {
             "pattern": {
              "fillmode": "overlay",
              "size": 10,
              "solidity": 0.2
             }
            },
            "type": "histogram"
           }
          ],
          "histogram2d": [
           {
            "colorbar": {
             "outlinewidth": 0,
             "ticks": ""
            },
            "colorscale": [
             [
              0,
              "#0d0887"
             ],
             [
              0.1111111111111111,
              "#46039f"
             ],
             [
              0.2222222222222222,
              "#7201a8"
             ],
             [
              0.3333333333333333,
              "#9c179e"
             ],
             [
              0.4444444444444444,
              "#bd3786"
             ],
             [
              0.5555555555555556,
              "#d8576b"
             ],
             [
              0.6666666666666666,
              "#ed7953"
             ],
             [
              0.7777777777777778,
              "#fb9f3a"
             ],
             [
              0.8888888888888888,
              "#fdca26"
             ],
             [
              1,
              "#f0f921"
             ]
            ],
            "type": "histogram2d"
           }
          ],
          "histogram2dcontour": [
           {
            "colorbar": {
             "outlinewidth": 0,
             "ticks": ""
            },
            "colorscale": [
             [
              0,
              "#0d0887"
             ],
             [
              0.1111111111111111,
              "#46039f"
             ],
             [
              0.2222222222222222,
              "#7201a8"
             ],
             [
              0.3333333333333333,
              "#9c179e"
             ],
             [
              0.4444444444444444,
              "#bd3786"
             ],
             [
              0.5555555555555556,
              "#d8576b"
             ],
             [
              0.6666666666666666,
              "#ed7953"
             ],
             [
              0.7777777777777778,
              "#fb9f3a"
             ],
             [
              0.8888888888888888,
              "#fdca26"
             ],
             [
              1,
              "#f0f921"
             ]
            ],
            "type": "histogram2dcontour"
           }
          ],
          "mesh3d": [
           {
            "colorbar": {
             "outlinewidth": 0,
             "ticks": ""
            },
            "type": "mesh3d"
           }
          ],
          "parcoords": [
           {
            "line": {
             "colorbar": {
              "outlinewidth": 0,
              "ticks": ""
             }
            },
            "type": "parcoords"
           }
          ],
          "pie": [
           {
            "automargin": true,
            "type": "pie"
           }
          ],
          "scatter": [
           {
            "fillpattern": {
             "fillmode": "overlay",
             "size": 10,
             "solidity": 0.2
            },
            "type": "scatter"
           }
          ],
          "scatter3d": [
           {
            "line": {
             "colorbar": {
              "outlinewidth": 0,
              "ticks": ""
             }
            },
            "marker": {
             "colorbar": {
              "outlinewidth": 0,
              "ticks": ""
             }
            },
            "type": "scatter3d"
           }
          ],
          "scattercarpet": [
           {
            "marker": {
             "colorbar": {
              "outlinewidth": 0,
              "ticks": ""
             }
            },
            "type": "scattercarpet"
           }
          ],
          "scattergeo": [
           {
            "marker": {
             "colorbar": {
              "outlinewidth": 0,
              "ticks": ""
             }
            },
            "type": "scattergeo"
           }
          ],
          "scattergl": [
           {
            "marker": {
             "colorbar": {
              "outlinewidth": 0,
              "ticks": ""
             }
            },
            "type": "scattergl"
           }
          ],
          "scattermapbox": [
           {
            "marker": {
             "colorbar": {
              "outlinewidth": 0,
              "ticks": ""
             }
            },
            "type": "scattermapbox"
           }
          ],
          "scatterpolar": [
           {
            "marker": {
             "colorbar": {
              "outlinewidth": 0,
              "ticks": ""
             }
            },
            "type": "scatterpolar"
           }
          ],
          "scatterpolargl": [
           {
            "marker": {
             "colorbar": {
              "outlinewidth": 0,
              "ticks": ""
             }
            },
            "type": "scatterpolargl"
           }
          ],
          "scatterternary": [
           {
            "marker": {
             "colorbar": {
              "outlinewidth": 0,
              "ticks": ""
             }
            },
            "type": "scatterternary"
           }
          ],
          "surface": [
           {
            "colorbar": {
             "outlinewidth": 0,
             "ticks": ""
            },
            "colorscale": [
             [
              0,
              "#0d0887"
             ],
             [
              0.1111111111111111,
              "#46039f"
             ],
             [
              0.2222222222222222,
              "#7201a8"
             ],
             [
              0.3333333333333333,
              "#9c179e"
             ],
             [
              0.4444444444444444,
              "#bd3786"
             ],
             [
              0.5555555555555556,
              "#d8576b"
             ],
             [
              0.6666666666666666,
              "#ed7953"
             ],
             [
              0.7777777777777778,
              "#fb9f3a"
             ],
             [
              0.8888888888888888,
              "#fdca26"
             ],
             [
              1,
              "#f0f921"
             ]
            ],
            "type": "surface"
           }
          ],
          "table": [
           {
            "cells": {
             "fill": {
              "color": "#EBF0F8"
             },
             "line": {
              "color": "white"
             }
            },
            "header": {
             "fill": {
              "color": "#C8D4E3"
             },
             "line": {
              "color": "white"
             }
            },
            "type": "table"
           }
          ]
         },
         "layout": {
          "annotationdefaults": {
           "arrowcolor": "#2a3f5f",
           "arrowhead": 0,
           "arrowwidth": 1
          },
          "autotypenumbers": "strict",
          "coloraxis": {
           "colorbar": {
            "outlinewidth": 0,
            "ticks": ""
           }
          },
          "colorscale": {
           "diverging": [
            [
             0,
             "#8e0152"
            ],
            [
             0.1,
             "#c51b7d"
            ],
            [
             0.2,
             "#de77ae"
            ],
            [
             0.3,
             "#f1b6da"
            ],
            [
             0.4,
             "#fde0ef"
            ],
            [
             0.5,
             "#f7f7f7"
            ],
            [
             0.6,
             "#e6f5d0"
            ],
            [
             0.7,
             "#b8e186"
            ],
            [
             0.8,
             "#7fbc41"
            ],
            [
             0.9,
             "#4d9221"
            ],
            [
             1,
             "#276419"
            ]
           ],
           "sequential": [
            [
             0,
             "#0d0887"
            ],
            [
             0.1111111111111111,
             "#46039f"
            ],
            [
             0.2222222222222222,
             "#7201a8"
            ],
            [
             0.3333333333333333,
             "#9c179e"
            ],
            [
             0.4444444444444444,
             "#bd3786"
            ],
            [
             0.5555555555555556,
             "#d8576b"
            ],
            [
             0.6666666666666666,
             "#ed7953"
            ],
            [
             0.7777777777777778,
             "#fb9f3a"
            ],
            [
             0.8888888888888888,
             "#fdca26"
            ],
            [
             1,
             "#f0f921"
            ]
           ],
           "sequentialminus": [
            [
             0,
             "#0d0887"
            ],
            [
             0.1111111111111111,
             "#46039f"
            ],
            [
             0.2222222222222222,
             "#7201a8"
            ],
            [
             0.3333333333333333,
             "#9c179e"
            ],
            [
             0.4444444444444444,
             "#bd3786"
            ],
            [
             0.5555555555555556,
             "#d8576b"
            ],
            [
             0.6666666666666666,
             "#ed7953"
            ],
            [
             0.7777777777777778,
             "#fb9f3a"
            ],
            [
             0.8888888888888888,
             "#fdca26"
            ],
            [
             1,
             "#f0f921"
            ]
           ]
          },
          "colorway": [
           "#636efa",
           "#EF553B",
           "#00cc96",
           "#ab63fa",
           "#FFA15A",
           "#19d3f3",
           "#FF6692",
           "#B6E880",
           "#FF97FF",
           "#FECB52"
          ],
          "font": {
           "color": "#2a3f5f"
          },
          "geo": {
           "bgcolor": "white",
           "lakecolor": "white",
           "landcolor": "#E5ECF6",
           "showlakes": true,
           "showland": true,
           "subunitcolor": "white"
          },
          "hoverlabel": {
           "align": "left"
          },
          "hovermode": "closest",
          "mapbox": {
           "style": "light"
          },
          "paper_bgcolor": "white",
          "plot_bgcolor": "#E5ECF6",
          "polar": {
           "angularaxis": {
            "gridcolor": "white",
            "linecolor": "white",
            "ticks": ""
           },
           "bgcolor": "#E5ECF6",
           "radialaxis": {
            "gridcolor": "white",
            "linecolor": "white",
            "ticks": ""
           }
          },
          "scene": {
           "xaxis": {
            "backgroundcolor": "#E5ECF6",
            "gridcolor": "white",
            "gridwidth": 2,
            "linecolor": "white",
            "showbackground": true,
            "ticks": "",
            "zerolinecolor": "white"
           },
           "yaxis": {
            "backgroundcolor": "#E5ECF6",
            "gridcolor": "white",
            "gridwidth": 2,
            "linecolor": "white",
            "showbackground": true,
            "ticks": "",
            "zerolinecolor": "white"
           },
           "zaxis": {
            "backgroundcolor": "#E5ECF6",
            "gridcolor": "white",
            "gridwidth": 2,
            "linecolor": "white",
            "showbackground": true,
            "ticks": "",
            "zerolinecolor": "white"
           }
          },
          "shapedefaults": {
           "line": {
            "color": "#2a3f5f"
           }
          },
          "ternary": {
           "aaxis": {
            "gridcolor": "white",
            "linecolor": "white",
            "ticks": ""
           },
           "baxis": {
            "gridcolor": "white",
            "linecolor": "white",
            "ticks": ""
           },
           "bgcolor": "#E5ECF6",
           "caxis": {
            "gridcolor": "white",
            "linecolor": "white",
            "ticks": ""
           }
          },
          "title": {
           "x": 0.05
          },
          "xaxis": {
           "automargin": true,
           "gridcolor": "white",
           "linecolor": "white",
           "ticks": "",
           "title": {
            "standoff": 15
           },
           "zerolinecolor": "white",
           "zerolinewidth": 2
          },
          "yaxis": {
           "automargin": true,
           "gridcolor": "white",
           "linecolor": "white",
           "ticks": "",
           "title": {
            "standoff": 15
           },
           "zerolinecolor": "white",
           "zerolinewidth": 2
          }
         }
        },
        "xaxis": {
         "anchor": "y",
         "domain": [
          0,
          1
         ],
         "title": {
          "text": "system_name"
         }
        },
        "yaxis": {
         "anchor": "x",
         "domain": [
          0,
          1
         ],
         "title": {
          "text": "rmse_full_deployment"
         }
        }
       }
      }
     },
     "metadata": {},
     "output_type": "display_data"
    }
   ],
   "source": [
    "fig = px.scatter(df, x=\"datetime\", y=\"diff\", color = \"system_name\")\n",
    "fig.show()\n",
    "fig = px.scatter(df_sbs, x=\"system_name\", y=\"mean_full_deployment\")\n",
    "fig.show()\n",
    "fig = px.scatter(df_sbs, x=\"system_name\", y=\"mae_full_deployment\")\n",
    "fig.show()\n",
    "fig = px.scatter(df_sbs, x=\"system_name\", y=\"rmse_full_deployment\")\n",
    "fig.show()"
   ]
  },
  {
   "cell_type": "code",
   "execution_count": 8,
   "metadata": {},
   "outputs": [
    {
     "data": {
      "application/vnd.plotly.v1+json": {
       "config": {
        "plotlyServerURL": "https://plot.ly"
       },
       "data": [
        {
         "hovertemplate": "system_name=%{x}<br>sbs_days=%{y}<extra></extra>",
         "legendgroup": "",
         "marker": {
          "color": "#636efa",
          "symbol": "circle"
         },
         "mode": "markers",
         "name": "",
         "orientation": "v",
         "showlegend": false,
         "type": "scatter",
         "x": [
          "acropolis-3",
          "acropolis-6"
         ],
         "xaxis": "x",
         "y": [
          13,
          13
         ],
         "yaxis": "y"
        }
       ],
       "layout": {
        "legend": {
         "tracegroupgap": 0
        },
        "margin": {
         "t": 60
        },
        "template": {
         "data": {
          "bar": [
           {
            "error_x": {
             "color": "#2a3f5f"
            },
            "error_y": {
             "color": "#2a3f5f"
            },
            "marker": {
             "line": {
              "color": "#E5ECF6",
              "width": 0.5
             },
             "pattern": {
              "fillmode": "overlay",
              "size": 10,
              "solidity": 0.2
             }
            },
            "type": "bar"
           }
          ],
          "barpolar": [
           {
            "marker": {
             "line": {
              "color": "#E5ECF6",
              "width": 0.5
             },
             "pattern": {
              "fillmode": "overlay",
              "size": 10,
              "solidity": 0.2
             }
            },
            "type": "barpolar"
           }
          ],
          "carpet": [
           {
            "aaxis": {
             "endlinecolor": "#2a3f5f",
             "gridcolor": "white",
             "linecolor": "white",
             "minorgridcolor": "white",
             "startlinecolor": "#2a3f5f"
            },
            "baxis": {
             "endlinecolor": "#2a3f5f",
             "gridcolor": "white",
             "linecolor": "white",
             "minorgridcolor": "white",
             "startlinecolor": "#2a3f5f"
            },
            "type": "carpet"
           }
          ],
          "choropleth": [
           {
            "colorbar": {
             "outlinewidth": 0,
             "ticks": ""
            },
            "type": "choropleth"
           }
          ],
          "contour": [
           {
            "colorbar": {
             "outlinewidth": 0,
             "ticks": ""
            },
            "colorscale": [
             [
              0,
              "#0d0887"
             ],
             [
              0.1111111111111111,
              "#46039f"
             ],
             [
              0.2222222222222222,
              "#7201a8"
             ],
             [
              0.3333333333333333,
              "#9c179e"
             ],
             [
              0.4444444444444444,
              "#bd3786"
             ],
             [
              0.5555555555555556,
              "#d8576b"
             ],
             [
              0.6666666666666666,
              "#ed7953"
             ],
             [
              0.7777777777777778,
              "#fb9f3a"
             ],
             [
              0.8888888888888888,
              "#fdca26"
             ],
             [
              1,
              "#f0f921"
             ]
            ],
            "type": "contour"
           }
          ],
          "contourcarpet": [
           {
            "colorbar": {
             "outlinewidth": 0,
             "ticks": ""
            },
            "type": "contourcarpet"
           }
          ],
          "heatmap": [
           {
            "colorbar": {
             "outlinewidth": 0,
             "ticks": ""
            },
            "colorscale": [
             [
              0,
              "#0d0887"
             ],
             [
              0.1111111111111111,
              "#46039f"
             ],
             [
              0.2222222222222222,
              "#7201a8"
             ],
             [
              0.3333333333333333,
              "#9c179e"
             ],
             [
              0.4444444444444444,
              "#bd3786"
             ],
             [
              0.5555555555555556,
              "#d8576b"
             ],
             [
              0.6666666666666666,
              "#ed7953"
             ],
             [
              0.7777777777777778,
              "#fb9f3a"
             ],
             [
              0.8888888888888888,
              "#fdca26"
             ],
             [
              1,
              "#f0f921"
             ]
            ],
            "type": "heatmap"
           }
          ],
          "heatmapgl": [
           {
            "colorbar": {
             "outlinewidth": 0,
             "ticks": ""
            },
            "colorscale": [
             [
              0,
              "#0d0887"
             ],
             [
              0.1111111111111111,
              "#46039f"
             ],
             [
              0.2222222222222222,
              "#7201a8"
             ],
             [
              0.3333333333333333,
              "#9c179e"
             ],
             [
              0.4444444444444444,
              "#bd3786"
             ],
             [
              0.5555555555555556,
              "#d8576b"
             ],
             [
              0.6666666666666666,
              "#ed7953"
             ],
             [
              0.7777777777777778,
              "#fb9f3a"
             ],
             [
              0.8888888888888888,
              "#fdca26"
             ],
             [
              1,
              "#f0f921"
             ]
            ],
            "type": "heatmapgl"
           }
          ],
          "histogram": [
           {
            "marker": {
             "pattern": {
              "fillmode": "overlay",
              "size": 10,
              "solidity": 0.2
             }
            },
            "type": "histogram"
           }
          ],
          "histogram2d": [
           {
            "colorbar": {
             "outlinewidth": 0,
             "ticks": ""
            },
            "colorscale": [
             [
              0,
              "#0d0887"
             ],
             [
              0.1111111111111111,
              "#46039f"
             ],
             [
              0.2222222222222222,
              "#7201a8"
             ],
             [
              0.3333333333333333,
              "#9c179e"
             ],
             [
              0.4444444444444444,
              "#bd3786"
             ],
             [
              0.5555555555555556,
              "#d8576b"
             ],
             [
              0.6666666666666666,
              "#ed7953"
             ],
             [
              0.7777777777777778,
              "#fb9f3a"
             ],
             [
              0.8888888888888888,
              "#fdca26"
             ],
             [
              1,
              "#f0f921"
             ]
            ],
            "type": "histogram2d"
           }
          ],
          "histogram2dcontour": [
           {
            "colorbar": {
             "outlinewidth": 0,
             "ticks": ""
            },
            "colorscale": [
             [
              0,
              "#0d0887"
             ],
             [
              0.1111111111111111,
              "#46039f"
             ],
             [
              0.2222222222222222,
              "#7201a8"
             ],
             [
              0.3333333333333333,
              "#9c179e"
             ],
             [
              0.4444444444444444,
              "#bd3786"
             ],
             [
              0.5555555555555556,
              "#d8576b"
             ],
             [
              0.6666666666666666,
              "#ed7953"
             ],
             [
              0.7777777777777778,
              "#fb9f3a"
             ],
             [
              0.8888888888888888,
              "#fdca26"
             ],
             [
              1,
              "#f0f921"
             ]
            ],
            "type": "histogram2dcontour"
           }
          ],
          "mesh3d": [
           {
            "colorbar": {
             "outlinewidth": 0,
             "ticks": ""
            },
            "type": "mesh3d"
           }
          ],
          "parcoords": [
           {
            "line": {
             "colorbar": {
              "outlinewidth": 0,
              "ticks": ""
             }
            },
            "type": "parcoords"
           }
          ],
          "pie": [
           {
            "automargin": true,
            "type": "pie"
           }
          ],
          "scatter": [
           {
            "fillpattern": {
             "fillmode": "overlay",
             "size": 10,
             "solidity": 0.2
            },
            "type": "scatter"
           }
          ],
          "scatter3d": [
           {
            "line": {
             "colorbar": {
              "outlinewidth": 0,
              "ticks": ""
             }
            },
            "marker": {
             "colorbar": {
              "outlinewidth": 0,
              "ticks": ""
             }
            },
            "type": "scatter3d"
           }
          ],
          "scattercarpet": [
           {
            "marker": {
             "colorbar": {
              "outlinewidth": 0,
              "ticks": ""
             }
            },
            "type": "scattercarpet"
           }
          ],
          "scattergeo": [
           {
            "marker": {
             "colorbar": {
              "outlinewidth": 0,
              "ticks": ""
             }
            },
            "type": "scattergeo"
           }
          ],
          "scattergl": [
           {
            "marker": {
             "colorbar": {
              "outlinewidth": 0,
              "ticks": ""
             }
            },
            "type": "scattergl"
           }
          ],
          "scattermapbox": [
           {
            "marker": {
             "colorbar": {
              "outlinewidth": 0,
              "ticks": ""
             }
            },
            "type": "scattermapbox"
           }
          ],
          "scatterpolar": [
           {
            "marker": {
             "colorbar": {
              "outlinewidth": 0,
              "ticks": ""
             }
            },
            "type": "scatterpolar"
           }
          ],
          "scatterpolargl": [
           {
            "marker": {
             "colorbar": {
              "outlinewidth": 0,
              "ticks": ""
             }
            },
            "type": "scatterpolargl"
           }
          ],
          "scatterternary": [
           {
            "marker": {
             "colorbar": {
              "outlinewidth": 0,
              "ticks": ""
             }
            },
            "type": "scatterternary"
           }
          ],
          "surface": [
           {
            "colorbar": {
             "outlinewidth": 0,
             "ticks": ""
            },
            "colorscale": [
             [
              0,
              "#0d0887"
             ],
             [
              0.1111111111111111,
              "#46039f"
             ],
             [
              0.2222222222222222,
              "#7201a8"
             ],
             [
              0.3333333333333333,
              "#9c179e"
             ],
             [
              0.4444444444444444,
              "#bd3786"
             ],
             [
              0.5555555555555556,
              "#d8576b"
             ],
             [
              0.6666666666666666,
              "#ed7953"
             ],
             [
              0.7777777777777778,
              "#fb9f3a"
             ],
             [
              0.8888888888888888,
              "#fdca26"
             ],
             [
              1,
              "#f0f921"
             ]
            ],
            "type": "surface"
           }
          ],
          "table": [
           {
            "cells": {
             "fill": {
              "color": "#EBF0F8"
             },
             "line": {
              "color": "white"
             }
            },
            "header": {
             "fill": {
              "color": "#C8D4E3"
             },
             "line": {
              "color": "white"
             }
            },
            "type": "table"
           }
          ]
         },
         "layout": {
          "annotationdefaults": {
           "arrowcolor": "#2a3f5f",
           "arrowhead": 0,
           "arrowwidth": 1
          },
          "autotypenumbers": "strict",
          "coloraxis": {
           "colorbar": {
            "outlinewidth": 0,
            "ticks": ""
           }
          },
          "colorscale": {
           "diverging": [
            [
             0,
             "#8e0152"
            ],
            [
             0.1,
             "#c51b7d"
            ],
            [
             0.2,
             "#de77ae"
            ],
            [
             0.3,
             "#f1b6da"
            ],
            [
             0.4,
             "#fde0ef"
            ],
            [
             0.5,
             "#f7f7f7"
            ],
            [
             0.6,
             "#e6f5d0"
            ],
            [
             0.7,
             "#b8e186"
            ],
            [
             0.8,
             "#7fbc41"
            ],
            [
             0.9,
             "#4d9221"
            ],
            [
             1,
             "#276419"
            ]
           ],
           "sequential": [
            [
             0,
             "#0d0887"
            ],
            [
             0.1111111111111111,
             "#46039f"
            ],
            [
             0.2222222222222222,
             "#7201a8"
            ],
            [
             0.3333333333333333,
             "#9c179e"
            ],
            [
             0.4444444444444444,
             "#bd3786"
            ],
            [
             0.5555555555555556,
             "#d8576b"
            ],
            [
             0.6666666666666666,
             "#ed7953"
            ],
            [
             0.7777777777777778,
             "#fb9f3a"
            ],
            [
             0.8888888888888888,
             "#fdca26"
            ],
            [
             1,
             "#f0f921"
            ]
           ],
           "sequentialminus": [
            [
             0,
             "#0d0887"
            ],
            [
             0.1111111111111111,
             "#46039f"
            ],
            [
             0.2222222222222222,
             "#7201a8"
            ],
            [
             0.3333333333333333,
             "#9c179e"
            ],
            [
             0.4444444444444444,
             "#bd3786"
            ],
            [
             0.5555555555555556,
             "#d8576b"
            ],
            [
             0.6666666666666666,
             "#ed7953"
            ],
            [
             0.7777777777777778,
             "#fb9f3a"
            ],
            [
             0.8888888888888888,
             "#fdca26"
            ],
            [
             1,
             "#f0f921"
            ]
           ]
          },
          "colorway": [
           "#636efa",
           "#EF553B",
           "#00cc96",
           "#ab63fa",
           "#FFA15A",
           "#19d3f3",
           "#FF6692",
           "#B6E880",
           "#FF97FF",
           "#FECB52"
          ],
          "font": {
           "color": "#2a3f5f"
          },
          "geo": {
           "bgcolor": "white",
           "lakecolor": "white",
           "landcolor": "#E5ECF6",
           "showlakes": true,
           "showland": true,
           "subunitcolor": "white"
          },
          "hoverlabel": {
           "align": "left"
          },
          "hovermode": "closest",
          "mapbox": {
           "style": "light"
          },
          "paper_bgcolor": "white",
          "plot_bgcolor": "#E5ECF6",
          "polar": {
           "angularaxis": {
            "gridcolor": "white",
            "linecolor": "white",
            "ticks": ""
           },
           "bgcolor": "#E5ECF6",
           "radialaxis": {
            "gridcolor": "white",
            "linecolor": "white",
            "ticks": ""
           }
          },
          "scene": {
           "xaxis": {
            "backgroundcolor": "#E5ECF6",
            "gridcolor": "white",
            "gridwidth": 2,
            "linecolor": "white",
            "showbackground": true,
            "ticks": "",
            "zerolinecolor": "white"
           },
           "yaxis": {
            "backgroundcolor": "#E5ECF6",
            "gridcolor": "white",
            "gridwidth": 2,
            "linecolor": "white",
            "showbackground": true,
            "ticks": "",
            "zerolinecolor": "white"
           },
           "zaxis": {
            "backgroundcolor": "#E5ECF6",
            "gridcolor": "white",
            "gridwidth": 2,
            "linecolor": "white",
            "showbackground": true,
            "ticks": "",
            "zerolinecolor": "white"
           }
          },
          "shapedefaults": {
           "line": {
            "color": "#2a3f5f"
           }
          },
          "ternary": {
           "aaxis": {
            "gridcolor": "white",
            "linecolor": "white",
            "ticks": ""
           },
           "baxis": {
            "gridcolor": "white",
            "linecolor": "white",
            "ticks": ""
           },
           "bgcolor": "#E5ECF6",
           "caxis": {
            "gridcolor": "white",
            "linecolor": "white",
            "ticks": ""
           }
          },
          "title": {
           "x": 0.05
          },
          "xaxis": {
           "automargin": true,
           "gridcolor": "white",
           "linecolor": "white",
           "ticks": "",
           "title": {
            "standoff": 15
           },
           "zerolinecolor": "white",
           "zerolinewidth": 2
          },
          "yaxis": {
           "automargin": true,
           "gridcolor": "white",
           "linecolor": "white",
           "ticks": "",
           "title": {
            "standoff": 15
           },
           "zerolinecolor": "white",
           "zerolinewidth": 2
          }
         }
        },
        "xaxis": {
         "anchor": "y",
         "domain": [
          0,
          1
         ],
         "title": {
          "text": "system_name"
         }
        },
        "yaxis": {
         "anchor": "x",
         "domain": [
          0,
          1
         ],
         "title": {
          "text": "sbs_days"
         }
        }
       }
      }
     },
     "metadata": {},
     "output_type": "display_data"
    }
   ],
   "source": [
    "# 144 * 10 minute intervals in 1 day - 3 * 10 min intervals in one calibration\n",
    "# 24* 1h interval in 1 day\n",
    "\n",
    "df_plot = df.sort(\"datetime\") \\\n",
    "    .group_by([\"system_name\", \"system_id\"]) \\\n",
    "    .agg((pl.col(\"gmp343_corrected\").count() / 24).cast(int).alias(\"sbs_days\")) \\\n",
    "    .join(df_sbs, on=\"system_id\") \\\n",
    "    .drop(\"^.*_right$\") \\\n",
    "    .sort(\"system_id\")\n",
    "\n",
    "fig = px.scatter(df_plot, x=\"system_name\", y=\"sbs_days\")\n",
    "fig.show()"
   ]
  },
  {
   "cell_type": "code",
   "execution_count": 9,
   "metadata": {},
   "outputs": [
    {
     "data": {
      "application/vnd.plotly.v1+json": {
       "config": {
        "plotlyServerURL": "https://plot.ly"
       },
       "data": [
        {
         "hovertemplate": "system_name=%{x}<br>rmse_full_deployment=%{y}<br>sbs_days=%{marker.color}<extra></extra>",
         "legendgroup": "",
         "marker": {
          "color": [
           13,
           13
          ],
          "coloraxis": "coloraxis",
          "symbol": "circle"
         },
         "mode": "markers",
         "name": "",
         "orientation": "v",
         "showlegend": false,
         "type": "scatter",
         "x": [
          "acropolis-3",
          "acropolis-6"
         ],
         "xaxis": "x",
         "y": [
          0.6084766857570496,
          0.8362929566651133
         ],
         "yaxis": "y"
        }
       ],
       "layout": {
        "coloraxis": {
         "colorbar": {
          "title": {
           "text": "sbs_days"
          }
         },
         "colorscale": [
          [
           0,
           "rgb(255,0,0)"
          ],
          [
           1,
           "rgb(0,0,255)"
          ]
         ]
        },
        "legend": {
         "tracegroupgap": 0
        },
        "margin": {
         "t": 60
        },
        "template": {
         "data": {
          "bar": [
           {
            "error_x": {
             "color": "#2a3f5f"
            },
            "error_y": {
             "color": "#2a3f5f"
            },
            "marker": {
             "line": {
              "color": "#E5ECF6",
              "width": 0.5
             },
             "pattern": {
              "fillmode": "overlay",
              "size": 10,
              "solidity": 0.2
             }
            },
            "type": "bar"
           }
          ],
          "barpolar": [
           {
            "marker": {
             "line": {
              "color": "#E5ECF6",
              "width": 0.5
             },
             "pattern": {
              "fillmode": "overlay",
              "size": 10,
              "solidity": 0.2
             }
            },
            "type": "barpolar"
           }
          ],
          "carpet": [
           {
            "aaxis": {
             "endlinecolor": "#2a3f5f",
             "gridcolor": "white",
             "linecolor": "white",
             "minorgridcolor": "white",
             "startlinecolor": "#2a3f5f"
            },
            "baxis": {
             "endlinecolor": "#2a3f5f",
             "gridcolor": "white",
             "linecolor": "white",
             "minorgridcolor": "white",
             "startlinecolor": "#2a3f5f"
            },
            "type": "carpet"
           }
          ],
          "choropleth": [
           {
            "colorbar": {
             "outlinewidth": 0,
             "ticks": ""
            },
            "type": "choropleth"
           }
          ],
          "contour": [
           {
            "colorbar": {
             "outlinewidth": 0,
             "ticks": ""
            },
            "colorscale": [
             [
              0,
              "#0d0887"
             ],
             [
              0.1111111111111111,
              "#46039f"
             ],
             [
              0.2222222222222222,
              "#7201a8"
             ],
             [
              0.3333333333333333,
              "#9c179e"
             ],
             [
              0.4444444444444444,
              "#bd3786"
             ],
             [
              0.5555555555555556,
              "#d8576b"
             ],
             [
              0.6666666666666666,
              "#ed7953"
             ],
             [
              0.7777777777777778,
              "#fb9f3a"
             ],
             [
              0.8888888888888888,
              "#fdca26"
             ],
             [
              1,
              "#f0f921"
             ]
            ],
            "type": "contour"
           }
          ],
          "contourcarpet": [
           {
            "colorbar": {
             "outlinewidth": 0,
             "ticks": ""
            },
            "type": "contourcarpet"
           }
          ],
          "heatmap": [
           {
            "colorbar": {
             "outlinewidth": 0,
             "ticks": ""
            },
            "colorscale": [
             [
              0,
              "#0d0887"
             ],
             [
              0.1111111111111111,
              "#46039f"
             ],
             [
              0.2222222222222222,
              "#7201a8"
             ],
             [
              0.3333333333333333,
              "#9c179e"
             ],
             [
              0.4444444444444444,
              "#bd3786"
             ],
             [
              0.5555555555555556,
              "#d8576b"
             ],
             [
              0.6666666666666666,
              "#ed7953"
             ],
             [
              0.7777777777777778,
              "#fb9f3a"
             ],
             [
              0.8888888888888888,
              "#fdca26"
             ],
             [
              1,
              "#f0f921"
             ]
            ],
            "type": "heatmap"
           }
          ],
          "heatmapgl": [
           {
            "colorbar": {
             "outlinewidth": 0,
             "ticks": ""
            },
            "colorscale": [
             [
              0,
              "#0d0887"
             ],
             [
              0.1111111111111111,
              "#46039f"
             ],
             [
              0.2222222222222222,
              "#7201a8"
             ],
             [
              0.3333333333333333,
              "#9c179e"
             ],
             [
              0.4444444444444444,
              "#bd3786"
             ],
             [
              0.5555555555555556,
              "#d8576b"
             ],
             [
              0.6666666666666666,
              "#ed7953"
             ],
             [
              0.7777777777777778,
              "#fb9f3a"
             ],
             [
              0.8888888888888888,
              "#fdca26"
             ],
             [
              1,
              "#f0f921"
             ]
            ],
            "type": "heatmapgl"
           }
          ],
          "histogram": [
           {
            "marker": {
             "pattern": {
              "fillmode": "overlay",
              "size": 10,
              "solidity": 0.2
             }
            },
            "type": "histogram"
           }
          ],
          "histogram2d": [
           {
            "colorbar": {
             "outlinewidth": 0,
             "ticks": ""
            },
            "colorscale": [
             [
              0,
              "#0d0887"
             ],
             [
              0.1111111111111111,
              "#46039f"
             ],
             [
              0.2222222222222222,
              "#7201a8"
             ],
             [
              0.3333333333333333,
              "#9c179e"
             ],
             [
              0.4444444444444444,
              "#bd3786"
             ],
             [
              0.5555555555555556,
              "#d8576b"
             ],
             [
              0.6666666666666666,
              "#ed7953"
             ],
             [
              0.7777777777777778,
              "#fb9f3a"
             ],
             [
              0.8888888888888888,
              "#fdca26"
             ],
             [
              1,
              "#f0f921"
             ]
            ],
            "type": "histogram2d"
           }
          ],
          "histogram2dcontour": [
           {
            "colorbar": {
             "outlinewidth": 0,
             "ticks": ""
            },
            "colorscale": [
             [
              0,
              "#0d0887"
             ],
             [
              0.1111111111111111,
              "#46039f"
             ],
             [
              0.2222222222222222,
              "#7201a8"
             ],
             [
              0.3333333333333333,
              "#9c179e"
             ],
             [
              0.4444444444444444,
              "#bd3786"
             ],
             [
              0.5555555555555556,
              "#d8576b"
             ],
             [
              0.6666666666666666,
              "#ed7953"
             ],
             [
              0.7777777777777778,
              "#fb9f3a"
             ],
             [
              0.8888888888888888,
              "#fdca26"
             ],
             [
              1,
              "#f0f921"
             ]
            ],
            "type": "histogram2dcontour"
           }
          ],
          "mesh3d": [
           {
            "colorbar": {
             "outlinewidth": 0,
             "ticks": ""
            },
            "type": "mesh3d"
           }
          ],
          "parcoords": [
           {
            "line": {
             "colorbar": {
              "outlinewidth": 0,
              "ticks": ""
             }
            },
            "type": "parcoords"
           }
          ],
          "pie": [
           {
            "automargin": true,
            "type": "pie"
           }
          ],
          "scatter": [
           {
            "fillpattern": {
             "fillmode": "overlay",
             "size": 10,
             "solidity": 0.2
            },
            "type": "scatter"
           }
          ],
          "scatter3d": [
           {
            "line": {
             "colorbar": {
              "outlinewidth": 0,
              "ticks": ""
             }
            },
            "marker": {
             "colorbar": {
              "outlinewidth": 0,
              "ticks": ""
             }
            },
            "type": "scatter3d"
           }
          ],
          "scattercarpet": [
           {
            "marker": {
             "colorbar": {
              "outlinewidth": 0,
              "ticks": ""
             }
            },
            "type": "scattercarpet"
           }
          ],
          "scattergeo": [
           {
            "marker": {
             "colorbar": {
              "outlinewidth": 0,
              "ticks": ""
             }
            },
            "type": "scattergeo"
           }
          ],
          "scattergl": [
           {
            "marker": {
             "colorbar": {
              "outlinewidth": 0,
              "ticks": ""
             }
            },
            "type": "scattergl"
           }
          ],
          "scattermapbox": [
           {
            "marker": {
             "colorbar": {
              "outlinewidth": 0,
              "ticks": ""
             }
            },
            "type": "scattermapbox"
           }
          ],
          "scatterpolar": [
           {
            "marker": {
             "colorbar": {
              "outlinewidth": 0,
              "ticks": ""
             }
            },
            "type": "scatterpolar"
           }
          ],
          "scatterpolargl": [
           {
            "marker": {
             "colorbar": {
              "outlinewidth": 0,
              "ticks": ""
             }
            },
            "type": "scatterpolargl"
           }
          ],
          "scatterternary": [
           {
            "marker": {
             "colorbar": {
              "outlinewidth": 0,
              "ticks": ""
             }
            },
            "type": "scatterternary"
           }
          ],
          "surface": [
           {
            "colorbar": {
             "outlinewidth": 0,
             "ticks": ""
            },
            "colorscale": [
             [
              0,
              "#0d0887"
             ],
             [
              0.1111111111111111,
              "#46039f"
             ],
             [
              0.2222222222222222,
              "#7201a8"
             ],
             [
              0.3333333333333333,
              "#9c179e"
             ],
             [
              0.4444444444444444,
              "#bd3786"
             ],
             [
              0.5555555555555556,
              "#d8576b"
             ],
             [
              0.6666666666666666,
              "#ed7953"
             ],
             [
              0.7777777777777778,
              "#fb9f3a"
             ],
             [
              0.8888888888888888,
              "#fdca26"
             ],
             [
              1,
              "#f0f921"
             ]
            ],
            "type": "surface"
           }
          ],
          "table": [
           {
            "cells": {
             "fill": {
              "color": "#EBF0F8"
             },
             "line": {
              "color": "white"
             }
            },
            "header": {
             "fill": {
              "color": "#C8D4E3"
             },
             "line": {
              "color": "white"
             }
            },
            "type": "table"
           }
          ]
         },
         "layout": {
          "annotationdefaults": {
           "arrowcolor": "#2a3f5f",
           "arrowhead": 0,
           "arrowwidth": 1
          },
          "autotypenumbers": "strict",
          "coloraxis": {
           "colorbar": {
            "outlinewidth": 0,
            "ticks": ""
           }
          },
          "colorscale": {
           "diverging": [
            [
             0,
             "#8e0152"
            ],
            [
             0.1,
             "#c51b7d"
            ],
            [
             0.2,
             "#de77ae"
            ],
            [
             0.3,
             "#f1b6da"
            ],
            [
             0.4,
             "#fde0ef"
            ],
            [
             0.5,
             "#f7f7f7"
            ],
            [
             0.6,
             "#e6f5d0"
            ],
            [
             0.7,
             "#b8e186"
            ],
            [
             0.8,
             "#7fbc41"
            ],
            [
             0.9,
             "#4d9221"
            ],
            [
             1,
             "#276419"
            ]
           ],
           "sequential": [
            [
             0,
             "#0d0887"
            ],
            [
             0.1111111111111111,
             "#46039f"
            ],
            [
             0.2222222222222222,
             "#7201a8"
            ],
            [
             0.3333333333333333,
             "#9c179e"
            ],
            [
             0.4444444444444444,
             "#bd3786"
            ],
            [
             0.5555555555555556,
             "#d8576b"
            ],
            [
             0.6666666666666666,
             "#ed7953"
            ],
            [
             0.7777777777777778,
             "#fb9f3a"
            ],
            [
             0.8888888888888888,
             "#fdca26"
            ],
            [
             1,
             "#f0f921"
            ]
           ],
           "sequentialminus": [
            [
             0,
             "#0d0887"
            ],
            [
             0.1111111111111111,
             "#46039f"
            ],
            [
             0.2222222222222222,
             "#7201a8"
            ],
            [
             0.3333333333333333,
             "#9c179e"
            ],
            [
             0.4444444444444444,
             "#bd3786"
            ],
            [
             0.5555555555555556,
             "#d8576b"
            ],
            [
             0.6666666666666666,
             "#ed7953"
            ],
            [
             0.7777777777777778,
             "#fb9f3a"
            ],
            [
             0.8888888888888888,
             "#fdca26"
            ],
            [
             1,
             "#f0f921"
            ]
           ]
          },
          "colorway": [
           "#636efa",
           "#EF553B",
           "#00cc96",
           "#ab63fa",
           "#FFA15A",
           "#19d3f3",
           "#FF6692",
           "#B6E880",
           "#FF97FF",
           "#FECB52"
          ],
          "font": {
           "color": "#2a3f5f"
          },
          "geo": {
           "bgcolor": "white",
           "lakecolor": "white",
           "landcolor": "#E5ECF6",
           "showlakes": true,
           "showland": true,
           "subunitcolor": "white"
          },
          "hoverlabel": {
           "align": "left"
          },
          "hovermode": "closest",
          "mapbox": {
           "style": "light"
          },
          "paper_bgcolor": "white",
          "plot_bgcolor": "#E5ECF6",
          "polar": {
           "angularaxis": {
            "gridcolor": "white",
            "linecolor": "white",
            "ticks": ""
           },
           "bgcolor": "#E5ECF6",
           "radialaxis": {
            "gridcolor": "white",
            "linecolor": "white",
            "ticks": ""
           }
          },
          "scene": {
           "xaxis": {
            "backgroundcolor": "#E5ECF6",
            "gridcolor": "white",
            "gridwidth": 2,
            "linecolor": "white",
            "showbackground": true,
            "ticks": "",
            "zerolinecolor": "white"
           },
           "yaxis": {
            "backgroundcolor": "#E5ECF6",
            "gridcolor": "white",
            "gridwidth": 2,
            "linecolor": "white",
            "showbackground": true,
            "ticks": "",
            "zerolinecolor": "white"
           },
           "zaxis": {
            "backgroundcolor": "#E5ECF6",
            "gridcolor": "white",
            "gridwidth": 2,
            "linecolor": "white",
            "showbackground": true,
            "ticks": "",
            "zerolinecolor": "white"
           }
          },
          "shapedefaults": {
           "line": {
            "color": "#2a3f5f"
           }
          },
          "ternary": {
           "aaxis": {
            "gridcolor": "white",
            "linecolor": "white",
            "ticks": ""
           },
           "baxis": {
            "gridcolor": "white",
            "linecolor": "white",
            "ticks": ""
           },
           "bgcolor": "#E5ECF6",
           "caxis": {
            "gridcolor": "white",
            "linecolor": "white",
            "ticks": ""
           }
          },
          "title": {
           "x": 0.05
          },
          "xaxis": {
           "automargin": true,
           "gridcolor": "white",
           "linecolor": "white",
           "ticks": "",
           "title": {
            "standoff": 15
           },
           "zerolinecolor": "white",
           "zerolinewidth": 2
          },
          "yaxis": {
           "automargin": true,
           "gridcolor": "white",
           "linecolor": "white",
           "ticks": "",
           "title": {
            "standoff": 15
           },
           "zerolinecolor": "white",
           "zerolinewidth": 2
          }
         }
        },
        "title": {
         "text": ""
        },
        "xaxis": {
         "anchor": "y",
         "domain": [
          0,
          1
         ],
         "title": {
          "text": "System Identifier"
         }
        },
        "yaxis": {
         "anchor": "x",
         "domain": [
          0,
          1
         ],
         "title": {
          "text": "RMSE (ppm)"
         }
        }
       }
      }
     },
     "metadata": {},
     "output_type": "display_data"
    }
   ],
   "source": [
    "fig = px.scatter(df_plot, x=\"system_name\",\n",
    "                 y=\"rmse_full_deployment\", \n",
    "                 color = \"sbs_days\", \n",
    "                 color_continuous_scale=px.colors.sequential.Bluered_r)\n",
    "\n",
    "fig.update_layout(\n",
    "    yaxis_title='RMSE (ppm)',\n",
    "    xaxis_title='System Identifier',\n",
    "    title='',\n",
    ")\n",
    "fig.show()"
   ]
  },
  {
   "cell_type": "code",
   "execution_count": 10,
   "metadata": {},
   "outputs": [],
   "source": [
    "df_plot = df_plot.rename({\"rmse_full_deployment\":\"RMSE (ppm)\", \"mae_full_deployment\": \"MAE (ppm)\", \"mean_full_deployment\": \"MEAN (ppm)\"}).with_columns(pl.lit(\"Munich\").alias(\"Mid-Cost Network\"))"
   ]
  },
  {
   "cell_type": "code",
   "execution_count": 11,
   "metadata": {},
   "outputs": [
    {
     "data": {
      "image/png": "[encoded data removed]",
      "text/plain": [
       "<Figure size 640x480 with 1 Axes>"
      ]
     },
     "metadata": {},
     "output_type": "display_data"
    },
    {
     "data": {
      "image/png": "[encoded data removed]",
      "text/plain": [
       "<Figure size 640x480 with 1 Axes>"
      ]
     },
     "metadata": {},
     "output_type": "display_data"
    },
    {
     "data": {
      "image/png": "[encoded data removed]",
      "text/plain": [
       "<Figure size 640x480 with 1 Axes>"
      ]
     },
     "metadata": {},
     "output_type": "display_data"
    }
   ],
   "source": [
    "sns.scatterplot(data=df_plot,x='Mid-Cost Network',\n",
    "                y='RMSE (ppm)', \n",
    "                hue=\"sbs_days\", \n",
    "                alpha=0.8).set(title='Side-by-side performance')\n",
    "plt.show()\n",
    "\n",
    "sns.scatterplot(data=df_plot,x='Mid-Cost Network',\n",
    "                y='MAE (ppm)', \n",
    "                hue=\"sbs_days\", \n",
    "                alpha=0.8).set(title='Side-by-side performance')\n",
    "plt.show()\n",
    "\n",
    "sns.scatterplot(data=df_plot,x='Mid-Cost Network',\n",
    "                y='MEAN (ppm)', \n",
    "                hue=\"sbs_days\", \n",
    "                alpha=0.8).set(title='Side-by-side performance')\n",
    "plt.show()"
   ]
  }
 ],
 "metadata": {
  "kernelspec": {
   "display_name": ".venv",
   "language": "python",
   "name": "python3"
  },
  "language_info": {
   "codemirror_mode": {
    "name": "ipython",
    "version": 3
   },
   "file_extension": ".py",
   "mimetype": "text/x-python",
   "name": "python",
   "nbconvert_exporter": "python",
   "pygments_lexer": "ipython3",
   "version": "3.12.9"
  }
 },
 "nbformat": 4,
 "nbformat_minor": 2
}
