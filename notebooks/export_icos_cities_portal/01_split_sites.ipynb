{
 "cells": [
  {
   "cell_type": "code",
   "execution_count": null,
   "metadata": {},
   "outputs": [],
   "source": [
    "import polars as pl\n",
    "import os\n",
    "from datetime import datetime, timezone\n",
    "import plotly.express as px\n",
    "\n",
    "from sites_deloyment_times import deployment_times, datetime_format\n",
    "\n",
    "DATA_DIRECTORY = os.environ.get(\"DATA_DIRECTORY\")"
   ]
  },
  {
   "cell_type": "code",
   "execution_count": null,
   "metadata": {},
   "outputs": [],
   "source": [
    "sites_meta = pl.read_csv(\"sites.csv\", separator=\";\")\n",
    "\n",
    "\n",
    "df_1m = pl.scan_parquet(os.path.join(DATA_DIRECTORY, \"processed\", \"1m_level_1_cities_portal.parquet\"))\n",
    "df_1h = pl.scan_parquet(os.path.join(DATA_DIRECTORY, \"processed\", \"1h_level_1_cities_portal.parquet\"))"
   ]
  },
  {
   "cell_type": "code",
   "execution_count": null,
   "metadata": {},
   "outputs": [],
   "source": [
    "print(deployment_times[\"TUMR\"])\n",
    "sites_meta.filter(pl.col(\"site\") == \"TUMR\")"
   ]
  },
  {
   "cell_type": "code",
   "execution_count": null,
   "metadata": {},
   "outputs": [],
   "source": [
    "df_1m.head().collect()"
   ]
  },
  {
   "cell_type": "code",
   "execution_count": null,
   "metadata": {},
   "outputs": [],
   "source": [
    "site_name = \"TUMR\"\n",
    "sensor = 0\n",
    "\n",
    "deployment_times[site_name][\"sensors\"][sensor][\"id\"]\n",
    "deployment_times[site_name][\"sensors\"][sensor][\"start_time\"]\n",
    "deployment_times[site_name][\"sensors\"][sensor][\"end_time\"]"
   ]
  },
  {
   "cell_type": "code",
   "execution_count": null,
   "metadata": {},
   "outputs": [],
   "source": [
    "# Utility\n",
    "\n",
    "def extract_site_data(df, deployment_times: dict, site_name:str):\n",
    "    extracted_dates = []\n",
    "    \n",
    "    for sensor in deployment_times[site_name][\"sensors\"]:\n",
    "        \n",
    "        id = sensor[\"id\"]\n",
    "        start_time = datetime.strptime(sensor[\"start_time\"], datetime_format)\n",
    "        end_time = datetime.strptime(sensor[\"end_time\"], datetime_format)       \n",
    "        \n",
    "        df_temp = df.filter(pl.col(\"system_id\") == id)  \\\n",
    "            .filter(pl.col(\"creation_timestamp\") \\\n",
    "            .is_between(start_time, end_time)) \\\n",
    "            .collect()\n",
    "        \n",
    "        extracted_dates.append(df_temp)\n",
    "    \n",
    "    return pl.concat(extracted_dates)\n",
    "\n",
    "def plot_extracted_data(df_plot, filter_flag:bool = True):\n",
    "    \n",
    "    if filter_flag:\n",
    "        df_plot= df_plot.filter(pl.col(\"OriginalFlag\") == 0)\n",
    "        \n",
    "    df_plot = df_plot.with_columns(\n",
    "    pl.when(pl.col(\"OriginalFlag\") == 185)\n",
    "    .then(pl.col(\"co2\"))\n",
    "    .otherwise(None)  # Assign None (or np.nan if you export to Pandas)\n",
    "    .alias(\"co2_185\")\n",
    "    ) \\\n",
    "    .with_columns(\n",
    "    pl.when(pl.col(\"OriginalFlag\") == 0)\n",
    "    .then(pl.col(\"co2\"))\n",
    "    .otherwise(None)  # Assign None (or np.nan if you export to Pandas)\n",
    "    .alias(\"co2_0\")\n",
    "    )\n",
    "    \n",
    "    fig = px.line(df_plot, \n",
    "            x=\"creation_timestamp\", \n",
    "            y=[\"co2_0\", \"co2_185\"], \n",
    "            )\n",
    "    fig.update_traces(connectgaps=False)\n",
    "    fig.update_layout(\n",
    "        yaxis_title='CO2 Concentration (ppm)',\n",
    "        xaxis_title='',\n",
    "        title='',\n",
    "    )\n",
    "    fig.show()"
   ]
  },
  {
   "cell_type": "code",
   "execution_count": null,
   "metadata": {},
   "outputs": [],
   "source": [
    "start_date = datetime(2024, 4, 1, 0, 0, 0).replace(tzinfo=timezone.utc)\n",
    "end_date = datetime(2024, 7, 18, 23, 59, 59).replace(tzinfo=timezone.utc)\n",
    "\n",
    "df_test = df_1m.filter(pl.col(\"creation_timestamp\").is_between(start_date, end_date))"
   ]
  },
  {
   "cell_type": "code",
   "execution_count": null,
   "metadata": {},
   "outputs": [],
   "source": [
    "df_site = extract_site_data(df=df_1m, deployment_times = deployment_times, site_name=\"RDIR\")"
   ]
  },
  {
   "cell_type": "code",
   "execution_count": null,
   "metadata": {},
   "outputs": [],
   "source": [
    "df_site.head()"
   ]
  },
  {
   "cell_type": "code",
   "execution_count": null,
   "metadata": {},
   "outputs": [],
   "source": [
    "plot_extracted_data(df_site, filter_flag=False)"
   ]
  }
 ],
 "metadata": {
  "kernelspec": {
   "display_name": ".venv",
   "language": "python",
   "name": "python3"
  },
  "language_info": {
   "codemirror_mode": {
    "name": "ipython",
    "version": 3
   },
   "file_extension": ".py",
   "mimetype": "text/x-python",
   "name": "python",
   "nbconvert_exporter": "python",
   "pygments_lexer": "ipython3",
   "version": "3.11.10"
  }
 },
 "nbformat": 4,
 "nbformat_minor": 2
}
