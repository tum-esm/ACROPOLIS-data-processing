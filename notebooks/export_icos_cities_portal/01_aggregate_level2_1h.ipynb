{
 "cells": [
  {
   "cell_type": "code",
   "execution_count": null,
   "metadata": {},
   "outputs": [],
   "source": [
    "import polars as pl\n",
    "import os\n",
    "from datetime import datetime, timezone, timedelta\n",
    "\n",
    "\n",
    "DATA_DIRECTORY = os.environ.get(\"DATA_DIRECTORY\")"
   ]
  },
  {
   "cell_type": "code",
   "execution_count": null,
   "metadata": {},
   "outputs": [],
   "source": [
    "df_1_min = pl.scan_parquet(os.path.join(DATA_DIRECTORY, \"processed\", \"pipeline\", \"flagged_L2_1_min_acropolis.parquet\"))"
   ]
  },
  {
   "cell_type": "code",
   "execution_count": null,
   "metadata": {},
   "outputs": [],
   "source": [
    "# save a 1h product for ICOS cities portal\n",
    "# df_1_h_despiked = df_1_min.sort(\"creation_timestamp\") \\\n",
    "#         .filter(pl.col(\"Flag\") == 'O') \\\n",
    "#         .drop(\"Flag\", \"OriginalFlag\") \\\n",
    "#         .group_by_dynamic(\"creation_timestamp\", every='1h', by=[\"system_id\", \"sys_name_short\"]) \\\n",
    "#         .agg(pl.all().exclude([\"creation_timestamp\",\"sys_name_short\"]).mean(),\n",
    "#              pl.col(\"gmp343_corrected\").std().alias(\"Stdev\"),\n",
    "#              pl.col(\"gmp343_corrected\").count().alias(\"NbPoints\")) \\\n",
    "#         .with_columns(pl.when(pl.col(\"NbPoints\") < 40).then(pl.lit(389)).otherwise(pl.lit(0)).alias(\"OriginalFlag\")) \\\n",
    "#         .with_columns(\n",
    "#                 pl.when(pl.col(\"OriginalFlag\") > 0).then(pl.lit('K')).otherwise(pl.lit('O')).alias(\"Flag\"),\n",
    "#                 (pl.col(\"creation_timestamp\") + timedelta(minutes=30)))\n",
    "             \n",
    "# df_1_h_despiked.write_parquet(os.path.join(DATA_DIRECTORY, \"processed\", \"pipeline\", \"flagged_L2_1_h_acropolis.parquet\"))"
   ]
  }
 ],
 "metadata": {
  "kernelspec": {
   "display_name": ".venv",
   "language": "python",
   "name": "python3"
  },
  "language_info": {
   "name": "python",
   "version": "3.11.10"
  }
 },
 "nbformat": 4,
 "nbformat_minor": 2
}
