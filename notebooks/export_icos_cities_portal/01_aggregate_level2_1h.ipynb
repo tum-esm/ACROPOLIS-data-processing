{
 "cells": [
  {
   "cell_type": "code",
   "execution_count": null,
   "metadata": {
    "vscode": {
     "languageId": "plaintext"
    }
   },
   "outputs": [],
   "source": [
    "# save a 1h product for ICOS cities portal\n",
    "df_1_h_despiked = df_1_m_spike_detected.sort(\"creation_timestamp\") \\\n",
    "        .filter(pl.col(\"Flag\") == 'O') \\\n",
    "        .drop(\"Flag\", \"OriginalFlag\") \\\n",
    "        .group_by_dynamic(\"creation_timestamp\", every='1h', by=[\"system_id\", \"sys_name_short\"]) \\\n",
    "        .agg(pl.all().exclude([\"creation_timestamp\",\"sys_name_short\"]).mean(),\n",
    "             pl.col(\"gmp343_corrected\").std().alias(\"Stdev\"),\n",
    "             pl.col(\"gmp343_corrected\").count().alias(\"NbPoints\")) \\\n",
    "        .with_columns(pl.when(pl.col(\"NbPoints\") < 40).then(pl.lit(389)).otherwise(pl.lit(0)).alias(\"OriginalFlag\")) \\\n",
    "        .with_columns(\n",
    "                pl.when(pl.col(\"OriginalFlag\") > 0).then(pl.lit('K')).otherwise(pl.lit('O')).alias(\"Flag\"),\n",
    "                (pl.col(\"creation_timestamp\") + timedelta(minutes=30)))\n",
    "             \n",
    "df_1_h_despiked.write_parquet(os.path.join(DATA_DIRECTORY, \"processed\", \"pipeline\", \"flagged_1_h_acropolis.parquet\"))"
   ]
  }
 ],
 "metadata": {
  "language_info": {
   "name": "python"
  }
 },
 "nbformat": 4,
 "nbformat_minor": 2
}
