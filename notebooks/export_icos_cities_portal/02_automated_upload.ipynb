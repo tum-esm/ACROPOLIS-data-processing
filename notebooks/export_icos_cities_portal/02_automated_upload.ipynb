{
 "cells": [
  {
   "cell_type": "code",
   "execution_count": 27,
   "metadata": {},
   "outputs": [],
   "source": [
    "import os\n",
    "import hashlib\n",
    "import zipfile\n",
    "import requests\n",
    "import glob\n",
    "import polars as pl\n",
    "from datetime import datetime, timezone\n",
    "\n",
    "icos_password = os.getenv(\"ICOS_PASS\")\n",
    "icos_user_email = os.getenv(\"ICOS_USER\")"
   ]
  },
  {
   "cell_type": "code",
   "execution_count": 28,
   "metadata": {},
   "outputs": [],
   "source": [
    "sites_meta = pl.read_csv(\"sites.csv\", separator=\";\")"
   ]
  },
  {
   "cell_type": "code",
   "execution_count": 3,
   "metadata": {},
   "outputs": [],
   "source": [
    "# calculate hashsum of a file\n",
    "def hash_file(file_path:str) -> str:\n",
    "    \"\"\"Generates hashsum of a file\n",
    "    Args:\n",
    "        fname (str): _description_\n",
    "    Returns:\n",
    "        str: sha256 hashsum of the file\n",
    "    \"\"\"\n",
    "    assert os.path.isfile(file_path)\n",
    "    with open(file_path,\"rb\") as f:\n",
    "        bytes = f.read() # read entire file as bytes\n",
    "        return hashlib.sha256(bytes).hexdigest()"
   ]
  },
  {
   "cell_type": "code",
   "execution_count": 4,
   "metadata": {},
   "outputs": [],
   "source": [
    "def zip_file(file_path: str) -> str:\n",
    "    \"\"\"Generates zipped version of a file\n",
    "    Args:\n",
    "        file_path (str): path to the file to be zipped\n",
    "    Returns:\n",
    "        str: path to the zipped file\n",
    "    \"\"\"\n",
    "    assert os.path.isfile(file_path)\n",
    "    zip_file_name = file_path + '.zip'\n",
    "    with zipfile.ZipFile(zip_file_name, 'w', zipfile.ZIP_DEFLATED) as zipf:\n",
    "        # Get the base name of the file (no directory structure)\n",
    "        file_name_in_zip = os.path.basename(file_path)\n",
    "        # Add the file to the zip, with no folder structure\n",
    "        zipf.write(file_path, arcname=file_name_in_zip)\n",
    "    return zip_file_name"
   ]
  },
  {
   "cell_type": "code",
   "execution_count": 15,
   "metadata": {},
   "outputs": [
    {
     "data": {
      "text/plain": [
       "'2024-12-05T13:08:00Z'"
      ]
     },
     "execution_count": 15,
     "metadata": {},
     "output_type": "execute_result"
    }
   ],
   "source": [
    "datetime_format = '%Y-%m-%dT%H:%M:%SZ'\n",
    "datetime.now(timezone.utc).strftime(datetime_format)"
   ]
  },
  {
   "cell_type": "code",
   "execution_count": null,
   "metadata": {},
   "outputs": [],
   "source": [
    "def upload_file_to_icos_cp(root_directory: str, fname: str,\n",
    "                           site_id: str, sampling_height: str) -> bool:\n",
    "    \"\"\"Two step upload process to ICOS Carbon Portal. Register metadata package and upload file.\n",
    "\n",
    "    Args:\n",
    "        root_directory (str): root directory of the file\n",
    "        fname (str): file name\n",
    "        site_id (str): site id (must be available in the ICOS CP)\n",
    "        sampling_height (str): variable sampling height\n",
    "\n",
    "    Returns:\n",
    "        Bool: True if successful\n",
    "    \"\"\"\n",
    "\n",
    "    # zip the file and calculate hashsum\n",
    "    try:\n",
    "        zipped_filename = zip_file(root_directory + fname)\n",
    "        hash_sum = hash_file(zipped_filename)\n",
    "    except AssertionError:\n",
    "        print(f\"File {fname} not found\")\n",
    "        return False\n",
    "    \n",
    "    # STEP 1: register metadata package\n",
    "    datetime_format = '%Y-%m-%dT%H:%M:%S.000Z'\n",
    "    creation_date = datetime.now(timezone.utc).strftime(datetime_format) # date of the data creation\n",
    "    creator_s = 'https://citymeta.icos-cp.eu/resources/people/Patrick_Aigner'\n",
    "    contributor_s = ['https://citymeta.icos-cp.eu/resources/people/Jia_Chen', 'https://citymeta.icos-cp.eu/resources/people/KlausKurzinger']\n",
    "    host_org_s = 'https://citymeta.icos-cp.eu/resources/organizations/TUM'\n",
    "    data_object_specification = \"https://citymeta.icos-cp.eu/resources/cpmeta/atmObsProduct\"\n",
    "\n",
    "    payload = {'submitterId': \"TUM_MIDLOW\",\n",
    "            'hashSum': hash_sum,\n",
    "            'fileName': fname + '.zip',\n",
    "            'specificInfo': {'station': \"https://citymeta.icos-cp.eu/resources/stations/Munich_\" + site_id,\n",
    "                                'samplingHeight': sampling_height,\n",
    "                                'production': {\n",
    "                                    \"creator\": creator_s,\n",
    "                                    \"contributors\": contributor_s,\n",
    "                                    \"comment\": \"free text\",\n",
    "                                    \"hostOrganization\": host_org_s,\n",
    "                                    \"creationDate\": creation_date}\n",
    "                                },\n",
    "            'objectSpecification': data_object_specification,\n",
    "            'references': {'keywords':['CO2', 'Lowcost'],\n",
    "                            'duplicateFilenameAllowed': False,\n",
    "                            'autodeprecateSameFilenameObjects': True,\n",
    "                            'partialUpload': False},\n",
    "                'autodeprecateSameFilenameObjects': True,\n",
    "                'duplicateFilenameAllowed': False,\n",
    "                'partialUpload': False,\n",
    "                }\n",
    "\n",
    "    # Perform the POST request and save cookies to a file\n",
    "    with requests.Session() as session:\n",
    "        # authenticate\n",
    "        auth = session.post(\"https://cpauth.icos-cp.eu/password/login\",\n",
    "                            data= {\"mail\": icos_user_email,\n",
    "                                   \"password\": icos_password})\n",
    "        \n",
    "        r = session.post(url = 'https://citymeta.icos-cp.eu/upload', \n",
    "                         json=payload)  # Automatically sets the Content-Type to application/json)\n",
    "        \n",
    "        if r.status_code == 200:\n",
    "            print(f\"Register metadata package for site {site_id}: Successful\")\n",
    "            print(f'Response URL : {r.text}')\n",
    "            print('Start uploading file')\n",
    "            \n",
    "            filepath = os.path.join(root_directory, fname +'.zip')\n",
    "            with open(filepath, \"rb\") as file:\n",
    "                rd = session.put(r.text, data=file)\n",
    "            if rd.status_code == 200:\n",
    "                print(f\"File upload successful\")\n",
    "            else:\n",
    "                print(f\"File upload failed with status code {rd.status_code}\")\n",
    "                print(f\"Response: {rd.text}\")\n",
    "                return False\n",
    "        else: \n",
    "            print(f\"Register metadata package: Failed with status code {r.status_code}\")\n",
    "            print(f\"Response: {r.text}\")\n",
    "            return False\n",
    "    \n",
    "    return True"
   ]
  },
  {
   "cell_type": "markdown",
   "metadata": {},
   "source": [
    "# Upload all files from folder"
   ]
  },
  {
   "cell_type": "code",
   "execution_count": null,
   "metadata": {},
   "outputs": [
    {
     "name": "stdout",
     "output_type": "stream",
     "text": [
      "TAUR_munich_acropolis_2024.csv TAUR_munich_acropolis_2024.csv TAUR 17.89\n",
      "BOGR_munich_acropolis_2024.csv BOGR_munich_acropolis_2024.csv BOGR 39.46\n",
      "HARR_munich_acropolis_2024.csv HARR_munich_acropolis_2024.csv HARR 29.3\n",
      "TUMR_munich_acropolis_2024.csv TUMR_munich_acropolis_2024.csv TUMR 31.06\n",
      "RDIR_munich_acropolis_2024.csv RDIR_munich_acropolis_2024.csv RDIR 20.13\n",
      "NPLR_munich_acropolis_2024.csv NPLR_munich_acropolis_2024.csv NPLR 31.43\n",
      "SWMR_munich_acropolis_2024.csv SWMR_munich_acropolis_2024.csv SWMR 27.69\n",
      "MAIR_munich_acropolis_2024.csv MAIR_munich_acropolis_2024.csv MAIR 15.08\n",
      "DLRR_munich_acropolis_2024.csv DLRR_munich_acropolis_2024.csv DLRR 22.92\n",
      "SCHR_munich_acropolis_2024.csv SCHR_munich_acropolis_2024.csv SCHR 17.14\n",
      "BALR_munich_acropolis_2024.csv BALR_munich_acropolis_2024.csv BALR 18.17\n",
      "FINR_munich_acropolis_2024.csv FINR_munich_acropolis_2024.csv FINR 15.21\n",
      "FELR_munich_acropolis_2024.csv FELR_munich_acropolis_2024.csv FELR 15.73\n",
      "BLUT_48_munich_acropolis_2024.csv BLUT_48_munich_acropolis_2024.csv BLUT 48.0\n",
      "SENR_munich_acropolis_2024.csv SENR_munich_acropolis_2024.csv SENR 15.33\n",
      "GROR_munich_acropolis_2024.csv GROR_munich_acropolis_2024.csv GROR 30.4\n",
      "BLUT_85_munich_acropolis_2024.csv BLUT_85_munich_acropolis_2024.csv BLUT 85.0\n",
      "PASR_munich_acropolis_2024.csv PASR_munich_acropolis_2024.csv PASR 17.96\n"
     ]
    }
   ],
   "source": [
    "path = os.path.join(os.getenv('DATA_DIRECTORY'),'processed','icos_cities_portal_processing','level_2','*.csv')\n",
    "filenames = glob.glob(path)\n",
    "\n",
    "for path in filenames:\n",
    "    root_directory = os.path.basename(path)\n",
    "    fname = os.path.basename(path)\n",
    "    site_id = os.path.basename(path)[:4]\n",
    "    \n",
    "    if site_id == 'BLUT':\n",
    "        sampling_height = os.path.basename(path)[5:7] + '.0'\n",
    "    else:\n",
    "        sampling_height = sites_meta.filter(pl.col(\"site\") == site_id).select(\"height_of_building\").item()\n",
    "    \n",
    "    print(root_directory,fname,site_id,sampling_height)\n",
    "    #upload_file_to_icos_cp(root_directory,fname,site_id,sampling_height)"
   ]
  }
 ],
 "metadata": {
  "kernelspec": {
   "display_name": ".venv",
   "language": "python",
   "name": "python3"
  },
  "language_info": {
   "codemirror_mode": {
    "name": "ipython",
    "version": 3
   },
   "file_extension": ".py",
   "mimetype": "text/x-python",
   "name": "python",
   "nbconvert_exporter": "python",
   "pygments_lexer": "ipython3",
   "version": "3.11.10"
  }
 },
 "nbformat": 4,
 "nbformat_minor": 2
}
