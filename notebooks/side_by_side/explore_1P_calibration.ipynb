{
 "cells": [
  {
   "cell_type": "code",
   "execution_count": null,
   "metadata": {},
   "outputs": [],
   "source": [
    "import os\n",
    "import sys\n",
    "import numpy as np\n",
    "import polars as pl\n",
    "import plotly.express as px\n",
    "import polars.selectors as cs\n",
    "import matplotlib.pyplot as plt\n",
    "import matplotlib.ticker as ticker\n",
    "\n",
    "\n",
    "PROJECT_PATH = os.path.abspath(os.path.join(\"..\", \"..\"))\n",
    "PIPELINE_PATH = os.path.join(PROJECT_PATH, \"pipeline\")\n",
    "DATA_DIRECTORY = os.path.join(PROJECT_PATH, \"data\")\n",
    "\n",
    "if PIPELINE_PATH not in sys.path:\n",
    "    sys.path.append(PIPELINE_PATH)"
   ]
  },
  {
   "cell_type": "code",
   "execution_count": null,
   "metadata": {},
   "outputs": [],
   "source": [
    "df = pl.read_parquet(os.path.join(DATA_DIRECTORY, \"output\", \"side-by-side\", \"2024_L1_1_min_sbs_period_acropolis.parquet\")) \\\n",
    "    .sort(\"datetime\") \\\n",
    "    .with_columns(\n",
    "        diff = pl.col(\"gmp343_corrected\") - pl.col(\"picarro_corrected\"),\n",
    "        diff_1p_low = pl.col(\"gmp343_corrected_one_point_low\") - pl.col(\"picarro_corrected\"),\n",
    "        diff_1p_high = pl.col(\"gmp343_corrected_one_point_high\") - pl.col(\"picarro_corrected\"),\n",
    "        diff_offset = pl.col(\"offset_low\") - pl.col(\"offset_high\"),\n",
    "        ) \\\n",
    "    .group_by_dynamic(\"datetime\", every='1h', group_by=[\"system_id\", \"system_name\"]) \\\n",
    "    .agg([\n",
    "            cs.numeric().mean(),\n",
    "            pl.col(\"gmp343_corrected\").std().alias(\"gmp343_corrected_std\"),\n",
    "            pl.col(\"gmp343_corrected\").var().alias(\"gmp343_corrected_var\"),\n",
    "            pl.col(\"gmp343_corrected\").count().alias(\"gmp343_corrected_count\"),\n",
    "            pl.col(\"gmp343_temperature\").max().alias(\"gmp343_temperature_max\")\n",
    "        ]) \\\n",
    "    .sort(\"system_id\") \\\n",
    "    .with_columns(system_name = \"ACROPOLIS-\" + pl.col('system_id').cast(pl.String))"
   ]
  },
  {
   "cell_type": "code",
   "execution_count": null,
   "metadata": {},
   "outputs": [],
   "source": [
    "fig = px.scatter(df, x=\"datetime\", y=\"gmp343_corrected_count\", color = \"system_name\",)\n",
    "fig.show()"
   ]
  },
  {
   "cell_type": "code",
   "execution_count": null,
   "metadata": {},
   "outputs": [],
   "source": [
    "df_sbs = df.filter(pl.col(\"diff\").is_not_nan()) \\\n",
    "    .group_by([\"system_id\", \"system_name\"]) \\\n",
    "    .agg([\n",
    "            (pl.col(\"diff\").mean()).alias(\"MEAN\"),\n",
    "            (np.abs(pl.col(\"diff\"))).mean().alias(\"MAE\"),\n",
    "            (pl.col(\"diff\").pow(2).mean().sqrt()).alias(\"RMSE\"),\n",
    "            (pl.col(\"diff_1p_low\").mean()).alias(\"MEAN_1p_low\"),\n",
    "            (np.abs(pl.col(\"diff_1p_low\"))).mean().alias(\"MAE_1p_low\"),\n",
    "            (pl.col(\"diff_1p_low\").pow(2).mean().sqrt()).alias(\"RMSE_1p_low\"),\n",
    "            (pl.col(\"diff_1p_high\").mean()).alias(\"MEAN_1p_high\"),\n",
    "            (np.abs(pl.col(\"diff_1p_high\"))).mean().alias(\"MAE_1p_high\"),\n",
    "            (pl.col(\"diff_1p_high\").pow(2).mean().sqrt()).alias(\"RMSE_1p_high\"),\n",
    "            (pl.col(\"gmp343_temperature\").max()),\n",
    "            (pl.col(\"slope_interpolated\").mean()).alias(\"slope_interpolated_mean\"),\n",
    "            (pl.col(\"slope_interpolated\").std()).alias(\"slope_interpolated_std\"),\n",
    "            pl.col(\"gmp343_corrected\").mean().alias(\"gmp343_corrected_mean\"),\n",
    "            pl.col(\"gmp343_corrected\").median().alias(\"gmp343_corrected_median\"),\n",
    "            pl.col(\"gmp343_corrected\").std().alias(\"gmp343_corrected_std\"),\n",
    "\n",
    "        ]) \\\n",
    "    .sort(\"system_id\")"
   ]
  },
  {
   "cell_type": "code",
   "execution_count": null,
   "metadata": {},
   "outputs": [],
   "source": [
    "# Plotting the data for system_id X\n",
    "system_id = 4\n",
    "\n",
    "df_plot = df.filter(pl.col(\"system_id\")== system_id)\n",
    "\n",
    "fig = px.scatter(df_plot, x=\"datetime\", y=[\"picarro_corrected\", \"gmp343_corrected\", \"gmp343_corrected_one_point_low\", \"gmp343_corrected_one_point_high\"])\n",
    "fig.show()\n",
    "fig = px.scatter(df_plot, x=\"datetime\", y=\"offset_high\")\n",
    "fig.show()\n",
    "fig = px.scatter(df_plot, x=\"datetime\", y=\"offset_low\")\n",
    "fig.show()\n",
    "fig = px.scatter(df_plot, x=\"datetime\", y=\"bottle_median_low\")\n",
    "fig.show()\n",
    "fig = px.scatter(df_plot, x=\"datetime\", y=\"bottle_median_high\")\n",
    "fig.show()"
   ]
  },
  {
   "cell_type": "code",
   "execution_count": null,
   "metadata": {},
   "outputs": [],
   "source": [
    "fig = px.scatter(df, x=\"datetime\", y=\"gmp343_temperature_max\", color = \"system_name\")\n",
    "fig.show()\n",
    "fig = px.scatter(df, x=\"datetime\", y=\"diff\", color = \"system_name\")\n",
    "fig.show()\n",
    "fig = px.scatter(df, x=\"datetime\", y=\"diff_1p_low\", color = \"system_name\")\n",
    "fig.show()\n",
    "fig = px.scatter(df, x=\"datetime\", y=\"diff_1p_high\", color = \"system_name\")\n",
    "fig.show()\n",
    "fig = px.scatter(df_plot, x=\"datetime\", y=\"diff_offset\")\n",
    "fig.show()"
   ]
  },
  {
   "cell_type": "code",
   "execution_count": null,
   "metadata": {},
   "outputs": [],
   "source": [
    "fig = px.scatter(df_sbs, x=\"system_name\", y=[\"MAE\", \"MAE_1p_low\", \"MAE_1p_high\"], \n",
    "                 labels={\n",
    "                     \"value\": \"MAE Picarro - System: CO₂ (ppm)\",\n",
    "                     \"system_name\": \"System\",\n",
    "                 })\n",
    "\n",
    "fig.show()\n",
    "fig = px.scatter(df_sbs, x=\"system_name\", y=[\"RMSE\", \"RMSE_1p_low\", \"RMSE_1p_high\"], \n",
    "                 labels={\n",
    "                     \"value\": \"RMSE Picarro - System: CO₂ (ppm)\",\n",
    "                     \"system_name\": \"System\",\n",
    "                 })\n",
    "fig.show()"
   ]
  },
  {
   "cell_type": "code",
   "execution_count": null,
   "metadata": {},
   "outputs": [],
   "source": [
    "df_sbs = df_sbs.with_columns(\n",
    "    diff_MAE_1p_low = pl.col(\"MAE_1p_low\") - pl.col(\"MAE\"),\n",
    "    diff_MAE_1p_high = pl.col(\"MAE_1p_high\") - pl.col(\"MAE\"),\n",
    "    diff_RMSE_1p_low = pl.col(\"RMSE_1p_low\") - pl.col(\"RMSE\"),\n",
    "    diff_RMSE_1p_high = pl.col(\"RMSE_1p_high\") - pl.col(\"RMSE\"),\n",
    ")\n",
    "\n",
    "df_sbs    "
   ]
  },
  {
   "cell_type": "code",
   "execution_count": null,
   "metadata": {},
   "outputs": [],
   "source": [
    "plt.scatter(df_sbs[\"slope_interpolated_mean\"], df_sbs[\"diff_MAE_1p_low\"], color=\"#0072B2\", alpha=0.7,)\n",
    "plt.scatter(df_sbs[\"slope_interpolated_mean\"], df_sbs[\"diff_MAE_1p_high\"], color=\"#D55E00\", alpha=0.7, )\n",
    "plt.plot([0.96, 1.04], [0, 0], color='black', linestyle='--', linewidth=0.7)\n",
    "plt.plot([1, 1], [2.5, -0.8], color='black', linestyle='--', linewidth=0.7)\n",
    "plt.grid(True, linestyle='--', alpha=0.5)\n",
    "plt.xlabel(\"Slope: 2 Point Calibration Correction\")\n",
    "plt.ylabel(\"MAE: 1P. - 2P. Calibration Correction (ppm)\")\n",
    "plt.legend([\"1 Point (400 ppm)\", \"1 Point (520 ppm)\"])"
   ]
  },
  {
   "cell_type": "code",
   "execution_count": null,
   "metadata": {},
   "outputs": [],
   "source": [
    "plt.scatter(df_sbs[\"slope_interpolated_mean\"], df_sbs[\"diff_RMSE_1p_low\"], color=\"#0072B2\", alpha=0.7,)\n",
    "plt.scatter(df_sbs[\"slope_interpolated_mean\"], df_sbs[\"diff_RMSE_1p_high\"], color=\"#D55E00\", alpha=0.7, )\n",
    "plt.plot([0.96, 1.04], [0, 0], color='black', linestyle='--', linewidth=0.7)\n",
    "plt.plot([1, 1], [2.5, -0.8], color='black', linestyle='--', linewidth=0.7)\n",
    "plt.grid(True, linestyle='--', alpha=0.5)\n",
    "plt.xlabel(\"Slope: 2 Point Calibration Correction\")\n",
    "plt.ylabel(\"RMSE: 1P. - 2P. Calibration Correction (ppm)\")\n",
    "plt.legend([\"1 Point (400 ppm)\", \"1 Point (520 ppm)\"])"
   ]
  },
  {
   "cell_type": "code",
   "execution_count": null,
   "metadata": {},
   "outputs": [],
   "source": [
    "x = df_sbs[\"slope_interpolated_mean\"]\n",
    "xerr = df_sbs[\"slope_interpolated_std\"]  # Replace with your actual column name\n",
    "y_low = df_sbs[\"diff_RMSE_1p_low\"]\n",
    "y_high = df_sbs[\"diff_RMSE_1p_high\"]\n",
    "\n",
    "# Plot with horizontal error bars\n",
    "plt.errorbar(\n",
    "    x, y_low, xerr=xerr, fmt='o', color=\"#0072B2\", alpha=0.7,\n",
    "    ecolor=\"#0072B2\", elinewidth=0.8, capsize=2, capthick=0.6, label=\"1 Point (400 ppm)\"\n",
    ")\n",
    "plt.errorbar(\n",
    "    x, y_high, xerr=xerr, fmt='o', color=\"#D55E00\", alpha=0.7,\n",
    "    ecolor=\"#D55E00\", elinewidth=0.8, capsize=2, capthick=0.6, label=\"1 Point (520 ppm)\"\n",
    ")\n",
    "# Add reference lines\n",
    "plt.plot([0.96, 1.04], [0, 0], color='black', linestyle='--', linewidth=0.7)\n",
    "plt.plot([1, 1], [2.5, -0.8], color='black', linestyle='--', linewidth=0.7)\n",
    "\n",
    "# Styling\n",
    "plt.grid(True, linestyle='--', alpha=0.5)\n",
    "plt.xlabel(\"Slope: 2 Point Calibration Correction\")\n",
    "plt.ylabel(\"RMSE: 1P. - 2P. Calibration Correction (ppm)\")\n",
    "plt.legend()"
   ]
  },
  {
   "cell_type": "code",
   "execution_count": null,
   "metadata": {},
   "outputs": [],
   "source": [
    "# Average/median concentration\n",
    "\n",
    "fig = px.scatter(df_sbs, x=\"system_id\", y=\"gmp343_corrected_mean\")\n",
    "fig.show()\n",
    "fig = px.scatter(df_sbs, x=\"system_id\", y=\"gmp343_corrected_median\")\n",
    "fig.show()"
   ]
  }
 ],
 "metadata": {
  "kernelspec": {
   "display_name": ".venv",
   "language": "python",
   "name": "python3"
  },
  "language_info": {
   "codemirror_mode": {
    "name": "ipython",
    "version": 3
   },
   "file_extension": ".py",
   "mimetype": "text/x-python",
   "name": "python",
   "nbconvert_exporter": "python",
   "pygments_lexer": "ipython3",
   "version": "3.12.10"
  }
 },
 "nbformat": 4,
 "nbformat_minor": 2
}
