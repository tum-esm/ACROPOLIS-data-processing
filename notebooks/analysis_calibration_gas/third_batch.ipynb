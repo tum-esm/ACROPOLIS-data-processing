{
 "cells": [
  {
   "cell_type": "code",
   "execution_count": 1,
   "metadata": {},
   "outputs": [],
   "source": [
    "import os\n",
    "import polars as pl\n",
    "import numpy as np\n",
    "import plotly.express as px\n",
    "\n",
    "from datetime import datetime, timezone\n",
    "\n",
    "DATA_DIRECTORY = os.environ.get(\"DATA_DIRECTORY\")"
   ]
  },
  {
   "cell_type": "code",
   "execution_count": 2,
   "metadata": {},
   "outputs": [],
   "source": [
    "df_p_dwd = pl.read_parquet(os.path.join(DATA_DIRECTORY, \"processed\", \"picarro\", \"Calibrated_Raw_DWD_Picarro_G2301_413.parquet\"))"
   ]
  },
  {
   "cell_type": "code",
   "execution_count": 3,
   "metadata": {},
   "outputs": [
    {
     "data": {
      "text/html": [
       "<div><style>\n",
       ".dataframe > thead > tr,\n",
       ".dataframe > tbody > tr {\n",
       "  text-align: right;\n",
       "  white-space: pre-wrap;\n",
       "}\n",
       "</style>\n",
       "<small>shape: (5, 35)</small><table border=\"1\" class=\"dataframe\"><thead><tr><th>DATE</th><th>TIME</th><th>FRAC_DAYS_SINCE_JAN1</th><th>FRAC_HRS_SINCE_JAN1</th><th>JULIAN_DAYS</th><th>EPOCH_TIME</th><th>ALARM_STATUS</th><th>INST_STATUS</th><th>CavityPressure</th><th>CavityTemp</th><th>DasTemp</th><th>EtalonTemp</th><th>species</th><th>OutletValve</th><th>CH4</th><th>CH4_dry</th><th>CO2</th><th>CO2_dry</th><th>h2o_reported</th><th>ch4_base</th><th>ch4_pzt_std</th><th>co2_base</th><th>co2_pzt_std</th><th>wlm1_offset</th><th>wlm2_offset</th><th>datetime</th><th>__index_level_0__</th><th>Picarro ID</th><th>Bottle_1_Median</th><th>Bottle_2_Median</th><th>slope</th><th>intercept</th><th>slope_interpolated</th><th>intercept_interpolated</th><th>picarro_corrected</th></tr><tr><td>str</td><td>str</td><td>f64</td><td>f64</td><td>f64</td><td>f64</td><td>i64</td><td>i64</td><td>f64</td><td>f64</td><td>f64</td><td>f64</td><td>f64</td><td>f64</td><td>f64</td><td>f64</td><td>f64</td><td>f64</td><td>f64</td><td>f64</td><td>f64</td><td>f64</td><td>f64</td><td>f64</td><td>f64</td><td>datetime[μs, UTC]</td><td>i64</td><td>i64</td><td>f64</td><td>f64</td><td>f64</td><td>f64</td><td>f64</td><td>f64</td><td>f64</td></tr></thead><tbody><tr><td>&quot;2024-12-20&quot;</td><td>&quot;16:17:28.036&quot;</td><td>354.678797</td><td>8512.291121</td><td>355.678797</td><td>1.7347e9</td><td>0</td><td>963</td><td>139.978611</td><td>45.001854</td><td>34.682666</td><td>45.163353</td><td>1.0</td><td>23887.427724</td><td>1.994084</td><td>1.994658</td><td>607.15721</td><td>607.203268</td><td>-0.001037</td><td>1178.424698</td><td>98.553013</td><td>1082.962702</td><td>59.50696</td><td>-0.073245</td><td>-0.043453</td><td>2024-12-20 16:17:28.036 UTC</td><td>18231138</td><td>null</td><td>null</td><td>null</td><td>null</td><td>null</td><td>1.00673</td><td>0.028601</td><td>611.318404</td></tr><tr><td>&quot;2024-12-20&quot;</td><td>&quot;16:17:28.542&quot;</td><td>354.678803</td><td>8512.291262</td><td>355.678803</td><td>1.7347e9</td><td>0</td><td>963</td><td>139.971558</td><td>45.001854</td><td>34.6875</td><td>45.163353</td><td>3.0</td><td>23882.675781</td><td>1.994084</td><td>1.994062</td><td>607.15721</td><td>607.149367</td><td>-0.001117</td><td>1178.424698</td><td>98.553013</td><td>1082.962702</td><td>59.50696</td><td>-0.073245</td><td>-0.043453</td><td>2024-12-20 16:17:28.542 UTC</td><td>18231139</td><td>null</td><td>null</td><td>null</td><td>null</td><td>null</td><td>1.00673</td><td>0.028601</td><td>611.26414</td></tr><tr><td>&quot;2024-12-20&quot;</td><td>&quot;16:17:30.088&quot;</td><td>354.67882</td><td>8512.291691</td><td>355.67882</td><td>1.7347e9</td><td>0</td><td>963</td><td>139.993316</td><td>45.001734</td><td>34.646597</td><td>45.163353</td><td>2.0</td><td>23880.213811</td><td>1.994109</td><td>1.994062</td><td>607.15721</td><td>607.149367</td><td>-0.001117</td><td>1178.40625</td><td>98.553013</td><td>1083.060345</td><td>59.50696</td><td>-0.073235</td><td>-0.043456</td><td>2024-12-20 16:17:30.088 UTC</td><td>18231140</td><td>null</td><td>null</td><td>null</td><td>null</td><td>null</td><td>1.00673</td><td>0.028601</td><td>611.26414</td></tr><tr><td>&quot;2024-12-20&quot;</td><td>&quot;16:17:31.007&quot;</td><td>354.678831</td><td>8512.291947</td><td>355.678831</td><td>1.7347e9</td><td>0</td><td>963</td><td>140.013272</td><td>45.001671</td><td>34.660221</td><td>45.163353</td><td>1.0</td><td>23886.199542</td><td>1.994109</td><td>1.994062</td><td>607.174696</td><td>607.149367</td><td>-0.001117</td><td>1178.40625</td><td>98.553013</td><td>1083.062964</td><td>59.50696</td><td>-0.073243</td><td>-0.043456</td><td>2024-12-20 16:17:31.007 UTC</td><td>18231141</td><td>null</td><td>null</td><td>null</td><td>null</td><td>null</td><td>1.00673</td><td>0.028601</td><td>611.26414</td></tr><tr><td>&quot;2024-12-20&quot;</td><td>&quot;16:17:31.513&quot;</td><td>354.678837</td><td>8512.292087</td><td>355.678837</td><td>1.7347e9</td><td>65536</td><td>0</td><td>140.028259</td><td>45.001671</td><td>34.625</td><td>45.163353</td><td>3.0</td><td>23891.722656</td><td>1.994109</td><td>1.994085</td><td>607.174696</td><td>607.165968</td><td>-0.001279</td><td>1178.40625</td><td>98.553013</td><td>1083.062964</td><td>59.50696</td><td>-0.073243</td><td>-0.043456</td><td>2024-12-20 16:17:31.513 UTC</td><td>18231142</td><td>null</td><td>null</td><td>null</td><td>null</td><td>null</td><td>1.00673</td><td>0.028601</td><td>611.280853</td></tr></tbody></table></div>"
      ],
      "text/plain": [
       "shape: (5, 35)\n",
       "┌───────────┬───────────┬───────────┬───────────┬───┬───────────┬───────────┬───────────┬──────────┐\n",
       "│ DATE      ┆ TIME      ┆ FRAC_DAYS ┆ FRAC_HRS_ ┆ … ┆ intercept ┆ slope_int ┆ intercept ┆ picarro_ │\n",
       "│ ---       ┆ ---       ┆ _SINCE_JA ┆ SINCE_JAN ┆   ┆ ---       ┆ erpolated ┆ _interpol ┆ correcte │\n",
       "│ str       ┆ str       ┆ N1        ┆ 1         ┆   ┆ f64       ┆ ---       ┆ ated      ┆ d        │\n",
       "│           ┆           ┆ ---       ┆ ---       ┆   ┆           ┆ f64       ┆ ---       ┆ ---      │\n",
       "│           ┆           ┆ f64       ┆ f64       ┆   ┆           ┆           ┆ f64       ┆ f64      │\n",
       "╞═══════════╪═══════════╪═══════════╪═══════════╪═══╪═══════════╪═══════════╪═══════════╪══════════╡\n",
       "│ 2024-12-2 ┆ 16:17:28. ┆ 354.67879 ┆ 8512.2911 ┆ … ┆ null      ┆ 1.00673   ┆ 0.028601  ┆ 611.3184 │\n",
       "│ 0         ┆ 036       ┆ 7         ┆ 21        ┆   ┆           ┆           ┆           ┆ 04       │\n",
       "│ 2024-12-2 ┆ 16:17:28. ┆ 354.67880 ┆ 8512.2912 ┆ … ┆ null      ┆ 1.00673   ┆ 0.028601  ┆ 611.2641 │\n",
       "│ 0         ┆ 542       ┆ 3         ┆ 62        ┆   ┆           ┆           ┆           ┆ 4        │\n",
       "│ 2024-12-2 ┆ 16:17:30. ┆ 354.67882 ┆ 8512.2916 ┆ … ┆ null      ┆ 1.00673   ┆ 0.028601  ┆ 611.2641 │\n",
       "│ 0         ┆ 088       ┆           ┆ 91        ┆   ┆           ┆           ┆           ┆ 4        │\n",
       "│ 2024-12-2 ┆ 16:17:31. ┆ 354.67883 ┆ 8512.2919 ┆ … ┆ null      ┆ 1.00673   ┆ 0.028601  ┆ 611.2641 │\n",
       "│ 0         ┆ 007       ┆ 1         ┆ 47        ┆   ┆           ┆           ┆           ┆ 4        │\n",
       "│ 2024-12-2 ┆ 16:17:31. ┆ 354.67883 ┆ 8512.2920 ┆ … ┆ null      ┆ 1.00673   ┆ 0.028601  ┆ 611.2808 │\n",
       "│ 0         ┆ 513       ┆ 7         ┆ 87        ┆   ┆           ┆           ┆           ┆ 53       │\n",
       "└───────────┴───────────┴───────────┴───────────┴───┴───────────┴───────────┴───────────┴──────────┘"
      ]
     },
     "execution_count": 3,
     "metadata": {},
     "output_type": "execute_result"
    }
   ],
   "source": [
    "df_p_dwd.tail()"
   ]
  },
  {
   "cell_type": "code",
   "execution_count": 4,
   "metadata": {},
   "outputs": [],
   "source": [
    "def process_calibration_time(df, start_date, end_date, plot=False):\n",
    "    df_filtered = df.filter(pl.col(\"datetime\").is_between(start_date, end_date))\n",
    "    \n",
    "    if plot:\n",
    "        fig = px.line(df_filtered, x=\"datetime\", y=\"h2o_reported\")\n",
    "        fig.show()\n",
    "        \n",
    "        fig = px.line(df_filtered, x=\"datetime\", y=\"picarro_corrected\")\n",
    "        fig.show()\n",
    "        \n",
    "    data = df_filtered.select(pl.col(\"picarro_corrected\")).to_series().to_list()\n",
    "        \n",
    "    return np.median(data[int(len(data)*0.3):int(len(data)*0.95)])"
   ]
  },
  {
   "cell_type": "code",
   "execution_count": 5,
   "metadata": {},
   "outputs": [
    {
     "data": {
      "text/plain": [
       "522.4069026528374"
      ]
     },
     "execution_count": 5,
     "metadata": {},
     "output_type": "execute_result"
    }
   ],
   "source": [
    "# 81 12:44 - 13:04\n",
    "# Reading: 518.9\n",
    "\n",
    "start_date = datetime(2024, 12, 11, 12, 44, 49).replace(tzinfo=timezone.utc)\n",
    "end_date = datetime(2024, 12, 11, 13, 4, 0).replace(tzinfo=timezone.utc)\n",
    "\n",
    "process_calibration_time(df=df_p_dwd, start_date=start_date, end_date=end_date, plot=False)"
   ]
  },
  {
   "cell_type": "code",
   "execution_count": 6,
   "metadata": {},
   "outputs": [
    {
     "data": {
      "text/plain": [
       "521.9948774217688"
      ]
     },
     "execution_count": 6,
     "metadata": {},
     "output_type": "execute_result"
    }
   ],
   "source": [
    "# 82 13:08 - 13:29\n",
    "# Reading: 518.3\n",
    "\n",
    "start_date = datetime(2024, 12, 11, 13, 8, 0).replace(tzinfo=timezone.utc)\n",
    "end_date = datetime(2024, 12, 11, 13, 28, 0).replace(tzinfo=timezone.utc)\n",
    "\n",
    "process_calibration_time(df=df_p_dwd, start_date=start_date, end_date=end_date, plot=False)"
   ]
  },
  {
   "cell_type": "code",
   "execution_count": 7,
   "metadata": {},
   "outputs": [
    {
     "data": {
      "text/plain": [
       "522.4944370190834"
      ]
     },
     "execution_count": 7,
     "metadata": {},
     "output_type": "execute_result"
    }
   ],
   "source": [
    "# 83 15:25 - 15:45\n",
    "# Reading: 518.9\n",
    "\n",
    "start_date = datetime(2024, 12, 3, 15, 25, 0).replace(tzinfo=timezone.utc)\n",
    "end_date = datetime(2024, 12, 3, 15, 45, 0).replace(tzinfo=timezone.utc)\n",
    "\n",
    "process_calibration_time(df=df_p_dwd, start_date=start_date, end_date=end_date, plot=False)"
   ]
  },
  {
   "cell_type": "code",
   "execution_count": 8,
   "metadata": {},
   "outputs": [
    {
     "data": {
      "text/plain": [
       "519.4996164252359"
      ]
     },
     "execution_count": 8,
     "metadata": {},
     "output_type": "execute_result"
    }
   ],
   "source": [
    "# 84  16:05 - 16:25\n",
    "# Reading: 516.0\n",
    "\n",
    "start_date = datetime(2024, 12, 3, 16, 5, 6).replace(tzinfo=timezone.utc)\n",
    "end_date = datetime(2024, 12, 3, 16, 25, 0).replace(tzinfo=timezone.utc)\n",
    "\n",
    "process_calibration_time(df=df_p_dwd, start_date=start_date, end_date=end_date, plot=False)"
   ]
  },
  {
   "cell_type": "code",
   "execution_count": 9,
   "metadata": {},
   "outputs": [
    {
     "data": {
      "text/plain": [
       "522.6065096159259"
      ]
     },
     "execution_count": 9,
     "metadata": {},
     "output_type": "execute_result"
    }
   ],
   "source": [
    "# 85 UTC: 13:31 - 13:51\n",
    "# Reading: 519.0\n",
    "\n",
    "start_date = datetime(2024, 12, 11, 13, 31, 19).replace(tzinfo=timezone.utc)\n",
    "end_date = datetime(2024, 12, 11, 13, 51, 0).replace(tzinfo=timezone.utc)\n",
    "\n",
    "process_calibration_time(df=df_p_dwd, start_date=start_date, end_date=end_date, plot=False)"
   ]
  },
  {
   "cell_type": "code",
   "execution_count": 10,
   "metadata": {},
   "outputs": [
    {
     "data": {
      "text/plain": [
       "522.4389257404735"
      ]
     },
     "execution_count": 10,
     "metadata": {},
     "output_type": "execute_result"
    }
   ],
   "source": [
    "# 86 UTC: 13:53 - 14:13\n",
    "# Reading: 518.7\n",
    "\n",
    "start_date = datetime(2024, 12, 11, 13, 53, 20).replace(tzinfo=timezone.utc)\n",
    "end_date = datetime(2024, 12, 11, 14, 13, 0).replace(tzinfo=timezone.utc)\n",
    "\n",
    "process_calibration_time(df=df_p_dwd, start_date=start_date, end_date=end_date, plot=False)"
   ]
  },
  {
   "cell_type": "code",
   "execution_count": 11,
   "metadata": {},
   "outputs": [
    {
     "data": {
      "text/plain": [
       "522.304663100912"
      ]
     },
     "execution_count": 11,
     "metadata": {},
     "output_type": "execute_result"
    }
   ],
   "source": [
    "# 87 UTC: 14:15 - 14:35\n",
    "# Reading: 518.8\n",
    "\n",
    "start_date = datetime(2024, 12, 11, 14, 15, 0).replace(tzinfo=timezone.utc)\n",
    "end_date = datetime(2024, 12, 11, 14, 35, 0).replace(tzinfo=timezone.utc)\n",
    "\n",
    "process_calibration_time(df=df_p_dwd, start_date=start_date, end_date=end_date, plot=False)"
   ]
  },
  {
   "cell_type": "code",
   "execution_count": 12,
   "metadata": {},
   "outputs": [
    {
     "data": {
      "text/plain": [
       "522.0123712598768"
      ]
     },
     "execution_count": 12,
     "metadata": {},
     "output_type": "execute_result"
    }
   ],
   "source": [
    "# 88 UTC: 14:38 - 14:58\n",
    "# Reading: 518.4\n",
    "\n",
    "start_date = datetime(2024, 12, 11, 14, 38, 29).replace(tzinfo=timezone.utc)\n",
    "end_date = datetime(2024, 12, 11, 14, 58, 0).replace(tzinfo=timezone.utc)\n",
    "\n",
    "process_calibration_time(df=df_p_dwd, start_date=start_date, end_date=end_date, plot=False)"
   ]
  },
  {
   "cell_type": "code",
   "execution_count": 13,
   "metadata": {},
   "outputs": [
    {
     "data": {
      "text/plain": [
       "523.1993757923232"
      ]
     },
     "execution_count": 13,
     "metadata": {},
     "output_type": "execute_result"
    }
   ],
   "source": [
    "# 89 UTC: 15:01 - 15:21\n",
    "# Reading: 519.6\n",
    "\n",
    "start_date = datetime(2024, 12, 11, 15, 1, 0).replace(tzinfo=timezone.utc)\n",
    "end_date = datetime(2024, 12, 11, 15, 21, 0).replace(tzinfo=timezone.utc)\n",
    "\n",
    "process_calibration_time(df=df_p_dwd, start_date=start_date, end_date=end_date, plot=False)"
   ]
  },
  {
   "cell_type": "code",
   "execution_count": 14,
   "metadata": {},
   "outputs": [
    {
     "data": {
      "text/plain": [
       "522.7276754822104"
      ]
     },
     "execution_count": 14,
     "metadata": {},
     "output_type": "execute_result"
    }
   ],
   "source": [
    "# 90 UTC: 13:00 - 13:22\n",
    "# Reading: 519.1\n",
    "\n",
    "start_date = datetime(2024, 12, 18, 13, 2, 46).replace(tzinfo=timezone.utc)\n",
    "end_date = datetime(2024, 12, 18, 13, 21, 40).replace(tzinfo=timezone.utc)\n",
    "\n",
    "process_calibration_time(df=df_p_dwd, start_date=start_date, end_date=end_date, plot=False)"
   ]
  },
  {
   "cell_type": "code",
   "execution_count": 15,
   "metadata": {},
   "outputs": [
    {
     "data": {
      "text/plain": [
       "522.7470038342326"
      ]
     },
     "execution_count": 15,
     "metadata": {},
     "output_type": "execute_result"
    }
   ],
   "source": [
    "# 91 UTC: 13:22 - 13:42\n",
    "# Reading: 519.1\n",
    "\n",
    "start_date = datetime(2024, 12, 18, 13, 22, 5).replace(tzinfo=timezone.utc)\n",
    "end_date = datetime(2024, 12, 18, 13, 42, 0).replace(tzinfo=timezone.utc)\n",
    "\n",
    "process_calibration_time(df=df_p_dwd, start_date=start_date, end_date=end_date, plot=False)"
   ]
  },
  {
   "cell_type": "code",
   "execution_count": 16,
   "metadata": {},
   "outputs": [
    {
     "data": {
      "text/plain": [
       "519.9730075536429"
      ]
     },
     "execution_count": 16,
     "metadata": {},
     "output_type": "execute_result"
    }
   ],
   "source": [
    "# 92 UTC: 13:42 - 14:02\n",
    "# Reading: 516.4\n",
    "\n",
    "start_date = datetime(2024, 12, 18, 13, 43, 29).replace(tzinfo=timezone.utc)\n",
    "end_date = datetime(2024, 12, 18, 14, 2, 0).replace(tzinfo=timezone.utc)\n",
    "\n",
    "process_calibration_time(df=df_p_dwd, start_date=start_date, end_date=end_date, plot=False)"
   ]
  },
  {
   "cell_type": "code",
   "execution_count": 17,
   "metadata": {},
   "outputs": [
    {
     "data": {
      "text/plain": [
       "522.5310582054829"
      ]
     },
     "execution_count": 17,
     "metadata": {},
     "output_type": "execute_result"
    }
   ],
   "source": [
    "# 93 UTC: 14:02 - 14:22\n",
    "# Reading: 519.0\n",
    "\n",
    "start_date = datetime(2024, 12, 18, 14, 3, 45).replace(tzinfo=timezone.utc)\n",
    "end_date = datetime(2024, 12, 18, 14, 22, 0).replace(tzinfo=timezone.utc)\n",
    "\n",
    "process_calibration_time(df=df_p_dwd, start_date=start_date, end_date=end_date, plot=False)"
   ]
  },
  {
   "cell_type": "code",
   "execution_count": 18,
   "metadata": {},
   "outputs": [
    {
     "data": {
      "text/plain": [
       "521.878696409748"
      ]
     },
     "execution_count": 18,
     "metadata": {},
     "output_type": "execute_result"
    }
   ],
   "source": [
    "# 94 UTC: 14:22 - 14:42\n",
    "# Reading: 518,3\n",
    "\n",
    "start_date = datetime(2024, 12, 18, 14, 23, 14).replace(tzinfo=timezone.utc)\n",
    "end_date = datetime(2024, 12, 18, 14, 42, 0).replace(tzinfo=timezone.utc)\n",
    "\n",
    "process_calibration_time(df=df_p_dwd, start_date=start_date, end_date=end_date, plot=False)"
   ]
  },
  {
   "cell_type": "code",
   "execution_count": 19,
   "metadata": {},
   "outputs": [
    {
     "data": {
      "text/plain": [
       "522.3377255165628"
      ]
     },
     "execution_count": 19,
     "metadata": {},
     "output_type": "execute_result"
    }
   ],
   "source": [
    "# 95 UTC: 14:42 - 15:02\n",
    "# Reading: 518.7\n",
    "\n",
    "start_date = datetime(2024, 12, 18, 14, 43, 54).replace(tzinfo=timezone.utc)\n",
    "end_date = datetime(2024, 12, 18, 15, 2, 0).replace(tzinfo=timezone.utc)\n",
    "\n",
    "process_calibration_time(df=df_p_dwd, start_date=start_date, end_date=end_date, plot=False)"
   ]
  },
  {
   "cell_type": "code",
   "execution_count": 20,
   "metadata": {},
   "outputs": [
    {
     "data": {
      "text/plain": [
       "521.8621744185366"
      ]
     },
     "execution_count": 20,
     "metadata": {},
     "output_type": "execute_result"
    }
   ],
   "source": [
    "# 96 UTC: 15:02 - 15:22\n",
    "# Reading: 518.1\n",
    "\n",
    "start_date = datetime(2024, 12, 18, 15, 4, 7).replace(tzinfo=timezone.utc)\n",
    "end_date = datetime(2024, 12, 18, 15, 22, 0).replace(tzinfo=timezone.utc)\n",
    "\n",
    "process_calibration_time(df=df_p_dwd, start_date=start_date, end_date=end_date, plot=False)"
   ]
  },
  {
   "cell_type": "code",
   "execution_count": 21,
   "metadata": {},
   "outputs": [
    {
     "data": {
      "text/plain": [
       "522.2172384481117"
      ]
     },
     "execution_count": 21,
     "metadata": {},
     "output_type": "execute_result"
    }
   ],
   "source": [
    "# 97 UTC: 15:22 - 15:42\n",
    "# Reading: 518.8\n",
    "\n",
    "start_date = datetime(2024, 12, 18, 15, 23, 25).replace(tzinfo=timezone.utc)\n",
    "end_date = datetime(2024, 12, 18, 15, 42, 0).replace(tzinfo=timezone.utc)\n",
    "\n",
    "process_calibration_time(df=df_p_dwd, start_date=start_date, end_date=end_date, plot=False)"
   ]
  },
  {
   "cell_type": "code",
   "execution_count": 22,
   "metadata": {},
   "outputs": [
    {
     "data": {
      "text/plain": [
       "522.6360574361446"
      ]
     },
     "execution_count": 22,
     "metadata": {},
     "output_type": "execute_result"
    }
   ],
   "source": [
    "# 98 UTC: 10:21 - 10:41\n",
    "# Reading: 519.0\n",
    "\n",
    "start_date = datetime(2024, 12, 19, 10, 21, 52).replace(tzinfo=timezone.utc)\n",
    "end_date = datetime(2024, 12, 19, 10, 40, 49).replace(tzinfo=timezone.utc)\n",
    "\n",
    "process_calibration_time(df=df_p_dwd, start_date=start_date, end_date=end_date, plot=False)"
   ]
  },
  {
   "cell_type": "code",
   "execution_count": 23,
   "metadata": {},
   "outputs": [
    {
     "data": {
      "text/plain": [
       "522.8812920548058"
      ]
     },
     "execution_count": 23,
     "metadata": {},
     "output_type": "execute_result"
    }
   ],
   "source": [
    "# 99 UTC: 12:32 - 12:53\n",
    "# Reading: 519.3\n",
    "\n",
    "start_date = datetime(2024, 12, 19, 12, 32, 20).replace(tzinfo=timezone.utc)\n",
    "end_date = datetime(2024, 12, 19, 12, 53, 0).replace(tzinfo=timezone.utc)\n",
    "\n",
    "process_calibration_time(df=df_p_dwd, start_date=start_date, end_date=end_date, plot=False)"
   ]
  },
  {
   "cell_type": "code",
   "execution_count": 24,
   "metadata": {},
   "outputs": [
    {
     "data": {
      "text/plain": [
       "522.5006704602793"
      ]
     },
     "execution_count": 24,
     "metadata": {},
     "output_type": "execute_result"
    }
   ],
   "source": [
    "# 100 UTC: 12:52 - 13:14\n",
    "# Reading: 519.0\n",
    "\n",
    "start_date = datetime(2024, 12, 19, 12, 53, 24).replace(tzinfo=timezone.utc)\n",
    "end_date = datetime(2024, 12, 19, 13, 14, 0).replace(tzinfo=timezone.utc)\n",
    "\n",
    "process_calibration_time(df=df_p_dwd, start_date=start_date, end_date=end_date, plot=False)"
   ]
  },
  {
   "cell_type": "code",
   "execution_count": 25,
   "metadata": {},
   "outputs": [
    {
     "data": {
      "text/plain": [
       "401.9663457662931"
      ]
     },
     "execution_count": 25,
     "metadata": {},
     "output_type": "execute_result"
    }
   ],
   "source": [
    "# 101 UTC: 13:14 - 13:35\n",
    "# Reading: 399.4\n",
    "\n",
    "start_date = datetime(2024, 12, 19, 13, 14, 37).replace(tzinfo=timezone.utc)\n",
    "end_date = datetime(2024, 12, 19, 13, 34, 33).replace(tzinfo=timezone.utc)\n",
    "\n",
    "process_calibration_time(df=df_p_dwd, start_date=start_date, end_date=end_date, plot=False)"
   ]
  },
  {
   "cell_type": "code",
   "execution_count": 26,
   "metadata": {},
   "outputs": [
    {
     "data": {
      "text/plain": [
       "402.8704677346891"
      ]
     },
     "execution_count": 26,
     "metadata": {},
     "output_type": "execute_result"
    }
   ],
   "source": [
    "# 102 UTC: 13:35 - 13:55\n",
    "# Reading: 400.1\n",
    "\n",
    "start_date = datetime(2024, 12, 19, 13, 35, 33).replace(tzinfo=timezone.utc)\n",
    "end_date = datetime(2024, 12, 19, 13, 55, 0).replace(tzinfo=timezone.utc)\n",
    "\n",
    "process_calibration_time(df=df_p_dwd, start_date=start_date, end_date=end_date, plot=False)"
   ]
  },
  {
   "cell_type": "code",
   "execution_count": 27,
   "metadata": {},
   "outputs": [
    {
     "data": {
      "text/plain": [
       "402.8848475250676"
      ]
     },
     "execution_count": 27,
     "metadata": {},
     "output_type": "execute_result"
    }
   ],
   "source": [
    "# 103 UTC: 13:55 - 14:15\n",
    "# Reading: 400.1\n",
    "\n",
    "start_date = datetime(2024, 12, 19, 13, 56, 43).replace(tzinfo=timezone.utc)\n",
    "end_date = datetime(2024, 12, 19, 14, 15, 0).replace(tzinfo=timezone.utc)\n",
    "\n",
    "process_calibration_time(df=df_p_dwd, start_date=start_date, end_date=end_date, plot=False)"
   ]
  },
  {
   "cell_type": "code",
   "execution_count": 28,
   "metadata": {},
   "outputs": [
    {
     "data": {
      "text/plain": [
       "401.8274274077712"
      ]
     },
     "execution_count": 28,
     "metadata": {},
     "output_type": "execute_result"
    }
   ],
   "source": [
    "# 104 UTC: 14:15 - 14:35\n",
    "# Reading: 399.1\n",
    "\n",
    "start_date = datetime(2024, 12, 19, 14, 15, 31).replace(tzinfo=timezone.utc)\n",
    "end_date = datetime(2024, 12, 19, 14, 35, 0).replace(tzinfo=timezone.utc)\n",
    "\n",
    "process_calibration_time(df=df_p_dwd, start_date=start_date, end_date=end_date, plot=False)"
   ]
  },
  {
   "cell_type": "code",
   "execution_count": 29,
   "metadata": {},
   "outputs": [
    {
     "data": {
      "text/plain": [
       "400.6563701343928"
      ]
     },
     "execution_count": 29,
     "metadata": {},
     "output_type": "execute_result"
    }
   ],
   "source": [
    "# 105 UTC: 14:55 - 15:15\n",
    "# Reading: 397.9\n",
    "\n",
    "start_date = datetime(2024, 12, 19, 14, 57, 40).replace(tzinfo=timezone.utc)\n",
    "end_date = datetime(2024, 12, 19, 15, 15, 0).replace(tzinfo=timezone.utc)\n",
    "\n",
    "process_calibration_time(df=df_p_dwd, start_date=start_date, end_date=end_date, plot=False)"
   ]
  },
  {
   "cell_type": "code",
   "execution_count": 30,
   "metadata": {},
   "outputs": [
    {
     "data": {
      "text/plain": [
       "401.7903043412514"
      ]
     },
     "execution_count": 30,
     "metadata": {},
     "output_type": "execute_result"
    }
   ],
   "source": [
    "# 106 UTC: 15:15 - 15:35\n",
    "# Reading: 399.0\n",
    "\n",
    "start_date = datetime(2024, 12, 19, 15, 16, 42).replace(tzinfo=timezone.utc)\n",
    "end_date = datetime(2024, 12, 19, 15, 35, 0).replace(tzinfo=timezone.utc)\n",
    "\n",
    "process_calibration_time(df=df_p_dwd, start_date=start_date, end_date=end_date, plot=False)"
   ]
  },
  {
   "cell_type": "code",
   "execution_count": 31,
   "metadata": {},
   "outputs": [
    {
     "data": {
      "text/plain": [
       "402.0935771008572"
      ]
     },
     "execution_count": 31,
     "metadata": {},
     "output_type": "execute_result"
    }
   ],
   "source": [
    "# 107 UTC: 15:35 - 15:55\n",
    "# Reading: 499.3\n",
    "\n",
    "start_date = datetime(2024, 12, 19, 15, 35, 41).replace(tzinfo=timezone.utc)\n",
    "end_date = datetime(2024, 12, 19, 15, 54, 50).replace(tzinfo=timezone.utc)\n",
    "\n",
    "process_calibration_time(df=df_p_dwd, start_date=start_date, end_date=end_date, plot=False)"
   ]
  },
  {
   "cell_type": "code",
   "execution_count": 59,
   "metadata": {},
   "outputs": [
    {
     "data": {
      "text/plain": [
       "402.82112465109776"
      ]
     },
     "execution_count": 59,
     "metadata": {},
     "output_type": "execute_result"
    }
   ],
   "source": [
    "# 108 UTC: 08:45 - 09:05\n",
    "# Reading: 400.0\n",
    "\n",
    "start_date = datetime(2024, 12, 20, 8, 45, 10).replace(tzinfo=timezone.utc)\n",
    "end_date = datetime(2024, 12, 20, 9, 5, 0).replace(tzinfo=timezone.utc)\n",
    "\n",
    "process_calibration_time(df=df_p_dwd, start_date=start_date, end_date=end_date, plot=False)"
   ]
  },
  {
   "cell_type": "code",
   "execution_count": 56,
   "metadata": {},
   "outputs": [
    {
     "data": {
      "text/plain": [
       "399.6676137159892"
      ]
     },
     "execution_count": 56,
     "metadata": {},
     "output_type": "execute_result"
    }
   ],
   "source": [
    "# 109 UTC: 09:05 - 09:25\n",
    "# Reading: 396.9\n",
    "\n",
    "start_date = datetime(2024, 12, 20, 9, 8, 30).replace(tzinfo=timezone.utc)\n",
    "end_date = datetime(2024, 12, 20, 9, 25, 0).replace(tzinfo=timezone.utc)\n",
    "\n",
    "process_calibration_time(df=df_p_dwd, start_date=start_date, end_date=end_date, plot=False)"
   ]
  },
  {
   "cell_type": "code",
   "execution_count": 52,
   "metadata": {},
   "outputs": [
    {
     "data": {
      "text/plain": [
       "401.7645314568672"
      ]
     },
     "execution_count": 52,
     "metadata": {},
     "output_type": "execute_result"
    }
   ],
   "source": [
    "# 110 UTC: 09:25 - 09:45\n",
    "# Reading: 399.0\n",
    "\n",
    "start_date = datetime(2024, 12, 20, 9, 27, 0).replace(tzinfo=timezone.utc)\n",
    "end_date = datetime(2024, 12, 20, 9, 45, 0).replace(tzinfo=timezone.utc)\n",
    "\n",
    "process_calibration_time(df=df_p_dwd, start_date=start_date, end_date=end_date, plot=False)"
   ]
  },
  {
   "cell_type": "code",
   "execution_count": 46,
   "metadata": {},
   "outputs": [
    {
     "data": {
      "text/plain": [
       "402.70213401646066"
      ]
     },
     "execution_count": 46,
     "metadata": {},
     "output_type": "execute_result"
    }
   ],
   "source": [
    "# 111 UTC: 10:06 - 10:26\n",
    "# Reading: 399.9\n",
    "\n",
    "start_date = datetime(2024, 12, 20, 10, 6, 0).replace(tzinfo=timezone.utc)\n",
    "end_date = datetime(2024, 12, 20, 10, 26, 0).replace(tzinfo=timezone.utc)\n",
    "\n",
    "process_calibration_time(df=df_p_dwd, start_date=start_date, end_date=end_date, plot=False)"
   ]
  },
  {
   "cell_type": "code",
   "execution_count": 61,
   "metadata": {},
   "outputs": [
    {
     "data": {
      "text/plain": [
       "402.70129592372444"
      ]
     },
     "execution_count": 61,
     "metadata": {},
     "output_type": "execute_result"
    }
   ],
   "source": [
    "# 112 UTC: 10:26 - 10:46\n",
    "# Reading: 399.9\n",
    "\n",
    "start_date = datetime(2024, 12, 20, 10, 27, 20).replace(tzinfo=timezone.utc)\n",
    "end_date = datetime(2024, 12, 20, 10, 46, 0).replace(tzinfo=timezone.utc)\n",
    "\n",
    "process_calibration_time(df=df_p_dwd, start_date=start_date, end_date=end_date, plot=False)"
   ]
  },
  {
   "cell_type": "code",
   "execution_count": 64,
   "metadata": {},
   "outputs": [
    {
     "data": {
      "text/plain": [
       "401.8755007882667"
      ]
     },
     "execution_count": 64,
     "metadata": {},
     "output_type": "execute_result"
    }
   ],
   "source": [
    "# 113 UTC: 12:08 - 12:28\n",
    "# Reading: 399.1\n",
    "\n",
    "start_date = datetime(2024, 12, 20, 12, 8, 30).replace(tzinfo=timezone.utc)\n",
    "end_date = datetime(2024, 12, 20, 12, 28, 0).replace(tzinfo=timezone.utc)\n",
    "\n",
    "process_calibration_time(df=df_p_dwd, start_date=start_date, end_date=end_date, plot=False)"
   ]
  },
  {
   "cell_type": "code",
   "execution_count": 67,
   "metadata": {},
   "outputs": [
    {
     "data": {
      "text/plain": [
       "401.99006017958624"
      ]
     },
     "execution_count": 67,
     "metadata": {},
     "output_type": "execute_result"
    }
   ],
   "source": [
    "# 114 UTC: 12:28 - 12:49\n",
    "# Reading: 399.1\n",
    "\n",
    "start_date = datetime(2024, 12, 20, 12, 29, 10).replace(tzinfo=timezone.utc)\n",
    "end_date = datetime(2024, 12, 20, 12, 49, 0).replace(tzinfo=timezone.utc)\n",
    "\n",
    "process_calibration_time(df=df_p_dwd, start_date=start_date, end_date=end_date, plot=False)"
   ]
  },
  {
   "cell_type": "code",
   "execution_count": 70,
   "metadata": {},
   "outputs": [
    {
     "data": {
      "text/plain": [
       "402.65517458784814"
      ]
     },
     "execution_count": 70,
     "metadata": {},
     "output_type": "execute_result"
    }
   ],
   "source": [
    "# 115 UTC: 12:49 - 13:09\n",
    "# Reading: 399.9\n",
    "\n",
    "start_date = datetime(2024, 12, 20, 12, 49, 40).replace(tzinfo=timezone.utc)\n",
    "end_date = datetime(2024, 12, 20, 13, 9, 0).replace(tzinfo=timezone.utc)\n",
    "\n",
    "process_calibration_time(df=df_p_dwd, start_date=start_date, end_date=end_date, plot=False)"
   ]
  },
  {
   "cell_type": "code",
   "execution_count": 73,
   "metadata": {},
   "outputs": [
    {
     "data": {
      "text/plain": [
       "402.1074731976945"
      ]
     },
     "execution_count": 73,
     "metadata": {},
     "output_type": "execute_result"
    }
   ],
   "source": [
    "# 116 UTC: 13:09 - 13:29\n",
    "# Reading: 399.4\n",
    "\n",
    "start_date = datetime(2024, 12, 20, 13, 10, 10).replace(tzinfo=timezone.utc)\n",
    "end_date = datetime(2024, 12, 20, 13, 29, 0).replace(tzinfo=timezone.utc)\n",
    "\n",
    "process_calibration_time(df=df_p_dwd, start_date=start_date, end_date=end_date, plot=False)"
   ]
  },
  {
   "cell_type": "code",
   "execution_count": 76,
   "metadata": {},
   "outputs": [
    {
     "data": {
      "text/plain": [
       "401.6490928378198"
      ]
     },
     "execution_count": 76,
     "metadata": {},
     "output_type": "execute_result"
    }
   ],
   "source": [
    "# 117 UTC: 13:29 - 13:49\n",
    "# Reading: 399.0\n",
    "\n",
    "start_date = datetime(2024, 12, 20, 13, 30, 10).replace(tzinfo=timezone.utc)\n",
    "end_date = datetime(2024, 12, 20, 13, 49, 0).replace(tzinfo=timezone.utc)\n",
    "\n",
    "process_calibration_time(df=df_p_dwd, start_date=start_date, end_date=end_date, plot=False)"
   ]
  },
  {
   "cell_type": "code",
   "execution_count": 79,
   "metadata": {},
   "outputs": [
    {
     "data": {
      "text/plain": [
       "401.8560315443678"
      ]
     },
     "execution_count": 79,
     "metadata": {},
     "output_type": "execute_result"
    }
   ],
   "source": [
    "# 118 UTC: 13:49 - 14:09\n",
    "# Reading: 399.2\n",
    "\n",
    "start_date = datetime(2024, 12, 20, 13, 50, 30).replace(tzinfo=timezone.utc)\n",
    "end_date = datetime(2024, 12, 20, 14, 9, 0).replace(tzinfo=timezone.utc)\n",
    "\n",
    "process_calibration_time(df=df_p_dwd, start_date=start_date, end_date=end_date, plot=False)"
   ]
  },
  {
   "cell_type": "code",
   "execution_count": 82,
   "metadata": {},
   "outputs": [
    {
     "data": {
      "text/plain": [
       "403.03981803889957"
      ]
     },
     "execution_count": 82,
     "metadata": {},
     "output_type": "execute_result"
    }
   ],
   "source": [
    "# 119 UTC: 14:09 - 14:29\n",
    "# Reading: \n",
    "\n",
    "start_date = datetime(2024, 12, 20, 14, 9, 40).replace(tzinfo=timezone.utc)\n",
    "end_date = datetime(2024, 12, 20, 14, 29, 0).replace(tzinfo=timezone.utc)\n",
    "\n",
    "process_calibration_time(df=df_p_dwd, start_date=start_date, end_date=end_date, plot=False)"
   ]
  },
  {
   "cell_type": "code",
   "execution_count": 85,
   "metadata": {},
   "outputs": [
    {
     "data": {
      "text/plain": [
       "402.6622909917404"
      ]
     },
     "execution_count": 85,
     "metadata": {},
     "output_type": "execute_result"
    }
   ],
   "source": [
    "# 120 UTC: 14:29 - 14:49\n",
    "# Reading:  399.9\n",
    "\n",
    "start_date = datetime(2024, 12, 20, 14, 29, 40).replace(tzinfo=timezone.utc)\n",
    "end_date = datetime(2024, 12, 20, 14, 49, 0).replace(tzinfo=timezone.utc)\n",
    "\n",
    "process_calibration_time(df=df_p_dwd, start_date=start_date, end_date=end_date, plot=False)"
   ]
  }
 ],
 "metadata": {
  "kernelspec": {
   "display_name": ".venv",
   "language": "python",
   "name": "python3"
  },
  "language_info": {
   "codemirror_mode": {
    "name": "ipython",
    "version": 3
   },
   "file_extension": ".py",
   "mimetype": "text/x-python",
   "name": "python",
   "nbconvert_exporter": "python",
   "pygments_lexer": "ipython3",
   "version": "3.11.10"
  }
 },
 "nbformat": 4,
 "nbformat_minor": 2
}
