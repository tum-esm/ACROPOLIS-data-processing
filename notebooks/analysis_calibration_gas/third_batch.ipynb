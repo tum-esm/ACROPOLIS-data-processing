{
 "cells": [
  {
   "cell_type": "code",
   "execution_count": 49,
   "metadata": {},
   "outputs": [],
   "source": [
    "import os\n",
    "import polars as pl\n",
    "import numpy as np\n",
    "import plotly.express as px\n",
    "\n",
    "from datetime import datetime, timezone\n",
    "\n",
    "DATA_DIRECTORY = os.environ.get(\"DATA_DIRECTORY\")"
   ]
  },
  {
   "cell_type": "code",
   "execution_count": 50,
   "metadata": {},
   "outputs": [],
   "source": [
    "df_p_dwd = pl.read_parquet(os.path.join(DATA_DIRECTORY, \"processed\", \"picarro\", \"Calibrated_Raw_DWD_Picarro_G2301_413.parquet\"))"
   ]
  },
  {
   "cell_type": "code",
   "execution_count": 51,
   "metadata": {},
   "outputs": [
    {
     "data": {
      "text/html": [
       "<div><style>\n",
       ".dataframe > thead > tr,\n",
       ".dataframe > tbody > tr {\n",
       "  text-align: right;\n",
       "  white-space: pre-wrap;\n",
       "}\n",
       "</style>\n",
       "<small>shape: (5, 35)</small><table border=\"1\" class=\"dataframe\"><thead><tr><th>DATE</th><th>TIME</th><th>FRAC_DAYS_SINCE_JAN1</th><th>FRAC_HRS_SINCE_JAN1</th><th>JULIAN_DAYS</th><th>EPOCH_TIME</th><th>ALARM_STATUS</th><th>INST_STATUS</th><th>CavityPressure</th><th>CavityTemp</th><th>DasTemp</th><th>EtalonTemp</th><th>species</th><th>OutletValve</th><th>CH4</th><th>CH4_dry</th><th>CO2</th><th>CO2_dry</th><th>h2o_reported</th><th>ch4_base</th><th>ch4_pzt_std</th><th>co2_base</th><th>co2_pzt_std</th><th>wlm1_offset</th><th>wlm2_offset</th><th>datetime</th><th>__index_level_0__</th><th>Picarro ID</th><th>Bottle_1_Median</th><th>Bottle_2_Median</th><th>slope</th><th>intercept</th><th>slope_interpolated</th><th>intercept_interpolated</th><th>picarro_corrected</th></tr><tr><td>str</td><td>str</td><td>f64</td><td>f64</td><td>f64</td><td>f64</td><td>i64</td><td>i64</td><td>f64</td><td>f64</td><td>f64</td><td>f64</td><td>f64</td><td>f64</td><td>f64</td><td>f64</td><td>f64</td><td>f64</td><td>f64</td><td>f64</td><td>f64</td><td>f64</td><td>f64</td><td>f64</td><td>f64</td><td>datetime[μs, UTC]</td><td>i64</td><td>i64</td><td>f64</td><td>f64</td><td>f64</td><td>f64</td><td>f64</td><td>f64</td><td>f64</td></tr></thead><tbody><tr><td>&quot;2024-12-19&quot;</td><td>&quot;23:59:55.885&quot;</td><td>353.999952</td><td>8495.998857</td><td>354.999952</td><td>1.7347e9</td><td>0</td><td>963</td><td>140.036302</td><td>44.999718</td><td>34.5</td><td>45.159142</td><td>2.0</td><td>23680.608997</td><td>2.01983</td><td>2.040937</td><td>477.490107</td><td>483.715796</td><td>1.047623</td><td>1180.355714</td><td>78.657642</td><td>1083.992871</td><td>68.329538</td><td>-0.073272</td><td>-0.043486</td><td>2024-12-19 23:59:55.885 UTC</td><td>18698218</td><td>null</td><td>null</td><td>null</td><td>null</td><td>null</td><td>1.00673</td><td>0.028601</td><td>486.99985</td></tr><tr><td>&quot;2024-12-19&quot;</td><td>&quot;23:59:56.799&quot;</td><td>353.999963</td><td>8495.999111</td><td>354.999963</td><td>1.7347e9</td><td>0</td><td>963</td><td>139.981627</td><td>44.999718</td><td>34.5</td><td>45.159142</td><td>1.0</td><td>23666.694859</td><td>2.01983</td><td>2.040937</td><td>477.4594</td><td>483.715796</td><td>1.047623</td><td>1180.355714</td><td>78.657642</td><td>1083.938414</td><td>68.329538</td><td>-0.073272</td><td>-0.043486</td><td>2024-12-19 23:59:56.799 UTC</td><td>18698219</td><td>null</td><td>null</td><td>null</td><td>null</td><td>null</td><td>1.00673</td><td>0.028601</td><td>486.99985</td></tr><tr><td>&quot;2024-12-19&quot;</td><td>&quot;23:59:57.305&quot;</td><td>353.999969</td><td>8495.999251</td><td>354.999969</td><td>1.7347e9</td><td>0</td><td>963</td><td>139.985474</td><td>44.999718</td><td>34.5</td><td>45.159142</td><td>3.0</td><td>23664.498047</td><td>2.01983</td><td>2.041357</td><td>477.4594</td><td>483.679226</td><td>1.046739</td><td>1180.355714</td><td>78.657642</td><td>1083.938414</td><td>68.329538</td><td>-0.073272</td><td>-0.043486</td><td>2024-12-19 23:59:57.305 UTC</td><td>18698220</td><td>null</td><td>null</td><td>null</td><td>null</td><td>null</td><td>1.00673</td><td>0.028601</td><td>486.963034</td></tr><tr><td>&quot;2024-12-19&quot;</td><td>&quot;23:59:58.835&quot;</td><td>353.999987</td><td>8495.999677</td><td>354.999987</td><td>1.7347e9</td><td>0</td><td>963</td><td>139.968752</td><td>44.999718</td><td>34.5</td><td>45.159142</td><td>2.0</td><td>23645.841725</td><td>2.019769</td><td>2.041357</td><td>477.4594</td><td>483.679226</td><td>1.046739</td><td>1180.340647</td><td>81.613998</td><td>1083.969829</td><td>64.710549</td><td>-0.073275</td><td>-0.043479</td><td>2024-12-19 23:59:58.835 UTC</td><td>18698221</td><td>null</td><td>null</td><td>null</td><td>null</td><td>null</td><td>1.00673</td><td>0.028601</td><td>486.963034</td></tr><tr><td>&quot;2024-12-19&quot;</td><td>&quot;23:59:59.740&quot;</td><td>353.999997</td><td>8495.999928</td><td>354.999997</td><td>1.7347e9</td><td>0</td><td>963</td><td>140.01347</td><td>44.999788</td><td>34.5</td><td>45.159142</td><td>1.0</td><td>23655.321796</td><td>2.019769</td><td>2.041357</td><td>477.411349</td><td>483.679226</td><td>1.046739</td><td>1180.340647</td><td>81.613998</td><td>1083.991612</td><td>64.328688</td><td>-0.073265</td><td>-0.043479</td><td>2024-12-19 23:59:59.740 UTC</td><td>18698222</td><td>null</td><td>null</td><td>null</td><td>null</td><td>null</td><td>1.00673</td><td>0.028601</td><td>486.963034</td></tr></tbody></table></div>"
      ],
      "text/plain": [
       "shape: (5, 35)\n",
       "┌───────────┬───────────┬───────────┬───────────┬───┬───────────┬───────────┬───────────┬──────────┐\n",
       "│ DATE      ┆ TIME      ┆ FRAC_DAYS ┆ FRAC_HRS_ ┆ … ┆ intercept ┆ slope_int ┆ intercept ┆ picarro_ │\n",
       "│ ---       ┆ ---       ┆ _SINCE_JA ┆ SINCE_JAN ┆   ┆ ---       ┆ erpolated ┆ _interpol ┆ correcte │\n",
       "│ str       ┆ str       ┆ N1        ┆ 1         ┆   ┆ f64       ┆ ---       ┆ ated      ┆ d        │\n",
       "│           ┆           ┆ ---       ┆ ---       ┆   ┆           ┆ f64       ┆ ---       ┆ ---      │\n",
       "│           ┆           ┆ f64       ┆ f64       ┆   ┆           ┆           ┆ f64       ┆ f64      │\n",
       "╞═══════════╪═══════════╪═══════════╪═══════════╪═══╪═══════════╪═══════════╪═══════════╪══════════╡\n",
       "│ 2024-12-1 ┆ 23:59:55. ┆ 353.99995 ┆ 8495.9988 ┆ … ┆ null      ┆ 1.00673   ┆ 0.028601  ┆ 486.9998 │\n",
       "│ 9         ┆ 885       ┆ 2         ┆ 57        ┆   ┆           ┆           ┆           ┆ 5        │\n",
       "│ 2024-12-1 ┆ 23:59:56. ┆ 353.99996 ┆ 8495.9991 ┆ … ┆ null      ┆ 1.00673   ┆ 0.028601  ┆ 486.9998 │\n",
       "│ 9         ┆ 799       ┆ 3         ┆ 11        ┆   ┆           ┆           ┆           ┆ 5        │\n",
       "│ 2024-12-1 ┆ 23:59:57. ┆ 353.99996 ┆ 8495.9992 ┆ … ┆ null      ┆ 1.00673   ┆ 0.028601  ┆ 486.9630 │\n",
       "│ 9         ┆ 305       ┆ 9         ┆ 51        ┆   ┆           ┆           ┆           ┆ 34       │\n",
       "│ 2024-12-1 ┆ 23:59:58. ┆ 353.99998 ┆ 8495.9996 ┆ … ┆ null      ┆ 1.00673   ┆ 0.028601  ┆ 486.9630 │\n",
       "│ 9         ┆ 835       ┆ 7         ┆ 77        ┆   ┆           ┆           ┆           ┆ 34       │\n",
       "│ 2024-12-1 ┆ 23:59:59. ┆ 353.99999 ┆ 8495.9999 ┆ … ┆ null      ┆ 1.00673   ┆ 0.028601  ┆ 486.9630 │\n",
       "│ 9         ┆ 740       ┆ 7         ┆ 28        ┆   ┆           ┆           ┆           ┆ 34       │\n",
       "└───────────┴───────────┴───────────┴───────────┴───┴───────────┴───────────┴───────────┴──────────┘"
      ]
     },
     "execution_count": 51,
     "metadata": {},
     "output_type": "execute_result"
    }
   ],
   "source": [
    "df_p_dwd.tail()"
   ]
  },
  {
   "cell_type": "code",
   "execution_count": 52,
   "metadata": {},
   "outputs": [],
   "source": [
    "def process_calibration_time(df, start_date, end_date, plot=False):\n",
    "    df_filtered = df.filter(pl.col(\"datetime\").is_between(start_date, end_date))\n",
    "    \n",
    "    if plot:\n",
    "        fig = px.line(df_filtered, x=\"datetime\", y=\"picarro_corrected\")\n",
    "        fig.show()\n",
    "        \n",
    "        fig = px.line(df_filtered, x=\"datetime\", y=\"h2o_reported\")\n",
    "        fig.show()\n",
    "        \n",
    "    data = df_filtered.select(pl.col(\"picarro_corrected\")).to_series().to_list()\n",
    "        \n",
    "    return np.median(data[int(len(data)*0.3):int(len(data)*0.95)])"
   ]
  },
  {
   "cell_type": "code",
   "execution_count": 53,
   "metadata": {},
   "outputs": [
    {
     "data": {
      "text/plain": [
       "522.4070848860854"
      ]
     },
     "execution_count": 53,
     "metadata": {},
     "output_type": "execute_result"
    }
   ],
   "source": [
    "# 81 12:44 - 13:04\n",
    "# Reading: 518.9\n",
    "\n",
    "start_date = datetime(2024, 12, 11, 12, 44, 0).replace(tzinfo=timezone.utc)\n",
    "end_date = datetime(2024, 12, 11, 13, 4, 0).replace(tzinfo=timezone.utc)\n",
    "\n",
    "process_calibration_time(df=df_p_dwd, start_date=start_date, end_date=end_date, plot=False)"
   ]
  },
  {
   "cell_type": "code",
   "execution_count": 54,
   "metadata": {},
   "outputs": [
    {
     "data": {
      "text/plain": [
       "521.9948774217688"
      ]
     },
     "execution_count": 54,
     "metadata": {},
     "output_type": "execute_result"
    }
   ],
   "source": [
    "# 82 13:08 - 13:29\n",
    "# Reading: 518.3\n",
    "\n",
    "start_date = datetime(2024, 12, 11, 13, 8, 0).replace(tzinfo=timezone.utc)\n",
    "end_date = datetime(2024, 12, 11, 13, 28, 0).replace(tzinfo=timezone.utc)\n",
    "\n",
    "process_calibration_time(df=df_p_dwd, start_date=start_date, end_date=end_date, plot=False)"
   ]
  },
  {
   "cell_type": "code",
   "execution_count": 55,
   "metadata": {},
   "outputs": [
    {
     "data": {
      "text/plain": [
       "522.4944370190834"
      ]
     },
     "execution_count": 55,
     "metadata": {},
     "output_type": "execute_result"
    }
   ],
   "source": [
    "# 83 15:25 - 15:45\n",
    "# Reading: 518.9\n",
    "\n",
    "start_date = datetime(2024, 12, 3, 15, 25, 0).replace(tzinfo=timezone.utc)\n",
    "end_date = datetime(2024, 12, 3, 15, 45, 0).replace(tzinfo=timezone.utc)\n",
    "\n",
    "process_calibration_time(df=df_p_dwd, start_date=start_date, end_date=end_date, plot=False)"
   ]
  },
  {
   "cell_type": "code",
   "execution_count": 56,
   "metadata": {},
   "outputs": [
    {
     "data": {
      "text/plain": [
       "519.4997488102433"
      ]
     },
     "execution_count": 56,
     "metadata": {},
     "output_type": "execute_result"
    }
   ],
   "source": [
    "# 84  16:05 - 16:25\n",
    "# Reading: 516.0\n",
    "\n",
    "start_date = datetime(2024, 12, 3, 16, 5, 0).replace(tzinfo=timezone.utc)\n",
    "end_date = datetime(2024, 12, 3, 16, 25, 0).replace(tzinfo=timezone.utc)\n",
    "\n",
    "process_calibration_time(df=df_p_dwd, start_date=start_date, end_date=end_date, plot=False)"
   ]
  },
  {
   "cell_type": "code",
   "execution_count": 57,
   "metadata": {},
   "outputs": [
    {
     "data": {
      "text/plain": [
       "522.6064824845498"
      ]
     },
     "execution_count": 57,
     "metadata": {},
     "output_type": "execute_result"
    }
   ],
   "source": [
    "# 85 UTC: 13:31 - 13:51\n",
    "# Reading: 519.0\n",
    "\n",
    "start_date = datetime(2024, 12, 11, 13, 31, 0).replace(tzinfo=timezone.utc)\n",
    "end_date = datetime(2024, 12, 11, 13, 51, 0).replace(tzinfo=timezone.utc)\n",
    "\n",
    "process_calibration_time(df=df_p_dwd, start_date=start_date, end_date=end_date, plot=False)"
   ]
  },
  {
   "cell_type": "code",
   "execution_count": 90,
   "metadata": {},
   "outputs": [
    {
     "data": {
      "text/plain": [
       "522.4382696746057"
      ]
     },
     "execution_count": 90,
     "metadata": {},
     "output_type": "execute_result"
    }
   ],
   "source": [
    "# 86 UTC: 13:53 - 14:13\n",
    "# Reading: 518.7\n",
    "\n",
    "start_date = datetime(2024, 12, 11, 13, 53, 0).replace(tzinfo=timezone.utc)\n",
    "end_date = datetime(2024, 12, 11, 14, 13, 0).replace(tzinfo=timezone.utc)\n",
    "\n",
    "process_calibration_time(df=df_p_dwd, start_date=start_date, end_date=end_date, plot=False)"
   ]
  },
  {
   "cell_type": "code",
   "execution_count": 59,
   "metadata": {},
   "outputs": [
    {
     "data": {
      "text/plain": [
       "522.304663100912"
      ]
     },
     "execution_count": 59,
     "metadata": {},
     "output_type": "execute_result"
    }
   ],
   "source": [
    "# 87 UTC: 14:15 - 14:35\n",
    "# Reading: 518.8\n",
    "\n",
    "start_date = datetime(2024, 12, 11, 14, 15, 0).replace(tzinfo=timezone.utc)\n",
    "end_date = datetime(2024, 12, 11, 14, 35, 0).replace(tzinfo=timezone.utc)\n",
    "\n",
    "process_calibration_time(df=df_p_dwd, start_date=start_date, end_date=end_date, plot=False)"
   ]
  },
  {
   "cell_type": "code",
   "execution_count": 60,
   "metadata": {},
   "outputs": [
    {
     "data": {
      "text/plain": [
       "522.0113303059929"
      ]
     },
     "execution_count": 60,
     "metadata": {},
     "output_type": "execute_result"
    }
   ],
   "source": [
    "# 88 UTC: 14:38 - 14:58\n",
    "# Reading: 518.4\n",
    "\n",
    "start_date = datetime(2024, 12, 11, 14, 38, 0).replace(tzinfo=timezone.utc)\n",
    "end_date = datetime(2024, 12, 11, 14, 58, 0).replace(tzinfo=timezone.utc)\n",
    "\n",
    "process_calibration_time(df=df_p_dwd, start_date=start_date, end_date=end_date, plot=False)"
   ]
  },
  {
   "cell_type": "code",
   "execution_count": 61,
   "metadata": {},
   "outputs": [
    {
     "data": {
      "text/plain": [
       "523.1993757923232"
      ]
     },
     "execution_count": 61,
     "metadata": {},
     "output_type": "execute_result"
    }
   ],
   "source": [
    "# 89 UTC: 15:01 - 15:21\n",
    "# Reading: 519.6\n",
    "\n",
    "start_date = datetime(2024, 12, 11, 15, 1, 0).replace(tzinfo=timezone.utc)\n",
    "end_date = datetime(2024, 12, 11, 15, 21, 0).replace(tzinfo=timezone.utc)\n",
    "\n",
    "process_calibration_time(df=df_p_dwd, start_date=start_date, end_date=end_date, plot=False)"
   ]
  },
  {
   "cell_type": "code",
   "execution_count": 62,
   "metadata": {},
   "outputs": [
    {
     "data": {
      "text/plain": [
       "522.7283480886537"
      ]
     },
     "execution_count": 62,
     "metadata": {},
     "output_type": "execute_result"
    }
   ],
   "source": [
    "# 90 UTC: 13:00 - 13:22\n",
    "# Reading: 519.1\n",
    "\n",
    "start_date = datetime(2024, 12, 18, 13, 0, 0).replace(tzinfo=timezone.utc)\n",
    "end_date = datetime(2024, 12, 18, 13, 22, 0).replace(tzinfo=timezone.utc)\n",
    "\n",
    "process_calibration_time(df=df_p_dwd, start_date=start_date, end_date=end_date, plot=False)"
   ]
  },
  {
   "cell_type": "code",
   "execution_count": 88,
   "metadata": {},
   "outputs": [
    {
     "data": {
      "text/plain": [
       "522.746936745739"
      ]
     },
     "execution_count": 88,
     "metadata": {},
     "output_type": "execute_result"
    }
   ],
   "source": [
    "# 91 UTC: 13:22 - 13:42\n",
    "# Reading: 519.1\n",
    "\n",
    "start_date = datetime(2024, 12, 18, 13, 22, 0).replace(tzinfo=timezone.utc)\n",
    "end_date = datetime(2024, 12, 18, 13, 42, 0).replace(tzinfo=timezone.utc)\n",
    "\n",
    "process_calibration_time(df=df_p_dwd, start_date=start_date, end_date=end_date, plot=False)"
   ]
  },
  {
   "cell_type": "code",
   "execution_count": 64,
   "metadata": {},
   "outputs": [
    {
     "data": {
      "text/plain": [
       "519.975877650536"
      ]
     },
     "execution_count": 64,
     "metadata": {},
     "output_type": "execute_result"
    }
   ],
   "source": [
    "# 92 UTC: 13:42 - 14:02\n",
    "# Reading: 516.4\n",
    "\n",
    "start_date = datetime(2024, 12, 18, 13, 42, 0).replace(tzinfo=timezone.utc)\n",
    "end_date = datetime(2024, 12, 18, 14, 2, 0).replace(tzinfo=timezone.utc)\n",
    "\n",
    "process_calibration_time(df=df_p_dwd, start_date=start_date, end_date=end_date, plot=False)"
   ]
  },
  {
   "cell_type": "code",
   "execution_count": 65,
   "metadata": {},
   "outputs": [
    {
     "data": {
      "text/plain": [
       "522.5326661547895"
      ]
     },
     "execution_count": 65,
     "metadata": {},
     "output_type": "execute_result"
    }
   ],
   "source": [
    "# 93 UTC: 14:02 - 14:22\n",
    "# Reading: 519.0\n",
    "\n",
    "start_date = datetime(2024, 12, 18, 14, 2, 0).replace(tzinfo=timezone.utc)\n",
    "end_date = datetime(2024, 12, 18, 14, 22, 0).replace(tzinfo=timezone.utc)\n",
    "\n",
    "process_calibration_time(df=df_p_dwd, start_date=start_date, end_date=end_date, plot=False)"
   ]
  },
  {
   "cell_type": "code",
   "execution_count": 66,
   "metadata": {},
   "outputs": [
    {
     "data": {
      "text/plain": [
       "521.8820496263461"
      ]
     },
     "execution_count": 66,
     "metadata": {},
     "output_type": "execute_result"
    }
   ],
   "source": [
    "# 94 UTC: 14:22 - 14:42\n",
    "# Reading: 518,3\n",
    "\n",
    "start_date = datetime(2024, 12, 18, 14, 22, 0).replace(tzinfo=timezone.utc)\n",
    "end_date = datetime(2024, 12, 18, 14, 42, 0).replace(tzinfo=timezone.utc)\n",
    "\n",
    "process_calibration_time(df=df_p_dwd, start_date=start_date, end_date=end_date, plot=False)"
   ]
  },
  {
   "cell_type": "code",
   "execution_count": 67,
   "metadata": {},
   "outputs": [
    {
     "data": {
      "text/plain": [
       "522.3409901409125"
      ]
     },
     "execution_count": 67,
     "metadata": {},
     "output_type": "execute_result"
    }
   ],
   "source": [
    "# 95 UTC: 14:42 - 15:02\n",
    "# Reading: 518.7\n",
    "\n",
    "start_date = datetime(2024, 12, 18, 14, 42, 0).replace(tzinfo=timezone.utc)\n",
    "end_date = datetime(2024, 12, 18, 15, 2, 0).replace(tzinfo=timezone.utc)\n",
    "\n",
    "process_calibration_time(df=df_p_dwd, start_date=start_date, end_date=end_date, plot=False)"
   ]
  },
  {
   "cell_type": "code",
   "execution_count": 68,
   "metadata": {},
   "outputs": [
    {
     "data": {
      "text/plain": [
       "521.8647735640922"
      ]
     },
     "execution_count": 68,
     "metadata": {},
     "output_type": "execute_result"
    }
   ],
   "source": [
    "# 96 UTC: 15:02 - 15:22\n",
    "# Reading: 518.1\n",
    "\n",
    "start_date = datetime(2024, 12, 18, 15, 2, 0).replace(tzinfo=timezone.utc)\n",
    "end_date = datetime(2024, 12, 18, 15, 22, 0).replace(tzinfo=timezone.utc)\n",
    "\n",
    "process_calibration_time(df=df_p_dwd, start_date=start_date, end_date=end_date, plot=False)"
   ]
  },
  {
   "cell_type": "code",
   "execution_count": 69,
   "metadata": {},
   "outputs": [
    {
     "data": {
      "text/plain": [
       "522.2270823707474"
      ]
     },
     "execution_count": 69,
     "metadata": {},
     "output_type": "execute_result"
    }
   ],
   "source": [
    "# 97 UTC: 15:22 - 15:42\n",
    "# Reading: 518.8\n",
    "\n",
    "start_date = datetime(2024, 12, 18, 15, 22, 0).replace(tzinfo=timezone.utc)\n",
    "end_date = datetime(2024, 12, 18, 15, 42, 0).replace(tzinfo=timezone.utc)\n",
    "\n",
    "process_calibration_time(df=df_p_dwd, start_date=start_date, end_date=end_date, plot=False)"
   ]
  },
  {
   "cell_type": "code",
   "execution_count": 70,
   "metadata": {},
   "outputs": [
    {
     "data": {
      "text/plain": [
       "522.6356691705491"
      ]
     },
     "execution_count": 70,
     "metadata": {},
     "output_type": "execute_result"
    }
   ],
   "source": [
    "# 98 UTC: 10:21 - 10:41\n",
    "# Reading: 519.0\n",
    "\n",
    "start_date = datetime(2024, 12, 19, 10, 21, 0).replace(tzinfo=timezone.utc)\n",
    "end_date = datetime(2024, 12, 19, 10, 41, 0).replace(tzinfo=timezone.utc)\n",
    "\n",
    "process_calibration_time(df=df_p_dwd, start_date=start_date, end_date=end_date, plot=False)"
   ]
  },
  {
   "cell_type": "code",
   "execution_count": 71,
   "metadata": {},
   "outputs": [
    {
     "data": {
      "text/plain": [
       "522.8816897333278"
      ]
     },
     "execution_count": 71,
     "metadata": {},
     "output_type": "execute_result"
    }
   ],
   "source": [
    "# 99 UTC: 12:32 - 12:53\n",
    "# Reading: 519.3\n",
    "\n",
    "start_date = datetime(2024, 12, 19, 12, 32, 0).replace(tzinfo=timezone.utc)\n",
    "end_date = datetime(2024, 12, 19, 12, 53, 0).replace(tzinfo=timezone.utc)\n",
    "\n",
    "process_calibration_time(df=df_p_dwd, start_date=start_date, end_date=end_date, plot=False)"
   ]
  },
  {
   "cell_type": "code",
   "execution_count": 72,
   "metadata": {},
   "outputs": [
    {
     "data": {
      "text/plain": [
       "522.5014305817696"
      ]
     },
     "execution_count": 72,
     "metadata": {},
     "output_type": "execute_result"
    }
   ],
   "source": [
    "# 100 UTC: 12:52 - 13:14\n",
    "# Reading: 519.0\n",
    "\n",
    "start_date = datetime(2024, 12, 19, 12, 53, 0).replace(tzinfo=timezone.utc)\n",
    "end_date = datetime(2024, 12, 19, 13, 14, 0).replace(tzinfo=timezone.utc)\n",
    "\n",
    "process_calibration_time(df=df_p_dwd, start_date=start_date, end_date=end_date, plot=False)"
   ]
  },
  {
   "cell_type": "code",
   "execution_count": 73,
   "metadata": {},
   "outputs": [
    {
     "data": {
      "text/plain": [
       "401.96637326512564"
      ]
     },
     "execution_count": 73,
     "metadata": {},
     "output_type": "execute_result"
    }
   ],
   "source": [
    "# 101 UTC: 13:14 - 13:35\n",
    "# Reading: 399.4\n",
    "\n",
    "start_date = datetime(2024, 12, 19, 13, 14, 0).replace(tzinfo=timezone.utc)\n",
    "end_date = datetime(2024, 12, 19, 13, 35, 0).replace(tzinfo=timezone.utc)\n",
    "\n",
    "process_calibration_time(df=df_p_dwd, start_date=start_date, end_date=end_date, plot=False)"
   ]
  },
  {
   "cell_type": "code",
   "execution_count": 74,
   "metadata": {},
   "outputs": [
    {
     "data": {
      "text/plain": [
       "402.8743197055105"
      ]
     },
     "execution_count": 74,
     "metadata": {},
     "output_type": "execute_result"
    }
   ],
   "source": [
    "# 102 UTC: 13:35 - 13:55\n",
    "# Reading: 400.1\n",
    "\n",
    "start_date = datetime(2024, 12, 19, 13, 35, 0).replace(tzinfo=timezone.utc)\n",
    "end_date = datetime(2024, 12, 19, 13, 55, 0).replace(tzinfo=timezone.utc)\n",
    "\n",
    "process_calibration_time(df=df_p_dwd, start_date=start_date, end_date=end_date, plot=False)"
   ]
  },
  {
   "cell_type": "code",
   "execution_count": 75,
   "metadata": {},
   "outputs": [
    {
     "data": {
      "text/plain": [
       "402.8918661150639"
      ]
     },
     "execution_count": 75,
     "metadata": {},
     "output_type": "execute_result"
    }
   ],
   "source": [
    "# 103 UTC: 13:55 - 14:15\n",
    "# Reading: 400.1\n",
    "\n",
    "start_date = datetime(2024, 12, 19, 13, 55, 0).replace(tzinfo=timezone.utc)\n",
    "end_date = datetime(2024, 12, 19, 14, 15, 0).replace(tzinfo=timezone.utc)\n",
    "\n",
    "process_calibration_time(df=df_p_dwd, start_date=start_date, end_date=end_date, plot=False)"
   ]
  },
  {
   "cell_type": "code",
   "execution_count": 76,
   "metadata": {},
   "outputs": [
    {
     "data": {
      "text/plain": [
       "401.8280689918266"
      ]
     },
     "execution_count": 76,
     "metadata": {},
     "output_type": "execute_result"
    }
   ],
   "source": [
    "# 104 UTC: 14:15 - 14:35\n",
    "# Reading: 399.1\n",
    "\n",
    "start_date = datetime(2024, 12, 19, 14, 15, 0).replace(tzinfo=timezone.utc)\n",
    "end_date = datetime(2024, 12, 19, 14, 35, 0).replace(tzinfo=timezone.utc)\n",
    "\n",
    "process_calibration_time(df=df_p_dwd, start_date=start_date, end_date=end_date, plot=False)"
   ]
  },
  {
   "cell_type": "code",
   "execution_count": 77,
   "metadata": {},
   "outputs": [
    {
     "data": {
      "text/plain": [
       "400.66377987929997"
      ]
     },
     "execution_count": 77,
     "metadata": {},
     "output_type": "execute_result"
    }
   ],
   "source": [
    "# 105 UTC: 14:55 - 15:15\n",
    "# Reading: 397.9\n",
    "\n",
    "start_date = datetime(2024, 12, 19, 14, 55, 0).replace(tzinfo=timezone.utc)\n",
    "end_date = datetime(2024, 12, 19, 15, 15, 0).replace(tzinfo=timezone.utc)\n",
    "\n",
    "process_calibration_time(df=df_p_dwd, start_date=start_date, end_date=end_date, plot=False)"
   ]
  },
  {
   "cell_type": "code",
   "execution_count": 78,
   "metadata": {},
   "outputs": [
    {
     "data": {
      "text/plain": [
       "401.79959339956207"
      ]
     },
     "execution_count": 78,
     "metadata": {},
     "output_type": "execute_result"
    }
   ],
   "source": [
    "# 106 UTC: 15:15 - 15:35\n",
    "# Reading: 399.0\n",
    "\n",
    "start_date = datetime(2024, 12, 19, 15, 15, 0).replace(tzinfo=timezone.utc)\n",
    "end_date = datetime(2024, 12, 19, 15, 35, 0).replace(tzinfo=timezone.utc)\n",
    "\n",
    "process_calibration_time(df=df_p_dwd, start_date=start_date, end_date=end_date, plot=False)"
   ]
  },
  {
   "cell_type": "code",
   "execution_count": 79,
   "metadata": {},
   "outputs": [
    {
     "data": {
      "text/plain": [
       "402.09509175648594"
      ]
     },
     "execution_count": 79,
     "metadata": {},
     "output_type": "execute_result"
    }
   ],
   "source": [
    "# 107 UTC: 15:35 - 15:55\n",
    "# Reading: 499.3\n",
    "\n",
    "start_date = datetime(2024, 12, 19, 15, 35, 0).replace(tzinfo=timezone.utc)\n",
    "end_date = datetime(2024, 12, 19, 15, 55, 0).replace(tzinfo=timezone.utc)\n",
    "\n",
    "process_calibration_time(df=df_p_dwd, start_date=start_date, end_date=end_date, plot=False)"
   ]
  },
  {
   "cell_type": "code",
   "execution_count": 80,
   "metadata": {},
   "outputs": [
    {
     "data": {
      "text/plain": [
       "nan"
      ]
     },
     "execution_count": 80,
     "metadata": {},
     "output_type": "execute_result"
    }
   ],
   "source": [
    "# 108 UTC: 08:45 - 09:05\n",
    "# Reading: 400.0\n",
    "\n",
    "start_date = datetime(2024, 12, 20, 8, 45, 0).replace(tzinfo=timezone.utc)\n",
    "end_date = datetime(2024, 12, 20, 9, 5, 0).replace(tzinfo=timezone.utc)\n",
    "\n",
    "process_calibration_time(df=df_p_dwd, start_date=start_date, end_date=end_date, plot=False)"
   ]
  },
  {
   "cell_type": "code",
   "execution_count": 81,
   "metadata": {},
   "outputs": [
    {
     "data": {
      "text/plain": [
       "nan"
      ]
     },
     "execution_count": 81,
     "metadata": {},
     "output_type": "execute_result"
    }
   ],
   "source": [
    "# 109 UTC: 09:05 - 09:25\n",
    "# Reading: 396.9\n",
    "\n",
    "start_date = datetime(2024, 12, 20, 9, 5, 0).replace(tzinfo=timezone.utc)\n",
    "end_date = datetime(2024, 12, 20, 9, 25, 0).replace(tzinfo=timezone.utc)\n",
    "\n",
    "process_calibration_time(df=df_p_dwd, start_date=start_date, end_date=end_date, plot=False)"
   ]
  },
  {
   "cell_type": "code",
   "execution_count": 82,
   "metadata": {},
   "outputs": [
    {
     "data": {
      "text/plain": [
       "nan"
      ]
     },
     "execution_count": 82,
     "metadata": {},
     "output_type": "execute_result"
    }
   ],
   "source": [
    "# 110 UTC: 09:25 - 09:45\n",
    "# Reading: 399.0\n",
    "\n",
    "start_date = datetime(2024, 12, 20, 9, 25, 0).replace(tzinfo=timezone.utc)\n",
    "end_date = datetime(2024, 12, 20, 9, 45, 0).replace(tzinfo=timezone.utc)\n",
    "\n",
    "process_calibration_time(df=df_p_dwd, start_date=start_date, end_date=end_date, plot=False)"
   ]
  },
  {
   "cell_type": "code",
   "execution_count": 83,
   "metadata": {},
   "outputs": [
    {
     "data": {
      "text/plain": [
       "nan"
      ]
     },
     "execution_count": 83,
     "metadata": {},
     "output_type": "execute_result"
    }
   ],
   "source": [
    "# 111 UTC: 10:06 - 10:26\n",
    "# Reading: 399.9\n",
    "\n",
    "start_date = datetime(2024, 12, 20, 10, 6, 0).replace(tzinfo=timezone.utc)\n",
    "end_date = datetime(2024, 12, 20, 10, 26, 0).replace(tzinfo=timezone.utc)\n",
    "\n",
    "process_calibration_time(df=df_p_dwd, start_date=start_date, end_date=end_date, plot=False)"
   ]
  },
  {
   "cell_type": "code",
   "execution_count": null,
   "metadata": {},
   "outputs": [],
   "source": [
    "# 112 UTC: 10:26 - 10:46\n",
    "# Reading: 399.9\n",
    "\n",
    "start_date = datetime(2024, 12, 20, 10, 26, 0).replace(tzinfo=timezone.utc)\n",
    "end_date = datetime(2024, 12, 20, 10, 46, 0).replace(tzinfo=timezone.utc)\n",
    "\n",
    "process_calibration_time(df=df_p_dwd, start_date=start_date, end_date=end_date, plot=False)"
   ]
  }
 ],
 "metadata": {
  "kernelspec": {
   "display_name": ".venv",
   "language": "python",
   "name": "python3"
  },
  "language_info": {
   "codemirror_mode": {
    "name": "ipython",
    "version": 3
   },
   "file_extension": ".py",
   "mimetype": "text/x-python",
   "name": "python",
   "nbconvert_exporter": "python",
   "pygments_lexer": "ipython3",
   "version": "3.11.10"
  }
 },
 "nbformat": 4,
 "nbformat_minor": 2
}
