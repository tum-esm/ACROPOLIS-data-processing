{
 "cells": [
  {
   "cell_type": "code",
   "execution_count": null,
   "metadata": {},
   "outputs": [],
   "source": [
    "import os\n",
    "import polars as pl\n",
    "import numpy as np\n",
    "import plotly.express as px\n",
    "\n",
    "from datetime import datetime, timezone\n",
    "\n",
    "DATA_DIRECTORY = os.environ.get(\"DATA_DIRECTORY\")"
   ]
  },
  {
   "cell_type": "code",
   "execution_count": null,
   "metadata": {},
   "outputs": [],
   "source": [
    "df_p_dwd = pl.read_parquet(os.path.join(DATA_DIRECTORY, \"processed\", \"picarro\", \"Calibrated_Raw_DWD_Picarro_G2301_413.parquet\"))"
   ]
  },
  {
   "cell_type": "code",
   "execution_count": null,
   "metadata": {},
   "outputs": [],
   "source": [
    "def process_calibration_time(df, start_date, end_date):\n",
    "    df_filtered = df.filter(pl.col(\"datetime\").is_between(start_date, end_date))\n",
    "    \n",
    "    fig = px.line(df_filtered, x=\"datetime\", y=\"picarro_corrected\")\n",
    "    fig.show()\n",
    "    \n",
    "    fig = px.line(df_filtered, x=\"datetime\", y=\"h2o_reported\")\n",
    "    fig.show()\n",
    "    \n",
    "    data = df_filtered.select(pl.col(\"picarro_corrected\")).to_series().to_list()\n",
    "        \n",
    "    return np.median(data[int(len(data)*0.3):int(len(data)*0.95)])"
   ]
  },
  {
   "cell_type": "code",
   "execution_count": null,
   "metadata": {},
   "outputs": [],
   "source": [
    "# 81 12:44 - 13:04\n",
    "# Reading: 518.9\n",
    "\n",
    "start_date = datetime(2024, 12, 11, 12, 44, 0).replace(tzinfo=timezone.utc)\n",
    "end_date = datetime(2024, 12, 11, 13, 4, 0).replace(tzinfo=timezone.utc)\n",
    "\n",
    "process_calibration_time(df_p_dwd, start_date, end_date)"
   ]
  },
  {
   "cell_type": "code",
   "execution_count": null,
   "metadata": {},
   "outputs": [],
   "source": [
    "# 82 13:08 - 13:29\n",
    "# Reading: 518.3\n",
    "\n",
    "start_date = datetime(2024, 12, 11, 13, 8, 0).replace(tzinfo=timezone.utc)\n",
    "end_date = datetime(2024, 12, 11, 13, 28, 0).replace(tzinfo=timezone.utc)\n",
    "\n",
    "process_calibration_time(df_p_dwd, start_date, end_date)"
   ]
  },
  {
   "cell_type": "code",
   "execution_count": null,
   "metadata": {},
   "outputs": [],
   "source": [
    "# 83 15:25 - 15:45\n",
    "# Reading: 518.9\n",
    "\n",
    "start_date = datetime(2024, 12, 3, 15, 25, 0).replace(tzinfo=timezone.utc)\n",
    "end_date = datetime(2024, 12, 3, 15, 45, 0).replace(tzinfo=timezone.utc)\n",
    "\n",
    "process_calibration_time(df_p_dwd, start_date, end_date)"
   ]
  },
  {
   "cell_type": "code",
   "execution_count": null,
   "metadata": {},
   "outputs": [],
   "source": [
    "# 84  16:05 - 16:25\n",
    "# Reading: 516.0\n",
    "\n",
    "start_date = datetime(2024, 12, 3, 16, 5, 0).replace(tzinfo=timezone.utc)\n",
    "end_date = datetime(2024, 12, 3, 16, 25, 0).replace(tzinfo=timezone.utc)\n",
    "\n",
    "process_calibration_time(df_p_dwd, start_date, end_date)"
   ]
  },
  {
   "cell_type": "code",
   "execution_count": null,
   "metadata": {},
   "outputs": [],
   "source": [
    "# 85 UTC: 13:31 - 13:51\n",
    "# Reading: 519.0\n",
    "\n",
    "start_date = datetime(2024, 12, 11, 13, 31, 0).replace(tzinfo=timezone.utc)\n",
    "end_date = datetime(2024, 12, 11, 13, 51, 0).replace(tzinfo=timezone.utc)\n",
    "\n",
    "process_calibration_time(df_p_dwd, start_date, end_date)"
   ]
  },
  {
   "cell_type": "code",
   "execution_count": null,
   "metadata": {},
   "outputs": [],
   "source": [
    "# 86 UTC: 13:53 - 14:13\n",
    "# Reading: 518.7\n",
    "\n",
    "start_date = datetime(2024, 12, 11, 13, 53, 0).replace(tzinfo=timezone.utc)\n",
    "end_dhate = datetime(2024, 12, 11, 14, 13, 0).replace(tzinfo=timezone.utc)\n",
    "\n",
    "process_calibration_time(df_p_dwd, start_date, end_date)"
   ]
  },
  {
   "cell_type": "code",
   "execution_count": null,
   "metadata": {},
   "outputs": [],
   "source": [
    "# 87 UTC: 14:15 - 14:35\n",
    "# Reading: 518.8\n",
    "\n",
    "start_date = datetime(2024, 12, 11, 14, 15, 0).replace(tzinfo=timezone.utc)\n",
    "end_date = datetime(2024, 12, 11, 14, 0, 0).replace(tzinfo=timezone.utc)\n",
    "\n",
    "process_calibration_time(df_p_dwd, start_date, end_date)"
   ]
  },
  {
   "cell_type": "code",
   "execution_count": null,
   "metadata": {},
   "outputs": [],
   "source": [
    "# 88 UTC: 14:38 - 14:58\n",
    "# Reading: 518.4\n",
    "\n",
    "start_date = datetime(2024, 12, 11, 14, 38, 0).replace(tzinfo=timezone.utc)\n",
    "end_date = datetime(2024, 12, 11, 14, 58, 0).replace(tzinfo=timezone.utc)\n",
    "\n",
    "process_calibration_time(df_p_dwd, start_date, end_date)"
   ]
  },
  {
   "cell_type": "code",
   "execution_count": null,
   "metadata": {},
   "outputs": [],
   "source": [
    "# 89 UTC: 15:01 - 15:21\n",
    "# Reading: 519.6\n",
    "\n",
    "start_date = datetime(2024, 12, 11, 15, 1, 0).replace(tzinfo=timezone.utc)\n",
    "end_date = datetime(2024, 12, 11, 15, 21, 0).replace(tzinfo=timezone.utc)\n",
    "\n",
    "process_calibration_time(df_p_dwd, start_date, end_date)"
   ]
  },
  {
   "cell_type": "code",
   "execution_count": null,
   "metadata": {},
   "outputs": [],
   "source": [
    "# 90 UTC: 15: - 15:\n",
    "# Reading: 518.3\n",
    "\n",
    "start_date = datetime(2024, 12, 11, 15, 1, 0).replace(tzinfo=timezone.utc)\n",
    "end_date = datetime(2024, 12, 11, 15, 0, 0).replace(tzinfo=timezone.utc)\n",
    "\n",
    "process_calibration_time(df_p_dwd, start_date, end_date)"
   ]
  }
 ],
 "metadata": {
  "kernelspec": {
   "display_name": ".venv",
   "language": "python",
   "name": "python3"
  },
  "language_info": {
   "codemirror_mode": {
    "name": "ipython",
    "version": 3
   },
   "file_extension": ".py",
   "mimetype": "text/x-python",
   "name": "python",
   "nbconvert_exporter": "python",
   "pygments_lexer": "ipython3",
   "version": "3.11.10"
  }
 },
 "nbformat": 4,
 "nbformat_minor": 2
}
