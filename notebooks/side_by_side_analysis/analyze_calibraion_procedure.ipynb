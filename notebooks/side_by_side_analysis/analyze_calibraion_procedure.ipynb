{
 "cells": [
  {
   "cell_type": "code",
   "execution_count": null,
   "metadata": {},
   "outputs": [],
   "source": [
    "import os\n",
    "import sys\n",
    "import polars as pl\n",
    "import seaborn as sns\n",
    "import matplotlib.pyplot as plt\n",
    "import plotly.express as px\n",
    "\n",
    "# local imports\n",
    "module_path = os.path.abspath(os.path.join('..'))\n",
    "if module_path not in sys.path:\n",
    "    sys.path.append(module_path)\n",
    "\n",
    "import utils.ambient_parameter_conversion as apc\n",
    "import utils.calibration_processing as cp\n",
    "\n",
    "DATA_DIRECTORY = os.environ.get(\"DATA_DIRECTORY\")\n",
    "PICARRO_DATA_DIRECTORy = os.environ.get(\"PICARRO_DATA_DIRECTORY\")"
   ]
  },
  {
   "cell_type": "code",
   "execution_count": null,
   "metadata": {},
   "outputs": [],
   "source": [
    "# raw data\n",
    "df_filtered = pl.scan_parquet(os.path.join(DATA_DIRECTORY, \"processed\", \"filtered_sbs_acropolis.parquet\"))\n",
    "\n",
    "# load calibration bottle concentrations (preprocessed)\n",
    "df_gas = pl.read_csv(os.path.join(DATA_DIRECTORY,\"input\", \"averaged_gases.csv\"))\n",
    "\n",
    "# 10m preprocessed acropolis data\n",
    "df_acropolis = pl.scan_parquet(os.path.join(DATA_DIRECTORY, \"processed\", \"10m_cal_corr_acropolis.parquet\"))"
   ]
  },
  {
   "cell_type": "markdown",
   "metadata": {},
   "source": [
    "## Wet -> Dry Conversion"
   ]
  },
  {
   "cell_type": "code",
   "execution_count": null,
   "metadata": {},
   "outputs": [],
   "source": [
    "df_filtered = df_filtered.filter(pl.col(\"cal_gmp343_filtered\") > 0) \\\n",
    "    .filter(pl.col(\"cal_gmp343_temperature\") > 0) \\\n",
    "    .filter(pl.col(\"cal_bme280_pressure\") > 0) \\\n",
    "    .with_columns(pl.col(\"cal_sht45_humidity\").fill_null(0.0)) \\\n",
    "    .with_columns(pl.struct(['cal_gmp343_temperature','cal_sht45_humidity','cal_bme280_pressure'])\n",
    "    .map_elements(lambda x: apc.rh_to_molar_mixing(x['cal_sht45_humidity'],apc.absolute_temperature(x['cal_gmp343_temperature']),x['cal_bme280_pressure']*100)) \\\n",
    "    .alias(\"cal_h2o_v%\")) \\\n",
    "    .with_columns(pl.struct(['cal_gmp343_filtered','cal_gmp343_temperature','cal_sht45_humidity','cal_bme280_pressure']) \\\n",
    "    .map_elements(lambda x: apc.calculate_co2dry(x['cal_gmp343_filtered'],x['cal_gmp343_temperature'],x['cal_sht45_humidity'],x['cal_bme280_pressure']*100))\n",
    "    .alias(\"cal_gmp343_dry\")) \\\n",
    "    .collect()"
   ]
  },
  {
   "cell_type": "code",
   "execution_count": null,
   "metadata": {},
   "outputs": [],
   "source": [
    "df_filtered.select(\"cal_gmp343_filtered\", \"cal_gmp343_dry\", \"cal_h2o_v%\").tail(5)"
   ]
  },
  {
   "cell_type": "markdown",
   "metadata": {},
   "source": [
    "## Calculate Slope and Intercept"
   ]
  },
  {
   "cell_type": "code",
   "execution_count": null,
   "metadata": {},
   "outputs": [],
   "source": [
    "df_two_point_cal = df_filtered.filter((pl.col(\"cal_bottle_id\") > 0) & (pl.col(\"cal_bottle_id\") < 81)) \\\n",
    "    .join(df_gas.cast({\"cal_bottle_id\": pl.Float64}), on = [\"cal_bottle_id\"], how= \"left\") \\\n",
    "    .with_columns(diff = pl.col(\"cal_gmp343_dry\") - pl.col(\"cal_bottle_CO2\")) \\\n",
    "    .with_columns((pl.col(\"creation_timestamp\").dt.date()).alias(\"date\")) \\\n",
    "    .sort(\"date\") \\\n",
    "    .group_by([pl.col(\"date\"), pl.col(\"system_name\"), pl.col(\"cal_bottle_id\")]) \\\n",
    "    .agg([\n",
    "        pl.col(\"cal_sht45_humidity\"),\n",
    "        pl.col(\"cal_gmp343_temperature\"),\n",
    "        pl.col(\"cal_bme280_pressure\"),\n",
    "        pl.col(\"cal_gmp343_filtered\"),\n",
    "        pl.col(\"cal_gmp343_dry\"),\n",
    "        pl.col(\"cal_bottle_CO2\").last()\n",
    "        ]) \\\n",
    "    .with_columns([\n",
    "        (pl.col(\"cal_sht45_humidity\").list.len()).alias(\"len\"),\n",
    "        pl.when(pl.col(\"cal_bottle_CO2\") > 460).then(pl.lit(\"high\")).otherwise(pl.lit(\"low\")).alias(\"cal_bottle_span\"),\n",
    "        pl.col(\"cal_gmp343_dry\").map_elements(lambda x: cp.process_bottle(x)).alias(\"median_cal_gmp343_dry\"),\n",
    "        pl.col(\"cal_gmp343_temperature\").map_elements(lambda x: cp.process_bottle(x)).alias(\"median_cal_gmp343_temperature\"),\n",
    "        pl.col(\"cal_bme280_pressure\").map_elements(lambda x: cp.process_bottle(x)).alias(\"median_cal_bme280_pressure\"),\n",
    "        pl.col(\"cal_sht45_humidity\").map_elements(lambda x: cp.process_bottle(x)).alias(\"median_cal_sht45_humidity\")\n",
    "        ]) \\\n",
    "    .with_columns([\n",
    "        (pl.col(\"median_cal_gmp343_dry\") - pl.col(\"cal_bottle_CO2\")).alias(\"diff_cut_avg_gmp343_dry\")\n",
    "                  ]) \\\n",
    "    .filter(pl.col(\"median_cal_gmp343_dry\") > 0) \\\n",
    "    .sort(\"cal_bottle_span\") \\\n",
    "    .group_by([\"date\", \"system_name\"]) \\\n",
    "    .agg([\n",
    "        pl.col(\"cal_bottle_span\"),\n",
    "        pl.col(\"median_cal_gmp343_dry\"),\n",
    "        pl.col(\"cal_bottle_CO2\")\n",
    "        ]) \\\n",
    "    .with_columns(pl.struct(['median_cal_gmp343_dry','cal_bottle_CO2']) \\\n",
    "    .map_elements(lambda x: cp.two_point_calibration(x['median_cal_gmp343_dry'],x['cal_bottle_CO2'])) \\\n",
    "    .alias('slope, intercept')) \\\n",
    "    .with_columns([(pl.col(\"slope, intercept\").list.first()).alias(\"slope\"),\n",
    "                   (pl.col(\"slope, intercept\").list.last()).alias(\"intercept\")]) \\\n",
    "    .select(\"date\", \"system_name\", \"slope\", \"intercept\") \\\n",
    "    .filter(pl.col(\"slope\") > 0)"
   ]
  },
  {
   "cell_type": "code",
   "execution_count": null,
   "metadata": {},
   "outputs": [],
   "source": [
    "fig = px.scatter(df_temp, x=\"date\", y=\"len\", color = \"system_name\")\n",
    "fig.show()"
   ]
  },
  {
   "cell_type": "markdown",
   "metadata": {},
   "source": [
    "## Plot Slope and Intercept"
   ]
  },
  {
   "cell_type": "code",
   "execution_count": null,
   "metadata": {},
   "outputs": [],
   "source": [
    "fig = px.histogram(df_two_point_cal, x=\"slope\", color = \"system_name\")\n",
    "fig.show()\n",
    "fig = px.histogram(df_two_point_cal, x=\"intercept\", color = \"system_name\")\n",
    "fig.show()"
   ]
  },
  {
   "cell_type": "markdown",
   "metadata": {},
   "source": [
    "## Calculate SBS Performance"
   ]
  },
  {
   "cell_type": "code",
   "execution_count": null,
   "metadata": {},
   "outputs": [],
   "source": [
    "# join on dataset\n",
    "\n",
    "df_acropolis.drop(\"slope\", \"intercept\", \"gmp343_corrected\").collect() \\\n",
    "    .join(df_two_point_cal, on=[\"date\", \"system_name\"], how=\"left\") \\\n",
    "    .with_columns([\n",
    "        ((pl.col(\"gmp343_dry\")) * pl.col(\"slope\") + pl.col(\"intercept\")).alias(\"gmp343_corrected\"),\n",
    "        ]) \\\n",
    "    .write_parquet(os.path.join(DATA_DIRECTORY, \"processed\", \"test_10m_cal_corr_acropolis.parquet\"))"
   ]
  },
  {
   "cell_type": "code",
   "execution_count": null,
   "metadata": {},
   "outputs": [],
   "source": [
    "df_acropolis.head().collect()"
   ]
  },
  {
   "cell_type": "markdown",
   "metadata": {},
   "source": [
    "## Correlation Plot"
   ]
  },
  {
   "cell_type": "code",
   "execution_count": null,
   "metadata": {},
   "outputs": [],
   "source": [
    "corr = df_temp.join(df_two_point_cal, on=[\"date\", \"system_name\"], how=\"left\") \\\n",
    "    .select(\"median_cal_sht45_humidity\", \"median_cal_gmp343_temperature\", \"median_cal_bme280_pressure\" ,\"median_cal_gmp343_dry\", \"diff_cut_avg_gmp343_dry\", \"slope\", \"intercept\") \\\n",
    "    .to_pandas() \\\n",
    "    .corr()"
   ]
  },
  {
   "cell_type": "code",
   "execution_count": null,
   "metadata": {},
   "outputs": [],
   "source": [
    "plt.figure(figsize=(15,8))\n",
    "\n",
    "sns.heatmap(corr,\n",
    "    cmap=sns.diverging_palette(220, 10, as_cmap=True),\n",
    "    vmin=-1.0, vmax=1.0,\n",
    "    square=True,\n",
    "    xticklabels=1, yticklabels=1,\n",
    "    )\n",
    "\n",
    "plt.show()"
   ]
  }
 ],
 "metadata": {
  "kernelspec": {
   "display_name": ".venv",
   "language": "python",
   "name": "python3"
  },
  "language_info": {
   "codemirror_mode": {
    "name": "ipython",
    "version": 3
   },
   "file_extension": ".py",
   "mimetype": "text/x-python",
   "name": "python",
   "nbconvert_exporter": "python",
   "pygments_lexer": "ipython3",
   "version": "3.11.6"
  }
 },
 "nbformat": 4,
 "nbformat_minor": 2
}
