{
 "cells": [
  {
   "cell_type": "code",
   "execution_count": null,
   "metadata": {},
   "outputs": [],
   "source": [
    "import polars as pl\n",
    "import os\n",
    "from datetime import datetime\n",
    "from datetime import timezone\n",
    "\n",
    "DATA_DIRECTORY = os.environ.get(\"DATA_DIRECTORY\")\n",
    "PICARRO_DATA_DIRECTORy = os.environ.get(\"PICARRO_DATA_DIRECTORY\")"
   ]
  },
  {
   "cell_type": "code",
   "execution_count": null,
   "metadata": {},
   "outputs": [],
   "source": [
    "# raw data\n",
    "df_raw = pl.scan_parquet(os.path.join(DATA_DIRECTORY, \"download\", \"acropolis.parquet\"))"
   ]
  },
  {
   "cell_type": "code",
   "execution_count": null,
   "metadata": {},
   "outputs": [],
   "source": [
    "ongoing_sbs = datetime(2024, 3, 11, 23, 59, 59).replace(tzinfo=timezone.utc)\n",
    "\n",
    "sbs_times = [\n",
    "    (1,datetime(2024, 2, 7, 0, 0, 0).replace(tzinfo=timezone.utc),ongoing_sbs),\n",
    "    #2 is still deployed\n",
    "    (3,datetime(2024, 1, 13, 0, 0, 0).replace(tzinfo=timezone.utc),datetime(2024, 2, 18, 23, 59, 59).replace(tzinfo=timezone.utc)),\n",
    "    (4,datetime(2024, 2, 14, 0, 0, 0).replace(tzinfo=timezone.utc),ongoing_sbs),\n",
    "    (5,datetime(2024, 2, 7, 0, 0, 0).replace(tzinfo=timezone.utc),datetime(2024, 2, 25, 23, 59, 59).replace(tzinfo=timezone.utc)),\n",
    "    (6,datetime(2024, 2, 20, 0, 0, 0).replace(tzinfo=timezone.utc),ongoing_sbs),\n",
    "    (7,datetime(2024, 2, 21, 0, 0, 0).replace(tzinfo=timezone.utc),ongoing_sbs),\n",
    "    (8,datetime(2024, 2, 13, 0, 0, 0).replace(tzinfo=timezone.utc),ongoing_sbs),\n",
    "    (9,datetime(2024, 2, 12, 0, 0, 0).replace(tzinfo=timezone.utc),ongoing_sbs),\n",
    "    (10,datetime(2024, 1, 13, 0, 0, 0).replace(tzinfo=timezone.utc),ongoing_sbs),\n",
    "    (11,datetime(2024, 1, 12, 0, 0, 0).replace(tzinfo=timezone.utc),ongoing_sbs),\n",
    "    (12,datetime(2023, 12, 23, 0, 0, 0).replace(tzinfo=timezone.utc),datetime(2024, 2, 11, 23, 59, 59).replace(tzinfo=timezone.utc)),\n",
    "    (13,datetime(2024, 1, 13, 0, 0, 0).replace(tzinfo=timezone.utc),datetime(2024, 1, 30, 23, 59, 59).replace(tzinfo=timezone.utc)),\n",
    "    (14,datetime(2024, 3, 1, 0, 0, 0).replace(tzinfo=timezone.utc),ongoing_sbs),\n",
    "    (15,datetime(2024, 2, 21, 0, 0, 0).replace(tzinfo=timezone.utc),ongoing_sbs),\n",
    "    (16,datetime(2023, 12, 23, 0, 0, 0).replace(tzinfo=timezone.utc),datetime(2024, 2, 5, 23, 59, 59).replace(tzinfo=timezone.utc)),\n",
    "    # 17 needs assembly\n",
    "    (18,datetime(2023, 12, 23, 0, 0, 0).replace(tzinfo=timezone.utc),datetime(2024, 2, 5, 23, 59, 59).replace(tzinfo=timezone.utc)),\n",
    "    # 19 needs assembly\n",
    "    (20,datetime(2023, 12, 23, 0, 0, 0).replace(tzinfo=timezone.utc),datetime(2024, 2, 11, 23, 59, 59).replace(tzinfo=timezone.utc))    \n",
    "]"
   ]
  },
  {
   "cell_type": "code",
   "execution_count": null,
   "metadata": {},
   "outputs": [],
   "source": [
    "all_systems = []\n",
    "\n",
    "# extract system id\n",
    "df_raw = df_raw.filter(pl.col(\"cal_bottle_id\") > 0) \\\n",
    "    .with_columns(pl.col(\"system_name\").str.extract(r'(\\d+)',1).str.to_integer().alias(\"system_id\"))\n",
    "\n",
    "#--- events during sbs\n",
    "\n",
    "# cut roof-top power out\n",
    "before = df_raw.filter(pl.col(\"creation_timestamp\") < datetime(2024, 1, 15, 18, 0, 0).replace(tzinfo=timezone.utc))\n",
    "after = df_raw.filter(pl.col(\"creation_timestamp\") > datetime(2024, 1, 17, 0, 0, 0).replace(tzinfo=timezone.utc))\n",
    "    \n",
    "df_raw = pl.concat([before, after], how=\"diagonal\")\n",
    "\n",
    "# cut inlet change\n",
    "before = df_raw.filter(pl.col(\"creation_timestamp\") < datetime(2024, 2, 5, 13, 0, 0).replace(tzinfo=timezone.utc))\n",
    "after = df_raw.filter(pl.col(\"creation_timestamp\") > datetime(2024, 2, 5, 15, 30, 0).replace(tzinfo=timezone.utc))\n",
    "    \n",
    "df_raw = pl.concat([before, after], how=\"diagonal\")\n",
    "\n",
    "# cut inlet maintainence\n",
    "before = df_raw.filter(pl.col(\"creation_timestamp\") < datetime(2024, 2, 13, 10, 30, 0).replace(tzinfo=timezone.utc))\n",
    "after = df_raw.filter(pl.col(\"creation_timestamp\") > datetime(2024, 2, 13, 12, 0, 0).replace(tzinfo=timezone.utc))\n",
    "    \n",
    "df_raw = pl.concat([before, after], how=\"diagonal\")\n",
    "\n",
    "#---\n",
    "\n",
    "for id, start_date, end_date in sbs_times:\n",
    "    print(f\"processing {id}\")\n",
    "    \n",
    "    #cut maintainence / power outtage from 23.01.2024\n",
    "    if id in [10,11,13]:\n",
    "        before = df_raw.filter(pl.col(\"creation_timestamp\") < datetime(2024, 1, 23, 14, 0, 0).replace(tzinfo=timezone.utc)) \\\n",
    "            .filter(pl.col(\"system_id\") == id)\n",
    "        after = df_raw.filter(pl.col(\"creation_timestamp\") > datetime(2024, 1, 24, 3, 30, 0).replace(tzinfo=timezone.utc)) \\\n",
    "            .filter(pl.col(\"system_id\") == id)\n",
    "        \n",
    "        df_raw = pl.concat([before, after], how=\"diagonal\")\n",
    "    \n",
    "    #-------\n",
    "\n",
    "    df_filtered = df_raw.filter(pl.col(\"creation_timestamp\").is_between(start_date, end_date))  \\\n",
    "        .filter(pl.col(\"system_id\") == id)  \\\n",
    "        .collect()\n",
    "        \n",
    "    all_systems.append(df_filtered)\n",
    "    "
   ]
  },
  {
   "cell_type": "code",
   "execution_count": null,
   "metadata": {},
   "outputs": [],
   "source": [
    "df_sbs.head(3)"
   ]
  },
  {
   "cell_type": "code",
   "execution_count": null,
   "metadata": {},
   "outputs": [],
   "source": [
    "df_sbs = pl.concat(all_systems, how=\"diagonal\")\n",
    "df_sbs.write_parquet(os.path.join(DATA_DIRECTORY, \"processed\", \"filtered_sbs_acropolis.parquet\"))"
   ]
  },
  {
   "cell_type": "code",
   "execution_count": null,
   "metadata": {},
   "outputs": [],
   "source": [
    "# 10m preprocessed acropolis data\n",
    "df_raw = pl.scan_parquet(os.path.join(DATA_DIRECTORY, \"processed\", \"10m_cal_corr_acropolis.parquet\"))"
   ]
  },
  {
   "cell_type": "code",
   "execution_count": null,
   "metadata": {},
   "outputs": [],
   "source": [
    "all_systems = []\n",
    "\n",
    "#--- events during sbs\n",
    "\n",
    "# cut roof-top power out\n",
    "before = df_raw.filter(pl.col(\"creation_timestamp\") < datetime(2024, 1, 15, 18, 0, 0).replace(tzinfo=timezone.utc))\n",
    "after = df_raw.filter(pl.col(\"creation_timestamp\") > datetime(2024, 1, 17, 0, 0, 0).replace(tzinfo=timezone.utc))\n",
    "    \n",
    "df_raw = pl.concat([before, after], how=\"diagonal\")\n",
    "\n",
    "# cut inlet change\n",
    "before = df_raw.filter(pl.col(\"creation_timestamp\") < datetime(2024, 2, 5, 13, 0, 0).replace(tzinfo=timezone.utc))\n",
    "after = df_raw.filter(pl.col(\"creation_timestamp\") > datetime(2024, 2, 5, 15, 30, 0).replace(tzinfo=timezone.utc))\n",
    "    \n",
    "df_raw = pl.concat([before, after], how=\"diagonal\")\n",
    "\n",
    "# cut inlet maintainence\n",
    "before = df_raw.filter(pl.col(\"creation_timestamp\") < datetime(2024, 2, 13, 10, 30, 0).replace(tzinfo=timezone.utc))\n",
    "after = df_raw.filter(pl.col(\"creation_timestamp\") > datetime(2024, 2, 13, 12, 0, 0).replace(tzinfo=timezone.utc))\n",
    "    \n",
    "df_raw = pl.concat([before, after], how=\"diagonal\")\n",
    "\n",
    "#---\n",
    "\n",
    "for id, start_date, end_date in sbs_times:\n",
    "    print(f\"processing {id}\")\n",
    "    \n",
    "    #cut maintainence / power outtage from 23.01.2024\n",
    "    if id in [10,11,13]:\n",
    "        before = df_raw.filter(pl.col(\"creation_timestamp\") < datetime(2024, 1, 23, 14, 0, 0).replace(tzinfo=timezone.utc))\n",
    "        after = df_raw.filter(pl.col(\"creation_timestamp\") > datetime(2024, 1, 24, 3, 30, 0).replace(tzinfo=timezone.utc))\n",
    "        \n",
    "        df_raw = pl.concat([before, after], how=\"diagonal\")\n",
    "    \n",
    "    #-------\n",
    "\n",
    "    df_filtered = df_raw.filter(pl.col(\"creation_timestamp\").is_between(start_date, end_date))  \\\n",
    "        .filter(pl.col(\"system_id\") == id)  \\\n",
    "        .filter(pl.col(\"gmp343_filtered\") > 0) \\\n",
    "        .collect()\n",
    "        \n",
    "    all_systems.append(df_filtered)\n",
    "    "
   ]
  },
  {
   "cell_type": "code",
   "execution_count": null,
   "metadata": {},
   "outputs": [],
   "source": [
    "df_sbs = pl.concat(all_systems, how=\"diagonal\")\n",
    "df_sbs.write_parquet(os.path.join(DATA_DIRECTORY, \"processed\", \"filtered_10m_sbs_acropolis.parquet\"))"
   ]
  }
 ],
 "metadata": {
  "kernelspec": {
   "display_name": ".venv",
   "language": "python",
   "name": "python3"
  },
  "language_info": {
   "codemirror_mode": {
    "name": "ipython",
    "version": 3
   },
   "file_extension": ".py",
   "mimetype": "text/x-python",
   "name": "python",
   "nbconvert_exporter": "python",
   "pygments_lexer": "ipython3",
   "version": "3.11.6"
  }
 },
 "nbformat": 4,
 "nbformat_minor": 2
}
