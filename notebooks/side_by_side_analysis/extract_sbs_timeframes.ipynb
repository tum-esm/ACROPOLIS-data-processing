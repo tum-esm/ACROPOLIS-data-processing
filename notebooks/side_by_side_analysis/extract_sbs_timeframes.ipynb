{
 "cells": [
  {
   "cell_type": "code",
   "execution_count": 30,
   "metadata": {},
   "outputs": [],
   "source": [
    "import polars as pl\n",
    "import os\n",
    "from datetime import datetime, timezone\n",
    "\n",
    "DATA_DIRECTORY = os.environ.get(\"DATA_DIRECTORY\")\n",
    "PICARRO_DATA_DIRECTORy = os.environ.get(\"PICARRO_DATA_DIRECTORY\")\n",
    "\n",
    "# local imports\n",
    "import os\n",
    "import sys\n",
    "module_path = os.path.abspath(os.path.join('..'))\n",
    "if module_path not in sys.path:\n",
    "    sys.path.append(module_path)\n",
    "\n",
    "from utils.sbs_times import sbs_times"
   ]
  },
  {
   "cell_type": "code",
   "execution_count": 31,
   "metadata": {},
   "outputs": [],
   "source": [
    "# raw data\n",
    "df_raw = pl.scan_parquet(os.path.join(DATA_DIRECTORY, \"download\", \"acropolis.parquet\"))"
   ]
  },
  {
   "cell_type": "code",
   "execution_count": 32,
   "metadata": {},
   "outputs": [],
   "source": [
    "# 10m preprocessed acropolis data\n",
    "df_raw = pl.scan_parquet(os.path.join(DATA_DIRECTORY, \"processed\", \"10m_cal_corr_acropolis.parquet\"))"
   ]
  },
  {
   "cell_type": "code",
   "execution_count": 33,
   "metadata": {},
   "outputs": [
    {
     "name": "stdout",
     "output_type": "stream",
     "text": [
      "processing 1\n",
      "processing 3\n",
      "processing 4\n",
      "processing 5\n",
      "processing 6\n",
      "processing 7\n",
      "processing 8\n",
      "processing 9\n",
      "processing 10\n",
      "processing 11\n",
      "processing 12\n",
      "processing 13\n",
      "processing 14\n",
      "processing 15\n",
      "processing 16\n",
      "processing 18\n",
      "processing 20\n"
     ]
    }
   ],
   "source": [
    "all_systems = []\n",
    "\n",
    "#--- events during sbs\n",
    "\n",
    "# cut roof-top power out\n",
    "before = df_raw.filter(pl.col(\"creation_timestamp\") < datetime(2024, 1, 15, 18, 0, 0).replace(tzinfo=timezone.utc))\n",
    "after = df_raw.filter(pl.col(\"creation_timestamp\") > datetime(2024, 1, 17, 0, 0, 0).replace(tzinfo=timezone.utc))\n",
    "    \n",
    "df_raw = pl.concat([before, after], how=\"diagonal\")\n",
    "\n",
    "# cut inlet change\n",
    "before = df_raw.filter(pl.col(\"creation_timestamp\") < datetime(2024, 2, 5, 13, 0, 0).replace(tzinfo=timezone.utc))\n",
    "after = df_raw.filter(pl.col(\"creation_timestamp\") > datetime(2024, 2, 5, 15, 30, 0).replace(tzinfo=timezone.utc))\n",
    "    \n",
    "df_raw = pl.concat([before, after], how=\"diagonal\")\n",
    "\n",
    "# cut inlet maintainence\n",
    "before = df_raw.filter(pl.col(\"creation_timestamp\") < datetime(2024, 2, 13, 10, 30, 0).replace(tzinfo=timezone.utc))\n",
    "after = df_raw.filter(pl.col(\"creation_timestamp\") > datetime(2024, 2, 13, 12, 0, 0).replace(tzinfo=timezone.utc))\n",
    "    \n",
    "df_raw = pl.concat([before, after], how=\"diagonal\")\n",
    "\n",
    "#---\n",
    "\n",
    "for id, start_date, end_date in sbs_times:\n",
    "    print(f\"processing {id}\")\n",
    "    \n",
    "    #cut maintainence / power outtage from 23.01.2024\n",
    "    if id in [10,11,13]:\n",
    "        before = df_raw.filter(pl.col(\"creation_timestamp\") < datetime(2024, 1, 23, 14, 0, 0).replace(tzinfo=timezone.utc))\n",
    "        after = df_raw.filter(pl.col(\"creation_timestamp\") > datetime(2024, 1, 24, 3, 30, 0).replace(tzinfo=timezone.utc))\n",
    "        \n",
    "        df_raw = pl.concat([before, after], how=\"diagonal\")\n",
    "    \n",
    "    #-------\n",
    "\n",
    "    df_filtered = df_raw.filter(pl.col(\"creation_timestamp\").is_between(start_date, end_date))  \\\n",
    "        .filter(pl.col(\"system_id\") == id)  \\\n",
    "        .filter(pl.col(\"gmp343_filtered\") > 0) \\\n",
    "        .collect()\n",
    "        \n",
    "    all_systems.append(df_filtered)\n",
    "    "
   ]
  },
  {
   "cell_type": "code",
   "execution_count": null,
   "metadata": {},
   "outputs": [],
   "source": [
    "df_sbs = pl.concat(all_systems, how=\"diagonal\")\n",
    "df_sbs.write_parquet(os.path.join(DATA_DIRECTORY, \"processed\", \"10m_sbs_acropolis.parquet\"))"
   ]
  }
 ],
 "metadata": {
  "kernelspec": {
   "display_name": ".venv",
   "language": "python",
   "name": "python3"
  },
  "language_info": {
   "codemirror_mode": {
    "name": "ipython",
    "version": 3
   },
   "file_extension": ".py",
   "mimetype": "text/x-python",
   "name": "python",
   "nbconvert_exporter": "python",
   "pygments_lexer": "ipython3",
   "version": "3.11.6"
  }
 },
 "nbformat": 4,
 "nbformat_minor": 2
}
