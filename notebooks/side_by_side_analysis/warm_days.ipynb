{
 "cells": [
  {
   "cell_type": "code",
   "execution_count": null,
   "metadata": {},
   "outputs": [],
   "source": [
    "from datetime import datetime\n",
    "from datetime import timezone\n",
    "import polars as pl\n",
    "import os\n",
    "import plotly.express as px\n",
    "\n",
    "DATA_DIRECTORY = os.environ.get(\"DATA_DIRECTORY\")\n",
    "df = pl.scan_parquet(os.path.join(DATA_DIRECTORY, \"processed\",  \"1h_cal_corr_acropolis.parquet\"))\n",
    "df_p = pl.read_parquet(os.path.join(DATA_DIRECTORY,\"processed\", \"1h_cal_corr_picarro.parquet\"))"
   ]
  },
  {
   "cell_type": "code",
   "execution_count": null,
   "metadata": {},
   "outputs": [],
   "source": [
    "start_time = datetime(2024, 4, 1, 0, 0, 0).replace(tzinfo=timezone.utc)\n",
    "\n",
    "# until when where the systems on the roof-top\n",
    "\n",
    "dates = [\n",
    "        (1, datetime(2024, 2, 29, 0, 0, 0).replace(tzinfo=timezone.utc)),\n",
    "        (2, datetime(2024, 7, 30, 0, 0, 0).replace(tzinfo=timezone.utc)),\n",
    "        (3, datetime(2024, 6, 27, 0, 0, 0).replace(tzinfo=timezone.utc)),\n",
    "        (4, datetime(2024, 7, 30, 0, 0, 0).replace(tzinfo=timezone.utc)),\n",
    "        (5, datetime(2024, 2, 28, 0, 0, 0).replace(tzinfo=timezone.utc)),\n",
    "        (6, datetime(2024, 8, 30, 0, 0, 0).replace(tzinfo=timezone.utc)),\n",
    "        (7, datetime(2024, 6, 23, 0, 0, 0).replace(tzinfo=timezone.utc)),\n",
    "        (8, datetime(2024, 3, 15, 0, 0, 0).replace(tzinfo=timezone.utc)),\n",
    "        (9, datetime(2024, 6, 26, 0, 0, 0).replace(tzinfo=timezone.utc)),\n",
    "        (10, datetime(2024, 4, 11, 0, 0, 0).replace(tzinfo=timezone.utc)),\n",
    "        (11, datetime(2024, 4, 11, 0, 0, 0).replace(tzinfo=timezone.utc)),\n",
    "        (12, datetime(2024, 2, 14, 0, 0, 0).replace(tzinfo=timezone.utc)),\n",
    "        (13, datetime(2024, 2, 22, 0, 0, 0).replace(tzinfo=timezone.utc)),\n",
    "        (14, datetime(2024, 6, 23, 0, 0, 0).replace(tzinfo=timezone.utc)),\n",
    "        (15, datetime(2024, 5, 20, 0, 0, 0).replace(tzinfo=timezone.utc)),\n",
    "        (16, datetime(2024, 2, 8, 0, 0, 0).replace(tzinfo=timezone.utc)),\n",
    "        #(17, datetime(2024, 7, 9, 0, 0, 0).replace(tzinfo=timezone.utc)),\n",
    "        (18, datetime(2024, 2, 8, 0, 0, 0).replace(tzinfo=timezone.utc)),\n",
    "        (20, datetime(2024, 2, 14, 0, 0, 0).replace(tzinfo=timezone.utc)),    \n",
    "    ]"
   ]
  },
  {
   "cell_type": "code",
   "execution_count": null,
   "metadata": {},
   "outputs": [],
   "source": [
    "end_time = datetime(2024, 8, 1, 0, 0, 0).replace(tzinfo=timezone.utc)\n",
    "df_p_filtered = df_p.filter(pl.col(\"creation_timestamp\").is_between(start_time, end_time)) \\\n",
    "    .rename({\"picarro_corrected\": \"co2_corrected\"}) \\\n",
    "    .select(\"creation_timestamp\",\"sys_name_short\", \"co2_corrected\")\n"
   ]
  },
  {
   "cell_type": "code",
   "execution_count": null,
   "metadata": {},
   "outputs": [],
   "source": [
    "df.head(1).collect()"
   ]
  },
  {
   "cell_type": "code",
   "execution_count": null,
   "metadata": {},
   "outputs": [],
   "source": [
    "df_p.tail(1)"
   ]
  },
  {
   "cell_type": "code",
   "execution_count": null,
   "metadata": {},
   "outputs": [],
   "source": [
    "# Utility\n",
    "extracted_dates = [df_p_filtered]\n",
    "\n",
    "for date in dates:\n",
    "\n",
    "    df_temp = df.filter(pl.col(\"system_id\") == date[0]) \\\n",
    "        .filter(pl.col(\"creation_timestamp\").is_between(start_time, date[1])) \\\n",
    "        .rename({\"gmp343_corrected\": \"co2_corrected\"}) \\\n",
    "        .collect() \\\n",
    "    \n",
    "    extracted_dates.append(df_temp)\n",
    "\n",
    "df_extracted = pl.concat(extracted_dates, how=\"diagonal\")\n",
    "\n",
    "start_date = datetime(2024, 5, 16, 0, 0, 0).replace(tzinfo=timezone.utc)\n",
    "end_date = datetime(2024, 5, 21, 0, 0, 0).replace(tzinfo=timezone.utc)\n",
    "df_extracted = df_extracted.filter(pl.col(\"creation_timestamp\").is_between(start_date, end_date)) \\\n",
    "\n",
    "fig = px.line(df_extracted, x=\"creation_timestamp\", y=\"gmp343_temperature\", color=\"sys_name_short\")\n",
    "fig.update_layout(\n",
    "    yaxis_title='Sensor Temperature (°C)',\n",
    "    xaxis_title='',\n",
    "    title='',\n",
    ")\n",
    "fig.show()\n",
    "fig = px.line(df_extracted, x=\"creation_timestamp\", y=\"enclosure_bme280_temperature\", color=\"sys_name_short\")\n",
    "fig.update_layout(\n",
    "    yaxis_title='Enclosure Temperature',\n",
    "    xaxis_title='',\n",
    "    title='',\n",
    ")\n",
    "fig.show()\n",
    "fig = px.line(df_extracted, x=\"creation_timestamp\", y=\"co2_corrected\", color=\"sys_name_short\")\n",
    "fig.update_layout(\n",
    "    yaxis_title='CO2 (ppm)',\n",
    "    xaxis_title='',\n",
    "    title='',\n",
    ")\n",
    "fig.show()"
   ]
  },
  {
   "cell_type": "code",
   "execution_count": null,
   "metadata": {},
   "outputs": [],
   "source": [
    "# Utility\n",
    "extracted_dates = [df_p_filtered]\n",
    "\n",
    "for date in dates:\n",
    "\n",
    "    df_temp = df.filter(pl.col(\"system_id\") == date[0]) \\\n",
    "        .filter(pl.col(\"creation_timestamp\").is_between(start_time, date[1])) \\\n",
    "        .rename({\"gmp343_corrected\": \"co2_corrected\"}) \\\n",
    "        .collect() \\\n",
    "        .join(df_p.select(\"creation_timestamp\", \"picarro_corrected\"), on=\"creation_timestamp\") \\\n",
    "        .with_columns((pl.col(\"co2_corrected\") - pl.col(\"picarro_corrected\")).alias(\"diff\"))\n",
    "    \n",
    "    extracted_dates.append(df_temp)\n",
    "\n",
    "df_extracted = pl.concat(extracted_dates, how=\"diagonal\")\n",
    "\n",
    "start_date = datetime(2024, 5, 30, 0, 0, 0).replace(tzinfo=timezone.utc)\n",
    "end_date = datetime(2024, 6, 13, 0, 0, 0).replace(tzinfo=timezone.utc)\n",
    "df_extracted = df_extracted.filter(pl.col(\"creation_timestamp\").is_between(start_date, end_date)) \\\n",
    "\n",
    "fig = px.line(df_extracted, x=\"creation_timestamp\", y=\"gmp343_temperature\", color=\"sys_name_short\")\n",
    "fig.show()\n",
    "fig = px.line(df_extracted, x=\"creation_timestamp\", y=\"enclosure_bme280_temperature\", color=\"sys_name_short\")\n",
    "fig.show()\n",
    "fig = px.line(df_extracted, x=\"creation_timestamp\", y=\"co2_corrected\", color=\"sys_name_short\")\n",
    "fig.show()\n",
    "fig = px.line(df_extracted, x=\"creation_timestamp\", y=\"diff\", color=\"sys_name_short\")\n",
    "fig.show()\n",
    "\n"
   ]
  },
  {
   "cell_type": "code",
   "execution_count": null,
   "metadata": {},
   "outputs": [],
   "source": [
    "df_extracted"
   ]
  }
 ],
 "metadata": {
  "kernelspec": {
   "display_name": ".venv",
   "language": "python",
   "name": "python3"
  },
  "language_info": {
   "codemirror_mode": {
    "name": "ipython",
    "version": 3
   },
   "file_extension": ".py",
   "mimetype": "text/x-python",
   "name": "python",
   "nbconvert_exporter": "python",
   "pygments_lexer": "ipython3",
   "version": "3.11.9"
  }
 },
 "nbformat": 4,
 "nbformat_minor": 2
}
