{
 "cells": [
  {
   "cell_type": "code",
   "execution_count": 1,
   "metadata": {},
   "outputs": [],
   "source": [
    "import os\n",
    "import glob\n",
    "from datetime import datetime\n",
    "from datetime import timezone\n",
    "import polars as pl\n",
    "import pandas as pd\n",
    "import seaborn as sns\n",
    "import matplotlib.pyplot as plt\n",
    "import matplotlib.dates as mdates\n",
    "import plotly.express as px\n",
    "\n",
    "quickflow_directory = \"/Users/patrickaigner/Documents/PROJECTS/ACROPOLIS/Software/quickflow/acropolis/\"\n",
    "local_path = \"../data/\"\n",
    "picarro_path = \"/Users/patrickaigner/Documents/PROJECTS/ACROPOLIS/Database/PICARRO\""
   ]
  },
  {
   "cell_type": "markdown",
   "metadata": {},
   "source": [
    "# Download to local db"
   ]
  },
  {
   "cell_type": "code",
   "execution_count": 2,
   "metadata": {},
   "outputs": [],
   "source": [
    "# download from hermes database"
   ]
  },
  {
   "cell_type": "markdown",
   "metadata": {},
   "source": [
    "# Perform Pivot on local db"
   ]
  },
  {
   "cell_type": "code",
   "execution_count": 3,
   "metadata": {},
   "outputs": [],
   "source": [
    "# perform pivot on downloaded hermes database\n",
    "# TODO: perform the pivot during the download to safe memory space\n",
    "\n",
    "df_parq = pl.scan_parquet(os.path.join(quickflow_directory, \"measurements.parquet\")).collect().pivot(\n",
    "                values=\"value\",\n",
    "                index=[\n",
    "                    \"system_name\",\n",
    "                    \"revision\",\n",
    "                    \"creation_timestamp\",\n",
    "                    \"receipt_timestamp\",\n",
    "                ],\n",
    "                columns=\"attribute\",\n",
    "                aggregate_function=\"first\",\n",
    "            )\n",
    "\n",
    "df_parq.write_parquet(\n",
    "            os.path.join(local_path, \"pivot_measurements.parquet\"),\n",
    "            statistics=True,\n",
    "        )\n",
    "\n",
    "df_parq = None"
   ]
  },
  {
   "cell_type": "markdown",
   "metadata": {},
   "source": [
    "# Process Calibration Data"
   ]
  },
  {
   "cell_type": "code",
   "execution_count": 4,
   "metadata": {},
   "outputs": [],
   "source": [
    "# join old and new dv\n",
    "\n",
    "df_new = pl.scan_parquet(os.path.join(local_path, \"pivot_measurements.parquet\"))\n",
    "# old db was preprocessed and transformed to match the columns of the pivot(new_db)\n",
    "df_old = pl.scan_parquet(os.path.join(local_path, \"old_db_renamed_measurements.parquet\"))\n",
    "\n",
    "df_new = df_new.select([\"creation_timestamp\",\"system_name\", \"cal_gmp343_filtered\", \"cal_bottle_id\",]) \\\n",
    ".with_columns(pl.col(\"creation_timestamp\").dt.cast_time_unit(\"us\"))\n",
    "df_old = df_old.select([\"creation_timestamp\",\"system_name\", \"cal_gmp343_filtered\", \"cal_bottle_id\",]) \\\n",
    ".with_columns(pl.col(\"creation_timestamp\").dt.cast_time_unit(\"us\"))\n",
    "\n",
    "df = pl.concat([df_new, df_old]).sort(\"creation_timestamp\")"
   ]
  },
  {
   "cell_type": "code",
   "execution_count": 5,
   "metadata": {},
   "outputs": [],
   "source": [
    "# split calibration readings into calibration bottles\n",
    "# currently the split is performed by CO2 concentration as 400 and 800ppm is far apart\n",
    "# TODO: think about splitting by bottle id\n",
    "\n",
    "df = df.with_columns([pl.when(pl.col(\"cal_gmp343_filtered\") < 600).then(pl.col(\"cal_gmp343_filtered\")).otherwise(None).alias(\"cal_400\"),\n",
    "    pl.when(pl.col(\"cal_gmp343_filtered\") > 600).then(pl.col(\"cal_gmp343_filtered\")).otherwise(None).alias(\"cal_800\"),\n",
    "    pl.when(pl.col(\"cal_gmp343_filtered\") < 600).then(pl.col(\"cal_bottle_id\")).otherwise(None).alias(\"cal_bottle_id_400\"),\n",
    "    pl.when(pl.col(\"cal_gmp343_filtered\") > 600).then(pl.col(\"cal_bottle_id\")).otherwise(None).alias(\"cal_bottle_id_800\")])"
   ]
  },
  {
   "cell_type": "code",
   "execution_count": 6,
   "metadata": {},
   "outputs": [],
   "source": [
    "# group by day\n",
    "\n",
    "# group calibration data by day and add back bottle id for later processing\n",
    "dfg = df.groupby([pl.col(\"creation_timestamp\").dt.date(), pl.col(\"system_name\")]).agg([pl.col(\"cal_400\").drop_nulls(),\n",
    "    pl.col(\"cal_800\").drop_nulls(),\n",
    "    pl.col(\"cal_bottle_id_400\").drop_nulls().median(),\n",
    "    pl.col(\"cal_bottle_id_800\").drop_nulls().median()])"
   ]
  },
  {
   "cell_type": "code",
   "execution_count": 7,
   "metadata": {},
   "outputs": [
    {
     "data": {
      "text/html": [
       "<div><style>\n",
       ".dataframe > thead > tr > th,\n",
       ".dataframe > tbody > tr > td {\n",
       "  text-align: right;\n",
       "}\n",
       "</style>\n",
       "<small>shape: (5, 6)</small><table border=\"1\" class=\"dataframe\"><thead><tr><th>creation_timestamp</th><th>system_name</th><th>mean_cal_400</th><th>mean_cal_800</th><th>cal_bottle_id_400</th><th>cal_bottle_id_800</th></tr><tr><td>date</td><td>str</td><td>f64</td><td>f64</td><td>f64</td><td>f64</td></tr></thead><tbody><tr><td>2023-10-28</td><td>&quot;tum-esm-midcos…</td><td>429.6575</td><td>835.111111</td><td>6.0</td><td>34.0</td></tr><tr><td>2023-10-30</td><td>&quot;tum-esm-midcos…</td><td>0.0</td><td>0.0</td><td>null</td><td>null</td></tr><tr><td>2023-10-30</td><td>&quot;tum-esm-midcos…</td><td>0.0</td><td>0.0</td><td>null</td><td>null</td></tr><tr><td>2023-10-30</td><td>&quot;tum-esm-midcos…</td><td>0.0</td><td>0.0</td><td>null</td><td>null</td></tr><tr><td>2023-10-30</td><td>&quot;tum-esm-midcos…</td><td>0.0</td><td>0.0</td><td>null</td><td>null</td></tr></tbody></table></div>"
      ],
      "text/plain": [
       "shape: (5, 6)\n",
       "┌─────────────────┬────────────────┬──────────────┬──────────────┬────────────────┬────────────────┐\n",
       "│ creation_timest ┆ system_name    ┆ mean_cal_400 ┆ mean_cal_800 ┆ cal_bottle_id_ ┆ cal_bottle_id_ │\n",
       "│ amp             ┆ ---            ┆ ---          ┆ ---          ┆ 400            ┆ 800            │\n",
       "│ ---             ┆ str            ┆ f64          ┆ f64          ┆ ---            ┆ ---            │\n",
       "│ date            ┆                ┆              ┆              ┆ f64            ┆ f64            │\n",
       "╞═════════════════╪════════════════╪══════════════╪══════════════╪════════════════╪════════════════╡\n",
       "│ 2023-10-28      ┆ tum-esm-midcos ┆ 429.6575     ┆ 835.111111   ┆ 6.0            ┆ 34.0           │\n",
       "│                 ┆ t-raspi-1      ┆              ┆              ┆                ┆                │\n",
       "│ 2023-10-30      ┆ tum-esm-midcos ┆ 0.0          ┆ 0.0          ┆ null           ┆ null           │\n",
       "│                 ┆ t-raspi-20     ┆              ┆              ┆                ┆                │\n",
       "│ 2023-10-30      ┆ tum-esm-midcos ┆ 0.0          ┆ 0.0          ┆ null           ┆ null           │\n",
       "│                 ┆ t-raspi-2      ┆              ┆              ┆                ┆                │\n",
       "│ 2023-10-30      ┆ tum-esm-midcos ┆ 0.0          ┆ 0.0          ┆ null           ┆ null           │\n",
       "│                 ┆ t-raspi-10     ┆              ┆              ┆                ┆                │\n",
       "│ 2023-10-30      ┆ tum-esm-midcos ┆ 0.0          ┆ 0.0          ┆ null           ┆ null           │\n",
       "│                 ┆ t-raspi-14     ┆              ┆              ┆                ┆                │\n",
       "└─────────────────┴────────────────┴──────────────┴──────────────┴────────────────┴────────────────┘"
      ]
     },
     "execution_count": 7,
     "metadata": {},
     "output_type": "execute_result"
    }
   ],
   "source": [
    "# perform averaging\n",
    "\n",
    "def average_bottle(data):\n",
    "    data = data.to_list()\n",
    "    #2nd bottle\n",
    "    if 50 < len(data) < 70:\n",
    "        x = data[int(len(data)*0.3):int(len(data)*0.95)]\n",
    "        return sum(x) / len(x)\n",
    "    #1st bottle\n",
    "    elif 70 < len(data) < 130:\n",
    "        x = data[int(len(data)*0.5):int(len(data)*0.95)]\n",
    "        return sum(x) / len(x)\n",
    "    else:\n",
    "        return 0.0\n",
    "\n",
    "dfg = dfg.select([pl.col(\"creation_timestamp\"),\n",
    "    pl.col(\"system_name\"),\n",
    "    pl.col(\"cal_400\").apply(lambda x: average_bottle(x)).alias(\"mean_cal_400\"),\n",
    "    pl.col(\"cal_800\").apply(lambda x: average_bottle(x)).alias(\"mean_cal_800\"),\n",
    "    pl.col(\"cal_bottle_id_400\"),\n",
    "    pl.col(\"cal_bottle_id_800\")\n",
    "    ])\n",
    "\n",
    "dfg.tail().collect()"
   ]
  },
  {
   "cell_type": "code",
   "execution_count": 8,
   "metadata": {},
   "outputs": [
    {
     "data": {
      "text/html": [
       "<div><style>\n",
       ".dataframe > thead > tr > th,\n",
       ".dataframe > tbody > tr > td {\n",
       "  text-align: right;\n",
       "}\n",
       "</style>\n",
       "<small>shape: (5, 8)</small><table border=\"1\" class=\"dataframe\"><thead><tr><th>creation_timestamp</th><th>system_name</th><th>mean_cal_400</th><th>mean_cal_800</th><th>cal_bottle_id_400</th><th>cal_bottle_id_800</th><th>slope</th><th>intercept</th></tr><tr><td>date</td><td>str</td><td>f64</td><td>f64</td><td>f64</td><td>f64</td><td>f64</td><td>f64</td></tr></thead><tbody><tr><td>2023-10-29</td><td>&quot;tum-esm-midcos…</td><td>387.848148</td><td>791.941026</td><td>1.0</td><td>38.0</td><td>0.040956</td><td>782.230649</td></tr><tr><td>2023-10-29</td><td>&quot;tum-esm-midcos…</td><td>408.074359</td><td>812.757407</td><td>23.0</td><td>1.0</td><td>1.007098</td><td>-20.411106</td></tr><tr><td>2023-10-29</td><td>&quot;tum-esm-midcos…</td><td>404.510256</td><td>840.474074</td><td>5.0</td><td>12.0</td><td>0.916767</td><td>45.753137</td></tr><tr><td>2023-10-29</td><td>&quot;tum-esm-midcos…</td><td>429.9725</td><td>835.498148</td><td>6.0</td><td>34.0</td><td>0.996699</td><td>-27.012043</td></tr><tr><td>2023-10-29</td><td>&quot;tum-esm-midcos…</td><td>429.09</td><td>838.788889</td><td>36.0</td><td>15.0</td><td>0.960639</td><td>-5.669046</td></tr></tbody></table></div>"
      ],
      "text/plain": [
       "shape: (5, 8)\n",
       "┌────────────┬────────────┬────────────┬────────────┬───────────┬───────────┬──────────┬───────────┐\n",
       "│ creation_t ┆ system_nam ┆ mean_cal_4 ┆ mean_cal_8 ┆ cal_bottl ┆ cal_bottl ┆ slope    ┆ intercept │\n",
       "│ imestamp   ┆ e          ┆ 00         ┆ 00         ┆ e_id_400  ┆ e_id_800  ┆ ---      ┆ ---       │\n",
       "│ ---        ┆ ---        ┆ ---        ┆ ---        ┆ ---       ┆ ---       ┆ f64      ┆ f64       │\n",
       "│ date       ┆ str        ┆ f64        ┆ f64        ┆ f64       ┆ f64       ┆          ┆           │\n",
       "╞════════════╪════════════╪════════════╪════════════╪═══════════╪═══════════╪══════════╪═══════════╡\n",
       "│ 2023-10-29 ┆ tum-esm-mi ┆ 387.848148 ┆ 791.941026 ┆ 1.0       ┆ 38.0      ┆ 0.040956 ┆ 782.23064 │\n",
       "│            ┆ dcost-rasp ┆            ┆            ┆           ┆           ┆          ┆ 9         │\n",
       "│            ┆ i-6        ┆            ┆            ┆           ┆           ┆          ┆           │\n",
       "│ 2023-10-29 ┆ tum-esm-mi ┆ 408.074359 ┆ 812.757407 ┆ 23.0      ┆ 1.0       ┆ 1.007098 ┆ -20.41110 │\n",
       "│            ┆ dcost-rasp ┆            ┆            ┆           ┆           ┆          ┆ 6         │\n",
       "│            ┆ i-13       ┆            ┆            ┆           ┆           ┆          ┆           │\n",
       "│ 2023-10-29 ┆ tum-esm-mi ┆ 404.510256 ┆ 840.474074 ┆ 5.0       ┆ 12.0      ┆ 0.916767 ┆ 45.753137 │\n",
       "│            ┆ dcost-rasp ┆            ┆            ┆           ┆           ┆          ┆           │\n",
       "│            ┆ i-11       ┆            ┆            ┆           ┆           ┆          ┆           │\n",
       "│ 2023-10-29 ┆ tum-esm-mi ┆ 429.9725   ┆ 835.498148 ┆ 6.0       ┆ 34.0      ┆ 0.996699 ┆ -27.01204 │\n",
       "│            ┆ dcost-rasp ┆            ┆            ┆           ┆           ┆          ┆ 3         │\n",
       "│            ┆ i-1        ┆            ┆            ┆           ┆           ┆          ┆           │\n",
       "│ 2023-10-29 ┆ tum-esm-mi ┆ 429.09     ┆ 838.788889 ┆ 36.0      ┆ 15.0      ┆ 0.960639 ┆ -5.669046 │\n",
       "│            ┆ dcost-rasp ┆            ┆            ┆           ┆           ┆          ┆           │\n",
       "│            ┆ i-10       ┆            ┆            ┆           ┆           ┆          ┆           │\n",
       "└────────────┴────────────┴────────────┴────────────┴───────────┴───────────┴──────────┴───────────┘"
      ]
     },
     "execution_count": 8,
     "metadata": {},
     "output_type": "execute_result"
    }
   ],
   "source": [
    "# calculate slope and intercept\n",
    "\n",
    "# this was preprocessed on recorded lab data\n",
    "df_gas = pl.read_csv(os.path.join(local_path, \"averaged_gases.csv\"))\n",
    "\n",
    "def two_point_calibration(measured_values, true_values):\n",
    "    # Check if input lists have length 2\n",
    "    if len(measured_values) != 2 or len(true_values) != 2:\n",
    "        raise ValueError(\"Both measured_values and true_values must have length 2\")\n",
    "\n",
    "    # Calculate calibration parameters (slope and intercept)\n",
    "    # \n",
    "    slope = (true_values[1] - true_values[0]) / (measured_values[1] - measured_values[0])\n",
    "    # y_true = m * y_meas + t\n",
    "    intercept = true_values[0] - slope * measured_values[0]\n",
    "\n",
    "    return slope, intercept\n",
    "\n",
    "def calc_slope(meas_400, meas_800, id_400, id_800):\n",
    "    if (meas_400 == None) or (meas_800 == None):\n",
    "        return None\n",
    "    \n",
    "    bottles_meas = [meas_400, meas_800]\n",
    "    bottles_true = [df_gas.filter(pl.col(\"Bottle_ID\")== id_400)[\"CO2_dry\"][0],df_gas.filter(pl.col(\"Bottle_ID\")== id_800)[\"CO2_dry\"][0]]\n",
    "\n",
    "    slope, intercept = two_point_calibration(bottles_meas, bottles_true)\n",
    "    \n",
    "    return slope\n",
    "\n",
    "def calc_intercept(meas_400, meas_800, id_400, id_800):\n",
    "    if (meas_400 == None) or (meas_800 == None):\n",
    "        return None\n",
    "    \n",
    "    bottles_meas = [meas_400, meas_800]\n",
    "    bottles_true = [df_gas.filter(pl.col(\"Bottle_ID\")== id_400)[\"CO2_dry\"][0],df_gas.filter(pl.col(\"Bottle_ID\")== id_800)[\"CO2_dry\"][0]]\n",
    "\n",
    "    slope, intercept = two_point_calibration(bottles_meas, bottles_true)\n",
    "    \n",
    "    return intercept\n",
    "\n",
    "# filter for days that have a valid calibration for both bottles\n",
    "dfg = dfg.sort(pl.col(\"creation_timestamp\")) \\\n",
    "    .filter(pl.col(\"mean_cal_400\") > 0.0 ) \\\n",
    "    .filter(pl.col(\"mean_cal_800\") > 0.0 )\n",
    "\n",
    "# calculate slope\n",
    "dfg = dfg.with_columns(pl.struct(['mean_cal_400','mean_cal_800','cal_bottle_id_400','cal_bottle_id_800']) \\\n",
    "    .apply(lambda x: calc_slope(x['mean_cal_400'],x['mean_cal_800'],x['cal_bottle_id_400'],x['cal_bottle_id_800'])) \\\n",
    "    .alias('slope'))\n",
    "\n",
    "# calculate intercept\n",
    "dfg = dfg.with_columns(pl.struct(['mean_cal_400','mean_cal_800','cal_bottle_id_400','cal_bottle_id_800']) \\\n",
    "    .apply(lambda x: calc_intercept(x['mean_cal_400'],x['mean_cal_800'],x['cal_bottle_id_400'],x['cal_bottle_id_800'])) \\\n",
    "    .alias('intercept'))\n",
    "\n",
    "dfg.tail().collect()"
   ]
  },
  {
   "cell_type": "code",
   "execution_count": 9,
   "metadata": {},
   "outputs": [],
   "source": [
    "# safe results to parquet\n",
    "\n",
    "dfg.collect().write_parquet(os.path.join(local_path, \"calibration_correction.parquet\"))\n"
   ]
  },
  {
   "cell_type": "code",
   "execution_count": 10,
   "metadata": {},
   "outputs": [
    {
     "name": "stderr",
     "output_type": "stream",
     "text": [
      "/Users/patrickaigner/Documents/PROJECTS/ACROPOLIS/Software/acropolis-visualisation/.venv/lib/python3.11/site-packages/_plotly_utils/basevalidators.py:105: FutureWarning: The behavior of DatetimeProperties.to_pydatetime is deprecated, in a future version this will return a Series containing python datetime objects instead of an ndarray. To retain the old behavior, call `np.array` on the result\n",
      "  v = v.dt.to_pydatetime()\n"
     ]
    },
    {
     "data": {
      "application/vnd.plotly.v1+json": {
       "config": {
        "plotlyServerURL": "https://plot.ly"
       },
       "data": [
        {
         "hovertemplate": "system_name=tum-esm-midcost-raspi-7<br>creation_timestamp=%{x}<br>slope=%{y}<extra></extra>",
         "legendgroup": "tum-esm-midcost-raspi-7",
         "line": {
          "color": "#636efa",
          "dash": "solid"
         },
         "marker": {
          "symbol": "circle"
         },
         "mode": "lines+markers",
         "name": "tum-esm-midcost-raspi-7",
         "orientation": "v",
         "showlegend": true,
         "type": "scatter",
         "x": [
          "2023-06-28T00:00:00",
          "2023-06-29T00:00:00",
          "2023-07-01T00:00:00",
          "2023-07-02T00:00:00",
          "2023-07-04T00:00:00",
          "2023-07-06T00:00:00",
          "2023-07-08T00:00:00",
          "2023-07-09T00:00:00",
          "2023-07-10T00:00:00",
          "2023-07-11T00:00:00",
          "2023-07-12T00:00:00",
          "2023-07-13T00:00:00",
          "2023-07-14T00:00:00",
          "2023-07-15T00:00:00",
          "2023-07-16T00:00:00",
          "2023-07-17T00:00:00",
          "2023-07-18T00:00:00",
          "2023-07-19T00:00:00",
          "2023-07-20T00:00:00",
          "2023-07-21T00:00:00",
          "2023-07-23T00:00:00",
          "2023-07-24T00:00:00",
          "2023-07-25T00:00:00",
          "2023-07-26T00:00:00",
          "2023-07-27T00:00:00",
          "2023-07-28T00:00:00",
          "2023-07-29T00:00:00",
          "2023-07-30T00:00:00",
          "2023-07-31T00:00:00",
          "2023-08-01T00:00:00",
          "2023-08-02T00:00:00",
          "2023-08-03T00:00:00",
          "2023-08-04T00:00:00",
          "2023-08-05T00:00:00",
          "2023-08-06T00:00:00",
          "2023-08-07T00:00:00",
          "2023-08-08T00:00:00",
          "2023-08-09T00:00:00",
          "2023-08-10T00:00:00",
          "2023-08-11T00:00:00",
          "2023-08-12T00:00:00",
          "2023-08-14T00:00:00",
          "2023-08-16T00:00:00",
          "2023-08-17T00:00:00",
          "2023-10-12T00:00:00",
          "2023-10-13T00:00:00",
          "2023-10-14T00:00:00",
          "2023-10-15T00:00:00"
         ],
         "xaxis": "x",
         "y": [
          1.027683469964467,
          1.0288079165949575,
          1.029557528620714,
          1.0277893950291754,
          1.0285099629391874,
          1.026859433176513,
          1.0271432527057442,
          1.0300409322738717,
          1.0313439035598593,
          1.0298093831070094,
          1.03308239919531,
          1.031100100707637,
          1.030585245044966,
          1.0283755815359932,
          1.0312004315089751,
          1.0360972812642122,
          1.0269877724462184,
          1.029080600204712,
          0.9800562568448515,
          1.0378090527717672,
          1.0312069506119526,
          1.0298920497114146,
          1.032785847713647,
          1.0346762100361608,
          1.032220784892636,
          1.028603547237377,
          1.0348026891810846,
          1.0284484300167804,
          1.0316871648711397,
          0.990439272210042,
          1.0350496418781945,
          1.0272682733957468,
          1.0331098747918543,
          0.9938137326650192,
          1.0326967301759602,
          1.0262347551020026,
          1.0293763384812682,
          1.0312577396299665,
          1.0247458945577463,
          1.029898863485095,
          0.9781149265968763,
          1.0293672815937551,
          1.0330380274908821,
          1.028511473042115,
          1.0258408858236736,
          1.0319290130102794,
          1.0097724723778134,
          1.0138255838711991
         ],
         "yaxis": "y"
        },
        {
         "hovertemplate": "system_name=tum-esm-midcost-raspi-9<br>creation_timestamp=%{x}<br>slope=%{y}<extra></extra>",
         "legendgroup": "tum-esm-midcost-raspi-9",
         "line": {
          "color": "#EF553B",
          "dash": "solid"
         },
         "marker": {
          "symbol": "circle"
         },
         "mode": "lines+markers",
         "name": "tum-esm-midcost-raspi-9",
         "orientation": "v",
         "showlegend": true,
         "type": "scatter",
         "x": [
          "2023-06-28T00:00:00",
          "2023-06-30T00:00:00",
          "2023-07-01T00:00:00",
          "2023-07-02T00:00:00",
          "2023-07-03T00:00:00",
          "2023-07-04T00:00:00",
          "2023-07-05T00:00:00",
          "2023-07-06T00:00:00",
          "2023-07-07T00:00:00",
          "2023-07-08T00:00:00",
          "2023-07-09T00:00:00",
          "2023-07-10T00:00:00",
          "2023-07-11T00:00:00",
          "2023-07-12T00:00:00",
          "2023-07-13T00:00:00",
          "2023-07-14T00:00:00",
          "2023-07-15T00:00:00",
          "2023-07-16T00:00:00",
          "2023-07-17T00:00:00",
          "2023-07-18T00:00:00",
          "2023-07-19T00:00:00",
          "2023-07-20T00:00:00",
          "2023-07-21T00:00:00",
          "2023-07-23T00:00:00",
          "2023-07-24T00:00:00",
          "2023-07-25T00:00:00",
          "2023-07-26T00:00:00",
          "2023-07-27T00:00:00",
          "2023-07-28T00:00:00",
          "2023-07-29T00:00:00",
          "2023-07-30T00:00:00",
          "2023-07-31T00:00:00",
          "2023-08-01T00:00:00",
          "2023-08-02T00:00:00",
          "2023-08-03T00:00:00",
          "2023-08-04T00:00:00",
          "2023-08-05T00:00:00",
          "2023-08-06T00:00:00",
          "2023-08-07T00:00:00",
          "2023-08-08T00:00:00",
          "2023-08-09T00:00:00",
          "2023-08-10T00:00:00",
          "2023-08-11T00:00:00",
          "2023-08-12T00:00:00",
          "2023-08-13T00:00:00",
          "2023-08-14T00:00:00",
          "2023-08-15T00:00:00",
          "2023-08-17T00:00:00"
         ],
         "xaxis": "x",
         "y": [
          1.0162852991734639,
          1.0115204115920702,
          1.0282450717415328,
          1.0269757271135265,
          1.0245674104892841,
          1.0154715604325868,
          1.028193139156322,
          1.0169648531747773,
          1.0194384873896667,
          1.0108432515060328,
          1.0024149047829685,
          1.00412524268966,
          1.0051896906068996,
          1.018866142989379,
          1.0238743820707012,
          1.0140947658171877,
          0.9481593811152551,
          1.0166217482619075,
          1.0170833102809362,
          1.0162100324304002,
          1.013825226205184,
          1.0237102968012928,
          1.0334113240355873,
          1.0361280503949555,
          0.9810639448074492,
          1.0281513647945801,
          1.0435888442577617,
          1.0294355422654584,
          1.0326975235273181,
          1.0330275141339642,
          1.024816535577902,
          1.035138708588648,
          1.0266146518011119,
          1.0403936732328347,
          0.982088764351625,
          1.033615903441405,
          0.9980361372432616,
          1.0371259514064028,
          1.0378233001580608,
          1.0236388665011946,
          1.0301219306639777,
          1.0230230988150697,
          1.0082444421181116,
          1.012390451585461,
          1.0126913042063497,
          1.009073086001934,
          1.0182845385635675,
          1.0144819226765622
         ],
         "yaxis": "y"
        },
        {
         "hovertemplate": "system_name=tum-esm-midcost-raspi-2<br>creation_timestamp=%{x}<br>slope=%{y}<extra></extra>",
         "legendgroup": "tum-esm-midcost-raspi-2",
         "line": {
          "color": "#00cc96",
          "dash": "solid"
         },
         "marker": {
          "symbol": "circle"
         },
         "mode": "lines+markers",
         "name": "tum-esm-midcost-raspi-2",
         "orientation": "v",
         "showlegend": true,
         "type": "scatter",
         "x": [
          "2023-06-29T00:00:00",
          "2023-07-01T00:00:00",
          "2023-07-02T00:00:00",
          "2023-07-03T00:00:00",
          "2023-07-04T00:00:00",
          "2023-07-05T00:00:00",
          "2023-07-08T00:00:00",
          "2023-07-09T00:00:00",
          "2023-07-11T00:00:00",
          "2023-07-12T00:00:00",
          "2023-07-13T00:00:00",
          "2023-07-14T00:00:00",
          "2023-07-15T00:00:00",
          "2023-07-16T00:00:00",
          "2023-07-17T00:00:00",
          "2023-07-18T00:00:00",
          "2023-07-19T00:00:00",
          "2023-07-20T00:00:00",
          "2023-07-21T00:00:00",
          "2023-07-23T00:00:00",
          "2023-07-24T00:00:00",
          "2023-07-25T00:00:00",
          "2023-07-26T00:00:00",
          "2023-07-27T00:00:00",
          "2023-07-28T00:00:00",
          "2023-07-29T00:00:00",
          "2023-09-18T00:00:00",
          "2023-09-19T00:00:00",
          "2023-09-20T00:00:00",
          "2023-09-21T00:00:00",
          "2023-10-12T00:00:00",
          "2023-10-13T00:00:00",
          "2023-10-14T00:00:00",
          "2023-10-15T00:00:00",
          "2023-10-16T00:00:00",
          "2023-10-17T00:00:00",
          "2023-10-18T00:00:00",
          "2023-10-19T00:00:00",
          "2023-10-20T00:00:00",
          "2023-10-21T00:00:00",
          "2023-10-22T00:00:00",
          "2023-10-23T00:00:00",
          "2023-10-25T00:00:00",
          "2023-10-26T00:00:00",
          "2023-10-27T00:00:00",
          "2023-10-28T00:00:00",
          "2023-10-29T00:00:00"
         ],
         "xaxis": "x",
         "y": [
          1.0441147382175728,
          1.0473399582721996,
          1.0458857000964508,
          1.0470154950263133,
          1.0459363447257528,
          1.045758104825796,
          1.0498539007126664,
          1.0502378867066273,
          1.0496343206928658,
          1.049418340380529,
          1.05382930827343,
          1.0518005298575719,
          1.0485617064161257,
          1.0515678471184087,
          1.0482593414016348,
          1.049065188043314,
          1.0468374958712805,
          1.0490375916904515,
          1.050635890188969,
          1.047992703711195,
          1.0457832892681669,
          1.0479316569043227,
          1.0525825404884885,
          1.0459613963751146,
          1.014581691713467,
          1.0529320655839647,
          1.0571691908116514,
          1.0548045265270751,
          1.0565968377064128,
          1.0546589782701057,
          1.0565661795625294,
          1.0540683324441436,
          1.0548780752235278,
          1.0543407942473608,
          1.0536943977018565,
          1.0566252077763387,
          1.0581001017975482,
          1.0575348124934927,
          1.0577293297722659,
          1.0571464052149055,
          1.0588775040063272,
          1.0569656618804368,
          1.0411623421971654,
          1.038169533898884,
          1.0430011486753803,
          1.0408256014135873,
          1.0395203664731534
         ],
         "yaxis": "y"
        },
        {
         "hovertemplate": "system_name=tum-esm-midcost-raspi-5<br>creation_timestamp=%{x}<br>slope=%{y}<extra></extra>",
         "legendgroup": "tum-esm-midcost-raspi-5",
         "line": {
          "color": "#ab63fa",
          "dash": "solid"
         },
         "marker": {
          "symbol": "circle"
         },
         "mode": "lines+markers",
         "name": "tum-esm-midcost-raspi-5",
         "orientation": "v",
         "showlegend": true,
         "type": "scatter",
         "x": [
          "2023-06-29T00:00:00",
          "2023-06-30T00:00:00",
          "2023-07-02T00:00:00",
          "2023-07-03T00:00:00",
          "2023-07-04T00:00:00",
          "2023-07-05T00:00:00",
          "2023-07-08T00:00:00",
          "2023-07-10T00:00:00",
          "2023-07-11T00:00:00",
          "2023-07-12T00:00:00",
          "2023-07-13T00:00:00",
          "2023-07-14T00:00:00",
          "2023-07-15T00:00:00",
          "2023-07-16T00:00:00",
          "2023-07-17T00:00:00",
          "2023-07-18T00:00:00",
          "2023-07-19T00:00:00",
          "2023-07-20T00:00:00",
          "2023-07-21T00:00:00",
          "2023-07-23T00:00:00",
          "2023-07-24T00:00:00",
          "2023-07-25T00:00:00",
          "2023-07-26T00:00:00",
          "2023-07-27T00:00:00",
          "2023-07-28T00:00:00",
          "2023-07-29T00:00:00",
          "2023-07-30T00:00:00",
          "2023-07-31T00:00:00",
          "2023-08-01T00:00:00",
          "2023-08-02T00:00:00",
          "2023-08-03T00:00:00",
          "2023-08-04T00:00:00",
          "2023-08-05T00:00:00",
          "2023-08-06T00:00:00",
          "2023-08-07T00:00:00",
          "2023-08-08T00:00:00",
          "2023-08-09T00:00:00",
          "2023-08-10T00:00:00",
          "2023-08-11T00:00:00",
          "2023-08-12T00:00:00",
          "2023-08-13T00:00:00",
          "2023-08-14T00:00:00",
          "2023-08-15T00:00:00",
          "2023-08-17T00:00:00",
          "2023-10-11T00:00:00",
          "2023-10-12T00:00:00",
          "2023-10-13T00:00:00",
          "2023-10-14T00:00:00",
          "2023-10-15T00:00:00"
         ],
         "xaxis": "x",
         "y": [
          1.0270018668454273,
          1.0298208202177288,
          1.0173992908059184,
          1.0211054693835753,
          1.0231953374595373,
          1.0253253403576474,
          1.022039594418397,
          1.01774157151429,
          1.019154462040181,
          1.025425168180445,
          1.026185918209693,
          1.0203252674155538,
          1.0188600500520009,
          1.0244232972256861,
          1.0277003249811203,
          1.0307844732495186,
          1.0308310391090996,
          1.0307881698593826,
          1.0301553260588796,
          1.0245404287642408,
          1.0253655003535593,
          1.0362149519156083,
          1.0302121647276945,
          1.0396189215617921,
          0.9873970600048115,
          1.027745991042455,
          1.02012775947793,
          1.0288354348435964,
          1.0270983171777786,
          1.0336656055916411,
          1.0252450670841118,
          1.0246682188644718,
          1.0286703360801062,
          1.0334343567984028,
          1.0234129804348182,
          1.0226750039780483,
          1.0205690274631949,
          1.0220529506503029,
          1.0230408894057779,
          1.0273690639928874,
          1.032412982682457,
          1.02779773083574,
          1.03115745223766,
          1.0282861622927253,
          1.0210450379358118,
          0.9807370907484074,
          1.0179586077471903,
          1.0182627644949924,
          0.9771253237420243
         ],
         "yaxis": "y"
        },
        {
         "hovertemplate": "system_name=tum-esm-midcost-raspi-8<br>creation_timestamp=%{x}<br>slope=%{y}<extra></extra>",
         "legendgroup": "tum-esm-midcost-raspi-8",
         "line": {
          "color": "#FFA15A",
          "dash": "solid"
         },
         "marker": {
          "symbol": "circle"
         },
         "mode": "lines+markers",
         "name": "tum-esm-midcost-raspi-8",
         "orientation": "v",
         "showlegend": true,
         "type": "scatter",
         "x": [
          "2023-06-29T00:00:00",
          "2023-06-30T00:00:00",
          "2023-07-02T00:00:00",
          "2023-07-03T00:00:00",
          "2023-07-05T00:00:00",
          "2023-07-07T00:00:00",
          "2023-07-08T00:00:00",
          "2023-07-10T00:00:00",
          "2023-07-11T00:00:00",
          "2023-07-12T00:00:00",
          "2023-07-13T00:00:00",
          "2023-07-14T00:00:00",
          "2023-07-15T00:00:00",
          "2023-07-16T00:00:00",
          "2023-07-17T00:00:00",
          "2023-07-18T00:00:00",
          "2023-07-19T00:00:00",
          "2023-07-20T00:00:00",
          "2023-07-21T00:00:00",
          "2023-07-23T00:00:00",
          "2023-07-24T00:00:00",
          "2023-07-25T00:00:00",
          "2023-07-26T00:00:00",
          "2023-07-27T00:00:00",
          "2023-07-28T00:00:00",
          "2023-07-29T00:00:00",
          "2023-07-30T00:00:00",
          "2023-07-31T00:00:00",
          "2023-08-01T00:00:00",
          "2023-08-02T00:00:00",
          "2023-08-03T00:00:00",
          "2023-08-04T00:00:00",
          "2023-08-05T00:00:00",
          "2023-08-06T00:00:00",
          "2023-08-07T00:00:00",
          "2023-10-12T00:00:00",
          "2023-10-13T00:00:00",
          "2023-10-14T00:00:00",
          "2023-10-15T00:00:00",
          "2023-10-16T00:00:00",
          "2023-10-17T00:00:00",
          "2023-10-18T00:00:00",
          "2023-10-19T00:00:00",
          "2023-10-20T00:00:00",
          "2023-10-21T00:00:00",
          "2023-10-22T00:00:00",
          "2023-10-23T00:00:00"
         ],
         "xaxis": "x",
         "y": [
          1.020376058578286,
          1.013922199627524,
          1.02506736116026,
          1.0193460602892384,
          1.0221897512462,
          1.0153248642364905,
          1.0069137836926958,
          1.0078596038920584,
          1.0130163624035355,
          1.0166754325725458,
          1.028235802961038,
          1.0139408763293738,
          1.0107068804364856,
          1.013520288735604,
          1.0188754285144157,
          1.015536145792134,
          1.0254766817384722,
          1.024094016711399,
          1.0042424798685277,
          1.0395907503067556,
          1.0317208956429924,
          1.0406576795612625,
          1.0462257707978768,
          1.0565675895727467,
          1.0368422532176187,
          1.0379267727736934,
          0.9876536130839674,
          1.0359453921124946,
          1.0270405814308559,
          0.9962489763412147,
          1.017379908770894,
          1.0298997573553026,
          1.0346326813268907,
          1.0442488551641225,
          1.037866576739825,
          1.011797052962928,
          0.9753471638229747,
          1.0055634633795956,
          1.0104255403869336,
          1.0066351279442503,
          0.9847414717562322,
          1.0048570154828975,
          1.004023889944177,
          1.0049378007897545,
          1.0074156757428872,
          1.005320499105761,
          1.0062258345742927
         ],
         "yaxis": "y"
        },
        {
         "hovertemplate": "system_name=tum-esm-midcost-raspi-10<br>creation_timestamp=%{x}<br>slope=%{y}<extra></extra>",
         "legendgroup": "tum-esm-midcost-raspi-10",
         "line": {
          "color": "#19d3f3",
          "dash": "solid"
         },
         "marker": {
          "symbol": "circle"
         },
         "mode": "lines+markers",
         "name": "tum-esm-midcost-raspi-10",
         "orientation": "v",
         "showlegend": true,
         "type": "scatter",
         "x": [
          "2023-06-30T00:00:00",
          "2023-07-01T00:00:00",
          "2023-07-02T00:00:00",
          "2023-07-04T00:00:00",
          "2023-07-05T00:00:00",
          "2023-07-06T00:00:00",
          "2023-07-07T00:00:00",
          "2023-07-08T00:00:00",
          "2023-07-09T00:00:00",
          "2023-07-10T00:00:00",
          "2023-07-11T00:00:00",
          "2023-07-12T00:00:00",
          "2023-07-13T00:00:00",
          "2023-07-14T00:00:00",
          "2023-07-15T00:00:00",
          "2023-07-16T00:00:00",
          "2023-07-17T00:00:00",
          "2023-07-18T00:00:00",
          "2023-07-19T00:00:00",
          "2023-07-20T00:00:00",
          "2023-07-21T00:00:00",
          "2023-07-23T00:00:00",
          "2023-07-24T00:00:00",
          "2023-07-25T00:00:00",
          "2023-07-26T00:00:00",
          "2023-07-27T00:00:00",
          "2023-07-28T00:00:00",
          "2023-07-29T00:00:00",
          "2023-07-30T00:00:00",
          "2023-07-31T00:00:00",
          "2023-08-01T00:00:00",
          "2023-08-02T00:00:00",
          "2023-08-03T00:00:00",
          "2023-10-13T00:00:00",
          "2023-10-14T00:00:00",
          "2023-10-15T00:00:00",
          "2023-10-16T00:00:00",
          "2023-10-17T00:00:00",
          "2023-10-18T00:00:00",
          "2023-10-19T00:00:00",
          "2023-10-20T00:00:00",
          "2023-10-21T00:00:00",
          "2023-10-22T00:00:00",
          "2023-10-23T00:00:00",
          "2023-10-24T00:00:00",
          "2023-10-25T00:00:00",
          "2023-10-26T00:00:00",
          "2023-10-27T00:00:00",
          "2023-10-28T00:00:00",
          "2023-10-29T00:00:00"
         ],
         "xaxis": "x",
         "y": [
          -1.0071099308060754,
          -1.0048515395004045,
          -1.0072095172688178,
          -0.9986050916863395,
          -0.9996456401311727,
          0.9976073261889443,
          0.9961315704583348,
          0.999029557357737,
          0.9963480614892378,
          0.9980252758788115,
          0.9968054466879941,
          0.9982243868679802,
          0.999180655500107,
          0.9989049079859762,
          0.9648223254734721,
          1.0019328435771748,
          0.9978750246267629,
          1.0001899789824995,
          0.9599600846862012,
          1.000589418586059,
          1.0123472911694449,
          1.0013851295290097,
          1.0069614749055906,
          1.015178939863461,
          1.015253412800116,
          0.973101913000386,
          1.0120035242255467,
          1.0089985417171858,
          1.0068040519511183,
          1.0007678045544868,
          1.002727281482896,
          1.0075870381912158,
          1.0087411632364869,
          0.9800256768565246,
          0.9597966567130652,
          0.9586205798101012,
          0.9582607019020352,
          0.9608673394655286,
          0.960263676958163,
          0.9649577851896189,
          0.9618428963555601,
          0.96063304740451,
          0.9586483873609754,
          0.9598613452610035,
          0.9597224923530362,
          0.9572862250419311,
          0.956558074552028,
          0.9602079108716043,
          0.9592732837463253,
          0.9606388897456536
         ],
         "yaxis": "y"
        },
        {
         "hovertemplate": "system_name=tum-esm-midcost-raspi-3<br>creation_timestamp=%{x}<br>slope=%{y}<extra></extra>",
         "legendgroup": "tum-esm-midcost-raspi-3",
         "line": {
          "color": "#FF6692",
          "dash": "solid"
         },
         "marker": {
          "symbol": "circle"
         },
         "mode": "lines+markers",
         "name": "tum-esm-midcost-raspi-3",
         "orientation": "v",
         "showlegend": true,
         "type": "scatter",
         "x": [
          "2023-07-05T00:00:00",
          "2023-07-06T00:00:00",
          "2023-07-08T00:00:00",
          "2023-07-09T00:00:00",
          "2023-07-11T00:00:00",
          "2023-07-12T00:00:00",
          "2023-07-13T00:00:00",
          "2023-07-14T00:00:00",
          "2023-07-15T00:00:00",
          "2023-07-16T00:00:00",
          "2023-07-17T00:00:00",
          "2023-07-18T00:00:00",
          "2023-07-19T00:00:00",
          "2023-07-20T00:00:00",
          "2023-07-21T00:00:00",
          "2023-07-23T00:00:00",
          "2023-07-24T00:00:00",
          "2023-07-25T00:00:00",
          "2023-07-26T00:00:00",
          "2023-07-27T00:00:00",
          "2023-07-28T00:00:00",
          "2023-07-29T00:00:00",
          "2023-07-30T00:00:00",
          "2023-07-31T00:00:00",
          "2023-08-01T00:00:00",
          "2023-08-02T00:00:00",
          "2023-08-03T00:00:00",
          "2023-08-04T00:00:00",
          "2023-08-05T00:00:00",
          "2023-08-06T00:00:00",
          "2023-08-07T00:00:00",
          "2023-09-19T00:00:00",
          "2023-09-20T00:00:00",
          "2023-09-21T00:00:00"
         ],
         "xaxis": "x",
         "y": [
          1.0292491456271717,
          1.025208797388492,
          1.0194517409146073,
          1.0232743159231061,
          1.0215549693704276,
          1.0235805593373704,
          1.0239416593935096,
          1.0197914933435623,
          1.0223572837660742,
          1.025397749559917,
          1.019032422868197,
          1.0203905871378323,
          1.0276052343615005,
          0.9769330929071403,
          1.0282790101346666,
          1.0279919926220684,
          1.0228834937590103,
          1.030313944087821,
          0.9940975631600549,
          1.0382893977276968,
          1.0282084352752334,
          1.0292129226873288,
          1.0225882099456858,
          1.0263212171914604,
          1.0250783623512214,
          1.0310974035635307,
          1.025192719568057,
          1.0282348740677243,
          1.028003749474542,
          1.0330411266506523,
          1.0272265393528304,
          0.9734548689945438,
          0.968891870176973,
          0.9707758961895071
         ],
         "yaxis": "y"
        },
        {
         "hovertemplate": "system_name=tum-esm-midcost-raspi-6<br>creation_timestamp=%{x}<br>slope=%{y}<extra></extra>",
         "legendgroup": "tum-esm-midcost-raspi-6",
         "line": {
          "color": "#B6E880",
          "dash": "solid"
         },
         "marker": {
          "symbol": "circle"
         },
         "mode": "lines+markers",
         "name": "tum-esm-midcost-raspi-6",
         "orientation": "v",
         "showlegend": true,
         "type": "scatter",
         "x": [
          "2023-07-05T00:00:00",
          "2023-07-06T00:00:00",
          "2023-07-07T00:00:00",
          "2023-07-08T00:00:00",
          "2023-07-10T00:00:00",
          "2023-07-11T00:00:00",
          "2023-07-12T00:00:00",
          "2023-07-13T00:00:00",
          "2023-07-14T00:00:00",
          "2023-07-15T00:00:00",
          "2023-07-16T00:00:00",
          "2023-07-17T00:00:00",
          "2023-07-18T00:00:00",
          "2023-07-19T00:00:00",
          "2023-07-20T00:00:00",
          "2023-07-21T00:00:00",
          "2023-07-22T00:00:00",
          "2023-07-24T00:00:00",
          "2023-07-25T00:00:00",
          "2023-07-26T00:00:00",
          "2023-07-27T00:00:00",
          "2023-07-28T00:00:00",
          "2023-07-29T00:00:00",
          "2023-07-30T00:00:00",
          "2023-07-31T00:00:00",
          "2023-08-01T00:00:00",
          "2023-08-02T00:00:00",
          "2023-08-03T00:00:00",
          "2023-08-04T00:00:00",
          "2023-08-05T00:00:00",
          "2023-08-06T00:00:00",
          "2023-08-07T00:00:00",
          "2023-08-08T00:00:00",
          "2023-08-09T00:00:00",
          "2023-08-10T00:00:00",
          "2023-08-11T00:00:00",
          "2023-08-12T00:00:00",
          "2023-08-13T00:00:00",
          "2023-08-14T00:00:00",
          "2023-08-15T00:00:00",
          "2023-08-16T00:00:00",
          "2023-10-13T00:00:00",
          "2023-10-14T00:00:00",
          "2023-10-15T00:00:00",
          "2023-10-16T00:00:00",
          "2023-10-17T00:00:00",
          "2023-10-18T00:00:00",
          "2023-10-19T00:00:00",
          "2023-10-20T00:00:00",
          "2023-10-21T00:00:00",
          "2023-10-22T00:00:00",
          "2023-10-23T00:00:00",
          "2023-10-25T00:00:00",
          "2023-10-26T00:00:00",
          "2023-10-27T00:00:00",
          "2023-10-28T00:00:00",
          "2023-10-29T00:00:00"
         ],
         "xaxis": "x",
         "y": [
          1.0333600541193733,
          1.03852034506162,
          1.0345940933788502,
          1.0349702557763936,
          1.0305018468451597,
          1.0371853269168378,
          1.0325792670492837,
          1.0388381084926654,
          1.035076316275522,
          1.0396335555126532,
          1.0365743265943796,
          1.036390646389066,
          1.0337556528769631,
          0.9984310128531656,
          1.0349865142535328,
          1.045729668593124,
          1.0359057312907074,
          1.038578954242731,
          1.043278294528292,
          1.0487390230408504,
          1.04515392937454,
          1.0449854757162096,
          1.041140312073947,
          0.9944152947902094,
          1.041816059327668,
          1.0417622421126034,
          1.0399797007479517,
          1.040090515909528,
          1.0412337381944847,
          1.042957341044433,
          1.0411860850260137,
          1.0465186414408407,
          1.0380832111430556,
          1.041179726692852,
          1.0348335980602814,
          1.0291202669824109,
          1.0307321330693882,
          1.0329252351381868,
          1.0288435894377956,
          1.0353997486454563,
          1.0324481103874923,
          1.0347033931765643,
          1.0173159405733199,
          1.0176637801876347,
          1.0196991573479932,
          1.018201370089081,
          1.0206968693767515,
          1.018486713368222,
          0.9737075394038516,
          1.0167062054740927,
          1.0184979868136024,
          1.0201240639199791,
          0.04101922469638594,
          0.04111265363847107,
          0.041081331700030095,
          0.04108855392623658,
          0.04095620789352026
         ],
         "yaxis": "y"
        },
        {
         "hovertemplate": "system_name=tum-esm-midcost-raspi-11<br>creation_timestamp=%{x}<br>slope=%{y}<extra></extra>",
         "legendgroup": "tum-esm-midcost-raspi-11",
         "line": {
          "color": "#FF97FF",
          "dash": "solid"
         },
         "marker": {
          "symbol": "circle"
         },
         "mode": "lines+markers",
         "name": "tum-esm-midcost-raspi-11",
         "orientation": "v",
         "showlegend": true,
         "type": "scatter",
         "x": [
          "2023-07-06T00:00:00",
          "2023-07-07T00:00:00",
          "2023-07-10T00:00:00",
          "2023-07-11T00:00:00",
          "2023-07-12T00:00:00",
          "2023-07-13T00:00:00",
          "2023-07-14T00:00:00",
          "2023-07-15T00:00:00",
          "2023-07-16T00:00:00",
          "2023-07-17T00:00:00",
          "2023-07-18T00:00:00",
          "2023-07-19T00:00:00",
          "2023-07-20T00:00:00",
          "2023-07-21T00:00:00",
          "2023-07-23T00:00:00",
          "2023-07-24T00:00:00",
          "2023-07-25T00:00:00",
          "2023-07-26T00:00:00",
          "2023-07-27T00:00:00",
          "2023-07-28T00:00:00",
          "2023-07-29T00:00:00",
          "2023-07-30T00:00:00",
          "2023-07-31T00:00:00",
          "2023-08-01T00:00:00",
          "2023-08-02T00:00:00",
          "2023-08-03T00:00:00",
          "2023-08-04T00:00:00",
          "2023-08-05T00:00:00",
          "2023-08-06T00:00:00",
          "2023-08-07T00:00:00",
          "2023-08-08T00:00:00",
          "2023-08-09T00:00:00",
          "2023-08-10T00:00:00",
          "2023-08-11T00:00:00",
          "2023-08-12T00:00:00",
          "2023-08-13T00:00:00",
          "2023-08-14T00:00:00",
          "2023-08-15T00:00:00",
          "2023-08-17T00:00:00",
          "2023-10-12T00:00:00",
          "2023-10-13T00:00:00",
          "2023-10-14T00:00:00",
          "2023-10-15T00:00:00",
          "2023-10-16T00:00:00",
          "2023-10-17T00:00:00",
          "2023-10-18T00:00:00",
          "2023-10-19T00:00:00",
          "2023-10-20T00:00:00",
          "2023-10-21T00:00:00",
          "2023-10-22T00:00:00",
          "2023-10-23T00:00:00",
          "2023-10-24T00:00:00",
          "2023-10-25T00:00:00",
          "2023-10-26T00:00:00",
          "2023-10-27T00:00:00",
          "2023-10-28T00:00:00",
          "2023-10-29T00:00:00"
         ],
         "xaxis": "x",
         "y": [
          0.9865890992381977,
          0.9837681714976462,
          0.9915103941246863,
          0.9851727926947466,
          0.9902796914102767,
          0.9871342093763906,
          0.9865306666653479,
          0.9844281463971979,
          0.9857602894601792,
          0.9382350176575011,
          0.9894952064737076,
          0.991234443619322,
          0.9926265753471335,
          0.9942128881910375,
          0.9940647301757132,
          0.9855952635389715,
          0.9970742140632901,
          0.9955796452955747,
          0.9476510408582669,
          0.9857257859381263,
          0.9921888737039032,
          0.9861403436779337,
          0.9879446084089154,
          0.9863173040513897,
          0.9937249983087028,
          0.9859954757273393,
          0.9865731721129302,
          0.9879617589657881,
          0.9934771681353874,
          0.9919247901657404,
          0.9815234689687478,
          0.9833342251304193,
          0.9868055203705244,
          0.993429387179609,
          0.9929003126778285,
          0.990245947682516,
          0.9894715513512404,
          0.9921702967928426,
          0.9935974086049211,
          0.9823611799460331,
          0.9845039417030264,
          0.9681917708020862,
          0.9711176941708114,
          0.9688654500608748,
          0.9692073620484756,
          0.9674069391960134,
          0.9705663470577018,
          0.9687814815813643,
          0.9699984052291327,
          0.96808186448902,
          0.9231911976924185,
          0.9678220171145608,
          0.9679120765625037,
          0.9666610114654131,
          0.9690330792802275,
          0.968310942115202,
          0.9167674200923616
         ],
         "yaxis": "y"
        },
        {
         "hovertemplate": "system_name=tum-esm-midcost-raspi-1<br>creation_timestamp=%{x}<br>slope=%{y}<extra></extra>",
         "legendgroup": "tum-esm-midcost-raspi-1",
         "line": {
          "color": "#FECB52",
          "dash": "solid"
         },
         "marker": {
          "symbol": "circle"
         },
         "mode": "lines+markers",
         "name": "tum-esm-midcost-raspi-1",
         "orientation": "v",
         "showlegend": true,
         "type": "scatter",
         "x": [
          "2023-07-06T00:00:00",
          "2023-07-08T00:00:00",
          "2023-07-09T00:00:00",
          "2023-07-12T00:00:00",
          "2023-07-13T00:00:00",
          "2023-07-14T00:00:00",
          "2023-07-15T00:00:00",
          "2023-07-16T00:00:00",
          "2023-07-17T00:00:00",
          "2023-07-18T00:00:00",
          "2023-07-19T00:00:00",
          "2023-07-20T00:00:00",
          "2023-07-21T00:00:00",
          "2023-07-23T00:00:00",
          "2023-07-24T00:00:00",
          "2023-07-25T00:00:00",
          "2023-07-26T00:00:00",
          "2023-07-27T00:00:00",
          "2023-07-28T00:00:00",
          "2023-07-29T00:00:00",
          "2023-07-30T00:00:00",
          "2023-07-31T00:00:00",
          "2023-08-01T00:00:00",
          "2023-08-02T00:00:00",
          "2023-08-03T00:00:00",
          "2023-08-04T00:00:00",
          "2023-08-05T00:00:00",
          "2023-08-06T00:00:00",
          "2023-08-07T00:00:00",
          "2023-09-07T00:00:00",
          "2023-09-08T00:00:00",
          "2023-09-09T00:00:00",
          "2023-09-11T00:00:00",
          "2023-09-12T00:00:00",
          "2023-09-13T00:00:00",
          "2023-09-14T00:00:00",
          "2023-09-15T00:00:00",
          "2023-09-16T00:00:00",
          "2023-09-17T00:00:00",
          "2023-09-18T00:00:00",
          "2023-09-19T00:00:00",
          "2023-09-20T00:00:00",
          "2023-09-21T00:00:00",
          "2023-10-12T00:00:00",
          "2023-10-13T00:00:00",
          "2023-10-14T00:00:00",
          "2023-10-15T00:00:00",
          "2023-10-16T00:00:00",
          "2023-10-17T00:00:00",
          "2023-10-18T00:00:00",
          "2023-10-19T00:00:00",
          "2023-10-20T00:00:00",
          "2023-10-21T00:00:00",
          "2023-10-22T00:00:00",
          "2023-10-23T00:00:00",
          "2023-10-24T00:00:00",
          "2023-10-25T00:00:00",
          "2023-10-26T00:00:00",
          "2023-10-27T00:00:00",
          "2023-10-28T00:00:00",
          "2023-10-29T00:00:00"
         ],
         "xaxis": "x",
         "y": [
          1.0181506860497977,
          1.010319443949604,
          1.012039788842209,
          1.0144301989915696,
          1.0190392226043954,
          1.0098315276967011,
          1.0160062752682009,
          1.0146206560291617,
          1.0128957839177888,
          1.012438127721517,
          1.0164021933991774,
          1.01787231290521,
          1.020603268116865,
          1.020143397943322,
          1.0187774915670482,
          1.022255458928162,
          1.0214096592137314,
          1.0280507127005019,
          0.9827679142401616,
          1.0244057604138086,
          1.0203536695310291,
          0.9674651748524835,
          1.0175002948488083,
          1.023361974765841,
          1.0177708502303922,
          1.0224904445190093,
          1.022128518025139,
          1.0223344974888342,
          1.0230276888762306,
          0.9660318479863875,
          1.0154686135138031,
          1.0069150982232575,
          1.0098752465643697,
          1.008337297872229,
          1.0085259497680532,
          1.01111788979707,
          1.0091669991443144,
          1.0062462179719234,
          1.0138919887780173,
          0.9677550609117019,
          1.012746616767745,
          1.0092480693773582,
          1.0120920418446016,
          0.97578281916997,
          1.0144785820150595,
          0.9712525764431176,
          1.0144694422675173,
          1.0146608295487567,
          1.0174954861439243,
          1.0163983752633203,
          1.018866747935745,
          1.0151300154695813,
          1.0167309524763952,
          1.0129291961054547,
          1.019880120932098,
          0.9982779855263316,
          0.9984009213004202,
          0.99401674731521,
          1.000704351759116,
          0.9968764950554186,
          0.9966994112400707
         ],
         "yaxis": "y"
        },
        {
         "hovertemplate": "system_name=tum-esm-midcost-raspi-13<br>creation_timestamp=%{x}<br>slope=%{y}<extra></extra>",
         "legendgroup": "tum-esm-midcost-raspi-13",
         "line": {
          "color": "#636efa",
          "dash": "solid"
         },
         "marker": {
          "symbol": "circle"
         },
         "mode": "lines+markers",
         "name": "tum-esm-midcost-raspi-13",
         "orientation": "v",
         "showlegend": true,
         "type": "scatter",
         "x": [
          "2023-08-07T00:00:00",
          "2023-08-08T00:00:00",
          "2023-08-09T00:00:00",
          "2023-08-10T00:00:00",
          "2023-08-11T00:00:00",
          "2023-08-12T00:00:00",
          "2023-08-13T00:00:00",
          "2023-08-14T00:00:00",
          "2023-08-17T00:00:00",
          "2023-10-12T00:00:00",
          "2023-10-13T00:00:00",
          "2023-10-14T00:00:00",
          "2023-10-15T00:00:00",
          "2023-10-16T00:00:00",
          "2023-10-17T00:00:00",
          "2023-10-18T00:00:00",
          "2023-10-19T00:00:00",
          "2023-10-20T00:00:00",
          "2023-10-21T00:00:00",
          "2023-10-22T00:00:00",
          "2023-10-23T00:00:00",
          "2023-10-24T00:00:00",
          "2023-10-25T00:00:00",
          "2023-10-26T00:00:00",
          "2023-10-27T00:00:00",
          "2023-10-28T00:00:00",
          "2023-10-29T00:00:00"
         ],
         "xaxis": "x",
         "y": [
          1.0319388621712904,
          1.0195980951072028,
          1.0243465717989466,
          1.0141698879250884,
          0.9736820851754915,
          1.0132543659967803,
          1.0114021265593371,
          1.0130932500047023,
          1.0136226620245743,
          1.0136284078325986,
          1.0178049421762683,
          0.9945136007964778,
          1.002284439348413,
          1.0005827065578976,
          1.0008805857428762,
          1.0005274205643717,
          1.0038339976542616,
          1.0003629983410085,
          1.0018005987088374,
          0.9972033304176144,
          1.0035396728830288,
          1.0023659765052637,
          1.0054287738503633,
          1.0014102766777164,
          1.0044080381710696,
          1.0052944386410778,
          1.0070982271241364
         ],
         "yaxis": "y"
        },
        {
         "hovertemplate": "system_name=tum-esm-midcost-raspi-12<br>creation_timestamp=%{x}<br>slope=%{y}<extra></extra>",
         "legendgroup": "tum-esm-midcost-raspi-12",
         "line": {
          "color": "#EF553B",
          "dash": "solid"
         },
         "marker": {
          "symbol": "circle"
         },
         "mode": "lines+markers",
         "name": "tum-esm-midcost-raspi-12",
         "orientation": "v",
         "showlegend": true,
         "type": "scatter",
         "x": [
          "2023-08-07T00:00:00",
          "2023-08-08T00:00:00",
          "2023-08-09T00:00:00",
          "2023-08-10T00:00:00",
          "2023-08-11T00:00:00",
          "2023-08-12T00:00:00",
          "2023-08-13T00:00:00",
          "2023-08-14T00:00:00",
          "2023-08-15T00:00:00",
          "2023-10-12T00:00:00",
          "2023-10-13T00:00:00",
          "2023-10-14T00:00:00",
          "2023-10-15T00:00:00",
          "2023-10-16T00:00:00",
          "2023-10-17T00:00:00",
          "2023-10-18T00:00:00",
          "2023-10-19T00:00:00",
          "2023-10-20T00:00:00",
          "2023-10-25T00:00:00",
          "2023-10-26T00:00:00",
          "2023-10-27T00:00:00",
          "2023-10-28T00:00:00",
          "2023-10-29T00:00:00"
         ],
         "xaxis": "x",
         "y": [
          1.000583685789952,
          1.0039143283367666,
          1.0002711207813235,
          1.0002812706364295,
          0.9593202836633198,
          0.9988326525721232,
          1.000126507723951,
          1.0007548296613609,
          0.9954192637001053,
          1.0062254694363753,
          0.9937523932423197,
          0.9838569611770743,
          0.986001689252696,
          0.9861597216515248,
          0.9898927895494131,
          0.9926923843058499,
          0.9976949508452343,
          0.9967334386975192,
          0.9583769720309152,
          0.9963405482988372,
          0.9947074966532505,
          0.9958169065421718,
          0.9965923474808879
         ],
         "yaxis": "y"
        },
        {
         "hovertemplate": "system_name=tum-esm-midcost-raspi-14<br>creation_timestamp=%{x}<br>slope=%{y}<extra></extra>",
         "legendgroup": "tum-esm-midcost-raspi-14",
         "line": {
          "color": "#00cc96",
          "dash": "solid"
         },
         "marker": {
          "symbol": "circle"
         },
         "mode": "lines+markers",
         "name": "tum-esm-midcost-raspi-14",
         "orientation": "v",
         "showlegend": true,
         "type": "scatter",
         "x": [
          "2023-08-07T00:00:00",
          "2023-08-08T00:00:00",
          "2023-08-09T00:00:00",
          "2023-08-10T00:00:00",
          "2023-08-11T00:00:00",
          "2023-08-12T00:00:00",
          "2023-08-13T00:00:00",
          "2023-08-14T00:00:00",
          "2023-08-15T00:00:00",
          "2023-08-17T00:00:00"
         ],
         "xaxis": "x",
         "y": [
          1.04120117234413,
          1.0319207466787528,
          1.0363094092930798,
          0.9769534557265304,
          1.027261134457545,
          1.0292438175462073,
          1.029471316704725,
          1.0256305911865666,
          0.9841025512774425,
          1.0322689756865528
         ],
         "yaxis": "y"
        },
        {
         "hovertemplate": "system_name=tum-esm-midcost-raspi-15<br>creation_timestamp=%{x}<br>slope=%{y}<extra></extra>",
         "legendgroup": "tum-esm-midcost-raspi-15",
         "line": {
          "color": "#ab63fa",
          "dash": "solid"
         },
         "marker": {
          "symbol": "circle"
         },
         "mode": "lines+markers",
         "name": "tum-esm-midcost-raspi-15",
         "orientation": "v",
         "showlegend": true,
         "type": "scatter",
         "x": [
          "2023-08-07T00:00:00",
          "2023-08-08T00:00:00",
          "2023-08-09T00:00:00",
          "2023-08-10T00:00:00",
          "2023-08-11T00:00:00",
          "2023-08-12T00:00:00",
          "2023-08-13T00:00:00",
          "2023-08-14T00:00:00",
          "2023-08-15T00:00:00",
          "2023-08-17T00:00:00"
         ],
         "xaxis": "x",
         "y": [
          0.9964352508466395,
          0.9914581949563007,
          0.9942727961321136,
          0.9906690821022933,
          0.991266421641659,
          0.9893846180777561,
          0.9900081704653234,
          0.9890238072380193,
          0.9915013723784283,
          0.9916446967560307
         ],
         "yaxis": "y"
        },
        {
         "hovertemplate": "system_name=tum-esm-midcost-raspi-18<br>creation_timestamp=%{x}<br>slope=%{y}<extra></extra>",
         "legendgroup": "tum-esm-midcost-raspi-18",
         "line": {
          "color": "#FFA15A",
          "dash": "solid"
         },
         "marker": {
          "symbol": "circle"
         },
         "mode": "lines+markers",
         "name": "tum-esm-midcost-raspi-18",
         "orientation": "v",
         "showlegend": true,
         "type": "scatter",
         "x": [
          "2023-08-09T00:00:00",
          "2023-08-10T00:00:00",
          "2023-08-11T00:00:00",
          "2023-08-12T00:00:00",
          "2023-08-13T00:00:00",
          "2023-08-14T00:00:00",
          "2023-08-15T00:00:00",
          "2023-08-17T00:00:00",
          "2023-10-12T00:00:00",
          "2023-10-13T00:00:00",
          "2023-10-14T00:00:00",
          "2023-10-15T00:00:00",
          "2023-10-16T00:00:00",
          "2023-10-17T00:00:00",
          "2023-10-18T00:00:00",
          "2023-10-19T00:00:00",
          "2023-10-20T00:00:00",
          "2023-10-21T00:00:00",
          "2023-10-22T00:00:00",
          "2023-10-23T00:00:00",
          "2023-10-26T00:00:00",
          "2023-10-27T00:00:00",
          "2023-10-28T00:00:00",
          "2023-10-29T00:00:00"
         ],
         "xaxis": "x",
         "y": [
          1.0266068456358528,
          1.03145902769153,
          1.0259326524421806,
          1.0286229987668436,
          0.9908755767749541,
          1.0278313570403483,
          1.0261182962358875,
          1.0280818933729636,
          1.0334288136613154,
          1.0328491591431963,
          1.010357518484979,
          1.0112476868835742,
          1.0092234080697944,
          1.009714189253038,
          0.977308488786197,
          1.0108966176812009,
          1.0140660427930652,
          1.012625945878568,
          1.011338288323426,
          1.0121317439742885,
          1.0149224248540032,
          1.0136777000440471,
          1.0134771864725793,
          1.0137226816111504
         ],
         "yaxis": "y"
        },
        {
         "hovertemplate": "system_name=tum-esm-midcost-raspi-20<br>creation_timestamp=%{x}<br>slope=%{y}<extra></extra>",
         "legendgroup": "tum-esm-midcost-raspi-20",
         "line": {
          "color": "#19d3f3",
          "dash": "solid"
         },
         "marker": {
          "symbol": "circle"
         },
         "mode": "lines+markers",
         "name": "tum-esm-midcost-raspi-20",
         "orientation": "v",
         "showlegend": true,
         "type": "scatter",
         "x": [
          "2023-08-09T00:00:00",
          "2023-08-10T00:00:00",
          "2023-08-11T00:00:00",
          "2023-08-12T00:00:00",
          "2023-08-13T00:00:00",
          "2023-08-14T00:00:00",
          "2023-08-15T00:00:00",
          "2023-08-17T00:00:00"
         ],
         "xaxis": "x",
         "y": [
          1.0288663330133396,
          1.0297617854845986,
          1.0258148600480705,
          1.027802445723422,
          1.026811616947971,
          1.0285378580864157,
          1.0246652087156445,
          1.0227917189077547
         ],
         "yaxis": "y"
        },
        {
         "hovertemplate": "system_name=tum-esm-midcost-raspi-16<br>creation_timestamp=%{x}<br>slope=%{y}<extra></extra>",
         "legendgroup": "tum-esm-midcost-raspi-16",
         "line": {
          "color": "#FF6692",
          "dash": "solid"
         },
         "marker": {
          "symbol": "circle"
         },
         "mode": "lines+markers",
         "name": "tum-esm-midcost-raspi-16",
         "orientation": "v",
         "showlegend": true,
         "type": "scatter",
         "x": [
          "2023-08-09T00:00:00",
          "2023-08-10T00:00:00",
          "2023-08-11T00:00:00",
          "2023-08-12T00:00:00",
          "2023-08-13T00:00:00",
          "2023-08-14T00:00:00",
          "2023-08-15T00:00:00",
          "2023-08-17T00:00:00",
          "2023-10-12T00:00:00",
          "2023-10-13T00:00:00",
          "2023-10-14T00:00:00",
          "2023-10-15T00:00:00",
          "2023-10-16T00:00:00",
          "2023-10-17T00:00:00",
          "2023-10-18T00:00:00",
          "2023-10-19T00:00:00",
          "2023-10-20T00:00:00",
          "2023-10-21T00:00:00",
          "2023-10-22T00:00:00",
          "2023-10-23T00:00:00",
          "2023-10-25T00:00:00",
          "2023-10-26T00:00:00",
          "2023-10-27T00:00:00",
          "2023-10-28T00:00:00",
          "2023-10-29T00:00:00"
         ],
         "xaxis": "x",
         "y": [
          1.0316464840594661,
          1.0263367031635287,
          1.032359441503185,
          1.0293145916637385,
          1.031991548004154,
          1.0348880445016735,
          1.0329984886190235,
          1.0314696821489462,
          1.0266784913994467,
          1.0280488764630513,
          0.977226124060116,
          1.012411769713603,
          1.0094165062255134,
          0.9621323208141072,
          1.0107861818845867,
          1.011044225640876,
          1.0099117186354178,
          1.0126217676247014,
          1.0072622400913953,
          1.0089564523565182,
          1.0109123732379495,
          1.0072945541839893,
          1.0101495521719792,
          1.0077493482600641,
          1.008377798460612
         ],
         "yaxis": "y"
        }
       ],
       "layout": {
        "legend": {
         "title": {
          "text": "system_name"
         },
         "tracegroupgap": 0
        },
        "template": {
         "data": {
          "bar": [
           {
            "error_x": {
             "color": "#2a3f5f"
            },
            "error_y": {
             "color": "#2a3f5f"
            },
            "marker": {
             "line": {
              "color": "#E5ECF6",
              "width": 0.5
             },
             "pattern": {
              "fillmode": "overlay",
              "size": 10,
              "solidity": 0.2
             }
            },
            "type": "bar"
           }
          ],
          "barpolar": [
           {
            "marker": {
             "line": {
              "color": "#E5ECF6",
              "width": 0.5
             },
             "pattern": {
              "fillmode": "overlay",
              "size": 10,
              "solidity": 0.2
             }
            },
            "type": "barpolar"
           }
          ],
          "carpet": [
           {
            "aaxis": {
             "endlinecolor": "#2a3f5f",
             "gridcolor": "white",
             "linecolor": "white",
             "minorgridcolor": "white",
             "startlinecolor": "#2a3f5f"
            },
            "baxis": {
             "endlinecolor": "#2a3f5f",
             "gridcolor": "white",
             "linecolor": "white",
             "minorgridcolor": "white",
             "startlinecolor": "#2a3f5f"
            },
            "type": "carpet"
           }
          ],
          "choropleth": [
           {
            "colorbar": {
             "outlinewidth": 0,
             "ticks": ""
            },
            "type": "choropleth"
           }
          ],
          "contour": [
           {
            "colorbar": {
             "outlinewidth": 0,
             "ticks": ""
            },
            "colorscale": [
             [
              0,
              "#0d0887"
             ],
             [
              0.1111111111111111,
              "#46039f"
             ],
             [
              0.2222222222222222,
              "#7201a8"
             ],
             [
              0.3333333333333333,
              "#9c179e"
             ],
             [
              0.4444444444444444,
              "#bd3786"
             ],
             [
              0.5555555555555556,
              "#d8576b"
             ],
             [
              0.6666666666666666,
              "#ed7953"
             ],
             [
              0.7777777777777778,
              "#fb9f3a"
             ],
             [
              0.8888888888888888,
              "#fdca26"
             ],
             [
              1,
              "#f0f921"
             ]
            ],
            "type": "contour"
           }
          ],
          "contourcarpet": [
           {
            "colorbar": {
             "outlinewidth": 0,
             "ticks": ""
            },
            "type": "contourcarpet"
           }
          ],
          "heatmap": [
           {
            "colorbar": {
             "outlinewidth": 0,
             "ticks": ""
            },
            "colorscale": [
             [
              0,
              "#0d0887"
             ],
             [
              0.1111111111111111,
              "#46039f"
             ],
             [
              0.2222222222222222,
              "#7201a8"
             ],
             [
              0.3333333333333333,
              "#9c179e"
             ],
             [
              0.4444444444444444,
              "#bd3786"
             ],
             [
              0.5555555555555556,
              "#d8576b"
             ],
             [
              0.6666666666666666,
              "#ed7953"
             ],
             [
              0.7777777777777778,
              "#fb9f3a"
             ],
             [
              0.8888888888888888,
              "#fdca26"
             ],
             [
              1,
              "#f0f921"
             ]
            ],
            "type": "heatmap"
           }
          ],
          "heatmapgl": [
           {
            "colorbar": {
             "outlinewidth": 0,
             "ticks": ""
            },
            "colorscale": [
             [
              0,
              "#0d0887"
             ],
             [
              0.1111111111111111,
              "#46039f"
             ],
             [
              0.2222222222222222,
              "#7201a8"
             ],
             [
              0.3333333333333333,
              "#9c179e"
             ],
             [
              0.4444444444444444,
              "#bd3786"
             ],
             [
              0.5555555555555556,
              "#d8576b"
             ],
             [
              0.6666666666666666,
              "#ed7953"
             ],
             [
              0.7777777777777778,
              "#fb9f3a"
             ],
             [
              0.8888888888888888,
              "#fdca26"
             ],
             [
              1,
              "#f0f921"
             ]
            ],
            "type": "heatmapgl"
           }
          ],
          "histogram": [
           {
            "marker": {
             "pattern": {
              "fillmode": "overlay",
              "size": 10,
              "solidity": 0.2
             }
            },
            "type": "histogram"
           }
          ],
          "histogram2d": [
           {
            "colorbar": {
             "outlinewidth": 0,
             "ticks": ""
            },
            "colorscale": [
             [
              0,
              "#0d0887"
             ],
             [
              0.1111111111111111,
              "#46039f"
             ],
             [
              0.2222222222222222,
              "#7201a8"
             ],
             [
              0.3333333333333333,
              "#9c179e"
             ],
             [
              0.4444444444444444,
              "#bd3786"
             ],
             [
              0.5555555555555556,
              "#d8576b"
             ],
             [
              0.6666666666666666,
              "#ed7953"
             ],
             [
              0.7777777777777778,
              "#fb9f3a"
             ],
             [
              0.8888888888888888,
              "#fdca26"
             ],
             [
              1,
              "#f0f921"
             ]
            ],
            "type": "histogram2d"
           }
          ],
          "histogram2dcontour": [
           {
            "colorbar": {
             "outlinewidth": 0,
             "ticks": ""
            },
            "colorscale": [
             [
              0,
              "#0d0887"
             ],
             [
              0.1111111111111111,
              "#46039f"
             ],
             [
              0.2222222222222222,
              "#7201a8"
             ],
             [
              0.3333333333333333,
              "#9c179e"
             ],
             [
              0.4444444444444444,
              "#bd3786"
             ],
             [
              0.5555555555555556,
              "#d8576b"
             ],
             [
              0.6666666666666666,
              "#ed7953"
             ],
             [
              0.7777777777777778,
              "#fb9f3a"
             ],
             [
              0.8888888888888888,
              "#fdca26"
             ],
             [
              1,
              "#f0f921"
             ]
            ],
            "type": "histogram2dcontour"
           }
          ],
          "mesh3d": [
           {
            "colorbar": {
             "outlinewidth": 0,
             "ticks": ""
            },
            "type": "mesh3d"
           }
          ],
          "parcoords": [
           {
            "line": {
             "colorbar": {
              "outlinewidth": 0,
              "ticks": ""
             }
            },
            "type": "parcoords"
           }
          ],
          "pie": [
           {
            "automargin": true,
            "type": "pie"
           }
          ],
          "scatter": [
           {
            "fillpattern": {
             "fillmode": "overlay",
             "size": 10,
             "solidity": 0.2
            },
            "type": "scatter"
           }
          ],
          "scatter3d": [
           {
            "line": {
             "colorbar": {
              "outlinewidth": 0,
              "ticks": ""
             }
            },
            "marker": {
             "colorbar": {
              "outlinewidth": 0,
              "ticks": ""
             }
            },
            "type": "scatter3d"
           }
          ],
          "scattercarpet": [
           {
            "marker": {
             "colorbar": {
              "outlinewidth": 0,
              "ticks": ""
             }
            },
            "type": "scattercarpet"
           }
          ],
          "scattergeo": [
           {
            "marker": {
             "colorbar": {
              "outlinewidth": 0,
              "ticks": ""
             }
            },
            "type": "scattergeo"
           }
          ],
          "scattergl": [
           {
            "marker": {
             "colorbar": {
              "outlinewidth": 0,
              "ticks": ""
             }
            },
            "type": "scattergl"
           }
          ],
          "scattermapbox": [
           {
            "marker": {
             "colorbar": {
              "outlinewidth": 0,
              "ticks": ""
             }
            },
            "type": "scattermapbox"
           }
          ],
          "scatterpolar": [
           {
            "marker": {
             "colorbar": {
              "outlinewidth": 0,
              "ticks": ""
             }
            },
            "type": "scatterpolar"
           }
          ],
          "scatterpolargl": [
           {
            "marker": {
             "colorbar": {
              "outlinewidth": 0,
              "ticks": ""
             }
            },
            "type": "scatterpolargl"
           }
          ],
          "scatterternary": [
           {
            "marker": {
             "colorbar": {
              "outlinewidth": 0,
              "ticks": ""
             }
            },
            "type": "scatterternary"
           }
          ],
          "surface": [
           {
            "colorbar": {
             "outlinewidth": 0,
             "ticks": ""
            },
            "colorscale": [
             [
              0,
              "#0d0887"
             ],
             [
              0.1111111111111111,
              "#46039f"
             ],
             [
              0.2222222222222222,
              "#7201a8"
             ],
             [
              0.3333333333333333,
              "#9c179e"
             ],
             [
              0.4444444444444444,
              "#bd3786"
             ],
             [
              0.5555555555555556,
              "#d8576b"
             ],
             [
              0.6666666666666666,
              "#ed7953"
             ],
             [
              0.7777777777777778,
              "#fb9f3a"
             ],
             [
              0.8888888888888888,
              "#fdca26"
             ],
             [
              1,
              "#f0f921"
             ]
            ],
            "type": "surface"
           }
          ],
          "table": [
           {
            "cells": {
             "fill": {
              "color": "#EBF0F8"
             },
             "line": {
              "color": "white"
             }
            },
            "header": {
             "fill": {
              "color": "#C8D4E3"
             },
             "line": {
              "color": "white"
             }
            },
            "type": "table"
           }
          ]
         },
         "layout": {
          "annotationdefaults": {
           "arrowcolor": "#2a3f5f",
           "arrowhead": 0,
           "arrowwidth": 1
          },
          "autotypenumbers": "strict",
          "coloraxis": {
           "colorbar": {
            "outlinewidth": 0,
            "ticks": ""
           }
          },
          "colorscale": {
           "diverging": [
            [
             0,
             "#8e0152"
            ],
            [
             0.1,
             "#c51b7d"
            ],
            [
             0.2,
             "#de77ae"
            ],
            [
             0.3,
             "#f1b6da"
            ],
            [
             0.4,
             "#fde0ef"
            ],
            [
             0.5,
             "#f7f7f7"
            ],
            [
             0.6,
             "#e6f5d0"
            ],
            [
             0.7,
             "#b8e186"
            ],
            [
             0.8,
             "#7fbc41"
            ],
            [
             0.9,
             "#4d9221"
            ],
            [
             1,
             "#276419"
            ]
           ],
           "sequential": [
            [
             0,
             "#0d0887"
            ],
            [
             0.1111111111111111,
             "#46039f"
            ],
            [
             0.2222222222222222,
             "#7201a8"
            ],
            [
             0.3333333333333333,
             "#9c179e"
            ],
            [
             0.4444444444444444,
             "#bd3786"
            ],
            [
             0.5555555555555556,
             "#d8576b"
            ],
            [
             0.6666666666666666,
             "#ed7953"
            ],
            [
             0.7777777777777778,
             "#fb9f3a"
            ],
            [
             0.8888888888888888,
             "#fdca26"
            ],
            [
             1,
             "#f0f921"
            ]
           ],
           "sequentialminus": [
            [
             0,
             "#0d0887"
            ],
            [
             0.1111111111111111,
             "#46039f"
            ],
            [
             0.2222222222222222,
             "#7201a8"
            ],
            [
             0.3333333333333333,
             "#9c179e"
            ],
            [
             0.4444444444444444,
             "#bd3786"
            ],
            [
             0.5555555555555556,
             "#d8576b"
            ],
            [
             0.6666666666666666,
             "#ed7953"
            ],
            [
             0.7777777777777778,
             "#fb9f3a"
            ],
            [
             0.8888888888888888,
             "#fdca26"
            ],
            [
             1,
             "#f0f921"
            ]
           ]
          },
          "colorway": [
           "#636efa",
           "#EF553B",
           "#00cc96",
           "#ab63fa",
           "#FFA15A",
           "#19d3f3",
           "#FF6692",
           "#B6E880",
           "#FF97FF",
           "#FECB52"
          ],
          "font": {
           "color": "#2a3f5f"
          },
          "geo": {
           "bgcolor": "white",
           "lakecolor": "white",
           "landcolor": "#E5ECF6",
           "showlakes": true,
           "showland": true,
           "subunitcolor": "white"
          },
          "hoverlabel": {
           "align": "left"
          },
          "hovermode": "closest",
          "mapbox": {
           "style": "light"
          },
          "paper_bgcolor": "white",
          "plot_bgcolor": "#E5ECF6",
          "polar": {
           "angularaxis": {
            "gridcolor": "white",
            "linecolor": "white",
            "ticks": ""
           },
           "bgcolor": "#E5ECF6",
           "radialaxis": {
            "gridcolor": "white",
            "linecolor": "white",
            "ticks": ""
           }
          },
          "scene": {
           "xaxis": {
            "backgroundcolor": "#E5ECF6",
            "gridcolor": "white",
            "gridwidth": 2,
            "linecolor": "white",
            "showbackground": true,
            "ticks": "",
            "zerolinecolor": "white"
           },
           "yaxis": {
            "backgroundcolor": "#E5ECF6",
            "gridcolor": "white",
            "gridwidth": 2,
            "linecolor": "white",
            "showbackground": true,
            "ticks": "",
            "zerolinecolor": "white"
           },
           "zaxis": {
            "backgroundcolor": "#E5ECF6",
            "gridcolor": "white",
            "gridwidth": 2,
            "linecolor": "white",
            "showbackground": true,
            "ticks": "",
            "zerolinecolor": "white"
           }
          },
          "shapedefaults": {
           "line": {
            "color": "#2a3f5f"
           }
          },
          "ternary": {
           "aaxis": {
            "gridcolor": "white",
            "linecolor": "white",
            "ticks": ""
           },
           "baxis": {
            "gridcolor": "white",
            "linecolor": "white",
            "ticks": ""
           },
           "bgcolor": "#E5ECF6",
           "caxis": {
            "gridcolor": "white",
            "linecolor": "white",
            "ticks": ""
           }
          },
          "title": {
           "x": 0.05
          },
          "xaxis": {
           "automargin": true,
           "gridcolor": "white",
           "linecolor": "white",
           "ticks": "",
           "title": {
            "standoff": 15
           },
           "zerolinecolor": "white",
           "zerolinewidth": 2
          },
          "yaxis": {
           "automargin": true,
           "gridcolor": "white",
           "linecolor": "white",
           "ticks": "",
           "title": {
            "standoff": 15
           },
           "zerolinecolor": "white",
           "zerolinewidth": 2
          }
         }
        },
        "title": {
         "text": "slope"
        },
        "xaxis": {
         "anchor": "y",
         "domain": [
          0,
          1
         ],
         "title": {
          "text": "creation_timestamp"
         }
        },
        "yaxis": {
         "anchor": "x",
         "domain": [
          0,
          1
         ],
         "title": {
          "text": "slope"
         }
        }
       }
      }
     },
     "metadata": {},
     "output_type": "display_data"
    },
    {
     "name": "stderr",
     "output_type": "stream",
     "text": [
      "/Users/patrickaigner/Documents/PROJECTS/ACROPOLIS/Software/acropolis-visualisation/.venv/lib/python3.11/site-packages/_plotly_utils/basevalidators.py:105: FutureWarning:\n",
      "\n",
      "The behavior of DatetimeProperties.to_pydatetime is deprecated, in a future version this will return a Series containing python datetime objects instead of an ndarray. To retain the old behavior, call `np.array` on the result\n",
      "\n"
     ]
    },
    {
     "data": {
      "application/vnd.plotly.v1+json": {
       "config": {
        "plotlyServerURL": "https://plot.ly"
       },
       "data": [
        {
         "hovertemplate": "system_name=tum-esm-midcost-raspi-7<br>creation_timestamp=%{x}<br>intercept=%{y}<extra></extra>",
         "legendgroup": "tum-esm-midcost-raspi-7",
         "line": {
          "color": "#636efa",
          "dash": "solid"
         },
         "marker": {
          "symbol": "circle"
         },
         "mode": "lines+markers",
         "name": "tum-esm-midcost-raspi-7",
         "orientation": "v",
         "showlegend": true,
         "type": "scatter",
         "x": [
          "2023-06-28T00:00:00",
          "2023-06-29T00:00:00",
          "2023-07-01T00:00:00",
          "2023-07-02T00:00:00",
          "2023-07-04T00:00:00",
          "2023-07-06T00:00:00",
          "2023-07-08T00:00:00",
          "2023-07-09T00:00:00",
          "2023-07-10T00:00:00",
          "2023-07-11T00:00:00",
          "2023-07-12T00:00:00",
          "2023-07-13T00:00:00",
          "2023-07-14T00:00:00",
          "2023-07-15T00:00:00",
          "2023-07-16T00:00:00",
          "2023-07-17T00:00:00",
          "2023-07-18T00:00:00",
          "2023-07-19T00:00:00",
          "2023-07-20T00:00:00",
          "2023-07-21T00:00:00",
          "2023-07-23T00:00:00",
          "2023-07-24T00:00:00",
          "2023-07-25T00:00:00",
          "2023-07-26T00:00:00",
          "2023-07-27T00:00:00",
          "2023-07-28T00:00:00",
          "2023-07-29T00:00:00",
          "2023-07-30T00:00:00",
          "2023-07-31T00:00:00",
          "2023-08-01T00:00:00",
          "2023-08-02T00:00:00",
          "2023-08-03T00:00:00",
          "2023-08-04T00:00:00",
          "2023-08-05T00:00:00",
          "2023-08-06T00:00:00",
          "2023-08-07T00:00:00",
          "2023-08-08T00:00:00",
          "2023-08-09T00:00:00",
          "2023-08-10T00:00:00",
          "2023-08-11T00:00:00",
          "2023-08-12T00:00:00",
          "2023-08-14T00:00:00",
          "2023-08-16T00:00:00",
          "2023-08-17T00:00:00",
          "2023-10-12T00:00:00",
          "2023-10-13T00:00:00",
          "2023-10-14T00:00:00",
          "2023-10-15T00:00:00"
         ],
         "xaxis": "x",
         "y": [
          -12.86459822718598,
          -11.001923301063982,
          -7.882310601695394,
          -6.715987633457473,
          -9.155519713953254,
          -9.557013736004365,
          -10.192236196883073,
          -12.045202539598051,
          -11.433418016646897,
          -10.142001128906486,
          -12.3731462168559,
          -12.773630958256888,
          -13.094270329260098,
          -9.024314726819,
          -10.825785161437011,
          -13.97062978756776,
          -8.431349838332437,
          -10.285570346128736,
          30.843155023533313,
          -9.982288530498124,
          -8.155174919974456,
          -7.813665124753754,
          -8.475431224860756,
          -6.5224118865284595,
          -4.755547256349018,
          -7.386839951806962,
          -10.156256155574226,
          -9.460343090482127,
          -12.074126091993776,
          20.9938049872967,
          -10.482378140371338,
          -10.828457952755286,
          -13.496444300591918,
          20.59760659699856,
          -8.317509106680745,
          -6.913362660814357,
          -13.717753946638311,
          -11.079864005062234,
          -10.299918012990702,
          -10.597110322846504,
          30.335150888730254,
          -10.164390240800913,
          -10.055543092119706,
          -6.843878766180012,
          -11.891103917766657,
          -11.54621564999752,
          -10.433546209344627,
          -8.513111566690668
         ],
         "yaxis": "y"
        },
        {
         "hovertemplate": "system_name=tum-esm-midcost-raspi-9<br>creation_timestamp=%{x}<br>intercept=%{y}<extra></extra>",
         "legendgroup": "tum-esm-midcost-raspi-9",
         "line": {
          "color": "#EF553B",
          "dash": "solid"
         },
         "marker": {
          "symbol": "circle"
         },
         "mode": "lines+markers",
         "name": "tum-esm-midcost-raspi-9",
         "orientation": "v",
         "showlegend": true,
         "type": "scatter",
         "x": [
          "2023-06-28T00:00:00",
          "2023-06-30T00:00:00",
          "2023-07-01T00:00:00",
          "2023-07-02T00:00:00",
          "2023-07-03T00:00:00",
          "2023-07-04T00:00:00",
          "2023-07-05T00:00:00",
          "2023-07-06T00:00:00",
          "2023-07-07T00:00:00",
          "2023-07-08T00:00:00",
          "2023-07-09T00:00:00",
          "2023-07-10T00:00:00",
          "2023-07-11T00:00:00",
          "2023-07-12T00:00:00",
          "2023-07-13T00:00:00",
          "2023-07-14T00:00:00",
          "2023-07-15T00:00:00",
          "2023-07-16T00:00:00",
          "2023-07-17T00:00:00",
          "2023-07-18T00:00:00",
          "2023-07-19T00:00:00",
          "2023-07-20T00:00:00",
          "2023-07-21T00:00:00",
          "2023-07-23T00:00:00",
          "2023-07-24T00:00:00",
          "2023-07-25T00:00:00",
          "2023-07-26T00:00:00",
          "2023-07-27T00:00:00",
          "2023-07-28T00:00:00",
          "2023-07-29T00:00:00",
          "2023-07-30T00:00:00",
          "2023-07-31T00:00:00",
          "2023-08-01T00:00:00",
          "2023-08-02T00:00:00",
          "2023-08-03T00:00:00",
          "2023-08-04T00:00:00",
          "2023-08-05T00:00:00",
          "2023-08-06T00:00:00",
          "2023-08-07T00:00:00",
          "2023-08-08T00:00:00",
          "2023-08-09T00:00:00",
          "2023-08-10T00:00:00",
          "2023-08-11T00:00:00",
          "2023-08-12T00:00:00",
          "2023-08-13T00:00:00",
          "2023-08-14T00:00:00",
          "2023-08-15T00:00:00",
          "2023-08-17T00:00:00"
         ],
         "xaxis": "x",
         "y": [
          -6.179632209590125,
          -6.943419917108201,
          -0.34562905021169854,
          -3.8080147820489856,
          -3.733504965170198,
          -2.3521255073995917,
          -9.638575224605347,
          -0.9656165976203965,
          -14.212765025808665,
          -8.516288942668496,
          -14.093852733187589,
          -13.396866367451992,
          -15.10582660448381,
          -13.33836004024272,
          -6.797293827270892,
          -12.90423357319736,
          28.793703172736343,
          -10.695106088183024,
          -11.34049867876189,
          -12.448591456105078,
          -9.566130831380804,
          -6.124729836364622,
          6.571422591909652,
          -2.9421264818058717,
          28.32026288401005,
          1.6014431854389954,
          15.771065531104625,
          35.512741824372085,
          8.572540970510943,
          2.2230720542532936,
          1.7063563029979036,
          -2.874072437590371,
          2.2944492497321676,
          6.404767955978684,
          29.337840569843934,
          -3.0548749452287325,
          34.82218553784077,
          12.16431938616114,
          8.474750477694158,
          -1.9848298316987893,
          3.35234997177065,
          -10.656294933201536,
          -12.389646662625921,
          -15.023792923277085,
          -11.785463793146448,
          -14.447103735221845,
          -9.900524650532077,
          -3.280784748647477
         ],
         "yaxis": "y"
        },
        {
         "hovertemplate": "system_name=tum-esm-midcost-raspi-2<br>creation_timestamp=%{x}<br>intercept=%{y}<extra></extra>",
         "legendgroup": "tum-esm-midcost-raspi-2",
         "line": {
          "color": "#00cc96",
          "dash": "solid"
         },
         "marker": {
          "symbol": "circle"
         },
         "mode": "lines+markers",
         "name": "tum-esm-midcost-raspi-2",
         "orientation": "v",
         "showlegend": true,
         "type": "scatter",
         "x": [
          "2023-06-29T00:00:00",
          "2023-07-01T00:00:00",
          "2023-07-02T00:00:00",
          "2023-07-03T00:00:00",
          "2023-07-04T00:00:00",
          "2023-07-05T00:00:00",
          "2023-07-08T00:00:00",
          "2023-07-09T00:00:00",
          "2023-07-11T00:00:00",
          "2023-07-12T00:00:00",
          "2023-07-13T00:00:00",
          "2023-07-14T00:00:00",
          "2023-07-15T00:00:00",
          "2023-07-16T00:00:00",
          "2023-07-17T00:00:00",
          "2023-07-18T00:00:00",
          "2023-07-19T00:00:00",
          "2023-07-20T00:00:00",
          "2023-07-21T00:00:00",
          "2023-07-23T00:00:00",
          "2023-07-24T00:00:00",
          "2023-07-25T00:00:00",
          "2023-07-26T00:00:00",
          "2023-07-27T00:00:00",
          "2023-07-28T00:00:00",
          "2023-07-29T00:00:00",
          "2023-09-18T00:00:00",
          "2023-09-19T00:00:00",
          "2023-09-20T00:00:00",
          "2023-09-21T00:00:00",
          "2023-10-12T00:00:00",
          "2023-10-13T00:00:00",
          "2023-10-14T00:00:00",
          "2023-10-15T00:00:00",
          "2023-10-16T00:00:00",
          "2023-10-17T00:00:00",
          "2023-10-18T00:00:00",
          "2023-10-19T00:00:00",
          "2023-10-20T00:00:00",
          "2023-10-21T00:00:00",
          "2023-10-22T00:00:00",
          "2023-10-23T00:00:00",
          "2023-10-25T00:00:00",
          "2023-10-26T00:00:00",
          "2023-10-27T00:00:00",
          "2023-10-28T00:00:00",
          "2023-10-29T00:00:00"
         ],
         "xaxis": "x",
         "y": [
          -9.449069156742837,
          -8.81643397896022,
          -9.381582554073702,
          -10.208370020517066,
          -8.386437559119997,
          -9.167279934413216,
          -8.881240965230916,
          -10.030594875902977,
          -9.91821784894131,
          -8.976792230307638,
          -10.601700769236402,
          -9.222385444679958,
          -10.270258272531123,
          -10.697627445001274,
          -9.763529969420574,
          -9.94235778523688,
          -9.902790405287703,
          -10.885110145968497,
          -11.431391510391393,
          -9.178419161949364,
          -9.401015087369842,
          -8.360110096268897,
          -10.92778631425955,
          -8.169771751797157,
          20.528046298560866,
          -9.90067583574961,
          -11.028812331519362,
          -12.177541758207042,
          -11.890524852501642,
          -10.425560406395277,
          -10.761366177556852,
          -11.666653025042137,
          -11.533823854440527,
          -12.076064715132418,
          -10.862220213838668,
          -13.13958422000752,
          -12.13100857978759,
          -11.362870501860812,
          -11.119027174874986,
          -11.057061384349879,
          -11.523612367909152,
          -11.982149877379356,
          -11.192633671620456,
          -8.856907118179663,
          -12.843297851576494,
          -11.922918029877735,
          -10.625080793483107
         ],
         "yaxis": "y"
        },
        {
         "hovertemplate": "system_name=tum-esm-midcost-raspi-5<br>creation_timestamp=%{x}<br>intercept=%{y}<extra></extra>",
         "legendgroup": "tum-esm-midcost-raspi-5",
         "line": {
          "color": "#ab63fa",
          "dash": "solid"
         },
         "marker": {
          "symbol": "circle"
         },
         "mode": "lines+markers",
         "name": "tum-esm-midcost-raspi-5",
         "orientation": "v",
         "showlegend": true,
         "type": "scatter",
         "x": [
          "2023-06-29T00:00:00",
          "2023-06-30T00:00:00",
          "2023-07-02T00:00:00",
          "2023-07-03T00:00:00",
          "2023-07-04T00:00:00",
          "2023-07-05T00:00:00",
          "2023-07-08T00:00:00",
          "2023-07-10T00:00:00",
          "2023-07-11T00:00:00",
          "2023-07-12T00:00:00",
          "2023-07-13T00:00:00",
          "2023-07-14T00:00:00",
          "2023-07-15T00:00:00",
          "2023-07-16T00:00:00",
          "2023-07-17T00:00:00",
          "2023-07-18T00:00:00",
          "2023-07-19T00:00:00",
          "2023-07-20T00:00:00",
          "2023-07-21T00:00:00",
          "2023-07-23T00:00:00",
          "2023-07-24T00:00:00",
          "2023-07-25T00:00:00",
          "2023-07-26T00:00:00",
          "2023-07-27T00:00:00",
          "2023-07-28T00:00:00",
          "2023-07-29T00:00:00",
          "2023-07-30T00:00:00",
          "2023-07-31T00:00:00",
          "2023-08-01T00:00:00",
          "2023-08-02T00:00:00",
          "2023-08-03T00:00:00",
          "2023-08-04T00:00:00",
          "2023-08-05T00:00:00",
          "2023-08-06T00:00:00",
          "2023-08-07T00:00:00",
          "2023-08-08T00:00:00",
          "2023-08-09T00:00:00",
          "2023-08-10T00:00:00",
          "2023-08-11T00:00:00",
          "2023-08-12T00:00:00",
          "2023-08-13T00:00:00",
          "2023-08-14T00:00:00",
          "2023-08-15T00:00:00",
          "2023-08-17T00:00:00",
          "2023-10-11T00:00:00",
          "2023-10-12T00:00:00",
          "2023-10-13T00:00:00",
          "2023-10-14T00:00:00",
          "2023-10-15T00:00:00"
         ],
         "xaxis": "x",
         "y": [
          0.5381113968283557,
          3.9362317794833075,
          3.5374528959580402,
          0.5902827766934706,
          1.2824873456913224,
          -0.44453660958834007,
          1.392146490652408,
          4.913360771185523,
          2.273231235822095,
          1.9637430046590225,
          -1.6456100885993123,
          3.2113165548717575,
          1.9527524602059998,
          3.3740971030285323,
          2.742609619249265,
          2.850521958526656,
          3.33527775451023,
          2.3341482096302,
          4.295691605874254,
          3.870516037643995,
          6.95082112169041,
          -0.0035584689582037754,
          4.935497022431548,
          -0.5372638216251744,
          31.56412656369298,
          1.852262517853319,
          4.821497444437057,
          -0.9859699462988374,
          1.8911167579963717,
          -1.1771683387729013,
          1.2772827166783145,
          -0.6985124438799062,
          0.8810616364537509,
          0.45647627509680433,
          -1.187916809768467,
          -1.0091873109280414,
          3.1602856843646805,
          1.7107841557279926,
          3.416285297749937,
          2.5418550013822028,
          3.637536227440819,
          3.6901027027455484,
          5.228628247985739,
          6.3530412771597184,
          0.7419465399751175,
          32.36161335721209,
          1.481570084560758,
          3.01239608048661,
          37.06074171037329
         ],
         "yaxis": "y"
        },
        {
         "hovertemplate": "system_name=tum-esm-midcost-raspi-8<br>creation_timestamp=%{x}<br>intercept=%{y}<extra></extra>",
         "legendgroup": "tum-esm-midcost-raspi-8",
         "line": {
          "color": "#FFA15A",
          "dash": "solid"
         },
         "marker": {
          "symbol": "circle"
         },
         "mode": "lines+markers",
         "name": "tum-esm-midcost-raspi-8",
         "orientation": "v",
         "showlegend": true,
         "type": "scatter",
         "x": [
          "2023-06-29T00:00:00",
          "2023-06-30T00:00:00",
          "2023-07-02T00:00:00",
          "2023-07-03T00:00:00",
          "2023-07-05T00:00:00",
          "2023-07-07T00:00:00",
          "2023-07-08T00:00:00",
          "2023-07-10T00:00:00",
          "2023-07-11T00:00:00",
          "2023-07-12T00:00:00",
          "2023-07-13T00:00:00",
          "2023-07-14T00:00:00",
          "2023-07-15T00:00:00",
          "2023-07-16T00:00:00",
          "2023-07-17T00:00:00",
          "2023-07-18T00:00:00",
          "2023-07-19T00:00:00",
          "2023-07-20T00:00:00",
          "2023-07-21T00:00:00",
          "2023-07-23T00:00:00",
          "2023-07-24T00:00:00",
          "2023-07-25T00:00:00",
          "2023-07-26T00:00:00",
          "2023-07-27T00:00:00",
          "2023-07-28T00:00:00",
          "2023-07-29T00:00:00",
          "2023-07-30T00:00:00",
          "2023-07-31T00:00:00",
          "2023-08-01T00:00:00",
          "2023-08-02T00:00:00",
          "2023-08-03T00:00:00",
          "2023-08-04T00:00:00",
          "2023-08-05T00:00:00",
          "2023-08-06T00:00:00",
          "2023-08-07T00:00:00",
          "2023-10-12T00:00:00",
          "2023-10-13T00:00:00",
          "2023-10-14T00:00:00",
          "2023-10-15T00:00:00",
          "2023-10-16T00:00:00",
          "2023-10-17T00:00:00",
          "2023-10-18T00:00:00",
          "2023-10-19T00:00:00",
          "2023-10-20T00:00:00",
          "2023-10-21T00:00:00",
          "2023-10-22T00:00:00",
          "2023-10-23T00:00:00"
         ],
         "xaxis": "x",
         "y": [
          -14.53046397709005,
          -10.637786427235994,
          -7.470939829416523,
          -13.980661716846726,
          -13.934385450295906,
          -18.423843537882703,
          -12.853554067463108,
          -17.656040194902744,
          -18.112542041586835,
          -15.998344527710344,
          -16.378914134907518,
          -15.059760987472146,
          -19.25242149546176,
          -12.071979707722676,
          -14.721880050341497,
          -12.046562854748117,
          -14.636518740637769,
          -9.717589309594132,
          23.1297787639063,
          -9.259897889633521,
          -9.833529374198747,
          -9.162818262499172,
          -0.5953125497206884,
          0.298905052959924,
          -4.288843200967733,
          -7.421535171016501,
          22.59904555351676,
          -12.83795374016762,
          -6.7997233207942145,
          31.200591597251446,
          -10.069296678402736,
          -13.806988194967687,
          -5.604326479373356,
          -6.296857254075178,
          -6.55515148140438,
          -16.91881984521092,
          22.72834638380948,
          -15.944234862851943,
          -17.076369063662867,
          -13.232120850546778,
          4.805842297858078,
          -12.400684233093216,
          -16.133703040885337,
          -15.615340138696979,
          -16.725035001336835,
          -15.732580803992278,
          -14.971754999574443
         ],
         "yaxis": "y"
        },
        {
         "hovertemplate": "system_name=tum-esm-midcost-raspi-10<br>creation_timestamp=%{x}<br>intercept=%{y}<extra></extra>",
         "legendgroup": "tum-esm-midcost-raspi-10",
         "line": {
          "color": "#19d3f3",
          "dash": "solid"
         },
         "marker": {
          "symbol": "circle"
         },
         "mode": "lines+markers",
         "name": "tum-esm-midcost-raspi-10",
         "orientation": "v",
         "showlegend": true,
         "type": "scatter",
         "x": [
          "2023-06-30T00:00:00",
          "2023-07-01T00:00:00",
          "2023-07-02T00:00:00",
          "2023-07-04T00:00:00",
          "2023-07-05T00:00:00",
          "2023-07-06T00:00:00",
          "2023-07-07T00:00:00",
          "2023-07-08T00:00:00",
          "2023-07-09T00:00:00",
          "2023-07-10T00:00:00",
          "2023-07-11T00:00:00",
          "2023-07-12T00:00:00",
          "2023-07-13T00:00:00",
          "2023-07-14T00:00:00",
          "2023-07-15T00:00:00",
          "2023-07-16T00:00:00",
          "2023-07-17T00:00:00",
          "2023-07-18T00:00:00",
          "2023-07-19T00:00:00",
          "2023-07-20T00:00:00",
          "2023-07-21T00:00:00",
          "2023-07-23T00:00:00",
          "2023-07-24T00:00:00",
          "2023-07-25T00:00:00",
          "2023-07-26T00:00:00",
          "2023-07-27T00:00:00",
          "2023-07-28T00:00:00",
          "2023-07-29T00:00:00",
          "2023-07-30T00:00:00",
          "2023-07-31T00:00:00",
          "2023-08-01T00:00:00",
          "2023-08-02T00:00:00",
          "2023-08-03T00:00:00",
          "2023-10-13T00:00:00",
          "2023-10-14T00:00:00",
          "2023-10-15T00:00:00",
          "2023-10-16T00:00:00",
          "2023-10-17T00:00:00",
          "2023-10-18T00:00:00",
          "2023-10-19T00:00:00",
          "2023-10-20T00:00:00",
          "2023-10-21T00:00:00",
          "2023-10-22T00:00:00",
          "2023-10-23T00:00:00",
          "2023-10-24T00:00:00",
          "2023-10-25T00:00:00",
          "2023-10-26T00:00:00",
          "2023-10-27T00:00:00",
          "2023-10-28T00:00:00",
          "2023-10-29T00:00:00"
         ],
         "xaxis": "x",
         "y": [
          1224.756667712308,
          1217.9323662164084,
          1214.5562917646291,
          1215.7882592687192,
          1220.0764390555764,
          -5.742202043668499,
          -6.857572080438501,
          -8.959774081093542,
          -8.3625979206505,
          -7.080119486965714,
          -8.807799063198956,
          -6.52158222234749,
          -6.226332522509665,
          -9.21516346170722,
          20.10943399530362,
          -7.547309998084813,
          -5.73872291234477,
          -6.603386697455562,
          26.428189248546573,
          -3.1042535435393006,
          -3.8563801670073303,
          1.0524496468389657,
          -6.093625380261074,
          -6.1594230300040635,
          -3.194324208252681,
          30.4384184643186,
          -4.93648731056453,
          -5.106276140397881,
          -8.893927081499498,
          -3.8129566512437236,
          -5.670590254861963,
          -2.9724016465684144,
          -10.645517354917786,
          -3.9669595410180705,
          -1.399857519724037,
          -2.603091669510775,
          -0.928053080676591,
          -2.7787736700358323,
          -2.5728395779192397,
          -3.2088791517259097,
          -3.4415706422258268,
          -3.4127998658028673,
          -2.097705341499932,
          -3.363755392070402,
          -4.9039361824874845,
          -3.702470535940563,
          -2.9533020818154796,
          -5.728969897678837,
          -5.713799911283786,
          -5.669045605472377
         ],
         "yaxis": "y"
        },
        {
         "hovertemplate": "system_name=tum-esm-midcost-raspi-3<br>creation_timestamp=%{x}<br>intercept=%{y}<extra></extra>",
         "legendgroup": "tum-esm-midcost-raspi-3",
         "line": {
          "color": "#FF6692",
          "dash": "solid"
         },
         "marker": {
          "symbol": "circle"
         },
         "mode": "lines+markers",
         "name": "tum-esm-midcost-raspi-3",
         "orientation": "v",
         "showlegend": true,
         "type": "scatter",
         "x": [
          "2023-07-05T00:00:00",
          "2023-07-06T00:00:00",
          "2023-07-08T00:00:00",
          "2023-07-09T00:00:00",
          "2023-07-11T00:00:00",
          "2023-07-12T00:00:00",
          "2023-07-13T00:00:00",
          "2023-07-14T00:00:00",
          "2023-07-15T00:00:00",
          "2023-07-16T00:00:00",
          "2023-07-17T00:00:00",
          "2023-07-18T00:00:00",
          "2023-07-19T00:00:00",
          "2023-07-20T00:00:00",
          "2023-07-21T00:00:00",
          "2023-07-23T00:00:00",
          "2023-07-24T00:00:00",
          "2023-07-25T00:00:00",
          "2023-07-26T00:00:00",
          "2023-07-27T00:00:00",
          "2023-07-28T00:00:00",
          "2023-07-29T00:00:00",
          "2023-07-30T00:00:00",
          "2023-07-31T00:00:00",
          "2023-08-01T00:00:00",
          "2023-08-02T00:00:00",
          "2023-08-03T00:00:00",
          "2023-08-04T00:00:00",
          "2023-08-05T00:00:00",
          "2023-08-06T00:00:00",
          "2023-08-07T00:00:00",
          "2023-09-19T00:00:00",
          "2023-09-20T00:00:00",
          "2023-09-21T00:00:00"
         ],
         "xaxis": "x",
         "y": [
          -11.798200618022406,
          -10.925301637726534,
          -8.669239616603079,
          -13.165597421339271,
          -11.38636941289559,
          -10.93488541600675,
          -10.359007194794458,
          -11.135706518515917,
          -11.525433575720967,
          -10.626878496870575,
          -7.918064769559351,
          -7.941668801430126,
          -11.124118954593769,
          30.26383426421347,
          -6.660950369789305,
          -7.425747234256221,
          -6.402783851936817,
          -8.8393236084882,
          22.88459924652841,
          -9.111920441910854,
          -7.090050514194218,
          -8.310003905585233,
          -6.19090380020242,
          -9.259011572675831,
          -7.63268836472264,
          -8.753049262897832,
          -10.129085923802393,
          -11.02360850403528,
          -7.844825116987181,
          -9.880051673000537,
          -6.773991533934861,
          25.707497080934274,
          26.91166822020864,
          25.63461164400752
         ],
         "yaxis": "y"
        },
        {
         "hovertemplate": "system_name=tum-esm-midcost-raspi-6<br>creation_timestamp=%{x}<br>intercept=%{y}<extra></extra>",
         "legendgroup": "tum-esm-midcost-raspi-6",
         "line": {
          "color": "#B6E880",
          "dash": "solid"
         },
         "marker": {
          "symbol": "circle"
         },
         "mode": "lines+markers",
         "name": "tum-esm-midcost-raspi-6",
         "orientation": "v",
         "showlegend": true,
         "type": "scatter",
         "x": [
          "2023-07-05T00:00:00",
          "2023-07-06T00:00:00",
          "2023-07-07T00:00:00",
          "2023-07-08T00:00:00",
          "2023-07-10T00:00:00",
          "2023-07-11T00:00:00",
          "2023-07-12T00:00:00",
          "2023-07-13T00:00:00",
          "2023-07-14T00:00:00",
          "2023-07-15T00:00:00",
          "2023-07-16T00:00:00",
          "2023-07-17T00:00:00",
          "2023-07-18T00:00:00",
          "2023-07-19T00:00:00",
          "2023-07-20T00:00:00",
          "2023-07-21T00:00:00",
          "2023-07-22T00:00:00",
          "2023-07-24T00:00:00",
          "2023-07-25T00:00:00",
          "2023-07-26T00:00:00",
          "2023-07-27T00:00:00",
          "2023-07-28T00:00:00",
          "2023-07-29T00:00:00",
          "2023-07-30T00:00:00",
          "2023-07-31T00:00:00",
          "2023-08-01T00:00:00",
          "2023-08-02T00:00:00",
          "2023-08-03T00:00:00",
          "2023-08-04T00:00:00",
          "2023-08-05T00:00:00",
          "2023-08-06T00:00:00",
          "2023-08-07T00:00:00",
          "2023-08-08T00:00:00",
          "2023-08-09T00:00:00",
          "2023-08-10T00:00:00",
          "2023-08-11T00:00:00",
          "2023-08-12T00:00:00",
          "2023-08-13T00:00:00",
          "2023-08-14T00:00:00",
          "2023-08-15T00:00:00",
          "2023-08-16T00:00:00",
          "2023-10-13T00:00:00",
          "2023-10-14T00:00:00",
          "2023-10-15T00:00:00",
          "2023-10-16T00:00:00",
          "2023-10-17T00:00:00",
          "2023-10-18T00:00:00",
          "2023-10-19T00:00:00",
          "2023-10-20T00:00:00",
          "2023-10-21T00:00:00",
          "2023-10-22T00:00:00",
          "2023-10-23T00:00:00",
          "2023-10-25T00:00:00",
          "2023-10-26T00:00:00",
          "2023-10-27T00:00:00",
          "2023-10-28T00:00:00",
          "2023-10-29T00:00:00"
         ],
         "xaxis": "x",
         "y": [
          12.531731717315324,
          9.614194779592026,
          9.791137774008291,
          6.737102897829743,
          6.566993750552115,
          5.823221770033456,
          8.963070101961534,
          10.191982812976732,
          7.350110231173005,
          5.262844288460883,
          7.799933685346559,
          8.39614604216672,
          8.173420300995588,
          36.75466719457586,
          11.742179001279055,
          11.874971912045055,
          14.571806021422901,
          9.98611636112895,
          11.876278065468853,
          13.132123807979838,
          16.68516550103743,
          12.047039293808837,
          13.254469099677749,
          47.99529768645476,
          12.063814852348855,
          11.26622598234843,
          15.747810998428065,
          10.28073236683764,
          11.420467077642343,
          10.62849070376825,
          15.234865135534505,
          11.355903174765558,
          9.10528898996023,
          11.288533279385433,
          8.581919133182737,
          9.21533769375128,
          7.835159260453111,
          9.174560824017135,
          8.711398226609845,
          9.172333576780773,
          9.889947405652265,
          7.482820982706869,
          6.296884370636462,
          6.517867340772739,
          5.122612660121376,
          7.430282590127831,
          5.695234903205119,
          7.653239730765563,
          43.42065897420787,
          8.242864489061049,
          6.26106491968693,
          6.104188911004883,
          782.2133484899421,
          782.1275496964212,
          782.1615793541833,
          782.1256222401852,
          782.2306490566774
         ],
         "yaxis": "y"
        },
        {
         "hovertemplate": "system_name=tum-esm-midcost-raspi-11<br>creation_timestamp=%{x}<br>intercept=%{y}<extra></extra>",
         "legendgroup": "tum-esm-midcost-raspi-11",
         "line": {
          "color": "#FF97FF",
          "dash": "solid"
         },
         "marker": {
          "symbol": "circle"
         },
         "mode": "lines+markers",
         "name": "tum-esm-midcost-raspi-11",
         "orientation": "v",
         "showlegend": true,
         "type": "scatter",
         "x": [
          "2023-07-06T00:00:00",
          "2023-07-07T00:00:00",
          "2023-07-10T00:00:00",
          "2023-07-11T00:00:00",
          "2023-07-12T00:00:00",
          "2023-07-13T00:00:00",
          "2023-07-14T00:00:00",
          "2023-07-15T00:00:00",
          "2023-07-16T00:00:00",
          "2023-07-17T00:00:00",
          "2023-07-18T00:00:00",
          "2023-07-19T00:00:00",
          "2023-07-20T00:00:00",
          "2023-07-21T00:00:00",
          "2023-07-23T00:00:00",
          "2023-07-24T00:00:00",
          "2023-07-25T00:00:00",
          "2023-07-26T00:00:00",
          "2023-07-27T00:00:00",
          "2023-07-28T00:00:00",
          "2023-07-29T00:00:00",
          "2023-07-30T00:00:00",
          "2023-07-31T00:00:00",
          "2023-08-01T00:00:00",
          "2023-08-02T00:00:00",
          "2023-08-03T00:00:00",
          "2023-08-04T00:00:00",
          "2023-08-05T00:00:00",
          "2023-08-06T00:00:00",
          "2023-08-07T00:00:00",
          "2023-08-08T00:00:00",
          "2023-08-09T00:00:00",
          "2023-08-10T00:00:00",
          "2023-08-11T00:00:00",
          "2023-08-12T00:00:00",
          "2023-08-13T00:00:00",
          "2023-08-14T00:00:00",
          "2023-08-15T00:00:00",
          "2023-08-17T00:00:00",
          "2023-10-12T00:00:00",
          "2023-10-13T00:00:00",
          "2023-10-14T00:00:00",
          "2023-10-15T00:00:00",
          "2023-10-16T00:00:00",
          "2023-10-17T00:00:00",
          "2023-10-18T00:00:00",
          "2023-10-19T00:00:00",
          "2023-10-20T00:00:00",
          "2023-10-21T00:00:00",
          "2023-10-22T00:00:00",
          "2023-10-23T00:00:00",
          "2023-10-24T00:00:00",
          "2023-10-25T00:00:00",
          "2023-10-26T00:00:00",
          "2023-10-27T00:00:00",
          "2023-10-28T00:00:00",
          "2023-10-29T00:00:00"
         ],
         "xaxis": "x",
         "y": [
          7.719551731701642,
          6.786653558544458,
          7.679549049062928,
          7.404642743790816,
          8.271468519095322,
          8.703512104922197,
          8.62433810307408,
          8.598715485000298,
          11.359858654344293,
          51.8861692801467,
          11.94272847042663,
          10.73039135191084,
          10.625217684907398,
          13.843002023085774,
          11.802104439278935,
          15.811772723265904,
          10.990155849442772,
          14.620460641181467,
          53.305826863495724,
          14.420665514685481,
          10.42845290143282,
          11.126922783741918,
          9.721373146973349,
          11.53818866125141,
          10.823919783265296,
          9.256492808235805,
          8.43484085861786,
          12.549703842130782,
          12.510541084851809,
          10.29889291191239,
          8.953163735536862,
          13.662836076294639,
          7.724428462796652,
          8.256849263442632,
          8.319195602355194,
          12.396736592027992,
          10.028429727993114,
          12.585696331015413,
          9.78306176284417,
          4.62542726261762,
          5.697473130435242,
          7.248858907368174,
          7.42665929162456,
          7.39643212138634,
          6.251947815235326,
          7.363910536086848,
          3.9101499903840704,
          4.545286046054116,
          3.8412393662183604,
          5.486447794701974,
          42.71828749482563,
          6.681823031516217,
          4.622543612020365,
          6.175756872883483,
          5.170163706614403,
          3.167341691167678,
          45.75313658918839
         ],
         "yaxis": "y"
        },
        {
         "hovertemplate": "system_name=tum-esm-midcost-raspi-1<br>creation_timestamp=%{x}<br>intercept=%{y}<extra></extra>",
         "legendgroup": "tum-esm-midcost-raspi-1",
         "line": {
          "color": "#FECB52",
          "dash": "solid"
         },
         "marker": {
          "symbol": "circle"
         },
         "mode": "lines+markers",
         "name": "tum-esm-midcost-raspi-1",
         "orientation": "v",
         "showlegend": true,
         "type": "scatter",
         "x": [
          "2023-07-06T00:00:00",
          "2023-07-08T00:00:00",
          "2023-07-09T00:00:00",
          "2023-07-12T00:00:00",
          "2023-07-13T00:00:00",
          "2023-07-14T00:00:00",
          "2023-07-15T00:00:00",
          "2023-07-16T00:00:00",
          "2023-07-17T00:00:00",
          "2023-07-18T00:00:00",
          "2023-07-19T00:00:00",
          "2023-07-20T00:00:00",
          "2023-07-21T00:00:00",
          "2023-07-23T00:00:00",
          "2023-07-24T00:00:00",
          "2023-07-25T00:00:00",
          "2023-07-26T00:00:00",
          "2023-07-27T00:00:00",
          "2023-07-28T00:00:00",
          "2023-07-29T00:00:00",
          "2023-07-30T00:00:00",
          "2023-07-31T00:00:00",
          "2023-08-01T00:00:00",
          "2023-08-02T00:00:00",
          "2023-08-03T00:00:00",
          "2023-08-04T00:00:00",
          "2023-08-05T00:00:00",
          "2023-08-06T00:00:00",
          "2023-08-07T00:00:00",
          "2023-09-07T00:00:00",
          "2023-09-08T00:00:00",
          "2023-09-09T00:00:00",
          "2023-09-11T00:00:00",
          "2023-09-12T00:00:00",
          "2023-09-13T00:00:00",
          "2023-09-14T00:00:00",
          "2023-09-15T00:00:00",
          "2023-09-16T00:00:00",
          "2023-09-17T00:00:00",
          "2023-09-18T00:00:00",
          "2023-09-19T00:00:00",
          "2023-09-20T00:00:00",
          "2023-09-21T00:00:00",
          "2023-10-12T00:00:00",
          "2023-10-13T00:00:00",
          "2023-10-14T00:00:00",
          "2023-10-15T00:00:00",
          "2023-10-16T00:00:00",
          "2023-10-17T00:00:00",
          "2023-10-18T00:00:00",
          "2023-10-19T00:00:00",
          "2023-10-20T00:00:00",
          "2023-10-21T00:00:00",
          "2023-10-22T00:00:00",
          "2023-10-23T00:00:00",
          "2023-10-24T00:00:00",
          "2023-10-25T00:00:00",
          "2023-10-26T00:00:00",
          "2023-10-27T00:00:00",
          "2023-10-28T00:00:00",
          "2023-10-29T00:00:00"
         ],
         "xaxis": "x",
         "y": [
          -17.674708936462252,
          -17.451275951825153,
          -20.570381340588654,
          -19.77411034690141,
          -19.481292934106705,
          -19.616424671839297,
          -21.325597610393288,
          -18.092656656067504,
          -17.605369872279596,
          -16.509407831979843,
          -18.386575094997,
          -16.295290259980447,
          -13.777432812951702,
          -16.35129364681518,
          -16.21030285444425,
          -16.212573190837077,
          -11.792930906286017,
          -15.209376521427487,
          13.751994871931913,
          -18.210279482668227,
          -17.425198464282687,
          25.037840154678634,
          -16.513776029466726,
          -18.164411712028027,
          -18.86653517837732,
          -20.834545168396687,
          -17.14715359314482,
          -16.3765808919552,
          -17.494636167536157,
          16.659343921400932,
          -25.21069252440543,
          -21.797512284467473,
          -23.947630850761072,
          -23.152042270758784,
          -23.80840407302884,
          -23.766721750162503,
          -24.662727478507747,
          -22.272842051866178,
          -27.121839775544856,
          9.199055381990775,
          -25.466437662231954,
          -24.129637829261355,
          -26.436098799279193,
          6.094464687653783,
          -25.546765826716978,
          8.011333603444768,
          -24.66453598181721,
          -24.38749432675303,
          -27.055785702081664,
          -26.584523665436848,
          -28.453586610583955,
          -25.73068906433639,
          -27.653884608633632,
          -26.299364504452228,
          -29.532182780508606,
          -26.457451466253247,
          -28.172958342395702,
          -24.764877159570972,
          -29.394522571299433,
          -26.774168486665246,
          -27.012043411813124
         ],
         "yaxis": "y"
        },
        {
         "hovertemplate": "system_name=tum-esm-midcost-raspi-13<br>creation_timestamp=%{x}<br>intercept=%{y}<extra></extra>",
         "legendgroup": "tum-esm-midcost-raspi-13",
         "line": {
          "color": "#636efa",
          "dash": "solid"
         },
         "marker": {
          "symbol": "circle"
         },
         "mode": "lines+markers",
         "name": "tum-esm-midcost-raspi-13",
         "orientation": "v",
         "showlegend": true,
         "type": "scatter",
         "x": [
          "2023-08-07T00:00:00",
          "2023-08-08T00:00:00",
          "2023-08-09T00:00:00",
          "2023-08-10T00:00:00",
          "2023-08-11T00:00:00",
          "2023-08-12T00:00:00",
          "2023-08-13T00:00:00",
          "2023-08-14T00:00:00",
          "2023-08-17T00:00:00",
          "2023-10-12T00:00:00",
          "2023-10-13T00:00:00",
          "2023-10-14T00:00:00",
          "2023-10-15T00:00:00",
          "2023-10-16T00:00:00",
          "2023-10-17T00:00:00",
          "2023-10-18T00:00:00",
          "2023-10-19T00:00:00",
          "2023-10-20T00:00:00",
          "2023-10-21T00:00:00",
          "2023-10-22T00:00:00",
          "2023-10-23T00:00:00",
          "2023-10-24T00:00:00",
          "2023-10-25T00:00:00",
          "2023-10-26T00:00:00",
          "2023-10-27T00:00:00",
          "2023-10-28T00:00:00",
          "2023-10-29T00:00:00"
         ],
         "xaxis": "x",
         "y": [
          -12.358759917651582,
          -17.783950563019005,
          -12.999167399926591,
          -19.355242954622383,
          11.350354172777998,
          -18.721445101928737,
          -15.873959705534958,
          -17.881818610437563,
          -20.481025342762734,
          -19.443447700829665,
          -18.437424657231247,
          -14.848283794015344,
          -17.861028370848942,
          -16.818126501121867,
          -17.504039332455363,
          -16.880847434368604,
          -19.087229528509283,
          -18.121772436344145,
          -18.307525033298816,
          -16.062726868385425,
          -19.172846372993888,
          -16.484259139943276,
          -19.85114052261332,
          -16.485602698125717,
          -18.06095332980499,
          -19.004636191428972,
          -20.41110563865948
         ],
         "yaxis": "y"
        },
        {
         "hovertemplate": "system_name=tum-esm-midcost-raspi-12<br>creation_timestamp=%{x}<br>intercept=%{y}<extra></extra>",
         "legendgroup": "tum-esm-midcost-raspi-12",
         "line": {
          "color": "#EF553B",
          "dash": "solid"
         },
         "marker": {
          "symbol": "circle"
         },
         "mode": "lines+markers",
         "name": "tum-esm-midcost-raspi-12",
         "orientation": "v",
         "showlegend": true,
         "type": "scatter",
         "x": [
          "2023-08-07T00:00:00",
          "2023-08-08T00:00:00",
          "2023-08-09T00:00:00",
          "2023-08-10T00:00:00",
          "2023-08-11T00:00:00",
          "2023-08-12T00:00:00",
          "2023-08-13T00:00:00",
          "2023-08-14T00:00:00",
          "2023-08-15T00:00:00",
          "2023-10-12T00:00:00",
          "2023-10-13T00:00:00",
          "2023-10-14T00:00:00",
          "2023-10-15T00:00:00",
          "2023-10-16T00:00:00",
          "2023-10-17T00:00:00",
          "2023-10-18T00:00:00",
          "2023-10-19T00:00:00",
          "2023-10-20T00:00:00",
          "2023-10-25T00:00:00",
          "2023-10-26T00:00:00",
          "2023-10-27T00:00:00",
          "2023-10-28T00:00:00",
          "2023-10-29T00:00:00"
         ],
         "xaxis": "x",
         "y": [
          18.870704916396846,
          18.33395683582745,
          19.801630021097992,
          20.672239267335442,
          50.22891742644231,
          19.968373945090946,
          18.997339313032512,
          20.602260499060662,
          20.994432084122934,
          23.447038751966375,
          30.88595002636123,
          29.781537133513154,
          27.338446187946204,
          26.956587693652523,
          26.53932084806121,
          26.740854690464573,
          24.334319779252667,
          25.638990350280892,
          55.10122060253019,
          26.312217378969763,
          26.367727448543178,
          26.71260742171046,
          25.828351786754695
         ],
         "yaxis": "y"
        },
        {
         "hovertemplate": "system_name=tum-esm-midcost-raspi-14<br>creation_timestamp=%{x}<br>intercept=%{y}<extra></extra>",
         "legendgroup": "tum-esm-midcost-raspi-14",
         "line": {
          "color": "#00cc96",
          "dash": "solid"
         },
         "marker": {
          "symbol": "circle"
         },
         "mode": "lines+markers",
         "name": "tum-esm-midcost-raspi-14",
         "orientation": "v",
         "showlegend": true,
         "type": "scatter",
         "x": [
          "2023-08-07T00:00:00",
          "2023-08-08T00:00:00",
          "2023-08-09T00:00:00",
          "2023-08-10T00:00:00",
          "2023-08-11T00:00:00",
          "2023-08-12T00:00:00",
          "2023-08-13T00:00:00",
          "2023-08-14T00:00:00",
          "2023-08-15T00:00:00",
          "2023-08-17T00:00:00"
         ],
         "xaxis": "x",
         "y": [
          -9.556559865016425,
          -9.838458060845198,
          -9.168061579439666,
          31.189729511278756,
          -8.518965958461536,
          -10.177488049849842,
          -8.710230920260983,
          -7.853531911390462,
          29.18149715067085,
          -10.261784098636099
         ],
         "yaxis": "y"
        },
        {
         "hovertemplate": "system_name=tum-esm-midcost-raspi-15<br>creation_timestamp=%{x}<br>intercept=%{y}<extra></extra>",
         "legendgroup": "tum-esm-midcost-raspi-15",
         "line": {
          "color": "#ab63fa",
          "dash": "solid"
         },
         "marker": {
          "symbol": "circle"
         },
         "mode": "lines+markers",
         "name": "tum-esm-midcost-raspi-15",
         "orientation": "v",
         "showlegend": true,
         "type": "scatter",
         "x": [
          "2023-08-07T00:00:00",
          "2023-08-08T00:00:00",
          "2023-08-09T00:00:00",
          "2023-08-10T00:00:00",
          "2023-08-11T00:00:00",
          "2023-08-12T00:00:00",
          "2023-08-13T00:00:00",
          "2023-08-14T00:00:00",
          "2023-08-15T00:00:00",
          "2023-08-17T00:00:00"
         ],
         "xaxis": "x",
         "y": [
          -8.663987331752253,
          -9.237831464643023,
          -7.793453858121609,
          -9.881536758088828,
          -9.996864049425312,
          -9.001733960088586,
          -7.851640498963832,
          -8.164113304370517,
          -7.776645207160698,
          -7.59042416004678
         ],
         "yaxis": "y"
        },
        {
         "hovertemplate": "system_name=tum-esm-midcost-raspi-18<br>creation_timestamp=%{x}<br>intercept=%{y}<extra></extra>",
         "legendgroup": "tum-esm-midcost-raspi-18",
         "line": {
          "color": "#FFA15A",
          "dash": "solid"
         },
         "marker": {
          "symbol": "circle"
         },
         "mode": "lines+markers",
         "name": "tum-esm-midcost-raspi-18",
         "orientation": "v",
         "showlegend": true,
         "type": "scatter",
         "x": [
          "2023-08-09T00:00:00",
          "2023-08-10T00:00:00",
          "2023-08-11T00:00:00",
          "2023-08-12T00:00:00",
          "2023-08-13T00:00:00",
          "2023-08-14T00:00:00",
          "2023-08-15T00:00:00",
          "2023-08-17T00:00:00",
          "2023-10-12T00:00:00",
          "2023-10-13T00:00:00",
          "2023-10-14T00:00:00",
          "2023-10-15T00:00:00",
          "2023-10-16T00:00:00",
          "2023-10-17T00:00:00",
          "2023-10-18T00:00:00",
          "2023-10-19T00:00:00",
          "2023-10-20T00:00:00",
          "2023-10-21T00:00:00",
          "2023-10-22T00:00:00",
          "2023-10-23T00:00:00",
          "2023-10-26T00:00:00",
          "2023-10-27T00:00:00",
          "2023-10-28T00:00:00",
          "2023-10-29T00:00:00"
         ],
         "xaxis": "x",
         "y": [
          0.8534438945168858,
          -1.7574101831011149,
          -0.9320159198318834,
          -2.8216853627710066,
          25.98457874043868,
          -3.394135270432855,
          -4.309616309992919,
          -2.142807604007885,
          1.0731103473895018,
          -1.8583103613221397,
          0.8904552666305108,
          -1.333750815629287,
          0.46460657521896565,
          -0.19899611429292463,
          27.531420559988533,
          0.9944219658219708,
          0.033165503285829345,
          -0.09697957983803462,
          0.3918284282647164,
          0.07586616018875247,
          1.9219681099181685,
          0.5434662005217774,
          1.5220869538280795,
          1.4329899525948804
         ],
         "yaxis": "y"
        },
        {
         "hovertemplate": "system_name=tum-esm-midcost-raspi-20<br>creation_timestamp=%{x}<br>intercept=%{y}<extra></extra>",
         "legendgroup": "tum-esm-midcost-raspi-20",
         "line": {
          "color": "#19d3f3",
          "dash": "solid"
         },
         "marker": {
          "symbol": "circle"
         },
         "mode": "lines+markers",
         "name": "tum-esm-midcost-raspi-20",
         "orientation": "v",
         "showlegend": true,
         "type": "scatter",
         "x": [
          "2023-08-09T00:00:00",
          "2023-08-10T00:00:00",
          "2023-08-11T00:00:00",
          "2023-08-12T00:00:00",
          "2023-08-13T00:00:00",
          "2023-08-14T00:00:00",
          "2023-08-15T00:00:00",
          "2023-08-17T00:00:00"
         ],
         "xaxis": "x",
         "y": [
          -7.369778905853195,
          -9.42175881299164,
          -8.618936015956706,
          -9.623661482911757,
          -10.6952686144204,
          -10.984276214848762,
          -9.00480946989552,
          -8.326853867898592
         ],
         "yaxis": "y"
        },
        {
         "hovertemplate": "system_name=tum-esm-midcost-raspi-16<br>creation_timestamp=%{x}<br>intercept=%{y}<extra></extra>",
         "legendgroup": "tum-esm-midcost-raspi-16",
         "line": {
          "color": "#FF6692",
          "dash": "solid"
         },
         "marker": {
          "symbol": "circle"
         },
         "mode": "lines+markers",
         "name": "tum-esm-midcost-raspi-16",
         "orientation": "v",
         "showlegend": true,
         "type": "scatter",
         "x": [
          "2023-08-09T00:00:00",
          "2023-08-10T00:00:00",
          "2023-08-11T00:00:00",
          "2023-08-12T00:00:00",
          "2023-08-13T00:00:00",
          "2023-08-14T00:00:00",
          "2023-08-15T00:00:00",
          "2023-08-17T00:00:00",
          "2023-10-12T00:00:00",
          "2023-10-13T00:00:00",
          "2023-10-14T00:00:00",
          "2023-10-15T00:00:00",
          "2023-10-16T00:00:00",
          "2023-10-17T00:00:00",
          "2023-10-18T00:00:00",
          "2023-10-19T00:00:00",
          "2023-10-20T00:00:00",
          "2023-10-21T00:00:00",
          "2023-10-22T00:00:00",
          "2023-10-23T00:00:00",
          "2023-10-25T00:00:00",
          "2023-10-26T00:00:00",
          "2023-10-27T00:00:00",
          "2023-10-28T00:00:00",
          "2023-10-29T00:00:00"
         ],
         "xaxis": "x",
         "y": [
          -20.808757263667985,
          -18.50234930726282,
          -20.48182312625505,
          -19.502870119301406,
          -19.586053165377052,
          -22.14979170186814,
          -19.808582583342968,
          -23.370280754470286,
          -20.506600968087298,
          -20.48062356553305,
          8.451993347979567,
          -21.01236897697413,
          -20.023528357143846,
          18.662287886480954,
          -20.816373254574273,
          -22.74790763893293,
          -21.18475913690378,
          -23.12314518640858,
          -19.153058289779835,
          -21.045294914878923,
          -22.24910340604157,
          -19.903044851953723,
          -23.29061082323159,
          -21.902299384203786,
          -21.43901783204319
         ],
         "yaxis": "y"
        }
       ],
       "layout": {
        "legend": {
         "title": {
          "text": "system_name"
         },
         "tracegroupgap": 0
        },
        "template": {
         "data": {
          "bar": [
           {
            "error_x": {
             "color": "#2a3f5f"
            },
            "error_y": {
             "color": "#2a3f5f"
            },
            "marker": {
             "line": {
              "color": "#E5ECF6",
              "width": 0.5
             },
             "pattern": {
              "fillmode": "overlay",
              "size": 10,
              "solidity": 0.2
             }
            },
            "type": "bar"
           }
          ],
          "barpolar": [
           {
            "marker": {
             "line": {
              "color": "#E5ECF6",
              "width": 0.5
             },
             "pattern": {
              "fillmode": "overlay",
              "size": 10,
              "solidity": 0.2
             }
            },
            "type": "barpolar"
           }
          ],
          "carpet": [
           {
            "aaxis": {
             "endlinecolor": "#2a3f5f",
             "gridcolor": "white",
             "linecolor": "white",
             "minorgridcolor": "white",
             "startlinecolor": "#2a3f5f"
            },
            "baxis": {
             "endlinecolor": "#2a3f5f",
             "gridcolor": "white",
             "linecolor": "white",
             "minorgridcolor": "white",
             "startlinecolor": "#2a3f5f"
            },
            "type": "carpet"
           }
          ],
          "choropleth": [
           {
            "colorbar": {
             "outlinewidth": 0,
             "ticks": ""
            },
            "type": "choropleth"
           }
          ],
          "contour": [
           {
            "colorbar": {
             "outlinewidth": 0,
             "ticks": ""
            },
            "colorscale": [
             [
              0,
              "#0d0887"
             ],
             [
              0.1111111111111111,
              "#46039f"
             ],
             [
              0.2222222222222222,
              "#7201a8"
             ],
             [
              0.3333333333333333,
              "#9c179e"
             ],
             [
              0.4444444444444444,
              "#bd3786"
             ],
             [
              0.5555555555555556,
              "#d8576b"
             ],
             [
              0.6666666666666666,
              "#ed7953"
             ],
             [
              0.7777777777777778,
              "#fb9f3a"
             ],
             [
              0.8888888888888888,
              "#fdca26"
             ],
             [
              1,
              "#f0f921"
             ]
            ],
            "type": "contour"
           }
          ],
          "contourcarpet": [
           {
            "colorbar": {
             "outlinewidth": 0,
             "ticks": ""
            },
            "type": "contourcarpet"
           }
          ],
          "heatmap": [
           {
            "colorbar": {
             "outlinewidth": 0,
             "ticks": ""
            },
            "colorscale": [
             [
              0,
              "#0d0887"
             ],
             [
              0.1111111111111111,
              "#46039f"
             ],
             [
              0.2222222222222222,
              "#7201a8"
             ],
             [
              0.3333333333333333,
              "#9c179e"
             ],
             [
              0.4444444444444444,
              "#bd3786"
             ],
             [
              0.5555555555555556,
              "#d8576b"
             ],
             [
              0.6666666666666666,
              "#ed7953"
             ],
             [
              0.7777777777777778,
              "#fb9f3a"
             ],
             [
              0.8888888888888888,
              "#fdca26"
             ],
             [
              1,
              "#f0f921"
             ]
            ],
            "type": "heatmap"
           }
          ],
          "heatmapgl": [
           {
            "colorbar": {
             "outlinewidth": 0,
             "ticks": ""
            },
            "colorscale": [
             [
              0,
              "#0d0887"
             ],
             [
              0.1111111111111111,
              "#46039f"
             ],
             [
              0.2222222222222222,
              "#7201a8"
             ],
             [
              0.3333333333333333,
              "#9c179e"
             ],
             [
              0.4444444444444444,
              "#bd3786"
             ],
             [
              0.5555555555555556,
              "#d8576b"
             ],
             [
              0.6666666666666666,
              "#ed7953"
             ],
             [
              0.7777777777777778,
              "#fb9f3a"
             ],
             [
              0.8888888888888888,
              "#fdca26"
             ],
             [
              1,
              "#f0f921"
             ]
            ],
            "type": "heatmapgl"
           }
          ],
          "histogram": [
           {
            "marker": {
             "pattern": {
              "fillmode": "overlay",
              "size": 10,
              "solidity": 0.2
             }
            },
            "type": "histogram"
           }
          ],
          "histogram2d": [
           {
            "colorbar": {
             "outlinewidth": 0,
             "ticks": ""
            },
            "colorscale": [
             [
              0,
              "#0d0887"
             ],
             [
              0.1111111111111111,
              "#46039f"
             ],
             [
              0.2222222222222222,
              "#7201a8"
             ],
             [
              0.3333333333333333,
              "#9c179e"
             ],
             [
              0.4444444444444444,
              "#bd3786"
             ],
             [
              0.5555555555555556,
              "#d8576b"
             ],
             [
              0.6666666666666666,
              "#ed7953"
             ],
             [
              0.7777777777777778,
              "#fb9f3a"
             ],
             [
              0.8888888888888888,
              "#fdca26"
             ],
             [
              1,
              "#f0f921"
             ]
            ],
            "type": "histogram2d"
           }
          ],
          "histogram2dcontour": [
           {
            "colorbar": {
             "outlinewidth": 0,
             "ticks": ""
            },
            "colorscale": [
             [
              0,
              "#0d0887"
             ],
             [
              0.1111111111111111,
              "#46039f"
             ],
             [
              0.2222222222222222,
              "#7201a8"
             ],
             [
              0.3333333333333333,
              "#9c179e"
             ],
             [
              0.4444444444444444,
              "#bd3786"
             ],
             [
              0.5555555555555556,
              "#d8576b"
             ],
             [
              0.6666666666666666,
              "#ed7953"
             ],
             [
              0.7777777777777778,
              "#fb9f3a"
             ],
             [
              0.8888888888888888,
              "#fdca26"
             ],
             [
              1,
              "#f0f921"
             ]
            ],
            "type": "histogram2dcontour"
           }
          ],
          "mesh3d": [
           {
            "colorbar": {
             "outlinewidth": 0,
             "ticks": ""
            },
            "type": "mesh3d"
           }
          ],
          "parcoords": [
           {
            "line": {
             "colorbar": {
              "outlinewidth": 0,
              "ticks": ""
             }
            },
            "type": "parcoords"
           }
          ],
          "pie": [
           {
            "automargin": true,
            "type": "pie"
           }
          ],
          "scatter": [
           {
            "fillpattern": {
             "fillmode": "overlay",
             "size": 10,
             "solidity": 0.2
            },
            "type": "scatter"
           }
          ],
          "scatter3d": [
           {
            "line": {
             "colorbar": {
              "outlinewidth": 0,
              "ticks": ""
             }
            },
            "marker": {
             "colorbar": {
              "outlinewidth": 0,
              "ticks": ""
             }
            },
            "type": "scatter3d"
           }
          ],
          "scattercarpet": [
           {
            "marker": {
             "colorbar": {
              "outlinewidth": 0,
              "ticks": ""
             }
            },
            "type": "scattercarpet"
           }
          ],
          "scattergeo": [
           {
            "marker": {
             "colorbar": {
              "outlinewidth": 0,
              "ticks": ""
             }
            },
            "type": "scattergeo"
           }
          ],
          "scattergl": [
           {
            "marker": {
             "colorbar": {
              "outlinewidth": 0,
              "ticks": ""
             }
            },
            "type": "scattergl"
           }
          ],
          "scattermapbox": [
           {
            "marker": {
             "colorbar": {
              "outlinewidth": 0,
              "ticks": ""
             }
            },
            "type": "scattermapbox"
           }
          ],
          "scatterpolar": [
           {
            "marker": {
             "colorbar": {
              "outlinewidth": 0,
              "ticks": ""
             }
            },
            "type": "scatterpolar"
           }
          ],
          "scatterpolargl": [
           {
            "marker": {
             "colorbar": {
              "outlinewidth": 0,
              "ticks": ""
             }
            },
            "type": "scatterpolargl"
           }
          ],
          "scatterternary": [
           {
            "marker": {
             "colorbar": {
              "outlinewidth": 0,
              "ticks": ""
             }
            },
            "type": "scatterternary"
           }
          ],
          "surface": [
           {
            "colorbar": {
             "outlinewidth": 0,
             "ticks": ""
            },
            "colorscale": [
             [
              0,
              "#0d0887"
             ],
             [
              0.1111111111111111,
              "#46039f"
             ],
             [
              0.2222222222222222,
              "#7201a8"
             ],
             [
              0.3333333333333333,
              "#9c179e"
             ],
             [
              0.4444444444444444,
              "#bd3786"
             ],
             [
              0.5555555555555556,
              "#d8576b"
             ],
             [
              0.6666666666666666,
              "#ed7953"
             ],
             [
              0.7777777777777778,
              "#fb9f3a"
             ],
             [
              0.8888888888888888,
              "#fdca26"
             ],
             [
              1,
              "#f0f921"
             ]
            ],
            "type": "surface"
           }
          ],
          "table": [
           {
            "cells": {
             "fill": {
              "color": "#EBF0F8"
             },
             "line": {
              "color": "white"
             }
            },
            "header": {
             "fill": {
              "color": "#C8D4E3"
             },
             "line": {
              "color": "white"
             }
            },
            "type": "table"
           }
          ]
         },
         "layout": {
          "annotationdefaults": {
           "arrowcolor": "#2a3f5f",
           "arrowhead": 0,
           "arrowwidth": 1
          },
          "autotypenumbers": "strict",
          "coloraxis": {
           "colorbar": {
            "outlinewidth": 0,
            "ticks": ""
           }
          },
          "colorscale": {
           "diverging": [
            [
             0,
             "#8e0152"
            ],
            [
             0.1,
             "#c51b7d"
            ],
            [
             0.2,
             "#de77ae"
            ],
            [
             0.3,
             "#f1b6da"
            ],
            [
             0.4,
             "#fde0ef"
            ],
            [
             0.5,
             "#f7f7f7"
            ],
            [
             0.6,
             "#e6f5d0"
            ],
            [
             0.7,
             "#b8e186"
            ],
            [
             0.8,
             "#7fbc41"
            ],
            [
             0.9,
             "#4d9221"
            ],
            [
             1,
             "#276419"
            ]
           ],
           "sequential": [
            [
             0,
             "#0d0887"
            ],
            [
             0.1111111111111111,
             "#46039f"
            ],
            [
             0.2222222222222222,
             "#7201a8"
            ],
            [
             0.3333333333333333,
             "#9c179e"
            ],
            [
             0.4444444444444444,
             "#bd3786"
            ],
            [
             0.5555555555555556,
             "#d8576b"
            ],
            [
             0.6666666666666666,
             "#ed7953"
            ],
            [
             0.7777777777777778,
             "#fb9f3a"
            ],
            [
             0.8888888888888888,
             "#fdca26"
            ],
            [
             1,
             "#f0f921"
            ]
           ],
           "sequentialminus": [
            [
             0,
             "#0d0887"
            ],
            [
             0.1111111111111111,
             "#46039f"
            ],
            [
             0.2222222222222222,
             "#7201a8"
            ],
            [
             0.3333333333333333,
             "#9c179e"
            ],
            [
             0.4444444444444444,
             "#bd3786"
            ],
            [
             0.5555555555555556,
             "#d8576b"
            ],
            [
             0.6666666666666666,
             "#ed7953"
            ],
            [
             0.7777777777777778,
             "#fb9f3a"
            ],
            [
             0.8888888888888888,
             "#fdca26"
            ],
            [
             1,
             "#f0f921"
            ]
           ]
          },
          "colorway": [
           "#636efa",
           "#EF553B",
           "#00cc96",
           "#ab63fa",
           "#FFA15A",
           "#19d3f3",
           "#FF6692",
           "#B6E880",
           "#FF97FF",
           "#FECB52"
          ],
          "font": {
           "color": "#2a3f5f"
          },
          "geo": {
           "bgcolor": "white",
           "lakecolor": "white",
           "landcolor": "#E5ECF6",
           "showlakes": true,
           "showland": true,
           "subunitcolor": "white"
          },
          "hoverlabel": {
           "align": "left"
          },
          "hovermode": "closest",
          "mapbox": {
           "style": "light"
          },
          "paper_bgcolor": "white",
          "plot_bgcolor": "#E5ECF6",
          "polar": {
           "angularaxis": {
            "gridcolor": "white",
            "linecolor": "white",
            "ticks": ""
           },
           "bgcolor": "#E5ECF6",
           "radialaxis": {
            "gridcolor": "white",
            "linecolor": "white",
            "ticks": ""
           }
          },
          "scene": {
           "xaxis": {
            "backgroundcolor": "#E5ECF6",
            "gridcolor": "white",
            "gridwidth": 2,
            "linecolor": "white",
            "showbackground": true,
            "ticks": "",
            "zerolinecolor": "white"
           },
           "yaxis": {
            "backgroundcolor": "#E5ECF6",
            "gridcolor": "white",
            "gridwidth": 2,
            "linecolor": "white",
            "showbackground": true,
            "ticks": "",
            "zerolinecolor": "white"
           },
           "zaxis": {
            "backgroundcolor": "#E5ECF6",
            "gridcolor": "white",
            "gridwidth": 2,
            "linecolor": "white",
            "showbackground": true,
            "ticks": "",
            "zerolinecolor": "white"
           }
          },
          "shapedefaults": {
           "line": {
            "color": "#2a3f5f"
           }
          },
          "ternary": {
           "aaxis": {
            "gridcolor": "white",
            "linecolor": "white",
            "ticks": ""
           },
           "baxis": {
            "gridcolor": "white",
            "linecolor": "white",
            "ticks": ""
           },
           "bgcolor": "#E5ECF6",
           "caxis": {
            "gridcolor": "white",
            "linecolor": "white",
            "ticks": ""
           }
          },
          "title": {
           "x": 0.05
          },
          "xaxis": {
           "automargin": true,
           "gridcolor": "white",
           "linecolor": "white",
           "ticks": "",
           "title": {
            "standoff": 15
           },
           "zerolinecolor": "white",
           "zerolinewidth": 2
          },
          "yaxis": {
           "automargin": true,
           "gridcolor": "white",
           "linecolor": "white",
           "ticks": "",
           "title": {
            "standoff": 15
           },
           "zerolinecolor": "white",
           "zerolinewidth": 2
          }
         }
        },
        "title": {
         "text": "intercept"
        },
        "xaxis": {
         "anchor": "y",
         "domain": [
          0,
          1
         ],
         "title": {
          "text": "creation_timestamp"
         }
        },
        "yaxis": {
         "anchor": "x",
         "domain": [
          0,
          1
         ],
         "title": {
          "text": "intercept"
         }
        }
       }
      }
     },
     "metadata": {},
     "output_type": "display_data"
    }
   ],
   "source": [
    "# visualise slope and intercept results\n",
    "\n",
    "x = dfg.select(\"creation_timestamp\", \"slope\",\"intercept\",\"system_name\").collect()\n",
    "\n",
    "fig = px.line(x, x=\"creation_timestamp\", y=\"slope\", markers=True, title = \"slope\", color=\"system_name\")\n",
    "fig.show()\n",
    "fig = px.line(x, x=\"creation_timestamp\", y=\"intercept\", markers=True, title = \"intercept\",color=\"system_name\")\n",
    "fig.show()"
   ]
  },
  {
   "cell_type": "markdown",
   "metadata": {},
   "source": [
    "# Process Picarro Data"
   ]
  },
  {
   "cell_type": "code",
   "execution_count": 11,
   "metadata": {},
   "outputs": [
    {
     "name": "stdout",
     "output_type": "stream",
     "text": [
      "<class 'pandas.core.frame.DataFrame'>\n",
      "Index: 7884905 entries, 7718854 to 916783\n",
      "Data columns (total 26 columns):\n",
      " #   Column                Dtype         \n",
      "---  ------                -----         \n",
      " 0   DATE                  object        \n",
      " 1   TIME                  object        \n",
      " 2   FRAC_DAYS_SINCE_JAN1  float64       \n",
      " 3   FRAC_HRS_SINCE_JAN1   float64       \n",
      " 4   JULIAN_DAYS           float64       \n",
      " 5   EPOCH_TIME            float64       \n",
      " 6   ALARM_STATUS          int64         \n",
      " 7   INST_STATUS           int64         \n",
      " 8   CavityPressure        float64       \n",
      " 9   CavityTemp            float64       \n",
      " 10  DasTemp               float64       \n",
      " 11  EtalonTemp            float64       \n",
      " 12  species               float64       \n",
      " 13  OutletValve           float64       \n",
      " 14  CH4                   float64       \n",
      " 15  CH4_dry               float64       \n",
      " 16  CO2                   float64       \n",
      " 17  CO2_dry               float64       \n",
      " 18  h2o_reported          float64       \n",
      " 19  ch4_base              float64       \n",
      " 20  ch4_pzt_std           float64       \n",
      " 21  co2_base              float64       \n",
      " 22  co2_pzt_std           float64       \n",
      " 23  wlm1_offset           float64       \n",
      " 24  wlm2_offset           float64       \n",
      " 25  datetime              datetime64[ns]\n",
      "dtypes: datetime64[ns](1), float64(21), int64(2), object(2)\n",
      "memory usage: 1.6+ GB\n"
     ]
    }
   ],
   "source": [
    "filenames = glob.glob(picarro_path + \"/*/*/*.dat\")\n",
    "\n",
    "# read all *.dat picarro measurement files and add to single db\n",
    "df_list = []\n",
    "for filename in filenames:\n",
    "    df_list.append(pd.read_csv(filename,sep='\\s+'))\n",
    "\n",
    "big_frame = pd.concat(df_list, ignore_index=True)\n",
    "big_frame[\"datetime\"] = pd.to_datetime((big_frame['DATE'] + ' ' + big_frame['TIME']))\n",
    "big_frame.sort_values(by='datetime', inplace = True)\n",
    "\n",
    "big_frame.to_parquet(path = f\"{local_path}/picarro.parquet\")\n",
    "big_frame.info()"
   ]
  }
 ],
 "metadata": {
  "kernelspec": {
   "display_name": ".venv",
   "language": "python",
   "name": "python3"
  },
  "language_info": {
   "codemirror_mode": {
    "name": "ipython",
    "version": 3
   },
   "file_extension": ".py",
   "mimetype": "text/x-python",
   "name": "python",
   "nbconvert_exporter": "python",
   "pygments_lexer": "ipython3",
   "version": "3.11.6"
  }
 },
 "nbformat": 4,
 "nbformat_minor": 2
}
