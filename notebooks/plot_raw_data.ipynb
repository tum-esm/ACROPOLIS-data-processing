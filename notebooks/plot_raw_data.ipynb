{
 "cells": [
  {
   "cell_type": "code",
   "execution_count": null,
   "metadata": {},
   "outputs": [],
   "source": [
    "from datetime import datetime\n",
    "from datetime import timezone\n",
    "import polars as pl\n",
    "import os\n",
    "import glob\n",
    "from utils.plot_data import plot_sensor_measurement, plot_wind_rose, plot_co2_rose\n",
    "\n",
    "\n",
    "start_date = datetime(2024, 8, 1, 0, 0, 0).replace(tzinfo=timezone.utc)\n",
    "end_date = datetime(2025, 1 ,31, 23, 59, 59).replace(tzinfo=timezone.utc)\n",
    "\n",
    "filter = '1h'\n",
    "\n",
    "sensor_id = [1,2,3,4,5,6,7,8,9,10,11,12,13,14,15,16,17,18,19,20]\n",
    "#sensor_id = [9]\n",
    "\n",
    "\n",
    "DATA_DIRECTORY = os.environ.get(\"DATA_DIRECTORY\")\n",
    "\n",
    "# processed 10min average measurement data\n",
    "df = pl.scan_parquet(os.path.join(DATA_DIRECTORY, \"processed\", \"pipeline\", \"calibrated_1_min_acropolis.parquet\")).filter(pl.col(\"creation_timestamp\").is_between(start_date, end_date)).collect()\n"
   ]
  },
  {
   "cell_type": "code",
   "execution_count": null,
   "metadata": {},
   "outputs": [],
   "source": [
    "raw = True\n",
    "\n",
    "# raw data\n",
    "# load all local chunks for 2024\n",
    "if raw:\n",
    "    year = 2024\n",
    "    measurement_months = []\n",
    "\n",
    "    paths = sorted(glob.glob(os.path.join(DATA_DIRECTORY, \"download\", \"measurements\", str(year), \"*.parquet\")), key=os.path.getmtime)\n",
    "\n",
    "    for path in paths:\n",
    "        measurement_months.append(pl.scan_parquet(path))\n",
    "\n",
    "    df_raw = pl.concat(measurement_months, how=\"diagonal\") \\\n",
    "        .filter(pl.col(\"creation_timestamp\").is_between(start_date, end_date)) \\\n",
    "        .collect() \\\n",
    "        .filter(pl.col(\"system_name\") != \"test-sensor\")"
   ]
  },
  {
   "cell_type": "code",
   "execution_count": null,
   "metadata": {},
   "outputs": [],
   "source": [
    "plot_sensor_measurement(df,sensor_id,col_name=\"enclosure_bme280_humidity\",filter=filter)"
   ]
  },
  {
   "cell_type": "code",
   "execution_count": null,
   "metadata": {},
   "outputs": [],
   "source": [
    "plot_sensor_measurement(df,sensor_id,col_name=\"gmp343_temperature\",filter=filter)"
   ]
  },
  {
   "cell_type": "code",
   "execution_count": null,
   "metadata": {},
   "outputs": [],
   "source": [
    "plot_sensor_measurement(df,sensor_id=sensor_id,col_name=\"gmp343_corrected\",filter=filter)"
   ]
  },
  {
   "cell_type": "code",
   "execution_count": null,
   "metadata": {},
   "outputs": [],
   "source": [
    "plot_sensor_measurement(df,sensor_id=sensor_id,col_name=\"wxt532_speed_avg\",filter=filter)"
   ]
  },
  {
   "cell_type": "code",
   "execution_count": null,
   "metadata": {},
   "outputs": [],
   "source": [
    "plot_sensor_measurement(df,sensor_id,col_name=\"sht45_humidity\",filter=filter)"
   ]
  },
  {
   "cell_type": "code",
   "execution_count": null,
   "metadata": {},
   "outputs": [],
   "source": [
    "plot_sensor_measurement(df,sensor_id,col_name=\"h2o_v%\",filter=filter)"
   ]
  },
  {
   "cell_type": "code",
   "execution_count": null,
   "metadata": {},
   "outputs": [],
   "source": [
    "plot_sensor_measurement(df,sensor_id,col_name=\"bme280_humidity\",filter=filter)"
   ]
  },
  {
   "cell_type": "code",
   "execution_count": null,
   "metadata": {},
   "outputs": [],
   "source": [
    "plot_sensor_measurement(df,sensor_id,col_name=\"bme280_h2o_v%\",filter=filter)"
   ]
  },
  {
   "cell_type": "code",
   "execution_count": null,
   "metadata": {},
   "outputs": [],
   "source": [
    "df_plot = df_raw.with_columns(diff_inflow_humidity = (pl.col(\"sht45_humidity\") - pl.col(\"bme280_humidity\"))) \\\n",
    "    .filter(pl.col(\"diff_inflow_humidity\").is_not_nan()) \\\n",
    "    .select(\"creation_timestamp\", \"diff_inflow_humidity\", \"system_id\") \\\n",
    "    .sort(\"system_id\")\n",
    "    \n",
    "plot_sensor_measurement(df_plot,sensor_id,col_name=\"diff_inflow_humidity\",filter=filter)"
   ]
  },
  {
   "cell_type": "code",
   "execution_count": null,
   "metadata": {},
   "outputs": [],
   "source": [
    "df_plot = df.with_columns(diff_inflow_humidity = (pl.col(\"h2o_v%\") - pl.col(\"bme280_h2o_v%\"))) \\\n",
    "    .filter(pl.col(\"diff_inflow_humidity\").is_not_nan()) \\\n",
    "    .select(\"creation_timestamp\", \"diff_inflow_humidity\", \"system_id\") \\\n",
    "    .sort(\"system_id\")\n",
    "    \n",
    "plot_sensor_measurement(df_plot,sensor_id,col_name=\"diff_inflow_humidity\",filter=filter)"
   ]
  },
  {
   "cell_type": "code",
   "execution_count": null,
   "metadata": {},
   "outputs": [],
   "source": [
    "plot_sensor_measurement(df,sensor_id,col_name=\"sht45_temperature\",filter=filter)"
   ]
  },
  {
   "cell_type": "code",
   "execution_count": null,
   "metadata": {},
   "outputs": [],
   "source": [
    "plot_sensor_measurement(df,sensor_id,col_name=\"bme280_temperature\",filter=filter)"
   ]
  },
  {
   "cell_type": "code",
   "execution_count": null,
   "metadata": {},
   "outputs": [],
   "source": [
    "df_plot = df_raw.with_columns(diff_inflow_temperature = (pl.col(\"sht45_temperature\") - pl.col(\"bme280_temperature\"))) \\\n",
    "    .filter(pl.col(\"diff_inflow_temperature\").is_not_nan()) \\\n",
    "    .select(\"creation_timestamp\", \"diff_inflow_temperature\", \"system_id\") \\\n",
    "    .sort(\"system_id\")\n",
    "    \n",
    "plot_sensor_measurement(df_plot,sensor_id,col_name=\"diff_inflow_temperature\",filter=filter)"
   ]
  },
  {
   "cell_type": "code",
   "execution_count": null,
   "metadata": {},
   "outputs": [],
   "source": [
    "plot_sensor_measurement(df,sensor_id,col_name=\"bme280_pressure\",filter=filter)"
   ]
  },
  {
   "cell_type": "code",
   "execution_count": null,
   "metadata": {},
   "outputs": [],
   "source": [
    "plot_sensor_measurement(df,sensor_id,col_name=\"enclosure_bme280_temperature\",filter=filter)"
   ]
  },
  {
   "cell_type": "code",
   "execution_count": null,
   "metadata": {},
   "outputs": [],
   "source": [
    "plot_sensor_measurement(df,sensor_id=sensor_id,col_name=\"gmp343_raw\",filter=filter)"
   ]
  },
  {
   "cell_type": "code",
   "execution_count": null,
   "metadata": {},
   "outputs": [],
   "source": [
    "plot_sensor_measurement(df,sensor_id,col_name=\"gmp343_compensated\",filter=filter)"
   ]
  },
  {
   "cell_type": "code",
   "execution_count": null,
   "metadata": {},
   "outputs": [],
   "source": [
    "plot_sensor_measurement(df,sensor_id,col_name=\"wxt532_temperature\",filter=filter)"
   ]
  },
  {
   "cell_type": "code",
   "execution_count": null,
   "metadata": {},
   "outputs": [],
   "source": [
    "# KLEG\n",
    "plot_co2_rose(df, 1, 'Klenze Gymnasium')\n",
    "\n",
    "# X\n",
    "#plot_co2_rose(df, 2, 'X')\n",
    "\n",
    "# X\n",
    "#plot_co2_rose(df, 3, 'X')\n",
    "\n",
    "# X\n",
    "#plot_co2_rose(df, 4, 'X')\n",
    "\n",
    "# DLRO\n",
    "plot_co2_rose(df, 5, 'DLR')\n",
    "\n",
    "# TUMN\n",
    "plot_co2_rose(df, 6, 'TUM')\n",
    "\n",
    "# FB85\n",
    "#plot_co2_rose(df, 7, 'Blutenburgturm 85m')\n",
    "\n",
    "# KRDI\n",
    "plot_co2_rose(df, 8, 'Klinikum Rechts-der-Isar')\n",
    "\n",
    "# KNPL\n",
    "plot_co2_rose(df, 9, 'Klinikum Neuperlach')\n",
    "\n",
    "# SWGG\n",
    "plot_co2_rose(df, 10, 'Städtisches Willi Graf Gymnasium')\n",
    "\n",
    "# RFIN\n",
    "plot_co2_rose(df, 11, 'Rathaus Finsing')\n",
    "\n",
    "# WKRT\n",
    "plot_co2_rose(df, 12, 'Walter-Klingenbeck-Realschule')\n",
    "\n",
    "# RFEL\n",
    "plot_co2_rose(df, 13, 'Rathaus Feldkirchen')\n",
    "\n",
    "# FB48\n",
    "#plot_co2_rose(df, 14, 'Blutenburgturm 48m')\n",
    "\n",
    "# SWMZ\n",
    "plot_co2_rose(df, 15, 'Stadtwerke München Zentrale')\n",
    "\n",
    "# SMAI\n",
    "plot_co2_rose(df, 16, 'Schule Maisach')\n",
    "\n",
    "# KBOG\n",
    "#plot_co2_rose(df, 17, 'Klinikum Bogenhausen')\n",
    "\n",
    "# SBBG\n",
    "plot_co2_rose(df, 18, 'Städtisches Bertolt Brecht Gymnasium')\n",
    "\n",
    "# X\n",
    "#plot_o2_rose(df, 19, 'X')\n",
    "\n",
    "# LGRO\n",
    "plot_co2_rose(df, 20, 'LMU Großhadern')\n",
    "\n"
   ]
  },
  {
   "cell_type": "code",
   "execution_count": null,
   "metadata": {},
   "outputs": [],
   "source": [
    "# KLEG\n",
    "plot_wind_rose(df, 1, 'Klenze Gymnasium')\n",
    "\n",
    "# X\n",
    "#plot_wind_rose(df, 2, 'X')\n",
    "\n",
    "# X\n",
    "#plot_wind_rose(df, 3, 'X')\n",
    "\n",
    "# X\n",
    "#plot_wind_rose(df, 4, 'X')\n",
    "\n",
    "# DLRO\n",
    "plot_wind_rose(df, 5, 'DLR')\n",
    "\n",
    "# TUMN\n",
    "plot_wind_rose(df, 6, 'TUM')\n",
    "\n",
    "# FB85\n",
    "#plot_wind_rose(df, 7, 'Blutenburgturm 85m')\n",
    "\n",
    "# KRDI\n",
    "plot_wind_rose(df, 8, 'Klinikum Rechts-der-Isar')\n",
    "\n",
    "# KNPL\n",
    "plot_wind_rose(df, 9, 'Klinikum Neuperlach')\n",
    "\n",
    "# SWGG\n",
    "plot_wind_rose(df, 10, 'Städtisches Willi Graf Gymnasium')\n",
    "\n",
    "# RFIN\n",
    "plot_wind_rose(df, 11, 'Rathaus Finsing')\n",
    "\n",
    "# WKRT\n",
    "plot_wind_rose(df, 12, 'Walter-Klingenbeck-Realschule')\n",
    "\n",
    "# RFEL\n",
    "plot_wind_rose(df, 13, 'Rathaus Feldkirchen')\n",
    "\n",
    "# FB48\n",
    "#plot_wind_rose(df, 14, 'Blutenburgturm 48m')\n",
    "\n",
    "# SWMZ\n",
    "plot_wind_rose(df, 15, 'Stadtwerke München Zentrale')\n",
    "\n",
    "# SMAI\n",
    "plot_wind_rose(df, 16, 'Schule Maisach')\n",
    "\n",
    "# KBOG\n",
    "#plot_wind_rose(df, 17, 'Klinikum Bogenhausen')\n",
    "\n",
    "# SBBG\n",
    "plot_wind_rose(df, 18, 'Städtisches Bertolt Brecht Gymnasium')\n",
    "\n",
    "# X\n",
    "#plot_o2_rose(df, 19, 'X')\n",
    "\n",
    "# LGRO\n",
    "plot_wind_rose(df, 20, 'LMU Großhadern')\n",
    "\n"
   ]
  },
  {
   "cell_type": "code",
   "execution_count": null,
   "metadata": {},
   "outputs": [],
   "source": [
    "plot_sensor_measurement(df,sensor_id,col_name=\"wxt532_direction_avg\",filter=filter)"
   ]
  },
  {
   "cell_type": "code",
   "execution_count": null,
   "metadata": {},
   "outputs": [],
   "source": [
    "plot_sensor_measurement(df,sensor_id,col_name=\"raspi_cpu_usage\",filter=filter)"
   ]
  },
  {
   "cell_type": "code",
   "execution_count": null,
   "metadata": {},
   "outputs": [],
   "source": [
    "plot_sensor_measurement(df,sensor_id,col_name=\"raspi_memory_usage\",filter=filter)\n"
   ]
  },
  {
   "cell_type": "code",
   "execution_count": null,
   "metadata": {},
   "outputs": [],
   "source": [
    "plot_sensor_measurement(df,sensor_id,col_name=\"raspi_disk_usage\",filter=filter)\n"
   ]
  },
  {
   "cell_type": "code",
   "execution_count": null,
   "metadata": {},
   "outputs": [],
   "source": [
    "plot_sensor_measurement(df,sensor_id,col_name=\"raspi_cpu_temperature\",filter=filter)"
   ]
  },
  {
   "cell_type": "code",
   "execution_count": null,
   "metadata": {},
   "outputs": [],
   "source": [
    "plot_sensor_measurement(df,sensor_id,col_name=\"enclosure_bme280_pressure\",filter=filter)"
   ]
  },
  {
   "cell_type": "code",
   "execution_count": null,
   "metadata": {},
   "outputs": [],
   "source": [
    "df_plot = df.with_columns(pl.col(\"enclosure_bme280_pressure\").forward_fill().backward_fill()) \\\n",
    "    .with_columns(measurement_pressure = (pl.col(\"bme280_pressure\") - pl.col(\"enclosure_bme280_pressure\"))) \\\n",
    "    .filter(pl.col(\"measurement_pressure\").is_not_nan()) \\\n",
    "    .select(\"creation_timestamp\", \"measurement_pressure\", \"system_id\") \\\n",
    "    .sort(\"system_id\")\n",
    "    \n",
    "\n",
    "import matplotlib.pyplot as plt\n",
    "import polars as pl\n",
    "\n",
    "for id in sensor_id:\n",
    "    \n",
    "    # Filter data for the given system_id\n",
    "    filtered_df = (\n",
    "    df_plot.filter(pl.col(\"system_id\") == id)\n",
    ")\n",
    "\n",
    "    # Plot using Matplotlib\n",
    "    plt.figure(figsize=(10, 6))\n",
    "    plt.plot(\n",
    "        filtered_df[\"creation_timestamp\"], \n",
    "        filtered_df[\"measurement_pressure\"], \n",
    "        marker='o', \n",
    "        label=f\"System {id}\"\n",
    "    )\n",
    "\n",
    "    # Customize plot\n",
    "    plt.title(f\"Pressure Drop During Measurement for System {id}\", fontsize=14)\n",
    "    plt.xlabel(\"Timestamp\", fontsize=12)\n",
    "    plt.ylabel(\"measurement_pressure\", fontsize=12)\n",
    "    plt.xticks(rotation=45)\n",
    "    plt.grid(True, linestyle='--', alpha=0.6)\n",
    "    plt.legend(fontsize=12)\n",
    "\n",
    "    # Show the plot\n",
    "    plt.tight_layout()\n",
    "    plt.show()"
   ]
  },
  {
   "cell_type": "markdown",
   "metadata": {},
   "source": [
    "# Calibration Data"
   ]
  },
  {
   "cell_type": "code",
   "execution_count": null,
   "metadata": {},
   "outputs": [],
   "source": [
    "df_plot = df_raw.group_by_dynamic(\"creation_timestamp\", every='1d', by=[\"system_id\", \"cal_sht45_humidity\"]) \\\n",
    "    .agg(pl.all().exclude([\"creation_timestamp\",\"cal_sht45_humidity\"]).min()) \\\n",
    "    .select(\"creation_timestamp\", \"cal_sht45_humidity\", \"system_id\") \\\n",
    "\n",
    "\n",
    "\n",
    "plot_sensor_measurement(df_plot,sensor_id,col_name=\"cal_sht45_humidity\",filter='1h')"
   ]
  },
  {
   "cell_type": "code",
   "execution_count": null,
   "metadata": {},
   "outputs": [],
   "source": [
    "df_plot = df_raw.with_columns(pl.col(\"enclosure_bme280_pressure\").forward_fill().backward_fill()) \\\n",
    "    .with_columns(calibration_pressure = (pl.col(\"cal_bme280_pressure\") - pl.col(\"enclosure_bme280_pressure\"))) \\\n",
    "    .filter(pl.col(\"calibration_pressure\").is_not_nan()) \\\n",
    "    .select(\"creation_timestamp\", \"calibration_pressure\", \"system_id\") \\\n",
    "    .sort(\"system_id\")\n",
    "\n",
    "import matplotlib.pyplot as plt\n",
    "import polars as pl\n",
    "\n",
    "for id in sensor_id:\n",
    "    \n",
    "    # Filter data for the given system_id\n",
    "    filtered_df = (\n",
    "    df_plot.filter(pl.col(\"system_id\") == id)\n",
    ")\n",
    "\n",
    "    # Plot using Matplotlib\n",
    "    plt.figure(figsize=(10, 6))\n",
    "    plt.plot(\n",
    "        filtered_df[\"creation_timestamp\"], \n",
    "        filtered_df[\"calibration_pressure\"], \n",
    "        marker='o', \n",
    "        label=f\"System {id}\"\n",
    "    )\n",
    "\n",
    "    # Customize plot\n",
    "    plt.title(f\"Pressure Drop During Calibration for System {id}\", fontsize=14)\n",
    "    plt.xlabel(\"Timestamp\", fontsize=12)\n",
    "    plt.ylabel(\"Calibration Pressure\", fontsize=12)\n",
    "    plt.xticks(rotation=45)\n",
    "    plt.grid(True, linestyle='--', alpha=0.6)\n",
    "    plt.legend(fontsize=12)\n",
    "\n",
    "    # Show the plot\n",
    "    plt.tight_layout()\n",
    "    plt.show()"
   ]
  },
  {
   "cell_type": "code",
   "execution_count": null,
   "metadata": {},
   "outputs": [],
   "source": [
    "plot_sensor_measurement(df_raw,sensor_id,col_name=\"cal_bottle_id\",filter=None)"
   ]
  },
  {
   "cell_type": "code",
   "execution_count": null,
   "metadata": {},
   "outputs": [],
   "source": [
    "plot_sensor_measurement(df_raw,sensor_id,col_name=\"cal_gmp343_filtered\",filter=None)"
   ]
  },
  {
   "cell_type": "code",
   "execution_count": null,
   "metadata": {},
   "outputs": [],
   "source": [
    "plot_sensor_measurement(df_raw,sensor_id,col_name=\"cal_sht45_humidity\",filter=None)"
   ]
  },
  {
   "cell_type": "code",
   "execution_count": null,
   "metadata": {},
   "outputs": [],
   "source": [
    "plot_sensor_measurement(df_raw,sensor_id,col_name=\"cal_sht45_temperature\",filter=None)"
   ]
  },
  {
   "cell_type": "code",
   "execution_count": null,
   "metadata": {},
   "outputs": [],
   "source": [
    "plot_sensor_measurement(df_raw,sensor_id,col_name=\"cal_gmp343_temperature\",filter=None)"
   ]
  },
  {
   "cell_type": "code",
   "execution_count": null,
   "metadata": {},
   "outputs": [],
   "source": [
    "plot_sensor_measurement(df_raw,sensor_id,col_name=\"cal_bme280_temperature\",filter=None)"
   ]
  },
  {
   "cell_type": "code",
   "execution_count": null,
   "metadata": {},
   "outputs": [],
   "source": [
    "plot_sensor_measurement(df_raw,sensor_id,col_name=\"cal_bme280_humidity\",filter=None)"
   ]
  },
  {
   "cell_type": "code",
   "execution_count": null,
   "metadata": {},
   "outputs": [],
   "source": [
    "plot_sensor_measurement(df_raw,sensor_id,col_name=\"cal_sht45_humidity\",filter=None)"
   ]
  },
  {
   "cell_type": "code",
   "execution_count": null,
   "metadata": {},
   "outputs": [],
   "source": [
    "plot_sensor_measurement(df_raw,sensor_id,col_name=\"cal_bme280_pressure\",filter=None)"
   ]
  },
  {
   "cell_type": "code",
   "execution_count": null,
   "metadata": {},
   "outputs": [],
   "source": [
    "# Plot 400ppm Calibration Bottle \n",
    "plot_sensor_measurement(df_raw,sensor_id,col_name=\"cal_gmp343_filtered\",filter=None,cut_above= 450,cut_below=350)"
   ]
  },
  {
   "cell_type": "code",
   "execution_count": null,
   "metadata": {},
   "outputs": [],
   "source": [
    "# Plot 800ppm Calibration Bottle \n",
    "plot_sensor_measurement(df_raw,sensor_id,col_name=\"cal_gmp343_filtered\",filter=None,cut_below=460)"
   ]
  }
 ],
 "metadata": {
  "kernelspec": {
   "display_name": ".venv",
   "language": "python",
   "name": "python3"
  },
  "language_info": {
   "codemirror_mode": {
    "name": "ipython",
    "version": 3
   },
   "file_extension": ".py",
   "mimetype": "text/x-python",
   "name": "python",
   "nbconvert_exporter": "python",
   "pygments_lexer": "ipython3",
   "version": "3.12.7"
  },
  "orig_nbformat": 4
 },
 "nbformat": 4,
 "nbformat_minor": 2
}
