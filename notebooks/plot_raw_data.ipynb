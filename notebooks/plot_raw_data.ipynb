{
 "cells": [
  {
   "cell_type": "code",
   "execution_count": null,
   "metadata": {},
   "outputs": [],
   "source": [
    "from datetime import datetime\n",
    "from datetime import timezone\n",
    "import polars as pl\n",
    "import os\n",
    "import numpy as np\n",
    "from utils.plot_data import plot_sensor_measurement, plot_wind_rose\n",
    "\n",
    "\n",
    "start_date = datetime(2024,2, 20, 0, 0, 0).replace(tzinfo=timezone.utc)\n",
    "end_date = datetime(2024, 2, 22, 23, 59, 59).replace(tzinfo=timezone.utc)\n",
    "\n",
    "filter = '1h'\n",
    "\n",
    "sensor_id = [1,2,3,4,5,6,7,8,9,10,11,12,13,14,15,16,18,20]\n",
    "#sensor_id = [10,12,16,18,20]\n",
    "\n",
    "DATA_DIRECTORY = os.environ.get(\"DATA_DIRECTORY\")\n",
    "\n",
    "df = pl.scan_parquet(os.path.join(DATA_DIRECTORY, \"download\", \"acropolis.parquet\")).filter(pl.col(\"creation_timestamp\").is_between(start_date, end_date)).collect()\n"
   ]
  },
  {
   "cell_type": "markdown",
   "metadata": {},
   "source": [
    "# Plot other data directly from local database measurements.parquet"
   ]
  },
  {
   "cell_type": "code",
   "execution_count": null,
   "metadata": {},
   "outputs": [],
   "source": [
    "plot_sensor_measurement(df,sensor_id,col_name=\"sht45_humidity\",filter=filter)"
   ]
  },
  {
   "cell_type": "code",
   "execution_count": null,
   "metadata": {},
   "outputs": [],
   "source": [
    "plot_sensor_measurement(df,sensor_id,col_name=\"gmp343_temperature\",filter=filter)"
   ]
  },
  {
   "cell_type": "code",
   "execution_count": null,
   "metadata": {},
   "outputs": [],
   "source": [
    "plot_sensor_measurement(df,sensor_id,col_name=\"wxt532_speed_avg\",filter=filter)"
   ]
  },
  {
   "cell_type": "code",
   "execution_count": null,
   "metadata": {},
   "outputs": [],
   "source": [
    "plot_sensor_measurement(df,sensor_id,col_name=\"bme280_pressure\",filter=filter)"
   ]
  },
  {
   "cell_type": "code",
   "execution_count": null,
   "metadata": {},
   "outputs": [],
   "source": [
    "plot_sensor_measurement(df,sensor_id,col_name=\"enclosure_bme280_temperature\",filter=filter)"
   ]
  },
  {
   "cell_type": "code",
   "execution_count": null,
   "metadata": {},
   "outputs": [],
   "source": [
    "plot_sensor_measurement(df,sensor_id=sensor_id,col_name=\"gmp343_raw\",filter=None)"
   ]
  },
  {
   "cell_type": "code",
   "execution_count": null,
   "metadata": {},
   "outputs": [],
   "source": [
    "plot_sensor_measurement(df,sensor_id,col_name=\"gmp343_compensated\",filter=filter)"
   ]
  },
  {
   "cell_type": "code",
   "execution_count": null,
   "metadata": {},
   "outputs": [],
   "source": [
    "plot_sensor_measurement(df,sensor_id,col_name=\"gmp343_filtered\",filter=filter)"
   ]
  },
  {
   "cell_type": "code",
   "execution_count": null,
   "metadata": {},
   "outputs": [],
   "source": [
    "plot_sensor_measurement(df,sensor_id=[1,2,4,5,6,7,8,14,15],col_name=\"wxt532_temperature\",filter=filter)"
   ]
  },
  {
   "cell_type": "code",
   "execution_count": null,
   "metadata": {},
   "outputs": [],
   "source": [
    "# plot wind at 3m pole inlet\n",
    "plot_wind_rose(df,6, 'TUM')\n",
    "# side by side\n",
    "plot_wind_rose(df,5, 'TUM Inlets') # was 16 until 06.06.2024\n",
    "# Maisach\n",
    "plot_wind_rose(df,16, 'Maisach') # was 1 until 06.06.2024\n",
    "# Rechts-der-Isar\n",
    "plot_wind_rose(df,2, 'Rechts-der-Isar')\n",
    "# Finsing\n",
    "plot_wind_rose(df,3, 'Finsing') # was 15 until 20.02.2024\n",
    "# Großhadern\n",
    "plot_wind_rose(df,20, 'Großhadern') # was 4 until 12.06.2024\n",
    "# Großhadern\n",
    "plot_wind_rose(df,18, 'Pasing') # was 5 until 06.06.2024\n",
    "# Feldkirchen\n",
    "plot_wind_rose(df,13, 'Feldkirchen') # was 7 until 20.02.2024\n",
    "# Taufkirchen\n",
    "plot_wind_rose(df,12, 'Taufkirchen') # was 8 until 12.06.2024\n",
    "# Finsing\n",
    "plot_wind_rose(df,14, 'DLR')"
   ]
  },
  {
   "cell_type": "code",
   "execution_count": null,
   "metadata": {},
   "outputs": [],
   "source": [
    "plot_sensor_measurement(df,sensor_id,col_name=\"wxt532_direction_avg\",filter=filter)"
   ]
  },
  {
   "cell_type": "code",
   "execution_count": null,
   "metadata": {},
   "outputs": [],
   "source": [
    "plot_sensor_measurement(df,sensor_id,col_name=\"bme280_humidity\",filter=filter)"
   ]
  },
  {
   "cell_type": "code",
   "execution_count": null,
   "metadata": {},
   "outputs": [],
   "source": [
    "plot_sensor_measurement(df,sensor_id,col_name=\"sht45_temperature\",filter=filter)"
   ]
  },
  {
   "cell_type": "code",
   "execution_count": null,
   "metadata": {},
   "outputs": [],
   "source": [
    "plot_sensor_measurement(df,sensor_id,col_name=\"bme280_temperature\",filter=filter)"
   ]
  },
  {
   "cell_type": "code",
   "execution_count": null,
   "metadata": {},
   "outputs": [],
   "source": [
    "plot_sensor_measurement(df,sensor_id,col_name=\"raspi_cpu_usage\",filter=filter)"
   ]
  },
  {
   "cell_type": "code",
   "execution_count": null,
   "metadata": {},
   "outputs": [],
   "source": [
    "plot_sensor_measurement(df,sensor_id,col_name=\"raspi_memory_usage\",filter=filter)\n"
   ]
  },
  {
   "cell_type": "code",
   "execution_count": null,
   "metadata": {},
   "outputs": [],
   "source": [
    "plot_sensor_measurement(df,sensor_id,col_name=\"raspi_disk_usage\",filter=filter)\n"
   ]
  },
  {
   "cell_type": "code",
   "execution_count": null,
   "metadata": {},
   "outputs": [],
   "source": [
    "plot_sensor_measurement(df,sensor_id,col_name=\"raspi_cpu_temperature\",filter=filter)"
   ]
  },
  {
   "cell_type": "code",
   "execution_count": null,
   "metadata": {},
   "outputs": [],
   "source": [
    "plot_sensor_measurement(df,sensor_id,col_name=\"enclosure_bme280_humidity\",filter=filter)"
   ]
  },
  {
   "cell_type": "code",
   "execution_count": null,
   "metadata": {},
   "outputs": [],
   "source": [
    "plot_sensor_measurement(df,sensor_id,col_name=\"enclosure_bme280_pressure\",filter=filter)"
   ]
  },
  {
   "cell_type": "markdown",
   "metadata": {},
   "source": [
    "# Calibration Data"
   ]
  },
  {
   "cell_type": "code",
   "execution_count": null,
   "metadata": {},
   "outputs": [],
   "source": [
    "plot_sensor_measurement(df,sensor_id,col_name=\"cal_bottle_id\",filter= '30s')"
   ]
  },
  {
   "cell_type": "code",
   "execution_count": null,
   "metadata": {},
   "outputs": [],
   "source": [
    "plot_sensor_measurement(df,sensor_id,col_name=\"cal_gmp343_filtered\",filter= '30s')"
   ]
  },
  {
   "cell_type": "code",
   "execution_count": null,
   "metadata": {},
   "outputs": [],
   "source": [
    "plot_sensor_measurement(df,sensor_id,col_name=\"cal_sht45_humidity\",filter= '10s')"
   ]
  },
  {
   "cell_type": "code",
   "execution_count": null,
   "metadata": {},
   "outputs": [],
   "source": [
    "plot_sensor_measurement(df,sensor_id,col_name=\"cal_sht45_temperature\",filter= '30s')"
   ]
  },
  {
   "cell_type": "code",
   "execution_count": null,
   "metadata": {},
   "outputs": [],
   "source": [
    "plot_sensor_measurement(df,sensor_id,col_name=\"cal_gmp343_temperature\",filter= '30s')"
   ]
  },
  {
   "cell_type": "code",
   "execution_count": null,
   "metadata": {},
   "outputs": [],
   "source": [
    "plot_sensor_measurement(df,sensor_id,col_name=\"cal_bme280_temperature\",filter= '30s')"
   ]
  },
  {
   "cell_type": "code",
   "execution_count": null,
   "metadata": {},
   "outputs": [],
   "source": [
    "plot_sensor_measurement(df,sensor_id,col_name=\"cal_bme280_humidity\",filter= '30s')"
   ]
  },
  {
   "cell_type": "code",
   "execution_count": null,
   "metadata": {},
   "outputs": [],
   "source": [
    "plot_sensor_measurement(df,sensor_id,col_name=\"cal_bme280_pressure\",filter= '30s')"
   ]
  },
  {
   "cell_type": "code",
   "execution_count": null,
   "metadata": {},
   "outputs": [],
   "source": [
    "# Plot 400ppm Calibration Bottle \n",
    "plot_sensor_measurement(df,sensor_id,col_name=\"cal_gmp343_filtered\",filter= '1m',cut_above= 450,cut_below=350)"
   ]
  },
  {
   "cell_type": "code",
   "execution_count": null,
   "metadata": {},
   "outputs": [],
   "source": [
    "# Plot 800ppm Calibration Bottle \n",
    "plot_sensor_measurement(df,sensor_id,col_name=\"cal_gmp343_filtered\",filter= '30s',cut_below=460)"
   ]
  }
 ],
 "metadata": {
  "kernelspec": {
   "display_name": ".venv",
   "language": "python",
   "name": "python3"
  },
  "language_info": {
   "codemirror_mode": {
    "name": "ipython",
    "version": 3
   },
   "file_extension": ".py",
   "mimetype": "text/x-python",
   "name": "python",
   "nbconvert_exporter": "python",
   "pygments_lexer": "ipython3",
   "version": "3.11.6"
  },
  "orig_nbformat": 4
 },
 "nbformat": 4,
 "nbformat_minor": 2
}
