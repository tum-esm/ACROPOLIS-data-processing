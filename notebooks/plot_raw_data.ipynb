{
 "cells": [
  {
   "cell_type": "code",
   "execution_count": 12,
   "metadata": {},
   "outputs": [],
   "source": [
    "import os\n",
    "import sys\n",
    "import polars as pl\n",
    "import polars.selectors as cs\n",
    "\n",
    "from datetime import datetime\n",
    "\n",
    "PROJECT_PATH = os.path.abspath(os.path.join(\"..\"))\n",
    "PIPELINE_PATH = os.path.join(PROJECT_PATH, \"pipeline\")\n",
    "DATA_DIRECTORY = os.path.join(PROJECT_PATH, \"data\")\n",
    "\n",
    "unflagged_data = False\n",
    "\n",
    "if PIPELINE_PATH not in sys.path:\n",
    "    sys.path.append(PIPELINE_PATH)\n",
    "    \n",
    "from utils.paths import PROCESSED_PICARRO_DATA_DIRECTORY, POSTPROCESSED_DATA_DIRECTORY\n",
    "from utils.import_data import import_acropolis_system_data\n",
    "from utils.plot_dataframes import plot_column, plot_column_difference\n",
    "\n",
    "assert(os.path.exists(POSTPROCESSED_DATA_DIRECTORY))\n",
    "assert(os.path.exists(PROCESSED_PICARRO_DATA_DIRECTORY))"
   ]
  },
  {
   "cell_type": "code",
   "execution_count": 13,
   "metadata": {},
   "outputs": [],
   "source": [
    "# Filters\n",
    "start_date = datetime(2025, 1, 1, 0, 0, 0)\n",
    "end_date = datetime(2025, 3 , 31, 23, 59, 59)\n",
    "\n",
    "filter = '1h'\n",
    "ids = [1,2,3,4,5,6,7,8,9,10,11,12,13,14,15,16,17,18,19,20]"
   ]
  },
  {
   "cell_type": "code",
   "execution_count": null,
   "metadata": {},
   "outputs": [
    {
     "data": {
      "text/html": [
       "<div><style>\n",
       ".dataframe > thead > tr,\n",
       ".dataframe > tbody > tr {\n",
       "  text-align: right;\n",
       "  white-space: pre-wrap;\n",
       "}\n",
       "</style>\n",
       "<small>shape: (2, 5)</small><table border=\"1\" class=\"dataframe\"><thead><tr><th>system_name</th><th>system_id</th><th>datetime</th><th>picarro_corrected</th><th>h2o_reported</th></tr><tr><td>str</td><td>i32</td><td>datetime[ms]</td><td>f64</td><td>f64</td></tr></thead><tbody><tr><td>&quot;Picarro_G2401&quot;</td><td>529</td><td>2025-01-01 00:00:00</td><td>478.804939</td><td>0.576353</td></tr><tr><td>&quot;Picarro_G2401&quot;</td><td>529</td><td>2025-02-24 12:55:00</td><td>610.96252</td><td>0.001298</td></tr></tbody></table></div>"
      ],
      "text/plain": [
       "shape: (2, 5)\n",
       "┌───────────────┬───────────┬─────────────────────┬───────────────────┬──────────────┐\n",
       "│ system_name   ┆ system_id ┆ datetime            ┆ picarro_corrected ┆ h2o_reported │\n",
       "│ ---           ┆ ---       ┆ ---                 ┆ ---               ┆ ---          │\n",
       "│ str           ┆ i32       ┆ datetime[ms]        ┆ f64               ┆ f64          │\n",
       "╞═══════════════╪═══════════╪═════════════════════╪═══════════════════╪══════════════╡\n",
       "│ Picarro_G2401 ┆ 529       ┆ 2025-01-01 00:00:00 ┆ 478.804939        ┆ 0.576353     │\n",
       "│ Picarro_G2401 ┆ 529       ┆ 2025-02-24 12:55:00 ┆ 610.96252         ┆ 0.001298     │\n",
       "└───────────────┴───────────┴─────────────────────┴───────────────────┴──────────────┘"
      ]
     },
     "execution_count": 16,
     "metadata": {},
     "output_type": "execute_result"
    }
   ],
   "source": [
    "# Load Picarro Data\n",
    "# DWD Picarro: \"Calibrated_1_min_DWD_Picarro_G2301_413.parquet\"\n",
    "df_p_dwd = pl.scan_parquet(os.path.join(PROCESSED_PICARRO_DATA_DIRECTORY,\"Calibrated_1_min_DWD_Picarro_G2301_413.parquet\"))\n",
    "df_p_dwd = df_p_dwd.filter(pl.col(\"datetime\").is_between(start_date, end_date)).collect()\n",
    "\n",
    "# ICOS Picarro: \"Calibrated_1_min_ICOS_Picarro_G2401_529.parquet\"\n",
    "df_p_icos = pl.scan_parquet(os.path.join(PROCESSED_PICARRO_DATA_DIRECTORY,\"Calibrated_1_min_ICOS_Picarro_G2401_529.parquet\"))\n",
    "df_p_icos = df_p_icos.filter(pl.col(\"datetime\").is_between(start_date, end_date)).collect()\n",
    "    \n",
    "df_p = pl.concat([df_p_dwd,df_p_icos], how=\"diagonal\")\n",
    "del df_p_dwd, df_p_icos\n",
    "df_p.head(1).vstack(df_p.tail(1))"
   ]
  },
  {
   "cell_type": "code",
   "execution_count": 19,
   "metadata": {},
   "outputs": [
    {
     "name": "stdout",
     "output_type": "stream",
     "text": [
      "Processing system: 1\n",
      "Processing system: 2\n",
      "Processing system: 3\n",
      "Processing system: 4\n",
      "Processing system: 5\n",
      "Processing system: 6\n",
      "Processing system: 7\n",
      "Processing system: 8\n",
      "Processing system: 9\n",
      "Processing system: 10\n",
      "Processing system: 11\n",
      "Processing system: 12\n",
      "Processing system: 13\n",
      "Processing system: 14\n",
      "Processing system: 15\n",
      "Processing system: 16\n",
      "Processing system: 17\n",
      "Processing system: 18\n",
      "Processing system: 19\n",
      "Processing system: 20\n"
     ]
    },
    {
     "data": {
      "text/html": [
       "<div><style>\n",
       ".dataframe > thead > tr,\n",
       ".dataframe > tbody > tr {\n",
       "  text-align: right;\n",
       "  white-space: pre-wrap;\n",
       "}\n",
       "</style>\n",
       "<small>shape: (2, 51)</small><table border=\"1\" class=\"dataframe\"><thead><tr><th>system_id</th><th>system_name</th><th>datetime</th><th>ts</th><th>gmp343_raw</th><th>gmp343_compensated</th><th>gmp343_filtered</th><th>gmp343_temperature</th><th>bme280_temperature</th><th>bme280_humidity</th><th>bme280_pressure</th><th>sht45_temperature</th><th>sht45_humidity</th><th>gmp343_edge_corrected</th><th>gmp343_edge_dry</th><th>h2o_ah</th><th>h2o_v%</th><th>bme280_h2o_v%</th><th>gmp343_dry</th><th>slope</th><th>intercept</th><th>slope_interpolated</th><th>intercept_interpolated</th><th>gmp343_corrected</th><th>wxt532_direction_min</th><th>wxt532_direction_avg</th><th>wxt532_direction_max</th><th>wxt532_speed_min</th><th>wxt532_speed_avg</th><th>wxt532_speed_max</th><th>wxt532_last_update_time</th><th>wxt532_temperature</th><th>wxt532_heating_voltage</th><th>wxt532_supply_voltage</th><th>wxt532_reference_voltage</th><th>enclosure_bme280_temperature</th><th>enclosure_bme280_humidity</th><th>enclosure_bme280_pressure</th><th>raspi_cpu_temperature</th><th>raspi_disk_usage</th><th>raspi_cpu_usage</th><th>raspi_memory_usage</th><th>ups_powered_by_grid</th><th>ups_battery_is_fully_charged</th><th>ups_battery_error_detected</th><th>ups_battery_above_voltage_threshold</th><th>cal_gmp343_slope</th><th>cal_gmp343_intercept</th><th>cal_sht_45_offset</th><th>gmp343_corrected_std</th><th>gmp343_corrected_var</th></tr><tr><td>i32</td><td>str</td><td>datetime[ms]</td><td>f64</td><td>f64</td><td>f64</td><td>f64</td><td>f64</td><td>f64</td><td>f64</td><td>f64</td><td>f64</td><td>f64</td><td>f64</td><td>f64</td><td>f64</td><td>f64</td><td>f64</td><td>f64</td><td>f64</td><td>f64</td><td>f64</td><td>f64</td><td>f64</td><td>f64</td><td>f64</td><td>f64</td><td>f64</td><td>f64</td><td>f64</td><td>f64</td><td>f64</td><td>f64</td><td>f64</td><td>f64</td><td>f64</td><td>f64</td><td>f64</td><td>f64</td><td>f64</td><td>f64</td><td>f64</td><td>f64</td><td>f64</td><td>f64</td><td>f64</td><td>f64</td><td>f64</td><td>f64</td><td>f64</td><td>f64</td></tr></thead><tbody><tr><td>1</td><td>&quot;acropolis-1&quot;</td><td>2025-01-01 11:00:00</td><td>1.7357e12</td><td>387.317593</td><td>482.248148</td><td>481.905556</td><td>28.948148</td><td>26.610833</td><td>20.412685</td><td>895.970741</td><td>26.498426</td><td>24.399907</td><td>null</td><td>null</td><td>7.012646</td><td>1.08969</td><td>0.911146</td><td>487.208109</td><td>0.98256</td><td>-33.952002</td><td>0.980005</td><td>-32.632331</td><td>444.834106</td><td>12.555556</td><td>211.244444</td><td>349.666667</td><td>0.122222</td><td>2.738889</td><td>7.15</td><td>1.7357e9</td><td>null</td><td>null</td><td>null</td><td>null</td><td>33.253889</td><td>14.056667</td><td>960.431667</td><td>52.511111</td><td>0.576</td><td>0.021722</td><td>0.143778</td><td>1.0</td><td>1.0</td><td>0.0</td><td>1.0</td><td>null</td><td>null</td><td>null</td><td>22.379079</td><td>500.823182</td></tr><tr><td>20</td><td>&quot;acropolis-20&quot;</td><td>2025-02-25 08:00:00</td><td>1.7405e12</td><td>412.957895</td><td>472.954386</td><td>473.037719</td><td>28.751754</td><td>24.243772</td><td>20.287368</td><td>933.893509</td><td>24.881495</td><td>24.150243</td><td>464.262281</td><td>477.913158</td><td>6.849794</td><td>1.021948</td><td>0.858486</td><td>477.922039</td><td>1.011658</td><td>-19.43961</td><td>1.011658</td><td>-19.43961</td><td>464.053833</td><td>171.421053</td><td>206.136842</td><td>249.0</td><td>0.621053</td><td>1.436842</td><td>2.226316</td><td>1.7405e9</td><td>null</td><td>null</td><td>null</td><td>null</td><td>31.414211</td><td>15.764211</td><td>951.174211</td><td>51.363158</td><td>0.248</td><td>0.020895</td><td>0.074474</td><td>1.0</td><td>1.0</td><td>0.0</td><td>0.0</td><td>null</td><td>null</td><td>null</td><td>6.628763</td><td>43.940499</td></tr></tbody></table></div>"
      ],
      "text/plain": [
       "shape: (2, 51)\n",
       "┌───────────┬───────────┬───────────┬───────────┬───┬───────────┬───────────┬───────────┬──────────┐\n",
       "│ system_id ┆ system_na ┆ datetime  ┆ ts        ┆ … ┆ cal_gmp34 ┆ cal_sht_4 ┆ gmp343_co ┆ gmp343_c │\n",
       "│ ---       ┆ me        ┆ ---       ┆ ---       ┆   ┆ 3_interce ┆ 5_offset  ┆ rrected_s ┆ orrected │\n",
       "│ i32       ┆ ---       ┆ datetime[ ┆ f64       ┆   ┆ pt        ┆ ---       ┆ td        ┆ _var     │\n",
       "│           ┆ str       ┆ ms]       ┆           ┆   ┆ ---       ┆ f64       ┆ ---       ┆ ---      │\n",
       "│           ┆           ┆           ┆           ┆   ┆ f64       ┆           ┆ f64       ┆ f64      │\n",
       "╞═══════════╪═══════════╪═══════════╪═══════════╪═══╪═══════════╪═══════════╪═══════════╪══════════╡\n",
       "│ 1         ┆ acropolis ┆ 2025-01-0 ┆ 1.7357e12 ┆ … ┆ null      ┆ null      ┆ 22.379079 ┆ 500.8231 │\n",
       "│           ┆ -1        ┆ 1         ┆           ┆   ┆           ┆           ┆           ┆ 82       │\n",
       "│           ┆           ┆ 11:00:00  ┆           ┆   ┆           ┆           ┆           ┆          │\n",
       "│ 20        ┆ acropolis ┆ 2025-02-2 ┆ 1.7405e12 ┆ … ┆ null      ┆ null      ┆ 6.628763  ┆ 43.94049 │\n",
       "│           ┆ -20       ┆ 5         ┆           ┆   ┆           ┆           ┆           ┆ 9        │\n",
       "│           ┆           ┆ 08:00:00  ┆           ┆   ┆           ┆           ┆           ┆          │\n",
       "└───────────┴───────────┴───────────┴───────────┴───┴───────────┴───────────┴───────────┴──────────┘"
      ]
     },
     "execution_count": 19,
     "metadata": {},
     "output_type": "execute_result"
    }
   ],
   "source": [
    "# Load ACROPOLIS Data\n",
    "all_systems = []\n",
    "\n",
    "for id in ids:\n",
    "    print(\"Processing system:\", id)\n",
    "\n",
    "    df_system = import_acropolis_system_data(\n",
    "            years=[2024,2025],\n",
    "            target_directory=POSTPROCESSED_DATA_DIRECTORY,\n",
    "            id=id,\n",
    "            prefix=\"1min\"\n",
    "        ).group_by_dynamic(\"datetime\", every=filter, group_by=[\"system_id\", \"system_name\"]) \\\n",
    "            .agg([\n",
    "                  cs.numeric().mean(),\n",
    "                  pl.col(\"gmp343_corrected\").std().alias(\"gmp343_corrected_std\"),\n",
    "                  pl.col(\"gmp343_corrected\").var().alias(\"gmp343_corrected_var\")\n",
    "              ]) \\\n",
    "        .filter(pl.col(\"datetime\").is_between(start_date, end_date))\n",
    "        \n",
    "    all_systems.append(df_system)\n",
    "    \n",
    "del df_system\n",
    "df = pl.concat(all_systems, how=\"diagonal\").collect()\n",
    "df.head(1).vstack(df.tail(1))"
   ]
  },
  {
   "cell_type": "code",
   "execution_count": null,
   "metadata": {},
   "outputs": [],
   "source": []
  },
  {
   "cell_type": "code",
   "execution_count": null,
   "metadata": {},
   "outputs": [],
   "source": [
    "plot_sensor_measurement(df,sensor_id,col_name=\"enclosure_bme280_humidity\",filter=filter)"
   ]
  },
  {
   "cell_type": "code",
   "execution_count": null,
   "metadata": {},
   "outputs": [],
   "source": [
    "plot_sensor_measurement(df,sensor_id,col_name=\"gmp343_temperature\",filter=filter)"
   ]
  },
  {
   "cell_type": "code",
   "execution_count": null,
   "metadata": {},
   "outputs": [],
   "source": [
    "plot_sensor_measurement(df,sensor_id=sensor_id,col_name=\"gmp343_corrected\",filter=filter)"
   ]
  },
  {
   "cell_type": "code",
   "execution_count": null,
   "metadata": {},
   "outputs": [],
   "source": [
    "plot_sensor_measurement(df,sensor_id=sensor_id,col_name=\"wxt532_speed_avg\",filter=filter)"
   ]
  },
  {
   "cell_type": "code",
   "execution_count": null,
   "metadata": {},
   "outputs": [],
   "source": [
    "plot_sensor_measurement(df,sensor_id,col_name=\"sht45_humidity\",filter=filter)"
   ]
  },
  {
   "cell_type": "code",
   "execution_count": null,
   "metadata": {},
   "outputs": [],
   "source": [
    "plot_sensor_measurement(df,sensor_id,col_name=\"h2o_v%\",filter=filter)"
   ]
  },
  {
   "cell_type": "code",
   "execution_count": null,
   "metadata": {},
   "outputs": [],
   "source": [
    "plot_sensor_measurement(df,sensor_id,col_name=\"bme280_humidity\",filter=filter)"
   ]
  },
  {
   "cell_type": "code",
   "execution_count": null,
   "metadata": {},
   "outputs": [],
   "source": [
    "plot_sensor_measurement(df,sensor_id,col_name=\"bme280_h2o_v%\",filter=filter)"
   ]
  },
  {
   "cell_type": "code",
   "execution_count": null,
   "metadata": {},
   "outputs": [],
   "source": [
    "df_plot = df_raw.with_columns(diff_inflow_humidity = (pl.col(\"sht45_humidity\") - pl.col(\"bme280_humidity\"))) \\\n",
    "    .filter(pl.col(\"diff_inflow_humidity\").is_not_nan()) \\\n",
    "    .select(\"creation_timestamp\", \"diff_inflow_humidity\", \"system_id\") \\\n",
    "    .sort(\"system_id\")\n",
    "    \n",
    "plot_sensor_measurement(df_plot,sensor_id,col_name=\"diff_inflow_humidity\",filter=filter)"
   ]
  },
  {
   "cell_type": "code",
   "execution_count": null,
   "metadata": {},
   "outputs": [],
   "source": [
    "df_plot = df.with_columns(diff_inflow_humidity = (pl.col(\"h2o_v%\") - pl.col(\"bme280_h2o_v%\"))) \\\n",
    "    .filter(pl.col(\"diff_inflow_humidity\").is_not_nan()) \\\n",
    "    .select(\"creation_timestamp\", \"diff_inflow_humidity\", \"system_id\") \\\n",
    "    .sort(\"system_id\")\n",
    "    \n",
    "plot_sensor_measurement(df_plot,sensor_id,col_name=\"diff_inflow_humidity\",filter=filter)"
   ]
  },
  {
   "cell_type": "code",
   "execution_count": null,
   "metadata": {},
   "outputs": [],
   "source": [
    "plot_sensor_measurement(df,sensor_id,col_name=\"sht45_temperature\",filter=filter)"
   ]
  },
  {
   "cell_type": "code",
   "execution_count": null,
   "metadata": {},
   "outputs": [],
   "source": [
    "plot_sensor_measurement(df,sensor_id,col_name=\"bme280_temperature\",filter=filter)"
   ]
  },
  {
   "cell_type": "code",
   "execution_count": null,
   "metadata": {},
   "outputs": [],
   "source": [
    "df_plot = df_raw.with_columns(diff_inflow_temperature = (pl.col(\"sht45_temperature\") - pl.col(\"bme280_temperature\"))) \\\n",
    "    .filter(pl.col(\"diff_inflow_temperature\").is_not_nan()) \\\n",
    "    .select(\"creation_timestamp\", \"diff_inflow_temperature\", \"system_id\") \\\n",
    "    .sort(\"system_id\")\n",
    "    \n",
    "plot_sensor_measurement(df_plot,sensor_id,col_name=\"diff_inflow_temperature\",filter=filter)"
   ]
  },
  {
   "cell_type": "code",
   "execution_count": null,
   "metadata": {},
   "outputs": [],
   "source": [
    "plot_sensor_measurement(df,sensor_id,col_name=\"bme280_pressure\",filter=filter)"
   ]
  },
  {
   "cell_type": "code",
   "execution_count": null,
   "metadata": {},
   "outputs": [],
   "source": [
    "plot_sensor_measurement(df,sensor_id,col_name=\"enclosure_bme280_temperature\",filter=filter)"
   ]
  },
  {
   "cell_type": "code",
   "execution_count": null,
   "metadata": {},
   "outputs": [],
   "source": [
    "plot_sensor_measurement(df,sensor_id=sensor_id,col_name=\"gmp343_raw\",filter=filter)"
   ]
  },
  {
   "cell_type": "code",
   "execution_count": null,
   "metadata": {},
   "outputs": [],
   "source": [
    "plot_sensor_measurement(df,sensor_id,col_name=\"gmp343_compensated\",filter=filter)"
   ]
  },
  {
   "cell_type": "code",
   "execution_count": null,
   "metadata": {},
   "outputs": [],
   "source": [
    "plot_sensor_measurement(df,sensor_id,col_name=\"wxt532_temperature\",filter=filter)"
   ]
  },
  {
   "cell_type": "code",
   "execution_count": null,
   "metadata": {},
   "outputs": [],
   "source": [
    "# KLEG\n",
    "plot_co2_rose(df, 1, 'Klenze Gymnasium')\n",
    "\n",
    "# X\n",
    "#plot_co2_rose(df, 2, 'X')\n",
    "\n",
    "# X\n",
    "#plot_co2_rose(df, 3, 'X')\n",
    "\n",
    "# X\n",
    "#plot_co2_rose(df, 4, 'X')\n",
    "\n",
    "# DLRO\n",
    "plot_co2_rose(df, 5, 'DLR')\n",
    "\n",
    "# TUMN\n",
    "plot_co2_rose(df, 6, 'TUM')\n",
    "\n",
    "# FB85\n",
    "#plot_co2_rose(df, 7, 'Blutenburgturm 85m')\n",
    "\n",
    "# KRDI\n",
    "plot_co2_rose(df, 8, 'Klinikum Rechts-der-Isar')\n",
    "\n",
    "# KNPL\n",
    "plot_co2_rose(df, 9, 'Klinikum Neuperlach')\n",
    "\n",
    "# SWGG\n",
    "plot_co2_rose(df, 10, 'Städtisches Willi Graf Gymnasium')\n",
    "\n",
    "# RFIN\n",
    "plot_co2_rose(df, 11, 'Rathaus Finsing')\n",
    "\n",
    "# WKRT\n",
    "plot_co2_rose(df, 12, 'Walter-Klingenbeck-Realschule')\n",
    "\n",
    "# RFEL\n",
    "plot_co2_rose(df, 13, 'Rathaus Feldkirchen')\n",
    "\n",
    "# FB48\n",
    "#plot_co2_rose(df, 14, 'Blutenburgturm 48m')\n",
    "\n",
    "# SWMZ\n",
    "plot_co2_rose(df, 15, 'Stadtwerke München Zentrale')\n",
    "\n",
    "# SMAI\n",
    "plot_co2_rose(df, 16, 'Schule Maisach')\n",
    "\n",
    "# KBOG\n",
    "#plot_co2_rose(df, 17, 'Klinikum Bogenhausen')\n",
    "\n",
    "# SBBG\n",
    "plot_co2_rose(df, 18, 'Städtisches Bertolt Brecht Gymnasium')\n",
    "\n",
    "# X\n",
    "#plot_o2_rose(df, 19, 'X')\n",
    "\n",
    "# LGRO\n",
    "plot_co2_rose(df, 20, 'LMU Großhadern')\n",
    "\n"
   ]
  },
  {
   "cell_type": "code",
   "execution_count": null,
   "metadata": {},
   "outputs": [],
   "source": [
    "# KLEG\n",
    "plot_wind_rose(df, 1, 'Klenze Gymnasium')\n",
    "\n",
    "# X\n",
    "#plot_wind_rose(df, 2, 'X')\n",
    "\n",
    "# X\n",
    "#plot_wind_rose(df, 3, 'X')\n",
    "\n",
    "# X\n",
    "#plot_wind_rose(df, 4, 'X')\n",
    "\n",
    "# DLRO\n",
    "plot_wind_rose(df, 5, 'DLR')\n",
    "\n",
    "# TUMN\n",
    "plot_wind_rose(df, 6, 'TUM')\n",
    "\n",
    "# FB85\n",
    "#plot_wind_rose(df, 7, 'Blutenburgturm 85m')\n",
    "\n",
    "# KRDI\n",
    "plot_wind_rose(df, 8, 'Klinikum Rechts-der-Isar')\n",
    "\n",
    "# KNPL\n",
    "plot_wind_rose(df, 9, 'Klinikum Neuperlach')\n",
    "\n",
    "# SWGG\n",
    "plot_wind_rose(df, 10, 'Städtisches Willi Graf Gymnasium')\n",
    "\n",
    "# RFIN\n",
    "plot_wind_rose(df, 11, 'Rathaus Finsing')\n",
    "\n",
    "# WKRT\n",
    "plot_wind_rose(df, 12, 'Walter-Klingenbeck-Realschule')\n",
    "\n",
    "# RFEL\n",
    "plot_wind_rose(df, 13, 'Rathaus Feldkirchen')\n",
    "\n",
    "# FB48\n",
    "#plot_wind_rose(df, 14, 'Blutenburgturm 48m')\n",
    "\n",
    "# SWMZ\n",
    "plot_wind_rose(df, 15, 'Stadtwerke München Zentrale')\n",
    "\n",
    "# SMAI\n",
    "plot_wind_rose(df, 16, 'Schule Maisach')\n",
    "\n",
    "# KBOG\n",
    "#plot_wind_rose(df, 17, 'Klinikum Bogenhausen')\n",
    "\n",
    "# SBBG\n",
    "plot_wind_rose(df, 18, 'Städtisches Bertolt Brecht Gymnasium')\n",
    "\n",
    "# X\n",
    "#plot_o2_rose(df, 19, 'X')\n",
    "\n",
    "# LGRO\n",
    "plot_wind_rose(df, 20, 'LMU Großhadern')\n",
    "\n"
   ]
  },
  {
   "cell_type": "code",
   "execution_count": null,
   "metadata": {},
   "outputs": [],
   "source": [
    "plot_sensor_measurement(df,sensor_id,col_name=\"wxt532_direction_avg\",filter=filter)"
   ]
  },
  {
   "cell_type": "code",
   "execution_count": null,
   "metadata": {},
   "outputs": [],
   "source": [
    "plot_sensor_measurement(df,sensor_id,col_name=\"raspi_cpu_usage\",filter=filter)"
   ]
  },
  {
   "cell_type": "code",
   "execution_count": null,
   "metadata": {},
   "outputs": [],
   "source": [
    "plot_sensor_measurement(df,sensor_id,col_name=\"raspi_memory_usage\",filter=filter)\n"
   ]
  },
  {
   "cell_type": "code",
   "execution_count": null,
   "metadata": {},
   "outputs": [],
   "source": [
    "plot_sensor_measurement(df,sensor_id,col_name=\"raspi_disk_usage\",filter=filter)\n"
   ]
  },
  {
   "cell_type": "code",
   "execution_count": null,
   "metadata": {},
   "outputs": [],
   "source": [
    "plot_sensor_measurement(df,sensor_id,col_name=\"raspi_cpu_temperature\",filter=filter)"
   ]
  },
  {
   "cell_type": "code",
   "execution_count": null,
   "metadata": {},
   "outputs": [],
   "source": [
    "plot_sensor_measurement(df,sensor_id,col_name=\"enclosure_bme280_pressure\",filter=filter)"
   ]
  },
  {
   "cell_type": "code",
   "execution_count": null,
   "metadata": {},
   "outputs": [],
   "source": [
    "df_plot = df.with_columns(pl.col(\"enclosure_bme280_pressure\").forward_fill().backward_fill()) \\\n",
    "    .with_columns(measurement_pressure = (pl.col(\"bme280_pressure\") - pl.col(\"enclosure_bme280_pressure\"))) \\\n",
    "    .filter(pl.col(\"measurement_pressure\").is_not_nan()) \\\n",
    "    .select(\"creation_timestamp\", \"measurement_pressure\", \"system_id\") \\\n",
    "    .sort(\"system_id\")\n",
    "    \n",
    "\n",
    "import matplotlib.pyplot as plt\n",
    "import polars as pl\n",
    "\n",
    "for id in sensor_id:\n",
    "    \n",
    "    # Filter data for the given system_id\n",
    "    filtered_df = (\n",
    "    df_plot.filter(pl.col(\"system_id\") == id)\n",
    ")\n",
    "\n",
    "    # Plot using Matplotlib\n",
    "    plt.figure(figsize=(10, 6))\n",
    "    plt.plot(\n",
    "        filtered_df[\"creation_timestamp\"], \n",
    "        filtered_df[\"measurement_pressure\"], \n",
    "        marker='o', \n",
    "        label=f\"System {id}\"\n",
    "    )\n",
    "\n",
    "    # Customize plot\n",
    "    plt.title(f\"Pressure Drop During Measurement for System {id}\", fontsize=14)\n",
    "    plt.xlabel(\"Timestamp\", fontsize=12)\n",
    "    plt.ylabel(\"measurement_pressure\", fontsize=12)\n",
    "    plt.xticks(rotation=45)\n",
    "    plt.grid(True, linestyle='--', alpha=0.6)\n",
    "    plt.legend(fontsize=12)\n",
    "\n",
    "    # Show the plot\n",
    "    plt.tight_layout()\n",
    "    plt.show()"
   ]
  },
  {
   "cell_type": "markdown",
   "metadata": {},
   "source": [
    "# Calibration Data"
   ]
  },
  {
   "cell_type": "code",
   "execution_count": null,
   "metadata": {},
   "outputs": [],
   "source": [
    "df_plot = df_raw.group_by_dynamic(\"creation_timestamp\", every='1d', by=[\"system_id\", \"cal_sht45_humidity\"]) \\\n",
    "    .agg(pl.all().exclude([\"creation_timestamp\",\"cal_sht45_humidity\"]).min()) \\\n",
    "    .select(\"creation_timestamp\", \"cal_sht45_humidity\", \"system_id\") \\\n",
    "\n",
    "\n",
    "\n",
    "plot_sensor_measurement(df_plot,sensor_id,col_name=\"cal_sht45_humidity\",filter='1h')"
   ]
  },
  {
   "cell_type": "code",
   "execution_count": null,
   "metadata": {},
   "outputs": [],
   "source": [
    "df_plot = df_raw.with_columns(pl.col(\"enclosure_bme280_pressure\").forward_fill().backward_fill()) \\\n",
    "    .with_columns(calibration_pressure = (pl.col(\"cal_bme280_pressure\") - pl.col(\"enclosure_bme280_pressure\"))) \\\n",
    "    .filter(pl.col(\"calibration_pressure\").is_not_nan()) \\\n",
    "    .select(\"creation_timestamp\", \"calibration_pressure\", \"system_id\") \\\n",
    "    .sort(\"system_id\")\n",
    "\n",
    "import matplotlib.pyplot as plt\n",
    "import polars as pl\n",
    "\n",
    "for id in sensor_id:\n",
    "    \n",
    "    # Filter data for the given system_id\n",
    "    filtered_df = (\n",
    "    df_plot.filter(pl.col(\"system_id\") == id)\n",
    ")\n",
    "\n",
    "    # Plot using Matplotlib\n",
    "    plt.figure(figsize=(10, 6))\n",
    "    plt.plot(\n",
    "        filtered_df[\"creation_timestamp\"], \n",
    "        filtered_df[\"calibration_pressure\"], \n",
    "        marker='o', \n",
    "        label=f\"System {id}\"\n",
    "    )\n",
    "\n",
    "    # Customize plot\n",
    "    plt.title(f\"Pressure Drop During Calibration for System {id}\", fontsize=14)\n",
    "    plt.xlabel(\"Timestamp\", fontsize=12)\n",
    "    plt.ylabel(\"Calibration Pressure\", fontsize=12)\n",
    "    plt.xticks(rotation=45)\n",
    "    plt.grid(True, linestyle='--', alpha=0.6)\n",
    "    plt.legend(fontsize=12)\n",
    "\n",
    "    # Show the plot\n",
    "    plt.tight_layout()\n",
    "    plt.show()"
   ]
  },
  {
   "cell_type": "code",
   "execution_count": null,
   "metadata": {},
   "outputs": [],
   "source": [
    "plot_sensor_measurement(df_raw,sensor_id,col_name=\"cal_bottle_id\",filter=None)"
   ]
  },
  {
   "cell_type": "code",
   "execution_count": null,
   "metadata": {},
   "outputs": [],
   "source": [
    "plot_sensor_measurement(df_raw,sensor_id,col_name=\"cal_gmp343_filtered\",filter=None)"
   ]
  },
  {
   "cell_type": "code",
   "execution_count": null,
   "metadata": {},
   "outputs": [],
   "source": [
    "plot_sensor_measurement(df_raw,sensor_id,col_name=\"cal_sht45_humidity\",filter=None)"
   ]
  },
  {
   "cell_type": "code",
   "execution_count": null,
   "metadata": {},
   "outputs": [],
   "source": [
    "plot_sensor_measurement(df_raw,sensor_id,col_name=\"cal_sht45_temperature\",filter=None)"
   ]
  },
  {
   "cell_type": "code",
   "execution_count": null,
   "metadata": {},
   "outputs": [],
   "source": [
    "plot_sensor_measurement(df_raw,sensor_id,col_name=\"cal_gmp343_temperature\",filter=None)"
   ]
  },
  {
   "cell_type": "code",
   "execution_count": null,
   "metadata": {},
   "outputs": [],
   "source": [
    "plot_sensor_measurement(df_raw,sensor_id,col_name=\"cal_bme280_temperature\",filter=None)"
   ]
  },
  {
   "cell_type": "code",
   "execution_count": null,
   "metadata": {},
   "outputs": [],
   "source": [
    "plot_sensor_measurement(df_raw,sensor_id,col_name=\"cal_bme280_humidity\",filter=None)"
   ]
  },
  {
   "cell_type": "code",
   "execution_count": null,
   "metadata": {},
   "outputs": [],
   "source": [
    "plot_sensor_measurement(df_raw,sensor_id,col_name=\"cal_sht45_humidity\",filter=None)"
   ]
  },
  {
   "cell_type": "code",
   "execution_count": null,
   "metadata": {},
   "outputs": [],
   "source": [
    "plot_sensor_measurement(df_raw,sensor_id,col_name=\"cal_bme280_pressure\",filter=None)"
   ]
  },
  {
   "cell_type": "code",
   "execution_count": null,
   "metadata": {},
   "outputs": [],
   "source": [
    "# Plot 400ppm Calibration Bottle \n",
    "plot_sensor_measurement(df_raw,sensor_id,col_name=\"cal_gmp343_filtered\",filter=None,cut_above= 450,cut_below=350)"
   ]
  },
  {
   "cell_type": "code",
   "execution_count": null,
   "metadata": {},
   "outputs": [],
   "source": [
    "# Plot 800ppm Calibration Bottle \n",
    "plot_sensor_measurement(df_raw,sensor_id,col_name=\"cal_gmp343_filtered\",filter=None,cut_below=460)"
   ]
  }
 ],
 "metadata": {
  "kernelspec": {
   "display_name": ".venv",
   "language": "python",
   "name": "python3"
  },
  "language_info": {
   "codemirror_mode": {
    "name": "ipython",
    "version": 3
   },
   "file_extension": ".py",
   "mimetype": "text/x-python",
   "name": "python",
   "nbconvert_exporter": "python",
   "pygments_lexer": "ipython3",
   "version": "3.12.9"
  },
  "orig_nbformat": 4
 },
 "nbformat": 4,
 "nbformat_minor": 2
}
