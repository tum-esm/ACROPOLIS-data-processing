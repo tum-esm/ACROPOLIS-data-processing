{
 "cells": [
  {
   "cell_type": "code",
   "execution_count": 2,
   "metadata": {},
   "outputs": [],
   "source": [
    "AMOUNT = 360*26 #360 measurement points per hour * hours\n",
    "name = 'tum-esm-midcost-raspi-6'"
   ]
  },
  {
   "cell_type": "code",
   "execution_count": 3,
   "metadata": {},
   "outputs": [],
   "source": [
    "# Imports & Inits\n",
    "\n",
    "import polars as pl\n",
    "from datetime import datetime\n",
    "import asyncpg\n",
    "import pendulum\n",
    "import json\n",
    "import seaborn as sns\n",
    "import matplotlib.pyplot as plt\n",
    "import matplotlib.dates as mdates\n",
    "import plotly.express as px\n",
    "import math\n",
    "import pyarrow as pa\n",
    "\n",
    "data = {\n",
    "        \"integer\": [],\n",
    "        \"date\": [],\n",
    "        \"system name\": [],\n",
    "        \"variant\": [],\n",
    "        \"CO2_raw\": [],\n",
    "        \"CO2_compensated\": [],\n",
    "        \"CO2_filtered\": [],\n",
    "        \"sht45_humidity\": [],\n",
    "        \"bme280_humidity\": [],\n",
    "        \"bme280_pressure\": [],\n",
    "        \"sht45_temperature\": [],\n",
    "        \"bme280_temperature\": [],\n",
    "        \"chamber_temperature\": [],\n",
    "        \"gas_bottle_id\": []\n",
    "        }\n",
    "\n",
    "def plot_sensor_measurement(df, sensor_name):\n",
    "        df_f = df.filter(pl.col(\"variant\") == \"measurement\") \n",
    "        df_f = df_f.sort(\"date\").filter(pl.col(sensor_name) > 0)\n",
    "        df_f = df_f.groupby_dynamic(\"date\",every='10m').agg(pl.all().exclude('date').mean())\n",
    "\n",
    "        sns.lineplot(data=df_f,\n",
    "                x='date',\n",
    "                y=sensor_name)\n",
    "\n",
    "\n",
    "        # set axes labels\n",
    "        plt.xlabel('Time')\n",
    "        plt.ylabel(sensor_name)\n",
    "        plt.xticks(rotation=45)\n",
    "        plt.gca().xaxis.set_major_formatter(mdates.DateFormatter('%d.%m %H:%M'))\n",
    "\n",
    "        # show the plot\n",
    "        plt.show()\n",
    "        \n",
    "def find_closest_cardinal_direction(degree):\n",
    "    # Normalize the degree value to be between 0 and 360\n",
    "    degree = degree % 360\n",
    "\n",
    "    # Define the cardinal and intermediate directions and their corresponding degrees\n",
    "    directions = {\n",
    "        'North': 0,\n",
    "        'NNE': 22.5,\n",
    "        'NE': 45,\n",
    "        'ENE': 67.5,\n",
    "        'East': 90,\n",
    "        'ESE': 112.5,\n",
    "        'SE': 135,\n",
    "        'SSE': 157.5,\n",
    "        'South': 180,\n",
    "        'SSW': 202.5,\n",
    "        'SW': 225,\n",
    "        'WSW': 247.5,\n",
    "        'West': 270,\n",
    "        'WNW': 292.5,\n",
    "        'NW': 315,\n",
    "        'NNW': 337.5\n",
    "    }\n",
    "\n",
    "    # Initialize variables to keep track of the closest direction and its degree difference\n",
    "    closest_direction = None\n",
    "    min_difference = float('inf')\n",
    "\n",
    "    # Iterate over the directions and calculate the difference in degrees\n",
    "    for direction, direction_degree in directions.items():\n",
    "        difference = abs(degree - direction_degree)\n",
    "\n",
    "        # Check if the current difference is smaller than the previous minimum difference\n",
    "        if difference < min_difference:\n",
    "            min_difference = difference\n",
    "            closest_direction = direction\n",
    "\n",
    "    return directions[closest_direction]\n"
   ]
  },
  {
   "cell_type": "code",
   "execution_count": 4,
   "metadata": {},
   "outputs": [],
   "source": [
    "# Database connection\n",
    "f = open('config.json')\n",
    "CONFIGURATION = json.load(f)\n",
    "\n",
    "# Connect to the database\n",
    "client = await asyncpg.connect(**CONFIGURATION)\n",
    "\n",
    "# Automatically encode/decode JSONB fields to/from dict\n",
    "await client.set_type_codec(\n",
    "    typename=\"jsonb\",\n",
    "    schema=\"pg_catalog\",\n",
    "    encoder=json.dumps,\n",
    "    decoder=json.loads,\n",
    ")\n",
    "# Automatically encode/decode UUID fields to/from str\n",
    "await client.set_type_codec(\n",
    "    typename=\"uuid\",\n",
    "    schema=\"pg_catalog\",\n",
    "    encoder=str,\n",
    "    decoder=str,\n",
    ")\n",
    "# Automatically encode/decode TIMSTAMPTZ fields to/from pendulum.DateTime\n",
    "await client.set_type_codec(\n",
    "    typename=\"timestamptz\",\n",
    "    schema=\"pg_catalog\",\n",
    "    encoder=lambda x: x.isoformat(),\n",
    "    decoder=pendulum.parse,\n",
    ")\n",
    "\n",
    "\n",
    "def pp(result):\n",
    "    \"\"\"Pretty print asynpg query results as JSON strings.\"\"\"\n",
    "    for entry in result:\n",
    "        entry = dict(entry)\n",
    "        for key, value in entry.items():\n",
    "            # Print unix timestamps as human-readable dates in Europe/Berlin time zone\n",
    "            if isinstance(entry[key], pendulum.DateTime):\n",
    "                entry[key] = entry[key].in_timezone('Europe/Berlin').to_rfc1123_string()\n",
    "        print(json.dumps(entry, indent=4))"
   ]
  },
  {
   "cell_type": "code",
   "execution_count": 5,
   "metadata": {},
   "outputs": [],
   "source": [
    "# Receive measurements from the last 26h\n",
    "result = await client.fetch(\"\"\"\n",
    "    SELECT\n",
    "        sensor.name,\n",
    "        measurement.creation_timestamp,\n",
    "        measurement.receipt_timestamp,\n",
    "        measurement.revision,\n",
    "        measurement.value\n",
    "    FROM sensor\n",
    "    JOIN measurement ON sensor.identifier = measurement.sensor_identifier\n",
    "    WHERE name = $1\n",
    "    ORDER BY creation_timestamp DESC\n",
    "    LIMIT $2\n",
    "\"\"\", name, AMOUNT,)\n",
    "\n",
    "#pp(result)"
   ]
  },
  {
   "cell_type": "code",
   "execution_count": 6,
   "metadata": {},
   "outputs": [
    {
     "data": {
      "text/html": [
       "<div><style>\n",
       ".dataframe > thead > tr > th,\n",
       ".dataframe > tbody > tr > td {\n",
       "  text-align: right;\n",
       "}\n",
       "</style>\n",
       "<small>shape: (5, 14)</small><table border=\"1\" class=\"dataframe\"><thead><tr><th>integer</th><th>date</th><th>system name</th><th>variant</th><th>CO2_raw</th><th>CO2_compensated</th><th>CO2_filtered</th><th>sht45_humidity</th><th>bme280_humidity</th><th>bme280_pressure</th><th>sht45_temperature</th><th>bme280_temperature</th><th>chamber_temperature</th><th>gas_bottle_id</th></tr><tr><td>i64</td><td>datetime[μs]</td><td>str</td><td>str</td><td>f64</td><td>f64</td><td>f64</td><td>f64</td><td>f64</td><td>f64</td><td>f64</td><td>f64</td><td>f64</td><td>str</td></tr></thead><tbody><tr><td>0</td><td>2023-07-06 20:22:00.960</td><td>&quot;tum-esm-midcos…</td><td>&quot;measurement&quot;</td><td>362.6</td><td>400.4</td><td>400.4</td><td>35.01</td><td>36.22</td><td>943.3</td><td>26.54</td><td>26.47</td><td>27.8</td><td>null</td></tr><tr><td>1</td><td>2023-07-06 20:22:10.980</td><td>&quot;tum-esm-midcos…</td><td>&quot;measurement&quot;</td><td>362.7</td><td>400.6</td><td>400.6</td><td>34.99</td><td>36.24</td><td>942.48</td><td>26.52</td><td>26.46</td><td>27.7</td><td>null</td></tr><tr><td>2</td><td>2023-07-06 20:22:21.030</td><td>&quot;tum-esm-midcos…</td><td>&quot;measurement&quot;</td><td>364.0</td><td>402.5</td><td>402.5</td><td>35.01</td><td>36.25</td><td>943.17</td><td>26.51</td><td>26.46</td><td>27.7</td><td>null</td></tr><tr><td>3</td><td>2023-07-06 20:22:30.990</td><td>&quot;tum-esm-midcos…</td><td>&quot;measurement&quot;</td><td>362.4</td><td>400.2</td><td>400.2</td><td>35.02</td><td>36.25</td><td>944.16</td><td>26.53</td><td>26.46</td><td>27.8</td><td>null</td></tr><tr><td>4</td><td>2023-07-06 20:22:41.060</td><td>&quot;tum-esm-midcos…</td><td>&quot;measurement&quot;</td><td>365.6</td><td>403.3</td><td>403.3</td><td>35.07</td><td>36.27</td><td>944.9</td><td>26.52</td><td>26.46</td><td>27.7</td><td>null</td></tr></tbody></table></div>"
      ],
      "text/plain": [
       "shape: (5, 14)\n",
       "┌─────────┬──────────┬───────────┬─────────┬───┬────────────┬────────────┬────────────┬────────────┐\n",
       "│ integer ┆ date     ┆ system    ┆ variant ┆ … ┆ sht45_temp ┆ bme280_tem ┆ chamber_te ┆ gas_bottle │\n",
       "│ ---     ┆ ---      ┆ name      ┆ ---     ┆   ┆ erature    ┆ perature   ┆ mperature  ┆ _id        │\n",
       "│ i64     ┆ datetime ┆ ---       ┆ str     ┆   ┆ ---        ┆ ---        ┆ ---        ┆ ---        │\n",
       "│         ┆ [μs]     ┆ str       ┆         ┆   ┆ f64        ┆ f64        ┆ f64        ┆ str        │\n",
       "╞═════════╪══════════╪═══════════╪═════════╪═══╪════════════╪════════════╪════════════╪════════════╡\n",
       "│ 0       ┆ 2023-07- ┆ tum-esm-m ┆ measure ┆ … ┆ 26.54      ┆ 26.47      ┆ 27.8       ┆ null       │\n",
       "│         ┆ 06 20:22 ┆ idcost-ra ┆ ment    ┆   ┆            ┆            ┆            ┆            │\n",
       "│         ┆ :00.960  ┆ spi-6     ┆         ┆   ┆            ┆            ┆            ┆            │\n",
       "│ 1       ┆ 2023-07- ┆ tum-esm-m ┆ measure ┆ … ┆ 26.52      ┆ 26.46      ┆ 27.7       ┆ null       │\n",
       "│         ┆ 06 20:22 ┆ idcost-ra ┆ ment    ┆   ┆            ┆            ┆            ┆            │\n",
       "│         ┆ :10.980  ┆ spi-6     ┆         ┆   ┆            ┆            ┆            ┆            │\n",
       "│ 2       ┆ 2023-07- ┆ tum-esm-m ┆ measure ┆ … ┆ 26.51      ┆ 26.46      ┆ 27.7       ┆ null       │\n",
       "│         ┆ 06 20:22 ┆ idcost-ra ┆ ment    ┆   ┆            ┆            ┆            ┆            │\n",
       "│         ┆ :21.030  ┆ spi-6     ┆         ┆   ┆            ┆            ┆            ┆            │\n",
       "│ 3       ┆ 2023-07- ┆ tum-esm-m ┆ measure ┆ … ┆ 26.53      ┆ 26.46      ┆ 27.8       ┆ null       │\n",
       "│         ┆ 06 20:22 ┆ idcost-ra ┆ ment    ┆   ┆            ┆            ┆            ┆            │\n",
       "│         ┆ :30.990  ┆ spi-6     ┆         ┆   ┆            ┆            ┆            ┆            │\n",
       "│ 4       ┆ 2023-07- ┆ tum-esm-m ┆ measure ┆ … ┆ 26.52      ┆ 26.46      ┆ 27.7       ┆ null       │\n",
       "│         ┆ 06 20:22 ┆ idcost-ra ┆ ment    ┆   ┆            ┆            ┆            ┆            │\n",
       "│         ┆ :41.060  ┆ spi-6     ┆         ┆   ┆            ┆            ┆            ┆            │\n",
       "└─────────┴──────────┴───────────┴─────────┴───┴────────────┴────────────┴────────────┴────────────┘"
      ]
     },
     "execution_count": 6,
     "metadata": {},
     "output_type": "execute_result"
    }
   ],
   "source": [
    "# Load data into a dataframe\n",
    "\n",
    "for n,entry in enumerate(result[::-1]):\n",
    "        entry = dict(entry)\n",
    "        #print(entry)\n",
    "        if entry[\"value\"][\"variant\"] in (\"measurement\",\"calibration\"):\n",
    "                data[\"integer\"].append(n)\n",
    "                data[\"date\"].append(entry[\"creation_timestamp\"])\n",
    "                data[\"system name\"].append(entry[\"name\"])\n",
    "                data[\"variant\"].append(entry[\"value\"][\"variant\"])\n",
    "                data[\"CO2_raw\"].append(entry[\"value\"][\"data\"][\"raw\"])\n",
    "                data[\"CO2_compensated\"].append(entry[\"value\"][\"data\"][\"compensated\"])\n",
    "                data[\"CO2_filtered\"].append(entry[\"value\"][\"data\"][\"compensated\"])\n",
    "                data[\"sht45_humidity\"].append(entry[\"value\"][\"data\"][\"sht45_humidity\"])\n",
    "                data[\"bme280_humidity\"].append(entry[\"value\"][\"data\"][\"bme280_humidity\"])\n",
    "                data[\"bme280_pressure\"].append(entry[\"value\"][\"data\"][\"bme280_pressure\"])\n",
    "                data[\"sht45_temperature\"].append(entry[\"value\"][\"data\"][\"sht45_temperature\"])\n",
    "                data[\"bme280_temperature\"].append(entry[\"value\"][\"data\"][\"bme280_temperature\"])\n",
    "                data[\"chamber_temperature\"].append(entry[\"value\"][\"data\"][\"chamber_temperature\"])\n",
    "                \n",
    "                if entry[\"value\"][\"variant\"] == \"calibration\":\n",
    "                        data[\"gas_bottle_id\"].append(entry[\"value\"][\"data\"][\"gas_bottle_id\"])\n",
    "                else:\n",
    "                        data[\"gas_bottle_id\"].append(None)\n",
    "     \n",
    "df = pl.DataFrame(data)\n",
    "df.head()\n",
    "        "
   ]
  },
  {
   "cell_type": "code",
   "execution_count": 7,
   "metadata": {},
   "outputs": [
    {
     "data": {
      "text/html": [
       "<div><style>\n",
       ".dataframe > thead > tr > th,\n",
       ".dataframe > tbody > tr > td {\n",
       "  text-align: right;\n",
       "}\n",
       "</style>\n",
       "<small>shape: (5, 7)</small><table border=\"1\" class=\"dataframe\"><thead><tr><th>speed_avg</th><th>speed_max</th><th>speed_min</th><th>direction_avg</th><th>direction_max</th><th>direction_min</th><th>last_update_time</th></tr><tr><td>f64</td><td>f64</td><td>f64</td><td>f64</td><td>f64</td><td>f64</td><td>f64</td></tr></thead><tbody><tr><td>0.4</td><td>0.6</td><td>0.3</td><td>108.0</td><td>137.0</td><td>79.0</td><td>1.6887e9</td></tr><tr><td>0.9</td><td>1.1</td><td>0.7</td><td>119.0</td><td>132.0</td><td>105.0</td><td>1.6887e9</td></tr><tr><td>0.9</td><td>1.2</td><td>0.7</td><td>114.0</td><td>130.0</td><td>102.0</td><td>1.6887e9</td></tr><tr><td>1.0</td><td>1.2</td><td>0.5</td><td>122.0</td><td>137.0</td><td>105.0</td><td>1.6887e9</td></tr><tr><td>1.0</td><td>1.4</td><td>0.6</td><td>106.0</td><td>141.0</td><td>89.0</td><td>1.6887e9</td></tr></tbody></table></div>"
      ],
      "text/plain": [
       "shape: (5, 7)\n",
       "┌───────────┬───────────┬───────────┬───────────────┬───────────────┬───────────────┬──────────────┐\n",
       "│ speed_avg ┆ speed_max ┆ speed_min ┆ direction_avg ┆ direction_max ┆ direction_min ┆ last_update_ │\n",
       "│ ---       ┆ ---       ┆ ---       ┆ ---           ┆ ---           ┆ ---           ┆ time         │\n",
       "│ f64       ┆ f64       ┆ f64       ┆ f64           ┆ f64           ┆ f64           ┆ ---          │\n",
       "│           ┆           ┆           ┆               ┆               ┆               ┆ f64          │\n",
       "╞═══════════╪═══════════╪═══════════╪═══════════════╪═══════════════╪═══════════════╪══════════════╡\n",
       "│ 0.4       ┆ 0.6       ┆ 0.3       ┆ 108.0         ┆ 137.0         ┆ 79.0          ┆ 1.6887e9     │\n",
       "│ 0.9       ┆ 1.1       ┆ 0.7       ┆ 119.0         ┆ 132.0         ┆ 105.0         ┆ 1.6887e9     │\n",
       "│ 0.9       ┆ 1.2       ┆ 0.7       ┆ 114.0         ┆ 130.0         ┆ 102.0         ┆ 1.6887e9     │\n",
       "│ 1.0       ┆ 1.2       ┆ 0.5       ┆ 122.0         ┆ 137.0         ┆ 105.0         ┆ 1.6887e9     │\n",
       "│ 1.0       ┆ 1.4       ┆ 0.6       ┆ 106.0         ┆ 141.0         ┆ 89.0          ┆ 1.6887e9     │\n",
       "└───────────┴───────────┴───────────┴───────────────┴───────────────┴───────────────┴──────────────┘"
      ]
     },
     "execution_count": 7,
     "metadata": {},
     "output_type": "execute_result"
    }
   ],
   "source": [
    "# Load wind data into a dataframe\n",
    "\n",
    "data_wind = {\n",
    "    \"speed_avg\": [],\n",
    "    \"speed_max\": [],\n",
    "    \"speed_min\": [],\n",
    "    \"direction_avg\": [],\n",
    "    \"direction_max\": [],\n",
    "    \"direction_min\": [],\n",
    "    \"last_update_time\": []\n",
    "}   \n",
    "\n",
    "for n,entry in enumerate(result[::-1]):\n",
    "        entry = dict(entry)\n",
    "        #print(entry)\n",
    "        if entry[\"value\"][\"variant\"] == \"wind\":\n",
    "                data_wind[\"speed_avg\"].append(entry[\"value\"][\"data\"][\"speed_avg\"])\n",
    "                data_wind[\"speed_max\"].append(entry[\"value\"][\"data\"][\"speed_max\"])\n",
    "                data_wind[\"speed_min\"].append(entry[\"value\"][\"data\"][\"speed_min\"])\n",
    "                data_wind[\"direction_avg\"].append(entry[\"value\"][\"data\"][\"direction_avg\"])\n",
    "                data_wind[\"direction_max\"].append(entry[\"value\"][\"data\"][\"direction_max\"])\n",
    "                data_wind[\"direction_min\"].append(entry[\"value\"][\"data\"][\"direction_min\"])\n",
    "                data_wind[\"last_update_time\"].append(entry[\"value\"][\"data\"][\"last_update_time\"])\n",
    "                \n",
    "df_wind = pl.DataFrame(data_wind)\n",
    "df_wind.head()"
   ]
  },
  {
   "cell_type": "code",
   "execution_count": 8,
   "metadata": {},
   "outputs": [
    {
     "data": {
      "image/png": "[encoded data removed]",
      "text/plain": [
       "<Figure size 640x480 with 1 Axes>"
      ]
     },
     "metadata": {},
     "output_type": "display_data"
    }
   ],
   "source": [
    "# Plot CO2_Filtered\n",
    "\n",
    "df_f = df.filter(pl.col(\"variant\") == \"measurement\") \n",
    "df_f = df_f.sort(\"date\").filter(pl.col(\"CO2_filtered\") > 0)\n",
    "df_f = df_f.groupby_dynamic(\"date\",every='10m').agg(pl.all().exclude('date').mean())\n",
    "\n",
    "sns.lineplot(data=df_f,\n",
    "        x='date',\n",
    "        y='CO2_filtered')\n",
    "\n",
    "\n",
    "# set axes labels\n",
    "plt.xlabel('Time')\n",
    "plt.ylabel('CO2_filtered')\n",
    "plt.xticks(rotation=45)\n",
    "plt.gca().xaxis.set_major_formatter(mdates.DateFormatter('%d.%m %H:%M'))\n",
    "\n",
    "# show the plot\n",
    "plt.show()"
   ]
  },
  {
   "cell_type": "code",
   "execution_count": 9,
   "metadata": {},
   "outputs": [
    {
     "data": {
      "image/png": "[encoded data removed]",
      "text/plain": [
       "<Figure size 640x480 with 1 Axes>"
      ]
     },
     "metadata": {},
     "output_type": "display_data"
    }
   ],
   "source": [
    "# Plot 800ppm Calibration Bottle \n",
    "\n",
    "df_f = df.filter(pl.col(\"variant\") == \"calibration\") \n",
    "df_f = df_f.sort(\"date\").filter(pl.col(\"CO2_filtered\") > 750)\n",
    "#df_f = df_f.groupby_dynamic(\"date\",every='30s').agg(pl.all().exclude('date').mean())\n",
    "\n",
    "sns.lineplot(data=df_f,\n",
    "        x='date',\n",
    "        y='CO2_filtered')\n",
    "\n",
    "\n",
    "# set axes labels\n",
    "plt.xlabel('Time')\n",
    "plt.ylabel('CO2_filtered')\n",
    "plt.xticks(rotation=45)\n",
    "plt.gca().xaxis.set_major_formatter(mdates.DateFormatter('%d.%m %H:%M'))\n",
    "\n",
    "# show the plot\n",
    "plt.show()"
   ]
  },
  {
   "cell_type": "code",
   "execution_count": 10,
   "metadata": {},
   "outputs": [
    {
     "data": {
      "image/png": "[encoded data removed]",
      "text/plain": [
       "<Figure size 640x480 with 1 Axes>"
      ]
     },
     "metadata": {},
     "output_type": "display_data"
    }
   ],
   "source": [
    "# Plot 400ppm Calibration Bottle \n",
    "df_f = df.filter(pl.col(\"variant\") == \"calibration\") \n",
    "df_f = df_f.sort(\"date\").filter(pl.col(\"CO2_filtered\") < 450)\n",
    "#df_f = df_f.groupby_dynamic(\"date\",every='30s').agg(pl.all().exclude('date').mean())\n",
    "\n",
    "sns.lineplot(data=df_f,\n",
    "        x='date',\n",
    "        y='CO2_filtered')\n",
    "\n",
    "\n",
    "# set axes labels\n",
    "plt.xlabel('Time')\n",
    "plt.ylabel('CO2_filtered')\n",
    "plt.xticks(rotation=45)\n",
    "plt.gca().xaxis.set_major_formatter(mdates.DateFormatter('%d.%m %H:%M'))\n",
    "\n",
    "# show the plot\n",
    "plt.show()"
   ]
  },
  {
   "cell_type": "code",
   "execution_count": 11,
   "metadata": {},
   "outputs": [
    {
     "data": {
      "image/png": "[encoded data removed]",
      "text/plain": [
       "<Figure size 640x480 with 1 Axes>"
      ]
     },
     "metadata": {},
     "output_type": "display_data"
    },
    {
     "data": {
      "image/png": "[encoded data removed]",
      "text/plain": [
       "<Figure size 640x480 with 1 Axes>"
      ]
     },
     "metadata": {},
     "output_type": "display_data"
    },
    {
     "data": {
      "image/png": "[encoded data removed]",
      "text/plain": [
       "<Figure size 640x480 with 1 Axes>"
      ]
     },
     "metadata": {},
     "output_type": "display_data"
    },
    {
     "data": {
      "image/png": "[encoded data removed]",
      "text/plain": [
       "<Figure size 640x480 with 1 Axes>"
      ]
     },
     "metadata": {},
     "output_type": "display_data"
    },
    {
     "data": {
      "image/png": "[encoded data removed]",
      "text/plain": [
       "<Figure size 640x480 with 1 Axes>"
      ]
     },
     "metadata": {},
     "output_type": "display_data"
    }
   ],
   "source": [
    "# Plot auxilliary data\n",
    "plot_sensor_measurement(df, \"sht45_humidity\")\n",
    "plot_sensor_measurement(df, \"bme280_humidity\")\n",
    "plot_sensor_measurement(df, \"sht45_temperature\")\n",
    "plot_sensor_measurement(df, \"bme280_temperature\")\n",
    "plot_sensor_measurement(df, \"chamber_temperature\")\n"
   ]
  },
  {
   "cell_type": "code",
   "execution_count": 12,
   "metadata": {},
   "outputs": [
    {
     "data": {
      "text/html": [
       "<div><style>\n",
       ".dataframe > thead > tr > th,\n",
       ".dataframe > tbody > tr > td {\n",
       "  text-align: right;\n",
       "}\n",
       "</style>\n",
       "<small>shape: (5, 3)</small><table border=\"1\" class=\"dataframe\"><thead><tr><th>cardinal_direction</th><th>strength</th><th>count</th></tr><tr><td>f64</td><td>f64</td><td>u32</td></tr></thead><tbody><tr><td>180.0</td><td>0.5</td><td>4</td></tr><tr><td>67.5</td><td>0.5</td><td>2</td></tr><tr><td>315.0</td><td>0.5</td><td>1</td></tr><tr><td>202.5</td><td>0.5</td><td>4</td></tr><tr><td>225.0</td><td>0.5</td><td>1</td></tr></tbody></table></div>"
      ],
      "text/plain": [
       "shape: (5, 3)\n",
       "┌────────────────────┬──────────┬───────┐\n",
       "│ cardinal_direction ┆ strength ┆ count │\n",
       "│ ---                ┆ ---      ┆ ---   │\n",
       "│ f64                ┆ f64      ┆ u32   │\n",
       "╞════════════════════╪══════════╪═══════╡\n",
       "│ 180.0              ┆ 0.5      ┆ 4     │\n",
       "│ 67.5               ┆ 0.5      ┆ 2     │\n",
       "│ 315.0              ┆ 0.5      ┆ 1     │\n",
       "│ 202.5              ┆ 0.5      ┆ 4     │\n",
       "│ 225.0              ┆ 0.5      ┆ 1     │\n",
       "└────────────────────┴──────────┴───────┘"
      ]
     },
     "execution_count": 12,
     "metadata": {},
     "output_type": "execute_result"
    }
   ],
   "source": [
    "df_w = df_wind\n",
    "df_w = df_w.with_columns(pl.col(\"direction_avg\").apply(find_closest_cardinal_direction, return_dtype=float).alias(\"cardinal_direction\"))\n",
    "df_w = df_w.with_columns(pl.col(\"speed_avg\").apply(lambda t: math.ceil(t * 2) / 2, return_dtype=float).alias(\"strength\"))\n",
    "df_w = df_w.groupby([\"cardinal_direction\", \"strength\"]).count().sort(\"strength\")\n",
    "df_w.head()"
   ]
  },
  {
   "cell_type": "code",
   "execution_count": 42,
   "metadata": {},
   "outputs": [
    {
     "data": {
      "application/vnd.plotly.v1+json": {
       "config": {
        "plotlyServerURL": "https://plot.ly"
       },
       "data": [
        {
         "hovertemplate": "count=%{r}<br>cardinal_direction=%{theta}<br>strength=%{marker.color}<extra></extra>",
         "legendgroup": "",
         "marker": {
          "color": [
           0.5,
           0.5,
           0.5,
           0.5,
           0.5,
           0.5,
           0.5,
           0.5,
           0.5,
           0.5,
           0.5,
           0.5,
           1,
           1,
           1,
           1,
           1,
           1,
           1,
           1,
           1,
           1,
           1,
           1,
           1,
           1,
           1,
           1.5,
           1.5,
           1.5,
           1.5,
           1.5,
           1.5,
           1.5,
           1.5,
           1.5,
           1.5,
           1.5,
           1.5,
           2,
           2,
           2,
           2,
           2,
           2,
           2,
           2,
           2,
           2,
           2,
           2,
           2.5,
           2.5,
           2.5,
           2.5,
           2.5,
           2.5,
           2.5,
           2.5,
           2.5,
           2.5,
           3,
           3,
           3,
           3,
           3,
           3,
           3,
           3,
           3.5,
           3.5,
           3.5,
           3.5,
           3.5,
           3.5,
           3.5,
           3.5,
           4,
           4,
           4,
           4,
           4,
           4.5,
           4.5,
           4.5,
           4.5,
           5,
           5,
           6
          ],
          "coloraxis": "coloraxis",
          "pattern": {
           "shape": ""
          }
         },
         "name": "",
         "r": [
          4,
          2,
          1,
          4,
          1,
          1,
          3,
          2,
          4,
          3,
          2,
          1,
          22,
          8,
          3,
          18,
          9,
          1,
          2,
          2,
          1,
          20,
          9,
          10,
          14,
          7,
          1,
          14,
          12,
          5,
          29,
          45,
          21,
          27,
          14,
          2,
          14,
          2,
          1,
          9,
          37,
          1,
          9,
          3,
          12,
          1,
          12,
          7,
          2,
          23,
          15,
          3,
          7,
          1,
          9,
          10,
          11,
          1,
          4,
          5,
          9,
          5,
          1,
          9,
          4,
          3,
          6,
          3,
          5,
          2,
          7,
          1,
          1,
          2,
          3,
          2,
          2,
          1,
          2,
          2,
          1,
          2,
          1,
          3,
          1,
          1,
          1,
          1,
          1
         ],
         "showlegend": false,
         "subplot": "polar",
         "theta": [
          180,
          67.5,
          315,
          202.5,
          225,
          337.5,
          112.5,
          45,
          157.5,
          135,
          90,
          292.5,
          180,
          67.5,
          315,
          135,
          202.5,
          270,
          337.5,
          0,
          225,
          112.5,
          45,
          22.5,
          157.5,
          90,
          292.5,
          112.5,
          45,
          22.5,
          135,
          157.5,
          90,
          180,
          67.5,
          315,
          202.5,
          0,
          337.5,
          90,
          157.5,
          0,
          135,
          202.5,
          67.5,
          225,
          45,
          22.5,
          337.5,
          180,
          112.5,
          180,
          90,
          0,
          135,
          157.5,
          112.5,
          202.5,
          67.5,
          22.5,
          45,
          135,
          67.5,
          22.5,
          45,
          180,
          112.5,
          90,
          157.5,
          157.5,
          112.5,
          67.5,
          45,
          22.5,
          90,
          0,
          135,
          157.5,
          135,
          22.5,
          45,
          112.5,
          135,
          112.5,
          22.5,
          90,
          112.5,
          22.5,
          22.5
         ],
         "type": "barpolar"
        }
       ],
       "layout": {
        "annotations": [
         {
          "font": {
           "size": 7
          },
          "showarrow": false,
          "text": "Calm",
          "x": 0.5,
          "y": 0.5
         }
        ],
        "barmode": "relative",
        "coloraxis": {
         "colorbar": {
          "title": {
           "text": "strength"
          }
         },
         "colorscale": [
          [
           0,
           "rgb(2,4,25)"
          ],
          [
           0.0625,
           "rgb(24,15,41)"
          ],
          [
           0.125,
           "rgb(47,23,57)"
          ],
          [
           0.1875,
           "rgb(71,28,72)"
          ],
          [
           0.25,
           "rgb(97,30,82)"
          ],
          [
           0.3125,
           "rgb(123,30,89)"
          ],
          [
           0.375,
           "rgb(150,27,91)"
          ],
          [
           0.4375,
           "rgb(177,22,88)"
          ],
          [
           0.5,
           "rgb(203,26,79)"
          ],
          [
           0.5625,
           "rgb(223,47,67)"
          ],
          [
           0.625,
           "rgb(236,76,61)"
          ],
          [
           0.6875,
           "rgb(242,107,73)"
          ],
          [
           0.75,
           "rgb(244,135,95)"
          ],
          [
           0.8125,
           "rgb(245,162,122)"
          ],
          [
           0.875,
           "rgb(246,188,153)"
          ],
          [
           0.9375,
           "rgb(247,212,187)"
          ],
          [
           1,
           "rgb(250,234,220)"
          ]
         ]
        },
        "legend": {
         "font": {
          "size": 14
         },
         "orientation": "h",
         "tracegroupgap": 0,
         "x": 0.5,
         "xanchor": "center",
         "y": -0.1,
         "yanchor": "middle"
        },
        "margin": {
         "t": 110
        },
        "polar": {
         "angularaxis": {
          "direction": "clockwise",
          "rotation": 90
         },
         "domain": {
          "x": [
           0,
           1
          ],
          "y": [
           0,
           1
          ]
         },
         "hole": 0.1,
         "radialaxis": {
          "linewidth": 0,
          "showticklabels": false,
          "ticks": ""
         }
        },
        "template": {
         "data": {
          "bar": [
           {
            "error_x": {
             "color": "rgb(36,36,36)"
            },
            "error_y": {
             "color": "rgb(36,36,36)"
            },
            "marker": {
             "line": {
              "color": "rgb(234,234,242)",
              "width": 0.5
             },
             "pattern": {
              "fillmode": "overlay",
              "size": 10,
              "solidity": 0.2
             }
            },
            "type": "bar"
           }
          ],
          "barpolar": [
           {
            "marker": {
             "line": {
              "color": "rgb(234,234,242)",
              "width": 0.5
             },
             "pattern": {
              "fillmode": "overlay",
              "size": 10,
              "solidity": 0.2
             }
            },
            "type": "barpolar"
           }
          ],
          "carpet": [
           {
            "aaxis": {
             "endlinecolor": "rgb(36,36,36)",
             "gridcolor": "white",
             "linecolor": "white",
             "minorgridcolor": "white",
             "startlinecolor": "rgb(36,36,36)"
            },
            "baxis": {
             "endlinecolor": "rgb(36,36,36)",
             "gridcolor": "white",
             "linecolor": "white",
             "minorgridcolor": "white",
             "startlinecolor": "rgb(36,36,36)"
            },
            "type": "carpet"
           }
          ],
          "choropleth": [
           {
            "colorbar": {
             "outlinewidth": 0,
             "tickcolor": "rgb(36,36,36)",
             "ticklen": 8,
             "ticks": "outside",
             "tickwidth": 2
            },
            "type": "choropleth"
           }
          ],
          "contour": [
           {
            "colorbar": {
             "outlinewidth": 0,
             "tickcolor": "rgb(36,36,36)",
             "ticklen": 8,
             "ticks": "outside",
             "tickwidth": 2
            },
            "colorscale": [
             [
              0,
              "rgb(2,4,25)"
             ],
             [
              0.06274509803921569,
              "rgb(24,15,41)"
             ],
             [
              0.12549019607843137,
              "rgb(47,23,57)"
             ],
             [
              0.18823529411764706,
              "rgb(71,28,72)"
             ],
             [
              0.25098039215686274,
              "rgb(97,30,82)"
             ],
             [
              0.3137254901960784,
              "rgb(123,30,89)"
             ],
             [
              0.3764705882352941,
              "rgb(150,27,91)"
             ],
             [
              0.4392156862745098,
              "rgb(177,22,88)"
             ],
             [
              0.5019607843137255,
              "rgb(203,26,79)"
             ],
             [
              0.5647058823529412,
              "rgb(223,47,67)"
             ],
             [
              0.6274509803921569,
              "rgb(236,76,61)"
             ],
             [
              0.6901960784313725,
              "rgb(242,107,73)"
             ],
             [
              0.7529411764705882,
              "rgb(244,135,95)"
             ],
             [
              0.8156862745098039,
              "rgb(245,162,122)"
             ],
             [
              0.8784313725490196,
              "rgb(246,188,153)"
             ],
             [
              0.9411764705882353,
              "rgb(247,212,187)"
             ],
             [
              1,
              "rgb(250,234,220)"
             ]
            ],
            "type": "contour"
           }
          ],
          "contourcarpet": [
           {
            "colorbar": {
             "outlinewidth": 0,
             "tickcolor": "rgb(36,36,36)",
             "ticklen": 8,
             "ticks": "outside",
             "tickwidth": 2
            },
            "type": "contourcarpet"
           }
          ],
          "heatmap": [
           {
            "colorbar": {
             "outlinewidth": 0,
             "tickcolor": "rgb(36,36,36)",
             "ticklen": 8,
             "ticks": "outside",
             "tickwidth": 2
            },
            "colorscale": [
             [
              0,
              "rgb(2,4,25)"
             ],
             [
              0.06274509803921569,
              "rgb(24,15,41)"
             ],
             [
              0.12549019607843137,
              "rgb(47,23,57)"
             ],
             [
              0.18823529411764706,
              "rgb(71,28,72)"
             ],
             [
              0.25098039215686274,
              "rgb(97,30,82)"
             ],
             [
              0.3137254901960784,
              "rgb(123,30,89)"
             ],
             [
              0.3764705882352941,
              "rgb(150,27,91)"
             ],
             [
              0.4392156862745098,
              "rgb(177,22,88)"
             ],
             [
              0.5019607843137255,
              "rgb(203,26,79)"
             ],
             [
              0.5647058823529412,
              "rgb(223,47,67)"
             ],
             [
              0.6274509803921569,
              "rgb(236,76,61)"
             ],
             [
              0.6901960784313725,
              "rgb(242,107,73)"
             ],
             [
              0.7529411764705882,
              "rgb(244,135,95)"
             ],
             [
              0.8156862745098039,
              "rgb(245,162,122)"
             ],
             [
              0.8784313725490196,
              "rgb(246,188,153)"
             ],
             [
              0.9411764705882353,
              "rgb(247,212,187)"
             ],
             [
              1,
              "rgb(250,234,220)"
             ]
            ],
            "type": "heatmap"
           }
          ],
          "heatmapgl": [
           {
            "colorbar": {
             "outlinewidth": 0,
             "tickcolor": "rgb(36,36,36)",
             "ticklen": 8,
             "ticks": "outside",
             "tickwidth": 2
            },
            "colorscale": [
             [
              0,
              "rgb(2,4,25)"
             ],
             [
              0.06274509803921569,
              "rgb(24,15,41)"
             ],
             [
              0.12549019607843137,
              "rgb(47,23,57)"
             ],
             [
              0.18823529411764706,
              "rgb(71,28,72)"
             ],
             [
              0.25098039215686274,
              "rgb(97,30,82)"
             ],
             [
              0.3137254901960784,
              "rgb(123,30,89)"
             ],
             [
              0.3764705882352941,
              "rgb(150,27,91)"
             ],
             [
              0.4392156862745098,
              "rgb(177,22,88)"
             ],
             [
              0.5019607843137255,
              "rgb(203,26,79)"
             ],
             [
              0.5647058823529412,
              "rgb(223,47,67)"
             ],
             [
              0.6274509803921569,
              "rgb(236,76,61)"
             ],
             [
              0.6901960784313725,
              "rgb(242,107,73)"
             ],
             [
              0.7529411764705882,
              "rgb(244,135,95)"
             ],
             [
              0.8156862745098039,
              "rgb(245,162,122)"
             ],
             [
              0.8784313725490196,
              "rgb(246,188,153)"
             ],
             [
              0.9411764705882353,
              "rgb(247,212,187)"
             ],
             [
              1,
              "rgb(250,234,220)"
             ]
            ],
            "type": "heatmapgl"
           }
          ],
          "histogram": [
           {
            "marker": {
             "pattern": {
              "fillmode": "overlay",
              "size": 10,
              "solidity": 0.2
             }
            },
            "type": "histogram"
           }
          ],
          "histogram2d": [
           {
            "colorbar": {
             "outlinewidth": 0,
             "tickcolor": "rgb(36,36,36)",
             "ticklen": 8,
             "ticks": "outside",
             "tickwidth": 2
            },
            "colorscale": [
             [
              0,
              "rgb(2,4,25)"
             ],
             [
              0.06274509803921569,
              "rgb(24,15,41)"
             ],
             [
              0.12549019607843137,
              "rgb(47,23,57)"
             ],
             [
              0.18823529411764706,
              "rgb(71,28,72)"
             ],
             [
              0.25098039215686274,
              "rgb(97,30,82)"
             ],
             [
              0.3137254901960784,
              "rgb(123,30,89)"
             ],
             [
              0.3764705882352941,
              "rgb(150,27,91)"
             ],
             [
              0.4392156862745098,
              "rgb(177,22,88)"
             ],
             [
              0.5019607843137255,
              "rgb(203,26,79)"
             ],
             [
              0.5647058823529412,
              "rgb(223,47,67)"
             ],
             [
              0.6274509803921569,
              "rgb(236,76,61)"
             ],
             [
              0.6901960784313725,
              "rgb(242,107,73)"
             ],
             [
              0.7529411764705882,
              "rgb(244,135,95)"
             ],
             [
              0.8156862745098039,
              "rgb(245,162,122)"
             ],
             [
              0.8784313725490196,
              "rgb(246,188,153)"
             ],
             [
              0.9411764705882353,
              "rgb(247,212,187)"
             ],
             [
              1,
              "rgb(250,234,220)"
             ]
            ],
            "type": "histogram2d"
           }
          ],
          "histogram2dcontour": [
           {
            "colorbar": {
             "outlinewidth": 0,
             "tickcolor": "rgb(36,36,36)",
             "ticklen": 8,
             "ticks": "outside",
             "tickwidth": 2
            },
            "colorscale": [
             [
              0,
              "rgb(2,4,25)"
             ],
             [
              0.06274509803921569,
              "rgb(24,15,41)"
             ],
             [
              0.12549019607843137,
              "rgb(47,23,57)"
             ],
             [
              0.18823529411764706,
              "rgb(71,28,72)"
             ],
             [
              0.25098039215686274,
              "rgb(97,30,82)"
             ],
             [
              0.3137254901960784,
              "rgb(123,30,89)"
             ],
             [
              0.3764705882352941,
              "rgb(150,27,91)"
             ],
             [
              0.4392156862745098,
              "rgb(177,22,88)"
             ],
             [
              0.5019607843137255,
              "rgb(203,26,79)"
             ],
             [
              0.5647058823529412,
              "rgb(223,47,67)"
             ],
             [
              0.6274509803921569,
              "rgb(236,76,61)"
             ],
             [
              0.6901960784313725,
              "rgb(242,107,73)"
             ],
             [
              0.7529411764705882,
              "rgb(244,135,95)"
             ],
             [
              0.8156862745098039,
              "rgb(245,162,122)"
             ],
             [
              0.8784313725490196,
              "rgb(246,188,153)"
             ],
             [
              0.9411764705882353,
              "rgb(247,212,187)"
             ],
             [
              1,
              "rgb(250,234,220)"
             ]
            ],
            "type": "histogram2dcontour"
           }
          ],
          "mesh3d": [
           {
            "colorbar": {
             "outlinewidth": 0,
             "tickcolor": "rgb(36,36,36)",
             "ticklen": 8,
             "ticks": "outside",
             "tickwidth": 2
            },
            "type": "mesh3d"
           }
          ],
          "parcoords": [
           {
            "line": {
             "colorbar": {
              "outlinewidth": 0,
              "tickcolor": "rgb(36,36,36)",
              "ticklen": 8,
              "ticks": "outside",
              "tickwidth": 2
             }
            },
            "type": "parcoords"
           }
          ],
          "pie": [
           {
            "automargin": true,
            "type": "pie"
           }
          ],
          "scatter": [
           {
            "fillpattern": {
             "fillmode": "overlay",
             "size": 10,
             "solidity": 0.2
            },
            "type": "scatter"
           }
          ],
          "scatter3d": [
           {
            "line": {
             "colorbar": {
              "outlinewidth": 0,
              "tickcolor": "rgb(36,36,36)",
              "ticklen": 8,
              "ticks": "outside",
              "tickwidth": 2
             }
            },
            "marker": {
             "colorbar": {
              "outlinewidth": 0,
              "tickcolor": "rgb(36,36,36)",
              "ticklen": 8,
              "ticks": "outside",
              "tickwidth": 2
             }
            },
            "type": "scatter3d"
           }
          ],
          "scattercarpet": [
           {
            "marker": {
             "colorbar": {
              "outlinewidth": 0,
              "tickcolor": "rgb(36,36,36)",
              "ticklen": 8,
              "ticks": "outside",
              "tickwidth": 2
             }
            },
            "type": "scattercarpet"
           }
          ],
          "scattergeo": [
           {
            "marker": {
             "colorbar": {
              "outlinewidth": 0,
              "tickcolor": "rgb(36,36,36)",
              "ticklen": 8,
              "ticks": "outside",
              "tickwidth": 2
             }
            },
            "type": "scattergeo"
           }
          ],
          "scattergl": [
           {
            "marker": {
             "colorbar": {
              "outlinewidth": 0,
              "tickcolor": "rgb(36,36,36)",
              "ticklen": 8,
              "ticks": "outside",
              "tickwidth": 2
             }
            },
            "type": "scattergl"
           }
          ],
          "scattermapbox": [
           {
            "marker": {
             "colorbar": {
              "outlinewidth": 0,
              "tickcolor": "rgb(36,36,36)",
              "ticklen": 8,
              "ticks": "outside",
              "tickwidth": 2
             }
            },
            "type": "scattermapbox"
           }
          ],
          "scatterpolar": [
           {
            "marker": {
             "colorbar": {
              "outlinewidth": 0,
              "tickcolor": "rgb(36,36,36)",
              "ticklen": 8,
              "ticks": "outside",
              "tickwidth": 2
             }
            },
            "type": "scatterpolar"
           }
          ],
          "scatterpolargl": [
           {
            "marker": {
             "colorbar": {
              "outlinewidth": 0,
              "tickcolor": "rgb(36,36,36)",
              "ticklen": 8,
              "ticks": "outside",
              "tickwidth": 2
             }
            },
            "type": "scatterpolargl"
           }
          ],
          "scatterternary": [
           {
            "marker": {
             "colorbar": {
              "outlinewidth": 0,
              "tickcolor": "rgb(36,36,36)",
              "ticklen": 8,
              "ticks": "outside",
              "tickwidth": 2
             }
            },
            "type": "scatterternary"
           }
          ],
          "surface": [
           {
            "colorbar": {
             "outlinewidth": 0,
             "tickcolor": "rgb(36,36,36)",
             "ticklen": 8,
             "ticks": "outside",
             "tickwidth": 2
            },
            "colorscale": [
             [
              0,
              "rgb(2,4,25)"
             ],
             [
              0.06274509803921569,
              "rgb(24,15,41)"
             ],
             [
              0.12549019607843137,
              "rgb(47,23,57)"
             ],
             [
              0.18823529411764706,
              "rgb(71,28,72)"
             ],
             [
              0.25098039215686274,
              "rgb(97,30,82)"
             ],
             [
              0.3137254901960784,
              "rgb(123,30,89)"
             ],
             [
              0.3764705882352941,
              "rgb(150,27,91)"
             ],
             [
              0.4392156862745098,
              "rgb(177,22,88)"
             ],
             [
              0.5019607843137255,
              "rgb(203,26,79)"
             ],
             [
              0.5647058823529412,
              "rgb(223,47,67)"
             ],
             [
              0.6274509803921569,
              "rgb(236,76,61)"
             ],
             [
              0.6901960784313725,
              "rgb(242,107,73)"
             ],
             [
              0.7529411764705882,
              "rgb(244,135,95)"
             ],
             [
              0.8156862745098039,
              "rgb(245,162,122)"
             ],
             [
              0.8784313725490196,
              "rgb(246,188,153)"
             ],
             [
              0.9411764705882353,
              "rgb(247,212,187)"
             ],
             [
              1,
              "rgb(250,234,220)"
             ]
            ],
            "type": "surface"
           }
          ],
          "table": [
           {
            "cells": {
             "fill": {
              "color": "rgb(231,231,240)"
             },
             "line": {
              "color": "white"
             }
            },
            "header": {
             "fill": {
              "color": "rgb(183,183,191)"
             },
             "line": {
              "color": "white"
             }
            },
            "type": "table"
           }
          ]
         },
         "layout": {
          "annotationdefaults": {
           "arrowcolor": "rgb(67,103,167)"
          },
          "autotypenumbers": "strict",
          "coloraxis": {
           "colorbar": {
            "outlinewidth": 0,
            "tickcolor": "rgb(36,36,36)",
            "ticklen": 8,
            "ticks": "outside",
            "tickwidth": 2
           }
          },
          "colorscale": {
           "sequential": [
            [
             0,
             "rgb(2,4,25)"
            ],
            [
             0.06274509803921569,
             "rgb(24,15,41)"
            ],
            [
             0.12549019607843137,
             "rgb(47,23,57)"
            ],
            [
             0.18823529411764706,
             "rgb(71,28,72)"
            ],
            [
             0.25098039215686274,
             "rgb(97,30,82)"
            ],
            [
             0.3137254901960784,
             "rgb(123,30,89)"
            ],
            [
             0.3764705882352941,
             "rgb(150,27,91)"
            ],
            [
             0.4392156862745098,
             "rgb(177,22,88)"
            ],
            [
             0.5019607843137255,
             "rgb(203,26,79)"
            ],
            [
             0.5647058823529412,
             "rgb(223,47,67)"
            ],
            [
             0.6274509803921569,
             "rgb(236,76,61)"
            ],
            [
             0.6901960784313725,
             "rgb(242,107,73)"
            ],
            [
             0.7529411764705882,
             "rgb(244,135,95)"
            ],
            [
             0.8156862745098039,
             "rgb(245,162,122)"
            ],
            [
             0.8784313725490196,
             "rgb(246,188,153)"
            ],
            [
             0.9411764705882353,
             "rgb(247,212,187)"
            ],
            [
             1,
             "rgb(250,234,220)"
            ]
           ],
           "sequentialminus": [
            [
             0,
             "rgb(2,4,25)"
            ],
            [
             0.06274509803921569,
             "rgb(24,15,41)"
            ],
            [
             0.12549019607843137,
             "rgb(47,23,57)"
            ],
            [
             0.18823529411764706,
             "rgb(71,28,72)"
            ],
            [
             0.25098039215686274,
             "rgb(97,30,82)"
            ],
            [
             0.3137254901960784,
             "rgb(123,30,89)"
            ],
            [
             0.3764705882352941,
             "rgb(150,27,91)"
            ],
            [
             0.4392156862745098,
             "rgb(177,22,88)"
            ],
            [
             0.5019607843137255,
             "rgb(203,26,79)"
            ],
            [
             0.5647058823529412,
             "rgb(223,47,67)"
            ],
            [
             0.6274509803921569,
             "rgb(236,76,61)"
            ],
            [
             0.6901960784313725,
             "rgb(242,107,73)"
            ],
            [
             0.7529411764705882,
             "rgb(244,135,95)"
            ],
            [
             0.8156862745098039,
             "rgb(245,162,122)"
            ],
            [
             0.8784313725490196,
             "rgb(246,188,153)"
            ],
            [
             0.9411764705882353,
             "rgb(247,212,187)"
            ],
            [
             1,
             "rgb(250,234,220)"
            ]
           ]
          },
          "colorway": [
           "rgb(76,114,176)",
           "rgb(221,132,82)",
           "rgb(85,168,104)",
           "rgb(196,78,82)",
           "rgb(129,114,179)",
           "rgb(147,120,96)",
           "rgb(218,139,195)",
           "rgb(140,140,140)",
           "rgb(204,185,116)",
           "rgb(100,181,205)"
          ],
          "font": {
           "color": "rgb(36,36,36)"
          },
          "geo": {
           "bgcolor": "white",
           "lakecolor": "white",
           "landcolor": "rgb(234,234,242)",
           "showlakes": true,
           "showland": true,
           "subunitcolor": "white"
          },
          "hoverlabel": {
           "align": "left"
          },
          "hovermode": "closest",
          "paper_bgcolor": "white",
          "plot_bgcolor": "rgb(234,234,242)",
          "polar": {
           "angularaxis": {
            "gridcolor": "white",
            "linecolor": "white",
            "showgrid": true,
            "ticks": ""
           },
           "bgcolor": "rgb(234,234,242)",
           "radialaxis": {
            "gridcolor": "white",
            "linecolor": "white",
            "showgrid": true,
            "ticks": ""
           }
          },
          "scene": {
           "xaxis": {
            "backgroundcolor": "rgb(234,234,242)",
            "gridcolor": "white",
            "gridwidth": 2,
            "linecolor": "white",
            "showbackground": true,
            "showgrid": true,
            "ticks": "",
            "zerolinecolor": "white"
           },
           "yaxis": {
            "backgroundcolor": "rgb(234,234,242)",
            "gridcolor": "white",
            "gridwidth": 2,
            "linecolor": "white",
            "showbackground": true,
            "showgrid": true,
            "ticks": "",
            "zerolinecolor": "white"
           },
           "zaxis": {
            "backgroundcolor": "rgb(234,234,242)",
            "gridcolor": "white",
            "gridwidth": 2,
            "linecolor": "white",
            "showbackground": true,
            "showgrid": true,
            "ticks": "",
            "zerolinecolor": "white"
           }
          },
          "shapedefaults": {
           "fillcolor": "rgb(67,103,167)",
           "line": {
            "width": 0
           },
           "opacity": 0.5
          },
          "ternary": {
           "aaxis": {
            "gridcolor": "white",
            "linecolor": "white",
            "showgrid": true,
            "ticks": ""
           },
           "baxis": {
            "gridcolor": "white",
            "linecolor": "white",
            "showgrid": true,
            "ticks": ""
           },
           "bgcolor": "rgb(234,234,242)",
           "caxis": {
            "gridcolor": "white",
            "linecolor": "white",
            "showgrid": true,
            "ticks": ""
           }
          },
          "xaxis": {
           "automargin": true,
           "gridcolor": "white",
           "linecolor": "white",
           "showgrid": true,
           "ticks": "",
           "title": {
            "standoff": 15
           },
           "zerolinecolor": "white"
          },
          "yaxis": {
           "automargin": true,
           "gridcolor": "white",
           "linecolor": "white",
           "showgrid": true,
           "ticks": "",
           "title": {
            "standoff": 15
           },
           "zerolinecolor": "white"
          }
         }
        },
        "title": {
         "text": "Wind Speed Distribution <br> for the past 26h",
         "xanchor": "center",
         "yanchor": "top"
        }
       }
      }
     },
     "metadata": {},
     "output_type": "display_data"
    }
   ],
   "source": [
    "fig = px.bar_polar(df_w, r=\"count\", theta=\"cardinal_direction\",\n",
    "                   color=\"strength\", template=\"seaborn\")\n",
    "\n",
    "fig.add_annotation(\n",
    "    text=\"Calm\", x=0.5, y=0.5, showarrow=False, font=dict(size=7)\n",
    ")\n",
    "\n",
    "fig.update_layout(legend=dict(\n",
    "    orientation=\"h\",\n",
    "    yanchor=\"middle\",  \n",
    "    y=-0.1,\n",
    "    xanchor=\"center\",\n",
    "    x=0.5,\n",
    "    font=dict(\n",
    "        size=14)),\n",
    "    polar=dict(hole=0.1, radialaxis=dict(showticklabels=False, ticks='', linewidth=0)\n",
    "               ),\n",
    "    margin=dict(t=110),\n",
    "    title=dict(\n",
    "        text='Wind Speed Distribution <br> for the past 26h',\n",
    "        xanchor='center',\n",
    "        yanchor='top'\n",
    "    ),\n",
    ")\n",
    "fig.show()"
   ]
  },
  {
   "cell_type": "code",
   "execution_count": null,
   "metadata": {},
   "outputs": [],
   "source": []
  }
 ],
 "metadata": {
  "kernelspec": {
   "display_name": ".venv",
   "language": "python",
   "name": "python3"
  },
  "language_info": {
   "codemirror_mode": {
    "name": "ipython",
    "version": 3
   },
   "file_extension": ".py",
   "mimetype": "text/x-python",
   "name": "python",
   "nbconvert_exporter": "python",
   "pygments_lexer": "ipython3",
   "version": "3.11.4"
  },
  "orig_nbformat": 4
 },
 "nbformat": 4,
 "nbformat_minor": 2
}
