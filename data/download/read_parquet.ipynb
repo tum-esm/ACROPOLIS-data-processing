{
 "cells": [
  {
   "cell_type": "code",
   "execution_count": 12,
   "metadata": {},
   "outputs": [],
   "source": [
    "import polars as pl\n",
    "import os\n",
    "import plotly.express as px\n",
    "from datetime import datetime\n",
    "from datetime import timezone\n",
    "\n",
    "sensor_id = [1,2,3,4,5,6,7,8,9,10,11,12,13,14,15,16,17,18,19,20]\n",
    "\n",
    "DATA_DIRECTORY = os.environ.get(\"DATA_DIRECTORY\")"
   ]
  },
  {
   "cell_type": "code",
   "execution_count": 13,
   "metadata": {},
   "outputs": [],
   "source": [
    "df_raw = pl.scan_parquet(os.path.join(DATA_DIRECTORY, \"download\", \"acropolis.parquet\"))"
   ]
  },
  {
   "cell_type": "code",
   "execution_count": 15,
   "metadata": {},
   "outputs": [],
   "source": [
    "df_raw.sort(\"creation_timestamp\").tail().collect()"
   ]
  },
  {
   "cell_type": "code",
   "execution_count": 5,
   "metadata": {},
   "outputs": [],
   "source": [
    "def plot_sensor_measurement(\n",
    "    df,\n",
    "    sensor_id,\n",
    "    col_name: str,\n",
    "    filter=\"1h\",\n",
    "    cut_below: float | None = None,\n",
    "    cut_above: float | None = None,\n",
    "):\n",
    "    df = df.select(\"creation_timestamp\", \"system_name\", col_name).sort(\n",
    "        \"creation_timestamp\"\n",
    "    )\n",
    "\n",
    "    l_df = []\n",
    "\n",
    "    for id in sensor_id:\n",
    "        df_t = df.filter(pl.col(\"system_name\") == f\"tum-esm-midcost-raspi-{id}\").filter(\n",
    "            pl.col(col_name) > 0\n",
    "        )\n",
    "        # additional filters < and >\n",
    "        if cut_below != None:\n",
    "            df_t = df_t.filter(pl.col(col_name) > cut_below)\n",
    "\n",
    "        if cut_above != None:\n",
    "            df_t = df_t.filter(pl.col(col_name) < cut_above)\n",
    "\n",
    "        # time averaging\n",
    "        if filter != None:\n",
    "            df_t = (\n",
    "                df_t.groupby_dynamic(\"creation_timestamp\", every=filter)\n",
    "                .agg(\n",
    "                    [\n",
    "                        pl.all().exclude([\"creation_timestamp\"]).mean(),\n",
    "                    ]\n",
    "                )\n",
    "                .with_columns(\n",
    "                    pl.lit(f\"tum-esm-midcost-raspi-{id}\").alias(\"system_name\")\n",
    "                )\n",
    "            )\n",
    "\n",
    "        l_df.append(df_t)\n",
    "\n",
    "    df_agg = pl.concat(l_df, how=\"vertical\")\n",
    "\n",
    "    fig = px.line(\n",
    "        df_agg,\n",
    "        x=\"creation_timestamp\",\n",
    "        y=col_name,\n",
    "        markers=True,\n",
    "        title=col_name,\n",
    "        color=\"system_name\",\n",
    "    )\n",
    "    fig.show()\n"
   ]
  },
  {
   "cell_type": "code",
   "execution_count": 20,
   "metadata": {},
   "outputs": [],
   "source": [
    "#2024-07-04 00:07:16.110000+00:00\n",
    "\n",
    "start_date = datetime(2024, 7, 4, 0, 7, 10).replace(tzinfo=timezone.utc)\n",
    "end_date = datetime(2024, 7, 4, 0, 7, 20).replace(tzinfo=timezone.utc)\n",
    "\n",
    "df_plot = df_raw.filter(pl.col(\"creation_timestamp\").is_between(start_date, end_date)).collect()\n",
    "#.filter(pl.col(\"system_name\") == \"tum-esm-midcost-raspi-2\")"
   ]
  },
  {
   "cell_type": "code",
   "execution_count": 18,
   "metadata": {},
   "outputs": [
    {
     "name": "stderr",
     "output_type": "stream",
     "text": [
      "/var/folders/y4/db3wnfk51k5977sk937k5q140000gn/T/ipykernel_74242/2437816018.py:29: DeprecationWarning:\n",
      "\n",
      "`groupby_dynamic` is deprecated. It has been renamed to `group_by_dynamic`.\n",
      "\n",
      "/var/folders/y4/db3wnfk51k5977sk937k5q140000gn/T/ipykernel_74242/2437816018.py:30: DeprecationWarning:\n",
      "\n",
      "`truncate` is deprecated and will be removed in a future version. Please replace `truncate=True` with `label='left'` to silence this warning.\n",
      "\n"
     ]
    },
    {
     "data": {
      "application/vnd.plotly.v1+json": {
       "config": {
        "plotlyServerURL": "https://plot.ly"
       },
       "data": [
        {
         "hovertemplate": "system_name=tum-esm-midcost-raspi-1<br>creation_timestamp=%{x}<br>sht45_humidity=%{y}<extra></extra>",
         "legendgroup": "tum-esm-midcost-raspi-1",
         "line": {
          "color": "#636efa",
          "dash": "solid"
         },
         "marker": {
          "symbol": "circle"
         },
         "mode": "lines+markers",
         "name": "tum-esm-midcost-raspi-1",
         "orientation": "v",
         "showlegend": true,
         "type": "scatter",
         "x": [
          "2024-07-04T00:06:00+00:00",
          "2024-07-04T00:06:10+00:00",
          "2024-07-04T00:06:20+00:00",
          "2024-07-04T00:06:30+00:00",
          "2024-07-04T00:06:40+00:00",
          "2024-07-04T00:06:50+00:00",
          "2024-07-04T00:07:00+00:00",
          "2024-07-04T00:07:10+00:00",
          "2024-07-04T00:07:20+00:00",
          "2024-07-04T00:07:30+00:00",
          "2024-07-04T00:07:40+00:00",
          "2024-07-04T00:07:50+00:00"
         ],
         "xaxis": "x",
         "y": [
          27.78,
          27.76,
          27.79,
          27.78,
          27.78,
          27.79,
          27.76,
          27.77,
          27.78,
          27.8,
          27.75,
          27.75
         ],
         "yaxis": "y"
        },
        {
         "hovertemplate": "system_name=tum-esm-midcost-raspi-2<br>creation_timestamp=%{x}<br>sht45_humidity=%{y}<extra></extra>",
         "legendgroup": "tum-esm-midcost-raspi-2",
         "line": {
          "color": "#EF553B",
          "dash": "solid"
         },
         "marker": {
          "symbol": "circle"
         },
         "mode": "lines+markers",
         "name": "tum-esm-midcost-raspi-2",
         "orientation": "v",
         "showlegend": true,
         "type": "scatter",
         "x": [
          "2024-07-04T00:06:00+00:00",
          "2024-07-04T00:06:10+00:00",
          "2024-07-04T00:06:20+00:00",
          "2024-07-04T00:06:30+00:00",
          "2024-07-04T00:06:40+00:00",
          "2024-07-04T00:06:50+00:00",
          "2024-07-04T00:07:00+00:00",
          "2024-07-04T00:07:10+00:00",
          "2024-07-04T00:07:20+00:00",
          "2024-07-04T00:07:30+00:00",
          "2024-07-04T00:07:40+00:00",
          "2024-07-04T00:07:50+00:00"
         ],
         "xaxis": "x",
         "y": [
          37.5,
          37.48,
          37.47,
          37.46,
          37.49,
          37.48,
          37.46,
          37.47,
          37.51,
          37.44,
          37.47,
          37.49
         ],
         "yaxis": "y"
        },
        {
         "hovertemplate": "system_name=tum-esm-midcost-raspi-3<br>creation_timestamp=%{x}<br>sht45_humidity=%{y}<extra></extra>",
         "legendgroup": "tum-esm-midcost-raspi-3",
         "line": {
          "color": "#00cc96",
          "dash": "solid"
         },
         "marker": {
          "symbol": "circle"
         },
         "mode": "lines+markers",
         "name": "tum-esm-midcost-raspi-3",
         "orientation": "v",
         "showlegend": true,
         "type": "scatter",
         "x": [
          "2024-07-04T00:06:00+00:00",
          "2024-07-04T00:06:10+00:00",
          "2024-07-04T00:06:20+00:00",
          "2024-07-04T00:06:30+00:00",
          "2024-07-04T00:06:40+00:00",
          "2024-07-04T00:06:50+00:00",
          "2024-07-04T00:07:00+00:00",
          "2024-07-04T00:07:10+00:00",
          "2024-07-04T00:07:20+00:00",
          "2024-07-04T00:07:30+00:00",
          "2024-07-04T00:07:40+00:00",
          "2024-07-04T00:07:50+00:00"
         ],
         "xaxis": "x",
         "y": [
          44.43,
          44.41,
          44.4,
          44.42,
          44.39,
          44.41,
          44.38,
          44.39,
          44.39,
          44.38,
          44.38,
          44.41
         ],
         "yaxis": "y"
        },
        {
         "hovertemplate": "system_name=tum-esm-midcost-raspi-4<br>creation_timestamp=%{x}<br>sht45_humidity=%{y}<extra></extra>",
         "legendgroup": "tum-esm-midcost-raspi-4",
         "line": {
          "color": "#ab63fa",
          "dash": "solid"
         },
         "marker": {
          "symbol": "circle"
         },
         "mode": "lines+markers",
         "name": "tum-esm-midcost-raspi-4",
         "orientation": "v",
         "showlegend": true,
         "type": "scatter",
         "x": [
          "2024-07-04T00:06:00+00:00",
          "2024-07-04T00:06:10+00:00",
          "2024-07-04T00:06:20+00:00",
          "2024-07-04T00:06:30+00:00",
          "2024-07-04T00:06:40+00:00",
          "2024-07-04T00:06:50+00:00",
          "2024-07-04T00:07:00+00:00",
          "2024-07-04T00:07:10+00:00",
          "2024-07-04T00:07:20+00:00",
          "2024-07-04T00:07:30+00:00",
          "2024-07-04T00:07:40+00:00",
          "2024-07-04T00:07:50+00:00"
         ],
         "xaxis": "x",
         "y": [
          39.24,
          39.27,
          38.83,
          38.67,
          38.63,
          38.66,
          38.65,
          38.71,
          38.82,
          38.82,
          38.92,
          38.84
         ],
         "yaxis": "y"
        },
        {
         "hovertemplate": "system_name=tum-esm-midcost-raspi-5<br>creation_timestamp=%{x}<br>sht45_humidity=%{y}<extra></extra>",
         "legendgroup": "tum-esm-midcost-raspi-5",
         "line": {
          "color": "#FFA15A",
          "dash": "solid"
         },
         "marker": {
          "symbol": "circle"
         },
         "mode": "lines+markers",
         "name": "tum-esm-midcost-raspi-5",
         "orientation": "v",
         "showlegend": true,
         "type": "scatter",
         "x": [
          "2024-07-04T00:06:00+00:00",
          "2024-07-04T00:06:10+00:00",
          "2024-07-04T00:06:20+00:00",
          "2024-07-04T00:06:30+00:00",
          "2024-07-04T00:06:40+00:00",
          "2024-07-04T00:06:50+00:00",
          "2024-07-04T00:07:00+00:00",
          "2024-07-04T00:07:10+00:00",
          "2024-07-04T00:07:20+00:00",
          "2024-07-04T00:07:30+00:00",
          "2024-07-04T00:07:40+00:00",
          "2024-07-04T00:07:50+00:00"
         ],
         "xaxis": "x",
         "y": [
          36.81,
          36.87,
          36.85,
          36.89,
          36.83,
          36.83,
          36.93,
          36.96,
          37.02,
          37,
          36.87,
          36.73
         ],
         "yaxis": "y"
        },
        {
         "hovertemplate": "system_name=tum-esm-midcost-raspi-6<br>creation_timestamp=%{x}<br>sht45_humidity=%{y}<extra></extra>",
         "legendgroup": "tum-esm-midcost-raspi-6",
         "line": {
          "color": "#19d3f3",
          "dash": "solid"
         },
         "marker": {
          "symbol": "circle"
         },
         "mode": "lines+markers",
         "name": "tum-esm-midcost-raspi-6",
         "orientation": "v",
         "showlegend": true,
         "type": "scatter",
         "x": [
          "2024-07-04T00:06:00+00:00",
          "2024-07-04T00:06:10+00:00",
          "2024-07-04T00:06:20+00:00",
          "2024-07-04T00:06:30+00:00",
          "2024-07-04T00:06:40+00:00",
          "2024-07-04T00:06:50+00:00",
          "2024-07-04T00:07:00+00:00",
          "2024-07-04T00:07:10+00:00",
          "2024-07-04T00:07:20+00:00",
          "2024-07-04T00:07:30+00:00",
          "2024-07-04T00:07:40+00:00",
          "2024-07-04T00:07:50+00:00"
         ],
         "xaxis": "x",
         "y": [
          36.58,
          36.58,
          36.59,
          36.56,
          36.56,
          36.6,
          36.58,
          36.61,
          36.56,
          36.49,
          36.48,
          36.51
         ],
         "yaxis": "y"
        },
        {
         "hovertemplate": "system_name=tum-esm-midcost-raspi-7<br>creation_timestamp=%{x}<br>sht45_humidity=%{y}<extra></extra>",
         "legendgroup": "tum-esm-midcost-raspi-7",
         "line": {
          "color": "#FF6692",
          "dash": "solid"
         },
         "marker": {
          "symbol": "circle"
         },
         "mode": "lines+markers",
         "name": "tum-esm-midcost-raspi-7",
         "orientation": "v",
         "showlegend": true,
         "type": "scatter",
         "x": [
          "2024-07-04T00:06:00+00:00",
          "2024-07-04T00:06:10+00:00",
          "2024-07-04T00:06:20+00:00",
          "2024-07-04T00:06:30+00:00",
          "2024-07-04T00:06:40+00:00",
          "2024-07-04T00:06:50+00:00",
          "2024-07-04T00:07:00+00:00",
          "2024-07-04T00:07:10+00:00",
          "2024-07-04T00:07:20+00:00",
          "2024-07-04T00:07:30+00:00",
          "2024-07-04T00:07:40+00:00",
          "2024-07-04T00:07:50+00:00"
         ],
         "xaxis": "x",
         "y": [
          26.28,
          26.29,
          26.27,
          26.25,
          26.32,
          26.33,
          26.31,
          26.32,
          26.35,
          26.36,
          26.35,
          26.35
         ],
         "yaxis": "y"
        },
        {
         "hovertemplate": "system_name=tum-esm-midcost-raspi-8<br>creation_timestamp=%{x}<br>sht45_humidity=%{y}<extra></extra>",
         "legendgroup": "tum-esm-midcost-raspi-8",
         "line": {
          "color": "#B6E880",
          "dash": "solid"
         },
         "marker": {
          "symbol": "circle"
         },
         "mode": "lines+markers",
         "name": "tum-esm-midcost-raspi-8",
         "orientation": "v",
         "showlegend": true,
         "type": "scatter",
         "x": [
          "2024-07-04T00:06:00+00:00",
          "2024-07-04T00:06:10+00:00",
          "2024-07-04T00:06:20+00:00",
          "2024-07-04T00:06:30+00:00",
          "2024-07-04T00:06:40+00:00",
          "2024-07-04T00:06:50+00:00",
          "2024-07-04T00:07:00+00:00",
          "2024-07-04T00:07:10+00:00",
          "2024-07-04T00:07:20+00:00",
          "2024-07-04T00:07:30+00:00",
          "2024-07-04T00:07:40+00:00",
          "2024-07-04T00:07:50+00:00"
         ],
         "xaxis": "x",
         "y": [
          38.58,
          38.57,
          38.48,
          38.38,
          38.55,
          38.64,
          38.58,
          38.46,
          38.54,
          38.74,
          39.02,
          39.15
         ],
         "yaxis": "y"
        },
        {
         "hovertemplate": "system_name=tum-esm-midcost-raspi-9<br>creation_timestamp=%{x}<br>sht45_humidity=%{y}<extra></extra>",
         "legendgroup": "tum-esm-midcost-raspi-9",
         "line": {
          "color": "#FF97FF",
          "dash": "solid"
         },
         "marker": {
          "symbol": "circle"
         },
         "mode": "lines+markers",
         "name": "tum-esm-midcost-raspi-9",
         "orientation": "v",
         "showlegend": true,
         "type": "scatter",
         "x": [
          "2024-07-04T00:06:00+00:00",
          "2024-07-04T00:06:10+00:00",
          "2024-07-04T00:06:20+00:00",
          "2024-07-04T00:06:30+00:00",
          "2024-07-04T00:06:40+00:00",
          "2024-07-04T00:06:50+00:00",
          "2024-07-04T00:07:00+00:00",
          "2024-07-04T00:07:10+00:00",
          "2024-07-04T00:07:20+00:00",
          "2024-07-04T00:07:30+00:00",
          "2024-07-04T00:07:40+00:00",
          "2024-07-04T00:07:50+00:00"
         ],
         "xaxis": "x",
         "y": [
          41.3,
          41.3,
          41.34,
          41.28,
          41.28,
          41.29,
          41.3,
          41.34,
          41.34,
          41.35,
          41.34,
          41.34
         ],
         "yaxis": "y"
        },
        {
         "hovertemplate": "system_name=tum-esm-midcost-raspi-10<br>creation_timestamp=%{x}<br>sht45_humidity=%{y}<extra></extra>",
         "legendgroup": "tum-esm-midcost-raspi-10",
         "line": {
          "color": "#FECB52",
          "dash": "solid"
         },
         "marker": {
          "symbol": "circle"
         },
         "mode": "lines+markers",
         "name": "tum-esm-midcost-raspi-10",
         "orientation": "v",
         "showlegend": true,
         "type": "scatter",
         "x": [
          "2024-07-04T00:06:00+00:00",
          "2024-07-04T00:06:10+00:00",
          "2024-07-04T00:06:20+00:00",
          "2024-07-04T00:06:30+00:00",
          "2024-07-04T00:06:40+00:00",
          "2024-07-04T00:06:50+00:00",
          "2024-07-04T00:07:00+00:00",
          "2024-07-04T00:07:10+00:00",
          "2024-07-04T00:07:20+00:00",
          "2024-07-04T00:07:30+00:00",
          "2024-07-04T00:07:40+00:00",
          "2024-07-04T00:07:50+00:00"
         ],
         "xaxis": "x",
         "y": [
          36.52,
          36.49,
          36.54,
          36.45,
          36.57,
          36.56,
          36.57,
          36.6,
          36.54,
          36.43,
          36.46,
          36.47
         ],
         "yaxis": "y"
        },
        {
         "hovertemplate": "system_name=tum-esm-midcost-raspi-11<br>creation_timestamp=%{x}<br>sht45_humidity=%{y}<extra></extra>",
         "legendgroup": "tum-esm-midcost-raspi-11",
         "line": {
          "color": "#636efa",
          "dash": "solid"
         },
         "marker": {
          "symbol": "circle"
         },
         "mode": "lines+markers",
         "name": "tum-esm-midcost-raspi-11",
         "orientation": "v",
         "showlegend": true,
         "type": "scatter",
         "x": [
          "2024-07-04T00:06:00+00:00",
          "2024-07-04T00:06:10+00:00",
          "2024-07-04T00:06:20+00:00",
          "2024-07-04T00:06:30+00:00",
          "2024-07-04T00:06:40+00:00",
          "2024-07-04T00:06:50+00:00",
          "2024-07-04T00:07:00+00:00",
          "2024-07-04T00:07:10+00:00",
          "2024-07-04T00:07:20+00:00",
          "2024-07-04T00:07:30+00:00",
          "2024-07-04T00:07:40+00:00",
          "2024-07-04T00:07:50+00:00"
         ],
         "xaxis": "x",
         "y": [
          31.38,
          31.4,
          31.38,
          31.38,
          31.34,
          31.36,
          31.37,
          31.35,
          31.36,
          31.39,
          31.38,
          31.32
         ],
         "yaxis": "y"
        },
        {
         "hovertemplate": "system_name=tum-esm-midcost-raspi-12<br>creation_timestamp=%{x}<br>sht45_humidity=%{y}<extra></extra>",
         "legendgroup": "tum-esm-midcost-raspi-12",
         "line": {
          "color": "#EF553B",
          "dash": "solid"
         },
         "marker": {
          "symbol": "circle"
         },
         "mode": "lines+markers",
         "name": "tum-esm-midcost-raspi-12",
         "orientation": "v",
         "showlegend": true,
         "type": "scatter",
         "x": [
          "2024-07-04T00:06:00+00:00",
          "2024-07-04T00:06:10+00:00",
          "2024-07-04T00:06:20+00:00",
          "2024-07-04T00:06:30+00:00",
          "2024-07-04T00:06:40+00:00",
          "2024-07-04T00:06:50+00:00",
          "2024-07-04T00:07:00+00:00",
          "2024-07-04T00:07:10+00:00",
          "2024-07-04T00:07:20+00:00",
          "2024-07-04T00:07:30+00:00",
          "2024-07-04T00:07:40+00:00",
          "2024-07-04T00:07:50+00:00"
         ],
         "xaxis": "x",
         "y": [
          35.26,
          35.32,
          35.38,
          35.32,
          35.39,
          35.37,
          35.35,
          35.37,
          35.37,
          35.33,
          35.32,
          35.37
         ],
         "yaxis": "y"
        },
        {
         "hovertemplate": "system_name=tum-esm-midcost-raspi-13<br>creation_timestamp=%{x}<br>sht45_humidity=%{y}<extra></extra>",
         "legendgroup": "tum-esm-midcost-raspi-13",
         "line": {
          "color": "#00cc96",
          "dash": "solid"
         },
         "marker": {
          "symbol": "circle"
         },
         "mode": "lines+markers",
         "name": "tum-esm-midcost-raspi-13",
         "orientation": "v",
         "showlegend": true,
         "type": "scatter",
         "x": [
          "2024-07-04T00:06:00+00:00",
          "2024-07-04T00:06:10+00:00",
          "2024-07-04T00:06:20+00:00",
          "2024-07-04T00:06:30+00:00",
          "2024-07-04T00:06:40+00:00",
          "2024-07-04T00:06:50+00:00",
          "2024-07-04T00:07:00+00:00",
          "2024-07-04T00:07:10+00:00",
          "2024-07-04T00:07:20+00:00",
          "2024-07-04T00:07:30+00:00",
          "2024-07-04T00:07:40+00:00",
          "2024-07-04T00:07:50+00:00"
         ],
         "xaxis": "x",
         "y": [
          29.68,
          29.76,
          29.78,
          29.85,
          29.87,
          29.85,
          29.83,
          29.8,
          29.69,
          29.63,
          29.63,
          29.6
         ],
         "yaxis": "y"
        },
        {
         "hovertemplate": "system_name=tum-esm-midcost-raspi-14<br>creation_timestamp=%{x}<br>sht45_humidity=%{y}<extra></extra>",
         "legendgroup": "tum-esm-midcost-raspi-14",
         "line": {
          "color": "#ab63fa",
          "dash": "solid"
         },
         "marker": {
          "symbol": "circle"
         },
         "mode": "lines+markers",
         "name": "tum-esm-midcost-raspi-14",
         "orientation": "v",
         "showlegend": true,
         "type": "scatter",
         "x": [
          "2024-07-04T00:06:00+00:00",
          "2024-07-04T00:06:10+00:00",
          "2024-07-04T00:06:20+00:00",
          "2024-07-04T00:06:30+00:00",
          "2024-07-04T00:06:40+00:00",
          "2024-07-04T00:06:50+00:00",
          "2024-07-04T00:07:00+00:00",
          "2024-07-04T00:07:10+00:00",
          "2024-07-04T00:07:20+00:00",
          "2024-07-04T00:07:30+00:00",
          "2024-07-04T00:07:40+00:00",
          "2024-07-04T00:07:50+00:00"
         ],
         "xaxis": "x",
         "y": [
          25.23,
          25.22,
          25.21,
          25.19,
          25.17,
          25.2,
          25.23,
          25.2,
          25.14,
          25.17,
          25.17,
          25.17
         ],
         "yaxis": "y"
        },
        {
         "hovertemplate": "system_name=tum-esm-midcost-raspi-15<br>creation_timestamp=%{x}<br>sht45_humidity=%{y}<extra></extra>",
         "legendgroup": "tum-esm-midcost-raspi-15",
         "line": {
          "color": "#FFA15A",
          "dash": "solid"
         },
         "marker": {
          "symbol": "circle"
         },
         "mode": "lines+markers",
         "name": "tum-esm-midcost-raspi-15",
         "orientation": "v",
         "showlegend": true,
         "type": "scatter",
         "x": [
          "2024-07-04T00:06:00+00:00",
          "2024-07-04T00:06:10+00:00",
          "2024-07-04T00:06:20+00:00",
          "2024-07-04T00:06:30+00:00",
          "2024-07-04T00:06:40+00:00",
          "2024-07-04T00:06:50+00:00",
          "2024-07-04T00:07:00+00:00",
          "2024-07-04T00:07:10+00:00",
          "2024-07-04T00:07:20+00:00",
          "2024-07-04T00:07:30+00:00",
          "2024-07-04T00:07:40+00:00",
          "2024-07-04T00:07:50+00:00"
         ],
         "xaxis": "x",
         "y": [
          38.17,
          38.14,
          38.13,
          38.18,
          38.15,
          38.17,
          38.18,
          38.17,
          38.21,
          38.21,
          38.17,
          38.22
         ],
         "yaxis": "y"
        },
        {
         "hovertemplate": "system_name=tum-esm-midcost-raspi-16<br>creation_timestamp=%{x}<br>sht45_humidity=%{y}<extra></extra>",
         "legendgroup": "tum-esm-midcost-raspi-16",
         "line": {
          "color": "#19d3f3",
          "dash": "solid"
         },
         "marker": {
          "symbol": "circle"
         },
         "mode": "lines+markers",
         "name": "tum-esm-midcost-raspi-16",
         "orientation": "v",
         "showlegend": true,
         "type": "scatter",
         "x": [
          "2024-07-04T00:06:00+00:00",
          "2024-07-04T00:06:10+00:00",
          "2024-07-04T00:06:20+00:00",
          "2024-07-04T00:06:30+00:00",
          "2024-07-04T00:06:40+00:00",
          "2024-07-04T00:06:50+00:00",
          "2024-07-04T00:07:00+00:00",
          "2024-07-04T00:07:10+00:00",
          "2024-07-04T00:07:20+00:00",
          "2024-07-04T00:07:30+00:00",
          "2024-07-04T00:07:40+00:00",
          "2024-07-04T00:07:50+00:00"
         ],
         "xaxis": "x",
         "y": [
          31.08,
          31.09,
          31.12,
          31.1,
          31.09,
          31.1,
          31.1,
          31.1,
          31.01,
          31.02,
          31,
          30.98
         ],
         "yaxis": "y"
        },
        {
         "hovertemplate": "system_name=tum-esm-midcost-raspi-18<br>creation_timestamp=%{x}<br>sht45_humidity=%{y}<extra></extra>",
         "legendgroup": "tum-esm-midcost-raspi-18",
         "line": {
          "color": "#FF6692",
          "dash": "solid"
         },
         "marker": {
          "symbol": "circle"
         },
         "mode": "lines+markers",
         "name": "tum-esm-midcost-raspi-18",
         "orientation": "v",
         "showlegend": true,
         "type": "scatter",
         "x": [
          "2024-07-04T00:06:00+00:00",
          "2024-07-04T00:06:10+00:00",
          "2024-07-04T00:06:20+00:00",
          "2024-07-04T00:06:30+00:00",
          "2024-07-04T00:06:40+00:00",
          "2024-07-04T00:06:50+00:00",
          "2024-07-04T00:07:00+00:00",
          "2024-07-04T00:07:20+00:00",
          "2024-07-04T00:07:30+00:00",
          "2024-07-04T00:07:40+00:00",
          "2024-07-04T00:07:50+00:00"
         ],
         "xaxis": "x",
         "y": [
          36.98,
          37,
          36.98,
          36.95,
          36.94,
          36.94,
          36.99,
          37.02,
          37.04,
          37.04,
          37.03
         ],
         "yaxis": "y"
        },
        {
         "hovertemplate": "system_name=tum-esm-midcost-raspi-19<br>creation_timestamp=%{x}<br>sht45_humidity=%{y}<extra></extra>",
         "legendgroup": "tum-esm-midcost-raspi-19",
         "line": {
          "color": "#B6E880",
          "dash": "solid"
         },
         "marker": {
          "symbol": "circle"
         },
         "mode": "lines+markers",
         "name": "tum-esm-midcost-raspi-19",
         "orientation": "v",
         "showlegend": true,
         "type": "scatter",
         "x": [
          "2024-07-04T00:06:00+00:00",
          "2024-07-04T00:06:10+00:00",
          "2024-07-04T00:06:20+00:00",
          "2024-07-04T00:06:30+00:00",
          "2024-07-04T00:06:40+00:00",
          "2024-07-04T00:06:50+00:00",
          "2024-07-04T00:07:00+00:00",
          "2024-07-04T00:07:10+00:00",
          "2024-07-04T00:07:20+00:00",
          "2024-07-04T00:07:30+00:00",
          "2024-07-04T00:07:40+00:00",
          "2024-07-04T00:07:50+00:00"
         ],
         "xaxis": "x",
         "y": [
          43.57,
          43.39,
          43.31,
          43.28,
          43.1,
          43.09,
          43.05,
          43.12,
          43.21,
          43.32,
          43.23,
          43.22
         ],
         "yaxis": "y"
        },
        {
         "hovertemplate": "system_name=tum-esm-midcost-raspi-20<br>creation_timestamp=%{x}<br>sht45_humidity=%{y}<extra></extra>",
         "legendgroup": "tum-esm-midcost-raspi-20",
         "line": {
          "color": "#FF97FF",
          "dash": "solid"
         },
         "marker": {
          "symbol": "circle"
         },
         "mode": "lines+markers",
         "name": "tum-esm-midcost-raspi-20",
         "orientation": "v",
         "showlegend": true,
         "type": "scatter",
         "x": [
          "2024-07-04T00:06:00+00:00",
          "2024-07-04T00:06:10+00:00",
          "2024-07-04T00:06:20+00:00",
          "2024-07-04T00:06:30+00:00",
          "2024-07-04T00:06:40+00:00",
          "2024-07-04T00:06:50+00:00",
          "2024-07-04T00:07:00+00:00",
          "2024-07-04T00:07:10+00:00",
          "2024-07-04T00:07:20+00:00",
          "2024-07-04T00:07:30+00:00",
          "2024-07-04T00:07:40+00:00",
          "2024-07-04T00:07:50+00:00"
         ],
         "xaxis": "x",
         "y": [
          28.05,
          28.04,
          28.07,
          28.1,
          28.12,
          28.1,
          28.11,
          28.14,
          28.14,
          28.1,
          28.19,
          28.21
         ],
         "yaxis": "y"
        }
       ],
       "layout": {
        "legend": {
         "title": {
          "text": "system_name"
         },
         "tracegroupgap": 0
        },
        "template": {
         "data": {
          "bar": [
           {
            "error_x": {
             "color": "#2a3f5f"
            },
            "error_y": {
             "color": "#2a3f5f"
            },
            "marker": {
             "line": {
              "color": "#E5ECF6",
              "width": 0.5
             },
             "pattern": {
              "fillmode": "overlay",
              "size": 10,
              "solidity": 0.2
             }
            },
            "type": "bar"
           }
          ],
          "barpolar": [
           {
            "marker": {
             "line": {
              "color": "#E5ECF6",
              "width": 0.5
             },
             "pattern": {
              "fillmode": "overlay",
              "size": 10,
              "solidity": 0.2
             }
            },
            "type": "barpolar"
           }
          ],
          "carpet": [
           {
            "aaxis": {
             "endlinecolor": "#2a3f5f",
             "gridcolor": "white",
             "linecolor": "white",
             "minorgridcolor": "white",
             "startlinecolor": "#2a3f5f"
            },
            "baxis": {
             "endlinecolor": "#2a3f5f",
             "gridcolor": "white",
             "linecolor": "white",
             "minorgridcolor": "white",
             "startlinecolor": "#2a3f5f"
            },
            "type": "carpet"
           }
          ],
          "choropleth": [
           {
            "colorbar": {
             "outlinewidth": 0,
             "ticks": ""
            },
            "type": "choropleth"
           }
          ],
          "contour": [
           {
            "colorbar": {
             "outlinewidth": 0,
             "ticks": ""
            },
            "colorscale": [
             [
              0,
              "#0d0887"
             ],
             [
              0.1111111111111111,
              "#46039f"
             ],
             [
              0.2222222222222222,
              "#7201a8"
             ],
             [
              0.3333333333333333,
              "#9c179e"
             ],
             [
              0.4444444444444444,
              "#bd3786"
             ],
             [
              0.5555555555555556,
              "#d8576b"
             ],
             [
              0.6666666666666666,
              "#ed7953"
             ],
             [
              0.7777777777777778,
              "#fb9f3a"
             ],
             [
              0.8888888888888888,
              "#fdca26"
             ],
             [
              1,
              "#f0f921"
             ]
            ],
            "type": "contour"
           }
          ],
          "contourcarpet": [
           {
            "colorbar": {
             "outlinewidth": 0,
             "ticks": ""
            },
            "type": "contourcarpet"
           }
          ],
          "heatmap": [
           {
            "colorbar": {
             "outlinewidth": 0,
             "ticks": ""
            },
            "colorscale": [
             [
              0,
              "#0d0887"
             ],
             [
              0.1111111111111111,
              "#46039f"
             ],
             [
              0.2222222222222222,
              "#7201a8"
             ],
             [
              0.3333333333333333,
              "#9c179e"
             ],
             [
              0.4444444444444444,
              "#bd3786"
             ],
             [
              0.5555555555555556,
              "#d8576b"
             ],
             [
              0.6666666666666666,
              "#ed7953"
             ],
             [
              0.7777777777777778,
              "#fb9f3a"
             ],
             [
              0.8888888888888888,
              "#fdca26"
             ],
             [
              1,
              "#f0f921"
             ]
            ],
            "type": "heatmap"
           }
          ],
          "heatmapgl": [
           {
            "colorbar": {
             "outlinewidth": 0,
             "ticks": ""
            },
            "colorscale": [
             [
              0,
              "#0d0887"
             ],
             [
              0.1111111111111111,
              "#46039f"
             ],
             [
              0.2222222222222222,
              "#7201a8"
             ],
             [
              0.3333333333333333,
              "#9c179e"
             ],
             [
              0.4444444444444444,
              "#bd3786"
             ],
             [
              0.5555555555555556,
              "#d8576b"
             ],
             [
              0.6666666666666666,
              "#ed7953"
             ],
             [
              0.7777777777777778,
              "#fb9f3a"
             ],
             [
              0.8888888888888888,
              "#fdca26"
             ],
             [
              1,
              "#f0f921"
             ]
            ],
            "type": "heatmapgl"
           }
          ],
          "histogram": [
           {
            "marker": {
             "pattern": {
              "fillmode": "overlay",
              "size": 10,
              "solidity": 0.2
             }
            },
            "type": "histogram"
           }
          ],
          "histogram2d": [
           {
            "colorbar": {
             "outlinewidth": 0,
             "ticks": ""
            },
            "colorscale": [
             [
              0,
              "#0d0887"
             ],
             [
              0.1111111111111111,
              "#46039f"
             ],
             [
              0.2222222222222222,
              "#7201a8"
             ],
             [
              0.3333333333333333,
              "#9c179e"
             ],
             [
              0.4444444444444444,
              "#bd3786"
             ],
             [
              0.5555555555555556,
              "#d8576b"
             ],
             [
              0.6666666666666666,
              "#ed7953"
             ],
             [
              0.7777777777777778,
              "#fb9f3a"
             ],
             [
              0.8888888888888888,
              "#fdca26"
             ],
             [
              1,
              "#f0f921"
             ]
            ],
            "type": "histogram2d"
           }
          ],
          "histogram2dcontour": [
           {
            "colorbar": {
             "outlinewidth": 0,
             "ticks": ""
            },
            "colorscale": [
             [
              0,
              "#0d0887"
             ],
             [
              0.1111111111111111,
              "#46039f"
             ],
             [
              0.2222222222222222,
              "#7201a8"
             ],
             [
              0.3333333333333333,
              "#9c179e"
             ],
             [
              0.4444444444444444,
              "#bd3786"
             ],
             [
              0.5555555555555556,
              "#d8576b"
             ],
             [
              0.6666666666666666,
              "#ed7953"
             ],
             [
              0.7777777777777778,
              "#fb9f3a"
             ],
             [
              0.8888888888888888,
              "#fdca26"
             ],
             [
              1,
              "#f0f921"
             ]
            ],
            "type": "histogram2dcontour"
           }
          ],
          "mesh3d": [
           {
            "colorbar": {
             "outlinewidth": 0,
             "ticks": ""
            },
            "type": "mesh3d"
           }
          ],
          "parcoords": [
           {
            "line": {
             "colorbar": {
              "outlinewidth": 0,
              "ticks": ""
             }
            },
            "type": "parcoords"
           }
          ],
          "pie": [
           {
            "automargin": true,
            "type": "pie"
           }
          ],
          "scatter": [
           {
            "fillpattern": {
             "fillmode": "overlay",
             "size": 10,
             "solidity": 0.2
            },
            "type": "scatter"
           }
          ],
          "scatter3d": [
           {
            "line": {
             "colorbar": {
              "outlinewidth": 0,
              "ticks": ""
             }
            },
            "marker": {
             "colorbar": {
              "outlinewidth": 0,
              "ticks": ""
             }
            },
            "type": "scatter3d"
           }
          ],
          "scattercarpet": [
           {
            "marker": {
             "colorbar": {
              "outlinewidth": 0,
              "ticks": ""
             }
            },
            "type": "scattercarpet"
           }
          ],
          "scattergeo": [
           {
            "marker": {
             "colorbar": {
              "outlinewidth": 0,
              "ticks": ""
             }
            },
            "type": "scattergeo"
           }
          ],
          "scattergl": [
           {
            "marker": {
             "colorbar": {
              "outlinewidth": 0,
              "ticks": ""
             }
            },
            "type": "scattergl"
           }
          ],
          "scattermapbox": [
           {
            "marker": {
             "colorbar": {
              "outlinewidth": 0,
              "ticks": ""
             }
            },
            "type": "scattermapbox"
           }
          ],
          "scatterpolar": [
           {
            "marker": {
             "colorbar": {
              "outlinewidth": 0,
              "ticks": ""
             }
            },
            "type": "scatterpolar"
           }
          ],
          "scatterpolargl": [
           {
            "marker": {
             "colorbar": {
              "outlinewidth": 0,
              "ticks": ""
             }
            },
            "type": "scatterpolargl"
           }
          ],
          "scatterternary": [
           {
            "marker": {
             "colorbar": {
              "outlinewidth": 0,
              "ticks": ""
             }
            },
            "type": "scatterternary"
           }
          ],
          "surface": [
           {
            "colorbar": {
             "outlinewidth": 0,
             "ticks": ""
            },
            "colorscale": [
             [
              0,
              "#0d0887"
             ],
             [
              0.1111111111111111,
              "#46039f"
             ],
             [
              0.2222222222222222,
              "#7201a8"
             ],
             [
              0.3333333333333333,
              "#9c179e"
             ],
             [
              0.4444444444444444,
              "#bd3786"
             ],
             [
              0.5555555555555556,
              "#d8576b"
             ],
             [
              0.6666666666666666,
              "#ed7953"
             ],
             [
              0.7777777777777778,
              "#fb9f3a"
             ],
             [
              0.8888888888888888,
              "#fdca26"
             ],
             [
              1,
              "#f0f921"
             ]
            ],
            "type": "surface"
           }
          ],
          "table": [
           {
            "cells": {
             "fill": {
              "color": "#EBF0F8"
             },
             "line": {
              "color": "white"
             }
            },
            "header": {
             "fill": {
              "color": "#C8D4E3"
             },
             "line": {
              "color": "white"
             }
            },
            "type": "table"
           }
          ]
         },
         "layout": {
          "annotationdefaults": {
           "arrowcolor": "#2a3f5f",
           "arrowhead": 0,
           "arrowwidth": 1
          },
          "autotypenumbers": "strict",
          "coloraxis": {
           "colorbar": {
            "outlinewidth": 0,
            "ticks": ""
           }
          },
          "colorscale": {
           "diverging": [
            [
             0,
             "#8e0152"
            ],
            [
             0.1,
             "#c51b7d"
            ],
            [
             0.2,
             "#de77ae"
            ],
            [
             0.3,
             "#f1b6da"
            ],
            [
             0.4,
             "#fde0ef"
            ],
            [
             0.5,
             "#f7f7f7"
            ],
            [
             0.6,
             "#e6f5d0"
            ],
            [
             0.7,
             "#b8e186"
            ],
            [
             0.8,
             "#7fbc41"
            ],
            [
             0.9,
             "#4d9221"
            ],
            [
             1,
             "#276419"
            ]
           ],
           "sequential": [
            [
             0,
             "#0d0887"
            ],
            [
             0.1111111111111111,
             "#46039f"
            ],
            [
             0.2222222222222222,
             "#7201a8"
            ],
            [
             0.3333333333333333,
             "#9c179e"
            ],
            [
             0.4444444444444444,
             "#bd3786"
            ],
            [
             0.5555555555555556,
             "#d8576b"
            ],
            [
             0.6666666666666666,
             "#ed7953"
            ],
            [
             0.7777777777777778,
             "#fb9f3a"
            ],
            [
             0.8888888888888888,
             "#fdca26"
            ],
            [
             1,
             "#f0f921"
            ]
           ],
           "sequentialminus": [
            [
             0,
             "#0d0887"
            ],
            [
             0.1111111111111111,
             "#46039f"
            ],
            [
             0.2222222222222222,
             "#7201a8"
            ],
            [
             0.3333333333333333,
             "#9c179e"
            ],
            [
             0.4444444444444444,
             "#bd3786"
            ],
            [
             0.5555555555555556,
             "#d8576b"
            ],
            [
             0.6666666666666666,
             "#ed7953"
            ],
            [
             0.7777777777777778,
             "#fb9f3a"
            ],
            [
             0.8888888888888888,
             "#fdca26"
            ],
            [
             1,
             "#f0f921"
            ]
           ]
          },
          "colorway": [
           "#636efa",
           "#EF553B",
           "#00cc96",
           "#ab63fa",
           "#FFA15A",
           "#19d3f3",
           "#FF6692",
           "#B6E880",
           "#FF97FF",
           "#FECB52"
          ],
          "font": {
           "color": "#2a3f5f"
          },
          "geo": {
           "bgcolor": "white",
           "lakecolor": "white",
           "landcolor": "#E5ECF6",
           "showlakes": true,
           "showland": true,
           "subunitcolor": "white"
          },
          "hoverlabel": {
           "align": "left"
          },
          "hovermode": "closest",
          "mapbox": {
           "style": "light"
          },
          "paper_bgcolor": "white",
          "plot_bgcolor": "#E5ECF6",
          "polar": {
           "angularaxis": {
            "gridcolor": "white",
            "linecolor": "white",
            "ticks": ""
           },
           "bgcolor": "#E5ECF6",
           "radialaxis": {
            "gridcolor": "white",
            "linecolor": "white",
            "ticks": ""
           }
          },
          "scene": {
           "xaxis": {
            "backgroundcolor": "#E5ECF6",
            "gridcolor": "white",
            "gridwidth": 2,
            "linecolor": "white",
            "showbackground": true,
            "ticks": "",
            "zerolinecolor": "white"
           },
           "yaxis": {
            "backgroundcolor": "#E5ECF6",
            "gridcolor": "white",
            "gridwidth": 2,
            "linecolor": "white",
            "showbackground": true,
            "ticks": "",
            "zerolinecolor": "white"
           },
           "zaxis": {
            "backgroundcolor": "#E5ECF6",
            "gridcolor": "white",
            "gridwidth": 2,
            "linecolor": "white",
            "showbackground": true,
            "ticks": "",
            "zerolinecolor": "white"
           }
          },
          "shapedefaults": {
           "line": {
            "color": "#2a3f5f"
           }
          },
          "ternary": {
           "aaxis": {
            "gridcolor": "white",
            "linecolor": "white",
            "ticks": ""
           },
           "baxis": {
            "gridcolor": "white",
            "linecolor": "white",
            "ticks": ""
           },
           "bgcolor": "#E5ECF6",
           "caxis": {
            "gridcolor": "white",
            "linecolor": "white",
            "ticks": ""
           }
          },
          "title": {
           "x": 0.05
          },
          "xaxis": {
           "automargin": true,
           "gridcolor": "white",
           "linecolor": "white",
           "ticks": "",
           "title": {
            "standoff": 15
           },
           "zerolinecolor": "white",
           "zerolinewidth": 2
          },
          "yaxis": {
           "automargin": true,
           "gridcolor": "white",
           "linecolor": "white",
           "ticks": "",
           "title": {
            "standoff": 15
           },
           "zerolinecolor": "white",
           "zerolinewidth": 2
          }
         }
        },
        "title": {
         "text": "sht45_humidity"
        },
        "xaxis": {
         "anchor": "y",
         "domain": [
          0,
          1
         ],
         "title": {
          "text": "creation_timestamp"
         }
        },
        "yaxis": {
         "anchor": "x",
         "domain": [
          0,
          1
         ],
         "title": {
          "text": "sht45_humidity"
         }
        }
       }
      }
     },
     "metadata": {},
     "output_type": "display_data"
    }
   ],
   "source": [
    "plot_sensor_measurement(df_plot,sensor_id=sensor_id,col_name=\"sht45_humidity\",filter='10s')"
   ]
  }
 ],
 "metadata": {
  "kernelspec": {
   "display_name": ".venv",
   "language": "python",
   "name": "python3"
  },
  "language_info": {
   "codemirror_mode": {
    "name": "ipython",
    "version": 3
   },
   "file_extension": ".py",
   "mimetype": "text/x-python",
   "name": "python",
   "nbconvert_exporter": "python",
   "pygments_lexer": "ipython3",
   "version": "3.11.9"
  }
 },
 "nbformat": 4,
 "nbformat_minor": 2
}
