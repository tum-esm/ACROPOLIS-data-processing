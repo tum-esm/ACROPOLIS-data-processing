{
 "cells": [
  {
   "cell_type": "code",
   "execution_count": 1,
   "metadata": {},
   "outputs": [],
   "source": [
    "from datetime import datetime\n",
    "from datetime import timezone\n",
    "import polars as pl\n",
    "import os\n",
    "\n",
    "acropolis_path = \"/Users/patrickaigner/Documents/PROJECTS/ACROPOLIS/Database/Old\""
   ]
  },
  {
   "cell_type": "code",
   "execution_count": 2,
   "metadata": {},
   "outputs": [
    {
     "data": {
      "text/html": [
       "<div><style>\n",
       ".dataframe > thead > tr > th,\n",
       ".dataframe > tbody > tr > td {\n",
       "  text-align: right;\n",
       "}\n",
       "</style>\n",
       "<small>shape: (5, 27)</small><table border=\"1\" class=\"dataframe\"><thead><tr><th>integer</th><th>creation_timestamp</th><th>system_name</th><th>variant</th><th>gmp343_raw</th><th>gmp343_compensated</th><th>gmp343_filtered</th><th>sht45_humidity</th><th>bme280_humidity</th><th>bme280_pressure</th><th>sht45_temperature</th><th>bme280_temperature</th><th>gmp343_temperature</th><th>cal_bottle_id</th><th>wxt532_speed_avg</th><th>wxt532_speed_max</th><th>wxt532_speed_min</th><th>wxt532_direction_avg</th><th>wxt532_direction_max</th><th>wxt532_direction_min</th><th>wxt532_last_update_time</th><th>raspi_cpu_usage</th><th>raspi_disk_usage</th><th>raspi_cpu_temperature</th><th>enclosure_bme280_humidity</th><th>enclosure_bme280_pressure</th><th>enclosure_bme280_temperature</th></tr><tr><td>i64</td><td>datetime[μs, UTC]</td><td>str</td><td>str</td><td>f64</td><td>f64</td><td>f64</td><td>f64</td><td>f64</td><td>f64</td><td>f64</td><td>f64</td><td>f64</td><td>str</td><td>f64</td><td>f64</td><td>f64</td><td>f64</td><td>f64</td><td>f64</td><td>f64</td><td>f64</td><td>f64</td><td>f64</td><td>f64</td><td>f64</td><td>f64</td></tr></thead><tbody><tr><td>11166354</td><td>2023-09-21 11:59:55.650 UTC</td><td>&quot;tum-esm-midcos…</td><td>&quot;measurement&quot;</td><td>342.4</td><td>405.8</td><td>405.8</td><td>31.71</td><td>29.84</td><td>904.03</td><td>32.34</td><td>32.14</td><td>33.7</td><td>null</td><td>null</td><td>null</td><td>null</td><td>null</td><td>null</td><td>null</td><td>null</td><td>null</td><td>null</td><td>null</td><td>null</td><td>null</td><td>null</td></tr><tr><td>11166355</td><td>2023-09-21 11:59:56.220 UTC</td><td>&quot;tum-esm-midcos…</td><td>&quot;measurement&quot;</td><td>347.2</td><td>402.5</td><td>402.5</td><td>26.43</td><td>23.82</td><td>927.65</td><td>33.37</td><td>33.17</td><td>34.8</td><td>null</td><td>null</td><td>null</td><td>null</td><td>null</td><td>null</td><td>null</td><td>null</td><td>null</td><td>null</td><td>null</td><td>null</td><td>null</td><td>null</td></tr><tr><td>11166356</td><td>2023-09-21 11:59:56.750 UTC</td><td>&quot;tum-esm-midcos…</td><td>&quot;measurement&quot;</td><td>370.0</td><td>426.6</td><td>426.6</td><td>29.62</td><td>28.44</td><td>923.37</td><td>30.79</td><td>30.65</td><td>32.0</td><td>null</td><td>null</td><td>null</td><td>null</td><td>null</td><td>null</td><td>null</td><td>null</td><td>null</td><td>null</td><td>null</td><td>null</td><td>null</td><td>null</td></tr><tr><td>11166357</td><td>2023-09-21 11:59:57.310 UTC</td><td>&quot;tum-esm-midcos…</td><td>&quot;measurement&quot;</td><td>364.0</td><td>422.5</td><td>422.5</td><td>29.22</td><td>25.44</td><td>922.38</td><td>30.73</td><td>30.3</td><td>31.3</td><td>null</td><td>null</td><td>null</td><td>null</td><td>null</td><td>null</td><td>null</td><td>null</td><td>null</td><td>null</td><td>null</td><td>null</td><td>null</td><td>null</td></tr><tr><td>11166358</td><td>2023-09-21 11:59:57.400 UTC</td><td>&quot;tum-esm-midcos…</td><td>&quot;measurement&quot;</td><td>373.7</td><td>433.9</td><td>433.9</td><td>27.63</td><td>24.4</td><td>923.61</td><td>32.11</td><td>31.81</td><td>33.3</td><td>null</td><td>null</td><td>null</td><td>null</td><td>null</td><td>null</td><td>null</td><td>null</td><td>null</td><td>null</td><td>null</td><td>null</td><td>null</td><td>null</td></tr></tbody></table></div>"
      ],
      "text/plain": [
       "shape: (5, 27)\n",
       "┌──────────┬───────────┬───────────┬───────────┬───┬───────────┬───────────┬───────────┬───────────┐\n",
       "│ integer  ┆ creation_ ┆ system_na ┆ variant   ┆ … ┆ raspi_cpu ┆ enclosure ┆ enclosure ┆ enclosure │\n",
       "│ ---      ┆ timestamp ┆ me        ┆ ---       ┆   ┆ _temperat ┆ _bme280_h ┆ _bme280_p ┆ _bme280_t │\n",
       "│ i64      ┆ ---       ┆ ---       ┆ str       ┆   ┆ ure       ┆ umidity   ┆ ressure   ┆ emperatur │\n",
       "│          ┆ datetime[ ┆ str       ┆           ┆   ┆ ---       ┆ ---       ┆ ---       ┆ e         │\n",
       "│          ┆ μs, UTC]  ┆           ┆           ┆   ┆ f64       ┆ f64       ┆ f64       ┆ ---       │\n",
       "│          ┆           ┆           ┆           ┆   ┆           ┆           ┆           ┆ f64       │\n",
       "╞══════════╪═══════════╪═══════════╪═══════════╪═══╪═══════════╪═══════════╪═══════════╪═══════════╡\n",
       "│ 11166354 ┆ 2023-09-2 ┆ tum-esm-m ┆ measureme ┆ … ┆ null      ┆ null      ┆ null      ┆ null      │\n",
       "│          ┆ 1 11:59:5 ┆ idcost-ra ┆ nt        ┆   ┆           ┆           ┆           ┆           │\n",
       "│          ┆ 5.650 UTC ┆ spi-18    ┆           ┆   ┆           ┆           ┆           ┆           │\n",
       "│ 11166355 ┆ 2023-09-2 ┆ tum-esm-m ┆ measureme ┆ … ┆ null      ┆ null      ┆ null      ┆ null      │\n",
       "│          ┆ 1 11:59:5 ┆ idcost-ra ┆ nt        ┆   ┆           ┆           ┆           ┆           │\n",
       "│          ┆ 6.220 UTC ┆ spi-6     ┆           ┆   ┆           ┆           ┆           ┆           │\n",
       "│ 11166356 ┆ 2023-09-2 ┆ tum-esm-m ┆ measureme ┆ … ┆ null      ┆ null      ┆ null      ┆ null      │\n",
       "│          ┆ 1 11:59:5 ┆ idcost-ra ┆ nt        ┆   ┆           ┆           ┆           ┆           │\n",
       "│          ┆ 6.750 UTC ┆ spi-11    ┆           ┆   ┆           ┆           ┆           ┆           │\n",
       "│ 11166357 ┆ 2023-09-2 ┆ tum-esm-m ┆ measureme ┆ … ┆ null      ┆ null      ┆ null      ┆ null      │\n",
       "│          ┆ 1 11:59:5 ┆ idcost-ra ┆ nt        ┆   ┆           ┆           ┆           ┆           │\n",
       "│          ┆ 7.310 UTC ┆ spi-4     ┆           ┆   ┆           ┆           ┆           ┆           │\n",
       "│ 11166358 ┆ 2023-09-2 ┆ tum-esm-m ┆ measureme ┆ … ┆ null      ┆ null      ┆ null      ┆ null      │\n",
       "│          ┆ 1 11:59:5 ┆ idcost-ra ┆ nt        ┆   ┆           ┆           ┆           ┆           │\n",
       "│          ┆ 7.400 UTC ┆ spi-8     ┆           ┆   ┆           ┆           ┆           ┆           │\n",
       "└──────────┴───────────┴───────────┴───────────┴───┴───────────┴───────────┴───────────┴───────────┘"
      ]
     },
     "execution_count": 2,
     "metadata": {},
     "output_type": "execute_result"
    }
   ],
   "source": [
    "df = pl.scan_parquet(os.path.join(acropolis_path, \"old_db_measurements.parquet\"))\n",
    "\n",
    "df = df.rename({\"date\": \"creation_timestamp\",\n",
    "                \"gas_bottle_id\": \"cal_bottle_id\",\n",
    "                \"system name\": \"system_name\",\n",
    "                \"CO2_raw\": \"gmp343_raw\",\n",
    "                \"CO2_compensated\": \"gmp343_compensated\",\n",
    "                \"CO2_filtered\": \"gmp343_filtered\",\n",
    "                \"chamber_temperature\": \"gmp343_temperature\",\n",
    "                \"speed_avg\": \"wxt532_speed_avg\",\n",
    "                \"speed_min\": \"wxt532_speed_min\",\n",
    "                \"speed_max\": \"wxt532_speed_max\",\n",
    "                \"direction_avg\": \"wxt532_direction_avg\",\n",
    "                \"direction_min\": \"wxt532_direction_min\",\n",
    "                \"direction_max\": \"wxt532_direction_max\",\n",
    "                \"last_update_time\": \"wxt532_last_update_time\",\n",
    "                \"cpu_usage\": \"raspi_cpu_usage\",\n",
    "                \"cpu_temperature\": \"raspi_cpu_temperature\",\n",
    "                \"disk_usage\": \"raspi_disk_usage\",\n",
    "                \"enclosure_humidity\": \"enclosure_bme280_humidity\",\n",
    "                \"enclosure_pressure\": \"enclosure_bme280_pressure\",\n",
    "                \"mainboard_temperature\": \"enclosure_bme280_temperature\",})\n",
    "\n",
    "df.tail().collect()"
   ]
  },
  {
   "cell_type": "code",
   "execution_count": 3,
   "metadata": {},
   "outputs": [
    {
     "data": {
      "text/html": [
       "<div><style>\n",
       ".dataframe > thead > tr > th,\n",
       ".dataframe > tbody > tr > td {\n",
       "  text-align: right;\n",
       "}\n",
       "</style>\n",
       "<small>shape: (5, 35)</small><table border=\"1\" class=\"dataframe\"><thead><tr><th>creation_timestamp</th><th>system_name</th><th>variant</th><th>gmp343_raw</th><th>gmp343_compensated</th><th>gmp343_filtered</th><th>sht45_humidity</th><th>bme280_humidity</th><th>bme280_pressure</th><th>sht45_temperature</th><th>bme280_temperature</th><th>gmp343_temperature</th><th>cal_bottle_id</th><th>wxt532_speed_avg</th><th>wxt532_speed_max</th><th>wxt532_speed_min</th><th>wxt532_direction_avg</th><th>wxt532_direction_max</th><th>wxt532_direction_min</th><th>wxt532_last_update_time</th><th>raspi_cpu_usage</th><th>raspi_disk_usage</th><th>raspi_cpu_temperature</th><th>enclosure_bme280_humidity</th><th>enclosure_bme280_pressure</th><th>enclosure_bme280_temperature</th><th>cal_gmp343_raw</th><th>cal_gmp343_compensated</th><th>cal_gmp343_filtered</th><th>cal_gmp343_temperature</th><th>cal_bme280_temperature</th><th>cal_bme280_humidity</th><th>cal_bme280_pressure</th><th>cal_sht45_temperature</th><th>cal_sht45_humidity</th></tr><tr><td>datetime[μs, UTC]</td><td>str</td><td>str</td><td>f64</td><td>f64</td><td>f64</td><td>f64</td><td>f64</td><td>f64</td><td>f64</td><td>f64</td><td>f64</td><td>f64</td><td>f64</td><td>f64</td><td>f64</td><td>f64</td><td>f64</td><td>f64</td><td>f64</td><td>f64</td><td>f64</td><td>f64</td><td>f64</td><td>f64</td><td>f64</td><td>f64</td><td>f64</td><td>f64</td><td>f64</td><td>f64</td><td>f64</td><td>f64</td><td>f64</td><td>f64</td></tr></thead><tbody><tr><td>2023-06-26 14:01:38.950 UTC</td><td>&quot;tum-esm-midcos…</td><td>&quot;calibration&quot;</td><td>null</td><td>null</td><td>null</td><td>null</td><td>null</td><td>null</td><td>null</td><td>null</td><td>null</td><td>991.0</td><td>null</td><td>null</td><td>null</td><td>null</td><td>null</td><td>null</td><td>null</td><td>null</td><td>null</td><td>null</td><td>null</td><td>null</td><td>null</td><td>0.0</td><td>0.0</td><td>0.0</td><td>28.8</td><td>27.74</td><td>34.66</td><td>956.66</td><td>27.9</td><td>34.29</td></tr><tr><td>2023-06-26 14:01:48.960 UTC</td><td>&quot;tum-esm-midcos…</td><td>&quot;calibration&quot;</td><td>null</td><td>null</td><td>null</td><td>null</td><td>null</td><td>null</td><td>null</td><td>null</td><td>null</td><td>991.0</td><td>null</td><td>null</td><td>null</td><td>null</td><td>null</td><td>null</td><td>null</td><td>null</td><td>null</td><td>null</td><td>null</td><td>null</td><td>null</td><td>458.8</td><td>501.1</td><td>501.1</td><td>28.8</td><td>27.75</td><td>34.83</td><td>956.4</td><td>27.88</td><td>34.41</td></tr><tr><td>2023-06-26 14:01:58.980 UTC</td><td>&quot;tum-esm-midcos…</td><td>&quot;calibration&quot;</td><td>null</td><td>null</td><td>null</td><td>null</td><td>null</td><td>null</td><td>null</td><td>null</td><td>null</td><td>991.0</td><td>null</td><td>null</td><td>null</td><td>null</td><td>null</td><td>null</td><td>null</td><td>null</td><td>null</td><td>null</td><td>null</td><td>null</td><td>null</td><td>459.6</td><td>502.3</td><td>502.3</td><td>28.8</td><td>27.76</td><td>34.9</td><td>957.19</td><td>27.9</td><td>34.47</td></tr><tr><td>2023-06-26 14:02:08.980 UTC</td><td>&quot;tum-esm-midcos…</td><td>&quot;calibration&quot;</td><td>null</td><td>null</td><td>null</td><td>null</td><td>null</td><td>null</td><td>null</td><td>null</td><td>null</td><td>991.0</td><td>null</td><td>null</td><td>null</td><td>null</td><td>null</td><td>null</td><td>null</td><td>null</td><td>null</td><td>null</td><td>null</td><td>null</td><td>null</td><td>455.3</td><td>496.9</td><td>496.9</td><td>28.8</td><td>27.75</td><td>34.84</td><td>956.62</td><td>27.9</td><td>34.43</td></tr><tr><td>2023-06-26 14:02:18.990 UTC</td><td>&quot;tum-esm-midcos…</td><td>&quot;calibration&quot;</td><td>null</td><td>null</td><td>null</td><td>null</td><td>null</td><td>null</td><td>null</td><td>null</td><td>null</td><td>991.0</td><td>null</td><td>null</td><td>null</td><td>null</td><td>null</td><td>null</td><td>null</td><td>null</td><td>null</td><td>null</td><td>null</td><td>null</td><td>null</td><td>455.4</td><td>497.6</td><td>497.6</td><td>28.9</td><td>27.75</td><td>34.84</td><td>956.11</td><td>27.9</td><td>34.42</td></tr></tbody></table></div>"
      ],
      "text/plain": [
       "shape: (5, 35)\n",
       "┌───────────┬───────────┬───────────┬───────────┬───┬───────────┬───────────┬───────────┬──────────┐\n",
       "│ creation_ ┆ system_na ┆ variant   ┆ gmp343_ra ┆ … ┆ cal_bme28 ┆ cal_bme28 ┆ cal_sht45 ┆ cal_sht4 │\n",
       "│ timestamp ┆ me        ┆ ---       ┆ w         ┆   ┆ 0_humidit ┆ 0_pressur ┆ _temperat ┆ 5_humidi │\n",
       "│ ---       ┆ ---       ┆ str       ┆ ---       ┆   ┆ y         ┆ e         ┆ ure       ┆ ty       │\n",
       "│ datetime[ ┆ str       ┆           ┆ f64       ┆   ┆ ---       ┆ ---       ┆ ---       ┆ ---      │\n",
       "│ μs, UTC]  ┆           ┆           ┆           ┆   ┆ f64       ┆ f64       ┆ f64       ┆ f64      │\n",
       "╞═══════════╪═══════════╪═══════════╪═══════════╪═══╪═══════════╪═══════════╪═══════════╪══════════╡\n",
       "│ 2023-06-2 ┆ tum-esm-m ┆ calibrati ┆ null      ┆ … ┆ 34.66     ┆ 956.66    ┆ 27.9      ┆ 34.29    │\n",
       "│ 6 14:01:3 ┆ idcost-ra ┆ on        ┆           ┆   ┆           ┆           ┆           ┆          │\n",
       "│ 8.950 UTC ┆ spi-7     ┆           ┆           ┆   ┆           ┆           ┆           ┆          │\n",
       "│ 2023-06-2 ┆ tum-esm-m ┆ calibrati ┆ null      ┆ … ┆ 34.83     ┆ 956.4     ┆ 27.88     ┆ 34.41    │\n",
       "│ 6 14:01:4 ┆ idcost-ra ┆ on        ┆           ┆   ┆           ┆           ┆           ┆          │\n",
       "│ 8.960 UTC ┆ spi-7     ┆           ┆           ┆   ┆           ┆           ┆           ┆          │\n",
       "│ 2023-06-2 ┆ tum-esm-m ┆ calibrati ┆ null      ┆ … ┆ 34.9      ┆ 957.19    ┆ 27.9      ┆ 34.47    │\n",
       "│ 6 14:01:5 ┆ idcost-ra ┆ on        ┆           ┆   ┆           ┆           ┆           ┆          │\n",
       "│ 8.980 UTC ┆ spi-7     ┆           ┆           ┆   ┆           ┆           ┆           ┆          │\n",
       "│ 2023-06-2 ┆ tum-esm-m ┆ calibrati ┆ null      ┆ … ┆ 34.84     ┆ 956.62    ┆ 27.9      ┆ 34.43    │\n",
       "│ 6 14:02:0 ┆ idcost-ra ┆ on        ┆           ┆   ┆           ┆           ┆           ┆          │\n",
       "│ 8.980 UTC ┆ spi-7     ┆           ┆           ┆   ┆           ┆           ┆           ┆          │\n",
       "│ 2023-06-2 ┆ tum-esm-m ┆ calibrati ┆ null      ┆ … ┆ 34.84     ┆ 956.11    ┆ 27.9      ┆ 34.42    │\n",
       "│ 6 14:02:1 ┆ idcost-ra ┆ on        ┆           ┆   ┆           ┆           ┆           ┆          │\n",
       "│ 8.990 UTC ┆ spi-7     ┆           ┆           ┆   ┆           ┆           ┆           ┆          │\n",
       "└───────────┴───────────┴───────────┴───────────┴───┴───────────┴───────────┴───────────┴──────────┘"
      ]
     },
     "execution_count": 3,
     "metadata": {},
     "output_type": "execute_result"
    }
   ],
   "source": [
    "# select calibration data and create new colomn with cal_*\n",
    "\n",
    "df = df.with_columns(pl.when(pl.col(\"variant\")== \"calibration\").then(pl.col(\"gmp343_raw\")).otherwise(None).alias(\"cal_gmp343_raw\"))\n",
    "\n",
    "df = df.with_columns(pl.when(pl.col(\"variant\")== \"calibration\").then(pl.col(\"gmp343_compensated\")).otherwise(None).alias(\"cal_gmp343_compensated\"))\n",
    "\n",
    "df = df.with_columns(pl.when(pl.col(\"variant\")== \"calibration\").then(pl.col(\"gmp343_filtered\")).otherwise(None).alias(\"cal_gmp343_filtered\"))\n",
    "\n",
    "df = df.with_columns(pl.when(pl.col(\"variant\")== \"calibration\").then(pl.col(\"gmp343_temperature\")).otherwise(None).alias(\"cal_gmp343_temperature\"))\n",
    "\n",
    "df = df.with_columns(pl.when(pl.col(\"variant\")== \"calibration\").then(pl.col(\"bme280_temperature\")).otherwise(None).alias(\"cal_bme280_temperature\"))\n",
    "\n",
    "df = df.with_columns(pl.when(pl.col(\"variant\")== \"calibration\").then(pl.col(\"bme280_humidity\")).otherwise(None).alias(\"cal_bme280_humidity\"))\n",
    "\n",
    "df = df.with_columns(pl.when(pl.col(\"variant\")== \"calibration\").then(pl.col(\"bme280_pressure\")).otherwise(None).alias(\"cal_bme280_pressure\"))\n",
    "\n",
    "df = df.with_columns(pl.when(pl.col(\"variant\")== \"calibration\").then(pl.col(\"sht45_temperature\")).otherwise(None).alias(\"cal_sht45_temperature\"))\n",
    "\n",
    "df = df.with_columns(pl.when(pl.col(\"variant\")== \"calibration\").then(pl.col(\"sht45_humidity\")).otherwise(None).alias(\"cal_sht45_humidity\"))\n",
    "\n",
    "\n",
    "#delete calibration readings from columns gmp343_*\n",
    "\n",
    "df = df.with_columns(pl.when(pl.col(\"variant\")== \"measurement\").then(pl.col(\"gmp343_raw\")).otherwise(None))\n",
    "\n",
    "df = df.with_columns(pl.when(pl.col(\"variant\")== \"measurement\").then(pl.col(\"gmp343_compensated\")).otherwise(None))\n",
    "\n",
    "df = df.with_columns(pl.when(pl.col(\"variant\")== \"measurement\").then(pl.col(\"gmp343_filtered\")).otherwise(None))\n",
    "\n",
    "df = df.with_columns(pl.when(pl.col(\"variant\")== \"measurement\").then(pl.col(\"gmp343_temperature\")).otherwise(None))\n",
    "\n",
    "df = df.with_columns(pl.when(pl.col(\"variant\")== \"measurement\").then(pl.col(\"bme280_temperature\")).otherwise(None))\n",
    "\n",
    "df = df.with_columns(pl.when(pl.col(\"variant\")== \"measurement\").then(pl.col(\"bme280_humidity\")).otherwise(None))\n",
    "\n",
    "df = df.with_columns(pl.when(pl.col(\"variant\")== \"measurement\").then(pl.col(\"bme280_pressure\")).otherwise(None))\n",
    "\n",
    "df = df.with_columns(pl.when(pl.col(\"variant\")== \"measurement\").then(pl.col(\"sht45_temperature\")).otherwise(None))\n",
    "\n",
    "df = df.with_columns(pl.when(pl.col(\"variant\")== \"measurement\").then(pl.col(\"sht45_humidity\")).otherwise(None))\n",
    "\n",
    "df = df.with_columns(pl.col(\"cal_bottle_id\").cast(pl.Float64))\n",
    "\n",
    "df = df.select(pl.exclude(\"integer\"))\n",
    "\n",
    "df.filter(pl.col(\"variant\") == \"calibration\").head().collect()"
   ]
  },
  {
   "cell_type": "code",
   "execution_count": 29,
   "metadata": {},
   "outputs": [],
   "source": [
    "#df.sink_parquet(os.path.join(acropolis_path, \"old_db_renamed_measurements.parquet\"))\n",
    "local_path = '/Users/patrickaigner/Documents/PROJECTS/ACROPOLIS/Software/acropolis-visualisation/data'\n",
    "\n",
    "df.sink_parquet(os.path.join(local_path, \"old_db_renamed_measurements.parquet\"))\n"
   ]
  }
 ],
 "metadata": {
  "kernelspec": {
   "display_name": ".venv",
   "language": "python",
   "name": "python3"
  },
  "language_info": {
   "codemirror_mode": {
    "name": "ipython",
    "version": 3
   },
   "file_extension": ".py",
   "mimetype": "text/x-python",
   "name": "python",
   "nbconvert_exporter": "python",
   "pygments_lexer": "ipython3",
   "version": "3.11.6"
  },
  "orig_nbformat": 4
 },
 "nbformat": 4,
 "nbformat_minor": 2
}
